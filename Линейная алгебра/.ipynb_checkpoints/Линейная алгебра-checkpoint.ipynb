{
 "cells": [
  {
   "cell_type": "markdown",
   "metadata": {
    "toc": true
   },
   "source": [
    "<h1>Содержание<span class=\"tocSkip\"></span></h1>\n",
    "<div class=\"toc\"><ul class=\"toc-item\"><li><span><a href=\"#Загрузка-данных\" data-toc-modified-id=\"Загрузка-данных-1\"><span class=\"toc-item-num\">1&nbsp;&nbsp;</span>Загрузка данных</a></span></li><li><span><a href=\"#Умножение-матриц\" data-toc-modified-id=\"Умножение-матриц-2\"><span class=\"toc-item-num\">2&nbsp;&nbsp;</span>Умножение матриц</a></span></li><li><span><a href=\"#Алгоритм-преобразования\" data-toc-modified-id=\"Алгоритм-преобразования-3\"><span class=\"toc-item-num\">3&nbsp;&nbsp;</span>Алгоритм преобразования</a></span></li><li><span><a href=\"#Проверка-алгоритма\" data-toc-modified-id=\"Проверка-алгоритма-4\"><span class=\"toc-item-num\">4&nbsp;&nbsp;</span>Проверка алгоритма</a></span></li><li><span><a href=\"#Вывод\" data-toc-modified-id=\"Вывод-5\"><span class=\"toc-item-num\">5&nbsp;&nbsp;</span>Вывод</a></span></li><li><span><a href=\"#Чек-лист-проверки\" data-toc-modified-id=\"Чек-лист-проверки-6\"><span class=\"toc-item-num\">6&nbsp;&nbsp;</span>Чек-лист проверки</a></span></li></ul></div>"
   ]
  },
  {
   "cell_type": "markdown",
   "metadata": {},
   "source": [
    "# Защита персональных данных клиентов"
   ]
  },
  {
   "cell_type": "markdown",
   "metadata": {},
   "source": [
    "Вам нужно защитить данные клиентов страховой компании «Хоть потоп». Разработайте такой метод преобразования данных, чтобы по ним было сложно восстановить персональную информацию. Обоснуйте корректность его работы.\n",
    "\n",
    "Нужно защитить данные, чтобы при преобразовании качество моделей машинного обучения не ухудшилось. Подбирать наилучшую модель не требуется."
   ]
  },
  {
   "cell_type": "markdown",
   "metadata": {},
   "source": [
    "## Загрузка данных"
   ]
  },
  {
   "cell_type": "markdown",
   "metadata": {},
   "source": [
    "Загружаем необходимые **библиотеки.**"
   ]
  },
  {
   "cell_type": "code",
   "execution_count": 1,
   "metadata": {},
   "outputs": [],
   "source": [
    "import pandas as pd \n",
    "import numpy as np\n",
    "import matplotlib.pyplot as plt\n",
    "\n",
    "from sklearn.linear_model import LinearRegression\n",
    "from sklearn.metrics import r2_score\n",
    "from sklearn.model_selection import train_test_split"
   ]
  },
  {
   "cell_type": "markdown",
   "metadata": {},
   "source": [
    "**Записываем** в переменную **данные.**"
   ]
  },
  {
   "cell_type": "code",
   "execution_count": 2,
   "metadata": {},
   "outputs": [],
   "source": [
    "try:\n",
    "    data = pd.read_csv('C:/Users/JERR/Desktop/Проекты/Линейная алгебра/insurance.csv')\n",
    "except:\n",
    "    try:\n",
    "        data = pd.read_csv('C:/Users/User/Desktop/Проекты/Линейная алгебра/insurance.csv')\n",
    "    except:\n",
    "        data = pd.read_csv('/datasets/insurance.csv')"
   ]
  },
  {
   "cell_type": "markdown",
   "metadata": {},
   "source": [
    "**Отобразим общую информацию** по датафрейму."
   ]
  },
  {
   "cell_type": "code",
   "execution_count": 3,
   "metadata": {},
   "outputs": [
    {
     "name": "stdout",
     "output_type": "stream",
     "text": [
      "<class 'pandas.core.frame.DataFrame'>\n",
      "RangeIndex: 5000 entries, 0 to 4999\n",
      "Data columns (total 5 columns):\n",
      " #   Column             Non-Null Count  Dtype  \n",
      "---  ------             --------------  -----  \n",
      " 0   Пол                5000 non-null   int64  \n",
      " 1   Возраст            5000 non-null   float64\n",
      " 2   Зарплата           5000 non-null   float64\n",
      " 3   Члены семьи        5000 non-null   int64  \n",
      " 4   Страховые выплаты  5000 non-null   int64  \n",
      "dtypes: float64(2), int64(3)\n",
      "memory usage: 195.4 KB\n"
     ]
    }
   ],
   "source": [
    "data.info();"
   ]
  },
  {
   "cell_type": "markdown",
   "metadata": {},
   "source": [
    "**Проверим данные.**"
   ]
  },
  {
   "cell_type": "markdown",
   "metadata": {},
   "source": [
    "*1. Столбец `Пол`.*"
   ]
  },
  {
   "cell_type": "code",
   "execution_count": 4,
   "metadata": {},
   "outputs": [
    {
     "data": {
      "text/plain": [
       "0    2505\n",
       "1    2495\n",
       "Name: Пол, dtype: int64"
      ]
     },
     "execution_count": 4,
     "metadata": {},
     "output_type": "execute_result"
    }
   ],
   "source": [
    "data['Пол'].value_counts()"
   ]
  },
  {
   "cell_type": "markdown",
   "metadata": {},
   "source": [
    "В столбце `Пол `два значения `0` и `1`, что соответствует действительности. В проекте не говорится о том, какому значению принадлежит `мужчина`, а какому `женщина`. Так же подметим, что количество мужчин и женщин примерно равно. Это хорошее событие для будущего исследования."
   ]
  },
  {
   "cell_type": "markdown",
   "metadata": {},
   "source": [
    "*2. Столбец `Возраст`.*"
   ]
  },
  {
   "cell_type": "code",
   "execution_count": 5,
   "metadata": {},
   "outputs": [
    {
     "data": {
      "text/plain": [
       "19.0    223\n",
       "25.0    214\n",
       "31.0    212\n",
       "Name: Возраст, dtype: int64"
      ]
     },
     "execution_count": 5,
     "metadata": {},
     "output_type": "execute_result"
    }
   ],
   "source": [
    "data['Возраст'].value_counts().head(3)"
   ]
  },
  {
   "cell_type": "markdown",
   "metadata": {},
   "source": [
    "Переведем данные **в целочисленный формат.**"
   ]
  },
  {
   "cell_type": "code",
   "execution_count": 6,
   "metadata": {},
   "outputs": [],
   "source": [
    "data['Возраст'] = data['Возраст'].astype('int')"
   ]
  },
  {
   "cell_type": "code",
   "execution_count": 7,
   "metadata": {},
   "outputs": [
    {
     "name": "stdout",
     "output_type": "stream",
     "text": [
      "Минимальный возраст: 19\n",
      "Максимальный возраст: 61\n"
     ]
    }
   ],
   "source": [
    "print('Минимальный возраст:', data['Возраст'].value_counts().idxmax())\n",
    "print('Максимальный возраст:', data['Возраст'].value_counts().idxmin())"
   ]
  },
  {
   "cell_type": "markdown",
   "metadata": {},
   "source": [
    "*3. Столбец `Зарплата`.*"
   ]
  },
  {
   "cell_type": "code",
   "execution_count": 8,
   "metadata": {},
   "outputs": [
    {
     "data": {
      "text/plain": [
       "45800.0    29\n",
       "37100.0    28\n",
       "41500.0    27\n",
       "Name: Зарплата, dtype: int64"
      ]
     },
     "execution_count": 8,
     "metadata": {},
     "output_type": "execute_result"
    }
   ],
   "source": [
    "data['Зарплата'].value_counts().head(3)"
   ]
  },
  {
   "cell_type": "code",
   "execution_count": 9,
   "metadata": {},
   "outputs": [],
   "source": [
    "data['Зарплата'] = data['Зарплата'].astype('int')"
   ]
  },
  {
   "cell_type": "code",
   "execution_count": 10,
   "metadata": {},
   "outputs": [
    {
     "name": "stdout",
     "output_type": "stream",
     "text": [
      "Минимальная зарплата: 7400\n",
      "Максимальная зарплата: 45800\n"
     ]
    }
   ],
   "source": [
    "print('Минимальная зарплата:', data['Зарплата'].value_counts().idxmin())\n",
    "print('Максимальная зарплата:', data['Зарплата'].value_counts().idxmax())"
   ]
  },
  {
   "cell_type": "markdown",
   "metadata": {},
   "source": [
    "*4. Столбец `Члены семьи`.*"
   ]
  },
  {
   "cell_type": "code",
   "execution_count": 11,
   "metadata": {},
   "outputs": [
    {
     "data": {
      "text/plain": [
       "1    1814\n",
       "0    1513\n",
       "2    1071\n",
       "3     439\n",
       "4     124\n",
       "5      32\n",
       "6       7\n",
       "Name: Члены семьи, dtype: int64"
      ]
     },
     "execution_count": 11,
     "metadata": {},
     "output_type": "execute_result"
    }
   ],
   "source": [
    "data['Члены семьи'].value_counts()"
   ]
  },
  {
   "cell_type": "markdown",
   "metadata": {},
   "source": [
    "*5. Столбец `Страховые выплаты`.*"
   ]
  },
  {
   "cell_type": "code",
   "execution_count": 12,
   "metadata": {},
   "outputs": [
    {
     "data": {
      "text/plain": [
       "0    4436\n",
       "1     423\n",
       "2     115\n",
       "3      18\n",
       "4       7\n",
       "5       1\n",
       "Name: Страховые выплаты, dtype: int64"
      ]
     },
     "execution_count": 12,
     "metadata": {},
     "output_type": "execute_result"
    }
   ],
   "source": [
    "data['Страховые выплаты'].value_counts()"
   ]
  },
  {
   "cell_type": "markdown",
   "metadata": {},
   "source": [
    "**Проверка на дубликаты.**"
   ]
  },
  {
   "cell_type": "code",
   "execution_count": 13,
   "metadata": {},
   "outputs": [
    {
     "name": "stdout",
     "output_type": "stream",
     "text": [
      "Количество дубликатов: 153\n",
      "Количество дубликатов в процентах: 3.06%\n"
     ]
    }
   ],
   "source": [
    "data_duplicated = data.duplicated().sum()\n",
    "print('Количество дубликатов:', data_duplicated)\n",
    "print('Количество дубликатов в процентах:', '{:.2f}%'.format(data_duplicated / data.shape[0] * 100))"
   ]
  },
  {
   "cell_type": "code",
   "execution_count": 14,
   "metadata": {},
   "outputs": [],
   "source": [
    "data = data.drop_duplicates()"
   ]
  },
  {
   "cell_type": "code",
   "execution_count": 15,
   "metadata": {},
   "outputs": [
    {
     "name": "stdout",
     "output_type": "stream",
     "text": [
      "Количество дубликатов: 0\n"
     ]
    }
   ],
   "source": [
    "print('Количество дубликатов:',data.duplicated().sum())"
   ]
  },
  {
   "cell_type": "code",
   "execution_count": 16,
   "metadata": {},
   "outputs": [
    {
     "name": "stdout",
     "output_type": "stream",
     "text": [
      "<class 'pandas.core.frame.DataFrame'>\n",
      "Int64Index: 4847 entries, 0 to 4999\n",
      "Data columns (total 5 columns):\n",
      " #   Column             Non-Null Count  Dtype\n",
      "---  ------             --------------  -----\n",
      " 0   Пол                4847 non-null   int64\n",
      " 1   Возраст            4847 non-null   int32\n",
      " 2   Зарплата           4847 non-null   int32\n",
      " 3   Члены семьи        4847 non-null   int64\n",
      " 4   Страховые выплаты  4847 non-null   int64\n",
      "dtypes: int32(2), int64(3)\n",
      "memory usage: 189.3 KB\n"
     ]
    }
   ],
   "source": [
    "data.info()"
   ]
  },
  {
   "cell_type": "code",
   "execution_count": 17,
   "metadata": {},
   "outputs": [
    {
     "name": "stdout",
     "output_type": "stream",
     "text": [
      "Размер выборки: (4847, 5)\n"
     ]
    }
   ],
   "source": [
    "print('Размер выборки:', data.shape)"
   ]
  },
  {
   "cell_type": "markdown",
   "metadata": {},
   "source": [
    "**Корреляция признаков.**"
   ]
  },
  {
   "cell_type": "markdown",
   "metadata": {},
   "source": [
    "В данном проекте используется модель `линейная регрессия`, поэтому стоит рассмотреть такой показатель как корреляция."
   ]
  },
  {
   "cell_type": "code",
   "execution_count": 18,
   "metadata": {},
   "outputs": [
    {
     "data": {
      "text/html": [
       "<div>\n",
       "<style scoped>\n",
       "    .dataframe tbody tr th:only-of-type {\n",
       "        vertical-align: middle;\n",
       "    }\n",
       "\n",
       "    .dataframe tbody tr th {\n",
       "        vertical-align: top;\n",
       "    }\n",
       "\n",
       "    .dataframe thead th {\n",
       "        text-align: right;\n",
       "    }\n",
       "</style>\n",
       "<table border=\"1\" class=\"dataframe\">\n",
       "  <thead>\n",
       "    <tr style=\"text-align: right;\">\n",
       "      <th></th>\n",
       "      <th>Пол</th>\n",
       "      <th>Возраст</th>\n",
       "      <th>Зарплата</th>\n",
       "      <th>Члены семьи</th>\n",
       "      <th>Страховые выплаты</th>\n",
       "    </tr>\n",
       "  </thead>\n",
       "  <tbody>\n",
       "    <tr>\n",
       "      <th>Пол</th>\n",
       "      <td>1.000000</td>\n",
       "      <td>0.001953</td>\n",
       "      <td>0.015456</td>\n",
       "      <td>-0.007315</td>\n",
       "      <td>0.011565</td>\n",
       "    </tr>\n",
       "    <tr>\n",
       "      <th>Возраст</th>\n",
       "      <td>0.001953</td>\n",
       "      <td>1.000000</td>\n",
       "      <td>-0.017386</td>\n",
       "      <td>-0.009064</td>\n",
       "      <td>0.654964</td>\n",
       "    </tr>\n",
       "    <tr>\n",
       "      <th>Зарплата</th>\n",
       "      <td>0.015456</td>\n",
       "      <td>-0.017386</td>\n",
       "      <td>1.000000</td>\n",
       "      <td>-0.031687</td>\n",
       "      <td>-0.013123</td>\n",
       "    </tr>\n",
       "    <tr>\n",
       "      <th>Члены семьи</th>\n",
       "      <td>-0.007315</td>\n",
       "      <td>-0.009064</td>\n",
       "      <td>-0.031687</td>\n",
       "      <td>1.000000</td>\n",
       "      <td>-0.039303</td>\n",
       "    </tr>\n",
       "    <tr>\n",
       "      <th>Страховые выплаты</th>\n",
       "      <td>0.011565</td>\n",
       "      <td>0.654964</td>\n",
       "      <td>-0.013123</td>\n",
       "      <td>-0.039303</td>\n",
       "      <td>1.000000</td>\n",
       "    </tr>\n",
       "  </tbody>\n",
       "</table>\n",
       "</div>"
      ],
      "text/plain": [
       "                        Пол   Возраст  Зарплата  Члены семьи  \\\n",
       "Пол                1.000000  0.001953  0.015456    -0.007315   \n",
       "Возраст            0.001953  1.000000 -0.017386    -0.009064   \n",
       "Зарплата           0.015456 -0.017386  1.000000    -0.031687   \n",
       "Члены семьи       -0.007315 -0.009064 -0.031687     1.000000   \n",
       "Страховые выплаты  0.011565  0.654964 -0.013123    -0.039303   \n",
       "\n",
       "                   Страховые выплаты  \n",
       "Пол                         0.011565  \n",
       "Возраст                     0.654964  \n",
       "Зарплата                   -0.013123  \n",
       "Члены семьи                -0.039303  \n",
       "Страховые выплаты           1.000000  "
      ]
     },
     "execution_count": 18,
     "metadata": {},
     "output_type": "execute_result"
    },
    {
     "data": {
      "image/png": "[encoded data removed]",
      "text/plain": [
       "<Figure size 936x576 with 25 Axes>"
      ]
     },
     "metadata": {
      "needs_background": "light"
     },
     "output_type": "display_data"
    }
   ],
   "source": [
    "pd.plotting.scatter_matrix(data, figsize=(13, 8),  diagonal='kde');\n",
    "data.corr()"
   ]
  },
  {
   "cell_type": "markdown",
   "metadata": {},
   "source": [
    "***\n",
    "* `Пол-Возраст` - Ожидаемо низкая корреляция. Зато можно убедиться, что ,например, от `50-65 лет` в исследовании не только женщины.\n",
    "\n",
    "\n",
    "* `Пол-Зарплата` - Зарплата независит от пола.\n",
    "\n",
    "\n",
    "* `Пол-Члены семьи` - Не подлежит исследованию. Взаимосвязь отсутствует.\n",
    "\n",
    "\n",
    "* `Пол-Страховые выплаты` - Взаимосвязь отсутствует.\n",
    "\n",
    "\n",
    "***\n",
    "* `Возраст-Зарплата` - Взаимосвязь отсутствует. Но видно, что люди после 50 лет практически не работают.\n",
    "\n",
    "\n",
    "\n",
    "* `Возраст-Члены семьи` - Взаимосвязь отсутствует.\n",
    "\n",
    "\n",
    "\n",
    "* `Возраст-Страховые выплаты` - Есть взаимосвязь, положительная корреляция равная 0.65. Чем больше возраст, тем больше страховых выплат. На графике виден подъем после 45 лет.\n",
    "\n",
    "***\n",
    "* `Зарплата-Члены семьи` - Взаимосвязь отсутствует. Но заметно, чем больше семья, тем зарплата более усредненная.\n",
    "\n",
    "\n",
    "* `Зарплата-Страховые выплаты` - Взаимосвязь отсутствует.\n",
    "***\n",
    "* `Члены семьи-Страховые выплаты` - Взаимосвязь отсутствует. Чем больше страховых выплат, чем меньше членов семьи. "
   ]
  },
  {
   "cell_type": "markdown",
   "metadata": {},
   "source": [
    "Данные подготовлены. "
   ]
  },
  {
   "cell_type": "markdown",
   "metadata": {},
   "source": [
    "## Умножение матриц"
   ]
  },
  {
   "cell_type": "markdown",
   "metadata": {},
   "source": [
    "Обозначения:\n",
    "\n",
    "- $X$ — матрица признаков (нулевой столбец состоит из единиц)\n",
    "\n",
    "- $y$ — вектор целевого признака\n",
    "\n",
    "- $P$ — матрица, на которую умножаются признаки\n",
    "\n",
    "- $w$ — вектор весов линейной регрессии (нулевой элемент равен сдвигу)"
   ]
  },
  {
   "cell_type": "markdown",
   "metadata": {},
   "source": [
    "Предсказания:\n",
    "\n",
    "$$\n",
    "a = Xw\n",
    "$$\n",
    "\n",
    "Задача обучения:\n",
    "\n",
    "$$\n",
    "w = \\arg\\min_w MSE(Xw, y)\n",
    "$$\n",
    "\n",
    "Формула обучения:\n",
    "\n",
    "$$\n",
    "w = (X^T X)^{-1} X^T y\n",
    "$$"
   ]
  },
  {
   "cell_type": "markdown",
   "metadata": {},
   "source": [
    "* **Признаки:** пол, возраст и зарплата застрахованного, количество членов его семьи.\n",
    "* **Целевой признак:** количество страховых выплат клиенту за последние 5 лет."
   ]
  },
  {
   "cell_type": "markdown",
   "metadata": {},
   "source": [
    "**Задача.** \n",
    "\n",
    "Признаки умножают на обратимую матрицу. Изменится ли качество линейной регрессии?"
   ]
  },
  {
   "cell_type": "markdown",
   "metadata": {},
   "source": [
    "Необходимо установить тождество между `a` и `a'`, где \n",
    "\n",
    "$$a = X\\cdot w$$ \n",
    "    \n",
    "$$a' = X\\cdot P\\cdot w'$$"
   ]
  },
  {
   "cell_type": "markdown",
   "metadata": {},
   "source": [
    "Используя стандартные правила преобразования:\n",
    "    \n",
    "    \n",
    "$$(ABC)^{-1} = C^{-1}(AB)^{-1} = (BC)^{-1}A^{-1} = C^{-1}B^{-1}A^{-1},$$"
   ]
  },
  {
   "cell_type": "markdown",
   "metadata": {},
   "source": [
    "$$\n",
    "w′=((X \\cdot P)⋅(X \\cdot P)^T)^{-1}⋅(X \\cdot P)^T \\cdot y\n",
    "$$"
   ]
  },
  {
   "cell_type": "markdown",
   "metadata": {},
   "source": [
    "$$\n",
    "w′=((X^T \\cdot X)⋅(P^T \\cdot P))^{-1}⋅(X \\cdot P)^T \\cdot y\n",
    "$$\n",
    "\n",
    "$$\n",
    "w′=(X^T \\cdot X)^{-1} \\cdot (P^T \\cdot P)^{-1} \\cdot X^T \\cdot P^T \\cdot y\n",
    "$$\n",
    "\n",
    "$$\n",
    "w′= (P^T \\cdot P)^{-1}  \\cdot P^T \\cdot w\n",
    "$$\n",
    "\n",
    "$$\n",
    "w′= (P^T)^{-1} \\cdot P^{-1}  \\cdot P^T \\cdot w\n",
    "$$\n",
    "\n",
    "$$\n",
    "w′=  P^{-1} \\cdot w\n",
    "$$"
   ]
  },
  {
   "cell_type": "markdown",
   "metadata": {},
   "source": [
    "и подставив значение w' в \n",
    "    \n",
    "    \n",
    "$$a' = X\\cdot P\\cdot w'$$     \n",
    "    \n",
    "    \n",
    "    \n",
    "получаем что $$a =   a'$$ "
   ]
  },
  {
   "cell_type": "markdown",
   "metadata": {},
   "source": [
    "**От обратного.**"
   ]
  },
  {
   "cell_type": "markdown",
   "metadata": {},
   "source": [
    "Сразу представим что $$a =   a'$$ "
   ]
  },
  {
   "cell_type": "markdown",
   "metadata": {},
   "source": [
    "тогда $$X\\cdot w = X\\cdot P\\cdot w'$$\n",
    "\n",
    "$$ w = P\\cdot w'$$\n",
    "\n",
    "$$ w \\cdot P^{-1} = P\\cdot w' \\cdot P^{-1}$$\n",
    "\n",
    "единичную матрицу можно убрать, и тогда"
   ]
  },
  {
   "cell_type": "markdown",
   "metadata": {},
   "source": [
    "$$ w' = P^{-1}\\cdot w $$"
   ]
  },
  {
   "cell_type": "markdown",
   "metadata": {},
   "source": [
    "Что и согласуется с выше сказанным."
   ]
  },
  {
   "cell_type": "markdown",
   "metadata": {},
   "source": [
    "Качество линейной регресии не изменится."
   ]
  },
  {
   "cell_type": "markdown",
   "metadata": {},
   "source": [
    "## Алгоритм преобразования"
   ]
  },
  {
   "cell_type": "markdown",
   "metadata": {},
   "source": [
    "1. Создаем случайную матрицу размером (4, 4).\n",
    "\n",
    "\n",
    "2. Проверяем случайную матрицу на обратимость, взяв от неё обратную. Это возможно, потому что матрица квадратная.\n",
    "\n",
    "\n",
    "3. Находим `w` - вектор весов линейной регрессии.\n",
    "\n",
    "\n",
    "4. Находим предсказания `а` по формуле `a = Xw`, где Х - матрица признаков размером (4847, 4) \n",
    "\n",
    "\n",
    "4. Получаем `w_inv` добавив в формулу умножение на случайную квадратную матрицу `P`. Важно чтобы размер столбцов матрицы `X`, совпадал с размером строк `P`, иначе умножение матриц невозможно. \n",
    "\n",
    "\n",
    "5. Находим предсказания `а_inw` по формуле `a = X * P * w_inv`.\n",
    "\n",
    "\n",
    "6. Сравниваем предсказания `а` и `а_inw`."
   ]
  },
  {
   "cell_type": "markdown",
   "metadata": {},
   "source": [
    "## Проверка алгоритма"
   ]
  },
  {
   "cell_type": "markdown",
   "metadata": {},
   "source": [
    "**Отделим матрицу признаков от вектора целевого признака.**"
   ]
  },
  {
   "cell_type": "code",
   "execution_count": 19,
   "metadata": {},
   "outputs": [],
   "source": [
    "X = data.drop('Страховые выплаты', axis=1).values\n",
    "y = data['Страховые выплаты'].values"
   ]
  },
  {
   "cell_type": "code",
   "execution_count": 20,
   "metadata": {},
   "outputs": [
    {
     "name": "stdout",
     "output_type": "stream",
     "text": [
      "[[    1    41 49600     1]\n",
      " [    0    46 38000     1]\n",
      " [    0    29 21000     0]]\n"
     ]
    }
   ],
   "source": [
    "print(X[:3])"
   ]
  },
  {
   "cell_type": "markdown",
   "metadata": {},
   "source": [
    "**Генерируем случайную квадратную матрицу** по размеру равную количеству признаков."
   ]
  },
  {
   "cell_type": "code",
   "execution_count": 21,
   "metadata": {},
   "outputs": [],
   "source": [
    "Seed, P = np.random.seed(42), np.random.normal(size=(X.shape[1], X.shape[1]))"
   ]
  },
  {
   "cell_type": "code",
   "execution_count": 22,
   "metadata": {},
   "outputs": [
    {
     "name": "stdout",
     "output_type": "stream",
     "text": [
      "[[ 0.49671415 -0.1382643   0.64768854  1.52302986]\n",
      " [-0.23415337 -0.23413696  1.57921282  0.76743473]\n",
      " [-0.46947439  0.54256004 -0.46341769 -0.46572975]\n",
      " [ 0.24196227 -1.91328024 -1.72491783 -0.56228753]]\n",
      "\n",
      "Размер случайной матрицы (4, 4)\n"
     ]
    }
   ],
   "source": [
    "print(P)\n",
    "print()\n",
    "print('Размер случайной матрицы', P.shape)"
   ]
  },
  {
   "cell_type": "markdown",
   "metadata": {},
   "source": [
    "**Проверяем на обратимость**, попытавшись взять от нее обратную матрицу."
   ]
  },
  {
   "cell_type": "code",
   "execution_count": 23,
   "metadata": {},
   "outputs": [],
   "source": [
    "P_inv = np.linalg.inv(P)"
   ]
  },
  {
   "cell_type": "code",
   "execution_count": 24,
   "metadata": {},
   "outputs": [
    {
     "name": "stdout",
     "output_type": "stream",
     "text": [
      "[[-0.33124857 -1.0333483  -2.21070923 -0.47651024]\n",
      " [ 0.12864778 -0.47781825  0.15271687 -0.43017975]\n",
      " [-0.51338817  0.33588835 -0.8347692  -0.24072429]\n",
      " [ 0.99462192  0.15079316  1.08985145  0.21872535]]\n",
      "\n",
      "Размер обратной матрицы (4, 4)\n"
     ]
    }
   ],
   "source": [
    "print(P_inv)\n",
    "print()\n",
    "print('Размер обратной матрицы', P_inv.shape)"
   ]
  },
  {
   "cell_type": "markdown",
   "metadata": {},
   "source": [
    "**Применение формул к обратимой матрице.**"
   ]
  },
  {
   "cell_type": "markdown",
   "metadata": {},
   "source": [
    "Находим вектор `w` и матрицу `a`."
   ]
  },
  {
   "cell_type": "code",
   "execution_count": 25,
   "metadata": {},
   "outputs": [
    {
     "name": "stdout",
     "output_type": "stream",
     "text": [
      "[-4.39473445e-02  2.35998567e-02 -1.18490589e-05 -4.71380340e-02]\n"
     ]
    }
   ],
   "source": [
    "w = np.linalg.inv(X.T @ X) @ X.T @ y\n",
    "print(w)"
   ]
  },
  {
   "cell_type": "code",
   "execution_count": 26,
   "metadata": {},
   "outputs": [
    {
     "name": "stdout",
     "output_type": "stream",
     "text": [
      "[ 0.28879543  0.58819114  0.43556561 ... -0.02396203 -0.05362882\n",
      "  0.08863882]\n"
     ]
    }
   ],
   "source": [
    "a = X @ w\n",
    "print(a)"
   ]
  },
  {
   "cell_type": "markdown",
   "metadata": {},
   "source": [
    "Находим вектор `w_inv` и матрицу `a_inv`."
   ]
  },
  {
   "cell_type": "code",
   "execution_count": 27,
   "metadata": {},
   "outputs": [
    {
     "name": "stdout",
     "output_type": "stream",
     "text": [
      "[ 0.01265859  0.00334584  0.04184614 -0.05047552]\n",
      "[ 0.01265857  0.00334585  0.04184612 -0.05047549]\n"
     ]
    }
   ],
   "source": [
    "w_inv = np.linalg.inv((X @ P).T @ (X @ P)) @ (X @ P).T @ y\n",
    "w_inv1 = P_inv @ w\n",
    "print(w_inv)\n",
    "print(w_inv1)"
   ]
  },
  {
   "cell_type": "code",
   "execution_count": 28,
   "metadata": {},
   "outputs": [
    {
     "name": "stdout",
     "output_type": "stream",
     "text": [
      "[ 0.28879543  0.58819114  0.43556561 ... -0.02396203 -0.05362882\n",
      "  0.08863882]\n"
     ]
    }
   ],
   "source": [
    "a_inv = (X @ P) @ w_inv1\n",
    "print(a_inv)"
   ]
  },
  {
   "cell_type": "markdown",
   "metadata": {},
   "source": [
    "**Заметим что предсказания `a` = `a_inv`.**"
   ]
  },
  {
   "cell_type": "markdown",
   "metadata": {},
   "source": [
    "Разделяем матрицу признаков на: обучающую и тестовую."
   ]
  },
  {
   "cell_type": "code",
   "execution_count": 29,
   "metadata": {},
   "outputs": [],
   "source": [
    "X_train, X_test, y_train, y_test = train_test_split(X, y, random_state=42, test_size=.25)"
   ]
  },
  {
   "cell_type": "code",
   "execution_count": 30,
   "metadata": {},
   "outputs": [
    {
     "name": "stdout",
     "output_type": "stream",
     "text": [
      "Размер обучающей выборки (3635, 4)\n",
      "Размер тестовой выборки (1212, 4)\n",
      "Размер общей выборки (4847, 4)\n"
     ]
    }
   ],
   "source": [
    "print('Размер обучающей выборки', X_train.shape)\n",
    "print('Размер тестовой выборки', X_test.shape)\n",
    "print('Размер общей выборки', X.shape)"
   ]
  },
  {
   "cell_type": "markdown",
   "metadata": {},
   "source": [
    "Обучаем две модели: одну с преобразованием, другую без. "
   ]
  },
  {
   "cell_type": "markdown",
   "metadata": {},
   "source": [
    "**Без преобразования.**"
   ]
  },
  {
   "cell_type": "code",
   "execution_count": 31,
   "metadata": {},
   "outputs": [
    {
     "name": "stdout",
     "output_type": "stream",
     "text": [
      "Значение метрики R2: 0.4434633108094287\n"
     ]
    }
   ],
   "source": [
    "model = LinearRegression()\n",
    "model.fit(X_train, y_train)\n",
    "predictions = model.predict(X_test)\n",
    "print('Значение метрики R2:', r2_score(y_test, predictions))"
   ]
  },
  {
   "cell_type": "markdown",
   "metadata": {},
   "source": [
    "**С преобразованием.**"
   ]
  },
  {
   "cell_type": "code",
   "execution_count": 32,
   "metadata": {},
   "outputs": [
    {
     "name": "stdout",
     "output_type": "stream",
     "text": [
      "Значение метрики R2 c умножением на обратную матрицу: 0.44346331080872026\n"
     ]
    }
   ],
   "source": [
    "model_inv = LinearRegression()\n",
    "model_inv.fit(X_train @ P_inv, y_train)\n",
    "predictions_inv = model_inv.predict(X_test @ P_inv)\n",
    "print('Значение метрики R2 c умножением на обратную матрицу:', r2_score(y_test, predictions_inv))"
   ]
  },
  {
   "cell_type": "markdown",
   "metadata": {},
   "source": [
    "## Вывод"
   ]
  },
  {
   "cell_type": "markdown",
   "metadata": {},
   "source": [
    "В данном проекте исследованы исходные данные и устранены в них шумы. В результате преобразования матриц, построены модели с преобразованием и без и вычислена итоговая метрика r2.  "
   ]
  },
  {
   "cell_type": "markdown",
   "metadata": {},
   "source": [
    "## Чек-лист проверки"
   ]
  },
  {
   "cell_type": "markdown",
   "metadata": {},
   "source": [
    "Поставьте 'x' в выполненных пунктах. Далее нажмите Shift+Enter."
   ]
  },
  {
   "cell_type": "markdown",
   "metadata": {},
   "source": [
    "- [x]  Jupyter Notebook открыт\n",
    "- [x]  Весь код выполняется без ошибок\n",
    "- [x]  Ячейки с кодом расположены в порядке исполнения\n",
    "- [x]  Выполнен шаг 1: данные загружены\n",
    "- [x]  Выполнен шаг 2: получен ответ на вопрос об умножении матриц\n",
    "    - [x]  Указан правильный вариант ответа\n",
    "    - [x]  Вариант обоснован\n",
    "- [x]  Выполнен шаг 3: предложен алгоритм преобразования\n",
    "    - [x]  Алгоритм описан\n",
    "    - [x]  Алгоритм обоснован\n",
    "- [x]  Выполнен шаг 4: алгоритм проверен\n",
    "    - [x]  Алгоритм реализован\n",
    "    - [x]  Проведено сравнение качества моделей до и после преобразования"
   ]
  }
 ],
 "metadata": {
  "ExecuteTimeLog": [
   {
    "duration": 49,
    "start_time": "2022-09-15T13:34:02.865Z"
   },
   {
    "duration": 416,
    "start_time": "2022-09-15T13:34:29.004Z"
   },
   {
    "duration": 89,
    "start_time": "2022-09-15T13:34:43.427Z"
   },
   {
    "duration": 12,
    "start_time": "2022-09-15T13:34:49.068Z"
   },
   {
    "duration": 11,
    "start_time": "2022-09-15T13:35:12.755Z"
   },
   {
    "duration": 5,
    "start_time": "2022-09-15T13:35:18.859Z"
   },
   {
    "duration": 7,
    "start_time": "2022-09-15T13:35:44.878Z"
   },
   {
    "duration": 7,
    "start_time": "2022-09-15T13:35:45.187Z"
   },
   {
    "duration": 5,
    "start_time": "2022-09-15T13:35:46.353Z"
   },
   {
    "duration": 5,
    "start_time": "2022-09-15T13:35:46.727Z"
   },
   {
    "duration": 6,
    "start_time": "2022-09-15T13:35:57.348Z"
   },
   {
    "duration": 5,
    "start_time": "2022-09-15T13:36:02.244Z"
   },
   {
    "duration": 7,
    "start_time": "2022-09-15T13:36:05.787Z"
   },
   {
    "duration": 7,
    "start_time": "2022-09-15T13:36:21.978Z"
   },
   {
    "duration": 6,
    "start_time": "2022-09-15T13:36:27.790Z"
   },
   {
    "duration": 7,
    "start_time": "2022-09-15T13:36:51.733Z"
   },
   {
    "duration": 5,
    "start_time": "2022-09-15T13:36:58.069Z"
   },
   {
    "duration": 6,
    "start_time": "2022-09-15T13:37:38.369Z"
   },
   {
    "duration": 6,
    "start_time": "2022-09-15T13:37:45.108Z"
   },
   {
    "duration": 11,
    "start_time": "2022-09-15T13:37:55.196Z"
   },
   {
    "duration": 80,
    "start_time": "2022-09-15T13:38:25.433Z"
   },
   {
    "duration": 4,
    "start_time": "2022-09-15T13:38:37.652Z"
   },
   {
    "duration": 5,
    "start_time": "2022-09-15T13:38:41.260Z"
   },
   {
    "duration": 4,
    "start_time": "2022-09-15T13:38:51.020Z"
   },
   {
    "duration": 8,
    "start_time": "2022-09-15T13:39:03.847Z"
   },
   {
    "duration": 3,
    "start_time": "2022-09-15T13:39:13.252Z"
   },
   {
    "duration": 6,
    "start_time": "2022-09-15T13:39:20.838Z"
   },
   {
    "duration": 5,
    "start_time": "2022-09-15T13:39:27.303Z"
   },
   {
    "duration": 74,
    "start_time": "2022-09-15T13:42:03.073Z"
   },
   {
    "duration": 77,
    "start_time": "2022-09-15T13:42:05.457Z"
   },
   {
    "duration": 4,
    "start_time": "2022-09-15T13:42:18.067Z"
   },
   {
    "duration": 5,
    "start_time": "2022-09-15T13:42:25.348Z"
   },
   {
    "duration": 72,
    "start_time": "2022-09-15T13:42:27.935Z"
   },
   {
    "duration": 5,
    "start_time": "2022-09-15T13:42:38.961Z"
   },
   {
    "duration": 426,
    "start_time": "2022-09-15T13:43:31.854Z"
   },
   {
    "duration": 30,
    "start_time": "2022-09-15T13:43:32.281Z"
   },
   {
    "duration": 11,
    "start_time": "2022-09-15T13:43:32.313Z"
   },
   {
    "duration": 12,
    "start_time": "2022-09-15T13:43:32.325Z"
   },
   {
    "duration": 8,
    "start_time": "2022-09-15T13:43:32.339Z"
   },
   {
    "duration": 11,
    "start_time": "2022-09-15T13:43:32.348Z"
   },
   {
    "duration": 9,
    "start_time": "2022-09-15T13:43:32.361Z"
   },
   {
    "duration": 87,
    "start_time": "2022-09-15T13:43:32.371Z"
   },
   {
    "duration": 0,
    "start_time": "2022-09-15T13:43:32.460Z"
   },
   {
    "duration": 0,
    "start_time": "2022-09-15T13:43:32.461Z"
   },
   {
    "duration": 0,
    "start_time": "2022-09-15T13:43:32.462Z"
   },
   {
    "duration": 0,
    "start_time": "2022-09-15T13:43:32.463Z"
   },
   {
    "duration": 0,
    "start_time": "2022-09-15T13:43:32.464Z"
   },
   {
    "duration": 92,
    "start_time": "2022-09-15T13:43:44.818Z"
   },
   {
    "duration": 416,
    "start_time": "2022-09-15T13:43:50.098Z"
   },
   {
    "duration": 30,
    "start_time": "2022-09-15T13:43:50.516Z"
   },
   {
    "duration": 12,
    "start_time": "2022-09-15T13:43:50.548Z"
   },
   {
    "duration": 12,
    "start_time": "2022-09-15T13:43:50.562Z"
   },
   {
    "duration": 16,
    "start_time": "2022-09-15T13:43:50.577Z"
   },
   {
    "duration": 5,
    "start_time": "2022-09-15T13:43:50.595Z"
   },
   {
    "duration": 7,
    "start_time": "2022-09-15T13:43:50.601Z"
   },
   {
    "duration": 7,
    "start_time": "2022-09-15T13:43:50.610Z"
   },
   {
    "duration": 4,
    "start_time": "2022-09-15T13:43:50.619Z"
   },
   {
    "duration": 8,
    "start_time": "2022-09-15T13:43:50.625Z"
   },
   {
    "duration": 7,
    "start_time": "2022-09-15T13:43:50.634Z"
   },
   {
    "duration": 6,
    "start_time": "2022-09-15T13:43:50.643Z"
   },
   {
    "duration": 7,
    "start_time": "2022-09-15T13:44:05.500Z"
   },
   {
    "duration": 6,
    "start_time": "2022-09-15T13:44:19.133Z"
   },
   {
    "duration": 5,
    "start_time": "2022-09-15T13:44:23.918Z"
   },
   {
    "duration": 10,
    "start_time": "2022-09-15T13:44:40.709Z"
   },
   {
    "duration": 10,
    "start_time": "2022-09-15T13:44:43.688Z"
   },
   {
    "duration": 9,
    "start_time": "2022-09-15T13:44:45.992Z"
   },
   {
    "duration": 462,
    "start_time": "2022-09-15T13:45:51.571Z"
   },
   {
    "duration": 33,
    "start_time": "2022-09-15T13:45:52.036Z"
   },
   {
    "duration": 14,
    "start_time": "2022-09-15T13:45:52.071Z"
   },
   {
    "duration": 19,
    "start_time": "2022-09-15T13:45:52.087Z"
   },
   {
    "duration": 22,
    "start_time": "2022-09-15T13:45:52.109Z"
   },
   {
    "duration": 9,
    "start_time": "2022-09-15T13:45:52.133Z"
   },
   {
    "duration": 30,
    "start_time": "2022-09-15T13:45:52.143Z"
   },
   {
    "duration": 11,
    "start_time": "2022-09-15T13:45:52.174Z"
   },
   {
    "duration": 6,
    "start_time": "2022-09-15T13:45:52.186Z"
   },
   {
    "duration": 15,
    "start_time": "2022-09-15T13:45:52.193Z"
   },
   {
    "duration": 10,
    "start_time": "2022-09-15T13:45:52.209Z"
   },
   {
    "duration": 6,
    "start_time": "2022-09-15T13:45:52.220Z"
   },
   {
    "duration": 48,
    "start_time": "2022-09-19T06:25:25.992Z"
   },
   {
    "duration": 378,
    "start_time": "2022-09-19T06:25:29.912Z"
   },
   {
    "duration": 77,
    "start_time": "2022-09-19T06:25:30.292Z"
   },
   {
    "duration": 17,
    "start_time": "2022-09-19T06:25:30.371Z"
   },
   {
    "duration": 27,
    "start_time": "2022-09-19T06:25:30.391Z"
   },
   {
    "duration": 20,
    "start_time": "2022-09-19T06:25:30.420Z"
   },
   {
    "duration": 9,
    "start_time": "2022-09-19T06:25:30.441Z"
   },
   {
    "duration": 12,
    "start_time": "2022-09-19T06:25:30.451Z"
   },
   {
    "duration": 7,
    "start_time": "2022-09-19T06:25:30.465Z"
   },
   {
    "duration": 10,
    "start_time": "2022-09-19T06:25:30.474Z"
   },
   {
    "duration": 16,
    "start_time": "2022-09-19T06:25:30.487Z"
   },
   {
    "duration": 18,
    "start_time": "2022-09-19T06:25:30.505Z"
   },
   {
    "duration": 19,
    "start_time": "2022-09-19T06:25:30.525Z"
   },
   {
    "duration": 13,
    "start_time": "2022-09-19T06:25:30.546Z"
   },
   {
    "duration": 6,
    "start_time": "2022-09-19T06:25:38.155Z"
   },
   {
    "duration": 7,
    "start_time": "2022-09-19T06:25:56.541Z"
   },
   {
    "duration": 6,
    "start_time": "2022-09-19T06:25:59.901Z"
   },
   {
    "duration": 7,
    "start_time": "2022-09-19T06:26:02.098Z"
   },
   {
    "duration": 6,
    "start_time": "2022-09-19T06:26:21.108Z"
   },
   {
    "duration": 7,
    "start_time": "2022-09-19T06:26:24.717Z"
   },
   {
    "duration": 13,
    "start_time": "2022-09-19T06:26:36.861Z"
   },
   {
    "duration": 8,
    "start_time": "2022-09-19T06:27:55.041Z"
   },
   {
    "duration": 542,
    "start_time": "2022-09-19T06:28:02.921Z"
   },
   {
    "duration": 32,
    "start_time": "2022-09-19T06:28:03.465Z"
   },
   {
    "duration": 17,
    "start_time": "2022-09-19T06:28:03.499Z"
   },
   {
    "duration": 20,
    "start_time": "2022-09-19T06:28:03.520Z"
   },
   {
    "duration": 16,
    "start_time": "2022-09-19T06:28:03.548Z"
   },
   {
    "duration": 12,
    "start_time": "2022-09-19T06:28:03.566Z"
   },
   {
    "duration": 13,
    "start_time": "2022-09-19T06:28:03.581Z"
   },
   {
    "duration": 10,
    "start_time": "2022-09-19T06:28:03.597Z"
   },
   {
    "duration": 11,
    "start_time": "2022-09-19T06:28:03.609Z"
   },
   {
    "duration": 27,
    "start_time": "2022-09-19T06:28:03.624Z"
   },
   {
    "duration": 8,
    "start_time": "2022-09-19T06:28:03.654Z"
   },
   {
    "duration": 13,
    "start_time": "2022-09-19T06:28:03.664Z"
   },
   {
    "duration": 9,
    "start_time": "2022-09-19T06:28:03.680Z"
   },
   {
    "duration": 75,
    "start_time": "2022-09-19T06:28:03.691Z"
   },
   {
    "duration": 0,
    "start_time": "2022-09-19T06:28:03.769Z"
   },
   {
    "duration": 0,
    "start_time": "2022-09-19T06:28:03.770Z"
   },
   {
    "duration": 9,
    "start_time": "2022-09-19T06:28:47.791Z"
   },
   {
    "duration": 62,
    "start_time": "2022-09-19T06:29:51.620Z"
   },
   {
    "duration": 68,
    "start_time": "2022-09-19T06:30:15.472Z"
   },
   {
    "duration": 108,
    "start_time": "2022-09-19T06:30:18.741Z"
   },
   {
    "duration": 77,
    "start_time": "2022-09-19T06:30:46.758Z"
   },
   {
    "duration": 74,
    "start_time": "2022-09-19T06:30:58.931Z"
   },
   {
    "duration": 96,
    "start_time": "2022-09-19T06:31:15.863Z"
   },
   {
    "duration": 7,
    "start_time": "2022-09-19T06:31:20.127Z"
   },
   {
    "duration": 12,
    "start_time": "2022-09-19T06:31:27.543Z"
   },
   {
    "duration": 8,
    "start_time": "2022-09-19T06:31:34.691Z"
   },
   {
    "duration": 8,
    "start_time": "2022-09-19T06:31:38.225Z"
   },
   {
    "duration": 7,
    "start_time": "2022-09-19T06:31:54.799Z"
   },
   {
    "duration": 7,
    "start_time": "2022-09-19T06:32:04.226Z"
   },
   {
    "duration": 8,
    "start_time": "2022-09-19T06:32:12.499Z"
   },
   {
    "duration": 7,
    "start_time": "2022-09-19T06:32:19.186Z"
   },
   {
    "duration": 15,
    "start_time": "2022-09-19T06:32:22.986Z"
   },
   {
    "duration": 7,
    "start_time": "2022-09-19T06:32:25.894Z"
   },
   {
    "duration": 8,
    "start_time": "2022-09-19T06:32:29.015Z"
   },
   {
    "duration": 6,
    "start_time": "2022-09-19T06:32:32.000Z"
   },
   {
    "duration": 417,
    "start_time": "2022-09-19T06:32:37.164Z"
   },
   {
    "duration": 28,
    "start_time": "2022-09-19T06:32:37.583Z"
   },
   {
    "duration": 14,
    "start_time": "2022-09-19T06:32:37.614Z"
   },
   {
    "duration": 36,
    "start_time": "2022-09-19T06:32:37.630Z"
   },
   {
    "duration": 30,
    "start_time": "2022-09-19T06:32:37.669Z"
   },
   {
    "duration": 19,
    "start_time": "2022-09-19T06:32:37.701Z"
   },
   {
    "duration": 35,
    "start_time": "2022-09-19T06:32:37.721Z"
   },
   {
    "duration": 61,
    "start_time": "2022-09-19T06:32:37.758Z"
   },
   {
    "duration": 25,
    "start_time": "2022-09-19T06:32:37.821Z"
   },
   {
    "duration": 35,
    "start_time": "2022-09-19T06:32:37.848Z"
   },
   {
    "duration": 28,
    "start_time": "2022-09-19T06:32:37.885Z"
   },
   {
    "duration": 47,
    "start_time": "2022-09-19T06:32:37.915Z"
   },
   {
    "duration": 48,
    "start_time": "2022-09-19T06:32:37.964Z"
   },
   {
    "duration": 60,
    "start_time": "2022-09-19T06:32:38.015Z"
   },
   {
    "duration": 0,
    "start_time": "2022-09-19T06:32:38.076Z"
   },
   {
    "duration": 0,
    "start_time": "2022-09-19T06:32:38.078Z"
   },
   {
    "duration": 421,
    "start_time": "2022-09-19T06:34:59.421Z"
   },
   {
    "duration": 28,
    "start_time": "2022-09-19T06:34:59.847Z"
   },
   {
    "duration": 11,
    "start_time": "2022-09-19T06:34:59.877Z"
   },
   {
    "duration": 21,
    "start_time": "2022-09-19T06:34:59.890Z"
   },
   {
    "duration": 37,
    "start_time": "2022-09-19T06:34:59.912Z"
   },
   {
    "duration": 16,
    "start_time": "2022-09-19T06:34:59.951Z"
   },
   {
    "duration": 12,
    "start_time": "2022-09-19T06:34:59.969Z"
   },
   {
    "duration": 27,
    "start_time": "2022-09-19T06:34:59.983Z"
   },
   {
    "duration": 14,
    "start_time": "2022-09-19T06:35:00.012Z"
   },
   {
    "duration": 21,
    "start_time": "2022-09-19T06:35:00.029Z"
   },
   {
    "duration": 19,
    "start_time": "2022-09-19T06:35:00.052Z"
   },
   {
    "duration": 23,
    "start_time": "2022-09-19T06:35:00.073Z"
   },
   {
    "duration": 24,
    "start_time": "2022-09-19T06:35:00.099Z"
   },
   {
    "duration": 38,
    "start_time": "2022-09-19T06:35:00.125Z"
   },
   {
    "duration": 28,
    "start_time": "2022-09-19T06:35:00.165Z"
   },
   {
    "duration": 20,
    "start_time": "2022-09-19T06:35:00.196Z"
   },
   {
    "duration": 113,
    "start_time": "2022-09-19T06:37:07.125Z"
   },
   {
    "duration": 72,
    "start_time": "2022-09-19T06:41:27.849Z"
   },
   {
    "duration": 3,
    "start_time": "2022-09-19T06:41:31.852Z"
   },
   {
    "duration": 4,
    "start_time": "2022-09-19T06:41:36.387Z"
   },
   {
    "duration": 4,
    "start_time": "2022-09-19T06:55:42.215Z"
   },
   {
    "duration": 4,
    "start_time": "2022-09-19T06:57:36.248Z"
   },
   {
    "duration": 7,
    "start_time": "2022-09-19T06:57:59.111Z"
   },
   {
    "duration": 7,
    "start_time": "2022-09-19T06:58:15.703Z"
   },
   {
    "duration": 3,
    "start_time": "2022-09-19T06:58:21.945Z"
   },
   {
    "duration": 5,
    "start_time": "2022-09-19T07:01:38.722Z"
   },
   {
    "duration": 3,
    "start_time": "2022-09-19T07:03:34.391Z"
   },
   {
    "duration": 4,
    "start_time": "2022-09-19T07:03:41.819Z"
   },
   {
    "duration": 7,
    "start_time": "2022-09-19T07:03:53.248Z"
   },
   {
    "duration": 5,
    "start_time": "2022-09-19T07:04:02.803Z"
   },
   {
    "duration": 9,
    "start_time": "2022-09-19T07:07:13.533Z"
   },
   {
    "duration": 2,
    "start_time": "2022-09-19T07:07:51.656Z"
   },
   {
    "duration": 4,
    "start_time": "2022-09-19T07:07:59.739Z"
   },
   {
    "duration": 10,
    "start_time": "2022-09-19T07:08:26.358Z"
   },
   {
    "duration": 4,
    "start_time": "2022-09-19T07:08:35.091Z"
   },
   {
    "duration": 4,
    "start_time": "2022-09-19T07:08:52.111Z"
   },
   {
    "duration": 4,
    "start_time": "2022-09-19T07:08:52.839Z"
   },
   {
    "duration": 11,
    "start_time": "2022-09-19T07:08:56.315Z"
   },
   {
    "duration": 5,
    "start_time": "2022-09-19T07:09:41.248Z"
   },
   {
    "duration": 1905,
    "start_time": "2022-09-19T07:10:00.803Z"
   },
   {
    "duration": 3,
    "start_time": "2022-09-19T07:10:05.531Z"
   },
   {
    "duration": 4,
    "start_time": "2022-09-19T07:10:27.658Z"
   },
   {
    "duration": 406,
    "start_time": "2022-09-19T07:10:45.344Z"
   },
   {
    "duration": 3,
    "start_time": "2022-09-19T07:12:59.751Z"
   },
   {
    "duration": 3,
    "start_time": "2022-09-19T07:13:00.235Z"
   },
   {
    "duration": 3,
    "start_time": "2022-09-19T07:13:07.700Z"
   },
   {
    "duration": 5,
    "start_time": "2022-09-19T07:13:07.949Z"
   },
   {
    "duration": 7,
    "start_time": "2022-09-19T07:14:12.746Z"
   },
   {
    "duration": 33120,
    "start_time": "2022-09-19T07:14:17.407Z"
   },
   {
    "duration": 4,
    "start_time": "2022-09-19T07:15:08.535Z"
   },
   {
    "duration": 4,
    "start_time": "2022-09-19T07:15:17.079Z"
   },
   {
    "duration": 4,
    "start_time": "2022-09-19T07:15:23.875Z"
   },
   {
    "duration": 482,
    "start_time": "2022-09-19T07:15:35.937Z"
   },
   {
    "duration": 31,
    "start_time": "2022-09-19T07:15:36.422Z"
   },
   {
    "duration": 15,
    "start_time": "2022-09-19T07:15:36.456Z"
   },
   {
    "duration": 25,
    "start_time": "2022-09-19T07:15:36.473Z"
   },
   {
    "duration": 26,
    "start_time": "2022-09-19T07:15:36.501Z"
   },
   {
    "duration": 18,
    "start_time": "2022-09-19T07:15:36.529Z"
   },
   {
    "duration": 9,
    "start_time": "2022-09-19T07:15:36.549Z"
   },
   {
    "duration": 17,
    "start_time": "2022-09-19T07:15:36.560Z"
   },
   {
    "duration": 8,
    "start_time": "2022-09-19T07:15:36.578Z"
   },
   {
    "duration": 17,
    "start_time": "2022-09-19T07:15:36.587Z"
   },
   {
    "duration": 18,
    "start_time": "2022-09-19T07:15:36.605Z"
   },
   {
    "duration": 14,
    "start_time": "2022-09-19T07:15:36.625Z"
   },
   {
    "duration": 9,
    "start_time": "2022-09-19T07:15:36.640Z"
   },
   {
    "duration": 7,
    "start_time": "2022-09-19T07:15:36.652Z"
   },
   {
    "duration": 11,
    "start_time": "2022-09-19T07:15:36.661Z"
   },
   {
    "duration": 24,
    "start_time": "2022-09-19T07:15:36.674Z"
   },
   {
    "duration": 9,
    "start_time": "2022-09-19T07:15:36.700Z"
   },
   {
    "duration": 7,
    "start_time": "2022-09-19T07:15:36.711Z"
   },
   {
    "duration": 10,
    "start_time": "2022-09-19T07:15:36.720Z"
   },
   {
    "duration": 7,
    "start_time": "2022-09-19T07:15:36.731Z"
   },
   {
    "duration": 10,
    "start_time": "2022-09-19T07:15:36.739Z"
   },
   {
    "duration": 15,
    "start_time": "2022-09-19T07:15:36.750Z"
   },
   {
    "duration": 8,
    "start_time": "2022-09-19T07:15:36.767Z"
   },
   {
    "duration": 283,
    "start_time": "2022-09-19T07:15:36.777Z"
   },
   {
    "duration": 31765,
    "start_time": "2022-09-19T07:15:37.062Z"
   },
   {
    "duration": 4,
    "start_time": "2022-09-19T07:16:08.829Z"
   },
   {
    "duration": 14,
    "start_time": "2022-09-19T07:16:08.846Z"
   },
   {
    "duration": 5,
    "start_time": "2022-09-19T07:17:54.819Z"
   },
   {
    "duration": 4,
    "start_time": "2022-09-19T07:18:08.739Z"
   },
   {
    "duration": 409,
    "start_time": "2022-09-19T07:18:22.726Z"
   },
   {
    "duration": 27,
    "start_time": "2022-09-19T07:18:23.137Z"
   },
   {
    "duration": 12,
    "start_time": "2022-09-19T07:18:23.166Z"
   },
   {
    "duration": 33,
    "start_time": "2022-09-19T07:18:23.180Z"
   },
   {
    "duration": 18,
    "start_time": "2022-09-19T07:18:23.215Z"
   },
   {
    "duration": 18,
    "start_time": "2022-09-19T07:18:23.235Z"
   },
   {
    "duration": 23,
    "start_time": "2022-09-19T07:18:23.255Z"
   },
   {
    "duration": 15,
    "start_time": "2022-09-19T07:18:23.280Z"
   },
   {
    "duration": 24,
    "start_time": "2022-09-19T07:18:23.297Z"
   },
   {
    "duration": 18,
    "start_time": "2022-09-19T07:18:23.325Z"
   },
   {
    "duration": 11,
    "start_time": "2022-09-19T07:18:23.344Z"
   },
   {
    "duration": 18,
    "start_time": "2022-09-19T07:18:23.357Z"
   },
   {
    "duration": 16,
    "start_time": "2022-09-19T07:18:23.377Z"
   },
   {
    "duration": 24,
    "start_time": "2022-09-19T07:18:23.395Z"
   },
   {
    "duration": 22,
    "start_time": "2022-09-19T07:18:23.421Z"
   },
   {
    "duration": 29,
    "start_time": "2022-09-19T07:18:23.445Z"
   },
   {
    "duration": 11,
    "start_time": "2022-09-19T07:18:23.475Z"
   },
   {
    "duration": 13,
    "start_time": "2022-09-19T07:18:23.487Z"
   },
   {
    "duration": 20,
    "start_time": "2022-09-19T07:18:23.501Z"
   },
   {
    "duration": 16,
    "start_time": "2022-09-19T07:18:23.523Z"
   },
   {
    "duration": 17,
    "start_time": "2022-09-19T07:18:23.541Z"
   },
   {
    "duration": 18,
    "start_time": "2022-09-19T07:18:23.560Z"
   },
   {
    "duration": 20,
    "start_time": "2022-09-19T07:18:23.580Z"
   },
   {
    "duration": 253,
    "start_time": "2022-09-19T07:18:23.602Z"
   },
   {
    "duration": 29155,
    "start_time": "2022-09-19T07:18:23.857Z"
   },
   {
    "duration": 6,
    "start_time": "2022-09-19T07:18:53.013Z"
   },
   {
    "duration": 60,
    "start_time": "2022-09-19T07:18:53.020Z"
   },
   {
    "duration": 3,
    "start_time": "2022-09-19T07:19:06.141Z"
   },
   {
    "duration": 4,
    "start_time": "2022-09-19T07:19:06.695Z"
   },
   {
    "duration": 4,
    "start_time": "2022-09-19T07:19:10.351Z"
   },
   {
    "duration": 4,
    "start_time": "2022-09-19T07:19:14.123Z"
   },
   {
    "duration": 886,
    "start_time": "2022-09-19T07:19:14.919Z"
   },
   {
    "duration": 5,
    "start_time": "2022-09-19T07:19:26.326Z"
   },
   {
    "duration": 410,
    "start_time": "2022-09-19T07:19:38.544Z"
   },
   {
    "duration": 34,
    "start_time": "2022-09-19T07:19:38.956Z"
   },
   {
    "duration": 12,
    "start_time": "2022-09-19T07:19:38.992Z"
   },
   {
    "duration": 15,
    "start_time": "2022-09-19T07:19:39.006Z"
   },
   {
    "duration": 7,
    "start_time": "2022-09-19T07:19:39.023Z"
   },
   {
    "duration": 7,
    "start_time": "2022-09-19T07:19:39.032Z"
   },
   {
    "duration": 7,
    "start_time": "2022-09-19T07:19:39.040Z"
   },
   {
    "duration": 8,
    "start_time": "2022-09-19T07:19:39.048Z"
   },
   {
    "duration": 3,
    "start_time": "2022-09-19T07:19:39.058Z"
   },
   {
    "duration": 6,
    "start_time": "2022-09-19T07:19:39.063Z"
   },
   {
    "duration": 10,
    "start_time": "2022-09-19T07:19:39.071Z"
   },
   {
    "duration": 7,
    "start_time": "2022-09-19T07:19:39.083Z"
   },
   {
    "duration": 6,
    "start_time": "2022-09-19T07:19:39.091Z"
   },
   {
    "duration": 5,
    "start_time": "2022-09-19T07:19:39.099Z"
   },
   {
    "duration": 6,
    "start_time": "2022-09-19T07:19:39.105Z"
   },
   {
    "duration": 12,
    "start_time": "2022-09-19T07:19:39.147Z"
   },
   {
    "duration": 3,
    "start_time": "2022-09-19T07:19:39.161Z"
   },
   {
    "duration": 8,
    "start_time": "2022-09-19T07:19:39.166Z"
   },
   {
    "duration": 6,
    "start_time": "2022-09-19T07:19:39.176Z"
   },
   {
    "duration": 7,
    "start_time": "2022-09-19T07:19:39.183Z"
   },
   {
    "duration": 5,
    "start_time": "2022-09-19T07:19:39.192Z"
   },
   {
    "duration": 7,
    "start_time": "2022-09-19T07:19:39.199Z"
   },
   {
    "duration": 8,
    "start_time": "2022-09-19T07:19:39.207Z"
   },
   {
    "duration": 30,
    "start_time": "2022-09-19T07:19:39.217Z"
   },
   {
    "duration": 401,
    "start_time": "2022-09-19T07:19:39.249Z"
   },
   {
    "duration": 0,
    "start_time": "2022-09-19T07:19:39.651Z"
   },
   {
    "duration": 0,
    "start_time": "2022-09-19T07:19:39.652Z"
   },
   {
    "duration": 8,
    "start_time": "2022-09-19T07:20:14.049Z"
   },
   {
    "duration": 3,
    "start_time": "2022-09-19T07:20:22.215Z"
   },
   {
    "duration": 156,
    "start_time": "2022-09-19T07:20:35.519Z"
   },
   {
    "duration": 10,
    "start_time": "2022-09-19T07:20:38.737Z"
   },
   {
    "duration": 4,
    "start_time": "2022-09-19T07:20:45.703Z"
   },
   {
    "duration": 4,
    "start_time": "2022-09-19T07:20:55.895Z"
   },
   {
    "duration": 5,
    "start_time": "2022-09-19T07:21:11.549Z"
   },
   {
    "duration": 403,
    "start_time": "2022-09-19T07:21:19.508Z"
   },
   {
    "duration": 27,
    "start_time": "2022-09-19T07:21:19.914Z"
   },
   {
    "duration": 12,
    "start_time": "2022-09-19T07:21:19.943Z"
   },
   {
    "duration": 28,
    "start_time": "2022-09-19T07:21:19.957Z"
   },
   {
    "duration": 22,
    "start_time": "2022-09-19T07:21:19.988Z"
   },
   {
    "duration": 25,
    "start_time": "2022-09-19T07:21:20.012Z"
   },
   {
    "duration": 21,
    "start_time": "2022-09-19T07:21:20.039Z"
   },
   {
    "duration": 33,
    "start_time": "2022-09-19T07:21:20.061Z"
   },
   {
    "duration": 18,
    "start_time": "2022-09-19T07:21:20.096Z"
   },
   {
    "duration": 27,
    "start_time": "2022-09-19T07:21:20.116Z"
   },
   {
    "duration": 32,
    "start_time": "2022-09-19T07:21:20.144Z"
   },
   {
    "duration": 14,
    "start_time": "2022-09-19T07:21:20.178Z"
   },
   {
    "duration": 12,
    "start_time": "2022-09-19T07:21:20.194Z"
   },
   {
    "duration": 6,
    "start_time": "2022-09-19T07:21:20.209Z"
   },
   {
    "duration": 7,
    "start_time": "2022-09-19T07:21:20.217Z"
   },
   {
    "duration": 11,
    "start_time": "2022-09-19T07:21:20.226Z"
   },
   {
    "duration": 6,
    "start_time": "2022-09-19T07:21:20.239Z"
   },
   {
    "duration": 7,
    "start_time": "2022-09-19T07:21:20.247Z"
   },
   {
    "duration": 6,
    "start_time": "2022-09-19T07:21:20.256Z"
   },
   {
    "duration": 5,
    "start_time": "2022-09-19T07:21:20.264Z"
   },
   {
    "duration": 6,
    "start_time": "2022-09-19T07:21:20.271Z"
   },
   {
    "duration": 7,
    "start_time": "2022-09-19T07:21:20.278Z"
   },
   {
    "duration": 9,
    "start_time": "2022-09-19T07:21:20.287Z"
   },
   {
    "duration": 11,
    "start_time": "2022-09-19T07:21:20.297Z"
   },
   {
    "duration": 45,
    "start_time": "2022-09-19T07:21:20.311Z"
   },
   {
    "duration": 404,
    "start_time": "2022-09-19T07:21:52.143Z"
   },
   {
    "duration": 27,
    "start_time": "2022-09-19T07:21:52.549Z"
   },
   {
    "duration": 16,
    "start_time": "2022-09-19T07:21:52.578Z"
   },
   {
    "duration": 23,
    "start_time": "2022-09-19T07:21:52.596Z"
   },
   {
    "duration": 16,
    "start_time": "2022-09-19T07:21:52.622Z"
   },
   {
    "duration": 26,
    "start_time": "2022-09-19T07:21:52.640Z"
   },
   {
    "duration": 26,
    "start_time": "2022-09-19T07:21:52.669Z"
   },
   {
    "duration": 34,
    "start_time": "2022-09-19T07:21:52.697Z"
   },
   {
    "duration": 16,
    "start_time": "2022-09-19T07:21:52.733Z"
   },
   {
    "duration": 28,
    "start_time": "2022-09-19T07:21:52.751Z"
   },
   {
    "duration": 23,
    "start_time": "2022-09-19T07:21:52.781Z"
   },
   {
    "duration": 22,
    "start_time": "2022-09-19T07:21:52.807Z"
   },
   {
    "duration": 24,
    "start_time": "2022-09-19T07:21:52.831Z"
   },
   {
    "duration": 19,
    "start_time": "2022-09-19T07:21:52.858Z"
   },
   {
    "duration": 23,
    "start_time": "2022-09-19T07:21:52.878Z"
   },
   {
    "duration": 41,
    "start_time": "2022-09-19T07:21:52.903Z"
   },
   {
    "duration": 15,
    "start_time": "2022-09-19T07:21:52.946Z"
   },
   {
    "duration": 18,
    "start_time": "2022-09-19T07:21:52.963Z"
   },
   {
    "duration": 31,
    "start_time": "2022-09-19T07:21:52.984Z"
   },
   {
    "duration": 13,
    "start_time": "2022-09-19T07:21:53.018Z"
   },
   {
    "duration": 19,
    "start_time": "2022-09-19T07:21:53.033Z"
   },
   {
    "duration": 14,
    "start_time": "2022-09-19T07:21:53.054Z"
   },
   {
    "duration": 15,
    "start_time": "2022-09-19T07:21:53.070Z"
   },
   {
    "duration": 61,
    "start_time": "2022-09-19T07:21:53.088Z"
   },
   {
    "duration": 397,
    "start_time": "2022-09-19T07:22:52.307Z"
   },
   {
    "duration": 3,
    "start_time": "2022-09-19T07:23:08.953Z"
   },
   {
    "duration": 4,
    "start_time": "2022-09-19T07:23:17.530Z"
   },
   {
    "duration": 3,
    "start_time": "2022-09-19T07:26:10.847Z"
   },
   {
    "duration": 3,
    "start_time": "2022-09-19T07:26:38.810Z"
   },
   {
    "duration": 428,
    "start_time": "2022-09-19T07:27:04.321Z"
   },
   {
    "duration": 30,
    "start_time": "2022-09-19T07:27:04.751Z"
   },
   {
    "duration": 13,
    "start_time": "2022-09-19T07:27:04.783Z"
   },
   {
    "duration": 14,
    "start_time": "2022-09-19T07:27:04.798Z"
   },
   {
    "duration": 13,
    "start_time": "2022-09-19T07:27:04.814Z"
   },
   {
    "duration": 11,
    "start_time": "2022-09-19T07:27:04.829Z"
   },
   {
    "duration": 12,
    "start_time": "2022-09-19T07:27:04.841Z"
   },
   {
    "duration": 7,
    "start_time": "2022-09-19T07:27:04.854Z"
   },
   {
    "duration": 10,
    "start_time": "2022-09-19T07:27:04.863Z"
   },
   {
    "duration": 13,
    "start_time": "2022-09-19T07:27:04.875Z"
   },
   {
    "duration": 7,
    "start_time": "2022-09-19T07:27:04.890Z"
   },
   {
    "duration": 12,
    "start_time": "2022-09-19T07:27:04.898Z"
   },
   {
    "duration": 10,
    "start_time": "2022-09-19T07:27:04.912Z"
   },
   {
    "duration": 7,
    "start_time": "2022-09-19T07:27:04.924Z"
   },
   {
    "duration": 17,
    "start_time": "2022-09-19T07:27:04.933Z"
   },
   {
    "duration": 10,
    "start_time": "2022-09-19T07:27:04.952Z"
   },
   {
    "duration": 6,
    "start_time": "2022-09-19T07:27:04.963Z"
   },
   {
    "duration": 7,
    "start_time": "2022-09-19T07:27:04.971Z"
   },
   {
    "duration": 5,
    "start_time": "2022-09-19T07:27:04.980Z"
   },
   {
    "duration": 7,
    "start_time": "2022-09-19T07:27:04.986Z"
   },
   {
    "duration": 8,
    "start_time": "2022-09-19T07:27:04.995Z"
   },
   {
    "duration": 8,
    "start_time": "2022-09-19T07:27:05.004Z"
   },
   {
    "duration": 32,
    "start_time": "2022-09-19T07:27:05.014Z"
   },
   {
    "duration": 18,
    "start_time": "2022-09-19T07:27:05.049Z"
   },
   {
    "duration": 4,
    "start_time": "2022-09-19T07:27:05.146Z"
   },
   {
    "duration": 9,
    "start_time": "2022-09-19T07:27:05.151Z"
   },
   {
    "duration": 2,
    "start_time": "2022-09-19T07:28:48.817Z"
   },
   {
    "duration": 62,
    "start_time": "2022-09-19T07:28:50.403Z"
   },
   {
    "duration": 4,
    "start_time": "2022-09-19T07:28:56.448Z"
   },
   {
    "duration": 8,
    "start_time": "2022-09-19T07:28:56.935Z"
   },
   {
    "duration": 3,
    "start_time": "2022-09-19T07:29:09.545Z"
   },
   {
    "duration": 3,
    "start_time": "2022-09-19T07:29:33.559Z"
   },
   {
    "duration": 4,
    "start_time": "2022-09-19T07:29:34.295Z"
   },
   {
    "duration": 5,
    "start_time": "2022-09-19T07:29:38.103Z"
   },
   {
    "duration": 439,
    "start_time": "2022-09-19T07:29:44.033Z"
   },
   {
    "duration": 28,
    "start_time": "2022-09-19T07:29:44.475Z"
   },
   {
    "duration": 14,
    "start_time": "2022-09-19T07:29:44.505Z"
   },
   {
    "duration": 17,
    "start_time": "2022-09-19T07:29:44.521Z"
   },
   {
    "duration": 34,
    "start_time": "2022-09-19T07:29:44.540Z"
   },
   {
    "duration": 13,
    "start_time": "2022-09-19T07:29:44.576Z"
   },
   {
    "duration": 26,
    "start_time": "2022-09-19T07:29:44.591Z"
   },
   {
    "duration": 16,
    "start_time": "2022-09-19T07:29:44.619Z"
   },
   {
    "duration": 32,
    "start_time": "2022-09-19T07:29:44.636Z"
   },
   {
    "duration": 27,
    "start_time": "2022-09-19T07:29:44.671Z"
   },
   {
    "duration": 21,
    "start_time": "2022-09-19T07:29:44.700Z"
   },
   {
    "duration": 43,
    "start_time": "2022-09-19T07:29:44.723Z"
   },
   {
    "duration": 20,
    "start_time": "2022-09-19T07:29:44.768Z"
   },
   {
    "duration": 17,
    "start_time": "2022-09-19T07:29:44.790Z"
   },
   {
    "duration": 26,
    "start_time": "2022-09-19T07:29:44.809Z"
   },
   {
    "duration": 46,
    "start_time": "2022-09-19T07:29:44.837Z"
   },
   {
    "duration": 9,
    "start_time": "2022-09-19T07:29:44.885Z"
   },
   {
    "duration": 20,
    "start_time": "2022-09-19T07:29:44.896Z"
   },
   {
    "duration": 51,
    "start_time": "2022-09-19T07:29:44.918Z"
   },
   {
    "duration": 21,
    "start_time": "2022-09-19T07:29:44.971Z"
   },
   {
    "duration": 11,
    "start_time": "2022-09-19T07:29:44.994Z"
   },
   {
    "duration": 45,
    "start_time": "2022-09-19T07:29:45.007Z"
   },
   {
    "duration": 14,
    "start_time": "2022-09-19T07:29:45.054Z"
   },
   {
    "duration": 78,
    "start_time": "2022-09-19T07:29:45.070Z"
   },
   {
    "duration": 3,
    "start_time": "2022-09-19T07:29:45.151Z"
   },
   {
    "duration": 95,
    "start_time": "2022-09-19T07:29:45.157Z"
   },
   {
    "duration": 65,
    "start_time": "2022-09-19T07:32:37.954Z"
   },
   {
    "duration": 72,
    "start_time": "2022-09-19T07:33:09.491Z"
   },
   {
    "duration": 9,
    "start_time": "2022-09-19T07:33:18.303Z"
   },
   {
    "duration": 333,
    "start_time": "2022-09-19T07:33:33.804Z"
   },
   {
    "duration": 253,
    "start_time": "2022-09-19T07:33:38.307Z"
   },
   {
    "duration": 3,
    "start_time": "2022-09-19T07:34:10.595Z"
   },
   {
    "duration": 289,
    "start_time": "2022-09-19T07:34:13.499Z"
   },
   {
    "duration": 138,
    "start_time": "2022-09-19T07:34:25.187Z"
   },
   {
    "duration": 146,
    "start_time": "2022-09-19T07:34:34.223Z"
   },
   {
    "duration": 98,
    "start_time": "2022-09-19T07:34:48.130Z"
   },
   {
    "duration": 16,
    "start_time": "2022-09-19T07:34:54.394Z"
   },
   {
    "duration": 2,
    "start_time": "2022-09-19T07:35:09.923Z"
   },
   {
    "duration": 5,
    "start_time": "2022-09-19T07:35:10.203Z"
   },
   {
    "duration": 134,
    "start_time": "2022-09-19T07:35:13.610Z"
   },
   {
    "duration": 132,
    "start_time": "2022-09-19T07:35:30.631Z"
   },
   {
    "duration": 5,
    "start_time": "2022-09-19T07:38:46.598Z"
   },
   {
    "duration": 6,
    "start_time": "2022-09-19T07:38:47.887Z"
   },
   {
    "duration": 5,
    "start_time": "2022-09-19T07:38:48.261Z"
   },
   {
    "duration": 4,
    "start_time": "2022-09-19T07:39:24.899Z"
   },
   {
    "duration": 3,
    "start_time": "2022-09-19T07:39:45.740Z"
   },
   {
    "duration": 5,
    "start_time": "2022-09-19T07:39:46.294Z"
   },
   {
    "duration": 4,
    "start_time": "2022-09-19T07:40:23.237Z"
   },
   {
    "duration": 4,
    "start_time": "2022-09-19T07:40:57.515Z"
   },
   {
    "duration": 4,
    "start_time": "2022-09-19T07:40:58.169Z"
   },
   {
    "duration": 4,
    "start_time": "2022-09-19T07:40:59.408Z"
   },
   {
    "duration": 5,
    "start_time": "2022-09-19T07:41:13.889Z"
   },
   {
    "duration": 52,
    "start_time": "2022-09-19T07:41:29.812Z"
   },
   {
    "duration": 3,
    "start_time": "2022-09-19T07:42:29.633Z"
   },
   {
    "duration": 7,
    "start_time": "2022-09-19T07:42:42.705Z"
   },
   {
    "duration": 3,
    "start_time": "2022-09-19T07:43:02.603Z"
   },
   {
    "duration": 4,
    "start_time": "2022-09-19T07:43:05.633Z"
   },
   {
    "duration": 3,
    "start_time": "2022-09-19T07:44:00.930Z"
   },
   {
    "duration": 5,
    "start_time": "2022-09-19T07:44:01.460Z"
   },
   {
    "duration": 4,
    "start_time": "2022-09-19T07:44:18.317Z"
   },
   {
    "duration": 9,
    "start_time": "2022-09-19T07:44:18.994Z"
   },
   {
    "duration": 3,
    "start_time": "2022-09-19T07:48:33.963Z"
   },
   {
    "duration": 61,
    "start_time": "2022-09-19T07:48:36.821Z"
   },
   {
    "duration": 3,
    "start_time": "2022-09-19T07:48:58.520Z"
   },
   {
    "duration": 3,
    "start_time": "2022-09-19T07:48:59.535Z"
   },
   {
    "duration": 3,
    "start_time": "2022-09-19T07:49:09.941Z"
   },
   {
    "duration": 5,
    "start_time": "2022-09-19T07:49:11.726Z"
   },
   {
    "duration": 3,
    "start_time": "2022-09-19T07:49:17.357Z"
   },
   {
    "duration": 4,
    "start_time": "2022-09-19T07:49:17.903Z"
   },
   {
    "duration": 4,
    "start_time": "2022-09-19T07:49:28.854Z"
   },
   {
    "duration": 5,
    "start_time": "2022-09-19T07:49:29.403Z"
   },
   {
    "duration": 4,
    "start_time": "2022-09-19T07:49:33.991Z"
   },
   {
    "duration": 5,
    "start_time": "2022-09-19T07:49:34.703Z"
   },
   {
    "duration": 4,
    "start_time": "2022-09-19T07:49:44.957Z"
   },
   {
    "duration": 787,
    "start_time": "2022-09-19T07:49:53.510Z"
   },
   {
    "duration": 31,
    "start_time": "2022-09-19T07:49:54.300Z"
   },
   {
    "duration": 19,
    "start_time": "2022-09-19T07:49:54.334Z"
   },
   {
    "duration": 9,
    "start_time": "2022-09-19T07:49:54.356Z"
   },
   {
    "duration": 15,
    "start_time": "2022-09-19T07:49:54.367Z"
   },
   {
    "duration": 4,
    "start_time": "2022-09-19T07:49:54.384Z"
   },
   {
    "duration": 16,
    "start_time": "2022-09-19T07:49:54.390Z"
   },
   {
    "duration": 29,
    "start_time": "2022-09-19T07:49:54.409Z"
   },
   {
    "duration": 14,
    "start_time": "2022-09-19T07:49:54.440Z"
   },
   {
    "duration": 19,
    "start_time": "2022-09-19T07:49:54.459Z"
   },
   {
    "duration": 13,
    "start_time": "2022-09-19T07:49:54.481Z"
   },
   {
    "duration": 32,
    "start_time": "2022-09-19T07:49:54.497Z"
   },
   {
    "duration": 11,
    "start_time": "2022-09-19T07:49:54.531Z"
   },
   {
    "duration": 38,
    "start_time": "2022-09-19T07:49:54.544Z"
   },
   {
    "duration": 17,
    "start_time": "2022-09-19T07:49:54.584Z"
   },
   {
    "duration": 33,
    "start_time": "2022-09-19T07:49:54.603Z"
   },
   {
    "duration": 27,
    "start_time": "2022-09-19T07:49:54.639Z"
   },
   {
    "duration": 18,
    "start_time": "2022-09-19T07:49:54.669Z"
   },
   {
    "duration": 19,
    "start_time": "2022-09-19T07:49:54.689Z"
   },
   {
    "duration": 19,
    "start_time": "2022-09-19T07:49:54.711Z"
   },
   {
    "duration": 11,
    "start_time": "2022-09-19T07:49:54.732Z"
   },
   {
    "duration": 20,
    "start_time": "2022-09-19T07:49:54.745Z"
   },
   {
    "duration": 15,
    "start_time": "2022-09-19T07:49:54.766Z"
   },
   {
    "duration": 8,
    "start_time": "2022-09-19T07:49:54.785Z"
   },
   {
    "duration": 8,
    "start_time": "2022-09-19T07:49:54.795Z"
   },
   {
    "duration": 4,
    "start_time": "2022-09-19T07:49:54.848Z"
   },
   {
    "duration": 15,
    "start_time": "2022-09-19T07:49:54.854Z"
   },
   {
    "duration": 97,
    "start_time": "2022-09-19T07:49:54.874Z"
   },
   {
    "duration": 25,
    "start_time": "2022-09-19T07:49:54.973Z"
   },
   {
    "duration": 4,
    "start_time": "2022-09-19T07:52:14.011Z"
   },
   {
    "duration": 3,
    "start_time": "2022-09-19T07:52:40.513Z"
   },
   {
    "duration": 4,
    "start_time": "2022-09-19T07:52:50.163Z"
   },
   {
    "duration": 3,
    "start_time": "2022-09-19T07:54:50.856Z"
   },
   {
    "duration": 5,
    "start_time": "2022-09-19T07:55:03.223Z"
   },
   {
    "duration": 7,
    "start_time": "2022-09-19T07:55:21.487Z"
   },
   {
    "duration": 4,
    "start_time": "2022-09-19T07:55:28.538Z"
   },
   {
    "duration": 93,
    "start_time": "2022-09-19T07:57:25.495Z"
   },
   {
    "duration": 4,
    "start_time": "2022-09-19T07:58:43.503Z"
   },
   {
    "duration": 4,
    "start_time": "2022-09-19T07:58:54.110Z"
   },
   {
    "duration": 8,
    "start_time": "2022-09-19T07:59:15.035Z"
   },
   {
    "duration": 4,
    "start_time": "2022-09-19T07:59:36.609Z"
   },
   {
    "duration": 8,
    "start_time": "2022-09-19T07:59:46.544Z"
   },
   {
    "duration": 4,
    "start_time": "2022-09-19T07:59:50.643Z"
   },
   {
    "duration": 4,
    "start_time": "2022-09-19T08:00:18.912Z"
   },
   {
    "duration": 150,
    "start_time": "2022-09-19T08:00:54.505Z"
   },
   {
    "duration": 134,
    "start_time": "2022-09-19T08:01:04.429Z"
   },
   {
    "duration": 132,
    "start_time": "2022-09-19T08:01:15.787Z"
   },
   {
    "duration": 122,
    "start_time": "2022-09-19T08:02:30.688Z"
   },
   {
    "duration": 4,
    "start_time": "2022-09-19T08:04:39.727Z"
   },
   {
    "duration": 168,
    "start_time": "2022-09-19T08:04:59.244Z"
   },
   {
    "duration": 149,
    "start_time": "2022-09-19T08:05:10.881Z"
   },
   {
    "duration": 3,
    "start_time": "2022-09-19T08:05:42.027Z"
   },
   {
    "duration": 5,
    "start_time": "2022-09-19T08:05:42.284Z"
   },
   {
    "duration": 137,
    "start_time": "2022-09-19T08:05:43.281Z"
   },
   {
    "duration": 5,
    "start_time": "2022-09-19T08:05:55.585Z"
   },
   {
    "duration": 162,
    "start_time": "2022-09-19T08:06:04.191Z"
   },
   {
    "duration": 698,
    "start_time": "2022-09-19T08:06:17.311Z"
   },
   {
    "duration": 28,
    "start_time": "2022-09-19T08:06:18.010Z"
   },
   {
    "duration": 14,
    "start_time": "2022-09-19T08:06:18.042Z"
   },
   {
    "duration": 15,
    "start_time": "2022-09-19T08:06:18.059Z"
   },
   {
    "duration": 35,
    "start_time": "2022-09-19T08:06:18.075Z"
   },
   {
    "duration": 6,
    "start_time": "2022-09-19T08:06:18.112Z"
   },
   {
    "duration": 12,
    "start_time": "2022-09-19T08:06:18.120Z"
   },
   {
    "duration": 7,
    "start_time": "2022-09-19T08:06:18.134Z"
   },
   {
    "duration": 7,
    "start_time": "2022-09-19T08:06:18.142Z"
   },
   {
    "duration": 7,
    "start_time": "2022-09-19T08:06:18.151Z"
   },
   {
    "duration": 10,
    "start_time": "2022-09-19T08:06:18.160Z"
   },
   {
    "duration": 17,
    "start_time": "2022-09-19T08:06:18.171Z"
   },
   {
    "duration": 16,
    "start_time": "2022-09-19T08:06:18.191Z"
   },
   {
    "duration": 5,
    "start_time": "2022-09-19T08:06:18.209Z"
   },
   {
    "duration": 7,
    "start_time": "2022-09-19T08:06:18.216Z"
   },
   {
    "duration": 11,
    "start_time": "2022-09-19T08:06:18.224Z"
   },
   {
    "duration": 10,
    "start_time": "2022-09-19T08:06:18.237Z"
   },
   {
    "duration": 5,
    "start_time": "2022-09-19T08:06:18.249Z"
   },
   {
    "duration": 5,
    "start_time": "2022-09-19T08:06:18.255Z"
   },
   {
    "duration": 6,
    "start_time": "2022-09-19T08:06:18.261Z"
   },
   {
    "duration": 4,
    "start_time": "2022-09-19T08:06:18.269Z"
   },
   {
    "duration": 9,
    "start_time": "2022-09-19T08:06:18.274Z"
   },
   {
    "duration": 15,
    "start_time": "2022-09-19T08:06:18.285Z"
   },
   {
    "duration": 147,
    "start_time": "2022-09-19T08:06:18.302Z"
   },
   {
    "duration": 4,
    "start_time": "2022-09-19T08:06:18.450Z"
   },
   {
    "duration": 7,
    "start_time": "2022-09-19T08:06:18.456Z"
   },
   {
    "duration": 6,
    "start_time": "2022-09-19T08:06:18.465Z"
   },
   {
    "duration": 81,
    "start_time": "2022-09-19T08:06:18.472Z"
   },
   {
    "duration": 9,
    "start_time": "2022-09-19T08:06:18.555Z"
   },
   {
    "duration": 85,
    "start_time": "2022-09-19T08:06:18.566Z"
   },
   {
    "duration": 9,
    "start_time": "2022-09-19T08:06:18.653Z"
   },
   {
    "duration": 134,
    "start_time": "2022-09-19T08:06:23.848Z"
   },
   {
    "duration": 3,
    "start_time": "2022-09-19T08:06:59.695Z"
   },
   {
    "duration": 85,
    "start_time": "2022-09-19T08:07:13.399Z"
   },
   {
    "duration": 7,
    "start_time": "2022-09-19T08:07:20.258Z"
   },
   {
    "duration": 7,
    "start_time": "2022-09-19T08:07:44.890Z"
   },
   {
    "duration": 136,
    "start_time": "2022-09-19T08:08:15.743Z"
   },
   {
    "duration": 8,
    "start_time": "2022-09-19T08:08:25.163Z"
   },
   {
    "duration": 8,
    "start_time": "2022-09-19T08:08:54.600Z"
   },
   {
    "duration": 126,
    "start_time": "2022-09-19T08:09:33.919Z"
   },
   {
    "duration": 7,
    "start_time": "2022-09-19T08:09:44.450Z"
   },
   {
    "duration": 183,
    "start_time": "2022-09-19T08:09:50.453Z"
   },
   {
    "duration": 688,
    "start_time": "2022-09-19T08:11:24.917Z"
   },
   {
    "duration": 28,
    "start_time": "2022-09-19T08:11:25.607Z"
   },
   {
    "duration": 12,
    "start_time": "2022-09-19T08:11:25.637Z"
   },
   {
    "duration": 13,
    "start_time": "2022-09-19T08:11:25.650Z"
   },
   {
    "duration": 32,
    "start_time": "2022-09-19T08:11:25.664Z"
   },
   {
    "duration": 8,
    "start_time": "2022-09-19T08:11:25.698Z"
   },
   {
    "duration": 9,
    "start_time": "2022-09-19T08:11:25.708Z"
   },
   {
    "duration": 19,
    "start_time": "2022-09-19T08:11:25.718Z"
   },
   {
    "duration": 3,
    "start_time": "2022-09-19T08:11:25.739Z"
   },
   {
    "duration": 7,
    "start_time": "2022-09-19T08:11:25.745Z"
   },
   {
    "duration": 7,
    "start_time": "2022-09-19T08:11:25.753Z"
   },
   {
    "duration": 7,
    "start_time": "2022-09-19T08:11:25.761Z"
   },
   {
    "duration": 14,
    "start_time": "2022-09-19T08:11:25.770Z"
   },
   {
    "duration": 6,
    "start_time": "2022-09-19T08:11:25.785Z"
   },
   {
    "duration": 6,
    "start_time": "2022-09-19T08:11:25.793Z"
   },
   {
    "duration": 11,
    "start_time": "2022-09-19T08:11:25.800Z"
   },
   {
    "duration": 8,
    "start_time": "2022-09-19T08:11:25.813Z"
   },
   {
    "duration": 26,
    "start_time": "2022-09-19T08:11:25.823Z"
   },
   {
    "duration": 20,
    "start_time": "2022-09-19T08:11:25.851Z"
   },
   {
    "duration": 8,
    "start_time": "2022-09-19T08:11:25.874Z"
   },
   {
    "duration": 8,
    "start_time": "2022-09-19T08:11:25.884Z"
   },
   {
    "duration": 6,
    "start_time": "2022-09-19T08:11:25.894Z"
   },
   {
    "duration": 7,
    "start_time": "2022-09-19T08:11:25.901Z"
   },
   {
    "duration": 38,
    "start_time": "2022-09-19T08:11:25.911Z"
   },
   {
    "duration": 268,
    "start_time": "2022-09-19T08:11:25.951Z"
   },
   {
    "duration": 3,
    "start_time": "2022-09-19T08:11:26.221Z"
   },
   {
    "duration": 16,
    "start_time": "2022-09-19T08:11:26.228Z"
   },
   {
    "duration": 18,
    "start_time": "2022-09-19T08:11:26.248Z"
   },
   {
    "duration": 10,
    "start_time": "2022-09-19T08:11:26.268Z"
   },
   {
    "duration": 153,
    "start_time": "2022-09-19T08:11:28.773Z"
   },
   {
    "duration": 5,
    "start_time": "2022-09-19T08:16:59.999Z"
   },
   {
    "duration": 5,
    "start_time": "2022-09-19T08:17:05.122Z"
   },
   {
    "duration": 196,
    "start_time": "2022-09-19T08:17:56.146Z"
   },
   {
    "duration": 4,
    "start_time": "2022-09-19T08:18:07.419Z"
   },
   {
    "duration": 75,
    "start_time": "2022-09-19T08:18:20.099Z"
   },
   {
    "duration": 3,
    "start_time": "2022-09-19T08:18:28.815Z"
   },
   {
    "duration": 3,
    "start_time": "2022-09-19T08:21:53.732Z"
   },
   {
    "duration": 1701,
    "start_time": "2022-09-19T08:23:42.726Z"
   },
   {
    "duration": 1247,
    "start_time": "2022-09-19T08:23:49.137Z"
   },
   {
    "duration": 5,
    "start_time": "2022-09-19T08:24:03.726Z"
   },
   {
    "duration": 11,
    "start_time": "2022-09-19T08:24:19.295Z"
   },
   {
    "duration": 4,
    "start_time": "2022-09-19T08:24:33.306Z"
   },
   {
    "duration": 4,
    "start_time": "2022-09-19T08:24:47.153Z"
   },
   {
    "duration": 70,
    "start_time": "2022-09-19T08:24:54.006Z"
   },
   {
    "duration": 75,
    "start_time": "2022-09-19T08:25:01.928Z"
   },
   {
    "duration": 4,
    "start_time": "2022-09-19T08:25:22.159Z"
   },
   {
    "duration": 68,
    "start_time": "2022-09-19T08:25:22.670Z"
   },
   {
    "duration": 12,
    "start_time": "2022-09-19T08:25:28.395Z"
   },
   {
    "duration": 11,
    "start_time": "2022-09-19T08:26:02.256Z"
   },
   {
    "duration": 9,
    "start_time": "2022-09-19T08:26:13.712Z"
   },
   {
    "duration": 98,
    "start_time": "2022-09-19T08:26:18.494Z"
   },
   {
    "duration": 63,
    "start_time": "2022-09-19T08:26:24.765Z"
   },
   {
    "duration": 55,
    "start_time": "2022-09-19T08:26:55.590Z"
   },
   {
    "duration": 3,
    "start_time": "2022-09-19T08:27:17.620Z"
   },
   {
    "duration": 4,
    "start_time": "2022-09-19T08:27:31.654Z"
   },
   {
    "duration": 3,
    "start_time": "2022-09-19T08:31:36.963Z"
   },
   {
    "duration": 4,
    "start_time": "2022-09-19T08:31:39.517Z"
   },
   {
    "duration": 3,
    "start_time": "2022-09-19T08:31:52.491Z"
   },
   {
    "duration": 4,
    "start_time": "2022-09-19T08:31:53.245Z"
   },
   {
    "duration": 5,
    "start_time": "2022-09-19T08:33:08.124Z"
   },
   {
    "duration": 3,
    "start_time": "2022-09-19T08:34:42.859Z"
   },
   {
    "duration": 4,
    "start_time": "2022-09-19T08:34:43.195Z"
   },
   {
    "duration": 811,
    "start_time": "2022-09-19T08:50:05.495Z"
   },
   {
    "duration": 32,
    "start_time": "2022-09-19T08:50:06.308Z"
   },
   {
    "duration": 14,
    "start_time": "2022-09-19T08:50:06.342Z"
   },
   {
    "duration": 17,
    "start_time": "2022-09-19T08:50:06.359Z"
   },
   {
    "duration": 13,
    "start_time": "2022-09-19T08:50:06.379Z"
   },
   {
    "duration": 11,
    "start_time": "2022-09-19T08:50:06.394Z"
   },
   {
    "duration": 15,
    "start_time": "2022-09-19T08:50:06.407Z"
   },
   {
    "duration": 16,
    "start_time": "2022-09-19T08:50:06.425Z"
   },
   {
    "duration": 12,
    "start_time": "2022-09-19T08:50:06.446Z"
   },
   {
    "duration": 16,
    "start_time": "2022-09-19T08:50:06.459Z"
   },
   {
    "duration": 11,
    "start_time": "2022-09-19T08:50:06.477Z"
   },
   {
    "duration": 11,
    "start_time": "2022-09-19T08:50:06.489Z"
   },
   {
    "duration": 14,
    "start_time": "2022-09-19T08:50:06.501Z"
   },
   {
    "duration": 6,
    "start_time": "2022-09-19T08:50:06.518Z"
   },
   {
    "duration": 6,
    "start_time": "2022-09-19T08:50:06.526Z"
   },
   {
    "duration": 14,
    "start_time": "2022-09-19T08:50:06.533Z"
   },
   {
    "duration": 8,
    "start_time": "2022-09-19T08:50:06.549Z"
   },
   {
    "duration": 6,
    "start_time": "2022-09-19T08:50:06.559Z"
   },
   {
    "duration": 83,
    "start_time": "2022-09-19T08:50:06.566Z"
   },
   {
    "duration": 0,
    "start_time": "2022-09-19T08:50:06.651Z"
   },
   {
    "duration": 0,
    "start_time": "2022-09-19T08:50:06.652Z"
   },
   {
    "duration": 0,
    "start_time": "2022-09-19T08:50:06.653Z"
   },
   {
    "duration": 0,
    "start_time": "2022-09-19T08:50:06.654Z"
   },
   {
    "duration": 0,
    "start_time": "2022-09-19T08:50:06.655Z"
   },
   {
    "duration": 0,
    "start_time": "2022-09-19T08:50:06.656Z"
   },
   {
    "duration": 3,
    "start_time": "2022-09-19T08:50:16.603Z"
   },
   {
    "duration": 692,
    "start_time": "2022-09-19T08:50:20.021Z"
   },
   {
    "duration": 28,
    "start_time": "2022-09-19T08:50:20.715Z"
   },
   {
    "duration": 12,
    "start_time": "2022-09-19T08:50:20.745Z"
   },
   {
    "duration": 16,
    "start_time": "2022-09-19T08:50:20.759Z"
   },
   {
    "duration": 18,
    "start_time": "2022-09-19T08:50:20.777Z"
   },
   {
    "duration": 13,
    "start_time": "2022-09-19T08:50:20.797Z"
   },
   {
    "duration": 24,
    "start_time": "2022-09-19T08:50:20.811Z"
   },
   {
    "duration": 24,
    "start_time": "2022-09-19T08:50:20.837Z"
   },
   {
    "duration": 15,
    "start_time": "2022-09-19T08:50:20.862Z"
   },
   {
    "duration": 31,
    "start_time": "2022-09-19T08:50:20.879Z"
   },
   {
    "duration": 20,
    "start_time": "2022-09-19T08:50:20.912Z"
   },
   {
    "duration": 16,
    "start_time": "2022-09-19T08:50:20.933Z"
   },
   {
    "duration": 27,
    "start_time": "2022-09-19T08:50:20.951Z"
   },
   {
    "duration": 11,
    "start_time": "2022-09-19T08:50:20.980Z"
   },
   {
    "duration": 25,
    "start_time": "2022-09-19T08:50:20.992Z"
   },
   {
    "duration": 19,
    "start_time": "2022-09-19T08:50:21.018Z"
   },
   {
    "duration": 5,
    "start_time": "2022-09-19T08:50:21.039Z"
   },
   {
    "duration": 7,
    "start_time": "2022-09-19T08:50:21.046Z"
   },
   {
    "duration": 7,
    "start_time": "2022-09-19T08:50:21.054Z"
   },
   {
    "duration": 85,
    "start_time": "2022-09-19T08:50:21.063Z"
   },
   {
    "duration": 0,
    "start_time": "2022-09-19T08:50:21.151Z"
   },
   {
    "duration": 0,
    "start_time": "2022-09-19T08:50:21.152Z"
   },
   {
    "duration": 0,
    "start_time": "2022-09-19T08:50:21.153Z"
   },
   {
    "duration": 0,
    "start_time": "2022-09-19T08:50:21.155Z"
   },
   {
    "duration": 0,
    "start_time": "2022-09-19T08:50:21.157Z"
   },
   {
    "duration": 623,
    "start_time": "2022-09-19T08:50:39.101Z"
   },
   {
    "duration": 28,
    "start_time": "2022-09-19T08:50:39.725Z"
   },
   {
    "duration": 11,
    "start_time": "2022-09-19T08:50:39.754Z"
   },
   {
    "duration": 6,
    "start_time": "2022-09-19T08:50:39.766Z"
   },
   {
    "duration": 9,
    "start_time": "2022-09-19T08:50:39.774Z"
   },
   {
    "duration": 5,
    "start_time": "2022-09-19T08:50:39.785Z"
   },
   {
    "duration": 6,
    "start_time": "2022-09-19T08:50:39.792Z"
   },
   {
    "duration": 7,
    "start_time": "2022-09-19T08:50:39.800Z"
   },
   {
    "duration": 5,
    "start_time": "2022-09-19T08:50:39.809Z"
   },
   {
    "duration": 31,
    "start_time": "2022-09-19T08:50:39.816Z"
   },
   {
    "duration": 6,
    "start_time": "2022-09-19T08:50:39.848Z"
   },
   {
    "duration": 14,
    "start_time": "2022-09-19T08:50:39.855Z"
   },
   {
    "duration": 9,
    "start_time": "2022-09-19T08:50:39.870Z"
   },
   {
    "duration": 5,
    "start_time": "2022-09-19T08:50:39.881Z"
   },
   {
    "duration": 6,
    "start_time": "2022-09-19T08:50:39.887Z"
   },
   {
    "duration": 9,
    "start_time": "2022-09-19T08:50:39.895Z"
   },
   {
    "duration": 5,
    "start_time": "2022-09-19T08:50:39.905Z"
   },
   {
    "duration": 35,
    "start_time": "2022-09-19T08:50:39.912Z"
   },
   {
    "duration": 6,
    "start_time": "2022-09-19T08:50:39.949Z"
   },
   {
    "duration": 7,
    "start_time": "2022-09-19T08:50:39.956Z"
   },
   {
    "duration": 7,
    "start_time": "2022-09-19T08:50:39.965Z"
   },
   {
    "duration": 6,
    "start_time": "2022-09-19T08:50:39.974Z"
   },
   {
    "duration": 6,
    "start_time": "2022-09-19T08:50:39.982Z"
   },
   {
    "duration": 60,
    "start_time": "2022-09-19T08:50:39.990Z"
   },
   {
    "duration": 128,
    "start_time": "2022-09-19T08:50:40.052Z"
   },
   {
    "duration": 3,
    "start_time": "2022-09-19T08:52:27.191Z"
   },
   {
    "duration": 4,
    "start_time": "2022-09-19T08:52:36.801Z"
   },
   {
    "duration": 3,
    "start_time": "2022-09-19T08:53:16.445Z"
   },
   {
    "duration": 720,
    "start_time": "2022-09-19T08:53:20.846Z"
   },
   {
    "duration": 28,
    "start_time": "2022-09-19T08:53:21.568Z"
   },
   {
    "duration": 10,
    "start_time": "2022-09-19T08:53:21.598Z"
   },
   {
    "duration": 8,
    "start_time": "2022-09-19T08:53:21.610Z"
   },
   {
    "duration": 9,
    "start_time": "2022-09-19T08:53:21.620Z"
   },
   {
    "duration": 7,
    "start_time": "2022-09-19T08:53:21.631Z"
   },
   {
    "duration": 8,
    "start_time": "2022-09-19T08:53:21.640Z"
   },
   {
    "duration": 5,
    "start_time": "2022-09-19T08:53:21.650Z"
   },
   {
    "duration": 4,
    "start_time": "2022-09-19T08:53:21.657Z"
   },
   {
    "duration": 6,
    "start_time": "2022-09-19T08:53:21.663Z"
   },
   {
    "duration": 8,
    "start_time": "2022-09-19T08:53:21.670Z"
   },
   {
    "duration": 7,
    "start_time": "2022-09-19T08:53:21.680Z"
   },
   {
    "duration": 8,
    "start_time": "2022-09-19T08:53:21.688Z"
   },
   {
    "duration": 5,
    "start_time": "2022-09-19T08:53:21.697Z"
   },
   {
    "duration": 5,
    "start_time": "2022-09-19T08:53:21.704Z"
   },
   {
    "duration": 38,
    "start_time": "2022-09-19T08:53:21.710Z"
   },
   {
    "duration": 6,
    "start_time": "2022-09-19T08:53:21.750Z"
   },
   {
    "duration": 6,
    "start_time": "2022-09-19T08:53:21.757Z"
   },
   {
    "duration": 6,
    "start_time": "2022-09-19T08:53:21.764Z"
   },
   {
    "duration": 7,
    "start_time": "2022-09-19T08:53:21.771Z"
   },
   {
    "duration": 6,
    "start_time": "2022-09-19T08:53:21.780Z"
   },
   {
    "duration": 7,
    "start_time": "2022-09-19T08:53:21.788Z"
   },
   {
    "duration": 8,
    "start_time": "2022-09-19T08:53:21.796Z"
   },
   {
    "duration": 43,
    "start_time": "2022-09-19T08:53:21.806Z"
   },
   {
    "duration": 10,
    "start_time": "2022-09-19T08:53:21.850Z"
   },
   {
    "duration": 87,
    "start_time": "2022-09-19T08:53:21.862Z"
   },
   {
    "duration": 173,
    "start_time": "2022-09-19T08:53:21.950Z"
   },
   {
    "duration": 748,
    "start_time": "2022-09-19T08:57:03.351Z"
   },
   {
    "duration": 28,
    "start_time": "2022-09-19T08:57:04.101Z"
   },
   {
    "duration": 12,
    "start_time": "2022-09-19T08:57:04.131Z"
   },
   {
    "duration": 10,
    "start_time": "2022-09-19T08:57:04.145Z"
   },
   {
    "duration": 11,
    "start_time": "2022-09-19T08:57:04.156Z"
   },
   {
    "duration": 9,
    "start_time": "2022-09-19T08:57:04.169Z"
   },
   {
    "duration": 19,
    "start_time": "2022-09-19T08:57:04.181Z"
   },
   {
    "duration": 10,
    "start_time": "2022-09-19T08:57:04.202Z"
   },
   {
    "duration": 6,
    "start_time": "2022-09-19T08:57:04.213Z"
   },
   {
    "duration": 7,
    "start_time": "2022-09-19T08:57:04.221Z"
   },
   {
    "duration": 17,
    "start_time": "2022-09-19T08:57:04.230Z"
   },
   {
    "duration": 8,
    "start_time": "2022-09-19T08:57:04.249Z"
   },
   {
    "duration": 9,
    "start_time": "2022-09-19T08:57:04.259Z"
   },
   {
    "duration": 6,
    "start_time": "2022-09-19T08:57:04.270Z"
   },
   {
    "duration": 6,
    "start_time": "2022-09-19T08:57:04.278Z"
   },
   {
    "duration": 13,
    "start_time": "2022-09-19T08:57:04.286Z"
   },
   {
    "duration": 4,
    "start_time": "2022-09-19T08:57:04.300Z"
   },
   {
    "duration": 41,
    "start_time": "2022-09-19T08:57:04.306Z"
   },
   {
    "duration": 7,
    "start_time": "2022-09-19T08:57:04.349Z"
   },
   {
    "duration": 6,
    "start_time": "2022-09-19T08:57:04.358Z"
   },
   {
    "duration": 6,
    "start_time": "2022-09-19T08:57:04.365Z"
   },
   {
    "duration": 7,
    "start_time": "2022-09-19T08:57:04.372Z"
   },
   {
    "duration": 77,
    "start_time": "2022-09-19T08:57:04.381Z"
   },
   {
    "duration": 0,
    "start_time": "2022-09-19T08:57:04.459Z"
   },
   {
    "duration": 0,
    "start_time": "2022-09-19T08:57:04.460Z"
   },
   {
    "duration": 0,
    "start_time": "2022-09-19T08:57:04.462Z"
   },
   {
    "duration": 0,
    "start_time": "2022-09-19T08:57:04.463Z"
   },
   {
    "duration": 692,
    "start_time": "2022-09-19T08:57:28.423Z"
   },
   {
    "duration": 28,
    "start_time": "2022-09-19T08:57:29.117Z"
   },
   {
    "duration": 13,
    "start_time": "2022-09-19T08:57:29.146Z"
   },
   {
    "duration": 20,
    "start_time": "2022-09-19T08:57:29.161Z"
   },
   {
    "duration": 11,
    "start_time": "2022-09-19T08:57:29.183Z"
   },
   {
    "duration": 7,
    "start_time": "2022-09-19T08:57:29.196Z"
   },
   {
    "duration": 8,
    "start_time": "2022-09-19T08:57:29.204Z"
   },
   {
    "duration": 8,
    "start_time": "2022-09-19T08:57:29.214Z"
   },
   {
    "duration": 23,
    "start_time": "2022-09-19T08:57:29.224Z"
   },
   {
    "duration": 7,
    "start_time": "2022-09-19T08:57:29.250Z"
   },
   {
    "duration": 9,
    "start_time": "2022-09-19T08:57:29.259Z"
   },
   {
    "duration": 11,
    "start_time": "2022-09-19T08:57:29.270Z"
   },
   {
    "duration": 11,
    "start_time": "2022-09-19T08:57:29.283Z"
   },
   {
    "duration": 6,
    "start_time": "2022-09-19T08:57:29.295Z"
   },
   {
    "duration": 10,
    "start_time": "2022-09-19T08:57:29.303Z"
   },
   {
    "duration": 41,
    "start_time": "2022-09-19T08:57:29.314Z"
   },
   {
    "duration": 4,
    "start_time": "2022-09-19T08:57:29.357Z"
   },
   {
    "duration": 10,
    "start_time": "2022-09-19T08:57:29.363Z"
   },
   {
    "duration": 18,
    "start_time": "2022-09-19T08:57:29.374Z"
   },
   {
    "duration": 8,
    "start_time": "2022-09-19T08:57:29.393Z"
   },
   {
    "duration": 7,
    "start_time": "2022-09-19T08:57:29.402Z"
   },
   {
    "duration": 9,
    "start_time": "2022-09-19T08:57:29.411Z"
   },
   {
    "duration": 9,
    "start_time": "2022-09-19T08:57:29.422Z"
   },
   {
    "duration": 4,
    "start_time": "2022-09-19T08:57:29.448Z"
   },
   {
    "duration": 93,
    "start_time": "2022-09-19T08:57:29.454Z"
   },
   {
    "duration": 4,
    "start_time": "2022-09-19T08:57:29.558Z"
   },
   {
    "duration": 184,
    "start_time": "2022-09-19T08:57:29.564Z"
   },
   {
    "duration": 69,
    "start_time": "2022-09-19T09:04:00.209Z"
   },
   {
    "duration": 694,
    "start_time": "2022-09-19T09:04:25.639Z"
   },
   {
    "duration": 29,
    "start_time": "2022-09-19T09:04:26.335Z"
   },
   {
    "duration": 13,
    "start_time": "2022-09-19T09:04:26.366Z"
   },
   {
    "duration": 13,
    "start_time": "2022-09-19T09:04:26.382Z"
   },
   {
    "duration": 17,
    "start_time": "2022-09-19T09:04:26.397Z"
   },
   {
    "duration": 10,
    "start_time": "2022-09-19T09:04:26.415Z"
   },
   {
    "duration": 15,
    "start_time": "2022-09-19T09:04:26.427Z"
   },
   {
    "duration": 9,
    "start_time": "2022-09-19T09:04:26.445Z"
   },
   {
    "duration": 11,
    "start_time": "2022-09-19T09:04:26.456Z"
   },
   {
    "duration": 19,
    "start_time": "2022-09-19T09:04:26.470Z"
   },
   {
    "duration": 7,
    "start_time": "2022-09-19T09:04:26.491Z"
   },
   {
    "duration": 6,
    "start_time": "2022-09-19T09:04:26.500Z"
   },
   {
    "duration": 6,
    "start_time": "2022-09-19T09:04:26.507Z"
   },
   {
    "duration": 4,
    "start_time": "2022-09-19T09:04:26.515Z"
   },
   {
    "duration": 5,
    "start_time": "2022-09-19T09:04:26.520Z"
   },
   {
    "duration": 20,
    "start_time": "2022-09-19T09:04:26.527Z"
   },
   {
    "duration": 3,
    "start_time": "2022-09-19T09:04:26.548Z"
   },
   {
    "duration": 6,
    "start_time": "2022-09-19T09:04:26.553Z"
   },
   {
    "duration": 5,
    "start_time": "2022-09-19T09:04:26.560Z"
   },
   {
    "duration": 5,
    "start_time": "2022-09-19T09:04:26.566Z"
   },
   {
    "duration": 5,
    "start_time": "2022-09-19T09:04:26.572Z"
   },
   {
    "duration": 6,
    "start_time": "2022-09-19T09:04:26.578Z"
   },
   {
    "duration": 19,
    "start_time": "2022-09-19T09:04:26.585Z"
   },
   {
    "duration": 43,
    "start_time": "2022-09-19T09:04:26.606Z"
   },
   {
    "duration": 5,
    "start_time": "2022-09-19T09:04:26.651Z"
   },
   {
    "duration": 89,
    "start_time": "2022-09-19T09:04:26.659Z"
   },
   {
    "duration": 6,
    "start_time": "2022-09-19T09:04:26.749Z"
   },
   {
    "duration": 3,
    "start_time": "2022-09-19T09:07:24.691Z"
   },
   {
    "duration": 65,
    "start_time": "2022-09-19T09:08:45.330Z"
   },
   {
    "duration": 9,
    "start_time": "2022-09-19T09:08:49.423Z"
   },
   {
    "duration": 4,
    "start_time": "2022-09-19T09:08:56.923Z"
   },
   {
    "duration": 20,
    "start_time": "2022-09-19T09:09:40.628Z"
   },
   {
    "duration": 7,
    "start_time": "2022-09-19T09:10:07.203Z"
   },
   {
    "duration": 813,
    "start_time": "2022-09-19T09:10:10.542Z"
   },
   {
    "duration": 26,
    "start_time": "2022-09-19T09:10:16.623Z"
   },
   {
    "duration": 3,
    "start_time": "2022-09-19T09:12:01.715Z"
   },
   {
    "duration": 11,
    "start_time": "2022-09-19T09:15:01.747Z"
   },
   {
    "duration": 6,
    "start_time": "2022-09-19T09:15:18.062Z"
   },
   {
    "duration": 6,
    "start_time": "2022-09-19T09:15:23.244Z"
   },
   {
    "duration": 49,
    "start_time": "2022-09-19T09:17:53.730Z"
   },
   {
    "duration": 4,
    "start_time": "2022-09-19T09:20:44.435Z"
   },
   {
    "duration": 9,
    "start_time": "2022-09-19T09:20:45.499Z"
   },
   {
    "duration": 2,
    "start_time": "2022-09-19T09:24:44.403Z"
   },
   {
    "duration": 3,
    "start_time": "2022-09-19T09:24:45.631Z"
   },
   {
    "duration": 3,
    "start_time": "2022-09-19T09:25:07.890Z"
   },
   {
    "duration": 4,
    "start_time": "2022-09-19T09:25:08.328Z"
   },
   {
    "duration": 3,
    "start_time": "2022-09-19T09:26:20.867Z"
   },
   {
    "duration": 86,
    "start_time": "2022-09-19T09:27:53.891Z"
   },
   {
    "duration": 47,
    "start_time": "2022-09-19T09:28:37.153Z"
   },
   {
    "duration": 6,
    "start_time": "2022-09-19T09:31:44.851Z"
   },
   {
    "duration": 5,
    "start_time": "2022-09-19T09:31:46.760Z"
   },
   {
    "duration": 44,
    "start_time": "2022-09-19T09:31:47.260Z"
   },
   {
    "duration": 1482,
    "start_time": "2022-09-19T09:32:02.884Z"
   },
   {
    "duration": 28,
    "start_time": "2022-09-19T09:32:04.368Z"
   },
   {
    "duration": 10,
    "start_time": "2022-09-19T09:32:04.398Z"
   },
   {
    "duration": 20,
    "start_time": "2022-09-19T09:32:04.409Z"
   },
   {
    "duration": 13,
    "start_time": "2022-09-19T09:32:04.432Z"
   },
   {
    "duration": 5,
    "start_time": "2022-09-19T09:32:04.447Z"
   },
   {
    "duration": 7,
    "start_time": "2022-09-19T09:32:04.454Z"
   },
   {
    "duration": 6,
    "start_time": "2022-09-19T09:32:04.463Z"
   },
   {
    "duration": 7,
    "start_time": "2022-09-19T09:32:04.470Z"
   },
   {
    "duration": 11,
    "start_time": "2022-09-19T09:32:04.478Z"
   },
   {
    "duration": 13,
    "start_time": "2022-09-19T09:32:04.490Z"
   },
   {
    "duration": 7,
    "start_time": "2022-09-19T09:32:04.504Z"
   },
   {
    "duration": 8,
    "start_time": "2022-09-19T09:32:04.512Z"
   },
   {
    "duration": 5,
    "start_time": "2022-09-19T09:32:04.522Z"
   },
   {
    "duration": 19,
    "start_time": "2022-09-19T09:32:04.528Z"
   },
   {
    "duration": 20,
    "start_time": "2022-09-19T09:32:04.548Z"
   },
   {
    "duration": 7,
    "start_time": "2022-09-19T09:32:04.570Z"
   },
   {
    "duration": 6,
    "start_time": "2022-09-19T09:32:04.578Z"
   },
   {
    "duration": 5,
    "start_time": "2022-09-19T09:32:04.586Z"
   },
   {
    "duration": 6,
    "start_time": "2022-09-19T09:32:04.593Z"
   },
   {
    "duration": 6,
    "start_time": "2022-09-19T09:32:04.601Z"
   },
   {
    "duration": 4,
    "start_time": "2022-09-19T09:32:04.609Z"
   },
   {
    "duration": 33,
    "start_time": "2022-09-19T09:32:04.615Z"
   },
   {
    "duration": 98,
    "start_time": "2022-09-19T09:32:04.650Z"
   },
   {
    "duration": 108,
    "start_time": "2022-09-19T09:32:04.750Z"
   },
   {
    "duration": 4,
    "start_time": "2022-09-19T09:32:25.599Z"
   },
   {
    "duration": 13,
    "start_time": "2022-09-19T09:32:25.928Z"
   },
   {
    "duration": 4,
    "start_time": "2022-09-19T09:32:33.407Z"
   },
   {
    "duration": 13,
    "start_time": "2022-09-19T09:32:34.134Z"
   },
   {
    "duration": 3,
    "start_time": "2022-09-19T09:34:40.539Z"
   },
   {
    "duration": 6,
    "start_time": "2022-09-19T09:34:41.127Z"
   },
   {
    "duration": 4,
    "start_time": "2022-09-19T09:35:04.662Z"
   },
   {
    "duration": 14,
    "start_time": "2022-09-19T09:35:04.957Z"
   },
   {
    "duration": 3,
    "start_time": "2022-09-19T09:36:58.046Z"
   },
   {
    "duration": 3,
    "start_time": "2022-09-19T09:36:58.303Z"
   },
   {
    "duration": 3,
    "start_time": "2022-09-19T09:36:59.632Z"
   },
   {
    "duration": 3,
    "start_time": "2022-09-19T09:36:59.795Z"
   },
   {
    "duration": 3,
    "start_time": "2022-09-19T09:37:00.143Z"
   },
   {
    "duration": 6,
    "start_time": "2022-09-19T09:37:00.256Z"
   },
   {
    "duration": 4,
    "start_time": "2022-09-19T09:37:05.215Z"
   },
   {
    "duration": 7,
    "start_time": "2022-09-19T09:37:05.603Z"
   },
   {
    "duration": 5,
    "start_time": "2022-09-19T09:37:33.952Z"
   },
   {
    "duration": 46,
    "start_time": "2022-09-19T09:37:34.302Z"
   },
   {
    "duration": 8,
    "start_time": "2022-09-19T09:37:47.403Z"
   },
   {
    "duration": 8,
    "start_time": "2022-09-19T09:38:20.597Z"
   },
   {
    "duration": 9,
    "start_time": "2022-09-19T09:38:45.441Z"
   },
   {
    "duration": 9,
    "start_time": "2022-09-19T09:38:50.875Z"
   },
   {
    "duration": 5,
    "start_time": "2022-09-19T09:45:41.607Z"
   },
   {
    "duration": 12,
    "start_time": "2022-09-19T09:45:42.094Z"
   },
   {
    "duration": 3,
    "start_time": "2022-09-19T10:00:20.299Z"
   },
   {
    "duration": 4,
    "start_time": "2022-09-19T10:00:20.557Z"
   },
   {
    "duration": 3,
    "start_time": "2022-09-19T10:00:24.368Z"
   },
   {
    "duration": 5,
    "start_time": "2022-09-19T10:00:24.724Z"
   },
   {
    "duration": 81,
    "start_time": "2022-09-19T10:01:44.506Z"
   },
   {
    "duration": 35,
    "start_time": "2022-09-19T10:02:02.715Z"
   },
   {
    "duration": 2,
    "start_time": "2022-09-19T10:02:10.295Z"
   },
   {
    "duration": 1409,
    "start_time": "2022-09-19T10:02:29.507Z"
   },
   {
    "duration": 28,
    "start_time": "2022-09-19T10:02:30.918Z"
   },
   {
    "duration": 13,
    "start_time": "2022-09-19T10:02:30.948Z"
   },
   {
    "duration": 14,
    "start_time": "2022-09-19T10:02:30.963Z"
   },
   {
    "duration": 18,
    "start_time": "2022-09-19T10:02:30.979Z"
   },
   {
    "duration": 15,
    "start_time": "2022-09-19T10:02:30.998Z"
   },
   {
    "duration": 15,
    "start_time": "2022-09-19T10:02:31.014Z"
   },
   {
    "duration": 13,
    "start_time": "2022-09-19T10:02:31.031Z"
   },
   {
    "duration": 17,
    "start_time": "2022-09-19T10:02:31.046Z"
   },
   {
    "duration": 14,
    "start_time": "2022-09-19T10:02:31.065Z"
   },
   {
    "duration": 14,
    "start_time": "2022-09-19T10:02:31.080Z"
   },
   {
    "duration": 23,
    "start_time": "2022-09-19T10:02:31.096Z"
   },
   {
    "duration": 26,
    "start_time": "2022-09-19T10:02:31.121Z"
   },
   {
    "duration": 8,
    "start_time": "2022-09-19T10:02:31.150Z"
   },
   {
    "duration": 8,
    "start_time": "2022-09-19T10:02:31.159Z"
   },
   {
    "duration": 15,
    "start_time": "2022-09-19T10:02:31.168Z"
   },
   {
    "duration": 17,
    "start_time": "2022-09-19T10:02:31.185Z"
   },
   {
    "duration": 11,
    "start_time": "2022-09-19T10:02:31.204Z"
   },
   {
    "duration": 11,
    "start_time": "2022-09-19T10:02:31.217Z"
   },
   {
    "duration": 6,
    "start_time": "2022-09-19T10:02:31.229Z"
   },
   {
    "duration": 9,
    "start_time": "2022-09-19T10:02:31.237Z"
   },
   {
    "duration": 18,
    "start_time": "2022-09-19T10:02:31.248Z"
   },
   {
    "duration": 12,
    "start_time": "2022-09-19T10:02:31.267Z"
   },
   {
    "duration": 351,
    "start_time": "2022-09-19T10:02:31.281Z"
   },
   {
    "duration": 7,
    "start_time": "2022-09-19T10:02:52.227Z"
   },
   {
    "duration": 37,
    "start_time": "2022-09-19T10:04:37.810Z"
   },
   {
    "duration": 10,
    "start_time": "2022-09-19T10:04:58.243Z"
   },
   {
    "duration": 3,
    "start_time": "2022-09-19T10:23:38.103Z"
   },
   {
    "duration": 48,
    "start_time": "2022-09-19T13:40:08.129Z"
   },
   {
    "duration": 6,
    "start_time": "2022-09-19T13:45:27.748Z"
   },
   {
    "duration": 1500,
    "start_time": "2022-09-19T13:45:33.218Z"
   },
   {
    "duration": 86,
    "start_time": "2022-09-19T13:45:34.720Z"
   },
   {
    "duration": 12,
    "start_time": "2022-09-19T13:45:34.809Z"
   },
   {
    "duration": 9,
    "start_time": "2022-09-19T13:45:34.823Z"
   },
   {
    "duration": 10,
    "start_time": "2022-09-19T13:45:34.834Z"
   },
   {
    "duration": 8,
    "start_time": "2022-09-19T13:45:34.846Z"
   },
   {
    "duration": 7,
    "start_time": "2022-09-19T13:45:34.855Z"
   },
   {
    "duration": 13,
    "start_time": "2022-09-19T13:45:34.864Z"
   },
   {
    "duration": 12,
    "start_time": "2022-09-19T13:45:34.878Z"
   },
   {
    "duration": 12,
    "start_time": "2022-09-19T13:45:34.893Z"
   },
   {
    "duration": 13,
    "start_time": "2022-09-19T13:45:34.907Z"
   },
   {
    "duration": 7,
    "start_time": "2022-09-19T13:45:34.922Z"
   },
   {
    "duration": 8,
    "start_time": "2022-09-19T13:45:34.931Z"
   },
   {
    "duration": 8,
    "start_time": "2022-09-19T13:45:34.940Z"
   },
   {
    "duration": 5,
    "start_time": "2022-09-19T13:45:34.950Z"
   },
   {
    "duration": 32,
    "start_time": "2022-09-19T13:45:34.957Z"
   },
   {
    "duration": 3,
    "start_time": "2022-09-19T13:45:34.991Z"
   },
   {
    "duration": 5,
    "start_time": "2022-09-19T13:45:34.996Z"
   },
   {
    "duration": 14,
    "start_time": "2022-09-19T13:45:35.003Z"
   },
   {
    "duration": 4,
    "start_time": "2022-09-19T13:45:35.019Z"
   },
   {
    "duration": 12,
    "start_time": "2022-09-19T13:45:35.025Z"
   },
   {
    "duration": 51,
    "start_time": "2022-09-19T13:45:35.039Z"
   },
   {
    "duration": 100,
    "start_time": "2022-09-19T13:45:35.092Z"
   },
   {
    "duration": 19,
    "start_time": "2022-09-19T13:45:35.194Z"
   },
   {
    "duration": 110,
    "start_time": "2022-09-19T13:45:35.292Z"
   },
   {
    "duration": 85,
    "start_time": "2022-09-19T13:45:35.404Z"
   },
   {
    "duration": 4,
    "start_time": "2022-09-20T05:24:38.889Z"
   },
   {
    "duration": 47,
    "start_time": "2022-09-20T05:27:03.646Z"
   },
   {
    "duration": 1591,
    "start_time": "2022-09-20T05:27:11.284Z"
   },
   {
    "duration": 122,
    "start_time": "2022-09-20T05:27:12.877Z"
   },
   {
    "duration": 34,
    "start_time": "2022-09-20T05:27:13.001Z"
   },
   {
    "duration": 7,
    "start_time": "2022-09-20T05:27:13.040Z"
   },
   {
    "duration": 9,
    "start_time": "2022-09-20T05:27:13.049Z"
   },
   {
    "duration": 12,
    "start_time": "2022-09-20T05:27:13.060Z"
   },
   {
    "duration": 8,
    "start_time": "2022-09-20T05:27:13.074Z"
   },
   {
    "duration": 20,
    "start_time": "2022-09-20T05:27:13.084Z"
   },
   {
    "duration": 32,
    "start_time": "2022-09-20T05:27:13.106Z"
   },
   {
    "duration": 14,
    "start_time": "2022-09-20T05:27:13.140Z"
   },
   {
    "duration": 13,
    "start_time": "2022-09-20T05:27:13.156Z"
   },
   {
    "duration": 29,
    "start_time": "2022-09-20T05:27:13.170Z"
   },
   {
    "duration": 10,
    "start_time": "2022-09-20T05:27:13.201Z"
   },
   {
    "duration": 65,
    "start_time": "2022-09-20T05:27:13.213Z"
   },
   {
    "duration": 14,
    "start_time": "2022-09-20T05:27:13.279Z"
   },
   {
    "duration": 13,
    "start_time": "2022-09-20T05:27:13.295Z"
   },
   {
    "duration": 33,
    "start_time": "2022-09-20T05:27:13.309Z"
   },
   {
    "duration": 7,
    "start_time": "2022-09-20T05:27:13.344Z"
   },
   {
    "duration": 7,
    "start_time": "2022-09-20T05:27:13.352Z"
   },
   {
    "duration": 7,
    "start_time": "2022-09-20T05:27:13.360Z"
   },
   {
    "duration": 6,
    "start_time": "2022-09-20T05:27:13.369Z"
   },
   {
    "duration": 6,
    "start_time": "2022-09-20T05:27:13.377Z"
   },
   {
    "duration": 159,
    "start_time": "2022-09-20T05:27:13.384Z"
   },
   {
    "duration": 128,
    "start_time": "2022-09-20T05:27:13.545Z"
   },
   {
    "duration": 0,
    "start_time": "2022-09-20T05:27:13.674Z"
   },
   {
    "duration": 0,
    "start_time": "2022-09-20T05:27:13.675Z"
   },
   {
    "duration": 0,
    "start_time": "2022-09-20T05:27:13.676Z"
   },
   {
    "duration": 0,
    "start_time": "2022-09-20T05:27:13.677Z"
   },
   {
    "duration": 3,
    "start_time": "2022-09-20T05:27:28.681Z"
   },
   {
    "duration": 6,
    "start_time": "2022-09-20T05:27:31.362Z"
   },
   {
    "duration": 4,
    "start_time": "2022-09-20T05:28:05.800Z"
   },
   {
    "duration": 3,
    "start_time": "2022-09-20T05:28:08.442Z"
   },
   {
    "duration": 3,
    "start_time": "2022-09-20T05:28:18.398Z"
   },
   {
    "duration": 3,
    "start_time": "2022-09-20T05:28:42.250Z"
   },
   {
    "duration": 5,
    "start_time": "2022-09-20T05:28:42.579Z"
   },
   {
    "duration": 6,
    "start_time": "2022-09-20T05:28:57.128Z"
   },
   {
    "duration": 3,
    "start_time": "2022-09-20T05:28:57.342Z"
   },
   {
    "duration": 1295,
    "start_time": "2022-09-20T05:29:57.765Z"
   },
   {
    "duration": 31,
    "start_time": "2022-09-20T05:29:59.063Z"
   },
   {
    "duration": 12,
    "start_time": "2022-09-20T05:29:59.096Z"
   },
   {
    "duration": 15,
    "start_time": "2022-09-20T05:29:59.127Z"
   },
   {
    "duration": 9,
    "start_time": "2022-09-20T05:29:59.147Z"
   },
   {
    "duration": 7,
    "start_time": "2022-09-20T05:29:59.157Z"
   },
   {
    "duration": 6,
    "start_time": "2022-09-20T05:29:59.166Z"
   },
   {
    "duration": 6,
    "start_time": "2022-09-20T05:29:59.174Z"
   },
   {
    "duration": 3,
    "start_time": "2022-09-20T05:29:59.182Z"
   },
   {
    "duration": 8,
    "start_time": "2022-09-20T05:29:59.188Z"
   },
   {
    "duration": 6,
    "start_time": "2022-09-20T05:29:59.198Z"
   },
   {
    "duration": 38,
    "start_time": "2022-09-20T05:29:59.205Z"
   },
   {
    "duration": 7,
    "start_time": "2022-09-20T05:29:59.245Z"
   },
   {
    "duration": 11,
    "start_time": "2022-09-20T05:29:59.254Z"
   },
   {
    "duration": 11,
    "start_time": "2022-09-20T05:29:59.267Z"
   },
   {
    "duration": 12,
    "start_time": "2022-09-20T05:29:59.280Z"
   },
   {
    "duration": 11,
    "start_time": "2022-09-20T05:29:59.294Z"
   },
   {
    "duration": 28,
    "start_time": "2022-09-20T05:29:59.306Z"
   },
   {
    "duration": 8,
    "start_time": "2022-09-20T05:29:59.336Z"
   },
   {
    "duration": 5,
    "start_time": "2022-09-20T05:29:59.346Z"
   },
   {
    "duration": 7,
    "start_time": "2022-09-20T05:29:59.352Z"
   },
   {
    "duration": 17,
    "start_time": "2022-09-20T05:29:59.360Z"
   },
   {
    "duration": 57,
    "start_time": "2022-09-20T05:29:59.378Z"
   },
   {
    "duration": 14,
    "start_time": "2022-09-20T05:29:59.436Z"
   },
   {
    "duration": 90,
    "start_time": "2022-09-20T05:29:59.451Z"
   },
   {
    "duration": 111,
    "start_time": "2022-09-20T05:29:59.542Z"
   },
   {
    "duration": 64,
    "start_time": "2022-09-20T05:29:59.655Z"
   },
   {
    "duration": 7,
    "start_time": "2022-09-20T05:29:59.733Z"
   },
   {
    "duration": 5,
    "start_time": "2022-09-20T05:29:59.742Z"
   },
   {
    "duration": 166,
    "start_time": "2022-09-20T05:29:59.749Z"
   },
   {
    "duration": 26,
    "start_time": "2022-09-20T05:29:59.916Z"
   },
   {
    "duration": 10,
    "start_time": "2022-09-20T05:29:59.944Z"
   },
   {
    "duration": 191,
    "start_time": "2022-09-20T05:29:59.955Z"
   },
   {
    "duration": 1280,
    "start_time": "2022-09-20T05:30:20.358Z"
   },
   {
    "duration": 29,
    "start_time": "2022-09-20T05:30:21.640Z"
   },
   {
    "duration": 10,
    "start_time": "2022-09-20T05:30:21.672Z"
   },
   {
    "duration": 10,
    "start_time": "2022-09-20T05:30:21.684Z"
   },
   {
    "duration": 6,
    "start_time": "2022-09-20T05:30:21.696Z"
   },
   {
    "duration": 16,
    "start_time": "2022-09-20T05:30:21.703Z"
   },
   {
    "duration": 9,
    "start_time": "2022-09-20T05:30:21.724Z"
   },
   {
    "duration": 6,
    "start_time": "2022-09-20T05:30:21.734Z"
   },
   {
    "duration": 3,
    "start_time": "2022-09-20T05:30:21.743Z"
   },
   {
    "duration": 6,
    "start_time": "2022-09-20T05:30:21.748Z"
   },
   {
    "duration": 6,
    "start_time": "2022-09-20T05:30:21.756Z"
   },
   {
    "duration": 8,
    "start_time": "2022-09-20T05:30:21.763Z"
   },
   {
    "duration": 8,
    "start_time": "2022-09-20T05:30:21.772Z"
   },
   {
    "duration": 7,
    "start_time": "2022-09-20T05:30:21.781Z"
   },
   {
    "duration": 27,
    "start_time": "2022-09-20T05:30:21.790Z"
   },
   {
    "duration": 15,
    "start_time": "2022-09-20T05:30:21.819Z"
   },
   {
    "duration": 4,
    "start_time": "2022-09-20T05:30:21.836Z"
   },
   {
    "duration": 8,
    "start_time": "2022-09-20T05:30:21.842Z"
   },
   {
    "duration": 9,
    "start_time": "2022-09-20T05:30:21.851Z"
   },
   {
    "duration": 9,
    "start_time": "2022-09-20T05:30:21.861Z"
   },
   {
    "duration": 8,
    "start_time": "2022-09-20T05:30:21.872Z"
   },
   {
    "duration": 9,
    "start_time": "2022-09-20T05:30:21.882Z"
   },
   {
    "duration": 43,
    "start_time": "2022-09-20T05:30:21.893Z"
   },
   {
    "duration": 90,
    "start_time": "2022-09-20T05:30:21.938Z"
   },
   {
    "duration": 78,
    "start_time": "2022-09-20T05:30:22.030Z"
   },
   {
    "duration": 116,
    "start_time": "2022-09-20T05:30:22.112Z"
   },
   {
    "duration": 4,
    "start_time": "2022-09-20T05:30:22.230Z"
   },
   {
    "duration": 5,
    "start_time": "2022-09-20T05:30:22.236Z"
   },
   {
    "duration": 85,
    "start_time": "2022-09-20T05:30:22.242Z"
   },
   {
    "duration": 98,
    "start_time": "2022-09-20T05:30:22.329Z"
   },
   {
    "duration": 6,
    "start_time": "2022-09-20T05:30:22.429Z"
   },
   {
    "duration": 13,
    "start_time": "2022-09-20T05:30:22.437Z"
   },
   {
    "duration": 171,
    "start_time": "2022-09-20T05:30:22.452Z"
   },
   {
    "duration": 1580,
    "start_time": "2022-09-20T06:33:12.887Z"
   },
   {
    "duration": 78,
    "start_time": "2022-09-20T06:33:14.469Z"
   },
   {
    "duration": 12,
    "start_time": "2022-09-20T06:33:14.549Z"
   },
   {
    "duration": 10,
    "start_time": "2022-09-20T06:33:14.563Z"
   },
   {
    "duration": 10,
    "start_time": "2022-09-20T06:33:14.574Z"
   },
   {
    "duration": 8,
    "start_time": "2022-09-20T06:33:14.586Z"
   },
   {
    "duration": 7,
    "start_time": "2022-09-20T06:33:14.596Z"
   },
   {
    "duration": 18,
    "start_time": "2022-09-20T06:33:14.605Z"
   },
   {
    "duration": 6,
    "start_time": "2022-09-20T06:33:14.625Z"
   },
   {
    "duration": 5,
    "start_time": "2022-09-20T06:33:14.636Z"
   },
   {
    "duration": 6,
    "start_time": "2022-09-20T06:33:14.643Z"
   },
   {
    "duration": 11,
    "start_time": "2022-09-20T06:33:14.650Z"
   },
   {
    "duration": 10,
    "start_time": "2022-09-20T06:33:14.662Z"
   },
   {
    "duration": 6,
    "start_time": "2022-09-20T06:33:14.674Z"
   },
   {
    "duration": 5,
    "start_time": "2022-09-20T06:33:14.682Z"
   },
   {
    "duration": 10,
    "start_time": "2022-09-20T06:33:14.689Z"
   },
   {
    "duration": 32,
    "start_time": "2022-09-20T06:33:14.700Z"
   },
   {
    "duration": 4,
    "start_time": "2022-09-20T06:33:14.735Z"
   },
   {
    "duration": 21,
    "start_time": "2022-09-20T06:33:14.740Z"
   },
   {
    "duration": 7,
    "start_time": "2022-09-20T06:33:14.763Z"
   },
   {
    "duration": 9,
    "start_time": "2022-09-20T06:33:14.771Z"
   },
   {
    "duration": 6,
    "start_time": "2022-09-20T06:33:14.781Z"
   },
   {
    "duration": 8,
    "start_time": "2022-09-20T06:33:14.789Z"
   },
   {
    "duration": 5,
    "start_time": "2022-09-20T06:33:14.834Z"
   },
   {
    "duration": 10,
    "start_time": "2022-09-20T06:33:14.841Z"
   },
   {
    "duration": 92,
    "start_time": "2022-09-20T06:33:14.853Z"
   },
   {
    "duration": 93,
    "start_time": "2022-09-20T06:33:14.948Z"
   },
   {
    "duration": 4,
    "start_time": "2022-09-20T06:33:15.045Z"
   },
   {
    "duration": 8,
    "start_time": "2022-09-20T06:33:15.051Z"
   },
   {
    "duration": 78,
    "start_time": "2022-09-20T06:33:15.060Z"
   },
   {
    "duration": 100,
    "start_time": "2022-09-20T06:33:15.143Z"
   },
   {
    "duration": 11,
    "start_time": "2022-09-20T06:33:15.245Z"
   },
   {
    "duration": 85,
    "start_time": "2022-09-20T06:33:15.258Z"
   },
   {
    "duration": 62,
    "start_time": "2022-09-20T07:22:05.910Z"
   },
   {
    "duration": 1711,
    "start_time": "2022-09-20T07:25:08.596Z"
   },
   {
    "duration": 86,
    "start_time": "2022-09-20T07:25:10.310Z"
   },
   {
    "duration": 12,
    "start_time": "2022-09-20T07:25:10.398Z"
   },
   {
    "duration": 7,
    "start_time": "2022-09-20T07:25:10.414Z"
   },
   {
    "duration": 11,
    "start_time": "2022-09-20T07:25:10.423Z"
   },
   {
    "duration": 16,
    "start_time": "2022-09-20T07:25:10.436Z"
   },
   {
    "duration": 11,
    "start_time": "2022-09-20T07:25:10.454Z"
   },
   {
    "duration": 13,
    "start_time": "2022-09-20T07:25:10.466Z"
   },
   {
    "duration": 8,
    "start_time": "2022-09-20T07:25:10.480Z"
   },
   {
    "duration": 8,
    "start_time": "2022-09-20T07:25:10.492Z"
   },
   {
    "duration": 22,
    "start_time": "2022-09-20T07:25:10.502Z"
   },
   {
    "duration": 22,
    "start_time": "2022-09-20T07:25:10.525Z"
   },
   {
    "duration": 12,
    "start_time": "2022-09-20T07:25:10.549Z"
   },
   {
    "duration": 5,
    "start_time": "2022-09-20T07:25:10.563Z"
   },
   {
    "duration": 9,
    "start_time": "2022-09-20T07:25:10.570Z"
   },
   {
    "duration": 30,
    "start_time": "2022-09-20T07:25:10.581Z"
   },
   {
    "duration": 15,
    "start_time": "2022-09-20T07:25:10.613Z"
   },
   {
    "duration": 17,
    "start_time": "2022-09-20T07:25:10.630Z"
   },
   {
    "duration": 8,
    "start_time": "2022-09-20T07:25:10.649Z"
   },
   {
    "duration": 11,
    "start_time": "2022-09-20T07:25:10.659Z"
   },
   {
    "duration": 7,
    "start_time": "2022-09-20T07:25:10.672Z"
   },
   {
    "duration": 7,
    "start_time": "2022-09-20T07:25:10.681Z"
   },
   {
    "duration": 137,
    "start_time": "2022-09-20T07:25:10.690Z"
   },
   {
    "duration": 27,
    "start_time": "2022-09-20T07:25:10.830Z"
   },
   {
    "duration": 68,
    "start_time": "2022-09-20T07:25:10.860Z"
   },
   {
    "duration": 128,
    "start_time": "2022-09-20T07:25:10.932Z"
   },
   {
    "duration": 68,
    "start_time": "2022-09-20T07:25:11.061Z"
   },
   {
    "duration": 20,
    "start_time": "2022-09-20T07:25:11.134Z"
   },
   {
    "duration": 65,
    "start_time": "2022-09-20T07:25:11.156Z"
   },
   {
    "duration": 126,
    "start_time": "2022-09-20T07:25:11.223Z"
   },
   {
    "duration": 12,
    "start_time": "2022-09-20T07:25:11.351Z"
   },
   {
    "duration": 55,
    "start_time": "2022-09-20T07:25:11.365Z"
   },
   {
    "duration": 129,
    "start_time": "2022-09-20T07:25:11.423Z"
   },
   {
    "duration": 7,
    "start_time": "2022-09-20T07:29:48.884Z"
   },
   {
    "duration": 7,
    "start_time": "2022-09-20T07:30:17.821Z"
   },
   {
    "duration": 5,
    "start_time": "2022-09-20T07:32:36.780Z"
   },
   {
    "duration": 5,
    "start_time": "2022-09-20T07:42:44.976Z"
   },
   {
    "duration": 6,
    "start_time": "2022-09-20T07:43:26.912Z"
   },
   {
    "duration": 5,
    "start_time": "2022-09-20T07:44:47.360Z"
   },
   {
    "duration": 1737,
    "start_time": "2022-09-20T07:48:55.338Z"
   },
   {
    "duration": 1562,
    "start_time": "2022-09-20T07:49:03.073Z"
   },
   {
    "duration": 1719,
    "start_time": "2022-09-20T07:49:33.037Z"
   },
   {
    "duration": 1917,
    "start_time": "2022-09-20T07:49:51.084Z"
   },
   {
    "duration": 1707,
    "start_time": "2022-09-20T08:08:04.465Z"
   },
   {
    "duration": 1994,
    "start_time": "2022-09-20T08:08:15.019Z"
   },
   {
    "duration": 7,
    "start_time": "2022-09-20T08:10:07.676Z"
   },
   {
    "duration": 1811,
    "start_time": "2022-09-20T08:10:28.415Z"
   },
   {
    "duration": 81,
    "start_time": "2022-09-20T08:12:05.174Z"
   },
   {
    "duration": 79,
    "start_time": "2022-09-20T08:12:24.621Z"
   },
   {
    "duration": 2034,
    "start_time": "2022-09-20T08:12:28.088Z"
   },
   {
    "duration": 158,
    "start_time": "2022-09-20T08:12:53.439Z"
   },
   {
    "duration": 93,
    "start_time": "2022-09-20T08:13:22.574Z"
   },
   {
    "duration": 1891,
    "start_time": "2022-09-20T08:15:11.010Z"
   },
   {
    "duration": 1887,
    "start_time": "2022-09-20T08:16:25.970Z"
   },
   {
    "duration": 1810,
    "start_time": "2022-09-20T08:16:41.376Z"
   },
   {
    "duration": 1340,
    "start_time": "2022-09-20T08:31:31.151Z"
   },
   {
    "duration": 30,
    "start_time": "2022-09-20T08:31:32.493Z"
   },
   {
    "duration": 15,
    "start_time": "2022-09-20T08:31:32.524Z"
   },
   {
    "duration": 15,
    "start_time": "2022-09-20T08:31:32.541Z"
   },
   {
    "duration": 28,
    "start_time": "2022-09-20T08:31:32.557Z"
   },
   {
    "duration": 31,
    "start_time": "2022-09-20T08:31:32.587Z"
   },
   {
    "duration": 40,
    "start_time": "2022-09-20T08:31:32.620Z"
   },
   {
    "duration": 20,
    "start_time": "2022-09-20T08:31:32.662Z"
   },
   {
    "duration": 27,
    "start_time": "2022-09-20T08:31:32.685Z"
   },
   {
    "duration": 40,
    "start_time": "2022-09-20T08:31:32.715Z"
   },
   {
    "duration": 11,
    "start_time": "2022-09-20T08:31:32.757Z"
   },
   {
    "duration": 33,
    "start_time": "2022-09-20T08:31:32.770Z"
   },
   {
    "duration": 31,
    "start_time": "2022-09-20T08:31:32.805Z"
   },
   {
    "duration": 38,
    "start_time": "2022-09-20T08:31:32.839Z"
   },
   {
    "duration": 18,
    "start_time": "2022-09-20T08:31:32.879Z"
   },
   {
    "duration": 29,
    "start_time": "2022-09-20T08:31:32.899Z"
   },
   {
    "duration": 28,
    "start_time": "2022-09-20T08:31:32.930Z"
   },
   {
    "duration": 1942,
    "start_time": "2022-09-20T08:31:32.961Z"
   },
   {
    "duration": 5,
    "start_time": "2022-09-20T08:31:34.905Z"
   },
   {
    "duration": 11,
    "start_time": "2022-09-20T08:31:34.912Z"
   },
   {
    "duration": 7,
    "start_time": "2022-09-20T08:31:34.924Z"
   },
   {
    "duration": 8,
    "start_time": "2022-09-20T08:31:34.932Z"
   },
   {
    "duration": 7,
    "start_time": "2022-09-20T08:31:34.942Z"
   },
   {
    "duration": 12,
    "start_time": "2022-09-20T08:31:34.951Z"
   },
   {
    "duration": 4,
    "start_time": "2022-09-20T08:31:35.021Z"
   },
   {
    "duration": 96,
    "start_time": "2022-09-20T08:31:35.027Z"
   },
   {
    "duration": 99,
    "start_time": "2022-09-20T08:31:35.124Z"
   },
   {
    "duration": 101,
    "start_time": "2022-09-20T08:31:35.227Z"
   },
   {
    "duration": 8,
    "start_time": "2022-09-20T08:31:35.331Z"
   },
   {
    "duration": 12,
    "start_time": "2022-09-20T08:31:35.341Z"
   },
   {
    "duration": 4,
    "start_time": "2022-09-20T08:31:35.422Z"
   },
   {
    "duration": 100,
    "start_time": "2022-09-20T08:31:35.428Z"
   },
   {
    "duration": 17,
    "start_time": "2022-09-20T08:31:35.530Z"
   },
   {
    "duration": 174,
    "start_time": "2022-09-20T08:31:35.549Z"
   },
   {
    "duration": 1748,
    "start_time": "2022-09-20T08:39:03.952Z"
   },
   {
    "duration": 4467,
    "start_time": "2022-09-20T08:39:19.165Z"
   },
   {
    "duration": 1862,
    "start_time": "2022-09-20T08:39:29.872Z"
   },
   {
    "duration": 1844,
    "start_time": "2022-09-20T08:40:43.938Z"
   },
   {
    "duration": 1725,
    "start_time": "2022-09-20T08:46:23.099Z"
   },
   {
    "duration": 10,
    "start_time": "2022-09-20T08:59:32.337Z"
   },
   {
    "duration": 12,
    "start_time": "2022-09-20T08:59:37.118Z"
   },
   {
    "duration": 10,
    "start_time": "2022-09-20T09:00:47.180Z"
   },
   {
    "duration": 6,
    "start_time": "2022-09-20T09:00:51.616Z"
   },
   {
    "duration": 6,
    "start_time": "2022-09-20T09:00:54.241Z"
   },
   {
    "duration": 6,
    "start_time": "2022-09-20T09:01:05.479Z"
   },
   {
    "duration": 10,
    "start_time": "2022-09-20T09:01:06.222Z"
   },
   {
    "duration": 9,
    "start_time": "2022-09-20T09:01:26.924Z"
   },
   {
    "duration": 3,
    "start_time": "2022-09-20T09:01:31.147Z"
   },
   {
    "duration": 5,
    "start_time": "2022-09-20T09:01:38.253Z"
   },
   {
    "duration": 10,
    "start_time": "2022-09-20T09:01:47.336Z"
   },
   {
    "duration": 3,
    "start_time": "2022-09-20T09:01:51.830Z"
   },
   {
    "duration": 4,
    "start_time": "2022-09-20T09:01:57.360Z"
   },
   {
    "duration": 3,
    "start_time": "2022-09-20T09:02:00.832Z"
   },
   {
    "duration": 4,
    "start_time": "2022-09-20T09:02:02.948Z"
   },
   {
    "duration": 1479,
    "start_time": "2022-09-20T09:03:31.995Z"
   },
   {
    "duration": 29,
    "start_time": "2022-09-20T09:03:33.476Z"
   },
   {
    "duration": 15,
    "start_time": "2022-09-20T09:03:33.507Z"
   },
   {
    "duration": 16,
    "start_time": "2022-09-20T09:03:33.524Z"
   },
   {
    "duration": 14,
    "start_time": "2022-09-20T09:03:33.543Z"
   },
   {
    "duration": 35,
    "start_time": "2022-09-20T09:03:33.559Z"
   },
   {
    "duration": 14,
    "start_time": "2022-09-20T09:03:33.596Z"
   },
   {
    "duration": 7,
    "start_time": "2022-09-20T09:03:33.612Z"
   },
   {
    "duration": 4,
    "start_time": "2022-09-20T09:03:33.621Z"
   },
   {
    "duration": 6,
    "start_time": "2022-09-20T09:03:33.628Z"
   },
   {
    "duration": 7,
    "start_time": "2022-09-20T09:03:33.636Z"
   },
   {
    "duration": 8,
    "start_time": "2022-09-20T09:03:33.644Z"
   },
   {
    "duration": 11,
    "start_time": "2022-09-20T09:03:33.653Z"
   },
   {
    "duration": 12,
    "start_time": "2022-09-20T09:03:33.666Z"
   },
   {
    "duration": 10,
    "start_time": "2022-09-20T09:03:33.680Z"
   },
   {
    "duration": 33,
    "start_time": "2022-09-20T09:03:33.691Z"
   },
   {
    "duration": 9,
    "start_time": "2022-09-20T09:03:33.726Z"
   },
   {
    "duration": 1894,
    "start_time": "2022-09-20T09:03:33.737Z"
   },
   {
    "duration": 4,
    "start_time": "2022-09-20T09:03:35.633Z"
   },
   {
    "duration": 22,
    "start_time": "2022-09-20T09:03:35.638Z"
   },
   {
    "duration": 16,
    "start_time": "2022-09-20T09:03:35.662Z"
   },
   {
    "duration": 9,
    "start_time": "2022-09-20T09:03:35.679Z"
   },
   {
    "duration": 7,
    "start_time": "2022-09-20T09:03:35.690Z"
   },
   {
    "duration": 22,
    "start_time": "2022-09-20T09:03:35.699Z"
   },
   {
    "duration": 7,
    "start_time": "2022-09-20T09:03:35.723Z"
   },
   {
    "duration": 94,
    "start_time": "2022-09-20T09:03:35.731Z"
   },
   {
    "duration": 3,
    "start_time": "2022-09-20T09:03:35.827Z"
   },
   {
    "duration": 96,
    "start_time": "2022-09-20T09:03:35.834Z"
   },
   {
    "duration": 6,
    "start_time": "2022-09-20T09:03:35.932Z"
   },
   {
    "duration": 80,
    "start_time": "2022-09-20T09:03:35.941Z"
   },
   {
    "duration": 98,
    "start_time": "2022-09-20T09:03:36.023Z"
   },
   {
    "duration": 10,
    "start_time": "2022-09-20T09:03:36.123Z"
   },
   {
    "duration": 19,
    "start_time": "2022-09-20T09:03:36.135Z"
   },
   {
    "duration": 176,
    "start_time": "2022-09-20T09:03:36.156Z"
   },
   {
    "duration": 4,
    "start_time": "2022-09-20T09:05:03.262Z"
   },
   {
    "duration": 3,
    "start_time": "2022-09-20T09:06:35.046Z"
   },
   {
    "duration": 4,
    "start_time": "2022-09-20T09:06:59.929Z"
   },
   {
    "duration": 5,
    "start_time": "2022-09-20T09:08:32.688Z"
   },
   {
    "duration": 5,
    "start_time": "2022-09-20T09:08:34.967Z"
   },
   {
    "duration": 4,
    "start_time": "2022-09-20T09:08:35.288Z"
   },
   {
    "duration": 5,
    "start_time": "2022-09-20T09:09:53.355Z"
   },
   {
    "duration": 4,
    "start_time": "2022-09-20T09:10:43.980Z"
   },
   {
    "duration": 4,
    "start_time": "2022-09-20T09:10:54.777Z"
   },
   {
    "duration": 4,
    "start_time": "2022-09-20T09:11:14.448Z"
   },
   {
    "duration": 12,
    "start_time": "2022-09-20T09:13:44.518Z"
   },
   {
    "duration": 9,
    "start_time": "2022-09-20T09:22:35.127Z"
   },
   {
    "duration": 14,
    "start_time": "2022-09-20T09:22:37.011Z"
   },
   {
    "duration": 4,
    "start_time": "2022-09-20T11:58:39.211Z"
   },
   {
    "duration": 4,
    "start_time": "2022-09-20T11:58:39.477Z"
   },
   {
    "duration": 5,
    "start_time": "2022-09-20T11:58:39.760Z"
   },
   {
    "duration": 4,
    "start_time": "2022-09-20T11:58:40.377Z"
   },
   {
    "duration": 112,
    "start_time": "2022-09-20T12:02:04.948Z"
   },
   {
    "duration": 3,
    "start_time": "2022-09-20T12:02:10.421Z"
   },
   {
    "duration": 113,
    "start_time": "2022-09-20T12:02:42.351Z"
   },
   {
    "duration": 4,
    "start_time": "2022-09-20T12:02:53.089Z"
   },
   {
    "duration": 4,
    "start_time": "2022-09-20T12:03:40.144Z"
   },
   {
    "duration": 4,
    "start_time": "2022-09-20T12:03:52.705Z"
   },
   {
    "duration": 16,
    "start_time": "2022-09-20T12:04:45.295Z"
   },
   {
    "duration": 10,
    "start_time": "2022-09-20T12:05:26.174Z"
   },
   {
    "duration": 4,
    "start_time": "2022-09-20T12:05:33.026Z"
   },
   {
    "duration": 4,
    "start_time": "2022-09-20T12:05:34.623Z"
   },
   {
    "duration": 15,
    "start_time": "2022-09-20T12:05:36.620Z"
   },
   {
    "duration": 6,
    "start_time": "2022-09-20T12:05:45.483Z"
   },
   {
    "duration": 6,
    "start_time": "2022-09-20T12:06:08.316Z"
   },
   {
    "duration": 56,
    "start_time": "2022-09-21T05:12:37.902Z"
   },
   {
    "duration": 1491,
    "start_time": "2022-09-21T05:13:13.701Z"
   },
   {
    "duration": 88,
    "start_time": "2022-09-21T05:13:15.194Z"
   },
   {
    "duration": 11,
    "start_time": "2022-09-21T05:13:15.284Z"
   },
   {
    "duration": 11,
    "start_time": "2022-09-21T05:13:15.297Z"
   },
   {
    "duration": 9,
    "start_time": "2022-09-21T05:13:15.310Z"
   },
   {
    "duration": 6,
    "start_time": "2022-09-21T05:13:15.321Z"
   },
   {
    "duration": 23,
    "start_time": "2022-09-21T05:13:15.328Z"
   },
   {
    "duration": 6,
    "start_time": "2022-09-21T05:13:15.353Z"
   },
   {
    "duration": 6,
    "start_time": "2022-09-21T05:13:15.361Z"
   },
   {
    "duration": 8,
    "start_time": "2022-09-21T05:13:15.369Z"
   },
   {
    "duration": 8,
    "start_time": "2022-09-21T05:13:15.378Z"
   },
   {
    "duration": 8,
    "start_time": "2022-09-21T05:13:15.388Z"
   },
   {
    "duration": 8,
    "start_time": "2022-09-21T05:13:15.397Z"
   },
   {
    "duration": 6,
    "start_time": "2022-09-21T05:13:15.407Z"
   },
   {
    "duration": 9,
    "start_time": "2022-09-21T05:13:15.414Z"
   },
   {
    "duration": 17,
    "start_time": "2022-09-21T05:13:15.425Z"
   },
   {
    "duration": 11,
    "start_time": "2022-09-21T05:13:15.444Z"
   },
   {
    "duration": 1964,
    "start_time": "2022-09-21T05:13:15.457Z"
   },
   {
    "duration": 5,
    "start_time": "2022-09-21T05:13:17.423Z"
   },
   {
    "duration": 17,
    "start_time": "2022-09-21T05:13:17.430Z"
   },
   {
    "duration": 9,
    "start_time": "2022-09-21T05:13:17.453Z"
   },
   {
    "duration": 5,
    "start_time": "2022-09-21T05:13:17.465Z"
   },
   {
    "duration": 8,
    "start_time": "2022-09-21T05:13:17.472Z"
   },
   {
    "duration": 178,
    "start_time": "2022-09-21T05:13:17.482Z"
   },
   {
    "duration": 15,
    "start_time": "2022-09-21T05:13:17.662Z"
   },
   {
    "duration": 8,
    "start_time": "2022-09-21T05:13:17.679Z"
   },
   {
    "duration": 74,
    "start_time": "2022-09-21T05:13:17.690Z"
   },
   {
    "duration": 100,
    "start_time": "2022-09-21T05:13:17.837Z"
   },
   {
    "duration": 21,
    "start_time": "2022-09-21T05:13:17.939Z"
   },
   {
    "duration": 12,
    "start_time": "2022-09-21T05:13:17.963Z"
   },
   {
    "duration": 7,
    "start_time": "2022-09-21T05:13:18.036Z"
   },
   {
    "duration": 88,
    "start_time": "2022-09-21T05:13:18.047Z"
   },
   {
    "duration": 41,
    "start_time": "2022-09-21T05:13:18.137Z"
   },
   {
    "duration": 20,
    "start_time": "2022-09-21T05:13:18.233Z"
   },
   {
    "duration": 11,
    "start_time": "2022-09-21T05:13:18.255Z"
   },
   {
    "duration": 8,
    "start_time": "2022-09-21T05:13:18.267Z"
   },
   {
    "duration": 7,
    "start_time": "2022-09-21T05:17:23.953Z"
   },
   {
    "duration": 5,
    "start_time": "2022-09-21T05:18:56.978Z"
   },
   {
    "duration": 128,
    "start_time": "2022-09-21T05:19:41.453Z"
   },
   {
    "duration": 6,
    "start_time": "2022-09-21T05:19:52.999Z"
   },
   {
    "duration": 4,
    "start_time": "2022-09-21T05:19:59.579Z"
   },
   {
    "duration": 48,
    "start_time": "2022-09-21T05:21:13.704Z"
   },
   {
    "duration": 67,
    "start_time": "2022-09-21T05:21:16.731Z"
   },
   {
    "duration": 4,
    "start_time": "2022-09-21T05:21:22.723Z"
   },
   {
    "duration": 6,
    "start_time": "2022-09-21T05:23:35.511Z"
   },
   {
    "duration": 8,
    "start_time": "2022-09-21T05:27:24.852Z"
   },
   {
    "duration": 6,
    "start_time": "2022-09-21T05:27:44.288Z"
   },
   {
    "duration": 13,
    "start_time": "2022-09-21T05:27:54.675Z"
   },
   {
    "duration": 5,
    "start_time": "2022-09-21T05:30:03.673Z"
   },
   {
    "duration": 6,
    "start_time": "2022-09-21T05:33:56.332Z"
   },
   {
    "duration": 4,
    "start_time": "2022-09-21T05:34:50.241Z"
   },
   {
    "duration": 3,
    "start_time": "2022-09-21T05:35:00.800Z"
   },
   {
    "duration": 1272,
    "start_time": "2022-09-21T05:35:14.851Z"
   },
   {
    "duration": 28,
    "start_time": "2022-09-21T05:35:16.126Z"
   },
   {
    "duration": 12,
    "start_time": "2022-09-21T05:35:16.156Z"
   },
   {
    "duration": 18,
    "start_time": "2022-09-21T05:35:16.170Z"
   },
   {
    "duration": 32,
    "start_time": "2022-09-21T05:35:16.190Z"
   },
   {
    "duration": 10,
    "start_time": "2022-09-21T05:35:16.224Z"
   },
   {
    "duration": 16,
    "start_time": "2022-09-21T05:35:16.236Z"
   },
   {
    "duration": 21,
    "start_time": "2022-09-21T05:35:16.254Z"
   },
   {
    "duration": 4,
    "start_time": "2022-09-21T05:35:16.277Z"
   },
   {
    "duration": 11,
    "start_time": "2022-09-21T05:35:16.284Z"
   },
   {
    "duration": 11,
    "start_time": "2022-09-21T05:35:16.297Z"
   },
   {
    "duration": 11,
    "start_time": "2022-09-21T05:35:16.311Z"
   },
   {
    "duration": 12,
    "start_time": "2022-09-21T05:35:16.323Z"
   },
   {
    "duration": 6,
    "start_time": "2022-09-21T05:35:16.337Z"
   },
   {
    "duration": 14,
    "start_time": "2022-09-21T05:35:16.345Z"
   },
   {
    "duration": 24,
    "start_time": "2022-09-21T05:35:16.361Z"
   },
   {
    "duration": 10,
    "start_time": "2022-09-21T05:35:16.387Z"
   },
   {
    "duration": 1679,
    "start_time": "2022-09-21T05:35:16.398Z"
   },
   {
    "duration": 4,
    "start_time": "2022-09-21T05:35:18.078Z"
   },
   {
    "duration": 9,
    "start_time": "2022-09-21T05:35:18.084Z"
   },
   {
    "duration": 5,
    "start_time": "2022-09-21T05:35:18.094Z"
   },
   {
    "duration": 6,
    "start_time": "2022-09-21T05:35:18.101Z"
   },
   {
    "duration": 7,
    "start_time": "2022-09-21T05:35:18.108Z"
   },
   {
    "duration": 19,
    "start_time": "2022-09-21T05:35:18.117Z"
   },
   {
    "duration": 19,
    "start_time": "2022-09-21T05:35:18.138Z"
   },
   {
    "duration": 11,
    "start_time": "2022-09-21T05:35:18.234Z"
   },
   {
    "duration": 91,
    "start_time": "2022-09-21T05:35:18.247Z"
   },
   {
    "duration": 94,
    "start_time": "2022-09-21T05:35:18.342Z"
   },
   {
    "duration": 100,
    "start_time": "2022-09-21T05:35:18.438Z"
   },
   {
    "duration": 94,
    "start_time": "2022-09-21T05:35:18.540Z"
   },
   {
    "duration": 4,
    "start_time": "2022-09-21T05:35:18.636Z"
   },
   {
    "duration": 8,
    "start_time": "2022-09-21T05:35:18.641Z"
   },
   {
    "duration": 8,
    "start_time": "2022-09-21T05:35:18.651Z"
   },
   {
    "duration": 10,
    "start_time": "2022-09-21T05:35:50.924Z"
   },
   {
    "duration": 4,
    "start_time": "2022-09-21T05:35:54.009Z"
   },
   {
    "duration": 4,
    "start_time": "2022-09-21T05:36:00.781Z"
   },
   {
    "duration": 78,
    "start_time": "2022-09-21T06:40:18.885Z"
   },
   {
    "duration": 1607,
    "start_time": "2022-09-21T07:00:14.723Z"
   },
   {
    "duration": 55,
    "start_time": "2022-09-21T07:00:16.335Z"
   },
   {
    "duration": 34,
    "start_time": "2022-09-21T07:00:16.396Z"
   },
   {
    "duration": 65,
    "start_time": "2022-09-21T07:00:16.433Z"
   },
   {
    "duration": 31,
    "start_time": "2022-09-21T07:00:16.500Z"
   },
   {
    "duration": 66,
    "start_time": "2022-09-21T07:00:16.537Z"
   },
   {
    "duration": 70,
    "start_time": "2022-09-21T07:00:16.606Z"
   },
   {
    "duration": 40,
    "start_time": "2022-09-21T07:00:16.678Z"
   },
   {
    "duration": 55,
    "start_time": "2022-09-21T07:00:16.720Z"
   },
   {
    "duration": 80,
    "start_time": "2022-09-21T07:00:16.779Z"
   },
   {
    "duration": 52,
    "start_time": "2022-09-21T07:00:16.862Z"
   },
   {
    "duration": 40,
    "start_time": "2022-09-21T07:00:16.916Z"
   },
   {
    "duration": 34,
    "start_time": "2022-09-21T07:00:16.964Z"
   },
   {
    "duration": 22,
    "start_time": "2022-09-21T07:00:16.999Z"
   },
   {
    "duration": 21,
    "start_time": "2022-09-21T07:00:17.022Z"
   },
   {
    "duration": 83,
    "start_time": "2022-09-21T07:00:17.045Z"
   },
   {
    "duration": 70,
    "start_time": "2022-09-21T07:00:17.130Z"
   },
   {
    "duration": 2363,
    "start_time": "2022-09-21T07:00:17.202Z"
   },
   {
    "duration": 14,
    "start_time": "2022-09-21T07:00:19.569Z"
   },
   {
    "duration": 23,
    "start_time": "2022-09-21T07:00:19.586Z"
   },
   {
    "duration": 79,
    "start_time": "2022-09-21T07:00:19.611Z"
   },
   {
    "duration": 12,
    "start_time": "2022-09-21T07:00:19.693Z"
   },
   {
    "duration": 224,
    "start_time": "2022-09-21T07:00:19.707Z"
   },
   {
    "duration": 0,
    "start_time": "2022-09-21T07:00:19.942Z"
   },
   {
    "duration": 0,
    "start_time": "2022-09-21T07:00:19.944Z"
   },
   {
    "duration": 0,
    "start_time": "2022-09-21T07:00:19.945Z"
   },
   {
    "duration": 1,
    "start_time": "2022-09-21T07:00:19.945Z"
   },
   {
    "duration": 0,
    "start_time": "2022-09-21T07:00:19.946Z"
   },
   {
    "duration": 0,
    "start_time": "2022-09-21T07:00:19.947Z"
   },
   {
    "duration": 0,
    "start_time": "2022-09-21T07:00:19.957Z"
   },
   {
    "duration": 1,
    "start_time": "2022-09-21T07:00:19.958Z"
   },
   {
    "duration": 0,
    "start_time": "2022-09-21T07:00:19.960Z"
   },
   {
    "duration": 0,
    "start_time": "2022-09-21T07:00:19.961Z"
   },
   {
    "duration": 138,
    "start_time": "2022-09-21T07:00:26.918Z"
   },
   {
    "duration": 1571,
    "start_time": "2022-09-21T07:00:33.856Z"
   },
   {
    "duration": 62,
    "start_time": "2022-09-21T07:00:35.429Z"
   },
   {
    "duration": 17,
    "start_time": "2022-09-21T07:00:35.493Z"
   },
   {
    "duration": 13,
    "start_time": "2022-09-21T07:00:35.511Z"
   },
   {
    "duration": 28,
    "start_time": "2022-09-21T07:00:35.526Z"
   },
   {
    "duration": 39,
    "start_time": "2022-09-21T07:00:35.556Z"
   },
   {
    "duration": 9,
    "start_time": "2022-09-21T07:00:35.597Z"
   },
   {
    "duration": 14,
    "start_time": "2022-09-21T07:00:35.608Z"
   },
   {
    "duration": 4,
    "start_time": "2022-09-21T07:00:35.624Z"
   },
   {
    "duration": 59,
    "start_time": "2022-09-21T07:00:35.630Z"
   },
   {
    "duration": 14,
    "start_time": "2022-09-21T07:00:35.691Z"
   },
   {
    "duration": 7,
    "start_time": "2022-09-21T07:00:35.706Z"
   },
   {
    "duration": 12,
    "start_time": "2022-09-21T07:00:35.716Z"
   },
   {
    "duration": 52,
    "start_time": "2022-09-21T07:00:35.731Z"
   },
   {
    "duration": 11,
    "start_time": "2022-09-21T07:00:35.785Z"
   },
   {
    "duration": 15,
    "start_time": "2022-09-21T07:00:35.798Z"
   },
   {
    "duration": 6,
    "start_time": "2022-09-21T07:00:35.815Z"
   },
   {
    "duration": 2445,
    "start_time": "2022-09-21T07:00:35.823Z"
   },
   {
    "duration": 5,
    "start_time": "2022-09-21T07:00:38.271Z"
   },
   {
    "duration": 28,
    "start_time": "2022-09-21T07:00:38.281Z"
   },
   {
    "duration": 8,
    "start_time": "2022-09-21T07:00:38.311Z"
   },
   {
    "duration": 8,
    "start_time": "2022-09-21T07:00:38.320Z"
   },
   {
    "duration": 58,
    "start_time": "2022-09-21T07:00:38.330Z"
   },
   {
    "duration": 52,
    "start_time": "2022-09-21T07:00:38.390Z"
   },
   {
    "duration": 102,
    "start_time": "2022-09-21T07:00:38.448Z"
   },
   {
    "duration": 148,
    "start_time": "2022-09-21T07:00:38.551Z"
   },
   {
    "duration": 175,
    "start_time": "2022-09-21T07:00:38.704Z"
   },
   {
    "duration": 27,
    "start_time": "2022-09-21T07:00:38.881Z"
   },
   {
    "duration": 160,
    "start_time": "2022-09-21T07:00:38.933Z"
   },
   {
    "duration": 5,
    "start_time": "2022-09-21T07:00:39.095Z"
   },
   {
    "duration": 9,
    "start_time": "2022-09-21T07:00:39.102Z"
   },
   {
    "duration": 5,
    "start_time": "2022-09-21T07:00:39.113Z"
   },
   {
    "duration": 78,
    "start_time": "2022-09-21T11:22:43.122Z"
   },
   {
    "duration": 1460,
    "start_time": "2022-09-21T11:22:50.381Z"
   },
   {
    "duration": 84,
    "start_time": "2022-09-21T11:22:51.843Z"
   },
   {
    "duration": 13,
    "start_time": "2022-09-21T11:22:51.929Z"
   },
   {
    "duration": 13,
    "start_time": "2022-09-21T11:22:51.944Z"
   },
   {
    "duration": 10,
    "start_time": "2022-09-21T11:22:51.959Z"
   },
   {
    "duration": 4,
    "start_time": "2022-09-21T11:22:51.971Z"
   },
   {
    "duration": 9,
    "start_time": "2022-09-21T11:22:51.977Z"
   },
   {
    "duration": 11,
    "start_time": "2022-09-21T11:22:51.987Z"
   },
   {
    "duration": 6,
    "start_time": "2022-09-21T11:22:52.000Z"
   },
   {
    "duration": 16,
    "start_time": "2022-09-21T11:22:52.008Z"
   },
   {
    "duration": 5,
    "start_time": "2022-09-21T11:22:52.025Z"
   },
   {
    "duration": 7,
    "start_time": "2022-09-21T11:22:52.032Z"
   },
   {
    "duration": 6,
    "start_time": "2022-09-21T11:22:52.040Z"
   },
   {
    "duration": 5,
    "start_time": "2022-09-21T11:22:52.048Z"
   },
   {
    "duration": 15,
    "start_time": "2022-09-21T11:22:52.055Z"
   },
   {
    "duration": 10,
    "start_time": "2022-09-21T11:22:52.071Z"
   },
   {
    "duration": 4,
    "start_time": "2022-09-21T11:22:52.083Z"
   },
   {
    "duration": 1567,
    "start_time": "2022-09-21T11:22:52.089Z"
   },
   {
    "duration": 79,
    "start_time": "2022-09-21T11:22:53.658Z"
   },
   {
    "duration": 0,
    "start_time": "2022-09-21T11:22:53.739Z"
   },
   {
    "duration": 0,
    "start_time": "2022-09-21T11:22:53.740Z"
   },
   {
    "duration": 0,
    "start_time": "2022-09-21T11:22:53.742Z"
   },
   {
    "duration": 0,
    "start_time": "2022-09-21T11:22:53.743Z"
   },
   {
    "duration": 0,
    "start_time": "2022-09-21T11:22:53.744Z"
   },
   {
    "duration": 0,
    "start_time": "2022-09-21T11:22:53.745Z"
   },
   {
    "duration": 0,
    "start_time": "2022-09-21T11:22:53.746Z"
   },
   {
    "duration": 0,
    "start_time": "2022-09-21T11:22:53.747Z"
   },
   {
    "duration": 0,
    "start_time": "2022-09-21T11:22:53.748Z"
   },
   {
    "duration": 0,
    "start_time": "2022-09-21T11:22:53.749Z"
   },
   {
    "duration": 0,
    "start_time": "2022-09-21T11:22:53.750Z"
   },
   {
    "duration": 0,
    "start_time": "2022-09-21T11:22:53.750Z"
   },
   {
    "duration": 0,
    "start_time": "2022-09-21T11:22:53.752Z"
   },
   {
    "duration": 0,
    "start_time": "2022-09-21T11:22:53.753Z"
   },
   {
    "duration": 79,
    "start_time": "2022-09-21T11:28:42.847Z"
   }
  ],
  "kernelspec": {
   "display_name": "Python 3 (ipykernel)",
   "language": "python",
   "name": "python3"
  },
  "language_info": {
   "codemirror_mode": {
    "name": "ipython",
    "version": 3
   },
   "file_extension": ".py",
   "mimetype": "text/x-python",
   "name": "python",
   "nbconvert_exporter": "python",
   "pygments_lexer": "ipython3",
   "version": "3.8.16"
  },
  "toc": {
   "base_numbering": 1,
   "nav_menu": {},
   "number_sections": true,
   "sideBar": true,
   "skip_h1_title": true,
   "title_cell": "Содержание",
   "title_sidebar": "Contents",
   "toc_cell": true,
   "toc_position": {},
   "toc_section_display": true,
   "toc_window_display": false
  }
 },
 "nbformat": 4,
 "nbformat_minor": 2
}
