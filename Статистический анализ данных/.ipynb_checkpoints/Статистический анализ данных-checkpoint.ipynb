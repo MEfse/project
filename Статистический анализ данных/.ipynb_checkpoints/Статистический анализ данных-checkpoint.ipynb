{
 "cells": [
  {
   "cell_type": "markdown",
   "metadata": {},
   "source": [
    "# Определение перспективного тарифа для телеком-компании"
   ]
  },
  {
   "cell_type": "markdown",
   "metadata": {},
   "source": [
    "## Получение информации"
   ]
  },
  {
   "cell_type": "markdown",
   "metadata": {},
   "source": [
    "«Мегалайн» — федерального оператора сотовой связи. Клиентам предлагают два тарифных плана: «Смарт» и «Ультра». Чтобы скорректировать рекламный бюджет, коммерческий департамент хочет понять, какой тариф приносит больше денег.\n",
    "Необходимо провести предварительный анализ тарифов на небольшой выборке клиентов. Представлены данные 500 пользователей «Мегалайна»: кто они, откуда, каким тарифом пользуются, сколько звонков и сообщений каждый отправил за 2018 год. Нужно проанализировать поведение клиентов и сделать вывод — какой тариф лучше."
   ]
  },
  {
   "cell_type": "markdown",
   "metadata": {},
   "source": [
    "**Импортируем библиотеки.**"
   ]
  },
  {
   "cell_type": "code",
   "execution_count": 1,
   "metadata": {},
   "outputs": [],
   "source": [
    "import pandas as pd\n",
    "import numpy as np \n",
    "import math \n",
    "import warnings\n",
    "from scipy import stats as st"
   ]
  },
  {
   "cell_type": "markdown",
   "metadata": {},
   "source": [
    "Записываем данные из csv-файлов в переменные."
   ]
  },
  {
   "cell_type": "code",
   "execution_count": 2,
   "metadata": {},
   "outputs": [],
   "source": [
    "try:\n",
    "    data_calls = pd.read_csv('C:/Users/JERR/Desktop/Проекты/Статистический анализ данных/calls.csv')\n",
    "    data_internet = pd.read_csv('C:/Users/JERR/Desktop/Проекты/Статистический анализ данных/internet.csv', index_col=0)\n",
    "    data_messages = pd.read_csv('C:/Users/JERR/Desktop/Проекты/Статистический анализ данных/messages.csv')\n",
    "    data_tariffs = pd.read_csv('C:/Users/JERR/Desktop/Проекты/Статистический анализ данных/tariffs.csv')\n",
    "    data_users = pd.read_csv('C:/Users/JERR/Desktop/Проекты/Статистический анализ данных/users.csv')\n",
    "except:\n",
    "    data_calls = pd.read_csv('/datasets/calls.csv')\n",
    "    data_internet = pd.read_csv('/datasets/internet.csv')\n",
    "    data_messages = pd.read_csv('/datasets/messages.csv')\n",
    "    data_tariffs = pd.read_csv('/datasets/tariffs.csv')\n",
    "    data_users = pd.read_csv('/datasets/users.csv')"
   ]
  },
  {
   "cell_type": "markdown",
   "metadata": {},
   "source": [
    "**Выводим общую информацию.**"
   ]
  },
  {
   "cell_type": "code",
   "execution_count": 3,
   "metadata": {},
   "outputs": [
    {
     "name": "stdout",
     "output_type": "stream",
     "text": [
      "<class 'pandas.core.frame.DataFrame'>\n",
      "RangeIndex: 202607 entries, 0 to 202606\n",
      "Data columns (total 4 columns):\n",
      " #   Column     Non-Null Count   Dtype  \n",
      "---  ------     --------------   -----  \n",
      " 0   id         202607 non-null  object \n",
      " 1   call_date  202607 non-null  object \n",
      " 2   duration   202607 non-null  float64\n",
      " 3   user_id    202607 non-null  int64  \n",
      "dtypes: float64(1), int64(1), object(2)\n",
      "memory usage: 6.2+ MB\n"
     ]
    }
   ],
   "source": [
    "data_calls.info()"
   ]
  },
  {
   "cell_type": "code",
   "execution_count": 4,
   "metadata": {},
   "outputs": [
    {
     "name": "stdout",
     "output_type": "stream",
     "text": [
      "<class 'pandas.core.frame.DataFrame'>\n",
      "Int64Index: 149396 entries, 0 to 149395\n",
      "Data columns (total 4 columns):\n",
      " #   Column        Non-Null Count   Dtype  \n",
      "---  ------        --------------   -----  \n",
      " 0   id            149396 non-null  object \n",
      " 1   mb_used       149396 non-null  float64\n",
      " 2   session_date  149396 non-null  object \n",
      " 3   user_id       149396 non-null  int64  \n",
      "dtypes: float64(1), int64(1), object(2)\n",
      "memory usage: 5.7+ MB\n"
     ]
    }
   ],
   "source": [
    "data_internet.info()"
   ]
  },
  {
   "cell_type": "code",
   "execution_count": 5,
   "metadata": {},
   "outputs": [
    {
     "name": "stdout",
     "output_type": "stream",
     "text": [
      "<class 'pandas.core.frame.DataFrame'>\n",
      "RangeIndex: 123036 entries, 0 to 123035\n",
      "Data columns (total 3 columns):\n",
      " #   Column        Non-Null Count   Dtype \n",
      "---  ------        --------------   ----- \n",
      " 0   id            123036 non-null  object\n",
      " 1   message_date  123036 non-null  object\n",
      " 2   user_id       123036 non-null  int64 \n",
      "dtypes: int64(1), object(2)\n",
      "memory usage: 2.8+ MB\n"
     ]
    }
   ],
   "source": [
    "data_messages.info()"
   ]
  },
  {
   "cell_type": "code",
   "execution_count": 6,
   "metadata": {},
   "outputs": [
    {
     "name": "stdout",
     "output_type": "stream",
     "text": [
      "<class 'pandas.core.frame.DataFrame'>\n",
      "RangeIndex: 2 entries, 0 to 1\n",
      "Data columns (total 8 columns):\n",
      " #   Column                 Non-Null Count  Dtype \n",
      "---  ------                 --------------  ----- \n",
      " 0   messages_included      2 non-null      int64 \n",
      " 1   mb_per_month_included  2 non-null      int64 \n",
      " 2   minutes_included       2 non-null      int64 \n",
      " 3   rub_monthly_fee        2 non-null      int64 \n",
      " 4   rub_per_gb             2 non-null      int64 \n",
      " 5   rub_per_message        2 non-null      int64 \n",
      " 6   rub_per_minute         2 non-null      int64 \n",
      " 7   tariff_name            2 non-null      object\n",
      "dtypes: int64(7), object(1)\n",
      "memory usage: 256.0+ bytes\n"
     ]
    }
   ],
   "source": [
    "data_tariffs.info()"
   ]
  },
  {
   "cell_type": "code",
   "execution_count": 7,
   "metadata": {},
   "outputs": [],
   "source": [
    "data_tariffs = data_tariffs.rename(columns = {'tariff_name': 'tariff'})"
   ]
  },
  {
   "cell_type": "code",
   "execution_count": 8,
   "metadata": {},
   "outputs": [
    {
     "name": "stdout",
     "output_type": "stream",
     "text": [
      "<class 'pandas.core.frame.DataFrame'>\n",
      "RangeIndex: 500 entries, 0 to 499\n",
      "Data columns (total 8 columns):\n",
      " #   Column      Non-Null Count  Dtype \n",
      "---  ------      --------------  ----- \n",
      " 0   user_id     500 non-null    int64 \n",
      " 1   age         500 non-null    int64 \n",
      " 2   churn_date  38 non-null     object\n",
      " 3   city        500 non-null    object\n",
      " 4   first_name  500 non-null    object\n",
      " 5   last_name   500 non-null    object\n",
      " 6   reg_date    500 non-null    object\n",
      " 7   tariff      500 non-null    object\n",
      "dtypes: int64(2), object(6)\n",
      "memory usage: 31.4+ KB\n"
     ]
    }
   ],
   "source": [
    "data_users.info()"
   ]
  },
  {
   "cell_type": "markdown",
   "metadata": {},
   "source": [
    "Столбец `churn_date` - дата прекращения пользования тарифом имеет пропущенные значения. В дальнейшем при группировки таблиц, этот параметр с пропущенными значениями не создает трудностей, поэтому запомним это и учем в будущем.\n",
    "\n",
    "Заметим что столбцы `churn_date` и `reg_date` с типом object. Запомним это для возможного конвертирования во временной тип данных."
   ]
  },
  {
   "cell_type": "markdown",
   "metadata": {},
   "source": [
    "## Предобработка данных"
   ]
  },
  {
   "cell_type": "markdown",
   "metadata": {},
   "source": [
    "Создаем функцию **по поиску дубликатов.**"
   ]
  },
  {
   "cell_type": "code",
   "execution_count": 9,
   "metadata": {},
   "outputs": [],
   "source": [
    "def preprocessing(data):\n",
    "    display(data.head(5))\n",
    "    print(data.columns)\n",
    "    data.info()\n",
    "    print('Количество дубликатов:', data.duplicated().sum())  "
   ]
  },
  {
   "cell_type": "markdown",
   "metadata": {},
   "source": [
    "### Информация по звонкам (data_calls)"
   ]
  },
  {
   "cell_type": "markdown",
   "metadata": {},
   "source": [
    "Выведем необходимую **информацию по звонкам.**"
   ]
  },
  {
   "cell_type": "code",
   "execution_count": 10,
   "metadata": {},
   "outputs": [
    {
     "data": {
      "text/html": [
       "<div>\n",
       "<style scoped>\n",
       "    .dataframe tbody tr th:only-of-type {\n",
       "        vertical-align: middle;\n",
       "    }\n",
       "\n",
       "    .dataframe tbody tr th {\n",
       "        vertical-align: top;\n",
       "    }\n",
       "\n",
       "    .dataframe thead th {\n",
       "        text-align: right;\n",
       "    }\n",
       "</style>\n",
       "<table border=\"1\" class=\"dataframe\">\n",
       "  <thead>\n",
       "    <tr style=\"text-align: right;\">\n",
       "      <th></th>\n",
       "      <th>id</th>\n",
       "      <th>call_date</th>\n",
       "      <th>duration</th>\n",
       "      <th>user_id</th>\n",
       "    </tr>\n",
       "  </thead>\n",
       "  <tbody>\n",
       "    <tr>\n",
       "      <th>0</th>\n",
       "      <td>1000_0</td>\n",
       "      <td>2018-07-25</td>\n",
       "      <td>0.00</td>\n",
       "      <td>1000</td>\n",
       "    </tr>\n",
       "    <tr>\n",
       "      <th>1</th>\n",
       "      <td>1000_1</td>\n",
       "      <td>2018-08-17</td>\n",
       "      <td>0.00</td>\n",
       "      <td>1000</td>\n",
       "    </tr>\n",
       "    <tr>\n",
       "      <th>2</th>\n",
       "      <td>1000_2</td>\n",
       "      <td>2018-06-11</td>\n",
       "      <td>2.85</td>\n",
       "      <td>1000</td>\n",
       "    </tr>\n",
       "    <tr>\n",
       "      <th>3</th>\n",
       "      <td>1000_3</td>\n",
       "      <td>2018-09-21</td>\n",
       "      <td>13.80</td>\n",
       "      <td>1000</td>\n",
       "    </tr>\n",
       "    <tr>\n",
       "      <th>4</th>\n",
       "      <td>1000_4</td>\n",
       "      <td>2018-12-15</td>\n",
       "      <td>5.18</td>\n",
       "      <td>1000</td>\n",
       "    </tr>\n",
       "  </tbody>\n",
       "</table>\n",
       "</div>"
      ],
      "text/plain": [
       "       id   call_date  duration  user_id\n",
       "0  1000_0  2018-07-25      0.00     1000\n",
       "1  1000_1  2018-08-17      0.00     1000\n",
       "2  1000_2  2018-06-11      2.85     1000\n",
       "3  1000_3  2018-09-21     13.80     1000\n",
       "4  1000_4  2018-12-15      5.18     1000"
      ]
     },
     "metadata": {},
     "output_type": "display_data"
    },
    {
     "name": "stdout",
     "output_type": "stream",
     "text": [
      "Index(['id', 'call_date', 'duration', 'user_id'], dtype='object')\n",
      "<class 'pandas.core.frame.DataFrame'>\n",
      "RangeIndex: 202607 entries, 0 to 202606\n",
      "Data columns (total 4 columns):\n",
      " #   Column     Non-Null Count   Dtype  \n",
      "---  ------     --------------   -----  \n",
      " 0   id         202607 non-null  object \n",
      " 1   call_date  202607 non-null  object \n",
      " 2   duration   202607 non-null  float64\n",
      " 3   user_id    202607 non-null  int64  \n",
      "dtypes: float64(1), int64(1), object(2)\n",
      "memory usage: 6.2+ MB\n",
      "Количество дубликатов: 0\n"
     ]
    }
   ],
   "source": [
    "preprocessing(data_calls)"
   ]
  },
  {
   "cell_type": "markdown",
   "metadata": {},
   "source": [
    "### Информация по интернету (data_internet)"
   ]
  },
  {
   "cell_type": "markdown",
   "metadata": {},
   "source": [
    "Выведем необходимую **информацию по интернету.**"
   ]
  },
  {
   "cell_type": "code",
   "execution_count": 11,
   "metadata": {},
   "outputs": [
    {
     "data": {
      "text/html": [
       "<div>\n",
       "<style scoped>\n",
       "    .dataframe tbody tr th:only-of-type {\n",
       "        vertical-align: middle;\n",
       "    }\n",
       "\n",
       "    .dataframe tbody tr th {\n",
       "        vertical-align: top;\n",
       "    }\n",
       "\n",
       "    .dataframe thead th {\n",
       "        text-align: right;\n",
       "    }\n",
       "</style>\n",
       "<table border=\"1\" class=\"dataframe\">\n",
       "  <thead>\n",
       "    <tr style=\"text-align: right;\">\n",
       "      <th></th>\n",
       "      <th>id</th>\n",
       "      <th>mb_used</th>\n",
       "      <th>session_date</th>\n",
       "      <th>user_id</th>\n",
       "    </tr>\n",
       "  </thead>\n",
       "  <tbody>\n",
       "    <tr>\n",
       "      <th>0</th>\n",
       "      <td>1000_0</td>\n",
       "      <td>112.95</td>\n",
       "      <td>2018-11-25</td>\n",
       "      <td>1000</td>\n",
       "    </tr>\n",
       "    <tr>\n",
       "      <th>1</th>\n",
       "      <td>1000_1</td>\n",
       "      <td>1052.81</td>\n",
       "      <td>2018-09-07</td>\n",
       "      <td>1000</td>\n",
       "    </tr>\n",
       "    <tr>\n",
       "      <th>2</th>\n",
       "      <td>1000_2</td>\n",
       "      <td>1197.26</td>\n",
       "      <td>2018-06-25</td>\n",
       "      <td>1000</td>\n",
       "    </tr>\n",
       "    <tr>\n",
       "      <th>3</th>\n",
       "      <td>1000_3</td>\n",
       "      <td>550.27</td>\n",
       "      <td>2018-08-22</td>\n",
       "      <td>1000</td>\n",
       "    </tr>\n",
       "    <tr>\n",
       "      <th>4</th>\n",
       "      <td>1000_4</td>\n",
       "      <td>302.56</td>\n",
       "      <td>2018-09-24</td>\n",
       "      <td>1000</td>\n",
       "    </tr>\n",
       "  </tbody>\n",
       "</table>\n",
       "</div>"
      ],
      "text/plain": [
       "       id  mb_used session_date  user_id\n",
       "0  1000_0   112.95   2018-11-25     1000\n",
       "1  1000_1  1052.81   2018-09-07     1000\n",
       "2  1000_2  1197.26   2018-06-25     1000\n",
       "3  1000_3   550.27   2018-08-22     1000\n",
       "4  1000_4   302.56   2018-09-24     1000"
      ]
     },
     "metadata": {},
     "output_type": "display_data"
    },
    {
     "name": "stdout",
     "output_type": "stream",
     "text": [
      "Index(['id', 'mb_used', 'session_date', 'user_id'], dtype='object')\n",
      "<class 'pandas.core.frame.DataFrame'>\n",
      "Int64Index: 149396 entries, 0 to 149395\n",
      "Data columns (total 4 columns):\n",
      " #   Column        Non-Null Count   Dtype  \n",
      "---  ------        --------------   -----  \n",
      " 0   id            149396 non-null  object \n",
      " 1   mb_used       149396 non-null  float64\n",
      " 2   session_date  149396 non-null  object \n",
      " 3   user_id       149396 non-null  int64  \n",
      "dtypes: float64(1), int64(1), object(2)\n",
      "memory usage: 5.7+ MB\n",
      "Количество дубликатов: 0\n"
     ]
    }
   ],
   "source": [
    "preprocessing(data_internet)"
   ]
  },
  {
   "cell_type": "markdown",
   "metadata": {},
   "source": [
    "Столбец `session_date` представлен с типом object, поэтому конвертируем его в дату."
   ]
  },
  {
   "cell_type": "code",
   "execution_count": 12,
   "metadata": {},
   "outputs": [],
   "source": [
    "data_internet['session_date'] = pd.to_datetime(data_internet['session_date'], format='%Y-%m-%d')"
   ]
  },
  {
   "cell_type": "markdown",
   "metadata": {},
   "source": [
    "Выведим таблицу."
   ]
  },
  {
   "cell_type": "code",
   "execution_count": 13,
   "metadata": {},
   "outputs": [
    {
     "data": {
      "text/html": [
       "<div>\n",
       "<style scoped>\n",
       "    .dataframe tbody tr th:only-of-type {\n",
       "        vertical-align: middle;\n",
       "    }\n",
       "\n",
       "    .dataframe tbody tr th {\n",
       "        vertical-align: top;\n",
       "    }\n",
       "\n",
       "    .dataframe thead th {\n",
       "        text-align: right;\n",
       "    }\n",
       "</style>\n",
       "<table border=\"1\" class=\"dataframe\">\n",
       "  <thead>\n",
       "    <tr style=\"text-align: right;\">\n",
       "      <th></th>\n",
       "      <th>id</th>\n",
       "      <th>mb_used</th>\n",
       "      <th>session_date</th>\n",
       "      <th>user_id</th>\n",
       "    </tr>\n",
       "  </thead>\n",
       "  <tbody>\n",
       "    <tr>\n",
       "      <th>0</th>\n",
       "      <td>1000_0</td>\n",
       "      <td>112.95</td>\n",
       "      <td>2018-11-25</td>\n",
       "      <td>1000</td>\n",
       "    </tr>\n",
       "    <tr>\n",
       "      <th>1</th>\n",
       "      <td>1000_1</td>\n",
       "      <td>1052.81</td>\n",
       "      <td>2018-09-07</td>\n",
       "      <td>1000</td>\n",
       "    </tr>\n",
       "    <tr>\n",
       "      <th>2</th>\n",
       "      <td>1000_2</td>\n",
       "      <td>1197.26</td>\n",
       "      <td>2018-06-25</td>\n",
       "      <td>1000</td>\n",
       "    </tr>\n",
       "    <tr>\n",
       "      <th>3</th>\n",
       "      <td>1000_3</td>\n",
       "      <td>550.27</td>\n",
       "      <td>2018-08-22</td>\n",
       "      <td>1000</td>\n",
       "    </tr>\n",
       "    <tr>\n",
       "      <th>4</th>\n",
       "      <td>1000_4</td>\n",
       "      <td>302.56</td>\n",
       "      <td>2018-09-24</td>\n",
       "      <td>1000</td>\n",
       "    </tr>\n",
       "  </tbody>\n",
       "</table>\n",
       "</div>"
      ],
      "text/plain": [
       "       id  mb_used session_date  user_id\n",
       "0  1000_0   112.95   2018-11-25     1000\n",
       "1  1000_1  1052.81   2018-09-07     1000\n",
       "2  1000_2  1197.26   2018-06-25     1000\n",
       "3  1000_3   550.27   2018-08-22     1000\n",
       "4  1000_4   302.56   2018-09-24     1000"
      ]
     },
     "metadata": {},
     "output_type": "display_data"
    },
    {
     "name": "stdout",
     "output_type": "stream",
     "text": [
      "Index(['id', 'mb_used', 'session_date', 'user_id'], dtype='object')\n",
      "<class 'pandas.core.frame.DataFrame'>\n",
      "Int64Index: 149396 entries, 0 to 149395\n",
      "Data columns (total 4 columns):\n",
      " #   Column        Non-Null Count   Dtype         \n",
      "---  ------        --------------   -----         \n",
      " 0   id            149396 non-null  object        \n",
      " 1   mb_used       149396 non-null  float64       \n",
      " 2   session_date  149396 non-null  datetime64[ns]\n",
      " 3   user_id       149396 non-null  int64         \n",
      "dtypes: datetime64[ns](1), float64(1), int64(1), object(1)\n",
      "memory usage: 5.7+ MB\n",
      "Количество дубликатов: 0\n"
     ]
    }
   ],
   "source": [
    "preprocessing(data_internet)"
   ]
  },
  {
   "cell_type": "markdown",
   "metadata": {},
   "source": [
    "Выведим общую информацию."
   ]
  },
  {
   "cell_type": "markdown",
   "metadata": {},
   "source": [
    "### Информация по сообщениям (data_messages)"
   ]
  },
  {
   "cell_type": "markdown",
   "metadata": {},
   "source": [
    "Выведим таблицу."
   ]
  },
  {
   "cell_type": "code",
   "execution_count": 14,
   "metadata": {},
   "outputs": [
    {
     "data": {
      "text/html": [
       "<div>\n",
       "<style scoped>\n",
       "    .dataframe tbody tr th:only-of-type {\n",
       "        vertical-align: middle;\n",
       "    }\n",
       "\n",
       "    .dataframe tbody tr th {\n",
       "        vertical-align: top;\n",
       "    }\n",
       "\n",
       "    .dataframe thead th {\n",
       "        text-align: right;\n",
       "    }\n",
       "</style>\n",
       "<table border=\"1\" class=\"dataframe\">\n",
       "  <thead>\n",
       "    <tr style=\"text-align: right;\">\n",
       "      <th></th>\n",
       "      <th>id</th>\n",
       "      <th>message_date</th>\n",
       "      <th>user_id</th>\n",
       "    </tr>\n",
       "  </thead>\n",
       "  <tbody>\n",
       "    <tr>\n",
       "      <th>0</th>\n",
       "      <td>1000_0</td>\n",
       "      <td>2018-06-27</td>\n",
       "      <td>1000</td>\n",
       "    </tr>\n",
       "    <tr>\n",
       "      <th>1</th>\n",
       "      <td>1000_1</td>\n",
       "      <td>2018-10-08</td>\n",
       "      <td>1000</td>\n",
       "    </tr>\n",
       "    <tr>\n",
       "      <th>2</th>\n",
       "      <td>1000_2</td>\n",
       "      <td>2018-08-04</td>\n",
       "      <td>1000</td>\n",
       "    </tr>\n",
       "    <tr>\n",
       "      <th>3</th>\n",
       "      <td>1000_3</td>\n",
       "      <td>2018-06-16</td>\n",
       "      <td>1000</td>\n",
       "    </tr>\n",
       "    <tr>\n",
       "      <th>4</th>\n",
       "      <td>1000_4</td>\n",
       "      <td>2018-12-05</td>\n",
       "      <td>1000</td>\n",
       "    </tr>\n",
       "  </tbody>\n",
       "</table>\n",
       "</div>"
      ],
      "text/plain": [
       "       id message_date  user_id\n",
       "0  1000_0   2018-06-27     1000\n",
       "1  1000_1   2018-10-08     1000\n",
       "2  1000_2   2018-08-04     1000\n",
       "3  1000_3   2018-06-16     1000\n",
       "4  1000_4   2018-12-05     1000"
      ]
     },
     "metadata": {},
     "output_type": "display_data"
    },
    {
     "name": "stdout",
     "output_type": "stream",
     "text": [
      "Index(['id', 'message_date', 'user_id'], dtype='object')\n",
      "<class 'pandas.core.frame.DataFrame'>\n",
      "RangeIndex: 123036 entries, 0 to 123035\n",
      "Data columns (total 3 columns):\n",
      " #   Column        Non-Null Count   Dtype \n",
      "---  ------        --------------   ----- \n",
      " 0   id            123036 non-null  object\n",
      " 1   message_date  123036 non-null  object\n",
      " 2   user_id       123036 non-null  int64 \n",
      "dtypes: int64(1), object(2)\n",
      "memory usage: 2.8+ MB\n",
      "Количество дубликатов: 0\n"
     ]
    }
   ],
   "source": [
    "preprocessing(data_messages)"
   ]
  },
  {
   "cell_type": "markdown",
   "metadata": {},
   "source": [
    "Столбец message_date представлен с типом object, поэтому конвертируем его в дату."
   ]
  },
  {
   "cell_type": "code",
   "execution_count": 15,
   "metadata": {},
   "outputs": [],
   "source": [
    "data_messages['message_date'] = pd.to_datetime(data_messages['message_date'], format='%Y-%m-%d')"
   ]
  },
  {
   "cell_type": "markdown",
   "metadata": {},
   "source": [
    "Выведим таблицу."
   ]
  },
  {
   "cell_type": "code",
   "execution_count": 16,
   "metadata": {},
   "outputs": [
    {
     "data": {
      "text/html": [
       "<div>\n",
       "<style scoped>\n",
       "    .dataframe tbody tr th:only-of-type {\n",
       "        vertical-align: middle;\n",
       "    }\n",
       "\n",
       "    .dataframe tbody tr th {\n",
       "        vertical-align: top;\n",
       "    }\n",
       "\n",
       "    .dataframe thead th {\n",
       "        text-align: right;\n",
       "    }\n",
       "</style>\n",
       "<table border=\"1\" class=\"dataframe\">\n",
       "  <thead>\n",
       "    <tr style=\"text-align: right;\">\n",
       "      <th></th>\n",
       "      <th>id</th>\n",
       "      <th>mb_used</th>\n",
       "      <th>session_date</th>\n",
       "      <th>user_id</th>\n",
       "    </tr>\n",
       "  </thead>\n",
       "  <tbody>\n",
       "    <tr>\n",
       "      <th>0</th>\n",
       "      <td>1000_0</td>\n",
       "      <td>112.95</td>\n",
       "      <td>2018-11-25</td>\n",
       "      <td>1000</td>\n",
       "    </tr>\n",
       "    <tr>\n",
       "      <th>1</th>\n",
       "      <td>1000_1</td>\n",
       "      <td>1052.81</td>\n",
       "      <td>2018-09-07</td>\n",
       "      <td>1000</td>\n",
       "    </tr>\n",
       "    <tr>\n",
       "      <th>2</th>\n",
       "      <td>1000_2</td>\n",
       "      <td>1197.26</td>\n",
       "      <td>2018-06-25</td>\n",
       "      <td>1000</td>\n",
       "    </tr>\n",
       "    <tr>\n",
       "      <th>3</th>\n",
       "      <td>1000_3</td>\n",
       "      <td>550.27</td>\n",
       "      <td>2018-08-22</td>\n",
       "      <td>1000</td>\n",
       "    </tr>\n",
       "    <tr>\n",
       "      <th>4</th>\n",
       "      <td>1000_4</td>\n",
       "      <td>302.56</td>\n",
       "      <td>2018-09-24</td>\n",
       "      <td>1000</td>\n",
       "    </tr>\n",
       "  </tbody>\n",
       "</table>\n",
       "</div>"
      ],
      "text/plain": [
       "       id  mb_used session_date  user_id\n",
       "0  1000_0   112.95   2018-11-25     1000\n",
       "1  1000_1  1052.81   2018-09-07     1000\n",
       "2  1000_2  1197.26   2018-06-25     1000\n",
       "3  1000_3   550.27   2018-08-22     1000\n",
       "4  1000_4   302.56   2018-09-24     1000"
      ]
     },
     "metadata": {},
     "output_type": "display_data"
    },
    {
     "name": "stdout",
     "output_type": "stream",
     "text": [
      "Index(['id', 'mb_used', 'session_date', 'user_id'], dtype='object')\n",
      "<class 'pandas.core.frame.DataFrame'>\n",
      "Int64Index: 149396 entries, 0 to 149395\n",
      "Data columns (total 4 columns):\n",
      " #   Column        Non-Null Count   Dtype         \n",
      "---  ------        --------------   -----         \n",
      " 0   id            149396 non-null  object        \n",
      " 1   mb_used       149396 non-null  float64       \n",
      " 2   session_date  149396 non-null  datetime64[ns]\n",
      " 3   user_id       149396 non-null  int64         \n",
      "dtypes: datetime64[ns](1), float64(1), int64(1), object(1)\n",
      "memory usage: 5.7+ MB\n",
      "Количество дубликатов: 0\n"
     ]
    }
   ],
   "source": [
    "preprocessing(data_internet)"
   ]
  },
  {
   "cell_type": "markdown",
   "metadata": {},
   "source": [
    "Выведим общую информацию."
   ]
  },
  {
   "cell_type": "markdown",
   "metadata": {},
   "source": [
    "### Информация по тарифам (data_tariffs)"
   ]
  },
  {
   "cell_type": "markdown",
   "metadata": {},
   "source": [
    "Выведим таблицу."
   ]
  },
  {
   "cell_type": "code",
   "execution_count": 17,
   "metadata": {},
   "outputs": [
    {
     "data": {
      "text/html": [
       "<div>\n",
       "<style scoped>\n",
       "    .dataframe tbody tr th:only-of-type {\n",
       "        vertical-align: middle;\n",
       "    }\n",
       "\n",
       "    .dataframe tbody tr th {\n",
       "        vertical-align: top;\n",
       "    }\n",
       "\n",
       "    .dataframe thead th {\n",
       "        text-align: right;\n",
       "    }\n",
       "</style>\n",
       "<table border=\"1\" class=\"dataframe\">\n",
       "  <thead>\n",
       "    <tr style=\"text-align: right;\">\n",
       "      <th></th>\n",
       "      <th>messages_included</th>\n",
       "      <th>mb_per_month_included</th>\n",
       "      <th>minutes_included</th>\n",
       "      <th>rub_monthly_fee</th>\n",
       "      <th>rub_per_gb</th>\n",
       "      <th>rub_per_message</th>\n",
       "      <th>rub_per_minute</th>\n",
       "      <th>tariff</th>\n",
       "    </tr>\n",
       "  </thead>\n",
       "  <tbody>\n",
       "    <tr>\n",
       "      <th>0</th>\n",
       "      <td>50</td>\n",
       "      <td>15360</td>\n",
       "      <td>500</td>\n",
       "      <td>550</td>\n",
       "      <td>200</td>\n",
       "      <td>3</td>\n",
       "      <td>3</td>\n",
       "      <td>smart</td>\n",
       "    </tr>\n",
       "    <tr>\n",
       "      <th>1</th>\n",
       "      <td>1000</td>\n",
       "      <td>30720</td>\n",
       "      <td>3000</td>\n",
       "      <td>1950</td>\n",
       "      <td>150</td>\n",
       "      <td>1</td>\n",
       "      <td>1</td>\n",
       "      <td>ultra</td>\n",
       "    </tr>\n",
       "  </tbody>\n",
       "</table>\n",
       "</div>"
      ],
      "text/plain": [
       "   messages_included  mb_per_month_included  minutes_included  \\\n",
       "0                 50                  15360               500   \n",
       "1               1000                  30720              3000   \n",
       "\n",
       "   rub_monthly_fee  rub_per_gb  rub_per_message  rub_per_minute tariff  \n",
       "0              550         200                3               3  smart  \n",
       "1             1950         150                1               1  ultra  "
      ]
     },
     "metadata": {},
     "output_type": "display_data"
    },
    {
     "name": "stdout",
     "output_type": "stream",
     "text": [
      "Index(['messages_included', 'mb_per_month_included', 'minutes_included',\n",
      "       'rub_monthly_fee', 'rub_per_gb', 'rub_per_message', 'rub_per_minute',\n",
      "       'tariff'],\n",
      "      dtype='object')\n",
      "<class 'pandas.core.frame.DataFrame'>\n",
      "RangeIndex: 2 entries, 0 to 1\n",
      "Data columns (total 8 columns):\n",
      " #   Column                 Non-Null Count  Dtype \n",
      "---  ------                 --------------  ----- \n",
      " 0   messages_included      2 non-null      int64 \n",
      " 1   mb_per_month_included  2 non-null      int64 \n",
      " 2   minutes_included       2 non-null      int64 \n",
      " 3   rub_monthly_fee        2 non-null      int64 \n",
      " 4   rub_per_gb             2 non-null      int64 \n",
      " 5   rub_per_message        2 non-null      int64 \n",
      " 6   rub_per_minute         2 non-null      int64 \n",
      " 7   tariff                 2 non-null      object\n",
      "dtypes: int64(7), object(1)\n",
      "memory usage: 256.0+ bytes\n",
      "Количество дубликатов: 0\n"
     ]
    }
   ],
   "source": [
    "preprocessing(data_tariffs)"
   ]
  },
  {
   "cell_type": "markdown",
   "metadata": {},
   "source": [
    "Данные в нормальном состоянии."
   ]
  },
  {
   "cell_type": "markdown",
   "metadata": {},
   "source": [
    "### Информация по пользователям (data_users)"
   ]
  },
  {
   "cell_type": "markdown",
   "metadata": {},
   "source": [
    "Выведим таблицу."
   ]
  },
  {
   "cell_type": "code",
   "execution_count": 18,
   "metadata": {},
   "outputs": [
    {
     "data": {
      "text/html": [
       "<div>\n",
       "<style scoped>\n",
       "    .dataframe tbody tr th:only-of-type {\n",
       "        vertical-align: middle;\n",
       "    }\n",
       "\n",
       "    .dataframe tbody tr th {\n",
       "        vertical-align: top;\n",
       "    }\n",
       "\n",
       "    .dataframe thead th {\n",
       "        text-align: right;\n",
       "    }\n",
       "</style>\n",
       "<table border=\"1\" class=\"dataframe\">\n",
       "  <thead>\n",
       "    <tr style=\"text-align: right;\">\n",
       "      <th></th>\n",
       "      <th>user_id</th>\n",
       "      <th>age</th>\n",
       "      <th>churn_date</th>\n",
       "      <th>city</th>\n",
       "      <th>first_name</th>\n",
       "      <th>last_name</th>\n",
       "      <th>reg_date</th>\n",
       "      <th>tariff</th>\n",
       "    </tr>\n",
       "  </thead>\n",
       "  <tbody>\n",
       "    <tr>\n",
       "      <th>0</th>\n",
       "      <td>1000</td>\n",
       "      <td>52</td>\n",
       "      <td>NaN</td>\n",
       "      <td>Краснодар</td>\n",
       "      <td>Рафаил</td>\n",
       "      <td>Верещагин</td>\n",
       "      <td>2018-05-25</td>\n",
       "      <td>ultra</td>\n",
       "    </tr>\n",
       "    <tr>\n",
       "      <th>1</th>\n",
       "      <td>1001</td>\n",
       "      <td>41</td>\n",
       "      <td>NaN</td>\n",
       "      <td>Москва</td>\n",
       "      <td>Иван</td>\n",
       "      <td>Ежов</td>\n",
       "      <td>2018-11-01</td>\n",
       "      <td>smart</td>\n",
       "    </tr>\n",
       "    <tr>\n",
       "      <th>2</th>\n",
       "      <td>1002</td>\n",
       "      <td>59</td>\n",
       "      <td>NaN</td>\n",
       "      <td>Стерлитамак</td>\n",
       "      <td>Евгений</td>\n",
       "      <td>Абрамович</td>\n",
       "      <td>2018-06-17</td>\n",
       "      <td>smart</td>\n",
       "    </tr>\n",
       "    <tr>\n",
       "      <th>3</th>\n",
       "      <td>1003</td>\n",
       "      <td>23</td>\n",
       "      <td>NaN</td>\n",
       "      <td>Москва</td>\n",
       "      <td>Белла</td>\n",
       "      <td>Белякова</td>\n",
       "      <td>2018-08-17</td>\n",
       "      <td>ultra</td>\n",
       "    </tr>\n",
       "    <tr>\n",
       "      <th>4</th>\n",
       "      <td>1004</td>\n",
       "      <td>68</td>\n",
       "      <td>NaN</td>\n",
       "      <td>Новокузнецк</td>\n",
       "      <td>Татьяна</td>\n",
       "      <td>Авдеенко</td>\n",
       "      <td>2018-05-14</td>\n",
       "      <td>ultra</td>\n",
       "    </tr>\n",
       "  </tbody>\n",
       "</table>\n",
       "</div>"
      ],
      "text/plain": [
       "   user_id  age churn_date         city first_name  last_name    reg_date  \\\n",
       "0     1000   52        NaN    Краснодар     Рафаил  Верещагин  2018-05-25   \n",
       "1     1001   41        NaN       Москва       Иван       Ежов  2018-11-01   \n",
       "2     1002   59        NaN  Стерлитамак    Евгений  Абрамович  2018-06-17   \n",
       "3     1003   23        NaN       Москва      Белла   Белякова  2018-08-17   \n",
       "4     1004   68        NaN  Новокузнецк    Татьяна   Авдеенко  2018-05-14   \n",
       "\n",
       "  tariff  \n",
       "0  ultra  \n",
       "1  smart  \n",
       "2  smart  \n",
       "3  ultra  \n",
       "4  ultra  "
      ]
     },
     "metadata": {},
     "output_type": "display_data"
    },
    {
     "name": "stdout",
     "output_type": "stream",
     "text": [
      "Index(['user_id', 'age', 'churn_date', 'city', 'first_name', 'last_name',\n",
      "       'reg_date', 'tariff'],\n",
      "      dtype='object')\n",
      "<class 'pandas.core.frame.DataFrame'>\n",
      "RangeIndex: 500 entries, 0 to 499\n",
      "Data columns (total 8 columns):\n",
      " #   Column      Non-Null Count  Dtype \n",
      "---  ------      --------------  ----- \n",
      " 0   user_id     500 non-null    int64 \n",
      " 1   age         500 non-null    int64 \n",
      " 2   churn_date  38 non-null     object\n",
      " 3   city        500 non-null    object\n",
      " 4   first_name  500 non-null    object\n",
      " 5   last_name   500 non-null    object\n",
      " 6   reg_date    500 non-null    object\n",
      " 7   tariff      500 non-null    object\n",
      "dtypes: int64(2), object(6)\n",
      "memory usage: 31.4+ KB\n",
      "Количество дубликатов: 0\n"
     ]
    }
   ],
   "source": [
    "preprocessing(data_users)"
   ]
  },
  {
   "cell_type": "markdown",
   "metadata": {},
   "source": [
    "Столбцы `churn_date` и `reg_date` представлены с типом object, поэтому **конвертируем их в дату.**"
   ]
  },
  {
   "cell_type": "code",
   "execution_count": 19,
   "metadata": {},
   "outputs": [],
   "source": [
    "data_users['churn_date'] = pd.to_datetime(data_users['churn_date'], format='%Y-%m-%d')\n",
    "data_users['reg_date'] = pd.to_datetime(data_users['reg_date'], format='%Y-%m-%d')"
   ]
  },
  {
   "cell_type": "markdown",
   "metadata": {},
   "source": [
    "Выведим таблицу."
   ]
  },
  {
   "cell_type": "code",
   "execution_count": 20,
   "metadata": {},
   "outputs": [
    {
     "data": {
      "text/html": [
       "<div>\n",
       "<style scoped>\n",
       "    .dataframe tbody tr th:only-of-type {\n",
       "        vertical-align: middle;\n",
       "    }\n",
       "\n",
       "    .dataframe tbody tr th {\n",
       "        vertical-align: top;\n",
       "    }\n",
       "\n",
       "    .dataframe thead th {\n",
       "        text-align: right;\n",
       "    }\n",
       "</style>\n",
       "<table border=\"1\" class=\"dataframe\">\n",
       "  <thead>\n",
       "    <tr style=\"text-align: right;\">\n",
       "      <th></th>\n",
       "      <th>user_id</th>\n",
       "      <th>age</th>\n",
       "      <th>churn_date</th>\n",
       "      <th>city</th>\n",
       "      <th>first_name</th>\n",
       "      <th>last_name</th>\n",
       "      <th>reg_date</th>\n",
       "      <th>tariff</th>\n",
       "    </tr>\n",
       "  </thead>\n",
       "  <tbody>\n",
       "    <tr>\n",
       "      <th>0</th>\n",
       "      <td>1000</td>\n",
       "      <td>52</td>\n",
       "      <td>NaT</td>\n",
       "      <td>Краснодар</td>\n",
       "      <td>Рафаил</td>\n",
       "      <td>Верещагин</td>\n",
       "      <td>2018-05-25</td>\n",
       "      <td>ultra</td>\n",
       "    </tr>\n",
       "    <tr>\n",
       "      <th>1</th>\n",
       "      <td>1001</td>\n",
       "      <td>41</td>\n",
       "      <td>NaT</td>\n",
       "      <td>Москва</td>\n",
       "      <td>Иван</td>\n",
       "      <td>Ежов</td>\n",
       "      <td>2018-11-01</td>\n",
       "      <td>smart</td>\n",
       "    </tr>\n",
       "    <tr>\n",
       "      <th>2</th>\n",
       "      <td>1002</td>\n",
       "      <td>59</td>\n",
       "      <td>NaT</td>\n",
       "      <td>Стерлитамак</td>\n",
       "      <td>Евгений</td>\n",
       "      <td>Абрамович</td>\n",
       "      <td>2018-06-17</td>\n",
       "      <td>smart</td>\n",
       "    </tr>\n",
       "    <tr>\n",
       "      <th>3</th>\n",
       "      <td>1003</td>\n",
       "      <td>23</td>\n",
       "      <td>NaT</td>\n",
       "      <td>Москва</td>\n",
       "      <td>Белла</td>\n",
       "      <td>Белякова</td>\n",
       "      <td>2018-08-17</td>\n",
       "      <td>ultra</td>\n",
       "    </tr>\n",
       "    <tr>\n",
       "      <th>4</th>\n",
       "      <td>1004</td>\n",
       "      <td>68</td>\n",
       "      <td>NaT</td>\n",
       "      <td>Новокузнецк</td>\n",
       "      <td>Татьяна</td>\n",
       "      <td>Авдеенко</td>\n",
       "      <td>2018-05-14</td>\n",
       "      <td>ultra</td>\n",
       "    </tr>\n",
       "  </tbody>\n",
       "</table>\n",
       "</div>"
      ],
      "text/plain": [
       "   user_id  age churn_date         city first_name  last_name   reg_date  \\\n",
       "0     1000   52        NaT    Краснодар     Рафаил  Верещагин 2018-05-25   \n",
       "1     1001   41        NaT       Москва       Иван       Ежов 2018-11-01   \n",
       "2     1002   59        NaT  Стерлитамак    Евгений  Абрамович 2018-06-17   \n",
       "3     1003   23        NaT       Москва      Белла   Белякова 2018-08-17   \n",
       "4     1004   68        NaT  Новокузнецк    Татьяна   Авдеенко 2018-05-14   \n",
       "\n",
       "  tariff  \n",
       "0  ultra  \n",
       "1  smart  \n",
       "2  smart  \n",
       "3  ultra  \n",
       "4  ultra  "
      ]
     },
     "metadata": {},
     "output_type": "display_data"
    },
    {
     "name": "stdout",
     "output_type": "stream",
     "text": [
      "Index(['user_id', 'age', 'churn_date', 'city', 'first_name', 'last_name',\n",
      "       'reg_date', 'tariff'],\n",
      "      dtype='object')\n",
      "<class 'pandas.core.frame.DataFrame'>\n",
      "RangeIndex: 500 entries, 0 to 499\n",
      "Data columns (total 8 columns):\n",
      " #   Column      Non-Null Count  Dtype         \n",
      "---  ------      --------------  -----         \n",
      " 0   user_id     500 non-null    int64         \n",
      " 1   age         500 non-null    int64         \n",
      " 2   churn_date  38 non-null     datetime64[ns]\n",
      " 3   city        500 non-null    object        \n",
      " 4   first_name  500 non-null    object        \n",
      " 5   last_name   500 non-null    object        \n",
      " 6   reg_date    500 non-null    datetime64[ns]\n",
      " 7   tariff      500 non-null    object        \n",
      "dtypes: datetime64[ns](2), int64(2), object(4)\n",
      "memory usage: 31.4+ KB\n",
      "Количество дубликатов: 0\n"
     ]
    }
   ],
   "source": [
    "preprocessing(data_users)"
   ]
  },
  {
   "cell_type": "markdown",
   "metadata": {},
   "source": [
    " ### Вывод "
   ]
  },
  {
   "cell_type": "markdown",
   "metadata": {},
   "source": [
    "**Данные в столбцах обработаны** и можно перейти к анализу данных."
   ]
  },
  {
   "cell_type": "markdown",
   "metadata": {},
   "source": [
    "## Анализ данных"
   ]
  },
  {
   "cell_type": "markdown",
   "metadata": {},
   "source": [
    "### Подготовка данных"
   ]
  },
  {
   "cell_type": "markdown",
   "metadata": {},
   "source": [
    "Посчитаем для каждого пользователя:\n",
    "* количество сделанных звонков и израсходованных минут разговора по месяцам;\n",
    "* количество отправленных сообщений по месяцам;\n",
    "* объем израсходованного интернет-трафика по месяцам;\n",
    "* помесячную выручку с каждого пользователя."
   ]
  },
  {
   "cell_type": "markdown",
   "metadata": {},
   "source": [
    "Создадим функцию для отображения первых и последних пяти строк."
   ]
  },
  {
   "cell_type": "code",
   "execution_count": 21,
   "metadata": {},
   "outputs": [],
   "source": [
    "def show(data):\n",
    "    display(data.head(5))\n",
    "    display(data.tail(5)) "
   ]
  },
  {
   "cell_type": "markdown",
   "metadata": {},
   "source": [
    "**Округляем длительность звонков.**"
   ]
  },
  {
   "cell_type": "code",
   "execution_count": 22,
   "metadata": {},
   "outputs": [],
   "source": [
    "data_calls['duration'] = np.ceil(data_calls['duration'])"
   ]
  },
  {
   "cell_type": "markdown",
   "metadata": {},
   "source": [
    "Создаем новую переменную куда **запишем месяц и сгрупируем по месяцам и пользователям.**"
   ]
  },
  {
   "cell_type": "markdown",
   "metadata": {},
   "source": [
    "**Группировка по звонкам**"
   ]
  },
  {
   "cell_type": "code",
   "execution_count": 23,
   "metadata": {},
   "outputs": [
    {
     "data": {
      "text/html": [
       "<div>\n",
       "<style scoped>\n",
       "    .dataframe tbody tr th:only-of-type {\n",
       "        vertical-align: middle;\n",
       "    }\n",
       "\n",
       "    .dataframe tbody tr th {\n",
       "        vertical-align: top;\n",
       "    }\n",
       "\n",
       "    .dataframe thead th {\n",
       "        text-align: right;\n",
       "    }\n",
       "</style>\n",
       "<table border=\"1\" class=\"dataframe\">\n",
       "  <thead>\n",
       "    <tr style=\"text-align: right;\">\n",
       "      <th></th>\n",
       "      <th>month</th>\n",
       "      <th>user_id</th>\n",
       "      <th>calls_count</th>\n",
       "      <th>calls_sum</th>\n",
       "    </tr>\n",
       "  </thead>\n",
       "  <tbody>\n",
       "    <tr>\n",
       "      <th>0</th>\n",
       "      <td>1</td>\n",
       "      <td>1005</td>\n",
       "      <td>15</td>\n",
       "      <td>95.0</td>\n",
       "    </tr>\n",
       "    <tr>\n",
       "      <th>1</th>\n",
       "      <td>1</td>\n",
       "      <td>1032</td>\n",
       "      <td>61</td>\n",
       "      <td>380.0</td>\n",
       "    </tr>\n",
       "    <tr>\n",
       "      <th>2</th>\n",
       "      <td>1</td>\n",
       "      <td>1045</td>\n",
       "      <td>1</td>\n",
       "      <td>9.0</td>\n",
       "    </tr>\n",
       "    <tr>\n",
       "      <th>3</th>\n",
       "      <td>1</td>\n",
       "      <td>1055</td>\n",
       "      <td>64</td>\n",
       "      <td>551.0</td>\n",
       "    </tr>\n",
       "    <tr>\n",
       "      <th>4</th>\n",
       "      <td>1</td>\n",
       "      <td>1071</td>\n",
       "      <td>24</td>\n",
       "      <td>194.0</td>\n",
       "    </tr>\n",
       "  </tbody>\n",
       "</table>\n",
       "</div>"
      ],
      "text/plain": [
       "   month  user_id  calls_count  calls_sum\n",
       "0      1     1005           15       95.0\n",
       "1      1     1032           61      380.0\n",
       "2      1     1045            1        9.0\n",
       "3      1     1055           64      551.0\n",
       "4      1     1071           24      194.0"
      ]
     },
     "metadata": {},
     "output_type": "display_data"
    },
    {
     "data": {
      "text/html": [
       "<div>\n",
       "<style scoped>\n",
       "    .dataframe tbody tr th:only-of-type {\n",
       "        vertical-align: middle;\n",
       "    }\n",
       "\n",
       "    .dataframe tbody tr th {\n",
       "        vertical-align: top;\n",
       "    }\n",
       "\n",
       "    .dataframe thead th {\n",
       "        text-align: right;\n",
       "    }\n",
       "</style>\n",
       "<table border=\"1\" class=\"dataframe\">\n",
       "  <thead>\n",
       "    <tr style=\"text-align: right;\">\n",
       "      <th></th>\n",
       "      <th>month</th>\n",
       "      <th>user_id</th>\n",
       "      <th>calls_count</th>\n",
       "      <th>calls_sum</th>\n",
       "    </tr>\n",
       "  </thead>\n",
       "  <tbody>\n",
       "    <tr>\n",
       "      <th>3169</th>\n",
       "      <td>12</td>\n",
       "      <td>1494</td>\n",
       "      <td>62</td>\n",
       "      <td>418.0</td>\n",
       "    </tr>\n",
       "    <tr>\n",
       "      <th>3170</th>\n",
       "      <td>12</td>\n",
       "      <td>1495</td>\n",
       "      <td>155</td>\n",
       "      <td>1031.0</td>\n",
       "    </tr>\n",
       "    <tr>\n",
       "      <th>3171</th>\n",
       "      <td>12</td>\n",
       "      <td>1496</td>\n",
       "      <td>80</td>\n",
       "      <td>518.0</td>\n",
       "    </tr>\n",
       "    <tr>\n",
       "      <th>3172</th>\n",
       "      <td>12</td>\n",
       "      <td>1497</td>\n",
       "      <td>71</td>\n",
       "      <td>545.0</td>\n",
       "    </tr>\n",
       "    <tr>\n",
       "      <th>3173</th>\n",
       "      <td>12</td>\n",
       "      <td>1499</td>\n",
       "      <td>69</td>\n",
       "      <td>492.0</td>\n",
       "    </tr>\n",
       "  </tbody>\n",
       "</table>\n",
       "</div>"
      ],
      "text/plain": [
       "      month  user_id  calls_count  calls_sum\n",
       "3169     12     1494           62      418.0\n",
       "3170     12     1495          155     1031.0\n",
       "3171     12     1496           80      518.0\n",
       "3172     12     1497           71      545.0\n",
       "3173     12     1499           69      492.0"
      ]
     },
     "metadata": {},
     "output_type": "display_data"
    }
   ],
   "source": [
    "data_calls['month'] = pd.DatetimeIndex(data_calls['call_date']).month\n",
    "\n",
    "group_calls = (data_calls\n",
    "               .pivot_table(index=['month','user_id'], values='duration', aggfunc=['count', 'sum']).reset_index())\n",
    "\n",
    "group_calls.columns = ['month', 'user_id', 'calls_count', 'calls_sum']\n",
    "\n",
    "show(group_calls)"
   ]
  },
  {
   "cell_type": "markdown",
   "metadata": {},
   "source": [
    "**Группировка по сообщениям**"
   ]
  },
  {
   "cell_type": "code",
   "execution_count": 24,
   "metadata": {},
   "outputs": [
    {
     "data": {
      "text/html": [
       "<div>\n",
       "<style scoped>\n",
       "    .dataframe tbody tr th:only-of-type {\n",
       "        vertical-align: middle;\n",
       "    }\n",
       "\n",
       "    .dataframe tbody tr th {\n",
       "        vertical-align: top;\n",
       "    }\n",
       "\n",
       "    .dataframe thead th {\n",
       "        text-align: right;\n",
       "    }\n",
       "</style>\n",
       "<table border=\"1\" class=\"dataframe\">\n",
       "  <thead>\n",
       "    <tr style=\"text-align: right;\">\n",
       "      <th></th>\n",
       "      <th>month</th>\n",
       "      <th>user_id</th>\n",
       "      <th>messages</th>\n",
       "    </tr>\n",
       "  </thead>\n",
       "  <tbody>\n",
       "    <tr>\n",
       "      <th>0</th>\n",
       "      <td>1</td>\n",
       "      <td>1005</td>\n",
       "      <td>7</td>\n",
       "    </tr>\n",
       "    <tr>\n",
       "      <th>1</th>\n",
       "      <td>1</td>\n",
       "      <td>1032</td>\n",
       "      <td>38</td>\n",
       "    </tr>\n",
       "    <tr>\n",
       "      <th>2</th>\n",
       "      <td>1</td>\n",
       "      <td>1045</td>\n",
       "      <td>5</td>\n",
       "    </tr>\n",
       "    <tr>\n",
       "      <th>3</th>\n",
       "      <td>1</td>\n",
       "      <td>1055</td>\n",
       "      <td>30</td>\n",
       "    </tr>\n",
       "    <tr>\n",
       "      <th>4</th>\n",
       "      <td>1</td>\n",
       "      <td>1071</td>\n",
       "      <td>16</td>\n",
       "    </tr>\n",
       "  </tbody>\n",
       "</table>\n",
       "</div>"
      ],
      "text/plain": [
       "   month  user_id  messages\n",
       "0      1     1005         7\n",
       "1      1     1032        38\n",
       "2      1     1045         5\n",
       "3      1     1055        30\n",
       "4      1     1071        16"
      ]
     },
     "metadata": {},
     "output_type": "display_data"
    },
    {
     "data": {
      "text/html": [
       "<div>\n",
       "<style scoped>\n",
       "    .dataframe tbody tr th:only-of-type {\n",
       "        vertical-align: middle;\n",
       "    }\n",
       "\n",
       "    .dataframe tbody tr th {\n",
       "        vertical-align: top;\n",
       "    }\n",
       "\n",
       "    .dataframe thead th {\n",
       "        text-align: right;\n",
       "    }\n",
       "</style>\n",
       "<table border=\"1\" class=\"dataframe\">\n",
       "  <thead>\n",
       "    <tr style=\"text-align: right;\">\n",
       "      <th></th>\n",
       "      <th>month</th>\n",
       "      <th>user_id</th>\n",
       "      <th>messages</th>\n",
       "    </tr>\n",
       "  </thead>\n",
       "  <tbody>\n",
       "    <tr>\n",
       "      <th>2712</th>\n",
       "      <td>12</td>\n",
       "      <td>1493</td>\n",
       "      <td>78</td>\n",
       "    </tr>\n",
       "    <tr>\n",
       "      <th>2713</th>\n",
       "      <td>12</td>\n",
       "      <td>1495</td>\n",
       "      <td>84</td>\n",
       "    </tr>\n",
       "    <tr>\n",
       "      <th>2714</th>\n",
       "      <td>12</td>\n",
       "      <td>1496</td>\n",
       "      <td>51</td>\n",
       "    </tr>\n",
       "    <tr>\n",
       "      <th>2715</th>\n",
       "      <td>12</td>\n",
       "      <td>1497</td>\n",
       "      <td>17</td>\n",
       "    </tr>\n",
       "    <tr>\n",
       "      <th>2716</th>\n",
       "      <td>12</td>\n",
       "      <td>1499</td>\n",
       "      <td>66</td>\n",
       "    </tr>\n",
       "  </tbody>\n",
       "</table>\n",
       "</div>"
      ],
      "text/plain": [
       "      month  user_id  messages\n",
       "2712     12     1493        78\n",
       "2713     12     1495        84\n",
       "2714     12     1496        51\n",
       "2715     12     1497        17\n",
       "2716     12     1499        66"
      ]
     },
     "metadata": {},
     "output_type": "display_data"
    }
   ],
   "source": [
    "data_messages['month'] = pd.DatetimeIndex(data_messages['message_date']).month\n",
    "\n",
    "group_messages = (data_messages\n",
    "                  .pivot_table(index=['month','user_id'], values='id', aggfunc='count').reset_index())\n",
    "\n",
    "group_messages.columns = ['month', 'user_id', 'messages']\n",
    "\n",
    "show(group_messages)"
   ]
  },
  {
   "cell_type": "markdown",
   "metadata": {},
   "source": [
    "**Группировка по интернету**"
   ]
  },
  {
   "cell_type": "code",
   "execution_count": 25,
   "metadata": {},
   "outputs": [
    {
     "data": {
      "text/html": [
       "<div>\n",
       "<style scoped>\n",
       "    .dataframe tbody tr th:only-of-type {\n",
       "        vertical-align: middle;\n",
       "    }\n",
       "\n",
       "    .dataframe tbody tr th {\n",
       "        vertical-align: top;\n",
       "    }\n",
       "\n",
       "    .dataframe thead th {\n",
       "        text-align: right;\n",
       "    }\n",
       "</style>\n",
       "<table border=\"1\" class=\"dataframe\">\n",
       "  <thead>\n",
       "    <tr style=\"text-align: right;\">\n",
       "      <th></th>\n",
       "      <th>month</th>\n",
       "      <th>user_id</th>\n",
       "      <th>internet</th>\n",
       "    </tr>\n",
       "  </thead>\n",
       "  <tbody>\n",
       "    <tr>\n",
       "      <th>0</th>\n",
       "      <td>1</td>\n",
       "      <td>1005</td>\n",
       "      <td>2727.97</td>\n",
       "    </tr>\n",
       "    <tr>\n",
       "      <th>1</th>\n",
       "      <td>1</td>\n",
       "      <td>1032</td>\n",
       "      <td>24127.69</td>\n",
       "    </tr>\n",
       "    <tr>\n",
       "      <th>2</th>\n",
       "      <td>1</td>\n",
       "      <td>1045</td>\n",
       "      <td>2346.71</td>\n",
       "    </tr>\n",
       "    <tr>\n",
       "      <th>3</th>\n",
       "      <td>1</td>\n",
       "      <td>1055</td>\n",
       "      <td>17090.88</td>\n",
       "    </tr>\n",
       "    <tr>\n",
       "      <th>4</th>\n",
       "      <td>1</td>\n",
       "      <td>1071</td>\n",
       "      <td>15604.34</td>\n",
       "    </tr>\n",
       "  </tbody>\n",
       "</table>\n",
       "</div>"
      ],
      "text/plain": [
       "   month  user_id  internet\n",
       "0      1     1005   2727.97\n",
       "1      1     1032  24127.69\n",
       "2      1     1045   2346.71\n",
       "3      1     1055  17090.88\n",
       "4      1     1071  15604.34"
      ]
     },
     "metadata": {},
     "output_type": "display_data"
    },
    {
     "data": {
      "text/html": [
       "<div>\n",
       "<style scoped>\n",
       "    .dataframe tbody tr th:only-of-type {\n",
       "        vertical-align: middle;\n",
       "    }\n",
       "\n",
       "    .dataframe tbody tr th {\n",
       "        vertical-align: top;\n",
       "    }\n",
       "\n",
       "    .dataframe thead th {\n",
       "        text-align: right;\n",
       "    }\n",
       "</style>\n",
       "<table border=\"1\" class=\"dataframe\">\n",
       "  <thead>\n",
       "    <tr style=\"text-align: right;\">\n",
       "      <th></th>\n",
       "      <th>month</th>\n",
       "      <th>user_id</th>\n",
       "      <th>internet</th>\n",
       "    </tr>\n",
       "  </thead>\n",
       "  <tbody>\n",
       "    <tr>\n",
       "      <th>3198</th>\n",
       "      <td>12</td>\n",
       "      <td>1494</td>\n",
       "      <td>17621.21</td>\n",
       "    </tr>\n",
       "    <tr>\n",
       "      <th>3199</th>\n",
       "      <td>12</td>\n",
       "      <td>1495</td>\n",
       "      <td>23426.76</td>\n",
       "    </tr>\n",
       "    <tr>\n",
       "      <th>3200</th>\n",
       "      <td>12</td>\n",
       "      <td>1496</td>\n",
       "      <td>20736.15</td>\n",
       "    </tr>\n",
       "    <tr>\n",
       "      <th>3201</th>\n",
       "      <td>12</td>\n",
       "      <td>1497</td>\n",
       "      <td>19918.60</td>\n",
       "    </tr>\n",
       "    <tr>\n",
       "      <th>3202</th>\n",
       "      <td>12</td>\n",
       "      <td>1499</td>\n",
       "      <td>13055.58</td>\n",
       "    </tr>\n",
       "  </tbody>\n",
       "</table>\n",
       "</div>"
      ],
      "text/plain": [
       "      month  user_id  internet\n",
       "3198     12     1494  17621.21\n",
       "3199     12     1495  23426.76\n",
       "3200     12     1496  20736.15\n",
       "3201     12     1497  19918.60\n",
       "3202     12     1499  13055.58"
      ]
     },
     "metadata": {},
     "output_type": "display_data"
    }
   ],
   "source": [
    "data_internet['month'] = pd.DatetimeIndex(data_internet['session_date']).month\n",
    "\n",
    "group_internet = (data_internet\n",
    "               .pivot_table(index=['month','user_id'], values='mb_used', aggfunc='sum').reset_index())\n",
    "\n",
    "group_internet.columns = ['month', 'user_id', 'internet']\n",
    "\n",
    "show(group_internet)"
   ]
  },
  {
   "cell_type": "markdown",
   "metadata": {},
   "source": [
    "Убираем ошибку."
   ]
  },
  {
   "cell_type": "code",
   "execution_count": 26,
   "metadata": {},
   "outputs": [],
   "source": [
    "warnings.filterwarnings(\"ignore\")"
   ]
  },
  {
   "cell_type": "markdown",
   "metadata": {},
   "source": [
    "**Общая таблица: звонки, сообщения и интернет**"
   ]
  },
  {
   "cell_type": "code",
   "execution_count": 27,
   "metadata": {
    "scrolled": true
   },
   "outputs": [],
   "source": [
    "group_data = group_calls.merge(group_messages, on = ['month','user_id'], how='outer')\n",
    "group_data = group_data.merge(group_internet, on = ['month','user_id'], how='outer')\n",
    "group_data = group_data.fillna(0)"
   ]
  },
  {
   "cell_type": "code",
   "execution_count": 28,
   "metadata": {},
   "outputs": [
    {
     "data": {
      "text/html": [
       "<div>\n",
       "<style scoped>\n",
       "    .dataframe tbody tr th:only-of-type {\n",
       "        vertical-align: middle;\n",
       "    }\n",
       "\n",
       "    .dataframe tbody tr th {\n",
       "        vertical-align: top;\n",
       "    }\n",
       "\n",
       "    .dataframe thead th {\n",
       "        text-align: right;\n",
       "    }\n",
       "</style>\n",
       "<table border=\"1\" class=\"dataframe\">\n",
       "  <thead>\n",
       "    <tr style=\"text-align: right;\">\n",
       "      <th></th>\n",
       "      <th>month</th>\n",
       "      <th>user_id</th>\n",
       "      <th>calls_count</th>\n",
       "      <th>calls_sum</th>\n",
       "      <th>messages</th>\n",
       "      <th>internet</th>\n",
       "    </tr>\n",
       "  </thead>\n",
       "  <tbody>\n",
       "    <tr>\n",
       "      <th>0</th>\n",
       "      <td>1</td>\n",
       "      <td>1005</td>\n",
       "      <td>15.0</td>\n",
       "      <td>95.0</td>\n",
       "      <td>7.0</td>\n",
       "      <td>2727.97</td>\n",
       "    </tr>\n",
       "    <tr>\n",
       "      <th>1</th>\n",
       "      <td>1</td>\n",
       "      <td>1032</td>\n",
       "      <td>61.0</td>\n",
       "      <td>380.0</td>\n",
       "      <td>38.0</td>\n",
       "      <td>24127.69</td>\n",
       "    </tr>\n",
       "    <tr>\n",
       "      <th>2</th>\n",
       "      <td>1</td>\n",
       "      <td>1045</td>\n",
       "      <td>1.0</td>\n",
       "      <td>9.0</td>\n",
       "      <td>5.0</td>\n",
       "      <td>2346.71</td>\n",
       "    </tr>\n",
       "    <tr>\n",
       "      <th>3</th>\n",
       "      <td>1</td>\n",
       "      <td>1055</td>\n",
       "      <td>64.0</td>\n",
       "      <td>551.0</td>\n",
       "      <td>30.0</td>\n",
       "      <td>17090.88</td>\n",
       "    </tr>\n",
       "    <tr>\n",
       "      <th>4</th>\n",
       "      <td>1</td>\n",
       "      <td>1071</td>\n",
       "      <td>24.0</td>\n",
       "      <td>194.0</td>\n",
       "      <td>16.0</td>\n",
       "      <td>15604.34</td>\n",
       "    </tr>\n",
       "  </tbody>\n",
       "</table>\n",
       "</div>"
      ],
      "text/plain": [
       "   month  user_id  calls_count  calls_sum  messages  internet\n",
       "0      1     1005         15.0       95.0       7.0   2727.97\n",
       "1      1     1032         61.0      380.0      38.0  24127.69\n",
       "2      1     1045          1.0        9.0       5.0   2346.71\n",
       "3      1     1055         64.0      551.0      30.0  17090.88\n",
       "4      1     1071         24.0      194.0      16.0  15604.34"
      ]
     },
     "metadata": {},
     "output_type": "display_data"
    },
    {
     "data": {
      "text/html": [
       "<div>\n",
       "<style scoped>\n",
       "    .dataframe tbody tr th:only-of-type {\n",
       "        vertical-align: middle;\n",
       "    }\n",
       "\n",
       "    .dataframe tbody tr th {\n",
       "        vertical-align: top;\n",
       "    }\n",
       "\n",
       "    .dataframe thead th {\n",
       "        text-align: right;\n",
       "    }\n",
       "</style>\n",
       "<table border=\"1\" class=\"dataframe\">\n",
       "  <thead>\n",
       "    <tr style=\"text-align: right;\">\n",
       "      <th></th>\n",
       "      <th>month</th>\n",
       "      <th>user_id</th>\n",
       "      <th>calls_count</th>\n",
       "      <th>calls_sum</th>\n",
       "      <th>messages</th>\n",
       "      <th>internet</th>\n",
       "    </tr>\n",
       "  </thead>\n",
       "  <tbody>\n",
       "    <tr>\n",
       "      <th>3209</th>\n",
       "      <td>12</td>\n",
       "      <td>1231</td>\n",
       "      <td>0.0</td>\n",
       "      <td>0.0</td>\n",
       "      <td>191.0</td>\n",
       "      <td>32448.00</td>\n",
       "    </tr>\n",
       "    <tr>\n",
       "      <th>3210</th>\n",
       "      <td>12</td>\n",
       "      <td>1328</td>\n",
       "      <td>0.0</td>\n",
       "      <td>0.0</td>\n",
       "      <td>7.0</td>\n",
       "      <td>39419.73</td>\n",
       "    </tr>\n",
       "    <tr>\n",
       "      <th>3211</th>\n",
       "      <td>12</td>\n",
       "      <td>1473</td>\n",
       "      <td>0.0</td>\n",
       "      <td>0.0</td>\n",
       "      <td>20.0</td>\n",
       "      <td>18418.26</td>\n",
       "    </tr>\n",
       "    <tr>\n",
       "      <th>3212</th>\n",
       "      <td>12</td>\n",
       "      <td>1489</td>\n",
       "      <td>0.0</td>\n",
       "      <td>0.0</td>\n",
       "      <td>35.0</td>\n",
       "      <td>17322.51</td>\n",
       "    </tr>\n",
       "    <tr>\n",
       "      <th>3213</th>\n",
       "      <td>4</td>\n",
       "      <td>1476</td>\n",
       "      <td>0.0</td>\n",
       "      <td>0.0</td>\n",
       "      <td>0.0</td>\n",
       "      <td>530.78</td>\n",
       "    </tr>\n",
       "  </tbody>\n",
       "</table>\n",
       "</div>"
      ],
      "text/plain": [
       "      month  user_id  calls_count  calls_sum  messages  internet\n",
       "3209     12     1231          0.0        0.0     191.0  32448.00\n",
       "3210     12     1328          0.0        0.0       7.0  39419.73\n",
       "3211     12     1473          0.0        0.0      20.0  18418.26\n",
       "3212     12     1489          0.0        0.0      35.0  17322.51\n",
       "3213      4     1476          0.0        0.0       0.0    530.78"
      ]
     },
     "metadata": {},
     "output_type": "display_data"
    }
   ],
   "source": [
    "show(group_data)"
   ]
  },
  {
   "cell_type": "markdown",
   "metadata": {},
   "source": [
    "**Добавим в общую таблицу данные по пользователям и тарифам.** Уберем лишние данные."
   ]
  },
  {
   "cell_type": "code",
   "execution_count": 29,
   "metadata": {},
   "outputs": [],
   "source": [
    "group_data = group_data.merge(data_users, on = 'user_id', how='left')\n",
    "group_data = group_data.merge(data_tariffs, on = 'tariff', how='left')\n",
    "group_data = group_data.drop(['age', 'churn_date', 'city','first_name','last_name','reg_date'], axis = 1)"
   ]
  },
  {
   "cell_type": "code",
   "execution_count": 30,
   "metadata": {},
   "outputs": [],
   "source": [
    "group_data.loc[(group_data['mb_per_month_included'] == 15360), 'mb_per_month_included'] = 15\n",
    "group_data.loc[(group_data['mb_per_month_included'] == 30720), 'mb_per_month_included'] = 30"
   ]
  },
  {
   "cell_type": "code",
   "execution_count": 31,
   "metadata": {},
   "outputs": [
    {
     "data": {
      "text/html": [
       "<div>\n",
       "<style scoped>\n",
       "    .dataframe tbody tr th:only-of-type {\n",
       "        vertical-align: middle;\n",
       "    }\n",
       "\n",
       "    .dataframe tbody tr th {\n",
       "        vertical-align: top;\n",
       "    }\n",
       "\n",
       "    .dataframe thead th {\n",
       "        text-align: right;\n",
       "    }\n",
       "</style>\n",
       "<table border=\"1\" class=\"dataframe\">\n",
       "  <thead>\n",
       "    <tr style=\"text-align: right;\">\n",
       "      <th></th>\n",
       "      <th>month</th>\n",
       "      <th>user_id</th>\n",
       "      <th>calls_count</th>\n",
       "      <th>calls_sum</th>\n",
       "      <th>messages</th>\n",
       "      <th>internet</th>\n",
       "      <th>tariff</th>\n",
       "      <th>messages_included</th>\n",
       "      <th>mb_per_month_included</th>\n",
       "      <th>minutes_included</th>\n",
       "      <th>rub_monthly_fee</th>\n",
       "      <th>rub_per_gb</th>\n",
       "      <th>rub_per_message</th>\n",
       "      <th>rub_per_minute</th>\n",
       "    </tr>\n",
       "  </thead>\n",
       "  <tbody>\n",
       "    <tr>\n",
       "      <th>0</th>\n",
       "      <td>1</td>\n",
       "      <td>1005</td>\n",
       "      <td>15.0</td>\n",
       "      <td>95.0</td>\n",
       "      <td>7.0</td>\n",
       "      <td>2727.97</td>\n",
       "      <td>smart</td>\n",
       "      <td>50</td>\n",
       "      <td>15</td>\n",
       "      <td>500</td>\n",
       "      <td>550</td>\n",
       "      <td>200</td>\n",
       "      <td>3</td>\n",
       "      <td>3</td>\n",
       "    </tr>\n",
       "    <tr>\n",
       "      <th>1</th>\n",
       "      <td>1</td>\n",
       "      <td>1032</td>\n",
       "      <td>61.0</td>\n",
       "      <td>380.0</td>\n",
       "      <td>38.0</td>\n",
       "      <td>24127.69</td>\n",
       "      <td>smart</td>\n",
       "      <td>50</td>\n",
       "      <td>15</td>\n",
       "      <td>500</td>\n",
       "      <td>550</td>\n",
       "      <td>200</td>\n",
       "      <td>3</td>\n",
       "      <td>3</td>\n",
       "    </tr>\n",
       "    <tr>\n",
       "      <th>2</th>\n",
       "      <td>1</td>\n",
       "      <td>1045</td>\n",
       "      <td>1.0</td>\n",
       "      <td>9.0</td>\n",
       "      <td>5.0</td>\n",
       "      <td>2346.71</td>\n",
       "      <td>smart</td>\n",
       "      <td>50</td>\n",
       "      <td>15</td>\n",
       "      <td>500</td>\n",
       "      <td>550</td>\n",
       "      <td>200</td>\n",
       "      <td>3</td>\n",
       "      <td>3</td>\n",
       "    </tr>\n",
       "    <tr>\n",
       "      <th>3</th>\n",
       "      <td>1</td>\n",
       "      <td>1055</td>\n",
       "      <td>64.0</td>\n",
       "      <td>551.0</td>\n",
       "      <td>30.0</td>\n",
       "      <td>17090.88</td>\n",
       "      <td>smart</td>\n",
       "      <td>50</td>\n",
       "      <td>15</td>\n",
       "      <td>500</td>\n",
       "      <td>550</td>\n",
       "      <td>200</td>\n",
       "      <td>3</td>\n",
       "      <td>3</td>\n",
       "    </tr>\n",
       "    <tr>\n",
       "      <th>4</th>\n",
       "      <td>1</td>\n",
       "      <td>1071</td>\n",
       "      <td>24.0</td>\n",
       "      <td>194.0</td>\n",
       "      <td>16.0</td>\n",
       "      <td>15604.34</td>\n",
       "      <td>smart</td>\n",
       "      <td>50</td>\n",
       "      <td>15</td>\n",
       "      <td>500</td>\n",
       "      <td>550</td>\n",
       "      <td>200</td>\n",
       "      <td>3</td>\n",
       "      <td>3</td>\n",
       "    </tr>\n",
       "  </tbody>\n",
       "</table>\n",
       "</div>"
      ],
      "text/plain": [
       "   month  user_id  calls_count  calls_sum  messages  internet tariff  \\\n",
       "0      1     1005         15.0       95.0       7.0   2727.97  smart   \n",
       "1      1     1032         61.0      380.0      38.0  24127.69  smart   \n",
       "2      1     1045          1.0        9.0       5.0   2346.71  smart   \n",
       "3      1     1055         64.0      551.0      30.0  17090.88  smart   \n",
       "4      1     1071         24.0      194.0      16.0  15604.34  smart   \n",
       "\n",
       "   messages_included  mb_per_month_included  minutes_included  \\\n",
       "0                 50                     15               500   \n",
       "1                 50                     15               500   \n",
       "2                 50                     15               500   \n",
       "3                 50                     15               500   \n",
       "4                 50                     15               500   \n",
       "\n",
       "   rub_monthly_fee  rub_per_gb  rub_per_message  rub_per_minute  \n",
       "0              550         200                3               3  \n",
       "1              550         200                3               3  \n",
       "2              550         200                3               3  \n",
       "3              550         200                3               3  \n",
       "4              550         200                3               3  "
      ]
     },
     "metadata": {},
     "output_type": "display_data"
    },
    {
     "data": {
      "text/html": [
       "<div>\n",
       "<style scoped>\n",
       "    .dataframe tbody tr th:only-of-type {\n",
       "        vertical-align: middle;\n",
       "    }\n",
       "\n",
       "    .dataframe tbody tr th {\n",
       "        vertical-align: top;\n",
       "    }\n",
       "\n",
       "    .dataframe thead th {\n",
       "        text-align: right;\n",
       "    }\n",
       "</style>\n",
       "<table border=\"1\" class=\"dataframe\">\n",
       "  <thead>\n",
       "    <tr style=\"text-align: right;\">\n",
       "      <th></th>\n",
       "      <th>month</th>\n",
       "      <th>user_id</th>\n",
       "      <th>calls_count</th>\n",
       "      <th>calls_sum</th>\n",
       "      <th>messages</th>\n",
       "      <th>internet</th>\n",
       "      <th>tariff</th>\n",
       "      <th>messages_included</th>\n",
       "      <th>mb_per_month_included</th>\n",
       "      <th>minutes_included</th>\n",
       "      <th>rub_monthly_fee</th>\n",
       "      <th>rub_per_gb</th>\n",
       "      <th>rub_per_message</th>\n",
       "      <th>rub_per_minute</th>\n",
       "    </tr>\n",
       "  </thead>\n",
       "  <tbody>\n",
       "    <tr>\n",
       "      <th>3209</th>\n",
       "      <td>12</td>\n",
       "      <td>1231</td>\n",
       "      <td>0.0</td>\n",
       "      <td>0.0</td>\n",
       "      <td>191.0</td>\n",
       "      <td>32448.00</td>\n",
       "      <td>ultra</td>\n",
       "      <td>1000</td>\n",
       "      <td>30</td>\n",
       "      <td>3000</td>\n",
       "      <td>1950</td>\n",
       "      <td>150</td>\n",
       "      <td>1</td>\n",
       "      <td>1</td>\n",
       "    </tr>\n",
       "    <tr>\n",
       "      <th>3210</th>\n",
       "      <td>12</td>\n",
       "      <td>1328</td>\n",
       "      <td>0.0</td>\n",
       "      <td>0.0</td>\n",
       "      <td>7.0</td>\n",
       "      <td>39419.73</td>\n",
       "      <td>ultra</td>\n",
       "      <td>1000</td>\n",
       "      <td>30</td>\n",
       "      <td>3000</td>\n",
       "      <td>1950</td>\n",
       "      <td>150</td>\n",
       "      <td>1</td>\n",
       "      <td>1</td>\n",
       "    </tr>\n",
       "    <tr>\n",
       "      <th>3211</th>\n",
       "      <td>12</td>\n",
       "      <td>1473</td>\n",
       "      <td>0.0</td>\n",
       "      <td>0.0</td>\n",
       "      <td>20.0</td>\n",
       "      <td>18418.26</td>\n",
       "      <td>ultra</td>\n",
       "      <td>1000</td>\n",
       "      <td>30</td>\n",
       "      <td>3000</td>\n",
       "      <td>1950</td>\n",
       "      <td>150</td>\n",
       "      <td>1</td>\n",
       "      <td>1</td>\n",
       "    </tr>\n",
       "    <tr>\n",
       "      <th>3212</th>\n",
       "      <td>12</td>\n",
       "      <td>1489</td>\n",
       "      <td>0.0</td>\n",
       "      <td>0.0</td>\n",
       "      <td>35.0</td>\n",
       "      <td>17322.51</td>\n",
       "      <td>smart</td>\n",
       "      <td>50</td>\n",
       "      <td>15</td>\n",
       "      <td>500</td>\n",
       "      <td>550</td>\n",
       "      <td>200</td>\n",
       "      <td>3</td>\n",
       "      <td>3</td>\n",
       "    </tr>\n",
       "    <tr>\n",
       "      <th>3213</th>\n",
       "      <td>4</td>\n",
       "      <td>1476</td>\n",
       "      <td>0.0</td>\n",
       "      <td>0.0</td>\n",
       "      <td>0.0</td>\n",
       "      <td>530.78</td>\n",
       "      <td>ultra</td>\n",
       "      <td>1000</td>\n",
       "      <td>30</td>\n",
       "      <td>3000</td>\n",
       "      <td>1950</td>\n",
       "      <td>150</td>\n",
       "      <td>1</td>\n",
       "      <td>1</td>\n",
       "    </tr>\n",
       "  </tbody>\n",
       "</table>\n",
       "</div>"
      ],
      "text/plain": [
       "      month  user_id  calls_count  calls_sum  messages  internet tariff  \\\n",
       "3209     12     1231          0.0        0.0     191.0  32448.00  ultra   \n",
       "3210     12     1328          0.0        0.0       7.0  39419.73  ultra   \n",
       "3211     12     1473          0.0        0.0      20.0  18418.26  ultra   \n",
       "3212     12     1489          0.0        0.0      35.0  17322.51  smart   \n",
       "3213      4     1476          0.0        0.0       0.0    530.78  ultra   \n",
       "\n",
       "      messages_included  mb_per_month_included  minutes_included  \\\n",
       "3209               1000                     30              3000   \n",
       "3210               1000                     30              3000   \n",
       "3211               1000                     30              3000   \n",
       "3212                 50                     15               500   \n",
       "3213               1000                     30              3000   \n",
       "\n",
       "      rub_monthly_fee  rub_per_gb  rub_per_message  rub_per_minute  \n",
       "3209             1950         150                1               1  \n",
       "3210             1950         150                1               1  \n",
       "3211             1950         150                1               1  \n",
       "3212              550         200                3               3  \n",
       "3213             1950         150                1               1  "
      ]
     },
     "metadata": {},
     "output_type": "display_data"
    }
   ],
   "source": [
    "show(group_data)"
   ]
  },
  {
   "cell_type": "markdown",
   "metadata": {},
   "source": [
    "Переведем Мб в Гб."
   ]
  },
  {
   "cell_type": "code",
   "execution_count": 32,
   "metadata": {},
   "outputs": [],
   "source": [
    "group_data['internet'] = group_data['internet'] / 1024\n",
    "group_data['internet'] = np.ceil(group_data['internet'])"
   ]
  },
  {
   "cell_type": "markdown",
   "metadata": {},
   "source": [
    "Функция для подсчета прибыли с каждого пользователя."
   ]
  },
  {
   "cell_type": "code",
   "execution_count": 33,
   "metadata": {},
   "outputs": [],
   "source": [
    "def revenue(data):\n",
    "    pay = 0\n",
    "    if data['tariff'] == 'smart':\n",
    "        pay = pay + 550\n",
    "        if data['calls_sum'] > data['minutes_included']:\n",
    "            pay = pay + (data['calls_sum'] \n",
    "                         - data['minutes_included']) * 3\n",
    "            \n",
    "        if data['messages'] > data['messages_included']:\n",
    "            pay = pay + abs(data['messages'] \n",
    "                            - data['messages_included']) * 3\n",
    "            \n",
    "        if data['internet'] > data['mb_per_month_included']:\n",
    "            pay = pay + (data['internet'] \n",
    "                         - data['mb_per_month_included']) * 200 \n",
    "        return pay\n",
    "    else: \n",
    "        pay = pay + 1950\n",
    "        if data['calls_sum'] > data['minutes_included']:\n",
    "            pay = pay + (data['calls_sum'] - data['minutes_included']) \n",
    "            \n",
    "        if data['messages'] > data['messages_included']:\n",
    "            pay = pay + abs(data['messages'] - data['messages_included']) \n",
    "            \n",
    "        if data['internet'] > data['mb_per_month_included']:\n",
    "            pay = pay + (data['internet'] \n",
    "                         - data['mb_per_month_included']) * 150\n",
    "        return pay"
   ]
  },
  {
   "cell_type": "code",
   "execution_count": 34,
   "metadata": {},
   "outputs": [],
   "source": [
    "group_data['pay'] = group_data.apply(revenue, axis=1)"
   ]
  },
  {
   "cell_type": "markdown",
   "metadata": {},
   "source": [
    "Изменим тип данных."
   ]
  },
  {
   "cell_type": "code",
   "execution_count": 35,
   "metadata": {},
   "outputs": [],
   "source": [
    "columns_type_int = ['calls_sum', 'messages', 'internet', 'pay']\n",
    "for columns_ in columns_type_int:\n",
    "    group_data[columns_] = group_data[columns_].astype('int64')"
   ]
  },
  {
   "cell_type": "markdown",
   "metadata": {},
   "source": [
    "Выведим первые пять строк таблицы."
   ]
  },
  {
   "cell_type": "code",
   "execution_count": 36,
   "metadata": {},
   "outputs": [],
   "source": [
    "group_data = group_data.rename(columns ={'mb_per_month_included' : 'gb_per_month_included'})"
   ]
  },
  {
   "cell_type": "code",
   "execution_count": 37,
   "metadata": {},
   "outputs": [
    {
     "data": {
      "text/html": [
       "<div>\n",
       "<style scoped>\n",
       "    .dataframe tbody tr th:only-of-type {\n",
       "        vertical-align: middle;\n",
       "    }\n",
       "\n",
       "    .dataframe tbody tr th {\n",
       "        vertical-align: top;\n",
       "    }\n",
       "\n",
       "    .dataframe thead th {\n",
       "        text-align: right;\n",
       "    }\n",
       "</style>\n",
       "<table border=\"1\" class=\"dataframe\">\n",
       "  <thead>\n",
       "    <tr style=\"text-align: right;\">\n",
       "      <th></th>\n",
       "      <th>month</th>\n",
       "      <th>user_id</th>\n",
       "      <th>calls_count</th>\n",
       "      <th>calls_sum</th>\n",
       "      <th>messages</th>\n",
       "      <th>internet</th>\n",
       "      <th>tariff</th>\n",
       "      <th>messages_included</th>\n",
       "      <th>gb_per_month_included</th>\n",
       "      <th>minutes_included</th>\n",
       "      <th>rub_monthly_fee</th>\n",
       "      <th>rub_per_gb</th>\n",
       "      <th>rub_per_message</th>\n",
       "      <th>rub_per_minute</th>\n",
       "      <th>pay</th>\n",
       "    </tr>\n",
       "  </thead>\n",
       "  <tbody>\n",
       "    <tr>\n",
       "      <th>0</th>\n",
       "      <td>1</td>\n",
       "      <td>1005</td>\n",
       "      <td>15.0</td>\n",
       "      <td>95</td>\n",
       "      <td>7</td>\n",
       "      <td>3</td>\n",
       "      <td>smart</td>\n",
       "      <td>50</td>\n",
       "      <td>15</td>\n",
       "      <td>500</td>\n",
       "      <td>550</td>\n",
       "      <td>200</td>\n",
       "      <td>3</td>\n",
       "      <td>3</td>\n",
       "      <td>550</td>\n",
       "    </tr>\n",
       "    <tr>\n",
       "      <th>1</th>\n",
       "      <td>1</td>\n",
       "      <td>1032</td>\n",
       "      <td>61.0</td>\n",
       "      <td>380</td>\n",
       "      <td>38</td>\n",
       "      <td>24</td>\n",
       "      <td>smart</td>\n",
       "      <td>50</td>\n",
       "      <td>15</td>\n",
       "      <td>500</td>\n",
       "      <td>550</td>\n",
       "      <td>200</td>\n",
       "      <td>3</td>\n",
       "      <td>3</td>\n",
       "      <td>2350</td>\n",
       "    </tr>\n",
       "    <tr>\n",
       "      <th>2</th>\n",
       "      <td>1</td>\n",
       "      <td>1045</td>\n",
       "      <td>1.0</td>\n",
       "      <td>9</td>\n",
       "      <td>5</td>\n",
       "      <td>3</td>\n",
       "      <td>smart</td>\n",
       "      <td>50</td>\n",
       "      <td>15</td>\n",
       "      <td>500</td>\n",
       "      <td>550</td>\n",
       "      <td>200</td>\n",
       "      <td>3</td>\n",
       "      <td>3</td>\n",
       "      <td>550</td>\n",
       "    </tr>\n",
       "    <tr>\n",
       "      <th>3</th>\n",
       "      <td>1</td>\n",
       "      <td>1055</td>\n",
       "      <td>64.0</td>\n",
       "      <td>551</td>\n",
       "      <td>30</td>\n",
       "      <td>17</td>\n",
       "      <td>smart</td>\n",
       "      <td>50</td>\n",
       "      <td>15</td>\n",
       "      <td>500</td>\n",
       "      <td>550</td>\n",
       "      <td>200</td>\n",
       "      <td>3</td>\n",
       "      <td>3</td>\n",
       "      <td>1103</td>\n",
       "    </tr>\n",
       "    <tr>\n",
       "      <th>4</th>\n",
       "      <td>1</td>\n",
       "      <td>1071</td>\n",
       "      <td>24.0</td>\n",
       "      <td>194</td>\n",
       "      <td>16</td>\n",
       "      <td>16</td>\n",
       "      <td>smart</td>\n",
       "      <td>50</td>\n",
       "      <td>15</td>\n",
       "      <td>500</td>\n",
       "      <td>550</td>\n",
       "      <td>200</td>\n",
       "      <td>3</td>\n",
       "      <td>3</td>\n",
       "      <td>750</td>\n",
       "    </tr>\n",
       "  </tbody>\n",
       "</table>\n",
       "</div>"
      ],
      "text/plain": [
       "   month  user_id  calls_count  calls_sum  messages  internet tariff  \\\n",
       "0      1     1005         15.0         95         7         3  smart   \n",
       "1      1     1032         61.0        380        38        24  smart   \n",
       "2      1     1045          1.0          9         5         3  smart   \n",
       "3      1     1055         64.0        551        30        17  smart   \n",
       "4      1     1071         24.0        194        16        16  smart   \n",
       "\n",
       "   messages_included  gb_per_month_included  minutes_included  \\\n",
       "0                 50                     15               500   \n",
       "1                 50                     15               500   \n",
       "2                 50                     15               500   \n",
       "3                 50                     15               500   \n",
       "4                 50                     15               500   \n",
       "\n",
       "   rub_monthly_fee  rub_per_gb  rub_per_message  rub_per_minute   pay  \n",
       "0              550         200                3               3   550  \n",
       "1              550         200                3               3  2350  \n",
       "2              550         200                3               3   550  \n",
       "3              550         200                3               3  1103  \n",
       "4              550         200                3               3   750  "
      ]
     },
     "metadata": {},
     "output_type": "display_data"
    },
    {
     "data": {
      "text/html": [
       "<div>\n",
       "<style scoped>\n",
       "    .dataframe tbody tr th:only-of-type {\n",
       "        vertical-align: middle;\n",
       "    }\n",
       "\n",
       "    .dataframe tbody tr th {\n",
       "        vertical-align: top;\n",
       "    }\n",
       "\n",
       "    .dataframe thead th {\n",
       "        text-align: right;\n",
       "    }\n",
       "</style>\n",
       "<table border=\"1\" class=\"dataframe\">\n",
       "  <thead>\n",
       "    <tr style=\"text-align: right;\">\n",
       "      <th></th>\n",
       "      <th>month</th>\n",
       "      <th>user_id</th>\n",
       "      <th>calls_count</th>\n",
       "      <th>calls_sum</th>\n",
       "      <th>messages</th>\n",
       "      <th>internet</th>\n",
       "      <th>tariff</th>\n",
       "      <th>messages_included</th>\n",
       "      <th>gb_per_month_included</th>\n",
       "      <th>minutes_included</th>\n",
       "      <th>rub_monthly_fee</th>\n",
       "      <th>rub_per_gb</th>\n",
       "      <th>rub_per_message</th>\n",
       "      <th>rub_per_minute</th>\n",
       "      <th>pay</th>\n",
       "    </tr>\n",
       "  </thead>\n",
       "  <tbody>\n",
       "    <tr>\n",
       "      <th>3209</th>\n",
       "      <td>12</td>\n",
       "      <td>1231</td>\n",
       "      <td>0.0</td>\n",
       "      <td>0</td>\n",
       "      <td>191</td>\n",
       "      <td>32</td>\n",
       "      <td>ultra</td>\n",
       "      <td>1000</td>\n",
       "      <td>30</td>\n",
       "      <td>3000</td>\n",
       "      <td>1950</td>\n",
       "      <td>150</td>\n",
       "      <td>1</td>\n",
       "      <td>1</td>\n",
       "      <td>2250</td>\n",
       "    </tr>\n",
       "    <tr>\n",
       "      <th>3210</th>\n",
       "      <td>12</td>\n",
       "      <td>1328</td>\n",
       "      <td>0.0</td>\n",
       "      <td>0</td>\n",
       "      <td>7</td>\n",
       "      <td>39</td>\n",
       "      <td>ultra</td>\n",
       "      <td>1000</td>\n",
       "      <td>30</td>\n",
       "      <td>3000</td>\n",
       "      <td>1950</td>\n",
       "      <td>150</td>\n",
       "      <td>1</td>\n",
       "      <td>1</td>\n",
       "      <td>3300</td>\n",
       "    </tr>\n",
       "    <tr>\n",
       "      <th>3211</th>\n",
       "      <td>12</td>\n",
       "      <td>1473</td>\n",
       "      <td>0.0</td>\n",
       "      <td>0</td>\n",
       "      <td>20</td>\n",
       "      <td>18</td>\n",
       "      <td>ultra</td>\n",
       "      <td>1000</td>\n",
       "      <td>30</td>\n",
       "      <td>3000</td>\n",
       "      <td>1950</td>\n",
       "      <td>150</td>\n",
       "      <td>1</td>\n",
       "      <td>1</td>\n",
       "      <td>1950</td>\n",
       "    </tr>\n",
       "    <tr>\n",
       "      <th>3212</th>\n",
       "      <td>12</td>\n",
       "      <td>1489</td>\n",
       "      <td>0.0</td>\n",
       "      <td>0</td>\n",
       "      <td>35</td>\n",
       "      <td>17</td>\n",
       "      <td>smart</td>\n",
       "      <td>50</td>\n",
       "      <td>15</td>\n",
       "      <td>500</td>\n",
       "      <td>550</td>\n",
       "      <td>200</td>\n",
       "      <td>3</td>\n",
       "      <td>3</td>\n",
       "      <td>950</td>\n",
       "    </tr>\n",
       "    <tr>\n",
       "      <th>3213</th>\n",
       "      <td>4</td>\n",
       "      <td>1476</td>\n",
       "      <td>0.0</td>\n",
       "      <td>0</td>\n",
       "      <td>0</td>\n",
       "      <td>1</td>\n",
       "      <td>ultra</td>\n",
       "      <td>1000</td>\n",
       "      <td>30</td>\n",
       "      <td>3000</td>\n",
       "      <td>1950</td>\n",
       "      <td>150</td>\n",
       "      <td>1</td>\n",
       "      <td>1</td>\n",
       "      <td>1950</td>\n",
       "    </tr>\n",
       "  </tbody>\n",
       "</table>\n",
       "</div>"
      ],
      "text/plain": [
       "      month  user_id  calls_count  calls_sum  messages  internet tariff  \\\n",
       "3209     12     1231          0.0          0       191        32  ultra   \n",
       "3210     12     1328          0.0          0         7        39  ultra   \n",
       "3211     12     1473          0.0          0        20        18  ultra   \n",
       "3212     12     1489          0.0          0        35        17  smart   \n",
       "3213      4     1476          0.0          0         0         1  ultra   \n",
       "\n",
       "      messages_included  gb_per_month_included  minutes_included  \\\n",
       "3209               1000                     30              3000   \n",
       "3210               1000                     30              3000   \n",
       "3211               1000                     30              3000   \n",
       "3212                 50                     15               500   \n",
       "3213               1000                     30              3000   \n",
       "\n",
       "      rub_monthly_fee  rub_per_gb  rub_per_message  rub_per_minute   pay  \n",
       "3209             1950         150                1               1  2250  \n",
       "3210             1950         150                1               1  3300  \n",
       "3211             1950         150                1               1  1950  \n",
       "3212              550         200                3               3   950  \n",
       "3213             1950         150                1               1  1950  "
      ]
     },
     "metadata": {},
     "output_type": "display_data"
    }
   ],
   "source": [
    "show(group_data)"
   ]
  },
  {
   "cell_type": "markdown",
   "metadata": {},
   "source": [
    "### Исследование данных"
   ]
  },
  {
   "cell_type": "markdown",
   "metadata": {},
   "source": [
    "Опишим поведение клиентов оператора, исходя из выборки. Сколько минут разговора, сколько сообщений и какой объём интернет-трафика требуется пользователям каждого тарифа в месяц. Посчитаем среднее количество, дисперсию и стандартное отклонение. Построим гистограммы."
   ]
  },
  {
   "cell_type": "code",
   "execution_count": 38,
   "metadata": {},
   "outputs": [],
   "source": [
    "data_smart = group_data.loc[group_data['tariff'] == 'smart']\n",
    "data_ultra = group_data.loc[group_data['tariff'] == 'ultra']"
   ]
  },
  {
   "cell_type": "code",
   "execution_count": 39,
   "metadata": {},
   "outputs": [],
   "source": [
    "def investigation(data):\n",
    "        count_calls = data.count()\n",
    "        mean_calls = data.mean()\n",
    "        variance = np.var(data)\n",
    "        sigma = np.std(data)\n",
    "        print('Количество звонков: ', count_calls)\n",
    "        print('Средняя длительность звонков: ', mean_calls)\n",
    "        print('Дисперсия : ', variance)\n",
    "        print('Стандартное отклонение: ', sigma)"
   ]
  },
  {
   "cell_type": "code",
   "execution_count": 40,
   "metadata": {},
   "outputs": [
    {
     "name": "stdout",
     "output_type": "stream",
     "text": [
      "\u001b[1mСмарт\u001b[0m\n",
      "Количество звонков:  2229\n",
      "Средняя длительность звонков:  417.9349484073576\n",
      "Дисперсия :  36203.066652094596\n",
      "Стандартное отклонение:  190.27103471651853\n",
      "\u001b[1mУльтра\u001b[0m\n",
      "Количество звонков:  985\n",
      "Средняя длительность звонков:  526.6233502538071\n",
      "Дисперсия :  100771.22361720212\n",
      "Стандартное отклонение:  317.444835549741\n"
     ]
    }
   ],
   "source": [
    "print('\\033[1m' + 'Смарт' + '\\033[0m')\n",
    "investigation(data_smart['calls_sum'])  \n",
    "print('\\033[1m' +'Ультра' + '\\033[0m')\n",
    "investigation(data_ultra ['calls_sum'])"
   ]
  },
  {
   "cell_type": "code",
   "execution_count": 41,
   "metadata": {},
   "outputs": [],
   "source": [
    "def graph(y, bins):\n",
    "    ax = (group_data\n",
    "          .query('tariff == \"smart\"')\n",
    "          .plot(kind='hist',\n",
    "                y=y,\n",
    "                label = 'Количество звонков smart',\n",
    "                bins = bins,\n",
    "                grid = True, \n",
    "                figsize=(12, 8)));\n",
    "    (group_data\n",
    "     .query('tariff == \"ultra\"')\n",
    "     .plot(kind='hist', \n",
    "           y=y, \n",
    "           label = 'Количество звонков ultra', \n",
    "           ax = ax,  \n",
    "           bins = 100, \n",
    "           grid = True, \n",
    "           figsize=(12, 8)));"
   ]
  },
  {
   "cell_type": "code",
   "execution_count": 42,
   "metadata": {},
   "outputs": [
    {
     "data": {
      "image/png": "[encoded data removed]",
      "text/plain": [
       "<Figure size 864x576 with 1 Axes>"
      ]
     },
     "metadata": {
      "needs_background": "light"
     },
     "output_type": "display_data"
    }
   ],
   "source": [
    "graph('calls_count', 100)"
   ]
  },
  {
   "cell_type": "markdown",
   "metadata": {},
   "source": [
    "Количество звонков по тарифу ultra гораздно меньше на отрезке 0 < х < 100, где x - ultra.\n",
    "Также выделяется пик в значение равном нулю по тарифу ultra. На отрезке х >= 100 пользователи ultra активнее, чем  пользователи smart.\n",
    "\n",
    "График по smart выглядит практически похожим на нормальное распределение со скошенностью слева.\n",
    "График по ultra выглядит произвольным.\n"
   ]
  },
  {
   "cell_type": "code",
   "execution_count": 43,
   "metadata": {},
   "outputs": [
    {
     "data": {
      "image/png": "[encoded data removed]",
      "text/plain": [
       "<Figure size 864x576 with 1 Axes>"
      ]
     },
     "metadata": {
      "needs_background": "light"
     },
     "output_type": "display_data"
    }
   ],
   "source": [
    "graph('messages', 100)"
   ]
  },
  {
   "cell_type": "markdown",
   "metadata": {},
   "source": [
    "Графики по smart и ultra выглядят произвольными. Пик у обоих графиков в нуле."
   ]
  },
  {
   "cell_type": "markdown",
   "metadata": {},
   "source": [
    "Заметим, что многие пользователи вовсе не отправляют сообщения. Можно предположить что это связано с использованием мессенжеров. Поэтому можно предположить, что использование происходит интернета происходит в больших количествах. Докажим."
   ]
  },
  {
   "cell_type": "code",
   "execution_count": 44,
   "metadata": {},
   "outputs": [
    {
     "name": "stdout",
     "output_type": "stream",
     "text": [
      "\u001b[1mПотрачено ГБ без сообщений:\u001b[0m 17.6\n",
      "\u001b[1mГБ c сообщениями:\u001b[0m 38\n"
     ]
    }
   ],
   "source": [
    "messages = round(group_data.loc[group_data['messages'] == 0]['internet'].mean(), 2)\n",
    "print('\\033[1m' + 'Потрачено ГБ без сообщений:' + '\\033[0m', messages)\n",
    "print('\\033[1m' + 'ГБ c сообщениями:' + '\\033[0m', round(group_data['messages'].mean()))"
   ]
  },
  {
   "cell_type": "markdown",
   "metadata": {},
   "source": [
    "Люди, отправляющие сообщения по телефону, тратят в среднем  больше интернета, чем те, кто этого наоборот не отправляет сообщения."
   ]
  },
  {
   "cell_type": "code",
   "execution_count": 45,
   "metadata": {},
   "outputs": [
    {
     "data": {
      "image/png": "[encoded data removed]",
      "text/plain": [
       "<Figure size 864x576 with 1 Axes>"
      ]
     },
     "metadata": {
      "needs_background": "light"
     },
     "output_type": "display_data"
    }
   ],
   "source": [
    "graph('internet', 100)"
   ]
  },
  {
   "cell_type": "markdown",
   "metadata": {},
   "source": [
    "Пользователи smart больше используют интернет, чем пользователи ultra. Но примерно с 25 ГБ и больше заметна обратная тенденция. Это связано с тем что пользователям smart с 15 ГБ и более приходится дополнительно платить за интернет, а у пользователей ultra пороговое значение выше (30 Гб).\n",
    "\n",
    "**Графики по smart и ultra похожи на нормальное распределение.**\n",
    "\n",
    "Выведим количество пользователей по тарифам"
   ]
  },
  {
   "cell_type": "code",
   "execution_count": 46,
   "metadata": {},
   "outputs": [
    {
     "data": {
      "text/plain": [
       "smart    2229\n",
       "ultra     985\n",
       "Name: tariff, dtype: int64"
      ]
     },
     "execution_count": 46,
     "metadata": {},
     "output_type": "execute_result"
    }
   ],
   "source": [
    "group_data['tariff'].value_counts()"
   ]
  },
  {
   "cell_type": "markdown",
   "metadata": {},
   "source": [
    "**Построим график** по выручке в зависимости от тарифа."
   ]
  },
  {
   "cell_type": "code",
   "execution_count": 47,
   "metadata": {},
   "outputs": [],
   "source": [
    "def pay_tariff(aggfunc):\n",
    "    pay_smart = group_data.query('tariff == \"smart\"').pivot_table(index='month', values='pay', aggfunc = aggfunc)\n",
    "    pay_ultra = group_data.query('tariff == \"ultra\"').pivot_table(index='month', values='pay', aggfunc = aggfunc)\n",
    "    return pay_smart, pay_ultra"
   ]
  },
  {
   "cell_type": "code",
   "execution_count": 48,
   "metadata": {},
   "outputs": [],
   "source": [
    "def info_graph(smart_columns, ultra_columns, aggfunc):\n",
    "    pay_smart = pay_tariff(aggfunc)[0]\n",
    "    pay_ultra = pay_tariff(aggfunc)[1]\n",
    "    \n",
    "    pay_smart.columns = ['Медиана smart']\n",
    "    pay_ultra.columns = ['Медиана ultra']\n",
    "\n",
    "    ax = (pay_smart\n",
    "          .plot(grid=True, \n",
    "                linewidth=2, \n",
    "                figsize=(12, 8)))\n",
    "    (pay_ultra\n",
    "     .plot(ax=ax, \n",
    "           alpha=0.7, \n",
    "           grid = True, \n",
    "           legend=True,\n",
    "           linewidth=2,\n",
    "           figsize=(12, 8)));\n",
    "\n",
    "    print(pay_smart.median())\n",
    "    print(pay_ultra.median())"
   ]
  },
  {
   "cell_type": "code",
   "execution_count": 49,
   "metadata": {},
   "outputs": [
    {
     "name": "stdout",
     "output_type": "stream",
     "text": [
      "Медиана smart    969.75\n",
      "dtype: float64\n",
      "Медиана ultra    1950.0\n",
      "dtype: float64\n"
     ]
    },
    {
     "data": {
      "image/png": "[encoded data removed]",
      "text/plain": [
       "<Figure size 864x576 with 1 Axes>"
      ]
     },
     "metadata": {
      "needs_background": "light"
     },
     "output_type": "display_data"
    }
   ],
   "source": [
    "info_graph('Медиана smart', 'Медиана ultra', 'median')"
   ]
  },
  {
   "cell_type": "code",
   "execution_count": 50,
   "metadata": {},
   "outputs": [
    {
     "name": "stdout",
     "output_type": "stream",
     "text": [
      "Медиана smart    1213.984271\n",
      "dtype: float64\n",
      "Медиана ultra    2049.493603\n",
      "dtype: float64\n"
     ]
    },
    {
     "data": {
      "image/png": "[encoded data removed]",
      "text/plain": [
       "<Figure size 864x576 with 1 Axes>"
      ]
     },
     "metadata": {
      "needs_background": "light"
     },
     "output_type": "display_data"
    }
   ],
   "source": [
    "info_graph('Среднее smart', 'Среднее ultra', 'mean')"
   ]
  },
  {
   "cell_type": "markdown",
   "metadata": {},
   "source": [
    "### Вывод"
   ]
  },
  {
   "cell_type": "markdown",
   "metadata": {},
   "source": [
    "По полученным значениям видно, что тариф ultra больше приносит выручки компании. При предложении клиенту тарифа следует порекомендовать smart в случае если он: осуществляет количество звонков меньше 750, отправляет до 50 сообщений и использует менее 25 ГБ интернета. В противном случае рекомедовать тариф ultra."
   ]
  },
  {
   "cell_type": "markdown",
   "metadata": {},
   "source": [
    "## Проверка гипотез"
   ]
  },
  {
   "cell_type": "markdown",
   "metadata": {},
   "source": [
    "Проверка гипотез является важным шагом в аналитике поэтому необходимо провести исследование.\n",
    "\n",
    "Гипотеза H0: \"средняя выручка пользователей тарифов «Ультра» и «Смарт» равна\". Альтернативная гипотеза H1: \"средняя выручка пользователей тарифов «Ультра» и «Смарт» различаются.\"\n",
    "\n",
    "Тест двусторонний, т.к. не сказано что нужно проверить больше или меньше полученное значение. Есть сомнения, что дисперсии у совокупностей одинаковые, поэтому указываем equal_var = False"
   ]
  },
  {
   "cell_type": "code",
   "execution_count": 51,
   "metadata": {},
   "outputs": [
    {
     "name": "stdout",
     "output_type": "stream",
     "text": [
      "p-значение: 4.2606313931076085e-250\n",
      "Отвергаем нулевую гипотезу\n",
      " \n",
      "Среднее значение:  pay    1179.924424\n",
      "dtype: float64\n",
      "Среднее значение:  pay    2046.932856\n",
      "dtype: float64\n"
     ]
    }
   ],
   "source": [
    "ALPHA = .05\n",
    "\n",
    "smart = data_smart['pay']\n",
    "ultra = data_ultra['pay']\n",
    "\n",
    "results = st.ttest_ind(smart, ultra, equal_var = False)\n",
    "\n",
    "print('p-значение:', results.pvalue)\n",
    "\n",
    "if results.pvalue < ALPHA:\n",
    "    print(\"Отвергаем нулевую гипотезу\")\n",
    "else:\n",
    "    print(\"Не получилось отвергнуть нулевую гипотезу\") \n",
    "    \n",
    "print(' ')    \n",
    "print('Среднее значение: ', pay_tariff('mean')[0].mean())\n",
    "print('Среднее значение: ', pay_tariff('mean')[1].mean())"
   ]
  },
  {
   "cell_type": "markdown",
   "metadata": {},
   "source": [
    "На имеющихся данных, на уровне значимости 5% (уровне доверия 95%) есть основания отвергнуть нулевую гипотезу в пользу альтернативы.\n",
    "Содержательный вывод: средняя выручка пользователей тарифов «Ультра» и «Смарт» различаются.\n"
   ]
  },
  {
   "cell_type": "markdown",
   "metadata": {},
   "source": [
    "**Проверяем следующую гипотезу.**\n",
    "\n",
    "Гипотеза H0: \"средняя выручка пользователей из Москвы отличается от выручки пользователей из других регионов\".Альтернативная гипотеза H1: \"средняя выручка пользователей из Москвы равна выручке пользователей из других регионов\".\n"
   ]
  },
  {
   "cell_type": "markdown",
   "metadata": {},
   "source": [
    "Разграничиваем Москву и другие города."
   ]
  },
  {
   "cell_type": "code",
   "execution_count": 52,
   "metadata": {},
   "outputs": [],
   "source": [
    "def city(row): \n",
    "    if row['city'] == 'Москва':\n",
    "        return 'Москва'\n",
    "    return 'Другой'"
   ]
  },
  {
   "cell_type": "code",
   "execution_count": 53,
   "metadata": {},
   "outputs": [],
   "source": [
    "data_users['city_group'] = data_users.apply(city, axis=1)"
   ]
  },
  {
   "cell_type": "code",
   "execution_count": 54,
   "metadata": {},
   "outputs": [],
   "source": [
    "group_city = group_data.merge(data_users, on = 'user_id')"
   ]
  },
  {
   "cell_type": "code",
   "execution_count": 56,
   "metadata": {},
   "outputs": [],
   "source": [
    "group_city = group_city[['month', 'user_id', 'tariff_x', 'pay', 'city', 'city_group']]\n",
    "group_city = group_city.rename(columns={'tariff_x' : 'tariff'})"
   ]
  },
  {
   "cell_type": "code",
   "execution_count": 57,
   "metadata": {},
   "outputs": [
    {
     "data": {
      "text/html": [
       "<div>\n",
       "<style scoped>\n",
       "    .dataframe tbody tr th:only-of-type {\n",
       "        vertical-align: middle;\n",
       "    }\n",
       "\n",
       "    .dataframe tbody tr th {\n",
       "        vertical-align: top;\n",
       "    }\n",
       "\n",
       "    .dataframe thead th {\n",
       "        text-align: right;\n",
       "    }\n",
       "</style>\n",
       "<table border=\"1\" class=\"dataframe\">\n",
       "  <thead>\n",
       "    <tr style=\"text-align: right;\">\n",
       "      <th></th>\n",
       "      <th>month</th>\n",
       "      <th>user_id</th>\n",
       "      <th>tariff</th>\n",
       "      <th>pay</th>\n",
       "      <th>city</th>\n",
       "      <th>city_group</th>\n",
       "    </tr>\n",
       "  </thead>\n",
       "  <tbody>\n",
       "    <tr>\n",
       "      <th>0</th>\n",
       "      <td>1</td>\n",
       "      <td>1005</td>\n",
       "      <td>smart</td>\n",
       "      <td>550</td>\n",
       "      <td>Набережные Челны</td>\n",
       "      <td>Другой</td>\n",
       "    </tr>\n",
       "    <tr>\n",
       "      <th>1</th>\n",
       "      <td>2</td>\n",
       "      <td>1005</td>\n",
       "      <td>smart</td>\n",
       "      <td>550</td>\n",
       "      <td>Набережные Челны</td>\n",
       "      <td>Другой</td>\n",
       "    </tr>\n",
       "    <tr>\n",
       "      <th>2</th>\n",
       "      <td>3</td>\n",
       "      <td>1005</td>\n",
       "      <td>smart</td>\n",
       "      <td>886</td>\n",
       "      <td>Набережные Челны</td>\n",
       "      <td>Другой</td>\n",
       "    </tr>\n",
       "    <tr>\n",
       "      <th>3</th>\n",
       "      <td>4</td>\n",
       "      <td>1005</td>\n",
       "      <td>smart</td>\n",
       "      <td>1186</td>\n",
       "      <td>Набережные Челны</td>\n",
       "      <td>Другой</td>\n",
       "    </tr>\n",
       "    <tr>\n",
       "      <th>4</th>\n",
       "      <td>5</td>\n",
       "      <td>1005</td>\n",
       "      <td>smart</td>\n",
       "      <td>835</td>\n",
       "      <td>Набережные Челны</td>\n",
       "      <td>Другой</td>\n",
       "    </tr>\n",
       "    <tr>\n",
       "      <th>...</th>\n",
       "      <td>...</td>\n",
       "      <td>...</td>\n",
       "      <td>...</td>\n",
       "      <td>...</td>\n",
       "      <td>...</td>\n",
       "      <td>...</td>\n",
       "    </tr>\n",
       "    <tr>\n",
       "      <th>3209</th>\n",
       "      <td>11</td>\n",
       "      <td>1489</td>\n",
       "      <td>smart</td>\n",
       "      <td>1150</td>\n",
       "      <td>Санкт-Петербург</td>\n",
       "      <td>Другой</td>\n",
       "    </tr>\n",
       "    <tr>\n",
       "      <th>3210</th>\n",
       "      <td>12</td>\n",
       "      <td>1489</td>\n",
       "      <td>smart</td>\n",
       "      <td>950</td>\n",
       "      <td>Санкт-Петербург</td>\n",
       "      <td>Другой</td>\n",
       "    </tr>\n",
       "    <tr>\n",
       "      <th>3211</th>\n",
       "      <td>10</td>\n",
       "      <td>1328</td>\n",
       "      <td>ultra</td>\n",
       "      <td>1950</td>\n",
       "      <td>Мурманск</td>\n",
       "      <td>Другой</td>\n",
       "    </tr>\n",
       "    <tr>\n",
       "      <th>3212</th>\n",
       "      <td>11</td>\n",
       "      <td>1328</td>\n",
       "      <td>ultra</td>\n",
       "      <td>2700</td>\n",
       "      <td>Мурманск</td>\n",
       "      <td>Другой</td>\n",
       "    </tr>\n",
       "    <tr>\n",
       "      <th>3213</th>\n",
       "      <td>12</td>\n",
       "      <td>1328</td>\n",
       "      <td>ultra</td>\n",
       "      <td>3300</td>\n",
       "      <td>Мурманск</td>\n",
       "      <td>Другой</td>\n",
       "    </tr>\n",
       "  </tbody>\n",
       "</table>\n",
       "<p>3214 rows × 6 columns</p>\n",
       "</div>"
      ],
      "text/plain": [
       "      month  user_id tariff   pay              city city_group\n",
       "0         1     1005  smart   550  Набережные Челны     Другой\n",
       "1         2     1005  smart   550  Набережные Челны     Другой\n",
       "2         3     1005  smart   886  Набережные Челны     Другой\n",
       "3         4     1005  smart  1186  Набережные Челны     Другой\n",
       "4         5     1005  smart   835  Набережные Челны     Другой\n",
       "...     ...      ...    ...   ...               ...        ...\n",
       "3209     11     1489  smart  1150   Санкт-Петербург     Другой\n",
       "3210     12     1489  smart   950   Санкт-Петербург     Другой\n",
       "3211     10     1328  ultra  1950          Мурманск     Другой\n",
       "3212     11     1328  ultra  2700          Мурманск     Другой\n",
       "3213     12     1328  ultra  3300          Мурманск     Другой\n",
       "\n",
       "[3214 rows x 6 columns]"
      ]
     },
     "metadata": {},
     "output_type": "display_data"
    }
   ],
   "source": [
    "group_city_moscow = group_city.loc[group_city['city_group'] == 'Москва']\n",
    "group_city_other = group_city.loc[group_city['city_group'] == 'Другой']"
   ]
  },
  {
   "cell_type": "code",
   "execution_count": 59,
   "metadata": {},
   "outputs": [
    {
     "data": {
      "text/html": [
       "<div>\n",
       "<style scoped>\n",
       "    .dataframe tbody tr th:only-of-type {\n",
       "        vertical-align: middle;\n",
       "    }\n",
       "\n",
       "    .dataframe tbody tr th {\n",
       "        vertical-align: top;\n",
       "    }\n",
       "\n",
       "    .dataframe thead th {\n",
       "        text-align: right;\n",
       "    }\n",
       "</style>\n",
       "<table border=\"1\" class=\"dataframe\">\n",
       "  <thead>\n",
       "    <tr style=\"text-align: right;\">\n",
       "      <th></th>\n",
       "      <th>month</th>\n",
       "      <th>user_id</th>\n",
       "      <th>tariff</th>\n",
       "      <th>pay</th>\n",
       "      <th>city</th>\n",
       "      <th>city_group</th>\n",
       "    </tr>\n",
       "  </thead>\n",
       "  <tbody>\n",
       "    <tr>\n",
       "      <th>0</th>\n",
       "      <td>1</td>\n",
       "      <td>1005</td>\n",
       "      <td>smart</td>\n",
       "      <td>550</td>\n",
       "      <td>Набережные Челны</td>\n",
       "      <td>Другой</td>\n",
       "    </tr>\n",
       "    <tr>\n",
       "      <th>1</th>\n",
       "      <td>2</td>\n",
       "      <td>1005</td>\n",
       "      <td>smart</td>\n",
       "      <td>550</td>\n",
       "      <td>Набережные Челны</td>\n",
       "      <td>Другой</td>\n",
       "    </tr>\n",
       "    <tr>\n",
       "      <th>2</th>\n",
       "      <td>3</td>\n",
       "      <td>1005</td>\n",
       "      <td>smart</td>\n",
       "      <td>886</td>\n",
       "      <td>Набережные Челны</td>\n",
       "      <td>Другой</td>\n",
       "    </tr>\n",
       "    <tr>\n",
       "      <th>3</th>\n",
       "      <td>4</td>\n",
       "      <td>1005</td>\n",
       "      <td>smart</td>\n",
       "      <td>1186</td>\n",
       "      <td>Набережные Челны</td>\n",
       "      <td>Другой</td>\n",
       "    </tr>\n",
       "    <tr>\n",
       "      <th>4</th>\n",
       "      <td>5</td>\n",
       "      <td>1005</td>\n",
       "      <td>smart</td>\n",
       "      <td>835</td>\n",
       "      <td>Набережные Челны</td>\n",
       "      <td>Другой</td>\n",
       "    </tr>\n",
       "  </tbody>\n",
       "</table>\n",
       "</div>"
      ],
      "text/plain": [
       "   month  user_id tariff   pay              city city_group\n",
       "0      1     1005  smart   550  Набережные Челны     Другой\n",
       "1      2     1005  smart   550  Набережные Челны     Другой\n",
       "2      3     1005  smart   886  Набережные Челны     Другой\n",
       "3      4     1005  smart  1186  Набережные Челны     Другой\n",
       "4      5     1005  smart   835  Набережные Челны     Другой"
      ]
     },
     "metadata": {},
     "output_type": "display_data"
    },
    {
     "data": {
      "text/html": [
       "<div>\n",
       "<style scoped>\n",
       "    .dataframe tbody tr th:only-of-type {\n",
       "        vertical-align: middle;\n",
       "    }\n",
       "\n",
       "    .dataframe tbody tr th {\n",
       "        vertical-align: top;\n",
       "    }\n",
       "\n",
       "    .dataframe thead th {\n",
       "        text-align: right;\n",
       "    }\n",
       "</style>\n",
       "<table border=\"1\" class=\"dataframe\">\n",
       "  <thead>\n",
       "    <tr style=\"text-align: right;\">\n",
       "      <th></th>\n",
       "      <th>month</th>\n",
       "      <th>user_id</th>\n",
       "      <th>tariff</th>\n",
       "      <th>pay</th>\n",
       "      <th>city</th>\n",
       "      <th>city_group</th>\n",
       "    </tr>\n",
       "  </thead>\n",
       "  <tbody>\n",
       "    <tr>\n",
       "      <th>3209</th>\n",
       "      <td>11</td>\n",
       "      <td>1489</td>\n",
       "      <td>smart</td>\n",
       "      <td>1150</td>\n",
       "      <td>Санкт-Петербург</td>\n",
       "      <td>Другой</td>\n",
       "    </tr>\n",
       "    <tr>\n",
       "      <th>3210</th>\n",
       "      <td>12</td>\n",
       "      <td>1489</td>\n",
       "      <td>smart</td>\n",
       "      <td>950</td>\n",
       "      <td>Санкт-Петербург</td>\n",
       "      <td>Другой</td>\n",
       "    </tr>\n",
       "    <tr>\n",
       "      <th>3211</th>\n",
       "      <td>10</td>\n",
       "      <td>1328</td>\n",
       "      <td>ultra</td>\n",
       "      <td>1950</td>\n",
       "      <td>Мурманск</td>\n",
       "      <td>Другой</td>\n",
       "    </tr>\n",
       "    <tr>\n",
       "      <th>3212</th>\n",
       "      <td>11</td>\n",
       "      <td>1328</td>\n",
       "      <td>ultra</td>\n",
       "      <td>2700</td>\n",
       "      <td>Мурманск</td>\n",
       "      <td>Другой</td>\n",
       "    </tr>\n",
       "    <tr>\n",
       "      <th>3213</th>\n",
       "      <td>12</td>\n",
       "      <td>1328</td>\n",
       "      <td>ultra</td>\n",
       "      <td>3300</td>\n",
       "      <td>Мурманск</td>\n",
       "      <td>Другой</td>\n",
       "    </tr>\n",
       "  </tbody>\n",
       "</table>\n",
       "</div>"
      ],
      "text/plain": [
       "      month  user_id tariff   pay             city city_group\n",
       "3209     11     1489  smart  1150  Санкт-Петербург     Другой\n",
       "3210     12     1489  smart   950  Санкт-Петербург     Другой\n",
       "3211     10     1328  ultra  1950         Мурманск     Другой\n",
       "3212     11     1328  ultra  2700         Мурманск     Другой\n",
       "3213     12     1328  ultra  3300         Мурманск     Другой"
      ]
     },
     "metadata": {},
     "output_type": "display_data"
    }
   ],
   "source": [
    "show(group_city)"
   ]
  },
  {
   "cell_type": "code",
   "execution_count": 58,
   "metadata": {},
   "outputs": [
    {
     "name": "stdout",
     "output_type": "stream",
     "text": [
      "p-значение: 0.5440152911670224\n",
      "Не получилось отвергнуть нулевую гипотезу\n"
     ]
    }
   ],
   "source": [
    "moscow = group_city_moscow['pay']\n",
    "other = group_city_other['pay']\n",
    "\n",
    "results = st.ttest_ind(\n",
    "    moscow, \n",
    "    other)\n",
    "\n",
    "print('p-значение:', results.pvalue)\n",
    "\n",
    "if results.pvalue < ALPHA:\n",
    "    print(\"Отвергаем нулевую гипотезу\")\n",
    "else:\n",
    "    print(\"Не получилось отвергнуть нулевую гипотезу\") "
   ]
  },
  {
   "cell_type": "markdown",
   "metadata": {},
   "source": [
    "На имеющихся данных, на уровне значимости 5% (уровне доверия 95%) нет оснований отвергнуть нулевую гипотезу в пользу альтернативы.\n",
    "Содержательный вывод: средняя выручка пользователей из Москвы отличается от выручки пользователей из других регионов."
   ]
  },
  {
   "cell_type": "markdown",
   "metadata": {},
   "source": [
    "## Общий вывод"
   ]
  },
  {
   "cell_type": "markdown",
   "metadata": {},
   "source": [
    "Проведено исследование «Мегалайн» — федерального оператора сотовой связи. Проанализировано поведение клиентов, изначальные данные предобработны, и их на основе были проверены гипотезы. Подметим, что пользователи обоих тарифов не охотно пользуются сообщениями о чем свидетельствует пик в нуле. Так же пользователи смарт активнее используют звонки в пределах до 100 звонков, при больших значениях видна обратная тенденция. Видно и различие в использовании интернета - пользователи смарт активнее пользуются интернетом до 25 ГБ.  \n",
    "\n",
    "По резутатам гипотез для оператора сотовой связи тариф ультра выгоднее, поэтому для получения ещё большей выручки рекомендуется рекламировать именно этот тариф."
   ]
  },
  {
   "cell_type": "markdown",
   "metadata": {},
   "source": [
    "## Чек-лист "
   ]
  },
  {
   "cell_type": "markdown",
   "metadata": {},
   "source": [
    "- [x]  Как вы описываете выявленные в данных проблемы?\n",
    "- [x]  Как готовите данные к анализу?\n",
    "- [x]  Какие графики строите для распределений?\n",
    "- [x]  Как интерпретируете полученные графики?\n",
    "- [x]  Как рассчитываете стандартное отклонение и дисперсию?\n",
    "- [x]  Формулируете ли альтернативную и нулевую гипотезы?\n",
    "- [x]  Какие методы применяете для проверки гипотез?\n",
    "- [x]  Интерпретируете ли результат проверки гипотезы?\n",
    "- [x]  Соблюдаете структуру проекта и поддерживаете аккуратность кода?\n",
    "- [x]  Какие выводы делаете?\n",
    "- [x]  Оставляете ли комментарии к шагам?\n"
   ]
  }
 ],
 "metadata": {
  "ExecuteTimeLog": [
   {
    "duration": 566,
    "start_time": "2022-05-05T10:34:29.645Z"
   },
   {
    "duration": 267,
    "start_time": "2022-05-05T10:34:49.351Z"
   },
   {
    "duration": 34,
    "start_time": "2022-05-05T10:35:07.883Z"
   },
   {
    "duration": 11,
    "start_time": "2022-05-05T10:35:42.582Z"
   },
   {
    "duration": 10,
    "start_time": "2022-05-05T10:35:52.358Z"
   },
   {
    "duration": 551,
    "start_time": "2022-05-05T10:37:27.400Z"
   },
   {
    "duration": 45,
    "start_time": "2022-05-05T10:37:33.959Z"
   },
   {
    "duration": 103,
    "start_time": "2022-05-05T10:38:27.589Z"
   },
   {
    "duration": 12,
    "start_time": "2022-05-05T10:39:20.594Z"
   },
   {
    "duration": 66,
    "start_time": "2022-05-05T10:39:46.217Z"
   },
   {
    "duration": 9,
    "start_time": "2022-05-05T10:40:00.453Z"
   },
   {
    "duration": 41,
    "start_time": "2022-05-05T10:40:29.758Z"
   },
   {
    "duration": 40,
    "start_time": "2022-05-05T10:40:30.134Z"
   },
   {
    "duration": 14,
    "start_time": "2022-05-05T10:40:30.620Z"
   },
   {
    "duration": 22,
    "start_time": "2022-05-05T10:40:31.045Z"
   },
   {
    "duration": 52,
    "start_time": "2022-05-05T10:40:47.684Z"
   },
   {
    "duration": 507,
    "start_time": "2022-05-05T10:41:37.480Z"
   },
   {
    "duration": 531,
    "start_time": "2022-05-05T10:41:37.990Z"
   },
   {
    "duration": 41,
    "start_time": "2022-05-05T10:41:38.523Z"
   },
   {
    "duration": 13,
    "start_time": "2022-05-05T10:41:38.566Z"
   },
   {
    "duration": 36,
    "start_time": "2022-05-05T10:41:38.583Z"
   },
   {
    "duration": 8,
    "start_time": "2022-05-05T10:41:38.621Z"
   },
   {
    "duration": 54,
    "start_time": "2022-05-05T10:41:38.631Z"
   },
   {
    "duration": 9,
    "start_time": "2022-05-05T10:41:38.688Z"
   },
   {
    "duration": 16,
    "start_time": "2022-05-05T10:41:38.700Z"
   },
   {
    "duration": 42,
    "start_time": "2022-05-05T10:41:38.718Z"
   },
   {
    "duration": 33,
    "start_time": "2022-05-05T10:41:38.762Z"
   },
   {
    "duration": 15,
    "start_time": "2022-05-05T10:41:38.797Z"
   },
   {
    "duration": 518,
    "start_time": "2022-05-05T10:42:02.715Z"
   },
   {
    "duration": 787,
    "start_time": "2022-05-05T10:42:03.236Z"
   },
   {
    "duration": 61,
    "start_time": "2022-05-05T10:42:04.025Z"
   },
   {
    "duration": 32,
    "start_time": "2022-05-05T10:42:04.089Z"
   },
   {
    "duration": 79,
    "start_time": "2022-05-05T10:42:04.126Z"
   },
   {
    "duration": 16,
    "start_time": "2022-05-05T10:42:04.208Z"
   },
   {
    "duration": 60,
    "start_time": "2022-05-05T10:42:04.226Z"
   },
   {
    "duration": 17,
    "start_time": "2022-05-05T10:42:04.291Z"
   },
   {
    "duration": 18,
    "start_time": "2022-05-05T10:42:04.311Z"
   },
   {
    "duration": 34,
    "start_time": "2022-05-05T10:42:04.331Z"
   },
   {
    "duration": 43,
    "start_time": "2022-05-05T10:42:04.367Z"
   },
   {
    "duration": 20,
    "start_time": "2022-05-05T10:42:04.412Z"
   },
   {
    "duration": 24,
    "start_time": "2022-05-05T10:42:29.663Z"
   },
   {
    "duration": 13,
    "start_time": "2022-05-05T10:43:14.673Z"
   },
   {
    "duration": 114,
    "start_time": "2022-05-05T10:43:48.546Z"
   },
   {
    "duration": 74,
    "start_time": "2022-05-05T10:43:53.899Z"
   },
   {
    "duration": 484,
    "start_time": "2022-05-05T10:44:28.361Z"
   },
   {
    "duration": 388,
    "start_time": "2022-05-05T10:44:36.909Z"
   },
   {
    "duration": 23,
    "start_time": "2022-05-05T10:44:45.771Z"
   },
   {
    "duration": 11,
    "start_time": "2022-05-05T10:44:48.905Z"
   },
   {
    "duration": 83,
    "start_time": "2022-05-05T10:44:59.622Z"
   },
   {
    "duration": 15041,
    "start_time": "2022-05-05T10:45:04.887Z"
   },
   {
    "duration": 104,
    "start_time": "2022-05-05T10:45:29.682Z"
   },
   {
    "duration": 290,
    "start_time": "2022-05-05T13:27:19.233Z"
   },
   {
    "duration": 216,
    "start_time": "2022-05-05T13:27:34.411Z"
   },
   {
    "duration": 9,
    "start_time": "2022-05-05T13:27:44.784Z"
   },
   {
    "duration": 306,
    "start_time": "2022-05-05T13:28:06.301Z"
   },
   {
    "duration": 16,
    "start_time": "2022-05-05T13:28:21.118Z"
   },
   {
    "duration": 15,
    "start_time": "2022-05-05T13:29:33.068Z"
   },
   {
    "duration": 28,
    "start_time": "2022-05-05T13:29:38.305Z"
   },
   {
    "duration": 25,
    "start_time": "2022-05-05T13:29:44.700Z"
   },
   {
    "duration": 495,
    "start_time": "2022-05-05T13:30:23.341Z"
   },
   {
    "duration": 476,
    "start_time": "2022-05-05T13:30:23.839Z"
   },
   {
    "duration": 34,
    "start_time": "2022-05-05T13:30:24.317Z"
   },
   {
    "duration": 21,
    "start_time": "2022-05-05T13:30:24.353Z"
   },
   {
    "duration": 29,
    "start_time": "2022-05-05T13:30:24.377Z"
   },
   {
    "duration": 11,
    "start_time": "2022-05-05T13:30:24.408Z"
   },
   {
    "duration": 53,
    "start_time": "2022-05-05T13:30:24.421Z"
   },
   {
    "duration": 12,
    "start_time": "2022-05-05T13:30:24.477Z"
   },
   {
    "duration": 17,
    "start_time": "2022-05-05T13:30:24.492Z"
   },
   {
    "duration": 47,
    "start_time": "2022-05-05T13:30:24.511Z"
   },
   {
    "duration": 18,
    "start_time": "2022-05-05T13:30:24.560Z"
   },
   {
    "duration": 15,
    "start_time": "2022-05-05T13:30:24.580Z"
   },
   {
    "duration": 3,
    "start_time": "2022-05-05T13:31:24.635Z"
   },
   {
    "duration": 49,
    "start_time": "2022-05-06T06:45:08.305Z"
   },
   {
    "duration": 359,
    "start_time": "2022-05-06T06:45:12.423Z"
   },
   {
    "duration": 379,
    "start_time": "2022-05-06T06:45:12.784Z"
   },
   {
    "duration": 26,
    "start_time": "2022-05-06T06:45:13.165Z"
   },
   {
    "duration": 21,
    "start_time": "2022-05-06T06:45:13.193Z"
   },
   {
    "duration": 18,
    "start_time": "2022-05-06T06:45:13.215Z"
   },
   {
    "duration": 10,
    "start_time": "2022-05-06T06:45:13.234Z"
   },
   {
    "duration": 29,
    "start_time": "2022-05-06T06:45:13.245Z"
   },
   {
    "duration": 8,
    "start_time": "2022-05-06T06:45:13.275Z"
   },
   {
    "duration": 61,
    "start_time": "2022-05-06T06:45:43.054Z"
   },
   {
    "duration": 9,
    "start_time": "2022-05-06T06:45:46.698Z"
   },
   {
    "duration": 9,
    "start_time": "2022-05-06T06:45:56.077Z"
   },
   {
    "duration": 8,
    "start_time": "2022-05-06T06:46:27.626Z"
   },
   {
    "duration": 336,
    "start_time": "2022-05-06T06:48:39.843Z"
   },
   {
    "duration": 7,
    "start_time": "2022-05-06T06:49:05.613Z"
   },
   {
    "duration": 3,
    "start_time": "2022-05-06T06:49:08.032Z"
   },
   {
    "duration": 9,
    "start_time": "2022-05-06T06:49:10.535Z"
   },
   {
    "duration": 3,
    "start_time": "2022-05-06T06:49:18.163Z"
   },
   {
    "duration": 9,
    "start_time": "2022-05-06T06:49:19.912Z"
   },
   {
    "duration": 2,
    "start_time": "2022-05-06T06:49:33.732Z"
   },
   {
    "duration": 6,
    "start_time": "2022-05-06T06:49:35.691Z"
   },
   {
    "duration": 4,
    "start_time": "2022-05-06T06:49:42.014Z"
   },
   {
    "duration": 3,
    "start_time": "2022-05-06T06:50:06.729Z"
   },
   {
    "duration": 6,
    "start_time": "2022-05-06T06:50:08.583Z"
   },
   {
    "duration": 3,
    "start_time": "2022-05-06T06:50:57.344Z"
   },
   {
    "duration": 9,
    "start_time": "2022-05-06T06:50:59.084Z"
   },
   {
    "duration": 6,
    "start_time": "2022-05-06T06:52:41.490Z"
   },
   {
    "duration": 6,
    "start_time": "2022-05-06T06:52:44.811Z"
   },
   {
    "duration": 7,
    "start_time": "2022-05-06T06:52:51.554Z"
   },
   {
    "duration": 7,
    "start_time": "2022-05-06T06:52:59.684Z"
   },
   {
    "duration": 10,
    "start_time": "2022-05-06T06:55:05.571Z"
   },
   {
    "duration": 6,
    "start_time": "2022-05-06T06:57:23.216Z"
   },
   {
    "duration": 16,
    "start_time": "2022-05-06T07:04:04.042Z"
   },
   {
    "duration": 22,
    "start_time": "2022-05-06T07:04:37.405Z"
   },
   {
    "duration": 10,
    "start_time": "2022-05-06T07:04:43.922Z"
   },
   {
    "duration": 12,
    "start_time": "2022-05-06T07:05:06.766Z"
   },
   {
    "duration": 443,
    "start_time": "2022-05-06T07:05:27.651Z"
   },
   {
    "duration": 386,
    "start_time": "2022-05-06T07:05:28.096Z"
   },
   {
    "duration": 27,
    "start_time": "2022-05-06T07:05:28.484Z"
   },
   {
    "duration": 21,
    "start_time": "2022-05-06T07:05:28.513Z"
   },
   {
    "duration": 18,
    "start_time": "2022-05-06T07:05:28.536Z"
   },
   {
    "duration": 11,
    "start_time": "2022-05-06T07:05:28.574Z"
   },
   {
    "duration": 14,
    "start_time": "2022-05-06T07:05:28.586Z"
   },
   {
    "duration": 6,
    "start_time": "2022-05-06T07:05:28.602Z"
   },
   {
    "duration": 18,
    "start_time": "2022-05-06T07:05:28.609Z"
   },
   {
    "duration": 8,
    "start_time": "2022-05-06T07:05:28.629Z"
   },
   {
    "duration": 8,
    "start_time": "2022-05-06T07:05:28.638Z"
   },
   {
    "duration": 34,
    "start_time": "2022-05-06T07:05:28.647Z"
   },
   {
    "duration": 3,
    "start_time": "2022-05-06T07:06:19.749Z"
   },
   {
    "duration": 423,
    "start_time": "2022-05-06T07:06:29.552Z"
   },
   {
    "duration": 377,
    "start_time": "2022-05-06T07:06:29.977Z"
   },
   {
    "duration": 25,
    "start_time": "2022-05-06T07:06:30.355Z"
   },
   {
    "duration": 28,
    "start_time": "2022-05-06T07:06:30.383Z"
   },
   {
    "duration": 26,
    "start_time": "2022-05-06T07:06:30.413Z"
   },
   {
    "duration": 41,
    "start_time": "2022-05-06T07:06:30.441Z"
   },
   {
    "duration": 25,
    "start_time": "2022-05-06T07:06:30.483Z"
   },
   {
    "duration": 33,
    "start_time": "2022-05-06T07:06:30.510Z"
   },
   {
    "duration": 149,
    "start_time": "2022-05-06T07:06:30.545Z"
   },
   {
    "duration": 7,
    "start_time": "2022-05-06T07:06:30.697Z"
   },
   {
    "duration": 107,
    "start_time": "2022-05-06T07:06:30.705Z"
   },
   {
    "duration": 10,
    "start_time": "2022-05-06T07:06:30.814Z"
   },
   {
    "duration": 61,
    "start_time": "2022-05-06T07:07:10.448Z"
   },
   {
    "duration": 2,
    "start_time": "2022-05-06T07:07:29.462Z"
   },
   {
    "duration": 25,
    "start_time": "2022-05-06T07:09:40.438Z"
   },
   {
    "duration": 16,
    "start_time": "2022-05-06T07:09:59.387Z"
   },
   {
    "duration": 357,
    "start_time": "2022-05-06T07:12:45.829Z"
   },
   {
    "duration": 368,
    "start_time": "2022-05-06T07:12:46.188Z"
   },
   {
    "duration": 27,
    "start_time": "2022-05-06T07:12:46.557Z"
   },
   {
    "duration": 21,
    "start_time": "2022-05-06T07:12:46.586Z"
   },
   {
    "duration": 23,
    "start_time": "2022-05-06T07:12:46.609Z"
   },
   {
    "duration": 10,
    "start_time": "2022-05-06T07:12:46.634Z"
   },
   {
    "duration": 31,
    "start_time": "2022-05-06T07:12:46.645Z"
   },
   {
    "duration": 7,
    "start_time": "2022-05-06T07:12:46.678Z"
   },
   {
    "duration": 142,
    "start_time": "2022-05-06T07:12:46.687Z"
   },
   {
    "duration": 7,
    "start_time": "2022-05-06T07:12:46.831Z"
   },
   {
    "duration": 94,
    "start_time": "2022-05-06T07:12:46.840Z"
   },
   {
    "duration": 9,
    "start_time": "2022-05-06T07:12:46.935Z"
   },
   {
    "duration": 42,
    "start_time": "2022-05-06T07:12:46.946Z"
   },
   {
    "duration": 114,
    "start_time": "2022-05-06T07:12:46.989Z"
   },
   {
    "duration": 0,
    "start_time": "2022-05-06T07:12:47.105Z"
   },
   {
    "duration": 0,
    "start_time": "2022-05-06T07:12:47.106Z"
   },
   {
    "duration": 0,
    "start_time": "2022-05-06T07:12:47.107Z"
   },
   {
    "duration": 110,
    "start_time": "2022-05-06T07:12:58.593Z"
   },
   {
    "duration": 48,
    "start_time": "2022-05-06T07:13:02.720Z"
   },
   {
    "duration": 135,
    "start_time": "2022-05-06T07:13:03.502Z"
   },
   {
    "duration": 15,
    "start_time": "2022-05-06T07:13:08.251Z"
   },
   {
    "duration": 47,
    "start_time": "2022-05-06T07:13:47.720Z"
   },
   {
    "duration": 19,
    "start_time": "2022-05-06T07:14:38.694Z"
   },
   {
    "duration": 17,
    "start_time": "2022-05-06T07:14:56.161Z"
   },
   {
    "duration": 2,
    "start_time": "2022-05-06T07:15:12.266Z"
   },
   {
    "duration": 11,
    "start_time": "2022-05-06T07:16:06.989Z"
   },
   {
    "duration": 2,
    "start_time": "2022-05-06T07:16:47.266Z"
   },
   {
    "duration": 13,
    "start_time": "2022-05-06T07:17:16.574Z"
   },
   {
    "duration": 427,
    "start_time": "2022-05-06T07:20:43.952Z"
   },
   {
    "duration": 377,
    "start_time": "2022-05-06T07:20:44.381Z"
   },
   {
    "duration": 25,
    "start_time": "2022-05-06T07:20:44.760Z"
   },
   {
    "duration": 21,
    "start_time": "2022-05-06T07:20:44.787Z"
   },
   {
    "duration": 20,
    "start_time": "2022-05-06T07:20:44.810Z"
   },
   {
    "duration": 10,
    "start_time": "2022-05-06T07:20:44.832Z"
   },
   {
    "duration": 36,
    "start_time": "2022-05-06T07:20:44.844Z"
   },
   {
    "duration": 3,
    "start_time": "2022-05-06T07:20:44.883Z"
   },
   {
    "duration": 146,
    "start_time": "2022-05-06T07:20:44.888Z"
   },
   {
    "duration": 9,
    "start_time": "2022-05-06T07:20:45.037Z"
   },
   {
    "duration": 106,
    "start_time": "2022-05-06T07:20:45.047Z"
   },
   {
    "duration": 22,
    "start_time": "2022-05-06T07:20:45.155Z"
   },
   {
    "duration": 32,
    "start_time": "2022-05-06T07:20:45.179Z"
   },
   {
    "duration": 63,
    "start_time": "2022-05-06T07:20:45.213Z"
   },
   {
    "duration": 15,
    "start_time": "2022-05-06T07:20:45.278Z"
   },
   {
    "duration": 47,
    "start_time": "2022-05-06T07:20:45.295Z"
   },
   {
    "duration": 43,
    "start_time": "2022-05-06T07:20:45.344Z"
   },
   {
    "duration": 47,
    "start_time": "2022-05-06T07:20:45.388Z"
   },
   {
    "duration": 36,
    "start_time": "2022-05-06T07:20:45.437Z"
   },
   {
    "duration": 108,
    "start_time": "2022-05-06T07:20:45.475Z"
   },
   {
    "duration": 0,
    "start_time": "2022-05-06T07:20:45.584Z"
   },
   {
    "duration": 0,
    "start_time": "2022-05-06T07:20:45.585Z"
   },
   {
    "duration": 0,
    "start_time": "2022-05-06T07:20:45.586Z"
   },
   {
    "duration": 0,
    "start_time": "2022-05-06T07:20:45.587Z"
   },
   {
    "duration": 108,
    "start_time": "2022-05-06T07:20:55.207Z"
   },
   {
    "duration": 371,
    "start_time": "2022-05-06T07:21:02.226Z"
   },
   {
    "duration": 395,
    "start_time": "2022-05-06T07:21:02.599Z"
   },
   {
    "duration": 26,
    "start_time": "2022-05-06T07:21:02.996Z"
   },
   {
    "duration": 21,
    "start_time": "2022-05-06T07:21:03.023Z"
   },
   {
    "duration": 18,
    "start_time": "2022-05-06T07:21:03.046Z"
   },
   {
    "duration": 15,
    "start_time": "2022-05-06T07:21:03.066Z"
   },
   {
    "duration": 11,
    "start_time": "2022-05-06T07:21:03.083Z"
   },
   {
    "duration": 3,
    "start_time": "2022-05-06T07:21:03.095Z"
   },
   {
    "duration": 142,
    "start_time": "2022-05-06T07:21:03.100Z"
   },
   {
    "duration": 7,
    "start_time": "2022-05-06T07:21:03.244Z"
   },
   {
    "duration": 95,
    "start_time": "2022-05-06T07:21:03.253Z"
   },
   {
    "duration": 24,
    "start_time": "2022-05-06T07:21:03.349Z"
   },
   {
    "duration": 26,
    "start_time": "2022-05-06T07:21:03.375Z"
   },
   {
    "duration": 46,
    "start_time": "2022-05-06T07:21:03.404Z"
   },
   {
    "duration": 17,
    "start_time": "2022-05-06T07:21:03.473Z"
   },
   {
    "duration": 54,
    "start_time": "2022-05-06T07:21:03.492Z"
   },
   {
    "duration": 43,
    "start_time": "2022-05-06T07:21:03.548Z"
   },
   {
    "duration": 48,
    "start_time": "2022-05-06T07:21:03.593Z"
   },
   {
    "duration": 38,
    "start_time": "2022-05-06T07:21:03.643Z"
   },
   {
    "duration": 10,
    "start_time": "2022-05-06T07:21:03.683Z"
   },
   {
    "duration": 14,
    "start_time": "2022-05-06T07:21:03.694Z"
   },
   {
    "duration": 5,
    "start_time": "2022-05-06T07:21:03.710Z"
   },
   {
    "duration": 16,
    "start_time": "2022-05-06T07:21:03.716Z"
   },
   {
    "duration": 107,
    "start_time": "2022-05-06T07:24:41.894Z"
   },
   {
    "duration": 513,
    "start_time": "2022-05-11T06:22:09.004Z"
   },
   {
    "duration": 479,
    "start_time": "2022-05-11T06:22:09.520Z"
   },
   {
    "duration": 36,
    "start_time": "2022-05-11T06:22:10.001Z"
   },
   {
    "duration": 30,
    "start_time": "2022-05-11T06:22:10.040Z"
   },
   {
    "duration": 31,
    "start_time": "2022-05-11T06:22:10.073Z"
   },
   {
    "duration": 16,
    "start_time": "2022-05-11T06:22:10.107Z"
   },
   {
    "duration": 16,
    "start_time": "2022-05-11T06:22:10.153Z"
   },
   {
    "duration": 10,
    "start_time": "2022-05-11T06:22:10.172Z"
   },
   {
    "duration": 193,
    "start_time": "2022-05-11T06:22:10.185Z"
   },
   {
    "duration": 10,
    "start_time": "2022-05-11T06:22:10.382Z"
   },
   {
    "duration": 146,
    "start_time": "2022-05-11T06:22:10.394Z"
   },
   {
    "duration": 20,
    "start_time": "2022-05-11T06:22:10.542Z"
   },
   {
    "duration": 43,
    "start_time": "2022-05-11T06:22:10.565Z"
   },
   {
    "duration": 95,
    "start_time": "2022-05-11T06:22:10.611Z"
   },
   {
    "duration": 22,
    "start_time": "2022-05-11T06:22:10.708Z"
   },
   {
    "duration": 90,
    "start_time": "2022-05-11T06:22:10.733Z"
   },
   {
    "duration": 41,
    "start_time": "2022-05-11T06:22:10.825Z"
   },
   {
    "duration": 85,
    "start_time": "2022-05-11T06:22:10.869Z"
   },
   {
    "duration": 21,
    "start_time": "2022-05-11T06:22:10.957Z"
   },
   {
    "duration": 16,
    "start_time": "2022-05-11T06:22:10.980Z"
   },
   {
    "duration": 54,
    "start_time": "2022-05-11T06:22:10.998Z"
   },
   {
    "duration": 8,
    "start_time": "2022-05-11T06:22:11.054Z"
   },
   {
    "duration": 49,
    "start_time": "2022-05-11T06:22:11.064Z"
   },
   {
    "duration": 131,
    "start_time": "2022-05-11T06:22:11.115Z"
   },
   {
    "duration": 0,
    "start_time": "2022-05-11T06:22:11.252Z"
   },
   {
    "duration": 10,
    "start_time": "2022-05-11T06:23:22.088Z"
   },
   {
    "duration": 279,
    "start_time": "2022-05-11T06:23:32.285Z"
   },
   {
    "duration": 8,
    "start_time": "2022-05-11T06:23:33.903Z"
   },
   {
    "duration": 29,
    "start_time": "2022-05-11T06:24:10.467Z"
   },
   {
    "duration": 278,
    "start_time": "2022-05-11T06:24:22.867Z"
   },
   {
    "duration": 8,
    "start_time": "2022-05-11T06:24:24.619Z"
   },
   {
    "duration": 73,
    "start_time": "2022-05-11T06:26:01.472Z"
   },
   {
    "duration": 12,
    "start_time": "2022-05-11T06:26:02.454Z"
   },
   {
    "duration": 340,
    "start_time": "2022-05-11T06:26:21.412Z"
   },
   {
    "duration": 9,
    "start_time": "2022-05-11T06:26:22.676Z"
   },
   {
    "duration": 110,
    "start_time": "2022-05-11T06:28:06.531Z"
   },
   {
    "duration": 6,
    "start_time": "2022-05-11T06:28:07.997Z"
   },
   {
    "duration": 110,
    "start_time": "2022-05-11T06:28:48.635Z"
   },
   {
    "duration": 8,
    "start_time": "2022-05-11T06:28:49.759Z"
   },
   {
    "duration": 115,
    "start_time": "2022-05-11T06:30:31.097Z"
   },
   {
    "duration": 11,
    "start_time": "2022-05-11T06:30:31.688Z"
   },
   {
    "duration": 119,
    "start_time": "2022-05-11T06:32:15.113Z"
   },
   {
    "duration": 13,
    "start_time": "2022-05-11T06:32:15.771Z"
   },
   {
    "duration": 97,
    "start_time": "2022-05-11T06:32:50.344Z"
   },
   {
    "duration": 1525,
    "start_time": "2022-05-11T06:32:51.014Z"
   },
   {
    "duration": 108,
    "start_time": "2022-05-11T06:33:12.669Z"
   },
   {
    "duration": 8,
    "start_time": "2022-05-11T06:33:14.055Z"
   },
   {
    "duration": 135,
    "start_time": "2022-05-11T06:33:40.794Z"
   },
   {
    "duration": 7,
    "start_time": "2022-05-11T06:33:41.870Z"
   },
   {
    "duration": 127,
    "start_time": "2022-05-11T06:34:06.232Z"
   },
   {
    "duration": 11,
    "start_time": "2022-05-11T06:34:07.171Z"
   },
   {
    "duration": 126,
    "start_time": "2022-05-11T06:34:24.970Z"
   },
   {
    "duration": 15,
    "start_time": "2022-05-11T06:34:26.148Z"
   },
   {
    "duration": 156,
    "start_time": "2022-05-11T06:34:48.989Z"
   },
   {
    "duration": 84,
    "start_time": "2022-05-11T06:36:28.357Z"
   },
   {
    "duration": 79,
    "start_time": "2022-05-11T06:36:40.348Z"
   },
   {
    "duration": 162,
    "start_time": "2022-05-11T06:37:30.166Z"
   },
   {
    "duration": 159,
    "start_time": "2022-05-11T06:37:42.851Z"
   },
   {
    "duration": 2065,
    "start_time": "2022-05-11T06:38:39.176Z"
   },
   {
    "duration": 7,
    "start_time": "2022-05-11T06:39:01.813Z"
   },
   {
    "duration": 163,
    "start_time": "2022-05-11T06:40:21.143Z"
   },
   {
    "duration": 7,
    "start_time": "2022-05-11T06:40:26.157Z"
   },
   {
    "duration": 149,
    "start_time": "2022-05-11T06:40:46.149Z"
   },
   {
    "duration": 148,
    "start_time": "2022-05-11T06:40:55.879Z"
   },
   {
    "duration": 145,
    "start_time": "2022-05-11T06:41:01.099Z"
   },
   {
    "duration": 153,
    "start_time": "2022-05-11T06:41:40.876Z"
   },
   {
    "duration": 150,
    "start_time": "2022-05-11T06:41:46.195Z"
   },
   {
    "duration": 12,
    "start_time": "2022-05-11T06:41:50.982Z"
   },
   {
    "duration": 148,
    "start_time": "2022-05-11T06:42:02.477Z"
   },
   {
    "duration": 78,
    "start_time": "2022-05-11T06:44:06.769Z"
   },
   {
    "duration": 1646,
    "start_time": "2022-05-11T06:44:46.163Z"
   },
   {
    "duration": 11,
    "start_time": "2022-05-11T06:44:52.096Z"
   },
   {
    "duration": 1590,
    "start_time": "2022-05-11T06:45:02.140Z"
   },
   {
    "duration": 548,
    "start_time": "2022-05-11T06:46:49.787Z"
   },
   {
    "duration": 472,
    "start_time": "2022-05-11T06:46:50.337Z"
   },
   {
    "duration": 35,
    "start_time": "2022-05-11T06:46:50.811Z"
   },
   {
    "duration": 29,
    "start_time": "2022-05-11T06:46:50.849Z"
   },
   {
    "duration": 25,
    "start_time": "2022-05-11T06:46:50.880Z"
   },
   {
    "duration": 14,
    "start_time": "2022-05-11T06:46:50.907Z"
   },
   {
    "duration": 39,
    "start_time": "2022-05-11T06:46:50.923Z"
   },
   {
    "duration": 4,
    "start_time": "2022-05-11T06:46:50.964Z"
   },
   {
    "duration": 189,
    "start_time": "2022-05-11T06:46:50.970Z"
   },
   {
    "duration": 11,
    "start_time": "2022-05-11T06:46:51.163Z"
   },
   {
    "duration": 153,
    "start_time": "2022-05-11T06:46:51.176Z"
   },
   {
    "duration": 20,
    "start_time": "2022-05-11T06:46:51.332Z"
   },
   {
    "duration": 43,
    "start_time": "2022-05-11T06:46:51.355Z"
   },
   {
    "duration": 94,
    "start_time": "2022-05-11T06:46:51.400Z"
   },
   {
    "duration": 23,
    "start_time": "2022-05-11T06:46:51.496Z"
   },
   {
    "duration": 89,
    "start_time": "2022-05-11T06:46:51.521Z"
   },
   {
    "duration": 46,
    "start_time": "2022-05-11T06:46:51.612Z"
   },
   {
    "duration": 68,
    "start_time": "2022-05-11T06:46:51.660Z"
   },
   {
    "duration": 40,
    "start_time": "2022-05-11T06:46:51.730Z"
   },
   {
    "duration": 14,
    "start_time": "2022-05-11T06:46:51.772Z"
   },
   {
    "duration": 23,
    "start_time": "2022-05-11T06:46:51.788Z"
   },
   {
    "duration": 41,
    "start_time": "2022-05-11T06:46:51.813Z"
   },
   {
    "duration": 24,
    "start_time": "2022-05-11T06:46:51.857Z"
   },
   {
    "duration": 1590,
    "start_time": "2022-05-11T06:46:51.883Z"
   },
   {
    "duration": 9,
    "start_time": "2022-05-11T06:46:53.476Z"
   },
   {
    "duration": 5,
    "start_time": "2022-05-11T06:47:29.420Z"
   },
   {
    "duration": 4,
    "start_time": "2022-05-11T06:47:31.947Z"
   },
   {
    "duration": 554,
    "start_time": "2022-05-11T06:48:25.410Z"
   },
   {
    "duration": 517,
    "start_time": "2022-05-11T06:48:25.967Z"
   },
   {
    "duration": 41,
    "start_time": "2022-05-11T06:48:26.487Z"
   },
   {
    "duration": 30,
    "start_time": "2022-05-11T06:48:26.532Z"
   },
   {
    "duration": 29,
    "start_time": "2022-05-11T06:48:26.564Z"
   },
   {
    "duration": 17,
    "start_time": "2022-05-11T06:48:26.596Z"
   },
   {
    "duration": 47,
    "start_time": "2022-05-11T06:48:26.615Z"
   },
   {
    "duration": 7,
    "start_time": "2022-05-11T06:48:26.665Z"
   },
   {
    "duration": 199,
    "start_time": "2022-05-11T06:48:26.675Z"
   },
   {
    "duration": 11,
    "start_time": "2022-05-11T06:48:26.877Z"
   },
   {
    "duration": 162,
    "start_time": "2022-05-11T06:48:26.890Z"
   },
   {
    "duration": 13,
    "start_time": "2022-05-11T06:48:27.055Z"
   },
   {
    "duration": 44,
    "start_time": "2022-05-11T06:48:27.071Z"
   },
   {
    "duration": 90,
    "start_time": "2022-05-11T06:48:27.117Z"
   },
   {
    "duration": 22,
    "start_time": "2022-05-11T06:48:27.209Z"
   },
   {
    "duration": 77,
    "start_time": "2022-05-11T06:48:27.251Z"
   },
   {
    "duration": 49,
    "start_time": "2022-05-11T06:48:27.331Z"
   },
   {
    "duration": 103,
    "start_time": "2022-05-11T06:48:27.383Z"
   },
   {
    "duration": 23,
    "start_time": "2022-05-11T06:48:27.488Z"
   },
   {
    "duration": 42,
    "start_time": "2022-05-11T06:48:27.513Z"
   },
   {
    "duration": 24,
    "start_time": "2022-05-11T06:48:27.558Z"
   },
   {
    "duration": 8,
    "start_time": "2022-05-11T06:48:27.584Z"
   },
   {
    "duration": 60,
    "start_time": "2022-05-11T06:48:27.595Z"
   },
   {
    "duration": 521,
    "start_time": "2022-05-11T06:49:21.934Z"
   },
   {
    "duration": 521,
    "start_time": "2022-05-11T06:49:22.459Z"
   },
   {
    "duration": 62,
    "start_time": "2022-05-11T06:49:22.983Z"
   },
   {
    "duration": 50,
    "start_time": "2022-05-11T06:49:23.051Z"
   },
   {
    "duration": 55,
    "start_time": "2022-05-11T06:49:23.104Z"
   },
   {
    "duration": 14,
    "start_time": "2022-05-11T06:49:23.162Z"
   },
   {
    "duration": 19,
    "start_time": "2022-05-11T06:49:23.178Z"
   },
   {
    "duration": 8,
    "start_time": "2022-05-11T06:49:23.200Z"
   },
   {
    "duration": 211,
    "start_time": "2022-05-11T06:49:23.211Z"
   },
   {
    "duration": 10,
    "start_time": "2022-05-11T06:49:23.426Z"
   },
   {
    "duration": 141,
    "start_time": "2022-05-11T06:49:23.451Z"
   },
   {
    "duration": 10,
    "start_time": "2022-05-11T06:49:23.594Z"
   },
   {
    "duration": 52,
    "start_time": "2022-05-11T06:49:23.606Z"
   },
   {
    "duration": 69,
    "start_time": "2022-05-11T06:49:23.660Z"
   },
   {
    "duration": 39,
    "start_time": "2022-05-11T06:49:23.732Z"
   },
   {
    "duration": 127,
    "start_time": "2022-05-11T06:49:23.774Z"
   },
   {
    "duration": 59,
    "start_time": "2022-05-11T06:49:23.904Z"
   },
   {
    "duration": 119,
    "start_time": "2022-05-11T06:49:23.966Z"
   },
   {
    "duration": 38,
    "start_time": "2022-05-11T06:49:24.088Z"
   },
   {
    "duration": 40,
    "start_time": "2022-05-11T06:49:24.129Z"
   },
   {
    "duration": 27,
    "start_time": "2022-05-11T06:49:24.173Z"
   },
   {
    "duration": 11,
    "start_time": "2022-05-11T06:49:24.203Z"
   },
   {
    "duration": 62,
    "start_time": "2022-05-11T06:49:24.216Z"
   },
   {
    "duration": 142,
    "start_time": "2022-05-11T06:49:24.281Z"
   },
   {
    "duration": 0,
    "start_time": "2022-05-11T06:49:24.425Z"
   },
   {
    "duration": 114,
    "start_time": "2022-05-11T06:49:35.091Z"
   },
   {
    "duration": 175,
    "start_time": "2022-05-11T06:49:39.873Z"
   },
   {
    "duration": 158,
    "start_time": "2022-05-11T06:51:47.297Z"
   },
   {
    "duration": 6,
    "start_time": "2022-05-11T06:51:54.258Z"
   },
   {
    "duration": 10,
    "start_time": "2022-05-11T07:26:11.638Z"
   },
   {
    "duration": 179,
    "start_time": "2022-05-11T07:26:28.995Z"
   },
   {
    "duration": 10,
    "start_time": "2022-05-11T07:26:32.231Z"
   },
   {
    "duration": 4,
    "start_time": "2022-05-11T07:26:45.452Z"
   },
   {
    "duration": 1444,
    "start_time": "2022-05-11T07:27:02.684Z"
   },
   {
    "duration": 524,
    "start_time": "2022-05-11T07:28:07.031Z"
   },
   {
    "duration": 500,
    "start_time": "2022-05-11T07:28:07.558Z"
   },
   {
    "duration": 38,
    "start_time": "2022-05-11T07:28:08.060Z"
   },
   {
    "duration": 29,
    "start_time": "2022-05-11T07:28:08.100Z"
   },
   {
    "duration": 43,
    "start_time": "2022-05-11T07:28:08.132Z"
   },
   {
    "duration": 15,
    "start_time": "2022-05-11T07:28:08.177Z"
   },
   {
    "duration": 17,
    "start_time": "2022-05-11T07:28:08.194Z"
   },
   {
    "duration": 39,
    "start_time": "2022-05-11T07:28:08.213Z"
   },
   {
    "duration": 180,
    "start_time": "2022-05-11T07:28:08.254Z"
   },
   {
    "duration": 17,
    "start_time": "2022-05-11T07:28:08.436Z"
   },
   {
    "duration": 144,
    "start_time": "2022-05-11T07:28:08.456Z"
   },
   {
    "duration": 11,
    "start_time": "2022-05-11T07:28:08.603Z"
   },
   {
    "duration": 63,
    "start_time": "2022-05-11T07:28:08.618Z"
   },
   {
    "duration": 87,
    "start_time": "2022-05-11T07:28:08.687Z"
   },
   {
    "duration": 24,
    "start_time": "2022-05-11T07:28:08.777Z"
   },
   {
    "duration": 100,
    "start_time": "2022-05-11T07:28:08.804Z"
   },
   {
    "duration": 48,
    "start_time": "2022-05-11T07:28:08.907Z"
   },
   {
    "duration": 66,
    "start_time": "2022-05-11T07:28:08.958Z"
   },
   {
    "duration": 37,
    "start_time": "2022-05-11T07:28:09.026Z"
   },
   {
    "duration": 15,
    "start_time": "2022-05-11T07:28:09.066Z"
   },
   {
    "duration": 20,
    "start_time": "2022-05-11T07:28:09.083Z"
   },
   {
    "duration": 47,
    "start_time": "2022-05-11T07:28:09.105Z"
   },
   {
    "duration": 24,
    "start_time": "2022-05-11T07:28:09.155Z"
   },
   {
    "duration": 1719,
    "start_time": "2022-05-11T07:28:09.181Z"
   },
   {
    "duration": 0,
    "start_time": "2022-05-11T07:28:10.903Z"
   },
   {
    "duration": 1543,
    "start_time": "2022-05-11T07:28:21.412Z"
   },
   {
    "duration": 7,
    "start_time": "2022-05-11T07:28:42.205Z"
   },
   {
    "duration": 7,
    "start_time": "2022-05-11T07:29:55.810Z"
   },
   {
    "duration": 31,
    "start_time": "2022-05-11T07:30:04.382Z"
   },
   {
    "duration": 446,
    "start_time": "2022-05-11T07:30:31.991Z"
   },
   {
    "duration": 457,
    "start_time": "2022-05-11T07:30:32.439Z"
   },
   {
    "duration": 34,
    "start_time": "2022-05-11T07:30:32.898Z"
   },
   {
    "duration": 28,
    "start_time": "2022-05-11T07:30:32.935Z"
   },
   {
    "duration": 24,
    "start_time": "2022-05-11T07:30:32.967Z"
   },
   {
    "duration": 15,
    "start_time": "2022-05-11T07:30:32.993Z"
   },
   {
    "duration": 45,
    "start_time": "2022-05-11T07:30:33.010Z"
   },
   {
    "duration": 8,
    "start_time": "2022-05-11T07:30:33.057Z"
   },
   {
    "duration": 189,
    "start_time": "2022-05-11T07:30:33.067Z"
   },
   {
    "duration": 10,
    "start_time": "2022-05-11T07:30:33.259Z"
   },
   {
    "duration": 147,
    "start_time": "2022-05-11T07:30:33.271Z"
   },
   {
    "duration": 12,
    "start_time": "2022-05-11T07:30:33.420Z"
   },
   {
    "duration": 47,
    "start_time": "2022-05-11T07:30:33.435Z"
   },
   {
    "duration": 82,
    "start_time": "2022-05-11T07:30:33.486Z"
   },
   {
    "duration": 22,
    "start_time": "2022-05-11T07:30:33.571Z"
   },
   {
    "duration": 95,
    "start_time": "2022-05-11T07:30:33.595Z"
   },
   {
    "duration": 28,
    "start_time": "2022-05-11T07:30:33.693Z"
   },
   {
    "duration": 84,
    "start_time": "2022-05-11T07:30:33.723Z"
   },
   {
    "duration": 44,
    "start_time": "2022-05-11T07:30:33.809Z"
   },
   {
    "duration": 15,
    "start_time": "2022-05-11T07:30:33.855Z"
   },
   {
    "duration": 20,
    "start_time": "2022-05-11T07:30:33.872Z"
   },
   {
    "duration": 8,
    "start_time": "2022-05-11T07:30:33.894Z"
   },
   {
    "duration": 62,
    "start_time": "2022-05-11T07:30:33.903Z"
   },
   {
    "duration": 535,
    "start_time": "2022-05-11T07:31:07.244Z"
   },
   {
    "duration": 464,
    "start_time": "2022-05-11T07:31:07.782Z"
   },
   {
    "duration": 34,
    "start_time": "2022-05-11T07:31:08.248Z"
   },
   {
    "duration": 27,
    "start_time": "2022-05-11T07:31:08.285Z"
   },
   {
    "duration": 45,
    "start_time": "2022-05-11T07:31:08.314Z"
   },
   {
    "duration": 14,
    "start_time": "2022-05-11T07:31:08.361Z"
   },
   {
    "duration": 16,
    "start_time": "2022-05-11T07:31:08.378Z"
   },
   {
    "duration": 6,
    "start_time": "2022-05-11T07:31:08.397Z"
   },
   {
    "duration": 210,
    "start_time": "2022-05-11T07:31:08.405Z"
   },
   {
    "duration": 10,
    "start_time": "2022-05-11T07:31:08.618Z"
   },
   {
    "duration": 146,
    "start_time": "2022-05-11T07:31:08.631Z"
   },
   {
    "duration": 11,
    "start_time": "2022-05-11T07:31:08.780Z"
   },
   {
    "duration": 41,
    "start_time": "2022-05-11T07:31:08.793Z"
   },
   {
    "duration": 70,
    "start_time": "2022-05-11T07:31:08.852Z"
   },
   {
    "duration": 41,
    "start_time": "2022-05-11T07:31:08.924Z"
   },
   {
    "duration": 85,
    "start_time": "2022-05-11T07:31:08.968Z"
   },
   {
    "duration": 28,
    "start_time": "2022-05-11T07:31:09.056Z"
   },
   {
    "duration": 89,
    "start_time": "2022-05-11T07:31:09.086Z"
   },
   {
    "duration": 22,
    "start_time": "2022-05-11T07:31:09.177Z"
   },
   {
    "duration": 14,
    "start_time": "2022-05-11T07:31:09.201Z"
   },
   {
    "duration": 50,
    "start_time": "2022-05-11T07:31:09.217Z"
   },
   {
    "duration": 8,
    "start_time": "2022-05-11T07:31:09.269Z"
   },
   {
    "duration": 22,
    "start_time": "2022-05-11T07:31:09.279Z"
   },
   {
    "duration": 185,
    "start_time": "2022-05-11T07:31:09.303Z"
   },
   {
    "duration": 27,
    "start_time": "2022-05-11T07:31:09.490Z"
   },
   {
    "duration": 1449,
    "start_time": "2022-05-11T07:31:35.757Z"
   },
   {
    "duration": 8,
    "start_time": "2022-05-11T07:31:55.150Z"
   },
   {
    "duration": 10,
    "start_time": "2022-05-11T07:32:05.449Z"
   },
   {
    "duration": 7,
    "start_time": "2022-05-11T07:32:12.877Z"
   },
   {
    "duration": 14,
    "start_time": "2022-05-11T07:32:23.941Z"
   },
   {
    "duration": 370,
    "start_time": "2022-05-16T07:06:13.318Z"
   },
   {
    "duration": 361,
    "start_time": "2022-05-16T07:06:13.690Z"
   },
   {
    "duration": 26,
    "start_time": "2022-05-16T07:06:14.052Z"
   },
   {
    "duration": 21,
    "start_time": "2022-05-16T07:06:14.080Z"
   },
   {
    "duration": 17,
    "start_time": "2022-05-16T07:06:14.102Z"
   },
   {
    "duration": 9,
    "start_time": "2022-05-16T07:06:14.121Z"
   },
   {
    "duration": 11,
    "start_time": "2022-05-16T07:06:14.132Z"
   },
   {
    "duration": 5,
    "start_time": "2022-05-16T07:06:14.145Z"
   },
   {
    "duration": 142,
    "start_time": "2022-05-16T07:06:14.152Z"
   },
   {
    "duration": 8,
    "start_time": "2022-05-16T07:06:14.297Z"
   },
   {
    "duration": 98,
    "start_time": "2022-05-16T07:06:14.306Z"
   },
   {
    "duration": 9,
    "start_time": "2022-05-16T07:06:14.406Z"
   },
   {
    "duration": 29,
    "start_time": "2022-05-16T07:06:14.417Z"
   },
   {
    "duration": 62,
    "start_time": "2022-05-16T07:06:14.448Z"
   },
   {
    "duration": 16,
    "start_time": "2022-05-16T07:06:14.511Z"
   },
   {
    "duration": 69,
    "start_time": "2022-05-16T07:06:14.529Z"
   },
   {
    "duration": 19,
    "start_time": "2022-05-16T07:06:14.600Z"
   },
   {
    "duration": 44,
    "start_time": "2022-05-16T07:06:14.620Z"
   },
   {
    "duration": 38,
    "start_time": "2022-05-16T07:06:14.665Z"
   },
   {
    "duration": 9,
    "start_time": "2022-05-16T07:06:14.705Z"
   },
   {
    "duration": 12,
    "start_time": "2022-05-16T07:06:14.715Z"
   },
   {
    "duration": 7,
    "start_time": "2022-05-16T07:06:14.728Z"
   },
   {
    "duration": 18,
    "start_time": "2022-05-16T07:06:14.736Z"
   },
   {
    "duration": 135,
    "start_time": "2022-05-16T07:06:14.756Z"
   },
   {
    "duration": 5,
    "start_time": "2022-05-16T07:06:14.892Z"
   },
   {
    "duration": 4,
    "start_time": "2022-05-16T07:06:23.796Z"
   },
   {
    "duration": 387,
    "start_time": "2022-05-16T07:06:27.109Z"
   },
   {
    "duration": 373,
    "start_time": "2022-05-16T07:06:27.498Z"
   },
   {
    "duration": 26,
    "start_time": "2022-05-16T07:06:27.873Z"
   },
   {
    "duration": 22,
    "start_time": "2022-05-16T07:06:27.902Z"
   },
   {
    "duration": 19,
    "start_time": "2022-05-16T07:06:27.926Z"
   },
   {
    "duration": 9,
    "start_time": "2022-05-16T07:06:27.947Z"
   },
   {
    "duration": 37,
    "start_time": "2022-05-16T07:06:27.958Z"
   },
   {
    "duration": 3,
    "start_time": "2022-05-16T07:06:27.997Z"
   },
   {
    "duration": 136,
    "start_time": "2022-05-16T07:06:28.001Z"
   },
   {
    "duration": 8,
    "start_time": "2022-05-16T07:06:28.139Z"
   },
   {
    "duration": 99,
    "start_time": "2022-05-16T07:06:28.148Z"
   },
   {
    "duration": 9,
    "start_time": "2022-05-16T07:06:28.248Z"
   },
   {
    "duration": 42,
    "start_time": "2022-05-16T07:06:28.258Z"
   },
   {
    "duration": 49,
    "start_time": "2022-05-16T07:06:28.302Z"
   },
   {
    "duration": 36,
    "start_time": "2022-05-16T07:06:28.353Z"
   },
   {
    "duration": 56,
    "start_time": "2022-05-16T07:06:28.391Z"
   },
   {
    "duration": 40,
    "start_time": "2022-05-16T07:06:28.448Z"
   },
   {
    "duration": 46,
    "start_time": "2022-05-16T07:06:28.490Z"
   },
   {
    "duration": 15,
    "start_time": "2022-05-16T07:06:28.539Z"
   },
   {
    "duration": 32,
    "start_time": "2022-05-16T07:06:28.556Z"
   },
   {
    "duration": 13,
    "start_time": "2022-05-16T07:06:28.590Z"
   },
   {
    "duration": 6,
    "start_time": "2022-05-16T07:06:28.605Z"
   },
   {
    "duration": 20,
    "start_time": "2022-05-16T07:06:28.612Z"
   },
   {
    "duration": 135,
    "start_time": "2022-05-16T07:06:28.633Z"
   },
   {
    "duration": 4,
    "start_time": "2022-05-16T07:06:28.770Z"
   },
   {
    "duration": 4,
    "start_time": "2022-05-16T07:06:39.231Z"
   },
   {
    "duration": 4,
    "start_time": "2022-05-16T07:06:48.445Z"
   },
   {
    "duration": 117,
    "start_time": "2022-05-16T07:06:55.120Z"
   },
   {
    "duration": 5,
    "start_time": "2022-05-16T07:07:02.206Z"
   },
   {
    "duration": 407,
    "start_time": "2022-05-16T07:07:13.481Z"
   },
   {
    "duration": 366,
    "start_time": "2022-05-16T07:07:13.890Z"
   },
   {
    "duration": 25,
    "start_time": "2022-05-16T07:07:14.257Z"
   },
   {
    "duration": 24,
    "start_time": "2022-05-16T07:07:14.284Z"
   },
   {
    "duration": 18,
    "start_time": "2022-05-16T07:07:14.310Z"
   },
   {
    "duration": 21,
    "start_time": "2022-05-16T07:07:14.330Z"
   },
   {
    "duration": 11,
    "start_time": "2022-05-16T07:07:14.353Z"
   },
   {
    "duration": 5,
    "start_time": "2022-05-16T07:07:14.365Z"
   },
   {
    "duration": 143,
    "start_time": "2022-05-16T07:07:14.371Z"
   },
   {
    "duration": 6,
    "start_time": "2022-05-16T07:07:14.516Z"
   },
   {
    "duration": 95,
    "start_time": "2022-05-16T07:07:14.524Z"
   },
   {
    "duration": 8,
    "start_time": "2022-05-16T07:07:14.620Z"
   },
   {
    "duration": 29,
    "start_time": "2022-05-16T07:07:14.630Z"
   },
   {
    "duration": 63,
    "start_time": "2022-05-16T07:07:14.662Z"
   },
   {
    "duration": 15,
    "start_time": "2022-05-16T07:07:14.727Z"
   },
   {
    "duration": 64,
    "start_time": "2022-05-16T07:07:14.743Z"
   },
   {
    "duration": 19,
    "start_time": "2022-05-16T07:07:14.808Z"
   },
   {
    "duration": 59,
    "start_time": "2022-05-16T07:07:14.829Z"
   },
   {
    "duration": 15,
    "start_time": "2022-05-16T07:07:14.890Z"
   },
   {
    "duration": 9,
    "start_time": "2022-05-16T07:07:14.907Z"
   },
   {
    "duration": 13,
    "start_time": "2022-05-16T07:07:14.918Z"
   },
   {
    "duration": 8,
    "start_time": "2022-05-16T07:07:14.932Z"
   },
   {
    "duration": 15,
    "start_time": "2022-05-16T07:07:14.942Z"
   },
   {
    "duration": 148,
    "start_time": "2022-05-16T07:07:14.958Z"
   },
   {
    "duration": 12,
    "start_time": "2022-05-16T07:07:15.108Z"
   },
   {
    "duration": 366,
    "start_time": "2022-05-16T07:08:40.418Z"
   },
   {
    "duration": 366,
    "start_time": "2022-05-16T07:08:40.786Z"
   },
   {
    "duration": 26,
    "start_time": "2022-05-16T07:08:41.153Z"
   },
   {
    "duration": 20,
    "start_time": "2022-05-16T07:08:41.181Z"
   },
   {
    "duration": 17,
    "start_time": "2022-05-16T07:08:41.203Z"
   },
   {
    "duration": 27,
    "start_time": "2022-05-16T07:08:41.222Z"
   },
   {
    "duration": 20,
    "start_time": "2022-05-16T07:08:41.250Z"
   },
   {
    "duration": 9,
    "start_time": "2022-05-16T07:08:41.272Z"
   },
   {
    "duration": 128,
    "start_time": "2022-05-16T07:08:41.283Z"
   },
   {
    "duration": 7,
    "start_time": "2022-05-16T07:08:41.413Z"
   },
   {
    "duration": 93,
    "start_time": "2022-05-16T07:08:41.421Z"
   },
   {
    "duration": 9,
    "start_time": "2022-05-16T07:08:41.516Z"
   },
   {
    "duration": 38,
    "start_time": "2022-05-16T07:08:41.527Z"
   },
   {
    "duration": 53,
    "start_time": "2022-05-16T07:08:41.568Z"
   },
   {
    "duration": 16,
    "start_time": "2022-05-16T07:08:41.622Z"
   },
   {
    "duration": 70,
    "start_time": "2022-05-16T07:08:41.639Z"
   },
   {
    "duration": 20,
    "start_time": "2022-05-16T07:08:41.711Z"
   },
   {
    "duration": 67,
    "start_time": "2022-05-16T07:08:41.733Z"
   },
   {
    "duration": 17,
    "start_time": "2022-05-16T07:08:41.803Z"
   },
   {
    "duration": 10,
    "start_time": "2022-05-16T07:08:41.821Z"
   },
   {
    "duration": 13,
    "start_time": "2022-05-16T07:08:41.833Z"
   },
   {
    "duration": 44,
    "start_time": "2022-05-16T07:08:41.847Z"
   },
   {
    "duration": 20,
    "start_time": "2022-05-16T07:08:41.893Z"
   },
   {
    "duration": 114,
    "start_time": "2022-05-16T07:08:41.915Z"
   },
   {
    "duration": 71,
    "start_time": "2022-05-16T07:08:42.031Z"
   },
   {
    "duration": 0,
    "start_time": "2022-05-16T07:09:53.475Z"
   },
   {
    "duration": 2063,
    "start_time": "2022-05-16T07:09:55.097Z"
   },
   {
    "duration": 6,
    "start_time": "2022-05-16T07:10:09.841Z"
   },
   {
    "duration": 8,
    "start_time": "2022-05-16T07:10:21.010Z"
   },
   {
    "duration": 9,
    "start_time": "2022-05-16T07:10:38.726Z"
   },
   {
    "duration": 112,
    "start_time": "2022-05-16T07:10:51.638Z"
   },
   {
    "duration": 5,
    "start_time": "2022-05-16T07:10:56.529Z"
   },
   {
    "duration": 7,
    "start_time": "2022-05-16T07:11:25.350Z"
   },
   {
    "duration": 11,
    "start_time": "2022-05-16T07:11:30.974Z"
   },
   {
    "duration": 11,
    "start_time": "2022-05-16T07:11:56.745Z"
   },
   {
    "duration": 2814,
    "start_time": "2022-05-16T07:12:05.352Z"
   },
   {
    "duration": 2308,
    "start_time": "2022-05-16T07:12:15.606Z"
   },
   {
    "duration": 2019,
    "start_time": "2022-05-16T07:12:32.849Z"
   },
   {
    "duration": 427,
    "start_time": "2022-05-16T07:12:38.957Z"
   },
   {
    "duration": 368,
    "start_time": "2022-05-16T07:12:39.386Z"
   },
   {
    "duration": 26,
    "start_time": "2022-05-16T07:12:39.756Z"
   },
   {
    "duration": 23,
    "start_time": "2022-05-16T07:12:39.784Z"
   },
   {
    "duration": 17,
    "start_time": "2022-05-16T07:12:39.810Z"
   },
   {
    "duration": 35,
    "start_time": "2022-05-16T07:12:39.829Z"
   },
   {
    "duration": 16,
    "start_time": "2022-05-16T07:12:39.866Z"
   },
   {
    "duration": 14,
    "start_time": "2022-05-16T07:12:39.884Z"
   },
   {
    "duration": 130,
    "start_time": "2022-05-16T07:12:39.900Z"
   },
   {
    "duration": 7,
    "start_time": "2022-05-16T07:12:40.032Z"
   },
   {
    "duration": 92,
    "start_time": "2022-05-16T07:12:40.041Z"
   },
   {
    "duration": 8,
    "start_time": "2022-05-16T07:12:40.135Z"
   },
   {
    "duration": 30,
    "start_time": "2022-05-16T07:12:40.145Z"
   },
   {
    "duration": 49,
    "start_time": "2022-05-16T07:12:40.189Z"
   },
   {
    "duration": 16,
    "start_time": "2022-05-16T07:12:40.239Z"
   },
   {
    "duration": 71,
    "start_time": "2022-05-16T07:12:40.257Z"
   },
   {
    "duration": 19,
    "start_time": "2022-05-16T07:12:40.330Z"
   },
   {
    "duration": 60,
    "start_time": "2022-05-16T07:12:40.351Z"
   },
   {
    "duration": 15,
    "start_time": "2022-05-16T07:12:40.413Z"
   },
   {
    "duration": 18,
    "start_time": "2022-05-16T07:12:40.430Z"
   },
   {
    "duration": 14,
    "start_time": "2022-05-16T07:12:40.450Z"
   },
   {
    "duration": 9,
    "start_time": "2022-05-16T07:12:40.487Z"
   },
   {
    "duration": 22,
    "start_time": "2022-05-16T07:12:40.498Z"
   },
   {
    "duration": 126,
    "start_time": "2022-05-16T07:12:40.521Z"
   },
   {
    "duration": 73,
    "start_time": "2022-05-16T07:12:40.649Z"
   },
   {
    "duration": 53,
    "start_time": "2022-05-16T07:13:33.058Z"
   },
   {
    "duration": 104,
    "start_time": "2022-05-16T07:13:51.927Z"
   },
   {
    "duration": 4,
    "start_time": "2022-05-16T07:14:18.792Z"
   },
   {
    "duration": 5,
    "start_time": "2022-05-16T07:14:29.232Z"
   },
   {
    "duration": 5,
    "start_time": "2022-05-16T07:14:37.840Z"
   },
   {
    "duration": 5,
    "start_time": "2022-05-16T07:14:40.046Z"
   },
   {
    "duration": 8,
    "start_time": "2022-05-16T07:15:22.019Z"
   },
   {
    "duration": 357,
    "start_time": "2022-05-16T07:15:30.242Z"
   },
   {
    "duration": 380,
    "start_time": "2022-05-16T07:15:30.601Z"
   },
   {
    "duration": 27,
    "start_time": "2022-05-16T07:15:30.982Z"
   },
   {
    "duration": 22,
    "start_time": "2022-05-16T07:15:31.010Z"
   },
   {
    "duration": 18,
    "start_time": "2022-05-16T07:15:31.034Z"
   },
   {
    "duration": 10,
    "start_time": "2022-05-16T07:15:31.054Z"
   },
   {
    "duration": 28,
    "start_time": "2022-05-16T07:15:31.066Z"
   },
   {
    "duration": 3,
    "start_time": "2022-05-16T07:15:31.096Z"
   },
   {
    "duration": 145,
    "start_time": "2022-05-16T07:15:31.100Z"
   },
   {
    "duration": 7,
    "start_time": "2022-05-16T07:15:31.247Z"
   },
   {
    "duration": 103,
    "start_time": "2022-05-16T07:15:31.255Z"
   },
   {
    "duration": 9,
    "start_time": "2022-05-16T07:15:31.360Z"
   },
   {
    "duration": 42,
    "start_time": "2022-05-16T07:15:31.371Z"
   },
   {
    "duration": 50,
    "start_time": "2022-05-16T07:15:31.416Z"
   },
   {
    "duration": 16,
    "start_time": "2022-05-16T07:15:31.488Z"
   },
   {
    "duration": 55,
    "start_time": "2022-05-16T07:15:31.506Z"
   },
   {
    "duration": 39,
    "start_time": "2022-05-16T07:15:31.563Z"
   },
   {
    "duration": 48,
    "start_time": "2022-05-16T07:15:31.603Z"
   },
   {
    "duration": 37,
    "start_time": "2022-05-16T07:15:31.653Z"
   },
   {
    "duration": 10,
    "start_time": "2022-05-16T07:15:31.692Z"
   },
   {
    "duration": 15,
    "start_time": "2022-05-16T07:15:31.704Z"
   },
   {
    "duration": 11,
    "start_time": "2022-05-16T07:15:31.720Z"
   },
   {
    "duration": 16,
    "start_time": "2022-05-16T07:15:31.733Z"
   },
   {
    "duration": 137,
    "start_time": "2022-05-16T07:15:31.751Z"
   },
   {
    "duration": 63,
    "start_time": "2022-05-16T07:15:31.890Z"
   },
   {
    "duration": 7,
    "start_time": "2022-05-16T07:16:11.013Z"
   },
   {
    "duration": 5,
    "start_time": "2022-05-16T07:16:19.623Z"
   },
   {
    "duration": 5,
    "start_time": "2022-05-16T07:16:28.297Z"
   },
   {
    "duration": 14,
    "start_time": "2022-05-16T07:16:33.331Z"
   },
   {
    "duration": 365,
    "start_time": "2022-05-16T07:16:37.046Z"
   },
   {
    "duration": 381,
    "start_time": "2022-05-16T07:16:37.413Z"
   },
   {
    "duration": 25,
    "start_time": "2022-05-16T07:16:37.796Z"
   },
   {
    "duration": 20,
    "start_time": "2022-05-16T07:16:37.823Z"
   },
   {
    "duration": 18,
    "start_time": "2022-05-16T07:16:37.845Z"
   },
   {
    "duration": 29,
    "start_time": "2022-05-16T07:16:37.864Z"
   },
   {
    "duration": 12,
    "start_time": "2022-05-16T07:16:37.895Z"
   },
   {
    "duration": 7,
    "start_time": "2022-05-16T07:16:37.908Z"
   },
   {
    "duration": 142,
    "start_time": "2022-05-16T07:16:37.916Z"
   },
   {
    "duration": 7,
    "start_time": "2022-05-16T07:16:38.060Z"
   },
   {
    "duration": 93,
    "start_time": "2022-05-16T07:16:38.069Z"
   },
   {
    "duration": 25,
    "start_time": "2022-05-16T07:16:38.163Z"
   },
   {
    "duration": 25,
    "start_time": "2022-05-16T07:16:38.190Z"
   },
   {
    "duration": 47,
    "start_time": "2022-05-16T07:16:38.218Z"
   },
   {
    "duration": 34,
    "start_time": "2022-05-16T07:16:38.266Z"
   },
   {
    "duration": 52,
    "start_time": "2022-05-16T07:16:38.301Z"
   },
   {
    "duration": 41,
    "start_time": "2022-05-16T07:16:38.354Z"
   },
   {
    "duration": 41,
    "start_time": "2022-05-16T07:16:38.397Z"
   },
   {
    "duration": 16,
    "start_time": "2022-05-16T07:16:38.439Z"
   },
   {
    "duration": 34,
    "start_time": "2022-05-16T07:16:38.457Z"
   },
   {
    "duration": 13,
    "start_time": "2022-05-16T07:16:38.492Z"
   },
   {
    "duration": 5,
    "start_time": "2022-05-16T07:16:38.506Z"
   },
   {
    "duration": 15,
    "start_time": "2022-05-16T07:16:38.513Z"
   },
   {
    "duration": 131,
    "start_time": "2022-05-16T07:16:38.529Z"
   },
   {
    "duration": 15,
    "start_time": "2022-05-16T07:16:38.661Z"
   },
   {
    "duration": 5,
    "start_time": "2022-05-16T07:16:45.654Z"
   },
   {
    "duration": 7,
    "start_time": "2022-05-16T07:16:54.988Z"
   },
   {
    "duration": 7,
    "start_time": "2022-05-16T07:18:03.132Z"
   },
   {
    "duration": 178,
    "start_time": "2022-05-16T07:18:34.775Z"
   },
   {
    "duration": 113,
    "start_time": "2022-05-16T07:18:44.781Z"
   },
   {
    "duration": 58662,
    "start_time": "2022-05-16T07:18:49.526Z"
   },
   {
    "duration": 393,
    "start_time": "2022-05-16T07:20:14.198Z"
   },
   {
    "duration": 367,
    "start_time": "2022-05-16T07:20:14.593Z"
   },
   {
    "duration": 25,
    "start_time": "2022-05-16T07:20:14.961Z"
   },
   {
    "duration": 22,
    "start_time": "2022-05-16T07:20:14.989Z"
   },
   {
    "duration": 37,
    "start_time": "2022-05-16T07:20:15.013Z"
   },
   {
    "duration": 9,
    "start_time": "2022-05-16T07:20:15.052Z"
   },
   {
    "duration": 14,
    "start_time": "2022-05-16T07:20:15.063Z"
   },
   {
    "duration": 10,
    "start_time": "2022-05-16T07:20:15.079Z"
   },
   {
    "duration": 139,
    "start_time": "2022-05-16T07:20:15.090Z"
   },
   {
    "duration": 8,
    "start_time": "2022-05-16T07:20:15.231Z"
   },
   {
    "duration": 106,
    "start_time": "2022-05-16T07:20:15.240Z"
   },
   {
    "duration": 9,
    "start_time": "2022-05-16T07:20:15.347Z"
   },
   {
    "duration": 38,
    "start_time": "2022-05-16T07:20:15.358Z"
   },
   {
    "duration": 51,
    "start_time": "2022-05-16T07:20:15.397Z"
   },
   {
    "duration": 39,
    "start_time": "2022-05-16T07:20:15.449Z"
   },
   {
    "duration": 51,
    "start_time": "2022-05-16T07:20:15.490Z"
   },
   {
    "duration": 20,
    "start_time": "2022-05-16T07:20:15.543Z"
   },
   {
    "duration": 66,
    "start_time": "2022-05-16T07:20:15.564Z"
   },
   {
    "duration": 17,
    "start_time": "2022-05-16T07:20:15.632Z"
   },
   {
    "duration": 10,
    "start_time": "2022-05-16T07:20:15.650Z"
   },
   {
    "duration": 39,
    "start_time": "2022-05-16T07:20:15.661Z"
   },
   {
    "duration": 6,
    "start_time": "2022-05-16T07:20:15.701Z"
   },
   {
    "duration": 17,
    "start_time": "2022-05-16T07:20:15.708Z"
   },
   {
    "duration": 58759,
    "start_time": "2022-05-16T07:20:15.726Z"
   },
   {
    "duration": 114,
    "start_time": "2022-05-16T07:21:14.486Z"
   },
   {
    "duration": 64,
    "start_time": "2022-05-16T07:28:28.153Z"
   },
   {
    "duration": 10,
    "start_time": "2022-05-16T07:29:13.344Z"
   },
   {
    "duration": 17,
    "start_time": "2022-05-16T07:29:21.592Z"
   },
   {
    "duration": 38,
    "start_time": "2022-05-16T07:30:03.115Z"
   },
   {
    "duration": 24,
    "start_time": "2022-05-16T07:32:07.168Z"
   },
   {
    "duration": 38,
    "start_time": "2022-05-16T07:32:19.099Z"
   },
   {
    "duration": 7,
    "start_time": "2022-05-16T07:37:35.551Z"
   },
   {
    "duration": 17,
    "start_time": "2022-05-16T07:37:41.202Z"
   },
   {
    "duration": 120,
    "start_time": "2022-05-16T07:48:38.640Z"
   },
   {
    "duration": 106,
    "start_time": "2022-05-16T07:48:42.797Z"
   },
   {
    "duration": 102,
    "start_time": "2022-05-16T07:49:24.972Z"
   },
   {
    "duration": 103,
    "start_time": "2022-05-16T07:50:51.583Z"
   },
   {
    "duration": 103,
    "start_time": "2022-05-16T07:53:23.949Z"
   },
   {
    "duration": 108,
    "start_time": "2022-05-16T07:53:33.248Z"
   },
   {
    "duration": 81,
    "start_time": "2022-05-16T07:56:33.411Z"
   },
   {
    "duration": 83,
    "start_time": "2022-05-16T07:57:13.108Z"
   },
   {
    "duration": 87,
    "start_time": "2022-05-16T07:57:47.035Z"
   },
   {
    "duration": 88,
    "start_time": "2022-05-16T07:58:18.177Z"
   },
   {
    "duration": 86,
    "start_time": "2022-05-16T07:58:29.813Z"
   },
   {
    "duration": 86,
    "start_time": "2022-05-16T07:58:52.764Z"
   },
   {
    "duration": 89,
    "start_time": "2022-05-16T07:58:56.648Z"
   },
   {
    "duration": 85,
    "start_time": "2022-05-16T07:59:09.176Z"
   },
   {
    "duration": 132,
    "start_time": "2022-05-16T08:01:07.633Z"
   },
   {
    "duration": 94,
    "start_time": "2022-05-16T08:01:17.973Z"
   },
   {
    "duration": 83,
    "start_time": "2022-05-16T08:03:17.249Z"
   },
   {
    "duration": 107,
    "start_time": "2022-05-16T08:06:28.031Z"
   },
   {
    "duration": 12,
    "start_time": "2022-05-16T08:06:31.740Z"
   },
   {
    "duration": 20,
    "start_time": "2022-05-16T08:06:49.725Z"
   },
   {
    "duration": 14,
    "start_time": "2022-05-16T08:07:16.563Z"
   },
   {
    "duration": 13,
    "start_time": "2022-05-16T08:07:37.712Z"
   },
   {
    "duration": 24,
    "start_time": "2022-05-16T08:07:51.345Z"
   },
   {
    "duration": 25,
    "start_time": "2022-05-16T08:08:26.039Z"
   },
   {
    "duration": 26,
    "start_time": "2022-05-16T08:08:28.879Z"
   },
   {
    "duration": 679,
    "start_time": "2022-05-16T08:11:02.974Z"
   },
   {
    "duration": 15,
    "start_time": "2022-05-16T08:11:23.052Z"
   },
   {
    "duration": 13,
    "start_time": "2022-05-16T08:11:36.826Z"
   },
   {
    "duration": 22,
    "start_time": "2022-05-16T08:11:45.627Z"
   },
   {
    "duration": 662,
    "start_time": "2022-05-16T08:12:00.172Z"
   },
   {
    "duration": 19,
    "start_time": "2022-05-16T08:12:02.829Z"
   },
   {
    "duration": 19,
    "start_time": "2022-05-16T08:12:16.237Z"
   },
   {
    "duration": 26,
    "start_time": "2022-05-16T08:12:27.999Z"
   },
   {
    "duration": 20,
    "start_time": "2022-05-16T08:13:59.622Z"
   },
   {
    "duration": 2339,
    "start_time": "2022-05-16T08:14:29.300Z"
   },
   {
    "duration": 26,
    "start_time": "2022-05-16T08:14:38.424Z"
   },
   {
    "duration": 25,
    "start_time": "2022-05-16T08:15:10.202Z"
   },
   {
    "duration": 35,
    "start_time": "2022-05-16T08:16:11.357Z"
   },
   {
    "duration": 8,
    "start_time": "2022-05-16T08:20:16.478Z"
   },
   {
    "duration": 8,
    "start_time": "2022-05-16T08:22:43.360Z"
   },
   {
    "duration": 8,
    "start_time": "2022-05-16T08:22:47.117Z"
   },
   {
    "duration": 6,
    "start_time": "2022-05-16T08:22:57.461Z"
   },
   {
    "duration": 27,
    "start_time": "2022-05-16T08:24:21.328Z"
   },
   {
    "duration": 37,
    "start_time": "2022-05-16T08:24:45.993Z"
   },
   {
    "duration": 11,
    "start_time": "2022-05-16T08:26:26.629Z"
   },
   {
    "duration": 11,
    "start_time": "2022-05-16T08:26:31.432Z"
   },
   {
    "duration": 384,
    "start_time": "2022-05-16T08:26:35.647Z"
   },
   {
    "duration": 374,
    "start_time": "2022-05-16T08:26:36.034Z"
   },
   {
    "duration": 26,
    "start_time": "2022-05-16T08:26:36.410Z"
   },
   {
    "duration": 21,
    "start_time": "2022-05-16T08:26:36.438Z"
   },
   {
    "duration": 43,
    "start_time": "2022-05-16T08:26:36.462Z"
   },
   {
    "duration": 12,
    "start_time": "2022-05-16T08:26:36.506Z"
   },
   {
    "duration": 26,
    "start_time": "2022-05-16T08:26:36.520Z"
   },
   {
    "duration": 18,
    "start_time": "2022-05-16T08:26:36.548Z"
   },
   {
    "duration": 148,
    "start_time": "2022-05-16T08:26:36.568Z"
   },
   {
    "duration": 7,
    "start_time": "2022-05-16T08:26:36.717Z"
   },
   {
    "duration": 102,
    "start_time": "2022-05-16T08:26:36.726Z"
   },
   {
    "duration": 9,
    "start_time": "2022-05-16T08:26:36.829Z"
   },
   {
    "duration": 29,
    "start_time": "2022-05-16T08:26:36.840Z"
   },
   {
    "duration": 63,
    "start_time": "2022-05-16T08:26:36.872Z"
   },
   {
    "duration": 16,
    "start_time": "2022-05-16T08:26:36.936Z"
   },
   {
    "duration": 72,
    "start_time": "2022-05-16T08:26:36.954Z"
   },
   {
    "duration": 20,
    "start_time": "2022-05-16T08:26:37.028Z"
   },
   {
    "duration": 69,
    "start_time": "2022-05-16T08:26:37.050Z"
   },
   {
    "duration": 15,
    "start_time": "2022-05-16T08:26:37.121Z"
   },
   {
    "duration": 9,
    "start_time": "2022-05-16T08:26:37.138Z"
   },
   {
    "duration": 13,
    "start_time": "2022-05-16T08:26:37.148Z"
   },
   {
    "duration": 6,
    "start_time": "2022-05-16T08:26:37.188Z"
   },
   {
    "duration": 18,
    "start_time": "2022-05-16T08:26:37.195Z"
   },
   {
    "duration": 58788,
    "start_time": "2022-05-16T08:26:37.215Z"
   },
   {
    "duration": 100,
    "start_time": "2022-05-16T08:27:36.005Z"
   },
   {
    "duration": 38,
    "start_time": "2022-05-16T08:27:36.107Z"
   },
   {
    "duration": 54,
    "start_time": "2022-05-16T08:27:36.147Z"
   },
   {
    "duration": 34,
    "start_time": "2022-05-16T08:27:36.203Z"
   },
   {
    "duration": 116,
    "start_time": "2022-05-16T08:27:36.238Z"
   },
   {
    "duration": 0,
    "start_time": "2022-05-16T08:27:36.356Z"
   },
   {
    "duration": 82,
    "start_time": "2022-05-16T08:57:56.292Z"
   },
   {
    "duration": 41,
    "start_time": "2022-05-16T08:58:14.798Z"
   },
   {
    "duration": 40,
    "start_time": "2022-05-16T08:58:23.099Z"
   },
   {
    "duration": 39,
    "start_time": "2022-05-16T08:58:39.289Z"
   },
   {
    "duration": 85,
    "start_time": "2022-05-16T08:59:38.937Z"
   },
   {
    "duration": 40,
    "start_time": "2022-05-16T08:59:49.969Z"
   },
   {
    "duration": 38,
    "start_time": "2022-05-16T09:00:14.138Z"
   },
   {
    "duration": 1714,
    "start_time": "2022-05-16T09:05:04.305Z"
   },
   {
    "duration": 476,
    "start_time": "2022-05-16T09:07:19.174Z"
   },
   {
    "duration": 607,
    "start_time": "2022-05-16T09:09:56.954Z"
   },
   {
    "duration": 477,
    "start_time": "2022-05-16T09:18:58.353Z"
   },
   {
    "duration": 478,
    "start_time": "2022-05-16T09:19:13.462Z"
   },
   {
    "duration": 610,
    "start_time": "2022-05-16T09:19:21.863Z"
   },
   {
    "duration": 482,
    "start_time": "2022-05-16T09:19:29.347Z"
   },
   {
    "duration": 15,
    "start_time": "2022-05-16T09:19:53.980Z"
   },
   {
    "duration": 123,
    "start_time": "2022-05-16T09:20:15.074Z"
   },
   {
    "duration": 131,
    "start_time": "2022-05-16T09:20:26.133Z"
   },
   {
    "duration": 25,
    "start_time": "2022-05-16T09:20:34.259Z"
   },
   {
    "duration": 4,
    "start_time": "2022-05-16T09:20:39.868Z"
   },
   {
    "duration": 25,
    "start_time": "2022-05-16T09:21:01.899Z"
   },
   {
    "duration": 6,
    "start_time": "2022-05-16T09:21:06.035Z"
   },
   {
    "duration": 8,
    "start_time": "2022-05-16T09:21:10.430Z"
   },
   {
    "duration": 13,
    "start_time": "2022-05-16T09:21:19.613Z"
   },
   {
    "duration": 16,
    "start_time": "2022-05-16T09:23:58.282Z"
   },
   {
    "duration": 40,
    "start_time": "2022-05-16T09:24:27.721Z"
   },
   {
    "duration": 13,
    "start_time": "2022-05-16T09:24:33.042Z"
   },
   {
    "duration": 76,
    "start_time": "2022-05-16T09:29:30.161Z"
   },
   {
    "duration": 15,
    "start_time": "2022-05-16T09:29:32.240Z"
   },
   {
    "duration": 73,
    "start_time": "2022-05-16T09:29:48.663Z"
   },
   {
    "duration": 13,
    "start_time": "2022-05-16T09:29:49.848Z"
   },
   {
    "duration": 29,
    "start_time": "2022-05-16T09:33:17.907Z"
   },
   {
    "duration": 31,
    "start_time": "2022-05-16T09:33:45.830Z"
   },
   {
    "duration": 28,
    "start_time": "2022-05-16T09:34:16.095Z"
   },
   {
    "duration": 37,
    "start_time": "2022-05-16T09:34:25.362Z"
   },
   {
    "duration": 112,
    "start_time": "2022-05-16T09:54:32.048Z"
   },
   {
    "duration": 37,
    "start_time": "2022-05-16T09:54:42.438Z"
   },
   {
    "duration": 44,
    "start_time": "2022-05-16T09:54:57.369Z"
   },
   {
    "duration": 12,
    "start_time": "2022-05-16T10:03:05.715Z"
   },
   {
    "duration": 91,
    "start_time": "2022-05-16T10:03:08.292Z"
   },
   {
    "duration": 14,
    "start_time": "2022-05-16T10:03:09.599Z"
   },
   {
    "duration": 39,
    "start_time": "2022-05-16T10:05:09.732Z"
   },
   {
    "duration": 376,
    "start_time": "2022-05-16T10:05:51.022Z"
   },
   {
    "duration": 373,
    "start_time": "2022-05-16T10:05:51.400Z"
   },
   {
    "duration": 26,
    "start_time": "2022-05-16T10:05:51.775Z"
   },
   {
    "duration": 21,
    "start_time": "2022-05-16T10:05:51.804Z"
   },
   {
    "duration": 28,
    "start_time": "2022-05-16T10:05:51.827Z"
   },
   {
    "duration": 17,
    "start_time": "2022-05-16T10:05:51.857Z"
   },
   {
    "duration": 18,
    "start_time": "2022-05-16T10:05:51.876Z"
   },
   {
    "duration": 3,
    "start_time": "2022-05-16T10:05:51.896Z"
   },
   {
    "duration": 141,
    "start_time": "2022-05-16T10:05:51.901Z"
   },
   {
    "duration": 8,
    "start_time": "2022-05-16T10:05:52.044Z"
   },
   {
    "duration": 100,
    "start_time": "2022-05-16T10:05:52.053Z"
   },
   {
    "duration": 8,
    "start_time": "2022-05-16T10:05:52.155Z"
   },
   {
    "duration": 41,
    "start_time": "2022-05-16T10:05:52.165Z"
   },
   {
    "duration": 50,
    "start_time": "2022-05-16T10:05:52.208Z"
   },
   {
    "duration": 34,
    "start_time": "2022-05-16T10:05:52.260Z"
   },
   {
    "duration": 49,
    "start_time": "2022-05-16T10:05:52.295Z"
   },
   {
    "duration": 42,
    "start_time": "2022-05-16T10:05:52.346Z"
   },
   {
    "duration": 48,
    "start_time": "2022-05-16T10:05:52.390Z"
   },
   {
    "duration": 16,
    "start_time": "2022-05-16T10:05:52.440Z"
   },
   {
    "duration": 31,
    "start_time": "2022-05-16T10:05:52.458Z"
   },
   {
    "duration": 13,
    "start_time": "2022-05-16T10:05:52.491Z"
   },
   {
    "duration": 9,
    "start_time": "2022-05-16T10:05:52.505Z"
   },
   {
    "duration": 16,
    "start_time": "2022-05-16T10:05:52.515Z"
   },
   {
    "duration": 61629,
    "start_time": "2022-05-16T10:05:52.533Z"
   },
   {
    "duration": 99,
    "start_time": "2022-05-16T10:06:54.164Z"
   },
   {
    "duration": 59,
    "start_time": "2022-05-16T10:06:54.265Z"
   },
   {
    "duration": 0,
    "start_time": "2022-05-16T10:06:56.548Z"
   },
   {
    "duration": 0,
    "start_time": "2022-05-16T10:06:56.549Z"
   },
   {
    "duration": 0,
    "start_time": "2022-05-16T10:06:56.550Z"
   },
   {
    "duration": 0,
    "start_time": "2022-05-16T10:06:56.551Z"
   },
   {
    "duration": 2845,
    "start_time": "2022-05-16T10:07:08.157Z"
   },
   {
    "duration": 0,
    "start_time": "2022-05-16T10:07:11.003Z"
   },
   {
    "duration": 0,
    "start_time": "2022-05-16T10:07:11.005Z"
   },
   {
    "duration": 2200,
    "start_time": "2022-05-16T10:07:21.485Z"
   },
   {
    "duration": 411,
    "start_time": "2022-05-16T10:07:36.058Z"
   },
   {
    "duration": 414,
    "start_time": "2022-05-16T10:07:36.471Z"
   },
   {
    "duration": 35,
    "start_time": "2022-05-16T10:07:36.887Z"
   },
   {
    "duration": 21,
    "start_time": "2022-05-16T10:07:36.924Z"
   },
   {
    "duration": 17,
    "start_time": "2022-05-16T10:07:36.947Z"
   },
   {
    "duration": 17,
    "start_time": "2022-05-16T10:07:36.989Z"
   },
   {
    "duration": 14,
    "start_time": "2022-05-16T10:07:37.008Z"
   },
   {
    "duration": 8,
    "start_time": "2022-05-16T10:07:37.023Z"
   },
   {
    "duration": 159,
    "start_time": "2022-05-16T10:07:37.032Z"
   },
   {
    "duration": 11,
    "start_time": "2022-05-16T10:07:37.193Z"
   },
   {
    "duration": 109,
    "start_time": "2022-05-16T10:07:37.206Z"
   },
   {
    "duration": 10,
    "start_time": "2022-05-16T10:07:37.316Z"
   },
   {
    "duration": 30,
    "start_time": "2022-05-16T10:07:37.327Z"
   },
   {
    "duration": 71,
    "start_time": "2022-05-16T10:07:37.360Z"
   },
   {
    "duration": 16,
    "start_time": "2022-05-16T10:07:37.433Z"
   },
   {
    "duration": 87,
    "start_time": "2022-05-16T10:07:37.450Z"
   },
   {
    "duration": 21,
    "start_time": "2022-05-16T10:07:37.538Z"
   },
   {
    "duration": 71,
    "start_time": "2022-05-16T10:07:37.561Z"
   },
   {
    "duration": 16,
    "start_time": "2022-05-16T10:07:37.633Z"
   },
   {
    "duration": 9,
    "start_time": "2022-05-16T10:07:37.651Z"
   },
   {
    "duration": 43,
    "start_time": "2022-05-16T10:07:37.661Z"
   },
   {
    "duration": 6,
    "start_time": "2022-05-16T10:07:37.706Z"
   },
   {
    "duration": 17,
    "start_time": "2022-05-16T10:07:37.713Z"
   },
   {
    "duration": 63293,
    "start_time": "2022-05-16T10:07:37.732Z"
   },
   {
    "duration": 106,
    "start_time": "2022-05-16T10:08:41.027Z"
   },
   {
    "duration": 41,
    "start_time": "2022-05-16T10:08:41.134Z"
   },
   {
    "duration": 4789,
    "start_time": "2022-05-16T10:08:41.176Z"
   },
   {
    "duration": 0,
    "start_time": "2022-05-16T10:08:45.968Z"
   },
   {
    "duration": 0,
    "start_time": "2022-05-16T10:08:45.969Z"
   },
   {
    "duration": 0,
    "start_time": "2022-05-16T10:08:45.970Z"
   },
   {
    "duration": 45,
    "start_time": "2022-05-16T10:09:34.184Z"
   },
   {
    "duration": 1915,
    "start_time": "2022-05-16T10:09:58.929Z"
   },
   {
    "duration": 38,
    "start_time": "2022-05-16T10:10:09.900Z"
   },
   {
    "duration": 1874,
    "start_time": "2022-05-16T10:10:25.312Z"
   },
   {
    "duration": 1947,
    "start_time": "2022-05-16T10:11:29.030Z"
   },
   {
    "duration": 39,
    "start_time": "2022-05-16T10:11:42.722Z"
   },
   {
    "duration": 2803,
    "start_time": "2022-05-16T10:12:31.359Z"
   },
   {
    "duration": 44426,
    "start_time": "2022-05-16T10:14:02.822Z"
   },
   {
    "duration": 36,
    "start_time": "2022-05-16T10:15:06.397Z"
   },
   {
    "duration": 78,
    "start_time": "2022-05-16T10:15:10.870Z"
   },
   {
    "duration": 12,
    "start_time": "2022-05-16T10:15:14.725Z"
   },
   {
    "duration": 88,
    "start_time": "2022-05-16T10:16:43.137Z"
   },
   {
    "duration": 14,
    "start_time": "2022-05-16T10:16:45.035Z"
   },
   {
    "duration": 93,
    "start_time": "2022-05-16T10:21:16.000Z"
   },
   {
    "duration": 12,
    "start_time": "2022-05-16T10:21:17.110Z"
   },
   {
    "duration": 2,
    "start_time": "2022-05-16T10:23:05.413Z"
   },
   {
    "duration": 90,
    "start_time": "2022-05-16T10:27:19.817Z"
   },
   {
    "duration": 112,
    "start_time": "2022-05-16T11:44:57.170Z"
   },
   {
    "duration": 383,
    "start_time": "2022-05-16T11:45:07.648Z"
   },
   {
    "duration": 15,
    "start_time": "2022-05-16T11:46:00.850Z"
   },
   {
    "duration": 12,
    "start_time": "2022-05-16T11:46:21.215Z"
   },
   {
    "duration": 12,
    "start_time": "2022-05-16T11:48:26.668Z"
   },
   {
    "duration": 17,
    "start_time": "2022-05-16T11:54:22.870Z"
   },
   {
    "duration": 14,
    "start_time": "2022-05-16T11:54:29.352Z"
   },
   {
    "duration": 94,
    "start_time": "2022-05-16T11:55:17.820Z"
   },
   {
    "duration": 12,
    "start_time": "2022-05-16T11:55:22.323Z"
   },
   {
    "duration": 91,
    "start_time": "2022-05-16T11:55:28.377Z"
   },
   {
    "duration": 13,
    "start_time": "2022-05-16T11:55:30.051Z"
   },
   {
    "duration": 95,
    "start_time": "2022-05-16T11:55:55.670Z"
   },
   {
    "duration": 10,
    "start_time": "2022-05-16T11:55:57.475Z"
   },
   {
    "duration": 15,
    "start_time": "2022-05-16T11:56:06.081Z"
   },
   {
    "duration": 15,
    "start_time": "2022-05-16T11:56:29.876Z"
   },
   {
    "duration": 9,
    "start_time": "2022-05-16T12:00:44.584Z"
   },
   {
    "duration": 13,
    "start_time": "2022-05-16T12:00:57.254Z"
   },
   {
    "duration": 16,
    "start_time": "2022-05-16T12:01:32.952Z"
   },
   {
    "duration": 14,
    "start_time": "2022-05-16T12:02:06.225Z"
   },
   {
    "duration": 3,
    "start_time": "2022-05-16T12:02:38.367Z"
   },
   {
    "duration": 7,
    "start_time": "2022-05-16T12:02:45.807Z"
   },
   {
    "duration": 1869,
    "start_time": "2022-05-16T12:02:51.290Z"
   },
   {
    "duration": 4,
    "start_time": "2022-05-16T12:03:15.368Z"
   },
   {
    "duration": 1632,
    "start_time": "2022-05-16T12:03:48.886Z"
   },
   {
    "duration": 1603,
    "start_time": "2022-05-16T12:04:01.937Z"
   },
   {
    "duration": 1608,
    "start_time": "2022-05-16T12:04:28.948Z"
   },
   {
    "duration": 1602,
    "start_time": "2022-05-16T12:04:36.118Z"
   },
   {
    "duration": 511,
    "start_time": "2022-05-16T12:04:58.011Z"
   },
   {
    "duration": 537,
    "start_time": "2022-05-16T12:05:38.463Z"
   },
   {
    "duration": 505,
    "start_time": "2022-05-16T12:05:49.127Z"
   },
   {
    "duration": 11,
    "start_time": "2022-05-16T12:06:29.353Z"
   },
   {
    "duration": 8,
    "start_time": "2022-05-16T12:06:59.454Z"
   },
   {
    "duration": 1426,
    "start_time": "2022-05-16T12:08:34.777Z"
   },
   {
    "duration": 13,
    "start_time": "2022-05-16T12:09:30.377Z"
   },
   {
    "duration": 11,
    "start_time": "2022-05-16T12:10:07.060Z"
   },
   {
    "duration": 15,
    "start_time": "2022-05-16T12:11:35.686Z"
   },
   {
    "duration": 13,
    "start_time": "2022-05-16T12:11:47.322Z"
   },
   {
    "duration": 14,
    "start_time": "2022-05-16T12:13:38.643Z"
   },
   {
    "duration": 7,
    "start_time": "2022-05-16T12:13:55.251Z"
   },
   {
    "duration": 9,
    "start_time": "2022-05-16T12:15:32.989Z"
   },
   {
    "duration": 112,
    "start_time": "2022-05-16T12:16:03.495Z"
   },
   {
    "duration": 125,
    "start_time": "2022-05-16T12:16:05.195Z"
   },
   {
    "duration": 13,
    "start_time": "2022-05-16T12:16:38.170Z"
   },
   {
    "duration": 17,
    "start_time": "2022-05-16T12:16:48.396Z"
   },
   {
    "duration": 16,
    "start_time": "2022-05-16T12:17:14.763Z"
   },
   {
    "duration": 19,
    "start_time": "2022-05-16T12:17:27.089Z"
   },
   {
    "duration": 18,
    "start_time": "2022-05-16T12:17:39.292Z"
   },
   {
    "duration": 10,
    "start_time": "2022-05-16T12:18:14.505Z"
   },
   {
    "duration": 3312,
    "start_time": "2022-05-16T12:35:00.709Z"
   },
   {
    "duration": 7,
    "start_time": "2022-05-16T12:35:32.998Z"
   },
   {
    "duration": 1997,
    "start_time": "2022-05-16T12:35:47.896Z"
   },
   {
    "duration": 2159,
    "start_time": "2022-05-16T12:41:14.971Z"
   },
   {
    "duration": 1920,
    "start_time": "2022-05-16T12:41:21.859Z"
   },
   {
    "duration": 18,
    "start_time": "2022-05-16T12:41:31.081Z"
   },
   {
    "duration": 19,
    "start_time": "2022-05-16T12:41:36.619Z"
   },
   {
    "duration": 12,
    "start_time": "2022-05-16T12:41:48.398Z"
   },
   {
    "duration": 11,
    "start_time": "2022-05-16T12:42:32.113Z"
   },
   {
    "duration": 11,
    "start_time": "2022-05-16T12:42:59.866Z"
   },
   {
    "duration": 10,
    "start_time": "2022-05-16T12:43:16.484Z"
   },
   {
    "duration": 118,
    "start_time": "2022-05-16T12:43:57.919Z"
   },
   {
    "duration": 16,
    "start_time": "2022-05-16T12:44:01.902Z"
   },
   {
    "duration": 10,
    "start_time": "2022-05-16T12:44:25.550Z"
   },
   {
    "duration": 10,
    "start_time": "2022-05-16T12:44:43.445Z"
   },
   {
    "duration": 10,
    "start_time": "2022-05-16T12:45:00.359Z"
   },
   {
    "duration": 13,
    "start_time": "2022-05-16T12:45:22.147Z"
   },
   {
    "duration": 813,
    "start_time": "2022-05-16T12:53:28.521Z"
   },
   {
    "duration": 337,
    "start_time": "2022-05-16T12:54:07.085Z"
   },
   {
    "duration": 261,
    "start_time": "2022-05-16T12:56:31.333Z"
   },
   {
    "duration": 255,
    "start_time": "2022-05-16T12:56:52.171Z"
   },
   {
    "duration": 27,
    "start_time": "2022-05-16T12:57:15.067Z"
   },
   {
    "duration": 4,
    "start_time": "2022-05-16T12:58:06.284Z"
   },
   {
    "duration": 4,
    "start_time": "2022-05-16T12:58:19.803Z"
   },
   {
    "duration": 9,
    "start_time": "2022-05-16T12:58:26.197Z"
   },
   {
    "duration": 9,
    "start_time": "2022-05-16T12:58:46.312Z"
   },
   {
    "duration": 8,
    "start_time": "2022-05-16T12:58:51.696Z"
   },
   {
    "duration": 6,
    "start_time": "2022-05-16T12:58:59.176Z"
   },
   {
    "duration": 5,
    "start_time": "2022-05-16T12:59:16.060Z"
   },
   {
    "duration": 5,
    "start_time": "2022-05-16T12:59:21.288Z"
   },
   {
    "duration": 232,
    "start_time": "2022-05-16T12:59:54.201Z"
   },
   {
    "duration": 138,
    "start_time": "2022-05-16T13:00:03.219Z"
   },
   {
    "duration": 200,
    "start_time": "2022-05-16T13:00:06.862Z"
   },
   {
    "duration": 109,
    "start_time": "2022-05-16T13:01:10.450Z"
   },
   {
    "duration": 176,
    "start_time": "2022-05-16T13:01:13.514Z"
   },
   {
    "duration": 6,
    "start_time": "2022-05-16T13:02:36.979Z"
   },
   {
    "duration": 5,
    "start_time": "2022-05-16T13:20:27.441Z"
   },
   {
    "duration": 4,
    "start_time": "2022-05-16T13:20:46.312Z"
   },
   {
    "duration": 666,
    "start_time": "2022-05-16T13:21:50.502Z"
   },
   {
    "duration": 5,
    "start_time": "2022-05-16T13:22:11.498Z"
   },
   {
    "duration": 7,
    "start_time": "2022-05-16T13:23:40.995Z"
   },
   {
    "duration": 43,
    "start_time": "2022-05-16T20:02:37.064Z"
   },
   {
    "duration": 6,
    "start_time": "2022-05-16T20:03:03.807Z"
   },
   {
    "duration": 379,
    "start_time": "2022-05-16T20:03:07.592Z"
   },
   {
    "duration": 355,
    "start_time": "2022-05-16T20:03:07.974Z"
   },
   {
    "duration": 25,
    "start_time": "2022-05-16T20:03:08.330Z"
   },
   {
    "duration": 29,
    "start_time": "2022-05-16T20:03:08.356Z"
   },
   {
    "duration": 16,
    "start_time": "2022-05-16T20:03:08.387Z"
   },
   {
    "duration": 9,
    "start_time": "2022-05-16T20:03:08.405Z"
   },
   {
    "duration": 12,
    "start_time": "2022-05-16T20:03:08.415Z"
   },
   {
    "duration": 4,
    "start_time": "2022-05-16T20:03:08.428Z"
   },
   {
    "duration": 145,
    "start_time": "2022-05-16T20:03:08.434Z"
   },
   {
    "duration": 7,
    "start_time": "2022-05-16T20:03:08.581Z"
   },
   {
    "duration": 92,
    "start_time": "2022-05-16T20:03:08.590Z"
   },
   {
    "duration": 7,
    "start_time": "2022-05-16T20:03:08.684Z"
   },
   {
    "duration": 28,
    "start_time": "2022-05-16T20:03:08.692Z"
   },
   {
    "duration": 69,
    "start_time": "2022-05-16T20:03:08.723Z"
   },
   {
    "duration": 16,
    "start_time": "2022-05-16T20:03:08.794Z"
   },
   {
    "duration": 73,
    "start_time": "2022-05-16T20:03:08.812Z"
   },
   {
    "duration": 20,
    "start_time": "2022-05-16T20:03:08.887Z"
   },
   {
    "duration": 71,
    "start_time": "2022-05-16T20:03:08.909Z"
   },
   {
    "duration": 15,
    "start_time": "2022-05-16T20:03:08.981Z"
   },
   {
    "duration": 9,
    "start_time": "2022-05-16T20:03:08.997Z"
   },
   {
    "duration": 10,
    "start_time": "2022-05-16T20:03:09.007Z"
   },
   {
    "duration": 4,
    "start_time": "2022-05-16T20:03:09.019Z"
   },
   {
    "duration": 45,
    "start_time": "2022-05-16T20:03:09.025Z"
   },
   {
    "duration": 58649,
    "start_time": "2022-05-16T20:03:09.072Z"
   },
   {
    "duration": 99,
    "start_time": "2022-05-16T20:04:07.723Z"
   },
   {
    "duration": 41,
    "start_time": "2022-05-16T20:04:07.823Z"
   },
   {
    "duration": 46866,
    "start_time": "2022-05-16T20:04:07.865Z"
   },
   {
    "duration": 47,
    "start_time": "2022-05-16T20:04:54.733Z"
   },
   {
    "duration": 100,
    "start_time": "2022-05-16T20:04:54.781Z"
   },
   {
    "duration": 9,
    "start_time": "2022-05-16T20:04:54.882Z"
   },
   {
    "duration": 12,
    "start_time": "2022-05-16T20:04:54.892Z"
   },
   {
    "duration": 669,
    "start_time": "2022-05-16T20:04:54.905Z"
   },
   {
    "duration": 237,
    "start_time": "2022-05-16T20:04:55.576Z"
   },
   {
    "duration": 287,
    "start_time": "2022-05-16T20:04:55.814Z"
   },
   {
    "duration": 6,
    "start_time": "2022-05-16T20:04:56.102Z"
   },
   {
    "duration": 520,
    "start_time": "2022-05-16T20:04:56.110Z"
   },
   {
    "duration": 93,
    "start_time": "2022-05-23T06:29:18.494Z"
   },
   {
    "duration": 10,
    "start_time": "2022-05-23T06:30:51.985Z"
   },
   {
    "duration": 900,
    "start_time": "2022-05-23T06:30:57.313Z"
   },
   {
    "duration": 872,
    "start_time": "2022-05-23T06:30:58.215Z"
   },
   {
    "duration": 48,
    "start_time": "2022-05-23T06:30:59.090Z"
   },
   {
    "duration": 50,
    "start_time": "2022-05-23T06:30:59.141Z"
   },
   {
    "duration": 26,
    "start_time": "2022-05-23T06:30:59.194Z"
   },
   {
    "duration": 15,
    "start_time": "2022-05-23T06:30:59.222Z"
   },
   {
    "duration": 41,
    "start_time": "2022-05-23T06:30:59.239Z"
   },
   {
    "duration": 16,
    "start_time": "2022-05-23T06:30:59.282Z"
   },
   {
    "duration": 139,
    "start_time": "2022-05-23T06:30:59.300Z"
   },
   {
    "duration": 8,
    "start_time": "2022-05-23T06:30:59.442Z"
   },
   {
    "duration": 95,
    "start_time": "2022-05-23T06:30:59.452Z"
   },
   {
    "duration": 23,
    "start_time": "2022-05-23T06:30:59.549Z"
   },
   {
    "duration": 40,
    "start_time": "2022-05-23T06:30:59.574Z"
   },
   {
    "duration": 62,
    "start_time": "2022-05-23T06:30:59.616Z"
   },
   {
    "duration": 22,
    "start_time": "2022-05-23T06:30:59.679Z"
   },
   {
    "duration": 88,
    "start_time": "2022-05-23T06:30:59.703Z"
   },
   {
    "duration": 33,
    "start_time": "2022-05-23T06:30:59.793Z"
   },
   {
    "duration": 73,
    "start_time": "2022-05-23T06:30:59.828Z"
   },
   {
    "duration": 17,
    "start_time": "2022-05-23T06:30:59.903Z"
   },
   {
    "duration": 10,
    "start_time": "2022-05-23T06:30:59.922Z"
   },
   {
    "duration": 52,
    "start_time": "2022-05-23T06:30:59.934Z"
   },
   {
    "duration": 8,
    "start_time": "2022-05-23T06:30:59.988Z"
   },
   {
    "duration": 36,
    "start_time": "2022-05-23T06:30:59.998Z"
   },
   {
    "duration": 73343,
    "start_time": "2022-05-23T06:31:00.036Z"
   },
   {
    "duration": 227,
    "start_time": "2022-05-23T06:32:13.381Z"
   },
   {
    "duration": 77,
    "start_time": "2022-05-23T06:32:13.610Z"
   },
   {
    "duration": 56157,
    "start_time": "2022-05-23T06:32:13.688Z"
   },
   {
    "duration": 53,
    "start_time": "2022-05-23T06:33:09.848Z"
   },
   {
    "duration": 125,
    "start_time": "2022-05-23T06:33:09.903Z"
   },
   {
    "duration": 11,
    "start_time": "2022-05-23T06:33:10.030Z"
   },
   {
    "duration": 28,
    "start_time": "2022-05-23T06:33:10.043Z"
   },
   {
    "duration": 886,
    "start_time": "2022-05-23T06:33:10.072Z"
   },
   {
    "duration": 507,
    "start_time": "2022-05-23T06:33:10.964Z"
   },
   {
    "duration": 370,
    "start_time": "2022-05-23T06:33:11.474Z"
   },
   {
    "duration": 6,
    "start_time": "2022-05-23T06:33:11.846Z"
   },
   {
    "duration": 14,
    "start_time": "2022-05-23T06:33:11.854Z"
   },
   {
    "duration": 8,
    "start_time": "2022-05-23T06:34:15.565Z"
   },
   {
    "duration": 7,
    "start_time": "2022-05-23T06:34:40.799Z"
   },
   {
    "duration": 15,
    "start_time": "2022-05-23T06:48:58.962Z"
   },
   {
    "duration": 117,
    "start_time": "2022-05-23T06:50:02.909Z"
   },
   {
    "duration": 127,
    "start_time": "2022-05-23T06:52:02.691Z"
   },
   {
    "duration": 12,
    "start_time": "2022-05-23T06:52:25.651Z"
   },
   {
    "duration": 17,
    "start_time": "2022-05-23T06:52:33.558Z"
   },
   {
    "duration": 15,
    "start_time": "2022-05-23T06:59:08.793Z"
   },
   {
    "duration": 830,
    "start_time": "2022-05-23T06:59:23.362Z"
   },
   {
    "duration": 17,
    "start_time": "2022-05-23T06:59:30.812Z"
   },
   {
    "duration": 30,
    "start_time": "2022-05-23T06:59:48.355Z"
   },
   {
    "duration": 914,
    "start_time": "2022-05-23T06:59:55.690Z"
   },
   {
    "duration": 440,
    "start_time": "2022-05-23T06:59:56.606Z"
   },
   {
    "duration": 40,
    "start_time": "2022-05-23T06:59:57.047Z"
   },
   {
    "duration": 25,
    "start_time": "2022-05-23T06:59:57.088Z"
   },
   {
    "duration": 19,
    "start_time": "2022-05-23T06:59:57.116Z"
   },
   {
    "duration": 11,
    "start_time": "2022-05-23T06:59:57.137Z"
   },
   {
    "duration": 28,
    "start_time": "2022-05-23T06:59:57.150Z"
   },
   {
    "duration": 23,
    "start_time": "2022-05-23T06:59:57.179Z"
   },
   {
    "duration": 130,
    "start_time": "2022-05-23T06:59:57.203Z"
   },
   {
    "duration": 7,
    "start_time": "2022-05-23T06:59:57.335Z"
   },
   {
    "duration": 114,
    "start_time": "2022-05-23T06:59:57.344Z"
   },
   {
    "duration": 13,
    "start_time": "2022-05-23T06:59:57.460Z"
   },
   {
    "duration": 57,
    "start_time": "2022-05-23T06:59:57.478Z"
   },
   {
    "duration": 59,
    "start_time": "2022-05-23T06:59:57.538Z"
   },
   {
    "duration": 16,
    "start_time": "2022-05-23T06:59:57.599Z"
   },
   {
    "duration": 61,
    "start_time": "2022-05-23T06:59:57.617Z"
   },
   {
    "duration": 33,
    "start_time": "2022-05-23T06:59:57.679Z"
   },
   {
    "duration": 64,
    "start_time": "2022-05-23T06:59:57.715Z"
   },
   {
    "duration": 22,
    "start_time": "2022-05-23T06:59:57.784Z"
   },
   {
    "duration": 12,
    "start_time": "2022-05-23T06:59:57.808Z"
   },
   {
    "duration": 22,
    "start_time": "2022-05-23T06:59:57.822Z"
   },
   {
    "duration": 24,
    "start_time": "2022-05-23T06:59:57.846Z"
   },
   {
    "duration": 16,
    "start_time": "2022-05-23T06:59:57.872Z"
   },
   {
    "duration": 76156,
    "start_time": "2022-05-23T06:59:57.889Z"
   },
   {
    "duration": 158,
    "start_time": "2022-05-23T07:01:14.048Z"
   },
   {
    "duration": 50,
    "start_time": "2022-05-23T07:01:14.209Z"
   },
   {
    "duration": 55503,
    "start_time": "2022-05-23T07:10:37.518Z"
   },
   {
    "duration": 57,
    "start_time": "2022-05-23T07:12:28.660Z"
   },
   {
    "duration": 114,
    "start_time": "2022-05-23T07:12:29.524Z"
   },
   {
    "duration": 12,
    "start_time": "2022-05-23T07:12:30.327Z"
   },
   {
    "duration": 15,
    "start_time": "2022-05-23T07:12:30.821Z"
   },
   {
    "duration": 356,
    "start_time": "2022-05-23T07:12:31.393Z"
   },
   {
    "duration": 362,
    "start_time": "2022-05-23T07:12:31.764Z"
   },
   {
    "duration": 328,
    "start_time": "2022-05-23T07:12:32.293Z"
   },
   {
    "duration": 13,
    "start_time": "2022-05-23T07:12:33.264Z"
   },
   {
    "duration": 12,
    "start_time": "2022-05-23T07:12:37.297Z"
   },
   {
    "duration": 35,
    "start_time": "2022-05-23T07:12:39.300Z"
   },
   {
    "duration": 35,
    "start_time": "2022-05-23T07:13:05.823Z"
   },
   {
    "duration": 37,
    "start_time": "2022-05-23T07:13:20.949Z"
   },
   {
    "duration": 75,
    "start_time": "2022-05-23T07:13:30.460Z"
   },
   {
    "duration": 42,
    "start_time": "2022-05-23T07:14:06.216Z"
   },
   {
    "duration": 55,
    "start_time": "2022-05-23T07:15:42.765Z"
   },
   {
    "duration": 94,
    "start_time": "2022-05-23T07:16:25.596Z"
   },
   {
    "duration": 112,
    "start_time": "2022-05-23T07:17:11.614Z"
   },
   {
    "duration": 112,
    "start_time": "2022-05-23T07:17:21.727Z"
   },
   {
    "duration": 127,
    "start_time": "2022-05-23T07:17:33.309Z"
   },
   {
    "duration": 216,
    "start_time": "2022-05-23T07:20:12.065Z"
   },
   {
    "duration": 102,
    "start_time": "2022-05-23T07:20:18.412Z"
   },
   {
    "duration": 94,
    "start_time": "2022-05-23T07:21:03.507Z"
   },
   {
    "duration": 13,
    "start_time": "2022-05-23T07:21:25.659Z"
   },
   {
    "duration": 42,
    "start_time": "2022-05-23T07:21:53.144Z"
   },
   {
    "duration": 37,
    "start_time": "2022-05-23T07:23:21.619Z"
   },
   {
    "duration": 157,
    "start_time": "2022-05-23T07:23:31.437Z"
   },
   {
    "duration": 37,
    "start_time": "2022-05-23T07:24:15.884Z"
   },
   {
    "duration": 31,
    "start_time": "2022-05-23T07:25:14.727Z"
   },
   {
    "duration": 898,
    "start_time": "2022-05-23T07:56:52.950Z"
   },
   {
    "duration": 410,
    "start_time": "2022-05-23T07:56:53.851Z"
   },
   {
    "duration": 28,
    "start_time": "2022-05-23T07:56:54.263Z"
   },
   {
    "duration": 24,
    "start_time": "2022-05-23T07:56:54.293Z"
   },
   {
    "duration": 21,
    "start_time": "2022-05-23T07:56:54.320Z"
   },
   {
    "duration": 32,
    "start_time": "2022-05-23T07:56:54.343Z"
   },
   {
    "duration": 12,
    "start_time": "2022-05-23T07:56:54.376Z"
   },
   {
    "duration": 5,
    "start_time": "2022-05-23T07:56:54.389Z"
   },
   {
    "duration": 154,
    "start_time": "2022-05-23T07:56:54.395Z"
   },
   {
    "duration": 15,
    "start_time": "2022-05-23T07:56:54.550Z"
   },
   {
    "duration": 102,
    "start_time": "2022-05-23T07:56:54.567Z"
   },
   {
    "duration": 10,
    "start_time": "2022-05-23T07:56:54.670Z"
   },
   {
    "duration": 29,
    "start_time": "2022-05-23T07:56:54.682Z"
   },
   {
    "duration": 70,
    "start_time": "2022-05-23T07:56:54.715Z"
   },
   {
    "duration": 17,
    "start_time": "2022-05-23T07:56:54.787Z"
   },
   {
    "duration": 74,
    "start_time": "2022-05-23T07:56:54.806Z"
   },
   {
    "duration": 19,
    "start_time": "2022-05-23T07:56:54.882Z"
   },
   {
    "duration": 63,
    "start_time": "2022-05-23T07:56:54.902Z"
   },
   {
    "duration": 17,
    "start_time": "2022-05-23T07:56:54.967Z"
   },
   {
    "duration": 10,
    "start_time": "2022-05-23T07:56:54.986Z"
   },
   {
    "duration": 16,
    "start_time": "2022-05-23T07:56:54.998Z"
   },
   {
    "duration": 7,
    "start_time": "2022-05-23T07:56:55.015Z"
   },
   {
    "duration": 49,
    "start_time": "2022-05-23T07:56:55.024Z"
   },
   {
    "duration": 875,
    "start_time": "2022-05-23T07:57:53.726Z"
   },
   {
    "duration": 411,
    "start_time": "2022-05-23T07:57:54.603Z"
   },
   {
    "duration": 30,
    "start_time": "2022-05-23T07:57:55.016Z"
   },
   {
    "duration": 24,
    "start_time": "2022-05-23T07:57:55.050Z"
   },
   {
    "duration": 30,
    "start_time": "2022-05-23T07:57:55.077Z"
   },
   {
    "duration": 19,
    "start_time": "2022-05-23T07:57:55.110Z"
   },
   {
    "duration": 26,
    "start_time": "2022-05-23T07:57:55.131Z"
   },
   {
    "duration": 17,
    "start_time": "2022-05-23T07:57:55.165Z"
   },
   {
    "duration": 145,
    "start_time": "2022-05-23T07:57:55.183Z"
   },
   {
    "duration": 7,
    "start_time": "2022-05-23T07:57:55.331Z"
   },
   {
    "duration": 103,
    "start_time": "2022-05-23T07:57:55.340Z"
   },
   {
    "duration": 23,
    "start_time": "2022-05-23T07:57:55.445Z"
   },
   {
    "duration": 59,
    "start_time": "2022-05-23T07:57:55.470Z"
   },
   {
    "duration": 53,
    "start_time": "2022-05-23T07:57:55.531Z"
   },
   {
    "duration": 17,
    "start_time": "2022-05-23T07:57:55.586Z"
   },
   {
    "duration": 65,
    "start_time": "2022-05-23T07:57:55.605Z"
   },
   {
    "duration": 21,
    "start_time": "2022-05-23T07:57:55.672Z"
   },
   {
    "duration": 46,
    "start_time": "2022-05-23T07:57:55.695Z"
   },
   {
    "duration": 18,
    "start_time": "2022-05-23T07:57:55.765Z"
   },
   {
    "duration": 28,
    "start_time": "2022-05-23T07:57:55.785Z"
   },
   {
    "duration": 23,
    "start_time": "2022-05-23T07:57:55.814Z"
   },
   {
    "duration": 10,
    "start_time": "2022-05-23T07:57:55.839Z"
   },
   {
    "duration": 40,
    "start_time": "2022-05-23T07:57:55.851Z"
   },
   {
    "duration": 19,
    "start_time": "2022-05-23T07:57:55.892Z"
   },
   {
    "duration": 113,
    "start_time": "2022-05-23T07:57:55.913Z"
   },
   {
    "duration": 56,
    "start_time": "2022-05-23T07:57:56.028Z"
   },
   {
    "duration": 914,
    "start_time": "2022-05-23T07:58:24.039Z"
   },
   {
    "duration": 419,
    "start_time": "2022-05-23T07:58:24.955Z"
   },
   {
    "duration": 27,
    "start_time": "2022-05-23T07:58:25.376Z"
   },
   {
    "duration": 24,
    "start_time": "2022-05-23T07:58:25.405Z"
   },
   {
    "duration": 35,
    "start_time": "2022-05-23T07:58:25.431Z"
   },
   {
    "duration": 11,
    "start_time": "2022-05-23T07:58:25.468Z"
   },
   {
    "duration": 16,
    "start_time": "2022-05-23T07:58:25.481Z"
   },
   {
    "duration": 7,
    "start_time": "2022-05-23T07:58:25.499Z"
   },
   {
    "duration": 163,
    "start_time": "2022-05-23T07:58:25.508Z"
   },
   {
    "duration": 8,
    "start_time": "2022-05-23T07:58:25.672Z"
   },
   {
    "duration": 110,
    "start_time": "2022-05-23T07:58:25.682Z"
   },
   {
    "duration": 9,
    "start_time": "2022-05-23T07:58:25.793Z"
   },
   {
    "duration": 29,
    "start_time": "2022-05-23T07:58:25.804Z"
   },
   {
    "duration": 68,
    "start_time": "2022-05-23T07:58:25.836Z"
   },
   {
    "duration": 17,
    "start_time": "2022-05-23T07:58:25.906Z"
   },
   {
    "duration": 81,
    "start_time": "2022-05-23T07:58:25.925Z"
   },
   {
    "duration": 21,
    "start_time": "2022-05-23T07:58:26.008Z"
   },
   {
    "duration": 71,
    "start_time": "2022-05-23T07:58:26.030Z"
   },
   {
    "duration": 18,
    "start_time": "2022-05-23T07:58:26.103Z"
   },
   {
    "duration": 10,
    "start_time": "2022-05-23T07:58:26.122Z"
   },
   {
    "duration": 14,
    "start_time": "2022-05-23T07:58:26.164Z"
   },
   {
    "duration": 6,
    "start_time": "2022-05-23T07:58:26.180Z"
   },
   {
    "duration": 24,
    "start_time": "2022-05-23T07:58:26.187Z"
   },
   {
    "duration": 6,
    "start_time": "2022-05-23T07:58:26.213Z"
   },
   {
    "duration": 155,
    "start_time": "2022-05-23T07:58:26.220Z"
   },
   {
    "duration": 59,
    "start_time": "2022-05-23T07:58:26.377Z"
   },
   {
    "duration": 68,
    "start_time": "2022-05-23T07:58:26.437Z"
   },
   {
    "duration": 40,
    "start_time": "2022-05-23T07:58:26.507Z"
   },
   {
    "duration": 139,
    "start_time": "2022-05-23T07:58:26.549Z"
   },
   {
    "duration": 11,
    "start_time": "2022-05-23T07:58:26.690Z"
   },
   {
    "duration": 12,
    "start_time": "2022-05-23T07:58:26.703Z"
   },
   {
    "duration": 620,
    "start_time": "2022-05-23T07:58:26.716Z"
   },
   {
    "duration": 410,
    "start_time": "2022-05-23T07:58:27.338Z"
   },
   {
    "duration": 295,
    "start_time": "2022-05-23T07:58:27.750Z"
   },
   {
    "duration": 6,
    "start_time": "2022-05-23T07:58:28.047Z"
   },
   {
    "duration": 5,
    "start_time": "2022-05-23T07:58:28.065Z"
   },
   {
    "duration": 32,
    "start_time": "2022-05-23T07:58:28.072Z"
   },
   {
    "duration": 6,
    "start_time": "2022-05-23T07:58:28.105Z"
   },
   {
    "duration": 29,
    "start_time": "2022-05-23T07:58:51.424Z"
   },
   {
    "duration": 6,
    "start_time": "2022-05-23T07:58:53.888Z"
   },
   {
    "duration": 5,
    "start_time": "2022-05-23T08:05:07.549Z"
   },
   {
    "duration": 60,
    "start_time": "2022-05-23T08:07:03.180Z"
   },
   {
    "duration": 322,
    "start_time": "2022-05-23T08:09:51.481Z"
   },
   {
    "duration": 9,
    "start_time": "2022-05-23T08:12:19.882Z"
   },
   {
    "duration": 11,
    "start_time": "2022-05-23T08:12:25.235Z"
   },
   {
    "duration": 6,
    "start_time": "2022-05-23T08:12:53.847Z"
   },
   {
    "duration": 6,
    "start_time": "2022-05-23T08:14:20.465Z"
   },
   {
    "duration": 6,
    "start_time": "2022-05-23T08:14:25.170Z"
   },
   {
    "duration": 5,
    "start_time": "2022-05-23T08:15:42.772Z"
   },
   {
    "duration": 6,
    "start_time": "2022-05-23T08:15:45.964Z"
   },
   {
    "duration": 6,
    "start_time": "2022-05-23T08:17:51.068Z"
   },
   {
    "duration": 900,
    "start_time": "2022-05-23T08:24:50.762Z"
   },
   {
    "duration": 426,
    "start_time": "2022-05-23T08:24:51.665Z"
   },
   {
    "duration": 26,
    "start_time": "2022-05-23T08:24:52.093Z"
   },
   {
    "duration": 22,
    "start_time": "2022-05-23T08:24:52.121Z"
   },
   {
    "duration": 22,
    "start_time": "2022-05-23T08:24:52.145Z"
   },
   {
    "duration": 10,
    "start_time": "2022-05-23T08:24:52.169Z"
   },
   {
    "duration": 13,
    "start_time": "2022-05-23T08:24:52.181Z"
   },
   {
    "duration": 5,
    "start_time": "2022-05-23T08:24:52.196Z"
   },
   {
    "duration": 168,
    "start_time": "2022-05-23T08:24:52.203Z"
   },
   {
    "duration": 8,
    "start_time": "2022-05-23T08:24:52.375Z"
   },
   {
    "duration": 107,
    "start_time": "2022-05-23T08:24:52.385Z"
   },
   {
    "duration": 10,
    "start_time": "2022-05-23T08:24:52.494Z"
   },
   {
    "duration": 37,
    "start_time": "2022-05-23T08:24:52.506Z"
   },
   {
    "duration": 68,
    "start_time": "2022-05-23T08:24:52.545Z"
   },
   {
    "duration": 16,
    "start_time": "2022-05-23T08:24:52.615Z"
   },
   {
    "duration": 80,
    "start_time": "2022-05-23T08:24:52.633Z"
   },
   {
    "duration": 21,
    "start_time": "2022-05-23T08:24:52.715Z"
   },
   {
    "duration": 61,
    "start_time": "2022-05-23T08:24:52.738Z"
   },
   {
    "duration": 17,
    "start_time": "2022-05-23T08:24:52.802Z"
   },
   {
    "duration": 11,
    "start_time": "2022-05-23T08:24:52.821Z"
   },
   {
    "duration": 15,
    "start_time": "2022-05-23T08:24:52.864Z"
   },
   {
    "duration": 6,
    "start_time": "2022-05-23T08:24:52.881Z"
   },
   {
    "duration": 22,
    "start_time": "2022-05-23T08:24:52.889Z"
   },
   {
    "duration": 8,
    "start_time": "2022-05-23T08:24:52.913Z"
   },
   {
    "duration": 128,
    "start_time": "2022-05-23T08:24:52.923Z"
   },
   {
    "duration": 47,
    "start_time": "2022-05-23T08:24:53.052Z"
   },
   {
    "duration": 65,
    "start_time": "2022-05-23T08:24:53.101Z"
   },
   {
    "duration": 41,
    "start_time": "2022-05-23T08:24:53.169Z"
   },
   {
    "duration": 119,
    "start_time": "2022-05-23T08:24:53.211Z"
   },
   {
    "duration": 11,
    "start_time": "2022-05-23T08:24:53.332Z"
   },
   {
    "duration": 26,
    "start_time": "2022-05-23T08:24:53.345Z"
   },
   {
    "duration": 615,
    "start_time": "2022-05-23T08:24:53.372Z"
   },
   {
    "duration": 375,
    "start_time": "2022-05-23T08:24:53.989Z"
   },
   {
    "duration": 6,
    "start_time": "2022-05-23T08:24:54.366Z"
   },
   {
    "duration": 322,
    "start_time": "2022-05-23T08:24:54.374Z"
   },
   {
    "duration": 6,
    "start_time": "2022-05-23T08:24:54.698Z"
   },
   {
    "duration": 13,
    "start_time": "2022-05-23T08:24:54.705Z"
   },
   {
    "duration": 24,
    "start_time": "2022-05-23T08:24:54.720Z"
   },
   {
    "duration": 21,
    "start_time": "2022-05-23T08:24:54.745Z"
   },
   {
    "duration": 895,
    "start_time": "2022-05-23T08:44:13.150Z"
   },
   {
    "duration": 1405,
    "start_time": "2022-05-23T08:44:14.047Z"
   },
   {
    "duration": 29,
    "start_time": "2022-05-23T08:44:15.454Z"
   },
   {
    "duration": 24,
    "start_time": "2022-05-23T08:44:15.484Z"
   },
   {
    "duration": 20,
    "start_time": "2022-05-23T08:44:15.510Z"
   },
   {
    "duration": 12,
    "start_time": "2022-05-23T08:44:15.532Z"
   },
   {
    "duration": 16,
    "start_time": "2022-05-23T08:44:15.546Z"
   },
   {
    "duration": 6,
    "start_time": "2022-05-23T08:44:15.564Z"
   },
   {
    "duration": 171,
    "start_time": "2022-05-23T08:44:15.572Z"
   },
   {
    "duration": 9,
    "start_time": "2022-05-23T08:44:15.745Z"
   },
   {
    "duration": 122,
    "start_time": "2022-05-23T08:44:15.756Z"
   },
   {
    "duration": 9,
    "start_time": "2022-05-23T08:44:15.879Z"
   },
   {
    "duration": 39,
    "start_time": "2022-05-23T08:44:15.889Z"
   },
   {
    "duration": 53,
    "start_time": "2022-05-23T08:44:15.932Z"
   },
   {
    "duration": 18,
    "start_time": "2022-05-23T08:44:16.003Z"
   },
   {
    "duration": 54,
    "start_time": "2022-05-23T08:44:16.023Z"
   },
   {
    "duration": 40,
    "start_time": "2022-05-23T08:44:16.079Z"
   },
   {
    "duration": 48,
    "start_time": "2022-05-23T08:44:16.120Z"
   },
   {
    "duration": 42,
    "start_time": "2022-05-23T08:44:16.170Z"
   },
   {
    "duration": 11,
    "start_time": "2022-05-23T08:44:16.214Z"
   },
   {
    "duration": 13,
    "start_time": "2022-05-23T08:44:16.226Z"
   },
   {
    "duration": 6,
    "start_time": "2022-05-23T08:44:16.240Z"
   },
   {
    "duration": 14,
    "start_time": "2022-05-23T08:44:16.248Z"
   },
   {
    "duration": 41,
    "start_time": "2022-05-23T08:44:16.264Z"
   },
   {
    "duration": 104,
    "start_time": "2022-05-23T08:44:16.306Z"
   },
   {
    "duration": 41,
    "start_time": "2022-05-23T08:44:16.412Z"
   },
   {
    "duration": 64,
    "start_time": "2022-05-23T08:44:16.455Z"
   },
   {
    "duration": 40,
    "start_time": "2022-05-23T08:44:16.521Z"
   },
   {
    "duration": 128,
    "start_time": "2022-05-23T08:44:16.563Z"
   },
   {
    "duration": 17,
    "start_time": "2022-05-23T08:44:16.693Z"
   },
   {
    "duration": 12,
    "start_time": "2022-05-23T08:44:16.711Z"
   },
   {
    "duration": 619,
    "start_time": "2022-05-23T08:44:16.724Z"
   },
   {
    "duration": 374,
    "start_time": "2022-05-23T08:44:17.345Z"
   },
   {
    "duration": 7,
    "start_time": "2022-05-23T08:44:17.721Z"
   },
   {
    "duration": 327,
    "start_time": "2022-05-23T08:44:17.730Z"
   },
   {
    "duration": 6,
    "start_time": "2022-05-23T08:44:18.059Z"
   },
   {
    "duration": 12,
    "start_time": "2022-05-23T08:44:18.067Z"
   },
   {
    "duration": 43,
    "start_time": "2022-05-23T08:44:18.081Z"
   },
   {
    "duration": 5,
    "start_time": "2022-05-23T08:44:18.126Z"
   },
   {
    "duration": 4,
    "start_time": "2022-05-23T09:33:16.855Z"
   },
   {
    "duration": 3,
    "start_time": "2022-05-23T09:46:12.871Z"
   },
   {
    "duration": 28,
    "start_time": "2022-05-23T10:12:41.349Z"
   },
   {
    "duration": 793,
    "start_time": "2022-05-23T11:59:35.005Z"
   },
   {
    "duration": 410,
    "start_time": "2022-05-23T11:59:35.811Z"
   },
   {
    "duration": 26,
    "start_time": "2022-05-23T11:59:36.222Z"
   },
   {
    "duration": 19,
    "start_time": "2022-05-23T11:59:36.250Z"
   },
   {
    "duration": 17,
    "start_time": "2022-05-23T11:59:36.271Z"
   },
   {
    "duration": 18,
    "start_time": "2022-05-23T11:59:36.289Z"
   },
   {
    "duration": 9,
    "start_time": "2022-05-23T11:59:36.308Z"
   },
   {
    "duration": 6,
    "start_time": "2022-05-23T11:59:36.318Z"
   },
   {
    "duration": 125,
    "start_time": "2022-05-23T11:59:36.326Z"
   },
   {
    "duration": 7,
    "start_time": "2022-05-23T11:59:36.454Z"
   },
   {
    "duration": 92,
    "start_time": "2022-05-23T11:59:36.462Z"
   },
   {
    "duration": 8,
    "start_time": "2022-05-23T11:59:36.556Z"
   },
   {
    "duration": 42,
    "start_time": "2022-05-23T11:59:36.566Z"
   },
   {
    "duration": 42,
    "start_time": "2022-05-23T11:59:36.610Z"
   },
   {
    "duration": 15,
    "start_time": "2022-05-23T11:59:36.654Z"
   },
   {
    "duration": 66,
    "start_time": "2022-05-23T11:59:36.671Z"
   },
   {
    "duration": 20,
    "start_time": "2022-05-23T11:59:36.739Z"
   },
   {
    "duration": 69,
    "start_time": "2022-05-23T11:59:36.760Z"
   },
   {
    "duration": 18,
    "start_time": "2022-05-23T11:59:36.831Z"
   },
   {
    "duration": 11,
    "start_time": "2022-05-23T11:59:36.850Z"
   },
   {
    "duration": 41,
    "start_time": "2022-05-23T11:59:36.862Z"
   },
   {
    "duration": 6,
    "start_time": "2022-05-23T11:59:36.905Z"
   },
   {
    "duration": 18,
    "start_time": "2022-05-23T11:59:36.912Z"
   },
   {
    "duration": 4,
    "start_time": "2022-05-23T11:59:36.932Z"
   },
   {
    "duration": 109,
    "start_time": "2022-05-23T11:59:36.937Z"
   },
   {
    "duration": 38,
    "start_time": "2022-05-23T11:59:37.048Z"
   },
   {
    "duration": 53,
    "start_time": "2022-05-23T11:59:37.087Z"
   },
   {
    "duration": 36,
    "start_time": "2022-05-23T11:59:37.143Z"
   },
   {
    "duration": 115,
    "start_time": "2022-05-23T11:59:37.180Z"
   },
   {
    "duration": 9,
    "start_time": "2022-05-23T11:59:37.302Z"
   },
   {
    "duration": 11,
    "start_time": "2022-05-23T11:59:37.312Z"
   },
   {
    "duration": 565,
    "start_time": "2022-05-23T11:59:37.324Z"
   },
   {
    "duration": 340,
    "start_time": "2022-05-23T11:59:37.891Z"
   },
   {
    "duration": 6,
    "start_time": "2022-05-23T11:59:38.233Z"
   },
   {
    "duration": 323,
    "start_time": "2022-05-23T11:59:38.241Z"
   },
   {
    "duration": 5,
    "start_time": "2022-05-23T11:59:38.566Z"
   },
   {
    "duration": 8,
    "start_time": "2022-05-23T11:59:38.572Z"
   },
   {
    "duration": 33,
    "start_time": "2022-05-23T11:59:38.581Z"
   },
   {
    "duration": 5,
    "start_time": "2022-05-23T11:59:38.616Z"
   },
   {
    "duration": 15,
    "start_time": "2022-05-23T12:01:33.888Z"
   },
   {
    "duration": 576,
    "start_time": "2022-05-23T12:29:01.565Z"
   },
   {
    "duration": 287,
    "start_time": "2022-05-23T12:29:09.815Z"
   },
   {
    "duration": 13,
    "start_time": "2022-05-23T13:25:41.504Z"
   },
   {
    "duration": 31,
    "start_time": "2022-05-23T13:26:44.788Z"
   },
   {
    "duration": 34,
    "start_time": "2022-05-23T13:27:59.188Z"
   },
   {
    "duration": 8,
    "start_time": "2022-05-23T13:28:21.945Z"
   },
   {
    "duration": 7,
    "start_time": "2022-05-23T13:29:34.426Z"
   },
   {
    "duration": 324,
    "start_time": "2022-05-23T13:29:42.828Z"
   },
   {
    "duration": 6,
    "start_time": "2022-05-23T13:29:49.955Z"
   },
   {
    "duration": 8,
    "start_time": "2022-05-23T13:32:34.332Z"
   },
   {
    "duration": 5,
    "start_time": "2022-05-23T13:36:47.157Z"
   },
   {
    "duration": 16,
    "start_time": "2022-05-23T13:36:55.350Z"
   },
   {
    "duration": 12,
    "start_time": "2022-05-23T13:37:00.415Z"
   },
   {
    "duration": 15,
    "start_time": "2022-05-23T13:37:06.032Z"
   },
   {
    "duration": 14,
    "start_time": "2022-05-23T13:37:18.750Z"
   },
   {
    "duration": 17,
    "start_time": "2022-05-23T13:37:31.844Z"
   },
   {
    "duration": 932,
    "start_time": "2022-05-23T13:38:03.739Z"
   },
   {
    "duration": 437,
    "start_time": "2022-05-23T13:38:04.673Z"
   },
   {
    "duration": 29,
    "start_time": "2022-05-23T13:38:05.112Z"
   },
   {
    "duration": 24,
    "start_time": "2022-05-23T13:38:05.144Z"
   },
   {
    "duration": 21,
    "start_time": "2022-05-23T13:38:05.170Z"
   },
   {
    "duration": 11,
    "start_time": "2022-05-23T13:38:05.193Z"
   },
   {
    "duration": 15,
    "start_time": "2022-05-23T13:38:05.206Z"
   },
   {
    "duration": 15,
    "start_time": "2022-05-23T13:38:05.223Z"
   },
   {
    "duration": 4,
    "start_time": "2022-05-23T13:38:05.264Z"
   },
   {
    "duration": 163,
    "start_time": "2022-05-23T13:38:05.272Z"
   },
   {
    "duration": 8,
    "start_time": "2022-05-23T13:38:05.437Z"
   },
   {
    "duration": 121,
    "start_time": "2022-05-23T13:38:05.447Z"
   },
   {
    "duration": 10,
    "start_time": "2022-05-23T13:38:05.571Z"
   },
   {
    "duration": 30,
    "start_time": "2022-05-23T13:38:05.583Z"
   },
   {
    "duration": 78,
    "start_time": "2022-05-23T13:38:05.615Z"
   },
   {
    "duration": 18,
    "start_time": "2022-05-23T13:38:05.696Z"
   },
   {
    "duration": 82,
    "start_time": "2022-05-23T13:38:05.716Z"
   },
   {
    "duration": 23,
    "start_time": "2022-05-23T13:38:05.799Z"
   },
   {
    "duration": 73,
    "start_time": "2022-05-23T13:38:05.824Z"
   },
   {
    "duration": 18,
    "start_time": "2022-05-23T13:38:05.899Z"
   },
   {
    "duration": 11,
    "start_time": "2022-05-23T13:38:05.919Z"
   },
   {
    "duration": 43,
    "start_time": "2022-05-23T13:38:05.932Z"
   },
   {
    "duration": 10,
    "start_time": "2022-05-23T13:38:05.976Z"
   },
   {
    "duration": 19,
    "start_time": "2022-05-23T13:38:05.988Z"
   },
   {
    "duration": 6,
    "start_time": "2022-05-23T13:38:06.008Z"
   },
   {
    "duration": 129,
    "start_time": "2022-05-23T13:38:06.015Z"
   },
   {
    "duration": 51,
    "start_time": "2022-05-23T13:38:06.146Z"
   },
   {
    "duration": 48,
    "start_time": "2022-05-23T13:38:06.200Z"
   },
   {
    "duration": 42,
    "start_time": "2022-05-23T13:38:06.265Z"
   },
   {
    "duration": 127,
    "start_time": "2022-05-23T13:38:06.308Z"
   },
   {
    "duration": 9,
    "start_time": "2022-05-23T13:38:06.437Z"
   },
   {
    "duration": 25,
    "start_time": "2022-05-23T13:38:06.448Z"
   },
   {
    "duration": 639,
    "start_time": "2022-05-23T13:38:06.475Z"
   },
   {
    "duration": 405,
    "start_time": "2022-05-23T13:38:07.116Z"
   },
   {
    "duration": 7,
    "start_time": "2022-05-23T13:38:07.523Z"
   },
   {
    "duration": 334,
    "start_time": "2022-05-23T13:38:07.532Z"
   },
   {
    "duration": 7,
    "start_time": "2022-05-23T13:38:07.867Z"
   },
   {
    "duration": 10,
    "start_time": "2022-05-23T13:38:07.876Z"
   },
   {
    "duration": 31,
    "start_time": "2022-05-23T13:38:07.887Z"
   },
   {
    "duration": 6,
    "start_time": "2022-05-23T13:38:07.920Z"
   },
   {
    "duration": 120,
    "start_time": "2022-05-23T13:54:53.111Z"
   },
   {
    "duration": 51,
    "start_time": "2022-05-23T13:54:58.248Z"
   },
   {
    "duration": 70,
    "start_time": "2022-05-23T13:55:58.992Z"
   },
   {
    "duration": 61,
    "start_time": "2022-05-23T13:58:45.349Z"
   },
   {
    "duration": 61,
    "start_time": "2022-05-23T13:58:59.726Z"
   },
   {
    "duration": 64,
    "start_time": "2022-05-23T13:59:08.950Z"
   },
   {
    "duration": 982,
    "start_time": "2022-05-23T13:59:14.887Z"
   },
   {
    "duration": 478,
    "start_time": "2022-05-23T13:59:15.871Z"
   },
   {
    "duration": 37,
    "start_time": "2022-05-23T13:59:16.351Z"
   },
   {
    "duration": 32,
    "start_time": "2022-05-23T13:59:16.390Z"
   },
   {
    "duration": 55,
    "start_time": "2022-05-23T13:59:16.426Z"
   },
   {
    "duration": 15,
    "start_time": "2022-05-23T13:59:16.483Z"
   },
   {
    "duration": 12,
    "start_time": "2022-05-23T13:59:16.501Z"
   },
   {
    "duration": 3,
    "start_time": "2022-05-23T13:59:16.515Z"
   },
   {
    "duration": 200,
    "start_time": "2022-05-23T13:59:16.520Z"
   },
   {
    "duration": 11,
    "start_time": "2022-05-23T13:59:16.722Z"
   },
   {
    "duration": 116,
    "start_time": "2022-05-23T13:59:16.735Z"
   },
   {
    "duration": 16,
    "start_time": "2022-05-23T13:59:16.865Z"
   },
   {
    "duration": 41,
    "start_time": "2022-05-23T13:59:16.884Z"
   },
   {
    "duration": 68,
    "start_time": "2022-05-23T13:59:16.929Z"
   },
   {
    "duration": 18,
    "start_time": "2022-05-23T13:59:16.999Z"
   },
   {
    "duration": 101,
    "start_time": "2022-05-23T13:59:17.019Z"
   },
   {
    "duration": 28,
    "start_time": "2022-05-23T13:59:17.122Z"
   },
   {
    "duration": 71,
    "start_time": "2022-05-23T13:59:17.152Z"
   },
   {
    "duration": 19,
    "start_time": "2022-05-23T13:59:17.225Z"
   },
   {
    "duration": 30,
    "start_time": "2022-05-23T13:59:17.266Z"
   },
   {
    "duration": 19,
    "start_time": "2022-05-23T13:59:17.298Z"
   },
   {
    "duration": 7,
    "start_time": "2022-05-23T13:59:17.319Z"
   },
   {
    "duration": 19,
    "start_time": "2022-05-23T13:59:17.328Z"
   },
   {
    "duration": 29,
    "start_time": "2022-05-23T13:59:17.348Z"
   },
   {
    "duration": 178,
    "start_time": "2022-05-23T13:59:17.379Z"
   },
   {
    "duration": 55,
    "start_time": "2022-05-23T13:59:17.559Z"
   },
   {
    "duration": 136,
    "start_time": "2022-05-23T13:59:17.616Z"
   },
   {
    "duration": 0,
    "start_time": "2022-05-23T13:59:17.755Z"
   },
   {
    "duration": 0,
    "start_time": "2022-05-23T13:59:17.756Z"
   },
   {
    "duration": 0,
    "start_time": "2022-05-23T13:59:17.767Z"
   },
   {
    "duration": 0,
    "start_time": "2022-05-23T13:59:17.768Z"
   },
   {
    "duration": 0,
    "start_time": "2022-05-23T13:59:17.768Z"
   },
   {
    "duration": 0,
    "start_time": "2022-05-23T13:59:17.769Z"
   },
   {
    "duration": 0,
    "start_time": "2022-05-23T13:59:17.778Z"
   },
   {
    "duration": 0,
    "start_time": "2022-05-23T13:59:17.779Z"
   },
   {
    "duration": 0,
    "start_time": "2022-05-23T13:59:17.780Z"
   },
   {
    "duration": 0,
    "start_time": "2022-05-23T13:59:17.781Z"
   },
   {
    "duration": 0,
    "start_time": "2022-05-23T13:59:17.782Z"
   },
   {
    "duration": 59,
    "start_time": "2022-05-23T14:00:09.030Z"
   },
   {
    "duration": 917,
    "start_time": "2022-05-23T14:02:40.576Z"
   },
   {
    "duration": 429,
    "start_time": "2022-05-23T14:02:41.495Z"
   },
   {
    "duration": 31,
    "start_time": "2022-05-23T14:02:41.926Z"
   },
   {
    "duration": 24,
    "start_time": "2022-05-23T14:02:41.960Z"
   },
   {
    "duration": 21,
    "start_time": "2022-05-23T14:02:41.986Z"
   },
   {
    "duration": 13,
    "start_time": "2022-05-23T14:02:42.010Z"
   },
   {
    "duration": 41,
    "start_time": "2022-05-23T14:02:42.025Z"
   },
   {
    "duration": 3,
    "start_time": "2022-05-23T14:02:42.068Z"
   },
   {
    "duration": 160,
    "start_time": "2022-05-23T14:02:42.073Z"
   },
   {
    "duration": 8,
    "start_time": "2022-05-23T14:02:42.235Z"
   },
   {
    "duration": 120,
    "start_time": "2022-05-23T14:02:42.245Z"
   },
   {
    "duration": 10,
    "start_time": "2022-05-23T14:02:42.367Z"
   },
   {
    "duration": 30,
    "start_time": "2022-05-23T14:02:42.379Z"
   },
   {
    "duration": 87,
    "start_time": "2022-05-23T14:02:42.411Z"
   },
   {
    "duration": 19,
    "start_time": "2022-05-23T14:02:42.500Z"
   },
   {
    "duration": 99,
    "start_time": "2022-05-23T14:02:42.521Z"
   },
   {
    "duration": 44,
    "start_time": "2022-05-23T14:02:42.622Z"
   },
   {
    "duration": 52,
    "start_time": "2022-05-23T14:02:42.668Z"
   },
   {
    "duration": 44,
    "start_time": "2022-05-23T14:02:42.722Z"
   },
   {
    "duration": 15,
    "start_time": "2022-05-23T14:02:42.768Z"
   },
   {
    "duration": 19,
    "start_time": "2022-05-23T14:02:42.785Z"
   },
   {
    "duration": 6,
    "start_time": "2022-05-23T14:02:42.806Z"
   },
   {
    "duration": 58,
    "start_time": "2022-05-23T14:02:42.814Z"
   },
   {
    "duration": 6,
    "start_time": "2022-05-23T14:02:42.874Z"
   },
   {
    "duration": 162,
    "start_time": "2022-05-23T14:02:42.882Z"
   },
   {
    "duration": 62,
    "start_time": "2022-05-23T14:02:43.046Z"
   },
   {
    "duration": 123,
    "start_time": "2022-05-23T14:02:43.110Z"
   },
   {
    "duration": 0,
    "start_time": "2022-05-23T14:02:43.235Z"
   },
   {
    "duration": 0,
    "start_time": "2022-05-23T14:02:43.237Z"
   },
   {
    "duration": 0,
    "start_time": "2022-05-23T14:02:43.238Z"
   },
   {
    "duration": 0,
    "start_time": "2022-05-23T14:02:43.239Z"
   },
   {
    "duration": 0,
    "start_time": "2022-05-23T14:02:43.241Z"
   },
   {
    "duration": 0,
    "start_time": "2022-05-23T14:02:43.242Z"
   },
   {
    "duration": 0,
    "start_time": "2022-05-23T14:02:43.243Z"
   },
   {
    "duration": 0,
    "start_time": "2022-05-23T14:02:43.244Z"
   },
   {
    "duration": 0,
    "start_time": "2022-05-23T14:02:43.245Z"
   },
   {
    "duration": 0,
    "start_time": "2022-05-23T14:02:43.265Z"
   },
   {
    "duration": 0,
    "start_time": "2022-05-23T14:02:43.266Z"
   },
   {
    "duration": 873,
    "start_time": "2022-05-23T14:03:56.115Z"
   },
   {
    "duration": 454,
    "start_time": "2022-05-23T14:03:56.990Z"
   },
   {
    "duration": 32,
    "start_time": "2022-05-23T14:03:57.446Z"
   },
   {
    "duration": 37,
    "start_time": "2022-05-23T14:03:57.481Z"
   },
   {
    "duration": 29,
    "start_time": "2022-05-23T14:03:57.521Z"
   },
   {
    "duration": 25,
    "start_time": "2022-05-23T14:03:57.552Z"
   },
   {
    "duration": 25,
    "start_time": "2022-05-23T14:03:57.579Z"
   },
   {
    "duration": 7,
    "start_time": "2022-05-23T14:03:57.606Z"
   },
   {
    "duration": 178,
    "start_time": "2022-05-23T14:03:57.615Z"
   },
   {
    "duration": 10,
    "start_time": "2022-05-23T14:03:57.797Z"
   },
   {
    "duration": 119,
    "start_time": "2022-05-23T14:03:57.809Z"
   },
   {
    "duration": 9,
    "start_time": "2022-05-23T14:03:57.931Z"
   },
   {
    "duration": 45,
    "start_time": "2022-05-23T14:03:57.942Z"
   },
   {
    "duration": 53,
    "start_time": "2022-05-23T14:03:57.989Z"
   },
   {
    "duration": 36,
    "start_time": "2022-05-23T14:03:58.044Z"
   },
   {
    "duration": 55,
    "start_time": "2022-05-23T14:03:58.082Z"
   },
   {
    "duration": 22,
    "start_time": "2022-05-23T14:03:58.165Z"
   },
   {
    "duration": 51,
    "start_time": "2022-05-23T14:03:58.188Z"
   },
   {
    "duration": 40,
    "start_time": "2022-05-23T14:03:58.241Z"
   },
   {
    "duration": 12,
    "start_time": "2022-05-23T14:03:58.283Z"
   },
   {
    "duration": 26,
    "start_time": "2022-05-23T14:03:58.297Z"
   },
   {
    "duration": 46,
    "start_time": "2022-05-23T14:03:58.325Z"
   },
   {
    "duration": 24,
    "start_time": "2022-05-23T14:03:58.374Z"
   },
   {
    "duration": 5,
    "start_time": "2022-05-23T14:03:58.400Z"
   },
   {
    "duration": 145,
    "start_time": "2022-05-23T14:03:58.407Z"
   },
   {
    "duration": 67,
    "start_time": "2022-05-23T14:03:58.554Z"
   },
   {
    "duration": 120,
    "start_time": "2022-05-23T14:03:58.624Z"
   },
   {
    "duration": 0,
    "start_time": "2022-05-23T14:03:58.747Z"
   },
   {
    "duration": 0,
    "start_time": "2022-05-23T14:03:58.749Z"
   },
   {
    "duration": 0,
    "start_time": "2022-05-23T14:03:58.750Z"
   },
   {
    "duration": 0,
    "start_time": "2022-05-23T14:03:58.752Z"
   },
   {
    "duration": 0,
    "start_time": "2022-05-23T14:03:58.765Z"
   },
   {
    "duration": 0,
    "start_time": "2022-05-23T14:03:58.767Z"
   },
   {
    "duration": 0,
    "start_time": "2022-05-23T14:03:58.769Z"
   },
   {
    "duration": 0,
    "start_time": "2022-05-23T14:03:58.771Z"
   },
   {
    "duration": 0,
    "start_time": "2022-05-23T14:03:58.772Z"
   },
   {
    "duration": 0,
    "start_time": "2022-05-23T14:03:58.774Z"
   },
   {
    "duration": 0,
    "start_time": "2022-05-23T14:03:58.775Z"
   },
   {
    "duration": 21,
    "start_time": "2022-05-23T14:07:50.948Z"
   },
   {
    "duration": 20,
    "start_time": "2022-05-23T14:07:56.028Z"
   },
   {
    "duration": 29,
    "start_time": "2022-05-23T14:09:55.787Z"
   },
   {
    "duration": 73,
    "start_time": "2022-05-23T14:10:39.555Z"
   },
   {
    "duration": 65,
    "start_time": "2022-05-23T14:10:58.427Z"
   },
   {
    "duration": 922,
    "start_time": "2022-05-23T14:12:33.158Z"
   },
   {
    "duration": 448,
    "start_time": "2022-05-23T14:12:34.085Z"
   },
   {
    "duration": 29,
    "start_time": "2022-05-23T14:12:34.535Z"
   },
   {
    "duration": 40,
    "start_time": "2022-05-23T14:12:34.570Z"
   },
   {
    "duration": 24,
    "start_time": "2022-05-23T14:12:34.613Z"
   },
   {
    "duration": 34,
    "start_time": "2022-05-23T14:12:34.639Z"
   },
   {
    "duration": 38,
    "start_time": "2022-05-23T14:12:34.675Z"
   },
   {
    "duration": 13,
    "start_time": "2022-05-23T14:12:34.715Z"
   },
   {
    "duration": 153,
    "start_time": "2022-05-23T14:12:34.730Z"
   },
   {
    "duration": 8,
    "start_time": "2022-05-23T14:12:34.886Z"
   },
   {
    "duration": 126,
    "start_time": "2022-05-23T14:12:34.896Z"
   },
   {
    "duration": 12,
    "start_time": "2022-05-23T14:12:35.025Z"
   },
   {
    "duration": 53,
    "start_time": "2022-05-23T14:12:35.040Z"
   },
   {
    "duration": 77,
    "start_time": "2022-05-23T14:12:35.096Z"
   },
   {
    "duration": 28,
    "start_time": "2022-05-23T14:12:35.176Z"
   },
   {
    "duration": 116,
    "start_time": "2022-05-23T14:12:35.206Z"
   },
   {
    "duration": 21,
    "start_time": "2022-05-23T14:12:35.325Z"
   },
   {
    "duration": 77,
    "start_time": "2022-05-23T14:12:35.348Z"
   },
   {
    "duration": 18,
    "start_time": "2022-05-23T14:12:35.427Z"
   },
   {
    "duration": 20,
    "start_time": "2022-05-23T14:12:35.466Z"
   },
   {
    "duration": 19,
    "start_time": "2022-05-23T14:12:35.488Z"
   },
   {
    "duration": 11,
    "start_time": "2022-05-23T14:12:35.509Z"
   },
   {
    "duration": 22,
    "start_time": "2022-05-23T14:12:35.522Z"
   },
   {
    "duration": 32,
    "start_time": "2022-05-23T14:12:35.546Z"
   },
   {
    "duration": 156,
    "start_time": "2022-05-23T14:12:35.582Z"
   },
   {
    "duration": 60,
    "start_time": "2022-05-23T14:12:35.740Z"
   },
   {
    "duration": 47,
    "start_time": "2022-05-23T14:12:35.802Z"
   },
   {
    "duration": 157,
    "start_time": "2022-05-23T14:12:35.852Z"
   },
   {
    "duration": 0,
    "start_time": "2022-05-23T14:12:36.011Z"
   },
   {
    "duration": 0,
    "start_time": "2022-05-23T14:12:36.012Z"
   },
   {
    "duration": 0,
    "start_time": "2022-05-23T14:12:36.013Z"
   },
   {
    "duration": 0,
    "start_time": "2022-05-23T14:12:36.014Z"
   },
   {
    "duration": 0,
    "start_time": "2022-05-23T14:12:36.015Z"
   },
   {
    "duration": 0,
    "start_time": "2022-05-23T14:12:36.016Z"
   },
   {
    "duration": 0,
    "start_time": "2022-05-23T14:12:36.018Z"
   },
   {
    "duration": 0,
    "start_time": "2022-05-23T14:12:36.020Z"
   },
   {
    "duration": 0,
    "start_time": "2022-05-23T14:12:36.022Z"
   },
   {
    "duration": 0,
    "start_time": "2022-05-23T14:12:36.023Z"
   },
   {
    "duration": 0,
    "start_time": "2022-05-23T14:12:36.025Z"
   },
   {
    "duration": 52,
    "start_time": "2022-05-23T14:14:00.421Z"
   },
   {
    "duration": 213,
    "start_time": "2022-05-23T14:16:36.777Z"
   },
   {
    "duration": 17,
    "start_time": "2022-05-23T14:16:47.554Z"
   },
   {
    "duration": 127,
    "start_time": "2022-05-23T14:16:51.824Z"
   },
   {
    "duration": 53,
    "start_time": "2022-05-23T14:17:04.611Z"
   },
   {
    "duration": 4,
    "start_time": "2022-05-23T14:17:48.546Z"
   },
   {
    "duration": 18,
    "start_time": "2022-05-23T14:17:59.763Z"
   },
   {
    "duration": 924,
    "start_time": "2022-05-23T14:18:51.766Z"
   },
   {
    "duration": 444,
    "start_time": "2022-05-23T14:18:52.693Z"
   },
   {
    "duration": 29,
    "start_time": "2022-05-23T14:18:53.139Z"
   },
   {
    "duration": 22,
    "start_time": "2022-05-23T14:18:53.171Z"
   },
   {
    "duration": 19,
    "start_time": "2022-05-23T14:18:53.195Z"
   },
   {
    "duration": 11,
    "start_time": "2022-05-23T14:18:53.216Z"
   },
   {
    "duration": 12,
    "start_time": "2022-05-23T14:18:53.264Z"
   },
   {
    "duration": 5,
    "start_time": "2022-05-23T14:18:53.278Z"
   },
   {
    "duration": 155,
    "start_time": "2022-05-23T14:18:53.284Z"
   },
   {
    "duration": 8,
    "start_time": "2022-05-23T14:18:53.442Z"
   },
   {
    "duration": 118,
    "start_time": "2022-05-23T14:18:53.465Z"
   },
   {
    "duration": 10,
    "start_time": "2022-05-23T14:18:53.585Z"
   },
   {
    "duration": 44,
    "start_time": "2022-05-23T14:18:53.597Z"
   },
   {
    "duration": 72,
    "start_time": "2022-05-23T14:18:53.643Z"
   },
   {
    "duration": 23,
    "start_time": "2022-05-23T14:18:53.718Z"
   },
   {
    "duration": 87,
    "start_time": "2022-05-23T14:18:53.764Z"
   },
   {
    "duration": 24,
    "start_time": "2022-05-23T14:18:53.865Z"
   },
   {
    "duration": 87,
    "start_time": "2022-05-23T14:18:53.894Z"
   },
   {
    "duration": 26,
    "start_time": "2022-05-23T14:18:53.983Z"
   },
   {
    "duration": 11,
    "start_time": "2022-05-23T14:18:54.011Z"
   },
   {
    "duration": 45,
    "start_time": "2022-05-23T14:18:54.024Z"
   },
   {
    "duration": 6,
    "start_time": "2022-05-23T14:18:54.071Z"
   },
   {
    "duration": 49,
    "start_time": "2022-05-23T14:18:54.079Z"
   },
   {
    "duration": 7,
    "start_time": "2022-05-23T14:18:54.130Z"
   },
   {
    "duration": 125,
    "start_time": "2022-05-23T14:18:54.139Z"
   },
   {
    "duration": 47,
    "start_time": "2022-05-23T14:18:54.266Z"
   },
   {
    "duration": 72,
    "start_time": "2022-05-23T14:18:54.315Z"
   },
   {
    "duration": 17,
    "start_time": "2022-05-23T14:18:54.391Z"
   },
   {
    "duration": 3,
    "start_time": "2022-05-23T14:18:54.410Z"
   },
   {
    "duration": 71,
    "start_time": "2022-05-23T14:18:54.416Z"
   },
   {
    "duration": 152,
    "start_time": "2022-05-23T14:18:54.489Z"
   },
   {
    "duration": 0,
    "start_time": "2022-05-23T14:18:54.644Z"
   },
   {
    "duration": 0,
    "start_time": "2022-05-23T14:18:54.646Z"
   },
   {
    "duration": 0,
    "start_time": "2022-05-23T14:18:54.647Z"
   },
   {
    "duration": 0,
    "start_time": "2022-05-23T14:18:54.648Z"
   },
   {
    "duration": 0,
    "start_time": "2022-05-23T14:18:54.650Z"
   },
   {
    "duration": 0,
    "start_time": "2022-05-23T14:18:54.651Z"
   },
   {
    "duration": 0,
    "start_time": "2022-05-23T14:18:54.665Z"
   },
   {
    "duration": 0,
    "start_time": "2022-05-23T14:18:54.667Z"
   },
   {
    "duration": 0,
    "start_time": "2022-05-23T14:18:54.669Z"
   },
   {
    "duration": 0,
    "start_time": "2022-05-23T14:18:54.670Z"
   },
   {
    "duration": 466,
    "start_time": "2022-05-23T14:34:54.894Z"
   },
   {
    "duration": 943,
    "start_time": "2022-05-23T14:35:01.065Z"
   },
   {
    "duration": 447,
    "start_time": "2022-05-23T14:35:02.011Z"
   },
   {
    "duration": 29,
    "start_time": "2022-05-23T14:35:02.460Z"
   },
   {
    "duration": 24,
    "start_time": "2022-05-23T14:35:02.491Z"
   },
   {
    "duration": 26,
    "start_time": "2022-05-23T14:35:02.516Z"
   },
   {
    "duration": 33,
    "start_time": "2022-05-23T14:35:02.544Z"
   },
   {
    "duration": 29,
    "start_time": "2022-05-23T14:35:02.579Z"
   },
   {
    "duration": 16,
    "start_time": "2022-05-23T14:35:02.609Z"
   },
   {
    "duration": 145,
    "start_time": "2022-05-23T14:35:02.627Z"
   },
   {
    "duration": 8,
    "start_time": "2022-05-23T14:35:02.776Z"
   },
   {
    "duration": 104,
    "start_time": "2022-05-23T14:35:02.785Z"
   },
   {
    "duration": 11,
    "start_time": "2022-05-23T14:35:02.891Z"
   },
   {
    "duration": 36,
    "start_time": "2022-05-23T14:35:02.903Z"
   },
   {
    "duration": 71,
    "start_time": "2022-05-23T14:35:02.940Z"
   },
   {
    "duration": 22,
    "start_time": "2022-05-23T14:35:03.013Z"
   },
   {
    "duration": 95,
    "start_time": "2022-05-23T14:35:03.038Z"
   },
   {
    "duration": 41,
    "start_time": "2022-05-23T14:35:03.135Z"
   },
   {
    "duration": 52,
    "start_time": "2022-05-23T14:35:03.178Z"
   },
   {
    "duration": 42,
    "start_time": "2022-05-23T14:35:03.233Z"
   },
   {
    "duration": 14,
    "start_time": "2022-05-23T14:35:03.276Z"
   },
   {
    "duration": 30,
    "start_time": "2022-05-23T14:35:03.292Z"
   },
   {
    "duration": 8,
    "start_time": "2022-05-23T14:35:03.325Z"
   },
   {
    "duration": 33,
    "start_time": "2022-05-23T14:35:03.335Z"
   },
   {
    "duration": 6,
    "start_time": "2022-05-23T14:35:03.370Z"
   },
   {
    "duration": 154,
    "start_time": "2022-05-23T14:35:03.379Z"
   },
   {
    "duration": 55,
    "start_time": "2022-05-23T14:35:03.535Z"
   },
   {
    "duration": 52,
    "start_time": "2022-05-23T14:35:03.592Z"
   },
   {
    "duration": 21,
    "start_time": "2022-05-23T14:35:03.664Z"
   },
   {
    "duration": 3,
    "start_time": "2022-05-23T14:35:03.687Z"
   },
   {
    "duration": 44,
    "start_time": "2022-05-23T14:35:03.692Z"
   },
   {
    "duration": 162,
    "start_time": "2022-05-23T14:35:03.738Z"
   },
   {
    "duration": 0,
    "start_time": "2022-05-23T14:35:03.902Z"
   },
   {
    "duration": 0,
    "start_time": "2022-05-23T14:35:03.904Z"
   },
   {
    "duration": 0,
    "start_time": "2022-05-23T14:35:03.905Z"
   },
   {
    "duration": 0,
    "start_time": "2022-05-23T14:35:03.907Z"
   },
   {
    "duration": 0,
    "start_time": "2022-05-23T14:35:03.908Z"
   },
   {
    "duration": 0,
    "start_time": "2022-05-23T14:35:03.910Z"
   },
   {
    "duration": 0,
    "start_time": "2022-05-23T14:35:03.912Z"
   },
   {
    "duration": 0,
    "start_time": "2022-05-23T14:35:03.913Z"
   },
   {
    "duration": 0,
    "start_time": "2022-05-23T14:35:03.915Z"
   },
   {
    "duration": 0,
    "start_time": "2022-05-23T14:35:03.916Z"
   },
   {
    "duration": 871,
    "start_time": "2022-05-23T14:36:18.004Z"
   },
   {
    "duration": 504,
    "start_time": "2022-05-23T14:36:18.877Z"
   },
   {
    "duration": 28,
    "start_time": "2022-05-23T14:36:19.382Z"
   },
   {
    "duration": 22,
    "start_time": "2022-05-23T14:36:19.412Z"
   },
   {
    "duration": 35,
    "start_time": "2022-05-23T14:36:19.436Z"
   },
   {
    "duration": 12,
    "start_time": "2022-05-23T14:36:19.473Z"
   },
   {
    "duration": 12,
    "start_time": "2022-05-23T14:36:19.487Z"
   },
   {
    "duration": 4,
    "start_time": "2022-05-23T14:36:19.501Z"
   },
   {
    "duration": 161,
    "start_time": "2022-05-23T14:36:19.506Z"
   },
   {
    "duration": 7,
    "start_time": "2022-05-23T14:36:19.670Z"
   },
   {
    "duration": 103,
    "start_time": "2022-05-23T14:36:19.679Z"
   },
   {
    "duration": 10,
    "start_time": "2022-05-23T14:36:19.783Z"
   },
   {
    "duration": 29,
    "start_time": "2022-05-23T14:36:19.794Z"
   },
   {
    "duration": 75,
    "start_time": "2022-05-23T14:36:19.825Z"
   },
   {
    "duration": 16,
    "start_time": "2022-05-23T14:36:19.902Z"
   },
   {
    "duration": 79,
    "start_time": "2022-05-23T14:36:19.920Z"
   },
   {
    "duration": 21,
    "start_time": "2022-05-23T14:36:20.001Z"
   },
   {
    "duration": 74,
    "start_time": "2022-05-23T14:36:20.024Z"
   },
   {
    "duration": 17,
    "start_time": "2022-05-23T14:36:20.100Z"
   },
   {
    "duration": 12,
    "start_time": "2022-05-23T14:36:20.119Z"
   },
   {
    "duration": 44,
    "start_time": "2022-05-23T14:36:20.132Z"
   },
   {
    "duration": 7,
    "start_time": "2022-05-23T14:36:20.178Z"
   },
   {
    "duration": 18,
    "start_time": "2022-05-23T14:36:20.186Z"
   },
   {
    "duration": 9,
    "start_time": "2022-05-23T14:36:20.206Z"
   },
   {
    "duration": 136,
    "start_time": "2022-05-23T14:36:20.217Z"
   },
   {
    "duration": 48,
    "start_time": "2022-05-23T14:36:20.365Z"
   },
   {
    "duration": 62,
    "start_time": "2022-05-23T14:36:20.415Z"
   },
   {
    "duration": 17,
    "start_time": "2022-05-23T14:36:20.480Z"
   },
   {
    "duration": 3,
    "start_time": "2022-05-23T14:36:20.499Z"
   },
   {
    "duration": 33,
    "start_time": "2022-05-23T14:36:20.504Z"
   },
   {
    "duration": 243,
    "start_time": "2022-05-23T14:36:20.564Z"
   },
   {
    "duration": 0,
    "start_time": "2022-05-23T14:36:20.809Z"
   },
   {
    "duration": 0,
    "start_time": "2022-05-23T14:36:20.811Z"
   },
   {
    "duration": 0,
    "start_time": "2022-05-23T14:36:20.813Z"
   },
   {
    "duration": 0,
    "start_time": "2022-05-23T14:36:20.814Z"
   },
   {
    "duration": 0,
    "start_time": "2022-05-23T14:36:20.816Z"
   },
   {
    "duration": 0,
    "start_time": "2022-05-23T14:36:20.817Z"
   },
   {
    "duration": 0,
    "start_time": "2022-05-23T14:36:20.819Z"
   },
   {
    "duration": 0,
    "start_time": "2022-05-23T14:36:20.820Z"
   },
   {
    "duration": 0,
    "start_time": "2022-05-23T14:36:20.822Z"
   },
   {
    "duration": 0,
    "start_time": "2022-05-23T14:36:20.823Z"
   },
   {
    "duration": 926,
    "start_time": "2022-05-23T14:36:39.730Z"
   },
   {
    "duration": 410,
    "start_time": "2022-05-23T14:36:40.658Z"
   },
   {
    "duration": 29,
    "start_time": "2022-05-23T14:36:41.070Z"
   },
   {
    "duration": 25,
    "start_time": "2022-05-23T14:36:41.102Z"
   },
   {
    "duration": 38,
    "start_time": "2022-05-23T14:36:41.129Z"
   },
   {
    "duration": 15,
    "start_time": "2022-05-23T14:36:41.169Z"
   },
   {
    "duration": 15,
    "start_time": "2022-05-23T14:36:41.187Z"
   },
   {
    "duration": 11,
    "start_time": "2022-05-23T14:36:41.204Z"
   },
   {
    "duration": 154,
    "start_time": "2022-05-23T14:36:41.216Z"
   },
   {
    "duration": 7,
    "start_time": "2022-05-23T14:36:41.373Z"
   },
   {
    "duration": 103,
    "start_time": "2022-05-23T14:36:41.382Z"
   },
   {
    "duration": 8,
    "start_time": "2022-05-23T14:36:41.487Z"
   },
   {
    "duration": 41,
    "start_time": "2022-05-23T14:36:41.497Z"
   },
   {
    "duration": 66,
    "start_time": "2022-05-23T14:36:41.540Z"
   },
   {
    "duration": 25,
    "start_time": "2022-05-23T14:36:41.609Z"
   },
   {
    "duration": 79,
    "start_time": "2022-05-23T14:36:41.636Z"
   },
   {
    "duration": 20,
    "start_time": "2022-05-23T14:36:41.717Z"
   },
   {
    "duration": 70,
    "start_time": "2022-05-23T14:36:41.739Z"
   },
   {
    "duration": 17,
    "start_time": "2022-05-23T14:36:41.810Z"
   },
   {
    "duration": 10,
    "start_time": "2022-05-23T14:36:41.829Z"
   },
   {
    "duration": 12,
    "start_time": "2022-05-23T14:36:41.865Z"
   },
   {
    "duration": 6,
    "start_time": "2022-05-23T14:36:41.879Z"
   },
   {
    "duration": 16,
    "start_time": "2022-05-23T14:36:41.887Z"
   },
   {
    "duration": 5,
    "start_time": "2022-05-23T14:36:41.905Z"
   },
   {
    "duration": 147,
    "start_time": "2022-05-23T14:36:41.912Z"
   },
   {
    "duration": 47,
    "start_time": "2022-05-23T14:36:42.061Z"
   },
   {
    "duration": 70,
    "start_time": "2022-05-23T14:36:42.110Z"
   },
   {
    "duration": 16,
    "start_time": "2022-05-23T14:36:42.183Z"
   },
   {
    "duration": 3,
    "start_time": "2022-05-23T14:36:42.201Z"
   },
   {
    "duration": 31,
    "start_time": "2022-05-23T14:36:42.205Z"
   },
   {
    "duration": 146,
    "start_time": "2022-05-23T14:36:42.237Z"
   },
   {
    "duration": 12,
    "start_time": "2022-05-23T14:36:42.385Z"
   },
   {
    "duration": 134,
    "start_time": "2022-05-23T14:36:42.398Z"
   },
   {
    "duration": 0,
    "start_time": "2022-05-23T14:36:42.534Z"
   },
   {
    "duration": 0,
    "start_time": "2022-05-23T14:36:42.535Z"
   },
   {
    "duration": 0,
    "start_time": "2022-05-23T14:36:42.536Z"
   },
   {
    "duration": 0,
    "start_time": "2022-05-23T14:36:42.537Z"
   },
   {
    "duration": 0,
    "start_time": "2022-05-23T14:36:42.537Z"
   },
   {
    "duration": 0,
    "start_time": "2022-05-23T14:36:42.538Z"
   },
   {
    "duration": 0,
    "start_time": "2022-05-23T14:36:42.539Z"
   },
   {
    "duration": 0,
    "start_time": "2022-05-23T14:36:42.540Z"
   },
   {
    "duration": 893,
    "start_time": "2022-05-23T14:37:11.898Z"
   },
   {
    "duration": 461,
    "start_time": "2022-05-23T14:37:12.794Z"
   },
   {
    "duration": 48,
    "start_time": "2022-05-23T14:37:13.257Z"
   },
   {
    "duration": 22,
    "start_time": "2022-05-23T14:37:13.308Z"
   },
   {
    "duration": 37,
    "start_time": "2022-05-23T14:37:13.332Z"
   },
   {
    "duration": 17,
    "start_time": "2022-05-23T14:37:13.374Z"
   },
   {
    "duration": 14,
    "start_time": "2022-05-23T14:37:13.392Z"
   },
   {
    "duration": 8,
    "start_time": "2022-05-23T14:37:13.408Z"
   },
   {
    "duration": 165,
    "start_time": "2022-05-23T14:37:13.418Z"
   },
   {
    "duration": 9,
    "start_time": "2022-05-23T14:37:13.587Z"
   },
   {
    "duration": 164,
    "start_time": "2022-05-23T14:37:13.598Z"
   },
   {
    "duration": 13,
    "start_time": "2022-05-23T14:37:13.765Z"
   },
   {
    "duration": 45,
    "start_time": "2022-05-23T14:37:13.780Z"
   },
   {
    "duration": 78,
    "start_time": "2022-05-23T14:37:13.827Z"
   },
   {
    "duration": 16,
    "start_time": "2022-05-23T14:37:13.907Z"
   },
   {
    "duration": 82,
    "start_time": "2022-05-23T14:37:13.925Z"
   },
   {
    "duration": 21,
    "start_time": "2022-05-23T14:37:14.008Z"
   },
   {
    "duration": 74,
    "start_time": "2022-05-23T14:37:14.031Z"
   },
   {
    "duration": 18,
    "start_time": "2022-05-23T14:37:14.107Z"
   },
   {
    "duration": 12,
    "start_time": "2022-05-23T14:37:14.126Z"
   },
   {
    "duration": 16,
    "start_time": "2022-05-23T14:37:14.165Z"
   },
   {
    "duration": 10,
    "start_time": "2022-05-23T14:37:14.183Z"
   },
   {
    "duration": 21,
    "start_time": "2022-05-23T14:37:14.195Z"
   },
   {
    "duration": 5,
    "start_time": "2022-05-23T14:37:14.218Z"
   },
   {
    "duration": 176,
    "start_time": "2022-05-23T14:37:14.224Z"
   },
   {
    "duration": 74,
    "start_time": "2022-05-23T14:37:14.402Z"
   },
   {
    "duration": 62,
    "start_time": "2022-05-23T14:37:14.477Z"
   },
   {
    "duration": 30,
    "start_time": "2022-05-23T14:37:14.543Z"
   },
   {
    "duration": 5,
    "start_time": "2022-05-23T14:37:14.576Z"
   },
   {
    "duration": 42,
    "start_time": "2022-05-23T14:37:14.583Z"
   },
   {
    "duration": 149,
    "start_time": "2022-05-23T14:37:14.627Z"
   },
   {
    "duration": 12,
    "start_time": "2022-05-23T14:37:14.781Z"
   },
   {
    "duration": 14,
    "start_time": "2022-05-23T14:37:14.796Z"
   },
   {
    "duration": 712,
    "start_time": "2022-05-23T14:37:14.812Z"
   },
   {
    "duration": 470,
    "start_time": "2022-05-23T14:37:15.526Z"
   },
   {
    "duration": 9,
    "start_time": "2022-05-23T14:37:15.998Z"
   },
   {
    "duration": 445,
    "start_time": "2022-05-23T14:37:16.009Z"
   },
   {
    "duration": 22,
    "start_time": "2022-05-23T14:37:16.456Z"
   },
   {
    "duration": 16,
    "start_time": "2022-05-23T14:37:16.479Z"
   },
   {
    "duration": 173,
    "start_time": "2022-05-23T14:37:16.497Z"
   },
   {
    "duration": 0,
    "start_time": "2022-05-23T14:37:16.672Z"
   },
   {
    "duration": 16,
    "start_time": "2022-05-23T14:38:03.845Z"
   },
   {
    "duration": 14,
    "start_time": "2022-05-23T14:38:24.267Z"
   },
   {
    "duration": 17,
    "start_time": "2022-05-23T14:38:32.285Z"
   },
   {
    "duration": 813,
    "start_time": "2022-05-23T18:24:45.649Z"
   },
   {
    "duration": 440,
    "start_time": "2022-05-23T18:24:46.465Z"
   },
   {
    "duration": 27,
    "start_time": "2022-05-23T18:24:46.907Z"
   },
   {
    "duration": 46,
    "start_time": "2022-05-23T18:24:46.936Z"
   },
   {
    "duration": 29,
    "start_time": "2022-05-23T18:24:46.985Z"
   },
   {
    "duration": 43,
    "start_time": "2022-05-23T18:24:47.016Z"
   },
   {
    "duration": 36,
    "start_time": "2022-05-23T18:24:47.061Z"
   },
   {
    "duration": 15,
    "start_time": "2022-05-23T18:24:47.099Z"
   },
   {
    "duration": 140,
    "start_time": "2022-05-23T18:24:47.115Z"
   },
   {
    "duration": 7,
    "start_time": "2022-05-23T18:24:47.257Z"
   },
   {
    "duration": 100,
    "start_time": "2022-05-23T18:24:47.265Z"
   },
   {
    "duration": 8,
    "start_time": "2022-05-23T18:24:47.366Z"
   },
   {
    "duration": 35,
    "start_time": "2022-05-23T18:24:47.376Z"
   },
   {
    "duration": 57,
    "start_time": "2022-05-23T18:24:47.414Z"
   },
   {
    "duration": 16,
    "start_time": "2022-05-23T18:24:47.473Z"
   },
   {
    "duration": 70,
    "start_time": "2022-05-23T18:24:47.491Z"
   },
   {
    "duration": 18,
    "start_time": "2022-05-23T18:24:47.563Z"
   },
   {
    "duration": 59,
    "start_time": "2022-05-23T18:24:47.583Z"
   },
   {
    "duration": 16,
    "start_time": "2022-05-23T18:24:47.643Z"
   },
   {
    "duration": 8,
    "start_time": "2022-05-23T18:24:47.661Z"
   },
   {
    "duration": 12,
    "start_time": "2022-05-23T18:24:47.671Z"
   },
   {
    "duration": 12,
    "start_time": "2022-05-23T18:24:47.685Z"
   },
   {
    "duration": 38,
    "start_time": "2022-05-23T18:24:47.698Z"
   },
   {
    "duration": 15,
    "start_time": "2022-05-23T18:24:47.738Z"
   },
   {
    "duration": 106,
    "start_time": "2022-05-23T18:24:47.755Z"
   },
   {
    "duration": 39,
    "start_time": "2022-05-23T18:24:47.863Z"
   },
   {
    "duration": 56,
    "start_time": "2022-05-23T18:24:47.904Z"
   },
   {
    "duration": 15,
    "start_time": "2022-05-23T18:24:47.961Z"
   },
   {
    "duration": 3,
    "start_time": "2022-05-23T18:24:47.977Z"
   },
   {
    "duration": 7,
    "start_time": "2022-05-23T18:24:47.981Z"
   },
   {
    "duration": 57,
    "start_time": "2022-05-23T18:24:47.989Z"
   },
   {
    "duration": 105,
    "start_time": "2022-05-23T18:24:48.048Z"
   },
   {
    "duration": 11,
    "start_time": "2022-05-23T18:24:48.156Z"
   },
   {
    "duration": 13,
    "start_time": "2022-05-23T18:24:48.169Z"
   },
   {
    "duration": 542,
    "start_time": "2022-05-23T18:24:48.184Z"
   },
   {
    "duration": 341,
    "start_time": "2022-05-23T18:24:48.728Z"
   },
   {
    "duration": 6,
    "start_time": "2022-05-23T18:24:49.070Z"
   },
   {
    "duration": 312,
    "start_time": "2022-05-23T18:24:49.077Z"
   },
   {
    "duration": 6,
    "start_time": "2022-05-23T18:24:49.391Z"
   },
   {
    "duration": 6,
    "start_time": "2022-05-23T18:24:49.398Z"
   },
   {
    "duration": 139,
    "start_time": "2022-05-23T18:24:49.407Z"
   },
   {
    "duration": 0,
    "start_time": "2022-05-23T18:24:49.547Z"
   },
   {
    "duration": 784,
    "start_time": "2022-05-23T18:25:05.266Z"
   },
   {
    "duration": 504,
    "start_time": "2022-05-23T18:25:06.052Z"
   },
   {
    "duration": 31,
    "start_time": "2022-05-23T18:25:06.558Z"
   },
   {
    "duration": 28,
    "start_time": "2022-05-23T18:25:06.591Z"
   },
   {
    "duration": 28,
    "start_time": "2022-05-23T18:25:06.622Z"
   },
   {
    "duration": 11,
    "start_time": "2022-05-23T18:25:06.651Z"
   },
   {
    "duration": 11,
    "start_time": "2022-05-23T18:25:06.664Z"
   },
   {
    "duration": 13,
    "start_time": "2022-05-23T18:25:06.677Z"
   },
   {
    "duration": 146,
    "start_time": "2022-05-23T18:25:06.691Z"
   },
   {
    "duration": 8,
    "start_time": "2022-05-23T18:25:06.843Z"
   },
   {
    "duration": 89,
    "start_time": "2022-05-23T18:25:06.852Z"
   },
   {
    "duration": 10,
    "start_time": "2022-05-23T18:25:06.943Z"
   },
   {
    "duration": 29,
    "start_time": "2022-05-23T18:25:06.955Z"
   },
   {
    "duration": 64,
    "start_time": "2022-05-23T18:25:06.988Z"
   },
   {
    "duration": 16,
    "start_time": "2022-05-23T18:25:07.054Z"
   },
   {
    "duration": 62,
    "start_time": "2022-05-23T18:25:07.072Z"
   },
   {
    "duration": 21,
    "start_time": "2022-05-23T18:25:07.135Z"
   },
   {
    "duration": 41,
    "start_time": "2022-05-23T18:25:07.158Z"
   },
   {
    "duration": 41,
    "start_time": "2022-05-23T18:25:07.201Z"
   },
   {
    "duration": 14,
    "start_time": "2022-05-23T18:25:07.246Z"
   },
   {
    "duration": 19,
    "start_time": "2022-05-23T18:25:07.261Z"
   },
   {
    "duration": 34,
    "start_time": "2022-05-23T18:25:07.282Z"
   },
   {
    "duration": 21,
    "start_time": "2022-05-23T18:25:07.317Z"
   },
   {
    "duration": 14,
    "start_time": "2022-05-23T18:25:07.339Z"
   },
   {
    "duration": 113,
    "start_time": "2022-05-23T18:25:07.355Z"
   },
   {
    "duration": 41,
    "start_time": "2022-05-23T18:25:07.470Z"
   },
   {
    "duration": 53,
    "start_time": "2022-05-23T18:25:07.512Z"
   },
   {
    "duration": 15,
    "start_time": "2022-05-23T18:25:07.567Z"
   },
   {
    "duration": 5,
    "start_time": "2022-05-23T18:25:07.584Z"
   },
   {
    "duration": 5,
    "start_time": "2022-05-23T18:25:07.590Z"
   },
   {
    "duration": 57,
    "start_time": "2022-05-23T18:25:07.596Z"
   },
   {
    "duration": 109,
    "start_time": "2022-05-23T18:25:07.655Z"
   },
   {
    "duration": 13,
    "start_time": "2022-05-23T18:25:07.766Z"
   },
   {
    "duration": 17,
    "start_time": "2022-05-23T18:25:07.780Z"
   },
   {
    "duration": 587,
    "start_time": "2022-05-23T18:25:07.799Z"
   },
   {
    "duration": 355,
    "start_time": "2022-05-23T18:25:08.388Z"
   },
   {
    "duration": 5,
    "start_time": "2022-05-23T18:25:08.745Z"
   },
   {
    "duration": 312,
    "start_time": "2022-05-23T18:25:08.752Z"
   },
   {
    "duration": 6,
    "start_time": "2022-05-23T18:25:09.066Z"
   },
   {
    "duration": 14,
    "start_time": "2022-05-23T18:25:09.073Z"
   },
   {
    "duration": 148,
    "start_time": "2022-05-23T18:25:09.091Z"
   },
   {
    "duration": 0,
    "start_time": "2022-05-23T18:25:09.240Z"
   },
   {
    "duration": 14,
    "start_time": "2022-05-23T18:26:44.745Z"
   },
   {
    "duration": 15,
    "start_time": "2022-05-23T18:27:16.254Z"
   },
   {
    "duration": 6,
    "start_time": "2022-05-23T18:28:56.718Z"
   },
   {
    "duration": 27,
    "start_time": "2022-05-23T18:29:50.496Z"
   },
   {
    "duration": 25,
    "start_time": "2022-05-23T18:30:11.975Z"
   },
   {
    "duration": 27,
    "start_time": "2022-05-23T18:30:20.287Z"
   },
   {
    "duration": 19,
    "start_time": "2022-05-23T18:30:33.854Z"
   },
   {
    "duration": 6,
    "start_time": "2022-05-23T18:30:39.664Z"
   },
   {
    "duration": 5,
    "start_time": "2022-05-24T05:59:27.793Z"
   },
   {
    "duration": 123,
    "start_time": "2022-05-24T05:59:35.097Z"
   },
   {
    "duration": 532,
    "start_time": "2022-05-24T05:59:42.522Z"
   },
   {
    "duration": 476,
    "start_time": "2022-05-24T06:00:09.613Z"
   },
   {
    "duration": 542,
    "start_time": "2022-05-24T06:00:58.874Z"
   },
   {
    "duration": 27,
    "start_time": "2022-05-24T06:10:05.157Z"
   },
   {
    "duration": 837,
    "start_time": "2022-05-24T06:10:09.694Z"
   },
   {
    "duration": 447,
    "start_time": "2022-05-24T06:10:10.533Z"
   },
   {
    "duration": 29,
    "start_time": "2022-05-24T06:10:10.983Z"
   },
   {
    "duration": 22,
    "start_time": "2022-05-24T06:10:11.014Z"
   },
   {
    "duration": 25,
    "start_time": "2022-05-24T06:10:11.038Z"
   },
   {
    "duration": 12,
    "start_time": "2022-05-24T06:10:11.064Z"
   },
   {
    "duration": 14,
    "start_time": "2022-05-24T06:10:11.078Z"
   },
   {
    "duration": 6,
    "start_time": "2022-05-24T06:10:11.094Z"
   },
   {
    "duration": 145,
    "start_time": "2022-05-24T06:10:11.101Z"
   },
   {
    "duration": 9,
    "start_time": "2022-05-24T06:10:11.248Z"
   },
   {
    "duration": 97,
    "start_time": "2022-05-24T06:10:11.259Z"
   },
   {
    "duration": 8,
    "start_time": "2022-05-24T06:10:11.358Z"
   },
   {
    "duration": 29,
    "start_time": "2022-05-24T06:10:11.368Z"
   },
   {
    "duration": 65,
    "start_time": "2022-05-24T06:10:11.398Z"
   },
   {
    "duration": 17,
    "start_time": "2022-05-24T06:10:11.465Z"
   },
   {
    "duration": 72,
    "start_time": "2022-05-24T06:10:11.483Z"
   },
   {
    "duration": 19,
    "start_time": "2022-05-24T06:10:11.557Z"
   },
   {
    "duration": 65,
    "start_time": "2022-05-24T06:10:11.578Z"
   },
   {
    "duration": 16,
    "start_time": "2022-05-24T06:10:11.645Z"
   },
   {
    "duration": 9,
    "start_time": "2022-05-24T06:10:11.662Z"
   },
   {
    "duration": 11,
    "start_time": "2022-05-24T06:10:11.673Z"
   },
   {
    "duration": 38,
    "start_time": "2022-05-24T06:10:11.686Z"
   },
   {
    "duration": 15,
    "start_time": "2022-05-24T06:10:11.726Z"
   },
   {
    "duration": 4,
    "start_time": "2022-05-24T06:10:11.743Z"
   },
   {
    "duration": 115,
    "start_time": "2022-05-24T06:10:11.749Z"
   },
   {
    "duration": 43,
    "start_time": "2022-05-24T06:10:11.866Z"
   },
   {
    "duration": 45,
    "start_time": "2022-05-24T06:10:11.923Z"
   },
   {
    "duration": 30,
    "start_time": "2022-05-24T06:10:11.973Z"
   },
   {
    "duration": 3,
    "start_time": "2022-05-24T06:10:12.022Z"
   },
   {
    "duration": 17,
    "start_time": "2022-05-24T06:10:12.027Z"
   },
   {
    "duration": 146,
    "start_time": "2022-05-24T06:10:12.046Z"
   },
   {
    "duration": 5237,
    "start_time": "2022-05-24T06:10:12.194Z"
   },
   {
    "duration": 17,
    "start_time": "2022-05-24T06:10:17.433Z"
   },
   {
    "duration": 73,
    "start_time": "2022-05-24T06:10:17.451Z"
   },
   {
    "duration": 897,
    "start_time": "2022-05-24T06:10:17.526Z"
   },
   {
    "duration": 492,
    "start_time": "2022-05-24T06:10:18.425Z"
   },
   {
    "duration": 8,
    "start_time": "2022-05-24T06:10:18.919Z"
   },
   {
    "duration": 580,
    "start_time": "2022-05-24T06:10:18.929Z"
   },
   {
    "duration": 26,
    "start_time": "2022-05-24T06:10:19.510Z"
   },
   {
    "duration": 137,
    "start_time": "2022-05-24T06:10:19.538Z"
   },
   {
    "duration": 0,
    "start_time": "2022-05-24T06:10:19.677Z"
   },
   {
    "duration": 0,
    "start_time": "2022-05-24T06:10:19.678Z"
   },
   {
    "duration": 0,
    "start_time": "2022-05-24T06:10:19.680Z"
   },
   {
    "duration": 761,
    "start_time": "2022-05-24T06:10:40.673Z"
   },
   {
    "duration": 409,
    "start_time": "2022-05-24T06:10:41.437Z"
   },
   {
    "duration": 27,
    "start_time": "2022-05-24T06:10:41.847Z"
   },
   {
    "duration": 19,
    "start_time": "2022-05-24T06:10:41.876Z"
   },
   {
    "duration": 17,
    "start_time": "2022-05-24T06:10:41.896Z"
   },
   {
    "duration": 12,
    "start_time": "2022-05-24T06:10:41.915Z"
   },
   {
    "duration": 9,
    "start_time": "2022-05-24T06:10:41.929Z"
   },
   {
    "duration": 4,
    "start_time": "2022-05-24T06:10:41.940Z"
   },
   {
    "duration": 143,
    "start_time": "2022-05-24T06:10:41.946Z"
   },
   {
    "duration": 7,
    "start_time": "2022-05-24T06:10:42.091Z"
   },
   {
    "duration": 91,
    "start_time": "2022-05-24T06:10:42.100Z"
   },
   {
    "duration": 8,
    "start_time": "2022-05-24T06:10:42.193Z"
   },
   {
    "duration": 43,
    "start_time": "2022-05-24T06:10:42.202Z"
   },
   {
    "duration": 45,
    "start_time": "2022-05-24T06:10:42.246Z"
   },
   {
    "duration": 33,
    "start_time": "2022-05-24T06:10:42.293Z"
   },
   {
    "duration": 59,
    "start_time": "2022-05-24T06:10:42.328Z"
   },
   {
    "duration": 34,
    "start_time": "2022-05-24T06:10:42.389Z"
   },
   {
    "duration": 41,
    "start_time": "2022-05-24T06:10:42.424Z"
   },
   {
    "duration": 15,
    "start_time": "2022-05-24T06:10:42.467Z"
   },
   {
    "duration": 10,
    "start_time": "2022-05-24T06:10:42.484Z"
   },
   {
    "duration": 37,
    "start_time": "2022-05-24T06:10:42.495Z"
   },
   {
    "duration": 17,
    "start_time": "2022-05-24T06:10:42.534Z"
   },
   {
    "duration": 22,
    "start_time": "2022-05-24T06:10:42.553Z"
   },
   {
    "duration": 9,
    "start_time": "2022-05-24T06:10:42.577Z"
   },
   {
    "duration": 142,
    "start_time": "2022-05-24T06:10:42.589Z"
   },
   {
    "duration": 52,
    "start_time": "2022-05-24T06:10:42.732Z"
   },
   {
    "duration": 65,
    "start_time": "2022-05-24T06:10:42.786Z"
   },
   {
    "duration": 20,
    "start_time": "2022-05-24T06:10:42.854Z"
   },
   {
    "duration": 3,
    "start_time": "2022-05-24T06:10:42.875Z"
   },
   {
    "duration": 6,
    "start_time": "2022-05-24T06:10:42.879Z"
   },
   {
    "duration": 47,
    "start_time": "2022-05-24T06:10:42.887Z"
   },
   {
    "duration": 113,
    "start_time": "2022-05-24T06:10:42.936Z"
   },
   {
    "duration": 11,
    "start_time": "2022-05-24T06:10:43.051Z"
   },
   {
    "duration": 23,
    "start_time": "2022-05-24T06:10:43.064Z"
   },
   {
    "duration": 818,
    "start_time": "2022-05-24T06:10:43.089Z"
   },
   {
    "duration": 467,
    "start_time": "2022-05-24T06:10:43.908Z"
   },
   {
    "duration": 5,
    "start_time": "2022-05-24T06:10:44.377Z"
   },
   {
    "duration": 526,
    "start_time": "2022-05-24T06:10:44.384Z"
   },
   {
    "duration": 6,
    "start_time": "2022-05-24T06:10:44.911Z"
   },
   {
    "duration": 130,
    "start_time": "2022-05-24T06:10:44.922Z"
   },
   {
    "duration": 0,
    "start_time": "2022-05-24T06:10:45.053Z"
   },
   {
    "duration": 0,
    "start_time": "2022-05-24T06:10:45.054Z"
   },
   {
    "duration": 0,
    "start_time": "2022-05-24T06:10:45.055Z"
   },
   {
    "duration": 907,
    "start_time": "2022-05-24T06:12:00.519Z"
   },
   {
    "duration": 437,
    "start_time": "2022-05-24T06:12:01.427Z"
   },
   {
    "duration": 30,
    "start_time": "2022-05-24T06:12:01.866Z"
   },
   {
    "duration": 22,
    "start_time": "2022-05-24T06:12:01.899Z"
   },
   {
    "duration": 21,
    "start_time": "2022-05-24T06:12:01.922Z"
   },
   {
    "duration": 46,
    "start_time": "2022-05-24T06:12:01.945Z"
   },
   {
    "duration": 18,
    "start_time": "2022-05-24T06:12:01.993Z"
   },
   {
    "duration": 21,
    "start_time": "2022-05-24T06:12:02.013Z"
   },
   {
    "duration": 147,
    "start_time": "2022-05-24T06:12:02.036Z"
   },
   {
    "duration": 8,
    "start_time": "2022-05-24T06:12:02.187Z"
   },
   {
    "duration": 94,
    "start_time": "2022-05-24T06:12:02.197Z"
   },
   {
    "duration": 10,
    "start_time": "2022-05-24T06:12:02.293Z"
   },
   {
    "duration": 44,
    "start_time": "2022-05-24T06:12:02.305Z"
   },
   {
    "duration": 73,
    "start_time": "2022-05-24T06:12:02.351Z"
   },
   {
    "duration": 17,
    "start_time": "2022-05-24T06:12:02.426Z"
   },
   {
    "duration": 78,
    "start_time": "2022-05-24T06:12:02.445Z"
   },
   {
    "duration": 27,
    "start_time": "2022-05-24T06:12:02.525Z"
   },
   {
    "duration": 82,
    "start_time": "2022-05-24T06:12:02.555Z"
   },
   {
    "duration": 20,
    "start_time": "2022-05-24T06:12:02.639Z"
   },
   {
    "duration": 18,
    "start_time": "2022-05-24T06:12:02.662Z"
   },
   {
    "duration": 42,
    "start_time": "2022-05-24T06:12:02.682Z"
   },
   {
    "duration": 7,
    "start_time": "2022-05-24T06:12:02.726Z"
   },
   {
    "duration": 28,
    "start_time": "2022-05-24T06:12:02.735Z"
   },
   {
    "duration": 30,
    "start_time": "2022-05-24T06:12:02.765Z"
   },
   {
    "duration": 130,
    "start_time": "2022-05-24T06:12:02.797Z"
   },
   {
    "duration": 47,
    "start_time": "2022-05-24T06:12:02.928Z"
   },
   {
    "duration": 68,
    "start_time": "2022-05-24T06:12:02.976Z"
   },
   {
    "duration": 30,
    "start_time": "2022-05-24T06:12:03.047Z"
   },
   {
    "duration": 3,
    "start_time": "2022-05-24T06:12:03.078Z"
   },
   {
    "duration": 20,
    "start_time": "2022-05-24T06:12:03.082Z"
   },
   {
    "duration": 46,
    "start_time": "2022-05-24T06:12:03.103Z"
   },
   {
    "duration": 108,
    "start_time": "2022-05-24T06:12:03.151Z"
   },
   {
    "duration": 12,
    "start_time": "2022-05-24T06:12:03.260Z"
   },
   {
    "duration": 13,
    "start_time": "2022-05-24T06:12:03.273Z"
   },
   {
    "duration": 858,
    "start_time": "2022-05-24T06:12:03.289Z"
   },
   {
    "duration": 475,
    "start_time": "2022-05-24T06:12:04.148Z"
   },
   {
    "duration": 5,
    "start_time": "2022-05-24T06:12:04.625Z"
   },
   {
    "duration": 496,
    "start_time": "2022-05-24T06:12:04.632Z"
   },
   {
    "duration": 6,
    "start_time": "2022-05-24T06:12:05.129Z"
   },
   {
    "duration": 126,
    "start_time": "2022-05-24T06:12:05.137Z"
   },
   {
    "duration": 0,
    "start_time": "2022-05-24T06:12:05.265Z"
   },
   {
    "duration": 0,
    "start_time": "2022-05-24T06:12:05.266Z"
   },
   {
    "duration": 0,
    "start_time": "2022-05-24T06:12:05.268Z"
   },
   {
    "duration": 879,
    "start_time": "2022-05-24T06:12:48.744Z"
   },
   {
    "duration": 428,
    "start_time": "2022-05-24T06:12:49.625Z"
   },
   {
    "duration": 28,
    "start_time": "2022-05-24T06:12:50.055Z"
   },
   {
    "duration": 34,
    "start_time": "2022-05-24T06:12:50.084Z"
   },
   {
    "duration": 36,
    "start_time": "2022-05-24T06:12:50.121Z"
   },
   {
    "duration": 11,
    "start_time": "2022-05-24T06:12:50.159Z"
   },
   {
    "duration": 30,
    "start_time": "2022-05-24T06:12:50.171Z"
   },
   {
    "duration": 42,
    "start_time": "2022-05-24T06:12:50.203Z"
   },
   {
    "duration": 150,
    "start_time": "2022-05-24T06:12:50.247Z"
   },
   {
    "duration": 8,
    "start_time": "2022-05-24T06:12:50.399Z"
   },
   {
    "duration": 94,
    "start_time": "2022-05-24T06:12:50.409Z"
   },
   {
    "duration": 18,
    "start_time": "2022-05-24T06:12:50.505Z"
   },
   {
    "duration": 46,
    "start_time": "2022-05-24T06:12:50.525Z"
   },
   {
    "duration": 50,
    "start_time": "2022-05-24T06:12:50.575Z"
   },
   {
    "duration": 17,
    "start_time": "2022-05-24T06:12:50.626Z"
   },
   {
    "duration": 51,
    "start_time": "2022-05-24T06:12:50.644Z"
   },
   {
    "duration": 36,
    "start_time": "2022-05-24T06:12:50.697Z"
   },
   {
    "duration": 55,
    "start_time": "2022-05-24T06:12:50.735Z"
   },
   {
    "duration": 16,
    "start_time": "2022-05-24T06:12:50.792Z"
   },
   {
    "duration": 13,
    "start_time": "2022-05-24T06:12:50.824Z"
   },
   {
    "duration": 16,
    "start_time": "2022-05-24T06:12:50.838Z"
   },
   {
    "duration": 18,
    "start_time": "2022-05-24T06:12:50.855Z"
   },
   {
    "duration": 27,
    "start_time": "2022-05-24T06:12:50.875Z"
   },
   {
    "duration": 17,
    "start_time": "2022-05-24T06:12:50.904Z"
   },
   {
    "duration": 121,
    "start_time": "2022-05-24T06:12:50.923Z"
   },
   {
    "duration": 45,
    "start_time": "2022-05-24T06:12:51.046Z"
   },
   {
    "duration": 60,
    "start_time": "2022-05-24T06:12:51.092Z"
   },
   {
    "duration": 28,
    "start_time": "2022-05-24T06:12:51.154Z"
   },
   {
    "duration": 3,
    "start_time": "2022-05-24T06:12:51.183Z"
   },
   {
    "duration": 17,
    "start_time": "2022-05-24T06:12:51.188Z"
   },
   {
    "duration": 131,
    "start_time": "2022-05-24T06:12:51.207Z"
   },
   {
    "duration": 0,
    "start_time": "2022-05-24T06:12:51.340Z"
   },
   {
    "duration": 0,
    "start_time": "2022-05-24T06:12:51.341Z"
   },
   {
    "duration": 0,
    "start_time": "2022-05-24T06:12:51.342Z"
   },
   {
    "duration": 0,
    "start_time": "2022-05-24T06:12:51.343Z"
   },
   {
    "duration": 0,
    "start_time": "2022-05-24T06:12:51.344Z"
   },
   {
    "duration": 0,
    "start_time": "2022-05-24T06:12:51.345Z"
   },
   {
    "duration": 0,
    "start_time": "2022-05-24T06:12:51.346Z"
   },
   {
    "duration": 0,
    "start_time": "2022-05-24T06:12:51.347Z"
   },
   {
    "duration": 0,
    "start_time": "2022-05-24T06:12:51.348Z"
   },
   {
    "duration": 0,
    "start_time": "2022-05-24T06:12:51.349Z"
   },
   {
    "duration": 0,
    "start_time": "2022-05-24T06:12:51.350Z"
   },
   {
    "duration": 0,
    "start_time": "2022-05-24T06:12:51.351Z"
   },
   {
    "duration": 520,
    "start_time": "2022-05-24T06:13:09.703Z"
   },
   {
    "duration": 16,
    "start_time": "2022-05-24T06:13:23.987Z"
   },
   {
    "duration": 27,
    "start_time": "2022-05-24T06:13:34.856Z"
   },
   {
    "duration": 23,
    "start_time": "2022-05-24T06:13:55.583Z"
   },
   {
    "duration": 864,
    "start_time": "2022-05-24T06:14:08.269Z"
   },
   {
    "duration": 466,
    "start_time": "2022-05-24T06:14:09.135Z"
   },
   {
    "duration": 27,
    "start_time": "2022-05-24T06:14:09.603Z"
   },
   {
    "duration": 27,
    "start_time": "2022-05-24T06:14:09.633Z"
   },
   {
    "duration": 20,
    "start_time": "2022-05-24T06:14:09.662Z"
   },
   {
    "duration": 11,
    "start_time": "2022-05-24T06:14:09.684Z"
   },
   {
    "duration": 31,
    "start_time": "2022-05-24T06:14:09.697Z"
   },
   {
    "duration": 4,
    "start_time": "2022-05-24T06:14:09.730Z"
   },
   {
    "duration": 152,
    "start_time": "2022-05-24T06:14:09.735Z"
   },
   {
    "duration": 8,
    "start_time": "2022-05-24T06:14:09.890Z"
   },
   {
    "duration": 103,
    "start_time": "2022-05-24T06:14:09.900Z"
   },
   {
    "duration": 25,
    "start_time": "2022-05-24T06:14:10.005Z"
   },
   {
    "duration": 32,
    "start_time": "2022-05-24T06:14:10.032Z"
   },
   {
    "duration": 72,
    "start_time": "2022-05-24T06:14:10.066Z"
   },
   {
    "duration": 20,
    "start_time": "2022-05-24T06:14:10.139Z"
   },
   {
    "duration": 71,
    "start_time": "2022-05-24T06:14:10.161Z"
   },
   {
    "duration": 20,
    "start_time": "2022-05-24T06:14:10.234Z"
   },
   {
    "duration": 69,
    "start_time": "2022-05-24T06:14:10.256Z"
   },
   {
    "duration": 20,
    "start_time": "2022-05-24T06:14:10.328Z"
   },
   {
    "duration": 12,
    "start_time": "2022-05-24T06:14:10.349Z"
   },
   {
    "duration": 25,
    "start_time": "2022-05-24T06:14:10.363Z"
   },
   {
    "duration": 34,
    "start_time": "2022-05-24T06:14:10.390Z"
   },
   {
    "duration": 22,
    "start_time": "2022-05-24T06:14:10.426Z"
   },
   {
    "duration": 7,
    "start_time": "2022-05-24T06:14:10.450Z"
   },
   {
    "duration": 147,
    "start_time": "2022-05-24T06:14:10.459Z"
   },
   {
    "duration": 62,
    "start_time": "2022-05-24T06:14:10.608Z"
   },
   {
    "duration": 74,
    "start_time": "2022-05-24T06:14:10.672Z"
   },
   {
    "duration": 41,
    "start_time": "2022-05-24T06:14:10.751Z"
   },
   {
    "duration": 4,
    "start_time": "2022-05-24T06:14:10.794Z"
   },
   {
    "duration": 33,
    "start_time": "2022-05-24T06:14:10.800Z"
   },
   {
    "duration": 20,
    "start_time": "2022-05-24T06:14:10.835Z"
   },
   {
    "duration": 169,
    "start_time": "2022-05-24T06:14:10.857Z"
   },
   {
    "duration": 0,
    "start_time": "2022-05-24T06:14:11.028Z"
   },
   {
    "duration": 0,
    "start_time": "2022-05-24T06:14:11.029Z"
   },
   {
    "duration": 0,
    "start_time": "2022-05-24T06:14:11.031Z"
   },
   {
    "duration": 0,
    "start_time": "2022-05-24T06:14:11.031Z"
   },
   {
    "duration": 0,
    "start_time": "2022-05-24T06:14:11.033Z"
   },
   {
    "duration": 0,
    "start_time": "2022-05-24T06:14:11.034Z"
   },
   {
    "duration": 0,
    "start_time": "2022-05-24T06:14:11.035Z"
   },
   {
    "duration": 0,
    "start_time": "2022-05-24T06:14:11.037Z"
   },
   {
    "duration": 0,
    "start_time": "2022-05-24T06:14:11.038Z"
   },
   {
    "duration": 0,
    "start_time": "2022-05-24T06:14:11.039Z"
   },
   {
    "duration": 0,
    "start_time": "2022-05-24T06:14:11.040Z"
   },
   {
    "duration": 36,
    "start_time": "2022-05-24T06:14:54.155Z"
   },
   {
    "duration": 48,
    "start_time": "2022-05-24T06:15:02.781Z"
   },
   {
    "duration": 44,
    "start_time": "2022-05-24T06:15:10.133Z"
   },
   {
    "duration": 63,
    "start_time": "2022-05-24T06:15:20.903Z"
   },
   {
    "duration": 871,
    "start_time": "2022-05-24T06:15:39.893Z"
   },
   {
    "duration": 454,
    "start_time": "2022-05-24T06:15:40.766Z"
   },
   {
    "duration": 27,
    "start_time": "2022-05-24T06:15:41.222Z"
   },
   {
    "duration": 40,
    "start_time": "2022-05-24T06:15:41.252Z"
   },
   {
    "duration": 39,
    "start_time": "2022-05-24T06:15:41.295Z"
   },
   {
    "duration": 16,
    "start_time": "2022-05-24T06:15:41.337Z"
   },
   {
    "duration": 15,
    "start_time": "2022-05-24T06:15:41.355Z"
   },
   {
    "duration": 5,
    "start_time": "2022-05-24T06:15:41.372Z"
   },
   {
    "duration": 155,
    "start_time": "2022-05-24T06:15:41.379Z"
   },
   {
    "duration": 8,
    "start_time": "2022-05-24T06:15:41.536Z"
   },
   {
    "duration": 94,
    "start_time": "2022-05-24T06:15:41.545Z"
   },
   {
    "duration": 9,
    "start_time": "2022-05-24T06:15:41.641Z"
   },
   {
    "duration": 29,
    "start_time": "2022-05-24T06:15:41.651Z"
   },
   {
    "duration": 68,
    "start_time": "2022-05-24T06:15:41.681Z"
   },
   {
    "duration": 16,
    "start_time": "2022-05-24T06:15:41.751Z"
   },
   {
    "duration": 74,
    "start_time": "2022-05-24T06:15:41.769Z"
   },
   {
    "duration": 19,
    "start_time": "2022-05-24T06:15:41.845Z"
   },
   {
    "duration": 63,
    "start_time": "2022-05-24T06:15:41.866Z"
   },
   {
    "duration": 17,
    "start_time": "2022-05-24T06:15:41.931Z"
   },
   {
    "duration": 11,
    "start_time": "2022-05-24T06:15:41.950Z"
   },
   {
    "duration": 13,
    "start_time": "2022-05-24T06:15:41.963Z"
   },
   {
    "duration": 11,
    "start_time": "2022-05-24T06:15:41.977Z"
   },
   {
    "duration": 42,
    "start_time": "2022-05-24T06:15:41.990Z"
   },
   {
    "duration": 4,
    "start_time": "2022-05-24T06:15:42.034Z"
   },
   {
    "duration": 128,
    "start_time": "2022-05-24T06:15:42.040Z"
   },
   {
    "duration": 54,
    "start_time": "2022-05-24T06:15:42.170Z"
   },
   {
    "duration": 46,
    "start_time": "2022-05-24T06:15:42.226Z"
   },
   {
    "duration": 54,
    "start_time": "2022-05-24T06:15:42.277Z"
   },
   {
    "duration": 4,
    "start_time": "2022-05-24T06:15:42.333Z"
   },
   {
    "duration": 7,
    "start_time": "2022-05-24T06:15:42.339Z"
   },
   {
    "duration": 29,
    "start_time": "2022-05-24T06:15:42.347Z"
   },
   {
    "duration": 190,
    "start_time": "2022-05-24T06:15:42.378Z"
   },
   {
    "duration": 0,
    "start_time": "2022-05-24T06:15:42.571Z"
   },
   {
    "duration": 0,
    "start_time": "2022-05-24T06:15:42.573Z"
   },
   {
    "duration": 0,
    "start_time": "2022-05-24T06:15:42.574Z"
   },
   {
    "duration": 0,
    "start_time": "2022-05-24T06:15:42.576Z"
   },
   {
    "duration": 0,
    "start_time": "2022-05-24T06:15:42.577Z"
   },
   {
    "duration": 0,
    "start_time": "2022-05-24T06:15:42.578Z"
   },
   {
    "duration": 0,
    "start_time": "2022-05-24T06:15:42.580Z"
   },
   {
    "duration": 0,
    "start_time": "2022-05-24T06:15:42.582Z"
   },
   {
    "duration": 0,
    "start_time": "2022-05-24T06:15:42.584Z"
   },
   {
    "duration": 0,
    "start_time": "2022-05-24T06:15:42.585Z"
   },
   {
    "duration": 0,
    "start_time": "2022-05-24T06:15:42.586Z"
   },
   {
    "duration": 33,
    "start_time": "2022-05-24T06:16:07.619Z"
   },
   {
    "duration": 15,
    "start_time": "2022-05-24T06:22:03.766Z"
   },
   {
    "duration": 829,
    "start_time": "2022-05-24T06:22:08.751Z"
   },
   {
    "duration": 485,
    "start_time": "2022-05-24T06:22:09.582Z"
   },
   {
    "duration": 37,
    "start_time": "2022-05-24T06:22:10.069Z"
   },
   {
    "duration": 32,
    "start_time": "2022-05-24T06:22:10.109Z"
   },
   {
    "duration": 25,
    "start_time": "2022-05-24T06:22:10.143Z"
   },
   {
    "duration": 12,
    "start_time": "2022-05-24T06:22:10.170Z"
   },
   {
    "duration": 20,
    "start_time": "2022-05-24T06:22:10.184Z"
   },
   {
    "duration": 5,
    "start_time": "2022-05-24T06:22:10.206Z"
   },
   {
    "duration": 154,
    "start_time": "2022-05-24T06:22:10.223Z"
   },
   {
    "duration": 8,
    "start_time": "2022-05-24T06:22:10.381Z"
   },
   {
    "duration": 141,
    "start_time": "2022-05-24T06:22:10.391Z"
   },
   {
    "duration": 12,
    "start_time": "2022-05-24T06:22:10.535Z"
   },
   {
    "duration": 44,
    "start_time": "2022-05-24T06:22:10.549Z"
   },
   {
    "duration": 60,
    "start_time": "2022-05-24T06:22:10.595Z"
   },
   {
    "duration": 16,
    "start_time": "2022-05-24T06:22:10.658Z"
   },
   {
    "duration": 82,
    "start_time": "2022-05-24T06:22:10.676Z"
   },
   {
    "duration": 21,
    "start_time": "2022-05-24T06:22:10.760Z"
   },
   {
    "duration": 71,
    "start_time": "2022-05-24T06:22:10.783Z"
   },
   {
    "duration": 17,
    "start_time": "2022-05-24T06:22:10.856Z"
   },
   {
    "duration": 11,
    "start_time": "2022-05-24T06:22:10.875Z"
   },
   {
    "duration": 48,
    "start_time": "2022-05-24T06:22:10.888Z"
   },
   {
    "duration": 10,
    "start_time": "2022-05-24T06:22:10.938Z"
   },
   {
    "duration": 21,
    "start_time": "2022-05-24T06:22:10.950Z"
   },
   {
    "duration": 8,
    "start_time": "2022-05-24T06:22:10.973Z"
   },
   {
    "duration": 128,
    "start_time": "2022-05-24T06:22:10.982Z"
   },
   {
    "duration": 53,
    "start_time": "2022-05-24T06:22:11.122Z"
   },
   {
    "duration": 66,
    "start_time": "2022-05-24T06:22:11.176Z"
   },
   {
    "duration": 30,
    "start_time": "2022-05-24T06:22:11.245Z"
   },
   {
    "duration": 3,
    "start_time": "2022-05-24T06:22:11.277Z"
   },
   {
    "duration": 6,
    "start_time": "2022-05-24T06:22:11.282Z"
   },
   {
    "duration": 138,
    "start_time": "2022-05-24T06:22:11.290Z"
   },
   {
    "duration": 0,
    "start_time": "2022-05-24T06:22:11.430Z"
   },
   {
    "duration": 0,
    "start_time": "2022-05-24T06:22:11.431Z"
   },
   {
    "duration": 0,
    "start_time": "2022-05-24T06:22:11.434Z"
   },
   {
    "duration": 0,
    "start_time": "2022-05-24T06:22:11.435Z"
   },
   {
    "duration": 0,
    "start_time": "2022-05-24T06:22:11.435Z"
   },
   {
    "duration": 0,
    "start_time": "2022-05-24T06:22:11.436Z"
   },
   {
    "duration": 0,
    "start_time": "2022-05-24T06:22:11.436Z"
   },
   {
    "duration": 0,
    "start_time": "2022-05-24T06:22:11.437Z"
   },
   {
    "duration": 0,
    "start_time": "2022-05-24T06:22:11.438Z"
   },
   {
    "duration": 0,
    "start_time": "2022-05-24T06:22:11.438Z"
   },
   {
    "duration": 0,
    "start_time": "2022-05-24T06:22:11.439Z"
   },
   {
    "duration": 0,
    "start_time": "2022-05-24T06:22:11.439Z"
   },
   {
    "duration": 15,
    "start_time": "2022-05-24T06:22:30.139Z"
   },
   {
    "duration": 40,
    "start_time": "2022-05-24T06:25:50.297Z"
   },
   {
    "duration": 829,
    "start_time": "2022-05-24T06:26:04.907Z"
   },
   {
    "duration": 436,
    "start_time": "2022-05-24T06:26:05.739Z"
   },
   {
    "duration": 28,
    "start_time": "2022-05-24T06:26:06.180Z"
   },
   {
    "duration": 41,
    "start_time": "2022-05-24T06:26:06.210Z"
   },
   {
    "duration": 21,
    "start_time": "2022-05-24T06:26:06.253Z"
   },
   {
    "duration": 12,
    "start_time": "2022-05-24T06:26:06.275Z"
   },
   {
    "duration": 20,
    "start_time": "2022-05-24T06:26:06.289Z"
   },
   {
    "duration": 27,
    "start_time": "2022-05-24T06:26:06.311Z"
   },
   {
    "duration": 146,
    "start_time": "2022-05-24T06:26:06.342Z"
   },
   {
    "duration": 8,
    "start_time": "2022-05-24T06:26:06.490Z"
   },
   {
    "duration": 108,
    "start_time": "2022-05-24T06:26:06.500Z"
   },
   {
    "duration": 19,
    "start_time": "2022-05-24T06:26:06.610Z"
   },
   {
    "duration": 49,
    "start_time": "2022-05-24T06:26:06.633Z"
   },
   {
    "duration": 58,
    "start_time": "2022-05-24T06:26:06.684Z"
   },
   {
    "duration": 23,
    "start_time": "2022-05-24T06:26:06.744Z"
   },
   {
    "duration": 72,
    "start_time": "2022-05-24T06:26:06.770Z"
   },
   {
    "duration": 19,
    "start_time": "2022-05-24T06:26:06.844Z"
   },
   {
    "duration": 43,
    "start_time": "2022-05-24T06:26:06.864Z"
   },
   {
    "duration": 24,
    "start_time": "2022-05-24T06:26:06.923Z"
   },
   {
    "duration": 11,
    "start_time": "2022-05-24T06:26:06.949Z"
   },
   {
    "duration": 14,
    "start_time": "2022-05-24T06:26:06.961Z"
   },
   {
    "duration": 8,
    "start_time": "2022-05-24T06:26:06.976Z"
   },
   {
    "duration": 55,
    "start_time": "2022-05-24T06:26:06.986Z"
   },
   {
    "duration": 4,
    "start_time": "2022-05-24T06:26:07.043Z"
   },
   {
    "duration": 118,
    "start_time": "2022-05-24T06:26:07.049Z"
   },
   {
    "duration": 55,
    "start_time": "2022-05-24T06:26:07.169Z"
   },
   {
    "duration": 46,
    "start_time": "2022-05-24T06:26:07.228Z"
   },
   {
    "duration": 54,
    "start_time": "2022-05-24T06:26:07.276Z"
   },
   {
    "duration": 4,
    "start_time": "2022-05-24T06:26:07.338Z"
   },
   {
    "duration": 8,
    "start_time": "2022-05-24T06:26:07.343Z"
   },
   {
    "duration": 33,
    "start_time": "2022-05-24T06:26:07.353Z"
   },
   {
    "duration": 168,
    "start_time": "2022-05-24T06:26:07.387Z"
   },
   {
    "duration": 0,
    "start_time": "2022-05-24T06:26:07.556Z"
   },
   {
    "duration": 0,
    "start_time": "2022-05-24T06:26:07.558Z"
   },
   {
    "duration": 0,
    "start_time": "2022-05-24T06:26:07.559Z"
   },
   {
    "duration": 0,
    "start_time": "2022-05-24T06:26:07.560Z"
   },
   {
    "duration": 0,
    "start_time": "2022-05-24T06:26:07.561Z"
   },
   {
    "duration": 0,
    "start_time": "2022-05-24T06:26:07.562Z"
   },
   {
    "duration": 0,
    "start_time": "2022-05-24T06:26:07.563Z"
   },
   {
    "duration": 0,
    "start_time": "2022-05-24T06:26:07.564Z"
   },
   {
    "duration": 0,
    "start_time": "2022-05-24T06:26:07.566Z"
   },
   {
    "duration": 0,
    "start_time": "2022-05-24T06:26:07.567Z"
   },
   {
    "duration": 0,
    "start_time": "2022-05-24T06:26:07.568Z"
   },
   {
    "duration": 30,
    "start_time": "2022-05-24T06:26:21.144Z"
   },
   {
    "duration": 848,
    "start_time": "2022-05-24T06:26:42.959Z"
   },
   {
    "duration": 484,
    "start_time": "2022-05-24T06:26:43.809Z"
   },
   {
    "duration": 26,
    "start_time": "2022-05-24T06:26:44.294Z"
   },
   {
    "duration": 34,
    "start_time": "2022-05-24T06:26:44.321Z"
   },
   {
    "duration": 19,
    "start_time": "2022-05-24T06:26:44.356Z"
   },
   {
    "duration": 10,
    "start_time": "2022-05-24T06:26:44.377Z"
   },
   {
    "duration": 12,
    "start_time": "2022-05-24T06:26:44.389Z"
   },
   {
    "duration": 39,
    "start_time": "2022-05-24T06:26:44.402Z"
   },
   {
    "duration": 147,
    "start_time": "2022-05-24T06:26:44.442Z"
   },
   {
    "duration": 7,
    "start_time": "2022-05-24T06:26:44.592Z"
   },
   {
    "duration": 100,
    "start_time": "2022-05-24T06:26:44.600Z"
   },
   {
    "duration": 8,
    "start_time": "2022-05-24T06:26:44.703Z"
   },
   {
    "duration": 58,
    "start_time": "2022-05-24T06:26:44.713Z"
   },
   {
    "duration": 48,
    "start_time": "2022-05-24T06:26:44.773Z"
   },
   {
    "duration": 24,
    "start_time": "2022-05-24T06:26:44.825Z"
   },
   {
    "duration": 76,
    "start_time": "2022-05-24T06:26:44.851Z"
   },
   {
    "duration": 22,
    "start_time": "2022-05-24T06:26:44.934Z"
   },
   {
    "duration": 45,
    "start_time": "2022-05-24T06:26:44.957Z"
   },
   {
    "duration": 28,
    "start_time": "2022-05-24T06:26:45.004Z"
   },
   {
    "duration": 14,
    "start_time": "2022-05-24T06:26:45.040Z"
   },
   {
    "duration": 17,
    "start_time": "2022-05-24T06:26:45.056Z"
   },
   {
    "duration": 14,
    "start_time": "2022-05-24T06:26:45.075Z"
   },
   {
    "duration": 48,
    "start_time": "2022-05-24T06:26:45.091Z"
   },
   {
    "duration": 11,
    "start_time": "2022-05-24T06:26:45.141Z"
   },
   {
    "duration": 114,
    "start_time": "2022-05-24T06:26:45.154Z"
   },
   {
    "duration": 44,
    "start_time": "2022-05-24T06:26:45.270Z"
   },
   {
    "duration": 48,
    "start_time": "2022-05-24T06:26:45.323Z"
   },
   {
    "duration": 28,
    "start_time": "2022-05-24T06:26:45.375Z"
   },
   {
    "duration": 5,
    "start_time": "2022-05-24T06:26:45.426Z"
   },
   {
    "duration": 4,
    "start_time": "2022-05-24T06:26:45.432Z"
   },
   {
    "duration": 28,
    "start_time": "2022-05-24T06:26:45.440Z"
   },
   {
    "duration": 145,
    "start_time": "2022-05-24T06:26:45.469Z"
   },
   {
    "duration": 0,
    "start_time": "2022-05-24T06:26:45.616Z"
   },
   {
    "duration": 0,
    "start_time": "2022-05-24T06:26:45.617Z"
   },
   {
    "duration": 1,
    "start_time": "2022-05-24T06:26:45.622Z"
   },
   {
    "duration": 0,
    "start_time": "2022-05-24T06:26:45.623Z"
   },
   {
    "duration": 0,
    "start_time": "2022-05-24T06:26:45.624Z"
   },
   {
    "duration": 0,
    "start_time": "2022-05-24T06:26:45.625Z"
   },
   {
    "duration": 0,
    "start_time": "2022-05-24T06:26:45.626Z"
   },
   {
    "duration": 0,
    "start_time": "2022-05-24T06:26:45.627Z"
   },
   {
    "duration": 0,
    "start_time": "2022-05-24T06:26:45.628Z"
   },
   {
    "duration": 0,
    "start_time": "2022-05-24T06:26:45.630Z"
   },
   {
    "duration": 0,
    "start_time": "2022-05-24T06:26:45.631Z"
   },
   {
    "duration": 1003,
    "start_time": "2022-05-24T06:30:31.810Z"
   },
   {
    "duration": 576,
    "start_time": "2022-05-24T06:30:32.816Z"
   },
   {
    "duration": 28,
    "start_time": "2022-05-24T06:30:33.394Z"
   },
   {
    "duration": 36,
    "start_time": "2022-05-24T06:30:33.435Z"
   },
   {
    "duration": 21,
    "start_time": "2022-05-24T06:30:33.473Z"
   },
   {
    "duration": 12,
    "start_time": "2022-05-24T06:30:33.496Z"
   },
   {
    "duration": 30,
    "start_time": "2022-05-24T06:30:33.509Z"
   },
   {
    "duration": 16,
    "start_time": "2022-05-24T06:30:33.547Z"
   },
   {
    "duration": 142,
    "start_time": "2022-05-24T06:30:33.565Z"
   },
   {
    "duration": 32,
    "start_time": "2022-05-24T06:30:33.710Z"
   },
   {
    "duration": 109,
    "start_time": "2022-05-24T06:30:33.744Z"
   },
   {
    "duration": 11,
    "start_time": "2022-05-24T06:30:33.855Z"
   },
   {
    "duration": 47,
    "start_time": "2022-05-24T06:30:33.868Z"
   },
   {
    "duration": 89,
    "start_time": "2022-05-24T06:30:33.917Z"
   },
   {
    "duration": 26,
    "start_time": "2022-05-24T06:30:34.008Z"
   },
   {
    "duration": 66,
    "start_time": "2022-05-24T06:30:34.039Z"
   },
   {
    "duration": 25,
    "start_time": "2022-05-24T06:30:34.107Z"
   },
   {
    "duration": 61,
    "start_time": "2022-05-24T06:30:34.133Z"
   },
   {
    "duration": 34,
    "start_time": "2022-05-24T06:30:34.196Z"
   },
   {
    "duration": 12,
    "start_time": "2022-05-24T06:30:34.232Z"
   },
   {
    "duration": 32,
    "start_time": "2022-05-24T06:30:34.245Z"
   },
   {
    "duration": 9,
    "start_time": "2022-05-24T06:30:34.279Z"
   },
   {
    "duration": 23,
    "start_time": "2022-05-24T06:30:34.290Z"
   },
   {
    "duration": 42,
    "start_time": "2022-05-24T06:30:34.314Z"
   },
   {
    "duration": 128,
    "start_time": "2022-05-24T06:30:34.358Z"
   },
   {
    "duration": 60,
    "start_time": "2022-05-24T06:30:34.488Z"
   },
   {
    "duration": 49,
    "start_time": "2022-05-24T06:30:34.549Z"
   },
   {
    "duration": 52,
    "start_time": "2022-05-24T06:30:34.601Z"
   },
   {
    "duration": 6,
    "start_time": "2022-05-24T06:30:34.655Z"
   },
   {
    "duration": 7,
    "start_time": "2022-05-24T06:30:34.665Z"
   },
   {
    "duration": 24,
    "start_time": "2022-05-24T06:30:34.674Z"
   },
   {
    "duration": 730,
    "start_time": "2022-05-24T06:30:34.700Z"
   },
   {
    "duration": 0,
    "start_time": "2022-05-24T06:30:35.433Z"
   },
   {
    "duration": 0,
    "start_time": "2022-05-24T06:30:35.437Z"
   },
   {
    "duration": 0,
    "start_time": "2022-05-24T06:30:35.438Z"
   },
   {
    "duration": 0,
    "start_time": "2022-05-24T06:30:35.440Z"
   },
   {
    "duration": 0,
    "start_time": "2022-05-24T06:30:35.441Z"
   },
   {
    "duration": 0,
    "start_time": "2022-05-24T06:30:35.442Z"
   },
   {
    "duration": 0,
    "start_time": "2022-05-24T06:30:35.443Z"
   },
   {
    "duration": 0,
    "start_time": "2022-05-24T06:30:35.448Z"
   },
   {
    "duration": 0,
    "start_time": "2022-05-24T06:30:35.449Z"
   },
   {
    "duration": 0,
    "start_time": "2022-05-24T06:30:35.450Z"
   },
   {
    "duration": 0,
    "start_time": "2022-05-24T06:30:35.451Z"
   },
   {
    "duration": 889,
    "start_time": "2022-05-24T06:30:56.260Z"
   },
   {
    "duration": 909,
    "start_time": "2022-05-24T06:31:04.859Z"
   },
   {
    "duration": 450,
    "start_time": "2022-05-24T06:31:05.771Z"
   },
   {
    "duration": 39,
    "start_time": "2022-05-24T06:31:06.228Z"
   },
   {
    "duration": 23,
    "start_time": "2022-05-24T06:31:06.270Z"
   },
   {
    "duration": 35,
    "start_time": "2022-05-24T06:31:06.295Z"
   },
   {
    "duration": 11,
    "start_time": "2022-05-24T06:31:06.332Z"
   },
   {
    "duration": 16,
    "start_time": "2022-05-24T06:31:06.345Z"
   },
   {
    "duration": 10,
    "start_time": "2022-05-24T06:31:06.362Z"
   },
   {
    "duration": 152,
    "start_time": "2022-05-24T06:31:06.373Z"
   },
   {
    "duration": 10,
    "start_time": "2022-05-24T06:31:06.529Z"
   },
   {
    "duration": 99,
    "start_time": "2022-05-24T06:31:06.540Z"
   },
   {
    "duration": 8,
    "start_time": "2022-05-24T06:31:06.643Z"
   },
   {
    "duration": 33,
    "start_time": "2022-05-24T06:31:06.653Z"
   },
   {
    "duration": 59,
    "start_time": "2022-05-24T06:31:06.688Z"
   },
   {
    "duration": 19,
    "start_time": "2022-05-24T06:31:06.749Z"
   },
   {
    "duration": 90,
    "start_time": "2022-05-24T06:31:06.769Z"
   },
   {
    "duration": 32,
    "start_time": "2022-05-24T06:31:06.861Z"
   },
   {
    "duration": 73,
    "start_time": "2022-05-24T06:31:06.895Z"
   },
   {
    "duration": 26,
    "start_time": "2022-05-24T06:31:06.970Z"
   },
   {
    "duration": 38,
    "start_time": "2022-05-24T06:31:06.998Z"
   },
   {
    "duration": 25,
    "start_time": "2022-05-24T06:31:07.038Z"
   },
   {
    "duration": 8,
    "start_time": "2022-05-24T06:31:07.065Z"
   },
   {
    "duration": 17,
    "start_time": "2022-05-24T06:31:07.075Z"
   },
   {
    "duration": 4,
    "start_time": "2022-05-24T06:31:07.094Z"
   },
   {
    "duration": 145,
    "start_time": "2022-05-24T06:31:07.100Z"
   },
   {
    "duration": 46,
    "start_time": "2022-05-24T06:31:07.246Z"
   },
   {
    "duration": 66,
    "start_time": "2022-05-24T06:31:07.294Z"
   },
   {
    "duration": 30,
    "start_time": "2022-05-24T06:31:07.363Z"
   },
   {
    "duration": 3,
    "start_time": "2022-05-24T06:31:07.395Z"
   },
   {
    "duration": 25,
    "start_time": "2022-05-24T06:31:07.400Z"
   },
   {
    "duration": 135,
    "start_time": "2022-05-24T06:31:07.427Z"
   },
   {
    "duration": 0,
    "start_time": "2022-05-24T06:31:07.563Z"
   },
   {
    "duration": 0,
    "start_time": "2022-05-24T06:31:07.564Z"
   },
   {
    "duration": 0,
    "start_time": "2022-05-24T06:31:07.565Z"
   },
   {
    "duration": 0,
    "start_time": "2022-05-24T06:31:07.567Z"
   },
   {
    "duration": 0,
    "start_time": "2022-05-24T06:31:07.568Z"
   },
   {
    "duration": 0,
    "start_time": "2022-05-24T06:31:07.569Z"
   },
   {
    "duration": 0,
    "start_time": "2022-05-24T06:31:07.570Z"
   },
   {
    "duration": 0,
    "start_time": "2022-05-24T06:31:07.571Z"
   },
   {
    "duration": 0,
    "start_time": "2022-05-24T06:31:07.572Z"
   },
   {
    "duration": 0,
    "start_time": "2022-05-24T06:31:07.574Z"
   },
   {
    "duration": 0,
    "start_time": "2022-05-24T06:31:07.575Z"
   },
   {
    "duration": 0,
    "start_time": "2022-05-24T06:31:07.576Z"
   },
   {
    "duration": 791,
    "start_time": "2022-05-24T06:31:25.983Z"
   },
   {
    "duration": 433,
    "start_time": "2022-05-24T06:31:26.776Z"
   },
   {
    "duration": 35,
    "start_time": "2022-05-24T06:31:27.210Z"
   },
   {
    "duration": 22,
    "start_time": "2022-05-24T06:31:27.248Z"
   },
   {
    "duration": 20,
    "start_time": "2022-05-24T06:31:27.272Z"
   },
   {
    "duration": 32,
    "start_time": "2022-05-24T06:31:27.294Z"
   },
   {
    "duration": 14,
    "start_time": "2022-05-24T06:31:27.331Z"
   },
   {
    "duration": 4,
    "start_time": "2022-05-24T06:31:27.346Z"
   },
   {
    "duration": 135,
    "start_time": "2022-05-24T06:31:27.352Z"
   },
   {
    "duration": 9,
    "start_time": "2022-05-24T06:31:27.490Z"
   },
   {
    "duration": 103,
    "start_time": "2022-05-24T06:31:27.501Z"
   },
   {
    "duration": 9,
    "start_time": "2022-05-24T06:31:27.605Z"
   },
   {
    "duration": 39,
    "start_time": "2022-05-24T06:31:27.625Z"
   },
   {
    "duration": 75,
    "start_time": "2022-05-24T06:31:27.666Z"
   },
   {
    "duration": 16,
    "start_time": "2022-05-24T06:31:27.744Z"
   },
   {
    "duration": 47,
    "start_time": "2022-05-24T06:31:27.762Z"
   },
   {
    "duration": 42,
    "start_time": "2022-05-24T06:31:27.810Z"
   },
   {
    "duration": 87,
    "start_time": "2022-05-24T06:31:27.855Z"
   },
   {
    "duration": 40,
    "start_time": "2022-05-24T06:31:27.943Z"
   },
   {
    "duration": 25,
    "start_time": "2022-05-24T06:31:27.986Z"
   },
   {
    "duration": 31,
    "start_time": "2022-05-24T06:31:28.012Z"
   },
   {
    "duration": 11,
    "start_time": "2022-05-24T06:31:28.044Z"
   },
   {
    "duration": 17,
    "start_time": "2022-05-24T06:31:28.057Z"
   },
   {
    "duration": 5,
    "start_time": "2022-05-24T06:31:28.075Z"
   },
   {
    "duration": 125,
    "start_time": "2022-05-24T06:31:28.081Z"
   },
   {
    "duration": 53,
    "start_time": "2022-05-24T06:31:28.207Z"
   },
   {
    "duration": 64,
    "start_time": "2022-05-24T06:31:28.262Z"
   },
   {
    "duration": 29,
    "start_time": "2022-05-24T06:31:28.335Z"
   },
   {
    "duration": 3,
    "start_time": "2022-05-24T06:31:28.367Z"
   },
   {
    "duration": 9,
    "start_time": "2022-05-24T06:31:28.371Z"
   },
   {
    "duration": 19,
    "start_time": "2022-05-24T06:31:28.382Z"
   },
   {
    "duration": 156,
    "start_time": "2022-05-24T06:31:28.402Z"
   },
   {
    "duration": 0,
    "start_time": "2022-05-24T06:31:28.560Z"
   },
   {
    "duration": 0,
    "start_time": "2022-05-24T06:31:28.562Z"
   },
   {
    "duration": 0,
    "start_time": "2022-05-24T06:31:28.563Z"
   },
   {
    "duration": 0,
    "start_time": "2022-05-24T06:31:28.564Z"
   },
   {
    "duration": 0,
    "start_time": "2022-05-24T06:31:28.566Z"
   },
   {
    "duration": 0,
    "start_time": "2022-05-24T06:31:28.567Z"
   },
   {
    "duration": 0,
    "start_time": "2022-05-24T06:31:28.569Z"
   },
   {
    "duration": 0,
    "start_time": "2022-05-24T06:31:28.570Z"
   },
   {
    "duration": 0,
    "start_time": "2022-05-24T06:31:28.571Z"
   },
   {
    "duration": 0,
    "start_time": "2022-05-24T06:31:28.573Z"
   },
   {
    "duration": 0,
    "start_time": "2022-05-24T06:31:28.574Z"
   },
   {
    "duration": 18,
    "start_time": "2022-05-24T06:32:32.370Z"
   },
   {
    "duration": 855,
    "start_time": "2022-05-24T06:35:23.912Z"
   },
   {
    "duration": 443,
    "start_time": "2022-05-24T06:35:24.769Z"
   },
   {
    "duration": 35,
    "start_time": "2022-05-24T06:35:25.217Z"
   },
   {
    "duration": 22,
    "start_time": "2022-05-24T06:35:25.254Z"
   },
   {
    "duration": 20,
    "start_time": "2022-05-24T06:35:25.277Z"
   },
   {
    "duration": 35,
    "start_time": "2022-05-24T06:35:25.299Z"
   },
   {
    "duration": 26,
    "start_time": "2022-05-24T06:35:25.335Z"
   },
   {
    "duration": 7,
    "start_time": "2022-05-24T06:35:25.363Z"
   },
   {
    "duration": 169,
    "start_time": "2022-05-24T06:35:25.373Z"
   },
   {
    "duration": 9,
    "start_time": "2022-05-24T06:35:25.545Z"
   },
   {
    "duration": 100,
    "start_time": "2022-05-24T06:35:25.556Z"
   },
   {
    "duration": 8,
    "start_time": "2022-05-24T06:35:25.657Z"
   },
   {
    "duration": 42,
    "start_time": "2022-05-24T06:35:25.667Z"
   },
   {
    "duration": 65,
    "start_time": "2022-05-24T06:35:25.711Z"
   },
   {
    "duration": 18,
    "start_time": "2022-05-24T06:35:25.777Z"
   },
   {
    "duration": 77,
    "start_time": "2022-05-24T06:35:25.796Z"
   },
   {
    "duration": 18,
    "start_time": "2022-05-24T06:35:25.874Z"
   },
   {
    "duration": 77,
    "start_time": "2022-05-24T06:35:25.894Z"
   },
   {
    "duration": 27,
    "start_time": "2022-05-24T06:35:25.973Z"
   },
   {
    "duration": 39,
    "start_time": "2022-05-24T06:35:26.002Z"
   },
   {
    "duration": 16,
    "start_time": "2022-05-24T06:35:26.045Z"
   },
   {
    "duration": 9,
    "start_time": "2022-05-24T06:35:26.062Z"
   },
   {
    "duration": 21,
    "start_time": "2022-05-24T06:35:26.073Z"
   },
   {
    "duration": 5,
    "start_time": "2022-05-24T06:35:26.095Z"
   },
   {
    "duration": 153,
    "start_time": "2022-05-24T06:35:26.101Z"
   },
   {
    "duration": 44,
    "start_time": "2022-05-24T06:35:26.256Z"
   },
   {
    "duration": 60,
    "start_time": "2022-05-24T06:35:26.303Z"
   },
   {
    "duration": 34,
    "start_time": "2022-05-24T06:35:26.365Z"
   },
   {
    "duration": 7,
    "start_time": "2022-05-24T06:35:26.423Z"
   },
   {
    "duration": 24,
    "start_time": "2022-05-24T06:35:26.432Z"
   },
   {
    "duration": 16,
    "start_time": "2022-05-24T06:35:26.458Z"
   },
   {
    "duration": 23,
    "start_time": "2022-05-24T06:35:26.475Z"
   },
   {
    "duration": 160,
    "start_time": "2022-05-24T06:35:26.500Z"
   },
   {
    "duration": 0,
    "start_time": "2022-05-24T06:35:26.661Z"
   },
   {
    "duration": 0,
    "start_time": "2022-05-24T06:35:26.662Z"
   },
   {
    "duration": 0,
    "start_time": "2022-05-24T06:35:26.663Z"
   },
   {
    "duration": 0,
    "start_time": "2022-05-24T06:35:26.664Z"
   },
   {
    "duration": 0,
    "start_time": "2022-05-24T06:35:26.665Z"
   },
   {
    "duration": 0,
    "start_time": "2022-05-24T06:35:26.666Z"
   },
   {
    "duration": 0,
    "start_time": "2022-05-24T06:35:26.667Z"
   },
   {
    "duration": 0,
    "start_time": "2022-05-24T06:35:26.668Z"
   },
   {
    "duration": 0,
    "start_time": "2022-05-24T06:35:26.668Z"
   },
   {
    "duration": 0,
    "start_time": "2022-05-24T06:35:26.670Z"
   },
   {
    "duration": 0,
    "start_time": "2022-05-24T06:35:26.671Z"
   },
   {
    "duration": 841,
    "start_time": "2022-05-24T06:39:10.537Z"
   },
   {
    "duration": 434,
    "start_time": "2022-05-24T06:39:11.380Z"
   },
   {
    "duration": 36,
    "start_time": "2022-05-24T06:39:11.816Z"
   },
   {
    "duration": 21,
    "start_time": "2022-05-24T06:39:11.853Z"
   },
   {
    "duration": 17,
    "start_time": "2022-05-24T06:39:11.876Z"
   },
   {
    "duration": 33,
    "start_time": "2022-05-24T06:39:11.895Z"
   },
   {
    "duration": 13,
    "start_time": "2022-05-24T06:39:11.934Z"
   },
   {
    "duration": 3,
    "start_time": "2022-05-24T06:39:11.950Z"
   },
   {
    "duration": 158,
    "start_time": "2022-05-24T06:39:11.955Z"
   },
   {
    "duration": 18,
    "start_time": "2022-05-24T06:39:12.114Z"
   },
   {
    "duration": 88,
    "start_time": "2022-05-24T06:39:12.138Z"
   },
   {
    "duration": 10,
    "start_time": "2022-05-24T06:39:12.232Z"
   },
   {
    "duration": 28,
    "start_time": "2022-05-24T06:39:12.244Z"
   },
   {
    "duration": 66,
    "start_time": "2022-05-24T06:39:12.276Z"
   },
   {
    "duration": 16,
    "start_time": "2022-05-24T06:39:12.344Z"
   },
   {
    "duration": 74,
    "start_time": "2022-05-24T06:39:12.362Z"
   },
   {
    "duration": 25,
    "start_time": "2022-05-24T06:39:12.439Z"
   },
   {
    "duration": 69,
    "start_time": "2022-05-24T06:39:12.466Z"
   },
   {
    "duration": 25,
    "start_time": "2022-05-24T06:39:12.537Z"
   },
   {
    "duration": 15,
    "start_time": "2022-05-24T06:39:12.564Z"
   },
   {
    "duration": 44,
    "start_time": "2022-05-24T06:39:12.581Z"
   },
   {
    "duration": 25,
    "start_time": "2022-05-24T06:39:12.627Z"
   },
   {
    "duration": 27,
    "start_time": "2022-05-24T06:39:12.655Z"
   },
   {
    "duration": 4,
    "start_time": "2022-05-24T06:39:12.684Z"
   },
   {
    "duration": 152,
    "start_time": "2022-05-24T06:39:12.690Z"
   },
   {
    "duration": 55,
    "start_time": "2022-05-24T06:39:12.844Z"
   },
   {
    "duration": 66,
    "start_time": "2022-05-24T06:39:12.902Z"
   },
   {
    "duration": 34,
    "start_time": "2022-05-24T06:39:12.970Z"
   },
   {
    "duration": 3,
    "start_time": "2022-05-24T06:39:13.006Z"
   },
   {
    "duration": 3,
    "start_time": "2022-05-24T06:39:13.022Z"
   },
   {
    "duration": 15,
    "start_time": "2022-05-24T06:39:13.036Z"
   },
   {
    "duration": 16,
    "start_time": "2022-05-24T06:39:13.053Z"
   },
   {
    "duration": 149,
    "start_time": "2022-05-24T06:39:13.070Z"
   },
   {
    "duration": 0,
    "start_time": "2022-05-24T06:39:13.220Z"
   },
   {
    "duration": 0,
    "start_time": "2022-05-24T06:39:13.222Z"
   },
   {
    "duration": 0,
    "start_time": "2022-05-24T06:39:13.225Z"
   },
   {
    "duration": 0,
    "start_time": "2022-05-24T06:39:13.227Z"
   },
   {
    "duration": 0,
    "start_time": "2022-05-24T06:39:13.227Z"
   },
   {
    "duration": 0,
    "start_time": "2022-05-24T06:39:13.228Z"
   },
   {
    "duration": 0,
    "start_time": "2022-05-24T06:39:13.229Z"
   },
   {
    "duration": 0,
    "start_time": "2022-05-24T06:39:13.229Z"
   },
   {
    "duration": 0,
    "start_time": "2022-05-24T06:39:13.230Z"
   },
   {
    "duration": 0,
    "start_time": "2022-05-24T06:39:13.231Z"
   },
   {
    "duration": 0,
    "start_time": "2022-05-24T06:39:13.232Z"
   },
   {
    "duration": 839,
    "start_time": "2022-05-24T06:39:56.396Z"
   },
   {
    "duration": 447,
    "start_time": "2022-05-24T06:39:57.243Z"
   },
   {
    "duration": 26,
    "start_time": "2022-05-24T06:39:57.691Z"
   },
   {
    "duration": 29,
    "start_time": "2022-05-24T06:39:57.720Z"
   },
   {
    "duration": 17,
    "start_time": "2022-05-24T06:39:57.751Z"
   },
   {
    "duration": 11,
    "start_time": "2022-05-24T06:39:57.770Z"
   },
   {
    "duration": 14,
    "start_time": "2022-05-24T06:39:57.782Z"
   },
   {
    "duration": 3,
    "start_time": "2022-05-24T06:39:57.798Z"
   },
   {
    "duration": 143,
    "start_time": "2022-05-24T06:39:57.826Z"
   },
   {
    "duration": 8,
    "start_time": "2022-05-24T06:39:57.972Z"
   },
   {
    "duration": 104,
    "start_time": "2022-05-24T06:39:57.982Z"
   },
   {
    "duration": 8,
    "start_time": "2022-05-24T06:39:58.088Z"
   },
   {
    "duration": 47,
    "start_time": "2022-05-24T06:39:58.098Z"
   },
   {
    "duration": 48,
    "start_time": "2022-05-24T06:39:58.146Z"
   },
   {
    "duration": 39,
    "start_time": "2022-05-24T06:39:58.195Z"
   },
   {
    "duration": 48,
    "start_time": "2022-05-24T06:39:58.236Z"
   },
   {
    "duration": 24,
    "start_time": "2022-05-24T06:39:58.286Z"
   },
   {
    "duration": 57,
    "start_time": "2022-05-24T06:39:58.312Z"
   },
   {
    "duration": 15,
    "start_time": "2022-05-24T06:39:58.371Z"
   },
   {
    "duration": 11,
    "start_time": "2022-05-24T06:39:58.389Z"
   },
   {
    "duration": 40,
    "start_time": "2022-05-24T06:39:58.402Z"
   },
   {
    "duration": 6,
    "start_time": "2022-05-24T06:39:58.444Z"
   },
   {
    "duration": 18,
    "start_time": "2022-05-24T06:39:58.452Z"
   },
   {
    "duration": 5,
    "start_time": "2022-05-24T06:39:58.471Z"
   },
   {
    "duration": 128,
    "start_time": "2022-05-24T06:39:58.478Z"
   },
   {
    "duration": 56,
    "start_time": "2022-05-24T06:39:58.607Z"
   },
   {
    "duration": 43,
    "start_time": "2022-05-24T06:39:58.665Z"
   },
   {
    "duration": 45,
    "start_time": "2022-05-24T06:39:58.711Z"
   },
   {
    "duration": 2,
    "start_time": "2022-05-24T06:39:58.758Z"
   },
   {
    "duration": 8,
    "start_time": "2022-05-24T06:39:58.762Z"
   },
   {
    "duration": 18,
    "start_time": "2022-05-24T06:39:58.772Z"
   },
   {
    "duration": 33,
    "start_time": "2022-05-24T06:39:58.792Z"
   },
   {
    "duration": 101,
    "start_time": "2022-05-24T06:39:58.827Z"
   },
   {
    "duration": 21,
    "start_time": "2022-05-24T06:39:58.930Z"
   },
   {
    "duration": 14,
    "start_time": "2022-05-24T06:39:58.953Z"
   },
   {
    "duration": 904,
    "start_time": "2022-05-24T06:39:58.969Z"
   },
   {
    "duration": 483,
    "start_time": "2022-05-24T06:39:59.874Z"
   },
   {
    "duration": 6,
    "start_time": "2022-05-24T06:40:00.359Z"
   },
   {
    "duration": 522,
    "start_time": "2022-05-24T06:40:00.367Z"
   },
   {
    "duration": 5,
    "start_time": "2022-05-24T06:40:00.891Z"
   },
   {
    "duration": 146,
    "start_time": "2022-05-24T06:40:00.898Z"
   },
   {
    "duration": 0,
    "start_time": "2022-05-24T06:40:01.046Z"
   },
   {
    "duration": 0,
    "start_time": "2022-05-24T06:40:01.047Z"
   },
   {
    "duration": 0,
    "start_time": "2022-05-24T06:40:01.048Z"
   },
   {
    "duration": 777,
    "start_time": "2022-05-24T06:40:19.170Z"
   },
   {
    "duration": 465,
    "start_time": "2022-05-24T06:40:19.949Z"
   },
   {
    "duration": 34,
    "start_time": "2022-05-24T06:40:20.416Z"
   },
   {
    "duration": 28,
    "start_time": "2022-05-24T06:40:20.452Z"
   },
   {
    "duration": 18,
    "start_time": "2022-05-24T06:40:20.482Z"
   },
   {
    "duration": 37,
    "start_time": "2022-05-24T06:40:20.501Z"
   },
   {
    "duration": 21,
    "start_time": "2022-05-24T06:40:20.540Z"
   },
   {
    "duration": 23,
    "start_time": "2022-05-24T06:40:20.563Z"
   },
   {
    "duration": 155,
    "start_time": "2022-05-24T06:40:20.588Z"
   },
   {
    "duration": 7,
    "start_time": "2022-05-24T06:40:20.746Z"
   },
   {
    "duration": 100,
    "start_time": "2022-05-24T06:40:20.754Z"
   },
   {
    "duration": 9,
    "start_time": "2022-05-24T06:40:20.855Z"
   },
   {
    "duration": 39,
    "start_time": "2022-05-24T06:40:20.866Z"
   },
   {
    "duration": 62,
    "start_time": "2022-05-24T06:40:20.907Z"
   },
   {
    "duration": 16,
    "start_time": "2022-05-24T06:40:20.971Z"
   },
   {
    "duration": 71,
    "start_time": "2022-05-24T06:40:20.989Z"
   },
   {
    "duration": 19,
    "start_time": "2022-05-24T06:40:21.062Z"
   },
   {
    "duration": 70,
    "start_time": "2022-05-24T06:40:21.083Z"
   },
   {
    "duration": 16,
    "start_time": "2022-05-24T06:40:21.154Z"
   },
   {
    "duration": 12,
    "start_time": "2022-05-24T06:40:21.171Z"
   },
   {
    "duration": 14,
    "start_time": "2022-05-24T06:40:21.184Z"
   },
   {
    "duration": 14,
    "start_time": "2022-05-24T06:40:21.224Z"
   },
   {
    "duration": 19,
    "start_time": "2022-05-24T06:40:21.239Z"
   },
   {
    "duration": 6,
    "start_time": "2022-05-24T06:40:21.259Z"
   },
   {
    "duration": 120,
    "start_time": "2022-05-24T06:40:21.266Z"
   },
   {
    "duration": 55,
    "start_time": "2022-05-24T06:40:21.387Z"
   },
   {
    "duration": 42,
    "start_time": "2022-05-24T06:40:21.444Z"
   },
   {
    "duration": 52,
    "start_time": "2022-05-24T06:40:21.489Z"
   },
   {
    "duration": 3,
    "start_time": "2022-05-24T06:40:21.542Z"
   },
   {
    "duration": 8,
    "start_time": "2022-05-24T06:40:21.546Z"
   },
   {
    "duration": 15,
    "start_time": "2022-05-24T06:40:21.556Z"
   },
   {
    "duration": 18,
    "start_time": "2022-05-24T06:40:21.572Z"
   },
   {
    "duration": 118,
    "start_time": "2022-05-24T06:40:21.592Z"
   },
   {
    "duration": 24,
    "start_time": "2022-05-24T06:40:21.712Z"
   },
   {
    "duration": 16,
    "start_time": "2022-05-24T06:40:21.737Z"
   },
   {
    "duration": 887,
    "start_time": "2022-05-24T06:40:21.755Z"
   },
   {
    "duration": 510,
    "start_time": "2022-05-24T06:40:22.644Z"
   },
   {
    "duration": 6,
    "start_time": "2022-05-24T06:40:23.156Z"
   },
   {
    "duration": 507,
    "start_time": "2022-05-24T06:40:23.164Z"
   },
   {
    "duration": 5,
    "start_time": "2022-05-24T06:40:23.672Z"
   },
   {
    "duration": 122,
    "start_time": "2022-05-24T06:40:23.678Z"
   },
   {
    "duration": 0,
    "start_time": "2022-05-24T06:40:23.801Z"
   },
   {
    "duration": 0,
    "start_time": "2022-05-24T06:40:23.802Z"
   },
   {
    "duration": 0,
    "start_time": "2022-05-24T06:40:23.803Z"
   },
   {
    "duration": 838,
    "start_time": "2022-05-24T06:41:20.937Z"
   },
   {
    "duration": 435,
    "start_time": "2022-05-24T06:41:21.777Z"
   },
   {
    "duration": 37,
    "start_time": "2022-05-24T06:41:22.213Z"
   },
   {
    "duration": 27,
    "start_time": "2022-05-24T06:41:22.253Z"
   },
   {
    "duration": 20,
    "start_time": "2022-05-24T06:41:22.283Z"
   },
   {
    "duration": 17,
    "start_time": "2022-05-24T06:41:22.324Z"
   },
   {
    "duration": 18,
    "start_time": "2022-05-24T06:41:22.343Z"
   },
   {
    "duration": 6,
    "start_time": "2022-05-24T06:41:22.363Z"
   },
   {
    "duration": 165,
    "start_time": "2022-05-24T06:41:22.371Z"
   },
   {
    "duration": 9,
    "start_time": "2022-05-24T06:41:22.544Z"
   },
   {
    "duration": 115,
    "start_time": "2022-05-24T06:41:22.556Z"
   },
   {
    "duration": 9,
    "start_time": "2022-05-24T06:41:22.674Z"
   },
   {
    "duration": 41,
    "start_time": "2022-05-24T06:41:22.685Z"
   },
   {
    "duration": 64,
    "start_time": "2022-05-24T06:41:22.731Z"
   },
   {
    "duration": 40,
    "start_time": "2022-05-24T06:41:22.797Z"
   },
   {
    "duration": 58,
    "start_time": "2022-05-24T06:41:22.845Z"
   },
   {
    "duration": 36,
    "start_time": "2022-05-24T06:41:22.905Z"
   },
   {
    "duration": 45,
    "start_time": "2022-05-24T06:41:22.942Z"
   },
   {
    "duration": 16,
    "start_time": "2022-05-24T06:41:22.989Z"
   },
   {
    "duration": 19,
    "start_time": "2022-05-24T06:41:23.023Z"
   },
   {
    "duration": 16,
    "start_time": "2022-05-24T06:41:23.044Z"
   },
   {
    "duration": 8,
    "start_time": "2022-05-24T06:41:23.061Z"
   },
   {
    "duration": 16,
    "start_time": "2022-05-24T06:41:23.071Z"
   },
   {
    "duration": 5,
    "start_time": "2022-05-24T06:41:23.089Z"
   },
   {
    "duration": 147,
    "start_time": "2022-05-24T06:41:23.096Z"
   },
   {
    "duration": 48,
    "start_time": "2022-05-24T06:41:23.244Z"
   },
   {
    "duration": 73,
    "start_time": "2022-05-24T06:41:23.294Z"
   },
   {
    "duration": 31,
    "start_time": "2022-05-24T06:41:23.369Z"
   },
   {
    "duration": 28,
    "start_time": "2022-05-24T06:41:23.402Z"
   },
   {
    "duration": 11,
    "start_time": "2022-05-24T06:41:23.431Z"
   },
   {
    "duration": 15,
    "start_time": "2022-05-24T06:41:23.443Z"
   },
   {
    "duration": 26,
    "start_time": "2022-05-24T06:41:23.460Z"
   },
   {
    "duration": 123,
    "start_time": "2022-05-24T06:41:23.488Z"
   },
   {
    "duration": 17,
    "start_time": "2022-05-24T06:41:23.613Z"
   },
   {
    "duration": 19,
    "start_time": "2022-05-24T06:41:23.631Z"
   },
   {
    "duration": 842,
    "start_time": "2022-05-24T06:41:23.652Z"
   },
   {
    "duration": 465,
    "start_time": "2022-05-24T06:41:24.496Z"
   },
   {
    "duration": 6,
    "start_time": "2022-05-24T06:41:24.962Z"
   },
   {
    "duration": 527,
    "start_time": "2022-05-24T06:41:24.969Z"
   },
   {
    "duration": 7,
    "start_time": "2022-05-24T06:41:25.498Z"
   },
   {
    "duration": 130,
    "start_time": "2022-05-24T06:41:25.522Z"
   },
   {
    "duration": 0,
    "start_time": "2022-05-24T06:41:25.654Z"
   },
   {
    "duration": 0,
    "start_time": "2022-05-24T06:41:25.655Z"
   },
   {
    "duration": 0,
    "start_time": "2022-05-24T06:41:25.655Z"
   },
   {
    "duration": 755,
    "start_time": "2022-05-24T06:42:38.798Z"
   },
   {
    "duration": 653,
    "start_time": "2022-05-24T06:43:42.561Z"
   },
   {
    "duration": 519,
    "start_time": "2022-05-24T06:44:18.531Z"
   },
   {
    "duration": 466,
    "start_time": "2022-05-24T06:44:35.330Z"
   },
   {
    "duration": 710,
    "start_time": "2022-05-24T06:44:52.579Z"
   },
   {
    "duration": 5,
    "start_time": "2022-05-24T06:45:41.610Z"
   },
   {
    "duration": 502,
    "start_time": "2022-05-24T06:45:55.203Z"
   },
   {
    "duration": 533,
    "start_time": "2022-05-24T06:46:58.607Z"
   },
   {
    "duration": 156,
    "start_time": "2022-05-24T06:47:24.282Z"
   },
   {
    "duration": 183,
    "start_time": "2022-05-24T06:47:47.590Z"
   },
   {
    "duration": 172,
    "start_time": "2022-05-24T06:48:25.169Z"
   },
   {
    "duration": 171,
    "start_time": "2022-05-24T06:49:15.391Z"
   },
   {
    "duration": 167,
    "start_time": "2022-05-24T06:49:58.329Z"
   },
   {
    "duration": 179,
    "start_time": "2022-05-24T06:50:09.871Z"
   },
   {
    "duration": 148,
    "start_time": "2022-05-24T06:50:37.744Z"
   },
   {
    "duration": 328,
    "start_time": "2022-05-24T06:50:46.059Z"
   },
   {
    "duration": 523,
    "start_time": "2022-05-24T06:53:07.730Z"
   },
   {
    "duration": 203,
    "start_time": "2022-05-24T07:06:07.583Z"
   },
   {
    "duration": 313,
    "start_time": "2022-05-24T07:07:15.253Z"
   },
   {
    "duration": 158,
    "start_time": "2022-05-24T07:07:40.300Z"
   },
   {
    "duration": 866,
    "start_time": "2022-05-24T07:14:44.476Z"
   },
   {
    "duration": 463,
    "start_time": "2022-05-24T07:14:45.344Z"
   },
   {
    "duration": 33,
    "start_time": "2022-05-24T07:14:45.809Z"
   },
   {
    "duration": 26,
    "start_time": "2022-05-24T07:14:45.845Z"
   },
   {
    "duration": 18,
    "start_time": "2022-05-24T07:14:45.873Z"
   },
   {
    "duration": 9,
    "start_time": "2022-05-24T07:14:45.893Z"
   },
   {
    "duration": 15,
    "start_time": "2022-05-24T07:14:45.924Z"
   },
   {
    "duration": 18,
    "start_time": "2022-05-24T07:14:45.941Z"
   },
   {
    "duration": 179,
    "start_time": "2022-05-24T07:14:45.961Z"
   },
   {
    "duration": 9,
    "start_time": "2022-05-24T07:14:46.144Z"
   },
   {
    "duration": 113,
    "start_time": "2022-05-24T07:14:46.155Z"
   },
   {
    "duration": 9,
    "start_time": "2022-05-24T07:14:46.270Z"
   },
   {
    "duration": 46,
    "start_time": "2022-05-24T07:14:46.281Z"
   },
   {
    "duration": 64,
    "start_time": "2022-05-24T07:14:46.329Z"
   },
   {
    "duration": 17,
    "start_time": "2022-05-24T07:14:46.395Z"
   },
   {
    "duration": 64,
    "start_time": "2022-05-24T07:14:46.424Z"
   },
   {
    "duration": 43,
    "start_time": "2022-05-24T07:14:46.490Z"
   },
   {
    "duration": 52,
    "start_time": "2022-05-24T07:14:46.536Z"
   },
   {
    "duration": 43,
    "start_time": "2022-05-24T07:14:46.590Z"
   },
   {
    "duration": 12,
    "start_time": "2022-05-24T07:14:46.635Z"
   },
   {
    "duration": 21,
    "start_time": "2022-05-24T07:14:46.649Z"
   },
   {
    "duration": 15,
    "start_time": "2022-05-24T07:14:46.672Z"
   },
   {
    "duration": 35,
    "start_time": "2022-05-24T07:14:46.689Z"
   },
   {
    "duration": 23,
    "start_time": "2022-05-24T07:14:46.726Z"
   },
   {
    "duration": 131,
    "start_time": "2022-05-24T07:14:46.751Z"
   },
   {
    "duration": 58,
    "start_time": "2022-05-24T07:14:46.884Z"
   },
   {
    "duration": 46,
    "start_time": "2022-05-24T07:14:46.944Z"
   },
   {
    "duration": 66,
    "start_time": "2022-05-24T07:14:46.993Z"
   },
   {
    "duration": 3,
    "start_time": "2022-05-24T07:14:47.061Z"
   },
   {
    "duration": 24,
    "start_time": "2022-05-24T07:14:47.066Z"
   },
   {
    "duration": 49,
    "start_time": "2022-05-24T07:14:47.092Z"
   },
   {
    "duration": 33,
    "start_time": "2022-05-24T07:14:47.143Z"
   },
   {
    "duration": 119,
    "start_time": "2022-05-24T07:14:47.177Z"
   },
   {
    "duration": 38,
    "start_time": "2022-05-24T07:14:47.298Z"
   },
   {
    "duration": 22,
    "start_time": "2022-05-24T07:14:47.338Z"
   },
   {
    "duration": 953,
    "start_time": "2022-05-24T07:14:47.362Z"
   },
   {
    "duration": 536,
    "start_time": "2022-05-24T07:14:48.317Z"
   },
   {
    "duration": 6,
    "start_time": "2022-05-24T07:14:48.855Z"
   },
   {
    "duration": 598,
    "start_time": "2022-05-24T07:14:48.863Z"
   },
   {
    "duration": 6,
    "start_time": "2022-05-24T07:14:49.462Z"
   },
   {
    "duration": 188,
    "start_time": "2022-05-24T07:14:49.470Z"
   },
   {
    "duration": 5,
    "start_time": "2022-05-24T07:14:49.660Z"
   },
   {
    "duration": 23,
    "start_time": "2022-05-24T07:14:49.667Z"
   },
   {
    "duration": 5,
    "start_time": "2022-05-24T07:14:49.692Z"
   },
   {
    "duration": 541,
    "start_time": "2022-05-24T07:24:24.068Z"
   },
   {
    "duration": 61,
    "start_time": "2022-05-24T18:59:09.379Z"
   },
   {
    "duration": 755,
    "start_time": "2022-05-24T18:59:14.763Z"
   },
   {
    "duration": 976,
    "start_time": "2022-05-24T18:59:15.520Z"
   },
   {
    "duration": 23,
    "start_time": "2022-05-24T18:59:16.498Z"
   },
   {
    "duration": 18,
    "start_time": "2022-05-24T18:59:16.523Z"
   },
   {
    "duration": 17,
    "start_time": "2022-05-24T18:59:16.542Z"
   },
   {
    "duration": 9,
    "start_time": "2022-05-24T18:59:16.560Z"
   },
   {
    "duration": 12,
    "start_time": "2022-05-24T18:59:16.571Z"
   },
   {
    "duration": 5,
    "start_time": "2022-05-24T18:59:16.585Z"
   },
   {
    "duration": 126,
    "start_time": "2022-05-24T18:59:16.591Z"
   },
   {
    "duration": 7,
    "start_time": "2022-05-24T18:59:16.726Z"
   },
   {
    "duration": 67,
    "start_time": "2022-05-24T18:59:16.735Z"
   },
   {
    "duration": 26,
    "start_time": "2022-05-24T18:59:16.804Z"
   },
   {
    "duration": 30,
    "start_time": "2022-05-24T18:59:16.831Z"
   },
   {
    "duration": 41,
    "start_time": "2022-05-24T18:59:16.862Z"
   },
   {
    "duration": 33,
    "start_time": "2022-05-24T18:59:16.905Z"
   },
   {
    "duration": 45,
    "start_time": "2022-05-24T18:59:16.939Z"
   },
   {
    "duration": 19,
    "start_time": "2022-05-24T18:59:16.985Z"
   },
   {
    "duration": 61,
    "start_time": "2022-05-24T18:59:17.005Z"
   },
   {
    "duration": 19,
    "start_time": "2022-05-24T18:59:17.067Z"
   },
   {
    "duration": 10,
    "start_time": "2022-05-24T18:59:17.087Z"
   },
   {
    "duration": 39,
    "start_time": "2022-05-24T18:59:17.099Z"
   },
   {
    "duration": 9,
    "start_time": "2022-05-24T18:59:17.139Z"
   },
   {
    "duration": 13,
    "start_time": "2022-05-24T18:59:17.150Z"
   },
   {
    "duration": 5,
    "start_time": "2022-05-24T18:59:17.164Z"
   },
   {
    "duration": 120,
    "start_time": "2022-05-24T18:59:17.171Z"
   },
   {
    "duration": 46,
    "start_time": "2022-05-24T18:59:17.292Z"
   },
   {
    "duration": 41,
    "start_time": "2022-05-24T18:59:17.340Z"
   },
   {
    "duration": 46,
    "start_time": "2022-05-24T18:59:17.384Z"
   },
   {
    "duration": 3,
    "start_time": "2022-05-24T18:59:17.431Z"
   },
   {
    "duration": 6,
    "start_time": "2022-05-24T18:59:17.436Z"
   },
   {
    "duration": 14,
    "start_time": "2022-05-24T18:59:17.444Z"
   },
   {
    "duration": 24,
    "start_time": "2022-05-24T18:59:17.459Z"
   },
   {
    "duration": 117,
    "start_time": "2022-05-24T18:59:17.485Z"
   },
   {
    "duration": 29,
    "start_time": "2022-05-24T18:59:17.603Z"
   },
   {
    "duration": 12,
    "start_time": "2022-05-24T18:59:17.634Z"
   },
   {
    "duration": 12,
    "start_time": "2022-05-24T18:59:17.647Z"
   },
   {
    "duration": 911,
    "start_time": "2022-05-24T18:59:17.661Z"
   },
   {
    "duration": 411,
    "start_time": "2022-05-24T18:59:18.574Z"
   },
   {
    "duration": 6,
    "start_time": "2022-05-24T18:59:18.986Z"
   },
   {
    "duration": 457,
    "start_time": "2022-05-24T18:59:18.993Z"
   },
   {
    "duration": 5,
    "start_time": "2022-05-24T18:59:19.452Z"
   },
   {
    "duration": 148,
    "start_time": "2022-05-24T18:59:19.459Z"
   },
   {
    "duration": 6,
    "start_time": "2022-05-24T18:59:19.609Z"
   },
   {
    "duration": 28,
    "start_time": "2022-05-24T18:59:19.616Z"
   },
   {
    "duration": 6,
    "start_time": "2022-05-24T18:59:19.646Z"
   },
   {
    "duration": 16,
    "start_time": "2022-05-24T18:59:30.474Z"
   },
   {
    "duration": 5,
    "start_time": "2022-05-24T19:05:11.027Z"
   },
   {
    "duration": 162,
    "start_time": "2022-05-24T19:56:54.637Z"
   },
   {
    "duration": 137,
    "start_time": "2022-05-24T19:57:24.055Z"
   },
   {
    "duration": 796,
    "start_time": "2022-05-25T05:46:57.486Z"
   },
   {
    "duration": 1022,
    "start_time": "2022-05-25T05:46:58.284Z"
   },
   {
    "duration": 31,
    "start_time": "2022-05-25T05:46:59.308Z"
   },
   {
    "duration": 25,
    "start_time": "2022-05-25T05:46:59.343Z"
   },
   {
    "duration": 17,
    "start_time": "2022-05-25T05:46:59.370Z"
   },
   {
    "duration": 9,
    "start_time": "2022-05-25T05:46:59.389Z"
   },
   {
    "duration": 32,
    "start_time": "2022-05-25T05:46:59.399Z"
   },
   {
    "duration": 7,
    "start_time": "2022-05-25T05:46:59.434Z"
   },
   {
    "duration": 119,
    "start_time": "2022-05-25T05:46:59.443Z"
   },
   {
    "duration": 7,
    "start_time": "2022-05-25T05:46:59.566Z"
   },
   {
    "duration": 105,
    "start_time": "2022-05-25T05:46:59.575Z"
   },
   {
    "duration": 8,
    "start_time": "2022-05-25T05:46:59.682Z"
   },
   {
    "duration": 38,
    "start_time": "2022-05-25T05:46:59.691Z"
   },
   {
    "duration": 49,
    "start_time": "2022-05-25T05:46:59.733Z"
   },
   {
    "duration": 14,
    "start_time": "2022-05-25T05:46:59.784Z"
   },
   {
    "duration": 76,
    "start_time": "2022-05-25T05:46:59.800Z"
   },
   {
    "duration": 17,
    "start_time": "2022-05-25T05:46:59.878Z"
   },
   {
    "duration": 69,
    "start_time": "2022-05-25T05:46:59.896Z"
   },
   {
    "duration": 16,
    "start_time": "2022-05-25T05:46:59.967Z"
   },
   {
    "duration": 9,
    "start_time": "2022-05-25T05:46:59.985Z"
   },
   {
    "duration": 40,
    "start_time": "2022-05-25T05:46:59.996Z"
   },
   {
    "duration": 7,
    "start_time": "2022-05-25T05:47:00.045Z"
   },
   {
    "duration": 22,
    "start_time": "2022-05-25T05:47:00.053Z"
   },
   {
    "duration": 8,
    "start_time": "2022-05-25T05:47:00.077Z"
   },
   {
    "duration": 116,
    "start_time": "2022-05-25T05:47:00.087Z"
   },
   {
    "duration": 57,
    "start_time": "2022-05-25T05:47:00.205Z"
   },
   {
    "duration": 43,
    "start_time": "2022-05-25T05:47:00.264Z"
   },
   {
    "duration": 50,
    "start_time": "2022-05-25T05:47:00.311Z"
   },
   {
    "duration": 3,
    "start_time": "2022-05-25T05:47:00.362Z"
   },
   {
    "duration": 13,
    "start_time": "2022-05-25T05:47:00.366Z"
   },
   {
    "duration": 20,
    "start_time": "2022-05-25T05:47:00.381Z"
   },
   {
    "duration": 42,
    "start_time": "2022-05-25T05:47:00.403Z"
   },
   {
    "duration": 109,
    "start_time": "2022-05-25T05:47:00.447Z"
   },
   {
    "duration": 19,
    "start_time": "2022-05-25T05:47:00.558Z"
   },
   {
    "duration": 11,
    "start_time": "2022-05-25T05:47:00.579Z"
   },
   {
    "duration": 1078,
    "start_time": "2022-05-25T05:47:00.592Z"
   },
   {
    "duration": 525,
    "start_time": "2022-05-25T05:47:01.672Z"
   },
   {
    "duration": 6,
    "start_time": "2022-05-25T05:47:02.199Z"
   },
   {
    "duration": 539,
    "start_time": "2022-05-25T05:47:02.207Z"
   },
   {
    "duration": 6,
    "start_time": "2022-05-25T05:47:02.748Z"
   },
   {
    "duration": 186,
    "start_time": "2022-05-25T05:47:02.756Z"
   },
   {
    "duration": 6,
    "start_time": "2022-05-25T05:47:02.946Z"
   },
   {
    "duration": 39,
    "start_time": "2022-05-25T05:47:02.954Z"
   },
   {
    "duration": 25,
    "start_time": "2022-05-25T05:47:02.995Z"
   },
   {
    "duration": 528,
    "start_time": "2022-05-25T05:49:35.748Z"
   },
   {
    "duration": 532,
    "start_time": "2022-05-25T05:50:49.891Z"
   },
   {
    "duration": 155,
    "start_time": "2022-05-25T05:51:06.455Z"
   },
   {
    "duration": 17,
    "start_time": "2022-05-25T05:55:11.781Z"
   },
   {
    "duration": 16,
    "start_time": "2022-05-25T05:55:16.931Z"
   },
   {
    "duration": 801,
    "start_time": "2022-05-25T05:55:32.122Z"
   },
   {
    "duration": 425,
    "start_time": "2022-05-25T05:55:32.925Z"
   },
   {
    "duration": 26,
    "start_time": "2022-05-25T05:55:33.352Z"
   },
   {
    "duration": 24,
    "start_time": "2022-05-25T05:55:33.380Z"
   },
   {
    "duration": 28,
    "start_time": "2022-05-25T05:55:33.405Z"
   },
   {
    "duration": 27,
    "start_time": "2022-05-25T05:55:33.435Z"
   },
   {
    "duration": 30,
    "start_time": "2022-05-25T05:55:33.465Z"
   },
   {
    "duration": 38,
    "start_time": "2022-05-25T05:55:33.497Z"
   },
   {
    "duration": 146,
    "start_time": "2022-05-25T05:55:33.536Z"
   },
   {
    "duration": 7,
    "start_time": "2022-05-25T05:55:33.684Z"
   },
   {
    "duration": 103,
    "start_time": "2022-05-25T05:55:33.692Z"
   },
   {
    "duration": 9,
    "start_time": "2022-05-25T05:55:33.797Z"
   },
   {
    "duration": 57,
    "start_time": "2022-05-25T05:55:33.808Z"
   },
   {
    "duration": 67,
    "start_time": "2022-05-25T05:55:33.867Z"
   },
   {
    "duration": 56,
    "start_time": "2022-05-25T05:55:33.936Z"
   },
   {
    "duration": 17,
    "start_time": "2022-05-25T05:55:33.994Z"
   },
   {
    "duration": 52,
    "start_time": "2022-05-25T05:55:34.026Z"
   },
   {
    "duration": 16,
    "start_time": "2022-05-25T05:55:34.079Z"
   },
   {
    "duration": 36,
    "start_time": "2022-05-25T05:55:34.096Z"
   },
   {
    "duration": 6,
    "start_time": "2022-05-25T05:55:34.133Z"
   },
   {
    "duration": 33,
    "start_time": "2022-05-25T05:55:34.140Z"
   },
   {
    "duration": 24,
    "start_time": "2022-05-25T05:55:34.174Z"
   },
   {
    "duration": 134,
    "start_time": "2022-05-25T05:55:34.200Z"
   },
   {
    "duration": 40,
    "start_time": "2022-05-25T05:55:34.336Z"
   },
   {
    "duration": 51,
    "start_time": "2022-05-25T05:55:34.378Z"
   },
   {
    "duration": 26,
    "start_time": "2022-05-25T05:55:34.431Z"
   },
   {
    "duration": 22,
    "start_time": "2022-05-25T05:55:34.459Z"
   },
   {
    "duration": 12,
    "start_time": "2022-05-25T05:55:34.483Z"
   },
   {
    "duration": 29,
    "start_time": "2022-05-25T05:55:34.496Z"
   },
   {
    "duration": 42,
    "start_time": "2022-05-25T05:55:34.526Z"
   },
   {
    "duration": 86,
    "start_time": "2022-05-25T05:55:34.569Z"
   },
   {
    "duration": 18,
    "start_time": "2022-05-25T05:55:34.657Z"
   },
   {
    "duration": 23,
    "start_time": "2022-05-25T05:55:34.677Z"
   },
   {
    "duration": 726,
    "start_time": "2022-05-25T05:55:34.701Z"
   },
   {
    "duration": 402,
    "start_time": "2022-05-25T05:55:35.429Z"
   },
   {
    "duration": 6,
    "start_time": "2022-05-25T05:55:35.832Z"
   },
   {
    "duration": 475,
    "start_time": "2022-05-25T05:55:35.840Z"
   },
   {
    "duration": 14,
    "start_time": "2022-05-25T05:55:36.317Z"
   },
   {
    "duration": 199,
    "start_time": "2022-05-25T05:55:36.333Z"
   },
   {
    "duration": 6,
    "start_time": "2022-05-25T05:55:36.533Z"
   },
   {
    "duration": 24,
    "start_time": "2022-05-25T05:55:36.540Z"
   },
   {
    "duration": 5,
    "start_time": "2022-05-25T05:55:36.565Z"
   },
   {
    "duration": 167,
    "start_time": "2022-05-25T06:08:51.115Z"
   },
   {
    "duration": 168,
    "start_time": "2022-05-25T06:09:27.400Z"
   },
   {
    "duration": 266,
    "start_time": "2022-05-25T06:10:52.347Z"
   },
   {
    "duration": 168,
    "start_time": "2022-05-25T06:10:57.819Z"
   },
   {
    "duration": 191,
    "start_time": "2022-05-25T06:11:30.248Z"
   },
   {
    "duration": 178,
    "start_time": "2022-05-25T06:11:45.385Z"
   },
   {
    "duration": 186,
    "start_time": "2022-05-25T06:13:41.160Z"
   },
   {
    "duration": 171,
    "start_time": "2022-05-25T06:13:52.443Z"
   },
   {
    "duration": 174,
    "start_time": "2022-05-25T06:14:10.412Z"
   },
   {
    "duration": 233,
    "start_time": "2022-05-25T06:14:24.077Z"
   },
   {
    "duration": 180,
    "start_time": "2022-05-25T06:14:31.791Z"
   },
   {
    "duration": 139,
    "start_time": "2022-05-25T06:15:10.851Z"
   },
   {
    "duration": 136,
    "start_time": "2022-05-25T06:15:24.453Z"
   },
   {
    "duration": 156,
    "start_time": "2022-05-25T06:16:09.082Z"
   },
   {
    "duration": 151,
    "start_time": "2022-05-25T06:16:38.083Z"
   },
   {
    "duration": 260,
    "start_time": "2022-05-25T06:16:53.399Z"
   },
   {
    "duration": 38,
    "start_time": "2022-05-25T06:17:17.355Z"
   },
   {
    "duration": 147,
    "start_time": "2022-05-25T06:17:38.741Z"
   },
   {
    "duration": 184,
    "start_time": "2022-05-25T06:17:55.513Z"
   },
   {
    "duration": 184,
    "start_time": "2022-05-25T06:18:01.568Z"
   },
   {
    "duration": 165,
    "start_time": "2022-05-25T06:18:32.891Z"
   },
   {
    "duration": 197,
    "start_time": "2022-05-25T06:19:49.173Z"
   },
   {
    "duration": 207,
    "start_time": "2022-05-25T06:20:26.354Z"
   },
   {
    "duration": 164,
    "start_time": "2022-05-25T06:43:07.308Z"
   },
   {
    "duration": 1248,
    "start_time": "2022-05-25T06:43:22.240Z"
   },
   {
    "duration": 464,
    "start_time": "2022-05-25T06:43:23.490Z"
   },
   {
    "duration": 30,
    "start_time": "2022-05-25T06:43:23.956Z"
   },
   {
    "duration": 21,
    "start_time": "2022-05-25T06:43:23.988Z"
   },
   {
    "duration": 28,
    "start_time": "2022-05-25T06:43:24.010Z"
   },
   {
    "duration": 11,
    "start_time": "2022-05-25T06:43:24.039Z"
   },
   {
    "duration": 19,
    "start_time": "2022-05-25T06:43:24.052Z"
   },
   {
    "duration": 10,
    "start_time": "2022-05-25T06:43:24.073Z"
   },
   {
    "duration": 159,
    "start_time": "2022-05-25T06:43:24.084Z"
   },
   {
    "duration": 8,
    "start_time": "2022-05-25T06:43:24.245Z"
   },
   {
    "duration": 120,
    "start_time": "2022-05-25T06:43:24.254Z"
   },
   {
    "duration": 9,
    "start_time": "2022-05-25T06:43:24.376Z"
   },
   {
    "duration": 41,
    "start_time": "2022-05-25T06:43:24.387Z"
   },
   {
    "duration": 60,
    "start_time": "2022-05-25T06:43:24.432Z"
   },
   {
    "duration": 83,
    "start_time": "2022-05-25T06:43:24.493Z"
   },
   {
    "duration": 18,
    "start_time": "2022-05-25T06:43:24.578Z"
   },
   {
    "duration": 73,
    "start_time": "2022-05-25T06:43:24.598Z"
   },
   {
    "duration": 17,
    "start_time": "2022-05-25T06:43:24.673Z"
   },
   {
    "duration": 51,
    "start_time": "2022-05-25T06:43:24.691Z"
   },
   {
    "duration": 7,
    "start_time": "2022-05-25T06:43:24.743Z"
   },
   {
    "duration": 25,
    "start_time": "2022-05-25T06:43:24.752Z"
   },
   {
    "duration": 5,
    "start_time": "2022-05-25T06:43:24.779Z"
   },
   {
    "duration": 151,
    "start_time": "2022-05-25T06:43:24.786Z"
   },
   {
    "duration": 43,
    "start_time": "2022-05-25T06:43:24.940Z"
   },
   {
    "duration": 61,
    "start_time": "2022-05-25T06:43:24.984Z"
   },
   {
    "duration": 28,
    "start_time": "2022-05-25T06:43:25.047Z"
   },
   {
    "duration": 11,
    "start_time": "2022-05-25T06:43:25.077Z"
   },
   {
    "duration": 41,
    "start_time": "2022-05-25T06:43:25.090Z"
   },
   {
    "duration": 96,
    "start_time": "2022-05-25T06:43:25.142Z"
   },
   {
    "duration": 28,
    "start_time": "2022-05-25T06:43:25.239Z"
   },
   {
    "duration": 12,
    "start_time": "2022-05-25T06:43:25.268Z"
   },
   {
    "duration": 802,
    "start_time": "2022-05-25T06:43:25.282Z"
   },
   {
    "duration": 524,
    "start_time": "2022-05-25T06:43:26.086Z"
   },
   {
    "duration": 6,
    "start_time": "2022-05-25T06:43:26.612Z"
   },
   {
    "duration": 466,
    "start_time": "2022-05-25T06:43:26.619Z"
   },
   {
    "duration": 6,
    "start_time": "2022-05-25T06:43:27.087Z"
   },
   {
    "duration": 182,
    "start_time": "2022-05-25T06:43:27.095Z"
   },
   {
    "duration": 6,
    "start_time": "2022-05-25T06:43:27.278Z"
   },
   {
    "duration": 25,
    "start_time": "2022-05-25T06:43:27.286Z"
   },
   {
    "duration": 19,
    "start_time": "2022-05-25T06:43:27.312Z"
   },
   {
    "duration": 41,
    "start_time": "2022-05-25T06:54:02.830Z"
   },
   {
    "duration": 822,
    "start_time": "2022-05-25T06:55:00.402Z"
   },
   {
    "duration": 441,
    "start_time": "2022-05-25T06:55:01.226Z"
   },
   {
    "duration": 25,
    "start_time": "2022-05-25T06:55:01.668Z"
   },
   {
    "duration": 22,
    "start_time": "2022-05-25T06:55:01.695Z"
   },
   {
    "duration": 18,
    "start_time": "2022-05-25T06:55:01.718Z"
   },
   {
    "duration": 15,
    "start_time": "2022-05-25T06:55:01.738Z"
   },
   {
    "duration": 22,
    "start_time": "2022-05-25T06:55:01.755Z"
   },
   {
    "duration": 6,
    "start_time": "2022-05-25T06:55:01.779Z"
   },
   {
    "duration": 185,
    "start_time": "2022-05-25T06:55:01.787Z"
   },
   {
    "duration": 8,
    "start_time": "2022-05-25T06:55:01.975Z"
   },
   {
    "duration": 130,
    "start_time": "2022-05-25T06:55:01.985Z"
   },
   {
    "duration": 15,
    "start_time": "2022-05-25T06:55:02.117Z"
   },
   {
    "duration": 48,
    "start_time": "2022-05-25T06:55:02.134Z"
   },
   {
    "duration": 67,
    "start_time": "2022-05-25T06:55:02.183Z"
   },
   {
    "duration": 78,
    "start_time": "2022-05-25T06:55:02.251Z"
   },
   {
    "duration": 20,
    "start_time": "2022-05-25T06:55:02.332Z"
   },
   {
    "duration": 80,
    "start_time": "2022-05-25T06:55:02.353Z"
   },
   {
    "duration": 17,
    "start_time": "2022-05-25T06:55:02.435Z"
   },
   {
    "duration": 41,
    "start_time": "2022-05-25T06:55:02.454Z"
   },
   {
    "duration": 10,
    "start_time": "2022-05-25T06:55:02.496Z"
   },
   {
    "duration": 35,
    "start_time": "2022-05-25T06:55:02.508Z"
   },
   {
    "duration": 4,
    "start_time": "2022-05-25T06:55:02.545Z"
   },
   {
    "duration": 118,
    "start_time": "2022-05-25T06:55:02.550Z"
   },
   {
    "duration": 60,
    "start_time": "2022-05-25T06:55:02.669Z"
   },
   {
    "duration": 43,
    "start_time": "2022-05-25T06:55:02.731Z"
   },
   {
    "duration": 130,
    "start_time": "2022-05-25T06:55:02.776Z"
   },
   {
    "duration": 0,
    "start_time": "2022-05-25T06:55:02.908Z"
   },
   {
    "duration": 0,
    "start_time": "2022-05-25T06:55:02.909Z"
   },
   {
    "duration": 0,
    "start_time": "2022-05-25T06:55:02.911Z"
   },
   {
    "duration": 0,
    "start_time": "2022-05-25T06:55:02.912Z"
   },
   {
    "duration": 0,
    "start_time": "2022-05-25T06:55:02.927Z"
   },
   {
    "duration": 0,
    "start_time": "2022-05-25T06:55:02.928Z"
   },
   {
    "duration": 0,
    "start_time": "2022-05-25T06:55:02.931Z"
   },
   {
    "duration": 0,
    "start_time": "2022-05-25T06:55:02.932Z"
   },
   {
    "duration": 0,
    "start_time": "2022-05-25T06:55:02.933Z"
   },
   {
    "duration": 0,
    "start_time": "2022-05-25T06:55:02.934Z"
   },
   {
    "duration": 0,
    "start_time": "2022-05-25T06:55:02.935Z"
   },
   {
    "duration": 0,
    "start_time": "2022-05-25T06:55:02.936Z"
   },
   {
    "duration": 0,
    "start_time": "2022-05-25T06:55:02.937Z"
   },
   {
    "duration": 0,
    "start_time": "2022-05-25T06:55:02.938Z"
   },
   {
    "duration": 34,
    "start_time": "2022-05-25T06:55:24.132Z"
   },
   {
    "duration": 43,
    "start_time": "2022-05-25T06:58:26.899Z"
   },
   {
    "duration": 50,
    "start_time": "2022-05-25T06:58:32.468Z"
   },
   {
    "duration": 42,
    "start_time": "2022-05-25T06:58:36.700Z"
   },
   {
    "duration": 751,
    "start_time": "2022-05-25T06:58:41.170Z"
   },
   {
    "duration": 405,
    "start_time": "2022-05-25T06:58:41.923Z"
   },
   {
    "duration": 30,
    "start_time": "2022-05-25T06:58:42.329Z"
   },
   {
    "duration": 19,
    "start_time": "2022-05-25T06:58:42.361Z"
   },
   {
    "duration": 16,
    "start_time": "2022-05-25T06:58:42.382Z"
   },
   {
    "duration": 27,
    "start_time": "2022-05-25T06:58:42.400Z"
   },
   {
    "duration": 10,
    "start_time": "2022-05-25T06:58:42.429Z"
   },
   {
    "duration": 9,
    "start_time": "2022-05-25T06:58:42.440Z"
   },
   {
    "duration": 158,
    "start_time": "2022-05-25T06:58:42.451Z"
   },
   {
    "duration": 6,
    "start_time": "2022-05-25T06:58:42.612Z"
   },
   {
    "duration": 107,
    "start_time": "2022-05-25T06:58:42.627Z"
   },
   {
    "duration": 10,
    "start_time": "2022-05-25T06:58:42.736Z"
   },
   {
    "duration": 33,
    "start_time": "2022-05-25T06:58:42.748Z"
   },
   {
    "duration": 70,
    "start_time": "2022-05-25T06:58:42.782Z"
   },
   {
    "duration": 59,
    "start_time": "2022-05-25T06:58:42.854Z"
   },
   {
    "duration": 33,
    "start_time": "2022-05-25T06:58:42.915Z"
   },
   {
    "duration": 84,
    "start_time": "2022-05-25T06:58:42.949Z"
   },
   {
    "duration": 17,
    "start_time": "2022-05-25T06:58:43.034Z"
   },
   {
    "duration": 20,
    "start_time": "2022-05-25T06:58:43.053Z"
   },
   {
    "duration": 8,
    "start_time": "2022-05-25T06:58:43.075Z"
   },
   {
    "duration": 53,
    "start_time": "2022-05-25T06:58:43.085Z"
   },
   {
    "duration": 4,
    "start_time": "2022-05-25T06:58:43.140Z"
   },
   {
    "duration": 119,
    "start_time": "2022-05-25T06:58:43.145Z"
   },
   {
    "duration": 141,
    "start_time": "2022-05-25T06:58:43.266Z"
   },
   {
    "duration": 0,
    "start_time": "2022-05-25T06:58:43.409Z"
   },
   {
    "duration": 0,
    "start_time": "2022-05-25T06:58:43.410Z"
   },
   {
    "duration": 0,
    "start_time": "2022-05-25T06:58:43.411Z"
   },
   {
    "duration": 0,
    "start_time": "2022-05-25T06:58:43.412Z"
   },
   {
    "duration": 0,
    "start_time": "2022-05-25T06:58:43.413Z"
   },
   {
    "duration": 0,
    "start_time": "2022-05-25T06:58:43.427Z"
   },
   {
    "duration": 0,
    "start_time": "2022-05-25T06:58:43.428Z"
   },
   {
    "duration": 0,
    "start_time": "2022-05-25T06:58:43.429Z"
   },
   {
    "duration": 0,
    "start_time": "2022-05-25T06:58:43.430Z"
   },
   {
    "duration": 0,
    "start_time": "2022-05-25T06:58:43.431Z"
   },
   {
    "duration": 0,
    "start_time": "2022-05-25T06:58:43.432Z"
   },
   {
    "duration": 0,
    "start_time": "2022-05-25T06:58:43.433Z"
   },
   {
    "duration": 0,
    "start_time": "2022-05-25T06:58:43.435Z"
   },
   {
    "duration": 0,
    "start_time": "2022-05-25T06:58:43.436Z"
   },
   {
    "duration": 0,
    "start_time": "2022-05-25T06:58:43.437Z"
   },
   {
    "duration": 0,
    "start_time": "2022-05-25T06:58:43.438Z"
   },
   {
    "duration": 41,
    "start_time": "2022-05-25T06:59:07.344Z"
   },
   {
    "duration": 818,
    "start_time": "2022-05-25T06:59:17.294Z"
   },
   {
    "duration": 417,
    "start_time": "2022-05-25T06:59:18.114Z"
   },
   {
    "duration": 24,
    "start_time": "2022-05-25T06:59:18.533Z"
   },
   {
    "duration": 20,
    "start_time": "2022-05-25T06:59:18.559Z"
   },
   {
    "duration": 17,
    "start_time": "2022-05-25T06:59:18.581Z"
   },
   {
    "duration": 34,
    "start_time": "2022-05-25T06:59:18.600Z"
   },
   {
    "duration": 13,
    "start_time": "2022-05-25T06:59:18.636Z"
   },
   {
    "duration": 7,
    "start_time": "2022-05-25T06:59:18.651Z"
   },
   {
    "duration": 151,
    "start_time": "2022-05-25T06:59:18.659Z"
   },
   {
    "duration": 16,
    "start_time": "2022-05-25T06:59:18.813Z"
   },
   {
    "duration": 112,
    "start_time": "2022-05-25T06:59:18.830Z"
   },
   {
    "duration": 9,
    "start_time": "2022-05-25T06:59:18.944Z"
   },
   {
    "duration": 39,
    "start_time": "2022-05-25T06:59:18.954Z"
   },
   {
    "duration": 68,
    "start_time": "2022-05-25T06:59:18.995Z"
   },
   {
    "duration": 77,
    "start_time": "2022-05-25T06:59:19.064Z"
   },
   {
    "duration": 19,
    "start_time": "2022-05-25T06:59:19.143Z"
   },
   {
    "duration": 71,
    "start_time": "2022-05-25T06:59:19.164Z"
   },
   {
    "duration": 17,
    "start_time": "2022-05-25T06:59:19.237Z"
   },
   {
    "duration": 19,
    "start_time": "2022-05-25T06:59:19.255Z"
   },
   {
    "duration": 7,
    "start_time": "2022-05-25T06:59:19.275Z"
   },
   {
    "duration": 51,
    "start_time": "2022-05-25T06:59:19.283Z"
   },
   {
    "duration": 3,
    "start_time": "2022-05-25T06:59:19.336Z"
   },
   {
    "duration": 117,
    "start_time": "2022-05-25T06:59:19.341Z"
   },
   {
    "duration": 43,
    "start_time": "2022-05-25T06:59:19.460Z"
   },
   {
    "duration": 55,
    "start_time": "2022-05-25T06:59:19.504Z"
   },
   {
    "duration": 141,
    "start_time": "2022-05-25T06:59:19.560Z"
   },
   {
    "duration": 0,
    "start_time": "2022-05-25T06:59:19.703Z"
   },
   {
    "duration": 0,
    "start_time": "2022-05-25T06:59:19.704Z"
   },
   {
    "duration": 0,
    "start_time": "2022-05-25T06:59:19.705Z"
   },
   {
    "duration": 0,
    "start_time": "2022-05-25T06:59:19.706Z"
   },
   {
    "duration": 0,
    "start_time": "2022-05-25T06:59:19.707Z"
   },
   {
    "duration": 0,
    "start_time": "2022-05-25T06:59:19.708Z"
   },
   {
    "duration": 0,
    "start_time": "2022-05-25T06:59:19.709Z"
   },
   {
    "duration": 0,
    "start_time": "2022-05-25T06:59:19.727Z"
   },
   {
    "duration": 0,
    "start_time": "2022-05-25T06:59:19.728Z"
   },
   {
    "duration": 0,
    "start_time": "2022-05-25T06:59:19.729Z"
   },
   {
    "duration": 0,
    "start_time": "2022-05-25T06:59:19.730Z"
   },
   {
    "duration": 0,
    "start_time": "2022-05-25T06:59:19.731Z"
   },
   {
    "duration": 0,
    "start_time": "2022-05-25T06:59:19.732Z"
   },
   {
    "duration": 0,
    "start_time": "2022-05-25T06:59:19.733Z"
   },
   {
    "duration": 42,
    "start_time": "2022-05-25T06:59:38.483Z"
   },
   {
    "duration": 43,
    "start_time": "2022-05-25T07:01:19.553Z"
   },
   {
    "duration": 17,
    "start_time": "2022-05-25T07:02:40.144Z"
   },
   {
    "duration": 844,
    "start_time": "2022-05-25T07:03:00.197Z"
   },
   {
    "duration": 439,
    "start_time": "2022-05-25T07:03:01.043Z"
   },
   {
    "duration": 25,
    "start_time": "2022-05-25T07:03:01.484Z"
   },
   {
    "duration": 20,
    "start_time": "2022-05-25T07:03:01.511Z"
   },
   {
    "duration": 17,
    "start_time": "2022-05-25T07:03:01.532Z"
   },
   {
    "duration": 23,
    "start_time": "2022-05-25T07:03:01.551Z"
   },
   {
    "duration": 45,
    "start_time": "2022-05-25T07:03:01.576Z"
   },
   {
    "duration": 39,
    "start_time": "2022-05-25T07:03:01.623Z"
   },
   {
    "duration": 165,
    "start_time": "2022-05-25T07:03:01.664Z"
   },
   {
    "duration": 8,
    "start_time": "2022-05-25T07:03:01.833Z"
   },
   {
    "duration": 134,
    "start_time": "2022-05-25T07:03:01.843Z"
   },
   {
    "duration": 9,
    "start_time": "2022-05-25T07:03:01.979Z"
   },
   {
    "duration": 39,
    "start_time": "2022-05-25T07:03:01.990Z"
   },
   {
    "duration": 69,
    "start_time": "2022-05-25T07:03:02.031Z"
   },
   {
    "duration": 90,
    "start_time": "2022-05-25T07:03:02.103Z"
   },
   {
    "duration": 40,
    "start_time": "2022-05-25T07:03:02.195Z"
   },
   {
    "duration": 65,
    "start_time": "2022-05-25T07:03:02.237Z"
   },
   {
    "duration": 33,
    "start_time": "2022-05-25T07:03:02.305Z"
   },
   {
    "duration": 23,
    "start_time": "2022-05-25T07:03:02.340Z"
   },
   {
    "duration": 6,
    "start_time": "2022-05-25T07:03:02.365Z"
   },
   {
    "duration": 29,
    "start_time": "2022-05-25T07:03:02.373Z"
   },
   {
    "duration": 26,
    "start_time": "2022-05-25T07:03:02.404Z"
   },
   {
    "duration": 131,
    "start_time": "2022-05-25T07:03:02.431Z"
   },
   {
    "duration": 47,
    "start_time": "2022-05-25T07:03:02.564Z"
   },
   {
    "duration": 45,
    "start_time": "2022-05-25T07:03:02.627Z"
   },
   {
    "duration": 58,
    "start_time": "2022-05-25T07:03:02.674Z"
   },
   {
    "duration": 16,
    "start_time": "2022-05-25T07:03:02.733Z"
   },
   {
    "duration": 20,
    "start_time": "2022-05-25T07:03:02.752Z"
   },
   {
    "duration": 22,
    "start_time": "2022-05-25T07:03:02.774Z"
   },
   {
    "duration": 138,
    "start_time": "2022-05-25T07:03:02.797Z"
   },
   {
    "duration": 0,
    "start_time": "2022-05-25T07:03:02.936Z"
   },
   {
    "duration": 0,
    "start_time": "2022-05-25T07:03:02.937Z"
   },
   {
    "duration": 0,
    "start_time": "2022-05-25T07:03:02.938Z"
   },
   {
    "duration": 0,
    "start_time": "2022-05-25T07:03:02.939Z"
   },
   {
    "duration": 0,
    "start_time": "2022-05-25T07:03:02.940Z"
   },
   {
    "duration": 0,
    "start_time": "2022-05-25T07:03:02.941Z"
   },
   {
    "duration": 0,
    "start_time": "2022-05-25T07:03:02.942Z"
   },
   {
    "duration": 1,
    "start_time": "2022-05-25T07:03:02.943Z"
   },
   {
    "duration": 0,
    "start_time": "2022-05-25T07:03:02.944Z"
   },
   {
    "duration": 0,
    "start_time": "2022-05-25T07:03:02.945Z"
   },
   {
    "duration": 0,
    "start_time": "2022-05-25T07:03:02.947Z"
   },
   {
    "duration": 824,
    "start_time": "2022-05-25T07:03:35.661Z"
   },
   {
    "duration": 419,
    "start_time": "2022-05-25T07:03:36.489Z"
   },
   {
    "duration": 24,
    "start_time": "2022-05-25T07:03:36.910Z"
   },
   {
    "duration": 21,
    "start_time": "2022-05-25T07:03:36.936Z"
   },
   {
    "duration": 19,
    "start_time": "2022-05-25T07:03:36.958Z"
   },
   {
    "duration": 10,
    "start_time": "2022-05-25T07:03:36.979Z"
   },
   {
    "duration": 38,
    "start_time": "2022-05-25T07:03:36.991Z"
   },
   {
    "duration": 8,
    "start_time": "2022-05-25T07:03:37.031Z"
   },
   {
    "duration": 149,
    "start_time": "2022-05-25T07:03:37.040Z"
   },
   {
    "duration": 7,
    "start_time": "2022-05-25T07:03:37.192Z"
   },
   {
    "duration": 111,
    "start_time": "2022-05-25T07:03:37.201Z"
   },
   {
    "duration": 9,
    "start_time": "2022-05-25T07:03:37.327Z"
   },
   {
    "duration": 30,
    "start_time": "2022-05-25T07:03:37.338Z"
   },
   {
    "duration": 73,
    "start_time": "2022-05-25T07:03:37.370Z"
   },
   {
    "duration": 60,
    "start_time": "2022-05-25T07:03:37.444Z"
   },
   {
    "duration": 36,
    "start_time": "2022-05-25T07:03:37.506Z"
   },
   {
    "duration": 60,
    "start_time": "2022-05-25T07:03:37.544Z"
   },
   {
    "duration": 35,
    "start_time": "2022-05-25T07:03:37.606Z"
   },
   {
    "duration": 25,
    "start_time": "2022-05-25T07:03:37.642Z"
   },
   {
    "duration": 6,
    "start_time": "2022-05-25T07:03:37.668Z"
   },
   {
    "duration": 29,
    "start_time": "2022-05-25T07:03:37.675Z"
   },
   {
    "duration": 36,
    "start_time": "2022-05-25T07:03:37.706Z"
   },
   {
    "duration": 131,
    "start_time": "2022-05-25T07:03:37.744Z"
   },
   {
    "duration": 54,
    "start_time": "2022-05-25T07:03:37.877Z"
   },
   {
    "duration": 42,
    "start_time": "2022-05-25T07:03:37.932Z"
   },
   {
    "duration": 60,
    "start_time": "2022-05-25T07:03:37.975Z"
   },
   {
    "duration": 15,
    "start_time": "2022-05-25T07:03:38.037Z"
   },
   {
    "duration": 18,
    "start_time": "2022-05-25T07:03:38.055Z"
   },
   {
    "duration": 44,
    "start_time": "2022-05-25T07:03:38.075Z"
   },
   {
    "duration": 133,
    "start_time": "2022-05-25T07:03:38.121Z"
   },
   {
    "duration": 0,
    "start_time": "2022-05-25T07:03:38.255Z"
   },
   {
    "duration": 0,
    "start_time": "2022-05-25T07:03:38.257Z"
   },
   {
    "duration": 0,
    "start_time": "2022-05-25T07:03:38.258Z"
   },
   {
    "duration": 0,
    "start_time": "2022-05-25T07:03:38.259Z"
   },
   {
    "duration": 0,
    "start_time": "2022-05-25T07:03:38.260Z"
   },
   {
    "duration": 0,
    "start_time": "2022-05-25T07:03:38.262Z"
   },
   {
    "duration": 0,
    "start_time": "2022-05-25T07:03:38.263Z"
   },
   {
    "duration": 0,
    "start_time": "2022-05-25T07:03:38.264Z"
   },
   {
    "duration": 0,
    "start_time": "2022-05-25T07:03:38.265Z"
   },
   {
    "duration": 0,
    "start_time": "2022-05-25T07:03:38.266Z"
   },
   {
    "duration": 0,
    "start_time": "2022-05-25T07:03:38.268Z"
   },
   {
    "duration": 795,
    "start_time": "2022-05-25T07:04:24.745Z"
   },
   {
    "duration": 405,
    "start_time": "2022-05-25T07:04:25.542Z"
   },
   {
    "duration": 26,
    "start_time": "2022-05-25T07:04:25.949Z"
   },
   {
    "duration": 44,
    "start_time": "2022-05-25T07:04:25.977Z"
   },
   {
    "duration": 28,
    "start_time": "2022-05-25T07:04:26.023Z"
   },
   {
    "duration": 18,
    "start_time": "2022-05-25T07:04:26.052Z"
   },
   {
    "duration": 32,
    "start_time": "2022-05-25T07:04:26.071Z"
   },
   {
    "duration": 14,
    "start_time": "2022-05-25T07:04:26.105Z"
   },
   {
    "duration": 194,
    "start_time": "2022-05-25T07:04:26.120Z"
   },
   {
    "duration": 10,
    "start_time": "2022-05-25T07:04:26.318Z"
   },
   {
    "duration": 134,
    "start_time": "2022-05-25T07:04:26.330Z"
   },
   {
    "duration": 10,
    "start_time": "2022-05-25T07:04:26.467Z"
   },
   {
    "duration": 50,
    "start_time": "2022-05-25T07:04:26.479Z"
   },
   {
    "duration": 61,
    "start_time": "2022-05-25T07:04:26.531Z"
   },
   {
    "duration": 66,
    "start_time": "2022-05-25T07:04:26.594Z"
   },
   {
    "duration": 19,
    "start_time": "2022-05-25T07:04:26.663Z"
   },
   {
    "duration": 78,
    "start_time": "2022-05-25T07:04:26.684Z"
   },
   {
    "duration": 16,
    "start_time": "2022-05-25T07:04:26.764Z"
   },
   {
    "duration": 23,
    "start_time": "2022-05-25T07:04:26.781Z"
   },
   {
    "duration": 21,
    "start_time": "2022-05-25T07:04:26.806Z"
   },
   {
    "duration": 28,
    "start_time": "2022-05-25T07:04:26.828Z"
   },
   {
    "duration": 13,
    "start_time": "2022-05-25T07:04:26.858Z"
   },
   {
    "duration": 124,
    "start_time": "2022-05-25T07:04:26.873Z"
   },
   {
    "duration": 50,
    "start_time": "2022-05-25T07:04:26.999Z"
   },
   {
    "duration": 44,
    "start_time": "2022-05-25T07:04:27.050Z"
   },
   {
    "duration": 63,
    "start_time": "2022-05-25T07:04:27.095Z"
   },
   {
    "duration": 14,
    "start_time": "2022-05-25T07:04:27.159Z"
   },
   {
    "duration": 27,
    "start_time": "2022-05-25T07:04:27.176Z"
   },
   {
    "duration": 41,
    "start_time": "2022-05-25T07:04:27.205Z"
   },
   {
    "duration": 152,
    "start_time": "2022-05-25T07:04:27.248Z"
   },
   {
    "duration": 0,
    "start_time": "2022-05-25T07:04:27.401Z"
   },
   {
    "duration": 0,
    "start_time": "2022-05-25T07:04:27.402Z"
   },
   {
    "duration": 0,
    "start_time": "2022-05-25T07:04:27.403Z"
   },
   {
    "duration": 0,
    "start_time": "2022-05-25T07:04:27.404Z"
   },
   {
    "duration": 0,
    "start_time": "2022-05-25T07:04:27.405Z"
   },
   {
    "duration": 0,
    "start_time": "2022-05-25T07:04:27.406Z"
   },
   {
    "duration": 0,
    "start_time": "2022-05-25T07:04:27.407Z"
   },
   {
    "duration": 0,
    "start_time": "2022-05-25T07:04:27.409Z"
   },
   {
    "duration": 0,
    "start_time": "2022-05-25T07:04:27.410Z"
   },
   {
    "duration": 0,
    "start_time": "2022-05-25T07:04:27.411Z"
   },
   {
    "duration": 0,
    "start_time": "2022-05-25T07:04:27.412Z"
   },
   {
    "duration": 42,
    "start_time": "2022-05-25T07:05:28.064Z"
   },
   {
    "duration": 78,
    "start_time": "2022-05-25T07:05:36.588Z"
   },
   {
    "duration": 41,
    "start_time": "2022-05-25T07:05:41.565Z"
   },
   {
    "duration": 804,
    "start_time": "2022-05-25T07:05:56.816Z"
   },
   {
    "duration": 409,
    "start_time": "2022-05-25T07:05:57.622Z"
   },
   {
    "duration": 28,
    "start_time": "2022-05-25T07:05:58.033Z"
   },
   {
    "duration": 23,
    "start_time": "2022-05-25T07:05:58.066Z"
   },
   {
    "duration": 16,
    "start_time": "2022-05-25T07:05:58.092Z"
   },
   {
    "duration": 26,
    "start_time": "2022-05-25T07:05:58.110Z"
   },
   {
    "duration": 14,
    "start_time": "2022-05-25T07:05:58.137Z"
   },
   {
    "duration": 9,
    "start_time": "2022-05-25T07:05:58.153Z"
   },
   {
    "duration": 150,
    "start_time": "2022-05-25T07:05:58.163Z"
   },
   {
    "duration": 14,
    "start_time": "2022-05-25T07:05:58.314Z"
   },
   {
    "duration": 120,
    "start_time": "2022-05-25T07:05:58.329Z"
   },
   {
    "duration": 10,
    "start_time": "2022-05-25T07:05:58.451Z"
   },
   {
    "duration": 29,
    "start_time": "2022-05-25T07:05:58.463Z"
   },
   {
    "duration": 82,
    "start_time": "2022-05-25T07:05:58.495Z"
   },
   {
    "duration": 82,
    "start_time": "2022-05-25T07:05:58.579Z"
   },
   {
    "duration": 19,
    "start_time": "2022-05-25T07:05:58.663Z"
   },
   {
    "duration": 77,
    "start_time": "2022-05-25T07:05:58.684Z"
   },
   {
    "duration": 16,
    "start_time": "2022-05-25T07:05:58.763Z"
   },
   {
    "duration": 19,
    "start_time": "2022-05-25T07:05:58.781Z"
   },
   {
    "duration": 27,
    "start_time": "2022-05-25T07:05:58.801Z"
   },
   {
    "duration": 28,
    "start_time": "2022-05-25T07:05:58.829Z"
   },
   {
    "duration": 4,
    "start_time": "2022-05-25T07:05:58.859Z"
   },
   {
    "duration": 136,
    "start_time": "2022-05-25T07:05:58.864Z"
   },
   {
    "duration": 52,
    "start_time": "2022-05-25T07:05:59.002Z"
   },
   {
    "duration": 45,
    "start_time": "2022-05-25T07:05:59.055Z"
   },
   {
    "duration": 53,
    "start_time": "2022-05-25T07:05:59.102Z"
   },
   {
    "duration": 113,
    "start_time": "2022-05-25T07:05:59.156Z"
   },
   {
    "duration": 0,
    "start_time": "2022-05-25T07:05:59.270Z"
   },
   {
    "duration": 0,
    "start_time": "2022-05-25T07:05:59.272Z"
   },
   {
    "duration": 0,
    "start_time": "2022-05-25T07:05:59.273Z"
   },
   {
    "duration": 0,
    "start_time": "2022-05-25T07:05:59.274Z"
   },
   {
    "duration": 0,
    "start_time": "2022-05-25T07:05:59.275Z"
   },
   {
    "duration": 0,
    "start_time": "2022-05-25T07:05:59.277Z"
   },
   {
    "duration": 0,
    "start_time": "2022-05-25T07:05:59.278Z"
   },
   {
    "duration": 0,
    "start_time": "2022-05-25T07:05:59.279Z"
   },
   {
    "duration": 0,
    "start_time": "2022-05-25T07:05:59.280Z"
   },
   {
    "duration": 0,
    "start_time": "2022-05-25T07:05:59.281Z"
   },
   {
    "duration": 0,
    "start_time": "2022-05-25T07:05:59.282Z"
   },
   {
    "duration": 0,
    "start_time": "2022-05-25T07:05:59.284Z"
   },
   {
    "duration": 0,
    "start_time": "2022-05-25T07:05:59.286Z"
   },
   {
    "duration": 0,
    "start_time": "2022-05-25T07:05:59.287Z"
   },
   {
    "duration": 17,
    "start_time": "2022-05-25T07:06:32.859Z"
   },
   {
    "duration": 815,
    "start_time": "2022-05-25T07:06:42.611Z"
   },
   {
    "duration": 427,
    "start_time": "2022-05-25T07:06:43.427Z"
   },
   {
    "duration": 31,
    "start_time": "2022-05-25T07:06:43.855Z"
   },
   {
    "duration": 28,
    "start_time": "2022-05-25T07:06:43.888Z"
   },
   {
    "duration": 18,
    "start_time": "2022-05-25T07:06:43.918Z"
   },
   {
    "duration": 21,
    "start_time": "2022-05-25T07:06:43.937Z"
   },
   {
    "duration": 40,
    "start_time": "2022-05-25T07:06:43.960Z"
   },
   {
    "duration": 23,
    "start_time": "2022-05-25T07:06:44.002Z"
   },
   {
    "duration": 160,
    "start_time": "2022-05-25T07:06:44.027Z"
   },
   {
    "duration": 7,
    "start_time": "2022-05-25T07:06:44.191Z"
   },
   {
    "duration": 108,
    "start_time": "2022-05-25T07:06:44.200Z"
   },
   {
    "duration": 19,
    "start_time": "2022-05-25T07:06:44.310Z"
   },
   {
    "duration": 32,
    "start_time": "2022-05-25T07:06:44.331Z"
   },
   {
    "duration": 73,
    "start_time": "2022-05-25T07:06:44.364Z"
   },
   {
    "duration": 60,
    "start_time": "2022-05-25T07:06:44.439Z"
   },
   {
    "duration": 32,
    "start_time": "2022-05-25T07:06:44.501Z"
   },
   {
    "duration": 65,
    "start_time": "2022-05-25T07:06:44.535Z"
   },
   {
    "duration": 34,
    "start_time": "2022-05-25T07:06:44.602Z"
   },
   {
    "duration": 21,
    "start_time": "2022-05-25T07:06:44.638Z"
   },
   {
    "duration": 5,
    "start_time": "2022-05-25T07:06:44.660Z"
   },
   {
    "duration": 27,
    "start_time": "2022-05-25T07:06:44.667Z"
   },
   {
    "duration": 31,
    "start_time": "2022-05-25T07:06:44.696Z"
   },
   {
    "duration": 128,
    "start_time": "2022-05-25T07:06:44.729Z"
   },
   {
    "duration": 46,
    "start_time": "2022-05-25T07:06:44.859Z"
   },
   {
    "duration": 62,
    "start_time": "2022-05-25T07:06:44.906Z"
   },
   {
    "duration": 34,
    "start_time": "2022-05-25T07:06:44.970Z"
   },
   {
    "duration": 37,
    "start_time": "2022-05-25T07:06:45.006Z"
   },
   {
    "duration": 14,
    "start_time": "2022-05-25T07:06:45.046Z"
   },
   {
    "duration": 37,
    "start_time": "2022-05-25T07:06:45.062Z"
   },
   {
    "duration": 102,
    "start_time": "2022-05-25T07:06:45.100Z"
   },
   {
    "duration": 30,
    "start_time": "2022-05-25T07:06:45.204Z"
   },
   {
    "duration": 11,
    "start_time": "2022-05-25T07:06:45.236Z"
   },
   {
    "duration": 781,
    "start_time": "2022-05-25T07:06:45.249Z"
   },
   {
    "duration": 543,
    "start_time": "2022-05-25T07:06:46.031Z"
   },
   {
    "duration": 6,
    "start_time": "2022-05-25T07:06:46.575Z"
   },
   {
    "duration": 487,
    "start_time": "2022-05-25T07:06:46.583Z"
   },
   {
    "duration": 6,
    "start_time": "2022-05-25T07:06:47.071Z"
   },
   {
    "duration": 168,
    "start_time": "2022-05-25T07:06:47.078Z"
   },
   {
    "duration": 7,
    "start_time": "2022-05-25T07:06:47.248Z"
   },
   {
    "duration": 26,
    "start_time": "2022-05-25T07:06:47.257Z"
   },
   {
    "duration": 8,
    "start_time": "2022-05-25T07:06:47.285Z"
   },
   {
    "duration": 231,
    "start_time": "2022-05-25T07:09:46.135Z"
   },
   {
    "duration": 765,
    "start_time": "2022-05-25T07:12:07.271Z"
   },
   {
    "duration": 435,
    "start_time": "2022-05-25T07:12:08.039Z"
   },
   {
    "duration": 26,
    "start_time": "2022-05-25T07:12:08.476Z"
   },
   {
    "duration": 19,
    "start_time": "2022-05-25T07:12:08.505Z"
   },
   {
    "duration": 22,
    "start_time": "2022-05-25T07:12:08.526Z"
   },
   {
    "duration": 16,
    "start_time": "2022-05-25T07:12:08.550Z"
   },
   {
    "duration": 13,
    "start_time": "2022-05-25T07:12:08.567Z"
   },
   {
    "duration": 12,
    "start_time": "2022-05-25T07:12:08.582Z"
   },
   {
    "duration": 166,
    "start_time": "2022-05-25T07:12:08.595Z"
   },
   {
    "duration": 6,
    "start_time": "2022-05-25T07:12:08.764Z"
   },
   {
    "duration": 116,
    "start_time": "2022-05-25T07:12:08.772Z"
   },
   {
    "duration": 8,
    "start_time": "2022-05-25T07:12:08.889Z"
   },
   {
    "duration": 36,
    "start_time": "2022-05-25T07:12:08.898Z"
   },
   {
    "duration": 60,
    "start_time": "2022-05-25T07:12:08.936Z"
   },
   {
    "duration": 86,
    "start_time": "2022-05-25T07:12:08.997Z"
   },
   {
    "duration": 18,
    "start_time": "2022-05-25T07:12:09.085Z"
   },
   {
    "duration": 80,
    "start_time": "2022-05-25T07:12:09.104Z"
   },
   {
    "duration": 16,
    "start_time": "2022-05-25T07:12:09.185Z"
   },
   {
    "duration": 40,
    "start_time": "2022-05-25T07:12:09.203Z"
   },
   {
    "duration": 9,
    "start_time": "2022-05-25T07:12:09.245Z"
   },
   {
    "duration": 33,
    "start_time": "2022-05-25T07:12:09.256Z"
   },
   {
    "duration": 5,
    "start_time": "2022-05-25T07:12:09.291Z"
   },
   {
    "duration": 137,
    "start_time": "2022-05-25T07:12:09.298Z"
   },
   {
    "duration": 49,
    "start_time": "2022-05-25T07:12:09.436Z"
   },
   {
    "duration": 62,
    "start_time": "2022-05-25T07:12:09.487Z"
   },
   {
    "duration": 37,
    "start_time": "2022-05-25T07:12:09.551Z"
   },
   {
    "duration": 39,
    "start_time": "2022-05-25T07:12:09.589Z"
   },
   {
    "duration": 14,
    "start_time": "2022-05-25T07:12:09.631Z"
   },
   {
    "duration": 24,
    "start_time": "2022-05-25T07:12:09.647Z"
   },
   {
    "duration": 114,
    "start_time": "2022-05-25T07:12:09.673Z"
   },
   {
    "duration": 19,
    "start_time": "2022-05-25T07:12:09.789Z"
   },
   {
    "duration": 26,
    "start_time": "2022-05-25T07:12:09.809Z"
   },
   {
    "duration": 815,
    "start_time": "2022-05-25T07:12:09.837Z"
   },
   {
    "duration": 453,
    "start_time": "2022-05-25T07:12:10.654Z"
   },
   {
    "duration": 5,
    "start_time": "2022-05-25T07:12:11.109Z"
   },
   {
    "duration": 480,
    "start_time": "2022-05-25T07:12:11.116Z"
   },
   {
    "duration": 7,
    "start_time": "2022-05-25T07:12:11.598Z"
   },
   {
    "duration": 220,
    "start_time": "2022-05-25T07:12:11.607Z"
   },
   {
    "duration": 6,
    "start_time": "2022-05-25T07:12:11.829Z"
   },
   {
    "duration": 39,
    "start_time": "2022-05-25T07:12:11.837Z"
   },
   {
    "duration": 22,
    "start_time": "2022-05-25T07:12:11.878Z"
   },
   {
    "duration": 171,
    "start_time": "2022-05-25T07:22:11.446Z"
   },
   {
    "duration": 169,
    "start_time": "2022-05-25T07:22:37.649Z"
   },
   {
    "duration": 266,
    "start_time": "2022-05-25T07:23:23.166Z"
   },
   {
    "duration": 1347,
    "start_time": "2022-05-25T07:24:09.588Z"
   },
   {
    "duration": 457,
    "start_time": "2022-05-25T07:24:10.937Z"
   },
   {
    "duration": 25,
    "start_time": "2022-05-25T07:24:11.395Z"
   },
   {
    "duration": 20,
    "start_time": "2022-05-25T07:24:11.422Z"
   },
   {
    "duration": 19,
    "start_time": "2022-05-25T07:24:11.443Z"
   },
   {
    "duration": 11,
    "start_time": "2022-05-25T07:24:11.463Z"
   },
   {
    "duration": 13,
    "start_time": "2022-05-25T07:24:11.476Z"
   },
   {
    "duration": 10,
    "start_time": "2022-05-25T07:24:11.490Z"
   },
   {
    "duration": 170,
    "start_time": "2022-05-25T07:24:11.502Z"
   },
   {
    "duration": 7,
    "start_time": "2022-05-25T07:24:11.675Z"
   },
   {
    "duration": 112,
    "start_time": "2022-05-25T07:24:11.683Z"
   },
   {
    "duration": 8,
    "start_time": "2022-05-25T07:24:11.797Z"
   },
   {
    "duration": 43,
    "start_time": "2022-05-25T07:24:11.806Z"
   },
   {
    "duration": 57,
    "start_time": "2022-05-25T07:24:11.851Z"
   },
   {
    "duration": 63,
    "start_time": "2022-05-25T07:24:11.926Z"
   },
   {
    "duration": 36,
    "start_time": "2022-05-25T07:24:11.991Z"
   },
   {
    "duration": 55,
    "start_time": "2022-05-25T07:24:12.029Z"
   },
   {
    "duration": 42,
    "start_time": "2022-05-25T07:24:12.085Z"
   },
   {
    "duration": 21,
    "start_time": "2022-05-25T07:24:12.128Z"
   },
   {
    "duration": 11,
    "start_time": "2022-05-25T07:24:12.151Z"
   },
   {
    "duration": 23,
    "start_time": "2022-05-25T07:24:12.163Z"
   },
   {
    "duration": 4,
    "start_time": "2022-05-25T07:24:12.188Z"
   },
   {
    "duration": 137,
    "start_time": "2022-05-25T07:24:12.193Z"
   },
   {
    "duration": 46,
    "start_time": "2022-05-25T07:24:12.332Z"
   },
   {
    "duration": 64,
    "start_time": "2022-05-25T07:24:12.380Z"
   },
   {
    "duration": 44,
    "start_time": "2022-05-25T07:24:12.445Z"
   },
   {
    "duration": 43,
    "start_time": "2022-05-25T07:24:12.491Z"
   },
   {
    "duration": 11,
    "start_time": "2022-05-25T07:24:12.539Z"
   },
   {
    "duration": 23,
    "start_time": "2022-05-25T07:24:12.552Z"
   },
   {
    "duration": 113,
    "start_time": "2022-05-25T07:24:12.577Z"
   },
   {
    "duration": 20,
    "start_time": "2022-05-25T07:24:12.691Z"
   },
   {
    "duration": 23,
    "start_time": "2022-05-25T07:24:12.713Z"
   },
   {
    "duration": 868,
    "start_time": "2022-05-25T07:24:12.737Z"
   },
   {
    "duration": 467,
    "start_time": "2022-05-25T07:24:13.607Z"
   },
   {
    "duration": 5,
    "start_time": "2022-05-25T07:24:14.076Z"
   },
   {
    "duration": 510,
    "start_time": "2022-05-25T07:24:14.083Z"
   },
   {
    "duration": 6,
    "start_time": "2022-05-25T07:24:14.595Z"
   },
   {
    "duration": 193,
    "start_time": "2022-05-25T07:24:14.603Z"
   },
   {
    "duration": 194,
    "start_time": "2022-05-25T07:24:14.797Z"
   },
   {
    "duration": 6,
    "start_time": "2022-05-25T07:24:14.992Z"
   },
   {
    "duration": 42,
    "start_time": "2022-05-25T07:24:15.000Z"
   },
   {
    "duration": 11,
    "start_time": "2022-05-25T07:24:15.044Z"
   },
   {
    "duration": 11,
    "start_time": "2022-05-25T07:26:18.680Z"
   },
   {
    "duration": 9,
    "start_time": "2022-05-25T07:31:41.669Z"
   },
   {
    "duration": 127,
    "start_time": "2022-05-25T07:32:03.639Z"
   },
   {
    "duration": 10,
    "start_time": "2022-05-25T07:32:09.624Z"
   },
   {
    "duration": 10,
    "start_time": "2022-05-25T08:29:51.814Z"
   },
   {
    "duration": 9,
    "start_time": "2022-05-25T08:29:59.312Z"
   },
   {
    "duration": 9,
    "start_time": "2022-05-25T08:30:06.640Z"
   },
   {
    "duration": 9,
    "start_time": "2022-05-25T08:41:00.850Z"
   },
   {
    "duration": 8,
    "start_time": "2022-05-25T08:41:07.058Z"
   },
   {
    "duration": 918,
    "start_time": "2022-05-25T12:47:31.277Z"
   },
   {
    "duration": 1320,
    "start_time": "2022-05-25T12:47:32.198Z"
   },
   {
    "duration": 45,
    "start_time": "2022-05-25T12:47:33.520Z"
   },
   {
    "duration": 21,
    "start_time": "2022-05-25T12:47:33.567Z"
   },
   {
    "duration": 18,
    "start_time": "2022-05-25T12:47:33.590Z"
   },
   {
    "duration": 31,
    "start_time": "2022-05-25T12:47:33.609Z"
   },
   {
    "duration": 28,
    "start_time": "2022-05-25T12:47:33.643Z"
   },
   {
    "duration": 6,
    "start_time": "2022-05-25T12:47:33.673Z"
   },
   {
    "duration": 174,
    "start_time": "2022-05-25T12:47:33.680Z"
   },
   {
    "duration": 7,
    "start_time": "2022-05-25T12:47:33.857Z"
   },
   {
    "duration": 130,
    "start_time": "2022-05-25T12:47:33.865Z"
   },
   {
    "duration": 9,
    "start_time": "2022-05-25T12:47:33.996Z"
   },
   {
    "duration": 51,
    "start_time": "2022-05-25T12:47:34.007Z"
   },
   {
    "duration": 97,
    "start_time": "2022-05-25T12:47:34.060Z"
   },
   {
    "duration": 73,
    "start_time": "2022-05-25T12:47:34.159Z"
   },
   {
    "duration": 32,
    "start_time": "2022-05-25T12:47:34.233Z"
   },
   {
    "duration": 88,
    "start_time": "2022-05-25T12:47:34.267Z"
   },
   {
    "duration": 17,
    "start_time": "2022-05-25T12:47:34.357Z"
   },
   {
    "duration": 17,
    "start_time": "2022-05-25T12:47:34.376Z"
   },
   {
    "duration": 36,
    "start_time": "2022-05-25T12:47:34.395Z"
   },
   {
    "duration": 46,
    "start_time": "2022-05-25T12:47:34.433Z"
   },
   {
    "duration": 4,
    "start_time": "2022-05-25T12:47:34.481Z"
   },
   {
    "duration": 126,
    "start_time": "2022-05-25T12:47:34.486Z"
   },
   {
    "duration": 63,
    "start_time": "2022-05-25T12:47:34.614Z"
   },
   {
    "duration": 58,
    "start_time": "2022-05-25T12:47:34.679Z"
   },
   {
    "duration": 40,
    "start_time": "2022-05-25T12:47:34.740Z"
   },
   {
    "duration": 18,
    "start_time": "2022-05-25T12:47:34.782Z"
   },
   {
    "duration": 33,
    "start_time": "2022-05-25T12:47:34.804Z"
   },
   {
    "duration": 48,
    "start_time": "2022-05-25T12:47:34.839Z"
   },
   {
    "duration": 122,
    "start_time": "2022-05-25T12:47:34.889Z"
   },
   {
    "duration": 27,
    "start_time": "2022-05-25T12:47:35.013Z"
   },
   {
    "duration": 27,
    "start_time": "2022-05-25T12:47:35.041Z"
   },
   {
    "duration": 916,
    "start_time": "2022-05-25T12:47:35.069Z"
   },
   {
    "duration": 577,
    "start_time": "2022-05-25T12:47:35.987Z"
   },
   {
    "duration": 6,
    "start_time": "2022-05-25T12:47:36.565Z"
   },
   {
    "duration": 548,
    "start_time": "2022-05-25T12:47:36.572Z"
   },
   {
    "duration": 10,
    "start_time": "2022-05-25T12:47:37.122Z"
   },
   {
    "duration": 226,
    "start_time": "2022-05-25T12:47:37.133Z"
   },
   {
    "duration": 202,
    "start_time": "2022-05-25T12:47:37.360Z"
   },
   {
    "duration": 9,
    "start_time": "2022-05-25T12:47:37.563Z"
   },
   {
    "duration": 27,
    "start_time": "2022-05-25T12:47:37.574Z"
   },
   {
    "duration": 7,
    "start_time": "2022-05-25T12:47:37.603Z"
   },
   {
    "duration": 15,
    "start_time": "2022-05-25T12:51:49.792Z"
   },
   {
    "duration": 31,
    "start_time": "2022-05-25T12:52:14.489Z"
   }
  ],
  "kernelspec": {
   "display_name": "Python 3 (ipykernel)",
   "language": "python",
   "name": "python3"
  },
  "language_info": {
   "codemirror_mode": {
    "name": "ipython",
    "version": 3
   },
   "file_extension": ".py",
   "mimetype": "text/x-python",
   "name": "python",
   "nbconvert_exporter": "python",
   "pygments_lexer": "ipython3",
   "version": "3.9.7"
  },
  "toc": {
   "base_numbering": 1,
   "nav_menu": {},
   "number_sections": true,
   "sideBar": true,
   "skip_h1_title": true,
   "title_cell": "Table of Contents",
   "title_sidebar": "Contents",
   "toc_cell": false,
   "toc_position": {},
   "toc_section_display": true,
   "toc_window_display": false
  }
 },
 "nbformat": 4,
 "nbformat_minor": 2
}
