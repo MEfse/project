{
 "cells": [
  {
   "cell_type": "markdown",
   "metadata": {
    "toc": true
   },
   "source": [
    "<h1>Содержание<span class=\"tocSkip\"></span></h1>\n",
    "<div class=\"toc\"><li></li><li><span><a href=\"#Подготовка\" data-toc-modified-id=\"Подготовка-1\"><span class=\"toc-item-num\">1&nbsp;&nbsp;</span>Подготовка</a></span></li><li><span><a href=\"#Обучение\" data-toc-modified-id=\"Обучение-2\"><span class=\"toc-item-num\">2&nbsp;&nbsp;</span>Обучение</a></span></li><li><span><a href=\"#Выводы\" data-toc-modified-id=\"Выводы-3\"><span class=\"toc-item-num\">3&nbsp;&nbsp;</span>Выводы</a></span></li><li><span><a href=\"#Чек-лист-проверки\" data-toc-modified-id=\"Чек-лист-проверки-4\"><span class=\"toc-item-num\">4&nbsp;&nbsp;</span>Чек-лист проверки</a></span></li></ul></div>"
   ]
  },
  {
   "cell_type": "markdown",
   "metadata": {},
   "source": [
    "# Проект для «Викишоп»"
   ]
  },
  {
   "cell_type": "markdown",
   "metadata": {},
   "source": [
    "Интернет-магазин «Викишоп» запускает новый сервис. Теперь пользователи могут редактировать и дополнять описания товаров, как в вики-сообществах. То есть клиенты предлагают свои правки и комментируют изменения других. Магазину нужен инструмент, который будет искать токсичные комментарии и отправлять их на модерацию. \n",
    "\n",
    "Обучите модель классифицировать комментарии на позитивные и негативные. В вашем распоряжении набор данных с разметкой о токсичности правок.\n",
    "\n",
    "Постройте модель со значением метрики качества *F1* не меньше 0.75. \n",
    "\n",
    "**Инструкция по выполнению проекта**\n",
    "\n",
    "1. Загрузите и подготовьте данные.\n",
    "2. Обучите разные модели. \n",
    "3. Сделайте выводы.\n",
    "\n",
    "Для выполнения проекта применять *BERT* необязательно, но вы можете попробовать.\n",
    "\n",
    "**Описание данных**\n",
    "\n",
    "Данные находятся в файле `toxic_comments.csv`. Столбец *text* в нём содержит текст комментария, а *toxic* — целевой признак."
   ]
  },
  {
   "cell_type": "markdown",
   "metadata": {},
   "source": [
    "## Подготовка"
   ]
  },
  {
   "cell_type": "markdown",
   "metadata": {},
   "source": [
    "**Импортируем библиотеки.**"
   ]
  },
  {
   "cell_type": "code",
   "execution_count": 11,
   "metadata": {},
   "outputs": [],
   "source": [
    "import pandas as pd \n",
    "import numpy as np"
   ]
  },
  {
   "cell_type": "code",
   "execution_count": 8,
   "metadata": {},
   "outputs": [],
   "source": [
    "from sklearn.model_selection import train_test_split, GridSearchCV\n",
    "from sklearn.metrics import f1_score, accuracy_score\n",
    "from sklearn.linear_model import LogisticRegression\n",
    "from sklearn.feature_extraction.text import CountVectorizer, TfidfVectorizer, TfidfTransformer"
   ]
  },
  {
   "cell_type": "code",
   "execution_count": 10,
   "metadata": {},
   "outputs": [],
   "source": [
    "import spacy\n",
    "import re \n",
    "import nltk\n",
    "from nltk.corpus import stopwords \n",
    "from sklearn.pipeline import Pipeline"
   ]
  },
  {
   "cell_type": "markdown",
   "metadata": {},
   "source": [
    "**Записываем в переменную csv-файл.**"
   ]
  },
  {
   "cell_type": "code",
   "execution_count": 12,
   "metadata": {},
   "outputs": [],
   "source": [
    "url = 'https://github.com/MEfse/project/blob/main/Project/%D0%9C%D0%B0%D1%88%D0%B8%D0%BD%D0%BD%D0%BE%D0%B5%20%D0%BE%D0%B1%D1%83%D1%87%D0%B5%D0%BD%D0%B8%D0%B5%20%D0%B4%D0%BB%D1%8F%20%D1%82%D0%B5%D0%BA%D1%81%D1%82%D0%BE%D0%B2/toxic_comments.csv?raw=true'"
   ]
  },
  {
   "cell_type": "code",
   "execution_count": 13,
   "metadata": {},
   "outputs": [],
   "source": [
    "data = pd.read_csv(url, index_col=[0])"
   ]
  },
  {
   "cell_type": "code",
   "execution_count": 4,
   "metadata": {},
   "outputs": [],
   "source": [
    "data = data[:90000]"
   ]
  },
  {
   "cell_type": "code",
   "execution_count": 14,
   "metadata": {},
   "outputs": [
    {
     "name": "stdout",
     "output_type": "stream",
     "text": [
      "<class 'pandas.core.frame.DataFrame'>\n",
      "Int64Index: 159292 entries, 0 to 159450\n",
      "Data columns (total 2 columns):\n",
      " #   Column  Non-Null Count   Dtype \n",
      "---  ------  --------------   ----- \n",
      " 0   text    159292 non-null  object\n",
      " 1   toxic   159292 non-null  int64 \n",
      "dtypes: int64(1), object(1)\n",
      "memory usage: 3.6+ MB\n"
     ]
    }
   ],
   "source": [
    "data.info()"
   ]
  },
  {
   "cell_type": "code",
   "execution_count": 16,
   "metadata": {},
   "outputs": [],
   "source": [
    "def clear_text(text):  \n",
    "    return ' '.join(re.sub(r'[^a-zA-Z]', ' ', text).split())"
   ]
  },
  {
   "cell_type": "code",
   "execution_count": 8,
   "metadata": {},
   "outputs": [
    {
     "name": "stdout",
     "output_type": "stream",
     "text": [
      "0    Explanation\\nWhy the edits made under my usern...\n",
      "1    D'aww! He matches this background colour I'm s...\n",
      "2    Hey man, I'm really not trying to edit war. It...\n",
      "Name: text, dtype: object\n"
     ]
    }
   ],
   "source": [
    "print(data['text'].head(3))"
   ]
  },
  {
   "cell_type": "code",
   "execution_count": 21,
   "metadata": {},
   "outputs": [],
   "source": [
    "spacy_en = spacy.load('en_core_web_sm')"
   ]
  },
  {
   "cell_type": "code",
   "execution_count": 10,
   "metadata": {},
   "outputs": [],
   "source": [
    "data['lemm_text'] = data['text'].apply(lambda x : \" \".join(token.lemma_ for token in spacy_en(x)))"
   ]
  },
  {
   "cell_type": "code",
   "execution_count": 11,
   "metadata": {},
   "outputs": [
    {
     "name": "stderr",
     "output_type": "stream",
     "text": [
      "/tmp/ipykernel_303/2282150346.py:2: SettingWithCopyWarning: \n",
      "A value is trying to be set on a copy of a slice from a DataFrame\n",
      "\n",
      "See the caveats in the documentation: https://pandas.pydata.org/pandas-docs/stable/user_guide/indexing.html#returning-a-view-versus-a-copy\n",
      "  data['lemm_text'][x] = clear_text(data['lemm_text'][x])\n"
     ]
    }
   ],
   "source": [
    "for x in range(data['lemm_text'].shape[0]):\n",
    "    data['lemm_text'][x] = clear_text(data['lemm_text'][x])"
   ]
  },
  {
   "cell_type": "code",
   "execution_count": 12,
   "metadata": {},
   "outputs": [
    {
     "name": "stdout",
     "output_type": "stream",
     "text": [
      "0    Explanation why the edit make under my usernam...\n",
      "1    D aww he match this background colour I be see...\n",
      "2    hey man I be really not try to edit war it be ...\n",
      "3    More I can not make any real suggestion on imp...\n",
      "4    you sir be my hero any chance you remember wha...\n",
      "Name: lemm_text, dtype: object\n"
     ]
    }
   ],
   "source": [
    "print(data['lemm_text'].head(5))"
   ]
  },
  {
   "cell_type": "code",
   "execution_count": 13,
   "metadata": {},
   "outputs": [],
   "source": [
    "stop_words = set(stopwords.words('english')) "
   ]
  },
  {
   "cell_type": "markdown",
   "metadata": {},
   "source": [
    "Данные подготовлены."
   ]
  },
  {
   "cell_type": "markdown",
   "metadata": {},
   "source": [
    "## Обучение"
   ]
  },
  {
   "cell_type": "code",
   "execution_count": 14,
   "metadata": {},
   "outputs": [],
   "source": [
    "X = data['lemm_text']\n",
    "y = data['toxic']"
   ]
  },
  {
   "cell_type": "code",
   "execution_count": 15,
   "metadata": {},
   "outputs": [],
   "source": [
    "X_train, X_test, y_train, y_test, = train_test_split(X, y, test_size=.25, random_state=42)"
   ]
  },
  {
   "cell_type": "code",
   "execution_count": 16,
   "metadata": {},
   "outputs": [
    {
     "name": "stdout",
     "output_type": "stream",
     "text": [
      "Размер обучающей выборки: 67500 процент от общей 75.0%\n",
      "Размер тестовой выборки: 22500 процент от общей 25.0%\n"
     ]
    }
   ],
   "source": [
    "print(f'Размер обучающей выборки: {X_train.shape[0]} процент от общей {(X_train.shape[0] / data.shape[0]) * 100}%')\n",
    "print(f'Размер тестовой выборки: {X_test.shape[0]} процент от общей {(X_test.shape[0] / data.shape[0]) * 100}%')"
   ]
  },
  {
   "cell_type": "code",
   "execution_count": 17,
   "metadata": {},
   "outputs": [],
   "source": [
    "count_vect = CountVectorizer() \n",
    "bow = count_vect.fit_transform(X_train) "
   ]
  },
  {
   "cell_type": "code",
   "execution_count": 18,
   "metadata": {},
   "outputs": [],
   "source": [
    "count_tf_idf = TfidfVectorizer() "
   ]
  },
  {
   "cell_type": "code",
   "execution_count": 19,
   "metadata": {},
   "outputs": [],
   "source": [
    "tf_idf = count_tf_idf.fit_transform(X_train) "
   ]
  },
  {
   "cell_type": "code",
   "execution_count": 20,
   "metadata": {},
   "outputs": [],
   "source": [
    "parameters = {'C' : np.logspace(-3,5,9),\n",
    "              'solver': ['liblinear'],\n",
    "              'penalty': ['l1','l2'],\n",
    "              'max_iter' : [30, 80]}"
   ]
  },
  {
   "cell_type": "code",
   "execution_count": 21,
   "metadata": {},
   "outputs": [],
   "source": [
    "model_lr = LogisticRegression()"
   ]
  },
  {
   "cell_type": "code",
   "execution_count": 22,
   "metadata": {},
   "outputs": [],
   "source": [
    "grid_model = GridSearchCV(model_lr,\n",
    "                          parameters, \n",
    "                          scoring='f1', \n",
    "                          n_jobs=-1, \n",
    "                          cv=5)"
   ]
  },
  {
   "cell_type": "code",
   "execution_count": 23,
   "metadata": {},
   "outputs": [
    {
     "name": "stderr",
     "output_type": "stream",
     "text": [
      "/opt/conda/lib/python3.9/site-packages/sklearn/svm/_base.py:985: ConvergenceWarning: Liblinear failed to converge, increase the number of iterations.\n",
      "  warnings.warn(\"Liblinear failed to converge, increase \"\n",
      "/opt/conda/lib/python3.9/site-packages/sklearn/svm/_base.py:985: ConvergenceWarning: Liblinear failed to converge, increase the number of iterations.\n",
      "  warnings.warn(\"Liblinear failed to converge, increase \"\n",
      "/opt/conda/lib/python3.9/site-packages/sklearn/svm/_base.py:985: ConvergenceWarning: Liblinear failed to converge, increase the number of iterations.\n",
      "  warnings.warn(\"Liblinear failed to converge, increase \"\n",
      "/opt/conda/lib/python3.9/site-packages/sklearn/svm/_base.py:985: ConvergenceWarning: Liblinear failed to converge, increase the number of iterations.\n",
      "  warnings.warn(\"Liblinear failed to converge, increase \"\n",
      "/opt/conda/lib/python3.9/site-packages/sklearn/svm/_base.py:985: ConvergenceWarning: Liblinear failed to converge, increase the number of iterations.\n",
      "  warnings.warn(\"Liblinear failed to converge, increase \"\n",
      "/opt/conda/lib/python3.9/site-packages/sklearn/svm/_base.py:985: ConvergenceWarning: Liblinear failed to converge, increase the number of iterations.\n",
      "  warnings.warn(\"Liblinear failed to converge, increase \"\n"
     ]
    }
   ],
   "source": [
    "result = grid_model.fit(tf_idf, y_train)\n",
    "f1_score_grid = abs(result.best_score_).round(2)"
   ]
  },
  {
   "cell_type": "code",
   "execution_count": 24,
   "metadata": {},
   "outputs": [
    {
     "name": "stdout",
     "output_type": "stream",
     "text": [
      "{'C': 10.0, 'max_iter': 80, 'penalty': 'l1', 'solver': 'liblinear'}\n",
      "F1 мера: 0.77\n"
     ]
    }
   ],
   "source": [
    "print(f'{result.best_params_}')\n",
    "print(f\"F1 мера: {f1_score_grid}\")"
   ]
  },
  {
   "cell_type": "code",
   "execution_count": 25,
   "metadata": {},
   "outputs": [],
   "source": [
    "pipe_lr = Pipeline([('vect', CountVectorizer()),\n",
    "                    ('tfidf', TfidfTransformer()),\n",
    "                    ('model', LogisticRegression())])"
   ]
  },
  {
   "cell_type": "code",
   "execution_count": 26,
   "metadata": {},
   "outputs": [],
   "source": [
    "model = pipe_lr.fit(X_train, y_train)\n",
    "prediction = model.predict(X_test)\n",
    "f1_score_pipe = round(f1_score(y_test, prediction),2)"
   ]
  },
  {
   "cell_type": "code",
   "execution_count": 27,
   "metadata": {},
   "outputs": [
    {
     "name": "stdout",
     "output_type": "stream",
     "text": [
      "f1_score: 0.72\n"
     ]
    }
   ],
   "source": [
    "print(f'f1_score: {f1_score_pipe}')"
   ]
  },
  {
   "cell_type": "code",
   "execution_count": 28,
   "metadata": {},
   "outputs": [],
   "source": [
    "score_f1 = pd.DataFrame({'GridSearchCV' : [f1_score_grid],\n",
    "                         'Pipeline' : [f1_score_pipe]}, index=['F1 score'])"
   ]
  },
  {
   "cell_type": "code",
   "execution_count": 29,
   "metadata": {},
   "outputs": [
    {
     "data": {
      "text/html": [
       "<div>\n",
       "<style scoped>\n",
       "    .dataframe tbody tr th:only-of-type {\n",
       "        vertical-align: middle;\n",
       "    }\n",
       "\n",
       "    .dataframe tbody tr th {\n",
       "        vertical-align: top;\n",
       "    }\n",
       "\n",
       "    .dataframe thead th {\n",
       "        text-align: right;\n",
       "    }\n",
       "</style>\n",
       "<table border=\"1\" class=\"dataframe\">\n",
       "  <thead>\n",
       "    <tr style=\"text-align: right;\">\n",
       "      <th></th>\n",
       "      <th>GridSearchCV</th>\n",
       "      <th>Pipeline</th>\n",
       "    </tr>\n",
       "  </thead>\n",
       "  <tbody>\n",
       "    <tr>\n",
       "      <th>F1 score</th>\n",
       "      <td>0.77</td>\n",
       "      <td>0.72</td>\n",
       "    </tr>\n",
       "  </tbody>\n",
       "</table>\n",
       "</div>"
      ],
      "text/plain": [
       "          GridSearchCV  Pipeline\n",
       "F1 score          0.77      0.72"
      ]
     },
     "metadata": {},
     "output_type": "display_data"
    }
   ],
   "source": [
    "display(score_f1)"
   ]
  },
  {
   "cell_type": "markdown",
   "metadata": {},
   "source": [
    "## Вариант 2 "
   ]
  },
  {
   "cell_type": "code",
   "execution_count": 24,
   "metadata": {},
   "outputs": [],
   "source": [
    "import torch\n",
    "from tqdm import notebook"
   ]
  },
  {
   "cell_type": "code",
   "execution_count": 29,
   "metadata": {},
   "outputs": [],
   "source": [
    "device = torch.device(\"cuda:0\") if torch.cuda.is_available() else torch.device(\"cpu\")"
   ]
  },
  {
   "cell_type": "code",
   "execution_count": 26,
   "metadata": {},
   "outputs": [
    {
     "data": {
      "text/plain": [
       "device(type='cpu')"
      ]
     },
     "metadata": {},
     "output_type": "display_data"
    }
   ],
   "source": [
    "display(device)"
   ]
  },
  {
   "cell_type": "code",
   "execution_count": 27,
   "metadata": {},
   "outputs": [
    {
     "ename": "NameError",
     "evalue": "name 'input_ids' is not defined",
     "output_type": "error",
     "traceback": [
      "\u001b[1;31m---------------------------------------------------------------------------\u001b[0m",
      "\u001b[1;31mNameError\u001b[0m                                 Traceback (most recent call last)",
      "File \u001b[1;32m<timed exec>:4\u001b[0m\n",
      "\u001b[1;31mNameError\u001b[0m: name 'input_ids' is not defined"
     ]
    }
   ],
   "source": [
    "%%time\n",
    "batch_size = 2 \n",
    "embeddings = [] \n",
    "for i in notebook.tqdm(range(input_ids.shape[0] // batch_size)):\n",
    "        batch = torch.LongTensor(input_ids[batch_size*i:batch_size*(i+1)]).cuda() \n",
    "        attention_mask_batch = torch.LongTensor(attention_mask[batch_size*i:batch_size*(i+1)]).cuda()\n",
    "\n",
    "        with torch.no_grad():\n",
    "            model.cuda()\n",
    "            batch_embeddings = model(batch, attention_mask=attention_mask_batch)\n",
    "\n",
    "        embeddings.append(batch_embeddings[0][:,0,:].cpu().numpy()) # перевод обратно на проц, чтобы в нумпай кинуть\n",
    "        del batch\n",
    "        del attention_mask_batch\n",
    "        del batch_embeddings\n",
    "\n",
    "features = np.concatenate(embeddings) "
   ]
  },
  {
   "cell_type": "code",
   "execution_count": null,
   "metadata": {},
   "outputs": [],
   "source": []
  },
  {
   "cell_type": "code",
   "execution_count": null,
   "metadata": {},
   "outputs": [],
   "source": []
  },
  {
   "cell_type": "code",
   "execution_count": null,
   "metadata": {},
   "outputs": [],
   "source": []
  },
  {
   "cell_type": "code",
   "execution_count": null,
   "metadata": {},
   "outputs": [],
   "source": []
  },
  {
   "cell_type": "code",
   "execution_count": null,
   "metadata": {},
   "outputs": [],
   "source": []
  },
  {
   "cell_type": "code",
   "execution_count": null,
   "metadata": {},
   "outputs": [],
   "source": []
  },
  {
   "cell_type": "code",
   "execution_count": null,
   "metadata": {},
   "outputs": [],
   "source": []
  },
  {
   "cell_type": "code",
   "execution_count": null,
   "metadata": {},
   "outputs": [],
   "source": []
  },
  {
   "cell_type": "markdown",
   "metadata": {},
   "source": [
    "## Выводы"
   ]
  },
  {
   "cell_type": "markdown",
   "metadata": {},
   "source": [
    "В данном проекте подготовлены данные: полностью очищен от шума и подготовлен текст. Произведено обучение моделей и получена f1 метрика не ниже 0.75. "
   ]
  },
  {
   "cell_type": "markdown",
   "metadata": {},
   "source": [
    "## Чек-лист проверки"
   ]
  },
  {
   "cell_type": "markdown",
   "metadata": {},
   "source": [
    "- [x]  Jupyter Notebook открыт\n",
    "- [x]  Весь код выполняется без ошибок\n",
    "- [x]  Ячейки с кодом расположены в порядке исполнения\n",
    "- [x]  Данные загружены и подготовлены\n",
    "- [x]  Модели обучены\n",
    "- [x]  Значение метрики *F1* не меньше 0.75\n",
    "- [x]  Выводы написаны"
   ]
  }
 ],
 "metadata": {
  "ExecuteTimeLog": [
   {
    "duration": 417,
    "start_time": "2022-10-24T09:12:41.734Z"
   },
   {
    "duration": 99,
    "start_time": "2022-10-24T09:12:56.051Z"
   },
   {
    "duration": 13,
    "start_time": "2022-10-24T09:13:09.452Z"
   },
   {
    "duration": 2380,
    "start_time": "2022-10-24T09:13:24.148Z"
   },
   {
    "duration": 14,
    "start_time": "2022-10-24T09:13:30.397Z"
   },
   {
    "duration": 32,
    "start_time": "2022-10-24T09:13:33.819Z"
   },
   {
    "duration": 6,
    "start_time": "2022-10-24T09:13:56.870Z"
   },
   {
    "duration": 11,
    "start_time": "2022-10-24T09:14:18.752Z"
   },
   {
    "duration": 5,
    "start_time": "2022-10-24T09:14:21.918Z"
   },
   {
    "duration": 790,
    "start_time": "2022-10-24T09:19:29.603Z"
   },
   {
    "duration": 2,
    "start_time": "2022-10-24T09:21:04.598Z"
   },
   {
    "duration": 37,
    "start_time": "2022-10-24T09:21:08.322Z"
   },
   {
    "duration": 3,
    "start_time": "2022-10-24T11:21:28.048Z"
   },
   {
    "duration": 2,
    "start_time": "2022-10-24T11:23:40.296Z"
   },
   {
    "duration": 43,
    "start_time": "2022-10-24T11:26:47.537Z"
   },
   {
    "duration": 3,
    "start_time": "2022-10-24T11:27:18.446Z"
   },
   {
    "duration": 42,
    "start_time": "2022-10-24T11:27:18.971Z"
   },
   {
    "duration": 3,
    "start_time": "2022-10-24T11:27:54.943Z"
   },
   {
    "duration": 28,
    "start_time": "2022-10-24T11:28:30.448Z"
   },
   {
    "duration": 3,
    "start_time": "2022-10-24T11:28:42.642Z"
   },
   {
    "duration": 2,
    "start_time": "2022-10-24T11:29:14.551Z"
   },
   {
    "duration": 2,
    "start_time": "2022-10-24T11:29:15.255Z"
   },
   {
    "duration": 34,
    "start_time": "2022-10-24T11:30:17.506Z"
   },
   {
    "duration": 3,
    "start_time": "2022-10-24T11:31:56.648Z"
   },
   {
    "duration": 2,
    "start_time": "2022-10-24T11:31:57.042Z"
   },
   {
    "duration": 11,
    "start_time": "2022-10-24T11:31:58.123Z"
   },
   {
    "duration": 2,
    "start_time": "2022-10-24T11:31:59.648Z"
   },
   {
    "duration": 3,
    "start_time": "2022-10-24T11:35:02.373Z"
   },
   {
    "duration": 10,
    "start_time": "2022-10-24T11:36:20.846Z"
   },
   {
    "duration": 3467,
    "start_time": "2022-10-24T11:37:33.201Z"
   },
   {
    "duration": 40,
    "start_time": "2022-10-24T11:38:26.710Z"
   },
   {
    "duration": 6,
    "start_time": "2022-10-24T11:39:03.100Z"
   },
   {
    "duration": 3,
    "start_time": "2022-10-24T11:39:09.037Z"
   },
   {
    "duration": 3,
    "start_time": "2022-10-24T11:39:19.165Z"
   },
   {
    "duration": 4,
    "start_time": "2022-10-24T11:39:38.305Z"
   },
   {
    "duration": 3,
    "start_time": "2022-10-24T11:39:49.928Z"
   },
   {
    "duration": 3,
    "start_time": "2022-10-24T11:39:53.812Z"
   },
   {
    "duration": 4,
    "start_time": "2022-10-24T11:40:31.681Z"
   },
   {
    "duration": 3,
    "start_time": "2022-10-24T11:40:42.085Z"
   },
   {
    "duration": 5,
    "start_time": "2022-10-24T11:40:56.478Z"
   },
   {
    "duration": 4,
    "start_time": "2022-10-24T11:41:16.812Z"
   },
   {
    "duration": 0,
    "start_time": "2022-10-24T11:42:41.372Z"
   },
   {
    "duration": 0,
    "start_time": "2022-10-24T11:42:50.552Z"
   },
   {
    "duration": 0,
    "start_time": "2022-10-24T11:42:50.553Z"
   },
   {
    "duration": 0,
    "start_time": "2022-10-24T11:42:50.554Z"
   },
   {
    "duration": 0,
    "start_time": "2022-10-24T11:42:50.555Z"
   },
   {
    "duration": 0,
    "start_time": "2022-10-24T11:42:50.556Z"
   },
   {
    "duration": 0,
    "start_time": "2022-10-24T11:42:50.557Z"
   },
   {
    "duration": 0,
    "start_time": "2022-10-24T11:42:50.558Z"
   },
   {
    "duration": 0,
    "start_time": "2022-10-24T11:42:50.559Z"
   },
   {
    "duration": 0,
    "start_time": "2022-10-24T11:42:50.560Z"
   },
   {
    "duration": 0,
    "start_time": "2022-10-24T11:42:50.561Z"
   },
   {
    "duration": 0,
    "start_time": "2022-10-24T11:42:50.562Z"
   },
   {
    "duration": 0,
    "start_time": "2022-10-24T11:42:50.562Z"
   },
   {
    "duration": 0,
    "start_time": "2022-10-24T11:42:50.564Z"
   },
   {
    "duration": 3601,
    "start_time": "2022-10-24T11:42:56.955Z"
   },
   {
    "duration": 321,
    "start_time": "2022-10-24T11:43:00.558Z"
   },
   {
    "duration": 0,
    "start_time": "2022-10-24T11:43:00.881Z"
   },
   {
    "duration": 0,
    "start_time": "2022-10-24T11:43:00.882Z"
   },
   {
    "duration": 0,
    "start_time": "2022-10-24T11:43:00.883Z"
   },
   {
    "duration": 0,
    "start_time": "2022-10-24T11:43:00.884Z"
   },
   {
    "duration": 0,
    "start_time": "2022-10-24T11:43:00.885Z"
   },
   {
    "duration": 0,
    "start_time": "2022-10-24T11:43:00.886Z"
   },
   {
    "duration": 0,
    "start_time": "2022-10-24T11:43:00.887Z"
   },
   {
    "duration": 0,
    "start_time": "2022-10-24T11:43:00.888Z"
   },
   {
    "duration": 0,
    "start_time": "2022-10-24T11:43:00.889Z"
   },
   {
    "duration": 0,
    "start_time": "2022-10-24T11:43:00.890Z"
   },
   {
    "duration": 0,
    "start_time": "2022-10-24T11:43:00.892Z"
   },
   {
    "duration": 3552,
    "start_time": "2022-10-24T12:58:48.156Z"
   },
   {
    "duration": 2306,
    "start_time": "2022-10-24T12:58:51.710Z"
   },
   {
    "duration": 38,
    "start_time": "2022-10-24T12:58:54.018Z"
   },
   {
    "duration": 13,
    "start_time": "2022-10-24T12:58:54.057Z"
   },
   {
    "duration": 10,
    "start_time": "2022-10-24T12:58:54.071Z"
   },
   {
    "duration": 2,
    "start_time": "2022-10-24T12:58:54.083Z"
   },
   {
    "duration": 6,
    "start_time": "2022-10-24T12:58:54.087Z"
   },
   {
    "duration": 60,
    "start_time": "2022-10-24T12:58:54.095Z"
   },
   {
    "duration": 3,
    "start_time": "2022-10-24T12:58:54.157Z"
   },
   {
    "duration": 6,
    "start_time": "2022-10-24T12:58:54.162Z"
   },
   {
    "duration": 45,
    "start_time": "2022-10-24T12:58:54.169Z"
   },
   {
    "duration": 0,
    "start_time": "2022-10-24T12:58:54.215Z"
   },
   {
    "duration": 0,
    "start_time": "2022-10-24T12:58:54.217Z"
   },
   {
    "duration": 94,
    "start_time": "2022-10-25T07:06:18.454Z"
   },
   {
    "duration": 5235,
    "start_time": "2022-10-25T07:06:22.332Z"
   },
   {
    "duration": 3483,
    "start_time": "2022-10-25T07:06:27.569Z"
   },
   {
    "duration": 48,
    "start_time": "2022-10-25T07:06:31.058Z"
   },
   {
    "duration": 58,
    "start_time": "2022-10-25T07:06:31.117Z"
   },
   {
    "duration": 51,
    "start_time": "2022-10-25T07:06:31.181Z"
   },
   {
    "duration": 50,
    "start_time": "2022-10-25T07:06:31.234Z"
   },
   {
    "duration": 33,
    "start_time": "2022-10-25T07:06:31.290Z"
   },
   {
    "duration": 16,
    "start_time": "2022-10-25T07:06:31.325Z"
   },
   {
    "duration": 131,
    "start_time": "2022-10-25T07:06:31.344Z"
   },
   {
    "duration": 12,
    "start_time": "2022-10-25T07:06:31.480Z"
   },
   {
    "duration": 50,
    "start_time": "2022-10-25T07:06:31.498Z"
   },
   {
    "duration": 170,
    "start_time": "2022-10-25T07:06:31.550Z"
   },
   {
    "duration": 0,
    "start_time": "2022-10-25T07:06:31.723Z"
   },
   {
    "duration": 0,
    "start_time": "2022-10-25T07:06:31.724Z"
   },
   {
    "duration": 451,
    "start_time": "2022-10-25T07:07:23.466Z"
   },
   {
    "duration": 102,
    "start_time": "2022-10-25T07:07:39.130Z"
   },
   {
    "duration": 31,
    "start_time": "2022-10-25T07:08:58.482Z"
   },
   {
    "duration": 466,
    "start_time": "2022-10-25T07:09:06.534Z"
   },
   {
    "duration": 86,
    "start_time": "2022-10-25T07:10:35.981Z"
   },
   {
    "duration": 49,
    "start_time": "2022-10-25T07:10:51.953Z"
   },
   {
    "duration": 88,
    "start_time": "2022-10-25T07:10:56.977Z"
   },
   {
    "duration": 142,
    "start_time": "2022-10-25T07:11:43.500Z"
   },
   {
    "duration": 771,
    "start_time": "2022-10-25T07:13:25.732Z"
   },
   {
    "duration": 5647,
    "start_time": "2022-10-25T07:17:07.989Z"
   },
   {
    "duration": 1268,
    "start_time": "2022-10-25T07:17:13.640Z"
   },
   {
    "duration": 61,
    "start_time": "2022-10-25T07:17:14.911Z"
   },
   {
    "duration": 28,
    "start_time": "2022-10-25T07:17:14.978Z"
   },
   {
    "duration": 119,
    "start_time": "2022-10-25T07:17:15.014Z"
   },
   {
    "duration": 1126,
    "start_time": "2022-10-25T07:17:15.136Z"
   },
   {
    "duration": 6,
    "start_time": "2022-10-25T07:17:16.269Z"
   },
   {
    "duration": 5685,
    "start_time": "2022-10-25T07:17:40.446Z"
   },
   {
    "duration": 1260,
    "start_time": "2022-10-25T07:17:46.133Z"
   },
   {
    "duration": 51,
    "start_time": "2022-10-25T07:17:47.398Z"
   },
   {
    "duration": 135,
    "start_time": "2022-10-25T07:17:47.455Z"
   },
   {
    "duration": 145,
    "start_time": "2022-10-25T07:17:47.594Z"
   },
   {
    "duration": 970,
    "start_time": "2022-10-25T07:17:47.742Z"
   },
   {
    "duration": 5,
    "start_time": "2022-10-25T07:17:48.720Z"
   },
   {
    "duration": 176,
    "start_time": "2022-10-25T07:17:48.727Z"
   },
   {
    "duration": 0,
    "start_time": "2022-10-25T07:17:48.911Z"
   },
   {
    "duration": 0,
    "start_time": "2022-10-25T07:17:48.912Z"
   },
   {
    "duration": 0,
    "start_time": "2022-10-25T07:17:48.916Z"
   },
   {
    "duration": 0,
    "start_time": "2022-10-25T07:17:48.918Z"
   },
   {
    "duration": 0,
    "start_time": "2022-10-25T07:17:48.919Z"
   },
   {
    "duration": 0,
    "start_time": "2022-10-25T07:17:48.921Z"
   },
   {
    "duration": 0,
    "start_time": "2022-10-25T07:17:48.940Z"
   },
   {
    "duration": 6294,
    "start_time": "2022-10-25T07:17:54.157Z"
   },
   {
    "duration": 18,
    "start_time": "2022-10-25T07:18:37.773Z"
   },
   {
    "duration": 12,
    "start_time": "2022-10-25T07:19:28.881Z"
   },
   {
    "duration": 3,
    "start_time": "2022-10-25T07:21:25.724Z"
   },
   {
    "duration": 427,
    "start_time": "2022-10-25T07:21:26.484Z"
   },
   {
    "duration": 5,
    "start_time": "2022-10-25T07:22:31.045Z"
   },
   {
    "duration": 73,
    "start_time": "2022-10-25T07:22:31.566Z"
   },
   {
    "duration": 4,
    "start_time": "2022-10-25T07:22:43.725Z"
   },
   {
    "duration": 51,
    "start_time": "2022-10-25T07:22:44.128Z"
   },
   {
    "duration": 46,
    "start_time": "2022-10-25T07:23:27.283Z"
   },
   {
    "duration": 5,
    "start_time": "2022-10-25T07:23:52.928Z"
   },
   {
    "duration": 5421,
    "start_time": "2022-10-25T07:24:00.400Z"
   },
   {
    "duration": 1019,
    "start_time": "2022-10-25T07:24:05.824Z"
   },
   {
    "duration": 78,
    "start_time": "2022-10-25T07:24:06.849Z"
   },
   {
    "duration": 22,
    "start_time": "2022-10-25T07:24:06.929Z"
   },
   {
    "duration": 2440,
    "start_time": "2022-10-25T07:24:06.955Z"
   },
   {
    "duration": 910,
    "start_time": "2022-10-25T07:24:09.397Z"
   },
   {
    "duration": 4,
    "start_time": "2022-10-25T07:24:10.314Z"
   },
   {
    "duration": 556,
    "start_time": "2022-10-25T07:24:10.325Z"
   },
   {
    "duration": 0,
    "start_time": "2022-10-25T07:24:10.888Z"
   },
   {
    "duration": 0,
    "start_time": "2022-10-25T07:24:10.893Z"
   },
   {
    "duration": 0,
    "start_time": "2022-10-25T07:24:10.902Z"
   },
   {
    "duration": 0,
    "start_time": "2022-10-25T07:24:10.909Z"
   },
   {
    "duration": 1,
    "start_time": "2022-10-25T07:24:10.914Z"
   },
   {
    "duration": 0,
    "start_time": "2022-10-25T07:24:10.917Z"
   },
   {
    "duration": 0,
    "start_time": "2022-10-25T07:24:10.928Z"
   },
   {
    "duration": 0,
    "start_time": "2022-10-25T07:24:10.929Z"
   },
   {
    "duration": 0,
    "start_time": "2022-10-25T07:24:10.930Z"
   },
   {
    "duration": 0,
    "start_time": "2022-10-25T07:24:10.931Z"
   },
   {
    "duration": 6604,
    "start_time": "2022-10-25T07:24:38.733Z"
   },
   {
    "duration": 6826,
    "start_time": "2022-10-25T07:24:45.344Z"
   },
   {
    "duration": 68,
    "start_time": "2022-10-25T07:24:52.182Z"
   },
   {
    "duration": 94,
    "start_time": "2022-10-25T07:24:52.257Z"
   },
   {
    "duration": 2596,
    "start_time": "2022-10-25T07:24:52.359Z"
   },
   {
    "duration": 16,
    "start_time": "2022-10-25T07:24:54.968Z"
   },
   {
    "duration": 933,
    "start_time": "2022-10-25T07:24:54.999Z"
   },
   {
    "duration": 4,
    "start_time": "2022-10-25T07:24:55.939Z"
   },
   {
    "duration": 158,
    "start_time": "2022-10-25T07:24:55.945Z"
   },
   {
    "duration": 0,
    "start_time": "2022-10-25T07:24:56.109Z"
   },
   {
    "duration": 0,
    "start_time": "2022-10-25T07:24:56.111Z"
   },
   {
    "duration": 0,
    "start_time": "2022-10-25T07:24:56.113Z"
   },
   {
    "duration": 0,
    "start_time": "2022-10-25T07:24:56.114Z"
   },
   {
    "duration": 0,
    "start_time": "2022-10-25T07:24:56.115Z"
   },
   {
    "duration": 0,
    "start_time": "2022-10-25T07:24:56.116Z"
   },
   {
    "duration": 0,
    "start_time": "2022-10-25T07:24:56.119Z"
   },
   {
    "duration": 0,
    "start_time": "2022-10-25T07:24:56.121Z"
   },
   {
    "duration": 0,
    "start_time": "2022-10-25T07:24:56.122Z"
   },
   {
    "duration": 0,
    "start_time": "2022-10-25T07:24:56.123Z"
   },
   {
    "duration": 931,
    "start_time": "2022-10-25T07:26:53.416Z"
   },
   {
    "duration": 19,
    "start_time": "2022-10-25T07:27:28.444Z"
   },
   {
    "duration": 4,
    "start_time": "2022-10-25T07:28:00.666Z"
   },
   {
    "duration": 9,
    "start_time": "2022-10-25T07:28:05.601Z"
   },
   {
    "duration": 10,
    "start_time": "2022-10-25T07:28:11.081Z"
   },
   {
    "duration": 559,
    "start_time": "2022-10-25T07:28:13.190Z"
   },
   {
    "duration": 5,
    "start_time": "2022-10-25T07:28:17.527Z"
   },
   {
    "duration": 106,
    "start_time": "2022-10-25T07:28:19.846Z"
   },
   {
    "duration": 20,
    "start_time": "2022-10-25T07:28:27.112Z"
   },
   {
    "duration": 144,
    "start_time": "2022-10-25T07:29:07.888Z"
   },
   {
    "duration": 26,
    "start_time": "2022-10-25T07:29:12.313Z"
   },
   {
    "duration": 11,
    "start_time": "2022-10-25T07:29:16.560Z"
   },
   {
    "duration": 55,
    "start_time": "2022-10-25T07:30:14.277Z"
   },
   {
    "duration": 6749,
    "start_time": "2022-10-25T07:30:23.718Z"
   },
   {
    "duration": 1280,
    "start_time": "2022-10-25T07:30:30.480Z"
   },
   {
    "duration": 54,
    "start_time": "2022-10-25T07:30:31.763Z"
   },
   {
    "duration": 236,
    "start_time": "2022-10-25T07:30:31.834Z"
   },
   {
    "duration": 2828,
    "start_time": "2022-10-25T07:30:32.080Z"
   },
   {
    "duration": 15,
    "start_time": "2022-10-25T07:30:34.921Z"
   },
   {
    "duration": 175,
    "start_time": "2022-10-25T07:30:34.944Z"
   },
   {
    "duration": 139,
    "start_time": "2022-10-25T07:30:35.121Z"
   },
   {
    "duration": 0,
    "start_time": "2022-10-25T07:30:35.264Z"
   },
   {
    "duration": 0,
    "start_time": "2022-10-25T07:30:35.274Z"
   },
   {
    "duration": 0,
    "start_time": "2022-10-25T07:30:35.276Z"
   },
   {
    "duration": 0,
    "start_time": "2022-10-25T07:30:35.278Z"
   },
   {
    "duration": 0,
    "start_time": "2022-10-25T07:30:35.279Z"
   },
   {
    "duration": 0,
    "start_time": "2022-10-25T07:30:35.285Z"
   },
   {
    "duration": 0,
    "start_time": "2022-10-25T07:30:35.287Z"
   },
   {
    "duration": 0,
    "start_time": "2022-10-25T07:30:35.288Z"
   },
   {
    "duration": 0,
    "start_time": "2022-10-25T07:30:35.290Z"
   },
   {
    "duration": 0,
    "start_time": "2022-10-25T07:30:35.292Z"
   },
   {
    "duration": 1,
    "start_time": "2022-10-25T07:30:35.293Z"
   },
   {
    "duration": 0,
    "start_time": "2022-10-25T07:30:35.295Z"
   },
   {
    "duration": 0,
    "start_time": "2022-10-25T07:30:35.297Z"
   },
   {
    "duration": 4,
    "start_time": "2022-10-25T07:30:41.392Z"
   },
   {
    "duration": 5,
    "start_time": "2022-10-25T07:30:57.837Z"
   },
   {
    "duration": 11,
    "start_time": "2022-10-25T07:31:01.072Z"
   },
   {
    "duration": 707,
    "start_time": "2022-10-25T07:31:17.772Z"
   },
   {
    "duration": 7,
    "start_time": "2022-10-25T07:31:26.722Z"
   },
   {
    "duration": 15,
    "start_time": "2022-10-25T07:33:22.965Z"
   },
   {
    "duration": 4,
    "start_time": "2022-10-25T07:33:32.246Z"
   },
   {
    "duration": 8,
    "start_time": "2022-10-25T07:33:35.951Z"
   },
   {
    "duration": 7,
    "start_time": "2022-10-25T07:34:23.480Z"
   },
   {
    "duration": 34,
    "start_time": "2022-10-25T07:34:42.196Z"
   },
   {
    "duration": 4,
    "start_time": "2022-10-25T07:34:46.122Z"
   },
   {
    "duration": 19,
    "start_time": "2022-10-25T07:34:56.054Z"
   },
   {
    "duration": 43,
    "start_time": "2022-10-25T07:35:18.743Z"
   },
   {
    "duration": 5,
    "start_time": "2022-10-25T07:35:25.731Z"
   },
   {
    "duration": 104,
    "start_time": "2022-10-25T07:35:41.641Z"
   },
   {
    "duration": 140,
    "start_time": "2022-10-25T07:35:44.028Z"
   },
   {
    "duration": 22,
    "start_time": "2022-10-25T07:35:46.803Z"
   },
   {
    "duration": 6,
    "start_time": "2022-10-25T07:35:51.584Z"
   },
   {
    "duration": 25,
    "start_time": "2022-10-25T07:36:02.252Z"
   },
   {
    "duration": 1487,
    "start_time": "2022-10-25T07:36:16.322Z"
   },
   {
    "duration": 1205,
    "start_time": "2022-10-25T07:36:17.812Z"
   },
   {
    "duration": 48,
    "start_time": "2022-10-25T07:36:19.020Z"
   },
   {
    "duration": 60,
    "start_time": "2022-10-25T07:36:19.070Z"
   },
   {
    "duration": 2421,
    "start_time": "2022-10-25T07:36:19.133Z"
   },
   {
    "duration": 13,
    "start_time": "2022-10-25T07:36:21.558Z"
   },
   {
    "duration": 89,
    "start_time": "2022-10-25T07:36:21.574Z"
   },
   {
    "duration": 329,
    "start_time": "2022-10-25T07:36:21.666Z"
   },
   {
    "duration": 211,
    "start_time": "2022-10-25T07:36:22.008Z"
   },
   {
    "duration": 0,
    "start_time": "2022-10-25T07:36:22.229Z"
   },
   {
    "duration": 0,
    "start_time": "2022-10-25T07:36:22.230Z"
   },
   {
    "duration": 0,
    "start_time": "2022-10-25T07:36:22.238Z"
   },
   {
    "duration": 0,
    "start_time": "2022-10-25T07:36:22.239Z"
   },
   {
    "duration": 0,
    "start_time": "2022-10-25T07:36:22.240Z"
   },
   {
    "duration": 0,
    "start_time": "2022-10-25T07:36:22.241Z"
   },
   {
    "duration": 1,
    "start_time": "2022-10-25T07:36:22.241Z"
   },
   {
    "duration": 0,
    "start_time": "2022-10-25T07:36:22.242Z"
   },
   {
    "duration": 0,
    "start_time": "2022-10-25T07:36:22.256Z"
   },
   {
    "duration": 0,
    "start_time": "2022-10-25T07:36:22.260Z"
   },
   {
    "duration": 0,
    "start_time": "2022-10-25T07:36:22.269Z"
   },
   {
    "duration": 0,
    "start_time": "2022-10-25T07:36:22.270Z"
   },
   {
    "duration": 5,
    "start_time": "2022-10-25T07:36:27.002Z"
   },
   {
    "duration": 1364,
    "start_time": "2022-10-25T07:37:22.755Z"
   },
   {
    "duration": 1340,
    "start_time": "2022-10-25T07:37:24.123Z"
   },
   {
    "duration": 56,
    "start_time": "2022-10-25T07:37:25.471Z"
   },
   {
    "duration": 75,
    "start_time": "2022-10-25T07:37:25.528Z"
   },
   {
    "duration": 76,
    "start_time": "2022-10-25T07:37:25.610Z"
   },
   {
    "duration": 40,
    "start_time": "2022-10-25T07:37:25.688Z"
   },
   {
    "duration": 2614,
    "start_time": "2022-10-25T07:37:25.730Z"
   },
   {
    "duration": 77,
    "start_time": "2022-10-25T07:37:28.347Z"
   },
   {
    "duration": 0,
    "start_time": "2022-10-25T07:37:28.426Z"
   },
   {
    "duration": 0,
    "start_time": "2022-10-25T07:37:28.427Z"
   },
   {
    "duration": 0,
    "start_time": "2022-10-25T07:37:28.467Z"
   },
   {
    "duration": 0,
    "start_time": "2022-10-25T07:37:28.468Z"
   },
   {
    "duration": 0,
    "start_time": "2022-10-25T07:37:28.469Z"
   },
   {
    "duration": 0,
    "start_time": "2022-10-25T07:37:28.470Z"
   },
   {
    "duration": 1,
    "start_time": "2022-10-25T07:37:28.472Z"
   },
   {
    "duration": 0,
    "start_time": "2022-10-25T07:37:28.474Z"
   },
   {
    "duration": 0,
    "start_time": "2022-10-25T07:37:28.475Z"
   },
   {
    "duration": 0,
    "start_time": "2022-10-25T07:37:28.476Z"
   },
   {
    "duration": 0,
    "start_time": "2022-10-25T07:37:28.477Z"
   },
   {
    "duration": 0,
    "start_time": "2022-10-25T07:37:28.478Z"
   },
   {
    "duration": 0,
    "start_time": "2022-10-25T07:37:28.479Z"
   },
   {
    "duration": 3217,
    "start_time": "2022-10-25T07:37:33.887Z"
   },
   {
    "duration": 4996,
    "start_time": "2022-10-25T07:37:37.275Z"
   },
   {
    "duration": 2355,
    "start_time": "2022-10-25T07:37:46.592Z"
   },
   {
    "duration": 11,
    "start_time": "2022-10-25T07:37:49.502Z"
   },
   {
    "duration": 5,
    "start_time": "2022-10-25T07:37:49.822Z"
   },
   {
    "duration": 248,
    "start_time": "2022-10-25T07:38:23.173Z"
   },
   {
    "duration": 10,
    "start_time": "2022-10-25T07:38:29.541Z"
   },
   {
    "duration": 115,
    "start_time": "2022-10-25T07:39:07.546Z"
   },
   {
    "duration": 8684,
    "start_time": "2022-10-25T07:39:11.141Z"
   },
   {
    "duration": 5,
    "start_time": "2022-10-25T07:39:28.408Z"
   },
   {
    "duration": 8591,
    "start_time": "2022-10-25T07:39:58.933Z"
   },
   {
    "duration": 1594,
    "start_time": "2022-10-25T07:40:10.019Z"
   },
   {
    "duration": 5,
    "start_time": "2022-10-25T07:40:19.137Z"
   },
   {
    "duration": 11,
    "start_time": "2022-10-25T07:40:41.624Z"
   },
   {
    "duration": 8547,
    "start_time": "2022-10-25T07:41:32.119Z"
   },
   {
    "duration": 8207,
    "start_time": "2022-10-25T07:41:51.103Z"
   },
   {
    "duration": 9,
    "start_time": "2022-10-25T07:42:02.497Z"
   },
   {
    "duration": 8806,
    "start_time": "2022-10-25T07:43:00.284Z"
   },
   {
    "duration": 16,
    "start_time": "2022-10-25T07:43:09.953Z"
   },
   {
    "duration": 4,
    "start_time": "2022-10-25T07:44:16.523Z"
   },
   {
    "duration": 5,
    "start_time": "2022-10-25T07:47:33.153Z"
   },
   {
    "duration": 7,
    "start_time": "2022-10-25T07:48:10.624Z"
   },
   {
    "duration": 31,
    "start_time": "2022-10-25T07:48:33.354Z"
   },
   {
    "duration": 6256,
    "start_time": "2022-10-25T07:48:45.544Z"
   },
   {
    "duration": 5,
    "start_time": "2022-10-25T07:48:56.733Z"
   },
   {
    "duration": 7,
    "start_time": "2022-10-25T07:49:22.584Z"
   },
   {
    "duration": 1286,
    "start_time": "2022-10-25T07:53:43.799Z"
   },
   {
    "duration": 1131,
    "start_time": "2022-10-25T07:53:45.089Z"
   },
   {
    "duration": 63,
    "start_time": "2022-10-25T07:53:46.223Z"
   },
   {
    "duration": 53,
    "start_time": "2022-10-25T07:53:46.288Z"
   },
   {
    "duration": 46,
    "start_time": "2022-10-25T07:53:46.344Z"
   },
   {
    "duration": 46,
    "start_time": "2022-10-25T07:53:46.393Z"
   },
   {
    "duration": 53,
    "start_time": "2022-10-25T07:53:46.442Z"
   },
   {
    "duration": 51,
    "start_time": "2022-10-25T07:53:46.498Z"
   },
   {
    "duration": 81,
    "start_time": "2022-10-25T07:53:46.552Z"
   },
   {
    "duration": 99,
    "start_time": "2022-10-25T07:53:46.635Z"
   },
   {
    "duration": 0,
    "start_time": "2022-10-25T07:53:46.737Z"
   },
   {
    "duration": 0,
    "start_time": "2022-10-25T07:53:46.738Z"
   },
   {
    "duration": 0,
    "start_time": "2022-10-25T07:53:46.739Z"
   },
   {
    "duration": 0,
    "start_time": "2022-10-25T07:53:46.740Z"
   },
   {
    "duration": 0,
    "start_time": "2022-10-25T07:53:46.742Z"
   },
   {
    "duration": 0,
    "start_time": "2022-10-25T07:53:46.743Z"
   },
   {
    "duration": 0,
    "start_time": "2022-10-25T07:53:46.744Z"
   },
   {
    "duration": 0,
    "start_time": "2022-10-25T07:53:46.747Z"
   },
   {
    "duration": 0,
    "start_time": "2022-10-25T07:53:46.748Z"
   },
   {
    "duration": 0,
    "start_time": "2022-10-25T07:53:46.750Z"
   },
   {
    "duration": 0,
    "start_time": "2022-10-25T07:53:46.751Z"
   },
   {
    "duration": 0,
    "start_time": "2022-10-25T07:53:46.752Z"
   },
   {
    "duration": 34,
    "start_time": "2022-10-25T07:54:51.572Z"
   },
   {
    "duration": 14,
    "start_time": "2022-10-25T07:54:55.685Z"
   },
   {
    "duration": 11,
    "start_time": "2022-10-25T07:55:16.700Z"
   },
   {
    "duration": 14,
    "start_time": "2022-10-25T07:55:23.805Z"
   },
   {
    "duration": 173,
    "start_time": "2022-10-25T07:55:48.393Z"
   },
   {
    "duration": 650,
    "start_time": "2022-10-25T07:55:58.243Z"
   },
   {
    "duration": 24,
    "start_time": "2022-10-25T07:56:02.039Z"
   },
   {
    "duration": 4915,
    "start_time": "2022-10-25T07:56:05.778Z"
   },
   {
    "duration": 811,
    "start_time": "2022-10-25T07:56:10.699Z"
   },
   {
    "duration": 4637,
    "start_time": "2022-10-25T07:59:12.897Z"
   },
   {
    "duration": 945,
    "start_time": "2022-10-25T07:59:17.536Z"
   },
   {
    "duration": 37,
    "start_time": "2022-10-25T07:59:18.491Z"
   },
   {
    "duration": 30,
    "start_time": "2022-10-25T07:59:18.530Z"
   },
   {
    "duration": 55,
    "start_time": "2022-10-25T07:59:18.563Z"
   },
   {
    "duration": 20,
    "start_time": "2022-10-25T07:59:18.620Z"
   },
   {
    "duration": 679,
    "start_time": "2022-10-25T07:59:18.641Z"
   },
   {
    "duration": 4831,
    "start_time": "2022-10-25T08:03:03.954Z"
   },
   {
    "duration": 940,
    "start_time": "2022-10-25T08:03:08.787Z"
   },
   {
    "duration": 4,
    "start_time": "2022-10-25T08:03:09.729Z"
   },
   {
    "duration": 29,
    "start_time": "2022-10-25T08:03:09.736Z"
   },
   {
    "duration": 37,
    "start_time": "2022-10-25T08:03:09.768Z"
   },
   {
    "duration": 14,
    "start_time": "2022-10-25T08:03:09.808Z"
   },
   {
    "duration": 10,
    "start_time": "2022-10-25T08:03:09.824Z"
   },
   {
    "duration": 611,
    "start_time": "2022-10-25T08:03:09.835Z"
   },
   {
    "duration": 188,
    "start_time": "2022-10-25T08:03:10.448Z"
   },
   {
    "duration": 5,
    "start_time": "2022-10-25T08:03:10.639Z"
   },
   {
    "duration": 17,
    "start_time": "2022-10-25T08:03:10.654Z"
   },
   {
    "duration": 389,
    "start_time": "2022-10-25T08:03:10.680Z"
   },
   {
    "duration": 0,
    "start_time": "2022-10-25T08:03:11.071Z"
   },
   {
    "duration": 0,
    "start_time": "2022-10-25T08:03:11.072Z"
   },
   {
    "duration": 0,
    "start_time": "2022-10-25T08:03:11.073Z"
   },
   {
    "duration": 0,
    "start_time": "2022-10-25T08:03:11.074Z"
   },
   {
    "duration": 0,
    "start_time": "2022-10-25T08:03:11.075Z"
   },
   {
    "duration": 0,
    "start_time": "2022-10-25T08:03:11.076Z"
   },
   {
    "duration": 0,
    "start_time": "2022-10-25T08:03:11.077Z"
   },
   {
    "duration": 360,
    "start_time": "2022-10-25T08:03:36.085Z"
   },
   {
    "duration": 6,
    "start_time": "2022-10-25T08:03:36.892Z"
   },
   {
    "duration": 509,
    "start_time": "2022-10-25T08:03:49.032Z"
   },
   {
    "duration": 4578,
    "start_time": "2022-10-25T08:03:59.367Z"
   },
   {
    "duration": 883,
    "start_time": "2022-10-25T08:04:03.947Z"
   },
   {
    "duration": 4,
    "start_time": "2022-10-25T08:04:04.832Z"
   },
   {
    "duration": 30,
    "start_time": "2022-10-25T08:04:04.838Z"
   },
   {
    "duration": 28,
    "start_time": "2022-10-25T08:04:04.876Z"
   },
   {
    "duration": 30,
    "start_time": "2022-10-25T08:04:04.907Z"
   },
   {
    "duration": 52,
    "start_time": "2022-10-25T08:04:04.939Z"
   },
   {
    "duration": 589,
    "start_time": "2022-10-25T08:04:04.993Z"
   },
   {
    "duration": 2034,
    "start_time": "2022-10-25T08:04:05.585Z"
   },
   {
    "duration": 0,
    "start_time": "2022-10-25T08:04:07.621Z"
   },
   {
    "duration": 0,
    "start_time": "2022-10-25T08:04:07.622Z"
   },
   {
    "duration": 0,
    "start_time": "2022-10-25T08:04:07.624Z"
   },
   {
    "duration": 0,
    "start_time": "2022-10-25T08:04:07.625Z"
   },
   {
    "duration": 0,
    "start_time": "2022-10-25T08:04:07.627Z"
   },
   {
    "duration": 0,
    "start_time": "2022-10-25T08:04:07.628Z"
   },
   {
    "duration": 0,
    "start_time": "2022-10-25T08:04:07.630Z"
   },
   {
    "duration": 0,
    "start_time": "2022-10-25T08:04:07.631Z"
   },
   {
    "duration": 0,
    "start_time": "2022-10-25T08:04:07.633Z"
   },
   {
    "duration": 0,
    "start_time": "2022-10-25T08:04:07.634Z"
   },
   {
    "duration": 0,
    "start_time": "2022-10-25T08:04:07.636Z"
   },
   {
    "duration": 6,
    "start_time": "2022-10-25T08:04:14.310Z"
   },
   {
    "duration": 212,
    "start_time": "2022-10-25T08:04:16.461Z"
   },
   {
    "duration": 6,
    "start_time": "2022-10-25T08:04:17.338Z"
   },
   {
    "duration": 4,
    "start_time": "2022-10-25T08:04:36.077Z"
   },
   {
    "duration": 44,
    "start_time": "2022-10-25T08:04:37.293Z"
   },
   {
    "duration": 10,
    "start_time": "2022-10-25T08:04:44.319Z"
   },
   {
    "duration": 8,
    "start_time": "2022-10-25T08:05:20.058Z"
   },
   {
    "duration": 4,
    "start_time": "2022-10-25T08:05:35.754Z"
   },
   {
    "duration": 10,
    "start_time": "2022-10-25T08:05:37.355Z"
   },
   {
    "duration": 725,
    "start_time": "2022-10-25T08:05:37.578Z"
   },
   {
    "duration": 5,
    "start_time": "2022-10-25T08:05:38.306Z"
   },
   {
    "duration": 182,
    "start_time": "2022-10-25T08:05:38.313Z"
   },
   {
    "duration": 5,
    "start_time": "2022-10-25T08:05:38.829Z"
   },
   {
    "duration": 5,
    "start_time": "2022-10-25T08:05:39.578Z"
   },
   {
    "duration": 39,
    "start_time": "2022-10-25T08:06:26.498Z"
   },
   {
    "duration": 31,
    "start_time": "2022-10-25T08:06:33.993Z"
   },
   {
    "duration": 23,
    "start_time": "2022-10-25T08:07:49.827Z"
   },
   {
    "duration": 29,
    "start_time": "2022-10-25T08:07:54.863Z"
   },
   {
    "duration": 53,
    "start_time": "2022-10-25T08:09:52.989Z"
   },
   {
    "duration": 25,
    "start_time": "2022-10-25T08:10:12.291Z"
   },
   {
    "duration": 12,
    "start_time": "2022-10-25T08:10:19.578Z"
   },
   {
    "duration": 5,
    "start_time": "2022-10-25T08:10:26.469Z"
   },
   {
    "duration": 138,
    "start_time": "2022-10-25T08:12:01.906Z"
   },
   {
    "duration": 4,
    "start_time": "2022-10-25T08:12:05.882Z"
   },
   {
    "duration": 4840,
    "start_time": "2022-10-25T08:13:05.395Z"
   },
   {
    "duration": 1071,
    "start_time": "2022-10-25T08:13:10.238Z"
   },
   {
    "duration": 3,
    "start_time": "2022-10-25T08:13:11.311Z"
   },
   {
    "duration": 19,
    "start_time": "2022-10-25T08:13:11.316Z"
   },
   {
    "duration": 64,
    "start_time": "2022-10-25T08:13:11.338Z"
   },
   {
    "duration": 8,
    "start_time": "2022-10-25T08:13:11.404Z"
   },
   {
    "duration": 11,
    "start_time": "2022-10-25T08:13:11.415Z"
   },
   {
    "duration": 1040,
    "start_time": "2022-10-25T08:13:11.428Z"
   },
   {
    "duration": 22438,
    "start_time": "2022-10-25T08:13:12.470Z"
   },
   {
    "duration": 685,
    "start_time": "2022-10-25T08:13:34.910Z"
   },
   {
    "duration": 7,
    "start_time": "2022-10-25T08:13:35.597Z"
   },
   {
    "duration": 19,
    "start_time": "2022-10-25T08:13:35.606Z"
   },
   {
    "duration": 8,
    "start_time": "2022-10-25T08:13:35.627Z"
   },
   {
    "duration": 7,
    "start_time": "2022-10-25T08:13:35.639Z"
   },
   {
    "duration": 31,
    "start_time": "2022-10-25T08:13:35.650Z"
   },
   {
    "duration": 113,
    "start_time": "2022-10-25T08:13:35.684Z"
   },
   {
    "duration": 0,
    "start_time": "2022-10-25T08:13:35.799Z"
   },
   {
    "duration": 0,
    "start_time": "2022-10-25T08:13:35.801Z"
   },
   {
    "duration": 4859,
    "start_time": "2022-10-25T08:14:01.702Z"
   },
   {
    "duration": 932,
    "start_time": "2022-10-25T08:14:06.564Z"
   },
   {
    "duration": 5,
    "start_time": "2022-10-25T08:14:07.498Z"
   },
   {
    "duration": 42,
    "start_time": "2022-10-25T08:14:07.506Z"
   },
   {
    "duration": 71,
    "start_time": "2022-10-25T08:14:07.550Z"
   },
   {
    "duration": 55,
    "start_time": "2022-10-25T08:14:07.623Z"
   },
   {
    "duration": 70,
    "start_time": "2022-10-25T08:14:07.680Z"
   },
   {
    "duration": 843,
    "start_time": "2022-10-25T08:14:07.753Z"
   },
   {
    "duration": 21932,
    "start_time": "2022-10-25T08:14:08.598Z"
   },
   {
    "duration": 583,
    "start_time": "2022-10-25T08:14:30.532Z"
   },
   {
    "duration": 5,
    "start_time": "2022-10-25T08:14:31.117Z"
   },
   {
    "duration": 36,
    "start_time": "2022-10-25T08:14:31.124Z"
   },
   {
    "duration": 60,
    "start_time": "2022-10-25T08:14:31.166Z"
   },
   {
    "duration": 24,
    "start_time": "2022-10-25T08:14:31.230Z"
   },
   {
    "duration": 30,
    "start_time": "2022-10-25T08:14:31.259Z"
   },
   {
    "duration": 45,
    "start_time": "2022-10-25T08:14:31.291Z"
   },
   {
    "duration": 0,
    "start_time": "2022-10-25T08:14:31.338Z"
   },
   {
    "duration": 0,
    "start_time": "2022-10-25T08:14:31.340Z"
   },
   {
    "duration": 5,
    "start_time": "2022-10-25T08:15:48.467Z"
   },
   {
    "duration": 4,
    "start_time": "2022-10-25T08:15:58.601Z"
   },
   {
    "duration": 239,
    "start_time": "2022-10-25T08:15:58.944Z"
   },
   {
    "duration": 9,
    "start_time": "2022-10-25T08:16:32.316Z"
   },
   {
    "duration": 3,
    "start_time": "2022-10-25T08:16:44.946Z"
   },
   {
    "duration": 643,
    "start_time": "2022-10-25T08:17:13.161Z"
   },
   {
    "duration": 116,
    "start_time": "2022-10-25T08:17:21.589Z"
   },
   {
    "duration": 5,
    "start_time": "2022-10-25T08:17:44.002Z"
   },
   {
    "duration": 116,
    "start_time": "2022-10-25T08:17:44.415Z"
   },
   {
    "duration": 5,
    "start_time": "2022-10-25T08:17:53.243Z"
   },
   {
    "duration": 5,
    "start_time": "2022-10-25T08:17:57.595Z"
   },
   {
    "duration": 34,
    "start_time": "2022-10-25T08:19:01.882Z"
   },
   {
    "duration": 4,
    "start_time": "2022-10-25T08:19:06.199Z"
   },
   {
    "duration": 11,
    "start_time": "2022-10-25T08:19:09.789Z"
   },
   {
    "duration": 45,
    "start_time": "2022-10-25T08:19:20.076Z"
   },
   {
    "duration": 43,
    "start_time": "2022-10-25T08:19:55.485Z"
   },
   {
    "duration": 6,
    "start_time": "2022-10-25T08:20:39.416Z"
   },
   {
    "duration": 60,
    "start_time": "2022-10-25T08:22:03.191Z"
   },
   {
    "duration": 3,
    "start_time": "2022-10-25T08:22:25.095Z"
   },
   {
    "duration": 96,
    "start_time": "2022-10-25T08:22:25.811Z"
   },
   {
    "duration": 6,
    "start_time": "2022-10-25T08:22:33.476Z"
   },
   {
    "duration": 64,
    "start_time": "2022-10-25T08:22:46.642Z"
   },
   {
    "duration": 13,
    "start_time": "2022-10-25T08:22:52.044Z"
   },
   {
    "duration": 5,
    "start_time": "2022-10-25T08:22:58.978Z"
   },
   {
    "duration": 5,
    "start_time": "2022-10-25T08:23:15.007Z"
   },
   {
    "duration": 3,
    "start_time": "2022-10-25T08:23:15.650Z"
   },
   {
    "duration": 26,
    "start_time": "2022-10-25T08:23:16.774Z"
   },
   {
    "duration": 32,
    "start_time": "2022-10-25T08:23:26.649Z"
   },
   {
    "duration": 4,
    "start_time": "2022-10-25T08:23:35.797Z"
   },
   {
    "duration": 3,
    "start_time": "2022-10-25T08:23:36.093Z"
   },
   {
    "duration": 35,
    "start_time": "2022-10-25T08:23:36.447Z"
   },
   {
    "duration": 3,
    "start_time": "2022-10-25T08:24:29.709Z"
   },
   {
    "duration": 5,
    "start_time": "2022-10-25T08:24:30.197Z"
   },
   {
    "duration": 28,
    "start_time": "2022-10-25T08:24:30.786Z"
   },
   {
    "duration": 50,
    "start_time": "2022-10-26T05:57:53.531Z"
   },
   {
    "duration": 46,
    "start_time": "2022-10-26T05:58:03.601Z"
   },
   {
    "duration": 1044,
    "start_time": "2022-10-26T05:59:25.844Z"
   },
   {
    "duration": 2771,
    "start_time": "2022-10-26T05:59:26.889Z"
   },
   {
    "duration": 2213,
    "start_time": "2022-10-26T05:59:29.662Z"
   },
   {
    "duration": 148,
    "start_time": "2022-10-26T05:59:31.877Z"
   },
   {
    "duration": 18,
    "start_time": "2022-10-26T05:59:32.026Z"
   },
   {
    "duration": 24,
    "start_time": "2022-10-26T05:59:32.045Z"
   },
   {
    "duration": 10,
    "start_time": "2022-10-26T05:59:32.071Z"
   },
   {
    "duration": 7,
    "start_time": "2022-10-26T05:59:32.083Z"
   },
   {
    "duration": 500,
    "start_time": "2022-10-26T05:59:32.091Z"
   },
   {
    "duration": 16350,
    "start_time": "2022-10-26T05:59:32.593Z"
   },
   {
    "duration": 518,
    "start_time": "2022-10-26T05:59:48.944Z"
   },
   {
    "duration": 11,
    "start_time": "2022-10-26T05:59:49.469Z"
   },
   {
    "duration": 65,
    "start_time": "2022-10-26T05:59:49.481Z"
   },
   {
    "duration": 3,
    "start_time": "2022-10-26T05:59:49.548Z"
   },
   {
    "duration": 62,
    "start_time": "2022-10-26T05:59:49.553Z"
   },
   {
    "duration": 4,
    "start_time": "2022-10-26T05:59:49.617Z"
   },
   {
    "duration": 16,
    "start_time": "2022-10-26T05:59:49.623Z"
   },
   {
    "duration": 6,
    "start_time": "2022-10-26T05:59:49.641Z"
   },
   {
    "duration": 7,
    "start_time": "2022-10-26T05:59:49.649Z"
   },
   {
    "duration": 5,
    "start_time": "2022-10-26T05:59:49.657Z"
   },
   {
    "duration": 6,
    "start_time": "2022-10-26T05:59:49.664Z"
   },
   {
    "duration": 9,
    "start_time": "2022-10-26T05:59:49.671Z"
   },
   {
    "duration": 8,
    "start_time": "2022-10-26T05:59:49.683Z"
   },
   {
    "duration": 42,
    "start_time": "2022-10-26T06:00:06.454Z"
   },
   {
    "duration": 56,
    "start_time": "2022-10-26T06:00:35.208Z"
   },
   {
    "duration": 3,
    "start_time": "2022-10-26T06:01:37.988Z"
   },
   {
    "duration": 5,
    "start_time": "2022-10-26T06:02:00.372Z"
   },
   {
    "duration": 5,
    "start_time": "2022-10-26T06:02:02.619Z"
   },
   {
    "duration": 19,
    "start_time": "2022-10-26T06:02:17.685Z"
   },
   {
    "duration": 3,
    "start_time": "2022-10-26T06:02:18.117Z"
   },
   {
    "duration": 21,
    "start_time": "2022-10-26T06:02:18.525Z"
   },
   {
    "duration": 2,
    "start_time": "2022-10-26T06:10:34.453Z"
   },
   {
    "duration": 344,
    "start_time": "2022-10-26T06:10:46.577Z"
   },
   {
    "duration": 3,
    "start_time": "2022-10-26T06:11:00.991Z"
   },
   {
    "duration": 3,
    "start_time": "2022-10-26T06:11:03.425Z"
   },
   {
    "duration": 3,
    "start_time": "2022-10-26T06:11:17.800Z"
   },
   {
    "duration": 16,
    "start_time": "2022-10-26T06:13:41.074Z"
   },
   {
    "duration": 5,
    "start_time": "2022-10-26T06:14:07.543Z"
   },
   {
    "duration": 18,
    "start_time": "2022-10-26T06:14:12.864Z"
   },
   {
    "duration": 3,
    "start_time": "2022-10-26T06:15:10.323Z"
   },
   {
    "duration": 2,
    "start_time": "2022-10-26T06:15:13.977Z"
   },
   {
    "duration": 90,
    "start_time": "2022-10-26T06:15:21.076Z"
   },
   {
    "duration": 4,
    "start_time": "2022-10-26T06:15:21.856Z"
   },
   {
    "duration": 18,
    "start_time": "2022-10-26T06:15:47.517Z"
   },
   {
    "duration": 3,
    "start_time": "2022-10-26T06:16:02.264Z"
   },
   {
    "duration": 24,
    "start_time": "2022-10-26T06:16:05.803Z"
   },
   {
    "duration": 3,
    "start_time": "2022-10-26T06:16:42.558Z"
   },
   {
    "duration": 18,
    "start_time": "2022-10-26T06:16:46.640Z"
   },
   {
    "duration": 23,
    "start_time": "2022-10-26T06:17:08.568Z"
   },
   {
    "duration": 22,
    "start_time": "2022-10-26T06:17:14.494Z"
   },
   {
    "duration": 18,
    "start_time": "2022-10-26T06:17:23.620Z"
   },
   {
    "duration": 6,
    "start_time": "2022-10-26T06:17:28.365Z"
   },
   {
    "duration": 5,
    "start_time": "2022-10-26T06:17:34.744Z"
   },
   {
    "duration": 3,
    "start_time": "2022-10-26T06:18:50.913Z"
   },
   {
    "duration": 39,
    "start_time": "2022-10-26T06:19:52.451Z"
   },
   {
    "duration": 19,
    "start_time": "2022-10-26T06:20:24.431Z"
   },
   {
    "duration": 3,
    "start_time": "2022-10-26T06:20:38.033Z"
   },
   {
    "duration": 6,
    "start_time": "2022-10-26T06:24:28.317Z"
   },
   {
    "duration": 1075,
    "start_time": "2022-10-26T06:25:02.882Z"
   },
   {
    "duration": 2722,
    "start_time": "2022-10-26T06:25:03.960Z"
   },
   {
    "duration": 1002,
    "start_time": "2022-10-26T06:25:06.683Z"
   },
   {
    "duration": 3,
    "start_time": "2022-10-26T06:25:07.687Z"
   },
   {
    "duration": 15,
    "start_time": "2022-10-26T06:25:07.692Z"
   },
   {
    "duration": 33,
    "start_time": "2022-10-26T06:25:07.708Z"
   },
   {
    "duration": 5,
    "start_time": "2022-10-26T06:25:07.742Z"
   },
   {
    "duration": 9,
    "start_time": "2022-10-26T06:25:07.749Z"
   },
   {
    "duration": 479,
    "start_time": "2022-10-26T06:25:07.759Z"
   },
   {
    "duration": 16810,
    "start_time": "2022-10-26T06:25:08.240Z"
   },
   {
    "duration": 49,
    "start_time": "2022-10-26T06:25:25.052Z"
   },
   {
    "duration": 0,
    "start_time": "2022-10-26T06:25:25.104Z"
   },
   {
    "duration": 0,
    "start_time": "2022-10-26T06:25:25.106Z"
   },
   {
    "duration": 0,
    "start_time": "2022-10-26T06:25:25.107Z"
   },
   {
    "duration": 0,
    "start_time": "2022-10-26T06:25:25.109Z"
   },
   {
    "duration": 0,
    "start_time": "2022-10-26T06:25:25.110Z"
   },
   {
    "duration": 0,
    "start_time": "2022-10-26T06:25:25.112Z"
   },
   {
    "duration": 0,
    "start_time": "2022-10-26T06:25:25.113Z"
   },
   {
    "duration": 0,
    "start_time": "2022-10-26T06:25:25.115Z"
   },
   {
    "duration": 0,
    "start_time": "2022-10-26T06:25:25.117Z"
   },
   {
    "duration": 0,
    "start_time": "2022-10-26T06:25:25.119Z"
   },
   {
    "duration": 0,
    "start_time": "2022-10-26T06:25:25.121Z"
   },
   {
    "duration": 0,
    "start_time": "2022-10-26T06:25:25.122Z"
   },
   {
    "duration": 0,
    "start_time": "2022-10-26T06:25:25.123Z"
   },
   {
    "duration": 0,
    "start_time": "2022-10-26T06:25:25.124Z"
   },
   {
    "duration": 0,
    "start_time": "2022-10-26T06:25:25.126Z"
   },
   {
    "duration": 1041,
    "start_time": "2022-10-26T06:59:02.090Z"
   },
   {
    "duration": 2705,
    "start_time": "2022-10-26T06:59:03.133Z"
   },
   {
    "duration": 949,
    "start_time": "2022-10-26T06:59:05.840Z"
   },
   {
    "duration": 3,
    "start_time": "2022-10-26T06:59:06.791Z"
   },
   {
    "duration": 15,
    "start_time": "2022-10-26T06:59:06.797Z"
   },
   {
    "duration": 29,
    "start_time": "2022-10-26T06:59:06.814Z"
   },
   {
    "duration": 6,
    "start_time": "2022-10-26T06:59:06.844Z"
   },
   {
    "duration": 10,
    "start_time": "2022-10-26T06:59:06.851Z"
   },
   {
    "duration": 538,
    "start_time": "2022-10-26T06:59:06.862Z"
   },
   {
    "duration": 158864,
    "start_time": "2022-10-26T06:59:07.403Z"
   },
   {
    "duration": 5200,
    "start_time": "2022-10-26T07:01:46.268Z"
   },
   {
    "duration": 3,
    "start_time": "2022-10-26T07:01:51.470Z"
   },
   {
    "duration": 5,
    "start_time": "2022-10-26T07:01:51.475Z"
   },
   {
    "duration": 4,
    "start_time": "2022-10-26T07:01:51.483Z"
   },
   {
    "duration": 9,
    "start_time": "2022-10-26T07:01:51.488Z"
   },
   {
    "duration": 7,
    "start_time": "2022-10-26T07:01:51.498Z"
   },
   {
    "duration": 131,
    "start_time": "2022-10-26T07:01:51.507Z"
   },
   {
    "duration": 3,
    "start_time": "2022-10-26T07:01:51.640Z"
   },
   {
    "duration": 132,
    "start_time": "2022-10-26T07:01:51.645Z"
   },
   {
    "duration": 3,
    "start_time": "2022-10-26T07:01:51.778Z"
   },
   {
    "duration": 5,
    "start_time": "2022-10-26T07:01:51.782Z"
   },
   {
    "duration": 5,
    "start_time": "2022-10-26T07:01:51.788Z"
   },
   {
    "duration": 5,
    "start_time": "2022-10-26T07:01:51.795Z"
   },
   {
    "duration": 5,
    "start_time": "2022-10-26T07:01:51.801Z"
   },
   {
    "duration": 8533,
    "start_time": "2022-10-26T07:01:51.807Z"
   },
   {
    "duration": 6,
    "start_time": "2022-10-26T07:02:00.342Z"
   },
   {
    "duration": 1118,
    "start_time": "2022-10-26T07:05:02.138Z"
   },
   {
    "duration": 2690,
    "start_time": "2022-10-26T07:05:03.258Z"
   },
   {
    "duration": 937,
    "start_time": "2022-10-26T07:05:05.950Z"
   },
   {
    "duration": 3,
    "start_time": "2022-10-26T07:05:06.889Z"
   },
   {
    "duration": 36,
    "start_time": "2022-10-26T07:05:06.894Z"
   },
   {
    "duration": 39,
    "start_time": "2022-10-26T07:05:06.932Z"
   },
   {
    "duration": 35,
    "start_time": "2022-10-26T07:05:06.973Z"
   },
   {
    "duration": 27,
    "start_time": "2022-10-26T07:05:07.010Z"
   },
   {
    "duration": 575,
    "start_time": "2022-10-26T07:05:07.039Z"
   },
   {
    "duration": 627365,
    "start_time": "2022-10-26T07:05:07.616Z"
   },
   {
    "duration": 31583,
    "start_time": "2022-10-26T07:15:34.983Z"
   },
   {
    "duration": 4,
    "start_time": "2022-10-26T07:16:06.567Z"
   },
   {
    "duration": 6,
    "start_time": "2022-10-26T07:16:06.573Z"
   },
   {
    "duration": 11,
    "start_time": "2022-10-26T07:16:06.582Z"
   },
   {
    "duration": 19,
    "start_time": "2022-10-26T07:16:06.595Z"
   },
   {
    "duration": 5,
    "start_time": "2022-10-26T07:16:06.616Z"
   },
   {
    "duration": 493,
    "start_time": "2022-10-26T07:16:06.623Z"
   },
   {
    "duration": 3,
    "start_time": "2022-10-26T07:16:07.117Z"
   },
   {
    "duration": 600,
    "start_time": "2022-10-26T07:16:07.121Z"
   },
   {
    "duration": 4,
    "start_time": "2022-10-26T07:16:07.723Z"
   },
   {
    "duration": 27,
    "start_time": "2022-10-26T07:16:07.728Z"
   },
   {
    "duration": 10,
    "start_time": "2022-10-26T07:16:07.757Z"
   },
   {
    "duration": 5,
    "start_time": "2022-10-26T07:16:07.768Z"
   },
   {
    "duration": 5,
    "start_time": "2022-10-26T07:16:07.775Z"
   },
   {
    "duration": 20381,
    "start_time": "2022-10-26T07:16:07.782Z"
   },
   {
    "duration": 6,
    "start_time": "2022-10-26T07:16:28.165Z"
   },
   {
    "duration": 1183,
    "start_time": "2022-10-26T07:20:38.485Z"
   },
   {
    "duration": 2810,
    "start_time": "2022-10-26T07:20:39.670Z"
   },
   {
    "duration": 1015,
    "start_time": "2022-10-26T07:20:42.482Z"
   },
   {
    "duration": 39,
    "start_time": "2022-10-26T07:20:43.499Z"
   },
   {
    "duration": 11,
    "start_time": "2022-10-26T07:20:43.541Z"
   },
   {
    "duration": 21,
    "start_time": "2022-10-26T07:20:43.554Z"
   },
   {
    "duration": 27,
    "start_time": "2022-10-26T07:20:43.577Z"
   },
   {
    "duration": 532,
    "start_time": "2022-10-26T07:20:43.606Z"
   },
   {
    "duration": 1101,
    "start_time": "2022-10-27T05:25:02.644Z"
   },
   {
    "duration": 2814,
    "start_time": "2022-10-27T05:25:03.747Z"
   },
   {
    "duration": 2537,
    "start_time": "2022-10-27T05:25:06.562Z"
   },
   {
    "duration": 3,
    "start_time": "2022-10-27T05:25:09.101Z"
   },
   {
    "duration": 16,
    "start_time": "2022-10-27T05:25:09.105Z"
   },
   {
    "duration": 21,
    "start_time": "2022-10-27T05:25:09.123Z"
   },
   {
    "duration": 8,
    "start_time": "2022-10-27T05:25:09.146Z"
   },
   {
    "duration": 5,
    "start_time": "2022-10-27T05:25:10.431Z"
   },
   {
    "duration": 484,
    "start_time": "2022-10-27T05:25:17.834Z"
   },
   {
    "duration": 31841,
    "start_time": "2022-10-27T05:25:18.321Z"
   },
   {
    "duration": 1053,
    "start_time": "2022-10-27T05:25:50.164Z"
   },
   {
    "duration": 4,
    "start_time": "2022-10-27T05:25:51.219Z"
   },
   {
    "duration": 45,
    "start_time": "2022-10-27T06:04:34.078Z"
   },
   {
    "duration": 341,
    "start_time": "2022-10-27T06:04:38.039Z"
   },
   {
    "duration": 22,
    "start_time": "2022-10-27T06:05:17.436Z"
   },
   {
    "duration": 1005,
    "start_time": "2022-10-27T06:05:34.498Z"
   },
   {
    "duration": 2711,
    "start_time": "2022-10-27T06:05:35.505Z"
   },
   {
    "duration": 1003,
    "start_time": "2022-10-27T06:05:38.221Z"
   },
   {
    "duration": 3,
    "start_time": "2022-10-27T06:05:39.226Z"
   },
   {
    "duration": 44,
    "start_time": "2022-10-27T06:05:39.231Z"
   },
   {
    "duration": 46,
    "start_time": "2022-10-27T06:05:39.276Z"
   },
   {
    "duration": 26,
    "start_time": "2022-10-27T06:05:39.324Z"
   },
   {
    "duration": 15,
    "start_time": "2022-10-27T06:05:39.351Z"
   },
   {
    "duration": 479,
    "start_time": "2022-10-27T06:05:39.368Z"
   },
   {
    "duration": 33727,
    "start_time": "2022-10-27T06:05:39.849Z"
   },
   {
    "duration": 1043,
    "start_time": "2022-10-27T06:06:13.577Z"
   },
   {
    "duration": 17,
    "start_time": "2022-10-27T06:06:14.622Z"
   },
   {
    "duration": 324,
    "start_time": "2022-10-27T06:06:14.640Z"
   },
   {
    "duration": 0,
    "start_time": "2022-10-27T06:06:14.966Z"
   },
   {
    "duration": 0,
    "start_time": "2022-10-27T06:06:14.967Z"
   },
   {
    "duration": 0,
    "start_time": "2022-10-27T06:06:14.968Z"
   },
   {
    "duration": 0,
    "start_time": "2022-10-27T06:06:14.969Z"
   },
   {
    "duration": 0,
    "start_time": "2022-10-27T06:06:14.970Z"
   },
   {
    "duration": 0,
    "start_time": "2022-10-27T06:06:14.970Z"
   },
   {
    "duration": 0,
    "start_time": "2022-10-27T06:06:14.971Z"
   },
   {
    "duration": 0,
    "start_time": "2022-10-27T06:06:14.972Z"
   },
   {
    "duration": 0,
    "start_time": "2022-10-27T06:06:14.973Z"
   },
   {
    "duration": 0,
    "start_time": "2022-10-27T06:06:14.974Z"
   },
   {
    "duration": 0,
    "start_time": "2022-10-27T06:06:14.975Z"
   },
   {
    "duration": 0,
    "start_time": "2022-10-27T06:06:14.976Z"
   },
   {
    "duration": 0,
    "start_time": "2022-10-27T06:06:14.977Z"
   },
   {
    "duration": 4,
    "start_time": "2022-10-27T06:29:07.889Z"
   },
   {
    "duration": 3,
    "start_time": "2022-10-27T07:14:39.033Z"
   },
   {
    "duration": 5,
    "start_time": "2022-10-27T07:14:43.634Z"
   },
   {
    "duration": 1163,
    "start_time": "2022-10-27T07:15:38.300Z"
   },
   {
    "duration": 2783,
    "start_time": "2022-10-27T07:15:39.465Z"
   },
   {
    "duration": 986,
    "start_time": "2022-10-27T07:15:42.250Z"
   },
   {
    "duration": 3,
    "start_time": "2022-10-27T07:15:43.239Z"
   },
   {
    "duration": 15,
    "start_time": "2022-10-27T07:15:43.244Z"
   },
   {
    "duration": 20,
    "start_time": "2022-10-27T07:15:43.260Z"
   },
   {
    "duration": 5,
    "start_time": "2022-10-27T07:15:43.282Z"
   },
   {
    "duration": 6,
    "start_time": "2022-10-27T07:15:43.289Z"
   },
   {
    "duration": 542,
    "start_time": "2022-10-27T07:15:43.297Z"
   },
   {
    "duration": 34814,
    "start_time": "2022-10-27T07:15:43.843Z"
   },
   {
    "duration": 1189,
    "start_time": "2022-10-27T07:16:18.659Z"
   },
   {
    "duration": 4,
    "start_time": "2022-10-27T07:16:19.850Z"
   },
   {
    "duration": 10,
    "start_time": "2022-10-27T07:16:19.856Z"
   },
   {
    "duration": 6,
    "start_time": "2022-10-27T07:16:19.868Z"
   },
   {
    "duration": 10,
    "start_time": "2022-10-27T07:16:19.876Z"
   },
   {
    "duration": 7,
    "start_time": "2022-10-27T07:16:19.888Z"
   },
   {
    "duration": 118,
    "start_time": "2022-10-27T07:16:19.897Z"
   },
   {
    "duration": 3,
    "start_time": "2022-10-27T07:16:20.017Z"
   },
   {
    "duration": 127,
    "start_time": "2022-10-27T07:16:20.022Z"
   },
   {
    "duration": 3,
    "start_time": "2022-10-27T07:16:20.151Z"
   },
   {
    "duration": 14,
    "start_time": "2022-10-27T07:16:20.156Z"
   },
   {
    "duration": 5,
    "start_time": "2022-10-27T07:16:20.173Z"
   },
   {
    "duration": 12,
    "start_time": "2022-10-27T07:16:20.180Z"
   },
   {
    "duration": 5,
    "start_time": "2022-10-27T07:16:20.194Z"
   },
   {
    "duration": 225,
    "start_time": "2022-10-27T07:16:20.201Z"
   },
   {
    "duration": 15,
    "start_time": "2022-10-27T07:16:20.428Z"
   },
   {
    "duration": 372,
    "start_time": "2022-10-27T07:24:34.356Z"
   },
   {
    "duration": 129,
    "start_time": "2022-10-27T07:30:44.287Z"
   },
   {
    "duration": 21,
    "start_time": "2022-10-27T07:31:42.274Z"
   },
   {
    "duration": 121,
    "start_time": "2022-10-27T07:31:44.140Z"
   },
   {
    "duration": 4,
    "start_time": "2022-10-27T07:31:44.619Z"
   },
   {
    "duration": 3,
    "start_time": "2022-10-27T07:32:12.248Z"
   },
   {
    "duration": 3,
    "start_time": "2022-10-27T07:33:39.550Z"
   },
   {
    "duration": 22,
    "start_time": "2022-10-27T07:33:48.348Z"
   },
   {
    "duration": 4,
    "start_time": "2022-10-27T07:34:12.195Z"
   },
   {
    "duration": 4,
    "start_time": "2022-10-27T07:34:21.065Z"
   },
   {
    "duration": 89,
    "start_time": "2022-10-27T07:35:02.784Z"
   },
   {
    "duration": 1093,
    "start_time": "2022-10-28T06:16:43.142Z"
   },
   {
    "duration": 2863,
    "start_time": "2022-10-28T06:16:44.237Z"
   },
   {
    "duration": 3905,
    "start_time": "2022-10-28T06:16:47.105Z"
   },
   {
    "duration": 3,
    "start_time": "2022-10-28T06:16:51.012Z"
   },
   {
    "duration": 31,
    "start_time": "2022-10-28T06:16:51.016Z"
   },
   {
    "duration": 16,
    "start_time": "2022-10-28T06:16:51.049Z"
   },
   {
    "duration": 4,
    "start_time": "2022-10-28T06:16:51.067Z"
   },
   {
    "duration": 6,
    "start_time": "2022-10-28T06:16:51.072Z"
   },
   {
    "duration": 504,
    "start_time": "2022-10-28T06:16:51.081Z"
   },
   {
    "duration": 1363782,
    "start_time": "2022-10-28T06:16:51.586Z"
   },
   {
    "duration": 92575,
    "start_time": "2022-10-28T06:39:35.370Z"
   },
   {
    "duration": 4,
    "start_time": "2022-10-28T06:41:07.947Z"
   },
   {
    "duration": 12,
    "start_time": "2022-10-28T06:41:07.953Z"
   },
   {
    "duration": 8,
    "start_time": "2022-10-28T06:41:07.967Z"
   },
   {
    "duration": 27,
    "start_time": "2022-10-28T06:41:07.977Z"
   },
   {
    "duration": 4,
    "start_time": "2022-10-28T06:41:08.006Z"
   },
   {
    "duration": 2731,
    "start_time": "2022-10-28T06:41:08.024Z"
   },
   {
    "duration": 2,
    "start_time": "2022-10-28T06:41:10.757Z"
   },
   {
    "duration": 3051,
    "start_time": "2022-10-28T06:41:10.761Z"
   },
   {
    "duration": 2,
    "start_time": "2022-10-28T06:41:13.815Z"
   },
   {
    "duration": 13,
    "start_time": "2022-10-28T06:41:13.819Z"
   },
   {
    "duration": 17,
    "start_time": "2022-10-28T06:41:13.834Z"
   },
   {
    "duration": 80999,
    "start_time": "2022-10-28T06:41:13.853Z"
   },
   {
    "duration": 4,
    "start_time": "2022-10-28T06:42:34.855Z"
   },
   {
    "duration": 10,
    "start_time": "2022-10-28T06:42:34.862Z"
   },
   {
    "duration": 40017,
    "start_time": "2022-10-28T06:42:34.875Z"
   },
   {
    "duration": 10,
    "start_time": "2022-10-28T06:43:14.895Z"
   },
   {
    "duration": 3,
    "start_time": "2022-10-28T06:46:37.512Z"
   },
   {
    "duration": 15,
    "start_time": "2022-10-28T06:46:50.588Z"
   },
   {
    "duration": 12,
    "start_time": "2022-10-28T06:48:20.283Z"
   },
   {
    "duration": 4,
    "start_time": "2022-10-28T06:48:21.259Z"
   },
   {
    "duration": 4,
    "start_time": "2022-10-28T06:48:43.271Z"
   },
   {
    "duration": 3,
    "start_time": "2022-10-28T06:49:15.380Z"
   },
   {
    "duration": 4,
    "start_time": "2022-10-28T06:49:16.268Z"
   },
   {
    "duration": 3,
    "start_time": "2022-10-28T06:49:25.905Z"
   },
   {
    "duration": 4,
    "start_time": "2022-10-28T06:51:16.552Z"
   },
   {
    "duration": 8,
    "start_time": "2022-10-28T06:51:16.984Z"
   },
   {
    "duration": 361,
    "start_time": "2022-10-28T06:51:36.793Z"
   },
   {
    "duration": 79,
    "start_time": "2022-10-28T06:51:54.979Z"
   },
   {
    "duration": 7,
    "start_time": "2022-10-28T06:51:55.628Z"
   },
   {
    "duration": 69,
    "start_time": "2022-10-28T06:52:02.352Z"
   },
   {
    "duration": 4,
    "start_time": "2022-10-28T06:52:08.912Z"
   },
   {
    "duration": 8,
    "start_time": "2022-10-28T06:52:10.775Z"
   },
   {
    "duration": 4,
    "start_time": "2022-10-28T06:52:23.289Z"
   },
   {
    "duration": 8,
    "start_time": "2022-10-28T06:52:24.211Z"
   },
   {
    "duration": 1128,
    "start_time": "2022-10-28T06:52:51.829Z"
   },
   {
    "duration": 2879,
    "start_time": "2022-10-28T06:52:52.960Z"
   },
   {
    "duration": 991,
    "start_time": "2022-10-28T06:52:55.840Z"
   },
   {
    "duration": 3,
    "start_time": "2022-10-28T06:52:56.833Z"
   },
   {
    "duration": 29,
    "start_time": "2022-10-28T06:52:56.838Z"
   },
   {
    "duration": 15,
    "start_time": "2022-10-28T06:52:56.868Z"
   },
   {
    "duration": 4,
    "start_time": "2022-10-28T06:52:56.885Z"
   },
   {
    "duration": 6,
    "start_time": "2022-10-28T06:52:56.892Z"
   },
   {
    "duration": 534,
    "start_time": "2022-10-28T06:52:56.924Z"
   },
   {
    "duration": 1707587,
    "start_time": "2022-10-28T06:52:57.461Z"
   },
   {
    "duration": 187565,
    "start_time": "2022-10-28T07:21:25.051Z"
   },
   {
    "duration": 8,
    "start_time": "2022-10-28T07:24:32.618Z"
   },
   {
    "duration": 25,
    "start_time": "2022-10-28T07:24:32.628Z"
   },
   {
    "duration": 11,
    "start_time": "2022-10-28T07:24:32.656Z"
   },
   {
    "duration": 73,
    "start_time": "2022-10-28T07:24:32.670Z"
   },
   {
    "duration": 5,
    "start_time": "2022-10-28T07:24:32.745Z"
   },
   {
    "duration": 4299,
    "start_time": "2022-10-28T07:24:32.752Z"
   },
   {
    "duration": 4,
    "start_time": "2022-10-28T07:24:37.053Z"
   },
   {
    "duration": 4587,
    "start_time": "2022-10-28T07:24:37.060Z"
   },
   {
    "duration": 4,
    "start_time": "2022-10-28T07:24:41.650Z"
   },
   {
    "duration": 5,
    "start_time": "2022-10-28T07:24:41.658Z"
   },
   {
    "duration": 14,
    "start_time": "2022-10-28T07:24:41.666Z"
   },
   {
    "duration": 91404,
    "start_time": "2022-10-28T07:24:41.683Z"
   },
   {
    "duration": 4,
    "start_time": "2022-10-28T07:26:13.089Z"
   },
   {
    "duration": 5,
    "start_time": "2022-10-28T07:26:13.095Z"
   },
   {
    "duration": 45639,
    "start_time": "2022-10-28T07:26:13.101Z"
   },
   {
    "duration": 3,
    "start_time": "2022-10-28T07:26:58.743Z"
   },
   {
    "duration": 11,
    "start_time": "2022-10-28T07:26:58.749Z"
   },
   {
    "duration": 24,
    "start_time": "2022-10-28T07:26:58.762Z"
   },
   {
    "duration": 47,
    "start_time": "2022-10-30T09:22:16.727Z"
   },
   {
    "duration": 5,
    "start_time": "2022-10-30T09:22:50.699Z"
   },
   {
    "duration": 5,
    "start_time": "2022-10-30T09:23:23.141Z"
   },
   {
    "duration": 1036,
    "start_time": "2022-10-30T09:23:31.547Z"
   },
   {
    "duration": 2980,
    "start_time": "2022-10-30T09:23:32.585Z"
   },
   {
    "duration": 3239,
    "start_time": "2022-10-30T09:23:35.567Z"
   },
   {
    "duration": 2,
    "start_time": "2022-10-30T09:23:38.808Z"
   },
   {
    "duration": 177,
    "start_time": "2022-10-30T09:23:38.812Z"
   },
   {
    "duration": 13,
    "start_time": "2022-10-30T09:23:38.991Z"
   },
   {
    "duration": 17,
    "start_time": "2022-10-30T09:23:39.005Z"
   },
   {
    "duration": 4,
    "start_time": "2022-10-30T09:23:39.023Z"
   },
   {
    "duration": 444,
    "start_time": "2022-10-30T09:23:39.028Z"
   },
   {
    "duration": 1366070,
    "start_time": "2022-10-30T09:23:39.474Z"
   },
   {
    "duration": 114637,
    "start_time": "2022-10-30T09:46:25.545Z"
   },
   {
    "duration": 4,
    "start_time": "2022-10-30T09:48:20.183Z"
   },
   {
    "duration": 7,
    "start_time": "2022-10-30T09:48:20.188Z"
   },
   {
    "duration": 3,
    "start_time": "2022-10-30T09:48:20.197Z"
   },
   {
    "duration": 32,
    "start_time": "2022-10-30T09:48:20.201Z"
   },
   {
    "duration": 3,
    "start_time": "2022-10-30T09:48:20.234Z"
   },
   {
    "duration": 2774,
    "start_time": "2022-10-30T09:48:20.238Z"
   },
   {
    "duration": 7,
    "start_time": "2022-10-30T09:48:23.014Z"
   },
   {
    "duration": 2933,
    "start_time": "2022-10-30T09:48:23.023Z"
   },
   {
    "duration": 3,
    "start_time": "2022-10-30T09:48:25.957Z"
   },
   {
    "duration": 5,
    "start_time": "2022-10-30T09:48:25.962Z"
   },
   {
    "duration": 5,
    "start_time": "2022-10-30T09:48:25.968Z"
   },
   {
    "duration": 2122846,
    "start_time": "2022-10-30T09:48:25.975Z"
   },
   {
    "duration": 3,
    "start_time": "2022-10-30T10:23:48.823Z"
   },
   {
    "duration": 6,
    "start_time": "2022-10-30T10:23:48.828Z"
   },
   {
    "duration": 33432,
    "start_time": "2022-10-30T10:23:48.836Z"
   },
   {
    "duration": 3,
    "start_time": "2022-10-30T10:24:22.269Z"
   },
   {
    "duration": 997,
    "start_time": "2022-10-30T10:24:22.274Z"
   },
   {
    "duration": 3,
    "start_time": "2022-10-30T10:24:23.273Z"
   },
   {
    "duration": 27,
    "start_time": "2022-10-30T10:24:23.277Z"
   },
   {
    "duration": 1036,
    "start_time": "2022-10-30T10:26:01.507Z"
   },
   {
    "duration": 1022,
    "start_time": "2022-10-30T10:26:09.565Z"
   },
   {
    "duration": 980,
    "start_time": "2022-10-30T10:27:08.317Z"
   },
   {
    "duration": 3,
    "start_time": "2022-10-30T10:27:25.606Z"
   },
   {
    "duration": 3,
    "start_time": "2022-10-30T10:28:15.448Z"
   },
   {
    "duration": 318,
    "start_time": "2022-10-30T10:30:58.217Z"
   },
   {
    "duration": 22,
    "start_time": "2022-10-30T11:12:25.254Z"
   },
   {
    "duration": 16,
    "start_time": "2022-10-30T11:12:29.734Z"
   },
   {
    "duration": 17,
    "start_time": "2022-10-30T11:12:31.421Z"
   },
   {
    "duration": 1033,
    "start_time": "2022-10-30T11:44:24.622Z"
   },
   {
    "duration": 2466,
    "start_time": "2022-10-30T11:44:25.657Z"
   },
   {
    "duration": 826,
    "start_time": "2022-10-30T11:44:28.125Z"
   },
   {
    "duration": 2,
    "start_time": "2022-10-30T11:44:28.953Z"
   },
   {
    "duration": 24,
    "start_time": "2022-10-30T11:44:28.957Z"
   },
   {
    "duration": 14,
    "start_time": "2022-10-30T11:44:28.982Z"
   },
   {
    "duration": 17,
    "start_time": "2022-10-30T11:44:28.997Z"
   },
   {
    "duration": 10,
    "start_time": "2022-10-30T11:44:29.015Z"
   },
   {
    "duration": 433,
    "start_time": "2022-10-30T11:44:29.027Z"
   },
   {
    "duration": 1095,
    "start_time": "2022-10-30T12:00:29.001Z"
   },
   {
    "duration": 2756,
    "start_time": "2022-10-30T12:00:30.098Z"
   },
   {
    "duration": 918,
    "start_time": "2022-10-30T12:00:32.856Z"
   },
   {
    "duration": 3,
    "start_time": "2022-10-30T12:00:33.776Z"
   },
   {
    "duration": 31,
    "start_time": "2022-10-30T12:00:33.782Z"
   },
   {
    "duration": 17,
    "start_time": "2022-10-30T12:00:33.822Z"
   },
   {
    "duration": 8,
    "start_time": "2022-10-30T12:00:33.841Z"
   },
   {
    "duration": 13,
    "start_time": "2022-10-30T12:00:33.851Z"
   },
   {
    "duration": 433,
    "start_time": "2022-10-30T12:00:33.867Z"
   },
   {
    "duration": 1046,
    "start_time": "2022-10-30T12:07:00.284Z"
   },
   {
    "duration": 2518,
    "start_time": "2022-10-30T12:07:01.332Z"
   },
   {
    "duration": 899,
    "start_time": "2022-10-30T12:07:03.851Z"
   },
   {
    "duration": 31,
    "start_time": "2022-10-30T12:07:04.752Z"
   },
   {
    "duration": 14,
    "start_time": "2022-10-30T12:07:04.785Z"
   },
   {
    "duration": 5,
    "start_time": "2022-10-30T12:07:04.801Z"
   },
   {
    "duration": 30,
    "start_time": "2022-10-30T12:07:04.808Z"
   },
   {
    "duration": 468,
    "start_time": "2022-10-30T12:07:04.840Z"
   },
   {
    "duration": 1022,
    "start_time": "2022-10-30T13:14:40.260Z"
   },
   {
    "duration": 4462,
    "start_time": "2022-10-30T13:14:41.284Z"
   },
   {
    "duration": 901,
    "start_time": "2022-10-30T13:14:45.748Z"
   },
   {
    "duration": 27,
    "start_time": "2022-10-30T13:14:46.650Z"
   },
   {
    "duration": 13,
    "start_time": "2022-10-30T13:14:46.680Z"
   },
   {
    "duration": 5,
    "start_time": "2022-10-30T13:14:46.694Z"
   },
   {
    "duration": 25,
    "start_time": "2022-10-30T13:14:46.701Z"
   },
   {
    "duration": 508,
    "start_time": "2022-10-30T13:14:46.730Z"
   },
   {
    "duration": 2394714,
    "start_time": "2022-10-30T13:14:47.244Z"
   },
   {
    "duration": 297313,
    "start_time": "2022-10-30T13:54:41.960Z"
   },
   {
    "duration": 3,
    "start_time": "2022-10-30T13:59:39.275Z"
   },
   {
    "duration": 9,
    "start_time": "2022-10-30T13:59:39.279Z"
   },
   {
    "duration": 3,
    "start_time": "2022-10-30T13:59:39.289Z"
   },
   {
    "duration": 47,
    "start_time": "2022-10-30T13:59:39.294Z"
   },
   {
    "duration": 4,
    "start_time": "2022-10-30T13:59:39.343Z"
   },
   {
    "duration": 4950,
    "start_time": "2022-10-30T13:59:39.349Z"
   },
   {
    "duration": 3,
    "start_time": "2022-10-30T13:59:44.300Z"
   },
   {
    "duration": 5352,
    "start_time": "2022-10-30T13:59:44.304Z"
   },
   {
    "duration": 3,
    "start_time": "2022-10-30T13:59:49.658Z"
   },
   {
    "duration": 9,
    "start_time": "2022-10-30T13:59:49.662Z"
   },
   {
    "duration": 8,
    "start_time": "2022-10-30T13:59:49.672Z"
   },
   {
    "duration": 1066,
    "start_time": "2022-10-30T14:44:01.935Z"
   },
   {
    "duration": 2881,
    "start_time": "2022-10-30T14:44:03.003Z"
   },
   {
    "duration": 331,
    "start_time": "2022-10-30T14:44:05.887Z"
   },
   {
    "duration": 0,
    "start_time": "2022-10-30T14:44:06.224Z"
   },
   {
    "duration": 0,
    "start_time": "2022-10-30T14:44:06.224Z"
   },
   {
    "duration": 0,
    "start_time": "2022-10-30T14:44:06.225Z"
   },
   {
    "duration": 0,
    "start_time": "2022-10-30T14:44:06.227Z"
   },
   {
    "duration": 0,
    "start_time": "2022-10-30T14:44:06.227Z"
   },
   {
    "duration": 0,
    "start_time": "2022-10-30T14:44:06.228Z"
   },
   {
    "duration": 0,
    "start_time": "2022-10-30T14:44:06.230Z"
   },
   {
    "duration": 0,
    "start_time": "2022-10-30T14:44:06.233Z"
   },
   {
    "duration": 0,
    "start_time": "2022-10-30T14:44:06.233Z"
   },
   {
    "duration": 0,
    "start_time": "2022-10-30T14:44:06.234Z"
   },
   {
    "duration": 0,
    "start_time": "2022-10-30T14:44:06.235Z"
   },
   {
    "duration": 0,
    "start_time": "2022-10-30T14:44:06.235Z"
   },
   {
    "duration": 0,
    "start_time": "2022-10-30T14:44:06.241Z"
   },
   {
    "duration": 0,
    "start_time": "2022-10-30T14:44:06.242Z"
   },
   {
    "duration": 0,
    "start_time": "2022-10-30T14:44:06.243Z"
   },
   {
    "duration": 0,
    "start_time": "2022-10-30T14:44:06.244Z"
   },
   {
    "duration": 0,
    "start_time": "2022-10-30T14:44:06.245Z"
   },
   {
    "duration": 0,
    "start_time": "2022-10-30T14:44:06.247Z"
   },
   {
    "duration": 0,
    "start_time": "2022-10-30T14:44:06.248Z"
   },
   {
    "duration": 0,
    "start_time": "2022-10-30T14:44:06.249Z"
   },
   {
    "duration": 1,
    "start_time": "2022-10-30T14:44:06.250Z"
   },
   {
    "duration": 0,
    "start_time": "2022-10-30T14:44:06.252Z"
   },
   {
    "duration": 0,
    "start_time": "2022-10-30T14:44:06.253Z"
   },
   {
    "duration": 0,
    "start_time": "2022-10-30T14:44:06.255Z"
   },
   {
    "duration": 0,
    "start_time": "2022-10-30T14:44:06.256Z"
   },
   {
    "duration": 0,
    "start_time": "2022-10-30T14:44:06.258Z"
   },
   {
    "duration": 1037,
    "start_time": "2022-10-30T14:44:45.469Z"
   },
   {
    "duration": 2549,
    "start_time": "2022-10-30T14:44:46.508Z"
   },
   {
    "duration": 884,
    "start_time": "2022-10-30T14:44:49.058Z"
   },
   {
    "duration": 2,
    "start_time": "2022-10-30T14:44:49.944Z"
   },
   {
    "duration": 15,
    "start_time": "2022-10-30T14:44:49.948Z"
   },
   {
    "duration": 21,
    "start_time": "2022-10-30T14:44:49.964Z"
   },
   {
    "duration": 6,
    "start_time": "2022-10-30T14:44:49.987Z"
   },
   {
    "duration": 7,
    "start_time": "2022-10-30T14:44:49.995Z"
   },
   {
    "duration": 513,
    "start_time": "2022-10-30T14:44:50.003Z"
   },
   {
    "duration": 1855,
    "start_time": "2022-10-30T14:44:50.517Z"
   },
   {
    "duration": 64,
    "start_time": "2022-10-30T14:44:52.373Z"
   },
   {
    "duration": 9,
    "start_time": "2022-10-30T14:44:52.439Z"
   },
   {
    "duration": 9,
    "start_time": "2022-10-30T14:44:52.449Z"
   },
   {
    "duration": 6,
    "start_time": "2022-10-30T14:44:52.461Z"
   },
   {
    "duration": 15,
    "start_time": "2022-10-30T14:44:52.468Z"
   },
   {
    "duration": 8,
    "start_time": "2022-10-30T14:44:52.484Z"
   },
   {
    "duration": 11,
    "start_time": "2022-10-30T14:44:52.494Z"
   },
   {
    "duration": 12,
    "start_time": "2022-10-30T14:44:52.507Z"
   },
   {
    "duration": 25,
    "start_time": "2022-10-30T14:44:52.521Z"
   },
   {
    "duration": 5,
    "start_time": "2022-10-30T14:44:52.547Z"
   },
   {
    "duration": 4,
    "start_time": "2022-10-30T14:44:52.554Z"
   },
   {
    "duration": 8,
    "start_time": "2022-10-30T14:44:52.560Z"
   },
   {
    "duration": 564,
    "start_time": "2022-10-30T14:44:52.569Z"
   },
   {
    "duration": 3,
    "start_time": "2022-10-30T14:44:53.134Z"
   },
   {
    "duration": 5,
    "start_time": "2022-10-30T14:44:53.140Z"
   },
   {
    "duration": 21,
    "start_time": "2022-10-30T14:44:53.146Z"
   },
   {
    "duration": 3,
    "start_time": "2022-10-30T14:44:53.168Z"
   },
   {
    "duration": 13,
    "start_time": "2022-10-30T14:44:53.172Z"
   },
   {
    "duration": 21,
    "start_time": "2022-10-30T14:44:53.187Z"
   },
   {
    "duration": 1054,
    "start_time": "2022-10-30T14:45:14.612Z"
   },
   {
    "duration": 2537,
    "start_time": "2022-10-30T14:45:15.668Z"
   },
   {
    "duration": 695,
    "start_time": "2022-10-30T14:45:18.207Z"
   },
   {
    "duration": 3,
    "start_time": "2022-10-30T14:45:18.904Z"
   },
   {
    "duration": 182,
    "start_time": "2022-10-30T14:45:18.908Z"
   },
   {
    "duration": 14,
    "start_time": "2022-10-30T14:45:19.092Z"
   },
   {
    "duration": 6,
    "start_time": "2022-10-30T14:45:19.108Z"
   },
   {
    "duration": 11,
    "start_time": "2022-10-30T14:45:19.115Z"
   },
   {
    "duration": 462,
    "start_time": "2022-10-30T14:45:19.128Z"
   },
   {
    "duration": 1456299,
    "start_time": "2022-10-30T14:45:19.592Z"
   },
   {
    "duration": 123383,
    "start_time": "2022-10-30T15:09:35.893Z"
   },
   {
    "duration": 3,
    "start_time": "2022-10-30T15:11:39.278Z"
   },
   {
    "duration": 7,
    "start_time": "2022-10-30T15:11:39.282Z"
   },
   {
    "duration": 5,
    "start_time": "2022-10-30T15:11:39.291Z"
   },
   {
    "duration": 40,
    "start_time": "2022-10-30T15:11:39.298Z"
   },
   {
    "duration": 3,
    "start_time": "2022-10-30T15:11:39.344Z"
   },
   {
    "duration": 2961,
    "start_time": "2022-10-30T15:11:39.348Z"
   },
   {
    "duration": 3,
    "start_time": "2022-10-30T15:11:42.310Z"
   },
   {
    "duration": 3141,
    "start_time": "2022-10-30T15:11:42.327Z"
   },
   {
    "duration": 3,
    "start_time": "2022-10-30T15:11:45.470Z"
   },
   {
    "duration": 12,
    "start_time": "2022-10-30T15:11:45.475Z"
   },
   {
    "duration": 27,
    "start_time": "2022-10-30T15:11:45.489Z"
   },
   {
    "duration": 1023,
    "start_time": "2022-10-30T15:31:26.218Z"
   },
   {
    "duration": 2396,
    "start_time": "2022-10-30T15:31:27.243Z"
   },
   {
    "duration": 891,
    "start_time": "2022-10-30T15:31:29.640Z"
   },
   {
    "duration": 3,
    "start_time": "2022-10-30T15:31:30.534Z"
   },
   {
    "duration": 34,
    "start_time": "2022-10-30T15:31:30.539Z"
   },
   {
    "duration": 45,
    "start_time": "2022-10-30T15:31:30.575Z"
   },
   {
    "duration": 28,
    "start_time": "2022-10-30T15:31:30.622Z"
   },
   {
    "duration": 31,
    "start_time": "2022-10-30T15:31:30.651Z"
   },
   {
    "duration": 515,
    "start_time": "2022-10-30T15:31:30.684Z"
   },
   {
    "duration": 1765,
    "start_time": "2022-10-30T15:31:31.202Z"
   },
   {
    "duration": 59,
    "start_time": "2022-10-30T15:31:32.969Z"
   },
   {
    "duration": 17,
    "start_time": "2022-10-30T15:31:33.030Z"
   },
   {
    "duration": 16,
    "start_time": "2022-10-30T15:31:33.049Z"
   },
   {
    "duration": 25,
    "start_time": "2022-10-30T15:31:33.066Z"
   },
   {
    "duration": 9,
    "start_time": "2022-10-30T15:31:33.092Z"
   },
   {
    "duration": 18,
    "start_time": "2022-10-30T15:31:33.102Z"
   },
   {
    "duration": 29,
    "start_time": "2022-10-30T15:31:33.121Z"
   },
   {
    "duration": 5,
    "start_time": "2022-10-30T15:31:33.152Z"
   },
   {
    "duration": 16,
    "start_time": "2022-10-30T15:31:33.158Z"
   },
   {
    "duration": 17,
    "start_time": "2022-10-30T15:31:33.175Z"
   },
   {
    "duration": 9,
    "start_time": "2022-10-30T15:31:33.193Z"
   },
   {
    "duration": 16,
    "start_time": "2022-10-30T15:31:33.204Z"
   },
   {
    "duration": 68,
    "start_time": "2022-10-30T15:31:33.222Z"
   },
   {
    "duration": 3,
    "start_time": "2022-10-30T15:31:33.291Z"
   },
   {
    "duration": 7,
    "start_time": "2022-10-30T15:31:33.296Z"
   },
   {
    "duration": 34,
    "start_time": "2022-10-30T15:31:33.304Z"
   },
   {
    "duration": 3,
    "start_time": "2022-10-30T15:31:33.339Z"
   },
   {
    "duration": 7,
    "start_time": "2022-10-30T15:31:33.346Z"
   },
   {
    "duration": 17,
    "start_time": "2022-10-30T15:31:33.355Z"
   },
   {
    "duration": 1092,
    "start_time": "2022-10-30T15:31:55.200Z"
   },
   {
    "duration": 2480,
    "start_time": "2022-10-30T15:31:56.294Z"
   },
   {
    "duration": 853,
    "start_time": "2022-10-30T15:31:58.776Z"
   },
   {
    "duration": 3,
    "start_time": "2022-10-30T15:31:59.631Z"
   },
   {
    "duration": 18,
    "start_time": "2022-10-30T15:31:59.635Z"
   },
   {
    "duration": 20,
    "start_time": "2022-10-30T15:31:59.654Z"
   },
   {
    "duration": 5,
    "start_time": "2022-10-30T15:31:59.676Z"
   },
   {
    "duration": 8,
    "start_time": "2022-10-30T15:31:59.682Z"
   },
   {
    "duration": 415,
    "start_time": "2022-10-30T15:31:59.691Z"
   },
   {
    "duration": 1622,
    "start_time": "2022-10-30T15:32:00.108Z"
   },
   {
    "duration": 45,
    "start_time": "2022-10-30T15:32:01.731Z"
   },
   {
    "duration": 6,
    "start_time": "2022-10-30T15:32:01.778Z"
   },
   {
    "duration": 8,
    "start_time": "2022-10-30T15:32:01.785Z"
   },
   {
    "duration": 6,
    "start_time": "2022-10-30T15:32:01.794Z"
   },
   {
    "duration": 17,
    "start_time": "2022-10-30T15:32:01.801Z"
   },
   {
    "duration": 7,
    "start_time": "2022-10-30T15:32:01.822Z"
   },
   {
    "duration": 21,
    "start_time": "2022-10-30T15:32:01.830Z"
   },
   {
    "duration": 14,
    "start_time": "2022-10-30T15:32:01.852Z"
   },
   {
    "duration": 34,
    "start_time": "2022-10-30T15:32:01.868Z"
   },
   {
    "duration": 35,
    "start_time": "2022-10-30T15:32:01.904Z"
   },
   {
    "duration": 36,
    "start_time": "2022-10-30T15:32:01.941Z"
   },
   {
    "duration": 30,
    "start_time": "2022-10-30T15:32:01.978Z"
   },
   {
    "duration": 495,
    "start_time": "2022-10-30T15:32:02.009Z"
   },
   {
    "duration": 4,
    "start_time": "2022-10-30T15:32:02.506Z"
   },
   {
    "duration": 30,
    "start_time": "2022-10-30T15:32:02.511Z"
   },
   {
    "duration": 29,
    "start_time": "2022-10-30T15:32:02.543Z"
   },
   {
    "duration": 3,
    "start_time": "2022-10-30T15:32:02.574Z"
   },
   {
    "duration": 5,
    "start_time": "2022-10-30T15:32:02.580Z"
   },
   {
    "duration": 22,
    "start_time": "2022-10-30T15:32:02.586Z"
   },
   {
    "duration": 1011,
    "start_time": "2022-10-30T15:32:38.946Z"
   },
   {
    "duration": 2506,
    "start_time": "2022-10-30T15:32:39.959Z"
   },
   {
    "duration": 841,
    "start_time": "2022-10-30T15:32:42.467Z"
   },
   {
    "duration": 3,
    "start_time": "2022-10-30T15:32:43.310Z"
   },
   {
    "duration": 25,
    "start_time": "2022-10-30T15:32:43.314Z"
   },
   {
    "duration": 13,
    "start_time": "2022-10-30T15:32:43.341Z"
   },
   {
    "duration": 10,
    "start_time": "2022-10-30T15:32:43.356Z"
   },
   {
    "duration": 10,
    "start_time": "2022-10-30T15:32:43.367Z"
   },
   {
    "duration": 423,
    "start_time": "2022-10-30T15:32:43.379Z"
   },
   {
    "duration": 1244682,
    "start_time": "2022-10-30T15:32:43.805Z"
   },
   {
    "duration": 99913,
    "start_time": "2022-10-30T15:53:28.489Z"
   },
   {
    "duration": 4,
    "start_time": "2022-10-30T15:55:08.403Z"
   },
   {
    "duration": 14,
    "start_time": "2022-10-30T15:55:08.409Z"
   },
   {
    "duration": 4,
    "start_time": "2022-10-30T15:55:08.425Z"
   },
   {
    "duration": 18,
    "start_time": "2022-10-30T15:55:08.431Z"
   },
   {
    "duration": 3,
    "start_time": "2022-10-30T15:55:08.450Z"
   },
   {
    "duration": 2598,
    "start_time": "2022-10-30T15:55:08.454Z"
   },
   {
    "duration": 2,
    "start_time": "2022-10-30T15:55:11.054Z"
   },
   {
    "duration": 2899,
    "start_time": "2022-10-30T15:55:11.058Z"
   },
   {
    "duration": 2,
    "start_time": "2022-10-30T15:55:13.959Z"
   },
   {
    "duration": 6,
    "start_time": "2022-10-30T15:55:13.963Z"
   },
   {
    "duration": 5,
    "start_time": "2022-10-30T15:55:13.970Z"
   },
   {
    "duration": 5184,
    "start_time": "2022-10-31T09:50:05.594Z"
   },
   {
    "duration": 4014,
    "start_time": "2022-10-31T09:50:10.780Z"
   },
   {
    "duration": 2391,
    "start_time": "2022-10-31T09:50:14.795Z"
   },
   {
    "duration": 3,
    "start_time": "2022-10-31T09:50:17.188Z"
   },
   {
    "duration": 215,
    "start_time": "2022-10-31T09:50:17.192Z"
   },
   {
    "duration": 15,
    "start_time": "2022-10-31T09:50:17.409Z"
   },
   {
    "duration": 6,
    "start_time": "2022-10-31T09:50:17.426Z"
   },
   {
    "duration": 43,
    "start_time": "2022-10-31T09:50:17.434Z"
   },
   {
    "duration": 1395,
    "start_time": "2022-10-31T09:50:17.479Z"
   },
   {
    "duration": 1406427,
    "start_time": "2022-10-31T09:50:18.877Z"
   },
   {
    "duration": 103480,
    "start_time": "2022-10-31T10:13:45.307Z"
   },
   {
    "duration": 4,
    "start_time": "2022-10-31T10:15:28.789Z"
   },
   {
    "duration": 15,
    "start_time": "2022-10-31T10:15:28.794Z"
   },
   {
    "duration": 3,
    "start_time": "2022-10-31T10:15:28.811Z"
   },
   {
    "duration": 21,
    "start_time": "2022-10-31T10:15:28.815Z"
   },
   {
    "duration": 4,
    "start_time": "2022-10-31T10:15:28.838Z"
   },
   {
    "duration": 2874,
    "start_time": "2022-10-31T10:15:28.843Z"
   },
   {
    "duration": 3,
    "start_time": "2022-10-31T10:15:31.719Z"
   },
   {
    "duration": 2966,
    "start_time": "2022-10-31T10:15:31.723Z"
   },
   {
    "duration": 3,
    "start_time": "2022-10-31T10:15:34.691Z"
   },
   {
    "duration": 14,
    "start_time": "2022-10-31T10:15:34.696Z"
   },
   {
    "duration": 5,
    "start_time": "2022-10-31T10:15:34.712Z"
   },
   {
    "duration": 1897595,
    "start_time": "2022-10-31T10:15:34.718Z"
   },
   {
    "duration": 3,
    "start_time": "2022-10-31T10:47:12.315Z"
   },
   {
    "duration": 22,
    "start_time": "2022-10-31T10:47:12.319Z"
   },
   {
    "duration": 27267,
    "start_time": "2022-10-31T10:47:12.343Z"
   },
   {
    "duration": 3,
    "start_time": "2022-10-31T10:47:39.612Z"
   },
   {
    "duration": 5,
    "start_time": "2022-10-31T10:47:39.618Z"
   },
   {
    "duration": 20,
    "start_time": "2022-10-31T10:47:39.624Z"
   }
  ],
  "kernelspec": {
   "display_name": "Python 3 (ipykernel)",
   "language": "python",
   "name": "python3"
  },
  "language_info": {
   "codemirror_mode": {
    "name": "ipython",
    "version": 3
   },
   "file_extension": ".py",
   "mimetype": "text/x-python",
   "name": "python",
   "nbconvert_exporter": "python",
   "pygments_lexer": "ipython3",
   "version": "3.8.16"
  },
  "toc": {
   "base_numbering": 1,
   "nav_menu": {},
   "number_sections": true,
   "sideBar": true,
   "skip_h1_title": true,
   "title_cell": "Содержание",
   "title_sidebar": "Contents",
   "toc_cell": true,
   "toc_position": {
    "height": "calc(100% - 180px)",
    "left": "10px",
    "top": "150px",
    "width": "302.391px"
   },
   "toc_section_display": true,
   "toc_window_display": false
  }
 },
 "nbformat": 4,
 "nbformat_minor": 2
}
