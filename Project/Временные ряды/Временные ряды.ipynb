{
 "cells": [
  {
   "cell_type": "markdown",
   "metadata": {
    "toc": true
   },
   "source": [
    "<h1>Содержание<span class=\"tocSkip\"></span></h1>\n",
    "<div class=\"toc\"><ul class=\"toc-item\"><li><span><a href=\"#Подготовка\" data-toc-modified-id=\"Подготовка-1\"><span class=\"toc-item-num\">1&nbsp;&nbsp;</span>Подготовка</a></span></li><li><span><a href=\"#Анализ\" data-toc-modified-id=\"Анализ-2\"><span class=\"toc-item-num\">2&nbsp;&nbsp;</span>Анализ</a></span></li><li><span><a href=\"#Обучение\" data-toc-modified-id=\"Обучение-3\"><span class=\"toc-item-num\">3&nbsp;&nbsp;</span>Обучение</a></span></li><li><span><a href=\"#Тестирование\" data-toc-modified-id=\"Тестирование-4\"><span class=\"toc-item-num\">4&nbsp;&nbsp;</span>Тестирование</a></span></li><li><span><a href=\"#Вывод\" data-toc-modified-id=\"Вывод-5\"><span class=\"toc-item-num\">5&nbsp;&nbsp;</span>Вывод</a></span></li><li><span><a href=\"#Чек-лист-проверки\" data-toc-modified-id=\"Чек-лист-проверки-6\"><span class=\"toc-item-num\">6&nbsp;&nbsp;</span>Чек-лист проверки</a></span></li></ul></div>"
   ]
  },
  {
   "cell_type": "markdown",
   "metadata": {},
   "source": [
    "#  Прогнозирование заказов такси"
   ]
  },
  {
   "cell_type": "markdown",
   "metadata": {},
   "source": [
    "Компания «Чётенькое такси» собрала исторические данные о заказах такси в аэропортах. Чтобы привлекать больше водителей в период пиковой нагрузки, нужно спрогнозировать количество заказов такси на следующий час. Постройте модель для такого предсказания.\n",
    "\n",
    "**Значение метрики *RMSE* на тестовой выборке должно быть не больше 48.**\n",
    "\n",
    "Порядок выполнения работы:\n",
    "\n",
    "1. Загрузить данные и выполнить их ресемплирование по одному часу.\n",
    "2. Проанализировать данные.\n",
    "3. Обучить разные модели с различными гиперпараметрами. Сделать тестовую выборку размером 10% от исходных данных.\n",
    "4. Проверить данные на тестовой выборке и сделать выводы.\n",
    "\n",
    "\n",
    "Данные лежат в файле `taxi.csv`. Количество заказов находится в столбце `num_orders` (от англ. *number of orders*, «число заказов»)."
   ]
  },
  {
   "cell_type": "markdown",
   "metadata": {},
   "source": [
    "## Подготовка"
   ]
  },
  {
   "cell_type": "markdown",
   "metadata": {},
   "source": [
    "**Импортируем необходимые библиотеки.**"
   ]
  },
  {
   "cell_type": "code",
   "execution_count": 1,
   "metadata": {},
   "outputs": [],
   "source": [
    "import pandas as pd \n",
    "import numpy as np\n",
    "import matplotlib.pyplot as plt"
   ]
  },
  {
   "cell_type": "code",
   "execution_count": 2,
   "metadata": {},
   "outputs": [],
   "source": [
    "from statsmodels.tsa.seasonal import seasonal_decompose"
   ]
  },
  {
   "cell_type": "code",
   "execution_count": 3,
   "metadata": {},
   "outputs": [],
   "source": [
    "from sklearn.model_selection import train_test_split\n",
    "from sklearn.metrics import mean_absolute_error\n",
    "from sklearn.linear_model import LinearRegression\n",
    "from sklearn.ensemble import RandomForestRegressor\n",
    "from sklearn.tree import DecisionTreeRegressor\n",
    "from sklearn.dummy import DummyRegressor\n",
    "from catboost import CatBoostRegressor"
   ]
  },
  {
   "cell_type": "markdown",
   "metadata": {},
   "source": [
    "**Записываем в переменную датасет.**"
   ]
  },
  {
   "cell_type": "code",
   "execution_count": 4,
   "metadata": {},
   "outputs": [],
   "source": [
    "url = ('https://github.com/MEfse/project/blob/main/Project/%D0%92%D1%80%D0%B5%D0%BC%D0%B5%D0%BD%D0%BD%D1%8B%D0%B5%20%D1%80%D1%8F%D0%B4%D1%8B/taxi.csv?raw=true')"
   ]
  },
  {
   "cell_type": "code",
   "execution_count": 5,
   "metadata": {},
   "outputs": [],
   "source": [
    "data = pd.read_csv(url)"
   ]
  },
  {
   "cell_type": "markdown",
   "metadata": {},
   "source": [
    "**Отобразим общую информацию.**"
   ]
  },
  {
   "cell_type": "code",
   "execution_count": 6,
   "metadata": {},
   "outputs": [
    {
     "name": "stdout",
     "output_type": "stream",
     "text": [
      "<class 'pandas.core.frame.DataFrame'>\n",
      "RangeIndex: 26496 entries, 0 to 26495\n",
      "Data columns (total 2 columns):\n",
      " #   Column      Non-Null Count  Dtype \n",
      "---  ------      --------------  ----- \n",
      " 0   datetime    26496 non-null  object\n",
      " 1   num_orders  26496 non-null  int64 \n",
      "dtypes: int64(1), object(1)\n",
      "memory usage: 414.1+ KB\n"
     ]
    }
   ],
   "source": [
    "data.info()"
   ]
  },
  {
   "cell_type": "markdown",
   "metadata": {},
   "source": [
    "**Переведем столбец** `datetime` во временой тип данных."
   ]
  },
  {
   "cell_type": "code",
   "execution_count": 7,
   "metadata": {},
   "outputs": [],
   "source": [
    "data['datetime'] = pd.to_datetime(data['datetime'], format='%Y-%m-%d %H:%M:%S')"
   ]
  },
  {
   "cell_type": "code",
   "execution_count": 8,
   "metadata": {},
   "outputs": [
    {
     "name": "stdout",
     "output_type": "stream",
     "text": [
      "Минимальное значение времени: 2018-03-01 00:00:00\n",
      "Максимальное значение времени: 2018-08-31 23:50:00\n"
     ]
    }
   ],
   "source": [
    "print('Минимальное значение времени:', data['datetime'].min())\n",
    "print('Максимальное значение времени:', data['datetime'].max())"
   ]
  },
  {
   "cell_type": "markdown",
   "metadata": {},
   "source": [
    "**Данные** представлены **за полгода.**"
   ]
  },
  {
   "cell_type": "code",
   "execution_count": 9,
   "metadata": {},
   "outputs": [
    {
     "data": {
      "text/plain": [
       "0   2018-03-01 00:00:00\n",
       "1   2018-03-01 00:10:00\n",
       "2   2018-03-01 00:20:00\n",
       "3   2018-03-01 00:30:00\n",
       "4   2018-03-01 00:40:00\n",
       "Name: datetime, dtype: datetime64[ns]"
      ]
     },
     "metadata": {},
     "output_type": "display_data"
    }
   ],
   "source": [
    "display(data['datetime'].head(5))"
   ]
  },
  {
   "cell_type": "markdown",
   "metadata": {},
   "source": [
    "**Разница** между строками составляет **10 мин.**"
   ]
  },
  {
   "cell_type": "code",
   "execution_count": 10,
   "metadata": {},
   "outputs": [
    {
     "name": "stdout",
     "output_type": "stream",
     "text": [
      "Минимальное значение заказов: 0\n",
      "Максимальное значение заказов: 119\n"
     ]
    }
   ],
   "source": [
    "print('Минимальное значение заказов:', data['num_orders'].min())\n",
    "print('Максимальное значение заказов:', data['num_orders'].max())"
   ]
  },
  {
   "cell_type": "markdown",
   "metadata": {},
   "source": [
    "Количество заказов **сильно отличается.** Но т.к. разница по времени небольшая, то сейчас сложно сказать, что нулевое значение является аномалией. **Если количество заказов** такси **за** условные **30 мин или 1 час тоже равно нулю, то это 100% аномалия.**"
   ]
  },
  {
   "cell_type": "code",
   "execution_count": 11,
   "metadata": {},
   "outputs": [
    {
     "data": {
      "text/plain": [
       "0     9\n",
       "1    14\n",
       "2    28\n",
       "3    20\n",
       "4    32\n",
       "Name: num_orders, dtype: int64"
      ]
     },
     "metadata": {},
     "output_type": "display_data"
    }
   ],
   "source": [
    "display(data['num_orders'].head(5))"
   ]
  },
  {
   "cell_type": "markdown",
   "metadata": {},
   "source": [
    "Сделаем **индекс временным.**"
   ]
  },
  {
   "cell_type": "code",
   "execution_count": 12,
   "metadata": {},
   "outputs": [],
   "source": [
    "data = data.set_index('datetime')"
   ]
  },
  {
   "cell_type": "code",
   "execution_count": 13,
   "metadata": {},
   "outputs": [
    {
     "data": {
      "text/html": [
       "<div>\n",
       "<style scoped>\n",
       "    .dataframe tbody tr th:only-of-type {\n",
       "        vertical-align: middle;\n",
       "    }\n",
       "\n",
       "    .dataframe tbody tr th {\n",
       "        vertical-align: top;\n",
       "    }\n",
       "\n",
       "    .dataframe thead th {\n",
       "        text-align: right;\n",
       "    }\n",
       "</style>\n",
       "<table border=\"1\" class=\"dataframe\">\n",
       "  <thead>\n",
       "    <tr style=\"text-align: right;\">\n",
       "      <th></th>\n",
       "      <th>num_orders</th>\n",
       "    </tr>\n",
       "    <tr>\n",
       "      <th>datetime</th>\n",
       "      <th></th>\n",
       "    </tr>\n",
       "  </thead>\n",
       "  <tbody>\n",
       "    <tr>\n",
       "      <th>2018-03-01 00:00:00</th>\n",
       "      <td>9</td>\n",
       "    </tr>\n",
       "    <tr>\n",
       "      <th>2018-03-01 00:10:00</th>\n",
       "      <td>14</td>\n",
       "    </tr>\n",
       "    <tr>\n",
       "      <th>2018-03-01 00:20:00</th>\n",
       "      <td>28</td>\n",
       "    </tr>\n",
       "    <tr>\n",
       "      <th>2018-03-01 00:30:00</th>\n",
       "      <td>20</td>\n",
       "    </tr>\n",
       "    <tr>\n",
       "      <th>2018-03-01 00:40:00</th>\n",
       "      <td>32</td>\n",
       "    </tr>\n",
       "    <tr>\n",
       "      <th>...</th>\n",
       "      <td>...</td>\n",
       "    </tr>\n",
       "    <tr>\n",
       "      <th>2018-08-31 23:10:00</th>\n",
       "      <td>32</td>\n",
       "    </tr>\n",
       "    <tr>\n",
       "      <th>2018-08-31 23:20:00</th>\n",
       "      <td>24</td>\n",
       "    </tr>\n",
       "    <tr>\n",
       "      <th>2018-08-31 23:30:00</th>\n",
       "      <td>27</td>\n",
       "    </tr>\n",
       "    <tr>\n",
       "      <th>2018-08-31 23:40:00</th>\n",
       "      <td>39</td>\n",
       "    </tr>\n",
       "    <tr>\n",
       "      <th>2018-08-31 23:50:00</th>\n",
       "      <td>53</td>\n",
       "    </tr>\n",
       "  </tbody>\n",
       "</table>\n",
       "<p>26496 rows × 1 columns</p>\n",
       "</div>"
      ],
      "text/plain": [
       "                     num_orders\n",
       "datetime                       \n",
       "2018-03-01 00:00:00           9\n",
       "2018-03-01 00:10:00          14\n",
       "2018-03-01 00:20:00          28\n",
       "2018-03-01 00:30:00          20\n",
       "2018-03-01 00:40:00          32\n",
       "...                         ...\n",
       "2018-08-31 23:10:00          32\n",
       "2018-08-31 23:20:00          24\n",
       "2018-08-31 23:30:00          27\n",
       "2018-08-31 23:40:00          39\n",
       "2018-08-31 23:50:00          53\n",
       "\n",
       "[26496 rows x 1 columns]"
      ]
     },
     "metadata": {},
     "output_type": "display_data"
    }
   ],
   "source": [
    "display(data)"
   ]
  },
  {
   "cell_type": "markdown",
   "metadata": {},
   "source": [
    "**Данные** исследованы и **готовы к анализу.**"
   ]
  },
  {
   "cell_type": "markdown",
   "metadata": {},
   "source": [
    "## Анализ"
   ]
  },
  {
   "cell_type": "markdown",
   "metadata": {},
   "source": [
    "Построем график."
   ]
  },
  {
   "cell_type": "code",
   "execution_count": 14,
   "metadata": {},
   "outputs": [
    {
     "data": {
      "image/png": "[encoded data removed]",
      "text/plain": [
       "<Figure size 1200x800 with 1 Axes>"
      ]
     },
     "metadata": {},
     "output_type": "display_data"
    }
   ],
   "source": [
    "plt.figure(figsize=(12, 8));\n",
    "plt.plot(data);"
   ]
  },
  {
   "cell_type": "markdown",
   "metadata": {},
   "source": [
    "**Данные в таком виде не подлежат анализу**, т.к. очень маленькое время чтобы отследить изменения, поэтому выполним `ресемпинг`."
   ]
  },
  {
   "cell_type": "code",
   "execution_count": 15,
   "metadata": {},
   "outputs": [],
   "source": [
    "data = data.resample('1H').sum()"
   ]
  },
  {
   "cell_type": "markdown",
   "metadata": {},
   "source": [
    "Добавим **скользящее среднее.**"
   ]
  },
  {
   "cell_type": "code",
   "execution_count": 16,
   "metadata": {},
   "outputs": [],
   "source": [
    "data['rolling_mean'] = data.rolling(10).mean()"
   ]
  },
  {
   "cell_type": "code",
   "execution_count": 17,
   "metadata": {},
   "outputs": [
    {
     "data": {
      "image/png": "[encoded data removed]",
      "text/plain": [
       "<Figure size 1200x800 with 1 Axes>"
      ]
     },
     "metadata": {},
     "output_type": "display_data"
    }
   ],
   "source": [
    "plt.figure(figsize=(12, 8));\n",
    "plt.plot(data);"
   ]
  },
  {
   "cell_type": "markdown",
   "metadata": {},
   "source": [
    "На данном графике можно заметить, что **количество заказов в среднем повышается.**"
   ]
  },
  {
   "cell_type": "markdown",
   "metadata": {},
   "source": [
    "Рассмотрим `тренды` и `сезонность`.\n",
    "\n",
    "\n",
    "* `Тренд`  — плавное изменение среднего значения ряда без повторяющихся закономерностей. \n",
    "* `Сезонность`  — циклично повторяющиеся закономерности во временном ряду. "
   ]
  },
  {
   "cell_type": "code",
   "execution_count": 18,
   "metadata": {},
   "outputs": [],
   "source": [
    "data = data.drop(['rolling_mean'], axis=1)"
   ]
  },
  {
   "cell_type": "code",
   "execution_count": 19,
   "metadata": {},
   "outputs": [],
   "source": [
    "decomposed = seasonal_decompose(data)"
   ]
  },
  {
   "cell_type": "markdown",
   "metadata": {},
   "source": [
    "**Построем график** по тренду, сезонности и остаткам."
   ]
  },
  {
   "cell_type": "code",
   "execution_count": 20,
   "metadata": {},
   "outputs": [
    {
     "data": {
      "image/png": "[encoded data removed]",
      "text/plain": [
       "<Figure size 1200x900 with 3 Axes>"
      ]
     },
     "metadata": {},
     "output_type": "display_data"
    }
   ],
   "source": [
    "plt.figure(figsize=(12, 9));\n",
    "plt.subplot(311)\n",
    "decomposed.trend.plot(ax=plt.gca())\n",
    "plt.title('Тренд')\n",
    "plt.subplot(312)\n",
    "decomposed.seasonal.plot(ax=plt.gca()) \n",
    "plt.title('Сезонность')\n",
    "plt.subplot(313)\n",
    "decomposed.resid.plot(ax=plt.gca()) \n",
    "plt.title('Остатки')\n",
    "plt.tight_layout()"
   ]
  },
  {
   "cell_type": "markdown",
   "metadata": {},
   "source": [
    "Рассмотрим детальнее - **период две недели.** "
   ]
  },
  {
   "cell_type": "code",
   "execution_count": 21,
   "metadata": {},
   "outputs": [],
   "source": [
    "data_week = data['2018-03-01 00:00:00' : '2018-03-02 23:50:00']"
   ]
  },
  {
   "cell_type": "code",
   "execution_count": 22,
   "metadata": {},
   "outputs": [],
   "source": [
    "decomposed_week = seasonal_decompose(data_week)"
   ]
  },
  {
   "cell_type": "code",
   "execution_count": 23,
   "metadata": {},
   "outputs": [
    {
     "data": {
      "image/png": "[encoded data removed]",
      "text/plain": [
       "<Figure size 1000x600 with 1 Axes>"
      ]
     },
     "metadata": {},
     "output_type": "display_data"
    }
   ],
   "source": [
    "plt.figure(figsize=(10, 6));\n",
    "decomposed_week.seasonal.plot();\n",
    "plt.title('Сезонность');"
   ]
  },
  {
   "cell_type": "markdown",
   "metadata": {},
   "source": [
    "* На ночь приходится пик. \n",
    "* На утро приходится спад.\n",
    "* На день и вечер приходится примерно среднее значение за сутки."
   ]
  },
  {
   "cell_type": "markdown",
   "metadata": {},
   "source": [
    "## Обучение"
   ]
  },
  {
   "cell_type": "markdown",
   "metadata": {},
   "source": [
    "Подготовим функцию для обучения моделей."
   ]
  },
  {
   "cell_type": "code",
   "execution_count": 24,
   "metadata": {},
   "outputs": [],
   "source": [
    "data_model = data.copy()"
   ]
  },
  {
   "cell_type": "code",
   "execution_count": 25,
   "metadata": {},
   "outputs": [],
   "source": [
    "def make_features(data, max_lag, rolling_mean_size):\n",
    "    data['year'] = data.index.year\n",
    "    data['month'] = data.index.month\n",
    "    data['day'] = data.index.day\n",
    "    data['dayofweek'] = data.index.dayofweek\n",
    "      \n",
    "    for lag in range(1, max_lag + 1):\n",
    "        data['lag_{}'.format(lag)] = data['num_orders'].shift(lag)\n",
    "\n",
    "    data['rolling_mean'] = data['num_orders'].shift().rolling(rolling_mean_size).mean()"
   ]
  },
  {
   "cell_type": "code",
   "execution_count": 26,
   "metadata": {},
   "outputs": [],
   "source": [
    "make_features(data_model, 3, 2)"
   ]
  },
  {
   "cell_type": "markdown",
   "metadata": {},
   "source": [
    "Сделаем разбивку данных. "
   ]
  },
  {
   "cell_type": "code",
   "execution_count": 27,
   "metadata": {},
   "outputs": [],
   "source": [
    "train_valid, test = train_test_split(data_model, shuffle=False, test_size=.1)"
   ]
  },
  {
   "cell_type": "code",
   "execution_count": 28,
   "metadata": {},
   "outputs": [],
   "source": [
    "train, valid = train_test_split(train_valid, test_size=.25)"
   ]
  },
  {
   "cell_type": "code",
   "execution_count": 29,
   "metadata": {},
   "outputs": [],
   "source": [
    "train = train.dropna()\n",
    "valid = valid.dropna()\n",
    "test = test.dropna()"
   ]
  },
  {
   "cell_type": "code",
   "execution_count": 30,
   "metadata": {},
   "outputs": [
    {
     "name": "stdout",
     "output_type": "stream",
     "text": [
      "Размер тренировочной выборки: (2977, 9) процент от общего 67.41%\n",
      "Размер валидационной выборки: (994, 9) процент от общего 22.51%\n",
      "Размер тестовой выборки: (442, 9) процент от общего 10.01%\n"
     ]
    }
   ],
   "source": [
    "print(f'Размер тренировочной выборки: {train.shape} процент от общего {round(train.shape[0] / data.shape[0] * 100,2)}%')\n",
    "print(f'Размер валидационной выборки: {valid.shape} процент от общего {round(valid.shape[0] / data.shape[0] * 100,2)}%')\n",
    "print(f'Размер тестовой выборки: {test.shape} процент от общего {round(test.shape[0] / data.shape[0] * 100,2)}%')"
   ]
  },
  {
   "cell_type": "code",
   "execution_count": 31,
   "metadata": {},
   "outputs": [
    {
     "data": {
      "text/html": [
       "<div>\n",
       "<style scoped>\n",
       "    .dataframe tbody tr th:only-of-type {\n",
       "        vertical-align: middle;\n",
       "    }\n",
       "\n",
       "    .dataframe tbody tr th {\n",
       "        vertical-align: top;\n",
       "    }\n",
       "\n",
       "    .dataframe thead th {\n",
       "        text-align: right;\n",
       "    }\n",
       "</style>\n",
       "<table border=\"1\" class=\"dataframe\">\n",
       "  <thead>\n",
       "    <tr style=\"text-align: right;\">\n",
       "      <th></th>\n",
       "      <th>num_orders</th>\n",
       "      <th>year</th>\n",
       "      <th>month</th>\n",
       "      <th>day</th>\n",
       "      <th>dayofweek</th>\n",
       "      <th>lag_1</th>\n",
       "      <th>lag_2</th>\n",
       "      <th>lag_3</th>\n",
       "      <th>rolling_mean</th>\n",
       "    </tr>\n",
       "    <tr>\n",
       "      <th>datetime</th>\n",
       "      <th></th>\n",
       "      <th></th>\n",
       "      <th></th>\n",
       "      <th></th>\n",
       "      <th></th>\n",
       "      <th></th>\n",
       "      <th></th>\n",
       "      <th></th>\n",
       "      <th></th>\n",
       "    </tr>\n",
       "  </thead>\n",
       "  <tbody>\n",
       "    <tr>\n",
       "      <th>2018-03-01 00:00:00</th>\n",
       "      <td>124</td>\n",
       "      <td>2018</td>\n",
       "      <td>3</td>\n",
       "      <td>1</td>\n",
       "      <td>3</td>\n",
       "      <td>NaN</td>\n",
       "      <td>NaN</td>\n",
       "      <td>NaN</td>\n",
       "      <td>NaN</td>\n",
       "    </tr>\n",
       "    <tr>\n",
       "      <th>2018-03-01 01:00:00</th>\n",
       "      <td>85</td>\n",
       "      <td>2018</td>\n",
       "      <td>3</td>\n",
       "      <td>1</td>\n",
       "      <td>3</td>\n",
       "      <td>124.0</td>\n",
       "      <td>NaN</td>\n",
       "      <td>NaN</td>\n",
       "      <td>NaN</td>\n",
       "    </tr>\n",
       "    <tr>\n",
       "      <th>2018-03-01 02:00:00</th>\n",
       "      <td>71</td>\n",
       "      <td>2018</td>\n",
       "      <td>3</td>\n",
       "      <td>1</td>\n",
       "      <td>3</td>\n",
       "      <td>85.0</td>\n",
       "      <td>124.0</td>\n",
       "      <td>NaN</td>\n",
       "      <td>104.5</td>\n",
       "    </tr>\n",
       "    <tr>\n",
       "      <th>2018-03-01 03:00:00</th>\n",
       "      <td>66</td>\n",
       "      <td>2018</td>\n",
       "      <td>3</td>\n",
       "      <td>1</td>\n",
       "      <td>3</td>\n",
       "      <td>71.0</td>\n",
       "      <td>85.0</td>\n",
       "      <td>124.0</td>\n",
       "      <td>78.0</td>\n",
       "    </tr>\n",
       "    <tr>\n",
       "      <th>2018-03-01 04:00:00</th>\n",
       "      <td>43</td>\n",
       "      <td>2018</td>\n",
       "      <td>3</td>\n",
       "      <td>1</td>\n",
       "      <td>3</td>\n",
       "      <td>66.0</td>\n",
       "      <td>71.0</td>\n",
       "      <td>85.0</td>\n",
       "      <td>68.5</td>\n",
       "    </tr>\n",
       "  </tbody>\n",
       "</table>\n",
       "</div>"
      ],
      "text/plain": [
       "                     num_orders  year  month  day  dayofweek  lag_1  lag_2  \\\n",
       "datetime                                                                     \n",
       "2018-03-01 00:00:00         124  2018      3    1          3    NaN    NaN   \n",
       "2018-03-01 01:00:00          85  2018      3    1          3  124.0    NaN   \n",
       "2018-03-01 02:00:00          71  2018      3    1          3   85.0  124.0   \n",
       "2018-03-01 03:00:00          66  2018      3    1          3   71.0   85.0   \n",
       "2018-03-01 04:00:00          43  2018      3    1          3   66.0   71.0   \n",
       "\n",
       "                     lag_3  rolling_mean  \n",
       "datetime                                  \n",
       "2018-03-01 00:00:00    NaN           NaN  \n",
       "2018-03-01 01:00:00    NaN           NaN  \n",
       "2018-03-01 02:00:00    NaN         104.5  \n",
       "2018-03-01 03:00:00  124.0          78.0  \n",
       "2018-03-01 04:00:00   85.0          68.5  "
      ]
     },
     "metadata": {},
     "output_type": "display_data"
    }
   ],
   "source": [
    "display(data_model.head(5))"
   ]
  },
  {
   "cell_type": "code",
   "execution_count": 32,
   "metadata": {},
   "outputs": [],
   "source": [
    "X_train = train.drop(['num_orders'], axis=1)\n",
    "y_train = train['num_orders']\n",
    "\n",
    "X_valid = valid.drop(['num_orders'], axis=1)\n",
    "y_valid = valid['num_orders']\n",
    "\n",
    "X_test = test.drop(['num_orders'], axis=1)\n",
    "y_test = test['num_orders']"
   ]
  },
  {
   "cell_type": "code",
   "execution_count": 33,
   "metadata": {},
   "outputs": [],
   "source": [
    "best_model_tree, best_model_forest = None, None\n",
    "\n",
    "best_result_tree, best_result_forest = 1000, 1000"
   ]
  },
  {
   "cell_type": "code",
   "execution_count": 34,
   "metadata": {},
   "outputs": [
    {
     "name": "stdout",
     "output_type": "stream",
     "text": [
      "RMSE линейной регрессии 24.211\n"
     ]
    }
   ],
   "source": [
    "model_linear = LinearRegression()\n",
    "model_linear.fit(X_train, y_train)\n",
    "predict_linear = model_linear.predict(X_valid)\n",
    "rmse_linear = round(mean_absolute_error(y_valid, predict_linear), 3)\n",
    "print(f\"RMSE линейной регрессии {rmse_linear}\")"
   ]
  },
  {
   "cell_type": "code",
   "execution_count": 35,
   "metadata": {},
   "outputs": [
    {
     "name": "stdout",
     "output_type": "stream",
     "text": [
      "RMSE дерева решений 24.164, лучшая модель DecisionTreeRegressor(max_depth=6)\n"
     ]
    }
   ],
   "source": [
    "for depth in range(1, 20, 1):\n",
    "    \n",
    "    model_tree = DecisionTreeRegressor(max_depth=depth)\n",
    "    model_tree.fit(X_train, y_train)\n",
    "    predict_tree = model_tree.predict(X_valid)\n",
    "    rmse_tree = round(mean_absolute_error(y_valid, predict_tree),3)\n",
    "    \n",
    "    if best_result_tree > rmse_tree:\n",
    "        best_result_tree = rmse_tree\n",
    "        best_model_tree = model_tree\n",
    "        \n",
    "            \n",
    "print(f\"RMSE дерева решений {best_result_tree}, лучшая модель {best_model_tree}\")"
   ]
  },
  {
   "cell_type": "code",
   "execution_count": 36,
   "metadata": {},
   "outputs": [
    {
     "name": "stdout",
     "output_type": "stream",
     "text": [
      "RMSE случайного леса 23.36, лучшая модель RandomForestRegressor(max_depth=7, n_estimators=5)\n"
     ]
    }
   ],
   "source": [
    "for depth in range(1, 10, 1):\n",
    "    for est in range(1, 10, 1):\n",
    "        \n",
    "        model_forest = RandomForestRegressor(max_depth=depth, n_estimators=est)\n",
    "        model_forest.fit(X_train, y_train)\n",
    "        predict_forest = model_forest.predict(X_valid)\n",
    "        rmse_forest = round(mean_absolute_error(y_valid, predict_forest), 3)\n",
    "        \n",
    "        if best_result_forest > rmse_forest:\n",
    "            best_result_forest = rmse_forest\n",
    "            best_model_forest = model_forest\n",
    "        \n",
    "print(f\"RMSE случайного леса {best_result_forest}, лучшая модель {best_model_forest}\")"
   ]
  },
  {
   "cell_type": "code",
   "execution_count": 37,
   "metadata": {},
   "outputs": [
    {
     "name": "stdout",
     "output_type": "stream",
     "text": [
      "RMSE дамми регрессора 23.757\n"
     ]
    }
   ],
   "source": [
    "model_dummy = DummyRegressor()\n",
    "model_dummy.fit(X_train, y_train)\n",
    "predict_dummy = model_forest.predict(X_valid)\n",
    "rmse_dummy = round(mean_absolute_error(y_valid, predict_dummy), 3)\n",
    "print(f\"RMSE дамми регрессора {rmse_dummy}\")"
   ]
  },
  {
   "cell_type": "code",
   "execution_count": 38,
   "metadata": {},
   "outputs": [
    {
     "data": {
      "application/vnd.jupyter.widget-view+json": {
       "model_id": "b7c405b3613b4d2da4d30eb7b0ad6cb7",
       "version_major": 2,
       "version_minor": 0
      },
      "text/plain": [
       "MetricVisualizer(layout=Layout(align_self='stretch', height='500px'))"
      ]
     },
     "metadata": {},
     "output_type": "display_data"
    },
    {
     "name": "stdout",
     "output_type": "stream",
     "text": [
      "Learning rate set to 0.005381\n",
      "0:\tlearn: 38.7304807\ttotal: 70.5ms\tremaining: 17m 37s\n",
      "2000:\tlearn: 26.7160358\ttotal: 2.46s\tremaining: 16s\n",
      "4000:\tlearn: 24.1582648\ttotal: 4.95s\tremaining: 13.6s\n",
      "6000:\tlearn: 22.1850679\ttotal: 7.73s\tremaining: 11.6s\n",
      "8000:\tlearn: 20.7633419\ttotal: 10.4s\tremaining: 9.08s\n",
      "10000:\tlearn: 19.5445433\ttotal: 13.1s\tremaining: 6.56s\n",
      "12000:\tlearn: 18.4703838\ttotal: 15.8s\tremaining: 3.94s\n",
      "14000:\tlearn: 17.4800920\ttotal: 18.6s\tremaining: 1.33s\n",
      "14999:\tlearn: 17.0374871\ttotal: 20.1s\tremaining: 0us\n",
      "\n",
      "RMSE кэтбуста 23.434\n"
     ]
    }
   ],
   "source": [
    "cat = CatBoostRegressor(iterations = 15000)\n",
    "cat.fit(X_train, y_train, verbose = 2000, plot=True)\n",
    "predict_cat = cat.predict(X_valid)\n",
    "rmse_cat = round(mean_absolute_error(y_valid, predict_cat), 3)\n",
    "print()\n",
    "print(f\"RMSE кэтбуста {rmse_cat}\")"
   ]
  },
  {
   "cell_type": "code",
   "execution_count": 39,
   "metadata": {},
   "outputs": [],
   "source": [
    "model_rmse = pd.DataFrame({'RMSE': [rmse_linear, \n",
    "                                    rmse_tree, \n",
    "                                    rmse_forest, \n",
    "                                    rmse_cat, \n",
    "                                    rmse_dummy]}, \n",
    "                          index = ['Линейная регрессия', \n",
    "                                   'Дерево решений',\n",
    "                                   'Случайный лес',\n",
    "                                   'Кэтбуст',\n",
    "                                   'Дамми регрессор']).sort_values('RMSE', ascending=True)"
   ]
  },
  {
   "cell_type": "code",
   "execution_count": 40,
   "metadata": {},
   "outputs": [
    {
     "data": {
      "text/html": [
       "<div>\n",
       "<style scoped>\n",
       "    .dataframe tbody tr th:only-of-type {\n",
       "        vertical-align: middle;\n",
       "    }\n",
       "\n",
       "    .dataframe tbody tr th {\n",
       "        vertical-align: top;\n",
       "    }\n",
       "\n",
       "    .dataframe thead th {\n",
       "        text-align: right;\n",
       "    }\n",
       "</style>\n",
       "<table border=\"1\" class=\"dataframe\">\n",
       "  <thead>\n",
       "    <tr style=\"text-align: right;\">\n",
       "      <th></th>\n",
       "      <th>RMSE</th>\n",
       "    </tr>\n",
       "  </thead>\n",
       "  <tbody>\n",
       "    <tr>\n",
       "      <th>Кэтбуст</th>\n",
       "      <td>23.434</td>\n",
       "    </tr>\n",
       "    <tr>\n",
       "      <th>Случайный лес</th>\n",
       "      <td>23.757</td>\n",
       "    </tr>\n",
       "    <tr>\n",
       "      <th>Дамми регрессор</th>\n",
       "      <td>23.757</td>\n",
       "    </tr>\n",
       "    <tr>\n",
       "      <th>Линейная регрессия</th>\n",
       "      <td>24.211</td>\n",
       "    </tr>\n",
       "    <tr>\n",
       "      <th>Дерево решений</th>\n",
       "      <td>32.962</td>\n",
       "    </tr>\n",
       "  </tbody>\n",
       "</table>\n",
       "</div>"
      ],
      "text/plain": [
       "                      RMSE\n",
       "Кэтбуст             23.434\n",
       "Случайный лес       23.757\n",
       "Дамми регрессор     23.757\n",
       "Линейная регрессия  24.211\n",
       "Дерево решений      32.962"
      ]
     },
     "metadata": {},
     "output_type": "display_data"
    }
   ],
   "source": [
    "display(model_rmse)"
   ]
  },
  {
   "cell_type": "markdown",
   "metadata": {},
   "source": [
    "Лушчая модель - Кэтбуст."
   ]
  },
  {
   "cell_type": "markdown",
   "metadata": {},
   "source": [
    "## Тестирование"
   ]
  },
  {
   "cell_type": "markdown",
   "metadata": {},
   "source": [
    "Потестируем модель."
   ]
  },
  {
   "cell_type": "code",
   "execution_count": 41,
   "metadata": {},
   "outputs": [
    {
     "name": "stdout",
     "output_type": "stream",
     "text": [
      "\n",
      "RMSE кэтбуста 41.133\n"
     ]
    }
   ],
   "source": [
    "predict_cat_t = cat.predict(X_test)\n",
    "rmse_cat_t = round(mean_absolute_error(y_test, predict_cat_t), 3)\n",
    "print()\n",
    "print(f\"RMSE кэтбуста {rmse_cat_t}\")"
   ]
  },
  {
   "cell_type": "markdown",
   "metadata": {},
   "source": [
    "## Вывод"
   ]
  },
  {
   "cell_type": "markdown",
   "metadata": {},
   "source": [
    "Выполнена подготовка данных, произведен анализ, обучены различные модели (с подбором гиперпараметров), лучшая модель (кэтбуст) протестирована. "
   ]
  },
  {
   "cell_type": "markdown",
   "metadata": {},
   "source": [
    "## Чек-лист проверки"
   ]
  },
  {
   "cell_type": "markdown",
   "metadata": {},
   "source": [
    "- [x]  Jupyter Notebook открыт\n",
    "- [x]  Весь код выполняется без ошибок\n",
    "- [x]  Ячейки с кодом расположены в порядке исполнения\n",
    "- [x]  Данные загружены и подготовлены\n",
    "- [x]  Данные проанализированы\n",
    "- [x]  Модель обучена, гиперпараметры подобраны\n",
    "- [x]  Качество моделей проверено, выводы сделаны\n",
    "- [x]  Значение *RMSE* на тестовой выборке не больше 48"
   ]
  }
 ],
 "metadata": {
  "ExecuteTimeLog": [
   {
    "duration": 59,
    "start_time": "2022-10-06T07:08:15.439Z"
   },
   {
    "duration": 46,
    "start_time": "2022-10-06T07:09:22.415Z"
   },
   {
    "duration": 416,
    "start_time": "2022-10-06T07:09:25.499Z"
   },
   {
    "duration": 105,
    "start_time": "2022-10-06T07:09:25.917Z"
   },
   {
    "duration": 14,
    "start_time": "2022-10-06T07:09:33.710Z"
   },
   {
    "duration": 5,
    "start_time": "2022-10-06T07:10:09.246Z"
   },
   {
    "duration": 8,
    "start_time": "2022-10-06T07:10:24.093Z"
   },
   {
    "duration": 11,
    "start_time": "2022-10-06T07:10:52.886Z"
   },
   {
    "duration": 4,
    "start_time": "2022-10-06T07:11:16.558Z"
   },
   {
    "duration": 5,
    "start_time": "2022-10-06T07:11:41.435Z"
   },
   {
    "duration": 3,
    "start_time": "2022-10-06T07:12:03.994Z"
   },
   {
    "duration": 7,
    "start_time": "2022-10-06T07:12:08.325Z"
   },
   {
    "duration": 620,
    "start_time": "2022-10-06T07:35:37.330Z"
   },
   {
    "duration": 196,
    "start_time": "2022-10-06T07:35:48.265Z"
   },
   {
    "duration": 300,
    "start_time": "2022-10-06T07:35:55.796Z"
   },
   {
    "duration": 184,
    "start_time": "2022-10-06T07:36:41.621Z"
   },
   {
    "duration": 72,
    "start_time": "2022-10-06T07:39:54.688Z"
   },
   {
    "duration": 9,
    "start_time": "2022-10-06T07:39:57.881Z"
   },
   {
    "duration": 10,
    "start_time": "2022-10-06T07:40:00.094Z"
   },
   {
    "duration": 4,
    "start_time": "2022-10-06T07:40:02.247Z"
   },
   {
    "duration": 342,
    "start_time": "2022-10-06T07:40:06.830Z"
   },
   {
    "duration": 226,
    "start_time": "2022-10-06T07:40:17.024Z"
   },
   {
    "duration": 390,
    "start_time": "2022-10-06T07:40:30.637Z"
   },
   {
    "duration": 42,
    "start_time": "2022-10-06T07:40:31.029Z"
   },
   {
    "duration": 11,
    "start_time": "2022-10-06T07:40:31.073Z"
   },
   {
    "duration": 10,
    "start_time": "2022-10-06T07:40:31.086Z"
   },
   {
    "duration": 11,
    "start_time": "2022-10-06T07:40:31.097Z"
   },
   {
    "duration": 17,
    "start_time": "2022-10-06T07:40:31.110Z"
   },
   {
    "duration": 8,
    "start_time": "2022-10-06T07:40:31.128Z"
   },
   {
    "duration": 16,
    "start_time": "2022-10-06T07:40:31.137Z"
   },
   {
    "duration": 542,
    "start_time": "2022-10-06T07:40:31.154Z"
   },
   {
    "duration": 3,
    "start_time": "2022-10-06T07:40:58.635Z"
   },
   {
    "duration": 225,
    "start_time": "2022-10-06T07:40:59.386Z"
   },
   {
    "duration": 13,
    "start_time": "2022-10-06T07:42:18.580Z"
   },
   {
    "duration": 88,
    "start_time": "2022-10-06T07:42:43.191Z"
   },
   {
    "duration": 5,
    "start_time": "2022-10-06T07:42:58.413Z"
   },
   {
    "duration": 8,
    "start_time": "2022-10-06T07:43:13.067Z"
   },
   {
    "duration": 7,
    "start_time": "2022-10-06T07:43:50.626Z"
   },
   {
    "duration": 410,
    "start_time": "2022-10-06T07:43:54.809Z"
   },
   {
    "duration": 42,
    "start_time": "2022-10-06T07:43:55.220Z"
   },
   {
    "duration": 12,
    "start_time": "2022-10-06T07:43:55.264Z"
   },
   {
    "duration": 9,
    "start_time": "2022-10-06T07:43:55.278Z"
   },
   {
    "duration": 6,
    "start_time": "2022-10-06T07:43:55.289Z"
   },
   {
    "duration": 13,
    "start_time": "2022-10-06T07:43:55.296Z"
   },
   {
    "duration": 4,
    "start_time": "2022-10-06T07:43:55.310Z"
   },
   {
    "duration": 5,
    "start_time": "2022-10-06T07:43:55.315Z"
   },
   {
    "duration": 5,
    "start_time": "2022-10-06T07:43:55.321Z"
   },
   {
    "duration": 10,
    "start_time": "2022-10-06T07:43:55.327Z"
   },
   {
    "duration": 2,
    "start_time": "2022-10-06T07:43:55.339Z"
   },
   {
    "duration": 59,
    "start_time": "2022-10-06T07:43:55.342Z"
   },
   {
    "duration": 741,
    "start_time": "2022-10-06T07:44:16.211Z"
   },
   {
    "duration": 2,
    "start_time": "2022-10-06T07:44:26.561Z"
   },
   {
    "duration": 78,
    "start_time": "2022-10-06T07:45:35.226Z"
   },
   {
    "duration": 2,
    "start_time": "2022-10-06T07:46:29.464Z"
   },
   {
    "duration": 566,
    "start_time": "2022-10-06T07:46:33.708Z"
   },
   {
    "duration": 496,
    "start_time": "2022-10-06T07:46:46.576Z"
   },
   {
    "duration": 538,
    "start_time": "2022-10-06T07:46:51.721Z"
   },
   {
    "duration": 517,
    "start_time": "2022-10-06T07:47:00.537Z"
   },
   {
    "duration": 324,
    "start_time": "2022-10-06T07:47:14.109Z"
   },
   {
    "duration": 217,
    "start_time": "2022-10-06T07:47:19.142Z"
   },
   {
    "duration": 228,
    "start_time": "2022-10-06T07:47:24.357Z"
   },
   {
    "duration": 190,
    "start_time": "2022-10-06T07:47:35.001Z"
   },
   {
    "duration": 5,
    "start_time": "2022-10-06T08:00:16.258Z"
   },
   {
    "duration": 551,
    "start_time": "2022-10-06T08:00:21.156Z"
   },
   {
    "duration": 8,
    "start_time": "2022-10-06T08:00:49.821Z"
   },
   {
    "duration": 576,
    "start_time": "2022-10-06T08:00:58.357Z"
   },
   {
    "duration": 42,
    "start_time": "2022-10-06T08:00:58.935Z"
   },
   {
    "duration": 11,
    "start_time": "2022-10-06T08:00:58.978Z"
   },
   {
    "duration": 14,
    "start_time": "2022-10-06T08:00:58.991Z"
   },
   {
    "duration": 5,
    "start_time": "2022-10-06T08:00:59.007Z"
   },
   {
    "duration": 11,
    "start_time": "2022-10-06T08:00:59.013Z"
   },
   {
    "duration": 8,
    "start_time": "2022-10-06T08:00:59.025Z"
   },
   {
    "duration": 10,
    "start_time": "2022-10-06T08:00:59.034Z"
   },
   {
    "duration": 8,
    "start_time": "2022-10-06T08:00:59.046Z"
   },
   {
    "duration": 14,
    "start_time": "2022-10-06T08:00:59.055Z"
   },
   {
    "duration": 273,
    "start_time": "2022-10-06T08:00:59.070Z"
   },
   {
    "duration": 8,
    "start_time": "2022-10-06T08:00:59.345Z"
   },
   {
    "duration": 185,
    "start_time": "2022-10-06T08:00:59.354Z"
   },
   {
    "duration": 165,
    "start_time": "2022-10-06T08:02:01.251Z"
   },
   {
    "duration": 6,
    "start_time": "2022-10-06T08:02:25.133Z"
   },
   {
    "duration": 208,
    "start_time": "2022-10-06T08:02:25.893Z"
   },
   {
    "duration": 4,
    "start_time": "2022-10-06T08:03:00.964Z"
   },
   {
    "duration": 223,
    "start_time": "2022-10-06T08:03:01.534Z"
   },
   {
    "duration": 4,
    "start_time": "2022-10-06T08:03:22.838Z"
   },
   {
    "duration": 176,
    "start_time": "2022-10-06T08:03:23.209Z"
   },
   {
    "duration": 5,
    "start_time": "2022-10-06T08:03:27.606Z"
   },
   {
    "duration": 171,
    "start_time": "2022-10-06T08:03:28.144Z"
   },
   {
    "duration": 4,
    "start_time": "2022-10-06T08:03:37.358Z"
   },
   {
    "duration": 172,
    "start_time": "2022-10-06T08:03:37.689Z"
   },
   {
    "duration": 6,
    "start_time": "2022-10-06T08:03:47.876Z"
   },
   {
    "duration": 171,
    "start_time": "2022-10-06T08:03:48.185Z"
   },
   {
    "duration": 493,
    "start_time": "2022-10-06T08:08:15.710Z"
   },
   {
    "duration": 108,
    "start_time": "2022-10-06T08:08:55.064Z"
   },
   {
    "duration": 1041,
    "start_time": "2022-10-06T08:09:58.752Z"
   },
   {
    "duration": 42,
    "start_time": "2022-10-06T08:09:59.795Z"
   },
   {
    "duration": 12,
    "start_time": "2022-10-06T08:09:59.838Z"
   },
   {
    "duration": 12,
    "start_time": "2022-10-06T08:09:59.851Z"
   },
   {
    "duration": 9,
    "start_time": "2022-10-06T08:09:59.866Z"
   },
   {
    "duration": 10,
    "start_time": "2022-10-06T08:09:59.876Z"
   },
   {
    "duration": 10,
    "start_time": "2022-10-06T08:09:59.888Z"
   },
   {
    "duration": 9,
    "start_time": "2022-10-06T08:09:59.900Z"
   },
   {
    "duration": 30,
    "start_time": "2022-10-06T08:09:59.911Z"
   },
   {
    "duration": 16,
    "start_time": "2022-10-06T08:09:59.943Z"
   },
   {
    "duration": 277,
    "start_time": "2022-10-06T08:09:59.961Z"
   },
   {
    "duration": 7,
    "start_time": "2022-10-06T08:10:00.240Z"
   },
   {
    "duration": 28,
    "start_time": "2022-10-06T08:10:00.248Z"
   },
   {
    "duration": 199,
    "start_time": "2022-10-06T08:10:00.278Z"
   },
   {
    "duration": 7,
    "start_time": "2022-10-06T08:10:00.479Z"
   },
   {
    "duration": 146,
    "start_time": "2022-10-06T08:10:20.923Z"
   },
   {
    "duration": 258,
    "start_time": "2022-10-06T08:10:57.823Z"
   },
   {
    "duration": 664,
    "start_time": "2022-10-06T08:12:35.929Z"
   },
   {
    "duration": 5,
    "start_time": "2022-10-06T08:13:51.779Z"
   },
   {
    "duration": 5,
    "start_time": "2022-10-06T08:13:54.492Z"
   },
   {
    "duration": 191,
    "start_time": "2022-10-06T08:13:55.050Z"
   },
   {
    "duration": 4,
    "start_time": "2022-10-06T08:14:02.744Z"
   },
   {
    "duration": 133,
    "start_time": "2022-10-06T08:14:03.226Z"
   },
   {
    "duration": 11,
    "start_time": "2022-10-06T08:14:29.604Z"
   },
   {
    "duration": 4,
    "start_time": "2022-10-06T08:14:55.009Z"
   },
   {
    "duration": 5,
    "start_time": "2022-10-06T08:14:56.456Z"
   },
   {
    "duration": 619,
    "start_time": "2022-10-06T08:15:04.425Z"
   },
   {
    "duration": 15,
    "start_time": "2022-10-06T08:18:16.547Z"
   },
   {
    "duration": 602,
    "start_time": "2022-10-06T08:18:26.264Z"
   },
   {
    "duration": 317,
    "start_time": "2022-10-06T08:18:37.975Z"
   },
   {
    "duration": 693,
    "start_time": "2022-10-06T08:19:04.982Z"
   },
   {
    "duration": 5,
    "start_time": "2022-10-06T08:48:32.054Z"
   },
   {
    "duration": 10,
    "start_time": "2022-10-06T08:49:30.372Z"
   },
   {
    "duration": 4,
    "start_time": "2022-10-06T08:49:31.919Z"
   },
   {
    "duration": 10,
    "start_time": "2022-10-06T08:49:32.257Z"
   },
   {
    "duration": 5,
    "start_time": "2022-10-06T08:49:46.312Z"
   },
   {
    "duration": 7,
    "start_time": "2022-10-06T08:49:46.940Z"
   },
   {
    "duration": 13,
    "start_time": "2022-10-06T08:49:50.912Z"
   },
   {
    "duration": 167,
    "start_time": "2022-10-06T08:50:05.467Z"
   },
   {
    "duration": 1684,
    "start_time": "2022-10-06T08:52:50.668Z"
   },
   {
    "duration": 836,
    "start_time": "2022-10-06T08:52:55.485Z"
   },
   {
    "duration": 3,
    "start_time": "2022-10-06T08:53:26.439Z"
   },
   {
    "duration": 9,
    "start_time": "2022-10-06T08:53:36.985Z"
   },
   {
    "duration": 4,
    "start_time": "2022-10-06T08:53:41.076Z"
   },
   {
    "duration": 5,
    "start_time": "2022-10-06T08:53:51.858Z"
   },
   {
    "duration": 4,
    "start_time": "2022-10-06T08:54:05.540Z"
   },
   {
    "duration": 4,
    "start_time": "2022-10-06T08:56:49.100Z"
   },
   {
    "duration": 5,
    "start_time": "2022-10-06T08:57:01.673Z"
   },
   {
    "duration": 9,
    "start_time": "2022-10-06T08:58:45.035Z"
   },
   {
    "duration": 4,
    "start_time": "2022-10-06T08:58:59.726Z"
   },
   {
    "duration": 12,
    "start_time": "2022-10-06T08:59:09.447Z"
   },
   {
    "duration": 71,
    "start_time": "2022-10-06T09:00:07.880Z"
   },
   {
    "duration": 5,
    "start_time": "2022-10-06T09:00:45.674Z"
   },
   {
    "duration": 5,
    "start_time": "2022-10-06T09:00:58.169Z"
   },
   {
    "duration": 5,
    "start_time": "2022-10-06T09:01:23.527Z"
   },
   {
    "duration": 104,
    "start_time": "2022-10-06T09:01:34.965Z"
   },
   {
    "duration": 12,
    "start_time": "2022-10-06T09:01:45.495Z"
   },
   {
    "duration": 11,
    "start_time": "2022-10-06T09:01:57.828Z"
   },
   {
    "duration": 6,
    "start_time": "2022-10-06T09:02:08.634Z"
   },
   {
    "duration": 7,
    "start_time": "2022-10-06T09:02:12.763Z"
   },
   {
    "duration": 10,
    "start_time": "2022-10-06T09:02:39.017Z"
   },
   {
    "duration": 7,
    "start_time": "2022-10-06T09:03:02.218Z"
   },
   {
    "duration": 7,
    "start_time": "2022-10-06T09:03:06.822Z"
   },
   {
    "duration": 15,
    "start_time": "2022-10-06T09:04:19.198Z"
   },
   {
    "duration": 10,
    "start_time": "2022-10-06T09:04:31.820Z"
   },
   {
    "duration": 4,
    "start_time": "2022-10-06T09:05:11.174Z"
   },
   {
    "duration": 10,
    "start_time": "2022-10-06T09:05:15.412Z"
   },
   {
    "duration": 9,
    "start_time": "2022-10-06T09:05:40.862Z"
   },
   {
    "duration": 97,
    "start_time": "2022-10-06T09:06:26.610Z"
   },
   {
    "duration": 93,
    "start_time": "2022-10-06T09:06:31.282Z"
   },
   {
    "duration": 10,
    "start_time": "2022-10-06T09:13:45.863Z"
   },
   {
    "duration": 190,
    "start_time": "2022-10-06T09:13:53.218Z"
   },
   {
    "duration": 255,
    "start_time": "2022-10-06T09:14:09.877Z"
   },
   {
    "duration": 13,
    "start_time": "2022-10-06T09:14:38.790Z"
   },
   {
    "duration": 181,
    "start_time": "2022-10-06T09:18:15.756Z"
   },
   {
    "duration": 8,
    "start_time": "2022-10-06T11:01:09.222Z"
   },
   {
    "duration": 15,
    "start_time": "2022-10-06T11:01:21.622Z"
   },
   {
    "duration": 10,
    "start_time": "2022-10-06T11:01:54.421Z"
   },
   {
    "duration": 9,
    "start_time": "2022-10-06T11:02:18.361Z"
   },
   {
    "duration": 18,
    "start_time": "2022-10-06T11:02:21.504Z"
   },
   {
    "duration": 9,
    "start_time": "2022-10-06T11:09:21.092Z"
   },
   {
    "duration": 280,
    "start_time": "2022-10-06T11:09:44.318Z"
   },
   {
    "duration": 4,
    "start_time": "2022-10-06T11:09:48.898Z"
   },
   {
    "duration": 3,
    "start_time": "2022-10-06T11:10:11.344Z"
   },
   {
    "duration": 4,
    "start_time": "2022-10-06T11:10:51.129Z"
   },
   {
    "duration": 4,
    "start_time": "2022-10-06T11:11:01.476Z"
   },
   {
    "duration": 3,
    "start_time": "2022-10-06T11:11:02.419Z"
   },
   {
    "duration": 4,
    "start_time": "2022-10-06T11:11:31.969Z"
   },
   {
    "duration": 1332,
    "start_time": "2022-10-06T11:12:11.399Z"
   },
   {
    "duration": 48,
    "start_time": "2022-10-06T11:12:12.734Z"
   },
   {
    "duration": 15,
    "start_time": "2022-10-06T11:12:12.784Z"
   },
   {
    "duration": 10,
    "start_time": "2022-10-06T11:12:12.801Z"
   },
   {
    "duration": 9,
    "start_time": "2022-10-06T11:12:12.814Z"
   },
   {
    "duration": 10,
    "start_time": "2022-10-06T11:12:12.825Z"
   },
   {
    "duration": 8,
    "start_time": "2022-10-06T11:12:12.837Z"
   },
   {
    "duration": 7,
    "start_time": "2022-10-06T11:12:12.847Z"
   },
   {
    "duration": 5,
    "start_time": "2022-10-06T11:12:12.855Z"
   },
   {
    "duration": 17,
    "start_time": "2022-10-06T11:12:12.862Z"
   },
   {
    "duration": 297,
    "start_time": "2022-10-06T11:12:12.881Z"
   },
   {
    "duration": 8,
    "start_time": "2022-10-06T11:12:13.180Z"
   },
   {
    "duration": 20,
    "start_time": "2022-10-06T11:12:13.189Z"
   },
   {
    "duration": 153,
    "start_time": "2022-10-06T11:12:13.212Z"
   },
   {
    "duration": 4,
    "start_time": "2022-10-06T11:12:13.366Z"
   },
   {
    "duration": 9,
    "start_time": "2022-10-06T11:12:13.371Z"
   },
   {
    "duration": 672,
    "start_time": "2022-10-06T11:12:13.381Z"
   },
   {
    "duration": 4,
    "start_time": "2022-10-06T11:12:14.055Z"
   },
   {
    "duration": 8,
    "start_time": "2022-10-06T11:12:14.061Z"
   },
   {
    "duration": 241,
    "start_time": "2022-10-06T11:12:14.070Z"
   },
   {
    "duration": 8,
    "start_time": "2022-10-06T11:12:14.313Z"
   },
   {
    "duration": 6,
    "start_time": "2022-10-06T11:12:14.322Z"
   },
   {
    "duration": 5,
    "start_time": "2022-10-06T11:12:14.330Z"
   },
   {
    "duration": 10,
    "start_time": "2022-10-06T11:12:14.336Z"
   },
   {
    "duration": 9,
    "start_time": "2022-10-06T11:12:36.238Z"
   },
   {
    "duration": 53,
    "start_time": "2022-10-06T11:13:57.608Z"
   },
   {
    "duration": 4,
    "start_time": "2022-10-06T11:14:01.409Z"
   },
   {
    "duration": 120,
    "start_time": "2022-10-06T11:14:31.718Z"
   },
   {
    "duration": 8,
    "start_time": "2022-10-06T11:14:53.423Z"
   },
   {
    "duration": 4,
    "start_time": "2022-10-06T11:15:06.479Z"
   },
   {
    "duration": 4,
    "start_time": "2022-10-06T11:15:30.419Z"
   },
   {
    "duration": 4,
    "start_time": "2022-10-06T11:15:35.664Z"
   },
   {
    "duration": 4,
    "start_time": "2022-10-06T11:15:41.522Z"
   },
   {
    "duration": 4,
    "start_time": "2022-10-06T11:16:03.811Z"
   },
   {
    "duration": 74,
    "start_time": "2022-10-06T11:17:17.372Z"
   },
   {
    "duration": 29,
    "start_time": "2022-10-06T11:17:38.524Z"
   },
   {
    "duration": 3,
    "start_time": "2022-10-06T11:17:53.591Z"
   },
   {
    "duration": 8,
    "start_time": "2022-10-06T11:18:15.826Z"
   },
   {
    "duration": 2,
    "start_time": "2022-10-06T11:18:19.484Z"
   },
   {
    "duration": 8,
    "start_time": "2022-10-06T11:18:53.919Z"
   },
   {
    "duration": 1463,
    "start_time": "2022-10-06T11:21:21.927Z"
   },
   {
    "duration": 42,
    "start_time": "2022-10-06T11:21:23.392Z"
   },
   {
    "duration": 11,
    "start_time": "2022-10-06T11:21:23.435Z"
   },
   {
    "duration": 12,
    "start_time": "2022-10-06T11:21:23.448Z"
   },
   {
    "duration": 4,
    "start_time": "2022-10-06T11:21:23.462Z"
   },
   {
    "duration": 6,
    "start_time": "2022-10-06T11:21:23.468Z"
   },
   {
    "duration": 6,
    "start_time": "2022-10-06T11:21:23.476Z"
   },
   {
    "duration": 6,
    "start_time": "2022-10-06T11:21:23.483Z"
   },
   {
    "duration": 6,
    "start_time": "2022-10-06T11:21:23.509Z"
   },
   {
    "duration": 12,
    "start_time": "2022-10-06T11:21:23.517Z"
   },
   {
    "duration": 285,
    "start_time": "2022-10-06T11:21:23.530Z"
   },
   {
    "duration": 8,
    "start_time": "2022-10-06T11:21:23.817Z"
   },
   {
    "duration": 6,
    "start_time": "2022-10-06T11:21:23.827Z"
   },
   {
    "duration": 151,
    "start_time": "2022-10-06T11:21:23.836Z"
   },
   {
    "duration": 4,
    "start_time": "2022-10-06T11:21:23.989Z"
   },
   {
    "duration": 16,
    "start_time": "2022-10-06T11:21:23.994Z"
   },
   {
    "duration": 682,
    "start_time": "2022-10-06T11:21:24.011Z"
   },
   {
    "duration": 5,
    "start_time": "2022-10-06T11:21:24.694Z"
   },
   {
    "duration": 11,
    "start_time": "2022-10-06T11:21:24.701Z"
   },
   {
    "duration": 226,
    "start_time": "2022-10-06T11:21:24.713Z"
   },
   {
    "duration": 9,
    "start_time": "2022-10-06T11:21:24.941Z"
   },
   {
    "duration": 6,
    "start_time": "2022-10-06T11:21:24.951Z"
   },
   {
    "duration": 5,
    "start_time": "2022-10-06T11:21:24.959Z"
   },
   {
    "duration": 9,
    "start_time": "2022-10-06T11:21:24.965Z"
   },
   {
    "duration": 134,
    "start_time": "2022-10-06T11:21:24.976Z"
   },
   {
    "duration": 1422,
    "start_time": "2022-10-07T05:08:19.063Z"
   },
   {
    "duration": 108,
    "start_time": "2022-10-07T05:08:20.487Z"
   },
   {
    "duration": 13,
    "start_time": "2022-10-07T05:08:20.596Z"
   },
   {
    "duration": 12,
    "start_time": "2022-10-07T05:08:20.610Z"
   },
   {
    "duration": 7,
    "start_time": "2022-10-07T05:08:20.625Z"
   },
   {
    "duration": 8,
    "start_time": "2022-10-07T05:08:20.633Z"
   },
   {
    "duration": 11,
    "start_time": "2022-10-07T05:08:20.642Z"
   },
   {
    "duration": 10,
    "start_time": "2022-10-07T05:08:20.654Z"
   },
   {
    "duration": 5,
    "start_time": "2022-10-07T05:08:20.666Z"
   },
   {
    "duration": 13,
    "start_time": "2022-10-07T05:08:20.672Z"
   },
   {
    "duration": 269,
    "start_time": "2022-10-07T05:08:20.687Z"
   },
   {
    "duration": 8,
    "start_time": "2022-10-07T05:08:20.957Z"
   },
   {
    "duration": 5,
    "start_time": "2022-10-07T05:08:20.966Z"
   },
   {
    "duration": 210,
    "start_time": "2022-10-07T05:08:20.974Z"
   },
   {
    "duration": 3,
    "start_time": "2022-10-07T05:08:21.186Z"
   },
   {
    "duration": 9,
    "start_time": "2022-10-07T05:08:21.190Z"
   },
   {
    "duration": 712,
    "start_time": "2022-10-07T05:08:21.200Z"
   },
   {
    "duration": 5,
    "start_time": "2022-10-07T05:08:21.913Z"
   },
   {
    "duration": 8,
    "start_time": "2022-10-07T05:08:21.919Z"
   },
   {
    "duration": 197,
    "start_time": "2022-10-07T05:08:21.928Z"
   },
   {
    "duration": 8,
    "start_time": "2022-10-07T05:08:22.127Z"
   },
   {
    "duration": 4,
    "start_time": "2022-10-07T05:08:22.137Z"
   },
   {
    "duration": 4,
    "start_time": "2022-10-07T05:08:22.143Z"
   },
   {
    "duration": 6,
    "start_time": "2022-10-07T05:08:22.149Z"
   },
   {
    "duration": 4,
    "start_time": "2022-10-07T05:08:22.156Z"
   },
   {
    "duration": 4,
    "start_time": "2022-10-07T05:11:57.804Z"
   },
   {
    "duration": 114,
    "start_time": "2022-10-07T05:11:58.134Z"
   },
   {
    "duration": 5,
    "start_time": "2022-10-07T05:12:12.525Z"
   },
   {
    "duration": 6,
    "start_time": "2022-10-07T05:12:13.035Z"
   },
   {
    "duration": 161,
    "start_time": "2022-10-07T05:12:14.253Z"
   },
   {
    "duration": 8,
    "start_time": "2022-10-07T05:12:32.246Z"
   },
   {
    "duration": 8,
    "start_time": "2022-10-07T05:12:42.536Z"
   },
   {
    "duration": 11,
    "start_time": "2022-10-07T05:34:16.481Z"
   },
   {
    "duration": 1292,
    "start_time": "2022-10-07T05:36:19.932Z"
   },
   {
    "duration": 43,
    "start_time": "2022-10-07T05:36:21.226Z"
   },
   {
    "duration": 13,
    "start_time": "2022-10-07T05:36:21.270Z"
   },
   {
    "duration": 8,
    "start_time": "2022-10-07T05:36:21.285Z"
   },
   {
    "duration": 11,
    "start_time": "2022-10-07T05:36:21.295Z"
   },
   {
    "duration": 10,
    "start_time": "2022-10-07T05:36:21.308Z"
   },
   {
    "duration": 10,
    "start_time": "2022-10-07T05:36:21.319Z"
   },
   {
    "duration": 9,
    "start_time": "2022-10-07T05:36:21.330Z"
   },
   {
    "duration": 4,
    "start_time": "2022-10-07T05:36:21.341Z"
   },
   {
    "duration": 10,
    "start_time": "2022-10-07T05:36:21.347Z"
   },
   {
    "duration": 260,
    "start_time": "2022-10-07T05:36:21.359Z"
   },
   {
    "duration": 8,
    "start_time": "2022-10-07T05:36:21.620Z"
   },
   {
    "duration": 5,
    "start_time": "2022-10-07T05:36:21.630Z"
   },
   {
    "duration": 208,
    "start_time": "2022-10-07T05:36:21.636Z"
   },
   {
    "duration": 3,
    "start_time": "2022-10-07T05:36:21.846Z"
   },
   {
    "duration": 113,
    "start_time": "2022-10-07T05:36:21.850Z"
   },
   {
    "duration": 0,
    "start_time": "2022-10-07T05:36:21.964Z"
   },
   {
    "duration": 0,
    "start_time": "2022-10-07T05:36:21.966Z"
   },
   {
    "duration": 0,
    "start_time": "2022-10-07T05:36:21.967Z"
   },
   {
    "duration": 0,
    "start_time": "2022-10-07T05:36:21.968Z"
   },
   {
    "duration": 0,
    "start_time": "2022-10-07T05:36:21.969Z"
   },
   {
    "duration": 0,
    "start_time": "2022-10-07T05:36:21.970Z"
   },
   {
    "duration": 0,
    "start_time": "2022-10-07T05:36:21.971Z"
   },
   {
    "duration": 0,
    "start_time": "2022-10-07T05:36:21.972Z"
   },
   {
    "duration": 0,
    "start_time": "2022-10-07T05:36:21.973Z"
   },
   {
    "duration": 0,
    "start_time": "2022-10-07T05:36:21.974Z"
   },
   {
    "duration": 7,
    "start_time": "2022-10-07T05:36:32.997Z"
   },
   {
    "duration": 722,
    "start_time": "2022-10-07T05:36:33.903Z"
   },
   {
    "duration": 10,
    "start_time": "2022-10-07T05:36:36.321Z"
   },
   {
    "duration": 5,
    "start_time": "2022-10-07T05:36:41.104Z"
   },
   {
    "duration": 7,
    "start_time": "2022-10-07T05:36:41.848Z"
   },
   {
    "duration": 150,
    "start_time": "2022-10-07T05:36:42.274Z"
   },
   {
    "duration": 4,
    "start_time": "2022-10-07T05:36:46.263Z"
   },
   {
    "duration": 3,
    "start_time": "2022-10-07T05:36:46.817Z"
   },
   {
    "duration": 4,
    "start_time": "2022-10-07T05:36:47.420Z"
   },
   {
    "duration": 9,
    "start_time": "2022-10-07T05:36:48.004Z"
   },
   {
    "duration": 3,
    "start_time": "2022-10-07T05:36:48.774Z"
   },
   {
    "duration": 3,
    "start_time": "2022-10-07T05:38:12.290Z"
   },
   {
    "duration": 8,
    "start_time": "2022-10-07T05:38:49.381Z"
   },
   {
    "duration": 14,
    "start_time": "2022-10-07T05:39:23.232Z"
   },
   {
    "duration": 5,
    "start_time": "2022-10-07T05:39:49.926Z"
   },
   {
    "duration": 6,
    "start_time": "2022-10-07T05:40:01.020Z"
   },
   {
    "duration": 3,
    "start_time": "2022-10-07T05:45:24.747Z"
   },
   {
    "duration": 5,
    "start_time": "2022-10-07T05:45:32.374Z"
   },
   {
    "duration": 5,
    "start_time": "2022-10-07T05:46:30.769Z"
   },
   {
    "duration": 66,
    "start_time": "2022-10-07T05:46:37.140Z"
   },
   {
    "duration": 1864,
    "start_time": "2022-10-11T06:28:40.366Z"
   },
   {
    "duration": 289,
    "start_time": "2022-10-11T06:28:42.233Z"
   },
   {
    "duration": 15,
    "start_time": "2022-10-11T06:28:42.524Z"
   },
   {
    "duration": 14,
    "start_time": "2022-10-11T06:28:42.541Z"
   },
   {
    "duration": 8,
    "start_time": "2022-10-11T06:28:42.557Z"
   },
   {
    "duration": 7,
    "start_time": "2022-10-11T06:28:42.566Z"
   },
   {
    "duration": 5,
    "start_time": "2022-10-11T06:28:42.575Z"
   },
   {
    "duration": 8,
    "start_time": "2022-10-11T06:28:42.582Z"
   },
   {
    "duration": 12,
    "start_time": "2022-10-11T06:28:42.591Z"
   },
   {
    "duration": 15,
    "start_time": "2022-10-11T06:28:42.604Z"
   },
   {
    "duration": 309,
    "start_time": "2022-10-11T06:28:42.621Z"
   },
   {
    "duration": 12,
    "start_time": "2022-10-11T06:28:42.932Z"
   },
   {
    "duration": 6,
    "start_time": "2022-10-11T06:28:42.945Z"
   },
   {
    "duration": 231,
    "start_time": "2022-10-11T06:28:42.954Z"
   },
   {
    "duration": 3,
    "start_time": "2022-10-11T06:28:43.187Z"
   },
   {
    "duration": 18,
    "start_time": "2022-10-11T06:28:43.192Z"
   },
   {
    "duration": 870,
    "start_time": "2022-10-11T06:28:43.212Z"
   },
   {
    "duration": 7,
    "start_time": "2022-10-11T06:28:44.084Z"
   },
   {
    "duration": 30,
    "start_time": "2022-10-11T06:28:44.093Z"
   },
   {
    "duration": 181,
    "start_time": "2022-10-11T06:28:44.125Z"
   },
   {
    "duration": 3,
    "start_time": "2022-10-11T06:28:44.309Z"
   },
   {
    "duration": 12,
    "start_time": "2022-10-11T06:28:44.314Z"
   },
   {
    "duration": 8,
    "start_time": "2022-10-11T06:28:44.328Z"
   },
   {
    "duration": 10,
    "start_time": "2022-10-11T06:28:44.338Z"
   },
   {
    "duration": 9,
    "start_time": "2022-10-11T06:28:44.350Z"
   },
   {
    "duration": 6,
    "start_time": "2022-10-11T06:28:44.361Z"
   },
   {
    "duration": 220,
    "start_time": "2022-10-11T06:28:44.368Z"
   },
   {
    "duration": 4,
    "start_time": "2022-10-11T06:30:26.795Z"
   },
   {
    "duration": 12,
    "start_time": "2022-10-11T06:30:27.524Z"
   },
   {
    "duration": 4,
    "start_time": "2022-10-11T06:30:54.503Z"
   },
   {
    "duration": 9,
    "start_time": "2022-10-11T06:30:54.985Z"
   },
   {
    "duration": 6,
    "start_time": "2022-10-11T06:30:59.024Z"
   },
   {
    "duration": 108,
    "start_time": "2022-10-11T06:30:59.993Z"
   },
   {
    "duration": 7,
    "start_time": "2022-10-11T06:31:38.084Z"
   },
   {
    "duration": 12,
    "start_time": "2022-10-11T06:31:57.364Z"
   },
   {
    "duration": 8,
    "start_time": "2022-10-11T06:32:08.317Z"
   },
   {
    "duration": 11,
    "start_time": "2022-10-11T06:32:14.929Z"
   },
   {
    "duration": 23,
    "start_time": "2022-10-11T06:32:59.941Z"
   },
   {
    "duration": 1487,
    "start_time": "2022-10-11T06:33:58.267Z"
   },
   {
    "duration": 45,
    "start_time": "2022-10-11T06:33:59.757Z"
   },
   {
    "duration": 15,
    "start_time": "2022-10-11T06:33:59.804Z"
   },
   {
    "duration": 12,
    "start_time": "2022-10-11T06:33:59.821Z"
   },
   {
    "duration": 10,
    "start_time": "2022-10-11T06:33:59.836Z"
   },
   {
    "duration": 12,
    "start_time": "2022-10-11T06:33:59.847Z"
   },
   {
    "duration": 31,
    "start_time": "2022-10-11T06:33:59.861Z"
   },
   {
    "duration": 10,
    "start_time": "2022-10-11T06:33:59.894Z"
   },
   {
    "duration": 6,
    "start_time": "2022-10-11T06:33:59.905Z"
   },
   {
    "duration": 32,
    "start_time": "2022-10-11T06:33:59.913Z"
   },
   {
    "duration": 309,
    "start_time": "2022-10-11T06:33:59.947Z"
   },
   {
    "duration": 11,
    "start_time": "2022-10-11T06:34:00.259Z"
   },
   {
    "duration": 19,
    "start_time": "2022-10-11T06:34:00.272Z"
   },
   {
    "duration": 266,
    "start_time": "2022-10-11T06:34:00.295Z"
   },
   {
    "duration": 4,
    "start_time": "2022-10-11T06:34:00.563Z"
   },
   {
    "duration": 27,
    "start_time": "2022-10-11T06:34:00.568Z"
   },
   {
    "duration": 837,
    "start_time": "2022-10-11T06:34:00.597Z"
   },
   {
    "duration": 5,
    "start_time": "2022-10-11T06:34:01.436Z"
   },
   {
    "duration": 14,
    "start_time": "2022-10-11T06:34:01.442Z"
   },
   {
    "duration": 199,
    "start_time": "2022-10-11T06:34:01.458Z"
   },
   {
    "duration": 5,
    "start_time": "2022-10-11T06:34:01.659Z"
   },
   {
    "duration": 26,
    "start_time": "2022-10-11T06:34:01.666Z"
   },
   {
    "duration": 10,
    "start_time": "2022-10-11T06:34:01.694Z"
   },
   {
    "duration": 13,
    "start_time": "2022-10-11T06:34:01.706Z"
   },
   {
    "duration": 9,
    "start_time": "2022-10-11T06:34:01.721Z"
   },
   {
    "duration": 32,
    "start_time": "2022-10-11T06:34:01.731Z"
   },
   {
    "duration": 19,
    "start_time": "2022-10-11T06:34:01.765Z"
   },
   {
    "duration": 156,
    "start_time": "2022-10-11T06:34:01.786Z"
   },
   {
    "duration": 13,
    "start_time": "2022-10-11T06:34:42.360Z"
   },
   {
    "duration": 11,
    "start_time": "2022-10-11T06:35:00.921Z"
   },
   {
    "duration": 5,
    "start_time": "2022-10-11T06:35:01.437Z"
   },
   {
    "duration": 12,
    "start_time": "2022-10-11T06:35:02.465Z"
   },
   {
    "duration": 7,
    "start_time": "2022-10-11T06:35:05.914Z"
   },
   {
    "duration": 11,
    "start_time": "2022-10-11T06:35:06.592Z"
   },
   {
    "duration": 10,
    "start_time": "2022-10-11T06:35:37.861Z"
   },
   {
    "duration": 12,
    "start_time": "2022-10-11T06:35:41.713Z"
   },
   {
    "duration": 13,
    "start_time": "2022-10-11T06:36:01.374Z"
   },
   {
    "duration": 9,
    "start_time": "2022-10-11T06:36:13.726Z"
   },
   {
    "duration": 63,
    "start_time": "2022-10-11T06:37:06.378Z"
   },
   {
    "duration": 4,
    "start_time": "2022-10-11T06:37:11.773Z"
   },
   {
    "duration": 11,
    "start_time": "2022-10-11T06:37:44.021Z"
   },
   {
    "duration": 3386,
    "start_time": "2022-10-11T06:38:12.498Z"
   },
   {
    "duration": 12,
    "start_time": "2022-10-11T06:38:50.977Z"
   },
   {
    "duration": 13,
    "start_time": "2022-10-11T06:39:24.977Z"
   },
   {
    "duration": 12,
    "start_time": "2022-10-11T06:39:33.528Z"
   },
   {
    "duration": 1475,
    "start_time": "2022-10-11T06:39:47.691Z"
   },
   {
    "duration": 3788,
    "start_time": "2022-10-11T06:40:07.283Z"
   },
   {
    "duration": 3780,
    "start_time": "2022-10-11T06:40:14.210Z"
   },
   {
    "duration": 3526,
    "start_time": "2022-10-11T06:40:39.590Z"
   },
   {
    "duration": 11,
    "start_time": "2022-10-11T06:41:32.755Z"
   },
   {
    "duration": 3,
    "start_time": "2022-10-11T06:41:43.209Z"
   },
   {
    "duration": 12,
    "start_time": "2022-10-11T06:41:51.999Z"
   },
   {
    "duration": 100,
    "start_time": "2022-10-11T06:42:08.713Z"
   },
   {
    "duration": 93,
    "start_time": "2022-10-11T06:42:14.635Z"
   },
   {
    "duration": 88,
    "start_time": "2022-10-11T06:42:23.007Z"
   },
   {
    "duration": 4,
    "start_time": "2022-10-11T06:42:35.902Z"
   },
   {
    "duration": 9,
    "start_time": "2022-10-11T06:42:38.348Z"
   },
   {
    "duration": 5,
    "start_time": "2022-10-11T06:43:04.392Z"
   },
   {
    "duration": 12,
    "start_time": "2022-10-11T06:43:05.473Z"
   },
   {
    "duration": 13,
    "start_time": "2022-10-11T06:43:14.104Z"
   },
   {
    "duration": 30,
    "start_time": "2022-10-11T06:45:03.408Z"
   },
   {
    "duration": 1692,
    "start_time": "2022-10-13T05:13:14.676Z"
   },
   {
    "duration": 159,
    "start_time": "2022-10-13T05:13:16.370Z"
   },
   {
    "duration": 13,
    "start_time": "2022-10-13T05:13:16.531Z"
   },
   {
    "duration": 9,
    "start_time": "2022-10-13T05:13:16.546Z"
   },
   {
    "duration": 8,
    "start_time": "2022-10-13T05:13:16.557Z"
   },
   {
    "duration": 12,
    "start_time": "2022-10-13T05:13:16.566Z"
   },
   {
    "duration": 6,
    "start_time": "2022-10-13T05:13:16.580Z"
   },
   {
    "duration": 7,
    "start_time": "2022-10-13T05:13:16.588Z"
   },
   {
    "duration": 8,
    "start_time": "2022-10-13T05:13:16.597Z"
   },
   {
    "duration": 14,
    "start_time": "2022-10-13T05:13:16.607Z"
   },
   {
    "duration": 335,
    "start_time": "2022-10-13T05:13:16.623Z"
   },
   {
    "duration": 10,
    "start_time": "2022-10-13T05:13:16.960Z"
   },
   {
    "duration": 10,
    "start_time": "2022-10-13T05:13:16.972Z"
   },
   {
    "duration": 249,
    "start_time": "2022-10-13T05:13:16.984Z"
   },
   {
    "duration": 4,
    "start_time": "2022-10-13T05:13:17.236Z"
   },
   {
    "duration": 17,
    "start_time": "2022-10-13T05:13:17.242Z"
   },
   {
    "duration": 849,
    "start_time": "2022-10-13T05:13:17.261Z"
   },
   {
    "duration": 6,
    "start_time": "2022-10-13T05:13:18.112Z"
   },
   {
    "duration": 13,
    "start_time": "2022-10-13T05:13:18.121Z"
   },
   {
    "duration": 194,
    "start_time": "2022-10-13T05:13:18.136Z"
   },
   {
    "duration": 4,
    "start_time": "2022-10-13T05:13:18.332Z"
   },
   {
    "duration": 25,
    "start_time": "2022-10-13T05:13:18.338Z"
   },
   {
    "duration": 4,
    "start_time": "2022-10-13T05:13:18.365Z"
   },
   {
    "duration": 6,
    "start_time": "2022-10-13T05:13:18.371Z"
   },
   {
    "duration": 13,
    "start_time": "2022-10-13T05:13:18.379Z"
   },
   {
    "duration": 19,
    "start_time": "2022-10-13T05:13:18.394Z"
   },
   {
    "duration": 21,
    "start_time": "2022-10-13T05:13:18.415Z"
   },
   {
    "duration": 8,
    "start_time": "2022-10-13T05:13:18.457Z"
   },
   {
    "duration": 16,
    "start_time": "2022-10-13T05:13:18.467Z"
   },
   {
    "duration": 79,
    "start_time": "2022-10-13T05:13:18.485Z"
   },
   {
    "duration": 11,
    "start_time": "2022-10-13T05:13:18.566Z"
   },
   {
    "duration": 3497,
    "start_time": "2022-10-13T05:13:18.579Z"
   },
   {
    "duration": 4,
    "start_time": "2022-10-13T05:13:22.078Z"
   },
   {
    "duration": 11,
    "start_time": "2022-10-13T05:13:22.084Z"
   },
   {
    "duration": 11,
    "start_time": "2022-10-13T05:13:33.621Z"
   },
   {
    "duration": 40,
    "start_time": "2022-10-13T05:13:34.262Z"
   },
   {
    "duration": 1061,
    "start_time": "2022-10-13T05:14:27.946Z"
   },
   {
    "duration": 124,
    "start_time": "2022-10-13T05:15:05.864Z"
   },
   {
    "duration": 6,
    "start_time": "2022-10-13T05:15:58.385Z"
   },
   {
    "duration": 46,
    "start_time": "2022-10-13T05:16:02.966Z"
   },
   {
    "duration": 5,
    "start_time": "2022-10-13T05:18:35.283Z"
   },
   {
    "duration": 9,
    "start_time": "2022-10-13T05:18:36.683Z"
   },
   {
    "duration": 11,
    "start_time": "2022-10-13T05:18:56.005Z"
   },
   {
    "duration": 5,
    "start_time": "2022-10-13T05:19:08.927Z"
   },
   {
    "duration": 5,
    "start_time": "2022-10-13T05:19:22.277Z"
   },
   {
    "duration": 9,
    "start_time": "2022-10-13T05:19:22.676Z"
   },
   {
    "duration": 6,
    "start_time": "2022-10-13T05:19:30.503Z"
   },
   {
    "duration": 9,
    "start_time": "2022-10-13T05:19:31.514Z"
   },
   {
    "duration": 6,
    "start_time": "2022-10-13T05:19:54.016Z"
   },
   {
    "duration": 11,
    "start_time": "2022-10-13T05:19:54.370Z"
   },
   {
    "duration": 11,
    "start_time": "2022-10-13T05:29:17.615Z"
   },
   {
    "duration": 3,
    "start_time": "2022-10-13T05:30:25.387Z"
   },
   {
    "duration": 200,
    "start_time": "2022-10-13T05:32:19.935Z"
   },
   {
    "duration": 117,
    "start_time": "2022-10-13T05:32:37.776Z"
   },
   {
    "duration": 129,
    "start_time": "2022-10-13T05:32:42.698Z"
   },
   {
    "duration": 120,
    "start_time": "2022-10-13T05:33:15.238Z"
   },
   {
    "duration": 1770,
    "start_time": "2022-10-13T05:33:29.035Z"
   },
   {
    "duration": 405,
    "start_time": "2022-10-13T05:33:42.470Z"
   },
   {
    "duration": 3637,
    "start_time": "2022-10-13T05:33:51.913Z"
   },
   {
    "duration": 3484,
    "start_time": "2022-10-13T05:34:01.830Z"
   },
   {
    "duration": 3526,
    "start_time": "2022-10-13T05:34:36.082Z"
   },
   {
    "duration": 3529,
    "start_time": "2022-10-13T05:34:43.922Z"
   },
   {
    "duration": 1827,
    "start_time": "2022-10-13T05:34:53.096Z"
   },
   {
    "duration": 36,
    "start_time": "2022-10-13T05:34:54.927Z"
   },
   {
    "duration": 19,
    "start_time": "2022-10-13T05:34:54.965Z"
   },
   {
    "duration": 27,
    "start_time": "2022-10-13T05:34:54.987Z"
   },
   {
    "duration": 15,
    "start_time": "2022-10-13T05:34:55.016Z"
   },
   {
    "duration": 11,
    "start_time": "2022-10-13T05:34:55.034Z"
   },
   {
    "duration": 5,
    "start_time": "2022-10-13T05:34:55.054Z"
   },
   {
    "duration": 33,
    "start_time": "2022-10-13T05:34:55.061Z"
   },
   {
    "duration": 12,
    "start_time": "2022-10-13T05:34:55.096Z"
   },
   {
    "duration": 15,
    "start_time": "2022-10-13T05:34:55.110Z"
   },
   {
    "duration": 458,
    "start_time": "2022-10-13T05:34:55.127Z"
   },
   {
    "duration": 12,
    "start_time": "2022-10-13T05:34:55.588Z"
   },
   {
    "duration": 14,
    "start_time": "2022-10-13T05:34:55.603Z"
   },
   {
    "duration": 274,
    "start_time": "2022-10-13T05:34:55.619Z"
   },
   {
    "duration": 8,
    "start_time": "2022-10-13T05:34:55.896Z"
   },
   {
    "duration": 20,
    "start_time": "2022-10-13T05:34:55.906Z"
   },
   {
    "duration": 1044,
    "start_time": "2022-10-13T05:34:55.929Z"
   },
   {
    "duration": 7,
    "start_time": "2022-10-13T05:34:56.978Z"
   },
   {
    "duration": 13,
    "start_time": "2022-10-13T05:34:56.988Z"
   },
   {
    "duration": 270,
    "start_time": "2022-10-13T05:34:57.004Z"
   },
   {
    "duration": 6,
    "start_time": "2022-10-13T05:34:57.277Z"
   },
   {
    "duration": 15,
    "start_time": "2022-10-13T05:34:57.285Z"
   },
   {
    "duration": 7,
    "start_time": "2022-10-13T05:34:57.302Z"
   },
   {
    "duration": 6,
    "start_time": "2022-10-13T05:34:57.311Z"
   },
   {
    "duration": 45,
    "start_time": "2022-10-13T05:34:57.319Z"
   },
   {
    "duration": 7,
    "start_time": "2022-10-13T05:34:57.366Z"
   },
   {
    "duration": 21,
    "start_time": "2022-10-13T05:34:57.375Z"
   },
   {
    "duration": 8,
    "start_time": "2022-10-13T05:34:57.398Z"
   },
   {
    "duration": 7,
    "start_time": "2022-10-13T05:34:57.408Z"
   },
   {
    "duration": 38,
    "start_time": "2022-10-13T05:34:57.416Z"
   },
   {
    "duration": 3701,
    "start_time": "2022-10-13T05:34:57.457Z"
   },
   {
    "duration": 1161,
    "start_time": "2022-10-13T05:35:01.161Z"
   },
   {
    "duration": 52,
    "start_time": "2022-10-13T05:35:02.325Z"
   },
   {
    "duration": 4596,
    "start_time": "2022-10-13T05:35:02.379Z"
   },
   {
    "duration": 7,
    "start_time": "2022-10-13T05:35:06.976Z"
   },
   {
    "duration": 16,
    "start_time": "2022-10-13T05:35:06.985Z"
   },
   {
    "duration": 1552,
    "start_time": "2022-10-13T05:35:18.825Z"
   },
   {
    "duration": 32,
    "start_time": "2022-10-13T05:35:20.379Z"
   },
   {
    "duration": 14,
    "start_time": "2022-10-13T05:35:20.413Z"
   },
   {
    "duration": 15,
    "start_time": "2022-10-13T05:35:20.429Z"
   },
   {
    "duration": 11,
    "start_time": "2022-10-13T05:35:20.446Z"
   },
   {
    "duration": 9,
    "start_time": "2022-10-13T05:35:20.458Z"
   },
   {
    "duration": 9,
    "start_time": "2022-10-13T05:35:20.469Z"
   },
   {
    "duration": 11,
    "start_time": "2022-10-13T05:35:20.480Z"
   },
   {
    "duration": 12,
    "start_time": "2022-10-13T05:35:20.493Z"
   },
   {
    "duration": 16,
    "start_time": "2022-10-13T05:35:20.508Z"
   },
   {
    "duration": 332,
    "start_time": "2022-10-13T05:35:20.526Z"
   },
   {
    "duration": 10,
    "start_time": "2022-10-13T05:35:20.860Z"
   },
   {
    "duration": 6,
    "start_time": "2022-10-13T05:35:20.872Z"
   },
   {
    "duration": 253,
    "start_time": "2022-10-13T05:35:20.880Z"
   },
   {
    "duration": 4,
    "start_time": "2022-10-13T05:35:21.135Z"
   },
   {
    "duration": 14,
    "start_time": "2022-10-13T05:35:21.141Z"
   },
   {
    "duration": 923,
    "start_time": "2022-10-13T05:35:21.157Z"
   },
   {
    "duration": 7,
    "start_time": "2022-10-13T05:35:22.081Z"
   },
   {
    "duration": 12,
    "start_time": "2022-10-13T05:35:22.089Z"
   },
   {
    "duration": 191,
    "start_time": "2022-10-13T05:35:22.103Z"
   },
   {
    "duration": 4,
    "start_time": "2022-10-13T05:35:22.296Z"
   },
   {
    "duration": 31,
    "start_time": "2022-10-13T05:35:22.303Z"
   },
   {
    "duration": 6,
    "start_time": "2022-10-13T05:35:22.337Z"
   },
   {
    "duration": 12,
    "start_time": "2022-10-13T05:35:22.346Z"
   },
   {
    "duration": 18,
    "start_time": "2022-10-13T05:35:22.360Z"
   },
   {
    "duration": 5,
    "start_time": "2022-10-13T05:35:22.380Z"
   },
   {
    "duration": 26,
    "start_time": "2022-10-13T05:35:22.387Z"
   },
   {
    "duration": 9,
    "start_time": "2022-10-13T05:35:22.418Z"
   },
   {
    "duration": 3,
    "start_time": "2022-10-13T05:35:22.455Z"
   },
   {
    "duration": 16,
    "start_time": "2022-10-13T05:35:22.459Z"
   },
   {
    "duration": 3564,
    "start_time": "2022-10-13T05:35:22.477Z"
   },
   {
    "duration": 1068,
    "start_time": "2022-10-13T05:35:26.043Z"
   },
   {
    "duration": 48,
    "start_time": "2022-10-13T05:35:27.113Z"
   },
   {
    "duration": 3185,
    "start_time": "2022-10-13T05:35:27.163Z"
   },
   {
    "duration": 6,
    "start_time": "2022-10-13T05:35:30.350Z"
   },
   {
    "duration": 39,
    "start_time": "2022-10-13T05:35:30.358Z"
   },
   {
    "duration": 1508,
    "start_time": "2022-10-13T05:35:35.873Z"
   },
   {
    "duration": 41,
    "start_time": "2022-10-13T05:35:37.383Z"
   },
   {
    "duration": 18,
    "start_time": "2022-10-13T05:35:37.427Z"
   },
   {
    "duration": 15,
    "start_time": "2022-10-13T05:35:37.456Z"
   },
   {
    "duration": 10,
    "start_time": "2022-10-13T05:35:37.473Z"
   },
   {
    "duration": 11,
    "start_time": "2022-10-13T05:35:37.485Z"
   },
   {
    "duration": 9,
    "start_time": "2022-10-13T05:35:37.498Z"
   },
   {
    "duration": 9,
    "start_time": "2022-10-13T05:35:37.509Z"
   },
   {
    "duration": 34,
    "start_time": "2022-10-13T05:35:37.520Z"
   },
   {
    "duration": 15,
    "start_time": "2022-10-13T05:35:37.558Z"
   },
   {
    "duration": 347,
    "start_time": "2022-10-13T05:35:37.575Z"
   },
   {
    "duration": 8,
    "start_time": "2022-10-13T05:35:37.924Z"
   },
   {
    "duration": 20,
    "start_time": "2022-10-13T05:35:37.934Z"
   },
   {
    "duration": 242,
    "start_time": "2022-10-13T05:35:37.955Z"
   },
   {
    "duration": 4,
    "start_time": "2022-10-13T05:35:38.199Z"
   },
   {
    "duration": 14,
    "start_time": "2022-10-13T05:35:38.205Z"
   },
   {
    "duration": 852,
    "start_time": "2022-10-13T05:35:38.221Z"
   },
   {
    "duration": 7,
    "start_time": "2022-10-13T05:35:39.075Z"
   },
   {
    "duration": 15,
    "start_time": "2022-10-13T05:35:39.084Z"
   },
   {
    "duration": 206,
    "start_time": "2022-10-13T05:35:39.101Z"
   },
   {
    "duration": 4,
    "start_time": "2022-10-13T05:35:39.309Z"
   },
   {
    "duration": 18,
    "start_time": "2022-10-13T05:35:39.314Z"
   },
   {
    "duration": 5,
    "start_time": "2022-10-13T05:35:39.334Z"
   },
   {
    "duration": 17,
    "start_time": "2022-10-13T05:35:39.340Z"
   },
   {
    "duration": 13,
    "start_time": "2022-10-13T05:35:39.359Z"
   },
   {
    "duration": 5,
    "start_time": "2022-10-13T05:35:39.374Z"
   },
   {
    "duration": 16,
    "start_time": "2022-10-13T05:35:39.380Z"
   },
   {
    "duration": 7,
    "start_time": "2022-10-13T05:35:39.400Z"
   },
   {
    "duration": 8,
    "start_time": "2022-10-13T05:35:39.409Z"
   },
   {
    "duration": 46,
    "start_time": "2022-10-13T05:35:39.418Z"
   },
   {
    "duration": 320,
    "start_time": "2022-10-13T05:35:39.466Z"
   },
   {
    "duration": 1026,
    "start_time": "2022-10-13T05:35:39.788Z"
   },
   {
    "duration": 50,
    "start_time": "2022-10-13T05:35:40.816Z"
   },
   {
    "duration": 3294,
    "start_time": "2022-10-13T05:35:40.868Z"
   },
   {
    "duration": 5,
    "start_time": "2022-10-13T05:35:44.164Z"
   },
   {
    "duration": 11,
    "start_time": "2022-10-13T05:35:44.170Z"
   },
   {
    "duration": 1536,
    "start_time": "2022-10-13T05:35:53.923Z"
   },
   {
    "duration": 34,
    "start_time": "2022-10-13T05:35:55.461Z"
   },
   {
    "duration": 20,
    "start_time": "2022-10-13T05:35:55.497Z"
   },
   {
    "duration": 35,
    "start_time": "2022-10-13T05:35:55.521Z"
   },
   {
    "duration": 17,
    "start_time": "2022-10-13T05:35:55.558Z"
   },
   {
    "duration": 10,
    "start_time": "2022-10-13T05:35:55.577Z"
   },
   {
    "duration": 20,
    "start_time": "2022-10-13T05:35:55.588Z"
   },
   {
    "duration": 23,
    "start_time": "2022-10-13T05:35:55.611Z"
   },
   {
    "duration": 12,
    "start_time": "2022-10-13T05:35:55.637Z"
   },
   {
    "duration": 29,
    "start_time": "2022-10-13T05:35:55.653Z"
   },
   {
    "duration": 333,
    "start_time": "2022-10-13T05:35:55.685Z"
   },
   {
    "duration": 10,
    "start_time": "2022-10-13T05:35:56.020Z"
   },
   {
    "duration": 6,
    "start_time": "2022-10-13T05:35:56.032Z"
   },
   {
    "duration": 239,
    "start_time": "2022-10-13T05:35:56.054Z"
   },
   {
    "duration": 6,
    "start_time": "2022-10-13T05:35:56.295Z"
   },
   {
    "duration": 13,
    "start_time": "2022-10-13T05:35:56.303Z"
   },
   {
    "duration": 836,
    "start_time": "2022-10-13T05:35:56.318Z"
   },
   {
    "duration": 8,
    "start_time": "2022-10-13T05:35:57.156Z"
   },
   {
    "duration": 15,
    "start_time": "2022-10-13T05:35:57.165Z"
   },
   {
    "duration": 220,
    "start_time": "2022-10-13T05:35:57.182Z"
   },
   {
    "duration": 5,
    "start_time": "2022-10-13T05:35:57.404Z"
   },
   {
    "duration": 23,
    "start_time": "2022-10-13T05:35:57.411Z"
   },
   {
    "duration": 20,
    "start_time": "2022-10-13T05:35:57.436Z"
   },
   {
    "duration": 5,
    "start_time": "2022-10-13T05:35:57.458Z"
   },
   {
    "duration": 12,
    "start_time": "2022-10-13T05:35:57.465Z"
   },
   {
    "duration": 5,
    "start_time": "2022-10-13T05:35:57.479Z"
   },
   {
    "duration": 19,
    "start_time": "2022-10-13T05:35:57.486Z"
   },
   {
    "duration": 10,
    "start_time": "2022-10-13T05:35:57.509Z"
   },
   {
    "duration": 33,
    "start_time": "2022-10-13T05:35:57.521Z"
   },
   {
    "duration": 17,
    "start_time": "2022-10-13T05:35:57.557Z"
   },
   {
    "duration": 327,
    "start_time": "2022-10-13T05:35:57.577Z"
   },
   {
    "duration": 1049,
    "start_time": "2022-10-13T05:35:57.906Z"
   },
   {
    "duration": 45,
    "start_time": "2022-10-13T05:35:58.956Z"
   },
   {
    "duration": 3493,
    "start_time": "2022-10-13T05:35:59.003Z"
   },
   {
    "duration": 5,
    "start_time": "2022-10-13T05:36:02.498Z"
   },
   {
    "duration": 26,
    "start_time": "2022-10-13T05:36:02.505Z"
   },
   {
    "duration": 138,
    "start_time": "2022-10-13T05:37:47.030Z"
   },
   {
    "duration": 17,
    "start_time": "2022-10-13T05:37:55.517Z"
   },
   {
    "duration": 27156,
    "start_time": "2022-10-13T05:38:33.322Z"
   },
   {
    "duration": 1550,
    "start_time": "2022-10-13T06:21:06.484Z"
   },
   {
    "duration": 36,
    "start_time": "2022-10-13T06:21:08.036Z"
   },
   {
    "duration": 14,
    "start_time": "2022-10-13T06:21:08.073Z"
   },
   {
    "duration": 15,
    "start_time": "2022-10-13T06:21:08.089Z"
   },
   {
    "duration": 8,
    "start_time": "2022-10-13T06:21:08.106Z"
   },
   {
    "duration": 10,
    "start_time": "2022-10-13T06:21:08.116Z"
   },
   {
    "duration": 9,
    "start_time": "2022-10-13T06:21:08.127Z"
   },
   {
    "duration": 14,
    "start_time": "2022-10-13T06:21:08.153Z"
   },
   {
    "duration": 13,
    "start_time": "2022-10-13T06:21:08.168Z"
   },
   {
    "duration": 14,
    "start_time": "2022-10-13T06:21:08.184Z"
   },
   {
    "duration": 315,
    "start_time": "2022-10-13T06:21:08.200Z"
   },
   {
    "duration": 9,
    "start_time": "2022-10-13T06:21:08.517Z"
   },
   {
    "duration": 6,
    "start_time": "2022-10-13T06:21:08.528Z"
   },
   {
    "duration": 261,
    "start_time": "2022-10-13T06:21:08.536Z"
   },
   {
    "duration": 5,
    "start_time": "2022-10-13T06:21:08.798Z"
   },
   {
    "duration": 12,
    "start_time": "2022-10-13T06:21:08.804Z"
   },
   {
    "duration": 877,
    "start_time": "2022-10-13T06:21:08.818Z"
   },
   {
    "duration": 6,
    "start_time": "2022-10-13T06:21:09.697Z"
   },
   {
    "duration": 29,
    "start_time": "2022-10-13T06:21:09.704Z"
   },
   {
    "duration": 193,
    "start_time": "2022-10-13T06:21:09.734Z"
   },
   {
    "duration": 4,
    "start_time": "2022-10-13T06:21:09.929Z"
   },
   {
    "duration": 24,
    "start_time": "2022-10-13T06:21:09.935Z"
   },
   {
    "duration": 10,
    "start_time": "2022-10-13T06:21:09.964Z"
   },
   {
    "duration": 13,
    "start_time": "2022-10-13T06:21:09.976Z"
   },
   {
    "duration": 15,
    "start_time": "2022-10-13T06:21:09.991Z"
   },
   {
    "duration": 11,
    "start_time": "2022-10-13T06:21:10.008Z"
   },
   {
    "duration": 23,
    "start_time": "2022-10-13T06:21:10.021Z"
   },
   {
    "duration": 16,
    "start_time": "2022-10-13T06:21:10.048Z"
   },
   {
    "duration": 19,
    "start_time": "2022-10-13T06:21:10.065Z"
   },
   {
    "duration": 26,
    "start_time": "2022-10-13T06:21:10.085Z"
   },
   {
    "duration": 319,
    "start_time": "2022-10-13T06:21:10.113Z"
   },
   {
    "duration": 2164,
    "start_time": "2022-10-13T06:21:10.434Z"
   },
   {
    "duration": 10,
    "start_time": "2022-10-13T06:21:12.600Z"
   },
   {
    "duration": 3665,
    "start_time": "2022-10-13T06:21:12.612Z"
   },
   {
    "duration": 5,
    "start_time": "2022-10-13T06:21:16.279Z"
   },
   {
    "duration": 23,
    "start_time": "2022-10-13T06:21:16.285Z"
   },
   {
    "duration": 8,
    "start_time": "2022-10-13T06:22:39.617Z"
   },
   {
    "duration": 1587,
    "start_time": "2022-10-14T07:44:19.129Z"
   },
   {
    "duration": 81,
    "start_time": "2022-10-14T07:44:20.718Z"
   },
   {
    "duration": 12,
    "start_time": "2022-10-14T07:44:20.801Z"
   },
   {
    "duration": 23,
    "start_time": "2022-10-14T07:44:20.814Z"
   },
   {
    "duration": 9,
    "start_time": "2022-10-14T07:44:20.840Z"
   },
   {
    "duration": 24,
    "start_time": "2022-10-14T07:44:20.850Z"
   },
   {
    "duration": 12,
    "start_time": "2022-10-14T07:44:20.875Z"
   },
   {
    "duration": 17,
    "start_time": "2022-10-14T07:44:20.889Z"
   },
   {
    "duration": 8,
    "start_time": "2022-10-14T07:44:20.908Z"
   },
   {
    "duration": 25,
    "start_time": "2022-10-14T07:44:20.917Z"
   },
   {
    "duration": 277,
    "start_time": "2022-10-14T07:44:20.943Z"
   },
   {
    "duration": 12,
    "start_time": "2022-10-14T07:44:21.221Z"
   },
   {
    "duration": 6,
    "start_time": "2022-10-14T07:44:21.234Z"
   },
   {
    "duration": 202,
    "start_time": "2022-10-14T07:44:21.243Z"
   },
   {
    "duration": 4,
    "start_time": "2022-10-14T07:44:21.446Z"
   },
   {
    "duration": 9,
    "start_time": "2022-10-14T07:44:21.452Z"
   },
   {
    "duration": 769,
    "start_time": "2022-10-14T07:44:21.463Z"
   },
   {
    "duration": 6,
    "start_time": "2022-10-14T07:44:22.234Z"
   },
   {
    "duration": 8,
    "start_time": "2022-10-14T07:44:22.241Z"
   },
   {
    "duration": 170,
    "start_time": "2022-10-14T07:44:22.251Z"
   },
   {
    "duration": 4,
    "start_time": "2022-10-14T07:44:22.422Z"
   },
   {
    "duration": 17,
    "start_time": "2022-10-14T07:44:22.428Z"
   },
   {
    "duration": 4,
    "start_time": "2022-10-14T07:44:22.447Z"
   },
   {
    "duration": 5,
    "start_time": "2022-10-14T07:44:22.452Z"
   },
   {
    "duration": 9,
    "start_time": "2022-10-14T07:44:22.459Z"
   },
   {
    "duration": 3,
    "start_time": "2022-10-14T07:44:22.470Z"
   },
   {
    "duration": 13,
    "start_time": "2022-10-14T07:44:22.474Z"
   },
   {
    "duration": 25,
    "start_time": "2022-10-14T07:44:22.488Z"
   },
   {
    "duration": 8,
    "start_time": "2022-10-14T07:44:22.514Z"
   },
   {
    "duration": 19,
    "start_time": "2022-10-14T07:44:22.523Z"
   },
   {
    "duration": 351,
    "start_time": "2022-10-14T07:44:22.545Z"
   },
   {
    "duration": 2116,
    "start_time": "2022-10-14T07:44:22.898Z"
   },
   {
    "duration": 8,
    "start_time": "2022-10-14T07:44:25.015Z"
   },
   {
    "duration": 2873,
    "start_time": "2022-10-14T07:44:25.025Z"
   },
   {
    "duration": 5,
    "start_time": "2022-10-14T07:44:27.899Z"
   },
   {
    "duration": 11,
    "start_time": "2022-10-14T07:44:27.906Z"
   },
   {
    "duration": 7,
    "start_time": "2022-10-14T07:44:27.919Z"
   },
   {
    "duration": 1373,
    "start_time": "2022-10-14T07:48:46.927Z"
   },
   {
    "duration": 31,
    "start_time": "2022-10-14T07:48:48.302Z"
   },
   {
    "duration": 12,
    "start_time": "2022-10-14T07:48:48.334Z"
   },
   {
    "duration": 11,
    "start_time": "2022-10-14T07:48:48.348Z"
   },
   {
    "duration": 8,
    "start_time": "2022-10-14T07:48:48.361Z"
   },
   {
    "duration": 7,
    "start_time": "2022-10-14T07:48:48.371Z"
   },
   {
    "duration": 7,
    "start_time": "2022-10-14T07:48:48.380Z"
   },
   {
    "duration": 7,
    "start_time": "2022-10-14T07:48:48.388Z"
   },
   {
    "duration": 14,
    "start_time": "2022-10-14T07:48:48.396Z"
   },
   {
    "duration": 9,
    "start_time": "2022-10-14T07:48:48.412Z"
   },
   {
    "duration": 280,
    "start_time": "2022-10-14T07:48:48.423Z"
   },
   {
    "duration": 9,
    "start_time": "2022-10-14T07:48:48.708Z"
   },
   {
    "duration": 6,
    "start_time": "2022-10-14T07:48:48.718Z"
   },
   {
    "duration": 211,
    "start_time": "2022-10-14T07:48:48.726Z"
   },
   {
    "duration": 3,
    "start_time": "2022-10-14T07:48:48.939Z"
   },
   {
    "duration": 8,
    "start_time": "2022-10-14T07:48:48.944Z"
   },
   {
    "duration": 724,
    "start_time": "2022-10-14T07:48:48.954Z"
   },
   {
    "duration": 6,
    "start_time": "2022-10-14T07:48:49.680Z"
   },
   {
    "duration": 15,
    "start_time": "2022-10-14T07:48:49.687Z"
   },
   {
    "duration": 155,
    "start_time": "2022-10-14T07:48:49.708Z"
   },
   {
    "duration": 4,
    "start_time": "2022-10-14T07:48:49.865Z"
   },
   {
    "duration": 11,
    "start_time": "2022-10-14T07:48:49.870Z"
   },
   {
    "duration": 4,
    "start_time": "2022-10-14T07:48:49.883Z"
   },
   {
    "duration": 21,
    "start_time": "2022-10-14T07:48:49.889Z"
   },
   {
    "duration": 11,
    "start_time": "2022-10-14T07:48:49.912Z"
   },
   {
    "duration": 4,
    "start_time": "2022-10-14T07:48:49.925Z"
   },
   {
    "duration": 11,
    "start_time": "2022-10-14T07:48:49.931Z"
   },
   {
    "duration": 6,
    "start_time": "2022-10-14T07:48:49.944Z"
   },
   {
    "duration": 6,
    "start_time": "2022-10-14T07:48:49.951Z"
   },
   {
    "duration": 11,
    "start_time": "2022-10-14T07:48:49.959Z"
   },
   {
    "duration": 337,
    "start_time": "2022-10-14T07:48:49.972Z"
   },
   {
    "duration": 2081,
    "start_time": "2022-10-14T07:48:50.310Z"
   },
   {
    "duration": 25,
    "start_time": "2022-10-14T07:48:52.392Z"
   },
   {
    "duration": 2707,
    "start_time": "2022-10-14T07:48:52.419Z"
   },
   {
    "duration": 5,
    "start_time": "2022-10-14T07:48:55.128Z"
   },
   {
    "duration": 9,
    "start_time": "2022-10-14T07:48:55.134Z"
   },
   {
    "duration": 7,
    "start_time": "2022-10-14T07:48:55.144Z"
   },
   {
    "duration": 2964,
    "start_time": "2022-10-14T07:49:56.879Z"
   }
  ],
  "kernelspec": {
   "display_name": "Python 3 (ipykernel)",
   "language": "python",
   "name": "python3"
  },
  "language_info": {
   "codemirror_mode": {
    "name": "ipython",
    "version": 3
   },
   "file_extension": ".py",
   "mimetype": "text/x-python",
   "name": "python",
   "nbconvert_exporter": "python",
   "pygments_lexer": "ipython3",
   "version": "3.8.16"
  },
  "toc": {
   "base_numbering": 1,
   "nav_menu": {},
   "number_sections": true,
   "sideBar": true,
   "skip_h1_title": true,
   "title_cell": "Содержание",
   "title_sidebar": "Contents",
   "toc_cell": true,
   "toc_position": {},
   "toc_section_display": true,
   "toc_window_display": false
  }
 },
 "nbformat": 4,
 "nbformat_minor": 2
}
