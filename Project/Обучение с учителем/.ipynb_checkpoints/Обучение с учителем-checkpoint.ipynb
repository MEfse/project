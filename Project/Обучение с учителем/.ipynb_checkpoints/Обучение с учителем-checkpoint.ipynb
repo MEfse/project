{
 "cells": [
  {
   "cell_type": "markdown",
   "metadata": {
    "toc": true
   },
   "source": [
    "<h1>Содержание<span class=\"tocSkip\"></span></h1>\n",
    "<div class=\"toc\"><ul class=\"toc-item\"><li><span><a href=\"#Подготовка-данных\" data-toc-modified-id=\"Подготовка-данных-1\"><span class=\"toc-item-num\">1&nbsp;&nbsp;</span>Подготовка данных</a></span><ul class=\"toc-item\"><li><span><a href=\"#Манипуляция-с-данными\" data-toc-modified-id=\"Манипуляция-с-данными-1.1\"><span class=\"toc-item-num\">1.1&nbsp;&nbsp;</span>Манипуляция с данными</a></span></li><li><span><a href=\"#Прямое-кодирование\" data-toc-modified-id=\"Прямое-кодирование-1.2\"><span class=\"toc-item-num\">1.2&nbsp;&nbsp;</span>Прямое кодирование</a></span></li><li><span><a href=\"#Вывод\" data-toc-modified-id=\"Вывод-1.3\"><span class=\"toc-item-num\">1.3&nbsp;&nbsp;</span>Вывод</a></span></li></ul></li><li><span><a href=\"#Исследование-задачи\" data-toc-modified-id=\"Исследование-задачи-2\"><span class=\"toc-item-num\">2&nbsp;&nbsp;</span>Исследование задачи</a></span><ul class=\"toc-item\"><li><span><a href=\"#Разделение-выборки-на-обучающую,-валидационную-и-тестовую.\" data-toc-modified-id=\"Разделение-выборки-на-обучающую,-валидационную-и-тестовую.-2.1\"><span class=\"toc-item-num\">2.1&nbsp;&nbsp;</span>Разделение выборки на обучающую, валидационную и тестовую.</a></span></li><li><span><a href=\"#Первичные-данные\" data-toc-modified-id=\"Первичные-данные-2.2\"><span class=\"toc-item-num\">2.2&nbsp;&nbsp;</span>Первичные данные</a></span><ul class=\"toc-item\"><li><span><a href=\"#Вывод\" data-toc-modified-id=\"Вывод-2.2.1\"><span class=\"toc-item-num\">2.2.1&nbsp;&nbsp;</span>Вывод</a></span></li></ul></li><li><span><a href=\"#Поиск-наилучшей-модели\" data-toc-modified-id=\"Поиск-наилучшей-модели-2.3\"><span class=\"toc-item-num\">2.3&nbsp;&nbsp;</span>Поиск наилучшей модели</a></span><ul class=\"toc-item\"><li><span><a href=\"#Вывод\" data-toc-modified-id=\"Вывод-2.3.1\"><span class=\"toc-item-num\">2.3.1&nbsp;&nbsp;</span>Вывод</a></span></li><li><span><a href=\"#Сравнение-контантных-моделей-и-наилучших\" data-toc-modified-id=\"Сравнение-контантных-моделей-и-наилучших-2.3.2\"><span class=\"toc-item-num\">2.3.2&nbsp;&nbsp;</span>Сравнение контантных моделей и наилучших</a></span></li></ul></li></ul></li><li><span><a href=\"#Борьба-с-дисбалансом\" data-toc-modified-id=\"Борьба-с-дисбалансом-3\"><span class=\"toc-item-num\">3&nbsp;&nbsp;</span>Борьба с дисбалансом</a></span><ul class=\"toc-item\"><li><span><a href=\"#Взвешивание-классов\" data-toc-modified-id=\"Взвешивание-классов-3.1\"><span class=\"toc-item-num\">3.1&nbsp;&nbsp;</span>Взвешивание классов</a></span><ul class=\"toc-item\"><li><span><a href=\"#Вывод\" data-toc-modified-id=\"Вывод-3.1.1\"><span class=\"toc-item-num\">3.1.1&nbsp;&nbsp;</span>Вывод</a></span></li></ul></li><li><span><a href=\"#Увеличение-выборки\" data-toc-modified-id=\"Увеличение-выборки-3.2\"><span class=\"toc-item-num\">3.2&nbsp;&nbsp;</span>Увеличение выборки</a></span></li><li><span><a href=\"#Порог-классификации-(PR-кривая)\" data-toc-modified-id=\"Порог-классификации-(PR-кривая)-3.3\"><span class=\"toc-item-num\">3.3&nbsp;&nbsp;</span>Порог классификации (PR-кривая)</a></span><ul class=\"toc-item\"><li><span><a href=\"#Модель-решаюшего-дерева\" data-toc-modified-id=\"Модель-решаюшего-дерева-3.3.1\"><span class=\"toc-item-num\">3.3.1&nbsp;&nbsp;</span>Модель решаюшего дерева</a></span></li><li><span><a href=\"#Модель-случайного-леса\" data-toc-modified-id=\"Модель-случайного-леса-3.3.2\"><span class=\"toc-item-num\">3.3.2&nbsp;&nbsp;</span>Модель случайного леса</a></span></li><li><span><a href=\"#Модель-логичестической-регрессии\" data-toc-modified-id=\"Модель-логичестической-регрессии-3.3.3\"><span class=\"toc-item-num\">3.3.3&nbsp;&nbsp;</span>Модель логичестической регрессии</a></span></li></ul></li><li><span><a href=\"#ROC-кривая\" data-toc-modified-id=\"ROC-кривая-3.4\"><span class=\"toc-item-num\">3.4&nbsp;&nbsp;</span>ROC-кривая</a></span><ul class=\"toc-item\"><li><span><a href=\"#Модель-решаюшего-дерева\" data-toc-modified-id=\"Модель-решаюшего-дерева-3.4.1\"><span class=\"toc-item-num\">3.4.1&nbsp;&nbsp;</span>Модель решаюшего дерева</a></span></li><li><span><a href=\"#Модель-случайного-леса\" data-toc-modified-id=\"Модель-случайного-леса-3.4.2\"><span class=\"toc-item-num\">3.4.2&nbsp;&nbsp;</span>Модель случайного леса</a></span></li><li><span><a href=\"#Модель-логичестической-регрессии\" data-toc-modified-id=\"Модель-логичестической-регрессии-3.4.3\"><span class=\"toc-item-num\">3.4.3&nbsp;&nbsp;</span>Модель логичестической регрессии</a></span></li><li><span><a href=\"#Сравнение-AUC-ROC-c-F1-мерой\" data-toc-modified-id=\"Сравнение-AUC-ROC-c-F1-мерой-3.4.4\"><span class=\"toc-item-num\">3.4.4&nbsp;&nbsp;</span>Сравнение AUC-ROC c F1-мерой</a></span></li></ul></li></ul></li><li><span><a href=\"#Тестирование-модели\" data-toc-modified-id=\"Тестирование-модели-4\"><span class=\"toc-item-num\">4&nbsp;&nbsp;</span>Тестирование модели</a></span><ul class=\"toc-item\"><li><span><a href=\"#Модель-решаюшего-дерева\" data-toc-modified-id=\"Модель-решаюшего-дерева-4.1\"><span class=\"toc-item-num\">4.1&nbsp;&nbsp;</span>Модель решаюшего дерева</a></span></li><li><span><a href=\"#Модель-случайного-леса\" data-toc-modified-id=\"Модель-случайного-леса-4.2\"><span class=\"toc-item-num\">4.2&nbsp;&nbsp;</span>Модель случайного леса</a></span></li><li><span><a href=\"#Модель-логичестической-регрессии\" data-toc-modified-id=\"Модель-логичестической-регрессии-4.3\"><span class=\"toc-item-num\">4.3&nbsp;&nbsp;</span>Модель логичестической регрессии</a></span></li></ul></li><li><span><a href=\"#Общий-вывод\" data-toc-modified-id=\"Общий-вывод-5\"><span class=\"toc-item-num\">5&nbsp;&nbsp;</span>Общий вывод</a></span></li><li><span><a href=\"#Чек-лист-готовности-проекта\" data-toc-modified-id=\"Чек-лист-готовности-проекта-6\"><span class=\"toc-item-num\">6&nbsp;&nbsp;</span>Чек-лист готовности проекта</a></span></li></ul></div>"
   ]
  },
  {
   "cell_type": "markdown",
   "metadata": {},
   "source": [
    "# Отток клиентов"
   ]
  },
  {
   "cell_type": "markdown",
   "metadata": {},
   "source": [
    "Из «Бета-Банка» стали уходить клиенты. Каждый месяц. Немного, но заметно. Банковские маркетологи посчитали: сохранять текущих клиентов дешевле, чем привлекать новых.\n",
    "\n",
    "Нужно спрогнозировать, уйдёт клиент из банка в ближайшее время или нет. Вам предоставлены исторические данные о поведении клиентов и расторжении договоров с банком. \n",
    "\n",
    "Постройте модель с предельно большим значением *F1*-меры. Чтобы сдать проект успешно, нужно довести метрику до 0.59. Проверьте *F1*-меру на тестовой выборке самостоятельно.\n",
    "\n",
    "Дополнительно измеряйте *AUC-ROC*, сравнивайте её значение с *F1*-мерой.\n",
    "\n",
    "Источник данных: [https://www.kaggle.com/barelydedicated/bank-customer-churn-modeling](https://www.kaggle.com/barelydedicated/bank-customer-churn-modeling)"
   ]
  },
  {
   "cell_type": "markdown",
   "metadata": {},
   "source": [
    "## Подготовка данных"
   ]
  },
  {
   "cell_type": "markdown",
   "metadata": {},
   "source": [
    "Производим **импорт библиотек.**"
   ]
  },
  {
   "cell_type": "code",
   "execution_count": 1,
   "metadata": {},
   "outputs": [],
   "source": [
    "import pandas as pd\n",
    "import numpy as np"
   ]
  },
  {
   "cell_type": "code",
   "execution_count": 93,
   "metadata": {},
   "outputs": [],
   "source": [
    "from sklearn.preprocessing import StandardScaler \n",
    "from sklearn.model_selection import train_test_split \n",
    "from sklearn.tree import DecisionTreeClassifier\n",
    "from sklearn.ensemble import RandomForestClassifier\n",
    "from sklearn.linear_model import LogisticRegression \n",
    "from sklearn.metrics import accuracy_score, f1_score, roc_auc_score, precision_recall_curve, roc_curve\n",
    "from sklearn.utils import shuffle\n",
    "import matplotlib.pyplot as plt"
   ]
  },
  {
   "cell_type": "markdown",
   "metadata": {},
   "source": [
    "Записываем в переменную **csv-файл.**"
   ]
  },
  {
   "cell_type": "code",
   "execution_count": 3,
   "metadata": {},
   "outputs": [],
   "source": [
    "try:\n",
    "    data = pd.read_csv('C:/Users/JERR/Desktop/Проекты/Обучение с учителем/Churn.csv')\n",
    "except:\n",
    "    try:\n",
    "        data = pd.read_csv('C:/Users/User/Desktop/Проекты/Обучение с учителем/Churn.csv')\n",
    "    except:\n",
    "        data = pd.read_csv('/datasets/Churn.csv')"
   ]
  },
  {
   "cell_type": "markdown",
   "metadata": {},
   "source": [
    "Выводим **общую информацию** по датафрейму."
   ]
  },
  {
   "cell_type": "code",
   "execution_count": 4,
   "metadata": {},
   "outputs": [
    {
     "name": "stdout",
     "output_type": "stream",
     "text": [
      "<class 'pandas.core.frame.DataFrame'>\n",
      "RangeIndex: 10000 entries, 0 to 9999\n",
      "Data columns (total 14 columns):\n",
      " #   Column           Non-Null Count  Dtype  \n",
      "---  ------           --------------  -----  \n",
      " 0   RowNumber        10000 non-null  int64  \n",
      " 1   CustomerId       10000 non-null  int64  \n",
      " 2   Surname          10000 non-null  object \n",
      " 3   CreditScore      10000 non-null  int64  \n",
      " 4   Geography        10000 non-null  object \n",
      " 5   Gender           10000 non-null  object \n",
      " 6   Age              10000 non-null  int64  \n",
      " 7   Tenure           9091 non-null   float64\n",
      " 8   Balance          10000 non-null  float64\n",
      " 9   NumOfProducts    10000 non-null  int64  \n",
      " 10  HasCrCard        10000 non-null  int64  \n",
      " 11  IsActiveMember   10000 non-null  int64  \n",
      " 12  EstimatedSalary  10000 non-null  float64\n",
      " 13  Exited           10000 non-null  int64  \n",
      "dtypes: float64(3), int64(8), object(3)\n",
      "memory usage: 1.1+ MB\n"
     ]
    }
   ],
   "source": [
    "data.info()"
   ]
  },
  {
   "cell_type": "markdown",
   "metadata": {},
   "source": [
    "**Признаки**\n",
    "\n",
    "* `RowNumber` — индекс строки в данных\n",
    "\n",
    "* `CustomerId` — уникальный идентификатор клиента\n",
    "\n",
    "* `Surname` — фамилия\n",
    "\n",
    "* `CreditScore` — кредитный рейтинг\n",
    "\n",
    "* `Geography` — страна проживания\n",
    "\n",
    "* `Gender` — пол\n",
    "\n",
    "* `Age` — возраст\n",
    "\n",
    "* `Tenure` — сколько лет человек является клиентом банка\n",
    "\n",
    "* `Balance` — баланс на счёте\n",
    "\n",
    "* `NumOfProducts` — количество продуктов банка, используемых клиентом\n",
    "\n",
    "* `HasCrCard` — наличие кредитной карты\n",
    "\n",
    "* `IsActiveMember` — активность клиента\n",
    "\n",
    "* `EstimatedSalary` — предполагаемая зарплата\n",
    "\n",
    "**Целевой признак**\n",
    "\n",
    "* `Exited` — факт ухода клиента"
   ]
  },
  {
   "cell_type": "markdown",
   "metadata": {},
   "source": [
    "### Работа с пропуском"
   ]
  },
  {
   "cell_type": "code",
   "execution_count": 5,
   "metadata": {},
   "outputs": [
    {
     "name": "stdout",
     "output_type": "stream",
     "text": [
      "Количество пропущенных значений в столбце Tenure равно \u001b[1m909.\n"
     ]
    }
   ],
   "source": [
    "missed = data['Tenure'].isna().sum()\n",
    "print(f'Количество пропущенных значений в столбце Tenure равно \\033[1m{missed}.')"
   ]
  },
  {
   "cell_type": "markdown",
   "metadata": {},
   "source": [
    "Заметим, что в столбце `Tenure` **есть пропущенные значения.** Т.к. удаление пропущенных значений проведет **к потере 10% от общего объема данных**, то их необходимо заполнить."
   ]
  },
  {
   "cell_type": "code",
   "execution_count": 6,
   "metadata": {},
   "outputs": [
    {
     "name": "stdout",
     "output_type": "stream",
     "text": [
      "Значение медианы в столбце Tenure равно 5.0.\n"
     ]
    }
   ],
   "source": [
    "median_tenure = data['Tenure'].median()\n",
    "print(f'Значение медианы в столбце Tenure равно \\033[1m{median_tenure}.')"
   ]
  },
  {
   "cell_type": "code",
   "execution_count": 7,
   "metadata": {},
   "outputs": [],
   "source": [
    "data['Tenure'] = data['Tenure'].fillna(median_tenure)"
   ]
  },
  {
   "cell_type": "markdown",
   "metadata": {},
   "source": [
    "Проверим **уникальные значения столбца** `Tenure`."
   ]
  },
  {
   "cell_type": "code",
   "execution_count": 8,
   "metadata": {},
   "outputs": [
    {
     "data": {
      "text/plain": [
       "5.0     1836\n",
       "1.0      952\n",
       "2.0      950\n",
       "8.0      933\n",
       "3.0      928\n",
       "7.0      925\n",
       "4.0      885\n",
       "9.0      882\n",
       "6.0      881\n",
       "10.0     446\n",
       "0.0      382\n",
       "Name: Tenure, dtype: int64"
      ]
     },
     "execution_count": 8,
     "metadata": {},
     "output_type": "execute_result"
    }
   ],
   "source": [
    "data['Tenure'].value_counts()"
   ]
  },
  {
   "cell_type": "markdown",
   "metadata": {},
   "source": [
    "Так же необходимо преобразовать данный столбец **в целочисленный тип**, т.к. отсутствует заполненная дробная часть."
   ]
  },
  {
   "cell_type": "code",
   "execution_count": 9,
   "metadata": {},
   "outputs": [],
   "source": [
    "data['Tenure'] = data['Tenure'].astype('int64')"
   ]
  },
  {
   "cell_type": "markdown",
   "metadata": {},
   "source": [
    "Приведем **название столбцов** к нормальному виду."
   ]
  },
  {
   "cell_type": "code",
   "execution_count": 10,
   "metadata": {},
   "outputs": [],
   "source": [
    "import warnings\n",
    "warnings.simplefilter(action='ignore', category=FutureWarning)"
   ]
  },
  {
   "cell_type": "code",
   "execution_count": 11,
   "metadata": {},
   "outputs": [],
   "source": [
    "data.columns = data.columns.str.replace(r\"([A-Z])\", r\" \\1\").str.lower().str.replace(' ', '_').str[1:]"
   ]
  },
  {
   "cell_type": "markdown",
   "metadata": {},
   "source": [
    "Некоторые данные абсолютно не нужны моделям. Так, например, **имя в датафрейме это перенасыщение**, для замены есть уникальный `id`."
   ]
  },
  {
   "cell_type": "code",
   "execution_count": 12,
   "metadata": {},
   "outputs": [
    {
     "name": "stdout",
     "output_type": "stream",
     "text": [
      "Index(['row_number', 'customer_id', 'surname', 'credit_score', 'geography',\n",
      "       'gender', 'age', 'tenure', 'balance', 'num_of_products', 'has_cr_card',\n",
      "       'is_active_member', 'estimated_salary', 'exited'],\n",
      "      dtype='object')\n"
     ]
    }
   ],
   "source": [
    "print(data.columns)"
   ]
  },
  {
   "cell_type": "code",
   "execution_count": 13,
   "metadata": {},
   "outputs": [],
   "source": [
    "data = data.drop(['surname', 'customer_id', 'row_number'], axis=1)"
   ]
  },
  {
   "cell_type": "markdown",
   "metadata": {},
   "source": [
    "### Прямое кодирование"
   ]
  },
  {
   "cell_type": "markdown",
   "metadata": {},
   "source": [
    "Избавившись от столбца с именами остались ещё два со **строковым типом:** `geography`, `gender`."
   ]
  },
  {
   "cell_type": "markdown",
   "metadata": {},
   "source": [
    "Исследуем **уникальные значения** в столбце `geography`."
   ]
  },
  {
   "cell_type": "code",
   "execution_count": 14,
   "metadata": {},
   "outputs": [
    {
     "data": {
      "text/plain": [
       "France     5014\n",
       "Germany    2509\n",
       "Spain      2477\n",
       "Name: geography, dtype: int64"
      ]
     },
     "execution_count": 14,
     "metadata": {},
     "output_type": "execute_result"
    }
   ],
   "source": [
    "data['geography'].value_counts()"
   ]
  },
  {
   "cell_type": "markdown",
   "metadata": {},
   "source": [
    "Применим **прямое кодирование**, избегаем **дамми-ловушки** с помощью метода `drop=True`."
   ]
  },
  {
   "cell_type": "code",
   "execution_count": 15,
   "metadata": {},
   "outputs": [],
   "source": [
    "data_ohe = pd.get_dummies(data, columns=['geography', 'gender'], drop_first=True)"
   ]
  },
  {
   "cell_type": "markdown",
   "metadata": {},
   "source": [
    "**Сравним** полученный результат."
   ]
  },
  {
   "cell_type": "code",
   "execution_count": 16,
   "metadata": {},
   "outputs": [
    {
     "data": {
      "text/html": [
       "<div>\n",
       "<style scoped>\n",
       "    .dataframe tbody tr th:only-of-type {\n",
       "        vertical-align: middle;\n",
       "    }\n",
       "\n",
       "    .dataframe tbody tr th {\n",
       "        vertical-align: top;\n",
       "    }\n",
       "\n",
       "    .dataframe thead th {\n",
       "        text-align: right;\n",
       "    }\n",
       "</style>\n",
       "<table border=\"1\" class=\"dataframe\">\n",
       "  <thead>\n",
       "    <tr style=\"text-align: right;\">\n",
       "      <th></th>\n",
       "      <th>credit_score</th>\n",
       "      <th>geography</th>\n",
       "      <th>gender</th>\n",
       "      <th>age</th>\n",
       "      <th>tenure</th>\n",
       "      <th>balance</th>\n",
       "      <th>num_of_products</th>\n",
       "      <th>has_cr_card</th>\n",
       "      <th>is_active_member</th>\n",
       "      <th>estimated_salary</th>\n",
       "      <th>exited</th>\n",
       "    </tr>\n",
       "  </thead>\n",
       "  <tbody>\n",
       "    <tr>\n",
       "      <th>0</th>\n",
       "      <td>619</td>\n",
       "      <td>France</td>\n",
       "      <td>Female</td>\n",
       "      <td>42</td>\n",
       "      <td>2</td>\n",
       "      <td>0.00</td>\n",
       "      <td>1</td>\n",
       "      <td>1</td>\n",
       "      <td>1</td>\n",
       "      <td>101348.88</td>\n",
       "      <td>1</td>\n",
       "    </tr>\n",
       "    <tr>\n",
       "      <th>1</th>\n",
       "      <td>608</td>\n",
       "      <td>Spain</td>\n",
       "      <td>Female</td>\n",
       "      <td>41</td>\n",
       "      <td>1</td>\n",
       "      <td>83807.86</td>\n",
       "      <td>1</td>\n",
       "      <td>0</td>\n",
       "      <td>1</td>\n",
       "      <td>112542.58</td>\n",
       "      <td>0</td>\n",
       "    </tr>\n",
       "    <tr>\n",
       "      <th>2</th>\n",
       "      <td>502</td>\n",
       "      <td>France</td>\n",
       "      <td>Female</td>\n",
       "      <td>42</td>\n",
       "      <td>8</td>\n",
       "      <td>159660.80</td>\n",
       "      <td>3</td>\n",
       "      <td>1</td>\n",
       "      <td>0</td>\n",
       "      <td>113931.57</td>\n",
       "      <td>1</td>\n",
       "    </tr>\n",
       "    <tr>\n",
       "      <th>3</th>\n",
       "      <td>699</td>\n",
       "      <td>France</td>\n",
       "      <td>Female</td>\n",
       "      <td>39</td>\n",
       "      <td>1</td>\n",
       "      <td>0.00</td>\n",
       "      <td>2</td>\n",
       "      <td>0</td>\n",
       "      <td>0</td>\n",
       "      <td>93826.63</td>\n",
       "      <td>0</td>\n",
       "    </tr>\n",
       "    <tr>\n",
       "      <th>4</th>\n",
       "      <td>850</td>\n",
       "      <td>Spain</td>\n",
       "      <td>Female</td>\n",
       "      <td>43</td>\n",
       "      <td>2</td>\n",
       "      <td>125510.82</td>\n",
       "      <td>1</td>\n",
       "      <td>1</td>\n",
       "      <td>1</td>\n",
       "      <td>79084.10</td>\n",
       "      <td>0</td>\n",
       "    </tr>\n",
       "  </tbody>\n",
       "</table>\n",
       "</div>"
      ],
      "text/plain": [
       "   credit_score geography  gender  age  tenure    balance  num_of_products  \\\n",
       "0           619    France  Female   42       2       0.00                1   \n",
       "1           608     Spain  Female   41       1   83807.86                1   \n",
       "2           502    France  Female   42       8  159660.80                3   \n",
       "3           699    France  Female   39       1       0.00                2   \n",
       "4           850     Spain  Female   43       2  125510.82                1   \n",
       "\n",
       "   has_cr_card  is_active_member  estimated_salary  exited  \n",
       "0            1                 1         101348.88       1  \n",
       "1            0                 1         112542.58       0  \n",
       "2            1                 0         113931.57       1  \n",
       "3            0                 0          93826.63       0  \n",
       "4            1                 1          79084.10       0  "
      ]
     },
     "metadata": {},
     "output_type": "display_data"
    },
    {
     "data": {
      "text/html": [
       "<div>\n",
       "<style scoped>\n",
       "    .dataframe tbody tr th:only-of-type {\n",
       "        vertical-align: middle;\n",
       "    }\n",
       "\n",
       "    .dataframe tbody tr th {\n",
       "        vertical-align: top;\n",
       "    }\n",
       "\n",
       "    .dataframe thead th {\n",
       "        text-align: right;\n",
       "    }\n",
       "</style>\n",
       "<table border=\"1\" class=\"dataframe\">\n",
       "  <thead>\n",
       "    <tr style=\"text-align: right;\">\n",
       "      <th></th>\n",
       "      <th>credit_score</th>\n",
       "      <th>age</th>\n",
       "      <th>tenure</th>\n",
       "      <th>balance</th>\n",
       "      <th>num_of_products</th>\n",
       "      <th>has_cr_card</th>\n",
       "      <th>is_active_member</th>\n",
       "      <th>estimated_salary</th>\n",
       "      <th>exited</th>\n",
       "      <th>geography_Germany</th>\n",
       "      <th>geography_Spain</th>\n",
       "      <th>gender_Male</th>\n",
       "    </tr>\n",
       "  </thead>\n",
       "  <tbody>\n",
       "    <tr>\n",
       "      <th>0</th>\n",
       "      <td>619</td>\n",
       "      <td>42</td>\n",
       "      <td>2</td>\n",
       "      <td>0.00</td>\n",
       "      <td>1</td>\n",
       "      <td>1</td>\n",
       "      <td>1</td>\n",
       "      <td>101348.88</td>\n",
       "      <td>1</td>\n",
       "      <td>0</td>\n",
       "      <td>0</td>\n",
       "      <td>0</td>\n",
       "    </tr>\n",
       "    <tr>\n",
       "      <th>1</th>\n",
       "      <td>608</td>\n",
       "      <td>41</td>\n",
       "      <td>1</td>\n",
       "      <td>83807.86</td>\n",
       "      <td>1</td>\n",
       "      <td>0</td>\n",
       "      <td>1</td>\n",
       "      <td>112542.58</td>\n",
       "      <td>0</td>\n",
       "      <td>0</td>\n",
       "      <td>1</td>\n",
       "      <td>0</td>\n",
       "    </tr>\n",
       "    <tr>\n",
       "      <th>2</th>\n",
       "      <td>502</td>\n",
       "      <td>42</td>\n",
       "      <td>8</td>\n",
       "      <td>159660.80</td>\n",
       "      <td>3</td>\n",
       "      <td>1</td>\n",
       "      <td>0</td>\n",
       "      <td>113931.57</td>\n",
       "      <td>1</td>\n",
       "      <td>0</td>\n",
       "      <td>0</td>\n",
       "      <td>0</td>\n",
       "    </tr>\n",
       "    <tr>\n",
       "      <th>3</th>\n",
       "      <td>699</td>\n",
       "      <td>39</td>\n",
       "      <td>1</td>\n",
       "      <td>0.00</td>\n",
       "      <td>2</td>\n",
       "      <td>0</td>\n",
       "      <td>0</td>\n",
       "      <td>93826.63</td>\n",
       "      <td>0</td>\n",
       "      <td>0</td>\n",
       "      <td>0</td>\n",
       "      <td>0</td>\n",
       "    </tr>\n",
       "    <tr>\n",
       "      <th>4</th>\n",
       "      <td>850</td>\n",
       "      <td>43</td>\n",
       "      <td>2</td>\n",
       "      <td>125510.82</td>\n",
       "      <td>1</td>\n",
       "      <td>1</td>\n",
       "      <td>1</td>\n",
       "      <td>79084.10</td>\n",
       "      <td>0</td>\n",
       "      <td>0</td>\n",
       "      <td>1</td>\n",
       "      <td>0</td>\n",
       "    </tr>\n",
       "  </tbody>\n",
       "</table>\n",
       "</div>"
      ],
      "text/plain": [
       "   credit_score  age  tenure    balance  num_of_products  has_cr_card  \\\n",
       "0           619   42       2       0.00                1            1   \n",
       "1           608   41       1   83807.86                1            0   \n",
       "2           502   42       8  159660.80                3            1   \n",
       "3           699   39       1       0.00                2            0   \n",
       "4           850   43       2  125510.82                1            1   \n",
       "\n",
       "   is_active_member  estimated_salary  exited  geography_Germany  \\\n",
       "0                 1         101348.88       1                  0   \n",
       "1                 1         112542.58       0                  0   \n",
       "2                 0         113931.57       1                  0   \n",
       "3                 0          93826.63       0                  0   \n",
       "4                 1          79084.10       0                  0   \n",
       "\n",
       "   geography_Spain  gender_Male  \n",
       "0                0            0  \n",
       "1                1            0  \n",
       "2                0            0  \n",
       "3                0            0  \n",
       "4                1            0  "
      ]
     },
     "metadata": {},
     "output_type": "display_data"
    }
   ],
   "source": [
    "display(data.head(5))\n",
    "display(data_ohe.head(5))"
   ]
  },
  {
   "cell_type": "markdown",
   "metadata": {},
   "source": [
    "Применим **метод** `str.lower()` для `data_ohe`."
   ]
  },
  {
   "cell_type": "code",
   "execution_count": 17,
   "metadata": {},
   "outputs": [],
   "source": [
    "data_ohe.columns = data_ohe.columns.str.lower()"
   ]
  },
  {
   "cell_type": "code",
   "execution_count": 18,
   "metadata": {},
   "outputs": [
    {
     "name": "stdout",
     "output_type": "stream",
     "text": [
      "Index(['credit_score', 'age', 'tenure', 'balance', 'num_of_products',\n",
      "       'has_cr_card', 'is_active_member', 'estimated_salary', 'exited',\n",
      "       'geography_germany', 'geography_spain', 'gender_male'],\n",
      "      dtype='object')\n"
     ]
    }
   ],
   "source": [
    "print(data_ohe.columns)"
   ]
  },
  {
   "cell_type": "markdown",
   "metadata": {},
   "source": [
    "### Вывод"
   ]
  },
  {
   "cell_type": "markdown",
   "metadata": {},
   "source": [
    "Проверим, что **данные подготовлены** для обработки."
   ]
  },
  {
   "cell_type": "code",
   "execution_count": 19,
   "metadata": {},
   "outputs": [
    {
     "name": "stdout",
     "output_type": "stream",
     "text": [
      "<class 'pandas.core.frame.DataFrame'>\n",
      "RangeIndex: 10000 entries, 0 to 9999\n",
      "Data columns (total 12 columns):\n",
      " #   Column             Non-Null Count  Dtype  \n",
      "---  ------             --------------  -----  \n",
      " 0   credit_score       10000 non-null  int64  \n",
      " 1   age                10000 non-null  int64  \n",
      " 2   tenure             10000 non-null  int64  \n",
      " 3   balance            10000 non-null  float64\n",
      " 4   num_of_products    10000 non-null  int64  \n",
      " 5   has_cr_card        10000 non-null  int64  \n",
      " 6   is_active_member   10000 non-null  int64  \n",
      " 7   estimated_salary   10000 non-null  float64\n",
      " 8   exited             10000 non-null  int64  \n",
      " 9   geography_germany  10000 non-null  uint8  \n",
      " 10  geography_spain    10000 non-null  uint8  \n",
      " 11  gender_male        10000 non-null  uint8  \n",
      "dtypes: float64(2), int64(7), uint8(3)\n",
      "memory usage: 732.5 KB\n"
     ]
    }
   ],
   "source": [
    "data_ohe.info()"
   ]
  },
  {
   "cell_type": "markdown",
   "metadata": {},
   "source": [
    "Данные подготовлены к анализу (дальнейшему построению моделей)."
   ]
  },
  {
   "cell_type": "markdown",
   "metadata": {},
   "source": [
    "## Исследование задачи"
   ]
  },
  {
   "cell_type": "markdown",
   "metadata": {},
   "source": [
    "### Разделение выборки на обучающую, валидационную и тестовую."
   ]
  },
  {
   "cell_type": "markdown",
   "metadata": {},
   "source": [
    "Необходимо провести **исследование целевого признака.**"
   ]
  },
  {
   "cell_type": "code",
   "execution_count": 20,
   "metadata": {},
   "outputs": [
    {
     "name": "stdout",
     "output_type": "stream",
     "text": [
      "0    7963\n",
      "1    2037\n",
      "Name: exited, dtype: int64\n"
     ]
    }
   ],
   "source": [
    "target_counts = data_ohe['exited'].value_counts()\n",
    "print(target_counts)"
   ]
  },
  {
   "cell_type": "markdown",
   "metadata": {},
   "source": [
    "Виден явный **дисбаланс классов.** "
   ]
  },
  {
   "cell_type": "code",
   "execution_count": 21,
   "metadata": {},
   "outputs": [],
   "source": [
    "X = data_ohe.drop('exited', axis=1)\n",
    "y = data_ohe['exited']"
   ]
  },
  {
   "cell_type": "markdown",
   "metadata": {},
   "source": [
    "Данные нужно разбить на **три части: обучающую, валидационную и тестовую.** Размеры тестового и валидационного наборов обычно равны. Исходные данные разбивают в соотношении **3:1:1.**"
   ]
  },
  {
   "cell_type": "code",
   "execution_count": 22,
   "metadata": {},
   "outputs": [],
   "source": [
    "X_train, X_valid, y_train, y_valid = train_test_split(X, y, test_size=0.4, random_state=12345, stratify=y)"
   ]
  },
  {
   "cell_type": "code",
   "execution_count": 23,
   "metadata": {},
   "outputs": [],
   "source": [
    "X_valid, X_test, y_valid, y_test = train_test_split(X_valid, y_valid, test_size=0.5, random_state=12345, stratify=y_valid)"
   ]
  },
  {
   "cell_type": "markdown",
   "metadata": {},
   "source": [
    "**P.S. Указываем stratify = y, чтобы сохранить соотношение классов при разбиении.**"
   ]
  },
  {
   "cell_type": "markdown",
   "metadata": {},
   "source": [
    "Посмотрим **размер разбивки.**"
   ]
  },
  {
   "cell_type": "code",
   "execution_count": 24,
   "metadata": {},
   "outputs": [
    {
     "name": "stdout",
     "output_type": "stream",
     "text": [
      "Размер обучающей выборки: \u001b[1m(6000, 11)\u001b[0m\n",
      "Размер валидационной выборки: \u001b[1m(2000, 11)\u001b[0m\n",
      "Размер тестовой выборки: \u001b[1m(2000, 11)\u001b[0m\n"
     ]
    }
   ],
   "source": [
    "print(f'Размер обучающей выборки: \\033[1m{X_train.shape}\\033[0m')\n",
    "print(f'Размер валидационной выборки: \\033[1m{X_valid.shape}\\033[0m')\n",
    "print(f'Размер тестовой выборки: \\033[1m{X_test.shape}\\033[0m')"
   ]
  },
  {
   "cell_type": "code",
   "execution_count": 25,
   "metadata": {},
   "outputs": [],
   "source": [
    "pd.options.mode.chained_assignment = None"
   ]
  },
  {
   "cell_type": "markdown",
   "metadata": {},
   "source": [
    "Создаем функцию для **масштабирования данных.**"
   ]
  },
  {
   "cell_type": "code",
   "execution_count": 26,
   "metadata": {},
   "outputs": [],
   "source": [
    "columns_scaler = ['credit_score','age','tenure','balance','estimated_salary']\n",
    "\n",
    "scaler = StandardScaler()"
   ]
  },
  {
   "cell_type": "code",
   "execution_count": 27,
   "metadata": {},
   "outputs": [
    {
     "data": {
      "text/plain": [
       "StandardScaler()"
      ]
     },
     "execution_count": 27,
     "metadata": {},
     "output_type": "execute_result"
    }
   ],
   "source": [
    "scaler.fit(X_train[columns_scaler])\n",
    "scaler.fit(X_valid[columns_scaler])\n",
    "scaler.fit(X_test[columns_scaler])"
   ]
  },
  {
   "cell_type": "code",
   "execution_count": 28,
   "metadata": {},
   "outputs": [],
   "source": [
    "X_train[columns_scaler] = scaler.transform(X_train[columns_scaler])\n",
    "X_valid[columns_scaler] = scaler.transform(X_valid[columns_scaler])\n",
    "X_test[columns_scaler] = scaler.transform(X_test[columns_scaler])"
   ]
  },
  {
   "cell_type": "markdown",
   "metadata": {},
   "source": [
    "### Первичные данные"
   ]
  },
  {
   "cell_type": "markdown",
   "metadata": {},
   "source": [
    "Построим **константные модели** для оценки адекватности для будущих моделей."
   ]
  },
  {
   "cell_type": "markdown",
   "metadata": {},
   "source": [
    "Создадим функцию для отображения информации обученной модели."
   ]
  },
  {
   "cell_type": "code",
   "execution_count": 29,
   "metadata": {},
   "outputs": [],
   "source": [
    "def f_score(model):\n",
    "    f_result = f1_score(y_valid, model.predict(X_valid)).round(2)\n",
    "    \n",
    "    return f_result"
   ]
  },
  {
   "cell_type": "code",
   "execution_count": 30,
   "metadata": {},
   "outputs": [],
   "source": [
    "def auc_score(model):\n",
    "    probabilities_valid = model.predict_proba(X_valid)\n",
    "    probabilities_one_valid = probabilities_valid[:, 1]\n",
    "    auc_roc = roc_auc_score(y_valid, probabilities_one_valid).round(2)\n",
    "    \n",
    "    return auc_roc"
   ]
  },
  {
   "cell_type": "code",
   "execution_count": 31,
   "metadata": {},
   "outputs": [],
   "source": [
    "class selection():\n",
    "    \n",
    "    def __init__(self, model, conduct, X, y):\n",
    "        \n",
    "        #Перезаписываем модель\n",
    "        self.model = model.fit(X, y)       \n",
    "        \n",
    "        self.conduct = conduct\n",
    "        \n",
    "        self.name_model = ['tree', 'forest', 'regression']\n",
    "        \n",
    "        self.index = ['Model', 'F1', 'AUC-ROC']\n",
    "        \n",
    "        #F1-мера \n",
    "        self.f1 = f_score(self.model)\n",
    "        \n",
    "        #AUC-ROC\n",
    "        self.auc_roc = auc_score(self.model)\n",
    "        \n",
    "        self.tree = \"<class 'sklearn.tree._classes.DecisionTreeClassifier'>\"\n",
    "        self.forest = \"<class 'sklearn.ensemble._forest.RandomForestClassifier'>\"\n",
    "        self.regression = \"<class 'sklearn.linear_model._logistic.LogisticRegression'>\"\n",
    "            \n",
    "    def show(self):\n",
    "            \n",
    "        #Выводим информацию\n",
    "        print(f'\\033[1m{self.model}\\033[0m')\n",
    "        print()\n",
    "        print(f\"F1-мера модели на валидационной выборке:\\033[1m {self.f1}\\033[0m\")\n",
    "        print(f'Площадь под ROC-кривой: \\033[1m{self.auc_roc}\\033[0m')   \n",
    "        print()\n",
    "            \n",
    "        if str(type(self.model)) == self.tree: \n",
    "            data_tree = {f'{self.name_model[0]}_{self.conduct}' : [self.model, self.f1, self.auc_roc]}\n",
    "            data_tree = pd.DataFrame(data_tree, index=self.index)\n",
    "            \n",
    "            return data_tree\n",
    "        \n",
    "        elif str(type(self.model)) == self.forest:\n",
    "            data_forest = {f'{self.name_model[1]}_{self.conduct}' : [self.model, self.f1, self.auc_roc]}\n",
    "            data_forest = pd.DataFrame(data_forest, index=self.index)\n",
    "            \n",
    "            return data_forest\n",
    "        \n",
    "        elif str(type(self.model)) == self.regression:\n",
    "            data_regression = {f'{self.name_model[2]}_{self.conduct}' : [self.model, self.f1, self.auc_roc]}\n",
    "            data_regression = pd.DataFrame(data_regression, index=self.index)\n",
    "                \n",
    "            return data_regression           "
   ]
  },
  {
   "cell_type": "code",
   "execution_count": 32,
   "metadata": {},
   "outputs": [],
   "source": [
    "def union(data_tree, data_forest, data_regression):\n",
    "    data_group = data_tree.join(data_forest).join(data_regression).T\n",
    "    \n",
    "    return data_group"
   ]
  },
  {
   "cell_type": "markdown",
   "metadata": {},
   "source": [
    "**Модель решаюшего дерева.**"
   ]
  },
  {
   "cell_type": "code",
   "execution_count": 33,
   "metadata": {},
   "outputs": [
    {
     "name": "stdout",
     "output_type": "stream",
     "text": [
      "\u001b[1mDecisionTreeClassifier(random_state=12345)\u001b[0m\n",
      "\n",
      "F1-мера модели на валидационной выборке:\u001b[1m 0.51\u001b[0m\n",
      "Площадь под ROC-кривой: \u001b[1m0.69\u001b[0m\n",
      "\n"
     ]
    }
   ],
   "source": [
    "tree_primary = selection(DecisionTreeClassifier(random_state=12345), 'primary', X_train, y_train).show()"
   ]
  },
  {
   "cell_type": "markdown",
   "metadata": {},
   "source": [
    "**Модель случайного леса.**"
   ]
  },
  {
   "cell_type": "code",
   "execution_count": 34,
   "metadata": {
    "scrolled": true
   },
   "outputs": [
    {
     "name": "stdout",
     "output_type": "stream",
     "text": [
      "\u001b[1mRandomForestClassifier(random_state=12345)\u001b[0m\n",
      "\n",
      "F1-мера модели на валидационной выборке:\u001b[1m 0.61\u001b[0m\n",
      "Площадь под ROC-кривой: \u001b[1m0.86\u001b[0m\n",
      "\n"
     ]
    }
   ],
   "source": [
    "forest_primary = selection(RandomForestClassifier(random_state=12345), 'primary', X_train, y_train).show()"
   ]
  },
  {
   "cell_type": "markdown",
   "metadata": {},
   "source": [
    "**Модель логичестической регрессии.**"
   ]
  },
  {
   "cell_type": "code",
   "execution_count": 35,
   "metadata": {},
   "outputs": [
    {
     "name": "stdout",
     "output_type": "stream",
     "text": [
      "\u001b[1mLogisticRegression(max_iter=1000, random_state=12345)\u001b[0m\n",
      "\n",
      "F1-мера модели на валидационной выборке:\u001b[1m 0.3\u001b[0m\n",
      "Площадь под ROC-кривой: \u001b[1m0.79\u001b[0m\n",
      "\n"
     ]
    }
   ],
   "source": [
    "regression_primary = selection(LogisticRegression(random_state=12345, \n",
    "                                                  solver='lbfgs', \n",
    "                                                  max_iter=1000), 'primary', X_train, y_train).show()"
   ]
  },
  {
   "cell_type": "markdown",
   "metadata": {},
   "source": [
    "#### Вывод "
   ]
  },
  {
   "cell_type": "code",
   "execution_count": 36,
   "metadata": {},
   "outputs": [],
   "source": [
    "data_primary = union(tree_primary, forest_primary, regression_primary)"
   ]
  },
  {
   "cell_type": "code",
   "execution_count": 37,
   "metadata": {},
   "outputs": [
    {
     "data": {
      "text/html": [
       "<div>\n",
       "<style scoped>\n",
       "    .dataframe tbody tr th:only-of-type {\n",
       "        vertical-align: middle;\n",
       "    }\n",
       "\n",
       "    .dataframe tbody tr th {\n",
       "        vertical-align: top;\n",
       "    }\n",
       "\n",
       "    .dataframe thead th {\n",
       "        text-align: right;\n",
       "    }\n",
       "</style>\n",
       "<table border=\"1\" class=\"dataframe\">\n",
       "  <thead>\n",
       "    <tr style=\"text-align: right;\">\n",
       "      <th></th>\n",
       "      <th>Model</th>\n",
       "      <th>F1</th>\n",
       "      <th>AUC-ROC</th>\n",
       "    </tr>\n",
       "  </thead>\n",
       "  <tbody>\n",
       "    <tr>\n",
       "      <th>tree_primary</th>\n",
       "      <td>DecisionTreeClassifier(random_state=12345)</td>\n",
       "      <td>0.51</td>\n",
       "      <td>0.69</td>\n",
       "    </tr>\n",
       "    <tr>\n",
       "      <th>forest_primary</th>\n",
       "      <td>(DecisionTreeClassifier(max_features='auto', r...</td>\n",
       "      <td>0.61</td>\n",
       "      <td>0.86</td>\n",
       "    </tr>\n",
       "    <tr>\n",
       "      <th>regression_primary</th>\n",
       "      <td>LogisticRegression(max_iter=1000, random_state...</td>\n",
       "      <td>0.3</td>\n",
       "      <td>0.79</td>\n",
       "    </tr>\n",
       "  </tbody>\n",
       "</table>\n",
       "</div>"
      ],
      "text/plain": [
       "                                                                Model    F1  \\\n",
       "tree_primary               DecisionTreeClassifier(random_state=12345)  0.51   \n",
       "forest_primary      (DecisionTreeClassifier(max_features='auto', r...  0.61   \n",
       "regression_primary  LogisticRegression(max_iter=1000, random_state...   0.3   \n",
       "\n",
       "                   AUC-ROC  \n",
       "tree_primary          0.69  \n",
       "forest_primary        0.86  \n",
       "regression_primary    0.79  "
      ]
     },
     "metadata": {},
     "output_type": "display_data"
    }
   ],
   "source": [
    "display(data_primary)"
   ]
  },
  {
   "cell_type": "markdown",
   "metadata": {},
   "source": [
    "Следующим шагом **зададим гиперпараметры**, и посмотрим на изменения качества моделей."
   ]
  },
  {
   "cell_type": "markdown",
   "metadata": {},
   "source": [
    "### Поиск наилучшей модели"
   ]
  },
  {
   "cell_type": "markdown",
   "metadata": {},
   "source": [
    "**Подготовим переменные** для записи лучшей модели."
   ]
  },
  {
   "cell_type": "code",
   "execution_count": 38,
   "metadata": {},
   "outputs": [],
   "source": [
    "def processing(list_model):\n",
    "    group = list_model[0]\n",
    "    for index in range(1, len(list_model)):\n",
    "        group = group.join(list_model[index], how='left', rsuffix=f'{index+1}')\n",
    "        \n",
    "    group = group.T\n",
    "    group = np.reshape(np.array(group), (group.shape[0], group.shape[1]))\n",
    "    group = pd.DataFrame(group, columns=['Model', 'F1', 'AUC-ROC']).sort_values('F1', ascending=False).head(1)   \n",
    "\n",
    "    return group"
   ]
  },
  {
   "cell_type": "markdown",
   "metadata": {},
   "source": [
    "**Модель решаюшего дерева.**"
   ]
  },
  {
   "cell_type": "code",
   "execution_count": 39,
   "metadata": {},
   "outputs": [
    {
     "name": "stdout",
     "output_type": "stream",
     "text": [
      "\u001b[1mDecisionTreeClassifier(max_depth=1, random_state=12345)\u001b[0m\n",
      "\n",
      "F1-мера модели на валидационной выборке:\u001b[1m 0.0\u001b[0m\n",
      "Площадь под ROC-кривой: \u001b[1m0.7\u001b[0m\n",
      "\n",
      "\u001b[1mDecisionTreeClassifier(max_depth=2, random_state=12345)\u001b[0m\n",
      "\n",
      "F1-мера модели на валидационной выборке:\u001b[1m 0.52\u001b[0m\n",
      "Площадь под ROC-кривой: \u001b[1m0.75\u001b[0m\n",
      "\n",
      "\u001b[1mDecisionTreeClassifier(max_depth=3, random_state=12345)\u001b[0m\n",
      "\n",
      "F1-мера модели на валидационной выборке:\u001b[1m 0.54\u001b[0m\n",
      "Площадь под ROC-кривой: \u001b[1m0.8\u001b[0m\n",
      "\n",
      "\u001b[1mDecisionTreeClassifier(max_depth=4, random_state=12345)\u001b[0m\n",
      "\n",
      "F1-мера модели на валидационной выборке:\u001b[1m 0.52\u001b[0m\n",
      "Площадь под ROC-кривой: \u001b[1m0.82\u001b[0m\n",
      "\n",
      "\u001b[1mDecisionTreeClassifier(max_depth=5, random_state=12345)\u001b[0m\n",
      "\n",
      "F1-мера модели на валидационной выборке:\u001b[1m 0.55\u001b[0m\n",
      "Площадь под ROC-кривой: \u001b[1m0.85\u001b[0m\n",
      "\n",
      "\u001b[1mDecisionTreeClassifier(max_depth=6, random_state=12345)\u001b[0m\n",
      "\n",
      "F1-мера модели на валидационной выборке:\u001b[1m 0.58\u001b[0m\n",
      "Площадь под ROC-кривой: \u001b[1m0.84\u001b[0m\n",
      "\n",
      "\u001b[1mDecisionTreeClassifier(max_depth=7, random_state=12345)\u001b[0m\n",
      "\n",
      "F1-мера модели на валидационной выборке:\u001b[1m 0.59\u001b[0m\n",
      "Площадь под ROC-кривой: \u001b[1m0.82\u001b[0m\n",
      "\n",
      "\u001b[1mDecisionTreeClassifier(max_depth=8, random_state=12345)\u001b[0m\n",
      "\n",
      "F1-мера модели на валидационной выборке:\u001b[1m 0.56\u001b[0m\n",
      "Площадь под ROC-кривой: \u001b[1m0.82\u001b[0m\n",
      "\n",
      "\u001b[1mDecisionTreeClassifier(max_depth=9, random_state=12345)\u001b[0m\n",
      "\n",
      "F1-мера модели на валидационной выборке:\u001b[1m 0.55\u001b[0m\n",
      "Площадь под ROC-кривой: \u001b[1m0.8\u001b[0m\n",
      "\n",
      "\u001b[1mDecisionTreeClassifier(max_depth=10, random_state=12345)\u001b[0m\n",
      "\n",
      "F1-мера модели на валидационной выборке:\u001b[1m 0.54\u001b[0m\n",
      "Площадь под ROC-кривой: \u001b[1m0.77\u001b[0m\n",
      "\n",
      "\u001b[1mDecisionTreeClassifier(max_depth=11, random_state=12345)\u001b[0m\n",
      "\n",
      "F1-мера модели на валидационной выборке:\u001b[1m 0.54\u001b[0m\n",
      "Площадь под ROC-кривой: \u001b[1m0.76\u001b[0m\n",
      "\n",
      "\u001b[1mDecisionTreeClassifier(max_depth=12, random_state=12345)\u001b[0m\n",
      "\n",
      "F1-мера модели на валидационной выборке:\u001b[1m 0.55\u001b[0m\n",
      "Площадь под ROC-кривой: \u001b[1m0.75\u001b[0m\n",
      "\n",
      "\u001b[1mDecisionTreeClassifier(max_depth=13, random_state=12345)\u001b[0m\n",
      "\n",
      "F1-мера модели на валидационной выборке:\u001b[1m 0.54\u001b[0m\n",
      "Площадь под ROC-кривой: \u001b[1m0.73\u001b[0m\n",
      "\n",
      "\u001b[1mDecisionTreeClassifier(max_depth=14, random_state=12345)\u001b[0m\n",
      "\n",
      "F1-мера модели на валидационной выборке:\u001b[1m 0.5\u001b[0m\n",
      "Площадь под ROC-кривой: \u001b[1m0.7\u001b[0m\n",
      "\n",
      "\u001b[1mDecisionTreeClassifier(max_depth=15, random_state=12345)\u001b[0m\n",
      "\n",
      "F1-мера модели на валидационной выборке:\u001b[1m 0.52\u001b[0m\n",
      "Площадь под ROC-кривой: \u001b[1m0.7\u001b[0m\n",
      "\n",
      "\u001b[1mDecisionTreeClassifier(max_depth=16, random_state=12345)\u001b[0m\n",
      "\n",
      "F1-мера модели на валидационной выборке:\u001b[1m 0.51\u001b[0m\n",
      "Площадь под ROC-кривой: \u001b[1m0.69\u001b[0m\n",
      "\n",
      "\u001b[1mDecisionTreeClassifier(max_depth=17, random_state=12345)\u001b[0m\n",
      "\n",
      "F1-мера модели на валидационной выборке:\u001b[1m 0.54\u001b[0m\n",
      "Площадь под ROC-кривой: \u001b[1m0.7\u001b[0m\n",
      "\n",
      "\u001b[1mDecisionTreeClassifier(max_depth=18, random_state=12345)\u001b[0m\n",
      "\n",
      "F1-мера модели на валидационной выборке:\u001b[1m 0.52\u001b[0m\n",
      "Площадь под ROC-кривой: \u001b[1m0.7\u001b[0m\n",
      "\n",
      "\u001b[1mDecisionTreeClassifier(max_depth=19, random_state=12345)\u001b[0m\n",
      "\n",
      "F1-мера модели на валидационной выборке:\u001b[1m 0.52\u001b[0m\n",
      "Площадь под ROC-кривой: \u001b[1m0.7\u001b[0m\n",
      "\n",
      "\u001b[1mDecisionTreeClassifier(max_depth=20, random_state=12345)\u001b[0m\n",
      "\n",
      "F1-мера модели на валидационной выборке:\u001b[1m 0.5\u001b[0m\n",
      "Площадь под ROC-кривой: \u001b[1m0.69\u001b[0m\n",
      "\n",
      "\u001b[1mDecisionTreeClassifier(max_depth=21, random_state=12345)\u001b[0m\n",
      "\n",
      "F1-мера модели на валидационной выборке:\u001b[1m 0.5\u001b[0m\n",
      "Площадь под ROC-кривой: \u001b[1m0.69\u001b[0m\n",
      "\n",
      "\u001b[1mDecisionTreeClassifier(max_depth=22, random_state=12345)\u001b[0m\n",
      "\n",
      "F1-мера модели на валидационной выборке:\u001b[1m 0.5\u001b[0m\n",
      "Площадь под ROC-кривой: \u001b[1m0.69\u001b[0m\n",
      "\n",
      "\u001b[1mDecisionTreeClassifier(max_depth=23, random_state=12345)\u001b[0m\n",
      "\n",
      "F1-мера модели на валидационной выборке:\u001b[1m 0.52\u001b[0m\n",
      "Площадь под ROC-кривой: \u001b[1m0.7\u001b[0m\n",
      "\n",
      "\u001b[1mDecisionTreeClassifier(max_depth=24, random_state=12345)\u001b[0m\n",
      "\n",
      "F1-мера модели на валидационной выборке:\u001b[1m 0.51\u001b[0m\n",
      "Площадь под ROC-кривой: \u001b[1m0.69\u001b[0m\n",
      "\n",
      "\u001b[1mDecisionTreeClassifier(max_depth=25, random_state=12345)\u001b[0m\n",
      "\n",
      "F1-мера модели на валидационной выборке:\u001b[1m 0.51\u001b[0m\n",
      "Площадь под ROC-кривой: \u001b[1m0.69\u001b[0m\n",
      "\n",
      "\u001b[1mDecisionTreeClassifier(max_depth=26, random_state=12345)\u001b[0m\n",
      "\n",
      "F1-мера модели на валидационной выборке:\u001b[1m 0.51\u001b[0m\n",
      "Площадь под ROC-кривой: \u001b[1m0.69\u001b[0m\n",
      "\n",
      "\u001b[1mDecisionTreeClassifier(max_depth=27, random_state=12345)\u001b[0m\n",
      "\n",
      "F1-мера модели на валидационной выборке:\u001b[1m 0.51\u001b[0m\n",
      "Площадь под ROC-кривой: \u001b[1m0.69\u001b[0m\n",
      "\n",
      "\u001b[1mDecisionTreeClassifier(max_depth=28, random_state=12345)\u001b[0m\n",
      "\n",
      "F1-мера модели на валидационной выборке:\u001b[1m 0.51\u001b[0m\n",
      "Площадь под ROC-кривой: \u001b[1m0.69\u001b[0m\n",
      "\n",
      "\u001b[1mDecisionTreeClassifier(max_depth=29, random_state=12345)\u001b[0m\n",
      "\n",
      "F1-мера модели на валидационной выборке:\u001b[1m 0.51\u001b[0m\n",
      "Площадь под ROC-кривой: \u001b[1m0.69\u001b[0m\n",
      "\n"
     ]
    }
   ],
   "source": [
    "tree_data = ([selection(DecisionTreeClassifier(random_state=12345, \n",
    "                                               max_depth=depth), 'best', X_train, y_train).show() \n",
    "              for depth in range(1, 30, 1)])"
   ]
  },
  {
   "cell_type": "code",
   "execution_count": 40,
   "metadata": {},
   "outputs": [],
   "source": [
    "tree_best = processing(tree_data)"
   ]
  },
  {
   "cell_type": "markdown",
   "metadata": {},
   "source": [
    "**Модель случайного леса.**"
   ]
  },
  {
   "cell_type": "code",
   "execution_count": 41,
   "metadata": {},
   "outputs": [
    {
     "name": "stdout",
     "output_type": "stream",
     "text": [
      "\u001b[1mRandomForestClassifier(max_depth=1, n_estimators=2, random_state=12345)\u001b[0m\n",
      "\n",
      "F1-мера модели на валидационной выборке:\u001b[1m 0.22\u001b[0m\n",
      "Площадь под ROC-кривой: \u001b[1m0.6\u001b[0m\n",
      "\n",
      "\u001b[1mRandomForestClassifier(max_depth=2, n_estimators=2, random_state=12345)\u001b[0m\n",
      "\n",
      "F1-мера модели на валидационной выборке:\u001b[1m 0.19\u001b[0m\n",
      "Площадь под ROC-кривой: \u001b[1m0.78\u001b[0m\n",
      "\n",
      "\u001b[1mRandomForestClassifier(max_depth=3, n_estimators=2, random_state=12345)\u001b[0m\n",
      "\n",
      "F1-мера модели на валидационной выборке:\u001b[1m 0.26\u001b[0m\n",
      "Площадь под ROC-кривой: \u001b[1m0.79\u001b[0m\n",
      "\n",
      "\u001b[1mRandomForestClassifier(max_depth=4, n_estimators=2, random_state=12345)\u001b[0m\n",
      "\n",
      "F1-мера модели на валидационной выборке:\u001b[1m 0.47\u001b[0m\n",
      "Площадь под ROC-кривой: \u001b[1m0.82\u001b[0m\n",
      "\n",
      "\u001b[1mRandomForestClassifier(max_depth=5, n_estimators=2, random_state=12345)\u001b[0m\n",
      "\n",
      "F1-мера модели на валидационной выборке:\u001b[1m 0.5\u001b[0m\n",
      "Площадь под ROC-кривой: \u001b[1m0.82\u001b[0m\n",
      "\n",
      "\u001b[1mRandomForestClassifier(max_depth=6, n_estimators=2, random_state=12345)\u001b[0m\n",
      "\n",
      "F1-мера модели на валидационной выборке:\u001b[1m 0.54\u001b[0m\n",
      "Площадь под ROC-кривой: \u001b[1m0.82\u001b[0m\n",
      "\n",
      "\u001b[1mRandomForestClassifier(max_depth=7, n_estimators=2, random_state=12345)\u001b[0m\n",
      "\n",
      "F1-мера модели на валидационной выборке:\u001b[1m 0.55\u001b[0m\n",
      "Площадь под ROC-кривой: \u001b[1m0.84\u001b[0m\n",
      "\n",
      "\u001b[1mRandomForestClassifier(max_depth=8, n_estimators=2, random_state=12345)\u001b[0m\n",
      "\n",
      "F1-мера модели на валидационной выборке:\u001b[1m 0.51\u001b[0m\n",
      "Площадь под ROC-кривой: \u001b[1m0.81\u001b[0m\n",
      "\n",
      "\u001b[1mRandomForestClassifier(max_depth=9, n_estimators=2, random_state=12345)\u001b[0m\n",
      "\n",
      "F1-мера модели на валидационной выборке:\u001b[1m 0.55\u001b[0m\n",
      "Площадь под ROC-кривой: \u001b[1m0.83\u001b[0m\n",
      "\n",
      "\u001b[1mRandomForestClassifier(max_depth=10, n_estimators=2, random_state=12345)\u001b[0m\n",
      "\n",
      "F1-мера модели на валидационной выборке:\u001b[1m 0.54\u001b[0m\n",
      "Площадь под ROC-кривой: \u001b[1m0.82\u001b[0m\n",
      "\n",
      "\u001b[1mRandomForestClassifier(max_depth=11, n_estimators=2, random_state=12345)\u001b[0m\n",
      "\n",
      "F1-мера модели на валидационной выборке:\u001b[1m 0.54\u001b[0m\n",
      "Площадь под ROC-кривой: \u001b[1m0.79\u001b[0m\n",
      "\n",
      "\u001b[1mRandomForestClassifier(max_depth=12, n_estimators=2, random_state=12345)\u001b[0m\n",
      "\n",
      "F1-мера модели на валидационной выборке:\u001b[1m 0.48\u001b[0m\n",
      "Площадь под ROC-кривой: \u001b[1m0.79\u001b[0m\n",
      "\n",
      "\u001b[1mRandomForestClassifier(max_depth=13, n_estimators=2, random_state=12345)\u001b[0m\n",
      "\n",
      "F1-мера модели на валидационной выборке:\u001b[1m 0.46\u001b[0m\n",
      "Площадь под ROC-кривой: \u001b[1m0.76\u001b[0m\n",
      "\n",
      "\u001b[1mRandomForestClassifier(max_depth=14, n_estimators=2, random_state=12345)\u001b[0m\n",
      "\n",
      "F1-мера модели на валидационной выборке:\u001b[1m 0.5\u001b[0m\n",
      "Площадь под ROC-кривой: \u001b[1m0.75\u001b[0m\n",
      "\n",
      "\u001b[1mRandomForestClassifier(max_depth=15, n_estimators=2, random_state=12345)\u001b[0m\n",
      "\n",
      "F1-мера модели на валидационной выборке:\u001b[1m 0.46\u001b[0m\n",
      "Площадь под ROC-кривой: \u001b[1m0.75\u001b[0m\n",
      "\n",
      "\u001b[1mRandomForestClassifier(max_depth=16, n_estimators=2, random_state=12345)\u001b[0m\n",
      "\n",
      "F1-мера модели на валидационной выборке:\u001b[1m 0.45\u001b[0m\n",
      "Площадь под ROC-кривой: \u001b[1m0.74\u001b[0m\n",
      "\n",
      "\u001b[1mRandomForestClassifier(max_depth=17, n_estimators=2, random_state=12345)\u001b[0m\n",
      "\n",
      "F1-мера модели на валидационной выборке:\u001b[1m 0.43\u001b[0m\n",
      "Площадь под ROC-кривой: \u001b[1m0.76\u001b[0m\n",
      "\n",
      "\u001b[1mRandomForestClassifier(max_depth=18, n_estimators=2, random_state=12345)\u001b[0m\n",
      "\n",
      "F1-мера модели на валидационной выборке:\u001b[1m 0.52\u001b[0m\n",
      "Площадь под ROC-кривой: \u001b[1m0.76\u001b[0m\n",
      "\n",
      "\u001b[1mRandomForestClassifier(max_depth=19, n_estimators=2, random_state=12345)\u001b[0m\n",
      "\n",
      "F1-мера модели на валидационной выборке:\u001b[1m 0.47\u001b[0m\n",
      "Площадь под ROC-кривой: \u001b[1m0.74\u001b[0m\n",
      "\n",
      "\u001b[1mRandomForestClassifier(max_depth=1, n_estimators=4, random_state=12345)\u001b[0m\n",
      "\n",
      "F1-мера модели на валидационной выборке:\u001b[1m 0.0\u001b[0m\n",
      "Площадь под ROC-кривой: \u001b[1m0.78\u001b[0m\n",
      "\n",
      "\u001b[1mRandomForestClassifier(max_depth=2, n_estimators=4, random_state=12345)\u001b[0m\n",
      "\n",
      "F1-мера модели на валидационной выборке:\u001b[1m 0.15\u001b[0m\n",
      "Площадь под ROC-кривой: \u001b[1m0.81\u001b[0m\n",
      "\n",
      "\u001b[1mRandomForestClassifier(max_depth=3, n_estimators=4, random_state=12345)\u001b[0m\n",
      "\n",
      "F1-мера модели на валидационной выборке:\u001b[1m 0.4\u001b[0m\n",
      "Площадь под ROC-кривой: \u001b[1m0.82\u001b[0m\n",
      "\n",
      "\u001b[1mRandomForestClassifier(max_depth=4, n_estimators=4, random_state=12345)\u001b[0m\n",
      "\n",
      "F1-мера модели на валидационной выборке:\u001b[1m 0.52\u001b[0m\n",
      "Площадь под ROC-кривой: \u001b[1m0.84\u001b[0m\n",
      "\n",
      "\u001b[1mRandomForestClassifier(max_depth=5, n_estimators=4, random_state=12345)\u001b[0m\n",
      "\n",
      "F1-мера модели на валидационной выборке:\u001b[1m 0.56\u001b[0m\n",
      "Площадь под ROC-кривой: \u001b[1m0.83\u001b[0m\n",
      "\n",
      "\u001b[1mRandomForestClassifier(max_depth=6, n_estimators=4, random_state=12345)\u001b[0m\n",
      "\n",
      "F1-мера модели на валидационной выборке:\u001b[1m 0.55\u001b[0m\n",
      "Площадь под ROC-кривой: \u001b[1m0.84\u001b[0m\n",
      "\n",
      "\u001b[1mRandomForestClassifier(max_depth=7, n_estimators=4, random_state=12345)\u001b[0m\n",
      "\n",
      "F1-мера модели на валидационной выборке:\u001b[1m 0.57\u001b[0m\n",
      "Площадь под ROC-кривой: \u001b[1m0.85\u001b[0m\n",
      "\n",
      "\u001b[1mRandomForestClassifier(max_depth=8, n_estimators=4, random_state=12345)\u001b[0m\n",
      "\n",
      "F1-мера модели на валидационной выборке:\u001b[1m 0.56\u001b[0m\n",
      "Площадь под ROC-кривой: \u001b[1m0.84\u001b[0m\n",
      "\n",
      "\u001b[1mRandomForestClassifier(max_depth=9, n_estimators=4, random_state=12345)\u001b[0m\n",
      "\n",
      "F1-мера модели на валидационной выборке:\u001b[1m 0.57\u001b[0m\n",
      "Площадь под ROC-кривой: \u001b[1m0.84\u001b[0m\n",
      "\n",
      "\u001b[1mRandomForestClassifier(max_depth=10, n_estimators=4, random_state=12345)\u001b[0m\n",
      "\n",
      "F1-мера модели на валидационной выборке:\u001b[1m 0.56\u001b[0m\n",
      "Площадь под ROC-кривой: \u001b[1m0.84\u001b[0m\n",
      "\n",
      "\u001b[1mRandomForestClassifier(max_depth=11, n_estimators=4, random_state=12345)\u001b[0m\n",
      "\n",
      "F1-мера модели на валидационной выборке:\u001b[1m 0.57\u001b[0m\n",
      "Площадь под ROC-кривой: \u001b[1m0.83\u001b[0m\n",
      "\n",
      "\u001b[1mRandomForestClassifier(max_depth=12, n_estimators=4, random_state=12345)\u001b[0m\n",
      "\n",
      "F1-мера модели на валидационной выборке:\u001b[1m 0.55\u001b[0m\n",
      "Площадь под ROC-кривой: \u001b[1m0.82\u001b[0m\n",
      "\n",
      "\u001b[1mRandomForestClassifier(max_depth=13, n_estimators=4, random_state=12345)\u001b[0m\n",
      "\n",
      "F1-мера модели на валидационной выборке:\u001b[1m 0.54\u001b[0m\n",
      "Площадь под ROC-кривой: \u001b[1m0.81\u001b[0m\n",
      "\n",
      "\u001b[1mRandomForestClassifier(max_depth=14, n_estimators=4, random_state=12345)\u001b[0m\n",
      "\n",
      "F1-мера модели на валидационной выборке:\u001b[1m 0.58\u001b[0m\n",
      "Площадь под ROC-кривой: \u001b[1m0.81\u001b[0m\n",
      "\n",
      "\u001b[1mRandomForestClassifier(max_depth=15, n_estimators=4, random_state=12345)\u001b[0m\n",
      "\n",
      "F1-мера модели на валидационной выборке:\u001b[1m 0.53\u001b[0m\n",
      "Площадь под ROC-кривой: \u001b[1m0.8\u001b[0m\n",
      "\n",
      "\u001b[1mRandomForestClassifier(max_depth=16, n_estimators=4, random_state=12345)\u001b[0m\n",
      "\n",
      "F1-мера модели на валидационной выборке:\u001b[1m 0.53\u001b[0m\n",
      "Площадь под ROC-кривой: \u001b[1m0.79\u001b[0m\n",
      "\n",
      "\u001b[1mRandomForestClassifier(max_depth=17, n_estimators=4, random_state=12345)\u001b[0m\n",
      "\n",
      "F1-мера модели на валидационной выборке:\u001b[1m 0.5\u001b[0m\n",
      "Площадь под ROC-кривой: \u001b[1m0.8\u001b[0m\n",
      "\n",
      "\u001b[1mRandomForestClassifier(max_depth=18, n_estimators=4, random_state=12345)\u001b[0m\n",
      "\n",
      "F1-мера модели на валидационной выборке:\u001b[1m 0.55\u001b[0m\n",
      "Площадь под ROC-кривой: \u001b[1m0.8\u001b[0m\n",
      "\n",
      "\u001b[1mRandomForestClassifier(max_depth=19, n_estimators=4, random_state=12345)\u001b[0m\n",
      "\n",
      "F1-мера модели на валидационной выборке:\u001b[1m 0.54\u001b[0m\n",
      "Площадь под ROC-кривой: \u001b[1m0.79\u001b[0m\n",
      "\n",
      "\u001b[1mRandomForestClassifier(max_depth=1, n_estimators=6, random_state=12345)\u001b[0m\n",
      "\n",
      "F1-мера модели на валидационной выборке:\u001b[1m 0.0\u001b[0m\n",
      "Площадь под ROC-кривой: \u001b[1m0.78\u001b[0m\n",
      "\n",
      "\u001b[1mRandomForestClassifier(max_depth=2, n_estimators=6, random_state=12345)\u001b[0m\n",
      "\n",
      "F1-мера модели на валидационной выборке:\u001b[1m 0.22\u001b[0m\n",
      "Площадь под ROC-кривой: \u001b[1m0.81\u001b[0m\n",
      "\n",
      "\u001b[1mRandomForestClassifier(max_depth=3, n_estimators=6, random_state=12345)\u001b[0m\n",
      "\n",
      "F1-мера модели на валидационной выборке:\u001b[1m 0.37\u001b[0m\n",
      "Площадь под ROC-кривой: \u001b[1m0.82\u001b[0m\n",
      "\n",
      "\u001b[1mRandomForestClassifier(max_depth=4, n_estimators=6, random_state=12345)\u001b[0m\n",
      "\n",
      "F1-мера модели на валидационной выборке:\u001b[1m 0.54\u001b[0m\n",
      "Площадь под ROC-кривой: \u001b[1m0.84\u001b[0m\n",
      "\n",
      "\u001b[1mRandomForestClassifier(max_depth=5, n_estimators=6, random_state=12345)\u001b[0m\n",
      "\n",
      "F1-мера модели на валидационной выборке:\u001b[1m 0.57\u001b[0m\n",
      "Площадь под ROC-кривой: \u001b[1m0.85\u001b[0m\n",
      "\n",
      "\u001b[1mRandomForestClassifier(max_depth=6, n_estimators=6, random_state=12345)\u001b[0m\n",
      "\n",
      "F1-мера модели на валидационной выборке:\u001b[1m 0.57\u001b[0m\n",
      "Площадь под ROC-кривой: \u001b[1m0.86\u001b[0m\n",
      "\n",
      "\u001b[1mRandomForestClassifier(max_depth=7, n_estimators=6, random_state=12345)\u001b[0m\n",
      "\n",
      "F1-мера модели на валидационной выборке:\u001b[1m 0.59\u001b[0m\n",
      "Площадь под ROC-кривой: \u001b[1m0.86\u001b[0m\n",
      "\n",
      "\u001b[1mRandomForestClassifier(max_depth=8, n_estimators=6, random_state=12345)\u001b[0m\n",
      "\n",
      "F1-мера модели на валидационной выборке:\u001b[1m 0.57\u001b[0m\n",
      "Площадь под ROC-кривой: \u001b[1m0.85\u001b[0m\n",
      "\n",
      "\u001b[1mRandomForestClassifier(max_depth=9, n_estimators=6, random_state=12345)\u001b[0m\n",
      "\n",
      "F1-мера модели на валидационной выборке:\u001b[1m 0.58\u001b[0m\n",
      "Площадь под ROC-кривой: \u001b[1m0.85\u001b[0m\n",
      "\n",
      "\u001b[1mRandomForestClassifier(max_depth=10, n_estimators=6, random_state=12345)\u001b[0m\n",
      "\n",
      "F1-мера модели на валидационной выборке:\u001b[1m 0.55\u001b[0m\n",
      "Площадь под ROC-кривой: \u001b[1m0.85\u001b[0m\n",
      "\n",
      "\u001b[1mRandomForestClassifier(max_depth=11, n_estimators=6, random_state=12345)\u001b[0m\n",
      "\n",
      "F1-мера модели на валидационной выборке:\u001b[1m 0.59\u001b[0m\n",
      "Площадь под ROC-кривой: \u001b[1m0.84\u001b[0m\n",
      "\n"
     ]
    },
    {
     "name": "stdout",
     "output_type": "stream",
     "text": [
      "\u001b[1mRandomForestClassifier(max_depth=12, n_estimators=6, random_state=12345)\u001b[0m\n",
      "\n",
      "F1-мера модели на валидационной выборке:\u001b[1m 0.59\u001b[0m\n",
      "Площадь под ROC-кривой: \u001b[1m0.84\u001b[0m\n",
      "\n",
      "\u001b[1mRandomForestClassifier(max_depth=13, n_estimators=6, random_state=12345)\u001b[0m\n",
      "\n",
      "F1-мера модели на валидационной выборке:\u001b[1m 0.58\u001b[0m\n",
      "Площадь под ROC-кривой: \u001b[1m0.83\u001b[0m\n",
      "\n",
      "\u001b[1mRandomForestClassifier(max_depth=14, n_estimators=6, random_state=12345)\u001b[0m\n",
      "\n",
      "F1-мера модели на валидационной выборке:\u001b[1m 0.57\u001b[0m\n",
      "Площадь под ROC-кривой: \u001b[1m0.82\u001b[0m\n",
      "\n",
      "\u001b[1mRandomForestClassifier(max_depth=15, n_estimators=6, random_state=12345)\u001b[0m\n",
      "\n",
      "F1-мера модели на валидационной выборке:\u001b[1m 0.58\u001b[0m\n",
      "Площадь под ROC-кривой: \u001b[1m0.84\u001b[0m\n",
      "\n",
      "\u001b[1mRandomForestClassifier(max_depth=16, n_estimators=6, random_state=12345)\u001b[0m\n",
      "\n",
      "F1-мера модели на валидационной выборке:\u001b[1m 0.56\u001b[0m\n",
      "Площадь под ROC-кривой: \u001b[1m0.81\u001b[0m\n",
      "\n",
      "\u001b[1mRandomForestClassifier(max_depth=17, n_estimators=6, random_state=12345)\u001b[0m\n",
      "\n",
      "F1-мера модели на валидационной выборке:\u001b[1m 0.55\u001b[0m\n",
      "Площадь под ROC-кривой: \u001b[1m0.82\u001b[0m\n",
      "\n",
      "\u001b[1mRandomForestClassifier(max_depth=18, n_estimators=6, random_state=12345)\u001b[0m\n",
      "\n",
      "F1-мера модели на валидационной выборке:\u001b[1m 0.56\u001b[0m\n",
      "Площадь под ROC-кривой: \u001b[1m0.81\u001b[0m\n",
      "\n",
      "\u001b[1mRandomForestClassifier(max_depth=19, n_estimators=6, random_state=12345)\u001b[0m\n",
      "\n",
      "F1-мера модели на валидационной выборке:\u001b[1m 0.56\u001b[0m\n",
      "Площадь под ROC-кривой: \u001b[1m0.82\u001b[0m\n",
      "\n",
      "\u001b[1mRandomForestClassifier(max_depth=1, n_estimators=8, random_state=12345)\u001b[0m\n",
      "\n",
      "F1-мера модели на валидационной выборке:\u001b[1m 0.0\u001b[0m\n",
      "Площадь под ROC-кривой: \u001b[1m0.75\u001b[0m\n",
      "\n",
      "\u001b[1mRandomForestClassifier(max_depth=2, n_estimators=8, random_state=12345)\u001b[0m\n",
      "\n",
      "F1-мера модели на валидационной выборке:\u001b[1m 0.23\u001b[0m\n",
      "Площадь под ROC-кривой: \u001b[1m0.81\u001b[0m\n",
      "\n",
      "\u001b[1mRandomForestClassifier(max_depth=3, n_estimators=8, random_state=12345)\u001b[0m\n",
      "\n",
      "F1-мера модели на валидационной выборке:\u001b[1m 0.25\u001b[0m\n",
      "Площадь под ROC-кривой: \u001b[1m0.83\u001b[0m\n",
      "\n",
      "\u001b[1mRandomForestClassifier(max_depth=4, n_estimators=8, random_state=12345)\u001b[0m\n",
      "\n",
      "F1-мера модели на валидационной выборке:\u001b[1m 0.53\u001b[0m\n",
      "Площадь под ROC-кривой: \u001b[1m0.85\u001b[0m\n",
      "\n",
      "\u001b[1mRandomForestClassifier(max_depth=5, n_estimators=8, random_state=12345)\u001b[0m\n",
      "\n",
      "F1-мера модели на валидационной выборке:\u001b[1m 0.55\u001b[0m\n",
      "Площадь под ROC-кривой: \u001b[1m0.85\u001b[0m\n",
      "\n",
      "\u001b[1mRandomForestClassifier(max_depth=6, n_estimators=8, random_state=12345)\u001b[0m\n",
      "\n",
      "F1-мера модели на валидационной выборке:\u001b[1m 0.56\u001b[0m\n",
      "Площадь под ROC-кривой: \u001b[1m0.86\u001b[0m\n",
      "\n",
      "\u001b[1mRandomForestClassifier(max_depth=7, n_estimators=8, random_state=12345)\u001b[0m\n",
      "\n",
      "F1-мера модели на валидационной выборке:\u001b[1m 0.59\u001b[0m\n",
      "Площадь под ROC-кривой: \u001b[1m0.86\u001b[0m\n",
      "\n",
      "\u001b[1mRandomForestClassifier(max_depth=8, n_estimators=8, random_state=12345)\u001b[0m\n",
      "\n",
      "F1-мера модели на валидационной выборке:\u001b[1m 0.57\u001b[0m\n",
      "Площадь под ROC-кривой: \u001b[1m0.86\u001b[0m\n",
      "\n",
      "\u001b[1mRandomForestClassifier(max_depth=9, n_estimators=8, random_state=12345)\u001b[0m\n",
      "\n",
      "F1-мера модели на валидационной выборке:\u001b[1m 0.59\u001b[0m\n",
      "Площадь под ROC-кривой: \u001b[1m0.86\u001b[0m\n",
      "\n",
      "\u001b[1mRandomForestClassifier(max_depth=10, n_estimators=8, random_state=12345)\u001b[0m\n",
      "\n",
      "F1-мера модели на валидационной выборке:\u001b[1m 0.57\u001b[0m\n",
      "Площадь под ROC-кривой: \u001b[1m0.86\u001b[0m\n",
      "\n",
      "\u001b[1mRandomForestClassifier(max_depth=11, n_estimators=8, random_state=12345)\u001b[0m\n",
      "\n",
      "F1-мера модели на валидационной выборке:\u001b[1m 0.59\u001b[0m\n",
      "Площадь под ROC-кривой: \u001b[1m0.84\u001b[0m\n",
      "\n",
      "\u001b[1mRandomForestClassifier(max_depth=12, n_estimators=8, random_state=12345)\u001b[0m\n",
      "\n",
      "F1-мера модели на валидационной выборке:\u001b[1m 0.59\u001b[0m\n",
      "Площадь под ROC-кривой: \u001b[1m0.85\u001b[0m\n",
      "\n",
      "\u001b[1mRandomForestClassifier(max_depth=13, n_estimators=8, random_state=12345)\u001b[0m\n",
      "\n",
      "F1-мера модели на валидационной выборке:\u001b[1m 0.58\u001b[0m\n",
      "Площадь под ROC-кривой: \u001b[1m0.84\u001b[0m\n",
      "\n",
      "\u001b[1mRandomForestClassifier(max_depth=14, n_estimators=8, random_state=12345)\u001b[0m\n",
      "\n",
      "F1-мера модели на валидационной выборке:\u001b[1m 0.58\u001b[0m\n",
      "Площадь под ROC-кривой: \u001b[1m0.83\u001b[0m\n",
      "\n",
      "\u001b[1mRandomForestClassifier(max_depth=15, n_estimators=8, random_state=12345)\u001b[0m\n",
      "\n",
      "F1-мера модели на валидационной выборке:\u001b[1m 0.59\u001b[0m\n",
      "Площадь под ROC-кривой: \u001b[1m0.85\u001b[0m\n",
      "\n",
      "\u001b[1mRandomForestClassifier(max_depth=16, n_estimators=8, random_state=12345)\u001b[0m\n",
      "\n",
      "F1-мера модели на валидационной выборке:\u001b[1m 0.56\u001b[0m\n",
      "Площадь под ROC-кривой: \u001b[1m0.82\u001b[0m\n",
      "\n",
      "\u001b[1mRandomForestClassifier(max_depth=17, n_estimators=8, random_state=12345)\u001b[0m\n",
      "\n",
      "F1-мера модели на валидационной выборке:\u001b[1m 0.57\u001b[0m\n",
      "Площадь под ROC-кривой: \u001b[1m0.83\u001b[0m\n",
      "\n",
      "\u001b[1mRandomForestClassifier(max_depth=18, n_estimators=8, random_state=12345)\u001b[0m\n",
      "\n",
      "F1-мера модели на валидационной выборке:\u001b[1m 0.57\u001b[0m\n",
      "Площадь под ROC-кривой: \u001b[1m0.82\u001b[0m\n",
      "\n",
      "\u001b[1mRandomForestClassifier(max_depth=19, n_estimators=8, random_state=12345)\u001b[0m\n",
      "\n",
      "F1-мера модели на валидационной выборке:\u001b[1m 0.55\u001b[0m\n",
      "Площадь под ROC-кривой: \u001b[1m0.83\u001b[0m\n",
      "\n",
      "\u001b[1mRandomForestClassifier(max_depth=1, n_estimators=10, random_state=12345)\u001b[0m\n",
      "\n",
      "F1-мера модели на валидационной выборке:\u001b[1m 0.0\u001b[0m\n",
      "Площадь под ROC-кривой: \u001b[1m0.78\u001b[0m\n",
      "\n",
      "\u001b[1mRandomForestClassifier(max_depth=2, n_estimators=10, random_state=12345)\u001b[0m\n",
      "\n",
      "F1-мера модели на валидационной выборке:\u001b[1m 0.23\u001b[0m\n",
      "Площадь под ROC-кривой: \u001b[1m0.82\u001b[0m\n",
      "\n",
      "\u001b[1mRandomForestClassifier(max_depth=3, n_estimators=10, random_state=12345)\u001b[0m\n",
      "\n",
      "F1-мера модели на валидационной выборке:\u001b[1m 0.25\u001b[0m\n",
      "Площадь под ROC-кривой: \u001b[1m0.84\u001b[0m\n",
      "\n",
      "\u001b[1mRandomForestClassifier(max_depth=4, n_estimators=10, random_state=12345)\u001b[0m\n",
      "\n",
      "F1-мера модели на валидационной выборке:\u001b[1m 0.53\u001b[0m\n",
      "Площадь под ROC-кривой: \u001b[1m0.85\u001b[0m\n",
      "\n",
      "\u001b[1mRandomForestClassifier(max_depth=5, n_estimators=10, random_state=12345)\u001b[0m\n",
      "\n",
      "F1-мера модели на валидационной выборке:\u001b[1m 0.55\u001b[0m\n",
      "Площадь под ROC-кривой: \u001b[1m0.86\u001b[0m\n",
      "\n",
      "\u001b[1mRandomForestClassifier(max_depth=6, n_estimators=10, random_state=12345)\u001b[0m\n",
      "\n",
      "F1-мера модели на валидационной выборке:\u001b[1m 0.55\u001b[0m\n",
      "Площадь под ROC-кривой: \u001b[1m0.86\u001b[0m\n",
      "\n",
      "\u001b[1mRandomForestClassifier(max_depth=7, n_estimators=10, random_state=12345)\u001b[0m\n",
      "\n",
      "F1-мера модели на валидационной выборке:\u001b[1m 0.58\u001b[0m\n",
      "Площадь под ROC-кривой: \u001b[1m0.86\u001b[0m\n",
      "\n",
      "\u001b[1mRandomForestClassifier(max_depth=8, n_estimators=10, random_state=12345)\u001b[0m\n",
      "\n",
      "F1-мера модели на валидационной выборке:\u001b[1m 0.58\u001b[0m\n",
      "Площадь под ROC-кривой: \u001b[1m0.86\u001b[0m\n",
      "\n",
      "\u001b[1mRandomForestClassifier(max_depth=9, n_estimators=10, random_state=12345)\u001b[0m\n",
      "\n",
      "F1-мера модели на валидационной выборке:\u001b[1m 0.59\u001b[0m\n",
      "Площадь под ROC-кривой: \u001b[1m0.87\u001b[0m\n",
      "\n",
      "\u001b[1mRandomForestClassifier(max_depth=10, n_estimators=10, random_state=12345)\u001b[0m\n",
      "\n",
      "F1-мера модели на валидационной выборке:\u001b[1m 0.59\u001b[0m\n",
      "Площадь под ROC-кривой: \u001b[1m0.86\u001b[0m\n",
      "\n",
      "\u001b[1mRandomForestClassifier(max_depth=11, n_estimators=10, random_state=12345)\u001b[0m\n",
      "\n",
      "F1-мера модели на валидационной выборке:\u001b[1m 0.59\u001b[0m\n",
      "Площадь под ROC-кривой: \u001b[1m0.85\u001b[0m\n",
      "\n",
      "\u001b[1mRandomForestClassifier(max_depth=12, n_estimators=10, random_state=12345)\u001b[0m\n",
      "\n",
      "F1-мера модели на валидационной выборке:\u001b[1m 0.59\u001b[0m\n",
      "Площадь под ROC-кривой: \u001b[1m0.86\u001b[0m\n",
      "\n",
      "\u001b[1mRandomForestClassifier(max_depth=13, n_estimators=10, random_state=12345)\u001b[0m\n",
      "\n",
      "F1-мера модели на валидационной выборке:\u001b[1m 0.59\u001b[0m\n",
      "Площадь под ROC-кривой: \u001b[1m0.85\u001b[0m\n",
      "\n",
      "\u001b[1mRandomForestClassifier(max_depth=14, n_estimators=10, random_state=12345)\u001b[0m\n",
      "\n",
      "F1-мера модели на валидационной выборке:\u001b[1m 0.6\u001b[0m\n",
      "Площадь под ROC-кривой: \u001b[1m0.84\u001b[0m\n",
      "\n",
      "\u001b[1mRandomForestClassifier(max_depth=15, n_estimators=10, random_state=12345)\u001b[0m\n",
      "\n",
      "F1-мера модели на валидационной выборке:\u001b[1m 0.6\u001b[0m\n",
      "Площадь под ROC-кривой: \u001b[1m0.85\u001b[0m\n",
      "\n",
      "\u001b[1mRandomForestClassifier(max_depth=16, n_estimators=10, random_state=12345)\u001b[0m\n",
      "\n",
      "F1-мера модели на валидационной выборке:\u001b[1m 0.57\u001b[0m\n",
      "Площадь под ROC-кривой: \u001b[1m0.83\u001b[0m\n",
      "\n",
      "\u001b[1mRandomForestClassifier(max_depth=17, n_estimators=10, random_state=12345)\u001b[0m\n",
      "\n",
      "F1-мера модели на валидационной выборке:\u001b[1m 0.57\u001b[0m\n",
      "Площадь под ROC-кривой: \u001b[1m0.83\u001b[0m\n",
      "\n",
      "\u001b[1mRandomForestClassifier(max_depth=18, n_estimators=10, random_state=12345)\u001b[0m\n",
      "\n",
      "F1-мера модели на валидационной выборке:\u001b[1m 0.57\u001b[0m\n",
      "Площадь под ROC-кривой: \u001b[1m0.82\u001b[0m\n",
      "\n",
      "\u001b[1mRandomForestClassifier(max_depth=19, n_estimators=10, random_state=12345)\u001b[0m\n",
      "\n",
      "F1-мера модели на валидационной выборке:\u001b[1m 0.56\u001b[0m\n",
      "Площадь под ROC-кривой: \u001b[1m0.84\u001b[0m\n",
      "\n",
      "\u001b[1mRandomForestClassifier(max_depth=1, n_estimators=12, random_state=12345)\u001b[0m\n",
      "\n",
      "F1-мера модели на валидационной выборке:\u001b[1m 0.0\u001b[0m\n",
      "Площадь под ROC-кривой: \u001b[1m0.77\u001b[0m\n",
      "\n",
      "\u001b[1mRandomForestClassifier(max_depth=2, n_estimators=12, random_state=12345)\u001b[0m\n",
      "\n",
      "F1-мера модели на валидационной выборке:\u001b[1m 0.23\u001b[0m\n",
      "Площадь под ROC-кривой: \u001b[1m0.82\u001b[0m\n",
      "\n",
      "\u001b[1mRandomForestClassifier(max_depth=3, n_estimators=12, random_state=12345)\u001b[0m\n",
      "\n",
      "F1-мера модели на валидационной выборке:\u001b[1m 0.25\u001b[0m\n",
      "Площадь под ROC-кривой: \u001b[1m0.84\u001b[0m\n",
      "\n"
     ]
    },
    {
     "name": "stdout",
     "output_type": "stream",
     "text": [
      "\u001b[1mRandomForestClassifier(max_depth=4, n_estimators=12, random_state=12345)\u001b[0m\n",
      "\n",
      "F1-мера модели на валидационной выборке:\u001b[1m 0.52\u001b[0m\n",
      "Площадь под ROC-кривой: \u001b[1m0.85\u001b[0m\n",
      "\n",
      "\u001b[1mRandomForestClassifier(max_depth=5, n_estimators=12, random_state=12345)\u001b[0m\n",
      "\n",
      "F1-мера модели на валидационной выборке:\u001b[1m 0.56\u001b[0m\n",
      "Площадь под ROC-кривой: \u001b[1m0.86\u001b[0m\n",
      "\n",
      "\u001b[1mRandomForestClassifier(max_depth=6, n_estimators=12, random_state=12345)\u001b[0m\n",
      "\n",
      "F1-мера модели на валидационной выборке:\u001b[1m 0.53\u001b[0m\n",
      "Площадь под ROC-кривой: \u001b[1m0.86\u001b[0m\n",
      "\n",
      "\u001b[1mRandomForestClassifier(max_depth=7, n_estimators=12, random_state=12345)\u001b[0m\n",
      "\n",
      "F1-мера модели на валидационной выборке:\u001b[1m 0.59\u001b[0m\n",
      "Площадь под ROC-кривой: \u001b[1m0.86\u001b[0m\n",
      "\n",
      "\u001b[1mRandomForestClassifier(max_depth=8, n_estimators=12, random_state=12345)\u001b[0m\n",
      "\n",
      "F1-мера модели на валидационной выборке:\u001b[1m 0.59\u001b[0m\n",
      "Площадь под ROC-кривой: \u001b[1m0.86\u001b[0m\n",
      "\n",
      "\u001b[1mRandomForestClassifier(max_depth=9, n_estimators=12, random_state=12345)\u001b[0m\n",
      "\n",
      "F1-мера модели на валидационной выборке:\u001b[1m 0.58\u001b[0m\n",
      "Площадь под ROC-кривой: \u001b[1m0.87\u001b[0m\n",
      "\n",
      "\u001b[1mRandomForestClassifier(max_depth=10, n_estimators=12, random_state=12345)\u001b[0m\n",
      "\n",
      "F1-мера модели на валидационной выборке:\u001b[1m 0.59\u001b[0m\n",
      "Площадь под ROC-кривой: \u001b[1m0.86\u001b[0m\n",
      "\n",
      "\u001b[1mRandomForestClassifier(max_depth=11, n_estimators=12, random_state=12345)\u001b[0m\n",
      "\n",
      "F1-мера модели на валидационной выборке:\u001b[1m 0.6\u001b[0m\n",
      "Площадь под ROC-кривой: \u001b[1m0.86\u001b[0m\n",
      "\n",
      "\u001b[1mRandomForestClassifier(max_depth=12, n_estimators=12, random_state=12345)\u001b[0m\n",
      "\n",
      "F1-мера модели на валидационной выборке:\u001b[1m 0.61\u001b[0m\n",
      "Площадь под ROC-кривой: \u001b[1m0.86\u001b[0m\n",
      "\n",
      "\u001b[1mRandomForestClassifier(max_depth=13, n_estimators=12, random_state=12345)\u001b[0m\n",
      "\n",
      "F1-мера модели на валидационной выборке:\u001b[1m 0.6\u001b[0m\n",
      "Площадь под ROC-кривой: \u001b[1m0.85\u001b[0m\n",
      "\n",
      "\u001b[1mRandomForestClassifier(max_depth=14, n_estimators=12, random_state=12345)\u001b[0m\n",
      "\n",
      "F1-мера модели на валидационной выборке:\u001b[1m 0.6\u001b[0m\n",
      "Площадь под ROC-кривой: \u001b[1m0.85\u001b[0m\n",
      "\n",
      "\u001b[1mRandomForestClassifier(max_depth=15, n_estimators=12, random_state=12345)\u001b[0m\n",
      "\n",
      "F1-мера модели на валидационной выборке:\u001b[1m 0.61\u001b[0m\n",
      "Площадь под ROC-кривой: \u001b[1m0.85\u001b[0m\n",
      "\n",
      "\u001b[1mRandomForestClassifier(max_depth=16, n_estimators=12, random_state=12345)\u001b[0m\n",
      "\n",
      "F1-мера модели на валидационной выборке:\u001b[1m 0.58\u001b[0m\n",
      "Площадь под ROC-кривой: \u001b[1m0.84\u001b[0m\n",
      "\n",
      "\u001b[1mRandomForestClassifier(max_depth=17, n_estimators=12, random_state=12345)\u001b[0m\n",
      "\n",
      "F1-мера модели на валидационной выборке:\u001b[1m 0.58\u001b[0m\n",
      "Площадь под ROC-кривой: \u001b[1m0.83\u001b[0m\n",
      "\n",
      "\u001b[1mRandomForestClassifier(max_depth=18, n_estimators=12, random_state=12345)\u001b[0m\n",
      "\n",
      "F1-мера модели на валидационной выборке:\u001b[1m 0.57\u001b[0m\n",
      "Площадь под ROC-кривой: \u001b[1m0.83\u001b[0m\n",
      "\n",
      "\u001b[1mRandomForestClassifier(max_depth=19, n_estimators=12, random_state=12345)\u001b[0m\n",
      "\n",
      "F1-мера модели на валидационной выборке:\u001b[1m 0.57\u001b[0m\n",
      "Площадь под ROC-кривой: \u001b[1m0.85\u001b[0m\n",
      "\n",
      "\u001b[1mRandomForestClassifier(max_depth=1, n_estimators=14, random_state=12345)\u001b[0m\n",
      "\n",
      "F1-мера модели на валидационной выборке:\u001b[1m 0.0\u001b[0m\n",
      "Площадь под ROC-кривой: \u001b[1m0.81\u001b[0m\n",
      "\n",
      "\u001b[1mRandomForestClassifier(max_depth=2, n_estimators=14, random_state=12345)\u001b[0m\n",
      "\n",
      "F1-мера модели на валидационной выборке:\u001b[1m 0.23\u001b[0m\n",
      "Площадь под ROC-кривой: \u001b[1m0.82\u001b[0m\n",
      "\n",
      "\u001b[1mRandomForestClassifier(max_depth=3, n_estimators=14, random_state=12345)\u001b[0m\n",
      "\n",
      "F1-мера модели на валидационной выборке:\u001b[1m 0.26\u001b[0m\n",
      "Площадь под ROC-кривой: \u001b[1m0.84\u001b[0m\n",
      "\n",
      "\u001b[1mRandomForestClassifier(max_depth=4, n_estimators=14, random_state=12345)\u001b[0m\n",
      "\n",
      "F1-мера модели на валидационной выборке:\u001b[1m 0.51\u001b[0m\n",
      "Площадь под ROC-кривой: \u001b[1m0.85\u001b[0m\n",
      "\n",
      "\u001b[1mRandomForestClassifier(max_depth=5, n_estimators=14, random_state=12345)\u001b[0m\n",
      "\n",
      "F1-мера модели на валидационной выборке:\u001b[1m 0.56\u001b[0m\n",
      "Площадь под ROC-кривой: \u001b[1m0.86\u001b[0m\n",
      "\n",
      "\u001b[1mRandomForestClassifier(max_depth=6, n_estimators=14, random_state=12345)\u001b[0m\n",
      "\n",
      "F1-мера модели на валидационной выборке:\u001b[1m 0.54\u001b[0m\n",
      "Площадь под ROC-кривой: \u001b[1m0.86\u001b[0m\n",
      "\n",
      "\u001b[1mRandomForestClassifier(max_depth=7, n_estimators=14, random_state=12345)\u001b[0m\n",
      "\n",
      "F1-мера модели на валидационной выборке:\u001b[1m 0.57\u001b[0m\n",
      "Площадь под ROC-кривой: \u001b[1m0.86\u001b[0m\n",
      "\n",
      "\u001b[1mRandomForestClassifier(max_depth=8, n_estimators=14, random_state=12345)\u001b[0m\n",
      "\n",
      "F1-мера модели на валидационной выборке:\u001b[1m 0.58\u001b[0m\n",
      "Площадь под ROC-кривой: \u001b[1m0.86\u001b[0m\n",
      "\n",
      "\u001b[1mRandomForestClassifier(max_depth=9, n_estimators=14, random_state=12345)\u001b[0m\n",
      "\n",
      "F1-мера модели на валидационной выборке:\u001b[1m 0.59\u001b[0m\n",
      "Площадь под ROC-кривой: \u001b[1m0.87\u001b[0m\n",
      "\n",
      "\u001b[1mRandomForestClassifier(max_depth=10, n_estimators=14, random_state=12345)\u001b[0m\n",
      "\n",
      "F1-мера модели на валидационной выборке:\u001b[1m 0.59\u001b[0m\n",
      "Площадь под ROC-кривой: \u001b[1m0.86\u001b[0m\n",
      "\n",
      "\u001b[1mRandomForestClassifier(max_depth=11, n_estimators=14, random_state=12345)\u001b[0m\n",
      "\n",
      "F1-мера модели на валидационной выборке:\u001b[1m 0.59\u001b[0m\n",
      "Площадь под ROC-кривой: \u001b[1m0.86\u001b[0m\n",
      "\n",
      "\u001b[1mRandomForestClassifier(max_depth=12, n_estimators=14, random_state=12345)\u001b[0m\n",
      "\n",
      "F1-мера модели на валидационной выборке:\u001b[1m 0.61\u001b[0m\n",
      "Площадь под ROC-кривой: \u001b[1m0.86\u001b[0m\n",
      "\n",
      "\u001b[1mRandomForestClassifier(max_depth=13, n_estimators=14, random_state=12345)\u001b[0m\n",
      "\n",
      "F1-мера модели на валидационной выборке:\u001b[1m 0.6\u001b[0m\n",
      "Площадь под ROC-кривой: \u001b[1m0.86\u001b[0m\n",
      "\n",
      "\u001b[1mRandomForestClassifier(max_depth=14, n_estimators=14, random_state=12345)\u001b[0m\n",
      "\n",
      "F1-мера модели на валидационной выборке:\u001b[1m 0.61\u001b[0m\n",
      "Площадь под ROC-кривой: \u001b[1m0.85\u001b[0m\n",
      "\n",
      "\u001b[1mRandomForestClassifier(max_depth=15, n_estimators=14, random_state=12345)\u001b[0m\n",
      "\n",
      "F1-мера модели на валидационной выборке:\u001b[1m 0.61\u001b[0m\n",
      "Площадь под ROC-кривой: \u001b[1m0.85\u001b[0m\n",
      "\n",
      "\u001b[1mRandomForestClassifier(max_depth=16, n_estimators=14, random_state=12345)\u001b[0m\n",
      "\n",
      "F1-мера модели на валидационной выборке:\u001b[1m 0.58\u001b[0m\n",
      "Площадь под ROC-кривой: \u001b[1m0.84\u001b[0m\n",
      "\n",
      "\u001b[1mRandomForestClassifier(max_depth=17, n_estimators=14, random_state=12345)\u001b[0m\n",
      "\n",
      "F1-мера модели на валидационной выборке:\u001b[1m 0.58\u001b[0m\n",
      "Площадь под ROC-кривой: \u001b[1m0.84\u001b[0m\n",
      "\n",
      "\u001b[1mRandomForestClassifier(max_depth=18, n_estimators=14, random_state=12345)\u001b[0m\n",
      "\n",
      "F1-мера модели на валидационной выборке:\u001b[1m 0.59\u001b[0m\n",
      "Площадь под ROC-кривой: \u001b[1m0.84\u001b[0m\n",
      "\n",
      "\u001b[1mRandomForestClassifier(max_depth=19, n_estimators=14, random_state=12345)\u001b[0m\n",
      "\n",
      "F1-мера модели на валидационной выборке:\u001b[1m 0.57\u001b[0m\n",
      "Площадь под ROC-кривой: \u001b[1m0.85\u001b[0m\n",
      "\n",
      "\u001b[1mRandomForestClassifier(max_depth=1, n_estimators=16, random_state=12345)\u001b[0m\n",
      "\n",
      "F1-мера модели на валидационной выборке:\u001b[1m 0.0\u001b[0m\n",
      "Площадь под ROC-кривой: \u001b[1m0.81\u001b[0m\n",
      "\n",
      "\u001b[1mRandomForestClassifier(max_depth=2, n_estimators=16, random_state=12345)\u001b[0m\n",
      "\n",
      "F1-мера модели на валидационной выборке:\u001b[1m 0.22\u001b[0m\n",
      "Площадь под ROC-кривой: \u001b[1m0.82\u001b[0m\n",
      "\n",
      "\u001b[1mRandomForestClassifier(max_depth=3, n_estimators=16, random_state=12345)\u001b[0m\n",
      "\n",
      "F1-мера модели на валидационной выборке:\u001b[1m 0.25\u001b[0m\n",
      "Площадь под ROC-кривой: \u001b[1m0.84\u001b[0m\n",
      "\n",
      "\u001b[1mRandomForestClassifier(max_depth=4, n_estimators=16, random_state=12345)\u001b[0m\n",
      "\n",
      "F1-мера модели на валидационной выборке:\u001b[1m 0.5\u001b[0m\n",
      "Площадь под ROC-кривой: \u001b[1m0.85\u001b[0m\n",
      "\n",
      "\u001b[1mRandomForestClassifier(max_depth=5, n_estimators=16, random_state=12345)\u001b[0m\n",
      "\n",
      "F1-мера модели на валидационной выборке:\u001b[1m 0.55\u001b[0m\n",
      "Площадь под ROC-кривой: \u001b[1m0.86\u001b[0m\n",
      "\n",
      "\u001b[1mRandomForestClassifier(max_depth=6, n_estimators=16, random_state=12345)\u001b[0m\n",
      "\n",
      "F1-мера модели на валидационной выборке:\u001b[1m 0.54\u001b[0m\n",
      "Площадь под ROC-кривой: \u001b[1m0.86\u001b[0m\n",
      "\n",
      "\u001b[1mRandomForestClassifier(max_depth=7, n_estimators=16, random_state=12345)\u001b[0m\n",
      "\n",
      "F1-мера модели на валидационной выборке:\u001b[1m 0.57\u001b[0m\n",
      "Площадь под ROC-кривой: \u001b[1m0.86\u001b[0m\n",
      "\n",
      "\u001b[1mRandomForestClassifier(max_depth=8, n_estimators=16, random_state=12345)\u001b[0m\n",
      "\n",
      "F1-мера модели на валидационной выборке:\u001b[1m 0.58\u001b[0m\n",
      "Площадь под ROC-кривой: \u001b[1m0.86\u001b[0m\n",
      "\n",
      "\u001b[1mRandomForestClassifier(max_depth=9, n_estimators=16, random_state=12345)\u001b[0m\n",
      "\n",
      "F1-мера модели на валидационной выборке:\u001b[1m 0.58\u001b[0m\n",
      "Площадь под ROC-кривой: \u001b[1m0.87\u001b[0m\n",
      "\n",
      "\u001b[1mRandomForestClassifier(max_depth=10, n_estimators=16, random_state=12345)\u001b[0m\n",
      "\n",
      "F1-мера модели на валидационной выборке:\u001b[1m 0.6\u001b[0m\n",
      "Площадь под ROC-кривой: \u001b[1m0.87\u001b[0m\n",
      "\n",
      "\u001b[1mRandomForestClassifier(max_depth=11, n_estimators=16, random_state=12345)\u001b[0m\n",
      "\n",
      "F1-мера модели на валидационной выборке:\u001b[1m 0.6\u001b[0m\n",
      "Площадь под ROC-кривой: \u001b[1m0.86\u001b[0m\n",
      "\n",
      "\u001b[1mRandomForestClassifier(max_depth=12, n_estimators=16, random_state=12345)\u001b[0m\n",
      "\n",
      "F1-мера модели на валидационной выборке:\u001b[1m 0.6\u001b[0m\n",
      "Площадь под ROC-кривой: \u001b[1m0.86\u001b[0m\n",
      "\n",
      "\u001b[1mRandomForestClassifier(max_depth=13, n_estimators=16, random_state=12345)\u001b[0m\n",
      "\n",
      "F1-мера модели на валидационной выборке:\u001b[1m 0.6\u001b[0m\n",
      "Площадь под ROC-кривой: \u001b[1m0.86\u001b[0m\n",
      "\n"
     ]
    },
    {
     "name": "stdout",
     "output_type": "stream",
     "text": [
      "\u001b[1mRandomForestClassifier(max_depth=14, n_estimators=16, random_state=12345)\u001b[0m\n",
      "\n",
      "F1-мера модели на валидационной выборке:\u001b[1m 0.6\u001b[0m\n",
      "Площадь под ROC-кривой: \u001b[1m0.85\u001b[0m\n",
      "\n",
      "\u001b[1mRandomForestClassifier(max_depth=15, n_estimators=16, random_state=12345)\u001b[0m\n",
      "\n",
      "F1-мера модели на валидационной выборке:\u001b[1m 0.62\u001b[0m\n",
      "Площадь под ROC-кривой: \u001b[1m0.86\u001b[0m\n",
      "\n",
      "\u001b[1mRandomForestClassifier(max_depth=16, n_estimators=16, random_state=12345)\u001b[0m\n",
      "\n",
      "F1-мера модели на валидационной выборке:\u001b[1m 0.58\u001b[0m\n",
      "Площадь под ROC-кривой: \u001b[1m0.85\u001b[0m\n",
      "\n",
      "\u001b[1mRandomForestClassifier(max_depth=17, n_estimators=16, random_state=12345)\u001b[0m\n",
      "\n",
      "F1-мера модели на валидационной выборке:\u001b[1m 0.6\u001b[0m\n",
      "Площадь под ROC-кривой: \u001b[1m0.84\u001b[0m\n",
      "\n",
      "\u001b[1mRandomForestClassifier(max_depth=18, n_estimators=16, random_state=12345)\u001b[0m\n",
      "\n",
      "F1-мера модели на валидационной выборке:\u001b[1m 0.6\u001b[0m\n",
      "Площадь под ROC-кривой: \u001b[1m0.84\u001b[0m\n",
      "\n",
      "\u001b[1mRandomForestClassifier(max_depth=19, n_estimators=16, random_state=12345)\u001b[0m\n",
      "\n",
      "F1-мера модели на валидационной выборке:\u001b[1m 0.58\u001b[0m\n",
      "Площадь под ROC-кривой: \u001b[1m0.85\u001b[0m\n",
      "\n",
      "\u001b[1mRandomForestClassifier(max_depth=1, n_estimators=18, random_state=12345)\u001b[0m\n",
      "\n",
      "F1-мера модели на валидационной выборке:\u001b[1m 0.0\u001b[0m\n",
      "Площадь под ROC-кривой: \u001b[1m0.81\u001b[0m\n",
      "\n",
      "\u001b[1mRandomForestClassifier(max_depth=2, n_estimators=18, random_state=12345)\u001b[0m\n",
      "\n",
      "F1-мера модели на валидационной выборке:\u001b[1m 0.22\u001b[0m\n",
      "Площадь под ROC-кривой: \u001b[1m0.82\u001b[0m\n",
      "\n",
      "\u001b[1mRandomForestClassifier(max_depth=3, n_estimators=18, random_state=12345)\u001b[0m\n",
      "\n",
      "F1-мера модели на валидационной выборке:\u001b[1m 0.25\u001b[0m\n",
      "Площадь под ROC-кривой: \u001b[1m0.84\u001b[0m\n",
      "\n",
      "\u001b[1mRandomForestClassifier(max_depth=4, n_estimators=18, random_state=12345)\u001b[0m\n",
      "\n",
      "F1-мера модели на валидационной выборке:\u001b[1m 0.51\u001b[0m\n",
      "Площадь под ROC-кривой: \u001b[1m0.85\u001b[0m\n",
      "\n",
      "\u001b[1mRandomForestClassifier(max_depth=5, n_estimators=18, random_state=12345)\u001b[0m\n",
      "\n",
      "F1-мера модели на валидационной выборке:\u001b[1m 0.55\u001b[0m\n",
      "Площадь под ROC-кривой: \u001b[1m0.86\u001b[0m\n",
      "\n",
      "\u001b[1mRandomForestClassifier(max_depth=6, n_estimators=18, random_state=12345)\u001b[0m\n",
      "\n",
      "F1-мера модели на валидационной выборке:\u001b[1m 0.54\u001b[0m\n",
      "Площадь под ROC-кривой: \u001b[1m0.87\u001b[0m\n",
      "\n",
      "\u001b[1mRandomForestClassifier(max_depth=7, n_estimators=18, random_state=12345)\u001b[0m\n",
      "\n",
      "F1-мера модели на валидационной выборке:\u001b[1m 0.57\u001b[0m\n",
      "Площадь под ROC-кривой: \u001b[1m0.86\u001b[0m\n",
      "\n",
      "\u001b[1mRandomForestClassifier(max_depth=8, n_estimators=18, random_state=12345)\u001b[0m\n",
      "\n",
      "F1-мера модели на валидационной выборке:\u001b[1m 0.58\u001b[0m\n",
      "Площадь под ROC-кривой: \u001b[1m0.86\u001b[0m\n",
      "\n",
      "\u001b[1mRandomForestClassifier(max_depth=9, n_estimators=18, random_state=12345)\u001b[0m\n",
      "\n",
      "F1-мера модели на валидационной выборке:\u001b[1m 0.58\u001b[0m\n",
      "Площадь под ROC-кривой: \u001b[1m0.87\u001b[0m\n",
      "\n",
      "\u001b[1mRandomForestClassifier(max_depth=10, n_estimators=18, random_state=12345)\u001b[0m\n",
      "\n",
      "F1-мера модели на валидационной выборке:\u001b[1m 0.6\u001b[0m\n",
      "Площадь под ROC-кривой: \u001b[1m0.87\u001b[0m\n",
      "\n",
      "\u001b[1mRandomForestClassifier(max_depth=11, n_estimators=18, random_state=12345)\u001b[0m\n",
      "\n",
      "F1-мера модели на валидационной выборке:\u001b[1m 0.6\u001b[0m\n",
      "Площадь под ROC-кривой: \u001b[1m0.86\u001b[0m\n",
      "\n",
      "\u001b[1mRandomForestClassifier(max_depth=12, n_estimators=18, random_state=12345)\u001b[0m\n",
      "\n",
      "F1-мера модели на валидационной выборке:\u001b[1m 0.61\u001b[0m\n",
      "Площадь под ROC-кривой: \u001b[1m0.86\u001b[0m\n",
      "\n",
      "\u001b[1mRandomForestClassifier(max_depth=13, n_estimators=18, random_state=12345)\u001b[0m\n",
      "\n",
      "F1-мера модели на валидационной выборке:\u001b[1m 0.61\u001b[0m\n",
      "Площадь под ROC-кривой: \u001b[1m0.86\u001b[0m\n",
      "\n",
      "\u001b[1mRandomForestClassifier(max_depth=14, n_estimators=18, random_state=12345)\u001b[0m\n",
      "\n",
      "F1-мера модели на валидационной выборке:\u001b[1m 0.6\u001b[0m\n",
      "Площадь под ROC-кривой: \u001b[1m0.85\u001b[0m\n",
      "\n",
      "\u001b[1mRandomForestClassifier(max_depth=15, n_estimators=18, random_state=12345)\u001b[0m\n",
      "\n",
      "F1-мера модели на валидационной выборке:\u001b[1m 0.62\u001b[0m\n",
      "Площадь под ROC-кривой: \u001b[1m0.86\u001b[0m\n",
      "\n",
      "\u001b[1mRandomForestClassifier(max_depth=16, n_estimators=18, random_state=12345)\u001b[0m\n",
      "\n",
      "F1-мера модели на валидационной выборке:\u001b[1m 0.58\u001b[0m\n",
      "Площадь под ROC-кривой: \u001b[1m0.85\u001b[0m\n",
      "\n",
      "\u001b[1mRandomForestClassifier(max_depth=17, n_estimators=18, random_state=12345)\u001b[0m\n",
      "\n",
      "F1-мера модели на валидационной выборке:\u001b[1m 0.61\u001b[0m\n",
      "Площадь под ROC-кривой: \u001b[1m0.84\u001b[0m\n",
      "\n",
      "\u001b[1mRandomForestClassifier(max_depth=18, n_estimators=18, random_state=12345)\u001b[0m\n",
      "\n",
      "F1-мера модели на валидационной выборке:\u001b[1m 0.6\u001b[0m\n",
      "Площадь под ROC-кривой: \u001b[1m0.84\u001b[0m\n",
      "\n",
      "\u001b[1mRandomForestClassifier(max_depth=19, n_estimators=18, random_state=12345)\u001b[0m\n",
      "\n",
      "F1-мера модели на валидационной выборке:\u001b[1m 0.59\u001b[0m\n",
      "Площадь под ROC-кривой: \u001b[1m0.86\u001b[0m\n",
      "\n"
     ]
    }
   ],
   "source": [
    "forest_data = ([selection(RandomForestClassifier(random_state=12345, \n",
    "                                                 n_estimators=n_est,\n",
    "                                                 max_depth=depth), 'best', X_train, y_train).show() \n",
    "              for n_est in range(2, 20, 2) for depth in range(1, 20, 1)])"
   ]
  },
  {
   "cell_type": "code",
   "execution_count": 42,
   "metadata": {
    "scrolled": true
   },
   "outputs": [],
   "source": [
    "forest_best = processing(forest_data)"
   ]
  },
  {
   "cell_type": "markdown",
   "metadata": {},
   "source": [
    "**Модель логичестической регрессии.**"
   ]
  },
  {
   "cell_type": "code",
   "execution_count": 43,
   "metadata": {
    "scrolled": true
   },
   "outputs": [
    {
     "name": "stdout",
     "output_type": "stream",
     "text": [
      "\u001b[1mLogisticRegression(C=100, random_state=12345, solver='newton-cg')\u001b[0m\n",
      "\n",
      "F1-мера модели на валидационной выборке:\u001b[1m 0.31\u001b[0m\n",
      "Площадь под ROC-кривой: \u001b[1m0.79\u001b[0m\n",
      "\n",
      "\u001b[1mLogisticRegression(C=10, random_state=12345, solver='newton-cg')\u001b[0m\n",
      "\n",
      "F1-мера модели на валидационной выборке:\u001b[1m 0.31\u001b[0m\n",
      "Площадь под ROC-кривой: \u001b[1m0.79\u001b[0m\n",
      "\n",
      "\u001b[1mLogisticRegression(random_state=12345, solver='newton-cg')\u001b[0m\n",
      "\n",
      "F1-мера модели на валидационной выборке:\u001b[1m 0.3\u001b[0m\n",
      "Площадь под ROC-кривой: \u001b[1m0.79\u001b[0m\n",
      "\n",
      "\u001b[1mLogisticRegression(C=0.1, random_state=12345, solver='newton-cg')\u001b[0m\n",
      "\n",
      "F1-мера модели на валидационной выборке:\u001b[1m 0.3\u001b[0m\n",
      "Площадь под ROC-кривой: \u001b[1m0.79\u001b[0m\n",
      "\n",
      "\u001b[1mLogisticRegression(C=0.01, random_state=12345, solver='newton-cg')\u001b[0m\n",
      "\n",
      "F1-мера модели на валидационной выборке:\u001b[1m 0.22\u001b[0m\n",
      "Площадь под ROC-кривой: \u001b[1m0.79\u001b[0m\n",
      "\n",
      "\u001b[1mLogisticRegression(C=100, random_state=12345)\u001b[0m\n",
      "\n",
      "F1-мера модели на валидационной выборке:\u001b[1m 0.31\u001b[0m\n",
      "Площадь под ROC-кривой: \u001b[1m0.79\u001b[0m\n",
      "\n",
      "\u001b[1mLogisticRegression(C=10, random_state=12345)\u001b[0m\n",
      "\n",
      "F1-мера модели на валидационной выборке:\u001b[1m 0.31\u001b[0m\n",
      "Площадь под ROC-кривой: \u001b[1m0.79\u001b[0m\n",
      "\n",
      "\u001b[1mLogisticRegression(random_state=12345)\u001b[0m\n",
      "\n",
      "F1-мера модели на валидационной выборке:\u001b[1m 0.3\u001b[0m\n",
      "Площадь под ROC-кривой: \u001b[1m0.79\u001b[0m\n",
      "\n",
      "\u001b[1mLogisticRegression(C=0.1, random_state=12345)\u001b[0m\n",
      "\n",
      "F1-мера модели на валидационной выборке:\u001b[1m 0.3\u001b[0m\n",
      "Площадь под ROC-кривой: \u001b[1m0.79\u001b[0m\n",
      "\n",
      "\u001b[1mLogisticRegression(C=0.01, random_state=12345)\u001b[0m\n",
      "\n",
      "F1-мера модели на валидационной выборке:\u001b[1m 0.22\u001b[0m\n",
      "Площадь под ROC-кривой: \u001b[1m0.79\u001b[0m\n",
      "\n",
      "\u001b[1mLogisticRegression(C=100, random_state=12345, solver='liblinear')\u001b[0m\n",
      "\n",
      "F1-мера модели на валидационной выборке:\u001b[1m 0.31\u001b[0m\n",
      "Площадь под ROC-кривой: \u001b[1m0.79\u001b[0m\n",
      "\n",
      "\u001b[1mLogisticRegression(C=10, random_state=12345, solver='liblinear')\u001b[0m\n",
      "\n",
      "F1-мера модели на валидационной выборке:\u001b[1m 0.31\u001b[0m\n",
      "Площадь под ROC-кривой: \u001b[1m0.79\u001b[0m\n",
      "\n",
      "\u001b[1mLogisticRegression(random_state=12345, solver='liblinear')\u001b[0m\n",
      "\n",
      "F1-мера модели на валидационной выборке:\u001b[1m 0.31\u001b[0m\n",
      "Площадь под ROC-кривой: \u001b[1m0.79\u001b[0m\n",
      "\n",
      "\u001b[1mLogisticRegression(C=0.1, random_state=12345, solver='liblinear')\u001b[0m\n",
      "\n",
      "F1-мера модели на валидационной выборке:\u001b[1m 0.3\u001b[0m\n",
      "Площадь под ROC-кривой: \u001b[1m0.79\u001b[0m\n",
      "\n",
      "\u001b[1mLogisticRegression(C=0.01, random_state=12345, solver='liblinear')\u001b[0m\n",
      "\n",
      "F1-мера модели на валидационной выборке:\u001b[1m 0.24\u001b[0m\n",
      "Площадь под ROC-кривой: \u001b[1m0.78\u001b[0m\n",
      "\n"
     ]
    }
   ],
   "source": [
    "regression_data  = ([selection(LogisticRegression(random_state=12345, \n",
    "                                                    solver=iter_, \n",
    "                                                  C = c_values), 'best', X_train, y_train).show() \n",
    "                       for iter_ in ['newton-cg', 'lbfgs', 'liblinear'] for c_values in [100, 10, 1.0, 0.1, 0.01]])"
   ]
  },
  {
   "cell_type": "code",
   "execution_count": 44,
   "metadata": {},
   "outputs": [],
   "source": [
    "regression_best = processing(regression_data)"
   ]
  },
  {
   "cell_type": "code",
   "execution_count": 45,
   "metadata": {},
   "outputs": [],
   "source": [
    "tree_best.index = ['tree_best']\n",
    "forest_best.index = ['forest_best']\n",
    "regression_best.index = ['regression_best']"
   ]
  },
  {
   "cell_type": "markdown",
   "metadata": {},
   "source": [
    "#### Вывод"
   ]
  },
  {
   "cell_type": "code",
   "execution_count": 47,
   "metadata": {},
   "outputs": [],
   "source": [
    "data_best = union(tree_best.T, forest_best.T, regression_best.T)"
   ]
  },
  {
   "cell_type": "code",
   "execution_count": 48,
   "metadata": {},
   "outputs": [
    {
     "data": {
      "text/html": [
       "<div>\n",
       "<style scoped>\n",
       "    .dataframe tbody tr th:only-of-type {\n",
       "        vertical-align: middle;\n",
       "    }\n",
       "\n",
       "    .dataframe tbody tr th {\n",
       "        vertical-align: top;\n",
       "    }\n",
       "\n",
       "    .dataframe thead th {\n",
       "        text-align: right;\n",
       "    }\n",
       "</style>\n",
       "<table border=\"1\" class=\"dataframe\">\n",
       "  <thead>\n",
       "    <tr style=\"text-align: right;\">\n",
       "      <th></th>\n",
       "      <th>Model</th>\n",
       "      <th>F1</th>\n",
       "      <th>AUC-ROC</th>\n",
       "    </tr>\n",
       "  </thead>\n",
       "  <tbody>\n",
       "    <tr>\n",
       "      <th>tree_best</th>\n",
       "      <td>DecisionTreeClassifier(max_depth=7, random_sta...</td>\n",
       "      <td>0.59</td>\n",
       "      <td>0.82</td>\n",
       "    </tr>\n",
       "    <tr>\n",
       "      <th>forest_best</th>\n",
       "      <td>(DecisionTreeClassifier(max_depth=15, max_feat...</td>\n",
       "      <td>0.62</td>\n",
       "      <td>0.86</td>\n",
       "    </tr>\n",
       "    <tr>\n",
       "      <th>regression_best</th>\n",
       "      <td>LogisticRegression(C=100, random_state=12345, ...</td>\n",
       "      <td>0.31</td>\n",
       "      <td>0.79</td>\n",
       "    </tr>\n",
       "  </tbody>\n",
       "</table>\n",
       "</div>"
      ],
      "text/plain": [
       "                                                             Model    F1  \\\n",
       "tree_best        DecisionTreeClassifier(max_depth=7, random_sta...  0.59   \n",
       "forest_best      (DecisionTreeClassifier(max_depth=15, max_feat...  0.62   \n",
       "regression_best  LogisticRegression(C=100, random_state=12345, ...  0.31   \n",
       "\n",
       "                AUC-ROC  \n",
       "tree_best          0.82  \n",
       "forest_best        0.86  \n",
       "regression_best    0.79  "
      ]
     },
     "metadata": {},
     "output_type": "display_data"
    }
   ],
   "source": [
    "display(data_best)"
   ]
  },
  {
   "cell_type": "markdown",
   "metadata": {},
   "source": [
    "####  Сравнение контантных моделей и наилучших"
   ]
  },
  {
   "cell_type": "markdown",
   "metadata": {},
   "source": [
    "**Таблица**"
   ]
  },
  {
   "cell_type": "code",
   "execution_count": 49,
   "metadata": {},
   "outputs": [
    {
     "data": {
      "text/html": [
       "<div>\n",
       "<style scoped>\n",
       "    .dataframe tbody tr th:only-of-type {\n",
       "        vertical-align: middle;\n",
       "    }\n",
       "\n",
       "    .dataframe tbody tr th {\n",
       "        vertical-align: top;\n",
       "    }\n",
       "\n",
       "    .dataframe thead th {\n",
       "        text-align: right;\n",
       "    }\n",
       "</style>\n",
       "<table border=\"1\" class=\"dataframe\">\n",
       "  <thead>\n",
       "    <tr style=\"text-align: right;\">\n",
       "      <th></th>\n",
       "      <th>Model</th>\n",
       "      <th>F1</th>\n",
       "      <th>AUC-ROC</th>\n",
       "    </tr>\n",
       "  </thead>\n",
       "  <tbody>\n",
       "    <tr>\n",
       "      <th>tree_primary</th>\n",
       "      <td>DecisionTreeClassifier(random_state=12345)</td>\n",
       "      <td>0.51</td>\n",
       "      <td>0.69</td>\n",
       "    </tr>\n",
       "    <tr>\n",
       "      <th>tree_best</th>\n",
       "      <td>DecisionTreeClassifier(max_depth=7, random_sta...</td>\n",
       "      <td>0.59</td>\n",
       "      <td>0.82</td>\n",
       "    </tr>\n",
       "  </tbody>\n",
       "</table>\n",
       "</div>"
      ],
      "text/plain": [
       "                                                          Model    F1 AUC-ROC\n",
       "tree_primary         DecisionTreeClassifier(random_state=12345)  0.51    0.69\n",
       "tree_best     DecisionTreeClassifier(max_depth=7, random_sta...  0.59    0.82"
      ]
     },
     "metadata": {},
     "output_type": "display_data"
    },
    {
     "data": {
      "text/html": [
       "<div>\n",
       "<style scoped>\n",
       "    .dataframe tbody tr th:only-of-type {\n",
       "        vertical-align: middle;\n",
       "    }\n",
       "\n",
       "    .dataframe tbody tr th {\n",
       "        vertical-align: top;\n",
       "    }\n",
       "\n",
       "    .dataframe thead th {\n",
       "        text-align: right;\n",
       "    }\n",
       "</style>\n",
       "<table border=\"1\" class=\"dataframe\">\n",
       "  <thead>\n",
       "    <tr style=\"text-align: right;\">\n",
       "      <th></th>\n",
       "      <th>Model</th>\n",
       "      <th>F1</th>\n",
       "      <th>AUC-ROC</th>\n",
       "    </tr>\n",
       "  </thead>\n",
       "  <tbody>\n",
       "    <tr>\n",
       "      <th>forest_primary</th>\n",
       "      <td>(DecisionTreeClassifier(max_features='auto', r...</td>\n",
       "      <td>0.61</td>\n",
       "      <td>0.86</td>\n",
       "    </tr>\n",
       "    <tr>\n",
       "      <th>forest_best</th>\n",
       "      <td>(DecisionTreeClassifier(max_depth=15, max_feat...</td>\n",
       "      <td>0.62</td>\n",
       "      <td>0.86</td>\n",
       "    </tr>\n",
       "  </tbody>\n",
       "</table>\n",
       "</div>"
      ],
      "text/plain": [
       "                                                            Model    F1  \\\n",
       "forest_primary  (DecisionTreeClassifier(max_features='auto', r...  0.61   \n",
       "forest_best     (DecisionTreeClassifier(max_depth=15, max_feat...  0.62   \n",
       "\n",
       "               AUC-ROC  \n",
       "forest_primary    0.86  \n",
       "forest_best       0.86  "
      ]
     },
     "metadata": {},
     "output_type": "display_data"
    },
    {
     "data": {
      "text/html": [
       "<div>\n",
       "<style scoped>\n",
       "    .dataframe tbody tr th:only-of-type {\n",
       "        vertical-align: middle;\n",
       "    }\n",
       "\n",
       "    .dataframe tbody tr th {\n",
       "        vertical-align: top;\n",
       "    }\n",
       "\n",
       "    .dataframe thead th {\n",
       "        text-align: right;\n",
       "    }\n",
       "</style>\n",
       "<table border=\"1\" class=\"dataframe\">\n",
       "  <thead>\n",
       "    <tr style=\"text-align: right;\">\n",
       "      <th></th>\n",
       "      <th>Model</th>\n",
       "      <th>F1</th>\n",
       "      <th>AUC-ROC</th>\n",
       "    </tr>\n",
       "  </thead>\n",
       "  <tbody>\n",
       "    <tr>\n",
       "      <th>regression_primary</th>\n",
       "      <td>LogisticRegression(max_iter=1000, random_state...</td>\n",
       "      <td>0.3</td>\n",
       "      <td>0.79</td>\n",
       "    </tr>\n",
       "    <tr>\n",
       "      <th>regression_best</th>\n",
       "      <td>LogisticRegression(C=100, random_state=12345, ...</td>\n",
       "      <td>0.31</td>\n",
       "      <td>0.79</td>\n",
       "    </tr>\n",
       "  </tbody>\n",
       "</table>\n",
       "</div>"
      ],
      "text/plain": [
       "                                                                Model    F1  \\\n",
       "regression_primary  LogisticRegression(max_iter=1000, random_state...   0.3   \n",
       "regression_best     LogisticRegression(C=100, random_state=12345, ...  0.31   \n",
       "\n",
       "                   AUC-ROC  \n",
       "regression_primary    0.79  \n",
       "regression_best       0.79  "
      ]
     },
     "metadata": {},
     "output_type": "display_data"
    }
   ],
   "source": [
    "for index in range(0,3):\n",
    "    display(pd.concat([data_primary[index:index+1], data_best[index:index+1]], axis=0))"
   ]
  },
  {
   "cell_type": "code",
   "execution_count": 50,
   "metadata": {},
   "outputs": [
    {
     "data": {
      "text/html": [
       "<div>\n",
       "<style scoped>\n",
       "    .dataframe tbody tr th:only-of-type {\n",
       "        vertical-align: middle;\n",
       "    }\n",
       "\n",
       "    .dataframe tbody tr th {\n",
       "        vertical-align: top;\n",
       "    }\n",
       "\n",
       "    .dataframe thead th {\n",
       "        text-align: right;\n",
       "    }\n",
       "</style>\n",
       "<table border=\"1\" class=\"dataframe\">\n",
       "  <thead>\n",
       "    <tr style=\"text-align: right;\">\n",
       "      <th></th>\n",
       "      <th>Model</th>\n",
       "      <th>F1</th>\n",
       "      <th>AUC-ROC</th>\n",
       "    </tr>\n",
       "  </thead>\n",
       "  <tbody>\n",
       "    <tr>\n",
       "      <th>tree_primary</th>\n",
       "      <td>DecisionTreeClassifier(random_state=12345)</td>\n",
       "      <td>0.51</td>\n",
       "      <td>0.69</td>\n",
       "    </tr>\n",
       "    <tr>\n",
       "      <th>forest_primary</th>\n",
       "      <td>(DecisionTreeClassifier(max_features='auto', r...</td>\n",
       "      <td>0.61</td>\n",
       "      <td>0.86</td>\n",
       "    </tr>\n",
       "    <tr>\n",
       "      <th>regression_primary</th>\n",
       "      <td>LogisticRegression(max_iter=1000, random_state...</td>\n",
       "      <td>0.3</td>\n",
       "      <td>0.79</td>\n",
       "    </tr>\n",
       "  </tbody>\n",
       "</table>\n",
       "</div>"
      ],
      "text/plain": [
       "                                                                Model    F1  \\\n",
       "tree_primary               DecisionTreeClassifier(random_state=12345)  0.51   \n",
       "forest_primary      (DecisionTreeClassifier(max_features='auto', r...  0.61   \n",
       "regression_primary  LogisticRegression(max_iter=1000, random_state...   0.3   \n",
       "\n",
       "                   AUC-ROC  \n",
       "tree_primary          0.69  \n",
       "forest_primary        0.86  \n",
       "regression_primary    0.79  "
      ]
     },
     "metadata": {},
     "output_type": "display_data"
    },
    {
     "data": {
      "text/html": [
       "<div>\n",
       "<style scoped>\n",
       "    .dataframe tbody tr th:only-of-type {\n",
       "        vertical-align: middle;\n",
       "    }\n",
       "\n",
       "    .dataframe tbody tr th {\n",
       "        vertical-align: top;\n",
       "    }\n",
       "\n",
       "    .dataframe thead th {\n",
       "        text-align: right;\n",
       "    }\n",
       "</style>\n",
       "<table border=\"1\" class=\"dataframe\">\n",
       "  <thead>\n",
       "    <tr style=\"text-align: right;\">\n",
       "      <th></th>\n",
       "      <th>Model</th>\n",
       "      <th>F1</th>\n",
       "      <th>AUC-ROC</th>\n",
       "    </tr>\n",
       "  </thead>\n",
       "  <tbody>\n",
       "    <tr>\n",
       "      <th>tree_best</th>\n",
       "      <td>DecisionTreeClassifier(max_depth=7, random_sta...</td>\n",
       "      <td>0.59</td>\n",
       "      <td>0.82</td>\n",
       "    </tr>\n",
       "    <tr>\n",
       "      <th>forest_best</th>\n",
       "      <td>(DecisionTreeClassifier(max_depth=15, max_feat...</td>\n",
       "      <td>0.62</td>\n",
       "      <td>0.86</td>\n",
       "    </tr>\n",
       "    <tr>\n",
       "      <th>regression_best</th>\n",
       "      <td>LogisticRegression(C=100, random_state=12345, ...</td>\n",
       "      <td>0.31</td>\n",
       "      <td>0.79</td>\n",
       "    </tr>\n",
       "  </tbody>\n",
       "</table>\n",
       "</div>"
      ],
      "text/plain": [
       "                                                             Model    F1  \\\n",
       "tree_best        DecisionTreeClassifier(max_depth=7, random_sta...  0.59   \n",
       "forest_best      (DecisionTreeClassifier(max_depth=15, max_feat...  0.62   \n",
       "regression_best  LogisticRegression(C=100, random_state=12345, ...  0.31   \n",
       "\n",
       "                AUC-ROC  \n",
       "tree_best          0.82  \n",
       "forest_best        0.86  \n",
       "regression_best    0.79  "
      ]
     },
     "metadata": {},
     "output_type": "display_data"
    }
   ],
   "source": [
    "display(data_primary)\n",
    "display(data_best)"
   ]
  },
  {
   "cell_type": "markdown",
   "metadata": {},
   "source": [
    "Заметим, что не все модели **не прошли порог F1-меры равной 0.59.** Поэтому необходимо использовать методы для **повышения качества моделей.**"
   ]
  },
  {
   "cell_type": "markdown",
   "metadata": {},
   "source": [
    "## Борьба с дисбалансом"
   ]
  },
  {
   "cell_type": "markdown",
   "metadata": {},
   "source": [
    "Выведим количество **значений в целевом признаке.**"
   ]
  },
  {
   "cell_type": "code",
   "execution_count": 51,
   "metadata": {},
   "outputs": [
    {
     "name": "stdout",
     "output_type": "stream",
     "text": [
      " Количество нулей в целевом признаке \u001b[1m7963\u001b[0m.\n",
      " Количество единиц в целевом признаке \u001b[1m2037\u001b[0m.\n"
     ]
    }
   ],
   "source": [
    "print(f' Количество нулей в целевом признаке \\033[1m{target_counts[0]}\\033[0m.')\n",
    "print(f' Количество единиц в целевом признаке \\033[1m{target_counts[1]}\\033[0m.')"
   ]
  },
  {
   "cell_type": "markdown",
   "metadata": {},
   "source": [
    "### Взвешивание классов"
   ]
  },
  {
   "cell_type": "markdown",
   "metadata": {},
   "source": [
    "**Модель решаюшего дерева.**"
   ]
  },
  {
   "cell_type": "code",
   "execution_count": 52,
   "metadata": {},
   "outputs": [
    {
     "name": "stdout",
     "output_type": "stream",
     "text": [
      "\u001b[1mDecisionTreeClassifier(class_weight='balanced', max_depth=1, random_state=12345)\u001b[0m\n",
      "\n",
      "F1-мера модели на валидационной выборке:\u001b[1m 0.48\u001b[0m\n",
      "Площадь под ROC-кривой: \u001b[1m0.7\u001b[0m\n",
      "\n",
      "\u001b[1mDecisionTreeClassifier(class_weight='balanced', max_depth=2, random_state=12345)\u001b[0m\n",
      "\n",
      "F1-мера модели на валидационной выборке:\u001b[1m 0.5\u001b[0m\n",
      "Площадь под ROC-кривой: \u001b[1m0.75\u001b[0m\n",
      "\n",
      "\u001b[1mDecisionTreeClassifier(class_weight='balanced', max_depth=3, random_state=12345)\u001b[0m\n",
      "\n",
      "F1-мера модели на валидационной выборке:\u001b[1m 0.52\u001b[0m\n",
      "Площадь под ROC-кривой: \u001b[1m0.79\u001b[0m\n",
      "\n",
      "\u001b[1mDecisionTreeClassifier(class_weight='balanced', max_depth=4, random_state=12345)\u001b[0m\n",
      "\n",
      "F1-мера модели на валидационной выборке:\u001b[1m 0.56\u001b[0m\n",
      "Площадь под ROC-кривой: \u001b[1m0.82\u001b[0m\n",
      "\n",
      "\u001b[1mDecisionTreeClassifier(class_weight='balanced', max_depth=5, random_state=12345)\u001b[0m\n",
      "\n",
      "F1-мера модели на валидационной выборке:\u001b[1m 0.55\u001b[0m\n",
      "Площадь под ROC-кривой: \u001b[1m0.84\u001b[0m\n",
      "\n",
      "\u001b[1mDecisionTreeClassifier(class_weight='balanced', max_depth=6, random_state=12345)\u001b[0m\n",
      "\n",
      "F1-мера модели на валидационной выборке:\u001b[1m 0.58\u001b[0m\n",
      "Площадь под ROC-кривой: \u001b[1m0.82\u001b[0m\n",
      "\n",
      "\u001b[1mDecisionTreeClassifier(class_weight='balanced', max_depth=7, random_state=12345)\u001b[0m\n",
      "\n",
      "F1-мера модели на валидационной выборке:\u001b[1m 0.57\u001b[0m\n",
      "Площадь под ROC-кривой: \u001b[1m0.82\u001b[0m\n",
      "\n",
      "\u001b[1mDecisionTreeClassifier(class_weight='balanced', max_depth=8, random_state=12345)\u001b[0m\n",
      "\n",
      "F1-мера модели на валидационной выборке:\u001b[1m 0.55\u001b[0m\n",
      "Площадь под ROC-кривой: \u001b[1m0.8\u001b[0m\n",
      "\n",
      "\u001b[1mDecisionTreeClassifier(class_weight='balanced', max_depth=9, random_state=12345)\u001b[0m\n",
      "\n",
      "F1-мера модели на валидационной выборке:\u001b[1m 0.54\u001b[0m\n",
      "Площадь под ROC-кривой: \u001b[1m0.78\u001b[0m\n",
      "\n",
      "\u001b[1mDecisionTreeClassifier(class_weight='balanced', max_depth=10,\n",
      "                       random_state=12345)\u001b[0m\n",
      "\n",
      "F1-мера модели на валидационной выборке:\u001b[1m 0.53\u001b[0m\n",
      "Площадь под ROC-кривой: \u001b[1m0.77\u001b[0m\n",
      "\n",
      "\u001b[1mDecisionTreeClassifier(class_weight='balanced', max_depth=11,\n",
      "                       random_state=12345)\u001b[0m\n",
      "\n",
      "F1-мера модели на валидационной выборке:\u001b[1m 0.53\u001b[0m\n",
      "Площадь под ROC-кривой: \u001b[1m0.74\u001b[0m\n",
      "\n",
      "\u001b[1mDecisionTreeClassifier(class_weight='balanced', max_depth=12,\n",
      "                       random_state=12345)\u001b[0m\n",
      "\n",
      "F1-мера модели на валидационной выборке:\u001b[1m 0.52\u001b[0m\n",
      "Площадь под ROC-кривой: \u001b[1m0.73\u001b[0m\n",
      "\n",
      "\u001b[1mDecisionTreeClassifier(class_weight='balanced', max_depth=13,\n",
      "                       random_state=12345)\u001b[0m\n",
      "\n",
      "F1-мера модели на валидационной выборке:\u001b[1m 0.52\u001b[0m\n",
      "Площадь под ROC-кривой: \u001b[1m0.71\u001b[0m\n",
      "\n",
      "\u001b[1mDecisionTreeClassifier(class_weight='balanced', max_depth=14,\n",
      "                       random_state=12345)\u001b[0m\n",
      "\n",
      "F1-мера модели на валидационной выборке:\u001b[1m 0.52\u001b[0m\n",
      "Площадь под ROC-кривой: \u001b[1m0.71\u001b[0m\n",
      "\n",
      "\u001b[1mDecisionTreeClassifier(class_weight='balanced', max_depth=15,\n",
      "                       random_state=12345)\u001b[0m\n",
      "\n",
      "F1-мера модели на валидационной выборке:\u001b[1m 0.52\u001b[0m\n",
      "Площадь под ROC-кривой: \u001b[1m0.71\u001b[0m\n",
      "\n",
      "\u001b[1mDecisionTreeClassifier(class_weight='balanced', max_depth=16,\n",
      "                       random_state=12345)\u001b[0m\n",
      "\n",
      "F1-мера модели на валидационной выборке:\u001b[1m 0.52\u001b[0m\n",
      "Площадь под ROC-кривой: \u001b[1m0.71\u001b[0m\n",
      "\n",
      "\u001b[1mDecisionTreeClassifier(class_weight='balanced', max_depth=17,\n",
      "                       random_state=12345)\u001b[0m\n",
      "\n",
      "F1-мера модели на валидационной выборке:\u001b[1m 0.51\u001b[0m\n",
      "Площадь под ROC-кривой: \u001b[1m0.7\u001b[0m\n",
      "\n",
      "\u001b[1mDecisionTreeClassifier(class_weight='balanced', max_depth=18,\n",
      "                       random_state=12345)\u001b[0m\n",
      "\n",
      "F1-мера модели на валидационной выборке:\u001b[1m 0.52\u001b[0m\n",
      "Площадь под ROC-кривой: \u001b[1m0.7\u001b[0m\n",
      "\n",
      "\u001b[1mDecisionTreeClassifier(class_weight='balanced', max_depth=19,\n",
      "                       random_state=12345)\u001b[0m\n",
      "\n",
      "F1-мера модели на валидационной выборке:\u001b[1m 0.51\u001b[0m\n",
      "Площадь под ROC-кривой: \u001b[1m0.7\u001b[0m\n",
      "\n",
      "\u001b[1mDecisionTreeClassifier(class_weight='balanced', max_depth=20,\n",
      "                       random_state=12345)\u001b[0m\n",
      "\n",
      "F1-мера модели на валидационной выборке:\u001b[1m 0.51\u001b[0m\n",
      "Площадь под ROC-кривой: \u001b[1m0.7\u001b[0m\n",
      "\n",
      "\u001b[1mDecisionTreeClassifier(class_weight='balanced', max_depth=21,\n",
      "                       random_state=12345)\u001b[0m\n",
      "\n",
      "F1-мера модели на валидационной выборке:\u001b[1m 0.5\u001b[0m\n",
      "Площадь под ROC-кривой: \u001b[1m0.69\u001b[0m\n",
      "\n",
      "\u001b[1mDecisionTreeClassifier(class_weight='balanced', max_depth=22,\n",
      "                       random_state=12345)\u001b[0m\n",
      "\n",
      "F1-мера модели на валидационной выборке:\u001b[1m 0.52\u001b[0m\n",
      "Площадь под ROC-кривой: \u001b[1m0.7\u001b[0m\n",
      "\n",
      "\u001b[1mDecisionTreeClassifier(class_weight='balanced', max_depth=23,\n",
      "                       random_state=12345)\u001b[0m\n",
      "\n",
      "F1-мера модели на валидационной выборке:\u001b[1m 0.51\u001b[0m\n",
      "Площадь под ROC-кривой: \u001b[1m0.7\u001b[0m\n",
      "\n",
      "\u001b[1mDecisionTreeClassifier(class_weight='balanced', max_depth=24,\n",
      "                       random_state=12345)\u001b[0m\n",
      "\n",
      "F1-мера модели на валидационной выборке:\u001b[1m 0.51\u001b[0m\n",
      "Площадь под ROC-кривой: \u001b[1m0.7\u001b[0m\n",
      "\n",
      "\u001b[1mDecisionTreeClassifier(class_weight='balanced', max_depth=25,\n",
      "                       random_state=12345)\u001b[0m\n",
      "\n",
      "F1-мера модели на валидационной выборке:\u001b[1m 0.53\u001b[0m\n",
      "Площадь под ROC-кривой: \u001b[1m0.7\u001b[0m\n",
      "\n",
      "\u001b[1mDecisionTreeClassifier(class_weight='balanced', max_depth=26,\n",
      "                       random_state=12345)\u001b[0m\n",
      "\n",
      "F1-мера модели на валидационной выборке:\u001b[1m 0.51\u001b[0m\n",
      "Площадь под ROC-кривой: \u001b[1m0.69\u001b[0m\n",
      "\n",
      "\u001b[1mDecisionTreeClassifier(class_weight='balanced', max_depth=27,\n",
      "                       random_state=12345)\u001b[0m\n",
      "\n",
      "F1-мера модели на валидационной выборке:\u001b[1m 0.51\u001b[0m\n",
      "Площадь под ROC-кривой: \u001b[1m0.69\u001b[0m\n",
      "\n",
      "\u001b[1mDecisionTreeClassifier(class_weight='balanced', max_depth=28,\n",
      "                       random_state=12345)\u001b[0m\n",
      "\n",
      "F1-мера модели на валидационной выборке:\u001b[1m 0.51\u001b[0m\n",
      "Площадь под ROC-кривой: \u001b[1m0.69\u001b[0m\n",
      "\n",
      "\u001b[1mDecisionTreeClassifier(class_weight='balanced', max_depth=29,\n",
      "                       random_state=12345)\u001b[0m\n",
      "\n",
      "F1-мера модели на валидационной выборке:\u001b[1m 0.51\u001b[0m\n",
      "Площадь под ROC-кривой: \u001b[1m0.69\u001b[0m\n",
      "\n"
     ]
    }
   ],
   "source": [
    "tree_weighing = ([selection(DecisionTreeClassifier(random_state=12345, \n",
    "                                                   max_depth=depth, \n",
    "                                                   class_weight='balanced'), 'weighing', X_train, y_train).show() \n",
    "              for depth in range(1, 30, 1)])"
   ]
  },
  {
   "cell_type": "code",
   "execution_count": 53,
   "metadata": {},
   "outputs": [],
   "source": [
    "tree_weigh = processing(tree_weighing)"
   ]
  },
  {
   "cell_type": "markdown",
   "metadata": {},
   "source": [
    "**Модель случайного леса.**"
   ]
  },
  {
   "cell_type": "code",
   "execution_count": 55,
   "metadata": {},
   "outputs": [
    {
     "name": "stdout",
     "output_type": "stream",
     "text": [
      "\u001b[1mRandomForestClassifier(class_weight='balanced', max_depth=1, n_estimators=2,\n",
      "                       random_state=12345)\u001b[0m\n",
      "\n",
      "F1-мера модели на валидационной выборке:\u001b[1m 0.27\u001b[0m\n",
      "Площадь под ROC-кривой: \u001b[1m0.6\u001b[0m\n",
      "\n",
      "\u001b[1mRandomForestClassifier(class_weight='balanced', max_depth=2, n_estimators=2,\n",
      "                       random_state=12345)\u001b[0m\n",
      "\n",
      "F1-мера модели на валидационной выборке:\u001b[1m 0.53\u001b[0m\n",
      "Площадь под ROC-кривой: \u001b[1m0.76\u001b[0m\n",
      "\n",
      "\u001b[1mRandomForestClassifier(class_weight='balanced', max_depth=3, n_estimators=2,\n",
      "                       random_state=12345)\u001b[0m\n",
      "\n",
      "F1-мера модели на валидационной выборке:\u001b[1m 0.51\u001b[0m\n",
      "Площадь под ROC-кривой: \u001b[1m0.77\u001b[0m\n",
      "\n",
      "\u001b[1mRandomForestClassifier(class_weight='balanced', max_depth=4, n_estimators=2,\n",
      "                       random_state=12345)\u001b[0m\n",
      "\n",
      "F1-мера модели на валидационной выборке:\u001b[1m 0.58\u001b[0m\n",
      "Площадь под ROC-кривой: \u001b[1m0.82\u001b[0m\n",
      "\n",
      "\u001b[1mRandomForestClassifier(class_weight='balanced', max_depth=5, n_estimators=2,\n",
      "                       random_state=12345)\u001b[0m\n",
      "\n",
      "F1-мера модели на валидационной выборке:\u001b[1m 0.57\u001b[0m\n",
      "Площадь под ROC-кривой: \u001b[1m0.82\u001b[0m\n",
      "\n",
      "\u001b[1mRandomForestClassifier(class_weight='balanced', max_depth=6, n_estimators=2,\n",
      "                       random_state=12345)\u001b[0m\n",
      "\n",
      "F1-мера модели на валидационной выборке:\u001b[1m 0.58\u001b[0m\n",
      "Площадь под ROC-кривой: \u001b[1m0.83\u001b[0m\n",
      "\n",
      "\u001b[1mRandomForestClassifier(class_weight='balanced', max_depth=7, n_estimators=2,\n",
      "                       random_state=12345)\u001b[0m\n",
      "\n",
      "F1-мера модели на валидационной выборке:\u001b[1m 0.56\u001b[0m\n",
      "Площадь под ROC-кривой: \u001b[1m0.82\u001b[0m\n",
      "\n",
      "\u001b[1mRandomForestClassifier(class_weight='balanced', max_depth=8, n_estimators=2,\n",
      "                       random_state=12345)\u001b[0m\n",
      "\n",
      "F1-мера модели на валидационной выборке:\u001b[1m 0.56\u001b[0m\n",
      "Площадь под ROC-кривой: \u001b[1m0.83\u001b[0m\n",
      "\n",
      "\u001b[1mRandomForestClassifier(class_weight='balanced', max_depth=9, n_estimators=2,\n",
      "                       random_state=12345)\u001b[0m\n",
      "\n",
      "F1-мера модели на валидационной выборке:\u001b[1m 0.57\u001b[0m\n",
      "Площадь под ROC-кривой: \u001b[1m0.83\u001b[0m\n",
      "\n",
      "\u001b[1mRandomForestClassifier(class_weight='balanced', max_depth=10, n_estimators=2,\n",
      "                       random_state=12345)\u001b[0m\n",
      "\n",
      "F1-мера модели на валидационной выборке:\u001b[1m 0.54\u001b[0m\n",
      "Площадь под ROC-кривой: \u001b[1m0.82\u001b[0m\n",
      "\n",
      "\u001b[1mRandomForestClassifier(class_weight='balanced', max_depth=11, n_estimators=2,\n",
      "                       random_state=12345)\u001b[0m\n",
      "\n",
      "F1-мера модели на валидационной выборке:\u001b[1m 0.55\u001b[0m\n",
      "Площадь под ROC-кривой: \u001b[1m0.81\u001b[0m\n",
      "\n",
      "\u001b[1mRandomForestClassifier(class_weight='balanced', max_depth=12, n_estimators=2,\n",
      "                       random_state=12345)\u001b[0m\n",
      "\n",
      "F1-мера модели на валидационной выборке:\u001b[1m 0.5\u001b[0m\n",
      "Площадь под ROC-кривой: \u001b[1m0.77\u001b[0m\n",
      "\n",
      "\u001b[1mRandomForestClassifier(class_weight='balanced', max_depth=13, n_estimators=2,\n",
      "                       random_state=12345)\u001b[0m\n",
      "\n",
      "F1-мера модели на валидационной выборке:\u001b[1m 0.5\u001b[0m\n",
      "Площадь под ROC-кривой: \u001b[1m0.77\u001b[0m\n",
      "\n",
      "\u001b[1mRandomForestClassifier(class_weight='balanced', max_depth=14, n_estimators=2,\n",
      "                       random_state=12345)\u001b[0m\n",
      "\n",
      "F1-мера модели на валидационной выборке:\u001b[1m 0.48\u001b[0m\n",
      "Площадь под ROC-кривой: \u001b[1m0.76\u001b[0m\n",
      "\n",
      "\u001b[1mRandomForestClassifier(class_weight='balanced', max_depth=15, n_estimators=2,\n",
      "                       random_state=12345)\u001b[0m\n",
      "\n",
      "F1-мера модели на валидационной выборке:\u001b[1m 0.45\u001b[0m\n",
      "Площадь под ROC-кривой: \u001b[1m0.77\u001b[0m\n",
      "\n",
      "\u001b[1mRandomForestClassifier(class_weight='balanced', max_depth=16, n_estimators=2,\n",
      "                       random_state=12345)\u001b[0m\n",
      "\n",
      "F1-мера модели на валидационной выборке:\u001b[1m 0.43\u001b[0m\n",
      "Площадь под ROC-кривой: \u001b[1m0.75\u001b[0m\n",
      "\n",
      "\u001b[1mRandomForestClassifier(class_weight='balanced', max_depth=17, n_estimators=2,\n",
      "                       random_state=12345)\u001b[0m\n",
      "\n",
      "F1-мера модели на валидационной выборке:\u001b[1m 0.44\u001b[0m\n",
      "Площадь под ROC-кривой: \u001b[1m0.74\u001b[0m\n",
      "\n",
      "\u001b[1mRandomForestClassifier(class_weight='balanced', max_depth=18, n_estimators=2,\n",
      "                       random_state=12345)\u001b[0m\n",
      "\n",
      "F1-мера модели на валидационной выборке:\u001b[1m 0.46\u001b[0m\n",
      "Площадь под ROC-кривой: \u001b[1m0.74\u001b[0m\n",
      "\n",
      "\u001b[1mRandomForestClassifier(class_weight='balanced', max_depth=19, n_estimators=2,\n",
      "                       random_state=12345)\u001b[0m\n",
      "\n",
      "F1-мера модели на валидационной выборке:\u001b[1m 0.45\u001b[0m\n",
      "Площадь под ROC-кривой: \u001b[1m0.76\u001b[0m\n",
      "\n",
      "\u001b[1mRandomForestClassifier(class_weight='balanced', max_depth=1, n_estimators=4,\n",
      "                       random_state=12345)\u001b[0m\n",
      "\n",
      "F1-мера модели на валидационной выборке:\u001b[1m 0.52\u001b[0m\n",
      "Площадь под ROC-кривой: \u001b[1m0.78\u001b[0m\n",
      "\n",
      "\u001b[1mRandomForestClassifier(class_weight='balanced', max_depth=2, n_estimators=4,\n",
      "                       random_state=12345)\u001b[0m\n",
      "\n",
      "F1-мера модели на валидационной выборке:\u001b[1m 0.53\u001b[0m\n",
      "Площадь под ROC-кривой: \u001b[1m0.8\u001b[0m\n",
      "\n",
      "\u001b[1mRandomForestClassifier(class_weight='balanced', max_depth=3, n_estimators=4,\n",
      "                       random_state=12345)\u001b[0m\n",
      "\n",
      "F1-мера модели на валидационной выборке:\u001b[1m 0.53\u001b[0m\n",
      "Площадь под ROC-кривой: \u001b[1m0.81\u001b[0m\n",
      "\n",
      "\u001b[1mRandomForestClassifier(class_weight='balanced', max_depth=4, n_estimators=4,\n",
      "                       random_state=12345)\u001b[0m\n",
      "\n",
      "F1-мера модели на валидационной выборке:\u001b[1m 0.6\u001b[0m\n",
      "Площадь под ROC-кривой: \u001b[1m0.84\u001b[0m\n",
      "\n",
      "\u001b[1mRandomForestClassifier(class_weight='balanced', max_depth=5, n_estimators=4,\n",
      "                       random_state=12345)\u001b[0m\n",
      "\n",
      "F1-мера модели на валидационной выборке:\u001b[1m 0.58\u001b[0m\n",
      "Площадь под ROC-кривой: \u001b[1m0.83\u001b[0m\n",
      "\n",
      "\u001b[1mRandomForestClassifier(class_weight='balanced', max_depth=6, n_estimators=4,\n",
      "                       random_state=12345)\u001b[0m\n",
      "\n",
      "F1-мера модели на валидационной выборке:\u001b[1m 0.6\u001b[0m\n",
      "Площадь под ROC-кривой: \u001b[1m0.84\u001b[0m\n",
      "\n",
      "\u001b[1mRandomForestClassifier(class_weight='balanced', max_depth=7, n_estimators=4,\n",
      "                       random_state=12345)\u001b[0m\n",
      "\n",
      "F1-мера модели на валидационной выборке:\u001b[1m 0.58\u001b[0m\n",
      "Площадь под ROC-кривой: \u001b[1m0.84\u001b[0m\n",
      "\n",
      "\u001b[1mRandomForestClassifier(class_weight='balanced', max_depth=8, n_estimators=4,\n",
      "                       random_state=12345)\u001b[0m\n",
      "\n",
      "F1-мера модели на валидационной выборке:\u001b[1m 0.62\u001b[0m\n",
      "Площадь под ROC-кривой: \u001b[1m0.84\u001b[0m\n",
      "\n",
      "\u001b[1mRandomForestClassifier(class_weight='balanced', max_depth=9, n_estimators=4,\n",
      "                       random_state=12345)\u001b[0m\n",
      "\n",
      "F1-мера модели на валидационной выборке:\u001b[1m 0.61\u001b[0m\n",
      "Площадь под ROC-кривой: \u001b[1m0.84\u001b[0m\n",
      "\n",
      "\u001b[1mRandomForestClassifier(class_weight='balanced', max_depth=10, n_estimators=4,\n",
      "                       random_state=12345)\u001b[0m\n",
      "\n",
      "F1-мера модели на валидационной выборке:\u001b[1m 0.59\u001b[0m\n",
      "Площадь под ROC-кривой: \u001b[1m0.84\u001b[0m\n",
      "\n",
      "\u001b[1mRandomForestClassifier(class_weight='balanced', max_depth=11, n_estimators=4,\n",
      "                       random_state=12345)\u001b[0m\n",
      "\n",
      "F1-мера модели на валидационной выборке:\u001b[1m 0.6\u001b[0m\n",
      "Площадь под ROC-кривой: \u001b[1m0.83\u001b[0m\n",
      "\n",
      "\u001b[1mRandomForestClassifier(class_weight='balanced', max_depth=12, n_estimators=4,\n",
      "                       random_state=12345)\u001b[0m\n",
      "\n",
      "F1-мера модели на валидационной выборке:\u001b[1m 0.57\u001b[0m\n",
      "Площадь под ROC-кривой: \u001b[1m0.83\u001b[0m\n",
      "\n",
      "\u001b[1mRandomForestClassifier(class_weight='balanced', max_depth=13, n_estimators=4,\n",
      "                       random_state=12345)\u001b[0m\n",
      "\n",
      "F1-мера модели на валидационной выборке:\u001b[1m 0.53\u001b[0m\n",
      "Площадь под ROC-кривой: \u001b[1m0.8\u001b[0m\n",
      "\n",
      "\u001b[1mRandomForestClassifier(class_weight='balanced', max_depth=14, n_estimators=4,\n",
      "                       random_state=12345)\u001b[0m\n",
      "\n",
      "F1-мера модели на валидационной выборке:\u001b[1m 0.53\u001b[0m\n",
      "Площадь под ROC-кривой: \u001b[1m0.8\u001b[0m\n",
      "\n",
      "\u001b[1mRandomForestClassifier(class_weight='balanced', max_depth=15, n_estimators=4,\n",
      "                       random_state=12345)\u001b[0m\n",
      "\n",
      "F1-мера модели на валидационной выборке:\u001b[1m 0.5\u001b[0m\n",
      "Площадь под ROC-кривой: \u001b[1m0.81\u001b[0m\n",
      "\n",
      "\u001b[1mRandomForestClassifier(class_weight='balanced', max_depth=16, n_estimators=4,\n",
      "                       random_state=12345)\u001b[0m\n",
      "\n",
      "F1-мера модели на валидационной выборке:\u001b[1m 0.54\u001b[0m\n",
      "Площадь под ROC-кривой: \u001b[1m0.79\u001b[0m\n",
      "\n",
      "\u001b[1mRandomForestClassifier(class_weight='balanced', max_depth=17, n_estimators=4,\n",
      "                       random_state=12345)\u001b[0m\n",
      "\n",
      "F1-мера модели на валидационной выборке:\u001b[1m 0.51\u001b[0m\n",
      "Площадь под ROC-кривой: \u001b[1m0.78\u001b[0m\n",
      "\n",
      "\u001b[1mRandomForestClassifier(class_weight='balanced', max_depth=18, n_estimators=4,\n",
      "                       random_state=12345)\u001b[0m\n",
      "\n",
      "F1-мера модели на валидационной выборке:\u001b[1m 0.5\u001b[0m\n",
      "Площадь под ROC-кривой: \u001b[1m0.78\u001b[0m\n",
      "\n",
      "\u001b[1mRandomForestClassifier(class_weight='balanced', max_depth=19, n_estimators=4,\n",
      "                       random_state=12345)\u001b[0m\n",
      "\n",
      "F1-мера модели на валидационной выборке:\u001b[1m 0.51\u001b[0m\n",
      "Площадь под ROC-кривой: \u001b[1m0.8\u001b[0m\n",
      "\n",
      "\u001b[1mRandomForestClassifier(class_weight='balanced', max_depth=1, n_estimators=6,\n",
      "                       random_state=12345)\u001b[0m\n",
      "\n",
      "F1-мера модели на валидационной выборке:\u001b[1m 0.52\u001b[0m\n",
      "Площадь под ROC-кривой: \u001b[1m0.81\u001b[0m\n",
      "\n",
      "\u001b[1mRandomForestClassifier(class_weight='balanced', max_depth=2, n_estimators=6,\n",
      "                       random_state=12345)\u001b[0m\n",
      "\n",
      "F1-мера модели на валидационной выборке:\u001b[1m 0.55\u001b[0m\n",
      "Площадь под ROC-кривой: \u001b[1m0.81\u001b[0m\n",
      "\n",
      "\u001b[1mRandomForestClassifier(class_weight='balanced', max_depth=3, n_estimators=6,\n",
      "                       random_state=12345)\u001b[0m\n",
      "\n",
      "F1-мера модели на валидационной выборке:\u001b[1m 0.55\u001b[0m\n",
      "Площадь под ROC-кривой: \u001b[1m0.82\u001b[0m\n",
      "\n"
     ]
    },
    {
     "name": "stdout",
     "output_type": "stream",
     "text": [
      "\u001b[1mRandomForestClassifier(class_weight='balanced', max_depth=4, n_estimators=6,\n",
      "                       random_state=12345)\u001b[0m\n",
      "\n",
      "F1-мера модели на валидационной выборке:\u001b[1m 0.62\u001b[0m\n",
      "Площадь под ROC-кривой: \u001b[1m0.85\u001b[0m\n",
      "\n",
      "\u001b[1mRandomForestClassifier(class_weight='balanced', max_depth=5, n_estimators=6,\n",
      "                       random_state=12345)\u001b[0m\n",
      "\n",
      "F1-мера модели на валидационной выборке:\u001b[1m 0.62\u001b[0m\n",
      "Площадь под ROC-кривой: \u001b[1m0.85\u001b[0m\n",
      "\n",
      "\u001b[1mRandomForestClassifier(class_weight='balanced', max_depth=6, n_estimators=6,\n",
      "                       random_state=12345)\u001b[0m\n",
      "\n",
      "F1-мера модели на валидационной выборке:\u001b[1m 0.61\u001b[0m\n",
      "Площадь под ROC-кривой: \u001b[1m0.86\u001b[0m\n",
      "\n",
      "\u001b[1mRandomForestClassifier(class_weight='balanced', max_depth=7, n_estimators=6,\n",
      "                       random_state=12345)\u001b[0m\n",
      "\n",
      "F1-мера модели на валидационной выборке:\u001b[1m 0.6\u001b[0m\n",
      "Площадь под ROC-кривой: \u001b[1m0.85\u001b[0m\n",
      "\n",
      "\u001b[1mRandomForestClassifier(class_weight='balanced', max_depth=8, n_estimators=6,\n",
      "                       random_state=12345)\u001b[0m\n",
      "\n",
      "F1-мера модели на валидационной выборке:\u001b[1m 0.62\u001b[0m\n",
      "Площадь под ROC-кривой: \u001b[1m0.85\u001b[0m\n",
      "\n",
      "\u001b[1mRandomForestClassifier(class_weight='balanced', max_depth=9, n_estimators=6,\n",
      "                       random_state=12345)\u001b[0m\n",
      "\n",
      "F1-мера модели на валидационной выборке:\u001b[1m 0.63\u001b[0m\n",
      "Площадь под ROC-кривой: \u001b[1m0.86\u001b[0m\n",
      "\n",
      "\u001b[1mRandomForestClassifier(class_weight='balanced', max_depth=10, n_estimators=6,\n",
      "                       random_state=12345)\u001b[0m\n",
      "\n",
      "F1-мера модели на валидационной выборке:\u001b[1m 0.62\u001b[0m\n",
      "Площадь под ROC-кривой: \u001b[1m0.85\u001b[0m\n",
      "\n",
      "\u001b[1mRandomForestClassifier(class_weight='balanced', max_depth=11, n_estimators=6,\n",
      "                       random_state=12345)\u001b[0m\n",
      "\n",
      "F1-мера модели на валидационной выборке:\u001b[1m 0.61\u001b[0m\n",
      "Площадь под ROC-кривой: \u001b[1m0.85\u001b[0m\n",
      "\n",
      "\u001b[1mRandomForestClassifier(class_weight='balanced', max_depth=12, n_estimators=6,\n",
      "                       random_state=12345)\u001b[0m\n",
      "\n",
      "F1-мера модели на валидационной выборке:\u001b[1m 0.59\u001b[0m\n",
      "Площадь под ROC-кривой: \u001b[1m0.85\u001b[0m\n",
      "\n",
      "\u001b[1mRandomForestClassifier(class_weight='balanced', max_depth=13, n_estimators=6,\n",
      "                       random_state=12345)\u001b[0m\n",
      "\n",
      "F1-мера модели на валидационной выборке:\u001b[1m 0.58\u001b[0m\n",
      "Площадь под ROC-кривой: \u001b[1m0.82\u001b[0m\n",
      "\n",
      "\u001b[1mRandomForestClassifier(class_weight='balanced', max_depth=14, n_estimators=6,\n",
      "                       random_state=12345)\u001b[0m\n",
      "\n",
      "F1-мера модели на валидационной выборке:\u001b[1m 0.58\u001b[0m\n",
      "Площадь под ROC-кривой: \u001b[1m0.82\u001b[0m\n",
      "\n",
      "\u001b[1mRandomForestClassifier(class_weight='balanced', max_depth=15, n_estimators=6,\n",
      "                       random_state=12345)\u001b[0m\n",
      "\n",
      "F1-мера модели на валидационной выборке:\u001b[1m 0.53\u001b[0m\n",
      "Площадь под ROC-кривой: \u001b[1m0.82\u001b[0m\n",
      "\n",
      "\u001b[1mRandomForestClassifier(class_weight='balanced', max_depth=16, n_estimators=6,\n",
      "                       random_state=12345)\u001b[0m\n",
      "\n",
      "F1-мера модели на валидационной выборке:\u001b[1m 0.57\u001b[0m\n",
      "Площадь под ROC-кривой: \u001b[1m0.81\u001b[0m\n",
      "\n",
      "\u001b[1mRandomForestClassifier(class_weight='balanced', max_depth=17, n_estimators=6,\n",
      "                       random_state=12345)\u001b[0m\n",
      "\n",
      "F1-мера модели на валидационной выборке:\u001b[1m 0.55\u001b[0m\n",
      "Площадь под ROC-кривой: \u001b[1m0.8\u001b[0m\n",
      "\n",
      "\u001b[1mRandomForestClassifier(class_weight='balanced', max_depth=18, n_estimators=6,\n",
      "                       random_state=12345)\u001b[0m\n",
      "\n",
      "F1-мера модели на валидационной выборке:\u001b[1m 0.54\u001b[0m\n",
      "Площадь под ROC-кривой: \u001b[1m0.81\u001b[0m\n",
      "\n",
      "\u001b[1mRandomForestClassifier(class_weight='balanced', max_depth=19, n_estimators=6,\n",
      "                       random_state=12345)\u001b[0m\n",
      "\n",
      "F1-мера модели на валидационной выборке:\u001b[1m 0.53\u001b[0m\n",
      "Площадь под ROC-кривой: \u001b[1m0.82\u001b[0m\n",
      "\n",
      "\u001b[1mRandomForestClassifier(class_weight='balanced', max_depth=1, n_estimators=8,\n",
      "                       random_state=12345)\u001b[0m\n",
      "\n",
      "F1-мера модели на валидационной выборке:\u001b[1m 0.47\u001b[0m\n",
      "Площадь под ROC-кривой: \u001b[1m0.78\u001b[0m\n",
      "\n",
      "\u001b[1mRandomForestClassifier(class_weight='balanced', max_depth=2, n_estimators=8,\n",
      "                       random_state=12345)\u001b[0m\n",
      "\n",
      "F1-мера модели на валидационной выборке:\u001b[1m 0.57\u001b[0m\n",
      "Площадь под ROC-кривой: \u001b[1m0.8\u001b[0m\n",
      "\n",
      "\u001b[1mRandomForestClassifier(class_weight='balanced', max_depth=3, n_estimators=8,\n",
      "                       random_state=12345)\u001b[0m\n",
      "\n",
      "F1-мера модели на валидационной выборке:\u001b[1m 0.56\u001b[0m\n",
      "Площадь под ROC-кривой: \u001b[1m0.82\u001b[0m\n",
      "\n",
      "\u001b[1mRandomForestClassifier(class_weight='balanced', max_depth=4, n_estimators=8,\n",
      "                       random_state=12345)\u001b[0m\n",
      "\n",
      "F1-мера модели на валидационной выборке:\u001b[1m 0.61\u001b[0m\n",
      "Площадь под ROC-кривой: \u001b[1m0.85\u001b[0m\n",
      "\n",
      "\u001b[1mRandomForestClassifier(class_weight='balanced', max_depth=5, n_estimators=8,\n",
      "                       random_state=12345)\u001b[0m\n",
      "\n",
      "F1-мера модели на валидационной выборке:\u001b[1m 0.63\u001b[0m\n",
      "Площадь под ROC-кривой: \u001b[1m0.86\u001b[0m\n",
      "\n",
      "\u001b[1mRandomForestClassifier(class_weight='balanced', max_depth=6, n_estimators=8,\n",
      "                       random_state=12345)\u001b[0m\n",
      "\n",
      "F1-мера модели на валидационной выборке:\u001b[1m 0.62\u001b[0m\n",
      "Площадь под ROC-кривой: \u001b[1m0.86\u001b[0m\n",
      "\n",
      "\u001b[1mRandomForestClassifier(class_weight='balanced', max_depth=7, n_estimators=8,\n",
      "                       random_state=12345)\u001b[0m\n",
      "\n",
      "F1-мера модели на валидационной выборке:\u001b[1m 0.62\u001b[0m\n",
      "Площадь под ROC-кривой: \u001b[1m0.86\u001b[0m\n",
      "\n",
      "\u001b[1mRandomForestClassifier(class_weight='balanced', max_depth=8, n_estimators=8,\n",
      "                       random_state=12345)\u001b[0m\n",
      "\n",
      "F1-мера модели на валидационной выборке:\u001b[1m 0.62\u001b[0m\n",
      "Площадь под ROC-кривой: \u001b[1m0.86\u001b[0m\n",
      "\n",
      "\u001b[1mRandomForestClassifier(class_weight='balanced', max_depth=9, n_estimators=8,\n",
      "                       random_state=12345)\u001b[0m\n",
      "\n",
      "F1-мера модели на валидационной выборке:\u001b[1m 0.62\u001b[0m\n",
      "Площадь под ROC-кривой: \u001b[1m0.87\u001b[0m\n",
      "\n",
      "\u001b[1mRandomForestClassifier(class_weight='balanced', max_depth=10, n_estimators=8,\n",
      "                       random_state=12345)\u001b[0m\n",
      "\n",
      "F1-мера модели на валидационной выборке:\u001b[1m 0.62\u001b[0m\n",
      "Площадь под ROC-кривой: \u001b[1m0.85\u001b[0m\n",
      "\n",
      "\u001b[1mRandomForestClassifier(class_weight='balanced', max_depth=11, n_estimators=8,\n",
      "                       random_state=12345)\u001b[0m\n",
      "\n",
      "F1-мера модели на валидационной выборке:\u001b[1m 0.62\u001b[0m\n",
      "Площадь под ROC-кривой: \u001b[1m0.85\u001b[0m\n",
      "\n",
      "\u001b[1mRandomForestClassifier(class_weight='balanced', max_depth=12, n_estimators=8,\n",
      "                       random_state=12345)\u001b[0m\n",
      "\n",
      "F1-мера модели на валидационной выборке:\u001b[1m 0.6\u001b[0m\n",
      "Площадь под ROC-кривой: \u001b[1m0.85\u001b[0m\n",
      "\n",
      "\u001b[1mRandomForestClassifier(class_weight='balanced', max_depth=13, n_estimators=8,\n",
      "                       random_state=12345)\u001b[0m\n",
      "\n",
      "F1-мера модели на валидационной выборке:\u001b[1m 0.58\u001b[0m\n",
      "Площадь под ROC-кривой: \u001b[1m0.83\u001b[0m\n",
      "\n",
      "\u001b[1mRandomForestClassifier(class_weight='balanced', max_depth=14, n_estimators=8,\n",
      "                       random_state=12345)\u001b[0m\n",
      "\n",
      "F1-мера модели на валидационной выборке:\u001b[1m 0.6\u001b[0m\n",
      "Площадь под ROC-кривой: \u001b[1m0.83\u001b[0m\n",
      "\n",
      "\u001b[1mRandomForestClassifier(class_weight='balanced', max_depth=15, n_estimators=8,\n",
      "                       random_state=12345)\u001b[0m\n",
      "\n",
      "F1-мера модели на валидационной выборке:\u001b[1m 0.56\u001b[0m\n",
      "Площадь под ROC-кривой: \u001b[1m0.84\u001b[0m\n",
      "\n",
      "\u001b[1mRandomForestClassifier(class_weight='balanced', max_depth=16, n_estimators=8,\n",
      "                       random_state=12345)\u001b[0m\n",
      "\n",
      "F1-мера модели на валидационной выборке:\u001b[1m 0.58\u001b[0m\n",
      "Площадь под ROC-кривой: \u001b[1m0.83\u001b[0m\n",
      "\n",
      "\u001b[1mRandomForestClassifier(class_weight='balanced', max_depth=17, n_estimators=8,\n",
      "                       random_state=12345)\u001b[0m\n",
      "\n",
      "F1-мера модели на валидационной выборке:\u001b[1m 0.57\u001b[0m\n",
      "Площадь под ROC-кривой: \u001b[1m0.82\u001b[0m\n",
      "\n",
      "\u001b[1mRandomForestClassifier(class_weight='balanced', max_depth=18, n_estimators=8,\n",
      "                       random_state=12345)\u001b[0m\n",
      "\n",
      "F1-мера модели на валидационной выборке:\u001b[1m 0.57\u001b[0m\n",
      "Площадь под ROC-кривой: \u001b[1m0.82\u001b[0m\n",
      "\n",
      "\u001b[1mRandomForestClassifier(class_weight='balanced', max_depth=19, n_estimators=8,\n",
      "                       random_state=12345)\u001b[0m\n",
      "\n",
      "F1-мера модели на валидационной выборке:\u001b[1m 0.56\u001b[0m\n",
      "Площадь под ROC-кривой: \u001b[1m0.83\u001b[0m\n",
      "\n",
      "\u001b[1mRandomForestClassifier(class_weight='balanced', max_depth=1, n_estimators=10,\n",
      "                       random_state=12345)\u001b[0m\n",
      "\n",
      "F1-мера модели на валидационной выборке:\u001b[1m 0.5\u001b[0m\n",
      "Площадь под ROC-кривой: \u001b[1m0.8\u001b[0m\n",
      "\n",
      "\u001b[1mRandomForestClassifier(class_weight='balanced', max_depth=2, n_estimators=10,\n",
      "                       random_state=12345)\u001b[0m\n",
      "\n",
      "F1-мера модели на валидационной выборке:\u001b[1m 0.58\u001b[0m\n",
      "Площадь под ROC-кривой: \u001b[1m0.82\u001b[0m\n",
      "\n",
      "\u001b[1mRandomForestClassifier(class_weight='balanced', max_depth=3, n_estimators=10,\n",
      "                       random_state=12345)\u001b[0m\n",
      "\n",
      "F1-мера модели на валидационной выборке:\u001b[1m 0.58\u001b[0m\n",
      "Площадь под ROC-кривой: \u001b[1m0.84\u001b[0m\n",
      "\n",
      "\u001b[1mRandomForestClassifier(class_weight='balanced', max_depth=4, n_estimators=10,\n",
      "                       random_state=12345)\u001b[0m\n",
      "\n",
      "F1-мера модели на валидационной выборке:\u001b[1m 0.61\u001b[0m\n",
      "Площадь под ROC-кривой: \u001b[1m0.86\u001b[0m\n",
      "\n"
     ]
    },
    {
     "name": "stdout",
     "output_type": "stream",
     "text": [
      "\u001b[1mRandomForestClassifier(class_weight='balanced', max_depth=5, n_estimators=10,\n",
      "                       random_state=12345)\u001b[0m\n",
      "\n",
      "F1-мера модели на валидационной выборке:\u001b[1m 0.61\u001b[0m\n",
      "Площадь под ROC-кривой: \u001b[1m0.86\u001b[0m\n",
      "\n",
      "\u001b[1mRandomForestClassifier(class_weight='balanced', max_depth=6, n_estimators=10,\n",
      "                       random_state=12345)\u001b[0m\n",
      "\n",
      "F1-мера модели на валидационной выборке:\u001b[1m 0.63\u001b[0m\n",
      "Площадь под ROC-кривой: \u001b[1m0.86\u001b[0m\n",
      "\n",
      "\u001b[1mRandomForestClassifier(class_weight='balanced', max_depth=7, n_estimators=10,\n",
      "                       random_state=12345)\u001b[0m\n",
      "\n",
      "F1-мера модели на валидационной выборке:\u001b[1m 0.63\u001b[0m\n",
      "Площадь под ROC-кривой: \u001b[1m0.86\u001b[0m\n",
      "\n",
      "\u001b[1mRandomForestClassifier(class_weight='balanced', max_depth=8, n_estimators=10,\n",
      "                       random_state=12345)\u001b[0m\n",
      "\n",
      "F1-мера модели на валидационной выборке:\u001b[1m 0.63\u001b[0m\n",
      "Площадь под ROC-кривой: \u001b[1m0.86\u001b[0m\n",
      "\n",
      "\u001b[1mRandomForestClassifier(class_weight='balanced', max_depth=9, n_estimators=10,\n",
      "                       random_state=12345)\u001b[0m\n",
      "\n",
      "F1-мера модели на валидационной выборке:\u001b[1m 0.64\u001b[0m\n",
      "Площадь под ROC-кривой: \u001b[1m0.87\u001b[0m\n",
      "\n",
      "\u001b[1mRandomForestClassifier(class_weight='balanced', max_depth=10, n_estimators=10,\n",
      "                       random_state=12345)\u001b[0m\n",
      "\n",
      "F1-мера модели на валидационной выборке:\u001b[1m 0.63\u001b[0m\n",
      "Площадь под ROC-кривой: \u001b[1m0.86\u001b[0m\n",
      "\n",
      "\u001b[1mRandomForestClassifier(class_weight='balanced', max_depth=11, n_estimators=10,\n",
      "                       random_state=12345)\u001b[0m\n",
      "\n",
      "F1-мера модели на валидационной выборке:\u001b[1m 0.63\u001b[0m\n",
      "Площадь под ROC-кривой: \u001b[1m0.85\u001b[0m\n",
      "\n",
      "\u001b[1mRandomForestClassifier(class_weight='balanced', max_depth=12, n_estimators=10,\n",
      "                       random_state=12345)\u001b[0m\n",
      "\n",
      "F1-мера модели на валидационной выборке:\u001b[1m 0.6\u001b[0m\n",
      "Площадь под ROC-кривой: \u001b[1m0.85\u001b[0m\n",
      "\n",
      "\u001b[1mRandomForestClassifier(class_weight='balanced', max_depth=13, n_estimators=10,\n",
      "                       random_state=12345)\u001b[0m\n",
      "\n",
      "F1-мера модели на валидационной выборке:\u001b[1m 0.59\u001b[0m\n",
      "Площадь под ROC-кривой: \u001b[1m0.84\u001b[0m\n",
      "\n",
      "\u001b[1mRandomForestClassifier(class_weight='balanced', max_depth=14, n_estimators=10,\n",
      "                       random_state=12345)\u001b[0m\n",
      "\n",
      "F1-мера модели на валидационной выборке:\u001b[1m 0.59\u001b[0m\n",
      "Площадь под ROC-кривой: \u001b[1m0.84\u001b[0m\n",
      "\n",
      "\u001b[1mRandomForestClassifier(class_weight='balanced', max_depth=15, n_estimators=10,\n",
      "                       random_state=12345)\u001b[0m\n",
      "\n",
      "F1-мера модели на валидационной выборке:\u001b[1m 0.57\u001b[0m\n",
      "Площадь под ROC-кривой: \u001b[1m0.85\u001b[0m\n",
      "\n",
      "\u001b[1mRandomForestClassifier(class_weight='balanced', max_depth=16, n_estimators=10,\n",
      "                       random_state=12345)\u001b[0m\n",
      "\n",
      "F1-мера модели на валидационной выборке:\u001b[1m 0.6\u001b[0m\n",
      "Площадь под ROC-кривой: \u001b[1m0.84\u001b[0m\n",
      "\n",
      "\u001b[1mRandomForestClassifier(class_weight='balanced', max_depth=17, n_estimators=10,\n",
      "                       random_state=12345)\u001b[0m\n",
      "\n",
      "F1-мера модели на валидационной выборке:\u001b[1m 0.57\u001b[0m\n",
      "Площадь под ROC-кривой: \u001b[1m0.83\u001b[0m\n",
      "\n",
      "\u001b[1mRandomForestClassifier(class_weight='balanced', max_depth=18, n_estimators=10,\n",
      "                       random_state=12345)\u001b[0m\n",
      "\n",
      "F1-мера модели на валидационной выборке:\u001b[1m 0.58\u001b[0m\n",
      "Площадь под ROC-кривой: \u001b[1m0.83\u001b[0m\n",
      "\n",
      "\u001b[1mRandomForestClassifier(class_weight='balanced', max_depth=19, n_estimators=10,\n",
      "                       random_state=12345)\u001b[0m\n",
      "\n",
      "F1-мера модели на валидационной выборке:\u001b[1m 0.57\u001b[0m\n",
      "Площадь под ROC-кривой: \u001b[1m0.83\u001b[0m\n",
      "\n",
      "\u001b[1mRandomForestClassifier(class_weight='balanced', max_depth=1, n_estimators=12,\n",
      "                       random_state=12345)\u001b[0m\n",
      "\n",
      "F1-мера модели на валидационной выборке:\u001b[1m 0.54\u001b[0m\n",
      "Площадь под ROC-кривой: \u001b[1m0.79\u001b[0m\n",
      "\n",
      "\u001b[1mRandomForestClassifier(class_weight='balanced', max_depth=2, n_estimators=12,\n",
      "                       random_state=12345)\u001b[0m\n",
      "\n",
      "F1-мера модели на валидационной выборке:\u001b[1m 0.58\u001b[0m\n",
      "Площадь под ROC-кривой: \u001b[1m0.82\u001b[0m\n",
      "\n",
      "\u001b[1mRandomForestClassifier(class_weight='balanced', max_depth=3, n_estimators=12,\n",
      "                       random_state=12345)\u001b[0m\n",
      "\n",
      "F1-мера модели на валидационной выборке:\u001b[1m 0.57\u001b[0m\n",
      "Площадь под ROC-кривой: \u001b[1m0.84\u001b[0m\n",
      "\n",
      "\u001b[1mRandomForestClassifier(class_weight='balanced', max_depth=4, n_estimators=12,\n",
      "                       random_state=12345)\u001b[0m\n",
      "\n",
      "F1-мера модели на валидационной выборке:\u001b[1m 0.61\u001b[0m\n",
      "Площадь под ROC-кривой: \u001b[1m0.86\u001b[0m\n",
      "\n",
      "\u001b[1mRandomForestClassifier(class_weight='balanced', max_depth=5, n_estimators=12,\n",
      "                       random_state=12345)\u001b[0m\n",
      "\n",
      "F1-мера модели на валидационной выборке:\u001b[1m 0.61\u001b[0m\n",
      "Площадь под ROC-кривой: \u001b[1m0.86\u001b[0m\n",
      "\n",
      "\u001b[1mRandomForestClassifier(class_weight='balanced', max_depth=6, n_estimators=12,\n",
      "                       random_state=12345)\u001b[0m\n",
      "\n",
      "F1-мера модели на валидационной выборке:\u001b[1m 0.62\u001b[0m\n",
      "Площадь под ROC-кривой: \u001b[1m0.86\u001b[0m\n",
      "\n",
      "\u001b[1mRandomForestClassifier(class_weight='balanced', max_depth=7, n_estimators=12,\n",
      "                       random_state=12345)\u001b[0m\n",
      "\n",
      "F1-мера модели на валидационной выборке:\u001b[1m 0.62\u001b[0m\n",
      "Площадь под ROC-кривой: \u001b[1m0.86\u001b[0m\n",
      "\n",
      "\u001b[1mRandomForestClassifier(class_weight='balanced', max_depth=8, n_estimators=12,\n",
      "                       random_state=12345)\u001b[0m\n",
      "\n",
      "F1-мера модели на валидационной выборке:\u001b[1m 0.63\u001b[0m\n",
      "Площадь под ROC-кривой: \u001b[1m0.86\u001b[0m\n",
      "\n",
      "\u001b[1mRandomForestClassifier(class_weight='balanced', max_depth=9, n_estimators=12,\n",
      "                       random_state=12345)\u001b[0m\n",
      "\n",
      "F1-мера модели на валидационной выборке:\u001b[1m 0.64\u001b[0m\n",
      "Площадь под ROC-кривой: \u001b[1m0.87\u001b[0m\n",
      "\n",
      "\u001b[1mRandomForestClassifier(class_weight='balanced', max_depth=10, n_estimators=12,\n",
      "                       random_state=12345)\u001b[0m\n",
      "\n",
      "F1-мера модели на валидационной выборке:\u001b[1m 0.63\u001b[0m\n",
      "Площадь под ROC-кривой: \u001b[1m0.86\u001b[0m\n",
      "\n",
      "\u001b[1mRandomForestClassifier(class_weight='balanced', max_depth=11, n_estimators=12,\n",
      "                       random_state=12345)\u001b[0m\n",
      "\n",
      "F1-мера модели на валидационной выборке:\u001b[1m 0.62\u001b[0m\n",
      "Площадь под ROC-кривой: \u001b[1m0.86\u001b[0m\n",
      "\n",
      "\u001b[1mRandomForestClassifier(class_weight='balanced', max_depth=12, n_estimators=12,\n",
      "                       random_state=12345)\u001b[0m\n",
      "\n",
      "F1-мера модели на валидационной выборке:\u001b[1m 0.61\u001b[0m\n",
      "Площадь под ROC-кривой: \u001b[1m0.86\u001b[0m\n",
      "\n",
      "\u001b[1mRandomForestClassifier(class_weight='balanced', max_depth=13, n_estimators=12,\n",
      "                       random_state=12345)\u001b[0m\n",
      "\n",
      "F1-мера модели на валидационной выборке:\u001b[1m 0.61\u001b[0m\n",
      "Площадь под ROC-кривой: \u001b[1m0.85\u001b[0m\n",
      "\n",
      "\u001b[1mRandomForestClassifier(class_weight='balanced', max_depth=14, n_estimators=12,\n",
      "                       random_state=12345)\u001b[0m\n",
      "\n",
      "F1-мера модели на валидационной выборке:\u001b[1m 0.6\u001b[0m\n",
      "Площадь под ROC-кривой: \u001b[1m0.85\u001b[0m\n",
      "\n",
      "\u001b[1mRandomForestClassifier(class_weight='balanced', max_depth=15, n_estimators=12,\n",
      "                       random_state=12345)\u001b[0m\n",
      "\n",
      "F1-мера модели на валидационной выборке:\u001b[1m 0.58\u001b[0m\n",
      "Площадь под ROC-кривой: \u001b[1m0.85\u001b[0m\n",
      "\n",
      "\u001b[1mRandomForestClassifier(class_weight='balanced', max_depth=16, n_estimators=12,\n",
      "                       random_state=12345)\u001b[0m\n",
      "\n",
      "F1-мера модели на валидационной выборке:\u001b[1m 0.61\u001b[0m\n",
      "Площадь под ROC-кривой: \u001b[1m0.84\u001b[0m\n",
      "\n",
      "\u001b[1mRandomForestClassifier(class_weight='balanced', max_depth=17, n_estimators=12,\n",
      "                       random_state=12345)\u001b[0m\n",
      "\n",
      "F1-мера модели на валидационной выборке:\u001b[1m 0.57\u001b[0m\n",
      "Площадь под ROC-кривой: \u001b[1m0.84\u001b[0m\n",
      "\n",
      "\u001b[1mRandomForestClassifier(class_weight='balanced', max_depth=18, n_estimators=12,\n",
      "                       random_state=12345)\u001b[0m\n",
      "\n",
      "F1-мера модели на валидационной выборке:\u001b[1m 0.57\u001b[0m\n",
      "Площадь под ROC-кривой: \u001b[1m0.84\u001b[0m\n",
      "\n",
      "\u001b[1mRandomForestClassifier(class_weight='balanced', max_depth=19, n_estimators=12,\n",
      "                       random_state=12345)\u001b[0m\n",
      "\n",
      "F1-мера модели на валидационной выборке:\u001b[1m 0.55\u001b[0m\n",
      "Площадь под ROC-кривой: \u001b[1m0.84\u001b[0m\n",
      "\n",
      "\u001b[1mRandomForestClassifier(class_weight='balanced', max_depth=1, n_estimators=14,\n",
      "                       random_state=12345)\u001b[0m\n",
      "\n",
      "F1-мера модели на валидационной выборке:\u001b[1m 0.55\u001b[0m\n",
      "Площадь под ROC-кривой: \u001b[1m0.82\u001b[0m\n",
      "\n",
      "\u001b[1mRandomForestClassifier(class_weight='balanced', max_depth=2, n_estimators=14,\n",
      "                       random_state=12345)\u001b[0m\n",
      "\n",
      "F1-мера модели на валидационной выборке:\u001b[1m 0.57\u001b[0m\n",
      "Площадь под ROC-кривой: \u001b[1m0.83\u001b[0m\n",
      "\n",
      "\u001b[1mRandomForestClassifier(class_weight='balanced', max_depth=3, n_estimators=14,\n",
      "                       random_state=12345)\u001b[0m\n",
      "\n",
      "F1-мера модели на валидационной выборке:\u001b[1m 0.57\u001b[0m\n",
      "Площадь под ROC-кривой: \u001b[1m0.84\u001b[0m\n",
      "\n"
     ]
    },
    {
     "name": "stdout",
     "output_type": "stream",
     "text": [
      "\u001b[1mRandomForestClassifier(class_weight='balanced', max_depth=4, n_estimators=14,\n",
      "                       random_state=12345)\u001b[0m\n",
      "\n",
      "F1-мера модели на валидационной выборке:\u001b[1m 0.62\u001b[0m\n",
      "Площадь под ROC-кривой: \u001b[1m0.86\u001b[0m\n",
      "\n",
      "\u001b[1mRandomForestClassifier(class_weight='balanced', max_depth=5, n_estimators=14,\n",
      "                       random_state=12345)\u001b[0m\n",
      "\n",
      "F1-мера модели на валидационной выборке:\u001b[1m 0.62\u001b[0m\n",
      "Площадь под ROC-кривой: \u001b[1m0.86\u001b[0m\n",
      "\n",
      "\u001b[1mRandomForestClassifier(class_weight='balanced', max_depth=6, n_estimators=14,\n",
      "                       random_state=12345)\u001b[0m\n",
      "\n",
      "F1-мера модели на валидационной выборке:\u001b[1m 0.62\u001b[0m\n",
      "Площадь под ROC-кривой: \u001b[1m0.86\u001b[0m\n",
      "\n",
      "\u001b[1mRandomForestClassifier(class_weight='balanced', max_depth=7, n_estimators=14,\n",
      "                       random_state=12345)\u001b[0m\n",
      "\n",
      "F1-мера модели на валидационной выборке:\u001b[1m 0.62\u001b[0m\n",
      "Площадь под ROC-кривой: \u001b[1m0.86\u001b[0m\n",
      "\n",
      "\u001b[1mRandomForestClassifier(class_weight='balanced', max_depth=8, n_estimators=14,\n",
      "                       random_state=12345)\u001b[0m\n",
      "\n",
      "F1-мера модели на валидационной выборке:\u001b[1m 0.64\u001b[0m\n",
      "Площадь под ROC-кривой: \u001b[1m0.86\u001b[0m\n",
      "\n",
      "\u001b[1mRandomForestClassifier(class_weight='balanced', max_depth=9, n_estimators=14,\n",
      "                       random_state=12345)\u001b[0m\n",
      "\n",
      "F1-мера модели на валидационной выборке:\u001b[1m 0.64\u001b[0m\n",
      "Площадь под ROC-кривой: \u001b[1m0.87\u001b[0m\n",
      "\n",
      "\u001b[1mRandomForestClassifier(class_weight='balanced', max_depth=10, n_estimators=14,\n",
      "                       random_state=12345)\u001b[0m\n",
      "\n",
      "F1-мера модели на валидационной выборке:\u001b[1m 0.64\u001b[0m\n",
      "Площадь под ROC-кривой: \u001b[1m0.86\u001b[0m\n",
      "\n",
      "\u001b[1mRandomForestClassifier(class_weight='balanced', max_depth=11, n_estimators=14,\n",
      "                       random_state=12345)\u001b[0m\n",
      "\n",
      "F1-мера модели на валидационной выборке:\u001b[1m 0.63\u001b[0m\n",
      "Площадь под ROC-кривой: \u001b[1m0.86\u001b[0m\n",
      "\n",
      "\u001b[1mRandomForestClassifier(class_weight='balanced', max_depth=12, n_estimators=14,\n",
      "                       random_state=12345)\u001b[0m\n",
      "\n",
      "F1-мера модели на валидационной выборке:\u001b[1m 0.62\u001b[0m\n",
      "Площадь под ROC-кривой: \u001b[1m0.86\u001b[0m\n",
      "\n",
      "\u001b[1mRandomForestClassifier(class_weight='balanced', max_depth=13, n_estimators=14,\n",
      "                       random_state=12345)\u001b[0m\n",
      "\n",
      "F1-мера модели на валидационной выборке:\u001b[1m 0.6\u001b[0m\n",
      "Площадь под ROC-кривой: \u001b[1m0.85\u001b[0m\n",
      "\n",
      "\u001b[1mRandomForestClassifier(class_weight='balanced', max_depth=14, n_estimators=14,\n",
      "                       random_state=12345)\u001b[0m\n",
      "\n",
      "F1-мера модели на валидационной выборке:\u001b[1m 0.6\u001b[0m\n",
      "Площадь под ROC-кривой: \u001b[1m0.85\u001b[0m\n",
      "\n",
      "\u001b[1mRandomForestClassifier(class_weight='balanced', max_depth=15, n_estimators=14,\n",
      "                       random_state=12345)\u001b[0m\n",
      "\n",
      "F1-мера модели на валидационной выборке:\u001b[1m 0.59\u001b[0m\n",
      "Площадь под ROC-кривой: \u001b[1m0.85\u001b[0m\n",
      "\n",
      "\u001b[1mRandomForestClassifier(class_weight='balanced', max_depth=16, n_estimators=14,\n",
      "                       random_state=12345)\u001b[0m\n",
      "\n",
      "F1-мера модели на валидационной выборке:\u001b[1m 0.6\u001b[0m\n",
      "Площадь под ROC-кривой: \u001b[1m0.84\u001b[0m\n",
      "\n",
      "\u001b[1mRandomForestClassifier(class_weight='balanced', max_depth=17, n_estimators=14,\n",
      "                       random_state=12345)\u001b[0m\n",
      "\n",
      "F1-мера модели на валидационной выборке:\u001b[1m 0.57\u001b[0m\n",
      "Площадь под ROC-кривой: \u001b[1m0.84\u001b[0m\n",
      "\n",
      "\u001b[1mRandomForestClassifier(class_weight='balanced', max_depth=18, n_estimators=14,\n",
      "                       random_state=12345)\u001b[0m\n",
      "\n",
      "F1-мера модели на валидационной выборке:\u001b[1m 0.58\u001b[0m\n",
      "Площадь под ROC-кривой: \u001b[1m0.84\u001b[0m\n",
      "\n",
      "\u001b[1mRandomForestClassifier(class_weight='balanced', max_depth=19, n_estimators=14,\n",
      "                       random_state=12345)\u001b[0m\n",
      "\n",
      "F1-мера модели на валидационной выборке:\u001b[1m 0.56\u001b[0m\n",
      "Площадь под ROC-кривой: \u001b[1m0.84\u001b[0m\n",
      "\n",
      "\u001b[1mRandomForestClassifier(class_weight='balanced', max_depth=1, n_estimators=16,\n",
      "                       random_state=12345)\u001b[0m\n",
      "\n",
      "F1-мера модели на валидационной выборке:\u001b[1m 0.55\u001b[0m\n",
      "Площадь под ROC-кривой: \u001b[1m0.82\u001b[0m\n",
      "\n",
      "\u001b[1mRandomForestClassifier(class_weight='balanced', max_depth=2, n_estimators=16,\n",
      "                       random_state=12345)\u001b[0m\n",
      "\n",
      "F1-мера модели на валидационной выборке:\u001b[1m 0.56\u001b[0m\n",
      "Площадь под ROC-кривой: \u001b[1m0.83\u001b[0m\n",
      "\n",
      "\u001b[1mRandomForestClassifier(class_weight='balanced', max_depth=3, n_estimators=16,\n",
      "                       random_state=12345)\u001b[0m\n",
      "\n",
      "F1-мера модели на валидационной выборке:\u001b[1m 0.56\u001b[0m\n",
      "Площадь под ROC-кривой: \u001b[1m0.84\u001b[0m\n",
      "\n",
      "\u001b[1mRandomForestClassifier(class_weight='balanced', max_depth=4, n_estimators=16,\n",
      "                       random_state=12345)\u001b[0m\n",
      "\n",
      "F1-мера модели на валидационной выборке:\u001b[1m 0.61\u001b[0m\n",
      "Площадь под ROC-кривой: \u001b[1m0.86\u001b[0m\n",
      "\n",
      "\u001b[1mRandomForestClassifier(class_weight='balanced', max_depth=5, n_estimators=16,\n",
      "                       random_state=12345)\u001b[0m\n",
      "\n",
      "F1-мера модели на валидационной выборке:\u001b[1m 0.62\u001b[0m\n",
      "Площадь под ROC-кривой: \u001b[1m0.86\u001b[0m\n",
      "\n",
      "\u001b[1mRandomForestClassifier(class_weight='balanced', max_depth=6, n_estimators=16,\n",
      "                       random_state=12345)\u001b[0m\n",
      "\n",
      "F1-мера модели на валидационной выборке:\u001b[1m 0.62\u001b[0m\n",
      "Площадь под ROC-кривой: \u001b[1m0.86\u001b[0m\n",
      "\n",
      "\u001b[1mRandomForestClassifier(class_weight='balanced', max_depth=7, n_estimators=16,\n",
      "                       random_state=12345)\u001b[0m\n",
      "\n",
      "F1-мера модели на валидационной выборке:\u001b[1m 0.63\u001b[0m\n",
      "Площадь под ROC-кривой: \u001b[1m0.86\u001b[0m\n",
      "\n",
      "\u001b[1mRandomForestClassifier(class_weight='balanced', max_depth=8, n_estimators=16,\n",
      "                       random_state=12345)\u001b[0m\n",
      "\n",
      "F1-мера модели на валидационной выборке:\u001b[1m 0.63\u001b[0m\n",
      "Площадь под ROC-кривой: \u001b[1m0.86\u001b[0m\n",
      "\n",
      "\u001b[1mRandomForestClassifier(class_weight='balanced', max_depth=9, n_estimators=16,\n",
      "                       random_state=12345)\u001b[0m\n",
      "\n",
      "F1-мера модели на валидационной выборке:\u001b[1m 0.64\u001b[0m\n",
      "Площадь под ROC-кривой: \u001b[1m0.87\u001b[0m\n",
      "\n",
      "\u001b[1mRandomForestClassifier(class_weight='balanced', max_depth=10, n_estimators=16,\n",
      "                       random_state=12345)\u001b[0m\n",
      "\n",
      "F1-мера модели на валидационной выборке:\u001b[1m 0.65\u001b[0m\n",
      "Площадь под ROC-кривой: \u001b[1m0.86\u001b[0m\n",
      "\n",
      "\u001b[1mRandomForestClassifier(class_weight='balanced', max_depth=11, n_estimators=16,\n",
      "                       random_state=12345)\u001b[0m\n",
      "\n",
      "F1-мера модели на валидационной выборке:\u001b[1m 0.64\u001b[0m\n",
      "Площадь под ROC-кривой: \u001b[1m0.86\u001b[0m\n",
      "\n",
      "\u001b[1mRandomForestClassifier(class_weight='balanced', max_depth=12, n_estimators=16,\n",
      "                       random_state=12345)\u001b[0m\n",
      "\n",
      "F1-мера модели на валидационной выборке:\u001b[1m 0.62\u001b[0m\n",
      "Площадь под ROC-кривой: \u001b[1m0.85\u001b[0m\n",
      "\n",
      "\u001b[1mRandomForestClassifier(class_weight='balanced', max_depth=13, n_estimators=16,\n",
      "                       random_state=12345)\u001b[0m\n",
      "\n",
      "F1-мера модели на валидационной выборке:\u001b[1m 0.6\u001b[0m\n",
      "Площадь под ROC-кривой: \u001b[1m0.85\u001b[0m\n",
      "\n",
      "\u001b[1mRandomForestClassifier(class_weight='balanced', max_depth=14, n_estimators=16,\n",
      "                       random_state=12345)\u001b[0m\n",
      "\n",
      "F1-мера модели на валидационной выборке:\u001b[1m 0.59\u001b[0m\n",
      "Площадь под ROC-кривой: \u001b[1m0.85\u001b[0m\n",
      "\n",
      "\u001b[1mRandomForestClassifier(class_weight='balanced', max_depth=15, n_estimators=16,\n",
      "                       random_state=12345)\u001b[0m\n",
      "\n",
      "F1-мера модели на валидационной выборке:\u001b[1m 0.58\u001b[0m\n",
      "Площадь под ROC-кривой: \u001b[1m0.85\u001b[0m\n",
      "\n",
      "\u001b[1mRandomForestClassifier(class_weight='balanced', max_depth=16, n_estimators=16,\n",
      "                       random_state=12345)\u001b[0m\n",
      "\n",
      "F1-мера модели на валидационной выборке:\u001b[1m 0.6\u001b[0m\n",
      "Площадь под ROC-кривой: \u001b[1m0.84\u001b[0m\n",
      "\n",
      "\u001b[1mRandomForestClassifier(class_weight='balanced', max_depth=17, n_estimators=16,\n",
      "                       random_state=12345)\u001b[0m\n",
      "\n",
      "F1-мера модели на валидационной выборке:\u001b[1m 0.58\u001b[0m\n",
      "Площадь под ROC-кривой: \u001b[1m0.84\u001b[0m\n",
      "\n",
      "\u001b[1mRandomForestClassifier(class_weight='balanced', max_depth=18, n_estimators=16,\n",
      "                       random_state=12345)\u001b[0m\n",
      "\n",
      "F1-мера модели на валидационной выборке:\u001b[1m 0.59\u001b[0m\n",
      "Площадь под ROC-кривой: \u001b[1m0.84\u001b[0m\n",
      "\n",
      "\u001b[1mRandomForestClassifier(class_weight='balanced', max_depth=19, n_estimators=16,\n",
      "                       random_state=12345)\u001b[0m\n",
      "\n",
      "F1-мера модели на валидационной выборке:\u001b[1m 0.56\u001b[0m\n",
      "Площадь под ROC-кривой: \u001b[1m0.84\u001b[0m\n",
      "\n",
      "\u001b[1mRandomForestClassifier(class_weight='balanced', max_depth=1, n_estimators=18,\n",
      "                       random_state=12345)\u001b[0m\n",
      "\n",
      "F1-мера модели на валидационной выборке:\u001b[1m 0.55\u001b[0m\n",
      "Площадь под ROC-кривой: \u001b[1m0.81\u001b[0m\n",
      "\n",
      "\u001b[1mRandomForestClassifier(class_weight='balanced', max_depth=2, n_estimators=18,\n",
      "                       random_state=12345)\u001b[0m\n",
      "\n",
      "F1-мера модели на валидационной выборке:\u001b[1m 0.57\u001b[0m\n",
      "Площадь под ROC-кривой: \u001b[1m0.82\u001b[0m\n",
      "\n",
      "\u001b[1mRandomForestClassifier(class_weight='balanced', max_depth=3, n_estimators=18,\n",
      "                       random_state=12345)\u001b[0m\n",
      "\n",
      "F1-мера модели на валидационной выборке:\u001b[1m 0.58\u001b[0m\n",
      "Площадь под ROC-кривой: \u001b[1m0.85\u001b[0m\n",
      "\n"
     ]
    },
    {
     "name": "stdout",
     "output_type": "stream",
     "text": [
      "\u001b[1mRandomForestClassifier(class_weight='balanced', max_depth=4, n_estimators=18,\n",
      "                       random_state=12345)\u001b[0m\n",
      "\n",
      "F1-мера модели на валидационной выборке:\u001b[1m 0.61\u001b[0m\n",
      "Площадь под ROC-кривой: \u001b[1m0.86\u001b[0m\n",
      "\n",
      "\u001b[1mRandomForestClassifier(class_weight='balanced', max_depth=5, n_estimators=18,\n",
      "                       random_state=12345)\u001b[0m\n",
      "\n",
      "F1-мера модели на валидационной выборке:\u001b[1m 0.62\u001b[0m\n",
      "Площадь под ROC-кривой: \u001b[1m0.86\u001b[0m\n",
      "\n",
      "\u001b[1mRandomForestClassifier(class_weight='balanced', max_depth=6, n_estimators=18,\n",
      "                       random_state=12345)\u001b[0m\n",
      "\n",
      "F1-мера модели на валидационной выборке:\u001b[1m 0.62\u001b[0m\n",
      "Площадь под ROC-кривой: \u001b[1m0.86\u001b[0m\n",
      "\n",
      "\u001b[1mRandomForestClassifier(class_weight='balanced', max_depth=7, n_estimators=18,\n",
      "                       random_state=12345)\u001b[0m\n",
      "\n",
      "F1-мера модели на валидационной выборке:\u001b[1m 0.63\u001b[0m\n",
      "Площадь под ROC-кривой: \u001b[1m0.87\u001b[0m\n",
      "\n",
      "\u001b[1mRandomForestClassifier(class_weight='balanced', max_depth=8, n_estimators=18,\n",
      "                       random_state=12345)\u001b[0m\n",
      "\n",
      "F1-мера модели на валидационной выборке:\u001b[1m 0.63\u001b[0m\n",
      "Площадь под ROC-кривой: \u001b[1m0.86\u001b[0m\n",
      "\n",
      "\u001b[1mRandomForestClassifier(class_weight='balanced', max_depth=9, n_estimators=18,\n",
      "                       random_state=12345)\u001b[0m\n",
      "\n",
      "F1-мера модели на валидационной выборке:\u001b[1m 0.65\u001b[0m\n",
      "Площадь под ROC-кривой: \u001b[1m0.87\u001b[0m\n",
      "\n",
      "\u001b[1mRandomForestClassifier(class_weight='balanced', max_depth=10, n_estimators=18,\n",
      "                       random_state=12345)\u001b[0m\n",
      "\n",
      "F1-мера модели на валидационной выборке:\u001b[1m 0.64\u001b[0m\n",
      "Площадь под ROC-кривой: \u001b[1m0.86\u001b[0m\n",
      "\n",
      "\u001b[1mRandomForestClassifier(class_weight='balanced', max_depth=11, n_estimators=18,\n",
      "                       random_state=12345)\u001b[0m\n",
      "\n",
      "F1-мера модели на валидационной выборке:\u001b[1m 0.63\u001b[0m\n",
      "Площадь под ROC-кривой: \u001b[1m0.86\u001b[0m\n",
      "\n",
      "\u001b[1mRandomForestClassifier(class_weight='balanced', max_depth=12, n_estimators=18,\n",
      "                       random_state=12345)\u001b[0m\n",
      "\n",
      "F1-мера модели на валидационной выборке:\u001b[1m 0.62\u001b[0m\n",
      "Площадь под ROC-кривой: \u001b[1m0.86\u001b[0m\n",
      "\n",
      "\u001b[1mRandomForestClassifier(class_weight='balanced', max_depth=13, n_estimators=18,\n",
      "                       random_state=12345)\u001b[0m\n",
      "\n",
      "F1-мера модели на валидационной выборке:\u001b[1m 0.61\u001b[0m\n",
      "Площадь под ROC-кривой: \u001b[1m0.85\u001b[0m\n",
      "\n",
      "\u001b[1mRandomForestClassifier(class_weight='balanced', max_depth=14, n_estimators=18,\n",
      "                       random_state=12345)\u001b[0m\n",
      "\n",
      "F1-мера модели на валидационной выборке:\u001b[1m 0.59\u001b[0m\n",
      "Площадь под ROC-кривой: \u001b[1m0.85\u001b[0m\n",
      "\n",
      "\u001b[1mRandomForestClassifier(class_weight='balanced', max_depth=15, n_estimators=18,\n",
      "                       random_state=12345)\u001b[0m\n",
      "\n",
      "F1-мера модели на валидационной выборке:\u001b[1m 0.59\u001b[0m\n",
      "Площадь под ROC-кривой: \u001b[1m0.85\u001b[0m\n",
      "\n",
      "\u001b[1mRandomForestClassifier(class_weight='balanced', max_depth=16, n_estimators=18,\n",
      "                       random_state=12345)\u001b[0m\n",
      "\n",
      "F1-мера модели на валидационной выборке:\u001b[1m 0.61\u001b[0m\n",
      "Площадь под ROC-кривой: \u001b[1m0.85\u001b[0m\n",
      "\n",
      "\u001b[1mRandomForestClassifier(class_weight='balanced', max_depth=17, n_estimators=18,\n",
      "                       random_state=12345)\u001b[0m\n",
      "\n",
      "F1-мера модели на валидационной выборке:\u001b[1m 0.58\u001b[0m\n",
      "Площадь под ROC-кривой: \u001b[1m0.84\u001b[0m\n",
      "\n",
      "\u001b[1mRandomForestClassifier(class_weight='balanced', max_depth=18, n_estimators=18,\n",
      "                       random_state=12345)\u001b[0m\n",
      "\n",
      "F1-мера модели на валидационной выборке:\u001b[1m 0.58\u001b[0m\n",
      "Площадь под ROC-кривой: \u001b[1m0.85\u001b[0m\n",
      "\n",
      "\u001b[1mRandomForestClassifier(class_weight='balanced', max_depth=19, n_estimators=18,\n",
      "                       random_state=12345)\u001b[0m\n",
      "\n",
      "F1-мера модели на валидационной выборке:\u001b[1m 0.57\u001b[0m\n",
      "Площадь под ROC-кривой: \u001b[1m0.85\u001b[0m\n",
      "\n"
     ]
    }
   ],
   "source": [
    "forest_weighing = ([selection(RandomForestClassifier(random_state=12345, \n",
    "                                                 n_estimators=n_est,\n",
    "                                                 max_depth=depth, \n",
    "                                                 class_weight='balanced'), 'weighing', X_train, y_train).show() \n",
    "              for n_est in range(2, 20, 2) for depth in range(1, 20, 1)])"
   ]
  },
  {
   "cell_type": "code",
   "execution_count": 56,
   "metadata": {},
   "outputs": [],
   "source": [
    "forest_weigh = processing(forest_weighing)"
   ]
  },
  {
   "cell_type": "markdown",
   "metadata": {},
   "source": [
    "**Модель логичестической регрессии.**"
   ]
  },
  {
   "cell_type": "code",
   "execution_count": 58,
   "metadata": {
    "scrolled": true
   },
   "outputs": [
    {
     "name": "stdout",
     "output_type": "stream",
     "text": [
      "\u001b[1mLogisticRegression(C=100, class_weight='balanced', random_state=12345,\n",
      "                   solver='newton-cg')\u001b[0m\n",
      "\n",
      "F1-мера модели на валидационной выборке:\u001b[1m 0.53\u001b[0m\n",
      "Площадь под ROC-кривой: \u001b[1m0.79\u001b[0m\n",
      "\n",
      "\u001b[1mLogisticRegression(C=10, class_weight='balanced', random_state=12345,\n",
      "                   solver='newton-cg')\u001b[0m\n",
      "\n",
      "F1-мера модели на валидационной выборке:\u001b[1m 0.53\u001b[0m\n",
      "Площадь под ROC-кривой: \u001b[1m0.79\u001b[0m\n",
      "\n",
      "\u001b[1mLogisticRegression(class_weight='balanced', random_state=12345,\n",
      "                   solver='newton-cg')\u001b[0m\n",
      "\n",
      "F1-мера модели на валидационной выборке:\u001b[1m 0.53\u001b[0m\n",
      "Площадь под ROC-кривой: \u001b[1m0.79\u001b[0m\n",
      "\n",
      "\u001b[1mLogisticRegression(C=0.1, class_weight='balanced', random_state=12345,\n",
      "                   solver='newton-cg')\u001b[0m\n",
      "\n",
      "F1-мера модели на валидационной выборке:\u001b[1m 0.53\u001b[0m\n",
      "Площадь под ROC-кривой: \u001b[1m0.79\u001b[0m\n",
      "\n",
      "\u001b[1mLogisticRegression(C=0.01, class_weight='balanced', random_state=12345,\n",
      "                   solver='newton-cg')\u001b[0m\n",
      "\n",
      "F1-мера модели на валидационной выборке:\u001b[1m 0.53\u001b[0m\n",
      "Площадь под ROC-кривой: \u001b[1m0.8\u001b[0m\n",
      "\n",
      "\u001b[1mLogisticRegression(C=100, class_weight='balanced', random_state=12345)\u001b[0m\n",
      "\n",
      "F1-мера модели на валидационной выборке:\u001b[1m 0.53\u001b[0m\n",
      "Площадь под ROC-кривой: \u001b[1m0.79\u001b[0m\n",
      "\n",
      "\u001b[1mLogisticRegression(C=10, class_weight='balanced', random_state=12345)\u001b[0m\n",
      "\n",
      "F1-мера модели на валидационной выборке:\u001b[1m 0.53\u001b[0m\n",
      "Площадь под ROC-кривой: \u001b[1m0.79\u001b[0m\n",
      "\n",
      "\u001b[1mLogisticRegression(class_weight='balanced', random_state=12345)\u001b[0m\n",
      "\n",
      "F1-мера модели на валидационной выборке:\u001b[1m 0.53\u001b[0m\n",
      "Площадь под ROC-кривой: \u001b[1m0.79\u001b[0m\n",
      "\n",
      "\u001b[1mLogisticRegression(C=0.1, class_weight='balanced', random_state=12345)\u001b[0m\n",
      "\n",
      "F1-мера модели на валидационной выборке:\u001b[1m 0.53\u001b[0m\n",
      "Площадь под ROC-кривой: \u001b[1m0.79\u001b[0m\n",
      "\n",
      "\u001b[1mLogisticRegression(C=0.01, class_weight='balanced', random_state=12345)\u001b[0m\n",
      "\n",
      "F1-мера модели на валидационной выборке:\u001b[1m 0.53\u001b[0m\n",
      "Площадь под ROC-кривой: \u001b[1m0.8\u001b[0m\n",
      "\n",
      "\u001b[1mLogisticRegression(C=100, class_weight='balanced', random_state=12345,\n",
      "                   solver='liblinear')\u001b[0m\n",
      "\n",
      "F1-мера модели на валидационной выборке:\u001b[1m 0.53\u001b[0m\n",
      "Площадь под ROC-кривой: \u001b[1m0.79\u001b[0m\n",
      "\n",
      "\u001b[1mLogisticRegression(C=10, class_weight='balanced', random_state=12345,\n",
      "                   solver='liblinear')\u001b[0m\n",
      "\n",
      "F1-мера модели на валидационной выборке:\u001b[1m 0.53\u001b[0m\n",
      "Площадь под ROC-кривой: \u001b[1m0.79\u001b[0m\n",
      "\n",
      "\u001b[1mLogisticRegression(class_weight='balanced', random_state=12345,\n",
      "                   solver='liblinear')\u001b[0m\n",
      "\n",
      "F1-мера модели на валидационной выборке:\u001b[1m 0.53\u001b[0m\n",
      "Площадь под ROC-кривой: \u001b[1m0.79\u001b[0m\n",
      "\n",
      "\u001b[1mLogisticRegression(C=0.1, class_weight='balanced', random_state=12345,\n",
      "                   solver='liblinear')\u001b[0m\n",
      "\n",
      "F1-мера модели на валидационной выборке:\u001b[1m 0.53\u001b[0m\n",
      "Площадь под ROC-кривой: \u001b[1m0.79\u001b[0m\n",
      "\n",
      "\u001b[1mLogisticRegression(C=0.01, class_weight='balanced', random_state=12345,\n",
      "                   solver='liblinear')\u001b[0m\n",
      "\n",
      "F1-мера модели на валидационной выборке:\u001b[1m 0.53\u001b[0m\n",
      "Площадь под ROC-кривой: \u001b[1m0.8\u001b[0m\n",
      "\n"
     ]
    }
   ],
   "source": [
    "regression_weighing  = ([selection(LogisticRegression(random_state=12345, \n",
    "                                                  solver=iter_, \n",
    "                                                  C = c_values, \n",
    "                                                  class_weight='balanced'), 'weighing', X_train, y_train).show() \n",
    "                       for iter_ in ['newton-cg', 'lbfgs', 'liblinear'] for c_values in [100, 10, 1.0, 0.1, 0.01]])"
   ]
  },
  {
   "cell_type": "code",
   "execution_count": 59,
   "metadata": {},
   "outputs": [],
   "source": [
    "regression_weigh = processing(regression_weighing)"
   ]
  },
  {
   "cell_type": "code",
   "execution_count": 70,
   "metadata": {},
   "outputs": [],
   "source": [
    "tree_weigh.index = ['tree_weigh']\n",
    "forest_weigh.index = ['forest_weigh']\n",
    "regression_weigh.index = ['regression_weigh']"
   ]
  },
  {
   "cell_type": "markdown",
   "metadata": {},
   "source": [
    "#### Вывод"
   ]
  },
  {
   "cell_type": "code",
   "execution_count": 71,
   "metadata": {},
   "outputs": [],
   "source": [
    "data_weighing = union(tree_weigh.T, forest_weigh.T, regression_weigh.T)"
   ]
  },
  {
   "cell_type": "code",
   "execution_count": 72,
   "metadata": {},
   "outputs": [
    {
     "data": {
      "text/html": [
       "<div>\n",
       "<style scoped>\n",
       "    .dataframe tbody tr th:only-of-type {\n",
       "        vertical-align: middle;\n",
       "    }\n",
       "\n",
       "    .dataframe tbody tr th {\n",
       "        vertical-align: top;\n",
       "    }\n",
       "\n",
       "    .dataframe thead th {\n",
       "        text-align: right;\n",
       "    }\n",
       "</style>\n",
       "<table border=\"1\" class=\"dataframe\">\n",
       "  <thead>\n",
       "    <tr style=\"text-align: right;\">\n",
       "      <th></th>\n",
       "      <th>Model</th>\n",
       "      <th>F1</th>\n",
       "      <th>AUC-ROC</th>\n",
       "    </tr>\n",
       "  </thead>\n",
       "  <tbody>\n",
       "    <tr>\n",
       "      <th>tree_weigh</th>\n",
       "      <td>DecisionTreeClassifier(class_weight='balanced'...</td>\n",
       "      <td>0.58</td>\n",
       "      <td>0.82</td>\n",
       "    </tr>\n",
       "    <tr>\n",
       "      <th>forest_weigh</th>\n",
       "      <td>(DecisionTreeClassifier(max_depth=10, max_feat...</td>\n",
       "      <td>0.65</td>\n",
       "      <td>0.86</td>\n",
       "    </tr>\n",
       "    <tr>\n",
       "      <th>regression_weigh</th>\n",
       "      <td>LogisticRegression(C=100, class_weight='balanc...</td>\n",
       "      <td>0.53</td>\n",
       "      <td>0.79</td>\n",
       "    </tr>\n",
       "  </tbody>\n",
       "</table>\n",
       "</div>"
      ],
      "text/plain": [
       "                                                              Model    F1  \\\n",
       "tree_weigh        DecisionTreeClassifier(class_weight='balanced'...  0.58   \n",
       "forest_weigh      (DecisionTreeClassifier(max_depth=10, max_feat...  0.65   \n",
       "regression_weigh  LogisticRegression(C=100, class_weight='balanc...  0.53   \n",
       "\n",
       "                 AUC-ROC  \n",
       "tree_weigh          0.82  \n",
       "forest_weigh        0.86  \n",
       "regression_weigh    0.79  "
      ]
     },
     "metadata": {},
     "output_type": "display_data"
    }
   ],
   "source": [
    "display(data_weighing)"
   ]
  },
  {
   "cell_type": "markdown",
   "metadata": {},
   "source": [
    "### Увеличение выборки"
   ]
  },
  {
   "cell_type": "code",
   "execution_count": 63,
   "metadata": {},
   "outputs": [],
   "source": [
    "def upsample(features, target, repeat):\n",
    "    features_zeros = features[target == 0]\n",
    "    features_ones = features[target == 1]\n",
    "    target_zeros = target[target == 0]\n",
    "    target_ones = target[target == 1]\n",
    "\n",
    "    features_upsampled = pd.concat([features_zeros] + [features_ones] * repeat)\n",
    "    target_upsampled = pd.concat([target_zeros] + [target_ones] * repeat)\n",
    "    \n",
    "    X_upsampled, y_upsampled = shuffle(features_upsampled, target_upsampled, random_state=12345)\n",
    "    \n",
    "    return X_upsampled, y_upsampled"
   ]
  },
  {
   "cell_type": "code",
   "execution_count": 64,
   "metadata": {},
   "outputs": [],
   "source": [
    "X_upsampled, y_upsampled = upsample(X_train, y_train, 4)"
   ]
  },
  {
   "cell_type": "markdown",
   "metadata": {},
   "source": [
    "**Модель решаюшего дерева.**"
   ]
  },
  {
   "cell_type": "code",
   "execution_count": 65,
   "metadata": {},
   "outputs": [
    {
     "name": "stdout",
     "output_type": "stream",
     "text": [
      "\u001b[1mDecisionTreeClassifier(max_depth=6, random_state=12345)\u001b[0m\n",
      "\n",
      "F1-мера модели на валидационной выборке:\u001b[1m 0.58\u001b[0m\n",
      "Площадь под ROC-кривой: \u001b[1m0.82\u001b[0m\n",
      "\n"
     ]
    }
   ],
   "source": [
    "tree_upsampled  = selection(DecisionTreeClassifier(random_state=12345, \n",
    "                                                   max_depth=6), 'upsampled', X_upsampled, y_upsampled).show()"
   ]
  },
  {
   "cell_type": "markdown",
   "metadata": {},
   "source": [
    "**Модель случайного леса.**"
   ]
  },
  {
   "cell_type": "code",
   "execution_count": 66,
   "metadata": {},
   "outputs": [
    {
     "name": "stdout",
     "output_type": "stream",
     "text": [
      "\u001b[1mRandomForestClassifier(random_state=12345)\u001b[0m\n",
      "\n",
      "F1-мера модели на валидационной выборке:\u001b[1m 0.63\u001b[0m\n",
      "Площадь под ROC-кривой: \u001b[1m0.87\u001b[0m\n",
      "\n"
     ]
    }
   ],
   "source": [
    "forest_upsampled  = selection(RandomForestClassifier(random_state=12345), 'upsampled', X_upsampled, y_upsampled).show()"
   ]
  },
  {
   "cell_type": "markdown",
   "metadata": {},
   "source": [
    "**Модель логичестической регрессии.**"
   ]
  },
  {
   "cell_type": "code",
   "execution_count": 67,
   "metadata": {},
   "outputs": [
    {
     "name": "stdout",
     "output_type": "stream",
     "text": [
      "\u001b[1mLogisticRegression(random_state=12345)\u001b[0m\n",
      "\n",
      "F1-мера модели на валидационной выборке:\u001b[1m 0.52\u001b[0m\n",
      "Площадь под ROC-кривой: \u001b[1m0.79\u001b[0m\n",
      "\n"
     ]
    }
   ],
   "source": [
    "regression_upsampled  = selection(LogisticRegression(random_state=12345), 'upsampled', X_upsampled, y_upsampled).show()"
   ]
  },
  {
   "cell_type": "code",
   "execution_count": 68,
   "metadata": {},
   "outputs": [
    {
     "data": {
      "text/html": [
       "<div>\n",
       "<style scoped>\n",
       "    .dataframe tbody tr th:only-of-type {\n",
       "        vertical-align: middle;\n",
       "    }\n",
       "\n",
       "    .dataframe tbody tr th {\n",
       "        vertical-align: top;\n",
       "    }\n",
       "\n",
       "    .dataframe thead th {\n",
       "        text-align: right;\n",
       "    }\n",
       "</style>\n",
       "<table border=\"1\" class=\"dataframe\">\n",
       "  <thead>\n",
       "    <tr style=\"text-align: right;\">\n",
       "      <th></th>\n",
       "      <th>regression_upsampled</th>\n",
       "    </tr>\n",
       "  </thead>\n",
       "  <tbody>\n",
       "    <tr>\n",
       "      <th>Model</th>\n",
       "      <td>LogisticRegression(random_state=12345)</td>\n",
       "    </tr>\n",
       "    <tr>\n",
       "      <th>F1</th>\n",
       "      <td>0.52</td>\n",
       "    </tr>\n",
       "    <tr>\n",
       "      <th>AUC-ROC</th>\n",
       "      <td>0.79</td>\n",
       "    </tr>\n",
       "  </tbody>\n",
       "</table>\n",
       "</div>"
      ],
      "text/plain": [
       "                           regression_upsampled\n",
       "Model    LogisticRegression(random_state=12345)\n",
       "F1                                         0.52\n",
       "AUC-ROC                                    0.79"
      ]
     },
     "metadata": {},
     "output_type": "display_data"
    }
   ],
   "source": [
    "display(regression_upsampled)"
   ]
  },
  {
   "cell_type": "code",
   "execution_count": 74,
   "metadata": {},
   "outputs": [],
   "source": [
    "data_upsampled = union(tree_upsampled, forest_upsampled, regression_upsampled)"
   ]
  },
  {
   "cell_type": "code",
   "execution_count": 75,
   "metadata": {},
   "outputs": [
    {
     "data": {
      "text/html": [
       "<div>\n",
       "<style scoped>\n",
       "    .dataframe tbody tr th:only-of-type {\n",
       "        vertical-align: middle;\n",
       "    }\n",
       "\n",
       "    .dataframe tbody tr th {\n",
       "        vertical-align: top;\n",
       "    }\n",
       "\n",
       "    .dataframe thead th {\n",
       "        text-align: right;\n",
       "    }\n",
       "</style>\n",
       "<table border=\"1\" class=\"dataframe\">\n",
       "  <thead>\n",
       "    <tr style=\"text-align: right;\">\n",
       "      <th></th>\n",
       "      <th>Model</th>\n",
       "      <th>F1</th>\n",
       "      <th>AUC-ROC</th>\n",
       "    </tr>\n",
       "  </thead>\n",
       "  <tbody>\n",
       "    <tr>\n",
       "      <th>tree_upsampled</th>\n",
       "      <td>DecisionTreeClassifier(max_depth=6, random_sta...</td>\n",
       "      <td>0.58</td>\n",
       "      <td>0.82</td>\n",
       "    </tr>\n",
       "    <tr>\n",
       "      <th>forest_upsampled</th>\n",
       "      <td>(DecisionTreeClassifier(max_features='auto', r...</td>\n",
       "      <td>0.63</td>\n",
       "      <td>0.87</td>\n",
       "    </tr>\n",
       "    <tr>\n",
       "      <th>regression_upsampled</th>\n",
       "      <td>LogisticRegression(random_state=12345)</td>\n",
       "      <td>0.52</td>\n",
       "      <td>0.79</td>\n",
       "    </tr>\n",
       "  </tbody>\n",
       "</table>\n",
       "</div>"
      ],
      "text/plain": [
       "                                                                  Model    F1  \\\n",
       "tree_upsampled        DecisionTreeClassifier(max_depth=6, random_sta...  0.58   \n",
       "forest_upsampled      (DecisionTreeClassifier(max_features='auto', r...  0.63   \n",
       "regression_upsampled             LogisticRegression(random_state=12345)  0.52   \n",
       "\n",
       "                     AUC-ROC  \n",
       "tree_upsampled          0.82  \n",
       "forest_upsampled        0.87  \n",
       "regression_upsampled    0.79  "
      ]
     },
     "metadata": {},
     "output_type": "display_data"
    }
   ],
   "source": [
    "display(data_upsampled)"
   ]
  },
  {
   "cell_type": "markdown",
   "metadata": {},
   "source": [
    "### Конфигурации моделей "
   ]
  },
  {
   "cell_type": "code",
   "execution_count": 76,
   "metadata": {},
   "outputs": [
    {
     "data": {
      "text/html": [
       "<div>\n",
       "<style scoped>\n",
       "    .dataframe tbody tr th:only-of-type {\n",
       "        vertical-align: middle;\n",
       "    }\n",
       "\n",
       "    .dataframe tbody tr th {\n",
       "        vertical-align: top;\n",
       "    }\n",
       "\n",
       "    .dataframe thead th {\n",
       "        text-align: right;\n",
       "    }\n",
       "</style>\n",
       "<table border=\"1\" class=\"dataframe\">\n",
       "  <thead>\n",
       "    <tr style=\"text-align: right;\">\n",
       "      <th></th>\n",
       "      <th>Model</th>\n",
       "      <th>F1</th>\n",
       "      <th>AUC-ROC</th>\n",
       "    </tr>\n",
       "  </thead>\n",
       "  <tbody>\n",
       "    <tr>\n",
       "      <th>tree_primary</th>\n",
       "      <td>DecisionTreeClassifier(random_state=12345)</td>\n",
       "      <td>0.51</td>\n",
       "      <td>0.69</td>\n",
       "    </tr>\n",
       "    <tr>\n",
       "      <th>forest_primary</th>\n",
       "      <td>(DecisionTreeClassifier(max_features='auto', r...</td>\n",
       "      <td>0.61</td>\n",
       "      <td>0.86</td>\n",
       "    </tr>\n",
       "    <tr>\n",
       "      <th>regression_primary</th>\n",
       "      <td>LogisticRegression(max_iter=1000, random_state...</td>\n",
       "      <td>0.3</td>\n",
       "      <td>0.79</td>\n",
       "    </tr>\n",
       "  </tbody>\n",
       "</table>\n",
       "</div>"
      ],
      "text/plain": [
       "                                                                Model    F1  \\\n",
       "tree_primary               DecisionTreeClassifier(random_state=12345)  0.51   \n",
       "forest_primary      (DecisionTreeClassifier(max_features='auto', r...  0.61   \n",
       "regression_primary  LogisticRegression(max_iter=1000, random_state...   0.3   \n",
       "\n",
       "                   AUC-ROC  \n",
       "tree_primary          0.69  \n",
       "forest_primary        0.86  \n",
       "regression_primary    0.79  "
      ]
     },
     "metadata": {},
     "output_type": "display_data"
    },
    {
     "data": {
      "text/html": [
       "<div>\n",
       "<style scoped>\n",
       "    .dataframe tbody tr th:only-of-type {\n",
       "        vertical-align: middle;\n",
       "    }\n",
       "\n",
       "    .dataframe tbody tr th {\n",
       "        vertical-align: top;\n",
       "    }\n",
       "\n",
       "    .dataframe thead th {\n",
       "        text-align: right;\n",
       "    }\n",
       "</style>\n",
       "<table border=\"1\" class=\"dataframe\">\n",
       "  <thead>\n",
       "    <tr style=\"text-align: right;\">\n",
       "      <th></th>\n",
       "      <th>Model</th>\n",
       "      <th>F1</th>\n",
       "      <th>AUC-ROC</th>\n",
       "    </tr>\n",
       "  </thead>\n",
       "  <tbody>\n",
       "    <tr>\n",
       "      <th>tree_best</th>\n",
       "      <td>DecisionTreeClassifier(max_depth=7, random_sta...</td>\n",
       "      <td>0.59</td>\n",
       "      <td>0.82</td>\n",
       "    </tr>\n",
       "    <tr>\n",
       "      <th>forest_best</th>\n",
       "      <td>(DecisionTreeClassifier(max_depth=15, max_feat...</td>\n",
       "      <td>0.62</td>\n",
       "      <td>0.86</td>\n",
       "    </tr>\n",
       "    <tr>\n",
       "      <th>regression_best</th>\n",
       "      <td>LogisticRegression(C=100, random_state=12345, ...</td>\n",
       "      <td>0.31</td>\n",
       "      <td>0.79</td>\n",
       "    </tr>\n",
       "  </tbody>\n",
       "</table>\n",
       "</div>"
      ],
      "text/plain": [
       "                                                             Model    F1  \\\n",
       "tree_best        DecisionTreeClassifier(max_depth=7, random_sta...  0.59   \n",
       "forest_best      (DecisionTreeClassifier(max_depth=15, max_feat...  0.62   \n",
       "regression_best  LogisticRegression(C=100, random_state=12345, ...  0.31   \n",
       "\n",
       "                AUC-ROC  \n",
       "tree_best          0.82  \n",
       "forest_best        0.86  \n",
       "regression_best    0.79  "
      ]
     },
     "metadata": {},
     "output_type": "display_data"
    },
    {
     "data": {
      "text/html": [
       "<div>\n",
       "<style scoped>\n",
       "    .dataframe tbody tr th:only-of-type {\n",
       "        vertical-align: middle;\n",
       "    }\n",
       "\n",
       "    .dataframe tbody tr th {\n",
       "        vertical-align: top;\n",
       "    }\n",
       "\n",
       "    .dataframe thead th {\n",
       "        text-align: right;\n",
       "    }\n",
       "</style>\n",
       "<table border=\"1\" class=\"dataframe\">\n",
       "  <thead>\n",
       "    <tr style=\"text-align: right;\">\n",
       "      <th></th>\n",
       "      <th>Model</th>\n",
       "      <th>F1</th>\n",
       "      <th>AUC-ROC</th>\n",
       "    </tr>\n",
       "  </thead>\n",
       "  <tbody>\n",
       "    <tr>\n",
       "      <th>tree_weigh</th>\n",
       "      <td>DecisionTreeClassifier(class_weight='balanced'...</td>\n",
       "      <td>0.58</td>\n",
       "      <td>0.82</td>\n",
       "    </tr>\n",
       "    <tr>\n",
       "      <th>forest_weigh</th>\n",
       "      <td>(DecisionTreeClassifier(max_depth=10, max_feat...</td>\n",
       "      <td>0.65</td>\n",
       "      <td>0.86</td>\n",
       "    </tr>\n",
       "    <tr>\n",
       "      <th>regression_weigh</th>\n",
       "      <td>LogisticRegression(C=100, class_weight='balanc...</td>\n",
       "      <td>0.53</td>\n",
       "      <td>0.79</td>\n",
       "    </tr>\n",
       "  </tbody>\n",
       "</table>\n",
       "</div>"
      ],
      "text/plain": [
       "                                                              Model    F1  \\\n",
       "tree_weigh        DecisionTreeClassifier(class_weight='balanced'...  0.58   \n",
       "forest_weigh      (DecisionTreeClassifier(max_depth=10, max_feat...  0.65   \n",
       "regression_weigh  LogisticRegression(C=100, class_weight='balanc...  0.53   \n",
       "\n",
       "                 AUC-ROC  \n",
       "tree_weigh          0.82  \n",
       "forest_weigh        0.86  \n",
       "regression_weigh    0.79  "
      ]
     },
     "metadata": {},
     "output_type": "display_data"
    },
    {
     "data": {
      "text/html": [
       "<div>\n",
       "<style scoped>\n",
       "    .dataframe tbody tr th:only-of-type {\n",
       "        vertical-align: middle;\n",
       "    }\n",
       "\n",
       "    .dataframe tbody tr th {\n",
       "        vertical-align: top;\n",
       "    }\n",
       "\n",
       "    .dataframe thead th {\n",
       "        text-align: right;\n",
       "    }\n",
       "</style>\n",
       "<table border=\"1\" class=\"dataframe\">\n",
       "  <thead>\n",
       "    <tr style=\"text-align: right;\">\n",
       "      <th></th>\n",
       "      <th>Model</th>\n",
       "      <th>F1</th>\n",
       "      <th>AUC-ROC</th>\n",
       "    </tr>\n",
       "  </thead>\n",
       "  <tbody>\n",
       "    <tr>\n",
       "      <th>tree_upsampled</th>\n",
       "      <td>DecisionTreeClassifier(max_depth=6, random_sta...</td>\n",
       "      <td>0.58</td>\n",
       "      <td>0.82</td>\n",
       "    </tr>\n",
       "    <tr>\n",
       "      <th>forest_upsampled</th>\n",
       "      <td>(DecisionTreeClassifier(max_features='auto', r...</td>\n",
       "      <td>0.63</td>\n",
       "      <td>0.87</td>\n",
       "    </tr>\n",
       "    <tr>\n",
       "      <th>regression_upsampled</th>\n",
       "      <td>LogisticRegression(random_state=12345)</td>\n",
       "      <td>0.52</td>\n",
       "      <td>0.79</td>\n",
       "    </tr>\n",
       "  </tbody>\n",
       "</table>\n",
       "</div>"
      ],
      "text/plain": [
       "                                                                  Model    F1  \\\n",
       "tree_upsampled        DecisionTreeClassifier(max_depth=6, random_sta...  0.58   \n",
       "forest_upsampled      (DecisionTreeClassifier(max_features='auto', r...  0.63   \n",
       "regression_upsampled             LogisticRegression(random_state=12345)  0.52   \n",
       "\n",
       "                     AUC-ROC  \n",
       "tree_upsampled          0.82  \n",
       "forest_upsampled        0.87  \n",
       "regression_upsampled    0.79  "
      ]
     },
     "metadata": {},
     "output_type": "display_data"
    }
   ],
   "source": [
    "display(data_primary)\n",
    "display(data_best)\n",
    "display(data_weighing)\n",
    "display(data_upsampled)"
   ]
  },
  {
   "cell_type": "code",
   "execution_count": 82,
   "metadata": {},
   "outputs": [],
   "source": [
    "tree = data_best['Model'][0]\n",
    "forest = data_weighing['Model'][1]\n",
    "regression = data_weighing['Model'][2]"
   ]
  },
  {
   "cell_type": "markdown",
   "metadata": {},
   "source": []
  },
  {
   "cell_type": "markdown",
   "metadata": {},
   "source": [
    "### Порог классификации (PR-кривая)"
   ]
  },
  {
   "cell_type": "markdown",
   "metadata": {},
   "source": [
    "Изобразим на графике, как выглядят значения метрик **при изменении порога.**"
   ]
  },
  {
   "cell_type": "markdown",
   "metadata": {},
   "source": [
    "#### Модель решаюшего дерева"
   ]
  },
  {
   "cell_type": "code",
   "execution_count": 83,
   "metadata": {},
   "outputs": [],
   "source": [
    "def graph_rp(best_model):\n",
    "    best_model.fit(X_valid, y_valid)\n",
    "    \n",
    "    probabilities_valid = best_model.predict_proba(X_valid)\n",
    "    precision, recall, thresholds = precision_recall_curve(y_valid, probabilities_valid[:, 1])\n",
    "\n",
    "    plt.figure(figsize=(12, 10))\n",
    "    plt.step(recall, precision, where='post')\n",
    "    plt.xlabel('Recall')\n",
    "    plt.ylabel('Precision')\n",
    "    plt.ylim([0.0, 1.0])\n",
    "    plt.xlim([0.0, 1.0])\n",
    "    plt.title('Кривая Precision-Recall')\n",
    "    plt.show()"
   ]
  },
  {
   "cell_type": "code",
   "execution_count": 86,
   "metadata": {},
   "outputs": [
    {
     "data": {
      "image/png": "[encoded data removed]",
      "text/plain": [
       "<Figure size 864x720 with 1 Axes>"
      ]
     },
     "metadata": {
      "needs_background": "light"
     },
     "output_type": "display_data"
    }
   ],
   "source": [
    "graph_rp(tree)"
   ]
  },
  {
   "cell_type": "markdown",
   "metadata": {},
   "source": [
    "#### Модель случайного леса"
   ]
  },
  {
   "cell_type": "code",
   "execution_count": 87,
   "metadata": {},
   "outputs": [
    {
     "data": {
      "image/png": "[encoded data removed]",
      "text/plain": [
       "<Figure size 864x720 with 1 Axes>"
      ]
     },
     "metadata": {
      "needs_background": "light"
     },
     "output_type": "display_data"
    }
   ],
   "source": [
    "graph_rp(forest)"
   ]
  },
  {
   "cell_type": "markdown",
   "metadata": {},
   "source": [
    "#### Модель логичестической регрессии"
   ]
  },
  {
   "cell_type": "code",
   "execution_count": 88,
   "metadata": {},
   "outputs": [
    {
     "data": {
      "image/png": "[encoded data removed]",
      "text/plain": [
       "<Figure size 864x720 with 1 Axes>"
      ]
     },
     "metadata": {
      "needs_background": "light"
     },
     "output_type": "display_data"
    }
   ],
   "source": [
    "graph_rp(regression)"
   ]
  },
  {
   "cell_type": "markdown",
   "metadata": {},
   "source": [
    "### ROC-кривая"
   ]
  },
  {
   "cell_type": "markdown",
   "metadata": {},
   "source": [
    "#### Модель решаюшего дерева"
   ]
  },
  {
   "cell_type": "code",
   "execution_count": 95,
   "metadata": {},
   "outputs": [],
   "source": [
    "def graph_roc(best_model):\n",
    "    probabilities_valid = best_model.predict_proba(X_valid)\n",
    "    probabilities_one_valid = probabilities_valid[:, 1]\n",
    "\n",
    "    fpr, tpr, thresholds = roc_curve(y_valid, probabilities_one_valid) \n",
    "    \n",
    "    auc_roc_tree = round(roc_auc_score(y_valid, probabilities_one_valid), 2)\n",
    "\n",
    "    print(f'Площадь под ROC-кривой {auc_roc_tree}')\n",
    "\n",
    "    plt.figure(figsize=(12, 10))\n",
    "    plt.plot(fpr, tpr)\n",
    "    plt.plot([0, 1], [0, 1], linestyle='--')\n",
    "    plt.xlim([0.0, 1.0])\n",
    "    plt.ylim([0.0, 1.0])\n",
    "    plt.xlabel(\"False Positive Rate\")\n",
    "    plt.ylabel(\"True Positive Rate\")    \n",
    "    plt.title(\"ROC-кривая\")\n",
    "    plt.show()"
   ]
  },
  {
   "cell_type": "code",
   "execution_count": 96,
   "metadata": {},
   "outputs": [
    {
     "name": "stdout",
     "output_type": "stream",
     "text": [
      "Площадь под ROC-кривой 0.92\n"
     ]
    },
    {
     "data": {
      "image/png": "[encoded data removed]",
      "text/plain": [
       "<Figure size 864x720 with 1 Axes>"
      ]
     },
     "metadata": {
      "needs_background": "light"
     },
     "output_type": "display_data"
    }
   ],
   "source": [
    "graph_roc(tree)"
   ]
  },
  {
   "cell_type": "markdown",
   "metadata": {},
   "source": [
    "#### Модель случайного леса"
   ]
  },
  {
   "cell_type": "code",
   "execution_count": 98,
   "metadata": {},
   "outputs": [
    {
     "name": "stdout",
     "output_type": "stream",
     "text": [
      "Площадь под ROC-кривой 0.99\n"
     ]
    },
    {
     "data": {
      "image/png": "[encoded data removed]",
      "text/plain": [
       "<Figure size 864x720 with 1 Axes>"
      ]
     },
     "metadata": {
      "needs_background": "light"
     },
     "output_type": "display_data"
    }
   ],
   "source": [
    "graph_roc(forest)"
   ]
  },
  {
   "cell_type": "markdown",
   "metadata": {},
   "source": [
    "#### Модель логичестической регрессии"
   ]
  },
  {
   "cell_type": "code",
   "execution_count": 97,
   "metadata": {},
   "outputs": [
    {
     "name": "stdout",
     "output_type": "stream",
     "text": [
      "Площадь под ROC-кривой 0.8\n"
     ]
    },
    {
     "data": {
      "image/png": "[encoded data removed]",
      "text/plain": [
       "<Figure size 864x720 with 1 Axes>"
      ]
     },
     "metadata": {
      "needs_background": "light"
     },
     "output_type": "display_data"
    }
   ],
   "source": [
    "graph_roc(regression)"
   ]
  },
  {
   "cell_type": "markdown",
   "metadata": {},
   "source": [
    "Все модели получились лучше константной."
   ]
  },
  {
   "cell_type": "markdown",
   "metadata": {},
   "source": [
    "## Тестирование модели"
   ]
  },
  {
   "cell_type": "code",
   "execution_count": 103,
   "metadata": {},
   "outputs": [],
   "source": [
    "def test_model(model):\n",
    "    f1_test = f1_score(y_test, model.predict(X_test)).round(2)\n",
    "\n",
    "    print(\"F1-мера модели на тренировочной выборке:\", f1_test)\n",
    "    print(f'Площадь под ROC-кривой: {auc_score(model)}')     "
   ]
  },
  {
   "cell_type": "markdown",
   "metadata": {},
   "source": [
    "### Модель решаюшего дерева"
   ]
  },
  {
   "cell_type": "code",
   "execution_count": 104,
   "metadata": {},
   "outputs": [
    {
     "name": "stdout",
     "output_type": "stream",
     "text": [
      "F1-мера модели на тренировочной выборке: 0.53\n",
      "Площадь под ROC-кривой: 0.92\n"
     ]
    }
   ],
   "source": [
    "test_model(tree)"
   ]
  },
  {
   "cell_type": "markdown",
   "metadata": {},
   "source": [
    "### Модель случайного леса"
   ]
  },
  {
   "cell_type": "code",
   "execution_count": 105,
   "metadata": {},
   "outputs": [
    {
     "name": "stdout",
     "output_type": "stream",
     "text": [
      "F1-мера модели на тренировочной выборке: 0.57\n",
      "Площадь под ROC-кривой: 0.99\n"
     ]
    }
   ],
   "source": [
    "test_model(forest)"
   ]
  },
  {
   "cell_type": "markdown",
   "metadata": {},
   "source": [
    "### Модель логичестической регрессии"
   ]
  },
  {
   "cell_type": "code",
   "execution_count": 106,
   "metadata": {},
   "outputs": [
    {
     "name": "stdout",
     "output_type": "stream",
     "text": [
      "F1-мера модели на тренировочной выборке: 0.48\n",
      "Площадь под ROC-кривой: 0.8\n"
     ]
    }
   ],
   "source": [
    "test_model(regression)"
   ]
  },
  {
   "cell_type": "markdown",
   "metadata": {},
   "source": [
    "## Общий вывод"
   ]
  },
  {
   "cell_type": "markdown",
   "metadata": {},
   "source": [
    "Лучший результат получился в модели Случайный лес с параметрами max_depth=15, n_estimators=16 составил F1=0.57, AUC-ROC=0.99"
   ]
  },
  {
   "cell_type": "markdown",
   "metadata": {},
   "source": [
    "## Чек-лист готовности проекта"
   ]
  },
  {
   "cell_type": "markdown",
   "metadata": {},
   "source": [
    "Поставьте 'x' в выполненных пунктах. Далее нажмите Shift+Enter."
   ]
  },
  {
   "cell_type": "markdown",
   "metadata": {},
   "source": [
    "- [x]  Jupyter Notebook открыт\n",
    "- [x]  Весь код выполняется без ошибок\n",
    "- [x]  Ячейки с кодом расположены в порядке исполнения\n",
    "- [x]  Выполнен шаг 1: данные подготовлены\n",
    "- [x]  Выполнен шаг 2: задача исследована\n",
    "    - [x]  Исследован баланс классов\n",
    "    - [x]  Изучены модели без учёта дисбаланса\n",
    "    - [x]  Написаны выводы по результатам исследования\n",
    "- [x]  Выполнен шаг 3: учтён дисбаланс\n",
    "    - [x]  Применено несколько способов борьбы с дисбалансом\n",
    "    - [x]  Написаны выводы по результатам исследования\n",
    "- [x]  Выполнен шаг 4: проведено тестирование\n",
    "- [x]  Удалось достичь *F1*-меры не менее 0.59\n",
    "- [x]  Исследована метрика *AUC-ROC*"
   ]
  }
 ],
 "metadata": {
  "ExecuteTimeLog": [
   {
    "duration": 388,
    "start_time": "2022-06-23T11:02:22.094Z"
   },
   {
    "duration": 153,
    "start_time": "2022-06-23T11:02:22.485Z"
   },
   {
    "duration": 19,
    "start_time": "2022-06-23T11:02:29.906Z"
   },
   {
    "duration": 12,
    "start_time": "2022-06-23T11:03:02.866Z"
   },
   {
    "duration": 72,
    "start_time": "2022-06-23T11:03:31.649Z"
   },
   {
    "duration": 6,
    "start_time": "2022-06-23T11:03:38.706Z"
   },
   {
    "duration": 7,
    "start_time": "2022-06-23T11:04:45.522Z"
   },
   {
    "duration": 18,
    "start_time": "2022-06-23T11:05:37.194Z"
   },
   {
    "duration": 10,
    "start_time": "2022-06-23T11:08:25.310Z"
   },
   {
    "duration": 5,
    "start_time": "2022-06-23T11:08:30.521Z"
   },
   {
    "duration": 4,
    "start_time": "2022-06-23T11:08:37.997Z"
   },
   {
    "duration": 83,
    "start_time": "2022-06-23T11:09:47.758Z"
   },
   {
    "duration": 5,
    "start_time": "2022-06-23T11:09:53.007Z"
   },
   {
    "duration": 5,
    "start_time": "2022-06-23T11:09:57.393Z"
   },
   {
    "duration": 4,
    "start_time": "2022-06-23T11:10:02.702Z"
   },
   {
    "duration": 7,
    "start_time": "2022-06-23T11:12:12.099Z"
   },
   {
    "duration": 4,
    "start_time": "2022-06-23T11:12:45.347Z"
   },
   {
    "duration": 5,
    "start_time": "2022-06-23T11:12:54.231Z"
   },
   {
    "duration": 5,
    "start_time": "2022-06-23T11:13:04.767Z"
   },
   {
    "duration": 5,
    "start_time": "2022-06-23T11:13:52.470Z"
   },
   {
    "duration": 5,
    "start_time": "2022-06-23T11:13:59.447Z"
   },
   {
    "duration": 8,
    "start_time": "2022-06-23T11:14:35.433Z"
   },
   {
    "duration": 11,
    "start_time": "2022-06-23T11:14:45.394Z"
   },
   {
    "duration": 475,
    "start_time": "2022-06-23T11:15:01.728Z"
   },
   {
    "duration": 47,
    "start_time": "2022-06-23T11:15:02.205Z"
   },
   {
    "duration": 14,
    "start_time": "2022-06-23T11:15:02.254Z"
   },
   {
    "duration": 7,
    "start_time": "2022-06-23T11:15:02.270Z"
   },
   {
    "duration": 32,
    "start_time": "2022-06-23T11:15:02.279Z"
   },
   {
    "duration": 17,
    "start_time": "2022-06-23T11:15:02.313Z"
   },
   {
    "duration": 78,
    "start_time": "2022-06-23T11:15:02.332Z"
   },
   {
    "duration": 4,
    "start_time": "2022-06-23T11:15:13.286Z"
   },
   {
    "duration": 12,
    "start_time": "2022-06-23T11:15:23.385Z"
   },
   {
    "duration": 407,
    "start_time": "2022-06-23T11:15:28.880Z"
   },
   {
    "duration": 43,
    "start_time": "2022-06-23T11:15:29.290Z"
   },
   {
    "duration": 14,
    "start_time": "2022-06-23T11:15:29.335Z"
   },
   {
    "duration": 8,
    "start_time": "2022-06-23T11:15:29.351Z"
   },
   {
    "duration": 18,
    "start_time": "2022-06-23T11:15:29.362Z"
   },
   {
    "duration": 6,
    "start_time": "2022-06-23T11:15:29.382Z"
   },
   {
    "duration": 11,
    "start_time": "2022-06-23T11:15:29.390Z"
   },
   {
    "duration": 16,
    "start_time": "2022-06-23T11:15:36.578Z"
   },
   {
    "duration": 13,
    "start_time": "2022-06-23T11:15:51.407Z"
   },
   {
    "duration": 4,
    "start_time": "2022-06-23T11:17:43.887Z"
   },
   {
    "duration": 15,
    "start_time": "2022-06-23T11:17:45.811Z"
   },
   {
    "duration": 4,
    "start_time": "2022-06-23T11:18:10.630Z"
   },
   {
    "duration": 8,
    "start_time": "2022-06-23T11:18:56.391Z"
   },
   {
    "duration": 438,
    "start_time": "2022-06-23T11:19:41.263Z"
   },
   {
    "duration": 43,
    "start_time": "2022-06-23T11:19:41.703Z"
   },
   {
    "duration": 21,
    "start_time": "2022-06-23T11:19:41.748Z"
   },
   {
    "duration": 5,
    "start_time": "2022-06-23T11:19:41.773Z"
   },
   {
    "duration": 16,
    "start_time": "2022-06-23T11:19:41.780Z"
   },
   {
    "duration": 19,
    "start_time": "2022-06-23T11:19:41.799Z"
   },
   {
    "duration": 24,
    "start_time": "2022-06-23T11:19:41.820Z"
   },
   {
    "duration": 21,
    "start_time": "2022-06-23T11:19:41.846Z"
   },
   {
    "duration": 17,
    "start_time": "2022-06-23T11:19:41.869Z"
   },
   {
    "duration": 7,
    "start_time": "2022-06-23T12:07:43.809Z"
   },
   {
    "duration": 67,
    "start_time": "2022-06-23T12:11:37.162Z"
   },
   {
    "duration": 4,
    "start_time": "2022-06-23T12:12:37.828Z"
   },
   {
    "duration": 15,
    "start_time": "2022-06-23T12:12:39.659Z"
   },
   {
    "duration": 4,
    "start_time": "2022-06-23T12:12:57.525Z"
   },
   {
    "duration": 5,
    "start_time": "2022-06-23T12:15:23.652Z"
   },
   {
    "duration": 13,
    "start_time": "2022-06-23T12:15:24.262Z"
   },
   {
    "duration": 402,
    "start_time": "2022-06-23T12:21:21.179Z"
   },
   {
    "duration": 42,
    "start_time": "2022-06-23T12:21:21.584Z"
   },
   {
    "duration": 15,
    "start_time": "2022-06-23T12:21:21.628Z"
   },
   {
    "duration": 7,
    "start_time": "2022-06-23T12:21:21.645Z"
   },
   {
    "duration": 8,
    "start_time": "2022-06-23T12:21:21.654Z"
   },
   {
    "duration": 12,
    "start_time": "2022-06-23T12:21:21.664Z"
   },
   {
    "duration": 12,
    "start_time": "2022-06-23T12:21:21.679Z"
   },
   {
    "duration": 15,
    "start_time": "2022-06-23T12:21:21.693Z"
   },
   {
    "duration": 5,
    "start_time": "2022-06-23T12:21:21.711Z"
   },
   {
    "duration": 19,
    "start_time": "2022-06-23T12:21:21.743Z"
   },
   {
    "duration": 7,
    "start_time": "2022-06-23T12:21:21.764Z"
   },
   {
    "duration": 7,
    "start_time": "2022-06-23T12:21:21.774Z"
   },
   {
    "duration": 14,
    "start_time": "2022-06-23T12:21:35.787Z"
   },
   {
    "duration": 6,
    "start_time": "2022-06-23T12:21:49.737Z"
   },
   {
    "duration": 5,
    "start_time": "2022-06-23T12:22:20.793Z"
   },
   {
    "duration": 453,
    "start_time": "2022-06-23T12:22:25.656Z"
   },
   {
    "duration": 42,
    "start_time": "2022-06-23T12:22:26.111Z"
   },
   {
    "duration": 14,
    "start_time": "2022-06-23T12:22:26.155Z"
   },
   {
    "duration": 4,
    "start_time": "2022-06-23T12:22:26.171Z"
   },
   {
    "duration": 8,
    "start_time": "2022-06-23T12:22:26.177Z"
   },
   {
    "duration": 11,
    "start_time": "2022-06-23T12:22:26.187Z"
   },
   {
    "duration": 9,
    "start_time": "2022-06-23T12:22:26.200Z"
   },
   {
    "duration": 35,
    "start_time": "2022-06-23T12:22:26.211Z"
   },
   {
    "duration": 15,
    "start_time": "2022-06-23T12:22:26.248Z"
   },
   {
    "duration": 14,
    "start_time": "2022-06-23T12:22:26.266Z"
   },
   {
    "duration": 6,
    "start_time": "2022-06-23T12:22:26.281Z"
   },
   {
    "duration": 9,
    "start_time": "2022-06-23T12:22:26.289Z"
   },
   {
    "duration": 6,
    "start_time": "2022-06-23T12:22:52.355Z"
   },
   {
    "duration": 14,
    "start_time": "2022-06-23T12:22:53.202Z"
   },
   {
    "duration": 14,
    "start_time": "2022-06-23T12:23:12.862Z"
   },
   {
    "duration": 69,
    "start_time": "2022-06-23T12:23:51.297Z"
   },
   {
    "duration": 3,
    "start_time": "2022-06-23T12:24:13.585Z"
   },
   {
    "duration": 787,
    "start_time": "2022-06-23T12:24:25.411Z"
   },
   {
    "duration": 11,
    "start_time": "2022-06-23T12:24:34.819Z"
   },
   {
    "duration": 8,
    "start_time": "2022-06-23T12:24:36.467Z"
   },
   {
    "duration": 68,
    "start_time": "2022-06-23T12:25:06.846Z"
   },
   {
    "duration": 5,
    "start_time": "2022-06-23T12:25:48.415Z"
   },
   {
    "duration": 3,
    "start_time": "2022-06-23T12:29:47.128Z"
   },
   {
    "duration": 11,
    "start_time": "2022-06-23T12:30:16.290Z"
   },
   {
    "duration": 5,
    "start_time": "2022-06-23T12:30:31.831Z"
   },
   {
    "duration": 155,
    "start_time": "2022-06-23T12:32:40.087Z"
   },
   {
    "duration": 158,
    "start_time": "2022-06-23T12:33:09.987Z"
   },
   {
    "duration": 12,
    "start_time": "2022-06-23T12:36:00.433Z"
   },
   {
    "duration": 10,
    "start_time": "2022-06-23T12:36:58.535Z"
   },
   {
    "duration": 26,
    "start_time": "2022-06-23T12:39:47.039Z"
   },
   {
    "duration": 9,
    "start_time": "2022-06-23T12:39:59.026Z"
   },
   {
    "duration": 13,
    "start_time": "2022-06-23T12:40:06.686Z"
   },
   {
    "duration": 9,
    "start_time": "2022-06-23T12:40:40.718Z"
   },
   {
    "duration": 5,
    "start_time": "2022-06-23T12:40:50.958Z"
   },
   {
    "duration": 15,
    "start_time": "2022-06-23T12:40:53.061Z"
   },
   {
    "duration": 13,
    "start_time": "2022-06-23T12:40:57.889Z"
   },
   {
    "duration": 7,
    "start_time": "2022-06-23T12:42:02.716Z"
   },
   {
    "duration": 8,
    "start_time": "2022-06-23T12:42:16.166Z"
   },
   {
    "duration": 13,
    "start_time": "2022-06-23T12:43:56.991Z"
   },
   {
    "duration": 13,
    "start_time": "2022-06-23T12:44:17.708Z"
   },
   {
    "duration": 6,
    "start_time": "2022-06-23T12:44:26.906Z"
   },
   {
    "duration": 8,
    "start_time": "2022-06-23T12:44:47.781Z"
   },
   {
    "duration": 15,
    "start_time": "2022-06-23T12:45:44.455Z"
   },
   {
    "duration": 3,
    "start_time": "2022-06-23T12:45:49.718Z"
   },
   {
    "duration": 115,
    "start_time": "2022-06-23T12:46:04.357Z"
   },
   {
    "duration": 434,
    "start_time": "2022-06-23T12:46:49.956Z"
   },
   {
    "duration": 895,
    "start_time": "2022-06-23T12:46:50.393Z"
   },
   {
    "duration": 42,
    "start_time": "2022-06-23T12:46:51.290Z"
   },
   {
    "duration": 24,
    "start_time": "2022-06-23T12:46:51.334Z"
   },
   {
    "duration": 10,
    "start_time": "2022-06-23T12:46:51.362Z"
   },
   {
    "duration": 8,
    "start_time": "2022-06-23T12:46:51.375Z"
   },
   {
    "duration": 11,
    "start_time": "2022-06-23T12:46:51.385Z"
   },
   {
    "duration": 5,
    "start_time": "2022-06-23T12:46:51.397Z"
   },
   {
    "duration": 11,
    "start_time": "2022-06-23T12:46:51.404Z"
   },
   {
    "duration": 29,
    "start_time": "2022-06-23T12:46:51.417Z"
   },
   {
    "duration": 21,
    "start_time": "2022-06-23T12:46:51.447Z"
   },
   {
    "duration": 23,
    "start_time": "2022-06-23T12:46:51.471Z"
   },
   {
    "duration": 17,
    "start_time": "2022-06-23T12:46:51.495Z"
   },
   {
    "duration": 39,
    "start_time": "2022-06-23T12:46:51.517Z"
   },
   {
    "duration": 19,
    "start_time": "2022-06-23T12:46:51.558Z"
   },
   {
    "duration": 7,
    "start_time": "2022-06-23T12:46:51.579Z"
   },
   {
    "duration": 15,
    "start_time": "2022-06-23T12:46:51.588Z"
   },
   {
    "duration": 8,
    "start_time": "2022-06-23T12:46:51.605Z"
   },
   {
    "duration": 7,
    "start_time": "2022-06-23T12:46:51.614Z"
   },
   {
    "duration": 226,
    "start_time": "2022-06-23T12:46:51.623Z"
   },
   {
    "duration": 10,
    "start_time": "2022-06-23T12:46:51.852Z"
   },
   {
    "duration": 13,
    "start_time": "2022-06-23T12:47:04.677Z"
   },
   {
    "duration": 12,
    "start_time": "2022-06-23T12:47:26.376Z"
   },
   {
    "duration": 13,
    "start_time": "2022-06-23T12:47:27.119Z"
   },
   {
    "duration": 14,
    "start_time": "2022-06-23T12:47:55.718Z"
   },
   {
    "duration": 30,
    "start_time": "2022-06-23T12:48:36.665Z"
   },
   {
    "duration": 14,
    "start_time": "2022-06-23T12:49:47.395Z"
   },
   {
    "duration": 12,
    "start_time": "2022-06-23T12:49:55.913Z"
   },
   {
    "duration": 4,
    "start_time": "2022-06-23T12:51:44.892Z"
   },
   {
    "duration": 460,
    "start_time": "2022-06-23T12:52:20.216Z"
   },
   {
    "duration": 933,
    "start_time": "2022-06-23T12:52:20.678Z"
   },
   {
    "duration": 49,
    "start_time": "2022-06-23T12:52:21.613Z"
   },
   {
    "duration": 26,
    "start_time": "2022-06-23T12:52:21.663Z"
   },
   {
    "duration": 6,
    "start_time": "2022-06-23T12:52:21.692Z"
   },
   {
    "duration": 11,
    "start_time": "2022-06-23T12:52:21.700Z"
   },
   {
    "duration": 37,
    "start_time": "2022-06-23T12:52:21.713Z"
   },
   {
    "duration": 6,
    "start_time": "2022-06-23T12:52:21.757Z"
   },
   {
    "duration": 7,
    "start_time": "2022-06-23T12:52:21.765Z"
   },
   {
    "duration": 7,
    "start_time": "2022-06-23T12:52:21.773Z"
   },
   {
    "duration": 7,
    "start_time": "2022-06-23T12:52:21.782Z"
   },
   {
    "duration": 12,
    "start_time": "2022-06-23T12:52:21.790Z"
   },
   {
    "duration": 61,
    "start_time": "2022-06-23T12:52:21.804Z"
   },
   {
    "duration": 3,
    "start_time": "2022-06-23T12:52:21.868Z"
   },
   {
    "duration": 17,
    "start_time": "2022-06-23T12:52:21.873Z"
   },
   {
    "duration": 13,
    "start_time": "2022-06-23T12:52:21.891Z"
   },
   {
    "duration": 11,
    "start_time": "2022-06-23T12:52:21.905Z"
   },
   {
    "duration": 26,
    "start_time": "2022-06-23T12:52:21.918Z"
   },
   {
    "duration": 20,
    "start_time": "2022-06-23T12:52:21.949Z"
   },
   {
    "duration": 10,
    "start_time": "2022-06-23T12:52:21.971Z"
   },
   {
    "duration": 3,
    "start_time": "2022-06-23T12:52:21.984Z"
   },
   {
    "duration": 245,
    "start_time": "2022-06-23T12:52:21.989Z"
   },
   {
    "duration": 14,
    "start_time": "2022-06-23T12:52:22.237Z"
   },
   {
    "duration": 434,
    "start_time": "2022-06-23T12:52:58.122Z"
   },
   {
    "duration": 781,
    "start_time": "2022-06-23T12:52:58.558Z"
   },
   {
    "duration": 44,
    "start_time": "2022-06-23T12:52:59.341Z"
   },
   {
    "duration": 16,
    "start_time": "2022-06-23T12:52:59.387Z"
   },
   {
    "duration": 9,
    "start_time": "2022-06-23T12:52:59.405Z"
   },
   {
    "duration": 9,
    "start_time": "2022-06-23T12:52:59.416Z"
   },
   {
    "duration": 25,
    "start_time": "2022-06-23T12:52:59.427Z"
   },
   {
    "duration": 12,
    "start_time": "2022-06-23T12:52:59.457Z"
   },
   {
    "duration": 8,
    "start_time": "2022-06-23T12:52:59.471Z"
   },
   {
    "duration": 14,
    "start_time": "2022-06-23T12:52:59.481Z"
   },
   {
    "duration": 9,
    "start_time": "2022-06-23T12:52:59.497Z"
   },
   {
    "duration": 13,
    "start_time": "2022-06-23T12:52:59.508Z"
   },
   {
    "duration": 42,
    "start_time": "2022-06-23T12:52:59.523Z"
   },
   {
    "duration": 4,
    "start_time": "2022-06-23T12:52:59.569Z"
   },
   {
    "duration": 26,
    "start_time": "2022-06-23T12:52:59.575Z"
   },
   {
    "duration": 19,
    "start_time": "2022-06-23T12:52:59.603Z"
   },
   {
    "duration": 37,
    "start_time": "2022-06-23T12:52:59.623Z"
   },
   {
    "duration": 6,
    "start_time": "2022-06-23T12:52:59.662Z"
   },
   {
    "duration": 13,
    "start_time": "2022-06-23T12:52:59.669Z"
   },
   {
    "duration": 7,
    "start_time": "2022-06-23T12:52:59.684Z"
   },
   {
    "duration": 6,
    "start_time": "2022-06-23T12:52:59.692Z"
   },
   {
    "duration": 222,
    "start_time": "2022-06-23T12:52:59.699Z"
   },
   {
    "duration": 7,
    "start_time": "2022-06-23T12:52:59.922Z"
   },
   {
    "duration": 433,
    "start_time": "2022-06-23T12:53:31.418Z"
   },
   {
    "duration": 955,
    "start_time": "2022-06-23T12:53:31.858Z"
   },
   {
    "duration": 55,
    "start_time": "2022-06-23T12:53:32.815Z"
   },
   {
    "duration": 21,
    "start_time": "2022-06-23T12:53:32.873Z"
   },
   {
    "duration": 5,
    "start_time": "2022-06-23T12:53:32.896Z"
   },
   {
    "duration": 16,
    "start_time": "2022-06-23T12:53:32.903Z"
   },
   {
    "duration": 34,
    "start_time": "2022-06-23T12:53:32.922Z"
   },
   {
    "duration": 15,
    "start_time": "2022-06-23T12:53:32.959Z"
   },
   {
    "duration": 10,
    "start_time": "2022-06-23T12:53:32.977Z"
   },
   {
    "duration": 13,
    "start_time": "2022-06-23T12:53:32.990Z"
   },
   {
    "duration": 7,
    "start_time": "2022-06-23T12:53:33.005Z"
   },
   {
    "duration": 13,
    "start_time": "2022-06-23T12:53:33.014Z"
   },
   {
    "duration": 44,
    "start_time": "2022-06-23T12:53:33.030Z"
   },
   {
    "duration": 4,
    "start_time": "2022-06-23T12:53:33.076Z"
   },
   {
    "duration": 18,
    "start_time": "2022-06-23T12:53:33.083Z"
   },
   {
    "duration": 14,
    "start_time": "2022-06-23T12:53:33.103Z"
   },
   {
    "duration": 10,
    "start_time": "2022-06-23T12:53:33.144Z"
   },
   {
    "duration": 17,
    "start_time": "2022-06-23T12:53:33.155Z"
   },
   {
    "duration": 11,
    "start_time": "2022-06-23T12:53:33.174Z"
   },
   {
    "duration": 7,
    "start_time": "2022-06-23T12:53:33.187Z"
   },
   {
    "duration": 5,
    "start_time": "2022-06-23T12:53:33.196Z"
   },
   {
    "duration": 330,
    "start_time": "2022-06-23T12:53:33.203Z"
   },
   {
    "duration": 6,
    "start_time": "2022-06-23T12:53:33.535Z"
   },
   {
    "duration": 21,
    "start_time": "2022-06-23T12:55:17.095Z"
   },
   {
    "duration": 1499,
    "start_time": "2022-06-23T12:59:02.741Z"
   },
   {
    "duration": 2,
    "start_time": "2022-06-23T12:59:21.849Z"
   },
   {
    "duration": 447,
    "start_time": "2022-06-23T12:59:37.471Z"
   },
   {
    "duration": 818,
    "start_time": "2022-06-23T12:59:37.920Z"
   },
   {
    "duration": 79,
    "start_time": "2022-06-23T12:59:38.740Z"
   },
   {
    "duration": 17,
    "start_time": "2022-06-23T12:59:38.821Z"
   },
   {
    "duration": 5,
    "start_time": "2022-06-23T12:59:38.841Z"
   },
   {
    "duration": 13,
    "start_time": "2022-06-23T12:59:38.847Z"
   },
   {
    "duration": 18,
    "start_time": "2022-06-23T12:59:38.862Z"
   },
   {
    "duration": 6,
    "start_time": "2022-06-23T12:59:38.882Z"
   },
   {
    "duration": 7,
    "start_time": "2022-06-23T12:59:38.891Z"
   },
   {
    "duration": 9,
    "start_time": "2022-06-23T12:59:38.900Z"
   },
   {
    "duration": 31,
    "start_time": "2022-06-23T12:59:38.911Z"
   },
   {
    "duration": 16,
    "start_time": "2022-06-23T12:59:38.944Z"
   },
   {
    "duration": 25,
    "start_time": "2022-06-23T12:59:38.962Z"
   },
   {
    "duration": 4,
    "start_time": "2022-06-23T12:59:38.990Z"
   },
   {
    "duration": 21,
    "start_time": "2022-06-23T12:59:38.996Z"
   },
   {
    "duration": 18,
    "start_time": "2022-06-23T12:59:39.042Z"
   },
   {
    "duration": 8,
    "start_time": "2022-06-23T12:59:39.062Z"
   },
   {
    "duration": 7,
    "start_time": "2022-06-23T12:59:39.073Z"
   },
   {
    "duration": 12,
    "start_time": "2022-06-23T12:59:39.082Z"
   },
   {
    "duration": 8,
    "start_time": "2022-06-23T12:59:39.096Z"
   },
   {
    "duration": 39,
    "start_time": "2022-06-23T12:59:39.105Z"
   },
   {
    "duration": 274,
    "start_time": "2022-06-23T12:59:39.146Z"
   },
   {
    "duration": 23,
    "start_time": "2022-06-23T12:59:39.422Z"
   },
   {
    "duration": 7,
    "start_time": "2022-06-23T13:01:10.014Z"
   },
   {
    "duration": 126,
    "start_time": "2022-06-23T13:22:44.023Z"
   },
   {
    "duration": 116,
    "start_time": "2022-06-23T13:26:57.367Z"
   },
   {
    "duration": 176,
    "start_time": "2022-06-23T13:27:06.873Z"
   },
   {
    "duration": 178,
    "start_time": "2022-06-24T06:40:03.673Z"
   },
   {
    "duration": 457,
    "start_time": "2022-06-24T06:40:08.013Z"
   },
   {
    "duration": 874,
    "start_time": "2022-06-24T06:40:08.472Z"
   },
   {
    "duration": 164,
    "start_time": "2022-06-24T06:40:09.348Z"
   },
   {
    "duration": 16,
    "start_time": "2022-06-24T06:40:09.514Z"
   },
   {
    "duration": 5,
    "start_time": "2022-06-24T06:40:09.531Z"
   },
   {
    "duration": 8,
    "start_time": "2022-06-24T06:40:09.537Z"
   },
   {
    "duration": 11,
    "start_time": "2022-06-24T06:40:09.547Z"
   },
   {
    "duration": 4,
    "start_time": "2022-06-24T06:40:09.560Z"
   },
   {
    "duration": 8,
    "start_time": "2022-06-24T06:40:09.565Z"
   },
   {
    "duration": 11,
    "start_time": "2022-06-24T06:40:09.576Z"
   },
   {
    "duration": 7,
    "start_time": "2022-06-24T06:40:09.589Z"
   },
   {
    "duration": 17,
    "start_time": "2022-06-24T06:40:09.598Z"
   },
   {
    "duration": 46,
    "start_time": "2022-06-24T06:40:09.616Z"
   },
   {
    "duration": 3,
    "start_time": "2022-06-24T06:40:09.664Z"
   },
   {
    "duration": 17,
    "start_time": "2022-06-24T06:40:09.669Z"
   },
   {
    "duration": 17,
    "start_time": "2022-06-24T06:40:09.688Z"
   },
   {
    "duration": 9,
    "start_time": "2022-06-24T06:40:09.707Z"
   },
   {
    "duration": 27,
    "start_time": "2022-06-24T06:40:09.718Z"
   },
   {
    "duration": 20,
    "start_time": "2022-06-24T06:40:09.747Z"
   },
   {
    "duration": 10,
    "start_time": "2022-06-24T06:40:09.769Z"
   },
   {
    "duration": 6,
    "start_time": "2022-06-24T06:40:09.781Z"
   },
   {
    "duration": 431,
    "start_time": "2022-06-24T06:40:09.789Z"
   },
   {
    "duration": 412,
    "start_time": "2022-06-24T06:40:10.221Z"
   },
   {
    "duration": 23,
    "start_time": "2022-06-24T06:40:10.634Z"
   },
   {
    "duration": 31,
    "start_time": "2022-06-24T06:43:33.418Z"
   },
   {
    "duration": 28,
    "start_time": "2022-06-24T06:43:45.520Z"
   },
   {
    "duration": 22,
    "start_time": "2022-06-24T06:44:18.007Z"
   },
   {
    "duration": 109,
    "start_time": "2022-06-24T06:47:25.734Z"
   },
   {
    "duration": 99,
    "start_time": "2022-06-24T06:50:10.745Z"
   },
   {
    "duration": 118,
    "start_time": "2022-06-24T06:50:32.526Z"
   },
   {
    "duration": 41,
    "start_time": "2022-06-24T06:51:16.303Z"
   },
   {
    "duration": 24,
    "start_time": "2022-06-24T06:51:34.456Z"
   },
   {
    "duration": 23,
    "start_time": "2022-06-24T06:52:45.772Z"
   },
   {
    "duration": 131,
    "start_time": "2022-06-24T06:54:12.904Z"
   },
   {
    "duration": 52,
    "start_time": "2022-06-24T06:54:35.444Z"
   },
   {
    "duration": 21,
    "start_time": "2022-06-24T06:55:10.153Z"
   },
   {
    "duration": 22,
    "start_time": "2022-06-24T06:55:18.658Z"
   },
   {
    "duration": 36,
    "start_time": "2022-06-24T06:55:26.620Z"
   },
   {
    "duration": 51,
    "start_time": "2022-06-24T06:56:02.129Z"
   },
   {
    "duration": 52,
    "start_time": "2022-06-24T06:56:05.574Z"
   },
   {
    "duration": 53,
    "start_time": "2022-06-24T06:57:11.771Z"
   },
   {
    "duration": 451,
    "start_time": "2022-06-24T06:57:22.815Z"
   },
   {
    "duration": 759,
    "start_time": "2022-06-24T06:57:23.268Z"
   },
   {
    "duration": 41,
    "start_time": "2022-06-24T06:57:24.029Z"
   },
   {
    "duration": 16,
    "start_time": "2022-06-24T06:57:24.072Z"
   },
   {
    "duration": 6,
    "start_time": "2022-06-24T06:57:24.090Z"
   },
   {
    "duration": 7,
    "start_time": "2022-06-24T06:57:24.097Z"
   },
   {
    "duration": 15,
    "start_time": "2022-06-24T06:57:24.105Z"
   },
   {
    "duration": 10,
    "start_time": "2022-06-24T06:57:24.122Z"
   },
   {
    "duration": 16,
    "start_time": "2022-06-24T06:57:24.133Z"
   },
   {
    "duration": 6,
    "start_time": "2022-06-24T06:57:24.152Z"
   },
   {
    "duration": 6,
    "start_time": "2022-06-24T06:57:24.160Z"
   },
   {
    "duration": 13,
    "start_time": "2022-06-24T06:57:24.168Z"
   },
   {
    "duration": 26,
    "start_time": "2022-06-24T06:57:24.183Z"
   },
   {
    "duration": 3,
    "start_time": "2022-06-24T06:57:24.211Z"
   },
   {
    "duration": 43,
    "start_time": "2022-06-24T06:57:24.216Z"
   },
   {
    "duration": 13,
    "start_time": "2022-06-24T06:57:24.260Z"
   },
   {
    "duration": 15,
    "start_time": "2022-06-24T06:57:24.274Z"
   },
   {
    "duration": 15,
    "start_time": "2022-06-24T06:57:24.291Z"
   },
   {
    "duration": 16,
    "start_time": "2022-06-24T06:57:24.308Z"
   },
   {
    "duration": 7,
    "start_time": "2022-06-24T06:57:24.325Z"
   },
   {
    "duration": 10,
    "start_time": "2022-06-24T06:57:24.334Z"
   },
   {
    "duration": 230,
    "start_time": "2022-06-24T06:57:24.345Z"
   },
   {
    "duration": 397,
    "start_time": "2022-06-24T06:57:24.577Z"
   },
   {
    "duration": 168,
    "start_time": "2022-06-24T06:57:24.976Z"
   },
   {
    "duration": 23,
    "start_time": "2022-06-24T06:58:00.888Z"
   },
   {
    "duration": 55,
    "start_time": "2022-06-24T06:58:23.507Z"
   },
   {
    "duration": 52,
    "start_time": "2022-06-24T06:58:47.634Z"
   },
   {
    "duration": 933,
    "start_time": "2022-06-24T06:59:40.438Z"
   },
   {
    "duration": 189,
    "start_time": "2022-06-24T07:00:40.764Z"
   },
   {
    "duration": 26,
    "start_time": "2022-06-24T07:00:45.713Z"
   },
   {
    "duration": 52,
    "start_time": "2022-06-24T07:04:44.766Z"
   },
   {
    "duration": 4,
    "start_time": "2022-06-24T07:09:37.769Z"
   },
   {
    "duration": 4,
    "start_time": "2022-06-24T07:12:48.343Z"
   },
   {
    "duration": 44,
    "start_time": "2022-06-24T07:32:16.899Z"
   },
   {
    "duration": 51,
    "start_time": "2022-06-24T07:32:24.118Z"
   },
   {
    "duration": 58,
    "start_time": "2022-06-24T07:32:29.125Z"
   },
   {
    "duration": 1404,
    "start_time": "2022-06-24T07:34:06.289Z"
   },
   {
    "duration": 1218,
    "start_time": "2022-06-24T07:35:35.446Z"
   },
   {
    "duration": 2120,
    "start_time": "2022-06-24T07:35:47.583Z"
   },
   {
    "duration": 2186,
    "start_time": "2022-06-24T07:35:56.021Z"
   },
   {
    "duration": 2160,
    "start_time": "2022-06-24T07:36:09.322Z"
   },
   {
    "duration": 2317,
    "start_time": "2022-06-24T07:36:22.190Z"
   },
   {
    "duration": 2119,
    "start_time": "2022-06-24T07:36:34.077Z"
   },
   {
    "duration": 100,
    "start_time": "2022-06-24T07:39:49.744Z"
   },
   {
    "duration": 116,
    "start_time": "2022-06-24T07:49:49.131Z"
   },
   {
    "duration": 52,
    "start_time": "2022-06-24T07:49:49.249Z"
   },
   {
    "duration": 487,
    "start_time": "2022-06-24T07:49:51.430Z"
   },
   {
    "duration": 825,
    "start_time": "2022-06-24T07:49:51.919Z"
   },
   {
    "duration": 43,
    "start_time": "2022-06-24T07:49:52.746Z"
   },
   {
    "duration": 17,
    "start_time": "2022-06-24T07:49:52.791Z"
   },
   {
    "duration": 5,
    "start_time": "2022-06-24T07:49:52.810Z"
   },
   {
    "duration": 7,
    "start_time": "2022-06-24T07:49:52.817Z"
   },
   {
    "duration": 23,
    "start_time": "2022-06-24T07:49:52.826Z"
   },
   {
    "duration": 4,
    "start_time": "2022-06-24T07:49:52.851Z"
   },
   {
    "duration": 7,
    "start_time": "2022-06-24T07:49:52.857Z"
   },
   {
    "duration": 7,
    "start_time": "2022-06-24T07:49:52.867Z"
   },
   {
    "duration": 7,
    "start_time": "2022-06-24T07:49:52.876Z"
   },
   {
    "duration": 13,
    "start_time": "2022-06-24T07:49:52.885Z"
   },
   {
    "duration": 59,
    "start_time": "2022-06-24T07:49:52.900Z"
   },
   {
    "duration": 3,
    "start_time": "2022-06-24T07:49:52.961Z"
   },
   {
    "duration": 16,
    "start_time": "2022-06-24T07:49:52.965Z"
   },
   {
    "duration": 13,
    "start_time": "2022-06-24T07:49:52.982Z"
   },
   {
    "duration": 7,
    "start_time": "2022-06-24T07:49:52.997Z"
   },
   {
    "duration": 39,
    "start_time": "2022-06-24T07:49:53.006Z"
   },
   {
    "duration": 8,
    "start_time": "2022-06-24T07:49:53.047Z"
   },
   {
    "duration": 6,
    "start_time": "2022-06-24T07:49:53.057Z"
   },
   {
    "duration": 4,
    "start_time": "2022-06-24T07:49:53.065Z"
   },
   {
    "duration": 83,
    "start_time": "2022-06-24T07:49:53.071Z"
   },
   {
    "duration": 964,
    "start_time": "2022-06-24T07:49:53.156Z"
   },
   {
    "duration": 36,
    "start_time": "2022-06-24T07:49:54.121Z"
   },
   {
    "duration": 83,
    "start_time": "2022-06-24T07:49:54.159Z"
   },
   {
    "duration": 2213,
    "start_time": "2022-06-24T07:49:54.244Z"
   },
   {
    "duration": 168,
    "start_time": "2022-06-24T07:49:56.459Z"
   },
   {
    "duration": 0,
    "start_time": "2022-06-24T07:49:56.630Z"
   },
   {
    "duration": 696,
    "start_time": "2022-06-24T07:50:29.572Z"
   },
   {
    "duration": 31616,
    "start_time": "2022-06-24T07:50:42.072Z"
   },
   {
    "duration": 42606,
    "start_time": "2022-06-24T07:52:02.343Z"
   },
   {
    "duration": 1056,
    "start_time": "2022-06-24T07:52:50.673Z"
   },
   {
    "duration": 1111,
    "start_time": "2022-06-24T07:53:25.965Z"
   },
   {
    "duration": 442,
    "start_time": "2022-06-24T07:55:10.638Z"
   },
   {
    "duration": 754,
    "start_time": "2022-06-24T07:55:11.082Z"
   },
   {
    "duration": 40,
    "start_time": "2022-06-24T07:55:11.838Z"
   },
   {
    "duration": 17,
    "start_time": "2022-06-24T07:55:11.881Z"
   },
   {
    "duration": 5,
    "start_time": "2022-06-24T07:55:11.900Z"
   },
   {
    "duration": 12,
    "start_time": "2022-06-24T07:55:11.907Z"
   },
   {
    "duration": 24,
    "start_time": "2022-06-24T07:55:11.921Z"
   },
   {
    "duration": 5,
    "start_time": "2022-06-24T07:55:11.947Z"
   },
   {
    "duration": 11,
    "start_time": "2022-06-24T07:55:11.955Z"
   },
   {
    "duration": 6,
    "start_time": "2022-06-24T07:55:11.970Z"
   },
   {
    "duration": 7,
    "start_time": "2022-06-24T07:55:11.978Z"
   },
   {
    "duration": 20,
    "start_time": "2022-06-24T07:55:11.987Z"
   },
   {
    "duration": 59,
    "start_time": "2022-06-24T07:55:12.009Z"
   },
   {
    "duration": 4,
    "start_time": "2022-06-24T07:55:12.070Z"
   },
   {
    "duration": 18,
    "start_time": "2022-06-24T07:55:12.075Z"
   },
   {
    "duration": 13,
    "start_time": "2022-06-24T07:55:12.095Z"
   },
   {
    "duration": 15,
    "start_time": "2022-06-24T07:55:12.148Z"
   },
   {
    "duration": 11,
    "start_time": "2022-06-24T07:55:12.166Z"
   },
   {
    "duration": 14,
    "start_time": "2022-06-24T07:55:12.179Z"
   },
   {
    "duration": 11,
    "start_time": "2022-06-24T07:55:12.195Z"
   },
   {
    "duration": 5,
    "start_time": "2022-06-24T07:55:12.208Z"
   },
   {
    "duration": 90,
    "start_time": "2022-06-24T07:55:12.215Z"
   },
   {
    "duration": 1007,
    "start_time": "2022-06-24T07:55:12.308Z"
   },
   {
    "duration": 124,
    "start_time": "2022-06-24T07:55:13.317Z"
   },
   {
    "duration": 6,
    "start_time": "2022-06-24T07:55:13.444Z"
   },
   {
    "duration": 2236,
    "start_time": "2022-06-24T07:55:13.452Z"
   },
   {
    "duration": 215,
    "start_time": "2022-06-24T07:55:15.689Z"
   },
   {
    "duration": 3,
    "start_time": "2022-06-24T07:55:15.908Z"
   },
   {
    "duration": 421,
    "start_time": "2022-06-24T07:55:41.483Z"
   },
   {
    "duration": 822,
    "start_time": "2022-06-24T07:55:41.906Z"
   },
   {
    "duration": 40,
    "start_time": "2022-06-24T07:55:42.730Z"
   },
   {
    "duration": 16,
    "start_time": "2022-06-24T07:55:42.772Z"
   },
   {
    "duration": 4,
    "start_time": "2022-06-24T07:55:42.791Z"
   },
   {
    "duration": 11,
    "start_time": "2022-06-24T07:55:42.797Z"
   },
   {
    "duration": 16,
    "start_time": "2022-06-24T07:55:42.810Z"
   },
   {
    "duration": 13,
    "start_time": "2022-06-24T07:55:42.828Z"
   },
   {
    "duration": 5,
    "start_time": "2022-06-24T07:55:42.844Z"
   },
   {
    "duration": 15,
    "start_time": "2022-06-24T07:55:42.851Z"
   },
   {
    "duration": 9,
    "start_time": "2022-06-24T07:55:42.867Z"
   },
   {
    "duration": 18,
    "start_time": "2022-06-24T07:55:42.878Z"
   },
   {
    "duration": 45,
    "start_time": "2022-06-24T07:55:42.898Z"
   },
   {
    "duration": 3,
    "start_time": "2022-06-24T07:55:42.946Z"
   },
   {
    "duration": 16,
    "start_time": "2022-06-24T07:55:42.951Z"
   },
   {
    "duration": 14,
    "start_time": "2022-06-24T07:55:42.968Z"
   },
   {
    "duration": 8,
    "start_time": "2022-06-24T07:55:42.983Z"
   },
   {
    "duration": 8,
    "start_time": "2022-06-24T07:55:42.992Z"
   },
   {
    "duration": 42,
    "start_time": "2022-06-24T07:55:43.002Z"
   },
   {
    "duration": 6,
    "start_time": "2022-06-24T07:55:43.046Z"
   },
   {
    "duration": 5,
    "start_time": "2022-06-24T07:55:43.054Z"
   },
   {
    "duration": 58,
    "start_time": "2022-06-24T07:55:43.060Z"
   },
   {
    "duration": 950,
    "start_time": "2022-06-24T07:55:43.141Z"
   },
   {
    "duration": 149,
    "start_time": "2022-06-24T07:55:44.092Z"
   },
   {
    "duration": 4,
    "start_time": "2022-06-24T07:55:44.243Z"
   },
   {
    "duration": 2146,
    "start_time": "2022-06-24T07:55:44.249Z"
   },
   {
    "duration": 1153,
    "start_time": "2022-06-24T07:55:46.397Z"
   },
   {
    "duration": 5,
    "start_time": "2022-06-24T07:55:47.552Z"
   },
   {
    "duration": 1056,
    "start_time": "2022-06-24T07:57:20.114Z"
   },
   {
    "duration": 48,
    "start_time": "2022-06-24T07:59:18.894Z"
   },
   {
    "duration": 4431,
    "start_time": "2022-06-24T07:59:36.768Z"
   },
   {
    "duration": 944,
    "start_time": "2022-06-24T08:00:42.666Z"
   },
   {
    "duration": 936,
    "start_time": "2022-06-24T08:00:51.303Z"
   },
   {
    "duration": 394,
    "start_time": "2022-06-24T08:01:13.678Z"
   },
   {
    "duration": 844,
    "start_time": "2022-06-24T08:01:14.074Z"
   },
   {
    "duration": 41,
    "start_time": "2022-06-24T08:01:14.920Z"
   },
   {
    "duration": 17,
    "start_time": "2022-06-24T08:01:14.964Z"
   },
   {
    "duration": 6,
    "start_time": "2022-06-24T08:01:14.983Z"
   },
   {
    "duration": 6,
    "start_time": "2022-06-24T08:01:14.991Z"
   },
   {
    "duration": 14,
    "start_time": "2022-06-24T08:01:15.000Z"
   },
   {
    "duration": 5,
    "start_time": "2022-06-24T08:01:15.042Z"
   },
   {
    "duration": 14,
    "start_time": "2022-06-24T08:01:15.051Z"
   },
   {
    "duration": 17,
    "start_time": "2022-06-24T08:01:15.068Z"
   },
   {
    "duration": 19,
    "start_time": "2022-06-24T08:01:15.087Z"
   },
   {
    "duration": 34,
    "start_time": "2022-06-24T08:01:15.108Z"
   },
   {
    "duration": 32,
    "start_time": "2022-06-24T08:01:15.146Z"
   },
   {
    "duration": 6,
    "start_time": "2022-06-24T08:01:15.180Z"
   },
   {
    "duration": 18,
    "start_time": "2022-06-24T08:01:15.188Z"
   },
   {
    "duration": 36,
    "start_time": "2022-06-24T08:01:15.207Z"
   },
   {
    "duration": 16,
    "start_time": "2022-06-24T08:01:15.246Z"
   },
   {
    "duration": 35,
    "start_time": "2022-06-24T08:01:15.264Z"
   },
   {
    "duration": 18,
    "start_time": "2022-06-24T08:01:15.302Z"
   },
   {
    "duration": 11,
    "start_time": "2022-06-24T08:01:15.322Z"
   },
   {
    "duration": 10,
    "start_time": "2022-06-24T08:01:15.334Z"
   },
   {
    "duration": 75,
    "start_time": "2022-06-24T08:01:15.349Z"
   },
   {
    "duration": 959,
    "start_time": "2022-06-24T08:01:15.427Z"
   },
   {
    "duration": 63,
    "start_time": "2022-06-24T08:01:16.388Z"
   },
   {
    "duration": 91,
    "start_time": "2022-06-24T08:01:16.453Z"
   },
   {
    "duration": 3296,
    "start_time": "2022-06-24T08:01:16.546Z"
   },
   {
    "duration": 4360,
    "start_time": "2022-06-24T08:01:19.844Z"
   },
   {
    "duration": 4,
    "start_time": "2022-06-24T08:01:24.207Z"
   },
   {
    "duration": 971,
    "start_time": "2022-06-24T08:01:31.292Z"
   },
   {
    "duration": 3,
    "start_time": "2022-06-24T08:02:19.617Z"
   },
   {
    "duration": 1076,
    "start_time": "2022-06-24T08:02:55.201Z"
   },
   {
    "duration": 140,
    "start_time": "2022-06-24T08:05:30.810Z"
   },
   {
    "duration": 5,
    "start_time": "2022-06-24T08:33:20.438Z"
   },
   {
    "duration": 5,
    "start_time": "2022-06-24T08:33:34.137Z"
   },
   {
    "duration": 4,
    "start_time": "2022-06-24T08:33:45.970Z"
   },
   {
    "duration": 4,
    "start_time": "2022-06-24T08:34:29.918Z"
   },
   {
    "duration": 4,
    "start_time": "2022-06-24T08:34:43.100Z"
   },
   {
    "duration": 3,
    "start_time": "2022-06-24T08:34:54.736Z"
   },
   {
    "duration": 49,
    "start_time": "2022-06-24T08:39:06.775Z"
   },
   {
    "duration": 36,
    "start_time": "2022-06-24T08:39:23.594Z"
   },
   {
    "duration": 36,
    "start_time": "2022-06-24T08:39:51.189Z"
   },
   {
    "duration": 36,
    "start_time": "2022-06-24T08:39:55.002Z"
   },
   {
    "duration": 2090,
    "start_time": "2022-06-24T08:40:40.673Z"
   },
   {
    "duration": 2142,
    "start_time": "2022-06-24T08:41:01.742Z"
   },
   {
    "duration": 2160,
    "start_time": "2022-06-24T08:41:06.348Z"
   },
   {
    "duration": 1097,
    "start_time": "2022-06-24T08:41:48.772Z"
   },
   {
    "duration": 194,
    "start_time": "2022-06-24T08:42:43.551Z"
   },
   {
    "duration": 4,
    "start_time": "2022-06-24T08:43:47.821Z"
   },
   {
    "duration": 435,
    "start_time": "2022-06-24T08:45:28.441Z"
   },
   {
    "duration": 741,
    "start_time": "2022-06-24T08:45:28.878Z"
   },
   {
    "duration": 39,
    "start_time": "2022-06-24T08:45:29.621Z"
   },
   {
    "duration": 16,
    "start_time": "2022-06-24T08:45:29.662Z"
   },
   {
    "duration": 3,
    "start_time": "2022-06-24T08:45:29.680Z"
   },
   {
    "duration": 12,
    "start_time": "2022-06-24T08:45:29.685Z"
   },
   {
    "duration": 12,
    "start_time": "2022-06-24T08:45:29.698Z"
   },
   {
    "duration": 6,
    "start_time": "2022-06-24T08:45:29.712Z"
   },
   {
    "duration": 25,
    "start_time": "2022-06-24T08:45:29.720Z"
   },
   {
    "duration": 6,
    "start_time": "2022-06-24T08:45:29.748Z"
   },
   {
    "duration": 8,
    "start_time": "2022-06-24T08:45:29.756Z"
   },
   {
    "duration": 15,
    "start_time": "2022-06-24T08:45:29.765Z"
   },
   {
    "duration": 23,
    "start_time": "2022-06-24T08:45:29.782Z"
   },
   {
    "duration": 4,
    "start_time": "2022-06-24T08:45:29.806Z"
   },
   {
    "duration": 39,
    "start_time": "2022-06-24T08:45:29.812Z"
   },
   {
    "duration": 12,
    "start_time": "2022-06-24T08:45:29.853Z"
   },
   {
    "duration": 8,
    "start_time": "2022-06-24T08:45:29.866Z"
   },
   {
    "duration": 7,
    "start_time": "2022-06-24T08:45:29.876Z"
   },
   {
    "duration": 10,
    "start_time": "2022-06-24T08:45:29.884Z"
   },
   {
    "duration": 6,
    "start_time": "2022-06-24T08:45:29.895Z"
   },
   {
    "duration": 4,
    "start_time": "2022-06-24T08:45:29.903Z"
   },
   {
    "duration": 59,
    "start_time": "2022-06-24T08:45:29.943Z"
   },
   {
    "duration": 954,
    "start_time": "2022-06-24T08:45:30.003Z"
   },
   {
    "duration": 286,
    "start_time": "2022-06-24T08:45:30.959Z"
   },
   {
    "duration": 5,
    "start_time": "2022-06-24T08:45:31.247Z"
   },
   {
    "duration": 2149,
    "start_time": "2022-06-24T08:45:31.254Z"
   },
   {
    "duration": 1043,
    "start_time": "2022-06-24T08:45:33.405Z"
   },
   {
    "duration": 5,
    "start_time": "2022-06-24T08:45:34.451Z"
   },
   {
    "duration": 6,
    "start_time": "2022-06-24T08:45:34.457Z"
   },
   {
    "duration": 2596,
    "start_time": "2022-06-24T08:45:34.465Z"
   },
   {
    "duration": 1741,
    "start_time": "2022-06-24T08:45:37.063Z"
   },
   {
    "duration": 237,
    "start_time": "2022-06-24T08:45:38.807Z"
   },
   {
    "duration": 96,
    "start_time": "2022-06-24T08:45:39.046Z"
   },
   {
    "duration": 120,
    "start_time": "2022-06-24T08:55:20.569Z"
   },
   {
    "duration": 3,
    "start_time": "2022-06-24T08:55:50.340Z"
   },
   {
    "duration": 20,
    "start_time": "2022-06-24T08:56:06.671Z"
   },
   {
    "duration": 10,
    "start_time": "2022-06-24T08:56:08.547Z"
   },
   {
    "duration": 310,
    "start_time": "2022-06-24T08:56:24.941Z"
   },
   {
    "duration": 139,
    "start_time": "2022-06-24T09:20:41.687Z"
   },
   {
    "duration": 22,
    "start_time": "2022-06-24T09:20:47.199Z"
   },
   {
    "duration": 82,
    "start_time": "2022-06-24T09:20:47.881Z"
   },
   {
    "duration": 126,
    "start_time": "2022-06-24T09:21:13.208Z"
   },
   {
    "duration": 382,
    "start_time": "2022-06-24T09:21:21.464Z"
   },
   {
    "duration": 83,
    "start_time": "2022-06-24T09:22:01.131Z"
   },
   {
    "duration": 116,
    "start_time": "2022-06-24T09:22:02.104Z"
   },
   {
    "duration": 413,
    "start_time": "2022-06-24T09:22:02.932Z"
   },
   {
    "duration": 53,
    "start_time": "2022-06-24T09:22:54.330Z"
   },
   {
    "duration": 79,
    "start_time": "2022-06-24T09:22:55.221Z"
   },
   {
    "duration": 986,
    "start_time": "2022-06-24T09:23:58.997Z"
   },
   {
    "duration": 4,
    "start_time": "2022-06-24T09:25:01.004Z"
   },
   {
    "duration": 4,
    "start_time": "2022-06-24T09:26:56.222Z"
   },
   {
    "duration": 5,
    "start_time": "2022-06-24T09:26:57.754Z"
   },
   {
    "duration": 433,
    "start_time": "2022-06-24T09:27:14.958Z"
   },
   {
    "duration": 771,
    "start_time": "2022-06-24T09:27:15.393Z"
   },
   {
    "duration": 41,
    "start_time": "2022-06-24T09:27:16.166Z"
   },
   {
    "duration": 15,
    "start_time": "2022-06-24T09:27:16.209Z"
   },
   {
    "duration": 4,
    "start_time": "2022-06-24T09:27:16.226Z"
   },
   {
    "duration": 11,
    "start_time": "2022-06-24T09:27:16.232Z"
   },
   {
    "duration": 27,
    "start_time": "2022-06-24T09:27:16.245Z"
   },
   {
    "duration": 8,
    "start_time": "2022-06-24T09:27:16.274Z"
   },
   {
    "duration": 7,
    "start_time": "2022-06-24T09:27:16.284Z"
   },
   {
    "duration": 22,
    "start_time": "2022-06-24T09:27:16.292Z"
   },
   {
    "duration": 13,
    "start_time": "2022-06-24T09:27:16.316Z"
   },
   {
    "duration": 19,
    "start_time": "2022-06-24T09:27:16.331Z"
   },
   {
    "duration": 31,
    "start_time": "2022-06-24T09:27:16.352Z"
   },
   {
    "duration": 3,
    "start_time": "2022-06-24T09:27:16.386Z"
   },
   {
    "duration": 16,
    "start_time": "2022-06-24T09:27:16.391Z"
   },
   {
    "duration": 13,
    "start_time": "2022-06-24T09:27:16.409Z"
   },
   {
    "duration": 21,
    "start_time": "2022-06-24T09:27:16.424Z"
   },
   {
    "duration": 20,
    "start_time": "2022-06-24T09:27:16.447Z"
   },
   {
    "duration": 9,
    "start_time": "2022-06-24T09:27:16.469Z"
   },
   {
    "duration": 7,
    "start_time": "2022-06-24T09:27:16.480Z"
   },
   {
    "duration": 5,
    "start_time": "2022-06-24T09:27:16.489Z"
   },
   {
    "duration": 87,
    "start_time": "2022-06-24T09:27:16.496Z"
   },
   {
    "duration": 1092,
    "start_time": "2022-06-24T09:27:16.585Z"
   },
   {
    "duration": 664,
    "start_time": "2022-06-24T09:27:17.679Z"
   },
   {
    "duration": 9,
    "start_time": "2022-06-24T09:27:18.348Z"
   },
   {
    "duration": 3666,
    "start_time": "2022-06-24T09:27:18.361Z"
   },
   {
    "duration": 1165,
    "start_time": "2022-06-24T09:27:22.029Z"
   },
   {
    "duration": 5,
    "start_time": "2022-06-24T09:27:23.196Z"
   },
   {
    "duration": 10,
    "start_time": "2022-06-24T09:27:23.204Z"
   },
   {
    "duration": 14,
    "start_time": "2022-06-24T09:27:23.217Z"
   },
   {
    "duration": 27,
    "start_time": "2022-06-24T09:27:23.234Z"
   },
   {
    "duration": 2219,
    "start_time": "2022-06-24T09:27:23.263Z"
   },
   {
    "duration": 1165,
    "start_time": "2022-06-24T09:27:25.484Z"
   },
   {
    "duration": 111,
    "start_time": "2022-06-24T09:27:26.651Z"
   },
   {
    "duration": 24,
    "start_time": "2022-06-24T09:27:26.842Z"
   },
   {
    "duration": 45,
    "start_time": "2022-06-24T09:27:26.942Z"
   },
   {
    "duration": 73,
    "start_time": "2022-06-24T09:27:26.990Z"
   },
   {
    "duration": 99,
    "start_time": "2022-06-24T09:27:27.066Z"
   },
   {
    "duration": 124,
    "start_time": "2022-06-24T09:27:27.168Z"
   },
   {
    "duration": 464,
    "start_time": "2022-06-24T09:29:25.240Z"
   },
   {
    "duration": 761,
    "start_time": "2022-06-24T09:29:25.707Z"
   },
   {
    "duration": 42,
    "start_time": "2022-06-24T09:29:26.470Z"
   },
   {
    "duration": 17,
    "start_time": "2022-06-24T09:29:26.514Z"
   },
   {
    "duration": 5,
    "start_time": "2022-06-24T09:29:26.533Z"
   },
   {
    "duration": 13,
    "start_time": "2022-06-24T09:29:26.540Z"
   },
   {
    "duration": 15,
    "start_time": "2022-06-24T09:29:26.555Z"
   },
   {
    "duration": 10,
    "start_time": "2022-06-24T09:29:26.572Z"
   },
   {
    "duration": 11,
    "start_time": "2022-06-24T09:29:26.584Z"
   },
   {
    "duration": 7,
    "start_time": "2022-06-24T09:29:26.599Z"
   },
   {
    "duration": 10,
    "start_time": "2022-06-24T09:29:26.608Z"
   },
   {
    "duration": 37,
    "start_time": "2022-06-24T09:29:26.620Z"
   },
   {
    "duration": 34,
    "start_time": "2022-06-24T09:29:26.659Z"
   },
   {
    "duration": 3,
    "start_time": "2022-06-24T09:29:26.696Z"
   },
   {
    "duration": 48,
    "start_time": "2022-06-24T09:29:26.702Z"
   },
   {
    "duration": 16,
    "start_time": "2022-06-24T09:29:26.752Z"
   },
   {
    "duration": 19,
    "start_time": "2022-06-24T09:29:26.770Z"
   },
   {
    "duration": 30,
    "start_time": "2022-06-24T09:29:26.791Z"
   },
   {
    "duration": 29,
    "start_time": "2022-06-24T09:29:26.823Z"
   },
   {
    "duration": 23,
    "start_time": "2022-06-24T09:29:26.855Z"
   },
   {
    "duration": 14,
    "start_time": "2022-06-24T09:29:26.881Z"
   },
   {
    "duration": 322,
    "start_time": "2022-06-24T09:29:26.897Z"
   },
   {
    "duration": 1069,
    "start_time": "2022-06-24T09:29:27.221Z"
   },
   {
    "duration": 850,
    "start_time": "2022-06-24T09:29:28.294Z"
   },
   {
    "duration": 98,
    "start_time": "2022-06-24T09:29:29.147Z"
   },
   {
    "duration": 0,
    "start_time": "2022-06-24T09:29:29.247Z"
   },
   {
    "duration": 0,
    "start_time": "2022-06-24T09:29:29.248Z"
   },
   {
    "duration": 0,
    "start_time": "2022-06-24T09:29:29.250Z"
   },
   {
    "duration": 0,
    "start_time": "2022-06-24T09:29:29.251Z"
   },
   {
    "duration": 0,
    "start_time": "2022-06-24T09:29:29.252Z"
   },
   {
    "duration": 0,
    "start_time": "2022-06-24T09:29:29.253Z"
   },
   {
    "duration": 0,
    "start_time": "2022-06-24T09:29:29.254Z"
   },
   {
    "duration": 0,
    "start_time": "2022-06-24T09:29:29.255Z"
   },
   {
    "duration": 0,
    "start_time": "2022-06-24T09:29:29.256Z"
   },
   {
    "duration": 0,
    "start_time": "2022-06-24T09:29:29.258Z"
   },
   {
    "duration": 0,
    "start_time": "2022-06-24T09:29:29.259Z"
   },
   {
    "duration": 0,
    "start_time": "2022-06-24T09:29:29.260Z"
   },
   {
    "duration": 0,
    "start_time": "2022-06-24T09:29:29.261Z"
   },
   {
    "duration": 0,
    "start_time": "2022-06-24T09:29:29.262Z"
   },
   {
    "duration": 64,
    "start_time": "2022-06-24T09:30:28.894Z"
   },
   {
    "duration": 972,
    "start_time": "2022-06-24T09:30:34.485Z"
   },
   {
    "duration": 617,
    "start_time": "2022-06-24T09:30:43.837Z"
   },
   {
    "duration": 4,
    "start_time": "2022-06-24T09:30:57.722Z"
   },
   {
    "duration": 459,
    "start_time": "2022-06-24T09:31:04.341Z"
   },
   {
    "duration": 795,
    "start_time": "2022-06-24T09:31:04.803Z"
   },
   {
    "duration": 41,
    "start_time": "2022-06-24T09:31:05.599Z"
   },
   {
    "duration": 20,
    "start_time": "2022-06-24T09:31:05.646Z"
   },
   {
    "duration": 5,
    "start_time": "2022-06-24T09:31:05.668Z"
   },
   {
    "duration": 15,
    "start_time": "2022-06-24T09:31:05.675Z"
   },
   {
    "duration": 13,
    "start_time": "2022-06-24T09:31:05.692Z"
   },
   {
    "duration": 6,
    "start_time": "2022-06-24T09:31:05.707Z"
   },
   {
    "duration": 36,
    "start_time": "2022-06-24T09:31:05.715Z"
   },
   {
    "duration": 14,
    "start_time": "2022-06-24T09:31:05.758Z"
   },
   {
    "duration": 8,
    "start_time": "2022-06-24T09:31:05.774Z"
   },
   {
    "duration": 20,
    "start_time": "2022-06-24T09:31:05.785Z"
   },
   {
    "duration": 44,
    "start_time": "2022-06-24T09:31:05.807Z"
   },
   {
    "duration": 6,
    "start_time": "2022-06-24T09:31:05.852Z"
   },
   {
    "duration": 17,
    "start_time": "2022-06-24T09:31:05.861Z"
   },
   {
    "duration": 12,
    "start_time": "2022-06-24T09:31:05.880Z"
   },
   {
    "duration": 8,
    "start_time": "2022-06-24T09:31:05.894Z"
   },
   {
    "duration": 9,
    "start_time": "2022-06-24T09:31:05.903Z"
   },
   {
    "duration": 36,
    "start_time": "2022-06-24T09:31:05.914Z"
   },
   {
    "duration": 14,
    "start_time": "2022-06-24T09:31:05.957Z"
   },
   {
    "duration": 4,
    "start_time": "2022-06-24T09:31:05.973Z"
   },
   {
    "duration": 53,
    "start_time": "2022-06-24T09:31:05.979Z"
   },
   {
    "duration": 958,
    "start_time": "2022-06-24T09:31:06.042Z"
   },
   {
    "duration": 445,
    "start_time": "2022-06-24T09:31:07.003Z"
   },
   {
    "duration": 6,
    "start_time": "2022-06-24T09:31:07.450Z"
   },
   {
    "duration": 2303,
    "start_time": "2022-06-24T09:31:07.457Z"
   },
   {
    "duration": 1087,
    "start_time": "2022-06-24T09:31:09.763Z"
   },
   {
    "duration": 118,
    "start_time": "2022-06-24T09:31:10.859Z"
   },
   {
    "duration": 0,
    "start_time": "2022-06-24T09:31:10.979Z"
   },
   {
    "duration": 0,
    "start_time": "2022-06-24T09:31:10.981Z"
   },
   {
    "duration": 0,
    "start_time": "2022-06-24T09:31:10.982Z"
   },
   {
    "duration": 0,
    "start_time": "2022-06-24T09:31:10.983Z"
   },
   {
    "duration": 0,
    "start_time": "2022-06-24T09:31:10.984Z"
   },
   {
    "duration": 0,
    "start_time": "2022-06-24T09:31:10.985Z"
   },
   {
    "duration": 0,
    "start_time": "2022-06-24T09:31:10.986Z"
   },
   {
    "duration": 0,
    "start_time": "2022-06-24T09:31:10.987Z"
   },
   {
    "duration": 0,
    "start_time": "2022-06-24T09:31:10.988Z"
   },
   {
    "duration": 0,
    "start_time": "2022-06-24T09:31:10.989Z"
   },
   {
    "duration": 0,
    "start_time": "2022-06-24T09:31:10.990Z"
   },
   {
    "duration": 10,
    "start_time": "2022-06-24T09:31:38.204Z"
   },
   {
    "duration": 4,
    "start_time": "2022-06-24T09:31:54.395Z"
   },
   {
    "duration": 457,
    "start_time": "2022-06-24T09:32:07.132Z"
   },
   {
    "duration": 833,
    "start_time": "2022-06-24T09:32:07.592Z"
   },
   {
    "duration": 44,
    "start_time": "2022-06-24T09:32:08.426Z"
   },
   {
    "duration": 17,
    "start_time": "2022-06-24T09:32:08.472Z"
   },
   {
    "duration": 4,
    "start_time": "2022-06-24T09:32:08.491Z"
   },
   {
    "duration": 12,
    "start_time": "2022-06-24T09:32:08.496Z"
   },
   {
    "duration": 12,
    "start_time": "2022-06-24T09:32:08.510Z"
   },
   {
    "duration": 22,
    "start_time": "2022-06-24T09:32:08.524Z"
   },
   {
    "duration": 10,
    "start_time": "2022-06-24T09:32:08.548Z"
   },
   {
    "duration": 8,
    "start_time": "2022-06-24T09:32:08.561Z"
   },
   {
    "duration": 9,
    "start_time": "2022-06-24T09:32:08.570Z"
   },
   {
    "duration": 13,
    "start_time": "2022-06-24T09:32:08.581Z"
   },
   {
    "duration": 62,
    "start_time": "2022-06-24T09:32:08.596Z"
   },
   {
    "duration": 4,
    "start_time": "2022-06-24T09:32:08.659Z"
   },
   {
    "duration": 17,
    "start_time": "2022-06-24T09:32:08.664Z"
   },
   {
    "duration": 12,
    "start_time": "2022-06-24T09:32:08.683Z"
   },
   {
    "duration": 7,
    "start_time": "2022-06-24T09:32:08.697Z"
   },
   {
    "duration": 8,
    "start_time": "2022-06-24T09:32:08.705Z"
   },
   {
    "duration": 33,
    "start_time": "2022-06-24T09:32:08.715Z"
   },
   {
    "duration": 9,
    "start_time": "2022-06-24T09:32:08.750Z"
   },
   {
    "duration": 5,
    "start_time": "2022-06-24T09:32:08.761Z"
   },
   {
    "duration": 57,
    "start_time": "2022-06-24T09:32:08.767Z"
   },
   {
    "duration": 1015,
    "start_time": "2022-06-24T09:32:08.845Z"
   },
   {
    "duration": 95,
    "start_time": "2022-06-24T09:32:09.865Z"
   },
   {
    "duration": 4,
    "start_time": "2022-06-24T09:32:09.965Z"
   },
   {
    "duration": 2327,
    "start_time": "2022-06-24T09:32:09.971Z"
   },
   {
    "duration": 1133,
    "start_time": "2022-06-24T09:32:12.300Z"
   },
   {
    "duration": 9,
    "start_time": "2022-06-24T09:32:13.443Z"
   },
   {
    "duration": 15,
    "start_time": "2022-06-24T09:32:13.458Z"
   },
   {
    "duration": 6,
    "start_time": "2022-06-24T09:32:13.475Z"
   },
   {
    "duration": 7,
    "start_time": "2022-06-24T09:32:13.483Z"
   },
   {
    "duration": 2190,
    "start_time": "2022-06-24T09:32:13.492Z"
   },
   {
    "duration": 2387,
    "start_time": "2022-06-24T09:32:15.684Z"
   },
   {
    "duration": 570,
    "start_time": "2022-06-24T09:32:18.076Z"
   },
   {
    "duration": 85,
    "start_time": "2022-06-24T09:32:18.656Z"
   },
   {
    "duration": 42,
    "start_time": "2022-06-24T09:32:18.744Z"
   },
   {
    "duration": 157,
    "start_time": "2022-06-24T09:32:18.788Z"
   },
   {
    "duration": 151,
    "start_time": "2022-06-24T09:32:18.946Z"
   },
   {
    "duration": 152,
    "start_time": "2022-06-24T09:32:19.100Z"
   },
   {
    "duration": 752,
    "start_time": "2022-06-24T09:34:34.800Z"
   },
   {
    "duration": 20,
    "start_time": "2022-06-24T09:59:52.086Z"
   },
   {
    "duration": 74,
    "start_time": "2022-06-24T10:00:54.816Z"
   },
   {
    "duration": 89,
    "start_time": "2022-06-24T10:02:03.897Z"
   },
   {
    "duration": 49,
    "start_time": "2022-06-24T10:02:28.826Z"
   },
   {
    "duration": 220,
    "start_time": "2022-06-24T10:02:33.254Z"
   },
   {
    "duration": 234,
    "start_time": "2022-06-24T10:05:53.683Z"
   },
   {
    "duration": 247,
    "start_time": "2022-06-24T10:06:58.641Z"
   },
   {
    "duration": 235,
    "start_time": "2022-06-24T10:07:07.579Z"
   },
   {
    "duration": 899,
    "start_time": "2022-06-24T10:07:12.043Z"
   },
   {
    "duration": 4,
    "start_time": "2022-06-24T10:08:27.821Z"
   },
   {
    "duration": 435,
    "start_time": "2022-06-24T10:08:38.278Z"
   },
   {
    "duration": 859,
    "start_time": "2022-06-24T10:08:38.715Z"
   },
   {
    "duration": 41,
    "start_time": "2022-06-24T10:08:39.576Z"
   },
   {
    "duration": 25,
    "start_time": "2022-06-24T10:08:39.621Z"
   },
   {
    "duration": 8,
    "start_time": "2022-06-24T10:08:39.649Z"
   },
   {
    "duration": 10,
    "start_time": "2022-06-24T10:08:39.659Z"
   },
   {
    "duration": 13,
    "start_time": "2022-06-24T10:08:39.671Z"
   },
   {
    "duration": 8,
    "start_time": "2022-06-24T10:08:39.686Z"
   },
   {
    "duration": 14,
    "start_time": "2022-06-24T10:08:39.696Z"
   },
   {
    "duration": 9,
    "start_time": "2022-06-24T10:08:39.742Z"
   },
   {
    "duration": 14,
    "start_time": "2022-06-24T10:08:39.756Z"
   },
   {
    "duration": 14,
    "start_time": "2022-06-24T10:08:39.772Z"
   },
   {
    "duration": 23,
    "start_time": "2022-06-24T10:08:39.788Z"
   },
   {
    "duration": 3,
    "start_time": "2022-06-24T10:08:39.813Z"
   },
   {
    "duration": 43,
    "start_time": "2022-06-24T10:08:39.817Z"
   },
   {
    "duration": 13,
    "start_time": "2022-06-24T10:08:39.862Z"
   },
   {
    "duration": 6,
    "start_time": "2022-06-24T10:08:39.877Z"
   },
   {
    "duration": 7,
    "start_time": "2022-06-24T10:08:39.885Z"
   },
   {
    "duration": 9,
    "start_time": "2022-06-24T10:08:39.894Z"
   },
   {
    "duration": 11,
    "start_time": "2022-06-24T10:08:39.941Z"
   },
   {
    "duration": 13,
    "start_time": "2022-06-24T10:08:39.954Z"
   },
   {
    "duration": 54,
    "start_time": "2022-06-24T10:08:39.969Z"
   },
   {
    "duration": 1025,
    "start_time": "2022-06-24T10:08:40.042Z"
   },
   {
    "duration": 275,
    "start_time": "2022-06-24T10:08:41.068Z"
   },
   {
    "duration": 7,
    "start_time": "2022-06-24T10:08:41.345Z"
   },
   {
    "duration": 2292,
    "start_time": "2022-06-24T10:08:41.355Z"
   },
   {
    "duration": 1149,
    "start_time": "2022-06-24T10:08:43.649Z"
   },
   {
    "duration": 7,
    "start_time": "2022-06-24T10:08:44.801Z"
   },
   {
    "duration": 11,
    "start_time": "2022-06-24T10:08:44.810Z"
   },
   {
    "duration": 19,
    "start_time": "2022-06-24T10:08:44.823Z"
   },
   {
    "duration": 6,
    "start_time": "2022-06-24T10:08:44.844Z"
   },
   {
    "duration": 2329,
    "start_time": "2022-06-24T10:08:44.851Z"
   },
   {
    "duration": 1286,
    "start_time": "2022-06-24T10:08:47.182Z"
   },
   {
    "duration": 375,
    "start_time": "2022-06-24T10:08:48.470Z"
   },
   {
    "duration": 97,
    "start_time": "2022-06-24T10:08:48.848Z"
   },
   {
    "duration": 63,
    "start_time": "2022-06-24T10:08:48.948Z"
   },
   {
    "duration": 267,
    "start_time": "2022-06-24T10:08:49.014Z"
   },
   {
    "duration": 248,
    "start_time": "2022-06-24T10:08:49.283Z"
   },
   {
    "duration": 1116,
    "start_time": "2022-06-24T10:08:49.533Z"
   },
   {
    "duration": 9,
    "start_time": "2022-06-24T10:08:50.654Z"
   },
   {
    "duration": 4,
    "start_time": "2022-06-24T10:10:37.980Z"
   },
   {
    "duration": 5,
    "start_time": "2022-06-24T10:14:31.808Z"
   },
   {
    "duration": 32,
    "start_time": "2022-06-24T10:16:33.879Z"
   },
   {
    "duration": 24,
    "start_time": "2022-06-24T10:16:36.990Z"
   },
   {
    "duration": 136,
    "start_time": "2022-06-24T10:16:40.124Z"
   },
   {
    "duration": 10,
    "start_time": "2022-06-24T10:17:12.166Z"
   },
   {
    "duration": 22,
    "start_time": "2022-06-24T10:17:26.706Z"
   },
   {
    "duration": 5,
    "start_time": "2022-06-24T10:17:31.126Z"
   },
   {
    "duration": 16,
    "start_time": "2022-06-24T10:17:40.401Z"
   },
   {
    "duration": 5,
    "start_time": "2022-06-24T10:17:44.625Z"
   },
   {
    "duration": 7,
    "start_time": "2022-06-24T10:17:56.672Z"
   },
   {
    "duration": 6,
    "start_time": "2022-06-24T10:18:01.579Z"
   },
   {
    "duration": 129,
    "start_time": "2022-06-24T10:19:11.683Z"
   },
   {
    "duration": 19,
    "start_time": "2022-06-24T10:19:17.070Z"
   },
   {
    "duration": 6,
    "start_time": "2022-06-24T10:19:21.865Z"
   },
   {
    "duration": 6,
    "start_time": "2022-06-24T10:19:22.473Z"
   },
   {
    "duration": 71,
    "start_time": "2022-06-24T10:19:31.458Z"
   },
   {
    "duration": 64,
    "start_time": "2022-06-24T10:19:42.364Z"
   },
   {
    "duration": 29,
    "start_time": "2022-06-24T10:19:49.885Z"
   },
   {
    "duration": 142,
    "start_time": "2022-06-24T10:19:52.787Z"
   },
   {
    "duration": 135,
    "start_time": "2022-06-24T10:19:54.870Z"
   },
   {
    "duration": 432,
    "start_time": "2022-06-24T10:20:23.201Z"
   },
   {
    "duration": 1045,
    "start_time": "2022-06-24T10:20:23.635Z"
   },
   {
    "duration": 93,
    "start_time": "2022-06-24T10:20:24.682Z"
   },
   {
    "duration": 64,
    "start_time": "2022-06-24T10:20:24.778Z"
   },
   {
    "duration": 8,
    "start_time": "2022-06-24T10:20:24.844Z"
   },
   {
    "duration": 29,
    "start_time": "2022-06-24T10:20:24.854Z"
   },
   {
    "duration": 59,
    "start_time": "2022-06-24T10:20:24.885Z"
   },
   {
    "duration": 7,
    "start_time": "2022-06-24T10:20:24.946Z"
   },
   {
    "duration": 29,
    "start_time": "2022-06-24T10:20:24.955Z"
   },
   {
    "duration": 8,
    "start_time": "2022-06-24T10:20:24.989Z"
   },
   {
    "duration": 48,
    "start_time": "2022-06-24T10:20:24.999Z"
   },
   {
    "duration": 40,
    "start_time": "2022-06-24T10:20:25.051Z"
   },
   {
    "duration": 73,
    "start_time": "2022-06-24T10:20:25.093Z"
   },
   {
    "duration": 9,
    "start_time": "2022-06-24T10:20:25.168Z"
   },
   {
    "duration": 63,
    "start_time": "2022-06-24T10:20:25.179Z"
   },
   {
    "duration": 47,
    "start_time": "2022-06-24T10:20:25.245Z"
   },
   {
    "duration": 14,
    "start_time": "2022-06-24T10:20:25.294Z"
   },
   {
    "duration": 43,
    "start_time": "2022-06-24T10:20:25.310Z"
   },
   {
    "duration": 37,
    "start_time": "2022-06-24T10:20:25.355Z"
   },
   {
    "duration": 8,
    "start_time": "2022-06-24T10:20:25.394Z"
   },
   {
    "duration": 38,
    "start_time": "2022-06-24T10:20:25.405Z"
   },
   {
    "duration": 143,
    "start_time": "2022-06-24T10:20:25.446Z"
   },
   {
    "duration": 1817,
    "start_time": "2022-06-24T10:20:25.591Z"
   },
   {
    "duration": 563,
    "start_time": "2022-06-24T10:20:27.410Z"
   },
   {
    "duration": 72,
    "start_time": "2022-06-24T10:20:27.980Z"
   },
   {
    "duration": 2378,
    "start_time": "2022-06-24T10:20:28.058Z"
   },
   {
    "duration": 1165,
    "start_time": "2022-06-24T10:20:30.442Z"
   },
   {
    "duration": 4,
    "start_time": "2022-06-24T10:20:31.610Z"
   },
   {
    "duration": 6,
    "start_time": "2022-06-24T10:20:31.616Z"
   },
   {
    "duration": 30,
    "start_time": "2022-06-24T10:20:31.624Z"
   },
   {
    "duration": 23,
    "start_time": "2022-06-24T10:20:31.656Z"
   },
   {
    "duration": 2239,
    "start_time": "2022-06-24T10:20:31.681Z"
   },
   {
    "duration": 1228,
    "start_time": "2022-06-24T10:20:33.922Z"
   },
   {
    "duration": 306,
    "start_time": "2022-06-24T10:20:35.153Z"
   },
   {
    "duration": 7,
    "start_time": "2022-06-24T10:20:35.461Z"
   },
   {
    "duration": 214,
    "start_time": "2022-06-24T10:20:35.470Z"
   },
   {
    "duration": 146,
    "start_time": "2022-06-24T10:20:35.686Z"
   },
   {
    "duration": 151,
    "start_time": "2022-06-24T10:20:35.834Z"
   },
   {
    "duration": 1089,
    "start_time": "2022-06-24T10:20:35.987Z"
   },
   {
    "duration": 28,
    "start_time": "2022-06-24T10:20:37.146Z"
   },
   {
    "duration": 22,
    "start_time": "2022-06-24T10:20:58.246Z"
   },
   {
    "duration": 96,
    "start_time": "2022-06-24T10:21:03.620Z"
   },
   {
    "duration": 89,
    "start_time": "2022-06-24T10:21:04.767Z"
   },
   {
    "duration": 479,
    "start_time": "2022-06-24T10:21:09.497Z"
   },
   {
    "duration": 4,
    "start_time": "2022-06-24T10:24:03.770Z"
   },
   {
    "duration": 63,
    "start_time": "2022-06-24T10:24:39.016Z"
   },
   {
    "duration": 287,
    "start_time": "2022-06-24T10:24:40.974Z"
   },
   {
    "duration": 275,
    "start_time": "2022-06-24T10:24:44.242Z"
   },
   {
    "duration": 1058,
    "start_time": "2022-06-24T10:24:47.706Z"
   },
   {
    "duration": 85,
    "start_time": "2022-06-24T10:24:55.881Z"
   },
   {
    "duration": 460,
    "start_time": "2022-06-24T10:24:58.370Z"
   },
   {
    "duration": 429,
    "start_time": "2022-06-24T10:25:01.505Z"
   },
   {
    "duration": 1678,
    "start_time": "2022-06-24T10:25:08.880Z"
   },
   {
    "duration": 405,
    "start_time": "2022-06-24T10:27:10.870Z"
   },
   {
    "duration": 778,
    "start_time": "2022-06-24T10:27:11.277Z"
   },
   {
    "duration": 43,
    "start_time": "2022-06-24T10:27:12.057Z"
   },
   {
    "duration": 17,
    "start_time": "2022-06-24T10:27:12.102Z"
   },
   {
    "duration": 4,
    "start_time": "2022-06-24T10:27:12.122Z"
   },
   {
    "duration": 16,
    "start_time": "2022-06-24T10:27:12.128Z"
   },
   {
    "duration": 12,
    "start_time": "2022-06-24T10:27:12.146Z"
   },
   {
    "duration": 6,
    "start_time": "2022-06-24T10:27:12.160Z"
   },
   {
    "duration": 9,
    "start_time": "2022-06-24T10:27:12.168Z"
   },
   {
    "duration": 8,
    "start_time": "2022-06-24T10:27:12.179Z"
   },
   {
    "duration": 9,
    "start_time": "2022-06-24T10:27:12.189Z"
   },
   {
    "duration": 17,
    "start_time": "2022-06-24T10:27:12.199Z"
   },
   {
    "duration": 28,
    "start_time": "2022-06-24T10:27:12.241Z"
   },
   {
    "duration": 3,
    "start_time": "2022-06-24T10:27:12.273Z"
   },
   {
    "duration": 14,
    "start_time": "2022-06-24T10:27:12.278Z"
   },
   {
    "duration": 12,
    "start_time": "2022-06-24T10:27:12.294Z"
   },
   {
    "duration": 37,
    "start_time": "2022-06-24T10:27:12.308Z"
   },
   {
    "duration": 23,
    "start_time": "2022-06-24T10:27:12.347Z"
   },
   {
    "duration": 10,
    "start_time": "2022-06-24T10:27:12.372Z"
   },
   {
    "duration": 8,
    "start_time": "2022-06-24T10:27:12.385Z"
   },
   {
    "duration": 10,
    "start_time": "2022-06-24T10:27:12.395Z"
   },
   {
    "duration": 75,
    "start_time": "2022-06-24T10:27:12.406Z"
   },
   {
    "duration": 1056,
    "start_time": "2022-06-24T10:27:12.483Z"
   },
   {
    "duration": 116,
    "start_time": "2022-06-24T10:27:13.542Z"
   },
   {
    "duration": 185,
    "start_time": "2022-06-24T10:27:13.660Z"
   },
   {
    "duration": 2258,
    "start_time": "2022-06-24T10:27:13.847Z"
   },
   {
    "duration": 1146,
    "start_time": "2022-06-24T10:27:16.107Z"
   },
   {
    "duration": 5,
    "start_time": "2022-06-24T10:27:17.255Z"
   },
   {
    "duration": 7,
    "start_time": "2022-06-24T10:27:17.262Z"
   },
   {
    "duration": 5,
    "start_time": "2022-06-24T10:27:17.270Z"
   },
   {
    "duration": 5,
    "start_time": "2022-06-24T10:27:17.277Z"
   },
   {
    "duration": 2314,
    "start_time": "2022-06-24T10:27:17.283Z"
   },
   {
    "duration": 1176,
    "start_time": "2022-06-24T10:27:19.599Z"
   },
   {
    "duration": 172,
    "start_time": "2022-06-24T10:27:20.776Z"
   },
   {
    "duration": 197,
    "start_time": "2022-06-24T10:27:20.950Z"
   },
   {
    "duration": 478,
    "start_time": "2022-06-24T10:30:05.744Z"
   },
   {
    "duration": 906,
    "start_time": "2022-06-24T10:30:06.224Z"
   },
   {
    "duration": 46,
    "start_time": "2022-06-24T10:30:07.132Z"
   },
   {
    "duration": 17,
    "start_time": "2022-06-24T10:30:07.180Z"
   },
   {
    "duration": 4,
    "start_time": "2022-06-24T10:30:07.200Z"
   },
   {
    "duration": 9,
    "start_time": "2022-06-24T10:30:07.206Z"
   },
   {
    "duration": 14,
    "start_time": "2022-06-24T10:30:07.217Z"
   },
   {
    "duration": 5,
    "start_time": "2022-06-24T10:30:07.242Z"
   },
   {
    "duration": 8,
    "start_time": "2022-06-24T10:30:07.249Z"
   },
   {
    "duration": 9,
    "start_time": "2022-06-24T10:30:07.259Z"
   },
   {
    "duration": 16,
    "start_time": "2022-06-24T10:30:07.270Z"
   },
   {
    "duration": 16,
    "start_time": "2022-06-24T10:30:07.288Z"
   },
   {
    "duration": 61,
    "start_time": "2022-06-24T10:30:07.306Z"
   },
   {
    "duration": 5,
    "start_time": "2022-06-24T10:30:07.371Z"
   },
   {
    "duration": 20,
    "start_time": "2022-06-24T10:30:07.378Z"
   },
   {
    "duration": 24,
    "start_time": "2022-06-24T10:30:07.400Z"
   },
   {
    "duration": 23,
    "start_time": "2022-06-24T10:30:07.442Z"
   },
   {
    "duration": 8,
    "start_time": "2022-06-24T10:30:07.469Z"
   },
   {
    "duration": 14,
    "start_time": "2022-06-24T10:30:07.479Z"
   },
   {
    "duration": 9,
    "start_time": "2022-06-24T10:30:07.496Z"
   },
   {
    "duration": 13,
    "start_time": "2022-06-24T10:30:07.507Z"
   },
   {
    "duration": 70,
    "start_time": "2022-06-24T10:30:07.522Z"
   },
   {
    "duration": 1039,
    "start_time": "2022-06-24T10:30:07.595Z"
   },
   {
    "duration": 412,
    "start_time": "2022-06-24T10:30:08.636Z"
   },
   {
    "duration": 8,
    "start_time": "2022-06-24T10:30:09.050Z"
   },
   {
    "duration": 3375,
    "start_time": "2022-06-24T10:30:09.063Z"
   },
   {
    "duration": 1098,
    "start_time": "2022-06-24T10:30:12.439Z"
   },
   {
    "duration": 5,
    "start_time": "2022-06-24T10:30:13.541Z"
   },
   {
    "duration": 18,
    "start_time": "2022-06-24T10:30:13.549Z"
   },
   {
    "duration": 7,
    "start_time": "2022-06-24T10:30:13.569Z"
   },
   {
    "duration": 8,
    "start_time": "2022-06-24T10:30:13.578Z"
   },
   {
    "duration": 2129,
    "start_time": "2022-06-24T10:30:13.587Z"
   },
   {
    "duration": 1199,
    "start_time": "2022-06-24T10:30:15.718Z"
   },
   {
    "duration": 136,
    "start_time": "2022-06-24T10:30:16.920Z"
   },
   {
    "duration": 94,
    "start_time": "2022-06-24T10:30:17.058Z"
   },
   {
    "duration": 3,
    "start_time": "2022-06-24T10:31:05.887Z"
   },
   {
    "duration": 246,
    "start_time": "2022-06-24T10:32:57.784Z"
   },
   {
    "duration": 205,
    "start_time": "2022-06-24T10:33:14.958Z"
   },
   {
    "duration": 298,
    "start_time": "2022-06-24T10:33:59.718Z"
   },
   {
    "duration": 92,
    "start_time": "2022-06-24T10:34:13.755Z"
   },
   {
    "duration": 122,
    "start_time": "2022-06-24T10:34:19.922Z"
   },
   {
    "duration": 243,
    "start_time": "2022-06-24T10:34:50.922Z"
   },
   {
    "duration": 255,
    "start_time": "2022-06-24T10:35:37.637Z"
   },
   {
    "duration": 240,
    "start_time": "2022-06-24T10:36:47.622Z"
   },
   {
    "duration": 221,
    "start_time": "2022-06-24T10:38:26.570Z"
   },
   {
    "duration": 135,
    "start_time": "2022-06-24T10:39:08.918Z"
   },
   {
    "duration": 186,
    "start_time": "2022-06-24T10:39:15.974Z"
   },
   {
    "duration": 150,
    "start_time": "2022-06-24T10:40:00.251Z"
   },
   {
    "duration": 3,
    "start_time": "2022-06-24T10:40:39.294Z"
   },
   {
    "duration": 493,
    "start_time": "2022-06-24T10:41:24.128Z"
   },
   {
    "duration": 299,
    "start_time": "2022-06-24T10:42:01.942Z"
   },
   {
    "duration": 34,
    "start_time": "2022-06-24T10:42:08.514Z"
   },
   {
    "duration": 629,
    "start_time": "2022-06-24T10:55:10.783Z"
   },
   {
    "duration": 164,
    "start_time": "2022-06-24T10:56:46.942Z"
   },
   {
    "duration": 150,
    "start_time": "2022-06-24T10:56:49.830Z"
   },
   {
    "duration": 435,
    "start_time": "2022-06-24T10:56:52.740Z"
   },
   {
    "duration": 13,
    "start_time": "2022-06-24T10:59:10.108Z"
   },
   {
    "duration": 19,
    "start_time": "2022-06-24T10:59:45.141Z"
   },
   {
    "duration": 117,
    "start_time": "2022-06-24T10:59:45.539Z"
   },
   {
    "duration": 5,
    "start_time": "2022-06-24T10:59:59.612Z"
   },
   {
    "duration": 10,
    "start_time": "2022-06-24T11:00:05.276Z"
   },
   {
    "duration": 10,
    "start_time": "2022-06-24T11:00:15.565Z"
   },
   {
    "duration": 15,
    "start_time": "2022-06-24T11:01:54.688Z"
   },
   {
    "duration": 6,
    "start_time": "2022-06-24T11:02:09.451Z"
   },
   {
    "duration": 162,
    "start_time": "2022-06-24T11:02:14.596Z"
   },
   {
    "duration": 15,
    "start_time": "2022-06-24T11:02:19.474Z"
   },
   {
    "duration": 328,
    "start_time": "2022-06-24T11:02:41.715Z"
   },
   {
    "duration": 274,
    "start_time": "2022-06-24T11:02:43.895Z"
   },
   {
    "duration": 208,
    "start_time": "2022-06-24T11:03:27.555Z"
   },
   {
    "duration": 272,
    "start_time": "2022-06-24T11:03:31.793Z"
   },
   {
    "duration": 444,
    "start_time": "2022-06-24T11:05:46.201Z"
   },
   {
    "duration": 1228,
    "start_time": "2022-06-24T11:05:46.652Z"
   },
   {
    "duration": 41,
    "start_time": "2022-06-24T11:05:47.882Z"
   },
   {
    "duration": 21,
    "start_time": "2022-06-24T11:05:47.926Z"
   },
   {
    "duration": 6,
    "start_time": "2022-06-24T11:05:47.955Z"
   },
   {
    "duration": 9,
    "start_time": "2022-06-24T11:05:47.963Z"
   },
   {
    "duration": 10,
    "start_time": "2022-06-24T11:05:47.974Z"
   },
   {
    "duration": 10,
    "start_time": "2022-06-24T11:05:47.986Z"
   },
   {
    "duration": 12,
    "start_time": "2022-06-24T11:05:47.999Z"
   },
   {
    "duration": 14,
    "start_time": "2022-06-24T11:05:48.014Z"
   },
   {
    "duration": 33,
    "start_time": "2022-06-24T11:05:48.044Z"
   },
   {
    "duration": 20,
    "start_time": "2022-06-24T11:05:48.079Z"
   },
   {
    "duration": 33,
    "start_time": "2022-06-24T11:05:48.102Z"
   },
   {
    "duration": 4,
    "start_time": "2022-06-24T11:05:48.137Z"
   },
   {
    "duration": 37,
    "start_time": "2022-06-24T11:05:48.146Z"
   },
   {
    "duration": 15,
    "start_time": "2022-06-24T11:05:48.185Z"
   },
   {
    "duration": 12,
    "start_time": "2022-06-24T11:05:48.202Z"
   },
   {
    "duration": 17,
    "start_time": "2022-06-24T11:05:48.217Z"
   },
   {
    "duration": 18,
    "start_time": "2022-06-24T11:05:48.236Z"
   },
   {
    "duration": 16,
    "start_time": "2022-06-24T11:05:48.257Z"
   },
   {
    "duration": 5,
    "start_time": "2022-06-24T11:05:48.275Z"
   },
   {
    "duration": 75,
    "start_time": "2022-06-24T11:05:48.283Z"
   },
   {
    "duration": 1067,
    "start_time": "2022-06-24T11:05:48.360Z"
   },
   {
    "duration": 326,
    "start_time": "2022-06-24T11:05:49.429Z"
   },
   {
    "duration": 87,
    "start_time": "2022-06-24T11:05:49.757Z"
   },
   {
    "duration": 2382,
    "start_time": "2022-06-24T11:05:49.847Z"
   },
   {
    "duration": 1217,
    "start_time": "2022-06-24T11:05:52.231Z"
   },
   {
    "duration": 12,
    "start_time": "2022-06-24T11:05:53.452Z"
   },
   {
    "duration": 10,
    "start_time": "2022-06-24T11:05:53.466Z"
   },
   {
    "duration": 7,
    "start_time": "2022-06-24T11:05:53.478Z"
   },
   {
    "duration": 8,
    "start_time": "2022-06-24T11:05:53.487Z"
   },
   {
    "duration": 2270,
    "start_time": "2022-06-24T11:05:53.497Z"
   },
   {
    "duration": 1285,
    "start_time": "2022-06-24T11:05:55.769Z"
   },
   {
    "duration": 108,
    "start_time": "2022-06-24T11:05:57.059Z"
   },
   {
    "duration": 83,
    "start_time": "2022-06-24T11:05:57.169Z"
   },
   {
    "duration": 279,
    "start_time": "2022-06-24T11:05:57.258Z"
   },
   {
    "duration": 158,
    "start_time": "2022-06-24T11:05:57.539Z"
   },
   {
    "duration": 789,
    "start_time": "2022-06-24T11:05:57.699Z"
   },
   {
    "duration": 167,
    "start_time": "2022-06-24T11:05:58.490Z"
   },
   {
    "duration": 167,
    "start_time": "2022-06-24T11:05:58.660Z"
   },
   {
    "duration": 332,
    "start_time": "2022-06-24T11:05:58.830Z"
   },
   {
    "duration": 261,
    "start_time": "2022-06-24T11:06:33.905Z"
   },
   {
    "duration": 183,
    "start_time": "2022-06-24T11:06:39.390Z"
   },
   {
    "duration": 178,
    "start_time": "2022-06-24T11:06:46.294Z"
   },
   {
    "duration": 183,
    "start_time": "2022-06-24T11:06:52.282Z"
   },
   {
    "duration": 374,
    "start_time": "2022-06-24T11:07:01.221Z"
   },
   {
    "duration": 193,
    "start_time": "2022-06-24T11:08:27.023Z"
   },
   {
    "duration": 200,
    "start_time": "2022-06-24T11:08:30.759Z"
   },
   {
    "duration": 316,
    "start_time": "2022-06-24T11:08:33.585Z"
   },
   {
    "duration": 184,
    "start_time": "2022-06-24T11:12:46.441Z"
   },
   {
    "duration": 215,
    "start_time": "2022-06-24T11:12:57.333Z"
   },
   {
    "duration": 18,
    "start_time": "2022-06-24T12:02:30.454Z"
   },
   {
    "duration": 3699,
    "start_time": "2022-06-24T12:02:41.331Z"
   },
   {
    "duration": 40,
    "start_time": "2022-06-24T12:02:55.971Z"
   },
   {
    "duration": 9782,
    "start_time": "2022-06-24T12:02:57.116Z"
   },
   {
    "duration": 9325,
    "start_time": "2022-06-24T12:08:19.530Z"
   },
   {
    "duration": 9697,
    "start_time": "2022-06-24T12:11:57.684Z"
   },
   {
    "duration": 2103,
    "start_time": "2022-06-24T12:12:12.707Z"
   },
   {
    "duration": 32,
    "start_time": "2022-06-24T12:25:45.785Z"
   },
   {
    "duration": 34,
    "start_time": "2022-06-24T12:26:27.111Z"
   },
   {
    "duration": 50,
    "start_time": "2022-06-24T12:26:29.717Z"
   },
   {
    "duration": 346,
    "start_time": "2022-06-24T12:26:32.796Z"
   },
   {
    "duration": 34,
    "start_time": "2022-06-24T12:29:06.308Z"
   },
   {
    "duration": 50,
    "start_time": "2022-06-24T12:29:07.598Z"
   },
   {
    "duration": 144,
    "start_time": "2022-06-24T12:29:08.798Z"
   },
   {
    "duration": 5,
    "start_time": "2022-06-24T13:16:48.028Z"
   },
   {
    "duration": 6,
    "start_time": "2022-06-24T13:21:05.860Z"
   },
   {
    "duration": 518,
    "start_time": "2022-06-24T13:21:12.298Z"
   },
   {
    "duration": 1098,
    "start_time": "2022-06-24T13:21:12.819Z"
   },
   {
    "duration": 46,
    "start_time": "2022-06-24T13:21:13.919Z"
   },
   {
    "duration": 15,
    "start_time": "2022-06-24T13:21:13.967Z"
   },
   {
    "duration": 4,
    "start_time": "2022-06-24T13:21:13.984Z"
   },
   {
    "duration": 8,
    "start_time": "2022-06-24T13:21:13.990Z"
   },
   {
    "duration": 9,
    "start_time": "2022-06-24T13:21:14.000Z"
   },
   {
    "duration": 31,
    "start_time": "2022-06-24T13:21:14.011Z"
   },
   {
    "duration": 11,
    "start_time": "2022-06-24T13:21:14.044Z"
   },
   {
    "duration": 7,
    "start_time": "2022-06-24T13:21:14.060Z"
   },
   {
    "duration": 10,
    "start_time": "2022-06-24T13:21:14.070Z"
   },
   {
    "duration": 19,
    "start_time": "2022-06-24T13:21:14.082Z"
   },
   {
    "duration": 61,
    "start_time": "2022-06-24T13:21:14.103Z"
   },
   {
    "duration": 4,
    "start_time": "2022-06-24T13:21:14.166Z"
   },
   {
    "duration": 17,
    "start_time": "2022-06-24T13:21:14.171Z"
   },
   {
    "duration": 15,
    "start_time": "2022-06-24T13:21:14.190Z"
   },
   {
    "duration": 41,
    "start_time": "2022-06-24T13:21:14.207Z"
   },
   {
    "duration": 12,
    "start_time": "2022-06-24T13:21:14.251Z"
   },
   {
    "duration": 12,
    "start_time": "2022-06-24T13:21:14.266Z"
   },
   {
    "duration": 8,
    "start_time": "2022-06-24T13:21:14.281Z"
   },
   {
    "duration": 7,
    "start_time": "2022-06-24T13:21:14.291Z"
   },
   {
    "duration": 80,
    "start_time": "2022-06-24T13:21:14.300Z"
   },
   {
    "duration": 973,
    "start_time": "2022-06-24T13:21:14.383Z"
   },
   {
    "duration": 984,
    "start_time": "2022-06-24T13:21:15.358Z"
   },
   {
    "duration": 95,
    "start_time": "2022-06-24T13:21:16.347Z"
   },
   {
    "duration": 2299,
    "start_time": "2022-06-24T13:21:16.444Z"
   },
   {
    "duration": 1097,
    "start_time": "2022-06-24T13:21:18.745Z"
   },
   {
    "duration": 5,
    "start_time": "2022-06-24T13:21:19.847Z"
   },
   {
    "duration": 30,
    "start_time": "2022-06-24T13:21:19.854Z"
   },
   {
    "duration": 8,
    "start_time": "2022-06-24T13:21:19.886Z"
   },
   {
    "duration": 7,
    "start_time": "2022-06-24T13:21:19.896Z"
   },
   {
    "duration": 2983,
    "start_time": "2022-06-24T13:21:19.905Z"
   },
   {
    "duration": 1316,
    "start_time": "2022-06-24T13:21:22.941Z"
   },
   {
    "duration": 487,
    "start_time": "2022-06-24T13:21:24.259Z"
   },
   {
    "duration": 6,
    "start_time": "2022-06-24T13:21:24.748Z"
   },
   {
    "duration": 204,
    "start_time": "2022-06-24T13:21:24.842Z"
   },
   {
    "duration": 191,
    "start_time": "2022-06-24T13:21:25.048Z"
   },
   {
    "duration": 432,
    "start_time": "2022-06-24T13:21:25.242Z"
   },
   {
    "duration": 185,
    "start_time": "2022-06-24T13:21:25.676Z"
   },
   {
    "duration": 214,
    "start_time": "2022-06-24T13:21:25.863Z"
   },
   {
    "duration": 318,
    "start_time": "2022-06-24T13:21:26.079Z"
   },
   {
    "duration": 47,
    "start_time": "2022-06-24T13:21:26.398Z"
   },
   {
    "duration": 49,
    "start_time": "2022-06-24T13:21:26.447Z"
   },
   {
    "duration": 152,
    "start_time": "2022-06-24T13:21:26.498Z"
   },
   {
    "duration": 92,
    "start_time": "2022-06-24T13:21:26.652Z"
   },
   {
    "duration": 382,
    "start_time": "2022-06-27T06:34:51.390Z"
   },
   {
    "duration": 1660,
    "start_time": "2022-06-27T06:34:51.774Z"
   },
   {
    "duration": 85,
    "start_time": "2022-06-27T06:34:53.443Z"
   },
   {
    "duration": 13,
    "start_time": "2022-06-27T06:34:53.540Z"
   },
   {
    "duration": 8,
    "start_time": "2022-06-27T06:34:53.555Z"
   },
   {
    "duration": 8,
    "start_time": "2022-06-27T06:34:53.565Z"
   },
   {
    "duration": 60,
    "start_time": "2022-06-27T06:34:53.574Z"
   },
   {
    "duration": 18,
    "start_time": "2022-06-27T06:34:53.635Z"
   },
   {
    "duration": 8,
    "start_time": "2022-06-27T06:34:53.655Z"
   },
   {
    "duration": 9,
    "start_time": "2022-06-27T06:34:53.665Z"
   },
   {
    "duration": 6,
    "start_time": "2022-06-27T06:34:53.676Z"
   },
   {
    "duration": 57,
    "start_time": "2022-06-27T06:34:53.684Z"
   },
   {
    "duration": 21,
    "start_time": "2022-06-27T06:34:53.743Z"
   },
   {
    "duration": 3,
    "start_time": "2022-06-27T06:34:53.766Z"
   },
   {
    "duration": 70,
    "start_time": "2022-06-27T06:34:53.770Z"
   },
   {
    "duration": 18,
    "start_time": "2022-06-27T06:34:53.842Z"
   },
   {
    "duration": 15,
    "start_time": "2022-06-27T06:34:53.861Z"
   },
   {
    "duration": 50,
    "start_time": "2022-06-27T06:34:53.878Z"
   },
   {
    "duration": 26,
    "start_time": "2022-06-27T06:34:53.930Z"
   },
   {
    "duration": 7,
    "start_time": "2022-06-27T06:34:53.958Z"
   },
   {
    "duration": 5,
    "start_time": "2022-06-27T06:34:53.967Z"
   },
   {
    "duration": 158,
    "start_time": "2022-06-27T06:34:53.973Z"
   },
   {
    "duration": 1234,
    "start_time": "2022-06-27T06:34:54.133Z"
   },
   {
    "duration": 477,
    "start_time": "2022-06-27T06:34:55.368Z"
   },
   {
    "duration": 80,
    "start_time": "2022-06-27T06:34:55.849Z"
   },
   {
    "duration": 2139,
    "start_time": "2022-06-27T06:34:55.933Z"
   },
   {
    "duration": 1303,
    "start_time": "2022-06-27T06:34:58.074Z"
   },
   {
    "duration": 4,
    "start_time": "2022-06-27T06:34:59.380Z"
   },
   {
    "duration": 9,
    "start_time": "2022-06-27T06:34:59.385Z"
   },
   {
    "duration": 6,
    "start_time": "2022-06-27T06:34:59.395Z"
   },
   {
    "duration": 6,
    "start_time": "2022-06-27T06:34:59.403Z"
   },
   {
    "duration": 2013,
    "start_time": "2022-06-27T06:34:59.426Z"
   },
   {
    "duration": 1074,
    "start_time": "2022-06-27T06:35:01.441Z"
   },
   {
    "duration": 235,
    "start_time": "2022-06-27T06:35:02.517Z"
   },
   {
    "duration": 9,
    "start_time": "2022-06-27T06:35:02.829Z"
   },
   {
    "duration": 253,
    "start_time": "2022-06-27T06:35:02.846Z"
   },
   {
    "duration": 177,
    "start_time": "2022-06-27T06:35:03.101Z"
   },
   {
    "duration": 387,
    "start_time": "2022-06-27T06:35:03.280Z"
   },
   {
    "duration": 200,
    "start_time": "2022-06-27T06:35:03.669Z"
   },
   {
    "duration": 211,
    "start_time": "2022-06-27T06:35:03.871Z"
   },
   {
    "duration": 307,
    "start_time": "2022-06-27T06:35:04.084Z"
   },
   {
    "duration": 42,
    "start_time": "2022-06-27T06:35:04.393Z"
   },
   {
    "duration": 50,
    "start_time": "2022-06-27T06:35:04.438Z"
   },
   {
    "duration": 848,
    "start_time": "2022-06-27T06:35:04.490Z"
   },
   {
    "duration": 6,
    "start_time": "2022-06-27T06:35:05.341Z"
   },
   {
    "duration": 4026,
    "start_time": "2022-06-27T06:35:12.883Z"
   },
   {
    "duration": 3596,
    "start_time": "2022-06-27T06:35:29.967Z"
   },
   {
    "duration": 3621,
    "start_time": "2022-06-27T06:36:15.311Z"
   },
   {
    "duration": 4257,
    "start_time": "2022-06-27T06:36:46.342Z"
   },
   {
    "duration": 12699,
    "start_time": "2022-06-27T06:36:57.743Z"
   },
   {
    "duration": 10033,
    "start_time": "2022-06-27T06:37:46.515Z"
   },
   {
    "duration": 3912,
    "start_time": "2022-06-27T06:38:06.945Z"
   },
   {
    "duration": 5051,
    "start_time": "2022-06-27T06:38:15.117Z"
   },
   {
    "duration": 6155,
    "start_time": "2022-06-27T06:38:33.659Z"
   },
   {
    "duration": 18516,
    "start_time": "2022-06-27T06:38:48.494Z"
   },
   {
    "duration": 31,
    "start_time": "2022-06-27T06:39:56.253Z"
   },
   {
    "duration": 28401,
    "start_time": "2022-06-27T06:40:03.178Z"
   },
   {
    "duration": 15670,
    "start_time": "2022-06-27T06:40:48.714Z"
   },
   {
    "duration": 4,
    "start_time": "2022-06-27T06:45:31.463Z"
   },
   {
    "duration": 3,
    "start_time": "2022-06-27T06:46:41.043Z"
   },
   {
    "duration": 4,
    "start_time": "2022-06-27T06:46:43.690Z"
   },
   {
    "duration": 410,
    "start_time": "2022-06-27T06:46:51.834Z"
   },
   {
    "duration": 957,
    "start_time": "2022-06-27T06:46:52.246Z"
   },
   {
    "duration": 36,
    "start_time": "2022-06-27T06:46:53.205Z"
   },
   {
    "duration": 21,
    "start_time": "2022-06-27T06:46:53.245Z"
   },
   {
    "duration": 13,
    "start_time": "2022-06-27T06:46:53.268Z"
   },
   {
    "duration": 11,
    "start_time": "2022-06-27T06:46:53.283Z"
   },
   {
    "duration": 16,
    "start_time": "2022-06-27T06:46:53.295Z"
   },
   {
    "duration": 4,
    "start_time": "2022-06-27T06:46:53.313Z"
   },
   {
    "duration": 12,
    "start_time": "2022-06-27T06:46:53.319Z"
   },
   {
    "duration": 12,
    "start_time": "2022-06-27T06:46:53.337Z"
   },
   {
    "duration": 9,
    "start_time": "2022-06-27T06:46:53.351Z"
   },
   {
    "duration": 15,
    "start_time": "2022-06-27T06:46:53.361Z"
   },
   {
    "duration": 23,
    "start_time": "2022-06-27T06:46:53.377Z"
   },
   {
    "duration": 2,
    "start_time": "2022-06-27T06:46:53.402Z"
   },
   {
    "duration": 14,
    "start_time": "2022-06-27T06:46:53.406Z"
   },
   {
    "duration": 19,
    "start_time": "2022-06-27T06:46:53.427Z"
   },
   {
    "duration": 6,
    "start_time": "2022-06-27T06:46:53.448Z"
   },
   {
    "duration": 11,
    "start_time": "2022-06-27T06:46:53.456Z"
   },
   {
    "duration": 11,
    "start_time": "2022-06-27T06:46:53.468Z"
   },
   {
    "duration": 5,
    "start_time": "2022-06-27T06:46:53.481Z"
   },
   {
    "duration": 4,
    "start_time": "2022-06-27T06:46:53.488Z"
   },
   {
    "duration": 82,
    "start_time": "2022-06-27T06:46:53.493Z"
   },
   {
    "duration": 926,
    "start_time": "2022-06-27T06:46:53.577Z"
   },
   {
    "duration": 227,
    "start_time": "2022-06-27T06:46:54.504Z"
   },
   {
    "duration": 3,
    "start_time": "2022-06-27T06:46:54.734Z"
   },
   {
    "duration": 2271,
    "start_time": "2022-06-27T06:46:54.742Z"
   },
   {
    "duration": 18300,
    "start_time": "2022-06-27T06:46:57.015Z"
   },
   {
    "duration": 4,
    "start_time": "2022-06-27T06:47:15.318Z"
   },
   {
    "duration": 13,
    "start_time": "2022-06-27T06:47:15.328Z"
   },
   {
    "duration": 7,
    "start_time": "2022-06-27T06:47:15.343Z"
   },
   {
    "duration": 9,
    "start_time": "2022-06-27T06:47:15.352Z"
   },
   {
    "duration": 2215,
    "start_time": "2022-06-27T06:47:15.363Z"
   },
   {
    "duration": 1030,
    "start_time": "2022-06-27T06:47:17.580Z"
   },
   {
    "duration": 236,
    "start_time": "2022-06-27T06:47:18.611Z"
   },
   {
    "duration": 5,
    "start_time": "2022-06-27T06:47:18.928Z"
   },
   {
    "duration": 257,
    "start_time": "2022-06-27T06:47:18.935Z"
   },
   {
    "duration": 166,
    "start_time": "2022-06-27T06:47:19.194Z"
   },
   {
    "duration": 400,
    "start_time": "2022-06-27T06:47:19.362Z"
   },
   {
    "duration": 167,
    "start_time": "2022-06-27T06:47:19.763Z"
   },
   {
    "duration": 178,
    "start_time": "2022-06-27T06:47:19.933Z"
   },
   {
    "duration": 396,
    "start_time": "2022-06-27T06:47:20.113Z"
   },
   {
    "duration": 41,
    "start_time": "2022-06-27T06:47:20.510Z"
   },
   {
    "duration": 40,
    "start_time": "2022-06-27T06:47:20.553Z"
   },
   {
    "duration": 245,
    "start_time": "2022-06-27T06:47:20.594Z"
   },
   {
    "duration": 94,
    "start_time": "2022-06-27T06:47:20.844Z"
   },
   {
    "duration": 3,
    "start_time": "2022-06-27T06:52:42.066Z"
   },
   {
    "duration": 120,
    "start_time": "2022-06-27T06:52:44.325Z"
   },
   {
    "duration": 10,
    "start_time": "2022-06-27T06:53:01.500Z"
   },
   {
    "duration": 22,
    "start_time": "2022-06-27T06:53:24.540Z"
   },
   {
    "duration": 4,
    "start_time": "2022-06-27T06:53:30.691Z"
   },
   {
    "duration": 23,
    "start_time": "2022-06-27T06:53:31.440Z"
   },
   {
    "duration": 28,
    "start_time": "2022-06-27T06:53:39.660Z"
   },
   {
    "duration": 4,
    "start_time": "2022-06-27T06:53:49.917Z"
   },
   {
    "duration": 60,
    "start_time": "2022-06-27T06:53:50.606Z"
   },
   {
    "duration": 50,
    "start_time": "2022-06-27T06:54:05.745Z"
   },
   {
    "duration": 72,
    "start_time": "2022-06-27T07:10:30.656Z"
   },
   {
    "duration": 77,
    "start_time": "2022-06-27T07:10:55.664Z"
   },
   {
    "duration": 15,
    "start_time": "2022-06-27T07:11:43.342Z"
   },
   {
    "duration": 338,
    "start_time": "2022-06-27T07:12:06.500Z"
   },
   {
    "duration": 40,
    "start_time": "2022-06-27T07:14:15.849Z"
   },
   {
    "duration": 424,
    "start_time": "2022-06-27T07:14:16.703Z"
   },
   {
    "duration": 30,
    "start_time": "2022-06-27T07:16:37.619Z"
   },
   {
    "duration": 49,
    "start_time": "2022-06-27T07:16:45.957Z"
   },
   {
    "duration": 14,
    "start_time": "2022-06-27T07:17:12.836Z"
   },
   {
    "duration": 45,
    "start_time": "2022-06-27T07:17:13.524Z"
   },
   {
    "duration": 271,
    "start_time": "2022-06-27T07:17:14.764Z"
   },
   {
    "duration": 42,
    "start_time": "2022-06-27T07:18:40.674Z"
   },
   {
    "duration": 58,
    "start_time": "2022-06-27T07:18:41.320Z"
   },
   {
    "duration": 899,
    "start_time": "2022-06-27T07:18:41.832Z"
   },
   {
    "duration": 42,
    "start_time": "2022-06-27T07:19:45.727Z"
   },
   {
    "duration": 49,
    "start_time": "2022-06-27T07:19:57.577Z"
   },
   {
    "duration": 66,
    "start_time": "2022-06-27T07:20:02.444Z"
   },
   {
    "duration": 40,
    "start_time": "2022-06-27T07:20:35.685Z"
   },
   {
    "duration": 70,
    "start_time": "2022-06-27T07:23:47.421Z"
   },
   {
    "duration": 15,
    "start_time": "2022-06-27T07:24:09.876Z"
   },
   {
    "duration": 14,
    "start_time": "2022-06-27T07:24:39.649Z"
   },
   {
    "duration": 14,
    "start_time": "2022-06-27T07:24:46.849Z"
   },
   {
    "duration": 416,
    "start_time": "2022-06-27T07:28:29.043Z"
   },
   {
    "duration": 919,
    "start_time": "2022-06-27T07:28:29.461Z"
   },
   {
    "duration": 30,
    "start_time": "2022-06-27T07:28:30.382Z"
   },
   {
    "duration": 13,
    "start_time": "2022-06-27T07:28:30.414Z"
   },
   {
    "duration": 22,
    "start_time": "2022-06-27T07:28:30.429Z"
   },
   {
    "duration": 39,
    "start_time": "2022-06-27T07:28:30.452Z"
   },
   {
    "duration": 76,
    "start_time": "2022-06-27T07:28:30.492Z"
   },
   {
    "duration": 32,
    "start_time": "2022-06-27T07:28:30.569Z"
   },
   {
    "duration": 28,
    "start_time": "2022-06-27T07:28:30.603Z"
   },
   {
    "duration": 38,
    "start_time": "2022-06-27T07:28:30.634Z"
   },
   {
    "duration": 13,
    "start_time": "2022-06-27T07:28:30.674Z"
   },
   {
    "duration": 31,
    "start_time": "2022-06-27T07:28:30.689Z"
   },
   {
    "duration": 33,
    "start_time": "2022-06-27T07:28:30.722Z"
   },
   {
    "duration": 4,
    "start_time": "2022-06-27T07:28:30.756Z"
   },
   {
    "duration": 24,
    "start_time": "2022-06-27T07:28:30.763Z"
   },
   {
    "duration": 11,
    "start_time": "2022-06-27T07:28:30.790Z"
   },
   {
    "duration": 11,
    "start_time": "2022-06-27T07:28:30.803Z"
   },
   {
    "duration": 15,
    "start_time": "2022-06-27T07:28:30.816Z"
   },
   {
    "duration": 17,
    "start_time": "2022-06-27T07:28:30.833Z"
   },
   {
    "duration": 7,
    "start_time": "2022-06-27T07:28:30.852Z"
   },
   {
    "duration": 17,
    "start_time": "2022-06-27T07:28:30.861Z"
   },
   {
    "duration": 102,
    "start_time": "2022-06-27T07:28:30.880Z"
   },
   {
    "duration": 866,
    "start_time": "2022-06-27T07:28:30.983Z"
   },
   {
    "duration": 285,
    "start_time": "2022-06-27T07:28:31.851Z"
   },
   {
    "duration": 92,
    "start_time": "2022-06-27T07:28:32.138Z"
   },
   {
    "duration": 2082,
    "start_time": "2022-06-27T07:28:32.232Z"
   },
   {
    "duration": 15905,
    "start_time": "2022-06-27T07:28:34.316Z"
   },
   {
    "duration": 6,
    "start_time": "2022-06-27T07:28:50.224Z"
   },
   {
    "duration": 9,
    "start_time": "2022-06-27T07:28:50.232Z"
   },
   {
    "duration": 7,
    "start_time": "2022-06-27T07:28:50.242Z"
   },
   {
    "duration": 7,
    "start_time": "2022-06-27T07:28:50.251Z"
   },
   {
    "duration": 2069,
    "start_time": "2022-06-27T07:28:50.260Z"
   },
   {
    "duration": 1071,
    "start_time": "2022-06-27T07:28:52.331Z"
   },
   {
    "duration": 236,
    "start_time": "2022-06-27T07:28:53.403Z"
   },
   {
    "duration": 90,
    "start_time": "2022-06-27T07:28:53.641Z"
   },
   {
    "duration": 105,
    "start_time": "2022-06-27T07:28:53.734Z"
   },
   {
    "duration": 11,
    "start_time": "2022-06-27T07:28:53.840Z"
   },
   {
    "duration": 12,
    "start_time": "2022-06-27T07:28:53.854Z"
   },
   {
    "duration": 9,
    "start_time": "2022-06-27T07:28:53.868Z"
   },
   {
    "duration": 127,
    "start_time": "2022-06-27T07:28:53.879Z"
   },
   {
    "duration": 0,
    "start_time": "2022-06-27T07:28:54.008Z"
   },
   {
    "duration": 0,
    "start_time": "2022-06-27T07:28:54.009Z"
   },
   {
    "duration": 0,
    "start_time": "2022-06-27T07:28:54.010Z"
   },
   {
    "duration": 0,
    "start_time": "2022-06-27T07:28:54.011Z"
   },
   {
    "duration": 0,
    "start_time": "2022-06-27T07:28:54.012Z"
   },
   {
    "duration": 0,
    "start_time": "2022-06-27T07:28:54.013Z"
   },
   {
    "duration": 0,
    "start_time": "2022-06-27T07:28:54.014Z"
   },
   {
    "duration": 0,
    "start_time": "2022-06-27T07:28:54.015Z"
   },
   {
    "duration": 0,
    "start_time": "2022-06-27T07:28:54.016Z"
   },
   {
    "duration": 0,
    "start_time": "2022-06-27T07:28:54.017Z"
   },
   {
    "duration": 97,
    "start_time": "2022-06-27T07:29:27.130Z"
   },
   {
    "duration": 195,
    "start_time": "2022-06-27T07:29:35.443Z"
   },
   {
    "duration": 14,
    "start_time": "2022-06-27T07:30:58.449Z"
   },
   {
    "duration": 112,
    "start_time": "2022-06-27T07:31:02.820Z"
   },
   {
    "duration": 189,
    "start_time": "2022-06-27T07:31:08.344Z"
   },
   {
    "duration": 142,
    "start_time": "2022-06-27T07:31:12.790Z"
   },
   {
    "duration": 364,
    "start_time": "2022-06-27T07:32:35.682Z"
   },
   {
    "duration": 969,
    "start_time": "2022-06-27T07:32:36.048Z"
   },
   {
    "duration": 29,
    "start_time": "2022-06-27T07:32:37.018Z"
   },
   {
    "duration": 13,
    "start_time": "2022-06-27T07:32:37.049Z"
   },
   {
    "duration": 4,
    "start_time": "2022-06-27T07:32:37.064Z"
   },
   {
    "duration": 7,
    "start_time": "2022-06-27T07:32:37.070Z"
   },
   {
    "duration": 8,
    "start_time": "2022-06-27T07:32:37.079Z"
   },
   {
    "duration": 4,
    "start_time": "2022-06-27T07:32:37.088Z"
   },
   {
    "duration": 7,
    "start_time": "2022-06-27T07:32:37.094Z"
   },
   {
    "duration": 24,
    "start_time": "2022-06-27T07:32:37.103Z"
   },
   {
    "duration": 7,
    "start_time": "2022-06-27T07:32:37.128Z"
   },
   {
    "duration": 12,
    "start_time": "2022-06-27T07:32:37.136Z"
   },
   {
    "duration": 20,
    "start_time": "2022-06-27T07:32:37.150Z"
   },
   {
    "duration": 4,
    "start_time": "2022-06-27T07:32:37.171Z"
   },
   {
    "duration": 13,
    "start_time": "2022-06-27T07:32:37.177Z"
   },
   {
    "duration": 42,
    "start_time": "2022-06-27T07:32:37.191Z"
   },
   {
    "duration": 5,
    "start_time": "2022-06-27T07:32:37.235Z"
   },
   {
    "duration": 15,
    "start_time": "2022-06-27T07:32:37.242Z"
   },
   {
    "duration": 10,
    "start_time": "2022-06-27T07:32:37.259Z"
   },
   {
    "duration": 7,
    "start_time": "2022-06-27T07:32:37.271Z"
   },
   {
    "duration": 8,
    "start_time": "2022-06-27T07:32:37.280Z"
   },
   {
    "duration": 84,
    "start_time": "2022-06-27T07:32:37.290Z"
   },
   {
    "duration": 876,
    "start_time": "2022-06-27T07:32:37.376Z"
   },
   {
    "duration": 284,
    "start_time": "2022-06-27T07:32:38.254Z"
   },
   {
    "duration": 6,
    "start_time": "2022-06-27T07:32:38.629Z"
   },
   {
    "duration": 2033,
    "start_time": "2022-06-27T07:32:38.636Z"
   },
   {
    "duration": 14877,
    "start_time": "2022-06-27T07:32:40.671Z"
   },
   {
    "duration": 4,
    "start_time": "2022-06-27T07:32:55.552Z"
   },
   {
    "duration": 13,
    "start_time": "2022-06-27T07:32:55.557Z"
   },
   {
    "duration": 6,
    "start_time": "2022-06-27T07:32:55.571Z"
   },
   {
    "duration": 6,
    "start_time": "2022-06-27T07:32:55.579Z"
   },
   {
    "duration": 1972,
    "start_time": "2022-06-27T07:32:55.586Z"
   },
   {
    "duration": 986,
    "start_time": "2022-06-27T07:32:57.559Z"
   },
   {
    "duration": 284,
    "start_time": "2022-06-27T07:32:58.547Z"
   },
   {
    "duration": 95,
    "start_time": "2022-06-27T07:32:58.833Z"
   },
   {
    "duration": 14,
    "start_time": "2022-06-27T07:32:58.930Z"
   },
   {
    "duration": 38,
    "start_time": "2022-06-27T07:32:58.946Z"
   },
   {
    "duration": 71,
    "start_time": "2022-06-27T07:32:58.986Z"
   },
   {
    "duration": 373,
    "start_time": "2022-06-27T07:32:59.059Z"
   },
   {
    "duration": 327,
    "start_time": "2022-06-27T07:32:59.435Z"
   },
   {
    "duration": 150,
    "start_time": "2022-06-27T07:32:59.764Z"
   },
   {
    "duration": 435,
    "start_time": "2022-06-27T07:32:59.916Z"
   },
   {
    "duration": 163,
    "start_time": "2022-06-27T07:33:00.353Z"
   },
   {
    "duration": 176,
    "start_time": "2022-06-27T07:33:00.518Z"
   },
   {
    "duration": 397,
    "start_time": "2022-06-27T07:33:00.696Z"
   },
   {
    "duration": 40,
    "start_time": "2022-06-27T07:33:01.095Z"
   },
   {
    "duration": 44,
    "start_time": "2022-06-27T07:33:01.137Z"
   },
   {
    "duration": 349,
    "start_time": "2022-06-27T07:33:01.183Z"
   },
   {
    "duration": 95,
    "start_time": "2022-06-27T07:33:01.534Z"
   },
   {
    "duration": 5,
    "start_time": "2022-06-27T08:46:03.797Z"
   },
   {
    "duration": 4,
    "start_time": "2022-06-27T08:46:45.444Z"
   },
   {
    "duration": 402,
    "start_time": "2022-06-27T12:41:42.986Z"
   },
   {
    "duration": 1111,
    "start_time": "2022-06-27T12:41:43.390Z"
   },
   {
    "duration": 56,
    "start_time": "2022-06-27T12:41:44.504Z"
   },
   {
    "duration": 14,
    "start_time": "2022-06-27T12:41:44.562Z"
   },
   {
    "duration": 5,
    "start_time": "2022-06-27T12:41:44.577Z"
   },
   {
    "duration": 7,
    "start_time": "2022-06-27T12:41:44.584Z"
   },
   {
    "duration": 11,
    "start_time": "2022-06-27T12:41:44.593Z"
   },
   {
    "duration": 13,
    "start_time": "2022-06-27T12:41:44.605Z"
   },
   {
    "duration": 8,
    "start_time": "2022-06-27T12:41:44.620Z"
   },
   {
    "duration": 9,
    "start_time": "2022-06-27T12:41:44.631Z"
   },
   {
    "duration": 8,
    "start_time": "2022-06-27T12:41:44.641Z"
   },
   {
    "duration": 14,
    "start_time": "2022-06-27T12:41:44.651Z"
   },
   {
    "duration": 21,
    "start_time": "2022-06-27T12:41:44.666Z"
   },
   {
    "duration": 3,
    "start_time": "2022-06-27T12:41:44.689Z"
   },
   {
    "duration": 37,
    "start_time": "2022-06-27T12:41:44.693Z"
   },
   {
    "duration": 12,
    "start_time": "2022-06-27T12:41:44.732Z"
   },
   {
    "duration": 8,
    "start_time": "2022-06-27T12:41:44.745Z"
   },
   {
    "duration": 9,
    "start_time": "2022-06-27T12:41:44.755Z"
   },
   {
    "duration": 9,
    "start_time": "2022-06-27T12:41:44.766Z"
   },
   {
    "duration": 8,
    "start_time": "2022-06-27T12:41:44.777Z"
   },
   {
    "duration": 8,
    "start_time": "2022-06-27T12:41:44.786Z"
   },
   {
    "duration": 70,
    "start_time": "2022-06-27T12:41:44.795Z"
   },
   {
    "duration": 755,
    "start_time": "2022-06-27T12:41:44.867Z"
   },
   {
    "duration": 609,
    "start_time": "2022-06-27T12:41:45.624Z"
   },
   {
    "duration": 93,
    "start_time": "2022-06-27T12:41:46.235Z"
   },
   {
    "duration": 1458,
    "start_time": "2022-06-27T12:41:46.334Z"
   },
   {
    "duration": 13475,
    "start_time": "2022-06-27T12:41:47.794Z"
   },
   {
    "duration": 4,
    "start_time": "2022-06-27T12:42:01.272Z"
   },
   {
    "duration": 26,
    "start_time": "2022-06-27T12:42:01.278Z"
   },
   {
    "duration": 26,
    "start_time": "2022-06-27T12:42:01.306Z"
   },
   {
    "duration": 17,
    "start_time": "2022-06-27T12:42:01.334Z"
   },
   {
    "duration": 1488,
    "start_time": "2022-06-27T12:42:01.353Z"
   },
   {
    "duration": 966,
    "start_time": "2022-06-27T12:42:02.842Z"
   },
   {
    "duration": 619,
    "start_time": "2022-06-27T12:42:03.810Z"
   },
   {
    "duration": 94,
    "start_time": "2022-06-27T12:42:04.432Z"
   },
   {
    "duration": 14,
    "start_time": "2022-06-27T12:42:04.528Z"
   },
   {
    "duration": 30,
    "start_time": "2022-06-27T12:42:04.543Z"
   },
   {
    "duration": 77,
    "start_time": "2022-06-27T12:42:04.575Z"
   },
   {
    "duration": 874,
    "start_time": "2022-06-27T12:42:04.654Z"
   },
   {
    "duration": 242,
    "start_time": "2022-06-27T12:42:05.530Z"
   },
   {
    "duration": 154,
    "start_time": "2022-06-27T12:42:05.774Z"
   },
   {
    "duration": 657,
    "start_time": "2022-06-27T12:42:05.930Z"
   },
   {
    "duration": 157,
    "start_time": "2022-06-27T12:42:06.589Z"
   },
   {
    "duration": 169,
    "start_time": "2022-06-27T12:42:06.747Z"
   },
   {
    "duration": 428,
    "start_time": "2022-06-27T12:42:06.918Z"
   },
   {
    "duration": 5,
    "start_time": "2022-06-27T12:42:07.348Z"
   },
   {
    "duration": 15,
    "start_time": "2022-06-27T12:42:07.355Z"
   },
   {
    "duration": 31,
    "start_time": "2022-06-27T12:42:07.371Z"
   },
   {
    "duration": 51,
    "start_time": "2022-06-27T12:42:07.404Z"
   },
   {
    "duration": 971,
    "start_time": "2022-06-27T12:42:07.457Z"
   },
   {
    "duration": 5,
    "start_time": "2022-06-27T12:42:08.430Z"
   },
   {
    "duration": 421,
    "start_time": "2022-06-27T12:46:49.207Z"
   },
   {
    "duration": 921,
    "start_time": "2022-06-27T12:46:49.630Z"
   },
   {
    "duration": 28,
    "start_time": "2022-06-27T12:46:50.553Z"
   },
   {
    "duration": 14,
    "start_time": "2022-06-27T12:46:50.583Z"
   },
   {
    "duration": 4,
    "start_time": "2022-06-27T12:46:50.598Z"
   },
   {
    "duration": 13,
    "start_time": "2022-06-27T12:46:50.603Z"
   },
   {
    "duration": 15,
    "start_time": "2022-06-27T12:46:50.618Z"
   },
   {
    "duration": 7,
    "start_time": "2022-06-27T12:46:50.634Z"
   },
   {
    "duration": 6,
    "start_time": "2022-06-27T12:46:50.643Z"
   },
   {
    "duration": 5,
    "start_time": "2022-06-27T12:46:50.652Z"
   },
   {
    "duration": 8,
    "start_time": "2022-06-27T12:46:50.658Z"
   },
   {
    "duration": 121,
    "start_time": "2022-06-27T12:46:50.667Z"
   },
   {
    "duration": 0,
    "start_time": "2022-06-27T12:46:50.790Z"
   },
   {
    "duration": 0,
    "start_time": "2022-06-27T12:46:50.792Z"
   },
   {
    "duration": 0,
    "start_time": "2022-06-27T12:46:50.793Z"
   },
   {
    "duration": 0,
    "start_time": "2022-06-27T12:46:50.794Z"
   },
   {
    "duration": 0,
    "start_time": "2022-06-27T12:46:50.795Z"
   },
   {
    "duration": 0,
    "start_time": "2022-06-27T12:46:50.796Z"
   },
   {
    "duration": 0,
    "start_time": "2022-06-27T12:46:50.798Z"
   },
   {
    "duration": 0,
    "start_time": "2022-06-27T12:46:50.799Z"
   },
   {
    "duration": 0,
    "start_time": "2022-06-27T12:46:50.800Z"
   },
   {
    "duration": 0,
    "start_time": "2022-06-27T12:46:50.801Z"
   },
   {
    "duration": 0,
    "start_time": "2022-06-27T12:46:50.802Z"
   },
   {
    "duration": 0,
    "start_time": "2022-06-27T12:46:50.803Z"
   },
   {
    "duration": 0,
    "start_time": "2022-06-27T12:46:50.827Z"
   },
   {
    "duration": 0,
    "start_time": "2022-06-27T12:46:50.828Z"
   },
   {
    "duration": 0,
    "start_time": "2022-06-27T12:46:50.830Z"
   },
   {
    "duration": 0,
    "start_time": "2022-06-27T12:46:50.831Z"
   },
   {
    "duration": 1,
    "start_time": "2022-06-27T12:46:50.831Z"
   },
   {
    "duration": 0,
    "start_time": "2022-06-27T12:46:50.832Z"
   },
   {
    "duration": 0,
    "start_time": "2022-06-27T12:46:50.834Z"
   },
   {
    "duration": 0,
    "start_time": "2022-06-27T12:46:50.835Z"
   },
   {
    "duration": 0,
    "start_time": "2022-06-27T12:46:50.836Z"
   },
   {
    "duration": 0,
    "start_time": "2022-06-27T12:46:50.837Z"
   },
   {
    "duration": 0,
    "start_time": "2022-06-27T12:46:50.838Z"
   },
   {
    "duration": 0,
    "start_time": "2022-06-27T12:46:50.839Z"
   },
   {
    "duration": 0,
    "start_time": "2022-06-27T12:46:50.840Z"
   },
   {
    "duration": 0,
    "start_time": "2022-06-27T12:46:50.841Z"
   },
   {
    "duration": 0,
    "start_time": "2022-06-27T12:46:50.842Z"
   },
   {
    "duration": 0,
    "start_time": "2022-06-27T12:46:50.843Z"
   },
   {
    "duration": 0,
    "start_time": "2022-06-27T12:46:50.845Z"
   },
   {
    "duration": 0,
    "start_time": "2022-06-27T12:46:50.846Z"
   },
   {
    "duration": 0,
    "start_time": "2022-06-27T12:46:50.847Z"
   },
   {
    "duration": 0,
    "start_time": "2022-06-27T12:46:50.848Z"
   },
   {
    "duration": 0,
    "start_time": "2022-06-27T12:46:50.849Z"
   },
   {
    "duration": 0,
    "start_time": "2022-06-27T12:46:50.850Z"
   },
   {
    "duration": 0,
    "start_time": "2022-06-27T12:46:50.851Z"
   },
   {
    "duration": 0,
    "start_time": "2022-06-27T12:46:50.853Z"
   },
   {
    "duration": 0,
    "start_time": "2022-06-27T12:46:50.854Z"
   },
   {
    "duration": 0,
    "start_time": "2022-06-27T12:46:50.855Z"
   },
   {
    "duration": 0,
    "start_time": "2022-06-27T12:46:50.855Z"
   },
   {
    "duration": 14,
    "start_time": "2022-06-27T12:47:18.748Z"
   },
   {
    "duration": 10,
    "start_time": "2022-06-27T12:47:24.269Z"
   },
   {
    "duration": 449,
    "start_time": "2022-06-27T12:47:31.419Z"
   },
   {
    "duration": 1479,
    "start_time": "2022-06-27T12:47:31.870Z"
   },
   {
    "duration": 78,
    "start_time": "2022-06-27T12:47:33.351Z"
   },
   {
    "duration": 13,
    "start_time": "2022-06-27T12:47:33.431Z"
   },
   {
    "duration": 30,
    "start_time": "2022-06-27T12:47:33.446Z"
   },
   {
    "duration": 51,
    "start_time": "2022-06-27T12:47:33.478Z"
   },
   {
    "duration": 30,
    "start_time": "2022-06-27T12:47:33.530Z"
   },
   {
    "duration": 65,
    "start_time": "2022-06-27T12:47:33.562Z"
   },
   {
    "duration": 55,
    "start_time": "2022-06-27T12:47:33.629Z"
   },
   {
    "duration": 43,
    "start_time": "2022-06-27T12:47:33.687Z"
   },
   {
    "duration": 73,
    "start_time": "2022-06-27T12:47:33.733Z"
   },
   {
    "duration": 59,
    "start_time": "2022-06-27T12:47:33.808Z"
   },
   {
    "duration": 71,
    "start_time": "2022-06-27T12:47:33.869Z"
   },
   {
    "duration": 27,
    "start_time": "2022-06-27T12:47:33.941Z"
   },
   {
    "duration": 64,
    "start_time": "2022-06-27T12:47:33.970Z"
   },
   {
    "duration": 9,
    "start_time": "2022-06-27T12:47:34.036Z"
   },
   {
    "duration": 44,
    "start_time": "2022-06-27T12:47:34.047Z"
   },
   {
    "duration": 12,
    "start_time": "2022-06-27T12:47:34.128Z"
   },
   {
    "duration": 59,
    "start_time": "2022-06-27T12:47:34.142Z"
   },
   {
    "duration": 36,
    "start_time": "2022-06-27T12:47:34.227Z"
   },
   {
    "duration": 62,
    "start_time": "2022-06-27T12:47:34.265Z"
   },
   {
    "duration": 105,
    "start_time": "2022-06-27T12:47:34.329Z"
   },
   {
    "duration": 1017,
    "start_time": "2022-06-27T12:47:34.436Z"
   },
   {
    "duration": 776,
    "start_time": "2022-06-27T12:47:35.455Z"
   },
   {
    "duration": 6,
    "start_time": "2022-06-27T12:47:36.233Z"
   },
   {
    "duration": 1458,
    "start_time": "2022-06-27T12:47:36.241Z"
   },
   {
    "duration": 12322,
    "start_time": "2022-06-27T12:47:37.701Z"
   },
   {
    "duration": 3,
    "start_time": "2022-06-27T12:47:50.028Z"
   },
   {
    "duration": 10,
    "start_time": "2022-06-27T12:47:50.033Z"
   },
   {
    "duration": 12,
    "start_time": "2022-06-27T12:47:50.044Z"
   },
   {
    "duration": 10,
    "start_time": "2022-06-27T12:47:50.058Z"
   },
   {
    "duration": 1362,
    "start_time": "2022-06-27T12:47:50.069Z"
   },
   {
    "duration": 922,
    "start_time": "2022-06-27T12:47:51.433Z"
   },
   {
    "duration": 580,
    "start_time": "2022-06-27T12:47:52.357Z"
   },
   {
    "duration": 97,
    "start_time": "2022-06-27T12:47:53.030Z"
   },
   {
    "duration": 18,
    "start_time": "2022-06-27T12:47:53.129Z"
   },
   {
    "duration": 43,
    "start_time": "2022-06-27T12:47:53.148Z"
   },
   {
    "duration": 61,
    "start_time": "2022-06-27T12:47:53.193Z"
   },
   {
    "duration": 777,
    "start_time": "2022-06-27T12:47:53.257Z"
   },
   {
    "duration": 246,
    "start_time": "2022-06-27T12:47:54.127Z"
   },
   {
    "duration": 161,
    "start_time": "2022-06-27T12:47:54.375Z"
   },
   {
    "duration": 713,
    "start_time": "2022-06-27T12:47:54.538Z"
   },
   {
    "duration": 165,
    "start_time": "2022-06-27T12:47:55.253Z"
   },
   {
    "duration": 168,
    "start_time": "2022-06-27T12:47:55.419Z"
   },
   {
    "duration": 343,
    "start_time": "2022-06-27T12:47:55.589Z"
   },
   {
    "duration": 4,
    "start_time": "2022-06-27T12:47:55.934Z"
   },
   {
    "duration": 13,
    "start_time": "2022-06-27T12:47:55.939Z"
   },
   {
    "duration": 45,
    "start_time": "2022-06-27T12:47:55.954Z"
   },
   {
    "duration": 45,
    "start_time": "2022-06-27T12:47:56.001Z"
   },
   {
    "duration": 587,
    "start_time": "2022-06-27T12:47:56.047Z"
   },
   {
    "duration": 95,
    "start_time": "2022-06-27T12:47:56.637Z"
   },
   {
    "duration": 5,
    "start_time": "2022-06-27T12:50:16.847Z"
   },
   {
    "duration": 103,
    "start_time": "2022-06-27T12:51:00.692Z"
   },
   {
    "duration": 405,
    "start_time": "2022-06-27T12:51:22.849Z"
   },
   {
    "duration": 944,
    "start_time": "2022-06-27T12:51:23.256Z"
   },
   {
    "duration": 34,
    "start_time": "2022-06-27T12:51:24.205Z"
   },
   {
    "duration": 13,
    "start_time": "2022-06-27T12:51:24.241Z"
   },
   {
    "duration": 5,
    "start_time": "2022-06-27T12:51:24.255Z"
   },
   {
    "duration": 11,
    "start_time": "2022-06-27T12:51:24.261Z"
   },
   {
    "duration": 10,
    "start_time": "2022-06-27T12:51:24.274Z"
   },
   {
    "duration": 8,
    "start_time": "2022-06-27T12:51:24.285Z"
   },
   {
    "duration": 5,
    "start_time": "2022-06-27T12:51:24.295Z"
   },
   {
    "duration": 28,
    "start_time": "2022-06-27T12:51:24.302Z"
   },
   {
    "duration": 7,
    "start_time": "2022-06-27T12:51:24.331Z"
   },
   {
    "duration": 11,
    "start_time": "2022-06-27T12:51:24.340Z"
   },
   {
    "duration": 19,
    "start_time": "2022-06-27T12:51:24.352Z"
   },
   {
    "duration": 3,
    "start_time": "2022-06-27T12:51:24.373Z"
   },
   {
    "duration": 16,
    "start_time": "2022-06-27T12:51:24.377Z"
   },
   {
    "duration": 40,
    "start_time": "2022-06-27T12:51:24.395Z"
   },
   {
    "duration": 6,
    "start_time": "2022-06-27T12:51:24.437Z"
   },
   {
    "duration": 6,
    "start_time": "2022-06-27T12:51:24.445Z"
   },
   {
    "duration": 9,
    "start_time": "2022-06-27T12:51:24.453Z"
   },
   {
    "duration": 8,
    "start_time": "2022-06-27T12:51:24.463Z"
   },
   {
    "duration": 5,
    "start_time": "2022-06-27T12:51:24.472Z"
   },
   {
    "duration": 127,
    "start_time": "2022-06-27T12:51:24.478Z"
   },
   {
    "duration": 0,
    "start_time": "2022-06-27T12:51:24.607Z"
   },
   {
    "duration": 0,
    "start_time": "2022-06-27T12:51:24.609Z"
   },
   {
    "duration": 0,
    "start_time": "2022-06-27T12:51:24.610Z"
   },
   {
    "duration": 1,
    "start_time": "2022-06-27T12:51:24.611Z"
   },
   {
    "duration": 0,
    "start_time": "2022-06-27T12:51:24.613Z"
   },
   {
    "duration": 0,
    "start_time": "2022-06-27T12:51:24.614Z"
   },
   {
    "duration": 0,
    "start_time": "2022-06-27T12:51:24.627Z"
   },
   {
    "duration": 0,
    "start_time": "2022-06-27T12:51:24.629Z"
   },
   {
    "duration": 0,
    "start_time": "2022-06-27T12:51:24.630Z"
   },
   {
    "duration": 0,
    "start_time": "2022-06-27T12:51:24.632Z"
   },
   {
    "duration": 0,
    "start_time": "2022-06-27T12:51:24.633Z"
   },
   {
    "duration": 0,
    "start_time": "2022-06-27T12:51:24.635Z"
   },
   {
    "duration": 0,
    "start_time": "2022-06-27T12:51:24.636Z"
   },
   {
    "duration": 0,
    "start_time": "2022-06-27T12:51:24.638Z"
   },
   {
    "duration": 0,
    "start_time": "2022-06-27T12:51:24.640Z"
   },
   {
    "duration": 0,
    "start_time": "2022-06-27T12:51:24.641Z"
   },
   {
    "duration": 0,
    "start_time": "2022-06-27T12:51:24.643Z"
   },
   {
    "duration": 0,
    "start_time": "2022-06-27T12:51:24.644Z"
   },
   {
    "duration": 0,
    "start_time": "2022-06-27T12:51:24.645Z"
   },
   {
    "duration": 0,
    "start_time": "2022-06-27T12:51:24.647Z"
   },
   {
    "duration": 0,
    "start_time": "2022-06-27T12:51:24.649Z"
   },
   {
    "duration": 0,
    "start_time": "2022-06-27T12:51:24.650Z"
   },
   {
    "duration": 0,
    "start_time": "2022-06-27T12:51:24.651Z"
   },
   {
    "duration": 0,
    "start_time": "2022-06-27T12:51:24.653Z"
   },
   {
    "duration": 0,
    "start_time": "2022-06-27T12:51:24.654Z"
   },
   {
    "duration": 0,
    "start_time": "2022-06-27T12:51:24.655Z"
   },
   {
    "duration": 0,
    "start_time": "2022-06-27T12:51:24.657Z"
   },
   {
    "duration": 0,
    "start_time": "2022-06-27T12:51:24.658Z"
   },
   {
    "duration": 0,
    "start_time": "2022-06-27T12:51:24.659Z"
   },
   {
    "duration": 0,
    "start_time": "2022-06-27T12:51:24.660Z"
   },
   {
    "duration": 14,
    "start_time": "2022-06-27T12:51:49.217Z"
   },
   {
    "duration": 11,
    "start_time": "2022-06-27T12:52:43.633Z"
   },
   {
    "duration": 16,
    "start_time": "2022-06-27T12:54:21.204Z"
   },
   {
    "duration": 27,
    "start_time": "2022-06-27T12:54:46.490Z"
   },
   {
    "duration": 27,
    "start_time": "2022-06-27T12:54:57.850Z"
   },
   {
    "duration": 401,
    "start_time": "2022-06-27T12:57:11.061Z"
   },
   {
    "duration": 918,
    "start_time": "2022-06-27T12:57:11.464Z"
   },
   {
    "duration": 29,
    "start_time": "2022-06-27T12:57:12.383Z"
   },
   {
    "duration": 13,
    "start_time": "2022-06-27T12:57:12.414Z"
   },
   {
    "duration": 4,
    "start_time": "2022-06-27T12:57:12.428Z"
   },
   {
    "duration": 8,
    "start_time": "2022-06-27T12:57:12.434Z"
   },
   {
    "duration": 11,
    "start_time": "2022-06-27T12:57:12.443Z"
   },
   {
    "duration": 5,
    "start_time": "2022-06-27T12:57:12.456Z"
   },
   {
    "duration": 8,
    "start_time": "2022-06-27T12:57:12.462Z"
   },
   {
    "duration": 6,
    "start_time": "2022-06-27T12:57:12.473Z"
   },
   {
    "duration": 7,
    "start_time": "2022-06-27T12:57:12.480Z"
   },
   {
    "duration": 40,
    "start_time": "2022-06-27T12:57:12.489Z"
   },
   {
    "duration": 20,
    "start_time": "2022-06-27T12:57:12.531Z"
   },
   {
    "duration": 3,
    "start_time": "2022-06-27T12:57:12.553Z"
   },
   {
    "duration": 39,
    "start_time": "2022-06-27T12:57:12.558Z"
   },
   {
    "duration": 21,
    "start_time": "2022-06-27T12:57:12.599Z"
   },
   {
    "duration": 33,
    "start_time": "2022-06-27T12:57:12.622Z"
   },
   {
    "duration": 27,
    "start_time": "2022-06-27T12:57:12.657Z"
   },
   {
    "duration": 19,
    "start_time": "2022-06-27T12:57:12.685Z"
   },
   {
    "duration": 32,
    "start_time": "2022-06-27T12:57:12.706Z"
   },
   {
    "duration": 10,
    "start_time": "2022-06-27T12:57:12.740Z"
   },
   {
    "duration": 60,
    "start_time": "2022-06-27T12:57:12.752Z"
   },
   {
    "duration": 37,
    "start_time": "2022-06-27T12:57:12.814Z"
   },
   {
    "duration": 714,
    "start_time": "2022-06-27T12:57:12.853Z"
   },
   {
    "duration": 265,
    "start_time": "2022-06-27T12:57:13.569Z"
   },
   {
    "duration": 94,
    "start_time": "2022-06-27T12:57:13.836Z"
   },
   {
    "duration": 1571,
    "start_time": "2022-06-27T12:57:13.933Z"
   },
   {
    "duration": 13926,
    "start_time": "2022-06-27T12:57:15.508Z"
   },
   {
    "duration": 5,
    "start_time": "2022-06-27T12:57:29.436Z"
   },
   {
    "duration": 9,
    "start_time": "2022-06-27T12:57:29.442Z"
   },
   {
    "duration": 10,
    "start_time": "2022-06-27T12:57:29.453Z"
   },
   {
    "duration": 9,
    "start_time": "2022-06-27T12:57:29.465Z"
   },
   {
    "duration": 1413,
    "start_time": "2022-06-27T12:57:29.476Z"
   },
   {
    "duration": 960,
    "start_time": "2022-06-27T12:57:30.890Z"
   },
   {
    "duration": 582,
    "start_time": "2022-06-27T12:57:31.852Z"
   },
   {
    "duration": 92,
    "start_time": "2022-06-27T12:57:32.437Z"
   },
   {
    "duration": 19,
    "start_time": "2022-06-27T12:57:32.531Z"
   },
   {
    "duration": 33,
    "start_time": "2022-06-27T12:57:32.552Z"
   },
   {
    "duration": 78,
    "start_time": "2022-06-27T12:57:32.587Z"
   },
   {
    "duration": 368,
    "start_time": "2022-06-27T12:57:32.667Z"
   },
   {
    "duration": 341,
    "start_time": "2022-06-27T12:57:33.037Z"
   },
   {
    "duration": 163,
    "start_time": "2022-06-27T12:57:33.380Z"
   },
   {
    "duration": 431,
    "start_time": "2022-06-27T12:57:33.545Z"
   },
   {
    "duration": 162,
    "start_time": "2022-06-27T12:57:33.978Z"
   },
   {
    "duration": 176,
    "start_time": "2022-06-27T12:57:34.143Z"
   },
   {
    "duration": 354,
    "start_time": "2022-06-27T12:57:34.320Z"
   },
   {
    "duration": 4,
    "start_time": "2022-06-27T12:57:34.676Z"
   },
   {
    "duration": 6,
    "start_time": "2022-06-27T12:57:34.683Z"
   },
   {
    "duration": 50,
    "start_time": "2022-06-27T12:57:34.691Z"
   },
   {
    "duration": 49,
    "start_time": "2022-06-27T12:57:34.743Z"
   },
   {
    "duration": 233,
    "start_time": "2022-06-27T12:57:34.794Z"
   },
   {
    "duration": 5,
    "start_time": "2022-06-27T12:57:35.031Z"
   },
   {
    "duration": 684,
    "start_time": "2022-06-27T12:59:58.960Z"
   },
   {
    "duration": 845,
    "start_time": "2022-06-27T13:00:18.285Z"
   },
   {
    "duration": 74,
    "start_time": "2022-06-27T13:00:49.560Z"
   },
   {
    "duration": 41,
    "start_time": "2022-06-27T13:01:50.351Z"
   },
   {
    "duration": 1197,
    "start_time": "2022-06-27T13:01:53.536Z"
   },
   {
    "duration": 767,
    "start_time": "2022-06-27T13:02:09.571Z"
   },
   {
    "duration": 747,
    "start_time": "2022-06-27T13:47:12.573Z"
   },
   {
    "duration": 57,
    "start_time": "2022-06-27T14:25:53.909Z"
   },
   {
    "duration": 761,
    "start_time": "2022-06-27T14:25:57.271Z"
   },
   {
    "duration": 473,
    "start_time": "2022-06-27T14:26:03.472Z"
   },
   {
    "duration": 624,
    "start_time": "2022-06-27T14:26:16.417Z"
   },
   {
    "duration": 4,
    "start_time": "2022-06-27T14:26:34.464Z"
   },
   {
    "duration": 2086,
    "start_time": "2022-06-27T14:27:33.620Z"
   },
   {
    "duration": 1450,
    "start_time": "2022-06-27T14:28:13.460Z"
   },
   {
    "duration": 1455,
    "start_time": "2022-06-27T14:28:38.154Z"
   },
   {
    "duration": 1419,
    "start_time": "2022-06-27T14:29:01.481Z"
   },
   {
    "duration": 13455,
    "start_time": "2022-06-27T14:29:53.085Z"
   },
   {
    "duration": 4,
    "start_time": "2022-06-27T14:30:06.545Z"
   },
   {
    "duration": 13328,
    "start_time": "2022-06-27T14:30:16.483Z"
   },
   {
    "duration": 4,
    "start_time": "2022-06-27T14:31:48.419Z"
   },
   {
    "duration": 30,
    "start_time": "2022-06-27T14:37:11.077Z"
   },
   {
    "duration": 39,
    "start_time": "2022-06-27T14:38:36.306Z"
   },
   {
    "duration": 28,
    "start_time": "2022-06-27T14:40:07.383Z"
   },
   {
    "duration": 42149,
    "start_time": "2022-06-27T14:40:50.480Z"
   },
   {
    "duration": 4,
    "start_time": "2022-06-27T14:43:49.845Z"
   },
   {
    "duration": 4,
    "start_time": "2022-06-27T14:43:55.547Z"
   },
   {
    "duration": 7,
    "start_time": "2022-06-27T14:44:10.840Z"
   },
   {
    "duration": 4,
    "start_time": "2022-06-27T14:45:24.169Z"
   },
   {
    "duration": 6,
    "start_time": "2022-06-27T14:46:07.533Z"
   },
   {
    "duration": 9,
    "start_time": "2022-06-27T14:46:08.507Z"
   },
   {
    "duration": 17,
    "start_time": "2022-06-27T14:48:52.325Z"
   },
   {
    "duration": 42,
    "start_time": "2022-06-27T14:48:56.213Z"
   },
   {
    "duration": 382,
    "start_time": "2022-06-27T14:48:56.940Z"
   },
   {
    "duration": 250,
    "start_time": "2022-06-27T14:48:57.703Z"
   },
   {
    "duration": 430,
    "start_time": "2022-06-27T14:49:51.008Z"
   },
   {
    "duration": 977,
    "start_time": "2022-06-27T14:49:51.440Z"
   },
   {
    "duration": 46,
    "start_time": "2022-06-27T14:49:52.419Z"
   },
   {
    "duration": 13,
    "start_time": "2022-06-27T14:49:52.467Z"
   },
   {
    "duration": 4,
    "start_time": "2022-06-27T14:49:52.481Z"
   },
   {
    "duration": 12,
    "start_time": "2022-06-27T14:49:52.486Z"
   },
   {
    "duration": 11,
    "start_time": "2022-06-27T14:49:52.502Z"
   },
   {
    "duration": 5,
    "start_time": "2022-06-27T14:49:52.515Z"
   },
   {
    "duration": 24,
    "start_time": "2022-06-27T14:49:52.521Z"
   },
   {
    "duration": 7,
    "start_time": "2022-06-27T14:49:52.548Z"
   },
   {
    "duration": 14,
    "start_time": "2022-06-27T14:49:52.556Z"
   },
   {
    "duration": 11,
    "start_time": "2022-06-27T14:49:52.571Z"
   },
   {
    "duration": 23,
    "start_time": "2022-06-27T14:49:52.584Z"
   },
   {
    "duration": 4,
    "start_time": "2022-06-27T14:49:52.608Z"
   },
   {
    "duration": 25,
    "start_time": "2022-06-27T14:49:52.613Z"
   },
   {
    "duration": 18,
    "start_time": "2022-06-27T14:49:52.639Z"
   },
   {
    "duration": 17,
    "start_time": "2022-06-27T14:49:52.659Z"
   },
   {
    "duration": 10,
    "start_time": "2022-06-27T14:49:52.678Z"
   },
   {
    "duration": 10,
    "start_time": "2022-06-27T14:49:52.689Z"
   },
   {
    "duration": 6,
    "start_time": "2022-06-27T14:49:52.701Z"
   },
   {
    "duration": 12,
    "start_time": "2022-06-27T14:49:52.709Z"
   },
   {
    "duration": 46,
    "start_time": "2022-06-27T14:49:52.722Z"
   },
   {
    "duration": 204,
    "start_time": "2022-06-27T14:49:52.770Z"
   },
   {
    "duration": 812,
    "start_time": "2022-06-27T14:49:52.976Z"
   },
   {
    "duration": 1053,
    "start_time": "2022-06-27T14:49:53.790Z"
   },
   {
    "duration": 5,
    "start_time": "2022-06-27T14:49:54.846Z"
   },
   {
    "duration": 1494,
    "start_time": "2022-06-27T14:49:54.854Z"
   },
   {
    "duration": 14749,
    "start_time": "2022-06-27T14:49:56.352Z"
   },
   {
    "duration": 425,
    "start_time": "2022-06-27T14:50:39.839Z"
   },
   {
    "duration": 926,
    "start_time": "2022-06-27T14:50:40.266Z"
   },
   {
    "duration": 29,
    "start_time": "2022-06-27T14:50:41.193Z"
   },
   {
    "duration": 20,
    "start_time": "2022-06-27T14:50:41.224Z"
   },
   {
    "duration": 9,
    "start_time": "2022-06-27T14:50:41.246Z"
   },
   {
    "duration": 9,
    "start_time": "2022-06-27T14:50:41.256Z"
   },
   {
    "duration": 8,
    "start_time": "2022-06-27T14:50:41.266Z"
   },
   {
    "duration": 5,
    "start_time": "2022-06-27T14:50:41.276Z"
   },
   {
    "duration": 6,
    "start_time": "2022-06-27T14:50:41.283Z"
   },
   {
    "duration": 6,
    "start_time": "2022-06-27T14:50:41.292Z"
   },
   {
    "duration": 32,
    "start_time": "2022-06-27T14:50:41.300Z"
   },
   {
    "duration": 19,
    "start_time": "2022-06-27T14:50:41.334Z"
   },
   {
    "duration": 22,
    "start_time": "2022-06-27T14:50:41.354Z"
   },
   {
    "duration": 3,
    "start_time": "2022-06-27T14:50:41.378Z"
   },
   {
    "duration": 12,
    "start_time": "2022-06-27T14:50:41.383Z"
   },
   {
    "duration": 10,
    "start_time": "2022-06-27T14:50:41.396Z"
   },
   {
    "duration": 40,
    "start_time": "2022-06-27T14:50:41.407Z"
   },
   {
    "duration": 6,
    "start_time": "2022-06-27T14:50:41.449Z"
   },
   {
    "duration": 12,
    "start_time": "2022-06-27T14:50:41.456Z"
   },
   {
    "duration": 10,
    "start_time": "2022-06-27T14:50:41.469Z"
   },
   {
    "duration": 5,
    "start_time": "2022-06-27T14:50:41.481Z"
   },
   {
    "duration": 40,
    "start_time": "2022-06-27T14:50:41.487Z"
   },
   {
    "duration": 190,
    "start_time": "2022-06-27T14:50:41.534Z"
   },
   {
    "duration": 770,
    "start_time": "2022-06-27T14:50:41.726Z"
   },
   {
    "duration": 837,
    "start_time": "2022-06-27T14:50:42.498Z"
   },
   {
    "duration": 7,
    "start_time": "2022-06-27T14:50:43.337Z"
   },
   {
    "duration": 1518,
    "start_time": "2022-06-27T14:50:43.346Z"
   },
   {
    "duration": 15479,
    "start_time": "2022-06-27T14:50:44.869Z"
   },
   {
    "duration": 14086,
    "start_time": "2022-06-27T14:51:00.350Z"
   },
   {
    "duration": 10,
    "start_time": "2022-06-27T14:51:14.437Z"
   },
   {
    "duration": 22,
    "start_time": "2022-06-27T14:51:14.526Z"
   },
   {
    "duration": 6,
    "start_time": "2022-06-27T14:51:14.550Z"
   },
   {
    "duration": 5,
    "start_time": "2022-06-27T14:51:14.557Z"
   },
   {
    "duration": 7,
    "start_time": "2022-06-27T14:51:14.564Z"
   },
   {
    "duration": 13,
    "start_time": "2022-06-27T14:51:14.572Z"
   },
   {
    "duration": 4,
    "start_time": "2022-06-27T14:51:14.587Z"
   },
   {
    "duration": 1456,
    "start_time": "2022-06-27T14:51:14.593Z"
   },
   {
    "duration": 1039,
    "start_time": "2022-06-27T14:51:16.051Z"
   },
   {
    "duration": 647,
    "start_time": "2022-06-27T14:51:17.092Z"
   },
   {
    "duration": 98,
    "start_time": "2022-06-27T14:51:17.748Z"
   },
   {
    "duration": 29,
    "start_time": "2022-06-27T14:51:17.930Z"
   },
   {
    "duration": 30,
    "start_time": "2022-06-27T14:51:17.960Z"
   },
   {
    "duration": 63,
    "start_time": "2022-06-27T14:51:17.991Z"
   },
   {
    "duration": 576,
    "start_time": "2022-06-27T14:51:18.055Z"
   },
   {
    "duration": 248,
    "start_time": "2022-06-27T14:51:18.638Z"
   },
   {
    "duration": 180,
    "start_time": "2022-06-27T14:51:18.888Z"
   },
   {
    "duration": 640,
    "start_time": "2022-06-27T14:51:19.070Z"
   },
   {
    "duration": 175,
    "start_time": "2022-06-27T14:51:19.712Z"
   },
   {
    "duration": 193,
    "start_time": "2022-06-27T14:51:19.889Z"
   },
   {
    "duration": 369,
    "start_time": "2022-06-27T14:51:20.084Z"
   },
   {
    "duration": 4,
    "start_time": "2022-06-27T14:51:20.455Z"
   },
   {
    "duration": 5,
    "start_time": "2022-06-27T14:51:20.460Z"
   },
   {
    "duration": 24,
    "start_time": "2022-06-27T14:51:20.467Z"
   },
   {
    "duration": 76,
    "start_time": "2022-06-27T14:51:20.493Z"
   },
   {
    "duration": 862,
    "start_time": "2022-06-27T14:51:20.571Z"
   },
   {
    "duration": 9,
    "start_time": "2022-06-27T14:51:21.437Z"
   },
   {
    "duration": 12604,
    "start_time": "2022-06-27T14:54:06.942Z"
   },
   {
    "duration": 1424,
    "start_time": "2022-06-27T14:55:18.975Z"
   },
   {
    "duration": 1011,
    "start_time": "2022-06-27T14:55:55.743Z"
   },
   {
    "duration": 997,
    "start_time": "2022-06-27T14:56:41.014Z"
   },
   {
    "duration": 629,
    "start_time": "2022-06-27T14:56:44.409Z"
   },
   {
    "duration": 154,
    "start_time": "2022-06-28T12:29:50.274Z"
   },
   {
    "duration": 407,
    "start_time": "2022-06-28T12:29:55.702Z"
   },
   {
    "duration": 1197,
    "start_time": "2022-06-28T12:29:56.111Z"
   },
   {
    "duration": 81,
    "start_time": "2022-06-28T12:29:57.311Z"
   },
   {
    "duration": 14,
    "start_time": "2022-06-28T12:29:57.394Z"
   },
   {
    "duration": 4,
    "start_time": "2022-06-28T12:29:57.410Z"
   },
   {
    "duration": 7,
    "start_time": "2022-06-28T12:29:57.416Z"
   },
   {
    "duration": 12,
    "start_time": "2022-06-28T12:29:57.424Z"
   },
   {
    "duration": 7,
    "start_time": "2022-06-28T12:29:57.437Z"
   },
   {
    "duration": 7,
    "start_time": "2022-06-28T12:29:57.445Z"
   },
   {
    "duration": 40,
    "start_time": "2022-06-28T12:29:57.454Z"
   },
   {
    "duration": 19,
    "start_time": "2022-06-28T12:29:57.495Z"
   },
   {
    "duration": 36,
    "start_time": "2022-06-28T12:29:57.516Z"
   },
   {
    "duration": 30,
    "start_time": "2022-06-28T12:29:57.554Z"
   },
   {
    "duration": 20,
    "start_time": "2022-06-28T12:29:57.586Z"
   },
   {
    "duration": 26,
    "start_time": "2022-06-28T12:29:57.609Z"
   },
   {
    "duration": 14,
    "start_time": "2022-06-28T12:29:57.636Z"
   },
   {
    "duration": 38,
    "start_time": "2022-06-28T12:29:57.652Z"
   },
   {
    "duration": 23,
    "start_time": "2022-06-28T12:29:57.693Z"
   },
   {
    "duration": 33,
    "start_time": "2022-06-28T12:29:57.718Z"
   },
   {
    "duration": 43,
    "start_time": "2022-06-28T12:29:57.753Z"
   },
   {
    "duration": 8,
    "start_time": "2022-06-28T12:29:57.798Z"
   },
   {
    "duration": 45,
    "start_time": "2022-06-28T12:29:57.808Z"
   },
   {
    "duration": 264,
    "start_time": "2022-06-28T12:29:57.856Z"
   },
   {
    "duration": 798,
    "start_time": "2022-06-28T12:29:58.122Z"
   },
   {
    "duration": 946,
    "start_time": "2022-06-28T12:29:58.922Z"
   },
   {
    "duration": 25,
    "start_time": "2022-06-28T12:29:59.871Z"
   },
   {
    "duration": 2705,
    "start_time": "2022-06-28T12:29:59.897Z"
   },
   {
    "duration": 13665,
    "start_time": "2022-06-28T12:30:02.606Z"
   },
   {
    "duration": 15703,
    "start_time": "2022-06-28T12:30:16.279Z"
   },
   {
    "duration": 82,
    "start_time": "2022-06-28T12:30:31.988Z"
   },
   {
    "duration": 124,
    "start_time": "2022-06-28T12:30:32.073Z"
   },
   {
    "duration": 8,
    "start_time": "2022-06-28T12:30:32.200Z"
   },
   {
    "duration": 19,
    "start_time": "2022-06-28T12:30:32.210Z"
   },
   {
    "duration": 11,
    "start_time": "2022-06-28T12:30:32.230Z"
   },
   {
    "duration": 19,
    "start_time": "2022-06-28T12:30:32.243Z"
   },
   {
    "duration": 30,
    "start_time": "2022-06-28T12:30:32.267Z"
   },
   {
    "duration": 1475,
    "start_time": "2022-06-28T12:30:32.299Z"
   },
   {
    "duration": 1030,
    "start_time": "2022-06-28T12:30:33.780Z"
   },
   {
    "duration": 771,
    "start_time": "2022-06-28T12:30:34.812Z"
   },
   {
    "duration": 8,
    "start_time": "2022-06-28T12:30:35.585Z"
   },
   {
    "duration": 110,
    "start_time": "2022-06-28T12:30:35.662Z"
   },
   {
    "duration": 34,
    "start_time": "2022-06-28T12:30:35.774Z"
   },
   {
    "duration": 59,
    "start_time": "2022-06-28T12:30:35.810Z"
   },
   {
    "duration": 430,
    "start_time": "2022-06-28T12:30:35.870Z"
   },
   {
    "duration": 266,
    "start_time": "2022-06-28T12:30:36.364Z"
   },
   {
    "duration": 193,
    "start_time": "2022-06-28T12:30:36.632Z"
   },
   {
    "duration": 1186,
    "start_time": "2022-06-28T12:30:36.827Z"
   },
   {
    "duration": 200,
    "start_time": "2022-06-28T12:30:38.014Z"
   },
   {
    "duration": 181,
    "start_time": "2022-06-28T12:30:38.216Z"
   },
   {
    "duration": 407,
    "start_time": "2022-06-28T12:30:38.399Z"
   },
   {
    "duration": 4,
    "start_time": "2022-06-28T12:30:38.808Z"
   },
   {
    "duration": 28,
    "start_time": "2022-06-28T12:30:38.814Z"
   },
   {
    "duration": 92,
    "start_time": "2022-06-28T12:30:38.844Z"
   },
   {
    "duration": 53,
    "start_time": "2022-06-28T12:30:38.938Z"
   },
   {
    "duration": 586,
    "start_time": "2022-06-28T12:30:38.992Z"
   },
   {
    "duration": 22,
    "start_time": "2022-06-28T12:30:39.580Z"
   },
   {
    "duration": 88,
    "start_time": "2022-06-28T12:30:39.678Z"
   },
   {
    "duration": 3,
    "start_time": "2022-06-28T12:34:14.542Z"
   },
   {
    "duration": 41,
    "start_time": "2022-06-28T12:34:24.039Z"
   },
   {
    "duration": 5,
    "start_time": "2022-06-28T12:35:09.787Z"
   },
   {
    "duration": 47,
    "start_time": "2022-06-28T12:35:26.509Z"
   },
   {
    "duration": 3,
    "start_time": "2022-06-28T12:35:51.712Z"
   },
   {
    "duration": 4,
    "start_time": "2022-06-28T12:36:54.042Z"
   },
   {
    "duration": 48,
    "start_time": "2022-06-28T12:37:08.053Z"
   },
   {
    "duration": 13,
    "start_time": "2022-06-28T12:37:22.655Z"
   },
   {
    "duration": 11,
    "start_time": "2022-06-28T12:37:24.858Z"
   },
   {
    "duration": 3,
    "start_time": "2022-06-28T12:37:25.226Z"
   },
   {
    "duration": 51,
    "start_time": "2022-06-28T12:37:26.258Z"
   },
   {
    "duration": 438,
    "start_time": "2022-06-28T12:37:37.533Z"
   },
   {
    "duration": 1001,
    "start_time": "2022-06-28T12:37:37.973Z"
   },
   {
    "duration": 51,
    "start_time": "2022-06-28T12:37:38.979Z"
   },
   {
    "duration": 12,
    "start_time": "2022-06-28T12:37:39.032Z"
   },
   {
    "duration": 4,
    "start_time": "2022-06-28T12:37:39.047Z"
   },
   {
    "duration": 44,
    "start_time": "2022-06-28T12:37:39.052Z"
   },
   {
    "duration": 7,
    "start_time": "2022-06-28T12:37:39.098Z"
   },
   {
    "duration": 5,
    "start_time": "2022-06-28T12:37:39.107Z"
   },
   {
    "duration": 13,
    "start_time": "2022-06-28T12:37:39.113Z"
   },
   {
    "duration": 8,
    "start_time": "2022-06-28T12:37:39.127Z"
   },
   {
    "duration": 8,
    "start_time": "2022-06-28T12:37:39.136Z"
   },
   {
    "duration": 12,
    "start_time": "2022-06-28T12:37:39.145Z"
   },
   {
    "duration": 36,
    "start_time": "2022-06-28T12:37:39.164Z"
   },
   {
    "duration": 3,
    "start_time": "2022-06-28T12:37:39.204Z"
   },
   {
    "duration": 13,
    "start_time": "2022-06-28T12:37:39.209Z"
   },
   {
    "duration": 11,
    "start_time": "2022-06-28T12:37:39.223Z"
   },
   {
    "duration": 6,
    "start_time": "2022-06-28T12:37:39.235Z"
   },
   {
    "duration": 54,
    "start_time": "2022-06-28T12:37:39.242Z"
   },
   {
    "duration": 8,
    "start_time": "2022-06-28T12:37:39.298Z"
   },
   {
    "duration": 6,
    "start_time": "2022-06-28T12:37:39.307Z"
   },
   {
    "duration": 9,
    "start_time": "2022-06-28T12:37:39.315Z"
   },
   {
    "duration": 34,
    "start_time": "2022-06-28T12:37:39.326Z"
   },
   {
    "duration": 4,
    "start_time": "2022-06-28T12:37:39.367Z"
   },
   {
    "duration": 20,
    "start_time": "2022-06-28T12:37:39.373Z"
   },
   {
    "duration": 225,
    "start_time": "2022-06-28T12:37:39.395Z"
   },
   {
    "duration": 790,
    "start_time": "2022-06-28T12:37:39.622Z"
   },
   {
    "duration": 473,
    "start_time": "2022-06-28T12:37:40.413Z"
   },
   {
    "duration": 78,
    "start_time": "2022-06-28T12:37:40.890Z"
   },
   {
    "duration": 0,
    "start_time": "2022-06-28T12:37:40.970Z"
   },
   {
    "duration": 0,
    "start_time": "2022-06-28T12:37:40.971Z"
   },
   {
    "duration": 0,
    "start_time": "2022-06-28T12:37:40.972Z"
   },
   {
    "duration": 0,
    "start_time": "2022-06-28T12:37:40.973Z"
   },
   {
    "duration": 0,
    "start_time": "2022-06-28T12:37:40.973Z"
   },
   {
    "duration": 0,
    "start_time": "2022-06-28T12:37:40.974Z"
   },
   {
    "duration": 0,
    "start_time": "2022-06-28T12:37:40.976Z"
   },
   {
    "duration": 0,
    "start_time": "2022-06-28T12:37:40.982Z"
   },
   {
    "duration": 0,
    "start_time": "2022-06-28T12:37:40.983Z"
   },
   {
    "duration": 0,
    "start_time": "2022-06-28T12:37:40.987Z"
   },
   {
    "duration": 0,
    "start_time": "2022-06-28T12:37:40.990Z"
   },
   {
    "duration": 0,
    "start_time": "2022-06-28T12:37:40.991Z"
   },
   {
    "duration": 0,
    "start_time": "2022-06-28T12:37:40.992Z"
   },
   {
    "duration": 0,
    "start_time": "2022-06-28T12:37:40.994Z"
   },
   {
    "duration": 0,
    "start_time": "2022-06-28T12:37:40.995Z"
   },
   {
    "duration": 0,
    "start_time": "2022-06-28T12:37:40.996Z"
   },
   {
    "duration": 0,
    "start_time": "2022-06-28T12:37:40.997Z"
   },
   {
    "duration": 0,
    "start_time": "2022-06-28T12:37:41.001Z"
   },
   {
    "duration": 0,
    "start_time": "2022-06-28T12:37:41.002Z"
   },
   {
    "duration": 0,
    "start_time": "2022-06-28T12:37:41.002Z"
   },
   {
    "duration": 0,
    "start_time": "2022-06-28T12:37:41.003Z"
   },
   {
    "duration": 0,
    "start_time": "2022-06-28T12:37:41.003Z"
   },
   {
    "duration": 0,
    "start_time": "2022-06-28T12:37:41.004Z"
   },
   {
    "duration": 0,
    "start_time": "2022-06-28T12:37:41.004Z"
   },
   {
    "duration": 0,
    "start_time": "2022-06-28T12:37:41.005Z"
   },
   {
    "duration": 0,
    "start_time": "2022-06-28T12:37:41.005Z"
   },
   {
    "duration": 0,
    "start_time": "2022-06-28T12:37:41.006Z"
   },
   {
    "duration": 0,
    "start_time": "2022-06-28T12:37:41.058Z"
   },
   {
    "duration": 0,
    "start_time": "2022-06-28T12:37:41.059Z"
   },
   {
    "duration": 0,
    "start_time": "2022-06-28T12:37:41.077Z"
   },
   {
    "duration": 372,
    "start_time": "2022-06-28T12:38:14.608Z"
   },
   {
    "duration": 1042,
    "start_time": "2022-06-28T12:38:14.984Z"
   },
   {
    "duration": 35,
    "start_time": "2022-06-28T12:38:16.028Z"
   },
   {
    "duration": 17,
    "start_time": "2022-06-28T12:38:16.065Z"
   },
   {
    "duration": 22,
    "start_time": "2022-06-28T12:38:16.084Z"
   },
   {
    "duration": 11,
    "start_time": "2022-06-28T12:38:16.108Z"
   },
   {
    "duration": 10,
    "start_time": "2022-06-28T12:38:16.121Z"
   },
   {
    "duration": 6,
    "start_time": "2022-06-28T12:38:16.133Z"
   },
   {
    "duration": 15,
    "start_time": "2022-06-28T12:38:16.141Z"
   },
   {
    "duration": 39,
    "start_time": "2022-06-28T12:38:16.162Z"
   },
   {
    "duration": 12,
    "start_time": "2022-06-28T12:38:16.203Z"
   },
   {
    "duration": 29,
    "start_time": "2022-06-28T12:38:16.217Z"
   },
   {
    "duration": 35,
    "start_time": "2022-06-28T12:38:16.248Z"
   },
   {
    "duration": 18,
    "start_time": "2022-06-28T12:38:16.284Z"
   },
   {
    "duration": 13,
    "start_time": "2022-06-28T12:38:16.304Z"
   },
   {
    "duration": 10,
    "start_time": "2022-06-28T12:38:16.319Z"
   },
   {
    "duration": 8,
    "start_time": "2022-06-28T12:38:16.331Z"
   },
   {
    "duration": 19,
    "start_time": "2022-06-28T12:38:16.341Z"
   },
   {
    "duration": 14,
    "start_time": "2022-06-28T12:38:16.363Z"
   },
   {
    "duration": 26,
    "start_time": "2022-06-28T12:38:16.385Z"
   },
   {
    "duration": 4,
    "start_time": "2022-06-28T12:38:16.414Z"
   },
   {
    "duration": 36,
    "start_time": "2022-06-28T12:38:16.420Z"
   },
   {
    "duration": 16,
    "start_time": "2022-06-28T12:38:16.458Z"
   },
   {
    "duration": 28,
    "start_time": "2022-06-28T12:38:16.475Z"
   },
   {
    "duration": 47,
    "start_time": "2022-06-28T12:38:16.505Z"
   },
   {
    "duration": 1554,
    "start_time": "2022-06-28T12:38:16.554Z"
   },
   {
    "duration": 384,
    "start_time": "2022-06-28T12:38:18.110Z"
   },
   {
    "duration": 306,
    "start_time": "2022-06-28T12:38:18.560Z"
   },
   {
    "duration": 0,
    "start_time": "2022-06-28T12:38:18.868Z"
   },
   {
    "duration": 0,
    "start_time": "2022-06-28T12:38:18.869Z"
   },
   {
    "duration": 0,
    "start_time": "2022-06-28T12:38:18.876Z"
   },
   {
    "duration": 0,
    "start_time": "2022-06-28T12:38:18.877Z"
   },
   {
    "duration": 0,
    "start_time": "2022-06-28T12:38:18.879Z"
   },
   {
    "duration": 0,
    "start_time": "2022-06-28T12:38:18.880Z"
   },
   {
    "duration": 0,
    "start_time": "2022-06-28T12:38:18.881Z"
   },
   {
    "duration": 0,
    "start_time": "2022-06-28T12:38:18.883Z"
   },
   {
    "duration": 0,
    "start_time": "2022-06-28T12:38:18.884Z"
   },
   {
    "duration": 0,
    "start_time": "2022-06-28T12:38:18.891Z"
   },
   {
    "duration": 0,
    "start_time": "2022-06-28T12:38:18.891Z"
   },
   {
    "duration": 0,
    "start_time": "2022-06-28T12:38:18.892Z"
   },
   {
    "duration": 0,
    "start_time": "2022-06-28T12:38:18.892Z"
   },
   {
    "duration": 0,
    "start_time": "2022-06-28T12:38:18.893Z"
   },
   {
    "duration": 0,
    "start_time": "2022-06-28T12:38:18.899Z"
   },
   {
    "duration": 0,
    "start_time": "2022-06-28T12:38:18.900Z"
   },
   {
    "duration": 0,
    "start_time": "2022-06-28T12:38:18.902Z"
   },
   {
    "duration": 0,
    "start_time": "2022-06-28T12:38:18.905Z"
   },
   {
    "duration": 0,
    "start_time": "2022-06-28T12:38:18.906Z"
   },
   {
    "duration": 0,
    "start_time": "2022-06-28T12:38:18.907Z"
   },
   {
    "duration": 1,
    "start_time": "2022-06-28T12:38:18.908Z"
   },
   {
    "duration": 0,
    "start_time": "2022-06-28T12:38:18.910Z"
   },
   {
    "duration": 0,
    "start_time": "2022-06-28T12:38:18.911Z"
   },
   {
    "duration": 0,
    "start_time": "2022-06-28T12:38:18.913Z"
   },
   {
    "duration": 0,
    "start_time": "2022-06-28T12:38:18.914Z"
   },
   {
    "duration": 0,
    "start_time": "2022-06-28T12:38:18.914Z"
   },
   {
    "duration": 0,
    "start_time": "2022-06-28T12:38:18.916Z"
   },
   {
    "duration": 0,
    "start_time": "2022-06-28T12:38:18.917Z"
   },
   {
    "duration": 0,
    "start_time": "2022-06-28T12:38:18.917Z"
   },
   {
    "duration": 0,
    "start_time": "2022-06-28T12:38:18.918Z"
   },
   {
    "duration": 792,
    "start_time": "2022-06-28T12:39:58.225Z"
   },
   {
    "duration": 411,
    "start_time": "2022-06-28T12:40:30.087Z"
   },
   {
    "duration": 12,
    "start_time": "2022-06-28T12:42:15.604Z"
   },
   {
    "duration": 5,
    "start_time": "2022-06-28T12:43:39.085Z"
   },
   {
    "duration": 54,
    "start_time": "2022-06-28T12:43:42.045Z"
   },
   {
    "duration": 39,
    "start_time": "2022-06-28T12:44:01.303Z"
   },
   {
    "duration": 3,
    "start_time": "2022-06-28T12:44:10.530Z"
   },
   {
    "duration": 57,
    "start_time": "2022-06-28T12:44:12.734Z"
   },
   {
    "duration": 768,
    "start_time": "2022-06-28T12:44:32.383Z"
   },
   {
    "duration": 780,
    "start_time": "2022-06-28T12:45:00.190Z"
   },
   {
    "duration": 506,
    "start_time": "2022-06-28T12:45:12.256Z"
   },
   {
    "duration": 9,
    "start_time": "2022-06-28T12:45:33.138Z"
   },
   {
    "duration": 9,
    "start_time": "2022-06-28T12:46:02.014Z"
   },
   {
    "duration": 81,
    "start_time": "2022-06-28T12:46:29.201Z"
   },
   {
    "duration": 65,
    "start_time": "2022-06-28T12:47:01.230Z"
   },
   {
    "duration": 98,
    "start_time": "2022-06-28T12:47:25.422Z"
   },
   {
    "duration": 1443,
    "start_time": "2022-06-28T12:48:25.687Z"
   },
   {
    "duration": 4,
    "start_time": "2022-06-28T12:53:27.427Z"
   },
   {
    "duration": 1491,
    "start_time": "2022-06-28T12:53:28.395Z"
   },
   {
    "duration": 1542,
    "start_time": "2022-06-28T12:54:40.147Z"
   },
   {
    "duration": 1432,
    "start_time": "2022-06-28T12:55:24.695Z"
   },
   {
    "duration": 1526,
    "start_time": "2022-06-28T12:56:00.217Z"
   },
   {
    "duration": 1486,
    "start_time": "2022-06-28T12:56:04.975Z"
   },
   {
    "duration": 4,
    "start_time": "2022-06-28T12:56:26.080Z"
   },
   {
    "duration": 1536,
    "start_time": "2022-06-28T12:56:27.032Z"
   },
   {
    "duration": 1494,
    "start_time": "2022-06-28T12:56:52.947Z"
   },
   {
    "duration": 3,
    "start_time": "2022-06-28T12:57:36.432Z"
   },
   {
    "duration": 5,
    "start_time": "2022-06-28T12:57:46.017Z"
   },
   {
    "duration": 1459,
    "start_time": "2022-06-28T12:57:49.323Z"
   },
   {
    "duration": 1404,
    "start_time": "2022-06-28T12:58:01.274Z"
   },
   {
    "duration": 1696,
    "start_time": "2022-06-28T12:58:12.772Z"
   },
   {
    "duration": 3,
    "start_time": "2022-06-28T12:58:28.246Z"
   },
   {
    "duration": 1445,
    "start_time": "2022-06-28T12:58:28.615Z"
   },
   {
    "duration": 17,
    "start_time": "2022-06-28T12:59:00.179Z"
   },
   {
    "duration": 1480,
    "start_time": "2022-06-28T12:59:07.383Z"
   },
   {
    "duration": 3,
    "start_time": "2022-06-28T13:00:26.893Z"
   },
   {
    "duration": 1485,
    "start_time": "2022-06-28T13:00:27.808Z"
   },
   {
    "duration": 1461,
    "start_time": "2022-06-28T13:00:52.218Z"
   },
   {
    "duration": 4,
    "start_time": "2022-06-28T13:01:53.567Z"
   },
   {
    "duration": 1416,
    "start_time": "2022-06-28T13:01:55.360Z"
   },
   {
    "duration": 1319,
    "start_time": "2022-06-28T13:02:03.720Z"
   },
   {
    "duration": 3,
    "start_time": "2022-06-28T13:02:16.154Z"
   },
   {
    "duration": 1497,
    "start_time": "2022-06-28T13:02:16.634Z"
   },
   {
    "duration": 1425,
    "start_time": "2022-06-28T13:02:31.531Z"
   },
   {
    "duration": 1362,
    "start_time": "2022-06-28T13:03:08.489Z"
   },
   {
    "duration": 3,
    "start_time": "2022-06-28T13:04:21.937Z"
   },
   {
    "duration": 1359,
    "start_time": "2022-06-28T13:04:22.330Z"
   },
   {
    "duration": 4,
    "start_time": "2022-06-28T13:04:48.548Z"
   },
   {
    "duration": 3,
    "start_time": "2022-06-28T13:06:15.494Z"
   },
   {
    "duration": 1440,
    "start_time": "2022-06-28T13:06:16.039Z"
   },
   {
    "duration": 4,
    "start_time": "2022-06-28T13:06:57.216Z"
   },
   {
    "duration": 1470,
    "start_time": "2022-06-28T13:06:57.974Z"
   },
   {
    "duration": 3,
    "start_time": "2022-06-28T13:07:10.315Z"
   },
   {
    "duration": 1512,
    "start_time": "2022-06-28T13:07:10.839Z"
   },
   {
    "duration": 4,
    "start_time": "2022-06-28T13:08:12.480Z"
   },
   {
    "duration": 1509,
    "start_time": "2022-06-28T13:08:13.136Z"
   },
   {
    "duration": 4,
    "start_time": "2022-06-28T13:08:27.578Z"
   },
   {
    "duration": 1476,
    "start_time": "2022-06-28T13:08:28.354Z"
   },
   {
    "duration": 141,
    "start_time": "2022-06-28T13:09:14.233Z"
   },
   {
    "duration": 4,
    "start_time": "2022-06-28T13:09:18.442Z"
   },
   {
    "duration": 76,
    "start_time": "2022-06-28T13:09:22.050Z"
   },
   {
    "duration": 5,
    "start_time": "2022-06-28T13:09:37.921Z"
   },
   {
    "duration": 1493,
    "start_time": "2022-06-28T13:09:38.519Z"
   },
   {
    "duration": 3,
    "start_time": "2022-06-28T13:09:51.390Z"
   },
   {
    "duration": 1547,
    "start_time": "2022-06-28T13:09:52.575Z"
   },
   {
    "duration": 399,
    "start_time": "2022-06-28T13:10:07.990Z"
   },
   {
    "duration": 973,
    "start_time": "2022-06-28T13:10:08.391Z"
   },
   {
    "duration": 31,
    "start_time": "2022-06-28T13:10:09.366Z"
   },
   {
    "duration": 12,
    "start_time": "2022-06-28T13:10:09.399Z"
   },
   {
    "duration": 4,
    "start_time": "2022-06-28T13:10:09.413Z"
   },
   {
    "duration": 8,
    "start_time": "2022-06-28T13:10:09.418Z"
   },
   {
    "duration": 9,
    "start_time": "2022-06-28T13:10:09.428Z"
   },
   {
    "duration": 22,
    "start_time": "2022-06-28T13:10:09.439Z"
   },
   {
    "duration": 19,
    "start_time": "2022-06-28T13:10:09.463Z"
   },
   {
    "duration": 9,
    "start_time": "2022-06-28T13:10:09.485Z"
   },
   {
    "duration": 8,
    "start_time": "2022-06-28T13:10:09.496Z"
   },
   {
    "duration": 12,
    "start_time": "2022-06-28T13:10:09.506Z"
   },
   {
    "duration": 24,
    "start_time": "2022-06-28T13:10:09.519Z"
   },
   {
    "duration": 6,
    "start_time": "2022-06-28T13:10:09.559Z"
   },
   {
    "duration": 27,
    "start_time": "2022-06-28T13:10:09.567Z"
   },
   {
    "duration": 10,
    "start_time": "2022-06-28T13:10:09.596Z"
   },
   {
    "duration": 12,
    "start_time": "2022-06-28T13:10:09.607Z"
   },
   {
    "duration": 8,
    "start_time": "2022-06-28T13:10:09.621Z"
   },
   {
    "duration": 8,
    "start_time": "2022-06-28T13:10:09.631Z"
   },
   {
    "duration": 6,
    "start_time": "2022-06-28T13:10:09.641Z"
   },
   {
    "duration": 12,
    "start_time": "2022-06-28T13:10:09.649Z"
   },
   {
    "duration": 59,
    "start_time": "2022-06-28T13:10:09.663Z"
   },
   {
    "duration": 3,
    "start_time": "2022-06-28T13:10:09.723Z"
   },
   {
    "duration": 8,
    "start_time": "2022-06-28T13:10:09.728Z"
   },
   {
    "duration": 51,
    "start_time": "2022-06-28T13:10:09.737Z"
   },
   {
    "duration": 789,
    "start_time": "2022-06-28T13:10:09.789Z"
   },
   {
    "duration": 200,
    "start_time": "2022-06-28T13:10:10.580Z"
   },
   {
    "duration": 110,
    "start_time": "2022-06-28T13:10:10.863Z"
   },
   {
    "duration": 86,
    "start_time": "2022-06-28T13:10:10.976Z"
   },
   {
    "duration": 79,
    "start_time": "2022-06-28T13:10:11.080Z"
   },
   {
    "duration": 2698,
    "start_time": "2022-06-28T13:10:11.162Z"
   },
   {
    "duration": 13373,
    "start_time": "2022-06-28T13:10:13.862Z"
   },
   {
    "duration": 6027,
    "start_time": "2022-06-28T13:10:27.238Z"
   },
   {
    "duration": 244,
    "start_time": "2022-06-28T13:10:33.268Z"
   },
   {
    "duration": 0,
    "start_time": "2022-06-28T13:10:33.515Z"
   },
   {
    "duration": 0,
    "start_time": "2022-06-28T13:10:33.516Z"
   },
   {
    "duration": 0,
    "start_time": "2022-06-28T13:10:33.517Z"
   },
   {
    "duration": 0,
    "start_time": "2022-06-28T13:10:33.519Z"
   },
   {
    "duration": 0,
    "start_time": "2022-06-28T13:10:33.520Z"
   },
   {
    "duration": 0,
    "start_time": "2022-06-28T13:10:33.522Z"
   },
   {
    "duration": 0,
    "start_time": "2022-06-28T13:10:33.523Z"
   },
   {
    "duration": 0,
    "start_time": "2022-06-28T13:10:33.524Z"
   },
   {
    "duration": 0,
    "start_time": "2022-06-28T13:10:33.526Z"
   },
   {
    "duration": 0,
    "start_time": "2022-06-28T13:10:33.527Z"
   },
   {
    "duration": 0,
    "start_time": "2022-06-28T13:10:33.529Z"
   },
   {
    "duration": 0,
    "start_time": "2022-06-28T13:10:33.530Z"
   },
   {
    "duration": 0,
    "start_time": "2022-06-28T13:10:33.559Z"
   },
   {
    "duration": 0,
    "start_time": "2022-06-28T13:10:33.562Z"
   },
   {
    "duration": 0,
    "start_time": "2022-06-28T13:10:33.564Z"
   },
   {
    "duration": 0,
    "start_time": "2022-06-28T13:10:33.566Z"
   },
   {
    "duration": 0,
    "start_time": "2022-06-28T13:10:33.567Z"
   },
   {
    "duration": 0,
    "start_time": "2022-06-28T13:10:33.569Z"
   },
   {
    "duration": 0,
    "start_time": "2022-06-28T13:10:33.570Z"
   },
   {
    "duration": 0,
    "start_time": "2022-06-28T13:10:33.572Z"
   },
   {
    "duration": 0,
    "start_time": "2022-06-28T13:10:33.573Z"
   },
   {
    "duration": 0,
    "start_time": "2022-06-28T13:10:33.575Z"
   },
   {
    "duration": 0,
    "start_time": "2022-06-28T13:10:33.577Z"
   },
   {
    "duration": 0,
    "start_time": "2022-06-28T13:10:33.578Z"
   },
   {
    "duration": 0,
    "start_time": "2022-06-28T13:10:33.580Z"
   },
   {
    "duration": 0,
    "start_time": "2022-06-28T13:10:33.581Z"
   },
   {
    "duration": 4,
    "start_time": "2022-06-28T13:10:50.313Z"
   },
   {
    "duration": 3,
    "start_time": "2022-06-28T13:11:08.021Z"
   },
   {
    "duration": 1500,
    "start_time": "2022-06-28T13:11:10.292Z"
   },
   {
    "duration": 1513,
    "start_time": "2022-06-28T13:12:10.604Z"
   },
   {
    "duration": 1652,
    "start_time": "2022-06-28T13:13:05.930Z"
   },
   {
    "duration": 1445,
    "start_time": "2022-06-28T13:14:34.584Z"
   },
   {
    "duration": 5,
    "start_time": "2022-06-28T13:17:05.092Z"
   },
   {
    "duration": 1418,
    "start_time": "2022-06-28T13:17:07.404Z"
   },
   {
    "duration": 4,
    "start_time": "2022-06-28T13:17:27.639Z"
   },
   {
    "duration": 1404,
    "start_time": "2022-06-28T13:17:28.695Z"
   },
   {
    "duration": 1460,
    "start_time": "2022-06-28T13:18:34.840Z"
   },
   {
    "duration": 1480,
    "start_time": "2022-06-28T13:19:49.968Z"
   },
   {
    "duration": 1509,
    "start_time": "2022-06-28T13:20:35.800Z"
   },
   {
    "duration": 1577,
    "start_time": "2022-06-28T13:20:48.818Z"
   },
   {
    "duration": 2081,
    "start_time": "2022-06-28T13:21:36.201Z"
   },
   {
    "duration": 1555,
    "start_time": "2022-06-28T13:21:59.643Z"
   },
   {
    "duration": 1556,
    "start_time": "2022-06-28T13:22:05.211Z"
   },
   {
    "duration": 434,
    "start_time": "2022-06-28T13:22:31.141Z"
   },
   {
    "duration": 1126,
    "start_time": "2022-06-28T13:22:31.578Z"
   },
   {
    "duration": 35,
    "start_time": "2022-06-28T13:22:32.706Z"
   },
   {
    "duration": 28,
    "start_time": "2022-06-28T13:22:32.744Z"
   },
   {
    "duration": 11,
    "start_time": "2022-06-28T13:22:32.781Z"
   },
   {
    "duration": 18,
    "start_time": "2022-06-28T13:22:32.795Z"
   },
   {
    "duration": 11,
    "start_time": "2022-06-28T13:22:32.815Z"
   },
   {
    "duration": 8,
    "start_time": "2022-06-28T13:22:32.829Z"
   },
   {
    "duration": 9,
    "start_time": "2022-06-28T13:22:32.840Z"
   },
   {
    "duration": 27,
    "start_time": "2022-06-28T13:22:32.853Z"
   },
   {
    "duration": 12,
    "start_time": "2022-06-28T13:22:32.883Z"
   },
   {
    "duration": 14,
    "start_time": "2022-06-28T13:22:32.897Z"
   },
   {
    "duration": 31,
    "start_time": "2022-06-28T13:22:32.914Z"
   },
   {
    "duration": 14,
    "start_time": "2022-06-28T13:22:32.947Z"
   },
   {
    "duration": 20,
    "start_time": "2022-06-28T13:22:32.963Z"
   },
   {
    "duration": 37,
    "start_time": "2022-06-28T13:22:32.985Z"
   },
   {
    "duration": 6,
    "start_time": "2022-06-28T13:22:33.025Z"
   },
   {
    "duration": 44,
    "start_time": "2022-06-28T13:22:33.032Z"
   },
   {
    "duration": 40,
    "start_time": "2022-06-28T13:22:33.084Z"
   },
   {
    "duration": 12,
    "start_time": "2022-06-28T13:22:33.133Z"
   },
   {
    "duration": 53,
    "start_time": "2022-06-28T13:22:33.148Z"
   },
   {
    "duration": 50,
    "start_time": "2022-06-28T13:22:33.203Z"
   },
   {
    "duration": 8,
    "start_time": "2022-06-28T13:22:33.255Z"
   },
   {
    "duration": 34,
    "start_time": "2022-06-28T13:22:33.269Z"
   },
   {
    "duration": 65,
    "start_time": "2022-06-28T13:22:33.305Z"
   },
   {
    "duration": 889,
    "start_time": "2022-06-28T13:22:33.379Z"
   },
   {
    "duration": 1198,
    "start_time": "2022-06-28T13:22:34.271Z"
   },
   {
    "duration": 77,
    "start_time": "2022-06-28T13:22:35.486Z"
   },
   {
    "duration": 206,
    "start_time": "2022-06-28T13:22:35.565Z"
   },
   {
    "duration": 2924,
    "start_time": "2022-06-28T13:22:35.776Z"
   },
   {
    "duration": 13787,
    "start_time": "2022-06-28T13:22:38.703Z"
   },
   {
    "duration": 14317,
    "start_time": "2022-06-28T13:22:52.492Z"
   },
   {
    "duration": 100,
    "start_time": "2022-06-28T13:23:06.870Z"
   },
   {
    "duration": 0,
    "start_time": "2022-06-28T13:23:06.972Z"
   },
   {
    "duration": 0,
    "start_time": "2022-06-28T13:23:06.973Z"
   },
   {
    "duration": 0,
    "start_time": "2022-06-28T13:23:06.977Z"
   },
   {
    "duration": 0,
    "start_time": "2022-06-28T13:23:06.980Z"
   },
   {
    "duration": 0,
    "start_time": "2022-06-28T13:23:06.982Z"
   },
   {
    "duration": 0,
    "start_time": "2022-06-28T13:23:06.986Z"
   },
   {
    "duration": 0,
    "start_time": "2022-06-28T13:23:06.987Z"
   },
   {
    "duration": 0,
    "start_time": "2022-06-28T13:23:06.989Z"
   },
   {
    "duration": 0,
    "start_time": "2022-06-28T13:23:06.990Z"
   },
   {
    "duration": 0,
    "start_time": "2022-06-28T13:23:06.992Z"
   },
   {
    "duration": 0,
    "start_time": "2022-06-28T13:23:06.993Z"
   },
   {
    "duration": 0,
    "start_time": "2022-06-28T13:23:06.995Z"
   },
   {
    "duration": 0,
    "start_time": "2022-06-28T13:23:06.996Z"
   },
   {
    "duration": 0,
    "start_time": "2022-06-28T13:23:06.998Z"
   },
   {
    "duration": 0,
    "start_time": "2022-06-28T13:23:07.000Z"
   },
   {
    "duration": 0,
    "start_time": "2022-06-28T13:23:07.001Z"
   },
   {
    "duration": 0,
    "start_time": "2022-06-28T13:23:07.003Z"
   },
   {
    "duration": 0,
    "start_time": "2022-06-28T13:23:07.004Z"
   },
   {
    "duration": 0,
    "start_time": "2022-06-28T13:23:07.005Z"
   },
   {
    "duration": 0,
    "start_time": "2022-06-28T13:23:07.007Z"
   },
   {
    "duration": 0,
    "start_time": "2022-06-28T13:23:07.009Z"
   },
   {
    "duration": 0,
    "start_time": "2022-06-28T13:23:07.010Z"
   },
   {
    "duration": 0,
    "start_time": "2022-06-28T13:23:07.011Z"
   },
   {
    "duration": 0,
    "start_time": "2022-06-28T13:23:07.012Z"
   },
   {
    "duration": 0,
    "start_time": "2022-06-28T13:23:07.059Z"
   },
   {
    "duration": 0,
    "start_time": "2022-06-28T13:23:07.063Z"
   },
   {
    "duration": 0,
    "start_time": "2022-06-28T13:23:07.064Z"
   },
   {
    "duration": 1444,
    "start_time": "2022-06-28T13:23:10.110Z"
   },
   {
    "duration": 1545,
    "start_time": "2022-06-28T13:23:28.339Z"
   },
   {
    "duration": 1683,
    "start_time": "2022-06-28T13:23:49.682Z"
   },
   {
    "duration": 1390,
    "start_time": "2022-06-28T13:24:32.973Z"
   },
   {
    "duration": 1430,
    "start_time": "2022-06-28T13:25:04.839Z"
   },
   {
    "duration": 1447,
    "start_time": "2022-06-28T13:25:10.186Z"
   },
   {
    "duration": 1523,
    "start_time": "2022-06-28T13:26:06.023Z"
   },
   {
    "duration": 1784,
    "start_time": "2022-06-28T13:26:26.787Z"
   },
   {
    "duration": 51,
    "start_time": "2022-06-28T13:26:50.799Z"
   },
   {
    "duration": 1470,
    "start_time": "2022-06-28T13:27:03.806Z"
   },
   {
    "duration": 14554,
    "start_time": "2022-06-28T13:27:45.722Z"
   },
   {
    "duration": 19153,
    "start_time": "2022-06-28T13:28:20.016Z"
   },
   {
    "duration": 28866,
    "start_time": "2022-06-28T13:28:55.067Z"
   },
   {
    "duration": 8068,
    "start_time": "2022-06-28T13:29:47.795Z"
   },
   {
    "duration": 17849,
    "start_time": "2022-06-28T13:31:07.525Z"
   },
   {
    "duration": 7,
    "start_time": "2022-06-28T13:32:03.228Z"
   },
   {
    "duration": 55,
    "start_time": "2022-06-28T13:32:56.930Z"
   },
   {
    "duration": 18,
    "start_time": "2022-06-28T13:33:31.959Z"
   },
   {
    "duration": 5,
    "start_time": "2022-06-28T13:33:55.834Z"
   },
   {
    "duration": 520,
    "start_time": "2022-06-28T13:36:20.530Z"
   },
   {
    "duration": 1246,
    "start_time": "2022-06-28T13:36:21.053Z"
   },
   {
    "duration": 44,
    "start_time": "2022-06-28T13:36:22.301Z"
   },
   {
    "duration": 25,
    "start_time": "2022-06-28T13:36:22.347Z"
   },
   {
    "duration": 11,
    "start_time": "2022-06-28T13:36:22.375Z"
   },
   {
    "duration": 11,
    "start_time": "2022-06-28T13:36:22.389Z"
   },
   {
    "duration": 10,
    "start_time": "2022-06-28T13:36:22.403Z"
   },
   {
    "duration": 14,
    "start_time": "2022-06-28T13:36:22.415Z"
   },
   {
    "duration": 34,
    "start_time": "2022-06-28T13:36:22.432Z"
   },
   {
    "duration": 6,
    "start_time": "2022-06-28T13:36:22.468Z"
   },
   {
    "duration": 18,
    "start_time": "2022-06-28T13:36:22.476Z"
   },
   {
    "duration": 14,
    "start_time": "2022-06-28T13:36:22.496Z"
   },
   {
    "duration": 25,
    "start_time": "2022-06-28T13:36:22.512Z"
   },
   {
    "duration": 3,
    "start_time": "2022-06-28T13:36:22.541Z"
   },
   {
    "duration": 27,
    "start_time": "2022-06-28T13:36:22.547Z"
   },
   {
    "duration": 27,
    "start_time": "2022-06-28T13:36:22.576Z"
   },
   {
    "duration": 7,
    "start_time": "2022-06-28T13:36:22.605Z"
   },
   {
    "duration": 7,
    "start_time": "2022-06-28T13:36:22.614Z"
   },
   {
    "duration": 36,
    "start_time": "2022-06-28T13:36:22.624Z"
   },
   {
    "duration": 15,
    "start_time": "2022-06-28T13:36:22.663Z"
   },
   {
    "duration": 13,
    "start_time": "2022-06-28T13:36:22.680Z"
   },
   {
    "duration": 55,
    "start_time": "2022-06-28T13:36:22.695Z"
   },
   {
    "duration": 4,
    "start_time": "2022-06-28T13:36:22.753Z"
   },
   {
    "duration": 33,
    "start_time": "2022-06-28T13:36:22.759Z"
   },
   {
    "duration": 49,
    "start_time": "2022-06-28T13:36:22.794Z"
   },
   {
    "duration": 830,
    "start_time": "2022-06-28T13:36:22.845Z"
   },
   {
    "duration": 1223,
    "start_time": "2022-06-28T13:36:23.679Z"
   },
   {
    "duration": 13,
    "start_time": "2022-06-28T13:36:24.960Z"
   },
   {
    "duration": 307,
    "start_time": "2022-06-28T13:36:24.975Z"
   },
   {
    "duration": 3610,
    "start_time": "2022-06-28T13:36:25.287Z"
   },
   {
    "duration": 8413,
    "start_time": "2022-06-28T13:36:28.899Z"
   },
   {
    "duration": 11347,
    "start_time": "2022-06-28T13:36:37.315Z"
   },
   {
    "duration": 14,
    "start_time": "2022-06-28T13:36:48.669Z"
   },
   {
    "duration": 271,
    "start_time": "2022-06-28T13:36:48.689Z"
   },
   {
    "duration": 11,
    "start_time": "2022-06-28T13:36:48.963Z"
   },
   {
    "duration": 8,
    "start_time": "2022-06-28T13:36:48.984Z"
   },
   {
    "duration": 12,
    "start_time": "2022-06-28T13:36:48.994Z"
   },
   {
    "duration": 13,
    "start_time": "2022-06-28T13:36:49.008Z"
   },
   {
    "duration": 10,
    "start_time": "2022-06-28T13:36:49.023Z"
   },
   {
    "duration": 1534,
    "start_time": "2022-06-28T13:36:49.035Z"
   },
   {
    "duration": 1202,
    "start_time": "2022-06-28T13:36:50.580Z"
   },
   {
    "duration": 483,
    "start_time": "2022-06-28T13:36:51.784Z"
   },
   {
    "duration": 5,
    "start_time": "2022-06-28T13:36:52.269Z"
   },
   {
    "duration": 89,
    "start_time": "2022-06-28T13:36:52.276Z"
   },
   {
    "duration": 40,
    "start_time": "2022-06-28T13:36:52.371Z"
   },
   {
    "duration": 86,
    "start_time": "2022-06-28T13:36:52.413Z"
   },
   {
    "duration": 773,
    "start_time": "2022-06-28T13:36:52.502Z"
   },
   {
    "duration": 304,
    "start_time": "2022-06-28T13:36:53.282Z"
   },
   {
    "duration": 245,
    "start_time": "2022-06-28T13:36:53.590Z"
   },
   {
    "duration": 1270,
    "start_time": "2022-06-28T13:36:53.838Z"
   },
   {
    "duration": 202,
    "start_time": "2022-06-28T13:36:55.110Z"
   },
   {
    "duration": 209,
    "start_time": "2022-06-28T13:36:55.315Z"
   },
   {
    "duration": 467,
    "start_time": "2022-06-28T13:36:55.527Z"
   },
   {
    "duration": 4,
    "start_time": "2022-06-28T13:36:55.996Z"
   },
   {
    "duration": 13,
    "start_time": "2022-06-28T13:36:56.003Z"
   },
   {
    "duration": 59,
    "start_time": "2022-06-28T13:36:56.018Z"
   },
   {
    "duration": 48,
    "start_time": "2022-06-28T13:36:56.079Z"
   },
   {
    "duration": 1138,
    "start_time": "2022-06-28T13:36:56.129Z"
   },
   {
    "duration": 7,
    "start_time": "2022-06-28T13:36:57.270Z"
   },
   {
    "duration": 12,
    "start_time": "2022-06-28T13:38:01.236Z"
   },
   {
    "duration": 9,
    "start_time": "2022-06-28T13:41:20.432Z"
   },
   {
    "duration": 422,
    "start_time": "2022-06-28T13:46:12.952Z"
   },
   {
    "duration": 934,
    "start_time": "2022-06-28T13:46:13.378Z"
   },
   {
    "duration": 31,
    "start_time": "2022-06-28T13:46:14.313Z"
   },
   {
    "duration": 24,
    "start_time": "2022-06-28T13:46:14.346Z"
   },
   {
    "duration": 7,
    "start_time": "2022-06-28T13:46:14.373Z"
   },
   {
    "duration": 12,
    "start_time": "2022-06-28T13:46:14.382Z"
   },
   {
    "duration": 20,
    "start_time": "2022-06-28T13:46:14.396Z"
   },
   {
    "duration": 4,
    "start_time": "2022-06-28T13:46:14.418Z"
   },
   {
    "duration": 8,
    "start_time": "2022-06-28T13:46:14.423Z"
   },
   {
    "duration": 5,
    "start_time": "2022-06-28T13:46:14.434Z"
   },
   {
    "duration": 26,
    "start_time": "2022-06-28T13:46:14.440Z"
   },
   {
    "duration": 20,
    "start_time": "2022-06-28T13:46:14.468Z"
   },
   {
    "duration": 19,
    "start_time": "2022-06-28T13:46:14.490Z"
   },
   {
    "duration": 3,
    "start_time": "2022-06-28T13:46:14.511Z"
   },
   {
    "duration": 18,
    "start_time": "2022-06-28T13:46:14.515Z"
   },
   {
    "duration": 11,
    "start_time": "2022-06-28T13:46:14.535Z"
   },
   {
    "duration": 27,
    "start_time": "2022-06-28T13:46:14.547Z"
   },
   {
    "duration": 8,
    "start_time": "2022-06-28T13:46:14.576Z"
   },
   {
    "duration": 9,
    "start_time": "2022-06-28T13:46:14.585Z"
   },
   {
    "duration": 6,
    "start_time": "2022-06-28T13:46:14.595Z"
   },
   {
    "duration": 7,
    "start_time": "2022-06-28T13:46:14.602Z"
   },
   {
    "duration": 36,
    "start_time": "2022-06-28T13:46:14.610Z"
   },
   {
    "duration": 7,
    "start_time": "2022-06-28T13:46:14.658Z"
   },
   {
    "duration": 10,
    "start_time": "2022-06-28T13:46:14.671Z"
   },
   {
    "duration": 46,
    "start_time": "2022-06-28T13:46:14.683Z"
   },
   {
    "duration": 889,
    "start_time": "2022-06-28T13:46:14.730Z"
   },
   {
    "duration": 253,
    "start_time": "2022-06-28T13:46:15.621Z"
   },
   {
    "duration": 10,
    "start_time": "2022-06-28T13:46:15.878Z"
   },
   {
    "duration": 0,
    "start_time": "2022-06-28T13:46:15.890Z"
   },
   {
    "duration": 0,
    "start_time": "2022-06-28T13:46:15.891Z"
   },
   {
    "duration": 0,
    "start_time": "2022-06-28T13:46:15.892Z"
   },
   {
    "duration": 0,
    "start_time": "2022-06-28T13:46:15.894Z"
   },
   {
    "duration": 0,
    "start_time": "2022-06-28T13:46:15.895Z"
   },
   {
    "duration": 0,
    "start_time": "2022-06-28T13:46:15.896Z"
   },
   {
    "duration": 0,
    "start_time": "2022-06-28T13:46:15.897Z"
   },
   {
    "duration": 0,
    "start_time": "2022-06-28T13:46:15.898Z"
   },
   {
    "duration": 0,
    "start_time": "2022-06-28T13:46:15.899Z"
   },
   {
    "duration": 0,
    "start_time": "2022-06-28T13:46:15.901Z"
   },
   {
    "duration": 0,
    "start_time": "2022-06-28T13:46:15.902Z"
   },
   {
    "duration": 0,
    "start_time": "2022-06-28T13:46:15.903Z"
   },
   {
    "duration": 0,
    "start_time": "2022-06-28T13:46:15.903Z"
   },
   {
    "duration": 0,
    "start_time": "2022-06-28T13:46:15.905Z"
   },
   {
    "duration": 0,
    "start_time": "2022-06-28T13:46:15.905Z"
   },
   {
    "duration": 1,
    "start_time": "2022-06-28T13:46:15.906Z"
   },
   {
    "duration": 0,
    "start_time": "2022-06-28T13:46:15.907Z"
   },
   {
    "duration": 0,
    "start_time": "2022-06-28T13:46:15.908Z"
   },
   {
    "duration": 0,
    "start_time": "2022-06-28T13:46:15.909Z"
   },
   {
    "duration": 0,
    "start_time": "2022-06-28T13:46:15.910Z"
   },
   {
    "duration": 0,
    "start_time": "2022-06-28T13:46:15.911Z"
   },
   {
    "duration": 0,
    "start_time": "2022-06-28T13:46:15.912Z"
   },
   {
    "duration": 0,
    "start_time": "2022-06-28T13:46:15.913Z"
   },
   {
    "duration": 0,
    "start_time": "2022-06-28T13:46:15.959Z"
   },
   {
    "duration": 0,
    "start_time": "2022-06-28T13:46:15.960Z"
   },
   {
    "duration": 0,
    "start_time": "2022-06-28T13:46:15.961Z"
   },
   {
    "duration": 0,
    "start_time": "2022-06-28T13:46:15.963Z"
   },
   {
    "duration": 0,
    "start_time": "2022-06-28T13:46:15.964Z"
   },
   {
    "duration": 0,
    "start_time": "2022-06-28T13:46:15.965Z"
   },
   {
    "duration": 0,
    "start_time": "2022-06-28T13:46:15.966Z"
   },
   {
    "duration": 0,
    "start_time": "2022-06-28T13:46:15.966Z"
   },
   {
    "duration": 768,
    "start_time": "2022-06-28T13:46:58.354Z"
   },
   {
    "duration": 389,
    "start_time": "2022-06-28T13:47:16.318Z"
   },
   {
    "duration": 1059,
    "start_time": "2022-06-28T13:47:16.709Z"
   },
   {
    "duration": 43,
    "start_time": "2022-06-28T13:47:17.775Z"
   },
   {
    "duration": 20,
    "start_time": "2022-06-28T13:47:17.821Z"
   },
   {
    "duration": 5,
    "start_time": "2022-06-28T13:47:17.843Z"
   },
   {
    "duration": 27,
    "start_time": "2022-06-28T13:47:17.852Z"
   },
   {
    "duration": 43,
    "start_time": "2022-06-28T13:47:17.881Z"
   },
   {
    "duration": 6,
    "start_time": "2022-06-28T13:47:17.926Z"
   },
   {
    "duration": 7,
    "start_time": "2022-06-28T13:47:17.934Z"
   },
   {
    "duration": 6,
    "start_time": "2022-06-28T13:47:17.944Z"
   },
   {
    "duration": 19,
    "start_time": "2022-06-28T13:47:17.951Z"
   },
   {
    "duration": 23,
    "start_time": "2022-06-28T13:47:17.971Z"
   },
   {
    "duration": 22,
    "start_time": "2022-06-28T13:47:17.996Z"
   },
   {
    "duration": 3,
    "start_time": "2022-06-28T13:47:18.020Z"
   },
   {
    "duration": 19,
    "start_time": "2022-06-28T13:47:18.025Z"
   },
   {
    "duration": 32,
    "start_time": "2022-06-28T13:47:18.046Z"
   },
   {
    "duration": 7,
    "start_time": "2022-06-28T13:47:18.080Z"
   },
   {
    "duration": 13,
    "start_time": "2022-06-28T13:47:18.089Z"
   },
   {
    "duration": 9,
    "start_time": "2022-06-28T13:47:18.104Z"
   },
   {
    "duration": 10,
    "start_time": "2022-06-28T13:47:18.115Z"
   },
   {
    "duration": 7,
    "start_time": "2022-06-28T13:47:18.127Z"
   },
   {
    "duration": 70,
    "start_time": "2022-06-28T13:47:18.137Z"
   },
   {
    "duration": 4,
    "start_time": "2022-06-28T13:47:18.209Z"
   },
   {
    "duration": 5,
    "start_time": "2022-06-28T13:47:18.215Z"
   },
   {
    "duration": 61,
    "start_time": "2022-06-28T13:47:18.222Z"
   },
   {
    "duration": 795,
    "start_time": "2022-06-28T13:47:18.285Z"
   },
   {
    "duration": 2179,
    "start_time": "2022-06-28T13:47:19.082Z"
   },
   {
    "duration": 17,
    "start_time": "2022-06-28T13:47:21.274Z"
   },
   {
    "duration": 208,
    "start_time": "2022-06-28T13:47:21.359Z"
   },
   {
    "duration": 3225,
    "start_time": "2022-06-28T13:47:21.569Z"
   },
   {
    "duration": 9558,
    "start_time": "2022-06-28T13:47:24.796Z"
   },
   {
    "duration": 4608,
    "start_time": "2022-06-28T13:47:34.358Z"
   },
   {
    "duration": 9,
    "start_time": "2022-06-28T13:47:38.975Z"
   },
   {
    "duration": 113,
    "start_time": "2022-06-28T13:47:39.059Z"
   },
   {
    "duration": 91,
    "start_time": "2022-06-28T13:47:39.177Z"
   },
   {
    "duration": 22,
    "start_time": "2022-06-28T13:47:39.270Z"
   },
   {
    "duration": 11,
    "start_time": "2022-06-28T13:47:39.294Z"
   },
   {
    "duration": 73,
    "start_time": "2022-06-28T13:47:39.306Z"
   },
   {
    "duration": 78,
    "start_time": "2022-06-28T13:47:39.381Z"
   },
   {
    "duration": 1502,
    "start_time": "2022-06-28T13:47:39.464Z"
   },
   {
    "duration": 1038,
    "start_time": "2022-06-28T13:47:40.972Z"
   },
   {
    "duration": 463,
    "start_time": "2022-06-28T13:47:42.012Z"
   },
   {
    "duration": 6,
    "start_time": "2022-06-28T13:47:42.477Z"
   },
   {
    "duration": 203,
    "start_time": "2022-06-28T13:47:42.485Z"
   },
   {
    "duration": 30,
    "start_time": "2022-06-28T13:47:42.690Z"
   },
   {
    "duration": 61,
    "start_time": "2022-06-28T13:47:42.721Z"
   },
   {
    "duration": 604,
    "start_time": "2022-06-28T13:47:42.785Z"
   },
   {
    "duration": 330,
    "start_time": "2022-06-28T13:47:43.393Z"
   },
   {
    "duration": 179,
    "start_time": "2022-06-28T13:47:43.725Z"
   },
   {
    "duration": 401,
    "start_time": "2022-06-28T13:47:43.906Z"
   },
   {
    "duration": 186,
    "start_time": "2022-06-28T13:47:44.309Z"
   },
   {
    "duration": 194,
    "start_time": "2022-06-28T13:47:44.498Z"
   },
   {
    "duration": 423,
    "start_time": "2022-06-28T13:47:44.693Z"
   },
   {
    "duration": 5,
    "start_time": "2022-06-28T13:47:45.117Z"
   },
   {
    "duration": 10,
    "start_time": "2022-06-28T13:47:45.124Z"
   },
   {
    "duration": 52,
    "start_time": "2022-06-28T13:47:45.136Z"
   },
   {
    "duration": 75,
    "start_time": "2022-06-28T13:47:45.191Z"
   },
   {
    "duration": 218,
    "start_time": "2022-06-28T13:47:45.270Z"
   },
   {
    "duration": 8,
    "start_time": "2022-06-28T13:47:45.558Z"
   },
   {
    "duration": 43,
    "start_time": "2022-06-28T13:48:48.735Z"
   },
   {
    "duration": 14,
    "start_time": "2022-06-28T13:48:49.407Z"
   },
   {
    "duration": 1432,
    "start_time": "2022-06-28T13:49:51.775Z"
   },
   {
    "duration": 981,
    "start_time": "2022-06-28T13:50:28.346Z"
   },
   {
    "duration": 304,
    "start_time": "2022-06-28T13:50:55.676Z"
   },
   {
    "duration": 461,
    "start_time": "2022-06-28T13:53:25.415Z"
   },
   {
    "duration": 4,
    "start_time": "2022-06-28T13:53:59.211Z"
   },
   {
    "duration": 469,
    "start_time": "2022-06-28T13:54:37.404Z"
   },
   {
    "duration": 1109,
    "start_time": "2022-06-28T13:54:37.875Z"
   },
   {
    "duration": 85,
    "start_time": "2022-06-28T13:54:38.985Z"
   },
   {
    "duration": 12,
    "start_time": "2022-06-28T13:54:39.074Z"
   },
   {
    "duration": 72,
    "start_time": "2022-06-28T13:54:39.088Z"
   },
   {
    "duration": 10,
    "start_time": "2022-06-28T13:54:39.163Z"
   },
   {
    "duration": 34,
    "start_time": "2022-06-28T13:54:39.175Z"
   },
   {
    "duration": 10,
    "start_time": "2022-06-28T13:54:39.210Z"
   },
   {
    "duration": 49,
    "start_time": "2022-06-28T13:54:39.222Z"
   },
   {
    "duration": 30,
    "start_time": "2022-06-28T13:54:39.276Z"
   },
   {
    "duration": 16,
    "start_time": "2022-06-28T13:54:39.308Z"
   },
   {
    "duration": 46,
    "start_time": "2022-06-28T13:54:39.325Z"
   },
   {
    "duration": 96,
    "start_time": "2022-06-28T13:54:39.379Z"
   },
   {
    "duration": 3,
    "start_time": "2022-06-28T13:54:39.478Z"
   },
   {
    "duration": 79,
    "start_time": "2022-06-28T13:54:39.483Z"
   },
   {
    "duration": 16,
    "start_time": "2022-06-28T13:54:39.568Z"
   },
   {
    "duration": 12,
    "start_time": "2022-06-28T13:54:39.586Z"
   },
   {
    "duration": 13,
    "start_time": "2022-06-28T13:54:39.600Z"
   },
   {
    "duration": 30,
    "start_time": "2022-06-28T13:54:39.660Z"
   },
   {
    "duration": 16,
    "start_time": "2022-06-28T13:54:39.692Z"
   },
   {
    "duration": 53,
    "start_time": "2022-06-28T13:54:39.710Z"
   },
   {
    "duration": 33,
    "start_time": "2022-06-28T13:54:39.767Z"
   },
   {
    "duration": 4,
    "start_time": "2022-06-28T13:54:39.802Z"
   },
   {
    "duration": 10,
    "start_time": "2022-06-28T13:54:39.864Z"
   },
   {
    "duration": 108,
    "start_time": "2022-06-28T13:54:39.876Z"
   },
   {
    "duration": 1250,
    "start_time": "2022-06-28T13:54:39.986Z"
   },
   {
    "duration": 625,
    "start_time": "2022-06-28T13:54:41.237Z"
   },
   {
    "duration": 8,
    "start_time": "2022-06-28T13:54:41.871Z"
   },
   {
    "duration": 176,
    "start_time": "2022-06-28T13:54:41.886Z"
   },
   {
    "duration": 1516,
    "start_time": "2022-06-28T13:54:42.065Z"
   },
   {
    "duration": 8622,
    "start_time": "2022-06-28T13:54:43.583Z"
   },
   {
    "duration": 7857,
    "start_time": "2022-06-28T13:54:52.207Z"
   },
   {
    "duration": 8,
    "start_time": "2022-06-28T13:55:00.066Z"
   },
   {
    "duration": 124,
    "start_time": "2022-06-28T13:55:00.076Z"
   },
   {
    "duration": 168,
    "start_time": "2022-06-28T13:55:00.202Z"
   },
   {
    "duration": 26,
    "start_time": "2022-06-28T13:55:00.371Z"
   },
   {
    "duration": 27,
    "start_time": "2022-06-28T13:55:00.399Z"
   },
   {
    "duration": 111,
    "start_time": "2022-06-28T13:55:00.463Z"
   },
   {
    "duration": 12,
    "start_time": "2022-06-28T13:55:00.577Z"
   },
   {
    "duration": 1420,
    "start_time": "2022-06-28T13:55:00.590Z"
   },
   {
    "duration": 994,
    "start_time": "2022-06-28T13:55:02.014Z"
   },
   {
    "duration": 472,
    "start_time": "2022-06-28T13:55:03.010Z"
   },
   {
    "duration": 82,
    "start_time": "2022-06-28T13:55:03.484Z"
   },
   {
    "duration": 115,
    "start_time": "2022-06-28T13:55:03.577Z"
   },
   {
    "duration": 32,
    "start_time": "2022-06-28T13:55:03.694Z"
   },
   {
    "duration": 56,
    "start_time": "2022-06-28T13:55:03.728Z"
   },
   {
    "duration": 397,
    "start_time": "2022-06-28T13:55:03.786Z"
   },
   {
    "duration": 316,
    "start_time": "2022-06-28T13:55:04.185Z"
   },
   {
    "duration": 174,
    "start_time": "2022-06-28T13:55:04.503Z"
   },
   {
    "duration": 618,
    "start_time": "2022-06-28T13:55:04.679Z"
   },
   {
    "duration": 162,
    "start_time": "2022-06-28T13:55:05.299Z"
   },
   {
    "duration": 166,
    "start_time": "2022-06-28T13:55:05.473Z"
   },
   {
    "duration": 396,
    "start_time": "2022-06-28T13:55:05.641Z"
   },
   {
    "duration": 5,
    "start_time": "2022-06-28T13:55:06.038Z"
   },
   {
    "duration": 21,
    "start_time": "2022-06-28T13:55:06.044Z"
   },
   {
    "duration": 44,
    "start_time": "2022-06-28T13:55:06.067Z"
   },
   {
    "duration": 51,
    "start_time": "2022-06-28T13:55:06.114Z"
   },
   {
    "duration": 496,
    "start_time": "2022-06-28T13:55:06.166Z"
   },
   {
    "duration": 7,
    "start_time": "2022-06-28T13:55:06.668Z"
   },
   {
    "duration": 1846,
    "start_time": "2022-06-28T13:55:16.024Z"
   },
   {
    "duration": 9,
    "start_time": "2022-06-28T13:57:02.200Z"
   },
   {
    "duration": 32,
    "start_time": "2022-06-28T13:57:26.643Z"
   },
   {
    "duration": 1404,
    "start_time": "2022-06-28T13:58:44.604Z"
   },
   {
    "duration": 20,
    "start_time": "2022-06-28T13:59:30.689Z"
   },
   {
    "duration": 977,
    "start_time": "2022-06-28T13:59:47.588Z"
   },
   {
    "duration": 1001,
    "start_time": "2022-06-28T14:00:49.673Z"
   },
   {
    "duration": 122,
    "start_time": "2022-06-28T14:01:20.152Z"
   },
   {
    "duration": 26,
    "start_time": "2022-06-28T14:01:42.282Z"
   },
   {
    "duration": 29,
    "start_time": "2022-06-28T14:01:57.418Z"
   },
   {
    "duration": 299,
    "start_time": "2022-06-28T14:02:03.477Z"
   },
   {
    "duration": 4,
    "start_time": "2022-06-28T14:03:23.783Z"
   },
   {
    "duration": 28,
    "start_time": "2022-06-28T14:04:27.135Z"
   },
   {
    "duration": 200,
    "start_time": "2022-06-28T14:07:42.673Z"
   },
   {
    "duration": 31,
    "start_time": "2022-06-28T14:09:28.316Z"
   },
   {
    "duration": 52,
    "start_time": "2022-06-28T14:09:41.373Z"
   },
   {
    "duration": 83,
    "start_time": "2022-06-28T14:11:59.182Z"
   },
   {
    "duration": 34,
    "start_time": "2022-06-28T14:13:00.718Z"
   },
   {
    "duration": 68,
    "start_time": "2022-06-28T14:14:03.245Z"
   },
   {
    "duration": 408,
    "start_time": "2022-06-28T14:15:09.274Z"
   },
   {
    "duration": 200,
    "start_time": "2022-06-28T14:16:28.576Z"
   },
   {
    "duration": 32,
    "start_time": "2022-06-28T14:16:33.000Z"
   },
   {
    "duration": 441,
    "start_time": "2022-06-28T14:17:10.441Z"
   },
   {
    "duration": 959,
    "start_time": "2022-06-28T14:17:10.884Z"
   },
   {
    "duration": 35,
    "start_time": "2022-06-28T14:17:11.845Z"
   },
   {
    "duration": 14,
    "start_time": "2022-06-28T14:17:11.881Z"
   },
   {
    "duration": 4,
    "start_time": "2022-06-28T14:17:11.897Z"
   },
   {
    "duration": 10,
    "start_time": "2022-06-28T14:17:11.903Z"
   },
   {
    "duration": 12,
    "start_time": "2022-06-28T14:17:11.915Z"
   },
   {
    "duration": 37,
    "start_time": "2022-06-28T14:17:11.929Z"
   },
   {
    "duration": 14,
    "start_time": "2022-06-28T14:17:11.967Z"
   },
   {
    "duration": 6,
    "start_time": "2022-06-28T14:17:11.984Z"
   },
   {
    "duration": 11,
    "start_time": "2022-06-28T14:17:11.991Z"
   },
   {
    "duration": 13,
    "start_time": "2022-06-28T14:17:12.003Z"
   },
   {
    "duration": 20,
    "start_time": "2022-06-28T14:17:12.017Z"
   },
   {
    "duration": 3,
    "start_time": "2022-06-28T14:17:12.039Z"
   },
   {
    "duration": 24,
    "start_time": "2022-06-28T14:17:12.058Z"
   },
   {
    "duration": 12,
    "start_time": "2022-06-28T14:17:12.084Z"
   },
   {
    "duration": 10,
    "start_time": "2022-06-28T14:17:12.097Z"
   },
   {
    "duration": 10,
    "start_time": "2022-06-28T14:17:12.108Z"
   },
   {
    "duration": 9,
    "start_time": "2022-06-28T14:17:12.120Z"
   },
   {
    "duration": 6,
    "start_time": "2022-06-28T14:17:12.131Z"
   },
   {
    "duration": 4,
    "start_time": "2022-06-28T14:17:12.139Z"
   },
   {
    "duration": 51,
    "start_time": "2022-06-28T14:17:12.144Z"
   },
   {
    "duration": 3,
    "start_time": "2022-06-28T14:17:12.197Z"
   },
   {
    "duration": 6,
    "start_time": "2022-06-28T14:17:12.201Z"
   },
   {
    "duration": 60,
    "start_time": "2022-06-28T14:17:12.209Z"
   },
   {
    "duration": 796,
    "start_time": "2022-06-28T14:17:12.273Z"
   },
   {
    "duration": 501,
    "start_time": "2022-06-28T14:17:13.075Z"
   },
   {
    "duration": 85,
    "start_time": "2022-06-28T14:17:13.582Z"
   },
   {
    "duration": 195,
    "start_time": "2022-06-28T14:17:13.670Z"
   },
   {
    "duration": 2465,
    "start_time": "2022-06-28T14:17:13.868Z"
   },
   {
    "duration": 7539,
    "start_time": "2022-06-28T14:17:16.335Z"
   },
   {
    "duration": 3788,
    "start_time": "2022-06-28T14:17:23.876Z"
   },
   {
    "duration": 9,
    "start_time": "2022-06-28T14:17:27.666Z"
   },
   {
    "duration": 183,
    "start_time": "2022-06-28T14:17:27.677Z"
   },
   {
    "duration": 94,
    "start_time": "2022-06-28T14:17:27.867Z"
   },
   {
    "duration": 23,
    "start_time": "2022-06-28T14:17:27.962Z"
   },
   {
    "duration": 84,
    "start_time": "2022-06-28T14:17:27.987Z"
   },
   {
    "duration": 97,
    "start_time": "2022-06-28T14:17:28.074Z"
   },
   {
    "duration": 10,
    "start_time": "2022-06-28T14:17:28.178Z"
   },
   {
    "duration": 1412,
    "start_time": "2022-06-28T14:17:28.190Z"
   },
   {
    "duration": 966,
    "start_time": "2022-06-28T14:17:29.604Z"
   },
   {
    "duration": 585,
    "start_time": "2022-06-28T14:17:30.575Z"
   },
   {
    "duration": 305,
    "start_time": "2022-06-28T14:17:31.161Z"
   },
   {
    "duration": 15,
    "start_time": "2022-06-28T14:17:31.468Z"
   },
   {
    "duration": 38,
    "start_time": "2022-06-28T14:17:31.485Z"
   },
   {
    "duration": 72,
    "start_time": "2022-06-28T14:17:31.525Z"
   },
   {
    "duration": 387,
    "start_time": "2022-06-28T14:17:31.599Z"
   },
   {
    "duration": 243,
    "start_time": "2022-06-28T14:17:32.063Z"
   },
   {
    "duration": 169,
    "start_time": "2022-06-28T14:17:32.308Z"
   },
   {
    "duration": 438,
    "start_time": "2022-06-28T14:17:32.479Z"
   },
   {
    "duration": 188,
    "start_time": "2022-06-28T14:17:32.919Z"
   },
   {
    "duration": 196,
    "start_time": "2022-06-28T14:17:33.109Z"
   },
   {
    "duration": 373,
    "start_time": "2022-06-28T14:17:33.306Z"
   },
   {
    "duration": 4,
    "start_time": "2022-06-28T14:17:33.681Z"
   },
   {
    "duration": 13,
    "start_time": "2022-06-28T14:17:33.686Z"
   },
   {
    "duration": 30,
    "start_time": "2022-06-28T14:17:33.701Z"
   },
   {
    "duration": 129,
    "start_time": "2022-06-28T14:17:33.733Z"
   },
   {
    "duration": 117,
    "start_time": "2022-06-28T14:17:33.864Z"
   },
   {
    "duration": 6,
    "start_time": "2022-06-28T14:17:34.067Z"
   },
   {
    "duration": 37,
    "start_time": "2022-06-28T14:18:35.648Z"
   },
   {
    "duration": 8,
    "start_time": "2022-06-28T14:21:36.760Z"
   },
   {
    "duration": 17,
    "start_time": "2022-06-28T14:23:52.776Z"
   },
   {
    "duration": 9,
    "start_time": "2022-06-28T14:24:48.895Z"
   },
   {
    "duration": 10,
    "start_time": "2022-06-28T14:24:53.088Z"
   },
   {
    "duration": 108,
    "start_time": "2022-06-28T14:25:33.174Z"
   },
   {
    "duration": 558,
    "start_time": "2022-06-28T14:26:02.016Z"
   },
   {
    "duration": 12,
    "start_time": "2022-06-28T14:26:40.348Z"
   },
   {
    "duration": 12,
    "start_time": "2022-06-28T14:27:04.401Z"
   },
   {
    "duration": 10,
    "start_time": "2022-06-28T14:27:22.699Z"
   },
   {
    "duration": 8,
    "start_time": "2022-06-28T14:28:01.343Z"
   },
   {
    "duration": 13,
    "start_time": "2022-06-28T14:28:03.000Z"
   },
   {
    "duration": 81,
    "start_time": "2022-06-28T14:28:04.080Z"
   },
   {
    "duration": 13,
    "start_time": "2022-06-28T14:29:18.721Z"
   },
   {
    "duration": 11,
    "start_time": "2022-06-28T14:29:25.338Z"
   },
   {
    "duration": 16,
    "start_time": "2022-06-28T14:30:39.827Z"
   },
   {
    "duration": 43,
    "start_time": "2022-06-28T14:31:14.935Z"
   },
   {
    "duration": 139,
    "start_time": "2022-06-28T14:35:17.134Z"
   },
   {
    "duration": 19,
    "start_time": "2022-06-28T14:35:24.854Z"
   },
   {
    "duration": 24,
    "start_time": "2022-06-28T14:35:25.823Z"
   },
   {
    "duration": 115,
    "start_time": "2022-06-28T14:35:26.647Z"
   },
   {
    "duration": 90,
    "start_time": "2022-06-28T14:35:29.076Z"
   },
   {
    "duration": 126,
    "start_time": "2022-06-28T14:36:35.752Z"
   },
   {
    "duration": 48,
    "start_time": "2022-06-28T18:04:16.264Z"
   },
   {
    "duration": 372,
    "start_time": "2022-06-28T18:04:21.617Z"
   },
   {
    "duration": 1097,
    "start_time": "2022-06-28T18:04:21.991Z"
   },
   {
    "duration": 55,
    "start_time": "2022-06-28T18:04:23.090Z"
   },
   {
    "duration": 18,
    "start_time": "2022-06-28T18:04:23.148Z"
   },
   {
    "duration": 7,
    "start_time": "2022-06-28T18:04:23.168Z"
   },
   {
    "duration": 12,
    "start_time": "2022-06-28T18:04:23.176Z"
   },
   {
    "duration": 9,
    "start_time": "2022-06-28T18:04:23.189Z"
   },
   {
    "duration": 7,
    "start_time": "2022-06-28T18:04:23.199Z"
   },
   {
    "duration": 12,
    "start_time": "2022-06-28T18:04:23.208Z"
   },
   {
    "duration": 6,
    "start_time": "2022-06-28T18:04:23.222Z"
   },
   {
    "duration": 8,
    "start_time": "2022-06-28T18:04:23.229Z"
   },
   {
    "duration": 24,
    "start_time": "2022-06-28T18:04:23.239Z"
   },
   {
    "duration": 29,
    "start_time": "2022-06-28T18:04:23.264Z"
   },
   {
    "duration": 2,
    "start_time": "2022-06-28T18:04:23.295Z"
   },
   {
    "duration": 14,
    "start_time": "2022-06-28T18:04:23.299Z"
   },
   {
    "duration": 15,
    "start_time": "2022-06-28T18:04:23.314Z"
   },
   {
    "duration": 7,
    "start_time": "2022-06-28T18:04:23.330Z"
   },
   {
    "duration": 9,
    "start_time": "2022-06-28T18:04:23.339Z"
   },
   {
    "duration": 21,
    "start_time": "2022-06-28T18:04:23.350Z"
   },
   {
    "duration": 6,
    "start_time": "2022-06-28T18:04:23.373Z"
   },
   {
    "duration": 4,
    "start_time": "2022-06-28T18:04:23.381Z"
   },
   {
    "duration": 30,
    "start_time": "2022-06-28T18:04:23.386Z"
   },
   {
    "duration": 2,
    "start_time": "2022-06-28T18:04:23.418Z"
   },
   {
    "duration": 6,
    "start_time": "2022-06-28T18:04:23.422Z"
   },
   {
    "duration": 54,
    "start_time": "2022-06-28T18:04:23.430Z"
   },
   {
    "duration": 1502,
    "start_time": "2022-06-28T18:04:23.485Z"
   },
   {
    "duration": 1464,
    "start_time": "2022-06-28T18:04:24.989Z"
   },
   {
    "duration": 6,
    "start_time": "2022-06-28T18:04:26.458Z"
   },
   {
    "duration": 210,
    "start_time": "2022-06-28T18:04:26.466Z"
   },
   {
    "duration": 1514,
    "start_time": "2022-06-28T18:04:26.758Z"
   },
   {
    "duration": 7472,
    "start_time": "2022-06-28T18:04:28.274Z"
   },
   {
    "duration": 2909,
    "start_time": "2022-06-28T18:04:35.752Z"
   },
   {
    "duration": 6,
    "start_time": "2022-06-28T18:04:38.662Z"
   },
   {
    "duration": 206,
    "start_time": "2022-06-28T18:04:38.670Z"
   },
   {
    "duration": 79,
    "start_time": "2022-06-28T18:04:38.877Z"
   },
   {
    "duration": 109,
    "start_time": "2022-06-28T18:04:38.962Z"
   },
   {
    "duration": 31,
    "start_time": "2022-06-28T18:04:39.073Z"
   },
   {
    "duration": 62,
    "start_time": "2022-06-28T18:04:39.106Z"
   },
   {
    "duration": 99,
    "start_time": "2022-06-28T18:04:39.175Z"
   },
   {
    "duration": 1390,
    "start_time": "2022-06-28T18:04:39.276Z"
   },
   {
    "duration": 933,
    "start_time": "2022-06-28T18:04:40.668Z"
   },
   {
    "duration": 268,
    "start_time": "2022-06-28T18:04:41.602Z"
   },
   {
    "duration": 290,
    "start_time": "2022-06-28T18:04:41.874Z"
   },
   {
    "duration": 23,
    "start_time": "2022-06-28T18:04:42.167Z"
   },
   {
    "duration": 75,
    "start_time": "2022-06-28T18:04:42.191Z"
   },
   {
    "duration": 57,
    "start_time": "2022-06-28T18:04:42.268Z"
   },
   {
    "duration": 833,
    "start_time": "2022-06-28T18:04:42.327Z"
   },
   {
    "duration": 116,
    "start_time": "2022-06-28T18:04:43.162Z"
   },
   {
    "duration": 164,
    "start_time": "2022-06-28T18:04:43.353Z"
   },
   {
    "duration": 175,
    "start_time": "2022-06-28T18:04:43.519Z"
   },
   {
    "duration": 812,
    "start_time": "2022-06-28T18:04:43.695Z"
   },
   {
    "duration": 174,
    "start_time": "2022-06-28T18:04:44.509Z"
   },
   {
    "duration": 181,
    "start_time": "2022-06-28T18:04:44.685Z"
   },
   {
    "duration": 406,
    "start_time": "2022-06-28T18:04:44.869Z"
   },
   {
    "duration": 5,
    "start_time": "2022-06-28T18:04:45.278Z"
   },
   {
    "duration": 16,
    "start_time": "2022-06-28T18:04:45.284Z"
   },
   {
    "duration": 33,
    "start_time": "2022-06-28T18:04:45.304Z"
   },
   {
    "duration": 52,
    "start_time": "2022-06-28T18:04:45.339Z"
   },
   {
    "duration": 74,
    "start_time": "2022-06-28T18:04:45.393Z"
   },
   {
    "duration": 188,
    "start_time": "2022-06-28T18:04:45.472Z"
   },
   {
    "duration": 43,
    "start_time": "2022-09-06T19:13:26.944Z"
   },
   {
    "duration": 413,
    "start_time": "2022-09-06T19:13:49.376Z"
   },
   {
    "duration": 939,
    "start_time": "2022-09-06T19:13:49.791Z"
   },
   {
    "duration": 360,
    "start_time": "2022-09-06T19:13:50.731Z"
   },
   {
    "duration": 11,
    "start_time": "2022-09-06T19:13:51.093Z"
   },
   {
    "duration": 11,
    "start_time": "2022-09-06T19:13:51.106Z"
   },
   {
    "duration": 14,
    "start_time": "2022-09-06T19:13:51.118Z"
   },
   {
    "duration": 24,
    "start_time": "2022-09-06T19:13:51.133Z"
   },
   {
    "duration": 13,
    "start_time": "2022-09-06T19:13:51.158Z"
   },
   {
    "duration": 20,
    "start_time": "2022-09-06T19:13:51.172Z"
   },
   {
    "duration": 15,
    "start_time": "2022-09-06T19:13:51.193Z"
   },
   {
    "duration": 12,
    "start_time": "2022-09-06T19:13:51.209Z"
   },
   {
    "duration": 18,
    "start_time": "2022-09-06T19:13:51.222Z"
   },
   {
    "duration": 19,
    "start_time": "2022-09-06T19:13:51.241Z"
   },
   {
    "duration": 3,
    "start_time": "2022-09-06T19:13:51.263Z"
   },
   {
    "duration": 14,
    "start_time": "2022-09-06T19:13:51.267Z"
   },
   {
    "duration": 9,
    "start_time": "2022-09-06T19:13:51.282Z"
   },
   {
    "duration": 16,
    "start_time": "2022-09-06T19:13:51.292Z"
   },
   {
    "duration": 7,
    "start_time": "2022-09-06T19:13:51.309Z"
   },
   {
    "duration": 10,
    "start_time": "2022-09-06T19:13:51.317Z"
   },
   {
    "duration": 6,
    "start_time": "2022-09-06T19:13:51.328Z"
   },
   {
    "duration": 3,
    "start_time": "2022-09-06T19:13:51.335Z"
   },
   {
    "duration": 31,
    "start_time": "2022-09-06T19:13:51.340Z"
   },
   {
    "duration": 3,
    "start_time": "2022-09-06T19:13:51.372Z"
   },
   {
    "duration": 5,
    "start_time": "2022-09-06T19:13:51.376Z"
   },
   {
    "duration": 37,
    "start_time": "2022-09-06T19:13:51.405Z"
   },
   {
    "duration": 781,
    "start_time": "2022-09-06T19:13:51.444Z"
   },
   {
    "duration": 287,
    "start_time": "2022-09-06T19:13:52.226Z"
   },
   {
    "duration": 94,
    "start_time": "2022-09-06T19:13:52.514Z"
   },
   {
    "duration": 296,
    "start_time": "2022-09-06T19:13:52.610Z"
   },
   {
    "duration": 2145,
    "start_time": "2022-09-06T19:13:52.908Z"
   },
   {
    "duration": 7315,
    "start_time": "2022-09-06T19:13:55.054Z"
   },
   {
    "duration": 1436,
    "start_time": "2022-09-06T19:14:02.371Z"
   },
   {
    "duration": 4,
    "start_time": "2022-09-06T19:14:03.808Z"
   },
   {
    "duration": 117,
    "start_time": "2022-09-06T19:14:03.813Z"
   },
   {
    "duration": 4,
    "start_time": "2022-09-06T19:14:03.932Z"
   },
   {
    "duration": 105,
    "start_time": "2022-09-06T19:14:04.006Z"
   },
   {
    "duration": 24,
    "start_time": "2022-09-06T19:14:04.112Z"
   },
   {
    "duration": 102,
    "start_time": "2022-09-06T19:14:04.205Z"
   },
   {
    "duration": 3,
    "start_time": "2022-09-06T19:14:04.309Z"
   },
   {
    "duration": 1408,
    "start_time": "2022-09-06T19:14:04.313Z"
   },
   {
    "duration": 962,
    "start_time": "2022-09-06T19:14:05.725Z"
   },
   {
    "duration": 222,
    "start_time": "2022-09-06T19:14:06.688Z"
   },
   {
    "duration": 301,
    "start_time": "2022-09-06T19:14:06.911Z"
   },
   {
    "duration": 11,
    "start_time": "2022-09-06T19:14:07.214Z"
   },
   {
    "duration": 30,
    "start_time": "2022-09-06T19:14:07.226Z"
   },
   {
    "duration": 75,
    "start_time": "2022-09-06T19:14:07.258Z"
   },
   {
    "duration": 272,
    "start_time": "2022-09-06T19:14:07.335Z"
   },
   {
    "duration": 113,
    "start_time": "2022-09-06T19:14:07.612Z"
   },
   {
    "duration": 171,
    "start_time": "2022-09-06T19:14:07.726Z"
   },
   {
    "duration": 178,
    "start_time": "2022-09-06T19:14:07.899Z"
   },
   {
    "duration": 762,
    "start_time": "2022-09-06T19:14:08.078Z"
   },
   {
    "duration": 170,
    "start_time": "2022-09-06T19:14:08.841Z"
   },
   {
    "duration": 191,
    "start_time": "2022-09-06T19:14:09.012Z"
   },
   {
    "duration": 405,
    "start_time": "2022-09-06T19:14:09.205Z"
   },
   {
    "duration": 4,
    "start_time": "2022-09-06T19:14:09.612Z"
   },
   {
    "duration": 18,
    "start_time": "2022-09-06T19:14:09.618Z"
   },
   {
    "duration": 17,
    "start_time": "2022-09-06T19:14:09.638Z"
   },
   {
    "duration": 19,
    "start_time": "2022-09-06T19:14:09.658Z"
   },
   {
    "duration": 37,
    "start_time": "2022-09-06T19:14:09.679Z"
   },
   {
    "duration": 89,
    "start_time": "2022-09-06T19:14:09.718Z"
   },
   {
    "duration": 205,
    "start_time": "2022-09-06T19:14:09.809Z"
   }
  ],
  "kernelspec": {
   "display_name": "Python 3 (ipykernel)",
   "language": "python",
   "name": "python3"
  },
  "language_info": {
   "codemirror_mode": {
    "name": "ipython",
    "version": 3
   },
   "file_extension": ".py",
   "mimetype": "text/x-python",
   "name": "python",
   "nbconvert_exporter": "python",
   "pygments_lexer": "ipython3",
   "version": "3.8.16"
  },
  "toc": {
   "base_numbering": 1,
   "nav_menu": {},
   "number_sections": true,
   "sideBar": true,
   "skip_h1_title": true,
   "title_cell": "Содержание",
   "title_sidebar": "Contents",
   "toc_cell": true,
   "toc_position": {
    "height": "calc(100% - 180px)",
    "left": "10px",
    "top": "150px",
    "width": "286.237px"
   },
   "toc_section_display": true,
   "toc_window_display": true
  }
 },
 "nbformat": 4,
 "nbformat_minor": 2
}
