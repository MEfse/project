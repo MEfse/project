{
 "cells": [
  {
   "cell_type": "markdown",
   "metadata": {
    "id": "E0vqbgi9ay0H"
   },
   "source": [
    "# Проект: Яндекс.Музыка "
   ]
  },
  {
   "cell_type": "markdown",
   "metadata": {
    "id": "VUC88oWjTJw2"
   },
   "source": [
    "Сравнение Москвы и Петербурга окружено мифами. К примеру:\n",
    " * Москва — мегаполис, подчинённый жёсткому ритму рабочей недели;\n",
    " * Петербург — культурная столица, со своими вкусами.\n",
    "\n",
    "На данных Яндекс.Музыки необходимо сравнить поведение пользователей двух столиц.\n",
    "\n",
    "**Цель исследования** — проверить три гипотезы:\n",
    "1. Активность пользователей зависит от дня недели. Причём в Москве и Петербурге это проявляется по-разному.\n",
    "2. В понедельник утром в Москве преобладают одни жанры, а в Петербурге — другие. Так же и вечером пятницы преобладают разные жанры — в зависимости от города. \n",
    "3. Москва и Петербург предпочитают разные жанры музыки. В Москве чаще слушают поп-музыку, в Петербурге — русский рэп.\n",
    "\n",
    "**Ход исследования**\n",
    "\n",
    "Данные о поведении пользователей содержатся в файле `yandex_music_project.csv`. О качестве данных ничего не известно. Поэтому перед проверкой гипотез понадобится обзор данных. \n",
    "\n",
    "Необходимо проверить данные на ошибки и оценить их влияние на исследование. Затем, на этапе предобработки, возможно, нужно исправить самые критичные ошибки данных.\n",
    " \n",
    "Таким образом, исследование пройдёт в несколько этапов:\n",
    " 1. Обзор данных.\n",
    " 2. Предобработка данных.\n",
    " 3. Проверка гипотез.\n",
    " 4. Итоги исследования.\n",
    "\n"
   ]
  },
  {
   "cell_type": "markdown",
   "metadata": {},
   "source": [
    "# Cодержание\n",
    "\n",
    "\n",
    "***\n",
    "1. [Обзор данных](#data_overview).\n",
    "***\n",
    "2. [Предобработка данных](#data_preprocessing).\n",
    "    - 2.1 [Стиль заголовков](#heading_style)\n",
    "    - 2.2 [Пропуски значений](#missing_values)\n",
    "    - 2.3 [Дубликаты](#duplicates) \n",
    "***\n",
    "3. [Проверка гипотез](#hypothesis_testing)\n",
    "    - 3.1 [Сравнение поведения пользователей двух столиц](#behavior_comparison)\n",
    "    - 3.2 [Музыка в начале и в конце недели](#music)\n",
    "    - 3.3 [Жанровые предпочтения в Москве и Петербурге](#genre_preferences)\n",
    "*** \n",
    "4. [Итоги исследования](#outcomes)\n",
    "***\n",
    "\n"
   ]
  },
  {
   "cell_type": "markdown",
   "metadata": {
    "id": "Ml1hmfXC_Zcs"
   },
   "source": [
    "## Обзор данных <a id='data_overview'></a>\n",
    "\n",
    "Первое представление о данных Яндекс.Музыки.\n",
    "\n",
    "\n"
   ]
  },
  {
   "cell_type": "markdown",
   "metadata": {
    "id": "57eAOGIz_Zcs"
   },
   "source": [
    "**Импорт библиотеки** — `pandas`."
   ]
  },
  {
   "cell_type": "code",
   "execution_count": 1,
   "metadata": {
    "id": "AXN7PHPN_Zcs"
   },
   "outputs": [],
   "source": [
    "import pandas as pd"
   ]
  },
  {
   "cell_type": "markdown",
   "metadata": {
    "id": "SG23P8tt_Zcs"
   },
   "source": [
    "**Прочитение файла** `yandex_music_project.csv`и его сохранение в переменной `df`:"
   ]
  },
  {
   "cell_type": "code",
   "execution_count": 2,
   "metadata": {},
   "outputs": [],
   "source": [
    "path = 'https://github.com/MEfse/project/blob/main/Project/%D0%91%D0%B0%D0%B7%D0%BE%D0%B2%D1%8B%D0%B9%20Python/yandex_music_project.csv?raw=true'"
   ]
  },
  {
   "cell_type": "code",
   "execution_count": 3,
   "metadata": {
    "id": "fFVu7vqh_Zct"
   },
   "outputs": [],
   "source": [
    "df = pd.read_csv(path)"
   ]
  },
  {
   "cell_type": "markdown",
   "metadata": {
    "id": "rDoOMd3uTqnZ"
   },
   "source": [
    "**Вывод** на экран **первых пяти строк** таблицы:"
   ]
  },
  {
   "cell_type": "code",
   "execution_count": 4,
   "metadata": {
    "id": "oWTVX3gW_Zct"
   },
   "outputs": [
    {
     "data": {
      "text/html": [
       "<div>\n",
       "<style scoped>\n",
       "    .dataframe tbody tr th:only-of-type {\n",
       "        vertical-align: middle;\n",
       "    }\n",
       "\n",
       "    .dataframe tbody tr th {\n",
       "        vertical-align: top;\n",
       "    }\n",
       "\n",
       "    .dataframe thead th {\n",
       "        text-align: right;\n",
       "    }\n",
       "</style>\n",
       "<table border=\"1\" class=\"dataframe\">\n",
       "  <thead>\n",
       "    <tr style=\"text-align: right;\">\n",
       "      <th></th>\n",
       "      <th>userID</th>\n",
       "      <th>Track</th>\n",
       "      <th>artist</th>\n",
       "      <th>genre</th>\n",
       "      <th>City</th>\n",
       "      <th>time</th>\n",
       "      <th>Day</th>\n",
       "    </tr>\n",
       "  </thead>\n",
       "  <tbody>\n",
       "    <tr>\n",
       "      <th>0</th>\n",
       "      <td>FFB692EC</td>\n",
       "      <td>Kamigata To Boots</td>\n",
       "      <td>The Mass Missile</td>\n",
       "      <td>rock</td>\n",
       "      <td>Saint-Petersburg</td>\n",
       "      <td>20:28:33</td>\n",
       "      <td>Wednesday</td>\n",
       "    </tr>\n",
       "    <tr>\n",
       "      <th>1</th>\n",
       "      <td>55204538</td>\n",
       "      <td>Delayed Because of Accident</td>\n",
       "      <td>Andreas Rönnberg</td>\n",
       "      <td>rock</td>\n",
       "      <td>Moscow</td>\n",
       "      <td>14:07:09</td>\n",
       "      <td>Friday</td>\n",
       "    </tr>\n",
       "    <tr>\n",
       "      <th>2</th>\n",
       "      <td>20EC38</td>\n",
       "      <td>Funiculì funiculà</td>\n",
       "      <td>Mario Lanza</td>\n",
       "      <td>pop</td>\n",
       "      <td>Saint-Petersburg</td>\n",
       "      <td>20:58:07</td>\n",
       "      <td>Wednesday</td>\n",
       "    </tr>\n",
       "    <tr>\n",
       "      <th>3</th>\n",
       "      <td>A3DD03C9</td>\n",
       "      <td>Dragons in the Sunset</td>\n",
       "      <td>Fire + Ice</td>\n",
       "      <td>folk</td>\n",
       "      <td>Saint-Petersburg</td>\n",
       "      <td>08:37:09</td>\n",
       "      <td>Monday</td>\n",
       "    </tr>\n",
       "    <tr>\n",
       "      <th>4</th>\n",
       "      <td>E2DC1FAE</td>\n",
       "      <td>Soul People</td>\n",
       "      <td>Space Echo</td>\n",
       "      <td>dance</td>\n",
       "      <td>Moscow</td>\n",
       "      <td>08:34:34</td>\n",
       "      <td>Monday</td>\n",
       "    </tr>\n",
       "  </tbody>\n",
       "</table>\n",
       "</div>"
      ],
      "text/plain": [
       "     userID                        Track            artist  genre  \\\n",
       "0  FFB692EC            Kamigata To Boots  The Mass Missile   rock   \n",
       "1  55204538  Delayed Because of Accident  Andreas Rönnberg   rock   \n",
       "2    20EC38            Funiculì funiculà       Mario Lanza    pop   \n",
       "3  A3DD03C9        Dragons in the Sunset        Fire + Ice   folk   \n",
       "4  E2DC1FAE                  Soul People        Space Echo  dance   \n",
       "\n",
       "             City        time        Day  \n",
       "0  Saint-Petersburg  20:28:33  Wednesday  \n",
       "1            Moscow  14:07:09     Friday  \n",
       "2  Saint-Petersburg  20:58:07  Wednesday  \n",
       "3  Saint-Petersburg  08:37:09     Monday  \n",
       "4            Moscow  08:34:34     Monday  "
      ]
     },
     "execution_count": 4,
     "metadata": {},
     "output_type": "execute_result"
    }
   ],
   "source": [
    "df.head(5)"
   ]
  },
  {
   "cell_type": "markdown",
   "metadata": {
    "id": "EO73Kwic_Zct"
   },
   "source": [
    "Общая информация о таблице:"
   ]
  },
  {
   "cell_type": "code",
   "execution_count": 5,
   "metadata": {
    "id": "DSf2kIb-_Zct"
   },
   "outputs": [
    {
     "name": "stdout",
     "output_type": "stream",
     "text": [
      "<class 'pandas.core.frame.DataFrame'>\n",
      "RangeIndex: 65079 entries, 0 to 65078\n",
      "Data columns (total 7 columns):\n",
      " #   Column    Non-Null Count  Dtype \n",
      "---  ------    --------------  ----- \n",
      " 0     userID  65079 non-null  object\n",
      " 1   Track     63848 non-null  object\n",
      " 2   artist    57876 non-null  object\n",
      " 3   genre     63881 non-null  object\n",
      " 4     City    65079 non-null  object\n",
      " 5   time      65079 non-null  object\n",
      " 6   Day       65079 non-null  object\n",
      "dtypes: object(7)\n",
      "memory usage: 3.5+ MB\n"
     ]
    }
   ],
   "source": [
    "df.info()"
   ]
  },
  {
   "cell_type": "markdown",
   "metadata": {
    "id": "TaQ2Iwbr_Zct"
   },
   "source": [
    "В таблице семь столбцов. Тип данных во всех столбцах — `object`.\n",
    "\n",
    "**Согласно документации к данным:**\n",
    "* `userID` — идентификатор пользователя;\n",
    "* `Track` — название трека;  \n",
    "* `artist` — имя исполнителя;\n",
    "* `genre` — название жанра;\n",
    "* `City` — город пользователя;\n",
    "* `time` — время начала прослушивания;\n",
    "* `Day` — день недели.\n",
    "\n",
    "**В названиях колонок видны три нарушения стиля:**\n",
    "1. Строчные буквы сочетаются с прописными.\n",
    "2. Встречаются пробелы.\n",
    "3. Название переменных не соответствует *змеиныму_регистру*.\n",
    "\n",
    "Количество значений в столбцах различается. Значит, в данных есть пропущенные значения."
   ]
  },
  {
   "cell_type": "markdown",
   "metadata": {
    "id": "MCB6-dXG_Zct"
   },
   "source": [
    "**Выводы** <a id='conclusion'></a>\n",
    "\n",
    "В каждой строке таблицы — данные о прослушанном треке. \n",
    "\n",
    "Часть колонок описывает саму композицию: \n",
    "* `Track` — название трека;  \n",
    "* `artist` — имя исполнителя;\n",
    "* `genre` — название жанра;\n",
    "\n",
    "Остальные данные рассказывают о пользователе:\n",
    "* `userID` — идентификатор пользователя;\n",
    "* `City` — город пользователя;\n",
    "* `time` — время начала прослушивания;\n",
    "* `Day` — день недели.\n",
    "\n",
    "Предварительно можно утверждать, что, данных достаточно для проверки гипотез. Но встречаются пропуски в данных, а в названиях колонок — расхождения с хорошим стилем."
   ]
  },
  {
   "cell_type": "markdown",
   "metadata": {
    "id": "SjYF6Ub9_Zct"
   },
   "source": [
    "## Предобработка данных <a id='data_preprocessing'></a>\n",
    "\n",
    "1. Исходя из [вывода](#conclusion) в обзоре данных, необходимо исправить стиль в заголовках столбцов:\n",
    "\n",
    "\n",
    "* `'  userID'` — убрать двойной пробел;  \n",
    "* `Track` — исправить строчную букву на прописную;\n",
    "* `'  City'` — убрать двойной пробел и исправить строчную букву на прописную;\n",
    "* `Day` — исправить строчную букву на прописную.\n",
    "\n",
    "\n",
    "2. Необходимо исключить пропуски. \n",
    "* `userID` — <span style=\"color:green\">65079 данных</span>;  \n",
    "* `track`  — <span style=\"color:olive\">63848 данных</span>;\n",
    "* `artist` — <span style=\"color:red\">  57876 данных</span>;\n",
    "* `genre`  — <span style=\"color:olive\">63881 данных</span>;\n",
    "* `city`   — <span style=\"color:green\">65079 данных</span>;  \n",
    "* `time`   — <span style=\"color:green\">65079 данных</span>;\n",
    "* `day`    — <span style=\"color:green\">65079 данных</span>,\n",
    "\n",
    "где значение цвета определяет: \n",
    "            \n",
    "<span style=\"color:red\">1</span> `Красный` —  данных потеряно больше всего;\n",
    "<br>\n",
    "<span style=\"color:olive\">2</span> `Желтый` —  незначительная потеря данных;\n",
    "<br>\n",
    "<span style=\"color:green\">3</span> `Зеленый` —  сохранена целостность данных.\n",
    "\n",
    "3. Затем нужно проверить данные на дубликаты.\n",
    "\n",
    "* Предварительно, в документе могут содержаться как явные, так и неявные дубликаты."
   ]
  },
  {
   "cell_type": "markdown",
   "metadata": {
    "id": "dIaKXr29_Zct"
   },
   "source": [
    "### Стиль заголовков <a id='heading_style'></a>\n",
    "\n",
    "Выводим на экран названия столбцов:"
   ]
  },
  {
   "cell_type": "code",
   "execution_count": 6,
   "metadata": {
    "id": "oKOTdF_Q_Zct"
   },
   "outputs": [
    {
     "data": {
      "text/plain": [
       "Index(['  userID', 'Track', 'artist', 'genre', '  City  ', 'time', 'Day'], dtype='object')"
      ]
     },
     "execution_count": 6,
     "metadata": {},
     "output_type": "execute_result"
    }
   ],
   "source": [
    "df.columns"
   ]
  },
  {
   "cell_type": "markdown",
   "metadata": {
    "id": "zj5534cv_Zct"
   },
   "source": [
    "Необходимо привести названия в соответствие с хорошим стилем:\n",
    "* несколько слов в названии записать в «змеином_регистре»,\n",
    "* все символы сделать строчными,\n",
    "* устранить пробелы.\n",
    "\n",
    "Для этого переименовываем колонки так:\n",
    "* `'  userID'` → `'user_id'`;\n",
    "* `'Track'` → `'track'`;\n",
    "* `'  City  '` → `'city'`;\n",
    "* `'Day'` → `'day'`."
   ]
  },
  {
   "cell_type": "code",
   "execution_count": 7,
   "metadata": {
    "id": "ISlFqs5y_Zct"
   },
   "outputs": [],
   "source": [
    "df = df.rename(columns={'  userID': 'user_id', 'Track' : 'track', '  City  ' : 'city', 'Day' : 'day'})"
   ]
  },
  {
   "cell_type": "markdown",
   "metadata": {
    "id": "1dqbh00J_Zct"
   },
   "source": [
    "Необходимо проверить результат. \n",
    "Ещё раз выводим на экран названия столбцов:"
   ]
  },
  {
   "cell_type": "code",
   "execution_count": 8,
   "metadata": {
    "id": "d4NOAmTW_Zct"
   },
   "outputs": [
    {
     "data": {
      "text/plain": [
       "Index(['user_id', 'track', 'artist', 'genre', 'city', 'time', 'day'], dtype='object')"
      ]
     },
     "execution_count": 8,
     "metadata": {},
     "output_type": "execute_result"
    }
   ],
   "source": [
    "df.columns"
   ]
  },
  {
   "cell_type": "markdown",
   "metadata": {},
   "source": [
    "**Все названия столбцов изменены под хороший стиль.**"
   ]
  },
  {
   "cell_type": "markdown",
   "metadata": {
    "id": "5ISfbcfY_Zct"
   },
   "source": [
    "### Пропуски значений <a id='missing_values'></a>\n",
    "**Необходимо посчитать, сколько в таблице пропущенных значений.** Для этого достаточно двух методов `pandas`:"
   ]
  },
  {
   "cell_type": "code",
   "execution_count": 9,
   "metadata": {
    "id": "RskX29qr_Zct"
   },
   "outputs": [
    {
     "data": {
      "text/plain": [
       "user_id       0\n",
       "track      1231\n",
       "artist     7203\n",
       "genre      1198\n",
       "city          0\n",
       "time          0\n",
       "day           0\n",
       "dtype: int64"
      ]
     },
     "execution_count": 9,
     "metadata": {},
     "output_type": "execute_result"
    }
   ],
   "source": [
    "df.isna().sum()"
   ]
  },
  {
   "cell_type": "markdown",
   "metadata": {
    "id": "qubhgnlO_Zct"
   },
   "source": [
    "Не все пропущенные значения влияют на исследование. Так в `track` и `artist` пропуски не важны и достаточно заменить их явными обозначениями.\n",
    "\n",
    "Но пропуски в `genre` могут помешать сравнению музыкальных вкусов в Москве и Санкт-Петербурге. Необходимо правильно установить причину пропусков и восстановить данные. Тогда:\n",
    "* заполнить и эти пропуски явными обозначениями,\n",
    "* оценить, насколько они повредят расчётам. "
   ]
  },
  {
   "cell_type": "markdown",
   "metadata": {
    "id": "fSv2laPA_Zct"
   },
   "source": [
    "Следующим шагом происходит замена пропущенных значений в столбцах `track`, `artist` и `genre` на строку `'unknown'`. Для этого создаём список `columns_to_replace`, перебераем его элементы циклом `for` и для каждого столбца выполняем замену пропущенных значений:"
   ]
  },
  {
   "cell_type": "code",
   "execution_count": 10,
   "metadata": {
    "id": "KplB5qWs_Zct"
   },
   "outputs": [],
   "source": [
    "columns_to_replace = ['track', 'artist', 'genre']\n",
    "for _ in columns_to_replace:\n",
    "    df[_] = df[_].fillna('unknown')"
   ]
  },
  {
   "cell_type": "markdown",
   "metadata": {
    "id": "Ilsm-MZo_Zct"
   },
   "source": [
    "Исследуем таблицу на пропуски. Для этого ещё раз посчитаем пропущенные значения."
   ]
  },
  {
   "cell_type": "code",
   "execution_count": 11,
   "metadata": {
    "id": "Tq4nYRX4_Zct"
   },
   "outputs": [
    {
     "data": {
      "text/plain": [
       "user_id    0\n",
       "track      0\n",
       "artist     0\n",
       "genre      0\n",
       "city       0\n",
       "time       0\n",
       "day        0\n",
       "dtype: int64"
      ]
     },
     "execution_count": 11,
     "metadata": {},
     "output_type": "execute_result"
    }
   ],
   "source": [
    "df.isna().sum()"
   ]
  },
  {
   "cell_type": "markdown",
   "metadata": {},
   "source": [
    "**Все пропуски заполнены.**"
   ]
  },
  {
   "cell_type": "markdown",
   "metadata": {
    "id": "BWKRtBJ3_Zct"
   },
   "source": [
    "### Дубликаты <a id='duplicates'></a>\n",
    "\n",
    "**Находим явные дубликаты в таблице одной командой:**"
   ]
  },
  {
   "cell_type": "code",
   "execution_count": 12,
   "metadata": {
    "id": "36eES_S0_Zct"
   },
   "outputs": [
    {
     "data": {
      "text/plain": [
       "3826"
      ]
     },
     "execution_count": 12,
     "metadata": {},
     "output_type": "execute_result"
    }
   ],
   "source": [
    "df.duplicated().sum()"
   ]
  },
  {
   "cell_type": "markdown",
   "metadata": {
    "id": "Ot25h6XR_Zct"
   },
   "source": [
    "**Явных дубликатов оказалось** `3826`, поэтому вызываем специальный метод `pandas`, для их удаления.\n",
    "При этом удаляем старые индексы и формируем новые:"
   ]
  },
  {
   "cell_type": "code",
   "execution_count": 13,
   "metadata": {
    "id": "exFHq6tt_Zct"
   },
   "outputs": [],
   "source": [
    "df = df.drop_duplicates().reset_index(drop=True)"
   ]
  },
  {
   "cell_type": "markdown",
   "metadata": {
    "id": "Im2YwBEG_Zct"
   },
   "source": [
    "Ещё раз просчитываем явные дубликаты в таблице, с целью убедиться, что полностью от них избавились:"
   ]
  },
  {
   "cell_type": "code",
   "execution_count": 14,
   "metadata": {
    "id": "-8PuNWQ0_Zct"
   },
   "outputs": [
    {
     "data": {
      "text/plain": [
       "0"
      ]
     },
     "execution_count": 14,
     "metadata": {},
     "output_type": "execute_result"
    }
   ],
   "source": [
    "df.duplicated().sum()"
   ]
  },
  {
   "cell_type": "markdown",
   "metadata": {
    "id": "QlFBsxAr_Zct"
   },
   "source": [
    "Убедившийсь в том, что **явных дубликатов осталось** `0` ,теперь **избавляемся от неявных дубликатов в колонке** `genre`. Например, название одного и того же жанра может быть записано немного по-разному. Такие ошибки тоже повлияют на результат исследования."
   ]
  },
  {
   "cell_type": "markdown",
   "metadata": {
    "id": "eSjWwsOh_Zct"
   },
   "source": [
    "Поэтому выводим на экран список уникальных названий жанров, отсортированный в алфавитном порядке. Для этого:\n",
    "* извлекаем нужный столбец датафрейма, \n",
    "* применяем к нему метод сортировки,\n",
    "* для отсортированного столбца вызываем метод, который вернёт уникальные значения из столбца."
   ]
  },
  {
   "cell_type": "code",
   "execution_count": 15,
   "metadata": {
    "id": "JIUcqzZN_Zct"
   },
   "outputs": [
    {
     "name": "stdout",
     "output_type": "stream",
     "text": [
      "['rock' 'pop' 'folk' 'dance' 'rusrap' 'ruspop' 'world' 'electronic'\n",
      " 'unknown' 'alternative' 'children' 'rnb' 'hip' 'jazz' 'postrock' 'latin'\n",
      " 'classical' 'metal' 'reggae' 'tatar' 'blues' 'instrumental' 'rusrock'\n",
      " 'dnb' 'türk' 'post' 'country' 'psychedelic' 'conjazz' 'indie'\n",
      " 'posthardcore' 'local' 'avantgarde' 'punk' 'videogame' 'techno' 'house'\n",
      " 'christmas' 'melodic' 'caucasian' 'reggaeton' 'soundtrack' 'singer' 'ska'\n",
      " 'shanson' 'ambient' 'film' 'western' 'rap' 'beats' \"hard'n'heavy\"\n",
      " 'progmetal' 'minimal' 'contemporary' 'new' 'soul' 'holiday' 'german'\n",
      " 'tropical' 'fairytail' 'spiritual' 'urban' 'gospel' 'nujazz' 'folkmetal'\n",
      " 'trance' 'miscellaneous' 'anime' 'hardcore' 'progressive' 'chanson'\n",
      " 'numetal' 'vocal' 'estrada' 'russian' 'classicmetal' 'dubstep' 'club'\n",
      " 'deep' 'southern' 'black' 'folkrock' 'fitness' 'french' 'disco'\n",
      " 'religious' 'hiphop' 'drum' 'extrememetal' 'türkçe' 'experimental' 'easy'\n",
      " 'metalcore' 'modern' 'argentinetango' 'old' 'breaks' 'eurofolk'\n",
      " 'stonerrock' 'industrial' 'funk' 'jpop' 'middle' 'variété' 'other'\n",
      " 'adult' 'christian' 'gothic' 'international' 'muslim' 'relax' 'schlager'\n",
      " 'caribbean' 'ukrrock' 'nu' 'breakbeat' 'comedy' 'chill' 'newage'\n",
      " 'specialty' 'uzbek' 'k-pop' 'balkan' 'chinese' 'meditative' 'dub' 'power'\n",
      " 'death' 'grime' 'arabesk' 'romance' 'flamenco' 'leftfield' 'european'\n",
      " 'tech' 'newwave' 'dancehall' 'mpb' 'piano' 'top' 'bigroom' 'opera'\n",
      " 'celtic' 'tradjazz' 'acoustic' 'epicmetal' 'hip-hop' 'historisch'\n",
      " 'downbeat' 'downtempo' 'africa' 'audiobook' 'jewish' 'sängerportrait'\n",
      " 'deutschrock' 'eastern' 'action' 'future' 'electropop' 'folklore'\n",
      " 'bollywood' 'marschmusik' 'rnr' 'karaoke' 'indian' 'rancheras'\n",
      " 'электроника' 'afrikaans' 'tango' 'rhythm' 'sound' 'deutschspr' 'trip'\n",
      " 'lovers' 'choral' 'dancepop' 'podcasts' 'retro' 'smooth' 'mexican'\n",
      " 'brazilian' 'ïîï' 'mood' 'surf' 'author' 'gangsta' 'triphop'\n",
      " 'inspirational' 'idm' 'ethnic' 'bluegrass' 'broadway' 'animated'\n",
      " 'americana' 'karadeniz' 'rockabilly' 'colombian' 'self' 'hop' 'synthrock'\n",
      " 'sertanejo' 'japanese' 'canzone' 'swing' 'lounge' 'sport' 'korean'\n",
      " 'ragga' 'traditional' 'gitarre' 'frankreich' 'alternativepunk' 'emo'\n",
      " 'laiko' 'cantopop' 'glitch' 'documentary' 'rockalternative' 'thrash'\n",
      " 'hymn' 'oceania' 'rockother' 'popeurodance' 'dark' 'vi' 'grunge'\n",
      " 'hardstyle' 'samba' 'garage' 'soft' 'art' 'folktronica' 'entehno'\n",
      " 'mediterranean' 'chamber' 'cuban' 'taraftar' 'rockindie' 'gypsy'\n",
      " 'hardtechno' 'shoegazing' 'skarock' 'bossa' 'salsa' 'latino' 'worldbeat'\n",
      " 'malaysian' 'baile' 'ghazal' 'loungeelectronic' 'arabic' 'popelectronic'\n",
      " 'acid' 'kayokyoku' 'neoklassik' 'tribal' 'tanzorchester' 'native'\n",
      " 'independent' 'cantautori' 'handsup' 'poprussian' 'punjabi' 'synthpop'\n",
      " 'rave' 'französisch' 'quebecois' 'speech' 'soulful' 'teen' 'jam' 'ram'\n",
      " 'horror' 'scenic' 'orchestral' 'neue' 'roots' 'slow' 'jungle' 'indipop'\n",
      " 'axé' 'fado' 'showtunes' 'arena' 'irish' 'mandopop' 'forró' 'popdance'\n",
      " 'dirty' 'regional']\n"
     ]
    }
   ],
   "source": [
    "print(df['genre'].unique())"
   ]
  },
  {
   "cell_type": "markdown",
   "metadata": {
    "id": "qej-Qmuo_Zct"
   },
   "source": [
    "При получении списка, найдены неявные дубликаты названия `hiphop` (Названия с ошибками или альтернативные названия того же жанра).\n",
    "\n",
    "Обнаружены следующие неявные дубликаты:\n",
    "* *hip*,\n",
    "* *hop*,\n",
    "* *hip-hop*.\n",
    "\n",
    "Необходимо очистить от них таблицу. Создаем функцию `replace_wrong_genres()` с двумя параметрами: \n",
    "* `wrong_genres` — список дубликатов,\n",
    "* `correct_genre` — строка с правильным значением.\n",
    "\n",
    "Функция должна исправить колонку `genre` в таблице `df`: заменить каждое значение из списка `wrong_genres` на значение из `correct_genre`."
   ]
  },
  {
   "cell_type": "code",
   "execution_count": 16,
   "metadata": {
    "id": "ErNDkmns_Zct"
   },
   "outputs": [],
   "source": [
    "def replace_wrong_genres(wrong_genres, correct_genre):\n",
    "    for wrong_genre in wrong_genres:\n",
    "        df['genre'] = df['genre'].replace(wrong_genre, correct_genre)  "
   ]
  },
  {
   "cell_type": "code",
   "execution_count": 17,
   "metadata": {},
   "outputs": [],
   "source": [
    "duplicates = ['hip', 'hop', 'hip-hop']\n",
    "name = 'hiphop'\n",
    "replace_wrong_genres(duplicates, name)  "
   ]
  },
  {
   "cell_type": "markdown",
   "metadata": {
    "id": "aDoBJxbA_Zct"
   },
   "source": [
    "Вызываем `replace_wrong_genres()` и передаем ей такие аргументы, чтобы она устранила неявные дубликаты: вместо `hip`, `hop` и `hip-hop` в таблице должно быть значение `hiphop`:"
   ]
  },
  {
   "cell_type": "code",
   "execution_count": 18,
   "metadata": {
    "id": "YN5i2hpmSo09"
   },
   "outputs": [
    {
     "name": "stdout",
     "output_type": "stream",
     "text": [
      "['rock' 'pop' 'folk' 'dance' 'rusrap' 'ruspop' 'world' 'electronic'\n",
      " 'unknown' 'alternative' 'children' 'rnb' 'hiphop' 'jazz' 'postrock'\n",
      " 'latin' 'classical' 'metal' 'reggae' 'tatar' 'blues' 'instrumental'\n",
      " 'rusrock' 'dnb' 'türk' 'post' 'country' 'psychedelic' 'conjazz' 'indie'\n",
      " 'posthardcore' 'local' 'avantgarde' 'punk' 'videogame' 'techno' 'house'\n",
      " 'christmas' 'melodic' 'caucasian' 'reggaeton' 'soundtrack' 'singer' 'ska'\n",
      " 'shanson' 'ambient' 'film' 'western' 'rap' 'beats' \"hard'n'heavy\"\n",
      " 'progmetal' 'minimal' 'contemporary' 'new' 'soul' 'holiday' 'german'\n",
      " 'tropical' 'fairytail' 'spiritual' 'urban' 'gospel' 'nujazz' 'folkmetal'\n",
      " 'trance' 'miscellaneous' 'anime' 'hardcore' 'progressive' 'chanson'\n",
      " 'numetal' 'vocal' 'estrada' 'russian' 'classicmetal' 'dubstep' 'club'\n",
      " 'deep' 'southern' 'black' 'folkrock' 'fitness' 'french' 'disco'\n",
      " 'religious' 'drum' 'extrememetal' 'türkçe' 'experimental' 'easy'\n",
      " 'metalcore' 'modern' 'argentinetango' 'old' 'breaks' 'eurofolk'\n",
      " 'stonerrock' 'industrial' 'funk' 'jpop' 'middle' 'variété' 'other'\n",
      " 'adult' 'christian' 'gothic' 'international' 'muslim' 'relax' 'schlager'\n",
      " 'caribbean' 'ukrrock' 'nu' 'breakbeat' 'comedy' 'chill' 'newage'\n",
      " 'specialty' 'uzbek' 'k-pop' 'balkan' 'chinese' 'meditative' 'dub' 'power'\n",
      " 'death' 'grime' 'arabesk' 'romance' 'flamenco' 'leftfield' 'european'\n",
      " 'tech' 'newwave' 'dancehall' 'mpb' 'piano' 'top' 'bigroom' 'opera'\n",
      " 'celtic' 'tradjazz' 'acoustic' 'epicmetal' 'historisch' 'downbeat'\n",
      " 'downtempo' 'africa' 'audiobook' 'jewish' 'sängerportrait' 'deutschrock'\n",
      " 'eastern' 'action' 'future' 'electropop' 'folklore' 'bollywood'\n",
      " 'marschmusik' 'rnr' 'karaoke' 'indian' 'rancheras' 'электроника'\n",
      " 'afrikaans' 'tango' 'rhythm' 'sound' 'deutschspr' 'trip' 'lovers'\n",
      " 'choral' 'dancepop' 'podcasts' 'retro' 'smooth' 'mexican' 'brazilian'\n",
      " 'ïîï' 'mood' 'surf' 'author' 'gangsta' 'triphop' 'inspirational' 'idm'\n",
      " 'ethnic' 'bluegrass' 'broadway' 'animated' 'americana' 'karadeniz'\n",
      " 'rockabilly' 'colombian' 'self' 'synthrock' 'sertanejo' 'japanese'\n",
      " 'canzone' 'swing' 'lounge' 'sport' 'korean' 'ragga' 'traditional'\n",
      " 'gitarre' 'frankreich' 'alternativepunk' 'emo' 'laiko' 'cantopop'\n",
      " 'glitch' 'documentary' 'rockalternative' 'thrash' 'hymn' 'oceania'\n",
      " 'rockother' 'popeurodance' 'dark' 'vi' 'grunge' 'hardstyle' 'samba'\n",
      " 'garage' 'soft' 'art' 'folktronica' 'entehno' 'mediterranean' 'chamber'\n",
      " 'cuban' 'taraftar' 'rockindie' 'gypsy' 'hardtechno' 'shoegazing'\n",
      " 'skarock' 'bossa' 'salsa' 'latino' 'worldbeat' 'malaysian' 'baile'\n",
      " 'ghazal' 'loungeelectronic' 'arabic' 'popelectronic' 'acid' 'kayokyoku'\n",
      " 'neoklassik' 'tribal' 'tanzorchester' 'native' 'independent' 'cantautori'\n",
      " 'handsup' 'poprussian' 'punjabi' 'synthpop' 'rave' 'französisch'\n",
      " 'quebecois' 'speech' 'soulful' 'teen' 'jam' 'ram' 'horror' 'scenic'\n",
      " 'orchestral' 'neue' 'roots' 'slow' 'jungle' 'indipop' 'axé' 'fado'\n",
      " 'showtunes' 'arena' 'irish' 'mandopop' 'forró' 'popdance' 'dirty'\n",
      " 'regional']\n"
     ]
    }
   ],
   "source": [
    "print(df['genre'].unique())"
   ]
  },
  {
   "cell_type": "markdown",
   "metadata": {
    "id": "zQKF16_RG15m"
   },
   "source": [
    "Проверяем, что заменили неправильные названия:\n",
    "\n",
    "*   hip\n",
    "*   hop\n",
    "*   hip-hop\n",
    "\n",
    "Выводим отсортированный список уникальных значений столбца `genre`:"
   ]
  },
  {
   "cell_type": "code",
   "execution_count": 19,
   "metadata": {
    "id": "wvixALnFG15m"
   },
   "outputs": [
    {
     "name": "stdout",
     "output_type": "stream",
     "text": [
      "['acid' 'acoustic' 'action' 'adult' 'africa' 'afrikaans' 'alternative'\n",
      " 'alternativepunk' 'ambient' 'americana' 'animated' 'anime' 'arabesk'\n",
      " 'arabic' 'arena' 'argentinetango' 'art' 'audiobook' 'author' 'avantgarde'\n",
      " 'axé' 'baile' 'balkan' 'beats' 'bigroom' 'black' 'bluegrass' 'blues'\n",
      " 'bollywood' 'bossa' 'brazilian' 'breakbeat' 'breaks' 'broadway'\n",
      " 'cantautori' 'cantopop' 'canzone' 'caribbean' 'caucasian' 'celtic'\n",
      " 'chamber' 'chanson' 'children' 'chill' 'chinese' 'choral' 'christian'\n",
      " 'christmas' 'classical' 'classicmetal' 'club' 'colombian' 'comedy'\n",
      " 'conjazz' 'contemporary' 'country' 'cuban' 'dance' 'dancehall' 'dancepop'\n",
      " 'dark' 'death' 'deep' 'deutschrock' 'deutschspr' 'dirty' 'disco' 'dnb'\n",
      " 'documentary' 'downbeat' 'downtempo' 'drum' 'dub' 'dubstep' 'eastern'\n",
      " 'easy' 'electronic' 'electropop' 'emo' 'entehno' 'epicmetal' 'estrada'\n",
      " 'ethnic' 'eurofolk' 'european' 'experimental' 'extrememetal' 'fado'\n",
      " 'fairytail' 'film' 'fitness' 'flamenco' 'folk' 'folklore' 'folkmetal'\n",
      " 'folkrock' 'folktronica' 'forró' 'frankreich' 'französisch' 'french'\n",
      " 'funk' 'future' 'gangsta' 'garage' 'german' 'ghazal' 'gitarre' 'glitch'\n",
      " 'gospel' 'gothic' 'grime' 'grunge' 'gypsy' 'handsup' \"hard'n'heavy\"\n",
      " 'hardcore' 'hardstyle' 'hardtechno' 'hiphop' 'historisch' 'holiday'\n",
      " 'horror' 'house' 'hymn' 'idm' 'independent' 'indian' 'indie' 'indipop'\n",
      " 'industrial' 'inspirational' 'instrumental' 'international' 'irish' 'jam'\n",
      " 'japanese' 'jazz' 'jewish' 'jpop' 'jungle' 'k-pop' 'karadeniz' 'karaoke'\n",
      " 'kayokyoku' 'korean' 'laiko' 'latin' 'latino' 'leftfield' 'local'\n",
      " 'lounge' 'loungeelectronic' 'lovers' 'malaysian' 'mandopop' 'marschmusik'\n",
      " 'meditative' 'mediterranean' 'melodic' 'metal' 'metalcore' 'mexican'\n",
      " 'middle' 'minimal' 'miscellaneous' 'modern' 'mood' 'mpb' 'muslim'\n",
      " 'native' 'neoklassik' 'neue' 'new' 'newage' 'newwave' 'nu' 'nujazz'\n",
      " 'numetal' 'oceania' 'old' 'opera' 'orchestral' 'other' 'piano' 'podcasts'\n",
      " 'pop' 'popdance' 'popelectronic' 'popeurodance' 'poprussian' 'post'\n",
      " 'posthardcore' 'postrock' 'power' 'progmetal' 'progressive' 'psychedelic'\n",
      " 'punjabi' 'punk' 'quebecois' 'ragga' 'ram' 'rancheras' 'rap' 'rave'\n",
      " 'reggae' 'reggaeton' 'regional' 'relax' 'religious' 'retro' 'rhythm'\n",
      " 'rnb' 'rnr' 'rock' 'rockabilly' 'rockalternative' 'rockindie' 'rockother'\n",
      " 'romance' 'roots' 'ruspop' 'rusrap' 'rusrock' 'russian' 'salsa' 'samba'\n",
      " 'scenic' 'schlager' 'self' 'sertanejo' 'shanson' 'shoegazing' 'showtunes'\n",
      " 'singer' 'ska' 'skarock' 'slow' 'smooth' 'soft' 'soul' 'soulful' 'sound'\n",
      " 'soundtrack' 'southern' 'specialty' 'speech' 'spiritual' 'sport'\n",
      " 'stonerrock' 'surf' 'swing' 'synthpop' 'synthrock' 'sängerportrait'\n",
      " 'tango' 'tanzorchester' 'taraftar' 'tatar' 'tech' 'techno' 'teen'\n",
      " 'thrash' 'top' 'traditional' 'tradjazz' 'trance' 'tribal' 'trip'\n",
      " 'triphop' 'tropical' 'türk' 'türkçe' 'ukrrock' 'unknown' 'urban' 'uzbek'\n",
      " 'variété' 'vi' 'videogame' 'vocal' 'western' 'world' 'worldbeat' 'ïîï'\n",
      " 'электроника']\n"
     ]
    }
   ],
   "source": [
    "print(df['genre'].sort_values().unique())"
   ]
  },
  {
   "cell_type": "markdown",
   "metadata": {
    "id": "jz6a9-7HQUDd"
   },
   "source": [
    "**Выводы**\n",
    "\n",
    "**Предобработка обнаружила три проблемы в данных:**\n",
    "\n",
    "- нарушения в стиле заголовков,\n",
    "- пропущенные значения,\n",
    "- дубликаты — явные и неявные.\n",
    "\n",
    "Вы исправили заголовки, чтобы упростить работу с таблицей. Без дубликатов исследование станет более точным.\n",
    "\n",
    "**Пропущенные значения вы заменили на** `'unknown'`. Ещё предстоит увидеть, не повредят ли исследованию пропуски в колонке `genre`.\n",
    "\n",
    "Теперь можно перейти к проверке гипотез. "
   ]
  },
  {
   "cell_type": "markdown",
   "metadata": {
    "id": "WttZHXH0SqKk"
   },
   "source": [
    "## Проверка гипотез <a id='hypothesis_testing'></a>"
   ]
  },
  {
   "cell_type": "markdown",
   "metadata": {
    "id": "Im936VVi_Zcu"
   },
   "source": [
    "### Сравнение поведения пользователей двух столиц <a id='behavior_comparison'></a>"
   ]
  },
  {
   "cell_type": "markdown",
   "metadata": {
    "id": "nwt_MuaL_Zcu"
   },
   "source": [
    "Первая гипотеза утверждает, что пользователи по-разному слушают музыку в Москве и Санкт-Петербурге. Проверьте это предположение по данным о трёх днях недели — понедельнике, среде и пятнице. Для этого:\n",
    "\n",
    "* Разделите пользователей Москвы и Санкт-Петербурга\n",
    "* Сравните, сколько треков послушала каждая группа пользователей в понедельник, среду и пятницу.\n"
   ]
  },
  {
   "cell_type": "markdown",
   "metadata": {
    "id": "8Dw_YMmT_Zcu"
   },
   "source": [
    "Для тренировки сначала выполняем каждый из расчётов по отдельности. \n",
    "\n",
    "Оцениваем активность пользователей в каждом городе. Группируем данные по городу и считываем прослушивания в каждой группе.\n",
    "\n"
   ]
  },
  {
   "cell_type": "code",
   "execution_count": 20,
   "metadata": {
    "id": "0_Qs96oh_Zcu"
   },
   "outputs": [
    {
     "data": {
      "text/plain": [
       "city\n",
       "Moscow              42741\n",
       "Saint-Petersburg    18512\n",
       "Name: genre, dtype: int64"
      ]
     },
     "execution_count": 20,
     "metadata": {},
     "output_type": "execute_result"
    }
   ],
   "source": [
    "df.groupby('city')['genre'].count()"
   ]
  },
  {
   "cell_type": "markdown",
   "metadata": {
    "id": "dzli3w8o_Zcu"
   },
   "source": [
    "В Москве прослушиваний больше, чем в Петербурге. Из этого не следует, что московские пользователи чаще слушают музыку. Просто самих пользователей в Москве больше.\n",
    "\n",
    "Теперь группируем данные по дню недели и подсчитываем прослушивания в понедельник, среду и пятницу. В данных есть информация только о прослушиваниях только за эти дни.\n"
   ]
  },
  {
   "cell_type": "code",
   "execution_count": 21,
   "metadata": {
    "id": "uZMKjiJz_Zcu"
   },
   "outputs": [
    {
     "data": {
      "text/plain": [
       "day\n",
       "Friday       21840\n",
       "Monday       21354\n",
       "Wednesday    18059\n",
       "Name: genre, dtype: int64"
      ]
     },
     "execution_count": 21,
     "metadata": {},
     "output_type": "execute_result"
    }
   ],
   "source": [
    "df.groupby('day')['genre'].count()"
   ]
  },
  {
   "cell_type": "markdown",
   "metadata": {
    "id": "cC2tNrlL_Zcu"
   },
   "source": [
    "В среднем пользователи из двух городов менее активны по средам. Но картина может измениться, если рассмотреть каждый город в отдельности."
   ]
  },
  {
   "cell_type": "markdown",
   "metadata": {
    "id": "POzs8bGa_Zcu"
   },
   "source": [
    "Создаем функцию `number_tracks()`, которая посчитает прослушивания для заданного дня и города. Ей понадобятся два параметра:\n",
    "* день недели,\n",
    "* название города.\n",
    "\n",
    "В функции сохраните в переменную строки исходной таблицы, у которых значение:\n",
    "  * в колонке `day` равно параметру `day`,\n",
    "  * в колонке `city` равно параметру `city`.\n",
    "\n",
    "Для этого примените последовательную фильтрацию с логической индексацией.\n",
    "\n",
    "Затем посчитаем значения в столбце `user_id` получившейся таблицы. Результат сохраним в новую переменную. Вернём эту переменную из функции."
   ]
  },
  {
   "cell_type": "code",
   "execution_count": 22,
   "metadata": {
    "id": "Nz3GdQB1_Zcu"
   },
   "outputs": [],
   "source": [
    "def number_tracks(day, city):\n",
    "    track_list = df.loc[(df['day'] == day) & (df['city'] == city)] \n",
    "    track_list_count = track_list['user_id'].count()\n",
    "    return track_list_count\n",
    "# <создание функции number_tracks()>\n",
    "# Объявляется функция с двумя параметрами: day, city.\n",
    "# В переменной track_list сохраняются те строки таблицы df, для которых \n",
    "# значение в столбце 'day' равно параметру day и одновременно значение\n",
    "# в столбце 'city' равно параметру city (используйте последовательную фильтрацию\n",
    "# с помощью логической индексации).\n",
    "# В переменной track_list_count сохраняется число значений столбца 'user_id',\n",
    "# рассчитанное методом count() для таблицы track_list.\n",
    "# Функция возвращает число - значение track_list_count.\n",
    "\n",
    "# Функция для подсчёта прослушиваний для конкретного города и дня.\n",
    "# С помощью последовательной фильтрации с логической индексацией она \n",
    "# сначала получит из исходной таблицы строки с нужным днём,\n",
    "# затем из результата отфильтрует строки с нужным городом,\n",
    "# методом count() посчитает количество значений в колонке user_id. \n",
    "# Это количество функция вернёт в качестве результата"
   ]
  },
  {
   "cell_type": "markdown",
   "metadata": {
    "id": "ytf7xFrFJQ2r"
   },
   "source": [
    "Вызовем `number_tracks()` шесть раз — так, чтобы получить данные для каждого города в каждый из трёх дней."
   ]
  },
  {
   "cell_type": "code",
   "execution_count": 23,
   "metadata": {
    "id": "rJcRATNQ_Zcu",
    "scrolled": true
   },
   "outputs": [],
   "source": [
    "monday_moscow = number_tracks('Monday', 'Moscow')\n",
    "# количество прослушиваний в Москве по понедельникам"
   ]
  },
  {
   "cell_type": "code",
   "execution_count": 24,
   "metadata": {
    "id": "hq_ncZ5T_Zcu"
   },
   "outputs": [],
   "source": [
    "monday_spb = number_tracks('Monday', 'Saint-Petersburg')\n",
    "# количество прослушиваний в Санкт-Петербурге по понедельникам"
   ]
  },
  {
   "cell_type": "code",
   "execution_count": 25,
   "metadata": {
    "id": "_NTy2VPU_Zcu"
   },
   "outputs": [],
   "source": [
    "wednesday_moscow = number_tracks('Wednesday', 'Moscow')\n",
    "# количество прослушиваний в Москве по средам"
   ]
  },
  {
   "cell_type": "code",
   "execution_count": 26,
   "metadata": {
    "id": "j2y3TAwo_Zcu"
   },
   "outputs": [],
   "source": [
    "wednesday_spb = number_tracks('Wednesday', 'Saint-Petersburg')\n",
    "# количество прослушиваний в Санкт-Петербурге по средам"
   ]
  },
  {
   "cell_type": "code",
   "execution_count": 27,
   "metadata": {
    "id": "vYDw5u_K_Zcu"
   },
   "outputs": [],
   "source": [
    "friday_moscow = number_tracks('Friday', 'Moscow')\n",
    "# количество прослушиваний в Москве по пятницам"
   ]
  },
  {
   "cell_type": "code",
   "execution_count": 28,
   "metadata": {
    "id": "8_yzFtW3_Zcu",
    "scrolled": true
   },
   "outputs": [],
   "source": [
    "friday_spb = number_tracks('Friday', 'Saint-Petersburg')\n",
    "# количество прослушиваний в Санкт-Петербурге по пятницам"
   ]
  },
  {
   "cell_type": "markdown",
   "metadata": {},
   "source": [
    "Сохраним все значения городов в списках."
   ]
  },
  {
   "cell_type": "code",
   "execution_count": 29,
   "metadata": {},
   "outputs": [],
   "source": [
    "list_moscow = [monday_moscow, wednesday_moscow, friday_moscow]"
   ]
  },
  {
   "cell_type": "code",
   "execution_count": 30,
   "metadata": {},
   "outputs": [],
   "source": [
    "list_spb = [monday_spb, wednesday_spb, friday_spb]"
   ]
  },
  {
   "cell_type": "markdown",
   "metadata": {
    "id": "7QXffbO-_Zcu"
   },
   "source": [
    "Создаём c помощью конструктора `pd.DataFrame` таблицу, где\n",
    "* названия колонок — `['city', 'monday', 'wednesday', 'friday']`;\n",
    "* данные — результаты, которые вы получили с помощью `number_tracks`."
   ]
  },
  {
   "cell_type": "code",
   "execution_count": 31,
   "metadata": {
    "id": "APAcLpOr_Zcu"
   },
   "outputs": [
    {
     "data": {
      "text/html": [
       "<div>\n",
       "<style scoped>\n",
       "    .dataframe tbody tr th:only-of-type {\n",
       "        vertical-align: middle;\n",
       "    }\n",
       "\n",
       "    .dataframe tbody tr th {\n",
       "        vertical-align: top;\n",
       "    }\n",
       "\n",
       "    .dataframe thead th {\n",
       "        text-align: right;\n",
       "    }\n",
       "</style>\n",
       "<table border=\"1\" class=\"dataframe\">\n",
       "  <thead>\n",
       "    <tr style=\"text-align: right;\">\n",
       "      <th></th>\n",
       "      <th>city</th>\n",
       "      <th>monday</th>\n",
       "      <th>wednesday</th>\n",
       "      <th>friday</th>\n",
       "    </tr>\n",
       "  </thead>\n",
       "  <tbody>\n",
       "    <tr>\n",
       "      <th>0</th>\n",
       "      <td>Moscow</td>\n",
       "      <td>15740</td>\n",
       "      <td>11056</td>\n",
       "      <td>15945</td>\n",
       "    </tr>\n",
       "    <tr>\n",
       "      <th>1</th>\n",
       "      <td>Saint-Petersburg</td>\n",
       "      <td>5614</td>\n",
       "      <td>7003</td>\n",
       "      <td>5895</td>\n",
       "    </tr>\n",
       "  </tbody>\n",
       "</table>\n",
       "</div>"
      ],
      "text/plain": [
       "               city  monday  wednesday  friday\n",
       "0            Moscow   15740      11056   15945\n",
       "1  Saint-Petersburg    5614       7003    5895"
      ]
     },
     "execution_count": 31,
     "metadata": {},
     "output_type": "execute_result"
    }
   ],
   "source": [
    "data = [['Moscow'] + list_moscow,\n",
    "        ['Saint-Petersburg'] + list_spb]\n",
    "columns = ['city', 'monday', 'wednesday', 'friday']\n",
    "pd.DataFrame(data=data, columns=columns)"
   ]
  },
  {
   "cell_type": "markdown",
   "metadata": {
    "id": "-EgPIHYu_Zcu"
   },
   "source": [
    "**Вывод**\n",
    "\n",
    "Данные показывают разницу поведения пользователей:\n",
    "\n",
    "- В Москве пик прослушиваний приходится на понедельник и пятницу, а в среду заметен спад.\n",
    "- В Петербурге, наоборот, больше слушают музыку по средам. Активность в понедельник и пятницу здесь почти в равной мере уступает среде.\n",
    "\n",
    "Значит, данные говорят в пользу первой гипотезы."
   ]
  },
  {
   "cell_type": "markdown",
   "metadata": {
    "id": "atZAxtq4_Zcu"
   },
   "source": [
    "### Музыка в начале и в конце недели <a id='music'></a>"
   ]
  },
  {
   "cell_type": "markdown",
   "metadata": {
    "id": "eXrQqXFH_Zcu"
   },
   "source": [
    "Согласно второй гипотезе, утром в понедельник в Москве преобладают одни жанры, а в Петербурге — другие. Так же и вечером пятницы преобладают разные жанры — в зависимости от города."
   ]
  },
  {
   "cell_type": "markdown",
   "metadata": {
    "id": "S8UcW6Hw_Zcu"
   },
   "source": [
    "Сохраним таблицы с данными в две переменные:\n",
    "* по Москве — в `moscow_general`;\n",
    "* по Санкт-Петербургу — в `spb_general`."
   ]
  },
  {
   "cell_type": "code",
   "execution_count": 32,
   "metadata": {
    "id": "qeaFfM_P_Zcu"
   },
   "outputs": [
    {
     "data": {
      "text/html": [
       "<div>\n",
       "<style scoped>\n",
       "    .dataframe tbody tr th:only-of-type {\n",
       "        vertical-align: middle;\n",
       "    }\n",
       "\n",
       "    .dataframe tbody tr th {\n",
       "        vertical-align: top;\n",
       "    }\n",
       "\n",
       "    .dataframe thead th {\n",
       "        text-align: right;\n",
       "    }\n",
       "</style>\n",
       "<table border=\"1\" class=\"dataframe\">\n",
       "  <thead>\n",
       "    <tr style=\"text-align: right;\">\n",
       "      <th></th>\n",
       "      <th>user_id</th>\n",
       "      <th>track</th>\n",
       "      <th>artist</th>\n",
       "      <th>genre</th>\n",
       "      <th>city</th>\n",
       "      <th>time</th>\n",
       "      <th>day</th>\n",
       "    </tr>\n",
       "  </thead>\n",
       "  <tbody>\n",
       "    <tr>\n",
       "      <th>1</th>\n",
       "      <td>55204538</td>\n",
       "      <td>Delayed Because of Accident</td>\n",
       "      <td>Andreas Rönnberg</td>\n",
       "      <td>rock</td>\n",
       "      <td>Moscow</td>\n",
       "      <td>14:07:09</td>\n",
       "      <td>Friday</td>\n",
       "    </tr>\n",
       "    <tr>\n",
       "      <th>4</th>\n",
       "      <td>E2DC1FAE</td>\n",
       "      <td>Soul People</td>\n",
       "      <td>Space Echo</td>\n",
       "      <td>dance</td>\n",
       "      <td>Moscow</td>\n",
       "      <td>08:34:34</td>\n",
       "      <td>Monday</td>\n",
       "    </tr>\n",
       "    <tr>\n",
       "      <th>6</th>\n",
       "      <td>4CB90AA5</td>\n",
       "      <td>True</td>\n",
       "      <td>Roman Messer</td>\n",
       "      <td>dance</td>\n",
       "      <td>Moscow</td>\n",
       "      <td>13:00:07</td>\n",
       "      <td>Wednesday</td>\n",
       "    </tr>\n",
       "    <tr>\n",
       "      <th>7</th>\n",
       "      <td>F03E1C1F</td>\n",
       "      <td>Feeling This Way</td>\n",
       "      <td>Polina Griffith</td>\n",
       "      <td>dance</td>\n",
       "      <td>Moscow</td>\n",
       "      <td>20:47:49</td>\n",
       "      <td>Wednesday</td>\n",
       "    </tr>\n",
       "    <tr>\n",
       "      <th>8</th>\n",
       "      <td>8FA1D3BE</td>\n",
       "      <td>И вновь продолжается бой</td>\n",
       "      <td>unknown</td>\n",
       "      <td>ruspop</td>\n",
       "      <td>Moscow</td>\n",
       "      <td>09:17:40</td>\n",
       "      <td>Friday</td>\n",
       "    </tr>\n",
       "  </tbody>\n",
       "</table>\n",
       "</div>"
      ],
      "text/plain": [
       "    user_id                        track            artist   genre    city  \\\n",
       "1  55204538  Delayed Because of Accident  Andreas Rönnberg    rock  Moscow   \n",
       "4  E2DC1FAE                  Soul People        Space Echo   dance  Moscow   \n",
       "6  4CB90AA5                         True      Roman Messer   dance  Moscow   \n",
       "7  F03E1C1F             Feeling This Way   Polina Griffith   dance  Moscow   \n",
       "8  8FA1D3BE     И вновь продолжается бой           unknown  ruspop  Moscow   \n",
       "\n",
       "       time        day  \n",
       "1  14:07:09     Friday  \n",
       "4  08:34:34     Monday  \n",
       "6  13:00:07  Wednesday  \n",
       "7  20:47:49  Wednesday  \n",
       "8  09:17:40     Friday  "
      ]
     },
     "metadata": {},
     "output_type": "display_data"
    }
   ],
   "source": [
    "moscow_general = df[df['city'] == 'Moscow']\n",
    "display(moscow_general.head(5))\n",
    "# получение таблицы moscow_general из тех строк таблицы df, \n",
    "# для которых значение в столбце 'city' равно 'Moscow'"
   ]
  },
  {
   "cell_type": "code",
   "execution_count": 33,
   "metadata": {
    "id": "ORaVRKto_Zcu"
   },
   "outputs": [
    {
     "data": {
      "text/html": [
       "<div>\n",
       "<style scoped>\n",
       "    .dataframe tbody tr th:only-of-type {\n",
       "        vertical-align: middle;\n",
       "    }\n",
       "\n",
       "    .dataframe tbody tr th {\n",
       "        vertical-align: top;\n",
       "    }\n",
       "\n",
       "    .dataframe thead th {\n",
       "        text-align: right;\n",
       "    }\n",
       "</style>\n",
       "<table border=\"1\" class=\"dataframe\">\n",
       "  <thead>\n",
       "    <tr style=\"text-align: right;\">\n",
       "      <th></th>\n",
       "      <th>user_id</th>\n",
       "      <th>track</th>\n",
       "      <th>artist</th>\n",
       "      <th>genre</th>\n",
       "      <th>city</th>\n",
       "      <th>time</th>\n",
       "      <th>day</th>\n",
       "    </tr>\n",
       "  </thead>\n",
       "  <tbody>\n",
       "    <tr>\n",
       "      <th>0</th>\n",
       "      <td>FFB692EC</td>\n",
       "      <td>Kamigata To Boots</td>\n",
       "      <td>The Mass Missile</td>\n",
       "      <td>rock</td>\n",
       "      <td>Saint-Petersburg</td>\n",
       "      <td>20:28:33</td>\n",
       "      <td>Wednesday</td>\n",
       "    </tr>\n",
       "    <tr>\n",
       "      <th>2</th>\n",
       "      <td>20EC38</td>\n",
       "      <td>Funiculì funiculà</td>\n",
       "      <td>Mario Lanza</td>\n",
       "      <td>pop</td>\n",
       "      <td>Saint-Petersburg</td>\n",
       "      <td>20:58:07</td>\n",
       "      <td>Wednesday</td>\n",
       "    </tr>\n",
       "    <tr>\n",
       "      <th>3</th>\n",
       "      <td>A3DD03C9</td>\n",
       "      <td>Dragons in the Sunset</td>\n",
       "      <td>Fire + Ice</td>\n",
       "      <td>folk</td>\n",
       "      <td>Saint-Petersburg</td>\n",
       "      <td>08:37:09</td>\n",
       "      <td>Monday</td>\n",
       "    </tr>\n",
       "    <tr>\n",
       "      <th>5</th>\n",
       "      <td>842029A1</td>\n",
       "      <td>Преданная</td>\n",
       "      <td>IMPERVTOR</td>\n",
       "      <td>rusrap</td>\n",
       "      <td>Saint-Petersburg</td>\n",
       "      <td>13:09:41</td>\n",
       "      <td>Friday</td>\n",
       "    </tr>\n",
       "    <tr>\n",
       "      <th>9</th>\n",
       "      <td>E772D5C0</td>\n",
       "      <td>Pessimist</td>\n",
       "      <td>unknown</td>\n",
       "      <td>dance</td>\n",
       "      <td>Saint-Petersburg</td>\n",
       "      <td>21:20:49</td>\n",
       "      <td>Wednesday</td>\n",
       "    </tr>\n",
       "  </tbody>\n",
       "</table>\n",
       "</div>"
      ],
      "text/plain": [
       "    user_id                  track            artist   genre  \\\n",
       "0  FFB692EC      Kamigata To Boots  The Mass Missile    rock   \n",
       "2    20EC38      Funiculì funiculà       Mario Lanza     pop   \n",
       "3  A3DD03C9  Dragons in the Sunset        Fire + Ice    folk   \n",
       "5  842029A1              Преданная         IMPERVTOR  rusrap   \n",
       "9  E772D5C0              Pessimist           unknown   dance   \n",
       "\n",
       "               city      time        day  \n",
       "0  Saint-Petersburg  20:28:33  Wednesday  \n",
       "2  Saint-Petersburg  20:58:07  Wednesday  \n",
       "3  Saint-Petersburg  08:37:09     Monday  \n",
       "5  Saint-Petersburg  13:09:41     Friday  \n",
       "9  Saint-Petersburg  21:20:49  Wednesday  "
      ]
     },
     "metadata": {},
     "output_type": "display_data"
    }
   ],
   "source": [
    "spb_general = df[df['city'] == 'Saint-Petersburg']\n",
    "display(spb_general.head(5))\n",
    "# получение таблицы spb_general из тех строк таблицы df,\n",
    "# для которых значение в столбце 'city' равно 'Saint-Petersburg'"
   ]
  },
  {
   "cell_type": "markdown",
   "metadata": {
    "id": "MEJV-CX2_Zcu"
   },
   "source": [
    "Создим функцию `genre_weekday()` с четырьмя параметрами:\n",
    "* таблица (датафрейм) с данными,\n",
    "* день недели,\n",
    "* начальная временная метка в формате 'hh:mm', \n",
    "* последняя временная метка в формате 'hh:mm'.\n",
    "\n",
    "Функция должна вернуть информацию о топ-10 жанров тех треков, которые прослушивали в указанный день, в промежутке между двумя отметками времени."
   ]
  },
  {
   "cell_type": "code",
   "execution_count": 34,
   "metadata": {
    "id": "laJT9BYl_Zcu"
   },
   "outputs": [],
   "source": [
    "def get_genre(table, day, time1, time2):\n",
    "    genre_df = table[(table['day'] == day) & (table['time'] > time1) & (table['time'] < time2)]\n",
    "    \n",
    "    \n",
    "    genre_df_count = genre_df.groupby('genre')['genre'].count()\n",
    "    genre_df_sorted = genre_df_count.sort_values(ascending=False)\n",
    "    return genre_df_sorted.head(10)                                  \n",
    "# Объявление функции genre_weekday() с параметрами table, day, time1, time2,\n",
    "# которая возвращает информацию о самых популярных жанрах в указанный день в\n",
    "# заданное время:\n",
    "# 1) в переменную genre_df сохраняются те строки переданного датафрейма table, для\n",
    "#    которых одновременно:\n",
    "#    - значение в столбце day равно значению аргумента day\n",
    "#    - значение в столбце time больше значения аргумента time1\n",
    "#    - значение в столбце time меньше значения аргумента time2\n",
    "#    Используйте последовательную фильтрацию с помощью логической индексации.\n",
    "# 2) сгруппировать датафрейм genre_df по столбцу genre, взять один из его\n",
    "#    столбцов и посчитать методом count() количество записей для каждого из\n",
    "#    присутствующих жанров, получившийся Series записать в переменную\n",
    "#    genre_df_count\n",
    "# 3) отсортировать genre_df_count по убыванию встречаемости и сохранить\n",
    "#    в переменную genre_df_sorted\n",
    "# 4) вернуть Series из 10 первых значений genre_df_sorted, это будут топ-10\n",
    "#    популярных жанров (в указанный день, в заданное время)"
   ]
  },
  {
   "cell_type": "markdown",
   "metadata": {
    "id": "la2s2_PF_Zcu"
   },
   "source": [
    "Cравним результаты функции `genre_weekday()` для Москвы и Санкт-Петербурга в понедельник утром (с 7:00 до 11:00) и в пятницу вечером (с 17:00 до 23:00):"
   ]
  },
  {
   "cell_type": "code",
   "execution_count": 35,
   "metadata": {
    "id": "yz7itPUQ_Zcu"
   },
   "outputs": [
    {
     "data": {
      "text/plain": [
       "genre\n",
       "pop            781\n",
       "dance          549\n",
       "electronic     480\n",
       "rock           474\n",
       "hiphop         286\n",
       "ruspop         186\n",
       "world          181\n",
       "rusrap         175\n",
       "alternative    164\n",
       "unknown        161\n",
       "Name: genre, dtype: int64"
      ]
     },
     "execution_count": 35,
     "metadata": {},
     "output_type": "execute_result"
    }
   ],
   "source": [
    "get_genre(moscow_general, 'Monday', '07:00', '11:00')\n",
    "\n",
    "# вызов функции для утра понедельника в Москве (вместо df — таблица moscow_general)\n",
    "# объекты, хранящие время, являются строками и сравниваются как строки\n",
    "# пример вызова: genre_weekday(moscow_general, 'Monday', '07:00', '11:00')"
   ]
  },
  {
   "cell_type": "code",
   "execution_count": 36,
   "metadata": {
    "id": "kwUcHPdy_Zcu"
   },
   "outputs": [
    {
     "data": {
      "text/plain": [
       "genre\n",
       "pop            218\n",
       "dance          182\n",
       "rock           162\n",
       "electronic     147\n",
       "hiphop          80\n",
       "ruspop          64\n",
       "alternative     58\n",
       "rusrap          55\n",
       "jazz            44\n",
       "classical       40\n",
       "Name: genre, dtype: int64"
      ]
     },
     "execution_count": 36,
     "metadata": {},
     "output_type": "execute_result"
    }
   ],
   "source": [
    "get_genre(spb_general, 'Monday', '07:00', '11:00')\n",
    "# вызов функции для утра понедельника в Петербурге (вместо df — таблица spb_general)"
   ]
  },
  {
   "cell_type": "code",
   "execution_count": 37,
   "metadata": {
    "id": "EzXVRE1o_Zcu"
   },
   "outputs": [
    {
     "data": {
      "text/plain": [
       "genre\n",
       "pop            713\n",
       "rock           517\n",
       "dance          495\n",
       "electronic     482\n",
       "hiphop         273\n",
       "world          208\n",
       "ruspop         170\n",
       "alternative    163\n",
       "classical      163\n",
       "rusrap         142\n",
       "Name: genre, dtype: int64"
      ]
     },
     "execution_count": 37,
     "metadata": {},
     "output_type": "execute_result"
    }
   ],
   "source": [
    "get_genre(moscow_general, 'Friday', '17:00', '23:00')\n",
    "# вызов функции для вечера пятницы в Москве"
   ]
  },
  {
   "cell_type": "code",
   "execution_count": 38,
   "metadata": {
    "id": "JZaEKu5v_Zcu"
   },
   "outputs": [
    {
     "data": {
      "text/plain": [
       "genre\n",
       "pop            256\n",
       "electronic     216\n",
       "rock           216\n",
       "dance          210\n",
       "hiphop          97\n",
       "alternative     63\n",
       "jazz            61\n",
       "classical       60\n",
       "rusrap          59\n",
       "world           54\n",
       "Name: genre, dtype: int64"
      ]
     },
     "execution_count": 38,
     "metadata": {},
     "output_type": "execute_result"
    }
   ],
   "source": [
    "get_genre(spb_general, 'Friday', '17:00', '23:00')\n",
    "# вызов функции для вечера пятницы в Петербурге"
   ]
  },
  {
   "cell_type": "markdown",
   "metadata": {
    "id": "wrCe4MNX_Zcu"
   },
   "source": [
    "**Выводы**\n",
    "\n",
    "Если сравнить топ-10 жанров в понедельник утром, можно сделать такие выводы:\n",
    "\n",
    "1. В Москве и Петербурге слушают похожую музыку. Единственное отличие — в московский рейтинг вошёл жанр “world”, а в петербургский — джаз и классика.\n",
    "\n",
    "2. В Москве пропущенных значений оказалось так много, что значение `'unknown'` заняло десятое место среди самых популярных жанров. Значит, пропущенные значения занимают существенную долю в данных и угрожают достоверности исследования.\n",
    "\n",
    "Вечер пятницы не меняет эту картину. Некоторые жанры поднимаются немного выше, другие спускаются, но в целом топ-10 остаётся тем же самым.\n",
    "\n",
    "Таким образом, вторая гипотеза подтвердилась лишь частично:\n",
    "* Пользователи слушают похожую музыку в начале недели и в конце.\n",
    "* Разница между Москвой и Петербургом не слишком выражена. В Москве чаще слушают русскую популярную музыку, в Петербурге — джаз.\n",
    "\n",
    "Однако пропуски в данных ставят под сомнение этот результат. В Москве их так много, что рейтинг топ-10 мог бы выглядеть иначе, если бы не утерянные  данные о жанрах."
   ]
  },
  {
   "cell_type": "markdown",
   "metadata": {
    "id": "JolODAqr_Zcu"
   },
   "source": [
    "### Жанровые предпочтения в Москве и Петербурге <a id='#genre_preferences'></a>\n",
    "\n",
    "Гипотеза: Петербург — столица рэпа, музыку этого жанра там слушают чаще, чем в Москве.  А Москва — город контрастов, в котором, тем не менее, преобладает поп-музыка."
   ]
  },
  {
   "cell_type": "markdown",
   "metadata": {
    "id": "DlegSvaT_Zcu"
   },
   "source": [
    "Сгруппируем таблицу `moscow_general` по жанру и посчитаем прослушивания треков каждого жанра методом `count()`. Затем отсортируем результат в порядке убывания и сохраним его в таблице `moscow_genres`."
   ]
  },
  {
   "cell_type": "code",
   "execution_count": 39,
   "metadata": {
    "id": "r19lIPke_Zcu"
   },
   "outputs": [],
   "source": [
    "moscow_genres = moscow_general.groupby('genre')['city'].count()\n",
    "moscow_genres = moscow_genres.sort_values(ascending=False)\n",
    "# одной строкой: группировка таблицы moscow_general по столбцу 'genre', \n",
    "# подсчёт числа значений 'genre' в этой группировке методом count(), \n",
    "# сортировка получившегося Series в порядке убывания и сохранение в moscow_genres"
   ]
  },
  {
   "cell_type": "markdown",
   "metadata": {
    "id": "6kMuomxTiIr8"
   },
   "source": [
    "Выведите на экран первые десять строк `moscow_genres`:"
   ]
  },
  {
   "cell_type": "code",
   "execution_count": 40,
   "metadata": {
    "id": "WhCSooF8_Zcv"
   },
   "outputs": [
    {
     "data": {
      "text/plain": [
       "genre\n",
       "pop            5892\n",
       "dance          4435\n",
       "rock           3965\n",
       "electronic     3786\n",
       "hiphop         2096\n",
       "classical      1616\n",
       "world          1432\n",
       "alternative    1379\n",
       "ruspop         1372\n",
       "rusrap         1161\n",
       "Name: city, dtype: int64"
      ]
     },
     "execution_count": 40,
     "metadata": {},
     "output_type": "execute_result"
    }
   ],
   "source": [
    "moscow_genres.head(10)\n",
    "# просмотр первых 10 строк moscow_genres"
   ]
  },
  {
   "cell_type": "markdown",
   "metadata": {
    "id": "cnPG2vnN_Zcv"
   },
   "source": [
    "Теперь повторите то же и для Петербурга.\n",
    "\n",
    "Сгруппируем таблицу `spb_general` по жанру. Посчитаем прослушивания треков каждого жанра. Результат отсортируем в порядке убывания и сохраним в таблице `spb_genres`:\n"
   ]
  },
  {
   "cell_type": "code",
   "execution_count": 41,
   "metadata": {
    "id": "gluLIpE7_Zcv"
   },
   "outputs": [],
   "source": [
    "spb_genres = spb_general.groupby('genre')['city'].count()\n",
    "spb_genres = spb_genres.sort_values(ascending=False)\n",
    "\n",
    "# одной строкой: группировка таблицы spb_general по столбцу 'genre', \n",
    "# подсчёт числа значений 'genre' в этой группировке методом count(), \n",
    "# сортировка получившегося Series в порядке убывания и сохранение в spb_genres"
   ]
  },
  {
   "cell_type": "markdown",
   "metadata": {
    "id": "5Doha_ODgyQ8"
   },
   "source": [
    "Выводим на экран первые десять строк `spb_genres`:"
   ]
  },
  {
   "cell_type": "code",
   "execution_count": 42,
   "metadata": {
    "id": "uaGJHjVU_Zcv"
   },
   "outputs": [
    {
     "data": {
      "text/plain": [
       "genre\n",
       "pop            2431\n",
       "dance          1932\n",
       "rock           1879\n",
       "electronic     1736\n",
       "hiphop          960\n",
       "alternative     649\n",
       "classical       646\n",
       "rusrap          564\n",
       "ruspop          538\n",
       "world           515\n",
       "Name: city, dtype: int64"
      ]
     },
     "execution_count": 42,
     "metadata": {},
     "output_type": "execute_result"
    }
   ],
   "source": [
    "spb_genres.head(10)\n",
    "# просмотр первых 10 строк spb_genres"
   ]
  },
  {
   "cell_type": "markdown",
   "metadata": {
    "id": "RY51YJYu_Zcv"
   },
   "source": [
    "**Выводы**"
   ]
  },
  {
   "cell_type": "markdown",
   "metadata": {
    "id": "nVhnJEm__Zcv"
   },
   "source": [
    "Гипотеза частично подтвердилась:\n",
    "* Поп-музыка — самый популярный жанр в Москве, как и предполагала гипотеза. Более того, в топ-10 жанров встречается близкий жанр — русская популярная музыка.\n",
    "* Вопреки ожиданиям, рэп одинаково популярен в Москве и Петербурге. \n"
   ]
  },
  {
   "cell_type": "markdown",
   "metadata": {
    "id": "ykKQ0N65_Zcv"
   },
   "source": [
    "## Итоги исследования <a id='#outcomes'></a>"
   ]
  },
  {
   "cell_type": "markdown",
   "metadata": {
    "id": "tjUwbHb3_Zcv"
   },
   "source": [
    "Вы проверили три гипотезы и установили:\n",
    "\n",
    "1. День недели по-разному влияет на активность пользователей в Москве и Петербурге. \n",
    "\n",
    "Первая гипотеза полностью подтвердилась.\n",
    "\n",
    "2. Музыкальные предпочтения не сильно меняются в течение недели — будь то Москва или Петербург. Небольшие различия заметны в начале недели, по понедельникам:\n",
    "* в Москве слушают музыку жанра “world”,\n",
    "* в Петербурге — джаз и классику.\n",
    "\n",
    "Таким образом, вторая гипотеза подтвердилась лишь отчасти. Этот результат мог оказаться иным, если бы не пропуски в данных.\n",
    "\n",
    "3. Во вкусах пользователей Москвы и Петербурга больше общего чем различий. Вопреки ожиданиям, предпочтения жанров в Петербурге напоминают московские.\n",
    "\n",
    "Третья гипотеза не подтвердилась. Если различия в предпочтениях и существуют, на основной массе пользователей они незаметны.\n",
    "\n",
    "**На практике исследования содержат проверки статистических гипотез.**\n",
    "Из данных одного сервиса не всегда можно сделать вывод о всех жителях города.\n",
    "Проверки статистических гипотез покажут, насколько они достоверны, исходя из имеющихся данных. \n",
    "С методами проверок гипотез вы ещё познакомитесь в следующих темах."
   ]
  }
 ],
 "metadata": {
  "ExecuteTimeLog": [
   {
    "duration": 4,
    "start_time": "2021-12-16T10:22:02.549Z"
   },
   {
    "duration": 186,
    "start_time": "2021-12-16T10:22:04.184Z"
   },
   {
    "duration": 25,
    "start_time": "2021-12-16T10:22:05.471Z"
   },
   {
    "duration": 37,
    "start_time": "2021-12-16T10:22:24.486Z"
   },
   {
    "duration": 243,
    "start_time": "2021-12-16T10:30:30.168Z"
   },
   {
    "duration": 5,
    "start_time": "2021-12-16T10:30:38.799Z"
   },
   {
    "duration": 40,
    "start_time": "2021-12-16T11:57:19.022Z"
   },
   {
    "duration": 3,
    "start_time": "2021-12-16T11:57:37.327Z"
   },
   {
    "duration": 41,
    "start_time": "2021-12-16T11:57:43.160Z"
   },
   {
    "duration": 5,
    "start_time": "2021-12-16T11:58:04.536Z"
   },
   {
    "duration": 20,
    "start_time": "2021-12-16T11:58:18.473Z"
   },
   {
    "duration": 5,
    "start_time": "2021-12-16T11:58:23.328Z"
   },
   {
    "duration": 34,
    "start_time": "2021-12-16T11:58:39.624Z"
   },
   {
    "duration": 5,
    "start_time": "2021-12-16T11:58:41.896Z"
   },
   {
    "duration": 6,
    "start_time": "2021-12-16T12:01:15.601Z"
   },
   {
    "duration": 32,
    "start_time": "2021-12-16T12:07:37.291Z"
   },
   {
    "duration": 31,
    "start_time": "2021-12-16T13:15:57.744Z"
   },
   {
    "duration": 26,
    "start_time": "2021-12-16T13:31:58.068Z"
   },
   {
    "duration": 31,
    "start_time": "2021-12-16T13:32:07.929Z"
   },
   {
    "duration": 249,
    "start_time": "2021-12-16T13:36:28.114Z"
   },
   {
    "duration": 83,
    "start_time": "2021-12-16T13:36:40.297Z"
   },
   {
    "duration": 86,
    "start_time": "2021-12-16T13:36:52.682Z"
   },
   {
    "duration": 93,
    "start_time": "2021-12-16T13:40:11.707Z"
   },
   {
    "duration": 80,
    "start_time": "2021-12-16T13:40:23.011Z"
   },
   {
    "duration": 372,
    "start_time": "2021-12-16T15:56:54.812Z"
   },
   {
    "duration": 339,
    "start_time": "2021-12-16T15:57:54.156Z"
   },
   {
    "duration": 336,
    "start_time": "2021-12-16T15:58:20.130Z"
   },
   {
    "duration": 381,
    "start_time": "2021-12-16T15:58:28.536Z"
   },
   {
    "duration": 403,
    "start_time": "2021-12-16T15:59:06.769Z"
   },
   {
    "duration": 594,
    "start_time": "2021-12-16T15:59:15.265Z"
   },
   {
    "duration": 134,
    "start_time": "2021-12-16T15:59:17.313Z"
   },
   {
    "duration": 16,
    "start_time": "2021-12-16T15:59:18.794Z"
   },
   {
    "duration": 24,
    "start_time": "2021-12-16T15:59:20.536Z"
   },
   {
    "duration": 4,
    "start_time": "2021-12-16T15:59:26.768Z"
   },
   {
    "duration": 30,
    "start_time": "2021-12-16T15:59:29.009Z"
   },
   {
    "duration": 5,
    "start_time": "2021-12-16T15:59:30.992Z"
   },
   {
    "duration": 23,
    "start_time": "2021-12-16T15:59:33.009Z"
   },
   {
    "duration": 71,
    "start_time": "2021-12-16T15:59:43.945Z"
   },
   {
    "duration": 64,
    "start_time": "2021-12-16T15:59:43.954Z"
   },
   {
    "duration": 8687,
    "start_time": "2021-12-16T15:59:47.417Z"
   },
   {
    "duration": 43,
    "start_time": "2021-12-16T15:59:56.063Z"
   },
   {
    "duration": 23,
    "start_time": "2021-12-16T16:00:00.457Z"
   },
   {
    "duration": 8716,
    "start_time": "2021-12-16T16:00:02.968Z"
   },
   {
    "duration": 24,
    "start_time": "2021-12-16T16:00:28.721Z"
   },
   {
    "duration": 676,
    "start_time": "2021-12-16T16:00:48.168Z"
   },
   {
    "duration": 144,
    "start_time": "2021-12-16T16:00:48.846Z"
   },
   {
    "duration": 20,
    "start_time": "2021-12-16T16:00:48.992Z"
   },
   {
    "duration": 34,
    "start_time": "2021-12-16T16:00:49.014Z"
   },
   {
    "duration": 11,
    "start_time": "2021-12-16T16:00:49.050Z"
   },
   {
    "duration": 33,
    "start_time": "2021-12-16T16:00:49.062Z"
   },
   {
    "duration": 10,
    "start_time": "2021-12-16T16:00:49.097Z"
   },
   {
    "duration": 23,
    "start_time": "2021-12-16T16:00:49.109Z"
   },
   {
    "duration": 8520,
    "start_time": "2021-12-16T16:00:49.134Z"
   },
   {
    "duration": 34,
    "start_time": "2021-12-16T16:00:57.623Z"
   },
   {
    "duration": 30,
    "start_time": "2021-12-16T16:00:57.628Z"
   },
   {
    "duration": 27,
    "start_time": "2021-12-16T16:00:57.632Z"
   },
   {
    "duration": 23,
    "start_time": "2021-12-16T16:00:57.637Z"
   },
   {
    "duration": 20,
    "start_time": "2021-12-16T16:00:57.641Z"
   },
   {
    "duration": 17,
    "start_time": "2021-12-16T16:00:57.645Z"
   },
   {
    "duration": 14,
    "start_time": "2021-12-16T16:00:57.649Z"
   },
   {
    "duration": 11,
    "start_time": "2021-12-16T16:00:57.653Z"
   },
   {
    "duration": 10,
    "start_time": "2021-12-16T16:00:57.655Z"
   },
   {
    "duration": 9,
    "start_time": "2021-12-16T16:00:57.657Z"
   },
   {
    "duration": 8,
    "start_time": "2021-12-16T16:00:57.659Z"
   },
   {
    "duration": 7,
    "start_time": "2021-12-16T16:00:57.661Z"
   },
   {
    "duration": 7,
    "start_time": "2021-12-16T16:00:57.662Z"
   },
   {
    "duration": 6,
    "start_time": "2021-12-16T16:00:57.664Z"
   },
   {
    "duration": 6,
    "start_time": "2021-12-16T16:00:57.665Z"
   },
   {
    "duration": 6,
    "start_time": "2021-12-16T16:00:57.667Z"
   },
   {
    "duration": 6,
    "start_time": "2021-12-16T16:00:57.668Z"
   },
   {
    "duration": 5,
    "start_time": "2021-12-16T16:00:57.670Z"
   },
   {
    "duration": 4,
    "start_time": "2021-12-16T16:00:57.671Z"
   },
   {
    "duration": 4,
    "start_time": "2021-12-16T16:00:57.673Z"
   },
   {
    "duration": 3,
    "start_time": "2021-12-16T16:00:57.675Z"
   },
   {
    "duration": 2,
    "start_time": "2021-12-16T16:00:57.677Z"
   },
   {
    "duration": 1,
    "start_time": "2021-12-16T16:00:57.678Z"
   },
   {
    "duration": 1,
    "start_time": "2021-12-16T16:00:57.680Z"
   },
   {
    "duration": 1,
    "start_time": "2021-12-16T16:00:57.681Z"
   },
   {
    "duration": 0,
    "start_time": "2021-12-16T16:00:57.683Z"
   },
   {
    "duration": 0,
    "start_time": "2021-12-16T16:00:57.684Z"
   },
   {
    "duration": -1,
    "start_time": "2021-12-16T16:00:57.686Z"
   },
   {
    "duration": -2,
    "start_time": "2021-12-16T16:00:57.687Z"
   },
   {
    "duration": 5,
    "start_time": "2021-12-16T16:01:10.816Z"
   },
   {
    "duration": 28,
    "start_time": "2021-12-16T16:01:13.178Z"
   },
   {
    "duration": 4,
    "start_time": "2021-12-16T16:01:15.130Z"
   },
   {
    "duration": 4,
    "start_time": "2021-12-16T16:01:30.312Z"
   },
   {
    "duration": 27,
    "start_time": "2021-12-16T16:01:33.088Z"
   },
   {
    "duration": 4,
    "start_time": "2021-12-16T16:01:35.969Z"
   },
   {
    "duration": 23,
    "start_time": "2021-12-16T16:01:42.579Z"
   },
   {
    "duration": 4,
    "start_time": "2021-12-16T16:01:48.599Z"
   },
   {
    "duration": 136,
    "start_time": "2021-12-16T16:01:49.662Z"
   },
   {
    "duration": 10,
    "start_time": "2021-12-16T16:01:50.646Z"
   },
   {
    "duration": 24,
    "start_time": "2021-12-16T16:01:51.476Z"
   },
   {
    "duration": 4,
    "start_time": "2021-12-16T16:01:53.380Z"
   },
   {
    "duration": 27,
    "start_time": "2021-12-16T16:01:54.190Z"
   },
   {
    "duration": 5,
    "start_time": "2021-12-16T16:01:55.614Z"
   },
   {
    "duration": 24,
    "start_time": "2021-12-16T16:01:59.390Z"
   },
   {
    "duration": 8662,
    "start_time": "2021-12-16T16:02:03.094Z"
   },
   {
    "duration": 5,
    "start_time": "2021-12-16T16:02:27.384Z"
   },
   {
    "duration": 26,
    "start_time": "2021-12-16T16:02:30.201Z"
   },
   {
    "duration": 5,
    "start_time": "2021-12-16T16:02:36.336Z"
   },
   {
    "duration": 637,
    "start_time": "2021-12-16T16:02:47.600Z"
   },
   {
    "duration": 143,
    "start_time": "2021-12-16T16:02:48.239Z"
   },
   {
    "duration": 26,
    "start_time": "2021-12-16T16:02:48.384Z"
   },
   {
    "duration": 27,
    "start_time": "2021-12-16T16:02:48.412Z"
   },
   {
    "duration": 4,
    "start_time": "2021-12-16T16:02:48.441Z"
   },
   {
    "duration": 33,
    "start_time": "2021-12-16T16:02:48.447Z"
   },
   {
    "duration": 25,
    "start_time": "2021-12-16T16:02:48.481Z"
   },
   {
    "duration": 24,
    "start_time": "2021-12-16T16:02:48.509Z"
   },
   {
    "duration": 8780,
    "start_time": "2021-12-16T16:02:48.535Z"
   },
   {
    "duration": 37,
    "start_time": "2021-12-16T16:02:57.281Z"
   },
   {
    "duration": 27,
    "start_time": "2021-12-16T16:02:57.292Z"
   },
   {
    "duration": 20,
    "start_time": "2021-12-16T16:02:57.300Z"
   },
   {
    "duration": 19,
    "start_time": "2021-12-16T16:02:57.303Z"
   },
   {
    "duration": 16,
    "start_time": "2021-12-16T16:02:57.307Z"
   },
   {
    "duration": 15,
    "start_time": "2021-12-16T16:02:57.310Z"
   },
   {
    "duration": 14,
    "start_time": "2021-12-16T16:02:57.312Z"
   },
   {
    "duration": 12,
    "start_time": "2021-12-16T16:02:57.316Z"
   },
   {
    "duration": 11,
    "start_time": "2021-12-16T16:02:57.318Z"
   },
   {
    "duration": 7,
    "start_time": "2021-12-16T16:02:57.324Z"
   },
   {
    "duration": 7,
    "start_time": "2021-12-16T16:02:57.325Z"
   },
   {
    "duration": 7,
    "start_time": "2021-12-16T16:02:57.327Z"
   },
   {
    "duration": 6,
    "start_time": "2021-12-16T16:02:57.329Z"
   },
   {
    "duration": 6,
    "start_time": "2021-12-16T16:02:57.331Z"
   },
   {
    "duration": 6,
    "start_time": "2021-12-16T16:02:57.332Z"
   },
   {
    "duration": 6,
    "start_time": "2021-12-16T16:02:57.334Z"
   },
   {
    "duration": 6,
    "start_time": "2021-12-16T16:02:57.335Z"
   },
   {
    "duration": 5,
    "start_time": "2021-12-16T16:02:57.337Z"
   },
   {
    "duration": 6,
    "start_time": "2021-12-16T16:02:57.338Z"
   },
   {
    "duration": 5,
    "start_time": "2021-12-16T16:02:57.340Z"
   },
   {
    "duration": 6,
    "start_time": "2021-12-16T16:02:57.341Z"
   },
   {
    "duration": 1,
    "start_time": "2021-12-16T16:02:57.347Z"
   },
   {
    "duration": 1,
    "start_time": "2021-12-16T16:02:57.349Z"
   },
   {
    "duration": 1,
    "start_time": "2021-12-16T16:02:57.350Z"
   },
   {
    "duration": 0,
    "start_time": "2021-12-16T16:02:57.352Z"
   },
   {
    "duration": 0,
    "start_time": "2021-12-16T16:02:57.354Z"
   },
   {
    "duration": 0,
    "start_time": "2021-12-16T16:02:57.355Z"
   },
   {
    "duration": -1,
    "start_time": "2021-12-16T16:02:57.357Z"
   },
   {
    "duration": -1,
    "start_time": "2021-12-16T16:02:57.359Z"
   },
   {
    "duration": 27,
    "start_time": "2021-12-16T16:03:12.039Z"
   },
   {
    "duration": 4,
    "start_time": "2021-12-16T16:03:15.490Z"
   },
   {
    "duration": 17,
    "start_time": "2021-12-16T16:04:08.442Z"
   },
   {
    "duration": 642,
    "start_time": "2021-12-16T16:04:22.487Z"
   },
   {
    "duration": 135,
    "start_time": "2021-12-16T16:04:23.131Z"
   },
   {
    "duration": 16,
    "start_time": "2021-12-16T16:04:23.268Z"
   },
   {
    "duration": 34,
    "start_time": "2021-12-16T16:04:23.286Z"
   },
   {
    "duration": 12,
    "start_time": "2021-12-16T16:04:23.322Z"
   },
   {
    "duration": 26,
    "start_time": "2021-12-16T16:04:23.336Z"
   },
   {
    "duration": 4,
    "start_time": "2021-12-16T16:04:23.364Z"
   },
   {
    "duration": 39,
    "start_time": "2021-12-16T16:04:23.371Z"
   },
   {
    "duration": 20,
    "start_time": "2021-12-16T16:04:23.413Z"
   },
   {
    "duration": 24,
    "start_time": "2021-12-16T16:04:23.435Z"
   },
   {
    "duration": 79,
    "start_time": "2021-12-16T16:04:23.461Z"
   },
   {
    "duration": 79,
    "start_time": "2021-12-16T16:04:23.542Z"
   },
   {
    "duration": 50,
    "start_time": "2021-12-16T16:04:23.623Z"
   },
   {
    "duration": 6,
    "start_time": "2021-12-16T16:04:23.674Z"
   },
   {
    "duration": 3,
    "start_time": "2021-12-16T16:04:23.682Z"
   },
   {
    "duration": 20,
    "start_time": "2021-12-16T16:04:23.687Z"
   },
   {
    "duration": 5,
    "start_time": "2021-12-16T16:04:23.708Z"
   },
   {
    "duration": 4,
    "start_time": "2021-12-16T16:04:23.714Z"
   },
   {
    "duration": 4,
    "start_time": "2021-12-16T16:04:23.720Z"
   },
   {
    "duration": 4,
    "start_time": "2021-12-16T16:04:23.726Z"
   },
   {
    "duration": 6,
    "start_time": "2021-12-16T16:04:23.731Z"
   },
   {
    "duration": 5,
    "start_time": "2021-12-16T16:04:23.739Z"
   },
   {
    "duration": 2,
    "start_time": "2021-12-16T16:04:23.748Z"
   },
   {
    "duration": 5,
    "start_time": "2021-12-16T16:04:23.752Z"
   },
   {
    "duration": 5,
    "start_time": "2021-12-16T16:04:23.758Z"
   },
   {
    "duration": 10,
    "start_time": "2021-12-16T16:04:23.765Z"
   },
   {
    "duration": 4,
    "start_time": "2021-12-16T16:04:23.776Z"
   },
   {
    "duration": 2,
    "start_time": "2021-12-16T16:04:23.806Z"
   },
   {
    "duration": 5,
    "start_time": "2021-12-16T16:04:23.810Z"
   },
   {
    "duration": 7,
    "start_time": "2021-12-16T16:04:23.816Z"
   },
   {
    "duration": 7,
    "start_time": "2021-12-16T16:04:23.825Z"
   },
   {
    "duration": 4,
    "start_time": "2021-12-16T16:04:23.834Z"
   },
   {
    "duration": 8,
    "start_time": "2021-12-16T16:04:23.839Z"
   },
   {
    "duration": 4,
    "start_time": "2021-12-16T16:04:23.848Z"
   },
   {
    "duration": 4,
    "start_time": "2021-12-16T16:04:23.854Z"
   },
   {
    "duration": 5,
    "start_time": "2021-12-16T16:04:23.859Z"
   },
   {
    "duration": 5,
    "start_time": "2021-12-16T16:04:23.865Z"
   },
   {
    "duration": 6,
    "start_time": "2021-12-16T16:04:23.871Z"
   },
   {
    "duration": 629,
    "start_time": "2021-12-16T16:17:33.602Z"
   },
   {
    "duration": 565,
    "start_time": "2021-12-16T16:18:08.842Z"
   },
   {
    "duration": 599,
    "start_time": "2021-12-16T16:18:22.810Z"
   },
   {
    "duration": 11,
    "start_time": "2021-12-16T16:18:45.468Z"
   },
   {
    "duration": 8,
    "start_time": "2021-12-16T16:19:07.098Z"
   },
   {
    "duration": 6,
    "start_time": "2021-12-16T16:19:14.482Z"
   },
   {
    "duration": 6,
    "start_time": "2021-12-16T16:19:20.138Z"
   },
   {
    "duration": 7,
    "start_time": "2021-12-16T16:20:05.929Z"
   },
   {
    "duration": 11,
    "start_time": "2021-12-16T16:20:08.866Z"
   },
   {
    "duration": 10,
    "start_time": "2021-12-16T16:20:11.010Z"
   },
   {
    "duration": 787,
    "start_time": "2021-12-16T16:20:18.858Z"
   },
   {
    "duration": 149,
    "start_time": "2021-12-16T16:20:19.647Z"
   },
   {
    "duration": 17,
    "start_time": "2021-12-16T16:20:19.798Z"
   },
   {
    "duration": 26,
    "start_time": "2021-12-16T16:20:19.817Z"
   },
   {
    "duration": 5,
    "start_time": "2021-12-16T16:20:19.844Z"
   },
   {
    "duration": 20,
    "start_time": "2021-12-16T16:20:19.851Z"
   },
   {
    "duration": 6,
    "start_time": "2021-12-16T16:20:19.872Z"
   },
   {
    "duration": 23,
    "start_time": "2021-12-16T16:20:19.907Z"
   },
   {
    "duration": 18,
    "start_time": "2021-12-16T16:20:19.933Z"
   },
   {
    "duration": 22,
    "start_time": "2021-12-16T16:20:19.953Z"
   },
   {
    "duration": 87,
    "start_time": "2021-12-16T16:20:19.977Z"
   },
   {
    "duration": 87,
    "start_time": "2021-12-16T16:20:20.065Z"
   },
   {
    "duration": 58,
    "start_time": "2021-12-16T16:20:20.154Z"
   },
   {
    "duration": 6,
    "start_time": "2021-12-16T16:20:20.214Z"
   },
   {
    "duration": 11,
    "start_time": "2021-12-16T16:20:20.222Z"
   },
   {
    "duration": 18,
    "start_time": "2021-12-16T16:20:20.235Z"
   },
   {
    "duration": 4,
    "start_time": "2021-12-16T16:20:20.255Z"
   },
   {
    "duration": 7,
    "start_time": "2021-12-16T16:20:20.261Z"
   },
   {
    "duration": 34,
    "start_time": "2021-12-16T16:20:20.270Z"
   },
   {
    "duration": 17,
    "start_time": "2021-12-16T16:20:20.306Z"
   },
   {
    "duration": 13,
    "start_time": "2021-12-16T16:20:20.324Z"
   },
   {
    "duration": 14,
    "start_time": "2021-12-16T16:20:20.339Z"
   },
   {
    "duration": 6,
    "start_time": "2021-12-16T16:20:20.356Z"
   },
   {
    "duration": 7,
    "start_time": "2021-12-16T16:20:20.364Z"
   },
   {
    "duration": 10,
    "start_time": "2021-12-16T16:20:20.372Z"
   },
   {
    "duration": 24,
    "start_time": "2021-12-16T16:20:20.384Z"
   },
   {
    "duration": 10,
    "start_time": "2021-12-16T16:20:20.411Z"
   },
   {
    "duration": 9,
    "start_time": "2021-12-16T16:20:20.423Z"
   },
   {
    "duration": 9,
    "start_time": "2021-12-16T16:20:20.434Z"
   },
   {
    "duration": 5,
    "start_time": "2021-12-16T16:20:20.445Z"
   },
   {
    "duration": 7,
    "start_time": "2021-12-16T16:20:20.452Z"
   },
   {
    "duration": 5,
    "start_time": "2021-12-16T16:20:20.461Z"
   },
   {
    "duration": 7,
    "start_time": "2021-12-16T16:20:20.468Z"
   },
   {
    "duration": 5,
    "start_time": "2021-12-16T16:20:20.476Z"
   },
   {
    "duration": 5,
    "start_time": "2021-12-16T16:20:20.482Z"
   },
   {
    "duration": 4,
    "start_time": "2021-12-16T16:20:20.489Z"
   },
   {
    "duration": 5,
    "start_time": "2021-12-16T16:20:20.495Z"
   },
   {
    "duration": 3,
    "start_time": "2021-12-16T16:20:20.506Z"
   },
   {
    "duration": 6,
    "start_time": "2021-12-16T16:20:37.463Z"
   },
   {
    "duration": 10,
    "start_time": "2021-12-16T16:20:51.975Z"
   },
   {
    "duration": 1077,
    "start_time": "2021-12-16T16:21:02.968Z"
   },
   {
    "duration": 363,
    "start_time": "2021-12-16T16:21:17.543Z"
   },
   {
    "duration": 649,
    "start_time": "2021-12-16T16:21:29.917Z"
   },
   {
    "duration": 152,
    "start_time": "2021-12-16T16:21:30.568Z"
   },
   {
    "duration": 19,
    "start_time": "2021-12-16T16:21:30.723Z"
   },
   {
    "duration": 50,
    "start_time": "2021-12-16T16:21:30.745Z"
   },
   {
    "duration": 24,
    "start_time": "2021-12-16T16:21:30.797Z"
   },
   {
    "duration": 38,
    "start_time": "2021-12-16T16:21:30.823Z"
   },
   {
    "duration": 20,
    "start_time": "2021-12-16T16:21:30.863Z"
   },
   {
    "duration": 50,
    "start_time": "2021-12-16T16:21:30.885Z"
   },
   {
    "duration": 26,
    "start_time": "2021-12-16T16:21:30.938Z"
   },
   {
    "duration": 27,
    "start_time": "2021-12-16T16:21:30.966Z"
   },
   {
    "duration": 90,
    "start_time": "2021-12-16T16:21:30.994Z"
   },
   {
    "duration": 74,
    "start_time": "2021-12-16T16:21:31.086Z"
   },
   {
    "duration": 59,
    "start_time": "2021-12-16T16:21:31.162Z"
   },
   {
    "duration": 6,
    "start_time": "2021-12-16T16:21:31.223Z"
   },
   {
    "duration": 32,
    "start_time": "2021-12-16T16:21:31.231Z"
   },
   {
    "duration": 11,
    "start_time": "2021-12-16T16:21:31.264Z"
   },
   {
    "duration": 12,
    "start_time": "2021-12-16T16:21:31.277Z"
   },
   {
    "duration": 9,
    "start_time": "2021-12-16T16:21:31.290Z"
   },
   {
    "duration": 15,
    "start_time": "2021-12-16T16:21:31.301Z"
   },
   {
    "duration": 6,
    "start_time": "2021-12-16T16:21:31.318Z"
   },
   {
    "duration": 9,
    "start_time": "2021-12-16T16:21:31.326Z"
   },
   {
    "duration": 7,
    "start_time": "2021-12-16T16:21:31.337Z"
   },
   {
    "duration": 28,
    "start_time": "2021-12-16T16:21:31.345Z"
   },
   {
    "duration": 11,
    "start_time": "2021-12-16T16:21:31.375Z"
   },
   {
    "duration": 13,
    "start_time": "2021-12-16T16:21:31.387Z"
   },
   {
    "duration": 15,
    "start_time": "2021-12-16T16:21:31.402Z"
   },
   {
    "duration": 4,
    "start_time": "2021-12-16T16:21:31.421Z"
   },
   {
    "duration": 21,
    "start_time": "2021-12-16T16:21:31.427Z"
   },
   {
    "duration": 8,
    "start_time": "2021-12-16T16:21:31.450Z"
   },
   {
    "duration": 18,
    "start_time": "2021-12-16T16:21:31.459Z"
   },
   {
    "duration": 16,
    "start_time": "2021-12-16T16:21:31.479Z"
   },
   {
    "duration": 14,
    "start_time": "2021-12-16T16:21:31.496Z"
   },
   {
    "duration": 33,
    "start_time": "2021-12-16T16:21:31.512Z"
   },
   {
    "duration": 14,
    "start_time": "2021-12-16T16:21:31.547Z"
   },
   {
    "duration": 8,
    "start_time": "2021-12-16T16:21:31.563Z"
   },
   {
    "duration": 8,
    "start_time": "2021-12-16T16:21:31.573Z"
   },
   {
    "duration": 7,
    "start_time": "2021-12-16T16:21:31.582Z"
   },
   {
    "duration": 5,
    "start_time": "2021-12-16T16:21:31.591Z"
   },
   {
    "duration": 420,
    "start_time": "2021-12-16T16:22:23.308Z"
   },
   {
    "duration": 6,
    "start_time": "2021-12-16T16:24:05.261Z"
   },
   {
    "duration": 6,
    "start_time": "2021-12-16T16:24:07.757Z"
   },
   {
    "duration": 45,
    "start_time": "2021-12-16T16:24:39.908Z"
   },
   {
    "duration": 42,
    "start_time": "2021-12-16T16:25:51.006Z"
   },
   {
    "duration": 41,
    "start_time": "2021-12-16T16:26:03.982Z"
   },
   {
    "duration": 42,
    "start_time": "2021-12-16T16:26:14.238Z"
   },
   {
    "duration": 41,
    "start_time": "2021-12-16T16:26:21.941Z"
   },
   {
    "duration": 460,
    "start_time": "2021-12-17T11:27:26.295Z"
   },
   {
    "duration": 1092,
    "start_time": "2021-12-17T11:27:36.904Z"
   },
   {
    "duration": 190,
    "start_time": "2021-12-17T11:27:37.998Z"
   },
   {
    "duration": 38,
    "start_time": "2021-12-17T11:27:38.192Z"
   },
   {
    "duration": 58,
    "start_time": "2021-12-17T11:27:38.233Z"
   },
   {
    "duration": 6,
    "start_time": "2021-12-17T11:27:38.294Z"
   },
   {
    "duration": 25,
    "start_time": "2021-12-17T11:27:38.325Z"
   },
   {
    "duration": 9,
    "start_time": "2021-12-17T11:27:38.353Z"
   },
   {
    "duration": 58,
    "start_time": "2021-12-17T11:27:38.368Z"
   },
   {
    "duration": 23,
    "start_time": "2021-12-17T11:27:38.429Z"
   },
   {
    "duration": 30,
    "start_time": "2021-12-17T11:27:38.455Z"
   },
   {
    "duration": 113,
    "start_time": "2021-12-17T11:27:38.487Z"
   },
   {
    "duration": 127,
    "start_time": "2021-12-17T11:27:38.602Z"
   },
   {
    "duration": 77,
    "start_time": "2021-12-17T11:27:38.731Z"
   },
   {
    "duration": 17,
    "start_time": "2021-12-17T11:27:38.811Z"
   },
   {
    "duration": 14,
    "start_time": "2021-12-17T11:27:38.831Z"
   },
   {
    "duration": 12,
    "start_time": "2021-12-17T11:27:38.848Z"
   },
   {
    "duration": 98,
    "start_time": "2021-12-17T11:27:38.863Z"
   },
   {
    "duration": 14,
    "start_time": "2021-12-17T11:27:38.963Z"
   },
   {
    "duration": 15,
    "start_time": "2021-12-17T11:27:38.980Z"
   },
   {
    "duration": 9,
    "start_time": "2021-12-17T11:27:38.998Z"
   },
   {
    "duration": 33,
    "start_time": "2021-12-17T11:27:39.025Z"
   },
   {
    "duration": 10,
    "start_time": "2021-12-17T11:27:39.061Z"
   },
   {
    "duration": 18,
    "start_time": "2021-12-17T11:27:39.079Z"
   },
   {
    "duration": 30,
    "start_time": "2021-12-17T11:27:39.101Z"
   },
   {
    "duration": 28,
    "start_time": "2021-12-17T11:27:39.134Z"
   },
   {
    "duration": 37,
    "start_time": "2021-12-17T11:27:39.166Z"
   },
   {
    "duration": 32,
    "start_time": "2021-12-17T11:27:39.206Z"
   },
   {
    "duration": 24,
    "start_time": "2021-12-17T11:27:39.241Z"
   },
   {
    "duration": 36,
    "start_time": "2021-12-17T11:27:39.268Z"
   },
   {
    "duration": 26,
    "start_time": "2021-12-17T11:27:39.306Z"
   },
   {
    "duration": 37,
    "start_time": "2021-12-17T11:27:39.335Z"
   },
   {
    "duration": 24,
    "start_time": "2021-12-17T11:27:39.375Z"
   },
   {
    "duration": 23,
    "start_time": "2021-12-17T11:27:39.401Z"
   },
   {
    "duration": 24,
    "start_time": "2021-12-17T11:27:39.426Z"
   },
   {
    "duration": 16,
    "start_time": "2021-12-17T11:27:39.452Z"
   },
   {
    "duration": 24,
    "start_time": "2021-12-17T11:27:39.470Z"
   },
   {
    "duration": 19,
    "start_time": "2021-12-17T11:27:39.497Z"
   },
   {
    "duration": 20,
    "start_time": "2021-12-17T11:27:39.518Z"
   },
   {
    "duration": 15,
    "start_time": "2021-12-17T11:30:19.156Z"
   },
   {
    "duration": 4,
    "start_time": "2021-12-17T11:33:00.957Z"
   },
   {
    "duration": 30,
    "start_time": "2021-12-17T11:33:07.861Z"
   },
   {
    "duration": 4,
    "start_time": "2021-12-17T11:34:31.902Z"
   },
   {
    "duration": 4,
    "start_time": "2021-12-17T11:34:34.144Z"
   },
   {
    "duration": 109,
    "start_time": "2021-12-17T11:34:37.366Z"
   },
   {
    "duration": 10,
    "start_time": "2021-12-17T11:35:24.822Z"
   },
   {
    "duration": 5,
    "start_time": "2021-12-17T11:36:21.798Z"
   },
   {
    "duration": 8,
    "start_time": "2021-12-17T11:36:35.287Z"
   },
   {
    "duration": 5,
    "start_time": "2021-12-17T11:37:21.138Z"
   },
   {
    "duration": 4,
    "start_time": "2021-12-17T11:38:12.607Z"
   },
   {
    "duration": 449,
    "start_time": "2021-12-17T15:27:28.155Z"
   },
   {
    "duration": 345,
    "start_time": "2021-12-17T15:27:36.666Z"
   },
   {
    "duration": 347,
    "start_time": "2021-12-17T15:31:10.952Z"
   },
   {
    "duration": 340,
    "start_time": "2021-12-17T15:42:43.019Z"
   },
   {
    "duration": 341,
    "start_time": "2021-12-17T15:42:51.901Z"
   },
   {
    "duration": 641,
    "start_time": "2021-12-17T15:42:58.899Z"
   },
   {
    "duration": 139,
    "start_time": "2021-12-17T15:42:59.542Z"
   },
   {
    "duration": 17,
    "start_time": "2021-12-17T15:42:59.683Z"
   },
   {
    "duration": 24,
    "start_time": "2021-12-17T15:42:59.702Z"
   },
   {
    "duration": 3,
    "start_time": "2021-12-17T15:42:59.728Z"
   },
   {
    "duration": 20,
    "start_time": "2021-12-17T15:42:59.733Z"
   },
   {
    "duration": 4,
    "start_time": "2021-12-17T15:42:59.755Z"
   },
   {
    "duration": 47,
    "start_time": "2021-12-17T15:42:59.760Z"
   },
   {
    "duration": 18,
    "start_time": "2021-12-17T15:42:59.810Z"
   },
   {
    "duration": 22,
    "start_time": "2021-12-17T15:42:59.831Z"
   },
   {
    "duration": 80,
    "start_time": "2021-12-17T15:42:59.855Z"
   },
   {
    "duration": 78,
    "start_time": "2021-12-17T15:42:59.937Z"
   },
   {
    "duration": 52,
    "start_time": "2021-12-17T15:43:00.017Z"
   },
   {
    "duration": 6,
    "start_time": "2021-12-17T15:43:00.071Z"
   },
   {
    "duration": 29,
    "start_time": "2021-12-17T15:43:00.080Z"
   },
   {
    "duration": 6,
    "start_time": "2021-12-17T15:43:00.111Z"
   },
   {
    "duration": 41,
    "start_time": "2021-12-17T15:43:00.118Z"
   },
   {
    "duration": 13,
    "start_time": "2021-12-17T15:43:00.161Z"
   },
   {
    "duration": 428,
    "start_time": "2021-12-17T15:43:00.176Z"
   },
   {
    "duration": 563,
    "start_time": "2021-12-17T15:43:00.044Z"
   },
   {
    "duration": 560,
    "start_time": "2021-12-17T15:43:00.048Z"
   },
   {
    "duration": 559,
    "start_time": "2021-12-17T15:43:00.051Z"
   },
   {
    "duration": 557,
    "start_time": "2021-12-17T15:43:00.054Z"
   },
   {
    "duration": 548,
    "start_time": "2021-12-17T15:43:00.064Z"
   },
   {
    "duration": 547,
    "start_time": "2021-12-17T15:43:00.067Z"
   },
   {
    "duration": 544,
    "start_time": "2021-12-17T15:43:00.071Z"
   },
   {
    "duration": 541,
    "start_time": "2021-12-17T15:43:00.074Z"
   },
   {
    "duration": 539,
    "start_time": "2021-12-17T15:43:00.077Z"
   },
   {
    "duration": 536,
    "start_time": "2021-12-17T15:43:00.081Z"
   },
   {
    "duration": 535,
    "start_time": "2021-12-17T15:43:00.084Z"
   },
   {
    "duration": 531,
    "start_time": "2021-12-17T15:43:00.088Z"
   },
   {
    "duration": 523,
    "start_time": "2021-12-17T15:43:00.097Z"
   },
   {
    "duration": 521,
    "start_time": "2021-12-17T15:43:00.100Z"
   },
   {
    "duration": 520,
    "start_time": "2021-12-17T15:43:00.102Z"
   },
   {
    "duration": 519,
    "start_time": "2021-12-17T15:43:00.104Z"
   },
   {
    "duration": 518,
    "start_time": "2021-12-17T15:43:00.106Z"
   },
   {
    "duration": 517,
    "start_time": "2021-12-17T15:43:00.108Z"
   },
   {
    "duration": 508,
    "start_time": "2021-12-17T15:43:00.118Z"
   },
   {
    "duration": 11,
    "start_time": "2021-12-17T15:44:18.535Z"
   },
   {
    "duration": 9,
    "start_time": "2021-12-17T15:44:30.127Z"
   },
   {
    "duration": 10,
    "start_time": "2021-12-17T15:44:32.462Z"
   },
   {
    "duration": 348,
    "start_time": "2021-12-17T15:44:35.751Z"
   },
   {
    "duration": 3,
    "start_time": "2021-12-17T15:44:40.287Z"
   },
   {
    "duration": 10,
    "start_time": "2021-12-17T15:44:59.079Z"
   },
   {
    "duration": 349,
    "start_time": "2021-12-17T15:45:32.144Z"
   },
   {
    "duration": 11,
    "start_time": "2021-12-17T15:45:46.776Z"
   },
   {
    "duration": 11,
    "start_time": "2021-12-17T15:45:49.679Z"
   },
   {
    "duration": 115,
    "start_time": "2021-12-17T15:45:52.816Z"
   },
   {
    "duration": 17,
    "start_time": "2021-12-17T15:46:13.298Z"
   },
   {
    "duration": 15,
    "start_time": "2021-12-17T15:48:24.607Z"
   },
   {
    "duration": 10,
    "start_time": "2021-12-17T15:48:28.313Z"
   },
   {
    "duration": 11,
    "start_time": "2021-12-17T15:48:56.553Z"
   },
   {
    "duration": 11,
    "start_time": "2021-12-17T15:48:58.674Z"
   },
   {
    "duration": 58,
    "start_time": "2021-12-17T15:49:42.545Z"
   },
   {
    "duration": 11,
    "start_time": "2021-12-17T15:50:10.700Z"
   },
   {
    "duration": 11,
    "start_time": "2021-12-17T15:50:32.290Z"
   },
   {
    "duration": 9,
    "start_time": "2021-12-17T15:50:36.866Z"
   },
   {
    "duration": 380,
    "start_time": "2021-12-18T11:36:16.570Z"
   },
   {
    "duration": 767,
    "start_time": "2021-12-18T11:36:38.249Z"
   },
   {
    "duration": 206,
    "start_time": "2021-12-18T11:36:39.019Z"
   },
   {
    "duration": 41,
    "start_time": "2021-12-18T11:36:39.230Z"
   },
   {
    "duration": 47,
    "start_time": "2021-12-18T11:36:39.275Z"
   },
   {
    "duration": 11,
    "start_time": "2021-12-18T11:36:39.324Z"
   },
   {
    "duration": 63,
    "start_time": "2021-12-18T11:36:39.338Z"
   },
   {
    "duration": 11,
    "start_time": "2021-12-18T11:36:39.404Z"
   },
   {
    "duration": 58,
    "start_time": "2021-12-18T11:36:39.420Z"
   },
   {
    "duration": 21,
    "start_time": "2021-12-18T11:36:39.480Z"
   },
   {
    "duration": 37,
    "start_time": "2021-12-18T11:36:39.503Z"
   },
   {
    "duration": 90,
    "start_time": "2021-12-18T11:36:39.542Z"
   },
   {
    "duration": 106,
    "start_time": "2021-12-18T11:36:39.634Z"
   },
   {
    "duration": 82,
    "start_time": "2021-12-18T11:36:39.743Z"
   },
   {
    "duration": 8,
    "start_time": "2021-12-18T11:36:39.828Z"
   },
   {
    "duration": 31,
    "start_time": "2021-12-18T11:36:39.839Z"
   },
   {
    "duration": 8,
    "start_time": "2021-12-18T11:36:39.873Z"
   },
   {
    "duration": 81,
    "start_time": "2021-12-18T11:36:39.883Z"
   },
   {
    "duration": 14,
    "start_time": "2021-12-18T11:36:39.966Z"
   },
   {
    "duration": 12,
    "start_time": "2021-12-18T11:36:39.983Z"
   },
   {
    "duration": 109,
    "start_time": "2021-12-18T11:36:39.998Z"
   },
   {
    "duration": 2202,
    "start_time": "2021-12-18T11:36:37.909Z"
   },
   {
    "duration": 2198,
    "start_time": "2021-12-18T11:36:37.914Z"
   },
   {
    "duration": 2195,
    "start_time": "2021-12-18T11:36:37.919Z"
   },
   {
    "duration": 2194,
    "start_time": "2021-12-18T11:36:37.922Z"
   },
   {
    "duration": 2193,
    "start_time": "2021-12-18T11:36:37.926Z"
   },
   {
    "duration": 2191,
    "start_time": "2021-12-18T11:36:37.930Z"
   },
   {
    "duration": 2189,
    "start_time": "2021-12-18T11:36:37.934Z"
   },
   {
    "duration": 2188,
    "start_time": "2021-12-18T11:36:37.937Z"
   },
   {
    "duration": 2188,
    "start_time": "2021-12-18T11:36:37.940Z"
   },
   {
    "duration": 2187,
    "start_time": "2021-12-18T11:36:37.943Z"
   },
   {
    "duration": 2184,
    "start_time": "2021-12-18T11:36:37.948Z"
   },
   {
    "duration": 2179,
    "start_time": "2021-12-18T11:36:37.956Z"
   },
   {
    "duration": 2178,
    "start_time": "2021-12-18T11:36:37.959Z"
   },
   {
    "duration": 2176,
    "start_time": "2021-12-18T11:36:37.963Z"
   },
   {
    "duration": 2176,
    "start_time": "2021-12-18T11:36:37.966Z"
   },
   {
    "duration": 2175,
    "start_time": "2021-12-18T11:36:37.969Z"
   },
   {
    "duration": 2173,
    "start_time": "2021-12-18T11:36:37.973Z"
   },
   {
    "duration": 2172,
    "start_time": "2021-12-18T11:36:37.976Z"
   },
   {
    "duration": 131,
    "start_time": "2021-12-18T12:08:20.213Z"
   },
   {
    "duration": 116,
    "start_time": "2021-12-18T12:08:27.101Z"
   },
   {
    "duration": 130,
    "start_time": "2021-12-18T12:08:45.308Z"
   },
   {
    "duration": 607,
    "start_time": "2021-12-18T12:09:20.957Z"
   },
   {
    "duration": 5,
    "start_time": "2021-12-18T12:18:55.056Z"
   },
   {
    "duration": 7,
    "start_time": "2021-12-18T12:20:03.361Z"
   },
   {
    "duration": 3442,
    "start_time": "2021-12-18T12:20:12.751Z"
   },
   {
    "duration": 279,
    "start_time": "2021-12-18T12:20:46.217Z"
   },
   {
    "duration": 285,
    "start_time": "2021-12-18T12:20:57.144Z"
   },
   {
    "duration": 288,
    "start_time": "2021-12-18T12:21:58.800Z"
   },
   {
    "duration": 2237,
    "start_time": "2021-12-18T12:26:39.970Z"
   },
   {
    "duration": 283,
    "start_time": "2021-12-18T12:27:00.379Z"
   },
   {
    "duration": 5,
    "start_time": "2021-12-18T12:27:20.681Z"
   },
   {
    "duration": 569,
    "start_time": "2021-12-18T12:27:23.841Z"
   },
   {
    "duration": 8,
    "start_time": "2021-12-18T12:28:06.571Z"
   },
   {
    "duration": 8,
    "start_time": "2021-12-18T12:46:33.923Z"
   },
   {
    "duration": 42,
    "start_time": "2021-12-18T12:46:37.434Z"
   },
   {
    "duration": 40,
    "start_time": "2021-12-18T12:46:52.225Z"
   },
   {
    "duration": 37,
    "start_time": "2021-12-18T12:47:07.136Z"
   },
   {
    "duration": 25,
    "start_time": "2021-12-18T12:47:42.395Z"
   },
   {
    "duration": 6,
    "start_time": "2021-12-18T13:04:19.184Z"
   },
   {
    "duration": 570,
    "start_time": "2021-12-18T13:04:21.255Z"
   },
   {
    "duration": 582,
    "start_time": "2021-12-18T13:05:15.329Z"
   },
   {
    "duration": 5,
    "start_time": "2021-12-18T13:05:18.786Z"
   },
   {
    "duration": 28,
    "start_time": "2021-12-18T13:05:20.730Z"
   },
   {
    "duration": 5,
    "start_time": "2021-12-18T13:06:13.457Z"
   },
   {
    "duration": 557,
    "start_time": "2021-12-18T13:06:15.621Z"
   },
   {
    "duration": 5,
    "start_time": "2021-12-18T13:07:04.938Z"
   },
   {
    "duration": 634,
    "start_time": "2021-12-18T13:07:06.826Z"
   },
   {
    "duration": 5,
    "start_time": "2021-12-18T13:07:14.074Z"
   },
   {
    "duration": 27,
    "start_time": "2021-12-18T13:07:16.081Z"
   },
   {
    "duration": 5,
    "start_time": "2021-12-18T13:14:54.972Z"
   },
   {
    "duration": 30,
    "start_time": "2021-12-18T13:14:57.020Z"
   },
   {
    "duration": 7,
    "start_time": "2021-12-18T18:32:33.125Z"
   },
   {
    "duration": 670,
    "start_time": "2021-12-18T18:32:35.290Z"
   },
   {
    "duration": 712,
    "start_time": "2021-12-18T18:32:44.244Z"
   },
   {
    "duration": 171,
    "start_time": "2021-12-18T18:32:44.959Z"
   },
   {
    "duration": 24,
    "start_time": "2021-12-18T18:32:45.136Z"
   },
   {
    "duration": 62,
    "start_time": "2021-12-18T18:32:45.162Z"
   },
   {
    "duration": 6,
    "start_time": "2021-12-18T18:32:45.227Z"
   },
   {
    "duration": 25,
    "start_time": "2021-12-18T18:32:45.235Z"
   },
   {
    "duration": 6,
    "start_time": "2021-12-18T18:32:45.264Z"
   },
   {
    "duration": 89,
    "start_time": "2021-12-18T18:32:45.276Z"
   },
   {
    "duration": 54,
    "start_time": "2021-12-18T18:32:45.369Z"
   },
   {
    "duration": 52,
    "start_time": "2021-12-18T18:32:45.427Z"
   },
   {
    "duration": 98,
    "start_time": "2021-12-18T18:32:45.481Z"
   },
   {
    "duration": 104,
    "start_time": "2021-12-18T18:32:45.581Z"
   },
   {
    "duration": 80,
    "start_time": "2021-12-18T18:32:45.688Z"
   },
   {
    "duration": 8,
    "start_time": "2021-12-18T18:32:45.770Z"
   },
   {
    "duration": 13,
    "start_time": "2021-12-18T18:32:45.780Z"
   },
   {
    "duration": 29,
    "start_time": "2021-12-18T18:32:45.796Z"
   },
   {
    "duration": 57,
    "start_time": "2021-12-18T18:32:45.828Z"
   },
   {
    "duration": 38,
    "start_time": "2021-12-18T18:32:45.888Z"
   },
   {
    "duration": 13,
    "start_time": "2021-12-18T18:32:45.928Z"
   },
   {
    "duration": 5,
    "start_time": "2021-12-18T18:32:45.944Z"
   },
   {
    "duration": 29,
    "start_time": "2021-12-18T18:32:45.951Z"
   },
   {
    "duration": 48,
    "start_time": "2021-12-18T18:32:45.986Z"
   },
   {
    "duration": 22,
    "start_time": "2021-12-18T18:32:46.037Z"
   },
   {
    "duration": 21,
    "start_time": "2021-12-18T18:32:46.062Z"
   },
   {
    "duration": 48,
    "start_time": "2021-12-18T18:32:46.085Z"
   },
   {
    "duration": 19,
    "start_time": "2021-12-18T18:32:46.136Z"
   },
   {
    "duration": 3,
    "start_time": "2021-12-18T18:32:46.157Z"
   },
   {
    "duration": 7,
    "start_time": "2021-12-18T18:32:46.162Z"
   },
   {
    "duration": 5,
    "start_time": "2021-12-18T18:32:46.171Z"
   },
   {
    "duration": 7,
    "start_time": "2021-12-18T18:32:46.224Z"
   },
   {
    "duration": 13,
    "start_time": "2021-12-18T18:32:46.233Z"
   },
   {
    "duration": 8,
    "start_time": "2021-12-18T18:32:46.249Z"
   },
   {
    "duration": 7,
    "start_time": "2021-12-18T18:32:46.259Z"
   },
   {
    "duration": 5,
    "start_time": "2021-12-18T18:32:46.269Z"
   },
   {
    "duration": 5,
    "start_time": "2021-12-18T18:32:46.276Z"
   },
   {
    "duration": 41,
    "start_time": "2021-12-18T18:32:46.283Z"
   },
   {
    "duration": 6,
    "start_time": "2021-12-18T18:32:46.327Z"
   },
   {
    "duration": 6,
    "start_time": "2021-12-18T18:32:46.336Z"
   },
   {
    "duration": 5,
    "start_time": "2021-12-18T18:39:51.103Z"
   },
   {
    "duration": 20,
    "start_time": "2021-12-18T18:39:52.606Z"
   },
   {
    "duration": 24,
    "start_time": "2021-12-18T18:39:54.206Z"
   },
   {
    "duration": 18,
    "start_time": "2021-12-18T18:39:55.165Z"
   },
   {
    "duration": 18,
    "start_time": "2021-12-18T18:39:55.606Z"
   },
   {
    "duration": 19,
    "start_time": "2021-12-18T18:39:56.278Z"
   },
   {
    "duration": 18,
    "start_time": "2021-12-18T18:39:56.693Z"
   },
   {
    "duration": 19,
    "start_time": "2021-12-18T18:40:09.830Z"
   },
   {
    "duration": 17,
    "start_time": "2021-12-18T18:40:11.518Z"
   },
   {
    "duration": 4,
    "start_time": "2021-12-18T18:40:40.375Z"
   },
   {
    "duration": 388,
    "start_time": "2021-12-18T18:41:36.629Z"
   },
   {
    "duration": 270,
    "start_time": "2021-12-18T18:42:02.224Z"
   },
   {
    "duration": 19,
    "start_time": "2021-12-18T18:44:31.870Z"
   },
   {
    "duration": 19,
    "start_time": "2021-12-18T18:44:36.663Z"
   },
   {
    "duration": 512,
    "start_time": "2021-12-18T18:47:04.464Z"
   },
   {
    "duration": 497,
    "start_time": "2021-12-18T18:52:30.129Z"
   },
   {
    "duration": 261,
    "start_time": "2021-12-18T18:52:50.092Z"
   },
   {
    "duration": 11,
    "start_time": "2021-12-18T18:53:17.913Z"
   },
   {
    "duration": 13,
    "start_time": "2021-12-18T18:54:30.879Z"
   },
   {
    "duration": 23,
    "start_time": "2021-12-18T18:54:41.099Z"
   },
   {
    "duration": 16,
    "start_time": "2021-12-18T18:55:00.937Z"
   },
   {
    "duration": 14,
    "start_time": "2021-12-18T18:55:03.428Z"
   },
   {
    "duration": 304,
    "start_time": "2021-12-18T18:55:08.668Z"
   },
   {
    "duration": 21,
    "start_time": "2021-12-18T18:56:14.862Z"
   },
   {
    "duration": 22,
    "start_time": "2021-12-18T18:56:21.347Z"
   },
   {
    "duration": 33,
    "start_time": "2021-12-18T18:56:28.149Z"
   },
   {
    "duration": 24,
    "start_time": "2021-12-18T18:59:01.023Z"
   },
   {
    "duration": 282,
    "start_time": "2021-12-18T19:05:22.320Z"
   },
   {
    "duration": 109,
    "start_time": "2021-12-18T19:05:27.810Z"
   },
   {
    "duration": 101,
    "start_time": "2021-12-18T19:05:49.961Z"
   },
   {
    "duration": 97,
    "start_time": "2021-12-18T19:05:55.447Z"
   },
   {
    "duration": 5,
    "start_time": "2021-12-18T19:08:59.267Z"
   },
   {
    "duration": 255,
    "start_time": "2021-12-18T19:20:09.343Z"
   },
   {
    "duration": 601,
    "start_time": "2021-12-18T19:20:42.238Z"
   },
   {
    "duration": 5,
    "start_time": "2021-12-18T19:21:17.054Z"
   },
   {
    "duration": 29,
    "start_time": "2021-12-18T19:21:18.975Z"
   },
   {
    "duration": 28,
    "start_time": "2021-12-18T19:22:17.047Z"
   },
   {
    "duration": 45,
    "start_time": "2021-12-18T19:23:22.280Z"
   },
   {
    "duration": 30,
    "start_time": "2021-12-18T19:23:23.999Z"
   },
   {
    "duration": 5,
    "start_time": "2021-12-18T19:35:26.611Z"
   },
   {
    "duration": 31,
    "start_time": "2021-12-18T19:35:28.115Z"
   },
   {
    "duration": 28,
    "start_time": "2021-12-18T19:35:38.084Z"
   },
   {
    "duration": 41,
    "start_time": "2021-12-18T19:36:28.151Z"
   },
   {
    "duration": 28,
    "start_time": "2021-12-18T19:36:42.332Z"
   },
   {
    "duration": 28,
    "start_time": "2021-12-18T19:36:44.059Z"
   },
   {
    "duration": 6,
    "start_time": "2021-12-18T19:37:32.461Z"
   },
   {
    "duration": 24,
    "start_time": "2021-12-18T19:37:34.531Z"
   },
   {
    "duration": 17,
    "start_time": "2021-12-18T19:37:36.931Z"
   },
   {
    "duration": 25,
    "start_time": "2021-12-18T19:37:39.836Z"
   },
   {
    "duration": 18,
    "start_time": "2021-12-18T19:37:41.468Z"
   },
   {
    "duration": 24,
    "start_time": "2021-12-18T19:39:17.140Z"
   },
   {
    "duration": 24,
    "start_time": "2021-12-18T19:39:33.565Z"
   },
   {
    "duration": 32,
    "start_time": "2021-12-18T19:39:41.205Z"
   },
   {
    "duration": 39,
    "start_time": "2021-12-18T19:40:32.357Z"
   },
   {
    "duration": 303,
    "start_time": "2021-12-18T19:41:03.487Z"
   },
   {
    "duration": 309,
    "start_time": "2021-12-18T19:41:46.254Z"
   },
   {
    "duration": 253,
    "start_time": "2021-12-18T19:41:53.349Z"
   },
   {
    "duration": 287,
    "start_time": "2021-12-18T19:42:04.245Z"
   },
   {
    "duration": 38,
    "start_time": "2021-12-18T19:43:31.311Z"
   },
   {
    "duration": 313,
    "start_time": "2021-12-18T19:43:40.701Z"
   },
   {
    "duration": 37,
    "start_time": "2021-12-18T19:44:36.934Z"
   },
   {
    "duration": 318,
    "start_time": "2021-12-18T19:45:15.847Z"
   },
   {
    "duration": 285,
    "start_time": "2021-12-18T19:46:46.671Z"
   },
   {
    "duration": 42,
    "start_time": "2021-12-18T19:46:57.687Z"
   },
   {
    "duration": 303,
    "start_time": "2021-12-18T19:47:11.679Z"
   },
   {
    "duration": 386,
    "start_time": "2021-12-18T19:48:36.396Z"
   },
   {
    "duration": 36,
    "start_time": "2021-12-18T19:49:17.801Z"
   },
   {
    "duration": 250,
    "start_time": "2021-12-18T19:49:42.016Z"
   },
   {
    "duration": 307,
    "start_time": "2021-12-18T19:50:08.664Z"
   },
   {
    "duration": 77,
    "start_time": "2021-12-18T19:50:11.953Z"
   },
   {
    "duration": 69,
    "start_time": "2021-12-18T19:50:38.504Z"
   },
   {
    "duration": 69,
    "start_time": "2021-12-18T19:50:41.344Z"
   },
   {
    "duration": 16,
    "start_time": "2021-12-18T19:50:43.552Z"
   },
   {
    "duration": 293,
    "start_time": "2021-12-18T19:51:18.569Z"
   },
   {
    "duration": 39,
    "start_time": "2021-12-18T19:53:31.401Z"
   },
   {
    "duration": 14,
    "start_time": "2021-12-18T19:53:44.531Z"
   },
   {
    "duration": 265,
    "start_time": "2021-12-18T19:53:50.313Z"
   },
   {
    "duration": 60,
    "start_time": "2021-12-18T19:54:05.577Z"
   },
   {
    "duration": 54,
    "start_time": "2021-12-18T19:54:12.355Z"
   },
   {
    "duration": 17,
    "start_time": "2021-12-18T19:54:14.145Z"
   },
   {
    "duration": 74,
    "start_time": "2021-12-18T19:54:28.714Z"
   },
   {
    "duration": 19,
    "start_time": "2021-12-18T19:54:47.875Z"
   },
   {
    "duration": 52,
    "start_time": "2021-12-18T19:54:56.537Z"
   },
   {
    "duration": 49,
    "start_time": "2021-12-18T19:55:06.338Z"
   },
   {
    "duration": 50,
    "start_time": "2021-12-18T19:55:07.905Z"
   },
   {
    "duration": 16,
    "start_time": "2021-12-18T19:55:09.314Z"
   },
   {
    "duration": 288,
    "start_time": "2021-12-18T19:55:22.345Z"
   },
   {
    "duration": 13,
    "start_time": "2021-12-18T19:55:29.280Z"
   },
   {
    "duration": 278,
    "start_time": "2021-12-18T19:55:44.009Z"
   },
   {
    "duration": 13,
    "start_time": "2021-12-18T19:56:14.675Z"
   },
   {
    "duration": 305,
    "start_time": "2021-12-18T19:57:04.812Z"
   },
   {
    "duration": 12,
    "start_time": "2021-12-18T19:59:03.427Z"
   },
   {
    "duration": 53,
    "start_time": "2021-12-18T19:59:52.627Z"
   },
   {
    "duration": 51,
    "start_time": "2021-12-18T20:00:37.890Z"
   },
   {
    "duration": 16,
    "start_time": "2021-12-18T20:00:39.405Z"
   },
   {
    "duration": 12,
    "start_time": "2021-12-18T20:00:54.404Z"
   },
   {
    "duration": 13,
    "start_time": "2021-12-18T20:00:57.156Z"
   },
   {
    "duration": 56,
    "start_time": "2021-12-18T20:01:01.052Z"
   },
   {
    "duration": 22,
    "start_time": "2021-12-18T20:01:02.963Z"
   },
   {
    "duration": 289,
    "start_time": "2021-12-18T20:01:38.580Z"
   },
   {
    "duration": 11,
    "start_time": "2021-12-18T20:01:45.260Z"
   },
   {
    "duration": 7,
    "start_time": "2021-12-18T20:01:46.852Z"
   },
   {
    "duration": 8,
    "start_time": "2021-12-18T20:02:48.468Z"
   },
   {
    "duration": 14,
    "start_time": "2021-12-18T20:02:50.196Z"
   },
   {
    "duration": 8,
    "start_time": "2021-12-18T20:03:08.332Z"
   },
   {
    "duration": 15,
    "start_time": "2021-12-18T20:03:10.165Z"
   },
   {
    "duration": 6,
    "start_time": "2021-12-18T20:03:15.677Z"
   },
   {
    "duration": 678,
    "start_time": "2021-12-18T20:03:52.371Z"
   },
   {
    "duration": 173,
    "start_time": "2021-12-18T20:03:53.052Z"
   },
   {
    "duration": 23,
    "start_time": "2021-12-18T20:03:53.228Z"
   },
   {
    "duration": 32,
    "start_time": "2021-12-18T20:03:53.255Z"
   },
   {
    "duration": 36,
    "start_time": "2021-12-18T20:03:53.290Z"
   },
   {
    "duration": 25,
    "start_time": "2021-12-18T20:03:53.328Z"
   },
   {
    "duration": 5,
    "start_time": "2021-12-18T20:03:53.356Z"
   },
   {
    "duration": 60,
    "start_time": "2021-12-18T20:03:53.364Z"
   },
   {
    "duration": 21,
    "start_time": "2021-12-18T20:03:53.427Z"
   },
   {
    "duration": 28,
    "start_time": "2021-12-18T20:03:53.450Z"
   },
   {
    "duration": 108,
    "start_time": "2021-12-18T20:03:53.480Z"
   },
   {
    "duration": 95,
    "start_time": "2021-12-18T20:03:53.591Z"
   },
   {
    "duration": 79,
    "start_time": "2021-12-18T20:03:53.689Z"
   },
   {
    "duration": 8,
    "start_time": "2021-12-18T20:03:53.770Z"
   },
   {
    "duration": 14,
    "start_time": "2021-12-18T20:03:53.781Z"
   },
   {
    "duration": 30,
    "start_time": "2021-12-18T20:03:53.797Z"
   },
   {
    "duration": 52,
    "start_time": "2021-12-18T20:03:53.829Z"
   },
   {
    "duration": 40,
    "start_time": "2021-12-18T20:03:53.883Z"
   },
   {
    "duration": 13,
    "start_time": "2021-12-18T20:03:53.925Z"
   },
   {
    "duration": 5,
    "start_time": "2021-12-18T20:03:53.940Z"
   },
   {
    "duration": 24,
    "start_time": "2021-12-18T20:03:53.947Z"
   },
   {
    "duration": 16,
    "start_time": "2021-12-18T20:03:53.973Z"
   },
   {
    "duration": 19,
    "start_time": "2021-12-18T20:03:54.023Z"
   },
   {
    "duration": 17,
    "start_time": "2021-12-18T20:03:54.045Z"
   },
   {
    "duration": 58,
    "start_time": "2021-12-18T20:03:54.065Z"
   },
   {
    "duration": 19,
    "start_time": "2021-12-18T20:03:54.125Z"
   },
   {
    "duration": 13,
    "start_time": "2021-12-18T20:03:54.147Z"
   },
   {
    "duration": 61,
    "start_time": "2021-12-18T20:03:54.162Z"
   },
   {
    "duration": 26,
    "start_time": "2021-12-18T20:03:54.225Z"
   },
   {
    "duration": 5,
    "start_time": "2021-12-18T20:03:54.253Z"
   },
   {
    "duration": 33,
    "start_time": "2021-12-18T20:03:54.260Z"
   },
   {
    "duration": 37,
    "start_time": "2021-12-18T20:03:54.296Z"
   },
   {
    "duration": 23,
    "start_time": "2021-12-18T20:03:54.335Z"
   },
   {
    "duration": 16,
    "start_time": "2021-12-18T20:03:54.360Z"
   },
   {
    "duration": 47,
    "start_time": "2021-12-18T20:03:54.378Z"
   },
   {
    "duration": 5,
    "start_time": "2021-12-18T20:03:54.427Z"
   },
   {
    "duration": 9,
    "start_time": "2021-12-18T20:03:54.435Z"
   },
   {
    "duration": 6,
    "start_time": "2021-12-18T20:03:54.447Z"
   },
   {
    "duration": 127,
    "start_time": "2021-12-19T09:53:20.195Z"
   },
   {
    "duration": 769,
    "start_time": "2021-12-19T09:53:28.817Z"
   },
   {
    "duration": 189,
    "start_time": "2021-12-19T09:53:29.589Z"
   },
   {
    "duration": 24,
    "start_time": "2021-12-19T09:53:29.781Z"
   },
   {
    "duration": 33,
    "start_time": "2021-12-19T09:53:29.808Z"
   },
   {
    "duration": 6,
    "start_time": "2021-12-19T09:53:29.868Z"
   },
   {
    "duration": 26,
    "start_time": "2021-12-19T09:53:29.876Z"
   },
   {
    "duration": 9,
    "start_time": "2021-12-19T09:53:29.905Z"
   },
   {
    "duration": 59,
    "start_time": "2021-12-19T09:53:29.918Z"
   },
   {
    "duration": 22,
    "start_time": "2021-12-19T09:53:29.980Z"
   },
   {
    "duration": 29,
    "start_time": "2021-12-19T09:53:30.004Z"
   },
   {
    "duration": 112,
    "start_time": "2021-12-19T09:53:30.036Z"
   },
   {
    "duration": 122,
    "start_time": "2021-12-19T09:53:30.151Z"
   },
   {
    "duration": 80,
    "start_time": "2021-12-19T09:53:30.275Z"
   },
   {
    "duration": 9,
    "start_time": "2021-12-19T09:53:30.368Z"
   },
   {
    "duration": 15,
    "start_time": "2021-12-19T09:53:30.379Z"
   },
   {
    "duration": 12,
    "start_time": "2021-12-19T09:53:30.396Z"
   },
   {
    "duration": 87,
    "start_time": "2021-12-19T09:53:30.410Z"
   },
   {
    "duration": 14,
    "start_time": "2021-12-19T09:53:30.499Z"
   },
   {
    "duration": 16,
    "start_time": "2021-12-19T09:53:30.515Z"
   },
   {
    "duration": 5,
    "start_time": "2021-12-19T09:53:30.533Z"
   },
   {
    "duration": 24,
    "start_time": "2021-12-19T09:53:30.568Z"
   },
   {
    "duration": 24,
    "start_time": "2021-12-19T09:53:30.594Z"
   },
   {
    "duration": 22,
    "start_time": "2021-12-19T09:53:30.622Z"
   },
   {
    "duration": 22,
    "start_time": "2021-12-19T09:53:30.667Z"
   },
   {
    "duration": 34,
    "start_time": "2021-12-19T09:53:30.691Z"
   },
   {
    "duration": 27,
    "start_time": "2021-12-19T09:53:30.727Z"
   },
   {
    "duration": 13,
    "start_time": "2021-12-19T09:53:30.767Z"
   },
   {
    "duration": 36,
    "start_time": "2021-12-19T09:53:30.783Z"
   },
   {
    "duration": 47,
    "start_time": "2021-12-19T09:53:30.822Z"
   },
   {
    "duration": 6,
    "start_time": "2021-12-19T09:53:30.871Z"
   },
   {
    "duration": 44,
    "start_time": "2021-12-19T09:53:30.879Z"
   },
   {
    "duration": 19,
    "start_time": "2021-12-19T09:53:30.926Z"
   },
   {
    "duration": 39,
    "start_time": "2021-12-19T09:53:30.947Z"
   },
   {
    "duration": 24,
    "start_time": "2021-12-19T09:53:30.988Z"
   },
   {
    "duration": 12,
    "start_time": "2021-12-19T09:53:31.014Z"
   },
   {
    "duration": 12,
    "start_time": "2021-12-19T09:53:31.028Z"
   },
   {
    "duration": 9,
    "start_time": "2021-12-19T09:53:31.067Z"
   },
   {
    "duration": 22,
    "start_time": "2021-12-19T09:53:31.079Z"
   },
   {
    "duration": 128,
    "start_time": "2021-12-19T09:56:21.543Z"
   },
   {
    "duration": 172,
    "start_time": "2021-12-19T09:59:35.495Z"
   },
   {
    "duration": 116,
    "start_time": "2021-12-19T10:03:52.663Z"
   },
   {
    "duration": 129,
    "start_time": "2021-12-19T10:05:09.988Z"
   },
   {
    "duration": 113,
    "start_time": "2021-12-19T10:05:59.327Z"
   },
   {
    "duration": 175,
    "start_time": "2021-12-19T10:08:11.865Z"
   },
   {
    "duration": 2741,
    "start_time": "2021-12-19T13:10:15.791Z"
   },
   {
    "duration": 854,
    "start_time": "2021-12-19T13:10:23.638Z"
   },
   {
    "duration": 145,
    "start_time": "2021-12-19T13:10:24.494Z"
   },
   {
    "duration": 18,
    "start_time": "2021-12-19T13:10:24.641Z"
   },
   {
    "duration": 27,
    "start_time": "2021-12-19T13:10:24.661Z"
   },
   {
    "duration": 5,
    "start_time": "2021-12-19T13:10:24.707Z"
   },
   {
    "duration": 23,
    "start_time": "2021-12-19T13:10:24.713Z"
   },
   {
    "duration": 6,
    "start_time": "2021-12-19T13:10:24.737Z"
   },
   {
    "duration": 23,
    "start_time": "2021-12-19T13:10:24.745Z"
   },
   {
    "duration": 41,
    "start_time": "2021-12-19T13:10:24.771Z"
   },
   {
    "duration": 24,
    "start_time": "2021-12-19T13:10:24.814Z"
   },
   {
    "duration": 75,
    "start_time": "2021-12-19T13:10:24.840Z"
   },
   {
    "duration": 68,
    "start_time": "2021-12-19T13:10:24.917Z"
   },
   {
    "duration": 62,
    "start_time": "2021-12-19T13:10:24.987Z"
   },
   {
    "duration": 6,
    "start_time": "2021-12-19T13:10:25.051Z"
   },
   {
    "duration": 11,
    "start_time": "2021-12-19T13:10:25.059Z"
   },
   {
    "duration": 7,
    "start_time": "2021-12-19T13:10:25.071Z"
   },
   {
    "duration": 65,
    "start_time": "2021-12-19T13:10:25.079Z"
   },
   {
    "duration": 11,
    "start_time": "2021-12-19T13:10:25.146Z"
   },
   {
    "duration": 11,
    "start_time": "2021-12-19T13:10:25.158Z"
   },
   {
    "duration": 4,
    "start_time": "2021-12-19T13:10:25.171Z"
   },
   {
    "duration": 41,
    "start_time": "2021-12-19T13:10:25.177Z"
   },
   {
    "duration": 15,
    "start_time": "2021-12-19T13:10:25.220Z"
   },
   {
    "duration": 15,
    "start_time": "2021-12-19T13:10:25.239Z"
   },
   {
    "duration": 15,
    "start_time": "2021-12-19T13:10:25.257Z"
   },
   {
    "duration": 49,
    "start_time": "2021-12-19T13:10:25.273Z"
   },
   {
    "duration": 13,
    "start_time": "2021-12-19T13:10:25.324Z"
   },
   {
    "duration": 8,
    "start_time": "2021-12-19T13:10:25.339Z"
   },
   {
    "duration": 22,
    "start_time": "2021-12-19T13:10:25.348Z"
   },
   {
    "duration": 46,
    "start_time": "2021-12-19T13:10:25.372Z"
   },
   {
    "duration": 4,
    "start_time": "2021-12-19T13:10:25.419Z"
   },
   {
    "duration": 22,
    "start_time": "2021-12-19T13:10:25.425Z"
   },
   {
    "duration": 13,
    "start_time": "2021-12-19T13:10:25.449Z"
   },
   {
    "duration": 43,
    "start_time": "2021-12-19T13:10:25.464Z"
   },
   {
    "duration": 14,
    "start_time": "2021-12-19T13:10:25.509Z"
   },
   {
    "duration": 8,
    "start_time": "2021-12-19T13:10:25.525Z"
   },
   {
    "duration": 4,
    "start_time": "2021-12-19T13:10:25.535Z"
   },
   {
    "duration": 7,
    "start_time": "2021-12-19T13:10:25.540Z"
   },
   {
    "duration": 5,
    "start_time": "2021-12-19T13:10:25.548Z"
   },
   {
    "duration": 650,
    "start_time": "2021-12-19T14:12:58.406Z"
   },
   {
    "duration": 143,
    "start_time": "2021-12-19T14:12:59.059Z"
   },
   {
    "duration": 20,
    "start_time": "2021-12-19T14:12:59.204Z"
   },
   {
    "duration": 54,
    "start_time": "2021-12-19T14:12:59.227Z"
   },
   {
    "duration": 3,
    "start_time": "2021-12-19T14:12:59.283Z"
   },
   {
    "duration": 30,
    "start_time": "2021-12-19T14:12:59.288Z"
   },
   {
    "duration": 5,
    "start_time": "2021-12-19T14:12:59.320Z"
   },
   {
    "duration": 69,
    "start_time": "2021-12-19T14:12:59.328Z"
   },
   {
    "duration": 28,
    "start_time": "2021-12-19T14:12:59.400Z"
   },
   {
    "duration": 52,
    "start_time": "2021-12-19T14:12:59.431Z"
   },
   {
    "duration": 97,
    "start_time": "2021-12-19T14:12:59.485Z"
   },
   {
    "duration": 113,
    "start_time": "2021-12-19T14:12:59.584Z"
   },
   {
    "duration": 87,
    "start_time": "2021-12-19T14:12:59.699Z"
   },
   {
    "duration": 6,
    "start_time": "2021-12-19T14:12:59.788Z"
   },
   {
    "duration": 10,
    "start_time": "2021-12-19T14:12:59.796Z"
   },
   {
    "duration": 6,
    "start_time": "2021-12-19T14:12:59.808Z"
   },
   {
    "duration": 66,
    "start_time": "2021-12-19T14:12:59.816Z"
   },
   {
    "duration": 10,
    "start_time": "2021-12-19T14:12:59.884Z"
   },
   {
    "duration": 10,
    "start_time": "2021-12-19T14:12:59.896Z"
   },
   {
    "duration": 5,
    "start_time": "2021-12-19T14:12:59.908Z"
   },
   {
    "duration": 52,
    "start_time": "2021-12-19T14:12:59.915Z"
   },
   {
    "duration": 20,
    "start_time": "2021-12-19T14:12:59.969Z"
   },
   {
    "duration": 29,
    "start_time": "2021-12-19T14:12:59.993Z"
   },
   {
    "duration": 42,
    "start_time": "2021-12-19T14:13:00.024Z"
   },
   {
    "duration": 19,
    "start_time": "2021-12-19T14:13:00.068Z"
   },
   {
    "duration": 19,
    "start_time": "2021-12-19T14:13:00.089Z"
   },
   {
    "duration": 8,
    "start_time": "2021-12-19T14:13:00.110Z"
   },
   {
    "duration": 52,
    "start_time": "2021-12-19T14:13:00.120Z"
   },
   {
    "duration": 21,
    "start_time": "2021-12-19T14:13:00.173Z"
   },
   {
    "duration": 4,
    "start_time": "2021-12-19T14:13:00.196Z"
   },
   {
    "duration": 37,
    "start_time": "2021-12-19T14:13:00.201Z"
   },
   {
    "duration": 24,
    "start_time": "2021-12-19T14:13:00.240Z"
   },
   {
    "duration": 19,
    "start_time": "2021-12-19T14:13:00.266Z"
   },
   {
    "duration": 14,
    "start_time": "2021-12-19T14:13:00.287Z"
   },
   {
    "duration": 17,
    "start_time": "2021-12-19T14:13:00.302Z"
   },
   {
    "duration": 17,
    "start_time": "2021-12-19T14:13:00.321Z"
   },
   {
    "duration": 27,
    "start_time": "2021-12-19T14:13:00.340Z"
   },
   {
    "duration": 9,
    "start_time": "2021-12-19T14:13:00.369Z"
   }
  ],
  "colab": {
   "collapsed_sections": [
    "E0vqbgi9ay0H",
    "VUC88oWjTJw2"
   ],
   "name": "yandex_music_project_2021.2.ipynb",
   "provenance": []
  },
  "kernelspec": {
   "display_name": "Python 3 (ipykernel)",
   "language": "python",
   "name": "python3"
  },
  "language_info": {
   "codemirror_mode": {
    "name": "ipython",
    "version": 3
   },
   "file_extension": ".py",
   "mimetype": "text/x-python",
   "name": "python",
   "nbconvert_exporter": "python",
   "pygments_lexer": "ipython3",
   "version": "3.8.16"
  },
  "toc": {
   "base_numbering": 1,
   "nav_menu": {},
   "number_sections": true,
   "sideBar": true,
   "skip_h1_title": true,
   "title_cell": "Table of Contents",
   "title_sidebar": "Contents",
   "toc_cell": false,
   "toc_position": {
    "height": "calc(100% - 180px)",
    "left": "10px",
    "top": "150px",
    "width": "318.391px"
   },
   "toc_section_display": true,
   "toc_window_display": true
  }
 },
 "nbformat": 4,
 "nbformat_minor": 1
}
