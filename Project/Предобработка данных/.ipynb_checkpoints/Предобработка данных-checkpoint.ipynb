{
 "cells": [
  {
   "cell_type": "markdown",
   "id": "4cc79f60",
   "metadata": {},
   "source": [
    "# Исследование надежности заемщиков."
   ]
  },
  {
   "cell_type": "markdown",
   "id": "9830b589",
   "metadata": {},
   "source": [
    "## Описание проекта\n",
    "Заказчик — кредитный отдел банка. Нужно разобраться, влияет ли семейное положение и количество детей клиента на факт погашения кредита в срок. Входные данные от банка — статистика о платёжеспособности клиентов.\n",
    "Результаты исследования будут учтены при построении модели кредитного скоринга — специальной системы, которая оценивает способность потенциального заёмщика вернуть кредит банку."
   ]
  },
  {
   "cell_type": "markdown",
   "id": "a40d957d",
   "metadata": {},
   "source": [
    "### Шаг 1. Обзор данных"
   ]
  },
  {
   "cell_type": "markdown",
   "id": "dd310d52",
   "metadata": {},
   "source": [
    "Производим **импорт библиотеки** Pandas для анализа."
   ]
  },
  {
   "cell_type": "code",
   "execution_count": 1,
   "id": "b4a9ba29",
   "metadata": {},
   "outputs": [],
   "source": [
    "import pandas as pd"
   ]
  },
  {
   "cell_type": "markdown",
   "id": "968ee328",
   "metadata": {},
   "source": [
    "**Открываем csv-файл** и записываем информацию в переменную `data`."
   ]
  },
  {
   "cell_type": "code",
   "execution_count": 2,
   "id": "dfeff0a7",
   "metadata": {},
   "outputs": [],
   "source": [
    "try:\n",
    "    data = pd.read_csv('C:/Users/JERR/Desktop/Проекты/Предобработка данных/data.csv')\n",
    "except:\n",
    "    try:\n",
    "        data = pd.read_csv('C:/Users/User/Desktop/Проекты/Предобработка данных/data.csv')\n",
    "    except:\n",
    "        data = pd.read_csv('/datasets/data.csv')"
   ]
  },
  {
   "cell_type": "markdown",
   "id": "3fd6d9bd",
   "metadata": {},
   "source": [
    "**Собираем первичные данные** из переменной `data`."
   ]
  },
  {
   "cell_type": "code",
   "execution_count": 3,
   "id": "3e826613",
   "metadata": {},
   "outputs": [
    {
     "name": "stdout",
     "output_type": "stream",
     "text": [
      "<class 'pandas.core.frame.DataFrame'>\n",
      "RangeIndex: 21525 entries, 0 to 21524\n",
      "Data columns (total 12 columns):\n",
      " #   Column            Non-Null Count  Dtype  \n",
      "---  ------            --------------  -----  \n",
      " 0   children          21525 non-null  int64  \n",
      " 1   days_employed     19351 non-null  float64\n",
      " 2   dob_years         21525 non-null  int64  \n",
      " 3   education         21525 non-null  object \n",
      " 4   education_id      21525 non-null  int64  \n",
      " 5   family_status     21525 non-null  object \n",
      " 6   family_status_id  21525 non-null  int64  \n",
      " 7   gender            21525 non-null  object \n",
      " 8   income_type       21525 non-null  object \n",
      " 9   debt              21525 non-null  int64  \n",
      " 10  total_income      19351 non-null  float64\n",
      " 11  purpose           21525 non-null  object \n",
      "dtypes: float64(2), int64(5), object(5)\n",
      "memory usage: 2.0+ MB\n"
     ]
    }
   ],
   "source": [
    "data.info()"
   ]
  },
  {
   "cell_type": "markdown",
   "id": "2a6ce726",
   "metadata": {},
   "source": [
    "Проверяем **название колонок.**"
   ]
  },
  {
   "cell_type": "code",
   "execution_count": 4,
   "id": "64f25efe",
   "metadata": {},
   "outputs": [
    {
     "data": {
      "text/plain": [
       "Index(['children', 'days_employed', 'dob_years', 'education', 'education_id',\n",
       "       'family_status', 'family_status_id', 'gender', 'income_type', 'debt',\n",
       "       'total_income', 'purpose'],\n",
       "      dtype='object')"
      ]
     },
     "metadata": {},
     "output_type": "display_data"
    }
   ],
   "source": [
    "display(data.columns)"
   ]
  },
  {
   "cell_type": "markdown",
   "id": "d3ce6159",
   "metadata": {},
   "source": [
    "Колонки в csv-файле без лишних пробелов, в нижнем регистре, разрывов внутри названия колонок нет. \n",
    "**Проблем не наблюдается.**"
   ]
  },
  {
   "cell_type": "markdown",
   "id": "0520971f",
   "metadata": {},
   "source": [
    "В Series `days_employed` и `total_income` немного меньше данных. \n",
    "Поэтому нужно посмотреть что представляют из себя пропуски:\n",
    "   * Столбцы `days_employed` и `total_income` имеют одинаковый тип данных - float64\n",
    "   * В столбцах `days_employed` и `total_income` одинаковое количество пропусков \n",
    "   \n",
    "Посчитаем **долю пропущенных значений**: "
   ]
  },
  {
   "cell_type": "code",
   "execution_count": 5,
   "id": "bab846e8",
   "metadata": {},
   "outputs": [
    {
     "name": "stdout",
     "output_type": "stream",
     "text": [
      "Доля пропусков:\n",
      "children            0.000\n",
      "days_employed       0.101\n",
      "dob_years           0.000\n",
      "education           0.000\n",
      "education_id        0.000\n",
      "family_status       0.000\n",
      "family_status_id    0.000\n",
      "gender              0.000\n",
      "income_type         0.000\n",
      "debt                0.000\n",
      "total_income        0.101\n",
      "purpose             0.000\n",
      "dtype: float64\n"
     ]
    }
   ],
   "source": [
    "print('Доля пропусков:')\n",
    "print(data.isna().mean().round(3))"
   ]
  },
  {
   "cell_type": "markdown",
   "id": "e93c7e52",
   "metadata": {},
   "source": [
    "В двух столбцах `days_employed` и `total_income` **отсутствует примерно 10% информации**, в сравнении с другими столбцами.\n",
    "Исследуем первый столбец `days_employed` - отображаем первые 5 строк."
   ]
  },
  {
   "cell_type": "code",
   "execution_count": 6,
   "id": "5a86fc37",
   "metadata": {},
   "outputs": [
    {
     "data": {
      "text/plain": [
       "0     -8437.673028\n",
       "1     -4024.803754\n",
       "2     -5623.422610\n",
       "3     -4124.747207\n",
       "4    340266.072047\n",
       "Name: days_employed, dtype: float64"
      ]
     },
     "metadata": {},
     "output_type": "display_data"
    }
   ],
   "source": [
    "display(data['days_employed'].head(5))"
   ]
  },
  {
   "cell_type": "markdown",
   "id": "a6fc545c",
   "metadata": {},
   "source": [
    "**Находим медиану** из значений столбца `days_employed` и записываем в переменную `days_employed_median`."
   ]
  },
  {
   "cell_type": "code",
   "execution_count": 7,
   "id": "835a6a35",
   "metadata": {},
   "outputs": [
    {
     "name": "stdout",
     "output_type": "stream",
     "text": [
      "Медиана столбца days_employed: -1203.37\n"
     ]
    }
   ],
   "source": [
    "days_employed_median = round(data['days_employed'].median(), 2)\n",
    "print('Медиана столбца days_employed:', days_employed_median)"
   ]
  },
  {
   "cell_type": "markdown",
   "id": "4319762c",
   "metadata": {},
   "source": [
    "Производим оценку следующего столбца. Выводим первые 5 строк `total_income`."
   ]
  },
  {
   "cell_type": "code",
   "execution_count": 8,
   "id": "1532a5fd",
   "metadata": {},
   "outputs": [
    {
     "name": "stdout",
     "output_type": "stream",
     "text": [
      "0    253875.639453\n",
      "1    112080.014102\n",
      "2    145885.952297\n",
      "3    267628.550329\n",
      "4    158616.077870\n",
      "Name: total_income, dtype: float64\n"
     ]
    }
   ],
   "source": [
    "print(data['total_income'].head(5))"
   ]
  },
  {
   "cell_type": "markdown",
   "id": "7bf4a17b",
   "metadata": {},
   "source": [
    "**Находим медиану** из значений столбца `total_income` и записываем в переменную `total_income_median`."
   ]
  },
  {
   "cell_type": "code",
   "execution_count": 9,
   "id": "17e8fab1",
   "metadata": {},
   "outputs": [
    {
     "name": "stdout",
     "output_type": "stream",
     "text": [
      "Медиана столбца total_income: 145017.94\n"
     ]
    }
   ],
   "source": [
    "total_income_median = round(data['total_income'].median(), 2)\n",
    "print('Медиана столбца total_income:', total_income_median)"
   ]
  },
  {
   "cell_type": "markdown",
   "id": "1f010af6",
   "metadata": {},
   "source": [
    "Следующим шагом **необходимо заполнить пропуски медианой.** "
   ]
  },
  {
   "cell_type": "markdown",
   "id": "d5eee751",
   "metadata": {},
   "source": [
    "### Шаг 2.1 Заполнение пропусков"
   ]
  },
  {
   "cell_type": "markdown",
   "id": "e00411eb",
   "metadata": {},
   "source": [
    "**Столбцы** `days_employed` и `total_income` **заполняются медианой**, т.к. добавление этих значений не исказит вывод."
   ]
  },
  {
   "cell_type": "code",
   "execution_count": 10,
   "id": "83c7ea34",
   "metadata": {},
   "outputs": [],
   "source": [
    "data['days_employed'] = data['days_employed'].fillna(days_employed_median)\n",
    "data['total_income'] = data['total_income'].fillna(total_income_median)"
   ]
  },
  {
   "cell_type": "markdown",
   "id": "3a5718f7",
   "metadata": {},
   "source": [
    "**Проверяем количество пропусков.**"
   ]
  },
  {
   "cell_type": "code",
   "execution_count": 11,
   "id": "0f63661f",
   "metadata": {},
   "outputs": [
    {
     "name": "stdout",
     "output_type": "stream",
     "text": [
      "children            0\n",
      "days_employed       0\n",
      "dob_years           0\n",
      "education           0\n",
      "education_id        0\n",
      "family_status       0\n",
      "family_status_id    0\n",
      "gender              0\n",
      "income_type         0\n",
      "debt                0\n",
      "total_income        0\n",
      "purpose             0\n",
      "dtype: int64\n"
     ]
    }
   ],
   "source": [
    "print(data.isna().sum())"
   ]
  },
  {
   "cell_type": "markdown",
   "id": "425ab98e",
   "metadata": {},
   "source": [
    "Выведим **общую информацию** о таблице."
   ]
  },
  {
   "cell_type": "code",
   "execution_count": 12,
   "id": "8aecafd7",
   "metadata": {},
   "outputs": [
    {
     "name": "stdout",
     "output_type": "stream",
     "text": [
      "<class 'pandas.core.frame.DataFrame'>\n",
      "RangeIndex: 21525 entries, 0 to 21524\n",
      "Data columns (total 12 columns):\n",
      " #   Column            Non-Null Count  Dtype  \n",
      "---  ------            --------------  -----  \n",
      " 0   children          21525 non-null  int64  \n",
      " 1   days_employed     21525 non-null  float64\n",
      " 2   dob_years         21525 non-null  int64  \n",
      " 3   education         21525 non-null  object \n",
      " 4   education_id      21525 non-null  int64  \n",
      " 5   family_status     21525 non-null  object \n",
      " 6   family_status_id  21525 non-null  int64  \n",
      " 7   gender            21525 non-null  object \n",
      " 8   income_type       21525 non-null  object \n",
      " 9   debt              21525 non-null  int64  \n",
      " 10  total_income      21525 non-null  float64\n",
      " 11  purpose           21525 non-null  object \n",
      "dtypes: float64(2), int64(5), object(5)\n",
      "memory usage: 2.0+ MB\n"
     ]
    }
   ],
   "source": [
    "data.info()"
   ]
  },
  {
   "cell_type": "markdown",
   "id": "69eb30d5",
   "metadata": {},
   "source": [
    "Пропуски устранены, и следующим шагом необходимо исправить аномалии в данных."
   ]
  },
  {
   "cell_type": "markdown",
   "id": "37fdfef8",
   "metadata": {},
   "source": [
    "### Шаг 2.2 Проверка данных на аномалии и исправления."
   ]
  },
  {
   "cell_type": "markdown",
   "id": "f1d1c504",
   "metadata": {},
   "source": [
    "**Проверяем отрицательные значения** в столбцах."
   ]
  },
  {
   "cell_type": "code",
   "execution_count": 13,
   "id": "424d2632",
   "metadata": {},
   "outputs": [],
   "source": [
    "columns_negative_values = ['children', \n",
    "                           'dob_years',\n",
    "                           'education_id',\n",
    "                           'family_status_id',\n",
    "                           'debt',\n",
    "                           'days_employed',\n",
    "                           'total_income']\n",
    "\n",
    "def negative_values(columns): \n",
    "    for columns_ in columns:\n",
    "        negative_values = data[data[columns_] < 0][columns_].count()\n",
    "        print(f'Количество отрицательных значений в столбце {columns_}: {negative_values}')"
   ]
  },
  {
   "cell_type": "code",
   "execution_count": 14,
   "id": "10bbbc97",
   "metadata": {},
   "outputs": [
    {
     "name": "stdout",
     "output_type": "stream",
     "text": [
      "Количество отрицательных значений в столбце children: 47\n",
      "Количество отрицательных значений в столбце dob_years: 0\n",
      "Количество отрицательных значений в столбце education_id: 0\n",
      "Количество отрицательных значений в столбце family_status_id: 0\n",
      "Количество отрицательных значений в столбце debt: 0\n",
      "Количество отрицательных значений в столбце days_employed: 18080\n",
      "Количество отрицательных значений в столбце total_income: 0\n"
     ]
    }
   ],
   "source": [
    "negative_values(columns_negative_values)"
   ]
  },
  {
   "cell_type": "markdown",
   "id": "0b8e86f0",
   "metadata": {},
   "source": [
    "Наблюдаем нетипичные данные для этих столбцов, поэтому **необходимо избавиться от отрицательных значений**, которые исказят заключение. "
   ]
  },
  {
   "cell_type": "code",
   "execution_count": 15,
   "id": "2a6e20eb",
   "metadata": {},
   "outputs": [],
   "source": [
    "data = data.loc[data['children'] >= 0]"
   ]
  },
  {
   "cell_type": "markdown",
   "id": "957e525c",
   "metadata": {},
   "source": [
    "Заметим, что `days_employed` **не участвует в исследовании**, так что его можно не исправлять."
   ]
  },
  {
   "cell_type": "markdown",
   "id": "6c44b55e",
   "metadata": {},
   "source": [
    "Теперь **необходимо избавиться от \"выбросов\"** для этого посмотрим уникальные значения столбца `children`."
   ]
  },
  {
   "cell_type": "code",
   "execution_count": 16,
   "id": "c382b9dc",
   "metadata": {},
   "outputs": [
    {
     "name": "stdout",
     "output_type": "stream",
     "text": [
      "0     14149\n",
      "1      4818\n",
      "2      2055\n",
      "3       330\n",
      "20       76\n",
      "4        41\n",
      "5         9\n",
      "Name: children, dtype: int64\n"
     ]
    }
   ],
   "source": [
    "print(data['children'].value_counts())"
   ]
  },
  {
   "cell_type": "markdown",
   "id": "9b9ddd82",
   "metadata": {},
   "source": [
    "**Дети возрастом 20 лет являются аномалией**, поэтому избавляемся от этих данных."
   ]
  },
  {
   "cell_type": "code",
   "execution_count": 17,
   "id": "dcc2e6a8",
   "metadata": {},
   "outputs": [],
   "source": [
    "data = data.loc[data['children'] != 20]"
   ]
  },
  {
   "cell_type": "code",
   "execution_count": 18,
   "id": "3b2d149f",
   "metadata": {},
   "outputs": [
    {
     "name": "stdout",
     "output_type": "stream",
     "text": [
      "0    14149\n",
      "1     4818\n",
      "2     2055\n",
      "3      330\n",
      "4       41\n",
      "5        9\n",
      "Name: children, dtype: int64\n"
     ]
    }
   ],
   "source": [
    "print(data['children'].value_counts())"
   ]
  },
  {
   "cell_type": "markdown",
   "id": "b1397799",
   "metadata": {},
   "source": [
    "**Данные** в столбце `children` **приведены в норму.**"
   ]
  },
  {
   "cell_type": "markdown",
   "id": "83c8020c",
   "metadata": {},
   "source": [
    "Проверяем **общую информацию** о датафрейме."
   ]
  },
  {
   "cell_type": "code",
   "execution_count": 19,
   "id": "fda9f5ed",
   "metadata": {},
   "outputs": [
    {
     "name": "stdout",
     "output_type": "stream",
     "text": [
      "<class 'pandas.core.frame.DataFrame'>\n",
      "Int64Index: 21402 entries, 0 to 21524\n",
      "Data columns (total 12 columns):\n",
      " #   Column            Non-Null Count  Dtype  \n",
      "---  ------            --------------  -----  \n",
      " 0   children          21402 non-null  int64  \n",
      " 1   days_employed     21402 non-null  float64\n",
      " 2   dob_years         21402 non-null  int64  \n",
      " 3   education         21402 non-null  object \n",
      " 4   education_id      21402 non-null  int64  \n",
      " 5   family_status     21402 non-null  object \n",
      " 6   family_status_id  21402 non-null  int64  \n",
      " 7   gender            21402 non-null  object \n",
      " 8   income_type       21402 non-null  object \n",
      " 9   debt              21402 non-null  int64  \n",
      " 10  total_income      21402 non-null  float64\n",
      " 11  purpose           21402 non-null  object \n",
      "dtypes: float64(2), int64(5), object(5)\n",
      "memory usage: 2.1+ MB\n",
      "None\n"
     ]
    }
   ],
   "source": [
    "print(data.info())"
   ]
  },
  {
   "cell_type": "markdown",
   "id": "fdf9d827",
   "metadata": {},
   "source": [
    "Произведем **анализ столбца** `dob_years`."
   ]
  },
  {
   "cell_type": "code",
   "execution_count": 20,
   "id": "be9f6136",
   "metadata": {},
   "outputs": [
    {
     "data": {
      "image/png": "[encoded data removed]",
      "text/plain": [
       "<Figure size 432x288 with 1 Axes>"
      ]
     },
     "metadata": {
      "needs_background": "light"
     },
     "output_type": "display_data"
    }
   ],
   "source": [
    "data['dob_years'].hist(bins=100);"
   ]
  },
  {
   "cell_type": "markdown",
   "id": "61326b32",
   "metadata": {},
   "source": [
    "Видна аномалия - **возраст клиента не может быть равен нулю.**"
   ]
  },
  {
   "cell_type": "code",
   "execution_count": 21,
   "id": "21fb78e1",
   "metadata": {},
   "outputs": [],
   "source": [
    "data = data.loc[data['dob_years'] >= 18]"
   ]
  },
  {
   "cell_type": "markdown",
   "id": "b9c62a43",
   "metadata": {},
   "source": [
    "Рассмотрим **неявные дубликаты.**"
   ]
  },
  {
   "cell_type": "code",
   "execution_count": 22,
   "id": "d53add9d",
   "metadata": {},
   "outputs": [
    {
     "data": {
      "text/plain": [
       "среднее                13609\n",
       "высшее                  4666\n",
       "СРЕДНЕЕ                  764\n",
       "Среднее                  700\n",
       "неоконченное высшее      663\n",
       "ВЫСШЕЕ                   270\n",
       "Высшее                   266\n",
       "начальное                250\n",
       "Неоконченное высшее       47\n",
       "НЕОКОНЧЕННОЕ ВЫСШЕЕ       29\n",
       "НАЧАЛЬНОЕ                 17\n",
       "Начальное                 15\n",
       "ученая степень             4\n",
       "Ученая степень             1\n",
       "УЧЕНАЯ СТЕПЕНЬ             1\n",
       "Name: education, dtype: int64"
      ]
     },
     "execution_count": 22,
     "metadata": {},
     "output_type": "execute_result"
    }
   ],
   "source": [
    "data['education'].value_counts()"
   ]
  },
  {
   "cell_type": "markdown",
   "id": "f7d85601",
   "metadata": {},
   "source": [
    "Видны дубликаты, в дальнейшем их **необходимо полностью исправить.**"
   ]
  },
  {
   "cell_type": "markdown",
   "id": "9ba6200e",
   "metadata": {},
   "source": [
    "**Рассмотрим значения** столбца `gender`."
   ]
  },
  {
   "cell_type": "code",
   "execution_count": 23,
   "id": "f00a0292",
   "metadata": {},
   "outputs": [
    {
     "data": {
      "text/plain": [
       "F      14083\n",
       "M       7218\n",
       "XNA        1\n",
       "Name: gender, dtype: int64"
      ]
     },
     "execution_count": 23,
     "metadata": {},
     "output_type": "execute_result"
    }
   ],
   "source": [
    "data['gender'].value_counts()"
   ]
  },
  {
   "cell_type": "markdown",
   "id": "106511a8",
   "metadata": {},
   "source": [
    "**Удалим аномалию.**"
   ]
  },
  {
   "cell_type": "code",
   "execution_count": 24,
   "id": "326c975f",
   "metadata": {},
   "outputs": [],
   "source": [
    "data = data.loc[data['gender'] != 'XNA']"
   ]
  },
  {
   "cell_type": "code",
   "execution_count": 25,
   "id": "3a392952",
   "metadata": {},
   "outputs": [
    {
     "data": {
      "text/plain": [
       "F    14083\n",
       "M     7218\n",
       "Name: gender, dtype: int64"
      ]
     },
     "execution_count": 25,
     "metadata": {},
     "output_type": "execute_result"
    }
   ],
   "source": [
    "data['gender'].value_counts()"
   ]
  },
  {
   "cell_type": "markdown",
   "id": "e716ade1",
   "metadata": {},
   "source": [
    "### Шаг 2.3. Изменение типов данных."
   ]
  },
  {
   "cell_type": "markdown",
   "id": "7cdb005b",
   "metadata": {},
   "source": [
    "Наблюдаем, что два столбца `days_employed` и `total_income` **не целочисленны**, и с такими данными трудно работать. Поэтому их **необходимо преобразовать к целочисленным.**"
   ]
  },
  {
   "cell_type": "code",
   "execution_count": 26,
   "id": "518bd099",
   "metadata": {},
   "outputs": [],
   "source": [
    "data['days_employed'] = data['days_employed'].astype('int64') \n",
    "data['total_income'] = data['total_income'].astype('int64')  "
   ]
  },
  {
   "cell_type": "markdown",
   "id": "3b3b223e",
   "metadata": {},
   "source": [
    "Проверяем **общую информацию** о датафрейме."
   ]
  },
  {
   "cell_type": "code",
   "execution_count": 27,
   "id": "da9cc999",
   "metadata": {},
   "outputs": [
    {
     "name": "stdout",
     "output_type": "stream",
     "text": [
      "<class 'pandas.core.frame.DataFrame'>\n",
      "Int64Index: 21301 entries, 0 to 21524\n",
      "Data columns (total 12 columns):\n",
      " #   Column            Non-Null Count  Dtype \n",
      "---  ------            --------------  ----- \n",
      " 0   children          21301 non-null  int64 \n",
      " 1   days_employed     21301 non-null  int64 \n",
      " 2   dob_years         21301 non-null  int64 \n",
      " 3   education         21301 non-null  object\n",
      " 4   education_id      21301 non-null  int64 \n",
      " 5   family_status     21301 non-null  object\n",
      " 6   family_status_id  21301 non-null  int64 \n",
      " 7   gender            21301 non-null  object\n",
      " 8   income_type       21301 non-null  object\n",
      " 9   debt              21301 non-null  int64 \n",
      " 10  total_income      21301 non-null  int64 \n",
      " 11  purpose           21301 non-null  object\n",
      "dtypes: int64(7), object(5)\n",
      "memory usage: 2.1+ MB\n"
     ]
    }
   ],
   "source": [
    "data.info()"
   ]
  },
  {
   "cell_type": "markdown",
   "id": "cd54c174",
   "metadata": {},
   "source": [
    "Теперь **наблюдаем только два типа данных** int64(целочисленные) и object(строковые)"
   ]
  },
  {
   "cell_type": "markdown",
   "id": "161a4c88",
   "metadata": {},
   "source": [
    "### Шаг 2.4. Удаление дубликатов."
   ]
  },
  {
   "cell_type": "markdown",
   "id": "678ec4fc",
   "metadata": {},
   "source": [
    "#### Явные дубликаты"
   ]
  },
  {
   "cell_type": "markdown",
   "id": "efeba143",
   "metadata": {},
   "source": [
    "Следующим шагом **проверяем количество явных дубликатов.**"
   ]
  },
  {
   "cell_type": "code",
   "execution_count": 28,
   "id": "00d5e973",
   "metadata": {},
   "outputs": [
    {
     "name": "stdout",
     "output_type": "stream",
     "text": [
      "Количество дубликатов: 54\n"
     ]
    }
   ],
   "source": [
    "print('Количество дубликатов:', data.duplicated().sum())"
   ]
  },
  {
   "cell_type": "markdown",
   "id": "061a9980",
   "metadata": {},
   "source": [
    "Т.к. **были найдены дубликаты**, то нужно от них избавиться."
   ]
  },
  {
   "cell_type": "code",
   "execution_count": 29,
   "id": "159d588e",
   "metadata": {},
   "outputs": [],
   "source": [
    "data = data.drop_duplicates().reset_index(drop=True)"
   ]
  },
  {
   "cell_type": "markdown",
   "id": "ed3dbcb3",
   "metadata": {},
   "source": [
    "**Проверяем** выполненную команду."
   ]
  },
  {
   "cell_type": "code",
   "execution_count": 30,
   "id": "c2d79bdb",
   "metadata": {},
   "outputs": [
    {
     "name": "stdout",
     "output_type": "stream",
     "text": [
      "Количество дубликатов: 0\n"
     ]
    }
   ],
   "source": [
    "print('Количество дубликатов:', data.duplicated().sum())"
   ]
  },
  {
   "cell_type": "markdown",
   "id": "432767a2",
   "metadata": {},
   "source": [
    "#### Неявные дубликаты"
   ]
  },
  {
   "cell_type": "markdown",
   "id": "a4eba748",
   "metadata": {},
   "source": [
    "Выше **были найдены неявные дубликаты**, поэтому необходимо все **привести к нижнему регистру.**"
   ]
  },
  {
   "cell_type": "code",
   "execution_count": 31,
   "id": "89cd352c",
   "metadata": {},
   "outputs": [],
   "source": [
    "columns_duplicates = ['education','family_status','gender','income_type','purpose']\n",
    "\n",
    "for columns_ in columns_duplicates:\n",
    "        data[columns_] = data[columns_].str.lower()"
   ]
  },
  {
   "cell_type": "markdown",
   "id": "16112f0b",
   "metadata": {},
   "source": [
    "**Проверим количество дубликатов**, после преобразования строчек к нижнему регистру."
   ]
  },
  {
   "cell_type": "code",
   "execution_count": 32,
   "id": "4508f4ef",
   "metadata": {},
   "outputs": [
    {
     "name": "stdout",
     "output_type": "stream",
     "text": [
      "Количество дубликатов: 17\n"
     ]
    }
   ],
   "source": [
    "print('Количество дубликатов:', data.duplicated().sum())"
   ]
  },
  {
   "cell_type": "markdown",
   "id": "6631d150",
   "metadata": {},
   "source": [
    "Производим **удаление дубликатов.**"
   ]
  },
  {
   "cell_type": "code",
   "execution_count": 33,
   "id": "20c542a3",
   "metadata": {},
   "outputs": [],
   "source": [
    "data = data.drop_duplicates().reset_index(drop=True)            "
   ]
  },
  {
   "cell_type": "markdown",
   "id": "e86d000c",
   "metadata": {},
   "source": [
    "Проверяем **количество уникальных значений** в столбцах.       "
   ]
  },
  {
   "cell_type": "code",
   "execution_count": 34,
   "id": "f2a7d88a",
   "metadata": {},
   "outputs": [
    {
     "name": "stdout",
     "output_type": "stream",
     "text": [
      "Уникальных значений в столбце education: 5\n",
      "Уникальных значений в столбце family_status: 5\n",
      "Уникальных значений в столбце gender: 2\n",
      "Уникальных значений в столбце income_type: 8\n",
      "Уникальных значений в столбце purpose: 38\n"
     ]
    }
   ],
   "source": [
    "def duplicated_unique(col):\n",
    "    for _ in col:\n",
    "        len_values = len(data[_].unique())\n",
    "        print(f'Уникальных значений в столбце {_}: {len_values}')\n",
    "              \n",
    "duplicated_unique(columns_duplicates)    "
   ]
  },
  {
   "cell_type": "markdown",
   "id": "9a939f99",
   "metadata": {},
   "source": [
    "Отображаем **общие сведения о таблице** после преобразований."
   ]
  },
  {
   "cell_type": "code",
   "execution_count": 35,
   "id": "6d73a524",
   "metadata": {},
   "outputs": [
    {
     "name": "stdout",
     "output_type": "stream",
     "text": [
      "<class 'pandas.core.frame.DataFrame'>\n",
      "RangeIndex: 21230 entries, 0 to 21229\n",
      "Data columns (total 12 columns):\n",
      " #   Column            Non-Null Count  Dtype \n",
      "---  ------            --------------  ----- \n",
      " 0   children          21230 non-null  int64 \n",
      " 1   days_employed     21230 non-null  int64 \n",
      " 2   dob_years         21230 non-null  int64 \n",
      " 3   education         21230 non-null  object\n",
      " 4   education_id      21230 non-null  int64 \n",
      " 5   family_status     21230 non-null  object\n",
      " 6   family_status_id  21230 non-null  int64 \n",
      " 7   gender            21230 non-null  object\n",
      " 8   income_type       21230 non-null  object\n",
      " 9   debt              21230 non-null  int64 \n",
      " 10  total_income      21230 non-null  int64 \n",
      " 11  purpose           21230 non-null  object\n",
      "dtypes: int64(7), object(5)\n",
      "memory usage: 1.9+ MB\n"
     ]
    }
   ],
   "source": [
    "data.info()"
   ]
  },
  {
   "cell_type": "markdown",
   "id": "fc624e75",
   "metadata": {},
   "source": [
    "### Шаг 2.5. Формирование дополнительных датафреймов словарей, декомпозиция исходного датафрейма."
   ]
  },
  {
   "cell_type": "markdown",
   "id": "62fffa98",
   "metadata": {},
   "source": [
    "Строки `education`, `family_status`, `gender`, `income_type` и `purpose` хранились в виде строк разной длины. Такой способ хранения увеличивал бы время обработки данных. Поэтому создаем словарь и будем обращаться уже не к длинной строке, а к её числовому обозначению. Создаем два датафрейма, где:\n",
    "* каждому уникальному значению из `education` соответствует уникальное значение `education_id` — в первом;\n",
    "* каждому уникальному значению из `family_status` соответствует уникальное значение `family_status_id` — во втором."
   ]
  },
  {
   "cell_type": "code",
   "execution_count": 57,
   "id": "437aab92",
   "metadata": {},
   "outputs": [],
   "source": [
    "data_education = (data[['education_id','education']]\n",
    "                  .drop_duplicates().reset_index(drop=True)\n",
    "                  .sort_values('education_id', ascending=True)\n",
    "                  .set_index('education_id'))"
   ]
  },
  {
   "cell_type": "code",
   "execution_count": 58,
   "id": "ac559641",
   "metadata": {},
   "outputs": [
    {
     "data": {
      "text/html": [
       "<div>\n",
       "<style scoped>\n",
       "    .dataframe tbody tr th:only-of-type {\n",
       "        vertical-align: middle;\n",
       "    }\n",
       "\n",
       "    .dataframe tbody tr th {\n",
       "        vertical-align: top;\n",
       "    }\n",
       "\n",
       "    .dataframe thead th {\n",
       "        text-align: right;\n",
       "    }\n",
       "</style>\n",
       "<table border=\"1\" class=\"dataframe\">\n",
       "  <thead>\n",
       "    <tr style=\"text-align: right;\">\n",
       "      <th></th>\n",
       "      <th>education</th>\n",
       "    </tr>\n",
       "    <tr>\n",
       "      <th>education_id</th>\n",
       "      <th></th>\n",
       "    </tr>\n",
       "  </thead>\n",
       "  <tbody>\n",
       "    <tr>\n",
       "      <th>0</th>\n",
       "      <td>высшее</td>\n",
       "    </tr>\n",
       "    <tr>\n",
       "      <th>1</th>\n",
       "      <td>среднее</td>\n",
       "    </tr>\n",
       "    <tr>\n",
       "      <th>2</th>\n",
       "      <td>неоконченное высшее</td>\n",
       "    </tr>\n",
       "    <tr>\n",
       "      <th>3</th>\n",
       "      <td>начальное</td>\n",
       "    </tr>\n",
       "    <tr>\n",
       "      <th>4</th>\n",
       "      <td>ученая степень</td>\n",
       "    </tr>\n",
       "  </tbody>\n",
       "</table>\n",
       "</div>"
      ],
      "text/plain": [
       "                        education\n",
       "education_id                     \n",
       "0                          высшее\n",
       "1                         среднее\n",
       "2             неоконченное высшее\n",
       "3                       начальное\n",
       "4                  ученая степень"
      ]
     },
     "metadata": {},
     "output_type": "display_data"
    }
   ],
   "source": [
    "display(data_education)"
   ]
  },
  {
   "cell_type": "markdown",
   "id": "f284c34a",
   "metadata": {},
   "source": [
    "**Создаем второй датафрейм.**"
   ]
  },
  {
   "cell_type": "code",
   "execution_count": 38,
   "id": "8c8d5076",
   "metadata": {},
   "outputs": [],
   "source": [
    "data_family = (data[['family_status_id','family_status']]\n",
    "                      .drop_duplicates().reset_index(drop=True)\n",
    "                      .sort_values('family_status_id',ascending=True)\n",
    "                      .set_index('family_status_id'))"
   ]
  },
  {
   "cell_type": "code",
   "execution_count": 39,
   "id": "6d6f40b9",
   "metadata": {},
   "outputs": [
    {
     "data": {
      "text/html": [
       "<div>\n",
       "<style scoped>\n",
       "    .dataframe tbody tr th:only-of-type {\n",
       "        vertical-align: middle;\n",
       "    }\n",
       "\n",
       "    .dataframe tbody tr th {\n",
       "        vertical-align: top;\n",
       "    }\n",
       "\n",
       "    .dataframe thead th {\n",
       "        text-align: right;\n",
       "    }\n",
       "</style>\n",
       "<table border=\"1\" class=\"dataframe\">\n",
       "  <thead>\n",
       "    <tr style=\"text-align: right;\">\n",
       "      <th></th>\n",
       "      <th>family_status</th>\n",
       "    </tr>\n",
       "    <tr>\n",
       "      <th>family_status_id</th>\n",
       "      <th></th>\n",
       "    </tr>\n",
       "  </thead>\n",
       "  <tbody>\n",
       "    <tr>\n",
       "      <th>0</th>\n",
       "      <td>женат / замужем</td>\n",
       "    </tr>\n",
       "    <tr>\n",
       "      <th>1</th>\n",
       "      <td>гражданский брак</td>\n",
       "    </tr>\n",
       "    <tr>\n",
       "      <th>2</th>\n",
       "      <td>вдовец / вдова</td>\n",
       "    </tr>\n",
       "    <tr>\n",
       "      <th>3</th>\n",
       "      <td>в разводе</td>\n",
       "    </tr>\n",
       "    <tr>\n",
       "      <th>4</th>\n",
       "      <td>не женат / не замужем</td>\n",
       "    </tr>\n",
       "  </tbody>\n",
       "</table>\n",
       "</div>"
      ],
      "text/plain": [
       "                          family_status\n",
       "family_status_id                       \n",
       "0                       женат / замужем\n",
       "1                      гражданский брак\n",
       "2                        вдовец / вдова\n",
       "3                             в разводе\n",
       "4                 не женат / не замужем"
      ]
     },
     "metadata": {},
     "output_type": "display_data"
    }
   ],
   "source": [
    "display(data_family)"
   ]
  },
  {
   "cell_type": "markdown",
   "id": "618bc3a0",
   "metadata": {},
   "source": [
    "**Удаляем** из исходного датафрейма **столбцы** `education` и `family_status` **для разгрузки исходной таблицы.**"
   ]
  },
  {
   "cell_type": "code",
   "execution_count": 40,
   "id": "ac296428",
   "metadata": {},
   "outputs": [
    {
     "data": {
      "text/html": [
       "<div>\n",
       "<style scoped>\n",
       "    .dataframe tbody tr th:only-of-type {\n",
       "        vertical-align: middle;\n",
       "    }\n",
       "\n",
       "    .dataframe tbody tr th {\n",
       "        vertical-align: top;\n",
       "    }\n",
       "\n",
       "    .dataframe thead th {\n",
       "        text-align: right;\n",
       "    }\n",
       "</style>\n",
       "<table border=\"1\" class=\"dataframe\">\n",
       "  <thead>\n",
       "    <tr style=\"text-align: right;\">\n",
       "      <th></th>\n",
       "      <th>children</th>\n",
       "      <th>days_employed</th>\n",
       "      <th>dob_years</th>\n",
       "      <th>education_id</th>\n",
       "      <th>family_status_id</th>\n",
       "      <th>gender</th>\n",
       "      <th>income_type</th>\n",
       "      <th>debt</th>\n",
       "      <th>total_income</th>\n",
       "      <th>purpose</th>\n",
       "    </tr>\n",
       "  </thead>\n",
       "  <tbody>\n",
       "    <tr>\n",
       "      <th>0</th>\n",
       "      <td>1</td>\n",
       "      <td>-8437</td>\n",
       "      <td>42</td>\n",
       "      <td>0</td>\n",
       "      <td>0</td>\n",
       "      <td>f</td>\n",
       "      <td>сотрудник</td>\n",
       "      <td>0</td>\n",
       "      <td>253875</td>\n",
       "      <td>покупка жилья</td>\n",
       "    </tr>\n",
       "    <tr>\n",
       "      <th>1</th>\n",
       "      <td>1</td>\n",
       "      <td>-4024</td>\n",
       "      <td>36</td>\n",
       "      <td>1</td>\n",
       "      <td>0</td>\n",
       "      <td>f</td>\n",
       "      <td>сотрудник</td>\n",
       "      <td>0</td>\n",
       "      <td>112080</td>\n",
       "      <td>приобретение автомобиля</td>\n",
       "    </tr>\n",
       "    <tr>\n",
       "      <th>2</th>\n",
       "      <td>0</td>\n",
       "      <td>-5623</td>\n",
       "      <td>33</td>\n",
       "      <td>1</td>\n",
       "      <td>0</td>\n",
       "      <td>m</td>\n",
       "      <td>сотрудник</td>\n",
       "      <td>0</td>\n",
       "      <td>145885</td>\n",
       "      <td>покупка жилья</td>\n",
       "    </tr>\n",
       "    <tr>\n",
       "      <th>3</th>\n",
       "      <td>3</td>\n",
       "      <td>-4124</td>\n",
       "      <td>32</td>\n",
       "      <td>1</td>\n",
       "      <td>0</td>\n",
       "      <td>m</td>\n",
       "      <td>сотрудник</td>\n",
       "      <td>0</td>\n",
       "      <td>267628</td>\n",
       "      <td>дополнительное образование</td>\n",
       "    </tr>\n",
       "    <tr>\n",
       "      <th>4</th>\n",
       "      <td>0</td>\n",
       "      <td>340266</td>\n",
       "      <td>53</td>\n",
       "      <td>1</td>\n",
       "      <td>1</td>\n",
       "      <td>f</td>\n",
       "      <td>пенсионер</td>\n",
       "      <td>0</td>\n",
       "      <td>158616</td>\n",
       "      <td>сыграть свадьбу</td>\n",
       "    </tr>\n",
       "    <tr>\n",
       "      <th>...</th>\n",
       "      <td>...</td>\n",
       "      <td>...</td>\n",
       "      <td>...</td>\n",
       "      <td>...</td>\n",
       "      <td>...</td>\n",
       "      <td>...</td>\n",
       "      <td>...</td>\n",
       "      <td>...</td>\n",
       "      <td>...</td>\n",
       "      <td>...</td>\n",
       "    </tr>\n",
       "    <tr>\n",
       "      <th>21225</th>\n",
       "      <td>1</td>\n",
       "      <td>-4529</td>\n",
       "      <td>43</td>\n",
       "      <td>1</td>\n",
       "      <td>1</td>\n",
       "      <td>f</td>\n",
       "      <td>компаньон</td>\n",
       "      <td>0</td>\n",
       "      <td>224791</td>\n",
       "      <td>операции с жильем</td>\n",
       "    </tr>\n",
       "    <tr>\n",
       "      <th>21226</th>\n",
       "      <td>0</td>\n",
       "      <td>343937</td>\n",
       "      <td>67</td>\n",
       "      <td>1</td>\n",
       "      <td>0</td>\n",
       "      <td>f</td>\n",
       "      <td>пенсионер</td>\n",
       "      <td>0</td>\n",
       "      <td>155999</td>\n",
       "      <td>сделка с автомобилем</td>\n",
       "    </tr>\n",
       "    <tr>\n",
       "      <th>21227</th>\n",
       "      <td>1</td>\n",
       "      <td>-2113</td>\n",
       "      <td>38</td>\n",
       "      <td>1</td>\n",
       "      <td>1</td>\n",
       "      <td>m</td>\n",
       "      <td>сотрудник</td>\n",
       "      <td>1</td>\n",
       "      <td>89672</td>\n",
       "      <td>недвижимость</td>\n",
       "    </tr>\n",
       "    <tr>\n",
       "      <th>21228</th>\n",
       "      <td>3</td>\n",
       "      <td>-3112</td>\n",
       "      <td>38</td>\n",
       "      <td>1</td>\n",
       "      <td>0</td>\n",
       "      <td>m</td>\n",
       "      <td>сотрудник</td>\n",
       "      <td>1</td>\n",
       "      <td>244093</td>\n",
       "      <td>на покупку своего автомобиля</td>\n",
       "    </tr>\n",
       "    <tr>\n",
       "      <th>21229</th>\n",
       "      <td>2</td>\n",
       "      <td>-1984</td>\n",
       "      <td>40</td>\n",
       "      <td>1</td>\n",
       "      <td>0</td>\n",
       "      <td>f</td>\n",
       "      <td>сотрудник</td>\n",
       "      <td>0</td>\n",
       "      <td>82047</td>\n",
       "      <td>на покупку автомобиля</td>\n",
       "    </tr>\n",
       "  </tbody>\n",
       "</table>\n",
       "<p>21230 rows × 10 columns</p>\n",
       "</div>"
      ],
      "text/plain": [
       "       children  days_employed  dob_years  education_id  family_status_id  \\\n",
       "0             1          -8437         42             0                 0   \n",
       "1             1          -4024         36             1                 0   \n",
       "2             0          -5623         33             1                 0   \n",
       "3             3          -4124         32             1                 0   \n",
       "4             0         340266         53             1                 1   \n",
       "...         ...            ...        ...           ...               ...   \n",
       "21225         1          -4529         43             1                 1   \n",
       "21226         0         343937         67             1                 0   \n",
       "21227         1          -2113         38             1                 1   \n",
       "21228         3          -3112         38             1                 0   \n",
       "21229         2          -1984         40             1                 0   \n",
       "\n",
       "      gender income_type  debt  total_income                       purpose  \n",
       "0          f   сотрудник     0        253875                 покупка жилья  \n",
       "1          f   сотрудник     0        112080       приобретение автомобиля  \n",
       "2          m   сотрудник     0        145885                 покупка жилья  \n",
       "3          m   сотрудник     0        267628    дополнительное образование  \n",
       "4          f   пенсионер     0        158616               сыграть свадьбу  \n",
       "...      ...         ...   ...           ...                           ...  \n",
       "21225      f   компаньон     0        224791             операции с жильем  \n",
       "21226      f   пенсионер     0        155999          сделка с автомобилем  \n",
       "21227      m   сотрудник     1         89672                  недвижимость  \n",
       "21228      m   сотрудник     1        244093  на покупку своего автомобиля  \n",
       "21229      f   сотрудник     0         82047         на покупку автомобиля  \n",
       "\n",
       "[21230 rows x 10 columns]"
      ]
     },
     "execution_count": 40,
     "metadata": {},
     "output_type": "execute_result"
    }
   ],
   "source": [
    "data.drop(columns = ['education', 'family_status'],axis = 1)"
   ]
  },
  {
   "cell_type": "markdown",
   "id": "326e9039",
   "metadata": {},
   "source": [
    "### Шаг 2.6. Категоризация дохода."
   ]
  },
  {
   "cell_type": "markdown",
   "id": "3efdb768",
   "metadata": {},
   "source": [
    "**Производим категоризацию доходов** и в качестве входных данных используем столбец `total_income` (ежемесячный доход)."
   ]
  },
  {
   "cell_type": "code",
   "execution_count": 41,
   "id": "fa62ad04",
   "metadata": {},
   "outputs": [],
   "source": [
    "def total_income_category(category):    \n",
    "    if category <= 30000:\n",
    "        return 'E'\n",
    "    if category <= 50000:\n",
    "        return 'D'\n",
    "    if category <= 200000:\n",
    "        return 'C'\n",
    "    if category <= 1000000:\n",
    "        return 'B'\n",
    "    return 'A'"
   ]
  },
  {
   "cell_type": "code",
   "execution_count": 42,
   "id": "191f4ada",
   "metadata": {},
   "outputs": [],
   "source": [
    "data['total_income_category'] = data['total_income'].apply(total_income_category)"
   ]
  },
  {
   "cell_type": "markdown",
   "id": "ec09700c",
   "metadata": {},
   "source": [
    "**Проверим сколько клиентов принадлежит к разным категориям.**"
   ]
  },
  {
   "cell_type": "code",
   "execution_count": 43,
   "id": "5715c72f",
   "metadata": {},
   "outputs": [
    {
     "data": {
      "text/plain": [
       "A       25\n",
       "B     4986\n",
       "C    15850\n",
       "D      347\n",
       "E       22\n",
       "Name: total_income_category, dtype: int64"
      ]
     },
     "execution_count": 43,
     "metadata": {},
     "output_type": "execute_result"
    }
   ],
   "source": [
    "data['total_income_category'].value_counts().sort_index()"
   ]
  },
  {
   "cell_type": "markdown",
   "id": "1496b060",
   "metadata": {},
   "source": [
    "### Шаг 2.7. Категоризация целей кредита."
   ]
  },
  {
   "cell_type": "markdown",
   "id": "810ae413",
   "metadata": {},
   "source": [
    "Следующим шагом **объединяем цель кредита в категории** и записываем в новый столбец `purpose_category`."
   ]
  },
  {
   "cell_type": "code",
   "execution_count": 44,
   "id": "ed51ae84",
   "metadata": {},
   "outputs": [],
   "source": [
    "def change_purpose(purpose):\n",
    "    if 'автомоб' in purpose:\n",
    "        return 'операции с автомобилем'\n",
    "    if 'недвиж' in purpose:\n",
    "        return 'операции с недвижимостью'\n",
    "    if 'жиль' in purpose:\n",
    "        return 'операции с недвижимостью'\n",
    "    if 'свадьб' in purpose:\n",
    "        return 'проведение свадьбы'\n",
    "    if 'образован' in purpose:\n",
    "        return 'получение образования'\n",
    "    return 'без категории'\n",
    "     \n",
    "\n",
    "change_purpose(data['purpose'])\n",
    "        \n",
    "data['purpose_category'] = data['purpose'].apply(change_purpose)  "
   ]
  },
  {
   "cell_type": "markdown",
   "id": "154f78b8",
   "metadata": {},
   "source": [
    "**Проверим сколько клиентов принадлежит к разным категориям.**"
   ]
  },
  {
   "cell_type": "code",
   "execution_count": 45,
   "id": "a0c2b9a4",
   "metadata": {},
   "outputs": [
    {
     "data": {
      "text/plain": [
       "операции с автомобилем       4258\n",
       "операции с недвижимостью    10703\n",
       "получение образования        3970\n",
       "проведение свадьбы           2299\n",
       "Name: purpose_category, dtype: int64"
      ]
     },
     "execution_count": 45,
     "metadata": {},
     "output_type": "execute_result"
    }
   ],
   "source": [
    "data['purpose_category'].value_counts().sort_index()"
   ]
  },
  {
   "cell_type": "markdown",
   "id": "f080bcb7",
   "metadata": {},
   "source": [
    "**Подготовим функции** для ответа на вопросы."
   ]
  },
  {
   "cell_type": "code",
   "execution_count": 46,
   "id": "8fe76b67",
   "metadata": {},
   "outputs": [],
   "source": [
    "def addiction(columns):\n",
    "    print('Количество людей взявших кредит.') \n",
    "    print()\n",
    "    print(data.groupby(columns)['debt'].count());\n",
    "    print()\n",
    "    print('Количество людей вернувших кредит.')\n",
    "    print()\n",
    "    print(data.groupby(columns)['debt'].sum());\n",
    "    print()\n",
    "    print('Доля людей вернувших кредит.')\n",
    "    print()\n",
    "    print(data.groupby(columns)['debt'].mean());"
   ]
  },
  {
   "cell_type": "markdown",
   "id": "4441a15f",
   "metadata": {},
   "source": [
    "**Данные полностью подготовлены** и теперь по ним **можно сделать заключение.**"
   ]
  },
  {
   "cell_type": "markdown",
   "id": "caea1180",
   "metadata": {},
   "source": [
    "### Ответы на вопросы."
   ]
  },
  {
   "cell_type": "markdown",
   "id": "8677a980",
   "metadata": {},
   "source": [
    "#### Вопрос 1: "
   ]
  },
  {
   "cell_type": "markdown",
   "id": "bc9cc884",
   "metadata": {},
   "source": [
    "Есть ли зависимость между количеством детей и возвратом кредита в срок?"
   ]
  },
  {
   "cell_type": "code",
   "execution_count": 47,
   "id": "40315afd",
   "metadata": {},
   "outputs": [
    {
     "name": "stdout",
     "output_type": "stream",
     "text": [
      "Количество людей взявших кредит.\n",
      "\n",
      "children\n",
      "0    14021\n",
      "1     4792\n",
      "2     2039\n",
      "3      328\n",
      "4       41\n",
      "5        9\n",
      "Name: debt, dtype: int64\n",
      "\n",
      "Количество людей вернувших кредит.\n",
      "\n",
      "children\n",
      "0    1058\n",
      "1     441\n",
      "2     194\n",
      "3      27\n",
      "4       4\n",
      "5       0\n",
      "Name: debt, dtype: int64\n",
      "\n",
      "Доля людей вернувших кредит.\n",
      "\n",
      "children\n",
      "0    0.075458\n",
      "1    0.092028\n",
      "2    0.095145\n",
      "3    0.082317\n",
      "4    0.097561\n",
      "5    0.000000\n",
      "Name: debt, dtype: float64\n"
     ]
    }
   ],
   "source": [
    "addiction('children') "
   ]
  },
  {
   "cell_type": "markdown",
   "id": "1ce640be",
   "metadata": {},
   "source": [
    "**Ответ 1:**"
   ]
  },
  {
   "cell_type": "markdown",
   "id": "3fff7376",
   "metadata": {},
   "source": [
    "Видно, что количество детей влияет на возврат кредита!"
   ]
  },
  {
   "cell_type": "markdown",
   "id": "9b769bc6",
   "metadata": {},
   "source": [
    "#### Вопрос 2: "
   ]
  },
  {
   "cell_type": "markdown",
   "id": "33c0d7e2",
   "metadata": {},
   "source": [
    "Есть ли зависимость между семейным положением и возвратом кредита в срок?"
   ]
  },
  {
   "cell_type": "markdown",
   "id": "715fe258",
   "metadata": {},
   "source": [
    "Вызовем две функции отвечающие за предоставление данных."
   ]
  },
  {
   "cell_type": "code",
   "execution_count": 48,
   "id": "c728eb74",
   "metadata": {},
   "outputs": [
    {
     "name": "stdout",
     "output_type": "stream",
     "text": [
      "Количество людей взявших кредит.\n",
      "\n",
      "family_status\n",
      "в разводе                 1179\n",
      "вдовец / вдова             946\n",
      "гражданский брак          4112\n",
      "женат / замужем          12213\n",
      "не женат / не замужем     2780\n",
      "Name: debt, dtype: int64\n",
      "\n",
      "Количество людей вернувших кредит.\n",
      "\n",
      "family_status\n",
      "в разводе                 84\n",
      "вдовец / вдова            62\n",
      "гражданский брак         383\n",
      "женат / замужем          923\n",
      "не женат / не замужем    272\n",
      "Name: debt, dtype: int64\n",
      "\n",
      "Доля людей вернувших кредит.\n",
      "\n",
      "family_status\n",
      "в разводе                0.071247\n",
      "вдовец / вдова           0.065539\n",
      "гражданский брак         0.093142\n",
      "женат / замужем          0.075575\n",
      "не женат / не замужем    0.097842\n",
      "Name: debt, dtype: float64\n"
     ]
    }
   ],
   "source": [
    "addiction('family_status') "
   ]
  },
  {
   "cell_type": "markdown",
   "id": "f8e1f094",
   "metadata": {},
   "source": [
    "**Ответ 2:**"
   ]
  },
  {
   "cell_type": "markdown",
   "id": "ff341af5",
   "metadata": {},
   "source": [
    "Наблюдаем что самые уязвимые категории по семейному положению: \"вдовец / вдова\" и \"в разводе\". Безусловно самые устойчивые для \"женат/замужем\" и \"гражданском браке\" и доля возвратов составляет около 9%. \n",
    "\n",
    "По такому разбросу полученных данных можно утверждать что возврат кредита зависит от семейного положения!"
   ]
  },
  {
   "cell_type": "markdown",
   "id": "6816eb2a",
   "metadata": {},
   "source": [
    "#### Вопрос 3: "
   ]
  },
  {
   "cell_type": "markdown",
   "id": "c715358d",
   "metadata": {},
   "source": [
    "Есть ли зависимость между уровнем дохода и возвратом кредита в срок?"
   ]
  },
  {
   "cell_type": "code",
   "execution_count": 49,
   "id": "cd3d28dd",
   "metadata": {},
   "outputs": [
    {
     "name": "stdout",
     "output_type": "stream",
     "text": [
      "Количество людей взявших кредит.\n",
      "\n",
      "total_income_category\n",
      "A       25\n",
      "B     4986\n",
      "C    15850\n",
      "D      347\n",
      "E       22\n",
      "Name: debt, dtype: int64\n",
      "\n",
      "Количество людей вернувших кредит.\n",
      "\n",
      "total_income_category\n",
      "A       2\n",
      "B     353\n",
      "C    1346\n",
      "D      21\n",
      "E       2\n",
      "Name: debt, dtype: int64\n",
      "\n",
      "Доля людей вернувших кредит.\n",
      "\n",
      "total_income_category\n",
      "A    0.080000\n",
      "B    0.070798\n",
      "C    0.084921\n",
      "D    0.060519\n",
      "E    0.090909\n",
      "Name: debt, dtype: float64\n"
     ]
    }
   ],
   "source": [
    "addiction('total_income_category') "
   ]
  },
  {
   "cell_type": "markdown",
   "id": "bb692c2b",
   "metadata": {},
   "source": [
    "**Ответ 3:**"
   ]
  },
  {
   "cell_type": "markdown",
   "id": "94ba3f6d",
   "metadata": {},
   "source": [
    "Есть зависимость между уровнем дохода и возвратом кредита в срок."
   ]
  },
  {
   "cell_type": "markdown",
   "id": "2b02c946",
   "metadata": {},
   "source": [
    "#### Вопрос 4: "
   ]
  },
  {
   "cell_type": "markdown",
   "id": "6c37d55b",
   "metadata": {},
   "source": [
    "Как разные цели кредита влияют на его возврат в срок?"
   ]
  },
  {
   "cell_type": "code",
   "execution_count": 50,
   "id": "0f8768a4",
   "metadata": {},
   "outputs": [
    {
     "name": "stdout",
     "output_type": "stream",
     "text": [
      "Количество людей взявших кредит.\n",
      "\n",
      "purpose_category\n",
      "операции с автомобилем       4258\n",
      "операции с недвижимостью    10703\n",
      "получение образования        3970\n",
      "проведение свадьбы           2299\n",
      "Name: debt, dtype: int64\n",
      "\n",
      "Количество людей вернувших кредит.\n",
      "\n",
      "purpose_category\n",
      "операции с автомобилем      397\n",
      "операции с недвижимостью    777\n",
      "получение образования       369\n",
      "проведение свадьбы          181\n",
      "Name: debt, dtype: int64\n",
      "\n",
      "Доля людей вернувших кредит.\n",
      "\n",
      "purpose_category\n",
      "операции с автомобилем      0.093236\n",
      "операции с недвижимостью    0.072596\n",
      "получение образования       0.092947\n",
      "проведение свадьбы          0.078730\n",
      "Name: debt, dtype: float64\n"
     ]
    }
   ],
   "source": [
    "addiction('purpose_category') "
   ]
  },
  {
   "cell_type": "markdown",
   "id": "7425a6b9",
   "metadata": {},
   "source": [
    "**Ответ 4:**"
   ]
  },
  {
   "cell_type": "markdown",
   "id": "e45e6f0a",
   "metadata": {},
   "source": [
    "Цель взятия кредита влияет на его возврат!"
   ]
  },
  {
   "cell_type": "markdown",
   "id": "ea46aa9b",
   "metadata": {},
   "source": [
    "## Общий вывод:"
   ]
  },
  {
   "cell_type": "markdown",
   "id": "c7caac23",
   "metadata": {},
   "source": [
    "В результате анализа данных были даны ответы на ключевые вопросы. В проделанной работе были выявлены некоторые ошибки: \n",
    "\n",
    "* в некоторых столбцах отсутствовали данные; \n",
    "* в некоторых столбцах использовался другой тип данных;\n",
    "* выявленные нетипичные данные;\n",
    "* выявлены дубликаты.\n",
    "\n",
    "Данные ошибки были полностью исправлены, поэтому стало возможным группировать данные по различным категориям для ответа на поставленные вопросы. "
   ]
  }
 ],
 "metadata": {
  "ExecuteTimeLog": [
   {
    "duration": 602,
    "start_time": "2022-03-14T12:29:02.807Z"
   },
   {
    "duration": 45,
    "start_time": "2022-03-14T12:29:17.341Z"
   },
   {
    "duration": 12,
    "start_time": "2022-03-14T12:29:34.541Z"
   },
   {
    "duration": 2,
    "start_time": "2022-03-14T12:29:37.884Z"
   },
   {
    "duration": 44,
    "start_time": "2022-03-14T12:29:39.540Z"
   },
   {
    "duration": 11,
    "start_time": "2022-03-14T12:29:40.092Z"
   },
   {
    "duration": 3,
    "start_time": "2022-03-14T12:30:10.255Z"
   },
   {
    "duration": 10,
    "start_time": "2022-03-14T12:32:05.022Z"
   },
   {
    "duration": 70,
    "start_time": "2022-03-14T12:44:09.203Z"
   },
   {
    "duration": 74,
    "start_time": "2022-03-14T12:44:17.877Z"
   },
   {
    "duration": 64,
    "start_time": "2022-03-14T12:44:40.034Z"
   },
   {
    "duration": 72,
    "start_time": "2022-03-14T12:44:54.652Z"
   },
   {
    "duration": 2,
    "start_time": "2022-03-14T12:45:59.325Z"
   },
   {
    "duration": 3,
    "start_time": "2022-03-14T12:46:01.252Z"
   },
   {
    "duration": 3,
    "start_time": "2022-03-14T12:46:05.381Z"
   },
   {
    "duration": 4,
    "start_time": "2022-03-14T12:46:15.134Z"
   },
   {
    "duration": -246,
    "start_time": "2022-03-14T12:46:43.303Z"
   },
   {
    "duration": 3,
    "start_time": "2022-03-14T12:47:00.404Z"
   },
   {
    "duration": 4,
    "start_time": "2022-03-14T12:47:28.320Z"
   },
   {
    "duration": -247,
    "start_time": "2022-03-14T12:49:11.829Z"
   },
   {
    "duration": 5088,
    "start_time": "2022-03-14T12:49:16.605Z"
   },
   {
    "duration": 7,
    "start_time": "2022-03-14T12:49:29.711Z"
   },
   {
    "duration": 11,
    "start_time": "2022-03-14T12:49:37.087Z"
   },
   {
    "duration": 7,
    "start_time": "2022-03-14T12:49:55.321Z"
   },
   {
    "duration": 4,
    "start_time": "2022-03-14T12:50:02.955Z"
   },
   {
    "duration": 7,
    "start_time": "2022-03-14T12:51:10.523Z"
   },
   {
    "duration": 7,
    "start_time": "2022-03-14T12:51:25.220Z"
   },
   {
    "duration": 6,
    "start_time": "2022-03-14T12:51:40.418Z"
   },
   {
    "duration": 6,
    "start_time": "2022-03-14T12:51:50.720Z"
   },
   {
    "duration": 6,
    "start_time": "2022-03-14T12:51:54.928Z"
   },
   {
    "duration": 201,
    "start_time": "2022-03-14T12:53:02.064Z"
   },
   {
    "duration": 6,
    "start_time": "2022-03-14T12:54:09.737Z"
   },
   {
    "duration": 6,
    "start_time": "2022-03-14T12:54:16.130Z"
   },
   {
    "duration": 4,
    "start_time": "2022-03-14T12:57:40.346Z"
   },
   {
    "duration": 3,
    "start_time": "2022-03-14T12:57:42.770Z"
   },
   {
    "duration": 5,
    "start_time": "2022-03-14T12:57:53.315Z"
   },
   {
    "duration": 4,
    "start_time": "2022-03-14T12:58:48.707Z"
   },
   {
    "duration": 4,
    "start_time": "2022-03-14T12:58:59.156Z"
   },
   {
    "duration": 4,
    "start_time": "2022-03-15T05:55:38.950Z"
   },
   {
    "duration": 4,
    "start_time": "2022-03-15T05:55:43.366Z"
   },
   {
    "duration": 4,
    "start_time": "2022-03-15T06:36:00.719Z"
   },
   {
    "duration": 4,
    "start_time": "2022-03-15T06:41:07.181Z"
   },
   {
    "duration": 4,
    "start_time": "2022-03-15T06:45:40.593Z"
   },
   {
    "duration": 4,
    "start_time": "2022-03-15T06:45:48.481Z"
   },
   {
    "duration": 12,
    "start_time": "2022-03-15T06:49:14.339Z"
   },
   {
    "duration": 5,
    "start_time": "2022-03-15T06:49:20.564Z"
   },
   {
    "duration": 11,
    "start_time": "2022-03-15T06:49:24.581Z"
   },
   {
    "duration": 1815,
    "start_time": "2022-03-15T07:00:10.983Z"
   },
   {
    "duration": 238,
    "start_time": "2022-03-15T07:00:49.396Z"
   },
   {
    "duration": 3,
    "start_time": "2022-03-15T07:01:09.213Z"
   },
   {
    "duration": 4,
    "start_time": "2022-03-15T07:01:44.370Z"
   },
   {
    "duration": 4,
    "start_time": "2022-03-15T07:01:55.556Z"
   },
   {
    "duration": 1066,
    "start_time": "2022-03-15T07:03:47.538Z"
   },
   {
    "duration": 194,
    "start_time": "2022-03-15T07:04:04.300Z"
   },
   {
    "duration": 204,
    "start_time": "2022-03-15T07:04:14.693Z"
   },
   {
    "duration": 265,
    "start_time": "2022-03-15T07:04:35.968Z"
   },
   {
    "duration": 222,
    "start_time": "2022-03-15T07:05:16.373Z"
   },
   {
    "duration": 174,
    "start_time": "2022-03-15T07:05:32.472Z"
   },
   {
    "duration": 206,
    "start_time": "2022-03-15T07:06:18.525Z"
   },
   {
    "duration": 223,
    "start_time": "2022-03-15T07:06:22.365Z"
   },
   {
    "duration": 194,
    "start_time": "2022-03-15T07:07:48.840Z"
   },
   {
    "duration": 195,
    "start_time": "2022-03-15T07:09:37.909Z"
   },
   {
    "duration": 192,
    "start_time": "2022-03-15T07:09:54.784Z"
   },
   {
    "duration": 116,
    "start_time": "2022-03-15T07:13:00.992Z"
   },
   {
    "duration": 224,
    "start_time": "2022-03-15T07:13:05.760Z"
   },
   {
    "duration": 4,
    "start_time": "2022-03-15T07:15:10.840Z"
   },
   {
    "duration": 218,
    "start_time": "2022-03-15T07:15:54.714Z"
   },
   {
    "duration": 3,
    "start_time": "2022-03-15T07:15:59.006Z"
   },
   {
    "duration": 9,
    "start_time": "2022-03-15T07:17:19.256Z"
   },
   {
    "duration": 9,
    "start_time": "2022-03-15T07:17:34.522Z"
   },
   {
    "duration": 9,
    "start_time": "2022-03-15T07:17:44.803Z"
   },
   {
    "duration": 16,
    "start_time": "2022-03-15T07:23:11.925Z"
   },
   {
    "duration": 17,
    "start_time": "2022-03-15T07:24:00.619Z"
   },
   {
    "duration": 194,
    "start_time": "2022-03-15T07:30:40.237Z"
   },
   {
    "duration": 200,
    "start_time": "2022-03-15T07:31:35.020Z"
   },
   {
    "duration": 6,
    "start_time": "2022-03-15T07:33:14.161Z"
   },
   {
    "duration": 11,
    "start_time": "2022-03-15T07:33:33.971Z"
   },
   {
    "duration": 9,
    "start_time": "2022-03-15T07:33:53.117Z"
   },
   {
    "duration": 8,
    "start_time": "2022-03-15T07:33:54.878Z"
   },
   {
    "duration": 5,
    "start_time": "2022-03-15T07:37:07.134Z"
   },
   {
    "duration": 8,
    "start_time": "2022-03-15T07:37:32.521Z"
   },
   {
    "duration": 9,
    "start_time": "2022-03-15T07:38:40.914Z"
   },
   {
    "duration": 8,
    "start_time": "2022-03-15T07:38:46.074Z"
   },
   {
    "duration": 9,
    "start_time": "2022-03-15T07:40:00.685Z"
   },
   {
    "duration": 9,
    "start_time": "2022-03-15T07:40:07.460Z"
   },
   {
    "duration": 13,
    "start_time": "2022-03-15T07:40:32.168Z"
   },
   {
    "duration": 558,
    "start_time": "2022-03-15T07:41:04.432Z"
   },
   {
    "duration": 44,
    "start_time": "2022-03-15T07:41:04.992Z"
   },
   {
    "duration": 26,
    "start_time": "2022-03-15T07:41:05.040Z"
   },
   {
    "duration": 4,
    "start_time": "2022-03-15T07:41:05.068Z"
   },
   {
    "duration": 9,
    "start_time": "2022-03-15T07:41:05.075Z"
   },
   {
    "duration": 5,
    "start_time": "2022-03-15T07:41:05.086Z"
   },
   {
    "duration": 16,
    "start_time": "2022-03-15T07:41:05.093Z"
   },
   {
    "duration": 7,
    "start_time": "2022-03-15T07:41:05.111Z"
   },
   {
    "duration": 5,
    "start_time": "2022-03-15T07:41:05.120Z"
   },
   {
    "duration": 16,
    "start_time": "2022-03-15T07:41:05.126Z"
   },
   {
    "duration": 33,
    "start_time": "2022-03-15T07:41:05.143Z"
   },
   {
    "duration": 9,
    "start_time": "2022-03-15T07:41:05.178Z"
   },
   {
    "duration": 16,
    "start_time": "2022-03-15T07:41:05.189Z"
   },
   {
    "duration": 7,
    "start_time": "2022-03-15T07:41:05.207Z"
   },
   {
    "duration": 9,
    "start_time": "2022-03-15T07:41:05.216Z"
   },
   {
    "duration": 6,
    "start_time": "2022-03-15T07:41:05.267Z"
   },
   {
    "duration": 12,
    "start_time": "2022-03-15T07:41:05.275Z"
   },
   {
    "duration": 8,
    "start_time": "2022-03-15T07:41:05.289Z"
   },
   {
    "duration": 10,
    "start_time": "2022-03-15T07:42:58.379Z"
   },
   {
    "duration": 10,
    "start_time": "2022-03-15T07:43:00.555Z"
   },
   {
    "duration": 238,
    "start_time": "2022-03-15T08:30:43.319Z"
   },
   {
    "duration": 389,
    "start_time": "2022-03-15T08:35:17.074Z"
   },
   {
    "duration": 226,
    "start_time": "2022-03-15T08:36:15.129Z"
   },
   {
    "duration": 329,
    "start_time": "2022-03-15T08:36:30.610Z"
   },
   {
    "duration": 398,
    "start_time": "2022-03-15T08:36:42.204Z"
   },
   {
    "duration": 319,
    "start_time": "2022-03-15T08:36:56.846Z"
   },
   {
    "duration": 343,
    "start_time": "2022-03-15T08:37:24.129Z"
   },
   {
    "duration": 5019,
    "start_time": "2022-03-15T08:37:33.362Z"
   },
   {
    "duration": 4857,
    "start_time": "2022-03-15T08:37:49.237Z"
   },
   {
    "duration": 341,
    "start_time": "2022-03-15T08:38:44.524Z"
   },
   {
    "duration": 6248,
    "start_time": "2022-03-15T08:39:12.127Z"
   },
   {
    "duration": 18,
    "start_time": "2022-03-15T08:40:35.830Z"
   },
   {
    "duration": 4999,
    "start_time": "2022-03-15T08:41:01.734Z"
   },
   {
    "duration": 4856,
    "start_time": "2022-03-15T08:41:21.816Z"
   },
   {
    "duration": 6,
    "start_time": "2022-03-15T08:41:54.172Z"
   },
   {
    "duration": 58,
    "start_time": "2022-03-15T08:45:27.543Z"
   },
   {
    "duration": 4830,
    "start_time": "2022-03-15T08:45:31.928Z"
   },
   {
    "duration": 4,
    "start_time": "2022-03-15T08:45:56.634Z"
   },
   {
    "duration": 5,
    "start_time": "2022-03-15T08:46:21.045Z"
   },
   {
    "duration": 4,
    "start_time": "2022-03-15T08:46:59.947Z"
   },
   {
    "duration": 3,
    "start_time": "2022-03-15T08:58:44.525Z"
   },
   {
    "duration": 4,
    "start_time": "2022-03-15T08:58:54.541Z"
   },
   {
    "duration": 4,
    "start_time": "2022-03-15T09:01:19.968Z"
   },
   {
    "duration": 4,
    "start_time": "2022-03-15T09:01:26.576Z"
   },
   {
    "duration": 18,
    "start_time": "2022-03-15T09:01:33.340Z"
   },
   {
    "duration": 19,
    "start_time": "2022-03-15T09:01:56.612Z"
   },
   {
    "duration": 5,
    "start_time": "2022-03-15T09:02:42.586Z"
   },
   {
    "duration": 17,
    "start_time": "2022-03-15T09:04:06.325Z"
   },
   {
    "duration": 20,
    "start_time": "2022-03-15T09:04:25.320Z"
   },
   {
    "duration": 17,
    "start_time": "2022-03-15T09:04:36.040Z"
   },
   {
    "duration": 16,
    "start_time": "2022-03-15T09:05:13.414Z"
   },
   {
    "duration": 17,
    "start_time": "2022-03-15T09:05:33.592Z"
   },
   {
    "duration": 17,
    "start_time": "2022-03-15T09:06:29.599Z"
   },
   {
    "duration": 16,
    "start_time": "2022-03-15T09:07:57.898Z"
   },
   {
    "duration": 19,
    "start_time": "2022-03-15T09:08:16.924Z"
   },
   {
    "duration": 544,
    "start_time": "2022-03-15T09:08:22.401Z"
   },
   {
    "duration": 48,
    "start_time": "2022-03-15T09:08:22.946Z"
   },
   {
    "duration": 10,
    "start_time": "2022-03-15T09:08:22.997Z"
   },
   {
    "duration": 3,
    "start_time": "2022-03-15T09:08:23.009Z"
   },
   {
    "duration": 8,
    "start_time": "2022-03-15T09:08:23.014Z"
   },
   {
    "duration": 5,
    "start_time": "2022-03-15T09:08:23.023Z"
   },
   {
    "duration": 6,
    "start_time": "2022-03-15T09:08:23.030Z"
   },
   {
    "duration": 23,
    "start_time": "2022-03-15T09:08:23.039Z"
   },
   {
    "duration": 5,
    "start_time": "2022-03-15T09:08:23.064Z"
   },
   {
    "duration": 6,
    "start_time": "2022-03-15T09:08:23.071Z"
   },
   {
    "duration": 9,
    "start_time": "2022-03-15T09:08:23.078Z"
   },
   {
    "duration": 16,
    "start_time": "2022-03-15T09:08:23.089Z"
   },
   {
    "duration": 7,
    "start_time": "2022-03-15T09:08:23.107Z"
   },
   {
    "duration": 44,
    "start_time": "2022-03-15T09:08:23.116Z"
   },
   {
    "duration": 5,
    "start_time": "2022-03-15T09:08:23.163Z"
   },
   {
    "duration": 9,
    "start_time": "2022-03-15T09:08:23.170Z"
   },
   {
    "duration": 10,
    "start_time": "2022-03-15T09:08:23.181Z"
   },
   {
    "duration": 11,
    "start_time": "2022-03-15T09:08:23.192Z"
   },
   {
    "duration": 10,
    "start_time": "2022-03-15T09:08:23.204Z"
   },
   {
    "duration": 58,
    "start_time": "2022-03-15T09:08:23.216Z"
   },
   {
    "duration": 19,
    "start_time": "2022-03-15T09:08:23.275Z"
   },
   {
    "duration": 12,
    "start_time": "2022-03-15T09:08:23.295Z"
   },
   {
    "duration": 16,
    "start_time": "2022-03-15T09:09:02.539Z"
   },
   {
    "duration": 15,
    "start_time": "2022-03-15T09:09:04.187Z"
   },
   {
    "duration": 18,
    "start_time": "2022-03-15T09:09:19.724Z"
   },
   {
    "duration": 17,
    "start_time": "2022-03-15T09:09:39.703Z"
   },
   {
    "duration": 4,
    "start_time": "2022-03-15T09:09:56.330Z"
   },
   {
    "duration": 15,
    "start_time": "2022-03-15T09:10:07.275Z"
   },
   {
    "duration": 961,
    "start_time": "2022-03-15T09:12:36.718Z"
   },
   {
    "duration": 76,
    "start_time": "2022-03-15T09:15:01.360Z"
   },
   {
    "duration": 313,
    "start_time": "2022-03-15T09:15:05.545Z"
   },
   {
    "duration": 18,
    "start_time": "2022-03-15T09:18:00.271Z"
   },
   {
    "duration": 14,
    "start_time": "2022-03-15T09:18:32.315Z"
   },
   {
    "duration": 5321,
    "start_time": "2022-03-15T09:18:45.693Z"
   },
   {
    "duration": 186,
    "start_time": "2022-03-15T09:18:59.391Z"
   },
   {
    "duration": 59,
    "start_time": "2022-03-15T09:21:52.980Z"
   },
   {
    "duration": 5370,
    "start_time": "2022-03-15T09:21:57.591Z"
   },
   {
    "duration": 4,
    "start_time": "2022-03-15T09:22:20.024Z"
   },
   {
    "duration": 4,
    "start_time": "2022-03-15T09:24:16.871Z"
   },
   {
    "duration": 5,
    "start_time": "2022-03-15T09:24:33.872Z"
   },
   {
    "duration": 4,
    "start_time": "2022-03-15T09:24:37.105Z"
   },
   {
    "duration": 4,
    "start_time": "2022-03-15T09:24:42.594Z"
   },
   {
    "duration": 4,
    "start_time": "2022-03-15T09:24:53.979Z"
   },
   {
    "duration": 3,
    "start_time": "2022-03-15T09:25:34.985Z"
   },
   {
    "duration": 4930,
    "start_time": "2022-03-15T09:25:55.723Z"
   },
   {
    "duration": 4,
    "start_time": "2022-03-15T09:26:26.519Z"
   },
   {
    "duration": 4,
    "start_time": "2022-03-15T09:26:43.954Z"
   },
   {
    "duration": 5081,
    "start_time": "2022-03-15T09:26:57.098Z"
   },
   {
    "duration": 6,
    "start_time": "2022-03-15T09:27:33.639Z"
   },
   {
    "duration": 6,
    "start_time": "2022-03-15T09:27:58.826Z"
   },
   {
    "duration": 6,
    "start_time": "2022-03-15T09:28:31.886Z"
   },
   {
    "duration": 3,
    "start_time": "2022-03-15T09:28:43.112Z"
   },
   {
    "duration": 11,
    "start_time": "2022-03-15T09:35:20.913Z"
   },
   {
    "duration": 6,
    "start_time": "2022-03-15T09:35:22.321Z"
   },
   {
    "duration": 5,
    "start_time": "2022-03-15T09:40:49.147Z"
   },
   {
    "duration": 9,
    "start_time": "2022-03-15T09:41:48.218Z"
   },
   {
    "duration": 56,
    "start_time": "2022-03-15T09:44:17.045Z"
   },
   {
    "duration": 3,
    "start_time": "2022-03-15T09:44:20.989Z"
   },
   {
    "duration": 3,
    "start_time": "2022-03-15T09:44:23.349Z"
   },
   {
    "duration": 6,
    "start_time": "2022-03-15T09:44:58.114Z"
   },
   {
    "duration": 8,
    "start_time": "2022-03-15T09:45:49.744Z"
   },
   {
    "duration": 69,
    "start_time": "2022-03-15T09:46:32.022Z"
   },
   {
    "duration": 58,
    "start_time": "2022-03-15T09:46:37.311Z"
   },
   {
    "duration": 58,
    "start_time": "2022-03-15T09:46:48.079Z"
   },
   {
    "duration": 6,
    "start_time": "2022-03-15T09:46:55.641Z"
   },
   {
    "duration": 6,
    "start_time": "2022-03-15T09:47:06.850Z"
   },
   {
    "duration": 308,
    "start_time": "2022-03-15T09:47:37.399Z"
   },
   {
    "duration": 6,
    "start_time": "2022-03-15T09:47:46.086Z"
   },
   {
    "duration": 7,
    "start_time": "2022-03-15T09:48:39.437Z"
   },
   {
    "duration": 7,
    "start_time": "2022-03-15T09:49:17.290Z"
   },
   {
    "duration": 525,
    "start_time": "2022-03-15T09:49:34.817Z"
   },
   {
    "duration": 48,
    "start_time": "2022-03-15T09:49:35.344Z"
   },
   {
    "duration": 11,
    "start_time": "2022-03-15T09:49:35.393Z"
   },
   {
    "duration": 8,
    "start_time": "2022-03-15T09:49:35.406Z"
   },
   {
    "duration": 11,
    "start_time": "2022-03-15T09:49:35.415Z"
   },
   {
    "duration": 4,
    "start_time": "2022-03-15T09:49:35.427Z"
   },
   {
    "duration": 6,
    "start_time": "2022-03-15T09:49:35.433Z"
   },
   {
    "duration": 22,
    "start_time": "2022-03-15T09:49:35.441Z"
   },
   {
    "duration": 7,
    "start_time": "2022-03-15T09:49:35.465Z"
   },
   {
    "duration": 7,
    "start_time": "2022-03-15T09:49:35.473Z"
   },
   {
    "duration": 15,
    "start_time": "2022-03-15T09:49:35.481Z"
   },
   {
    "duration": 29,
    "start_time": "2022-03-15T09:49:35.498Z"
   },
   {
    "duration": 7,
    "start_time": "2022-03-15T09:49:35.529Z"
   },
   {
    "duration": 25,
    "start_time": "2022-03-15T09:49:35.537Z"
   },
   {
    "duration": 6,
    "start_time": "2022-03-15T09:49:35.564Z"
   },
   {
    "duration": 19,
    "start_time": "2022-03-15T09:49:35.571Z"
   },
   {
    "duration": 18,
    "start_time": "2022-03-15T09:49:35.592Z"
   },
   {
    "duration": 26,
    "start_time": "2022-03-15T09:49:35.612Z"
   },
   {
    "duration": 12,
    "start_time": "2022-03-15T09:49:35.639Z"
   },
   {
    "duration": 18,
    "start_time": "2022-03-15T09:49:35.653Z"
   },
   {
    "duration": 6,
    "start_time": "2022-03-15T09:49:35.673Z"
   },
   {
    "duration": 29,
    "start_time": "2022-03-15T09:49:35.681Z"
   },
   {
    "duration": 22,
    "start_time": "2022-03-15T09:49:35.714Z"
   },
   {
    "duration": 7,
    "start_time": "2022-03-15T10:19:27.478Z"
   },
   {
    "duration": 8,
    "start_time": "2022-03-15T10:20:43.823Z"
   },
   {
    "duration": 10,
    "start_time": "2022-03-15T10:21:10.946Z"
   },
   {
    "duration": 58,
    "start_time": "2022-03-15T10:23:36.774Z"
   },
   {
    "duration": 53,
    "start_time": "2022-03-15T10:24:03.673Z"
   },
   {
    "duration": 272,
    "start_time": "2022-03-15T10:24:10.505Z"
   },
   {
    "duration": 6,
    "start_time": "2022-03-15T10:24:22.994Z"
   },
   {
    "duration": 56,
    "start_time": "2022-03-15T10:28:12.552Z"
   },
   {
    "duration": 6,
    "start_time": "2022-03-15T10:28:33.882Z"
   },
   {
    "duration": 6,
    "start_time": "2022-03-15T10:29:49.716Z"
   },
   {
    "duration": 6,
    "start_time": "2022-03-15T10:30:10.630Z"
   },
   {
    "duration": 7,
    "start_time": "2022-03-15T10:35:04.803Z"
   },
   {
    "duration": 7,
    "start_time": "2022-03-15T10:35:17.076Z"
   },
   {
    "duration": 4,
    "start_time": "2022-03-15T10:35:30.711Z"
   },
   {
    "duration": 4,
    "start_time": "2022-03-15T10:35:43.087Z"
   },
   {
    "duration": 3,
    "start_time": "2022-03-15T10:35:58.097Z"
   },
   {
    "duration": 617,
    "start_time": "2022-03-15T10:36:05.839Z"
   },
   {
    "duration": 45,
    "start_time": "2022-03-15T10:36:06.458Z"
   },
   {
    "duration": 11,
    "start_time": "2022-03-15T10:36:06.505Z"
   },
   {
    "duration": 3,
    "start_time": "2022-03-15T10:36:06.518Z"
   },
   {
    "duration": 8,
    "start_time": "2022-03-15T10:36:06.523Z"
   },
   {
    "duration": 4,
    "start_time": "2022-03-15T10:36:06.533Z"
   },
   {
    "duration": 4,
    "start_time": "2022-03-15T10:36:06.560Z"
   },
   {
    "duration": 5,
    "start_time": "2022-03-15T10:36:06.566Z"
   },
   {
    "duration": 15,
    "start_time": "2022-03-15T10:36:06.573Z"
   },
   {
    "duration": 9,
    "start_time": "2022-03-15T10:36:06.590Z"
   },
   {
    "duration": 4,
    "start_time": "2022-03-15T10:36:06.601Z"
   },
   {
    "duration": 18,
    "start_time": "2022-03-15T10:36:06.606Z"
   },
   {
    "duration": 38,
    "start_time": "2022-03-15T10:36:06.626Z"
   },
   {
    "duration": 8,
    "start_time": "2022-03-15T10:36:06.665Z"
   },
   {
    "duration": 7,
    "start_time": "2022-03-15T10:36:06.675Z"
   },
   {
    "duration": 9,
    "start_time": "2022-03-15T10:36:06.683Z"
   },
   {
    "duration": 9,
    "start_time": "2022-03-15T10:36:06.693Z"
   },
   {
    "duration": 8,
    "start_time": "2022-03-15T10:36:06.703Z"
   },
   {
    "duration": 8,
    "start_time": "2022-03-15T10:36:06.713Z"
   },
   {
    "duration": 18,
    "start_time": "2022-03-15T10:36:06.759Z"
   },
   {
    "duration": 6,
    "start_time": "2022-03-15T10:36:06.779Z"
   },
   {
    "duration": 14,
    "start_time": "2022-03-15T10:36:06.787Z"
   },
   {
    "duration": 6,
    "start_time": "2022-03-15T10:36:06.805Z"
   },
   {
    "duration": 15,
    "start_time": "2022-03-15T10:36:06.814Z"
   },
   {
    "duration": 4,
    "start_time": "2022-03-15T10:36:24.521Z"
   },
   {
    "duration": 5,
    "start_time": "2022-03-15T10:37:14.375Z"
   },
   {
    "duration": 411,
    "start_time": "2022-03-15T10:37:22.264Z"
   },
   {
    "duration": 309,
    "start_time": "2022-03-15T10:37:41.523Z"
   },
   {
    "duration": 52,
    "start_time": "2022-03-15T10:37:45.715Z"
   },
   {
    "duration": 69,
    "start_time": "2022-03-15T10:37:53.292Z"
   },
   {
    "duration": 79,
    "start_time": "2022-03-15T10:38:11.678Z"
   },
   {
    "duration": 80,
    "start_time": "2022-03-15T10:38:22.711Z"
   },
   {
    "duration": 65,
    "start_time": "2022-03-15T10:38:48.363Z"
   },
   {
    "duration": 74,
    "start_time": "2022-03-15T10:39:12.830Z"
   },
   {
    "duration": 6,
    "start_time": "2022-03-15T10:39:22.135Z"
   },
   {
    "duration": 7,
    "start_time": "2022-03-15T10:39:31.009Z"
   },
   {
    "duration": 3,
    "start_time": "2022-03-15T10:39:39.313Z"
   },
   {
    "duration": 12,
    "start_time": "2022-03-15T10:39:43.642Z"
   },
   {
    "duration": 62,
    "start_time": "2022-03-15T10:41:14.542Z"
   },
   {
    "duration": 72,
    "start_time": "2022-03-15T10:42:02.307Z"
   },
   {
    "duration": 11,
    "start_time": "2022-03-15T10:42:08.700Z"
   },
   {
    "duration": 11,
    "start_time": "2022-03-15T10:42:21.661Z"
   },
   {
    "duration": 8,
    "start_time": "2022-03-15T10:43:20.812Z"
   },
   {
    "duration": 6,
    "start_time": "2022-03-15T10:47:58.727Z"
   },
   {
    "duration": 5,
    "start_time": "2022-03-15T10:48:06.280Z"
   },
   {
    "duration": 5,
    "start_time": "2022-03-15T10:48:08.960Z"
   },
   {
    "duration": 5,
    "start_time": "2022-03-15T10:48:33.115Z"
   },
   {
    "duration": 6,
    "start_time": "2022-03-15T10:48:47.637Z"
   },
   {
    "duration": 329,
    "start_time": "2022-03-15T10:49:38.139Z"
   },
   {
    "duration": 57,
    "start_time": "2022-03-15T10:57:11.076Z"
   },
   {
    "duration": 10,
    "start_time": "2022-03-15T10:57:26.197Z"
   },
   {
    "duration": 842,
    "start_time": "2022-03-15T10:57:52.770Z"
   },
   {
    "duration": 878,
    "start_time": "2022-03-15T10:58:49.992Z"
   },
   {
    "duration": 861,
    "start_time": "2022-03-15T10:59:53.065Z"
   },
   {
    "duration": 844,
    "start_time": "2022-03-15T11:00:44.006Z"
   },
   {
    "duration": 20,
    "start_time": "2022-03-15T11:00:54.480Z"
   },
   {
    "duration": 11,
    "start_time": "2022-03-15T11:02:06.757Z"
   },
   {
    "duration": 604,
    "start_time": "2022-03-15T11:02:11.233Z"
   },
   {
    "duration": 49,
    "start_time": "2022-03-15T11:02:11.839Z"
   },
   {
    "duration": 13,
    "start_time": "2022-03-15T11:02:11.890Z"
   },
   {
    "duration": 4,
    "start_time": "2022-03-15T11:02:11.905Z"
   },
   {
    "duration": 15,
    "start_time": "2022-03-15T11:02:11.911Z"
   },
   {
    "duration": 6,
    "start_time": "2022-03-15T11:02:11.928Z"
   },
   {
    "duration": 25,
    "start_time": "2022-03-15T11:02:11.936Z"
   },
   {
    "duration": 4,
    "start_time": "2022-03-15T11:02:11.964Z"
   },
   {
    "duration": 6,
    "start_time": "2022-03-15T11:02:11.970Z"
   },
   {
    "duration": 5,
    "start_time": "2022-03-15T11:02:11.978Z"
   },
   {
    "duration": 12,
    "start_time": "2022-03-15T11:02:11.984Z"
   },
   {
    "duration": 395,
    "start_time": "2022-03-15T11:02:11.998Z"
   },
   {
    "duration": 39,
    "start_time": "2022-03-15T11:02:12.356Z"
   },
   {
    "duration": 38,
    "start_time": "2022-03-15T11:02:12.358Z"
   },
   {
    "duration": 38,
    "start_time": "2022-03-15T11:02:12.359Z"
   },
   {
    "duration": 38,
    "start_time": "2022-03-15T11:02:12.360Z"
   },
   {
    "duration": 38,
    "start_time": "2022-03-15T11:02:12.361Z"
   },
   {
    "duration": 37,
    "start_time": "2022-03-15T11:02:12.362Z"
   },
   {
    "duration": 37,
    "start_time": "2022-03-15T11:02:12.363Z"
   },
   {
    "duration": 37,
    "start_time": "2022-03-15T11:02:12.364Z"
   },
   {
    "duration": 37,
    "start_time": "2022-03-15T11:02:12.365Z"
   },
   {
    "duration": 37,
    "start_time": "2022-03-15T11:02:12.366Z"
   },
   {
    "duration": 35,
    "start_time": "2022-03-15T11:02:12.369Z"
   },
   {
    "duration": 35,
    "start_time": "2022-03-15T11:02:12.370Z"
   },
   {
    "duration": 35,
    "start_time": "2022-03-15T11:02:12.371Z"
   },
   {
    "duration": 12,
    "start_time": "2022-03-15T11:02:37.989Z"
   },
   {
    "duration": 865,
    "start_time": "2022-03-15T11:02:46.702Z"
   },
   {
    "duration": 853,
    "start_time": "2022-03-15T11:02:48.070Z"
   },
   {
    "duration": 6,
    "start_time": "2022-03-15T11:03:04.424Z"
   },
   {
    "duration": 7,
    "start_time": "2022-03-15T11:03:48.062Z"
   },
   {
    "duration": 987,
    "start_time": "2022-03-15T11:03:52.174Z"
   },
   {
    "duration": 7,
    "start_time": "2022-03-15T11:04:01.383Z"
   },
   {
    "duration": 3,
    "start_time": "2022-03-15T11:04:13.121Z"
   },
   {
    "duration": 7,
    "start_time": "2022-03-15T11:07:07.278Z"
   },
   {
    "duration": 913,
    "start_time": "2022-03-15T11:07:58.870Z"
   },
   {
    "duration": 5878,
    "start_time": "2022-03-15T11:09:01.525Z"
   },
   {
    "duration": 176,
    "start_time": "2022-03-15T11:10:15.095Z"
   },
   {
    "duration": 4,
    "start_time": "2022-03-15T11:10:20.150Z"
   },
   {
    "duration": 4,
    "start_time": "2022-03-15T11:10:47.195Z"
   },
   {
    "duration": 4,
    "start_time": "2022-03-15T11:11:07.924Z"
   },
   {
    "duration": 4,
    "start_time": "2022-03-15T11:11:20.327Z"
   },
   {
    "duration": 303,
    "start_time": "2022-03-15T11:11:39.000Z"
   },
   {
    "duration": 4,
    "start_time": "2022-03-15T11:11:54.048Z"
   },
   {
    "duration": 887,
    "start_time": "2022-03-15T11:12:39.167Z"
   },
   {
    "duration": 831,
    "start_time": "2022-03-15T11:12:54.211Z"
   },
   {
    "duration": 7,
    "start_time": "2022-03-15T11:13:28.317Z"
   },
   {
    "duration": 7,
    "start_time": "2022-03-15T11:13:48.719Z"
   },
   {
    "duration": 7,
    "start_time": "2022-03-15T11:14:15.059Z"
   },
   {
    "duration": 834,
    "start_time": "2022-03-15T11:14:20.091Z"
   },
   {
    "duration": 3,
    "start_time": "2022-03-15T11:15:05.178Z"
   },
   {
    "duration": 325,
    "start_time": "2022-03-15T11:15:37.662Z"
   },
   {
    "duration": 4,
    "start_time": "2022-03-15T11:15:55.784Z"
   },
   {
    "duration": 3,
    "start_time": "2022-03-15T11:16:15.274Z"
   },
   {
    "duration": 823,
    "start_time": "2022-03-15T11:16:47.046Z"
   },
   {
    "duration": 886,
    "start_time": "2022-03-15T11:19:06.383Z"
   },
   {
    "duration": 902,
    "start_time": "2022-03-15T11:19:20.313Z"
   },
   {
    "duration": 823,
    "start_time": "2022-03-15T11:19:22.681Z"
   },
   {
    "duration": 878,
    "start_time": "2022-03-15T11:19:26.170Z"
   },
   {
    "duration": 878,
    "start_time": "2022-03-15T11:19:31.314Z"
   },
   {
    "duration": 78,
    "start_time": "2022-03-15T11:20:13.024Z"
   },
   {
    "duration": 66,
    "start_time": "2022-03-15T11:20:34.610Z"
   },
   {
    "duration": 6,
    "start_time": "2022-03-15T11:20:40.770Z"
   },
   {
    "duration": 62,
    "start_time": "2022-03-15T11:21:06.453Z"
   },
   {
    "duration": 8,
    "start_time": "2022-03-15T11:21:41.634Z"
   },
   {
    "duration": 6,
    "start_time": "2022-03-15T11:21:57.868Z"
   },
   {
    "duration": 6,
    "start_time": "2022-03-15T11:22:28.527Z"
   },
   {
    "duration": 337,
    "start_time": "2022-03-15T11:23:01.332Z"
   },
   {
    "duration": 11,
    "start_time": "2022-03-15T11:23:24.543Z"
   },
   {
    "duration": 480,
    "start_time": "2022-03-15T11:23:59.956Z"
   },
   {
    "duration": 11,
    "start_time": "2022-03-15T11:24:17.077Z"
   },
   {
    "duration": 11,
    "start_time": "2022-03-15T11:24:36.815Z"
   },
   {
    "duration": 12,
    "start_time": "2022-03-15T11:24:39.872Z"
   },
   {
    "duration": 848,
    "start_time": "2022-03-15T11:24:51.098Z"
   },
   {
    "duration": 4,
    "start_time": "2022-03-15T11:25:17.557Z"
   },
   {
    "duration": 67,
    "start_time": "2022-03-15T11:26:36.998Z"
   },
   {
    "duration": 80,
    "start_time": "2022-03-15T11:27:13.371Z"
   },
   {
    "duration": 4,
    "start_time": "2022-03-15T11:27:28.461Z"
   },
   {
    "duration": 4693,
    "start_time": "2022-03-15T11:27:48.415Z"
   },
   {
    "duration": 955,
    "start_time": "2022-03-15T11:28:20.356Z"
   },
   {
    "duration": 4,
    "start_time": "2022-03-15T11:29:19.907Z"
   },
   {
    "duration": 969,
    "start_time": "2022-03-15T11:30:09.913Z"
   },
   {
    "duration": 5,
    "start_time": "2022-03-15T11:30:31.308Z"
   },
   {
    "duration": 11,
    "start_time": "2022-03-15T11:31:23.274Z"
   },
   {
    "duration": 10,
    "start_time": "2022-03-15T11:42:49.295Z"
   },
   {
    "duration": 12,
    "start_time": "2022-03-15T11:43:06.513Z"
   },
   {
    "duration": 605,
    "start_time": "2022-03-15T11:43:35.650Z"
   },
   {
    "duration": 51,
    "start_time": "2022-03-15T11:43:36.257Z"
   },
   {
    "duration": 11,
    "start_time": "2022-03-15T11:43:36.310Z"
   },
   {
    "duration": 3,
    "start_time": "2022-03-15T11:43:36.324Z"
   },
   {
    "duration": 8,
    "start_time": "2022-03-15T11:43:36.329Z"
   },
   {
    "duration": 20,
    "start_time": "2022-03-15T11:43:36.339Z"
   },
   {
    "duration": 6,
    "start_time": "2022-03-15T11:43:36.361Z"
   },
   {
    "duration": 6,
    "start_time": "2022-03-15T11:43:36.368Z"
   },
   {
    "duration": 5,
    "start_time": "2022-03-15T11:43:36.377Z"
   },
   {
    "duration": 5,
    "start_time": "2022-03-15T11:43:36.384Z"
   },
   {
    "duration": 14,
    "start_time": "2022-03-15T11:43:36.390Z"
   },
   {
    "duration": 2,
    "start_time": "2022-03-15T11:43:36.406Z"
   },
   {
    "duration": 61,
    "start_time": "2022-03-15T11:43:36.410Z"
   },
   {
    "duration": 9,
    "start_time": "2022-03-15T11:43:36.473Z"
   },
   {
    "duration": 9,
    "start_time": "2022-03-15T11:43:36.484Z"
   },
   {
    "duration": 5,
    "start_time": "2022-03-15T11:43:36.495Z"
   },
   {
    "duration": 9,
    "start_time": "2022-03-15T11:43:36.502Z"
   },
   {
    "duration": 51,
    "start_time": "2022-03-15T11:43:36.513Z"
   },
   {
    "duration": 11,
    "start_time": "2022-03-15T11:43:36.566Z"
   },
   {
    "duration": 10,
    "start_time": "2022-03-15T11:43:36.579Z"
   },
   {
    "duration": 19,
    "start_time": "2022-03-15T11:43:36.591Z"
   },
   {
    "duration": 4,
    "start_time": "2022-03-15T11:43:36.611Z"
   },
   {
    "duration": 52,
    "start_time": "2022-03-15T11:43:36.617Z"
   },
   {
    "duration": 7,
    "start_time": "2022-03-15T11:43:36.671Z"
   },
   {
    "duration": 9,
    "start_time": "2022-03-15T11:43:36.681Z"
   },
   {
    "duration": 15,
    "start_time": "2022-03-15T11:45:16.570Z"
   },
   {
    "duration": 601,
    "start_time": "2022-03-15T11:45:25.341Z"
   },
   {
    "duration": 48,
    "start_time": "2022-03-15T11:45:25.944Z"
   },
   {
    "duration": 11,
    "start_time": "2022-03-15T11:45:25.994Z"
   },
   {
    "duration": 3,
    "start_time": "2022-03-15T11:45:26.008Z"
   },
   {
    "duration": 11,
    "start_time": "2022-03-15T11:45:26.013Z"
   },
   {
    "duration": 4,
    "start_time": "2022-03-15T11:45:26.026Z"
   },
   {
    "duration": 29,
    "start_time": "2022-03-15T11:45:26.031Z"
   },
   {
    "duration": 10,
    "start_time": "2022-03-15T11:45:26.062Z"
   },
   {
    "duration": 11,
    "start_time": "2022-03-15T11:45:26.075Z"
   },
   {
    "duration": 7,
    "start_time": "2022-03-15T11:45:26.087Z"
   },
   {
    "duration": 21,
    "start_time": "2022-03-15T11:45:26.096Z"
   },
   {
    "duration": 3,
    "start_time": "2022-03-15T11:45:26.118Z"
   },
   {
    "duration": 22,
    "start_time": "2022-03-15T11:45:26.122Z"
   },
   {
    "duration": 18,
    "start_time": "2022-03-15T11:45:26.146Z"
   },
   {
    "duration": 14,
    "start_time": "2022-03-15T11:45:26.166Z"
   },
   {
    "duration": 12,
    "start_time": "2022-03-15T11:45:26.182Z"
   },
   {
    "duration": 20,
    "start_time": "2022-03-15T11:45:26.196Z"
   },
   {
    "duration": 14,
    "start_time": "2022-03-15T11:45:26.218Z"
   },
   {
    "duration": 18,
    "start_time": "2022-03-15T11:45:26.234Z"
   },
   {
    "duration": 18,
    "start_time": "2022-03-15T11:45:26.254Z"
   },
   {
    "duration": 22,
    "start_time": "2022-03-15T11:45:26.275Z"
   },
   {
    "duration": 21,
    "start_time": "2022-03-15T11:45:26.299Z"
   },
   {
    "duration": 25,
    "start_time": "2022-03-15T11:45:26.323Z"
   },
   {
    "duration": 8,
    "start_time": "2022-03-15T11:45:26.350Z"
   },
   {
    "duration": 16,
    "start_time": "2022-03-15T11:45:26.359Z"
   },
   {
    "duration": 17,
    "start_time": "2022-03-15T11:46:31.470Z"
   },
   {
    "duration": 61,
    "start_time": "2022-03-15T11:47:40.758Z"
   },
   {
    "duration": 60,
    "start_time": "2022-03-15T11:47:56.488Z"
   },
   {
    "duration": 57,
    "start_time": "2022-03-15T11:48:10.970Z"
   },
   {
    "duration": 19,
    "start_time": "2022-03-15T11:48:15.410Z"
   },
   {
    "duration": 5,
    "start_time": "2022-03-15T11:49:05.616Z"
   },
   {
    "duration": 237,
    "start_time": "2022-03-15T11:49:10.705Z"
   },
   {
    "duration": 192,
    "start_time": "2022-03-15T11:50:45.461Z"
   },
   {
    "duration": 14,
    "start_time": "2022-03-15T11:50:52.821Z"
   },
   {
    "duration": 6,
    "start_time": "2022-03-15T11:52:16.039Z"
   },
   {
    "duration": 6,
    "start_time": "2022-03-15T11:53:02.157Z"
   },
   {
    "duration": 62,
    "start_time": "2022-03-15T11:53:14.342Z"
   },
   {
    "duration": 10,
    "start_time": "2022-03-15T11:53:17.326Z"
   },
   {
    "duration": 576,
    "start_time": "2022-03-15T11:53:48.063Z"
   },
   {
    "duration": 46,
    "start_time": "2022-03-15T11:53:48.641Z"
   },
   {
    "duration": 12,
    "start_time": "2022-03-15T11:53:48.692Z"
   },
   {
    "duration": 3,
    "start_time": "2022-03-15T11:53:48.706Z"
   },
   {
    "duration": 7,
    "start_time": "2022-03-15T11:53:48.711Z"
   },
   {
    "duration": 4,
    "start_time": "2022-03-15T11:53:48.720Z"
   },
   {
    "duration": 9,
    "start_time": "2022-03-15T11:53:48.726Z"
   },
   {
    "duration": 4,
    "start_time": "2022-03-15T11:53:48.760Z"
   },
   {
    "duration": 9,
    "start_time": "2022-03-15T11:53:48.766Z"
   },
   {
    "duration": 8,
    "start_time": "2022-03-15T11:53:48.776Z"
   },
   {
    "duration": 9,
    "start_time": "2022-03-15T11:53:48.786Z"
   },
   {
    "duration": 18,
    "start_time": "2022-03-15T11:53:48.797Z"
   },
   {
    "duration": 46,
    "start_time": "2022-03-15T11:53:48.817Z"
   },
   {
    "duration": 8,
    "start_time": "2022-03-15T11:53:48.865Z"
   },
   {
    "duration": 8,
    "start_time": "2022-03-15T11:53:48.875Z"
   },
   {
    "duration": 6,
    "start_time": "2022-03-15T11:53:48.884Z"
   },
   {
    "duration": 8,
    "start_time": "2022-03-15T11:53:48.891Z"
   },
   {
    "duration": 7,
    "start_time": "2022-03-15T11:53:48.901Z"
   },
   {
    "duration": 9,
    "start_time": "2022-03-15T11:53:48.910Z"
   },
   {
    "duration": 47,
    "start_time": "2022-03-15T11:53:48.921Z"
   },
   {
    "duration": 253,
    "start_time": "2022-03-15T11:53:48.970Z"
   },
   {
    "duration": 51,
    "start_time": "2022-03-15T11:53:49.174Z"
   },
   {
    "duration": 51,
    "start_time": "2022-03-15T11:53:49.175Z"
   },
   {
    "duration": 51,
    "start_time": "2022-03-15T11:53:49.176Z"
   },
   {
    "duration": 46,
    "start_time": "2022-03-15T11:53:49.182Z"
   },
   {
    "duration": 8,
    "start_time": "2022-03-15T11:54:08.797Z"
   },
   {
    "duration": 7,
    "start_time": "2022-03-15T11:54:54.139Z"
   },
   {
    "duration": 561,
    "start_time": "2022-03-15T11:57:18.097Z"
   },
   {
    "duration": 53,
    "start_time": "2022-03-15T11:57:18.667Z"
   },
   {
    "duration": 13,
    "start_time": "2022-03-15T11:57:18.723Z"
   },
   {
    "duration": 5,
    "start_time": "2022-03-15T11:57:18.738Z"
   },
   {
    "duration": 28,
    "start_time": "2022-03-15T11:57:18.745Z"
   },
   {
    "duration": 7,
    "start_time": "2022-03-15T11:57:18.775Z"
   },
   {
    "duration": 12,
    "start_time": "2022-03-15T11:57:18.783Z"
   },
   {
    "duration": 6,
    "start_time": "2022-03-15T11:57:18.797Z"
   },
   {
    "duration": 6,
    "start_time": "2022-03-15T11:57:18.806Z"
   },
   {
    "duration": 5,
    "start_time": "2022-03-15T11:57:18.814Z"
   },
   {
    "duration": 10,
    "start_time": "2022-03-15T11:57:18.821Z"
   },
   {
    "duration": 39,
    "start_time": "2022-03-15T11:57:18.832Z"
   },
   {
    "duration": 16,
    "start_time": "2022-03-15T11:57:18.873Z"
   },
   {
    "duration": 8,
    "start_time": "2022-03-15T11:57:18.891Z"
   },
   {
    "duration": 8,
    "start_time": "2022-03-15T11:57:18.900Z"
   },
   {
    "duration": 4,
    "start_time": "2022-03-15T11:57:18.909Z"
   },
   {
    "duration": 51,
    "start_time": "2022-03-15T11:57:18.915Z"
   },
   {
    "duration": 10,
    "start_time": "2022-03-15T11:57:18.968Z"
   },
   {
    "duration": 8,
    "start_time": "2022-03-15T11:57:18.980Z"
   },
   {
    "duration": 9,
    "start_time": "2022-03-15T11:57:18.990Z"
   },
   {
    "duration": 17,
    "start_time": "2022-03-15T11:57:19.000Z"
   },
   {
    "duration": 4,
    "start_time": "2022-03-15T11:57:19.018Z"
   },
   {
    "duration": 48,
    "start_time": "2022-03-15T11:57:19.023Z"
   },
   {
    "duration": 7,
    "start_time": "2022-03-15T11:57:19.073Z"
   },
   {
    "duration": 6,
    "start_time": "2022-03-15T11:57:45.535Z"
   },
   {
    "duration": 6,
    "start_time": "2022-03-15T11:57:48.728Z"
   },
   {
    "duration": 5,
    "start_time": "2022-03-15T11:57:52.152Z"
   },
   {
    "duration": 8,
    "start_time": "2022-03-15T12:02:07.552Z"
   },
   {
    "duration": 573,
    "start_time": "2022-03-15T12:03:48.963Z"
   },
   {
    "duration": 49,
    "start_time": "2022-03-15T12:03:49.538Z"
   },
   {
    "duration": 11,
    "start_time": "2022-03-15T12:03:49.592Z"
   },
   {
    "duration": 4,
    "start_time": "2022-03-15T12:03:49.605Z"
   },
   {
    "duration": 8,
    "start_time": "2022-03-15T12:03:49.610Z"
   },
   {
    "duration": 4,
    "start_time": "2022-03-15T12:03:49.620Z"
   },
   {
    "duration": 41,
    "start_time": "2022-03-15T12:03:49.625Z"
   },
   {
    "duration": 5,
    "start_time": "2022-03-15T12:03:49.669Z"
   },
   {
    "duration": 6,
    "start_time": "2022-03-15T12:03:49.676Z"
   },
   {
    "duration": 9,
    "start_time": "2022-03-15T12:03:49.684Z"
   },
   {
    "duration": 13,
    "start_time": "2022-03-15T12:03:49.694Z"
   },
   {
    "duration": 11,
    "start_time": "2022-03-15T12:03:49.709Z"
   },
   {
    "duration": 47,
    "start_time": "2022-03-15T12:03:49.722Z"
   },
   {
    "duration": 8,
    "start_time": "2022-03-15T12:03:49.771Z"
   },
   {
    "duration": 8,
    "start_time": "2022-03-15T12:03:49.780Z"
   },
   {
    "duration": 3,
    "start_time": "2022-03-15T12:03:49.790Z"
   },
   {
    "duration": 11,
    "start_time": "2022-03-15T12:03:49.795Z"
   },
   {
    "duration": 8,
    "start_time": "2022-03-15T12:03:49.807Z"
   },
   {
    "duration": 49,
    "start_time": "2022-03-15T12:03:49.817Z"
   },
   {
    "duration": 9,
    "start_time": "2022-03-15T12:03:49.868Z"
   },
   {
    "duration": 19,
    "start_time": "2022-03-15T12:03:49.879Z"
   },
   {
    "duration": 8,
    "start_time": "2022-03-15T12:03:49.899Z"
   },
   {
    "duration": 35,
    "start_time": "2022-03-15T12:03:49.908Z"
   },
   {
    "duration": 30,
    "start_time": "2022-03-15T12:03:49.945Z"
   },
   {
    "duration": 6,
    "start_time": "2022-03-15T12:04:17.137Z"
   },
   {
    "duration": 5,
    "start_time": "2022-03-15T12:04:22.850Z"
   },
   {
    "duration": 10,
    "start_time": "2022-03-15T12:04:37.763Z"
   },
   {
    "duration": 562,
    "start_time": "2022-03-15T12:05:02.792Z"
   },
   {
    "duration": 46,
    "start_time": "2022-03-15T12:05:03.356Z"
   },
   {
    "duration": 10,
    "start_time": "2022-03-15T12:05:03.405Z"
   },
   {
    "duration": 3,
    "start_time": "2022-03-15T12:05:03.417Z"
   },
   {
    "duration": 7,
    "start_time": "2022-03-15T12:05:03.422Z"
   },
   {
    "duration": 4,
    "start_time": "2022-03-15T12:05:03.430Z"
   },
   {
    "duration": 25,
    "start_time": "2022-03-15T12:05:03.435Z"
   },
   {
    "duration": 4,
    "start_time": "2022-03-15T12:05:03.462Z"
   },
   {
    "duration": 4,
    "start_time": "2022-03-15T12:05:03.468Z"
   },
   {
    "duration": 7,
    "start_time": "2022-03-15T12:05:03.474Z"
   },
   {
    "duration": 14,
    "start_time": "2022-03-15T12:05:03.482Z"
   },
   {
    "duration": 18,
    "start_time": "2022-03-15T12:05:03.498Z"
   },
   {
    "duration": 55,
    "start_time": "2022-03-15T12:05:03.518Z"
   },
   {
    "duration": 10,
    "start_time": "2022-03-15T12:05:03.575Z"
   },
   {
    "duration": 10,
    "start_time": "2022-03-15T12:05:03.587Z"
   },
   {
    "duration": 5,
    "start_time": "2022-03-15T12:05:03.599Z"
   },
   {
    "duration": 9,
    "start_time": "2022-03-15T12:05:03.606Z"
   },
   {
    "duration": 43,
    "start_time": "2022-03-15T12:05:03.616Z"
   },
   {
    "duration": 11,
    "start_time": "2022-03-15T12:05:03.662Z"
   },
   {
    "duration": 10,
    "start_time": "2022-03-15T12:05:03.675Z"
   },
   {
    "duration": 19,
    "start_time": "2022-03-15T12:05:03.687Z"
   },
   {
    "duration": 7,
    "start_time": "2022-03-15T12:05:03.707Z"
   },
   {
    "duration": 52,
    "start_time": "2022-03-15T12:05:03.716Z"
   },
   {
    "duration": 6,
    "start_time": "2022-03-15T12:05:03.770Z"
   },
   {
    "duration": 570,
    "start_time": "2022-03-15T12:05:56.477Z"
   },
   {
    "duration": 48,
    "start_time": "2022-03-15T12:05:57.049Z"
   },
   {
    "duration": 11,
    "start_time": "2022-03-15T12:05:57.099Z"
   },
   {
    "duration": 4,
    "start_time": "2022-03-15T12:05:57.112Z"
   },
   {
    "duration": 9,
    "start_time": "2022-03-15T12:05:57.117Z"
   },
   {
    "duration": 4,
    "start_time": "2022-03-15T12:05:57.127Z"
   },
   {
    "duration": 27,
    "start_time": "2022-03-15T12:05:57.132Z"
   },
   {
    "duration": 4,
    "start_time": "2022-03-15T12:05:57.162Z"
   },
   {
    "duration": 4,
    "start_time": "2022-03-15T12:05:57.168Z"
   },
   {
    "duration": 5,
    "start_time": "2022-03-15T12:05:57.174Z"
   },
   {
    "duration": 8,
    "start_time": "2022-03-15T12:05:57.181Z"
   },
   {
    "duration": 16,
    "start_time": "2022-03-15T12:05:57.191Z"
   },
   {
    "duration": 9,
    "start_time": "2022-03-15T12:05:57.208Z"
   },
   {
    "duration": 44,
    "start_time": "2022-03-15T12:05:57.219Z"
   },
   {
    "duration": 4,
    "start_time": "2022-03-15T12:05:57.265Z"
   },
   {
    "duration": 9,
    "start_time": "2022-03-15T12:05:57.270Z"
   },
   {
    "duration": 7,
    "start_time": "2022-03-15T12:05:57.281Z"
   },
   {
    "duration": 7,
    "start_time": "2022-03-15T12:05:57.290Z"
   },
   {
    "duration": 7,
    "start_time": "2022-03-15T12:05:57.299Z"
   },
   {
    "duration": 53,
    "start_time": "2022-03-15T12:05:57.308Z"
   },
   {
    "duration": 3,
    "start_time": "2022-03-15T12:05:57.363Z"
   },
   {
    "duration": 16,
    "start_time": "2022-03-15T12:05:57.367Z"
   },
   {
    "duration": 6,
    "start_time": "2022-03-15T12:05:57.385Z"
   },
   {
    "duration": 7,
    "start_time": "2022-03-15T12:06:08.085Z"
   },
   {
    "duration": 253,
    "start_time": "2022-03-15T12:08:45.080Z"
   },
   {
    "duration": 3,
    "start_time": "2022-03-15T12:08:49.217Z"
   },
   {
    "duration": 67,
    "start_time": "2022-03-15T12:10:05.290Z"
   },
   {
    "duration": 12,
    "start_time": "2022-03-15T12:10:10.835Z"
   },
   {
    "duration": 60,
    "start_time": "2022-03-15T12:11:13.724Z"
   },
   {
    "duration": 13,
    "start_time": "2022-03-15T12:11:46.630Z"
   },
   {
    "duration": 11,
    "start_time": "2022-03-15T12:13:55.593Z"
   },
   {
    "duration": 199,
    "start_time": "2022-03-15T12:19:19.372Z"
   },
   {
    "duration": 189,
    "start_time": "2022-03-15T12:19:24.548Z"
   },
   {
    "duration": 11,
    "start_time": "2022-03-15T12:19:29.701Z"
   },
   {
    "duration": 10,
    "start_time": "2022-03-15T12:19:38.566Z"
   },
   {
    "duration": 524,
    "start_time": "2022-03-15T12:19:45.817Z"
   },
   {
    "duration": 51,
    "start_time": "2022-03-15T12:19:46.343Z"
   },
   {
    "duration": 11,
    "start_time": "2022-03-15T12:19:46.396Z"
   },
   {
    "duration": 3,
    "start_time": "2022-03-15T12:19:46.410Z"
   },
   {
    "duration": 7,
    "start_time": "2022-03-15T12:19:46.415Z"
   },
   {
    "duration": 3,
    "start_time": "2022-03-15T12:19:46.424Z"
   },
   {
    "duration": 5,
    "start_time": "2022-03-15T12:19:46.429Z"
   },
   {
    "duration": 26,
    "start_time": "2022-03-15T12:19:46.435Z"
   },
   {
    "duration": 5,
    "start_time": "2022-03-15T12:19:46.463Z"
   },
   {
    "duration": 4,
    "start_time": "2022-03-15T12:19:46.470Z"
   },
   {
    "duration": 10,
    "start_time": "2022-03-15T12:19:46.475Z"
   },
   {
    "duration": 15,
    "start_time": "2022-03-15T12:19:46.487Z"
   },
   {
    "duration": 21,
    "start_time": "2022-03-15T12:19:46.504Z"
   },
   {
    "duration": 44,
    "start_time": "2022-03-15T12:19:46.527Z"
   },
   {
    "duration": 7,
    "start_time": "2022-03-15T12:19:46.573Z"
   },
   {
    "duration": 7,
    "start_time": "2022-03-15T12:19:46.581Z"
   },
   {
    "duration": 3,
    "start_time": "2022-03-15T12:19:46.590Z"
   },
   {
    "duration": 9,
    "start_time": "2022-03-15T12:19:46.595Z"
   },
   {
    "duration": 7,
    "start_time": "2022-03-15T12:19:46.606Z"
   },
   {
    "duration": 45,
    "start_time": "2022-03-15T12:19:46.614Z"
   },
   {
    "duration": 9,
    "start_time": "2022-03-15T12:19:46.661Z"
   },
   {
    "duration": 17,
    "start_time": "2022-03-15T12:19:46.672Z"
   },
   {
    "duration": 6,
    "start_time": "2022-03-15T12:19:46.691Z"
   },
   {
    "duration": 14,
    "start_time": "2022-03-15T12:19:46.698Z"
   },
   {
    "duration": 6,
    "start_time": "2022-03-15T12:19:46.713Z"
   },
   {
    "duration": 38,
    "start_time": "2022-03-15T12:19:46.721Z"
   },
   {
    "duration": 12,
    "start_time": "2022-03-15T12:20:53.211Z"
   },
   {
    "duration": 600,
    "start_time": "2022-03-15T12:21:18.741Z"
   },
   {
    "duration": 47,
    "start_time": "2022-03-15T12:21:19.343Z"
   },
   {
    "duration": 11,
    "start_time": "2022-03-15T12:21:19.392Z"
   },
   {
    "duration": 3,
    "start_time": "2022-03-15T12:21:19.405Z"
   },
   {
    "duration": 7,
    "start_time": "2022-03-15T12:21:19.409Z"
   },
   {
    "duration": 4,
    "start_time": "2022-03-15T12:21:19.418Z"
   },
   {
    "duration": 5,
    "start_time": "2022-03-15T12:21:19.424Z"
   },
   {
    "duration": 29,
    "start_time": "2022-03-15T12:21:19.431Z"
   },
   {
    "duration": 4,
    "start_time": "2022-03-15T12:21:19.463Z"
   },
   {
    "duration": 4,
    "start_time": "2022-03-15T12:21:19.469Z"
   },
   {
    "duration": 9,
    "start_time": "2022-03-15T12:21:19.475Z"
   },
   {
    "duration": 17,
    "start_time": "2022-03-15T12:21:19.486Z"
   },
   {
    "duration": 9,
    "start_time": "2022-03-15T12:21:19.505Z"
   },
   {
    "duration": 49,
    "start_time": "2022-03-15T12:21:19.516Z"
   },
   {
    "duration": 4,
    "start_time": "2022-03-15T12:21:19.567Z"
   },
   {
    "duration": 9,
    "start_time": "2022-03-15T12:21:19.573Z"
   },
   {
    "duration": 7,
    "start_time": "2022-03-15T12:21:19.584Z"
   },
   {
    "duration": 9,
    "start_time": "2022-03-15T12:21:19.593Z"
   },
   {
    "duration": 9,
    "start_time": "2022-03-15T12:21:19.603Z"
   },
   {
    "duration": 52,
    "start_time": "2022-03-15T12:21:19.614Z"
   },
   {
    "duration": 6,
    "start_time": "2022-03-15T12:21:19.668Z"
   },
   {
    "duration": 19,
    "start_time": "2022-03-15T12:21:19.675Z"
   },
   {
    "duration": 8,
    "start_time": "2022-03-15T12:21:19.696Z"
   },
   {
    "duration": 7,
    "start_time": "2022-03-15T12:22:40.955Z"
   },
   {
    "duration": 5,
    "start_time": "2022-03-15T12:30:24.017Z"
   },
   {
    "duration": 7,
    "start_time": "2022-03-15T12:31:24.657Z"
   },
   {
    "duration": 4,
    "start_time": "2022-03-15T12:36:08.523Z"
   },
   {
    "duration": 271,
    "start_time": "2022-03-15T12:36:26.677Z"
   },
   {
    "duration": 8,
    "start_time": "2022-03-15T12:36:58.681Z"
   },
   {
    "duration": 572,
    "start_time": "2022-03-15T12:37:07.147Z"
   },
   {
    "duration": 48,
    "start_time": "2022-03-15T12:37:07.720Z"
   },
   {
    "duration": 11,
    "start_time": "2022-03-15T12:37:07.772Z"
   },
   {
    "duration": 4,
    "start_time": "2022-03-15T12:37:07.784Z"
   },
   {
    "duration": 15,
    "start_time": "2022-03-15T12:37:07.789Z"
   },
   {
    "duration": 7,
    "start_time": "2022-03-15T12:37:07.805Z"
   },
   {
    "duration": 7,
    "start_time": "2022-03-15T12:37:07.814Z"
   },
   {
    "duration": 4,
    "start_time": "2022-03-15T12:37:07.823Z"
   },
   {
    "duration": 30,
    "start_time": "2022-03-15T12:37:07.829Z"
   },
   {
    "duration": 4,
    "start_time": "2022-03-15T12:37:07.861Z"
   },
   {
    "duration": 24,
    "start_time": "2022-03-15T12:37:07.867Z"
   },
   {
    "duration": 15,
    "start_time": "2022-03-15T12:37:07.893Z"
   },
   {
    "duration": 8,
    "start_time": "2022-03-15T12:37:07.910Z"
   },
   {
    "duration": 7,
    "start_time": "2022-03-15T12:37:07.920Z"
   },
   {
    "duration": 4,
    "start_time": "2022-03-15T12:37:07.928Z"
   },
   {
    "duration": 8,
    "start_time": "2022-03-15T12:37:07.959Z"
   },
   {
    "duration": 7,
    "start_time": "2022-03-15T12:37:07.969Z"
   },
   {
    "duration": 8,
    "start_time": "2022-03-15T12:37:07.978Z"
   },
   {
    "duration": 8,
    "start_time": "2022-03-15T12:37:07.987Z"
   },
   {
    "duration": 15,
    "start_time": "2022-03-15T12:37:07.997Z"
   },
   {
    "duration": 4,
    "start_time": "2022-03-15T12:37:08.013Z"
   },
   {
    "duration": 46,
    "start_time": "2022-03-15T12:37:08.020Z"
   },
   {
    "duration": 7,
    "start_time": "2022-03-15T12:37:08.067Z"
   },
   {
    "duration": 9,
    "start_time": "2022-03-15T12:37:08.075Z"
   },
   {
    "duration": 174,
    "start_time": "2022-03-15T12:45:52.922Z"
   },
   {
    "duration": 116,
    "start_time": "2022-03-15T12:46:05.068Z"
   },
   {
    "duration": 116,
    "start_time": "2022-03-15T12:46:35.799Z"
   },
   {
    "duration": 137,
    "start_time": "2022-03-15T12:47:20.613Z"
   },
   {
    "duration": 8,
    "start_time": "2022-03-15T12:47:45.664Z"
   },
   {
    "duration": 6,
    "start_time": "2022-03-15T12:49:10.162Z"
   },
   {
    "duration": 7,
    "start_time": "2022-03-15T12:49:30.860Z"
   },
   {
    "duration": 8,
    "start_time": "2022-03-15T12:58:58.036Z"
   },
   {
    "duration": 538,
    "start_time": "2022-03-15T12:59:23.100Z"
   },
   {
    "duration": 61,
    "start_time": "2022-03-15T12:59:23.641Z"
   },
   {
    "duration": 11,
    "start_time": "2022-03-15T12:59:23.704Z"
   },
   {
    "duration": 9,
    "start_time": "2022-03-15T12:59:23.718Z"
   },
   {
    "duration": 9,
    "start_time": "2022-03-15T12:59:23.729Z"
   },
   {
    "duration": 19,
    "start_time": "2022-03-15T12:59:23.740Z"
   },
   {
    "duration": 4,
    "start_time": "2022-03-15T12:59:23.761Z"
   },
   {
    "duration": 5,
    "start_time": "2022-03-15T12:59:23.767Z"
   },
   {
    "duration": 5,
    "start_time": "2022-03-15T12:59:23.774Z"
   },
   {
    "duration": 5,
    "start_time": "2022-03-15T12:59:23.780Z"
   },
   {
    "duration": 10,
    "start_time": "2022-03-15T12:59:23.786Z"
   },
   {
    "duration": 17,
    "start_time": "2022-03-15T12:59:23.798Z"
   },
   {
    "duration": 46,
    "start_time": "2022-03-15T12:59:23.816Z"
   },
   {
    "duration": 7,
    "start_time": "2022-03-15T12:59:23.864Z"
   },
   {
    "duration": 4,
    "start_time": "2022-03-15T12:59:23.873Z"
   },
   {
    "duration": 10,
    "start_time": "2022-03-15T12:59:23.879Z"
   },
   {
    "duration": 7,
    "start_time": "2022-03-15T12:59:23.891Z"
   },
   {
    "duration": 9,
    "start_time": "2022-03-15T12:59:23.900Z"
   },
   {
    "duration": 12,
    "start_time": "2022-03-15T12:59:23.910Z"
   },
   {
    "duration": 51,
    "start_time": "2022-03-15T12:59:23.923Z"
   },
   {
    "duration": 3,
    "start_time": "2022-03-15T12:59:23.975Z"
   },
   {
    "duration": 16,
    "start_time": "2022-03-15T12:59:23.980Z"
   },
   {
    "duration": 6,
    "start_time": "2022-03-15T12:59:23.998Z"
   },
   {
    "duration": 7,
    "start_time": "2022-03-15T12:59:24.006Z"
   },
   {
    "duration": 6,
    "start_time": "2022-03-15T12:59:24.015Z"
   },
   {
    "duration": 9,
    "start_time": "2022-03-15T12:59:46.007Z"
   },
   {
    "duration": 579,
    "start_time": "2022-03-15T13:00:02.320Z"
   },
   {
    "duration": 49,
    "start_time": "2022-03-15T13:00:02.901Z"
   },
   {
    "duration": 11,
    "start_time": "2022-03-15T13:00:02.953Z"
   },
   {
    "duration": 13,
    "start_time": "2022-03-15T13:00:02.966Z"
   },
   {
    "duration": 10,
    "start_time": "2022-03-15T13:00:02.980Z"
   },
   {
    "duration": 12,
    "start_time": "2022-03-15T13:00:02.992Z"
   },
   {
    "duration": 24,
    "start_time": "2022-03-15T13:00:03.005Z"
   },
   {
    "duration": 16,
    "start_time": "2022-03-15T13:00:03.031Z"
   },
   {
    "duration": 7,
    "start_time": "2022-03-15T13:00:03.050Z"
   },
   {
    "duration": 5,
    "start_time": "2022-03-15T13:00:03.059Z"
   },
   {
    "duration": 18,
    "start_time": "2022-03-15T13:00:03.065Z"
   },
   {
    "duration": 16,
    "start_time": "2022-03-15T13:00:03.084Z"
   },
   {
    "duration": 8,
    "start_time": "2022-03-15T13:00:03.102Z"
   },
   {
    "duration": 7,
    "start_time": "2022-03-15T13:00:03.112Z"
   },
   {
    "duration": 4,
    "start_time": "2022-03-15T13:00:03.121Z"
   },
   {
    "duration": 37,
    "start_time": "2022-03-15T13:00:03.126Z"
   },
   {
    "duration": 8,
    "start_time": "2022-03-15T13:00:03.165Z"
   },
   {
    "duration": 10,
    "start_time": "2022-03-15T13:00:03.174Z"
   },
   {
    "duration": 8,
    "start_time": "2022-03-15T13:00:03.185Z"
   },
   {
    "duration": 16,
    "start_time": "2022-03-15T13:00:03.195Z"
   },
   {
    "duration": 8,
    "start_time": "2022-03-15T13:00:03.213Z"
   },
   {
    "duration": 38,
    "start_time": "2022-03-15T13:00:03.223Z"
   },
   {
    "duration": 6,
    "start_time": "2022-03-15T13:00:03.262Z"
   },
   {
    "duration": 7,
    "start_time": "2022-03-15T13:00:03.269Z"
   },
   {
    "duration": 6,
    "start_time": "2022-03-15T13:00:03.278Z"
   },
   {
    "duration": 631,
    "start_time": "2022-03-15T13:00:45.735Z"
   },
   {
    "duration": 55,
    "start_time": "2022-03-15T13:00:46.368Z"
   },
   {
    "duration": 37,
    "start_time": "2022-03-15T13:00:46.425Z"
   },
   {
    "duration": 3,
    "start_time": "2022-03-15T13:00:46.463Z"
   },
   {
    "duration": 8,
    "start_time": "2022-03-15T13:00:46.468Z"
   },
   {
    "duration": 4,
    "start_time": "2022-03-15T13:00:46.478Z"
   },
   {
    "duration": 5,
    "start_time": "2022-03-15T13:00:46.484Z"
   },
   {
    "duration": 5,
    "start_time": "2022-03-15T13:00:46.491Z"
   },
   {
    "duration": 5,
    "start_time": "2022-03-15T13:00:46.498Z"
   },
   {
    "duration": 5,
    "start_time": "2022-03-15T13:00:46.504Z"
   },
   {
    "duration": 56,
    "start_time": "2022-03-15T13:00:46.510Z"
   },
   {
    "duration": 17,
    "start_time": "2022-03-15T13:00:46.568Z"
   },
   {
    "duration": 9,
    "start_time": "2022-03-15T13:00:46.587Z"
   },
   {
    "duration": 7,
    "start_time": "2022-03-15T13:00:46.597Z"
   },
   {
    "duration": 3,
    "start_time": "2022-03-15T13:00:46.606Z"
   },
   {
    "duration": 49,
    "start_time": "2022-03-15T13:00:46.611Z"
   },
   {
    "duration": 8,
    "start_time": "2022-03-15T13:00:46.662Z"
   },
   {
    "duration": 10,
    "start_time": "2022-03-15T13:00:46.671Z"
   },
   {
    "duration": 9,
    "start_time": "2022-03-15T13:00:46.683Z"
   },
   {
    "duration": 17,
    "start_time": "2022-03-15T13:00:46.694Z"
   },
   {
    "duration": 6,
    "start_time": "2022-03-15T13:00:46.713Z"
   },
   {
    "duration": 45,
    "start_time": "2022-03-15T13:00:46.723Z"
   },
   {
    "duration": 6,
    "start_time": "2022-03-15T13:00:46.769Z"
   },
   {
    "duration": 8,
    "start_time": "2022-03-15T13:00:46.777Z"
   },
   {
    "duration": 8,
    "start_time": "2022-03-15T13:00:46.788Z"
   },
   {
    "duration": 3,
    "start_time": "2022-03-15T13:04:11.943Z"
   },
   {
    "duration": 506,
    "start_time": "2022-03-15T13:04:20.813Z"
   },
   {
    "duration": 47,
    "start_time": "2022-03-15T13:04:21.321Z"
   },
   {
    "duration": 13,
    "start_time": "2022-03-15T13:04:21.370Z"
   },
   {
    "duration": 3,
    "start_time": "2022-03-15T13:04:21.385Z"
   },
   {
    "duration": 11,
    "start_time": "2022-03-15T13:04:21.389Z"
   },
   {
    "duration": 5,
    "start_time": "2022-03-15T13:04:21.402Z"
   },
   {
    "duration": 10,
    "start_time": "2022-03-15T13:04:21.409Z"
   },
   {
    "duration": 7,
    "start_time": "2022-03-15T13:04:21.422Z"
   },
   {
    "duration": 6,
    "start_time": "2022-03-15T13:04:21.431Z"
   },
   {
    "duration": 3,
    "start_time": "2022-03-15T13:04:21.460Z"
   },
   {
    "duration": 12,
    "start_time": "2022-03-15T13:04:21.465Z"
   },
   {
    "duration": 18,
    "start_time": "2022-03-15T13:04:21.479Z"
   },
   {
    "duration": 10,
    "start_time": "2022-03-15T13:04:21.498Z"
   },
   {
    "duration": 8,
    "start_time": "2022-03-15T13:04:21.509Z"
   },
   {
    "duration": 40,
    "start_time": "2022-03-15T13:04:21.519Z"
   },
   {
    "duration": 10,
    "start_time": "2022-03-15T13:04:21.561Z"
   },
   {
    "duration": 7,
    "start_time": "2022-03-15T13:04:21.573Z"
   },
   {
    "duration": 8,
    "start_time": "2022-03-15T13:04:21.582Z"
   },
   {
    "duration": 9,
    "start_time": "2022-03-15T13:04:21.592Z"
   },
   {
    "duration": 14,
    "start_time": "2022-03-15T13:04:21.603Z"
   },
   {
    "duration": 2,
    "start_time": "2022-03-15T13:04:21.660Z"
   },
   {
    "duration": 13,
    "start_time": "2022-03-15T13:04:21.664Z"
   },
   {
    "duration": 6,
    "start_time": "2022-03-15T13:04:21.680Z"
   },
   {
    "duration": 8,
    "start_time": "2022-03-15T13:04:21.688Z"
   },
   {
    "duration": 8,
    "start_time": "2022-03-15T13:04:21.698Z"
   },
   {
    "duration": 545,
    "start_time": "2022-03-15T13:04:29.818Z"
   },
   {
    "duration": 51,
    "start_time": "2022-03-15T13:04:30.365Z"
   },
   {
    "duration": 12,
    "start_time": "2022-03-15T13:04:30.418Z"
   },
   {
    "duration": 11,
    "start_time": "2022-03-15T13:04:30.432Z"
   },
   {
    "duration": 19,
    "start_time": "2022-03-15T13:04:30.445Z"
   },
   {
    "duration": 8,
    "start_time": "2022-03-15T13:04:30.467Z"
   },
   {
    "duration": 6,
    "start_time": "2022-03-15T13:04:30.477Z"
   },
   {
    "duration": 20,
    "start_time": "2022-03-15T13:04:30.485Z"
   },
   {
    "duration": 5,
    "start_time": "2022-03-15T13:04:30.508Z"
   },
   {
    "duration": 6,
    "start_time": "2022-03-15T13:04:30.515Z"
   },
   {
    "duration": 12,
    "start_time": "2022-03-15T13:04:30.522Z"
   },
   {
    "duration": 38,
    "start_time": "2022-03-15T13:04:30.535Z"
   },
   {
    "duration": 16,
    "start_time": "2022-03-15T13:04:30.575Z"
   },
   {
    "duration": 10,
    "start_time": "2022-03-15T13:04:30.593Z"
   },
   {
    "duration": 13,
    "start_time": "2022-03-15T13:04:30.605Z"
   },
   {
    "duration": 21,
    "start_time": "2022-03-15T13:04:30.620Z"
   },
   {
    "duration": 21,
    "start_time": "2022-03-15T13:04:30.643Z"
   },
   {
    "duration": 9,
    "start_time": "2022-03-15T13:04:30.666Z"
   },
   {
    "duration": 14,
    "start_time": "2022-03-15T13:04:30.677Z"
   },
   {
    "duration": 18,
    "start_time": "2022-03-15T13:04:30.692Z"
   },
   {
    "duration": 22,
    "start_time": "2022-03-15T13:04:30.712Z"
   },
   {
    "duration": 23,
    "start_time": "2022-03-15T13:04:30.736Z"
   },
   {
    "duration": 7,
    "start_time": "2022-03-15T13:04:30.761Z"
   },
   {
    "duration": 24,
    "start_time": "2022-03-15T13:04:30.770Z"
   },
   {
    "duration": 13,
    "start_time": "2022-03-15T13:04:30.796Z"
   },
   {
    "duration": 11,
    "start_time": "2022-03-15T13:08:33.163Z"
   },
   {
    "duration": 514,
    "start_time": "2022-03-15T13:08:53.197Z"
   },
   {
    "duration": 48,
    "start_time": "2022-03-15T13:08:53.713Z"
   },
   {
    "duration": 13,
    "start_time": "2022-03-15T13:08:53.763Z"
   },
   {
    "duration": 3,
    "start_time": "2022-03-15T13:08:53.778Z"
   },
   {
    "duration": 8,
    "start_time": "2022-03-15T13:08:53.783Z"
   },
   {
    "duration": 4,
    "start_time": "2022-03-15T13:08:53.793Z"
   },
   {
    "duration": 6,
    "start_time": "2022-03-15T13:08:53.799Z"
   },
   {
    "duration": 5,
    "start_time": "2022-03-15T13:08:53.806Z"
   },
   {
    "duration": 4,
    "start_time": "2022-03-15T13:08:53.859Z"
   },
   {
    "duration": 13,
    "start_time": "2022-03-15T13:08:53.865Z"
   },
   {
    "duration": 3,
    "start_time": "2022-03-15T13:08:53.880Z"
   },
   {
    "duration": 9,
    "start_time": "2022-03-15T13:08:53.885Z"
   },
   {
    "duration": 15,
    "start_time": "2022-03-15T13:08:53.896Z"
   },
   {
    "duration": 9,
    "start_time": "2022-03-15T13:08:53.912Z"
   },
   {
    "duration": 41,
    "start_time": "2022-03-15T13:08:53.923Z"
   },
   {
    "duration": 4,
    "start_time": "2022-03-15T13:08:53.965Z"
   },
   {
    "duration": 9,
    "start_time": "2022-03-15T13:08:53.970Z"
   },
   {
    "duration": 7,
    "start_time": "2022-03-15T13:08:53.981Z"
   },
   {
    "duration": 8,
    "start_time": "2022-03-15T13:08:53.989Z"
   },
   {
    "duration": 10,
    "start_time": "2022-03-15T13:08:53.998Z"
   },
   {
    "duration": 15,
    "start_time": "2022-03-15T13:08:54.010Z"
   },
   {
    "duration": 2,
    "start_time": "2022-03-15T13:08:54.060Z"
   },
   {
    "duration": 15,
    "start_time": "2022-03-15T13:08:54.063Z"
   },
   {
    "duration": 6,
    "start_time": "2022-03-15T13:08:54.079Z"
   },
   {
    "duration": 8,
    "start_time": "2022-03-15T13:08:54.086Z"
   },
   {
    "duration": 9,
    "start_time": "2022-03-15T13:08:54.095Z"
   },
   {
    "duration": 504,
    "start_time": "2022-03-15T13:13:34.622Z"
   },
   {
    "duration": 51,
    "start_time": "2022-03-15T13:13:35.128Z"
   },
   {
    "duration": 11,
    "start_time": "2022-03-15T13:13:35.181Z"
   },
   {
    "duration": 3,
    "start_time": "2022-03-15T13:13:35.194Z"
   },
   {
    "duration": 7,
    "start_time": "2022-03-15T13:13:35.199Z"
   },
   {
    "duration": 3,
    "start_time": "2022-03-15T13:13:35.208Z"
   },
   {
    "duration": 5,
    "start_time": "2022-03-15T13:13:35.213Z"
   },
   {
    "duration": 5,
    "start_time": "2022-03-15T13:13:35.220Z"
   },
   {
    "duration": 42,
    "start_time": "2022-03-15T13:13:35.228Z"
   },
   {
    "duration": 5,
    "start_time": "2022-03-15T13:13:35.273Z"
   },
   {
    "duration": 9,
    "start_time": "2022-03-15T13:13:35.279Z"
   },
   {
    "duration": 17,
    "start_time": "2022-03-15T13:13:35.290Z"
   },
   {
    "duration": 27,
    "start_time": "2022-03-15T13:13:35.309Z"
   },
   {
    "duration": 12,
    "start_time": "2022-03-15T13:13:35.338Z"
   },
   {
    "duration": 20,
    "start_time": "2022-03-15T13:13:35.352Z"
   },
   {
    "duration": 31,
    "start_time": "2022-03-15T13:13:35.374Z"
   },
   {
    "duration": 26,
    "start_time": "2022-03-15T13:13:35.406Z"
   },
   {
    "duration": 24,
    "start_time": "2022-03-15T13:13:35.434Z"
   },
   {
    "duration": 12,
    "start_time": "2022-03-15T13:13:35.461Z"
   },
   {
    "duration": 20,
    "start_time": "2022-03-15T13:13:35.475Z"
   },
   {
    "duration": 41,
    "start_time": "2022-03-15T13:13:35.497Z"
   },
   {
    "duration": 38,
    "start_time": "2022-03-15T13:13:35.540Z"
   },
   {
    "duration": 20,
    "start_time": "2022-03-15T13:13:35.579Z"
   },
   {
    "duration": 31,
    "start_time": "2022-03-15T13:13:35.600Z"
   },
   {
    "duration": 12,
    "start_time": "2022-03-15T13:13:35.632Z"
   },
   {
    "duration": 564,
    "start_time": "2022-03-15T13:26:49.151Z"
   },
   {
    "duration": 46,
    "start_time": "2022-03-15T13:26:49.717Z"
   },
   {
    "duration": 12,
    "start_time": "2022-03-15T13:26:49.764Z"
   },
   {
    "duration": 3,
    "start_time": "2022-03-15T13:26:49.778Z"
   },
   {
    "duration": 9,
    "start_time": "2022-03-15T13:26:49.782Z"
   },
   {
    "duration": 4,
    "start_time": "2022-03-15T13:26:49.792Z"
   },
   {
    "duration": 5,
    "start_time": "2022-03-15T13:26:49.797Z"
   },
   {
    "duration": 4,
    "start_time": "2022-03-15T13:26:49.804Z"
   },
   {
    "duration": 5,
    "start_time": "2022-03-15T13:26:49.810Z"
   },
   {
    "duration": 5,
    "start_time": "2022-03-15T13:26:49.816Z"
   },
   {
    "duration": 12,
    "start_time": "2022-03-15T13:26:49.860Z"
   },
   {
    "duration": 17,
    "start_time": "2022-03-15T13:26:49.873Z"
   },
   {
    "duration": 9,
    "start_time": "2022-03-15T13:26:49.891Z"
   },
   {
    "duration": 7,
    "start_time": "2022-03-15T13:26:49.901Z"
   },
   {
    "duration": 4,
    "start_time": "2022-03-15T13:26:49.910Z"
   },
   {
    "duration": 10,
    "start_time": "2022-03-15T13:26:49.916Z"
   },
   {
    "duration": 9,
    "start_time": "2022-03-15T13:26:49.960Z"
   },
   {
    "duration": 10,
    "start_time": "2022-03-15T13:26:49.970Z"
   },
   {
    "duration": 9,
    "start_time": "2022-03-15T13:26:49.982Z"
   },
   {
    "duration": 20,
    "start_time": "2022-03-15T13:26:49.993Z"
   },
   {
    "duration": 5,
    "start_time": "2022-03-15T13:26:50.015Z"
   },
   {
    "duration": 41,
    "start_time": "2022-03-15T13:26:50.022Z"
   },
   {
    "duration": 6,
    "start_time": "2022-03-15T13:26:50.066Z"
   },
   {
    "duration": 11,
    "start_time": "2022-03-15T13:26:50.074Z"
   },
   {
    "duration": 7,
    "start_time": "2022-03-15T13:26:50.086Z"
   },
   {
    "duration": 8,
    "start_time": "2022-03-16T06:10:43.809Z"
   },
   {
    "duration": 510,
    "start_time": "2022-03-16T06:10:49.091Z"
   },
   {
    "duration": 46,
    "start_time": "2022-03-16T06:10:49.603Z"
   },
   {
    "duration": 13,
    "start_time": "2022-03-16T06:10:49.651Z"
   },
   {
    "duration": 3,
    "start_time": "2022-03-16T06:10:49.666Z"
   },
   {
    "duration": 12,
    "start_time": "2022-03-16T06:10:49.670Z"
   },
   {
    "duration": 11,
    "start_time": "2022-03-16T06:10:49.684Z"
   },
   {
    "duration": 11,
    "start_time": "2022-03-16T06:10:49.696Z"
   },
   {
    "duration": 6,
    "start_time": "2022-03-16T06:10:49.708Z"
   },
   {
    "duration": 7,
    "start_time": "2022-03-16T06:10:49.717Z"
   },
   {
    "duration": 33,
    "start_time": "2022-03-16T06:10:49.726Z"
   },
   {
    "duration": 11,
    "start_time": "2022-03-16T06:10:49.761Z"
   },
   {
    "duration": 16,
    "start_time": "2022-03-16T06:10:49.773Z"
   },
   {
    "duration": 17,
    "start_time": "2022-03-16T06:10:49.791Z"
   },
   {
    "duration": 10,
    "start_time": "2022-03-16T06:10:49.810Z"
   },
   {
    "duration": 42,
    "start_time": "2022-03-16T06:10:49.822Z"
   },
   {
    "duration": 5,
    "start_time": "2022-03-16T06:10:49.866Z"
   },
   {
    "duration": 9,
    "start_time": "2022-03-16T06:10:49.873Z"
   },
   {
    "duration": 10,
    "start_time": "2022-03-16T06:10:49.884Z"
   },
   {
    "duration": 11,
    "start_time": "2022-03-16T06:10:49.896Z"
   },
   {
    "duration": 11,
    "start_time": "2022-03-16T06:10:49.909Z"
   },
   {
    "duration": 27,
    "start_time": "2022-03-16T06:10:49.960Z"
   },
   {
    "duration": 3,
    "start_time": "2022-03-16T06:10:49.989Z"
   },
   {
    "duration": 14,
    "start_time": "2022-03-16T06:10:49.994Z"
   },
   {
    "duration": 7,
    "start_time": "2022-03-16T06:10:50.010Z"
   },
   {
    "duration": 8,
    "start_time": "2022-03-16T06:10:50.019Z"
   },
   {
    "duration": 6,
    "start_time": "2022-03-16T06:10:50.060Z"
   },
   {
    "duration": 9,
    "start_time": "2022-03-16T07:17:49.741Z"
   },
   {
    "duration": 10,
    "start_time": "2022-03-16T07:18:43.948Z"
   },
   {
    "duration": 520,
    "start_time": "2022-03-16T07:23:59.601Z"
   },
   {
    "duration": 51,
    "start_time": "2022-03-16T07:24:00.123Z"
   },
   {
    "duration": 12,
    "start_time": "2022-03-16T07:24:00.176Z"
   },
   {
    "duration": 11,
    "start_time": "2022-03-16T07:24:00.190Z"
   },
   {
    "duration": 11,
    "start_time": "2022-03-16T07:24:00.203Z"
   },
   {
    "duration": 5,
    "start_time": "2022-03-16T07:24:00.216Z"
   },
   {
    "duration": 18,
    "start_time": "2022-03-16T07:24:00.222Z"
   },
   {
    "duration": 9,
    "start_time": "2022-03-16T07:24:00.242Z"
   },
   {
    "duration": 4,
    "start_time": "2022-03-16T07:24:00.258Z"
   },
   {
    "duration": 14,
    "start_time": "2022-03-16T07:24:00.264Z"
   },
   {
    "duration": 29,
    "start_time": "2022-03-16T07:24:00.280Z"
   },
   {
    "duration": 38,
    "start_time": "2022-03-16T07:24:00.311Z"
   },
   {
    "duration": 18,
    "start_time": "2022-03-16T07:24:00.351Z"
   },
   {
    "duration": 25,
    "start_time": "2022-03-16T07:24:00.371Z"
   },
   {
    "duration": 9,
    "start_time": "2022-03-16T07:24:00.398Z"
   },
   {
    "duration": 5,
    "start_time": "2022-03-16T07:24:00.409Z"
   },
   {
    "duration": 12,
    "start_time": "2022-03-16T07:24:00.415Z"
   },
   {
    "duration": 9,
    "start_time": "2022-03-16T07:24:00.428Z"
   },
   {
    "duration": 28,
    "start_time": "2022-03-16T07:24:00.439Z"
   },
   {
    "duration": 13,
    "start_time": "2022-03-16T07:24:00.469Z"
   },
   {
    "duration": 30,
    "start_time": "2022-03-16T07:24:00.484Z"
   },
   {
    "duration": 33,
    "start_time": "2022-03-16T07:24:00.516Z"
   },
   {
    "duration": 28,
    "start_time": "2022-03-16T07:24:00.551Z"
   },
   {
    "duration": 25,
    "start_time": "2022-03-16T07:24:00.581Z"
   },
   {
    "duration": 13,
    "start_time": "2022-03-16T07:24:00.608Z"
   },
   {
    "duration": 15,
    "start_time": "2022-03-16T07:24:00.622Z"
   },
   {
    "duration": 577,
    "start_time": "2022-03-16T07:25:12.032Z"
   },
   {
    "duration": 47,
    "start_time": "2022-03-16T07:25:12.611Z"
   },
   {
    "duration": 11,
    "start_time": "2022-03-16T07:25:12.662Z"
   },
   {
    "duration": 3,
    "start_time": "2022-03-16T07:25:12.674Z"
   },
   {
    "duration": 7,
    "start_time": "2022-03-16T07:25:12.679Z"
   },
   {
    "duration": 4,
    "start_time": "2022-03-16T07:25:12.687Z"
   },
   {
    "duration": 4,
    "start_time": "2022-03-16T07:25:12.693Z"
   },
   {
    "duration": 4,
    "start_time": "2022-03-16T07:25:12.699Z"
   },
   {
    "duration": 6,
    "start_time": "2022-03-16T07:25:12.705Z"
   },
   {
    "duration": 46,
    "start_time": "2022-03-16T07:25:12.713Z"
   },
   {
    "duration": 9,
    "start_time": "2022-03-16T07:25:12.761Z"
   },
   {
    "duration": 10,
    "start_time": "2022-03-16T07:25:12.772Z"
   },
   {
    "duration": 16,
    "start_time": "2022-03-16T07:25:12.784Z"
   },
   {
    "duration": 9,
    "start_time": "2022-03-16T07:25:12.802Z"
   },
   {
    "duration": 7,
    "start_time": "2022-03-16T07:25:12.812Z"
   },
   {
    "duration": 37,
    "start_time": "2022-03-16T07:25:12.821Z"
   },
   {
    "duration": 9,
    "start_time": "2022-03-16T07:25:12.860Z"
   },
   {
    "duration": 8,
    "start_time": "2022-03-16T07:25:12.870Z"
   },
   {
    "duration": 9,
    "start_time": "2022-03-16T07:25:12.880Z"
   },
   {
    "duration": 8,
    "start_time": "2022-03-16T07:25:12.890Z"
   },
   {
    "duration": 16,
    "start_time": "2022-03-16T07:25:12.900Z"
   },
   {
    "duration": 53,
    "start_time": "2022-03-16T07:25:12.919Z"
   },
   {
    "duration": 12,
    "start_time": "2022-03-16T07:25:12.975Z"
   },
   {
    "duration": 6,
    "start_time": "2022-03-16T07:25:12.989Z"
   },
   {
    "duration": 9,
    "start_time": "2022-03-16T07:25:12.997Z"
   },
   {
    "duration": 6,
    "start_time": "2022-03-16T07:25:13.008Z"
   },
   {
    "duration": 9,
    "start_time": "2022-03-16T07:25:13.015Z"
   },
   {
    "duration": 603,
    "start_time": "2022-03-16T07:34:07.968Z"
   },
   {
    "duration": 53,
    "start_time": "2022-03-16T07:34:08.573Z"
   },
   {
    "duration": 11,
    "start_time": "2022-03-16T07:34:08.628Z"
   },
   {
    "duration": 3,
    "start_time": "2022-03-16T07:34:08.642Z"
   },
   {
    "duration": 17,
    "start_time": "2022-03-16T07:34:08.646Z"
   },
   {
    "duration": 4,
    "start_time": "2022-03-16T07:34:08.665Z"
   },
   {
    "duration": 5,
    "start_time": "2022-03-16T07:34:08.671Z"
   },
   {
    "duration": 5,
    "start_time": "2022-03-16T07:34:08.679Z"
   },
   {
    "duration": 7,
    "start_time": "2022-03-16T07:34:08.686Z"
   },
   {
    "duration": 6,
    "start_time": "2022-03-16T07:34:08.695Z"
   },
   {
    "duration": 9,
    "start_time": "2022-03-16T07:34:08.702Z"
   },
   {
    "duration": 46,
    "start_time": "2022-03-16T07:34:08.713Z"
   },
   {
    "duration": 17,
    "start_time": "2022-03-16T07:34:08.761Z"
   },
   {
    "duration": 9,
    "start_time": "2022-03-16T07:34:08.779Z"
   },
   {
    "duration": 8,
    "start_time": "2022-03-16T07:34:08.789Z"
   },
   {
    "duration": 4,
    "start_time": "2022-03-16T07:34:08.799Z"
   },
   {
    "duration": 8,
    "start_time": "2022-03-16T07:34:08.804Z"
   },
   {
    "duration": 46,
    "start_time": "2022-03-16T07:34:08.814Z"
   },
   {
    "duration": 9,
    "start_time": "2022-03-16T07:34:08.862Z"
   },
   {
    "duration": 8,
    "start_time": "2022-03-16T07:34:08.873Z"
   },
   {
    "duration": 17,
    "start_time": "2022-03-16T07:34:08.883Z"
   },
   {
    "duration": 16,
    "start_time": "2022-03-16T07:34:08.902Z"
   },
   {
    "duration": 43,
    "start_time": "2022-03-16T07:34:08.922Z"
   },
   {
    "duration": 4,
    "start_time": "2022-03-16T07:34:08.967Z"
   },
   {
    "duration": 12,
    "start_time": "2022-03-16T07:34:08.972Z"
   },
   {
    "duration": 5,
    "start_time": "2022-03-16T07:34:08.985Z"
   },
   {
    "duration": 7,
    "start_time": "2022-03-16T07:34:08.992Z"
   },
   {
    "duration": 578,
    "start_time": "2022-03-16T07:34:23.573Z"
   },
   {
    "duration": 47,
    "start_time": "2022-03-16T07:34:24.153Z"
   },
   {
    "duration": 11,
    "start_time": "2022-03-16T07:34:24.202Z"
   },
   {
    "duration": 3,
    "start_time": "2022-03-16T07:34:24.216Z"
   },
   {
    "duration": 8,
    "start_time": "2022-03-16T07:34:24.220Z"
   },
   {
    "duration": 4,
    "start_time": "2022-03-16T07:34:24.230Z"
   },
   {
    "duration": 27,
    "start_time": "2022-03-16T07:34:24.235Z"
   },
   {
    "duration": 5,
    "start_time": "2022-03-16T07:34:24.264Z"
   },
   {
    "duration": 4,
    "start_time": "2022-03-16T07:34:24.272Z"
   },
   {
    "duration": 5,
    "start_time": "2022-03-16T07:34:24.278Z"
   },
   {
    "duration": 9,
    "start_time": "2022-03-16T07:34:24.285Z"
   },
   {
    "duration": 11,
    "start_time": "2022-03-16T07:34:24.296Z"
   },
   {
    "duration": 59,
    "start_time": "2022-03-16T07:34:24.308Z"
   },
   {
    "duration": 9,
    "start_time": "2022-03-16T07:34:24.369Z"
   },
   {
    "duration": 7,
    "start_time": "2022-03-16T07:34:24.380Z"
   },
   {
    "duration": 5,
    "start_time": "2022-03-16T07:34:24.389Z"
   },
   {
    "duration": 20,
    "start_time": "2022-03-16T07:34:24.396Z"
   },
   {
    "duration": 9,
    "start_time": "2022-03-16T07:34:24.417Z"
   },
   {
    "duration": 8,
    "start_time": "2022-03-16T07:34:24.427Z"
   },
   {
    "duration": 9,
    "start_time": "2022-03-16T07:34:24.459Z"
   },
   {
    "duration": 18,
    "start_time": "2022-03-16T07:34:24.469Z"
   },
   {
    "duration": 20,
    "start_time": "2022-03-16T07:34:24.488Z"
   },
   {
    "duration": 15,
    "start_time": "2022-03-16T07:34:24.510Z"
   },
   {
    "duration": 2,
    "start_time": "2022-03-16T07:34:24.526Z"
   },
   {
    "duration": 31,
    "start_time": "2022-03-16T07:34:24.530Z"
   },
   {
    "duration": 6,
    "start_time": "2022-03-16T07:34:24.562Z"
   },
   {
    "duration": 7,
    "start_time": "2022-03-16T07:34:24.571Z"
   },
   {
    "duration": 545,
    "start_time": "2022-03-16T07:35:00.324Z"
   },
   {
    "duration": 50,
    "start_time": "2022-03-16T07:35:00.871Z"
   },
   {
    "duration": 12,
    "start_time": "2022-03-16T07:35:00.923Z"
   },
   {
    "duration": 15,
    "start_time": "2022-03-16T07:35:00.937Z"
   },
   {
    "duration": 19,
    "start_time": "2022-03-16T07:35:00.954Z"
   },
   {
    "duration": 8,
    "start_time": "2022-03-16T07:35:00.975Z"
   },
   {
    "duration": 13,
    "start_time": "2022-03-16T07:35:00.985Z"
   },
   {
    "duration": 21,
    "start_time": "2022-03-16T07:35:01.000Z"
   },
   {
    "duration": 26,
    "start_time": "2022-03-16T07:35:01.023Z"
   },
   {
    "duration": 13,
    "start_time": "2022-03-16T07:35:01.051Z"
   },
   {
    "duration": 16,
    "start_time": "2022-03-16T07:35:01.066Z"
   },
   {
    "duration": 28,
    "start_time": "2022-03-16T07:35:01.084Z"
   },
   {
    "duration": 22,
    "start_time": "2022-03-16T07:35:01.113Z"
   },
   {
    "duration": 29,
    "start_time": "2022-03-16T07:35:01.136Z"
   },
   {
    "duration": 9,
    "start_time": "2022-03-16T07:35:01.167Z"
   },
   {
    "duration": 7,
    "start_time": "2022-03-16T07:35:01.178Z"
   },
   {
    "duration": 37,
    "start_time": "2022-03-16T07:35:01.186Z"
   },
   {
    "duration": 12,
    "start_time": "2022-03-16T07:35:01.225Z"
   },
   {
    "duration": 9,
    "start_time": "2022-03-16T07:35:01.239Z"
   },
   {
    "duration": 13,
    "start_time": "2022-03-16T07:35:01.250Z"
   },
   {
    "duration": 19,
    "start_time": "2022-03-16T07:35:01.264Z"
   },
   {
    "duration": 26,
    "start_time": "2022-03-16T07:35:01.285Z"
   },
   {
    "duration": 2,
    "start_time": "2022-03-16T07:35:01.314Z"
   },
   {
    "duration": 13,
    "start_time": "2022-03-16T07:35:01.318Z"
   },
   {
    "duration": 13,
    "start_time": "2022-03-16T07:35:01.332Z"
   },
   {
    "duration": 13,
    "start_time": "2022-03-16T07:35:01.347Z"
   },
   {
    "duration": 13,
    "start_time": "2022-03-16T07:35:01.362Z"
   },
   {
    "duration": 8,
    "start_time": "2022-03-16T07:35:31.142Z"
   },
   {
    "duration": 560,
    "start_time": "2022-03-16T07:37:27.062Z"
   },
   {
    "duration": 54,
    "start_time": "2022-03-16T07:37:27.624Z"
   },
   {
    "duration": 12,
    "start_time": "2022-03-16T07:37:27.682Z"
   },
   {
    "duration": 3,
    "start_time": "2022-03-16T07:37:27.696Z"
   },
   {
    "duration": 7,
    "start_time": "2022-03-16T07:37:27.702Z"
   },
   {
    "duration": 4,
    "start_time": "2022-03-16T07:37:27.711Z"
   },
   {
    "duration": 3,
    "start_time": "2022-03-16T07:37:27.718Z"
   },
   {
    "duration": 37,
    "start_time": "2022-03-16T07:37:27.723Z"
   },
   {
    "duration": 9,
    "start_time": "2022-03-16T07:37:27.762Z"
   },
   {
    "duration": 6,
    "start_time": "2022-03-16T07:37:27.772Z"
   },
   {
    "duration": 9,
    "start_time": "2022-03-16T07:37:27.779Z"
   },
   {
    "duration": 11,
    "start_time": "2022-03-16T07:37:27.790Z"
   },
   {
    "duration": 15,
    "start_time": "2022-03-16T07:37:27.803Z"
   },
   {
    "duration": 41,
    "start_time": "2022-03-16T07:37:27.820Z"
   },
   {
    "duration": 9,
    "start_time": "2022-03-16T07:37:27.863Z"
   },
   {
    "duration": 6,
    "start_time": "2022-03-16T07:37:27.874Z"
   },
   {
    "duration": 10,
    "start_time": "2022-03-16T07:37:27.882Z"
   },
   {
    "duration": 8,
    "start_time": "2022-03-16T07:37:27.894Z"
   },
   {
    "duration": 9,
    "start_time": "2022-03-16T07:37:27.903Z"
   },
   {
    "duration": 9,
    "start_time": "2022-03-16T07:37:27.913Z"
   },
   {
    "duration": 51,
    "start_time": "2022-03-16T07:37:27.923Z"
   },
   {
    "duration": 12,
    "start_time": "2022-03-16T07:37:27.977Z"
   },
   {
    "duration": 2,
    "start_time": "2022-03-16T07:37:27.991Z"
   },
   {
    "duration": 9,
    "start_time": "2022-03-16T07:37:27.995Z"
   },
   {
    "duration": 8,
    "start_time": "2022-03-16T07:37:28.006Z"
   },
   {
    "duration": 45,
    "start_time": "2022-03-16T07:37:28.016Z"
   },
   {
    "duration": 7,
    "start_time": "2022-03-16T07:37:28.063Z"
   },
   {
    "duration": 8,
    "start_time": "2022-03-16T07:37:28.071Z"
   },
   {
    "duration": 554,
    "start_time": "2022-03-16T07:38:08.067Z"
   },
   {
    "duration": 50,
    "start_time": "2022-03-16T07:38:08.623Z"
   },
   {
    "duration": 14,
    "start_time": "2022-03-16T07:38:08.675Z"
   },
   {
    "duration": 5,
    "start_time": "2022-03-16T07:38:08.691Z"
   },
   {
    "duration": 13,
    "start_time": "2022-03-16T07:38:08.698Z"
   },
   {
    "duration": 4,
    "start_time": "2022-03-16T07:38:08.713Z"
   },
   {
    "duration": 5,
    "start_time": "2022-03-16T07:38:08.719Z"
   },
   {
    "duration": 36,
    "start_time": "2022-03-16T07:38:08.728Z"
   },
   {
    "duration": 4,
    "start_time": "2022-03-16T07:38:08.766Z"
   },
   {
    "duration": 5,
    "start_time": "2022-03-16T07:38:08.771Z"
   },
   {
    "duration": 9,
    "start_time": "2022-03-16T07:38:08.778Z"
   },
   {
    "duration": 10,
    "start_time": "2022-03-16T07:38:08.788Z"
   },
   {
    "duration": 14,
    "start_time": "2022-03-16T07:38:08.800Z"
   },
   {
    "duration": 45,
    "start_time": "2022-03-16T07:38:08.816Z"
   },
   {
    "duration": 7,
    "start_time": "2022-03-16T07:38:08.863Z"
   },
   {
    "duration": 3,
    "start_time": "2022-03-16T07:38:08.872Z"
   },
   {
    "duration": 9,
    "start_time": "2022-03-16T07:38:08.877Z"
   },
   {
    "duration": 7,
    "start_time": "2022-03-16T07:38:08.888Z"
   },
   {
    "duration": 8,
    "start_time": "2022-03-16T07:38:08.896Z"
   },
   {
    "duration": 8,
    "start_time": "2022-03-16T07:38:08.905Z"
   },
   {
    "duration": 59,
    "start_time": "2022-03-16T07:38:08.915Z"
   },
   {
    "duration": 12,
    "start_time": "2022-03-16T07:38:08.975Z"
   },
   {
    "duration": 11,
    "start_time": "2022-03-16T07:38:08.990Z"
   },
   {
    "duration": 7,
    "start_time": "2022-03-16T07:38:09.003Z"
   },
   {
    "duration": 9,
    "start_time": "2022-03-16T07:38:09.011Z"
   },
   {
    "duration": 42,
    "start_time": "2022-03-16T07:38:09.021Z"
   },
   {
    "duration": 7,
    "start_time": "2022-03-16T07:38:09.065Z"
   },
   {
    "duration": 6,
    "start_time": "2022-03-16T07:38:09.074Z"
   },
   {
    "duration": 570,
    "start_time": "2022-03-16T07:39:00.529Z"
   },
   {
    "duration": 55,
    "start_time": "2022-03-16T07:39:01.101Z"
   },
   {
    "duration": 12,
    "start_time": "2022-03-16T07:39:01.168Z"
   },
   {
    "duration": 16,
    "start_time": "2022-03-16T07:39:01.182Z"
   },
   {
    "duration": 20,
    "start_time": "2022-03-16T07:39:01.200Z"
   },
   {
    "duration": 22,
    "start_time": "2022-03-16T07:39:01.222Z"
   },
   {
    "duration": 35,
    "start_time": "2022-03-16T07:39:01.247Z"
   },
   {
    "duration": 17,
    "start_time": "2022-03-16T07:39:01.284Z"
   },
   {
    "duration": 15,
    "start_time": "2022-03-16T07:39:01.302Z"
   },
   {
    "duration": 6,
    "start_time": "2022-03-16T07:39:01.319Z"
   },
   {
    "duration": 27,
    "start_time": "2022-03-16T07:39:01.327Z"
   },
   {
    "duration": 18,
    "start_time": "2022-03-16T07:39:01.356Z"
   },
   {
    "duration": 18,
    "start_time": "2022-03-16T07:39:01.376Z"
   },
   {
    "duration": 10,
    "start_time": "2022-03-16T07:39:01.397Z"
   },
   {
    "duration": 9,
    "start_time": "2022-03-16T07:39:01.409Z"
   },
   {
    "duration": 8,
    "start_time": "2022-03-16T07:39:01.420Z"
   },
   {
    "duration": 31,
    "start_time": "2022-03-16T07:39:01.430Z"
   },
   {
    "duration": 10,
    "start_time": "2022-03-16T07:39:01.463Z"
   },
   {
    "duration": 13,
    "start_time": "2022-03-16T07:39:01.475Z"
   },
   {
    "duration": 11,
    "start_time": "2022-03-16T07:39:01.489Z"
   },
   {
    "duration": 19,
    "start_time": "2022-03-16T07:39:01.503Z"
   },
   {
    "duration": 12,
    "start_time": "2022-03-16T07:39:01.559Z"
   },
   {
    "duration": 17,
    "start_time": "2022-03-16T07:39:01.573Z"
   },
   {
    "duration": 20,
    "start_time": "2022-03-16T07:39:01.591Z"
   },
   {
    "duration": 14,
    "start_time": "2022-03-16T07:39:01.612Z"
   },
   {
    "duration": 21,
    "start_time": "2022-03-16T07:39:01.627Z"
   },
   {
    "duration": 15,
    "start_time": "2022-03-16T07:39:01.649Z"
   },
   {
    "duration": 10,
    "start_time": "2022-03-16T07:39:01.665Z"
   },
   {
    "duration": 235,
    "start_time": "2022-03-16T07:41:49.316Z"
   },
   {
    "duration": 8,
    "start_time": "2022-03-16T07:43:18.635Z"
   },
   {
    "duration": 5,
    "start_time": "2022-03-16T07:43:32.549Z"
   },
   {
    "duration": 3,
    "start_time": "2022-03-16T07:44:09.853Z"
   },
   {
    "duration": 8,
    "start_time": "2022-03-16T07:44:50.432Z"
   },
   {
    "duration": 576,
    "start_time": "2022-03-16T07:44:54.146Z"
   },
   {
    "duration": 52,
    "start_time": "2022-03-16T07:44:54.724Z"
   },
   {
    "duration": 12,
    "start_time": "2022-03-16T07:44:54.780Z"
   },
   {
    "duration": 4,
    "start_time": "2022-03-16T07:44:54.794Z"
   },
   {
    "duration": 13,
    "start_time": "2022-03-16T07:44:54.800Z"
   },
   {
    "duration": 7,
    "start_time": "2022-03-16T07:44:54.814Z"
   },
   {
    "duration": 9,
    "start_time": "2022-03-16T07:44:54.823Z"
   },
   {
    "duration": 4,
    "start_time": "2022-03-16T07:44:54.860Z"
   },
   {
    "duration": 12,
    "start_time": "2022-03-16T07:44:54.866Z"
   },
   {
    "duration": 10,
    "start_time": "2022-03-16T07:44:54.880Z"
   },
   {
    "duration": 16,
    "start_time": "2022-03-16T07:44:54.892Z"
   },
   {
    "duration": 16,
    "start_time": "2022-03-16T07:44:54.909Z"
   },
   {
    "duration": 35,
    "start_time": "2022-03-16T07:44:54.927Z"
   },
   {
    "duration": 8,
    "start_time": "2022-03-16T07:44:54.963Z"
   },
   {
    "duration": 7,
    "start_time": "2022-03-16T07:44:54.972Z"
   },
   {
    "duration": 3,
    "start_time": "2022-03-16T07:44:54.981Z"
   },
   {
    "duration": 9,
    "start_time": "2022-03-16T07:44:54.985Z"
   },
   {
    "duration": 7,
    "start_time": "2022-03-16T07:44:54.995Z"
   },
   {
    "duration": 13,
    "start_time": "2022-03-16T07:44:55.004Z"
   },
   {
    "duration": 43,
    "start_time": "2022-03-16T07:44:55.019Z"
   },
   {
    "duration": 18,
    "start_time": "2022-03-16T07:44:55.064Z"
   },
   {
    "duration": 17,
    "start_time": "2022-03-16T07:44:55.085Z"
   },
   {
    "duration": 13,
    "start_time": "2022-03-16T07:44:55.104Z"
   },
   {
    "duration": 41,
    "start_time": "2022-03-16T07:44:55.119Z"
   },
   {
    "duration": 10,
    "start_time": "2022-03-16T07:44:55.162Z"
   },
   {
    "duration": 8,
    "start_time": "2022-03-16T07:44:55.175Z"
   },
   {
    "duration": 7,
    "start_time": "2022-03-16T07:44:55.184Z"
   },
   {
    "duration": 8,
    "start_time": "2022-03-16T07:44:55.193Z"
   },
   {
    "duration": 8,
    "start_time": "2022-03-16T07:44:55.203Z"
   },
   {
    "duration": 46,
    "start_time": "2022-03-16T07:44:55.213Z"
   },
   {
    "duration": 189,
    "start_time": "2022-03-16T07:48:22.587Z"
   },
   {
    "duration": 171,
    "start_time": "2022-03-16T07:48:33.392Z"
   },
   {
    "duration": 120,
    "start_time": "2022-03-16T07:48:41.208Z"
   },
   {
    "duration": 227,
    "start_time": "2022-03-16T07:48:50.881Z"
   },
   {
    "duration": 233,
    "start_time": "2022-03-16T07:49:10.012Z"
   },
   {
    "duration": 109,
    "start_time": "2022-03-16T07:49:58.594Z"
   },
   {
    "duration": 8,
    "start_time": "2022-03-16T07:50:07.876Z"
   },
   {
    "duration": 9,
    "start_time": "2022-03-16T07:50:16.404Z"
   },
   {
    "duration": 8,
    "start_time": "2022-03-16T07:50:41.392Z"
   },
   {
    "duration": 101,
    "start_time": "2022-03-16T07:51:47.680Z"
   },
   {
    "duration": 107,
    "start_time": "2022-03-16T07:52:03.225Z"
   },
   {
    "duration": 7,
    "start_time": "2022-03-16T07:53:36.213Z"
   },
   {
    "duration": 8,
    "start_time": "2022-03-16T07:53:39.101Z"
   },
   {
    "duration": 8,
    "start_time": "2022-03-16T07:54:05.016Z"
   },
   {
    "duration": 24,
    "start_time": "2022-03-16T07:55:36.395Z"
   },
   {
    "duration": 606,
    "start_time": "2022-03-16T07:56:26.948Z"
   },
   {
    "duration": 54,
    "start_time": "2022-03-16T07:56:27.556Z"
   },
   {
    "duration": 10,
    "start_time": "2022-03-16T07:56:27.612Z"
   },
   {
    "duration": 4,
    "start_time": "2022-03-16T07:56:27.625Z"
   },
   {
    "duration": 9,
    "start_time": "2022-03-16T07:56:27.630Z"
   },
   {
    "duration": 19,
    "start_time": "2022-03-16T07:56:27.640Z"
   },
   {
    "duration": 6,
    "start_time": "2022-03-16T07:56:27.661Z"
   },
   {
    "duration": 4,
    "start_time": "2022-03-16T07:56:27.669Z"
   },
   {
    "duration": 4,
    "start_time": "2022-03-16T07:56:27.676Z"
   },
   {
    "duration": 7,
    "start_time": "2022-03-16T07:56:27.683Z"
   },
   {
    "duration": 12,
    "start_time": "2022-03-16T07:56:27.691Z"
   },
   {
    "duration": 11,
    "start_time": "2022-03-16T07:56:27.705Z"
   },
   {
    "duration": 50,
    "start_time": "2022-03-16T07:56:27.718Z"
   },
   {
    "duration": 9,
    "start_time": "2022-03-16T07:56:27.770Z"
   },
   {
    "duration": 7,
    "start_time": "2022-03-16T07:56:27.781Z"
   },
   {
    "duration": 6,
    "start_time": "2022-03-16T07:56:27.789Z"
   },
   {
    "duration": 9,
    "start_time": "2022-03-16T07:56:27.797Z"
   },
   {
    "duration": 7,
    "start_time": "2022-03-16T07:56:27.808Z"
   },
   {
    "duration": 42,
    "start_time": "2022-03-16T07:56:27.817Z"
   },
   {
    "duration": 9,
    "start_time": "2022-03-16T07:56:27.861Z"
   },
   {
    "duration": 17,
    "start_time": "2022-03-16T07:56:27.871Z"
   },
   {
    "duration": 14,
    "start_time": "2022-03-16T07:56:27.890Z"
   },
   {
    "duration": 10,
    "start_time": "2022-03-16T07:56:27.905Z"
   },
   {
    "duration": 44,
    "start_time": "2022-03-16T07:56:27.917Z"
   },
   {
    "duration": 10,
    "start_time": "2022-03-16T07:56:27.962Z"
   },
   {
    "duration": 7,
    "start_time": "2022-03-16T07:56:27.973Z"
   },
   {
    "duration": 9,
    "start_time": "2022-03-16T07:56:27.983Z"
   },
   {
    "duration": 9,
    "start_time": "2022-03-16T07:56:27.994Z"
   },
   {
    "duration": 57,
    "start_time": "2022-03-16T07:56:28.005Z"
   },
   {
    "duration": 7,
    "start_time": "2022-03-16T08:05:02.362Z"
   },
   {
    "duration": 15,
    "start_time": "2022-03-16T08:05:23.516Z"
   },
   {
    "duration": 16,
    "start_time": "2022-03-16T08:05:45.435Z"
   },
   {
    "duration": 2802,
    "start_time": "2022-03-16T08:09:18.593Z"
   },
   {
    "duration": 7,
    "start_time": "2022-03-16T08:09:26.234Z"
   },
   {
    "duration": 7,
    "start_time": "2022-03-16T08:09:31.155Z"
   },
   {
    "duration": 14,
    "start_time": "2022-03-16T08:10:00.555Z"
   },
   {
    "duration": 16,
    "start_time": "2022-03-16T08:10:19.185Z"
   },
   {
    "duration": 14,
    "start_time": "2022-03-16T08:10:41.348Z"
   },
   {
    "duration": 36,
    "start_time": "2022-03-16T08:11:22.032Z"
   },
   {
    "duration": 32,
    "start_time": "2022-03-16T08:11:44.620Z"
   },
   {
    "duration": 35,
    "start_time": "2022-03-16T08:12:03.120Z"
   },
   {
    "duration": 13,
    "start_time": "2022-03-16T08:12:51.124Z"
   },
   {
    "duration": 14,
    "start_time": "2022-03-16T08:13:15.143Z"
   },
   {
    "duration": 209,
    "start_time": "2022-03-16T11:35:26.872Z"
   },
   {
    "duration": 278,
    "start_time": "2022-03-16T11:39:16.732Z"
   },
   {
    "duration": 6293,
    "start_time": "2022-03-16T11:44:02.148Z"
   },
   {
    "duration": 13,
    "start_time": "2022-03-16T11:44:18.259Z"
   },
   {
    "duration": 11,
    "start_time": "2022-03-16T11:44:46.278Z"
   },
   {
    "duration": 8,
    "start_time": "2022-03-16T11:44:50.895Z"
   },
   {
    "duration": 582,
    "start_time": "2022-03-16T11:44:54.637Z"
   },
   {
    "duration": 48,
    "start_time": "2022-03-16T11:44:55.221Z"
   },
   {
    "duration": 12,
    "start_time": "2022-03-16T11:44:55.271Z"
   },
   {
    "duration": 3,
    "start_time": "2022-03-16T11:44:55.285Z"
   },
   {
    "duration": 8,
    "start_time": "2022-03-16T11:44:55.290Z"
   },
   {
    "duration": 4,
    "start_time": "2022-03-16T11:44:55.300Z"
   },
   {
    "duration": 6,
    "start_time": "2022-03-16T11:44:55.305Z"
   },
   {
    "duration": 6,
    "start_time": "2022-03-16T11:44:55.312Z"
   },
   {
    "duration": 41,
    "start_time": "2022-03-16T11:44:55.321Z"
   },
   {
    "duration": 5,
    "start_time": "2022-03-16T11:44:55.364Z"
   },
   {
    "duration": 9,
    "start_time": "2022-03-16T11:44:55.371Z"
   },
   {
    "duration": 11,
    "start_time": "2022-03-16T11:44:55.382Z"
   },
   {
    "duration": 16,
    "start_time": "2022-03-16T11:44:55.395Z"
   },
   {
    "duration": 51,
    "start_time": "2022-03-16T11:44:55.412Z"
   },
   {
    "duration": 8,
    "start_time": "2022-03-16T11:44:55.464Z"
   },
   {
    "duration": 6,
    "start_time": "2022-03-16T11:44:55.473Z"
   },
   {
    "duration": 9,
    "start_time": "2022-03-16T11:44:55.481Z"
   },
   {
    "duration": 9,
    "start_time": "2022-03-16T11:44:55.491Z"
   },
   {
    "duration": 9,
    "start_time": "2022-03-16T11:44:55.501Z"
   },
   {
    "duration": 51,
    "start_time": "2022-03-16T11:44:55.512Z"
   },
   {
    "duration": 17,
    "start_time": "2022-03-16T11:44:55.565Z"
   },
   {
    "duration": 17,
    "start_time": "2022-03-16T11:44:55.584Z"
   },
   {
    "duration": 12,
    "start_time": "2022-03-16T11:44:55.602Z"
   },
   {
    "duration": 8,
    "start_time": "2022-03-16T11:44:55.616Z"
   },
   {
    "duration": 10,
    "start_time": "2022-03-16T11:44:55.659Z"
   },
   {
    "duration": 9,
    "start_time": "2022-03-16T11:44:55.671Z"
   },
   {
    "duration": 19,
    "start_time": "2022-03-16T11:44:55.684Z"
   },
   {
    "duration": 12,
    "start_time": "2022-03-16T11:44:55.705Z"
   },
   {
    "duration": 17,
    "start_time": "2022-03-16T11:44:55.760Z"
   },
   {
    "duration": 7,
    "start_time": "2022-03-16T11:44:55.779Z"
   },
   {
    "duration": 17,
    "start_time": "2022-03-16T11:44:55.787Z"
   },
   {
    "duration": 6255,
    "start_time": "2022-03-16T11:44:55.806Z"
   },
   {
    "duration": 6165,
    "start_time": "2022-03-16T11:45:29.670Z"
   },
   {
    "duration": 260,
    "start_time": "2022-03-16T11:47:51.415Z"
   },
   {
    "duration": 169,
    "start_time": "2022-03-16T11:52:48.349Z"
   },
   {
    "duration": 212,
    "start_time": "2022-03-16T11:53:01.151Z"
   },
   {
    "duration": 4,
    "start_time": "2022-03-16T11:53:05.487Z"
   },
   {
    "duration": 110,
    "start_time": "2022-03-16T11:53:21.233Z"
   },
   {
    "duration": 5,
    "start_time": "2022-03-16T11:53:28.682Z"
   },
   {
    "duration": 14,
    "start_time": "2022-03-16T11:53:45.716Z"
   },
   {
    "duration": 16,
    "start_time": "2022-03-16T11:53:56.502Z"
   },
   {
    "duration": 98,
    "start_time": "2022-03-16T11:58:36.665Z"
   },
   {
    "duration": 146,
    "start_time": "2022-03-16T12:02:57.634Z"
   },
   {
    "duration": 19,
    "start_time": "2022-03-16T12:04:15.747Z"
   },
   {
    "duration": 19,
    "start_time": "2022-03-16T12:04:22.028Z"
   },
   {
    "duration": 4,
    "start_time": "2022-03-16T12:05:02.434Z"
   },
   {
    "duration": 2529,
    "start_time": "2022-03-16T12:05:22.220Z"
   },
   {
    "duration": 3454,
    "start_time": "2022-03-16T12:05:27.061Z"
   },
   {
    "duration": 19,
    "start_time": "2022-03-16T12:05:34.862Z"
   },
   {
    "duration": 5,
    "start_time": "2022-03-16T12:05:46.246Z"
   },
   {
    "duration": 20,
    "start_time": "2022-03-16T12:06:09.474Z"
   },
   {
    "duration": 20,
    "start_time": "2022-03-16T12:07:57.672Z"
   },
   {
    "duration": 23,
    "start_time": "2022-03-16T12:08:52.783Z"
   },
   {
    "duration": 588,
    "start_time": "2022-03-16T12:23:06.220Z"
   },
   {
    "duration": 49,
    "start_time": "2022-03-16T12:23:06.810Z"
   },
   {
    "duration": 12,
    "start_time": "2022-03-16T12:23:06.864Z"
   },
   {
    "duration": 3,
    "start_time": "2022-03-16T12:23:06.878Z"
   },
   {
    "duration": 7,
    "start_time": "2022-03-16T12:23:06.883Z"
   },
   {
    "duration": 5,
    "start_time": "2022-03-16T12:23:06.892Z"
   },
   {
    "duration": 6,
    "start_time": "2022-03-16T12:23:06.899Z"
   },
   {
    "duration": 3,
    "start_time": "2022-03-16T12:23:06.909Z"
   },
   {
    "duration": 4,
    "start_time": "2022-03-16T12:23:06.959Z"
   },
   {
    "duration": 12,
    "start_time": "2022-03-16T12:23:06.965Z"
   },
   {
    "duration": 14,
    "start_time": "2022-03-16T12:23:06.978Z"
   },
   {
    "duration": 12,
    "start_time": "2022-03-16T12:23:06.994Z"
   },
   {
    "duration": 18,
    "start_time": "2022-03-16T12:23:07.008Z"
   },
   {
    "duration": 10,
    "start_time": "2022-03-16T12:23:07.059Z"
   },
   {
    "duration": 8,
    "start_time": "2022-03-16T12:23:07.071Z"
   },
   {
    "duration": 4,
    "start_time": "2022-03-16T12:23:07.081Z"
   },
   {
    "duration": 9,
    "start_time": "2022-03-16T12:23:07.087Z"
   },
   {
    "duration": 9,
    "start_time": "2022-03-16T12:23:07.098Z"
   },
   {
    "duration": 9,
    "start_time": "2022-03-16T12:23:07.108Z"
   },
   {
    "duration": 46,
    "start_time": "2022-03-16T12:23:07.119Z"
   },
   {
    "duration": 18,
    "start_time": "2022-03-16T12:23:07.168Z"
   },
   {
    "duration": 18,
    "start_time": "2022-03-16T12:23:07.188Z"
   },
   {
    "duration": 11,
    "start_time": "2022-03-16T12:23:07.208Z"
   },
   {
    "duration": 39,
    "start_time": "2022-03-16T12:23:07.221Z"
   },
   {
    "duration": 11,
    "start_time": "2022-03-16T12:23:07.262Z"
   },
   {
    "duration": 8,
    "start_time": "2022-03-16T12:23:07.276Z"
   },
   {
    "duration": 17,
    "start_time": "2022-03-16T12:23:07.287Z"
   },
   {
    "duration": 11,
    "start_time": "2022-03-16T12:23:07.306Z"
   },
   {
    "duration": 52,
    "start_time": "2022-03-16T12:23:07.319Z"
   },
   {
    "duration": 6,
    "start_time": "2022-03-16T12:23:07.372Z"
   },
   {
    "duration": 15,
    "start_time": "2022-03-16T12:23:07.380Z"
   },
   {
    "duration": 19,
    "start_time": "2022-03-16T12:23:07.397Z"
   },
   {
    "duration": 14,
    "start_time": "2022-03-16T12:27:29.364Z"
   },
   {
    "duration": 19,
    "start_time": "2022-03-16T12:28:14.715Z"
   },
   {
    "duration": 546,
    "start_time": "2022-03-16T12:28:23.011Z"
   },
   {
    "duration": 68,
    "start_time": "2022-03-16T12:28:23.560Z"
   },
   {
    "duration": 26,
    "start_time": "2022-03-16T12:28:23.633Z"
   },
   {
    "duration": 5,
    "start_time": "2022-03-16T12:28:23.662Z"
   },
   {
    "duration": 10,
    "start_time": "2022-03-16T12:28:23.670Z"
   },
   {
    "duration": 8,
    "start_time": "2022-03-16T12:28:23.683Z"
   },
   {
    "duration": 7,
    "start_time": "2022-03-16T12:28:23.693Z"
   },
   {
    "duration": 5,
    "start_time": "2022-03-16T12:28:23.703Z"
   },
   {
    "duration": 7,
    "start_time": "2022-03-16T12:28:23.710Z"
   },
   {
    "duration": 8,
    "start_time": "2022-03-16T12:28:23.759Z"
   },
   {
    "duration": 15,
    "start_time": "2022-03-16T12:28:23.770Z"
   },
   {
    "duration": 18,
    "start_time": "2022-03-16T12:28:23.787Z"
   },
   {
    "duration": 17,
    "start_time": "2022-03-16T12:28:23.807Z"
   },
   {
    "duration": 39,
    "start_time": "2022-03-16T12:28:23.826Z"
   },
   {
    "duration": 12,
    "start_time": "2022-03-16T12:28:23.868Z"
   },
   {
    "duration": 4,
    "start_time": "2022-03-16T12:28:23.882Z"
   },
   {
    "duration": 10,
    "start_time": "2022-03-16T12:28:23.888Z"
   },
   {
    "duration": 8,
    "start_time": "2022-03-16T12:28:23.899Z"
   },
   {
    "duration": 9,
    "start_time": "2022-03-16T12:28:23.909Z"
   },
   {
    "duration": 50,
    "start_time": "2022-03-16T12:28:23.920Z"
   },
   {
    "duration": 20,
    "start_time": "2022-03-16T12:28:23.973Z"
   },
   {
    "duration": 14,
    "start_time": "2022-03-16T12:28:23.995Z"
   },
   {
    "duration": 9,
    "start_time": "2022-03-16T12:28:24.012Z"
   },
   {
    "duration": 40,
    "start_time": "2022-03-16T12:28:24.023Z"
   },
   {
    "duration": 15,
    "start_time": "2022-03-16T12:28:24.066Z"
   },
   {
    "duration": 8,
    "start_time": "2022-03-16T12:28:24.082Z"
   },
   {
    "duration": 24,
    "start_time": "2022-03-16T12:28:24.092Z"
   },
   {
    "duration": 45,
    "start_time": "2022-03-16T12:28:24.118Z"
   },
   {
    "duration": 20,
    "start_time": "2022-03-16T12:28:24.165Z"
   },
   {
    "duration": 6,
    "start_time": "2022-03-16T12:28:24.188Z"
   },
   {
    "duration": 17,
    "start_time": "2022-03-16T12:28:24.195Z"
   },
   {
    "duration": 48,
    "start_time": "2022-03-16T12:28:24.214Z"
   },
   {
    "duration": 8,
    "start_time": "2022-03-16T12:28:24.265Z"
   },
   {
    "duration": 19,
    "start_time": "2022-03-16T12:28:41.624Z"
   },
   {
    "duration": 5,
    "start_time": "2022-03-16T12:29:11.428Z"
   },
   {
    "duration": 14,
    "start_time": "2022-03-16T12:29:24.806Z"
   },
   {
    "duration": 17,
    "start_time": "2022-03-16T12:30:40.520Z"
   },
   {
    "duration": 14,
    "start_time": "2022-03-16T12:30:49.624Z"
   },
   {
    "duration": 50,
    "start_time": "2022-03-16T12:36:42.766Z"
   },
   {
    "duration": 36,
    "start_time": "2022-03-16T12:36:46.574Z"
   },
   {
    "duration": 7,
    "start_time": "2022-03-16T12:36:49.062Z"
   },
   {
    "duration": 9,
    "start_time": "2022-03-16T12:38:59.559Z"
   },
   {
    "duration": 9,
    "start_time": "2022-03-16T12:39:32.586Z"
   },
   {
    "duration": 629,
    "start_time": "2022-03-16T12:40:51.964Z"
   },
   {
    "duration": 49,
    "start_time": "2022-03-16T12:40:52.595Z"
   },
   {
    "duration": 13,
    "start_time": "2022-03-16T12:40:52.647Z"
   },
   {
    "duration": 4,
    "start_time": "2022-03-16T12:40:52.663Z"
   },
   {
    "duration": 9,
    "start_time": "2022-03-16T12:40:52.670Z"
   },
   {
    "duration": 5,
    "start_time": "2022-03-16T12:40:52.681Z"
   },
   {
    "duration": 5,
    "start_time": "2022-03-16T12:40:52.689Z"
   },
   {
    "duration": 7,
    "start_time": "2022-03-16T12:40:52.696Z"
   },
   {
    "duration": 54,
    "start_time": "2022-03-16T12:40:52.706Z"
   },
   {
    "duration": 12,
    "start_time": "2022-03-16T12:40:52.763Z"
   },
   {
    "duration": 12,
    "start_time": "2022-03-16T12:40:52.777Z"
   },
   {
    "duration": 19,
    "start_time": "2022-03-16T12:40:52.792Z"
   },
   {
    "duration": 56,
    "start_time": "2022-03-16T12:40:52.812Z"
   },
   {
    "duration": 12,
    "start_time": "2022-03-16T12:40:52.871Z"
   },
   {
    "duration": 7,
    "start_time": "2022-03-16T12:40:52.885Z"
   },
   {
    "duration": 12,
    "start_time": "2022-03-16T12:40:52.894Z"
   },
   {
    "duration": 6,
    "start_time": "2022-03-16T12:40:52.908Z"
   },
   {
    "duration": 50,
    "start_time": "2022-03-16T12:40:52.916Z"
   },
   {
    "duration": 13,
    "start_time": "2022-03-16T12:40:52.969Z"
   },
   {
    "duration": 12,
    "start_time": "2022-03-16T12:40:52.984Z"
   },
   {
    "duration": 13,
    "start_time": "2022-03-16T12:40:52.999Z"
   },
   {
    "duration": 58,
    "start_time": "2022-03-16T12:40:53.015Z"
   },
   {
    "duration": 18,
    "start_time": "2022-03-16T12:40:53.076Z"
   },
   {
    "duration": 10,
    "start_time": "2022-03-16T12:40:53.096Z"
   },
   {
    "duration": 7,
    "start_time": "2022-03-16T12:40:53.107Z"
   },
   {
    "duration": 8,
    "start_time": "2022-03-16T12:40:53.115Z"
   },
   {
    "duration": 12,
    "start_time": "2022-03-16T12:40:53.161Z"
   },
   {
    "duration": 19,
    "start_time": "2022-03-16T12:40:53.176Z"
   },
   {
    "duration": 10,
    "start_time": "2022-03-16T12:40:53.197Z"
   },
   {
    "duration": 52,
    "start_time": "2022-03-16T12:40:53.208Z"
   },
   {
    "duration": 9,
    "start_time": "2022-03-16T12:40:53.262Z"
   },
   {
    "duration": 23,
    "start_time": "2022-03-16T12:40:53.273Z"
   },
   {
    "duration": 22,
    "start_time": "2022-03-16T12:40:53.298Z"
   },
   {
    "duration": 42,
    "start_time": "2022-03-16T12:40:53.322Z"
   },
   {
    "duration": 6,
    "start_time": "2022-03-16T12:41:14.983Z"
   },
   {
    "duration": 5,
    "start_time": "2022-03-16T12:43:44.042Z"
   },
   {
    "duration": 617,
    "start_time": "2022-03-16T12:44:00.682Z"
   },
   {
    "duration": 54,
    "start_time": "2022-03-16T12:44:01.301Z"
   },
   {
    "duration": 20,
    "start_time": "2022-03-16T12:44:01.358Z"
   },
   {
    "duration": 48,
    "start_time": "2022-03-16T12:44:01.381Z"
   },
   {
    "duration": 26,
    "start_time": "2022-03-16T12:44:01.431Z"
   },
   {
    "duration": 40,
    "start_time": "2022-03-16T12:44:01.460Z"
   },
   {
    "duration": 35,
    "start_time": "2022-03-16T12:44:01.502Z"
   },
   {
    "duration": 79,
    "start_time": "2022-03-16T12:44:01.540Z"
   },
   {
    "duration": 49,
    "start_time": "2022-03-16T12:44:01.623Z"
   },
   {
    "duration": 29,
    "start_time": "2022-03-16T12:44:01.676Z"
   },
   {
    "duration": 25,
    "start_time": "2022-03-16T12:44:01.707Z"
   },
   {
    "duration": 50,
    "start_time": "2022-03-16T12:44:01.734Z"
   },
   {
    "duration": 52,
    "start_time": "2022-03-16T12:44:01.786Z"
   },
   {
    "duration": 32,
    "start_time": "2022-03-16T12:44:01.839Z"
   },
   {
    "duration": 42,
    "start_time": "2022-03-16T12:44:01.874Z"
   },
   {
    "duration": 16,
    "start_time": "2022-03-16T12:44:01.918Z"
   },
   {
    "duration": 28,
    "start_time": "2022-03-16T12:44:01.936Z"
   },
   {
    "duration": 44,
    "start_time": "2022-03-16T12:44:01.967Z"
   },
   {
    "duration": 28,
    "start_time": "2022-03-16T12:44:02.013Z"
   },
   {
    "duration": 46,
    "start_time": "2022-03-16T12:44:02.043Z"
   },
   {
    "duration": 39,
    "start_time": "2022-03-16T12:44:02.091Z"
   },
   {
    "duration": 22,
    "start_time": "2022-03-16T12:44:02.132Z"
   },
   {
    "duration": 28,
    "start_time": "2022-03-16T12:44:02.156Z"
   },
   {
    "duration": 17,
    "start_time": "2022-03-16T12:44:02.186Z"
   },
   {
    "duration": 16,
    "start_time": "2022-03-16T12:44:02.205Z"
   },
   {
    "duration": 10,
    "start_time": "2022-03-16T12:44:02.223Z"
   },
   {
    "duration": 8,
    "start_time": "2022-03-16T12:44:02.236Z"
   },
   {
    "duration": 20,
    "start_time": "2022-03-16T12:44:02.246Z"
   },
   {
    "duration": 13,
    "start_time": "2022-03-16T12:44:02.269Z"
   },
   {
    "duration": 19,
    "start_time": "2022-03-16T12:44:02.284Z"
   },
   {
    "duration": 11,
    "start_time": "2022-03-16T12:44:02.304Z"
   },
   {
    "duration": 58,
    "start_time": "2022-03-16T12:44:02.317Z"
   },
   {
    "duration": 22,
    "start_time": "2022-03-16T12:44:02.378Z"
   },
   {
    "duration": 29,
    "start_time": "2022-03-16T12:44:02.402Z"
   },
   {
    "duration": 27,
    "start_time": "2022-03-16T12:44:02.433Z"
   },
   {
    "duration": 8,
    "start_time": "2022-03-16T12:44:02.462Z"
   },
   {
    "duration": 613,
    "start_time": "2022-03-16T12:44:58.441Z"
   },
   {
    "duration": 57,
    "start_time": "2022-03-16T12:44:59.056Z"
   },
   {
    "duration": 11,
    "start_time": "2022-03-16T12:44:59.115Z"
   },
   {
    "duration": 3,
    "start_time": "2022-03-16T12:44:59.128Z"
   },
   {
    "duration": 30,
    "start_time": "2022-03-16T12:44:59.132Z"
   },
   {
    "duration": 6,
    "start_time": "2022-03-16T12:44:59.164Z"
   },
   {
    "duration": 6,
    "start_time": "2022-03-16T12:44:59.174Z"
   },
   {
    "duration": 4,
    "start_time": "2022-03-16T12:44:59.183Z"
   },
   {
    "duration": 7,
    "start_time": "2022-03-16T12:44:59.189Z"
   },
   {
    "duration": 5,
    "start_time": "2022-03-16T12:44:59.198Z"
   },
   {
    "duration": 10,
    "start_time": "2022-03-16T12:44:59.204Z"
   },
   {
    "duration": 63,
    "start_time": "2022-03-16T12:44:59.215Z"
   },
   {
    "duration": 16,
    "start_time": "2022-03-16T12:44:59.280Z"
   },
   {
    "duration": 10,
    "start_time": "2022-03-16T12:44:59.298Z"
   },
   {
    "duration": 5,
    "start_time": "2022-03-16T12:44:59.310Z"
   },
   {
    "duration": 6,
    "start_time": "2022-03-16T12:44:59.317Z"
   },
   {
    "duration": 37,
    "start_time": "2022-03-16T12:44:59.324Z"
   },
   {
    "duration": 15,
    "start_time": "2022-03-16T12:44:59.364Z"
   },
   {
    "duration": 5,
    "start_time": "2022-03-16T12:44:59.381Z"
   },
   {
    "duration": 13,
    "start_time": "2022-03-16T12:44:59.387Z"
   },
   {
    "duration": 8,
    "start_time": "2022-03-16T12:44:59.402Z"
   },
   {
    "duration": 51,
    "start_time": "2022-03-16T12:44:59.412Z"
   },
   {
    "duration": 13,
    "start_time": "2022-03-16T12:44:59.468Z"
   },
   {
    "duration": 17,
    "start_time": "2022-03-16T12:44:59.484Z"
   },
   {
    "duration": 14,
    "start_time": "2022-03-16T12:44:59.503Z"
   },
   {
    "duration": 45,
    "start_time": "2022-03-16T12:44:59.519Z"
   },
   {
    "duration": 11,
    "start_time": "2022-03-16T12:44:59.567Z"
   },
   {
    "duration": 10,
    "start_time": "2022-03-16T12:44:59.580Z"
   },
   {
    "duration": 8,
    "start_time": "2022-03-16T12:44:59.592Z"
   },
   {
    "duration": 20,
    "start_time": "2022-03-16T12:44:59.602Z"
   },
   {
    "duration": 19,
    "start_time": "2022-03-16T12:44:59.659Z"
   },
   {
    "duration": 17,
    "start_time": "2022-03-16T12:44:59.679Z"
   },
   {
    "duration": 6,
    "start_time": "2022-03-16T12:44:59.698Z"
   },
   {
    "duration": 53,
    "start_time": "2022-03-16T12:44:59.706Z"
   },
   {
    "duration": 25,
    "start_time": "2022-03-16T12:44:59.766Z"
   },
   {
    "duration": 5,
    "start_time": "2022-03-16T12:44:59.793Z"
   },
   {
    "duration": 6,
    "start_time": "2022-03-16T12:46:23.439Z"
   },
   {
    "duration": 95,
    "start_time": "2022-03-16T12:53:31.758Z"
   },
   {
    "duration": 271,
    "start_time": "2022-03-16T12:53:40.007Z"
   },
   {
    "duration": 113,
    "start_time": "2022-03-16T12:53:54.761Z"
   },
   {
    "duration": 122,
    "start_time": "2022-03-16T12:54:05.570Z"
   },
   {
    "duration": 136,
    "start_time": "2022-03-16T12:54:17.811Z"
   },
   {
    "duration": 108,
    "start_time": "2022-03-16T12:55:44.191Z"
   },
   {
    "duration": 6,
    "start_time": "2022-03-16T12:57:02.977Z"
   },
   {
    "duration": 6,
    "start_time": "2022-03-16T12:57:05.609Z"
   },
   {
    "duration": 6,
    "start_time": "2022-03-16T12:57:16.650Z"
   },
   {
    "duration": 133,
    "start_time": "2022-03-16T12:59:24.034Z"
   },
   {
    "duration": 109,
    "start_time": "2022-03-16T12:59:40.646Z"
   },
   {
    "duration": 114,
    "start_time": "2022-03-16T12:59:54.214Z"
   },
   {
    "duration": 138,
    "start_time": "2022-03-16T13:00:04.679Z"
   },
   {
    "duration": 100,
    "start_time": "2022-03-16T13:01:25.131Z"
   },
   {
    "duration": 7,
    "start_time": "2022-03-16T13:01:29.114Z"
   },
   {
    "duration": 7,
    "start_time": "2022-03-16T13:01:39.715Z"
   },
   {
    "duration": 5,
    "start_time": "2022-03-16T13:02:42.387Z"
   },
   {
    "duration": 8,
    "start_time": "2022-03-16T13:02:52.108Z"
   },
   {
    "duration": 6,
    "start_time": "2022-03-16T13:02:59.045Z"
   },
   {
    "duration": 7,
    "start_time": "2022-03-16T13:03:27.024Z"
   },
   {
    "duration": 9,
    "start_time": "2022-03-16T13:03:35.161Z"
   },
   {
    "duration": 10,
    "start_time": "2022-03-16T13:06:31.168Z"
   },
   {
    "duration": 7,
    "start_time": "2022-03-16T13:06:58.489Z"
   },
   {
    "duration": 6,
    "start_time": "2022-03-16T13:10:20.195Z"
   },
   {
    "duration": 8,
    "start_time": "2022-03-16T13:10:26.900Z"
   },
   {
    "duration": 6,
    "start_time": "2022-03-16T13:10:35.975Z"
   },
   {
    "duration": 7,
    "start_time": "2022-03-16T13:11:18.626Z"
   },
   {
    "duration": 8,
    "start_time": "2022-03-16T13:14:27.137Z"
   },
   {
    "duration": 8,
    "start_time": "2022-03-16T13:14:59.734Z"
   },
   {
    "duration": 10,
    "start_time": "2022-03-16T13:15:12.958Z"
   },
   {
    "duration": 118,
    "start_time": "2022-03-16T13:18:01.484Z"
   },
   {
    "duration": 9,
    "start_time": "2022-03-16T13:18:08.572Z"
   },
   {
    "duration": 4,
    "start_time": "2022-03-16T13:18:10.477Z"
   },
   {
    "duration": 7,
    "start_time": "2022-03-16T13:21:46.496Z"
   },
   {
    "duration": 7,
    "start_time": "2022-03-16T13:23:21.772Z"
   },
   {
    "duration": 3,
    "start_time": "2022-03-16T13:26:38.413Z"
   },
   {
    "duration": 10,
    "start_time": "2022-03-16T13:26:52.766Z"
   },
   {
    "duration": 9,
    "start_time": "2022-03-16T13:27:36.694Z"
   },
   {
    "duration": 10,
    "start_time": "2022-03-16T13:27:48.526Z"
   },
   {
    "duration": 14,
    "start_time": "2022-03-16T13:28:40.412Z"
   },
   {
    "duration": 42,
    "start_time": "2022-03-16T13:28:46.846Z"
   },
   {
    "duration": 10,
    "start_time": "2022-03-16T13:29:04.159Z"
   },
   {
    "duration": 10,
    "start_time": "2022-03-16T13:29:20.417Z"
   },
   {
    "duration": 73,
    "start_time": "2022-03-16T13:29:28.154Z"
   },
   {
    "duration": 9,
    "start_time": "2022-03-16T13:29:42.036Z"
   },
   {
    "duration": 12,
    "start_time": "2022-03-16T13:30:54.222Z"
   },
   {
    "duration": 81,
    "start_time": "2022-03-16T13:31:37.514Z"
   },
   {
    "duration": 8,
    "start_time": "2022-03-16T13:31:43.707Z"
   },
   {
    "duration": 13,
    "start_time": "2022-03-16T13:32:01.406Z"
   },
   {
    "duration": 13,
    "start_time": "2022-03-16T13:32:13.439Z"
   },
   {
    "duration": 2575,
    "start_time": "2022-03-16T13:33:23.608Z"
   },
   {
    "duration": 5,
    "start_time": "2022-03-16T13:33:47.322Z"
   },
   {
    "duration": 3321,
    "start_time": "2022-03-16T13:34:24.055Z"
   },
   {
    "duration": 3253,
    "start_time": "2022-03-16T13:35:28.721Z"
   },
   {
    "duration": 28,
    "start_time": "2022-03-16T13:36:08.388Z"
   },
   {
    "duration": 2821,
    "start_time": "2022-03-16T13:36:19.542Z"
   },
   {
    "duration": 2577,
    "start_time": "2022-03-16T13:36:39.096Z"
   },
   {
    "duration": 3040,
    "start_time": "2022-03-16T13:36:50.810Z"
   },
   {
    "duration": 14,
    "start_time": "2022-03-16T13:37:07.796Z"
   },
   {
    "duration": 175,
    "start_time": "2022-03-16T13:37:39.552Z"
   },
   {
    "duration": 106,
    "start_time": "2022-03-16T13:37:43.432Z"
   },
   {
    "duration": 13,
    "start_time": "2022-03-16T13:38:14.612Z"
   },
   {
    "duration": 188,
    "start_time": "2022-03-16T13:41:28.259Z"
   },
   {
    "duration": 214,
    "start_time": "2022-03-16T13:41:59.783Z"
   },
   {
    "duration": 9,
    "start_time": "2022-03-16T13:42:14.385Z"
   },
   {
    "duration": 189,
    "start_time": "2022-03-16T13:42:52.518Z"
   },
   {
    "duration": 186,
    "start_time": "2022-03-16T13:43:01.911Z"
   },
   {
    "duration": 235,
    "start_time": "2022-03-16T13:44:37.442Z"
   },
   {
    "duration": 15,
    "start_time": "2022-03-16T13:45:06.970Z"
   },
   {
    "duration": 4,
    "start_time": "2022-03-16T13:45:40.451Z"
   },
   {
    "duration": 43,
    "start_time": "2022-03-16T13:45:54.092Z"
   },
   {
    "duration": 4,
    "start_time": "2022-03-16T13:45:56.043Z"
   },
   {
    "duration": 13,
    "start_time": "2022-03-16T13:46:27.223Z"
   },
   {
    "duration": 550,
    "start_time": "2022-03-16T13:46:55.609Z"
   },
   {
    "duration": 65,
    "start_time": "2022-03-16T13:46:56.160Z"
   },
   {
    "duration": 14,
    "start_time": "2022-03-16T13:46:56.227Z"
   },
   {
    "duration": 16,
    "start_time": "2022-03-16T13:46:56.244Z"
   },
   {
    "duration": 8,
    "start_time": "2022-03-16T13:46:56.262Z"
   },
   {
    "duration": 5,
    "start_time": "2022-03-16T13:46:56.272Z"
   },
   {
    "duration": 5,
    "start_time": "2022-03-16T13:46:56.279Z"
   },
   {
    "duration": 5,
    "start_time": "2022-03-16T13:46:56.286Z"
   },
   {
    "duration": 4,
    "start_time": "2022-03-16T13:46:56.294Z"
   },
   {
    "duration": 4,
    "start_time": "2022-03-16T13:46:56.301Z"
   },
   {
    "duration": 62,
    "start_time": "2022-03-16T13:46:56.307Z"
   },
   {
    "duration": 11,
    "start_time": "2022-03-16T13:46:56.371Z"
   },
   {
    "duration": 22,
    "start_time": "2022-03-16T13:46:56.384Z"
   },
   {
    "duration": 52,
    "start_time": "2022-03-16T13:46:56.408Z"
   },
   {
    "duration": 6,
    "start_time": "2022-03-16T13:46:56.462Z"
   },
   {
    "duration": 6,
    "start_time": "2022-03-16T13:46:56.470Z"
   },
   {
    "duration": 6,
    "start_time": "2022-03-16T13:46:56.478Z"
   },
   {
    "duration": 12,
    "start_time": "2022-03-16T13:46:56.486Z"
   },
   {
    "duration": 5,
    "start_time": "2022-03-16T13:46:56.500Z"
   },
   {
    "duration": 10,
    "start_time": "2022-03-16T13:46:56.507Z"
   },
   {
    "duration": 48,
    "start_time": "2022-03-16T13:46:56.519Z"
   },
   {
    "duration": 10,
    "start_time": "2022-03-16T13:46:56.569Z"
   },
   {
    "duration": 10,
    "start_time": "2022-03-16T13:46:56.581Z"
   },
   {
    "duration": 19,
    "start_time": "2022-03-16T13:46:56.593Z"
   },
   {
    "duration": 45,
    "start_time": "2022-03-16T13:46:56.614Z"
   },
   {
    "duration": 12,
    "start_time": "2022-03-16T13:46:56.661Z"
   },
   {
    "duration": 10,
    "start_time": "2022-03-16T13:46:56.677Z"
   },
   {
    "duration": 11,
    "start_time": "2022-03-16T13:46:56.690Z"
   },
   {
    "duration": 10,
    "start_time": "2022-03-16T13:46:56.703Z"
   },
   {
    "duration": 65,
    "start_time": "2022-03-16T13:46:56.715Z"
   },
   {
    "duration": 17,
    "start_time": "2022-03-16T13:46:56.782Z"
   },
   {
    "duration": 21,
    "start_time": "2022-03-16T13:46:56.801Z"
   },
   {
    "duration": 38,
    "start_time": "2022-03-16T13:46:56.824Z"
   },
   {
    "duration": 17,
    "start_time": "2022-03-16T13:46:56.864Z"
   },
   {
    "duration": 21,
    "start_time": "2022-03-16T13:46:56.883Z"
   },
   {
    "duration": 45,
    "start_time": "2022-03-16T13:46:56.906Z"
   },
   {
    "duration": 120,
    "start_time": "2022-03-16T13:46:56.834Z"
   },
   {
    "duration": 119,
    "start_time": "2022-03-16T13:46:56.836Z"
   },
   {
    "duration": 119,
    "start_time": "2022-03-16T13:46:56.837Z"
   },
   {
    "duration": 119,
    "start_time": "2022-03-16T13:46:56.839Z"
   },
   {
    "duration": 44,
    "start_time": "2022-03-16T13:47:12.779Z"
   },
   {
    "duration": 16,
    "start_time": "2022-03-16T13:47:42.015Z"
   },
   {
    "duration": 189,
    "start_time": "2022-03-16T13:47:44.680Z"
   },
   {
    "duration": 15,
    "start_time": "2022-03-16T13:48:47.616Z"
   },
   {
    "duration": 13,
    "start_time": "2022-03-16T13:50:01.737Z"
   },
   {
    "duration": 143,
    "start_time": "2022-03-16T13:51:38.732Z"
   },
   {
    "duration": 102,
    "start_time": "2022-03-16T13:53:25.538Z"
   },
   {
    "duration": 14,
    "start_time": "2022-03-16T13:53:30.547Z"
   },
   {
    "duration": 103,
    "start_time": "2022-03-16T13:53:49.292Z"
   },
   {
    "duration": 15,
    "start_time": "2022-03-16T13:54:15.704Z"
   },
   {
    "duration": 35,
    "start_time": "2022-03-16T13:56:28.433Z"
   },
   {
    "duration": 104,
    "start_time": "2022-03-16T13:56:37.394Z"
   },
   {
    "duration": 108,
    "start_time": "2022-03-16T13:56:52.132Z"
   },
   {
    "duration": 36,
    "start_time": "2022-03-16T13:59:02.524Z"
   },
   {
    "duration": 15,
    "start_time": "2022-03-16T14:01:00.739Z"
   },
   {
    "duration": 450,
    "start_time": "2022-03-16T14:01:30.022Z"
   },
   {
    "duration": 17,
    "start_time": "2022-03-16T14:02:02.747Z"
   },
   {
    "duration": 18,
    "start_time": "2022-03-16T14:02:56.282Z"
   },
   {
    "duration": 13,
    "start_time": "2022-03-16T14:03:21.797Z"
   },
   {
    "duration": 15,
    "start_time": "2022-03-16T14:03:29.878Z"
   },
   {
    "duration": 174,
    "start_time": "2022-03-16T14:07:27.267Z"
   },
   {
    "duration": 199,
    "start_time": "2022-03-16T14:09:33.284Z"
   },
   {
    "duration": 38,
    "start_time": "2022-03-16T14:09:56.510Z"
   },
   {
    "duration": 15,
    "start_time": "2022-03-16T14:10:03.686Z"
   },
   {
    "duration": 7,
    "start_time": "2022-03-16T14:10:51.267Z"
   },
   {
    "duration": 15,
    "start_time": "2022-03-16T14:14:45.189Z"
   },
   {
    "duration": 355,
    "start_time": "2022-03-16T14:17:39.248Z"
   },
   {
    "duration": 212,
    "start_time": "2022-03-16T14:17:53.282Z"
   },
   {
    "duration": 340,
    "start_time": "2022-03-16T14:18:00.051Z"
   },
   {
    "duration": 190,
    "start_time": "2022-03-16T14:19:01.299Z"
   },
   {
    "duration": 24,
    "start_time": "2022-03-16T14:19:27.366Z"
   },
   {
    "duration": 16,
    "start_time": "2022-03-16T14:20:24.741Z"
   },
   {
    "duration": 51,
    "start_time": "2022-03-16T14:21:17.490Z"
   },
   {
    "duration": 190,
    "start_time": "2022-03-16T14:32:25.075Z"
   },
   {
    "duration": 206,
    "start_time": "2022-03-16T14:32:51.238Z"
   },
   {
    "duration": 204,
    "start_time": "2022-03-16T14:33:08.344Z"
   },
   {
    "duration": 22,
    "start_time": "2022-03-16T14:33:58.383Z"
   },
   {
    "duration": 9,
    "start_time": "2022-03-16T14:34:04.606Z"
   },
   {
    "duration": 42,
    "start_time": "2022-03-16T14:35:18.600Z"
   },
   {
    "duration": 47,
    "start_time": "2022-03-16T14:35:28.666Z"
   },
   {
    "duration": 19,
    "start_time": "2022-03-16T14:35:36.771Z"
   },
   {
    "duration": 18,
    "start_time": "2022-03-16T14:37:55.083Z"
   },
   {
    "duration": 534,
    "start_time": "2022-03-16T14:38:34.600Z"
   },
   {
    "duration": 49,
    "start_time": "2022-03-16T14:38:35.137Z"
   },
   {
    "duration": 18,
    "start_time": "2022-03-16T14:38:35.190Z"
   },
   {
    "duration": 4,
    "start_time": "2022-03-16T14:38:35.210Z"
   },
   {
    "duration": 9,
    "start_time": "2022-03-16T14:38:35.216Z"
   },
   {
    "duration": 3,
    "start_time": "2022-03-16T14:38:35.227Z"
   },
   {
    "duration": 30,
    "start_time": "2022-03-16T14:38:35.233Z"
   },
   {
    "duration": 6,
    "start_time": "2022-03-16T14:38:35.265Z"
   },
   {
    "duration": 6,
    "start_time": "2022-03-16T14:38:35.272Z"
   },
   {
    "duration": 11,
    "start_time": "2022-03-16T14:38:35.279Z"
   },
   {
    "duration": 12,
    "start_time": "2022-03-16T14:38:35.292Z"
   },
   {
    "duration": 11,
    "start_time": "2022-03-16T14:38:35.306Z"
   },
   {
    "duration": 55,
    "start_time": "2022-03-16T14:38:35.319Z"
   },
   {
    "duration": 9,
    "start_time": "2022-03-16T14:38:35.376Z"
   },
   {
    "duration": 5,
    "start_time": "2022-03-16T14:38:35.387Z"
   },
   {
    "duration": 6,
    "start_time": "2022-03-16T14:38:35.394Z"
   },
   {
    "duration": 11,
    "start_time": "2022-03-16T14:38:35.402Z"
   },
   {
    "duration": 8,
    "start_time": "2022-03-16T14:38:35.415Z"
   },
   {
    "duration": 5,
    "start_time": "2022-03-16T14:38:35.460Z"
   },
   {
    "duration": 10,
    "start_time": "2022-03-16T14:38:35.467Z"
   },
   {
    "duration": 9,
    "start_time": "2022-03-16T14:38:35.478Z"
   },
   {
    "duration": 9,
    "start_time": "2022-03-16T14:38:35.490Z"
   },
   {
    "duration": 15,
    "start_time": "2022-03-16T14:38:35.501Z"
   },
   {
    "duration": 46,
    "start_time": "2022-03-16T14:38:35.518Z"
   },
   {
    "duration": 12,
    "start_time": "2022-03-16T14:38:35.566Z"
   },
   {
    "duration": 9,
    "start_time": "2022-03-16T14:38:35.580Z"
   },
   {
    "duration": 7,
    "start_time": "2022-03-16T14:38:35.590Z"
   },
   {
    "duration": 13,
    "start_time": "2022-03-16T14:38:35.599Z"
   },
   {
    "duration": 7,
    "start_time": "2022-03-16T14:38:35.614Z"
   },
   {
    "duration": 50,
    "start_time": "2022-03-16T14:38:35.623Z"
   },
   {
    "duration": 10,
    "start_time": "2022-03-16T14:38:35.675Z"
   },
   {
    "duration": 17,
    "start_time": "2022-03-16T14:38:35.686Z"
   },
   {
    "duration": 6,
    "start_time": "2022-03-16T14:38:35.705Z"
   },
   {
    "duration": 52,
    "start_time": "2022-03-16T14:38:35.712Z"
   },
   {
    "duration": 20,
    "start_time": "2022-03-16T14:38:35.766Z"
   },
   {
    "duration": 9,
    "start_time": "2022-03-16T14:38:35.788Z"
   },
   {
    "duration": 12,
    "start_time": "2022-03-16T14:38:35.800Z"
   },
   {
    "duration": 8,
    "start_time": "2022-03-16T14:38:35.814Z"
   },
   {
    "duration": 42,
    "start_time": "2022-03-16T14:38:35.823Z"
   },
   {
    "duration": 11,
    "start_time": "2022-03-16T14:39:40.216Z"
   },
   {
    "duration": 10,
    "start_time": "2022-03-16T14:40:18.716Z"
   },
   {
    "duration": 10,
    "start_time": "2022-03-16T14:40:21.029Z"
   },
   {
    "duration": 10,
    "start_time": "2022-03-16T14:40:39.431Z"
   },
   {
    "duration": 4,
    "start_time": "2022-03-16T14:40:42.879Z"
   },
   {
    "duration": 9,
    "start_time": "2022-03-16T14:41:07.019Z"
   },
   {
    "duration": 2940,
    "start_time": "2022-03-16T14:41:09.082Z"
   },
   {
    "duration": 3073,
    "start_time": "2022-03-16T14:41:31.326Z"
   },
   {
    "duration": 4,
    "start_time": "2022-03-16T14:42:25.660Z"
   },
   {
    "duration": 11,
    "start_time": "2022-03-16T14:43:23.740Z"
   },
   {
    "duration": 10,
    "start_time": "2022-03-16T14:43:25.876Z"
   },
   {
    "duration": 102,
    "start_time": "2022-03-16T14:44:14.225Z"
   },
   {
    "duration": 125,
    "start_time": "2022-03-16T14:44:46.773Z"
   },
   {
    "duration": 12,
    "start_time": "2022-03-16T14:45:31.417Z"
   },
   {
    "duration": 13,
    "start_time": "2022-03-16T14:45:34.433Z"
   },
   {
    "duration": 2749,
    "start_time": "2022-03-17T06:01:33.746Z"
   },
   {
    "duration": 14,
    "start_time": "2022-03-17T06:02:05.878Z"
   },
   {
    "duration": 17,
    "start_time": "2022-03-17T06:02:10.462Z"
   },
   {
    "duration": 10,
    "start_time": "2022-03-17T06:04:41.490Z"
   },
   {
    "duration": 18,
    "start_time": "2022-03-17T06:04:46.010Z"
   },
   {
    "duration": 10,
    "start_time": "2022-03-17T06:04:54.036Z"
   },
   {
    "duration": 20,
    "start_time": "2022-03-17T06:04:58.052Z"
   },
   {
    "duration": 12,
    "start_time": "2022-03-17T06:05:30.904Z"
   },
   {
    "duration": 291,
    "start_time": "2022-03-17T06:05:34.504Z"
   },
   {
    "duration": 12,
    "start_time": "2022-03-17T06:06:14.207Z"
   },
   {
    "duration": 17,
    "start_time": "2022-03-17T06:06:18.159Z"
   },
   {
    "duration": 17,
    "start_time": "2022-03-17T06:07:18.567Z"
   },
   {
    "duration": 29,
    "start_time": "2022-03-17T06:07:21.983Z"
   },
   {
    "duration": 11,
    "start_time": "2022-03-17T06:12:18.182Z"
   },
   {
    "duration": 220,
    "start_time": "2022-03-17T06:12:23.526Z"
   },
   {
    "duration": 11,
    "start_time": "2022-03-17T06:13:09.748Z"
   },
   {
    "duration": 19,
    "start_time": "2022-03-17T06:13:13.148Z"
   },
   {
    "duration": 11,
    "start_time": "2022-03-17T06:14:07.612Z"
   },
   {
    "duration": 212,
    "start_time": "2022-03-17T06:14:11.556Z"
   },
   {
    "duration": 219,
    "start_time": "2022-03-17T06:29:45.866Z"
   },
   {
    "duration": 11,
    "start_time": "2022-03-17T06:29:54.602Z"
   },
   {
    "duration": 23,
    "start_time": "2022-03-17T06:29:58.042Z"
   },
   {
    "duration": 10,
    "start_time": "2022-03-17T06:30:55.154Z"
   },
   {
    "duration": 11,
    "start_time": "2022-03-17T06:30:57.266Z"
   },
   {
    "duration": 42,
    "start_time": "2022-03-17T06:31:53.049Z"
   },
   {
    "duration": 45,
    "start_time": "2022-03-17T06:31:58.698Z"
   },
   {
    "duration": 61,
    "start_time": "2022-03-17T06:32:56.563Z"
   },
   {
    "duration": 11,
    "start_time": "2022-03-17T06:33:03.322Z"
   },
   {
    "duration": 11,
    "start_time": "2022-03-17T06:33:14.435Z"
   },
   {
    "duration": 11,
    "start_time": "2022-03-17T06:33:28.205Z"
   },
   {
    "duration": 13,
    "start_time": "2022-03-17T06:33:32.525Z"
   },
   {
    "duration": 10,
    "start_time": "2022-03-17T06:34:37.574Z"
   },
   {
    "duration": 11,
    "start_time": "2022-03-17T06:34:39.885Z"
   },
   {
    "duration": 11,
    "start_time": "2022-03-17T06:34:57.296Z"
   },
   {
    "duration": 11,
    "start_time": "2022-03-17T06:34:59.128Z"
   },
   {
    "duration": 44,
    "start_time": "2022-03-17T06:35:08.057Z"
   },
   {
    "duration": 11,
    "start_time": "2022-03-17T06:35:12.258Z"
   },
   {
    "duration": 12,
    "start_time": "2022-03-17T06:35:14.186Z"
   },
   {
    "duration": 11,
    "start_time": "2022-03-17T06:35:46.990Z"
   },
   {
    "duration": 11,
    "start_time": "2022-03-17T06:35:49.246Z"
   },
   {
    "duration": 19,
    "start_time": "2022-03-17T06:35:52.262Z"
   },
   {
    "duration": 11,
    "start_time": "2022-03-17T06:43:43.546Z"
   },
   {
    "duration": 12,
    "start_time": "2022-03-17T06:50:16.982Z"
   },
   {
    "duration": 11,
    "start_time": "2022-03-17T06:50:18.892Z"
   },
   {
    "duration": 18,
    "start_time": "2022-03-17T06:50:22.118Z"
   },
   {
    "duration": 15,
    "start_time": "2022-03-17T06:50:46.032Z"
   },
   {
    "duration": 2,
    "start_time": "2022-03-17T07:06:13.861Z"
   },
   {
    "duration": 10,
    "start_time": "2022-03-17T07:07:36.631Z"
   },
   {
    "duration": 13,
    "start_time": "2022-03-17T07:07:45.152Z"
   },
   {
    "duration": 20,
    "start_time": "2022-03-17T07:07:52.832Z"
   },
   {
    "duration": 16,
    "start_time": "2022-03-17T07:08:01.225Z"
   },
   {
    "duration": 13,
    "start_time": "2022-03-17T07:13:49.668Z"
   },
   {
    "duration": 15,
    "start_time": "2022-03-17T07:13:53.892Z"
   },
   {
    "duration": 13,
    "start_time": "2022-03-17T07:15:00.701Z"
   },
   {
    "duration": 16,
    "start_time": "2022-03-17T07:15:09.148Z"
   },
   {
    "duration": 16,
    "start_time": "2022-03-17T07:15:12.750Z"
   },
   {
    "duration": 573,
    "start_time": "2022-03-17T07:15:48.227Z"
   },
   {
    "duration": 50,
    "start_time": "2022-03-17T07:15:48.802Z"
   },
   {
    "duration": 12,
    "start_time": "2022-03-17T07:15:48.854Z"
   },
   {
    "duration": 3,
    "start_time": "2022-03-17T07:15:48.869Z"
   },
   {
    "duration": 11,
    "start_time": "2022-03-17T07:15:48.874Z"
   },
   {
    "duration": 10,
    "start_time": "2022-03-17T07:15:48.887Z"
   },
   {
    "duration": 6,
    "start_time": "2022-03-17T07:15:48.899Z"
   },
   {
    "duration": 6,
    "start_time": "2022-03-17T07:15:48.906Z"
   },
   {
    "duration": 44,
    "start_time": "2022-03-17T07:15:48.915Z"
   },
   {
    "duration": 4,
    "start_time": "2022-03-17T07:15:48.962Z"
   },
   {
    "duration": 12,
    "start_time": "2022-03-17T07:15:48.968Z"
   },
   {
    "duration": 11,
    "start_time": "2022-03-17T07:15:48.981Z"
   },
   {
    "duration": 18,
    "start_time": "2022-03-17T07:15:48.994Z"
   },
   {
    "duration": 53,
    "start_time": "2022-03-17T07:15:49.014Z"
   },
   {
    "duration": 6,
    "start_time": "2022-03-17T07:15:49.069Z"
   },
   {
    "duration": 8,
    "start_time": "2022-03-17T07:15:49.078Z"
   },
   {
    "duration": 6,
    "start_time": "2022-03-17T07:15:49.088Z"
   },
   {
    "duration": 15,
    "start_time": "2022-03-17T07:15:49.095Z"
   },
   {
    "duration": 6,
    "start_time": "2022-03-17T07:15:49.112Z"
   },
   {
    "duration": 45,
    "start_time": "2022-03-17T07:15:49.120Z"
   },
   {
    "duration": 12,
    "start_time": "2022-03-17T07:15:49.167Z"
   },
   {
    "duration": 13,
    "start_time": "2022-03-17T07:15:49.181Z"
   },
   {
    "duration": 8,
    "start_time": "2022-03-17T07:15:49.196Z"
   },
   {
    "duration": 19,
    "start_time": "2022-03-17T07:15:49.206Z"
   },
   {
    "duration": 40,
    "start_time": "2022-03-17T07:15:49.227Z"
   },
   {
    "duration": 9,
    "start_time": "2022-03-17T07:15:49.269Z"
   },
   {
    "duration": 6,
    "start_time": "2022-03-17T07:15:49.281Z"
   },
   {
    "duration": 8,
    "start_time": "2022-03-17T07:15:49.290Z"
   },
   {
    "duration": 8,
    "start_time": "2022-03-17T07:15:49.299Z"
   },
   {
    "duration": 65,
    "start_time": "2022-03-17T07:15:49.308Z"
   },
   {
    "duration": 12,
    "start_time": "2022-03-17T07:15:49.375Z"
   },
   {
    "duration": 18,
    "start_time": "2022-03-17T07:15:49.388Z"
   },
   {
    "duration": 9,
    "start_time": "2022-03-17T07:15:49.408Z"
   },
   {
    "duration": 45,
    "start_time": "2022-03-17T07:15:49.419Z"
   },
   {
    "duration": 18,
    "start_time": "2022-03-17T07:15:49.466Z"
   },
   {
    "duration": 13,
    "start_time": "2022-03-17T07:15:49.486Z"
   },
   {
    "duration": 17,
    "start_time": "2022-03-17T07:15:49.501Z"
   },
   {
    "duration": 47,
    "start_time": "2022-03-17T07:15:49.520Z"
   },
   {
    "duration": 18,
    "start_time": "2022-03-17T07:15:49.570Z"
   },
   {
    "duration": 16,
    "start_time": "2022-03-17T07:15:49.590Z"
   },
   {
    "duration": 566,
    "start_time": "2022-03-17T07:32:45.136Z"
   },
   {
    "duration": 51,
    "start_time": "2022-03-17T07:32:45.704Z"
   },
   {
    "duration": 11,
    "start_time": "2022-03-17T07:32:45.757Z"
   },
   {
    "duration": 4,
    "start_time": "2022-03-17T07:32:45.771Z"
   },
   {
    "duration": 11,
    "start_time": "2022-03-17T07:32:45.776Z"
   },
   {
    "duration": 3,
    "start_time": "2022-03-17T07:32:45.789Z"
   },
   {
    "duration": 5,
    "start_time": "2022-03-17T07:32:45.794Z"
   },
   {
    "duration": 5,
    "start_time": "2022-03-17T07:32:45.801Z"
   },
   {
    "duration": 8,
    "start_time": "2022-03-17T07:32:45.807Z"
   },
   {
    "duration": 4,
    "start_time": "2022-03-17T07:32:45.816Z"
   },
   {
    "duration": 44,
    "start_time": "2022-03-17T07:32:45.822Z"
   },
   {
    "duration": 10,
    "start_time": "2022-03-17T07:32:45.867Z"
   },
   {
    "duration": 15,
    "start_time": "2022-03-17T07:32:45.879Z"
   },
   {
    "duration": 9,
    "start_time": "2022-03-17T07:32:45.896Z"
   },
   {
    "duration": 5,
    "start_time": "2022-03-17T07:32:45.906Z"
   },
   {
    "duration": 5,
    "start_time": "2022-03-17T07:32:45.912Z"
   },
   {
    "duration": 41,
    "start_time": "2022-03-17T07:32:45.918Z"
   },
   {
    "duration": 8,
    "start_time": "2022-03-17T07:32:45.961Z"
   },
   {
    "duration": 5,
    "start_time": "2022-03-17T07:32:45.970Z"
   },
   {
    "duration": 13,
    "start_time": "2022-03-17T07:32:45.976Z"
   },
   {
    "duration": 8,
    "start_time": "2022-03-17T07:32:45.990Z"
   },
   {
    "duration": 8,
    "start_time": "2022-03-17T07:32:46.000Z"
   },
   {
    "duration": 8,
    "start_time": "2022-03-17T07:32:46.011Z"
   },
   {
    "duration": 48,
    "start_time": "2022-03-17T07:32:46.020Z"
   },
   {
    "duration": 14,
    "start_time": "2022-03-17T07:32:46.070Z"
   },
   {
    "duration": 9,
    "start_time": "2022-03-17T07:32:46.086Z"
   },
   {
    "duration": 7,
    "start_time": "2022-03-17T07:32:46.096Z"
   },
   {
    "duration": 9,
    "start_time": "2022-03-17T07:32:46.105Z"
   },
   {
    "duration": 7,
    "start_time": "2022-03-17T07:32:46.115Z"
   },
   {
    "duration": 50,
    "start_time": "2022-03-17T07:32:46.124Z"
   },
   {
    "duration": 10,
    "start_time": "2022-03-17T07:32:46.176Z"
   },
   {
    "duration": 16,
    "start_time": "2022-03-17T07:32:46.187Z"
   },
   {
    "duration": 17,
    "start_time": "2022-03-17T07:32:46.205Z"
   },
   {
    "duration": 37,
    "start_time": "2022-03-17T07:32:46.224Z"
   },
   {
    "duration": 20,
    "start_time": "2022-03-17T07:32:46.262Z"
   },
   {
    "duration": 13,
    "start_time": "2022-03-17T07:32:46.284Z"
   },
   {
    "duration": 18,
    "start_time": "2022-03-17T07:32:46.299Z"
   },
   {
    "duration": 50,
    "start_time": "2022-03-17T07:32:46.319Z"
   },
   {
    "duration": 16,
    "start_time": "2022-03-17T07:32:46.370Z"
   },
   {
    "duration": 15,
    "start_time": "2022-03-17T07:32:46.388Z"
   },
   {
    "duration": 398,
    "start_time": "2022-03-28T06:13:40.229Z"
   },
   {
    "duration": 66,
    "start_time": "2022-03-28T06:13:40.629Z"
   },
   {
    "duration": 19,
    "start_time": "2022-03-28T06:13:40.697Z"
   },
   {
    "duration": 4,
    "start_time": "2022-03-28T06:13:40.718Z"
   },
   {
    "duration": 6,
    "start_time": "2022-03-28T06:13:40.725Z"
   },
   {
    "duration": 4,
    "start_time": "2022-03-28T06:13:40.734Z"
   },
   {
    "duration": 6,
    "start_time": "2022-03-28T06:13:40.740Z"
   },
   {
    "duration": 7,
    "start_time": "2022-03-28T06:13:40.747Z"
   },
   {
    "duration": 5,
    "start_time": "2022-03-28T06:13:40.756Z"
   },
   {
    "duration": 48,
    "start_time": "2022-03-28T06:13:40.763Z"
   },
   {
    "duration": 26,
    "start_time": "2022-03-28T06:13:40.813Z"
   },
   {
    "duration": 36,
    "start_time": "2022-03-28T06:13:40.841Z"
   },
   {
    "duration": 17,
    "start_time": "2022-03-28T06:13:40.879Z"
   },
   {
    "duration": 10,
    "start_time": "2022-03-28T06:13:40.901Z"
   },
   {
    "duration": 5,
    "start_time": "2022-03-28T06:13:40.913Z"
   },
   {
    "duration": 23,
    "start_time": "2022-03-28T06:13:40.920Z"
   },
   {
    "duration": 36,
    "start_time": "2022-03-28T06:13:40.944Z"
   },
   {
    "duration": 47,
    "start_time": "2022-03-28T06:13:40.981Z"
   },
   {
    "duration": 32,
    "start_time": "2022-03-28T06:13:41.029Z"
   },
   {
    "duration": 39,
    "start_time": "2022-03-28T06:13:41.063Z"
   },
   {
    "duration": 36,
    "start_time": "2022-03-28T06:13:41.103Z"
   },
   {
    "duration": 26,
    "start_time": "2022-03-28T06:13:41.140Z"
   },
   {
    "duration": 31,
    "start_time": "2022-03-28T06:13:41.167Z"
   },
   {
    "duration": 34,
    "start_time": "2022-03-28T06:13:41.200Z"
   },
   {
    "duration": 49,
    "start_time": "2022-03-28T06:13:41.235Z"
   },
   {
    "duration": 52,
    "start_time": "2022-03-28T06:13:41.286Z"
   },
   {
    "duration": 13,
    "start_time": "2022-03-28T06:13:41.340Z"
   },
   {
    "duration": 54,
    "start_time": "2022-03-28T06:13:41.355Z"
   },
   {
    "duration": 25,
    "start_time": "2022-03-28T06:13:41.411Z"
   },
   {
    "duration": 47,
    "start_time": "2022-03-28T06:13:41.437Z"
   },
   {
    "duration": 30,
    "start_time": "2022-03-28T06:13:41.485Z"
   },
   {
    "duration": 20,
    "start_time": "2022-03-28T06:13:41.517Z"
   },
   {
    "duration": 19,
    "start_time": "2022-03-28T06:13:41.539Z"
   },
   {
    "duration": 21,
    "start_time": "2022-03-28T06:13:41.560Z"
   },
   {
    "duration": 20,
    "start_time": "2022-03-28T06:13:41.582Z"
   },
   {
    "duration": 13,
    "start_time": "2022-03-28T06:13:41.604Z"
   },
   {
    "duration": 17,
    "start_time": "2022-03-28T06:13:41.619Z"
   },
   {
    "duration": 26,
    "start_time": "2022-03-28T06:13:41.638Z"
   },
   {
    "duration": 13,
    "start_time": "2022-03-28T06:13:41.666Z"
   },
   {
    "duration": 33,
    "start_time": "2022-03-28T06:13:41.681Z"
   },
   {
    "duration": 3,
    "start_time": "2022-03-28T06:15:11.232Z"
   },
   {
    "duration": 23,
    "start_time": "2022-03-28T06:16:59.824Z"
   },
   {
    "duration": 377,
    "start_time": "2022-03-28T06:25:22.032Z"
   },
   {
    "duration": 58,
    "start_time": "2022-03-28T06:25:22.411Z"
   },
   {
    "duration": 16,
    "start_time": "2022-03-28T06:25:22.470Z"
   },
   {
    "duration": 3,
    "start_time": "2022-03-28T06:25:22.487Z"
   },
   {
    "duration": 16,
    "start_time": "2022-03-28T06:25:22.492Z"
   },
   {
    "duration": 3,
    "start_time": "2022-03-28T06:25:22.510Z"
   },
   {
    "duration": 5,
    "start_time": "2022-03-28T06:25:22.515Z"
   },
   {
    "duration": 4,
    "start_time": "2022-03-28T06:25:22.521Z"
   },
   {
    "duration": 4,
    "start_time": "2022-03-28T06:25:22.527Z"
   },
   {
    "duration": 4,
    "start_time": "2022-03-28T06:25:22.534Z"
   },
   {
    "duration": 11,
    "start_time": "2022-03-28T06:25:22.539Z"
   },
   {
    "duration": 14,
    "start_time": "2022-03-28T06:25:22.552Z"
   },
   {
    "duration": 48,
    "start_time": "2022-03-28T06:25:22.567Z"
   },
   {
    "duration": 7,
    "start_time": "2022-03-28T06:25:22.617Z"
   },
   {
    "duration": 4,
    "start_time": "2022-03-28T06:25:22.625Z"
   },
   {
    "duration": 4,
    "start_time": "2022-03-28T06:25:22.631Z"
   },
   {
    "duration": 7,
    "start_time": "2022-03-28T06:25:22.636Z"
   },
   {
    "duration": 12,
    "start_time": "2022-03-28T06:25:22.645Z"
   },
   {
    "duration": 4,
    "start_time": "2022-03-28T06:25:22.658Z"
   },
   {
    "duration": 45,
    "start_time": "2022-03-28T06:25:22.664Z"
   },
   {
    "duration": 8,
    "start_time": "2022-03-28T06:25:22.710Z"
   },
   {
    "duration": 9,
    "start_time": "2022-03-28T06:25:22.719Z"
   },
   {
    "duration": 8,
    "start_time": "2022-03-28T06:25:22.729Z"
   },
   {
    "duration": 16,
    "start_time": "2022-03-28T06:25:22.738Z"
   },
   {
    "duration": 13,
    "start_time": "2022-03-28T06:25:22.756Z"
   },
   {
    "duration": 38,
    "start_time": "2022-03-28T06:25:22.771Z"
   },
   {
    "duration": 7,
    "start_time": "2022-03-28T06:25:22.810Z"
   },
   {
    "duration": 8,
    "start_time": "2022-03-28T06:25:22.820Z"
   },
   {
    "duration": 11,
    "start_time": "2022-03-28T06:25:22.830Z"
   },
   {
    "duration": 18,
    "start_time": "2022-03-28T06:25:22.842Z"
   },
   {
    "duration": 10,
    "start_time": "2022-03-28T06:25:22.861Z"
   },
   {
    "duration": 49,
    "start_time": "2022-03-28T06:25:22.872Z"
   },
   {
    "duration": 6,
    "start_time": "2022-03-28T06:25:22.923Z"
   },
   {
    "duration": 16,
    "start_time": "2022-03-28T06:25:22.930Z"
   },
   {
    "duration": 17,
    "start_time": "2022-03-28T06:25:22.947Z"
   },
   {
    "duration": 11,
    "start_time": "2022-03-28T06:25:22.966Z"
   },
   {
    "duration": 11,
    "start_time": "2022-03-28T06:25:23.008Z"
   },
   {
    "duration": 16,
    "start_time": "2022-03-28T06:25:23.021Z"
   },
   {
    "duration": 13,
    "start_time": "2022-03-28T06:25:23.039Z"
   },
   {
    "duration": 13,
    "start_time": "2022-03-28T06:25:23.053Z"
   },
   {
    "duration": 47,
    "start_time": "2022-03-28T10:47:13.646Z"
   },
   {
    "duration": 405,
    "start_time": "2022-03-28T10:47:24.216Z"
   },
   {
    "duration": 59,
    "start_time": "2022-03-28T10:47:24.623Z"
   },
   {
    "duration": 14,
    "start_time": "2022-03-28T10:47:24.683Z"
   },
   {
    "duration": 3,
    "start_time": "2022-03-28T10:47:24.701Z"
   },
   {
    "duration": 7,
    "start_time": "2022-03-28T10:47:24.706Z"
   },
   {
    "duration": 5,
    "start_time": "2022-03-28T10:47:24.714Z"
   },
   {
    "duration": 6,
    "start_time": "2022-03-28T10:47:24.721Z"
   },
   {
    "duration": 4,
    "start_time": "2022-03-28T10:47:24.729Z"
   },
   {
    "duration": 5,
    "start_time": "2022-03-28T10:47:24.735Z"
   },
   {
    "duration": 4,
    "start_time": "2022-03-28T10:47:24.743Z"
   },
   {
    "duration": 11,
    "start_time": "2022-03-28T10:47:24.749Z"
   },
   {
    "duration": 46,
    "start_time": "2022-03-28T10:47:24.762Z"
   },
   {
    "duration": 17,
    "start_time": "2022-03-28T10:47:24.810Z"
   },
   {
    "duration": 9,
    "start_time": "2022-03-28T10:47:24.828Z"
   },
   {
    "duration": 5,
    "start_time": "2022-03-28T10:47:24.838Z"
   },
   {
    "duration": 9,
    "start_time": "2022-03-28T10:47:24.845Z"
   },
   {
    "duration": 8,
    "start_time": "2022-03-28T10:47:24.856Z"
   },
   {
    "duration": 40,
    "start_time": "2022-03-28T10:47:24.866Z"
   },
   {
    "duration": 4,
    "start_time": "2022-03-28T10:47:24.908Z"
   },
   {
    "duration": 15,
    "start_time": "2022-03-28T10:47:24.915Z"
   },
   {
    "duration": 9,
    "start_time": "2022-03-28T10:47:24.932Z"
   },
   {
    "duration": 14,
    "start_time": "2022-03-28T10:47:24.942Z"
   },
   {
    "duration": 8,
    "start_time": "2022-03-28T10:47:24.958Z"
   },
   {
    "duration": 38,
    "start_time": "2022-03-28T10:47:24.967Z"
   },
   {
    "duration": 16,
    "start_time": "2022-03-28T10:47:25.007Z"
   },
   {
    "duration": 7,
    "start_time": "2022-03-28T10:47:25.024Z"
   },
   {
    "duration": 7,
    "start_time": "2022-03-28T10:47:25.032Z"
   },
   {
    "duration": 8,
    "start_time": "2022-03-28T10:47:25.042Z"
   },
   {
    "duration": 12,
    "start_time": "2022-03-28T10:47:25.051Z"
   },
   {
    "duration": 15,
    "start_time": "2022-03-28T10:47:25.064Z"
   },
   {
    "duration": 10,
    "start_time": "2022-03-28T10:47:25.100Z"
   },
   {
    "duration": 16,
    "start_time": "2022-03-28T10:47:25.112Z"
   },
   {
    "duration": 8,
    "start_time": "2022-03-28T10:47:25.129Z"
   },
   {
    "duration": 15,
    "start_time": "2022-03-28T10:47:25.138Z"
   },
   {
    "duration": 16,
    "start_time": "2022-03-28T10:47:25.154Z"
   },
   {
    "duration": 36,
    "start_time": "2022-03-28T10:47:25.171Z"
   },
   {
    "duration": 13,
    "start_time": "2022-03-28T10:47:25.209Z"
   },
   {
    "duration": 13,
    "start_time": "2022-03-28T10:47:25.223Z"
   },
   {
    "duration": 10,
    "start_time": "2022-03-28T10:47:25.237Z"
   },
   {
    "duration": 14,
    "start_time": "2022-03-28T10:47:25.248Z"
   },
   {
    "duration": 383,
    "start_time": "2022-03-28T10:48:28.112Z"
   },
   {
    "duration": 62,
    "start_time": "2022-03-28T10:48:28.496Z"
   },
   {
    "duration": 16,
    "start_time": "2022-03-28T10:48:28.559Z"
   },
   {
    "duration": 3,
    "start_time": "2022-03-28T10:48:28.577Z"
   },
   {
    "duration": 6,
    "start_time": "2022-03-28T10:48:28.582Z"
   },
   {
    "duration": 5,
    "start_time": "2022-03-28T10:48:28.600Z"
   },
   {
    "duration": 9,
    "start_time": "2022-03-28T10:48:28.606Z"
   },
   {
    "duration": 12,
    "start_time": "2022-03-28T10:48:28.617Z"
   },
   {
    "duration": 6,
    "start_time": "2022-03-28T10:48:28.631Z"
   },
   {
    "duration": 6,
    "start_time": "2022-03-28T10:48:28.638Z"
   },
   {
    "duration": 16,
    "start_time": "2022-03-28T10:48:28.645Z"
   },
   {
    "duration": 28,
    "start_time": "2022-03-28T10:48:28.664Z"
   },
   {
    "duration": 15,
    "start_time": "2022-03-28T10:48:28.701Z"
   },
   {
    "duration": 9,
    "start_time": "2022-03-28T10:48:28.721Z"
   },
   {
    "duration": 14,
    "start_time": "2022-03-28T10:48:28.731Z"
   },
   {
    "duration": 10,
    "start_time": "2022-03-28T10:48:28.747Z"
   },
   {
    "duration": 19,
    "start_time": "2022-03-28T10:48:28.759Z"
   },
   {
    "duration": 27,
    "start_time": "2022-03-28T10:48:28.780Z"
   },
   {
    "duration": 20,
    "start_time": "2022-03-28T10:48:28.809Z"
   },
   {
    "duration": 25,
    "start_time": "2022-03-28T10:48:28.831Z"
   },
   {
    "duration": 16,
    "start_time": "2022-03-28T10:48:28.858Z"
   },
   {
    "duration": 26,
    "start_time": "2022-03-28T10:48:28.875Z"
   },
   {
    "duration": 11,
    "start_time": "2022-03-28T10:48:28.903Z"
   },
   {
    "duration": 21,
    "start_time": "2022-03-28T10:48:28.916Z"
   },
   {
    "duration": 26,
    "start_time": "2022-03-28T10:48:28.939Z"
   },
   {
    "duration": 8,
    "start_time": "2022-03-28T10:48:28.966Z"
   },
   {
    "duration": 6,
    "start_time": "2022-03-28T10:48:28.975Z"
   },
   {
    "duration": 10,
    "start_time": "2022-03-28T10:48:28.983Z"
   },
   {
    "duration": 11,
    "start_time": "2022-03-28T10:48:28.995Z"
   },
   {
    "duration": 15,
    "start_time": "2022-03-28T10:48:29.007Z"
   },
   {
    "duration": 9,
    "start_time": "2022-03-28T10:48:29.023Z"
   },
   {
    "duration": 13,
    "start_time": "2022-03-28T10:48:29.033Z"
   },
   {
    "duration": 7,
    "start_time": "2022-03-28T10:48:29.048Z"
   },
   {
    "duration": 17,
    "start_time": "2022-03-28T10:48:29.056Z"
   },
   {
    "duration": 40,
    "start_time": "2022-03-28T10:48:29.075Z"
   },
   {
    "duration": 13,
    "start_time": "2022-03-28T10:48:29.116Z"
   },
   {
    "duration": 14,
    "start_time": "2022-03-28T10:48:29.130Z"
   },
   {
    "duration": 12,
    "start_time": "2022-03-28T10:48:29.145Z"
   },
   {
    "duration": 47,
    "start_time": "2022-03-28T10:48:29.159Z"
   },
   {
    "duration": 12,
    "start_time": "2022-03-28T10:48:29.208Z"
   },
   {
    "duration": 376,
    "start_time": "2022-03-28T10:56:11.643Z"
   },
   {
    "duration": 65,
    "start_time": "2022-03-28T10:56:12.021Z"
   },
   {
    "duration": 16,
    "start_time": "2022-03-28T10:56:12.087Z"
   },
   {
    "duration": 3,
    "start_time": "2022-03-28T10:56:12.106Z"
   },
   {
    "duration": 7,
    "start_time": "2022-03-28T10:56:12.112Z"
   },
   {
    "duration": 5,
    "start_time": "2022-03-28T10:56:12.121Z"
   },
   {
    "duration": 10,
    "start_time": "2022-03-28T10:56:12.128Z"
   },
   {
    "duration": 5,
    "start_time": "2022-03-28T10:56:12.140Z"
   },
   {
    "duration": 5,
    "start_time": "2022-03-28T10:56:12.147Z"
   },
   {
    "duration": 7,
    "start_time": "2022-03-28T10:56:12.154Z"
   },
   {
    "duration": 42,
    "start_time": "2022-03-28T10:56:12.163Z"
   },
   {
    "duration": 15,
    "start_time": "2022-03-28T10:56:12.207Z"
   },
   {
    "duration": 24,
    "start_time": "2022-03-28T10:56:12.223Z"
   },
   {
    "duration": 7,
    "start_time": "2022-03-28T10:56:12.250Z"
   },
   {
    "duration": 9,
    "start_time": "2022-03-28T10:56:12.258Z"
   },
   {
    "duration": 33,
    "start_time": "2022-03-28T10:56:12.268Z"
   },
   {
    "duration": 5,
    "start_time": "2022-03-28T10:56:12.303Z"
   },
   {
    "duration": 23,
    "start_time": "2022-03-28T10:56:12.310Z"
   },
   {
    "duration": 5,
    "start_time": "2022-03-28T10:56:12.335Z"
   },
   {
    "duration": 24,
    "start_time": "2022-03-28T10:56:12.341Z"
   },
   {
    "duration": 34,
    "start_time": "2022-03-28T10:56:12.368Z"
   },
   {
    "duration": 20,
    "start_time": "2022-03-28T10:56:12.404Z"
   },
   {
    "duration": 17,
    "start_time": "2022-03-28T10:56:12.425Z"
   },
   {
    "duration": 76,
    "start_time": "2022-03-28T10:56:12.444Z"
   },
   {
    "duration": 24,
    "start_time": "2022-03-28T10:56:12.522Z"
   },
   {
    "duration": 21,
    "start_time": "2022-03-28T10:56:12.548Z"
   },
   {
    "duration": 31,
    "start_time": "2022-03-28T10:56:12.571Z"
   },
   {
    "duration": 18,
    "start_time": "2022-03-28T10:56:12.604Z"
   },
   {
    "duration": 14,
    "start_time": "2022-03-28T10:56:12.624Z"
   },
   {
    "duration": 18,
    "start_time": "2022-03-28T10:56:12.639Z"
   },
   {
    "duration": 43,
    "start_time": "2022-03-28T10:56:12.659Z"
   },
   {
    "duration": 17,
    "start_time": "2022-03-28T10:56:12.704Z"
   },
   {
    "duration": 9,
    "start_time": "2022-03-28T10:56:12.723Z"
   },
   {
    "duration": 25,
    "start_time": "2022-03-28T10:56:12.734Z"
   },
   {
    "duration": 59,
    "start_time": "2022-03-28T10:56:12.761Z"
   },
   {
    "duration": 11,
    "start_time": "2022-03-28T10:56:12.822Z"
   },
   {
    "duration": 18,
    "start_time": "2022-03-28T10:56:12.835Z"
   },
   {
    "duration": 54,
    "start_time": "2022-03-28T10:56:12.855Z"
   },
   {
    "duration": 22,
    "start_time": "2022-03-28T10:56:12.911Z"
   },
   {
    "duration": 24,
    "start_time": "2022-03-28T10:56:12.934Z"
   },
   {
    "duration": 436,
    "start_time": "2022-03-28T10:57:09.067Z"
   },
   {
    "duration": 75,
    "start_time": "2022-03-28T10:57:09.505Z"
   },
   {
    "duration": 15,
    "start_time": "2022-03-28T10:57:09.582Z"
   },
   {
    "duration": 31,
    "start_time": "2022-03-28T10:57:09.599Z"
   },
   {
    "duration": 22,
    "start_time": "2022-03-28T10:57:09.632Z"
   },
   {
    "duration": 23,
    "start_time": "2022-03-28T10:57:09.656Z"
   },
   {
    "duration": 33,
    "start_time": "2022-03-28T10:57:09.680Z"
   },
   {
    "duration": 26,
    "start_time": "2022-03-28T10:57:09.715Z"
   },
   {
    "duration": 28,
    "start_time": "2022-03-28T10:57:09.743Z"
   },
   {
    "duration": 16,
    "start_time": "2022-03-28T10:57:09.773Z"
   },
   {
    "duration": 42,
    "start_time": "2022-03-28T10:57:09.791Z"
   },
   {
    "duration": 26,
    "start_time": "2022-03-28T10:57:09.835Z"
   },
   {
    "duration": 27,
    "start_time": "2022-03-28T10:57:09.863Z"
   },
   {
    "duration": 27,
    "start_time": "2022-03-28T10:57:09.894Z"
   },
   {
    "duration": 22,
    "start_time": "2022-03-28T10:57:09.922Z"
   },
   {
    "duration": 30,
    "start_time": "2022-03-28T10:57:09.946Z"
   },
   {
    "duration": 21,
    "start_time": "2022-03-28T10:57:09.978Z"
   },
   {
    "duration": 40,
    "start_time": "2022-03-28T10:57:10.001Z"
   },
   {
    "duration": 25,
    "start_time": "2022-03-28T10:57:10.043Z"
   },
   {
    "duration": 28,
    "start_time": "2022-03-28T10:57:10.070Z"
   },
   {
    "duration": 27,
    "start_time": "2022-03-28T10:57:10.100Z"
   },
   {
    "duration": 21,
    "start_time": "2022-03-28T10:57:10.129Z"
   },
   {
    "duration": 18,
    "start_time": "2022-03-28T10:57:10.151Z"
   },
   {
    "duration": 56,
    "start_time": "2022-03-28T10:57:10.171Z"
   },
   {
    "duration": 25,
    "start_time": "2022-03-28T10:57:10.229Z"
   },
   {
    "duration": 26,
    "start_time": "2022-03-28T10:57:10.256Z"
   },
   {
    "duration": 29,
    "start_time": "2022-03-28T10:57:10.284Z"
   },
   {
    "duration": 18,
    "start_time": "2022-03-28T10:57:10.315Z"
   },
   {
    "duration": 16,
    "start_time": "2022-03-28T10:57:10.335Z"
   },
   {
    "duration": 21,
    "start_time": "2022-03-28T10:57:10.353Z"
   },
   {
    "duration": 16,
    "start_time": "2022-03-28T10:57:10.401Z"
   },
   {
    "duration": 27,
    "start_time": "2022-03-28T10:57:10.418Z"
   },
   {
    "duration": 29,
    "start_time": "2022-03-28T10:57:10.447Z"
   },
   {
    "duration": 34,
    "start_time": "2022-03-28T10:57:10.477Z"
   },
   {
    "duration": 35,
    "start_time": "2022-03-28T10:57:10.513Z"
   },
   {
    "duration": 12,
    "start_time": "2022-03-28T10:57:10.549Z"
   },
   {
    "duration": 38,
    "start_time": "2022-03-28T10:57:10.563Z"
   },
   {
    "duration": 30,
    "start_time": "2022-03-28T10:57:10.603Z"
   },
   {
    "duration": 20,
    "start_time": "2022-03-28T10:57:10.635Z"
   },
   {
    "duration": 44,
    "start_time": "2022-03-28T10:57:10.657Z"
   },
   {
    "duration": 10,
    "start_time": "2022-03-28T11:01:48.317Z"
   },
   {
    "duration": 409,
    "start_time": "2022-03-28T11:02:02.600Z"
   },
   {
    "duration": 67,
    "start_time": "2022-03-28T11:02:03.011Z"
   },
   {
    "duration": 16,
    "start_time": "2022-03-28T11:02:03.079Z"
   },
   {
    "duration": 32,
    "start_time": "2022-03-28T11:02:03.097Z"
   },
   {
    "duration": 33,
    "start_time": "2022-03-28T11:02:03.131Z"
   },
   {
    "duration": 18,
    "start_time": "2022-03-28T11:02:03.166Z"
   },
   {
    "duration": 33,
    "start_time": "2022-03-28T11:02:03.185Z"
   },
   {
    "duration": 24,
    "start_time": "2022-03-28T11:02:03.219Z"
   },
   {
    "duration": 24,
    "start_time": "2022-03-28T11:02:03.245Z"
   },
   {
    "duration": 20,
    "start_time": "2022-03-28T11:02:03.271Z"
   },
   {
    "duration": 29,
    "start_time": "2022-03-28T11:02:03.292Z"
   },
   {
    "duration": 37,
    "start_time": "2022-03-28T11:02:03.322Z"
   },
   {
    "duration": 19,
    "start_time": "2022-03-28T11:02:03.361Z"
   },
   {
    "duration": 11,
    "start_time": "2022-03-28T11:02:03.382Z"
   },
   {
    "duration": 21,
    "start_time": "2022-03-28T11:02:03.395Z"
   },
   {
    "duration": 25,
    "start_time": "2022-03-28T11:02:03.418Z"
   },
   {
    "duration": 31,
    "start_time": "2022-03-28T11:02:03.444Z"
   },
   {
    "duration": 57,
    "start_time": "2022-03-28T11:02:03.477Z"
   },
   {
    "duration": 33,
    "start_time": "2022-03-28T11:02:03.536Z"
   },
   {
    "duration": 35,
    "start_time": "2022-03-28T11:02:03.571Z"
   },
   {
    "duration": 39,
    "start_time": "2022-03-28T11:02:03.609Z"
   },
   {
    "duration": 38,
    "start_time": "2022-03-28T11:02:03.650Z"
   },
   {
    "duration": 25,
    "start_time": "2022-03-28T11:02:03.690Z"
   },
   {
    "duration": 18,
    "start_time": "2022-03-28T11:02:03.717Z"
   },
   {
    "duration": 64,
    "start_time": "2022-03-28T11:02:03.737Z"
   },
   {
    "duration": 27,
    "start_time": "2022-03-28T11:02:03.803Z"
   },
   {
    "duration": 23,
    "start_time": "2022-03-28T11:02:03.832Z"
   },
   {
    "duration": 46,
    "start_time": "2022-03-28T11:02:03.858Z"
   },
   {
    "duration": 51,
    "start_time": "2022-03-28T11:02:03.906Z"
   },
   {
    "duration": 21,
    "start_time": "2022-03-28T11:02:03.959Z"
   },
   {
    "duration": 41,
    "start_time": "2022-03-28T11:02:03.982Z"
   },
   {
    "duration": 20,
    "start_time": "2022-03-28T11:02:04.024Z"
   },
   {
    "duration": 33,
    "start_time": "2022-03-28T11:02:04.046Z"
   },
   {
    "duration": 23,
    "start_time": "2022-03-28T11:02:04.081Z"
   },
   {
    "duration": 38,
    "start_time": "2022-03-28T11:02:04.106Z"
   },
   {
    "duration": 34,
    "start_time": "2022-03-28T11:02:04.145Z"
   },
   {
    "duration": 22,
    "start_time": "2022-03-28T11:02:04.181Z"
   },
   {
    "duration": 47,
    "start_time": "2022-03-28T11:02:04.205Z"
   },
   {
    "duration": 35,
    "start_time": "2022-03-28T11:02:04.254Z"
   },
   {
    "duration": 22,
    "start_time": "2022-03-28T11:02:04.290Z"
   },
   {
    "duration": 30,
    "start_time": "2022-03-28T11:02:04.314Z"
   },
   {
    "duration": 12,
    "start_time": "2022-03-28T11:03:01.623Z"
   },
   {
    "duration": 13,
    "start_time": "2022-03-28T11:03:34.786Z"
   },
   {
    "duration": 0,
    "start_time": "2022-03-28T11:04:39.260Z"
   },
   {
    "duration": 0,
    "start_time": "2022-03-28T11:04:39.262Z"
   },
   {
    "duration": 422,
    "start_time": "2022-03-28T11:04:44.795Z"
   },
   {
    "duration": 67,
    "start_time": "2022-03-28T11:04:45.219Z"
   },
   {
    "duration": 18,
    "start_time": "2022-03-28T11:04:45.288Z"
   },
   {
    "duration": 3,
    "start_time": "2022-03-28T11:04:45.308Z"
   },
   {
    "duration": 5,
    "start_time": "2022-03-28T11:04:45.313Z"
   },
   {
    "duration": 6,
    "start_time": "2022-03-28T11:04:45.320Z"
   },
   {
    "duration": 5,
    "start_time": "2022-03-28T11:04:45.328Z"
   },
   {
    "duration": 3,
    "start_time": "2022-03-28T11:04:45.335Z"
   },
   {
    "duration": 12,
    "start_time": "2022-03-28T11:04:45.340Z"
   },
   {
    "duration": 7,
    "start_time": "2022-03-28T11:04:45.354Z"
   },
   {
    "duration": 39,
    "start_time": "2022-03-28T11:04:45.362Z"
   },
   {
    "duration": 14,
    "start_time": "2022-03-28T11:04:45.403Z"
   },
   {
    "duration": 16,
    "start_time": "2022-03-28T11:04:45.419Z"
   },
   {
    "duration": 5,
    "start_time": "2022-03-28T11:04:45.436Z"
   },
   {
    "duration": 11,
    "start_time": "2022-03-28T11:04:45.443Z"
   },
   {
    "duration": 24,
    "start_time": "2022-03-28T11:04:45.455Z"
   },
   {
    "duration": 7,
    "start_time": "2022-03-28T11:04:45.481Z"
   },
   {
    "duration": 24,
    "start_time": "2022-03-28T11:04:45.489Z"
   },
   {
    "duration": 3,
    "start_time": "2022-03-28T11:04:45.515Z"
   },
   {
    "duration": 3938,
    "start_time": "2022-03-28T11:04:45.519Z"
   },
   {
    "duration": 0,
    "start_time": "2022-03-28T11:04:49.459Z"
   },
   {
    "duration": 0,
    "start_time": "2022-03-28T11:04:49.462Z"
   },
   {
    "duration": 1,
    "start_time": "2022-03-28T11:04:49.463Z"
   },
   {
    "duration": 0,
    "start_time": "2022-03-28T11:04:49.465Z"
   },
   {
    "duration": 0,
    "start_time": "2022-03-28T11:04:49.466Z"
   },
   {
    "duration": 0,
    "start_time": "2022-03-28T11:04:49.467Z"
   },
   {
    "duration": 0,
    "start_time": "2022-03-28T11:04:49.469Z"
   },
   {
    "duration": 0,
    "start_time": "2022-03-28T11:04:49.470Z"
   },
   {
    "duration": 0,
    "start_time": "2022-03-28T11:04:49.471Z"
   },
   {
    "duration": 0,
    "start_time": "2022-03-28T11:04:49.472Z"
   },
   {
    "duration": 0,
    "start_time": "2022-03-28T11:04:49.474Z"
   },
   {
    "duration": 0,
    "start_time": "2022-03-28T11:04:49.475Z"
   },
   {
    "duration": 0,
    "start_time": "2022-03-28T11:04:49.476Z"
   },
   {
    "duration": 1,
    "start_time": "2022-03-28T11:04:49.477Z"
   },
   {
    "duration": 0,
    "start_time": "2022-03-28T11:04:49.479Z"
   },
   {
    "duration": 0,
    "start_time": "2022-03-28T11:04:49.480Z"
   },
   {
    "duration": 0,
    "start_time": "2022-03-28T11:04:49.501Z"
   },
   {
    "duration": 0,
    "start_time": "2022-03-28T11:04:49.503Z"
   },
   {
    "duration": 0,
    "start_time": "2022-03-28T11:04:49.504Z"
   },
   {
    "duration": 0,
    "start_time": "2022-03-28T11:04:49.504Z"
   },
   {
    "duration": 0,
    "start_time": "2022-03-28T11:04:49.505Z"
   },
   {
    "duration": 0,
    "start_time": "2022-03-28T11:04:49.506Z"
   },
   {
    "duration": 3511,
    "start_time": "2022-03-28T11:05:29.000Z"
   },
   {
    "duration": 3143,
    "start_time": "2022-03-28T11:05:49.659Z"
   },
   {
    "duration": 7,
    "start_time": "2022-03-28T11:06:03.100Z"
   },
   {
    "duration": 5,
    "start_time": "2022-03-28T11:06:08.301Z"
   },
   {
    "duration": 612,
    "start_time": "2022-03-28T11:07:57.042Z"
   },
   {
    "duration": 265,
    "start_time": "2022-03-28T11:08:19.166Z"
   },
   {
    "duration": 272,
    "start_time": "2022-03-28T11:09:10.556Z"
   },
   {
    "duration": 3,
    "start_time": "2022-03-28T11:09:25.821Z"
   },
   {
    "duration": 3,
    "start_time": "2022-03-28T11:09:56.673Z"
   },
   {
    "duration": 214,
    "start_time": "2022-03-28T11:13:07.832Z"
   },
   {
    "duration": 6,
    "start_time": "2022-03-28T11:15:57.286Z"
   },
   {
    "duration": 6,
    "start_time": "2022-03-28T11:15:59.494Z"
   },
   {
    "duration": 410,
    "start_time": "2022-03-28T11:16:09.618Z"
   },
   {
    "duration": 64,
    "start_time": "2022-03-28T11:16:10.030Z"
   },
   {
    "duration": 17,
    "start_time": "2022-03-28T11:16:10.095Z"
   },
   {
    "duration": 3,
    "start_time": "2022-03-28T11:16:10.114Z"
   },
   {
    "duration": 10,
    "start_time": "2022-03-28T11:16:10.120Z"
   },
   {
    "duration": 5,
    "start_time": "2022-03-28T11:16:10.131Z"
   },
   {
    "duration": 6,
    "start_time": "2022-03-28T11:16:10.138Z"
   },
   {
    "duration": 5,
    "start_time": "2022-03-28T11:16:10.146Z"
   },
   {
    "duration": 9,
    "start_time": "2022-03-28T11:16:10.152Z"
   },
   {
    "duration": 9,
    "start_time": "2022-03-28T11:16:10.162Z"
   },
   {
    "duration": 37,
    "start_time": "2022-03-28T11:16:10.172Z"
   },
   {
    "duration": 15,
    "start_time": "2022-03-28T11:16:10.211Z"
   },
   {
    "duration": 64,
    "start_time": "2022-03-28T11:16:10.227Z"
   },
   {
    "duration": 7,
    "start_time": "2022-03-28T11:16:10.294Z"
   },
   {
    "duration": 6,
    "start_time": "2022-03-28T11:16:10.302Z"
   },
   {
    "duration": 8,
    "start_time": "2022-03-28T11:16:10.310Z"
   },
   {
    "duration": 8,
    "start_time": "2022-03-28T11:16:10.320Z"
   },
   {
    "duration": 18,
    "start_time": "2022-03-28T11:16:10.330Z"
   },
   {
    "duration": 3,
    "start_time": "2022-03-28T11:16:10.350Z"
   },
   {
    "duration": 590,
    "start_time": "2022-03-28T11:16:10.355Z"
   },
   {
    "duration": 6,
    "start_time": "2022-03-28T11:16:10.947Z"
   },
   {
    "duration": 21,
    "start_time": "2022-03-28T11:16:10.955Z"
   },
   {
    "duration": 18,
    "start_time": "2022-03-28T11:16:10.977Z"
   },
   {
    "duration": 16,
    "start_time": "2022-03-28T11:16:10.997Z"
   },
   {
    "duration": 21,
    "start_time": "2022-03-28T11:16:11.015Z"
   },
   {
    "duration": 20,
    "start_time": "2022-03-28T11:16:11.038Z"
   },
   {
    "duration": 17,
    "start_time": "2022-03-28T11:16:11.059Z"
   },
   {
    "duration": 71,
    "start_time": "2022-03-28T11:16:11.078Z"
   },
   {
    "duration": 26,
    "start_time": "2022-03-28T11:16:11.150Z"
   },
   {
    "duration": 43,
    "start_time": "2022-03-28T11:16:11.178Z"
   },
   {
    "duration": 14,
    "start_time": "2022-03-28T11:16:11.222Z"
   },
   {
    "duration": 19,
    "start_time": "2022-03-28T11:16:11.238Z"
   },
   {
    "duration": 14,
    "start_time": "2022-03-28T11:16:11.259Z"
   },
   {
    "duration": 40,
    "start_time": "2022-03-28T11:16:11.274Z"
   },
   {
    "duration": 14,
    "start_time": "2022-03-28T11:16:11.315Z"
   },
   {
    "duration": 22,
    "start_time": "2022-03-28T11:16:11.330Z"
   },
   {
    "duration": 16,
    "start_time": "2022-03-28T11:16:11.354Z"
   },
   {
    "duration": 45,
    "start_time": "2022-03-28T11:16:11.371Z"
   },
   {
    "duration": 34,
    "start_time": "2022-03-28T11:16:11.418Z"
   },
   {
    "duration": 12,
    "start_time": "2022-03-28T11:16:11.454Z"
   },
   {
    "duration": 36,
    "start_time": "2022-03-28T11:16:11.470Z"
   },
   {
    "duration": 29,
    "start_time": "2022-03-28T11:16:11.508Z"
   },
   {
    "duration": 21,
    "start_time": "2022-03-28T11:16:11.539Z"
   },
   {
    "duration": 54,
    "start_time": "2022-03-28T11:16:11.562Z"
   },
   {
    "duration": 71,
    "start_time": "2022-03-28T11:20:46.611Z"
   },
   {
    "duration": 8,
    "start_time": "2022-03-28T11:20:52.563Z"
   },
   {
    "duration": 366,
    "start_time": "2022-03-28T11:20:58.330Z"
   },
   {
    "duration": 58,
    "start_time": "2022-03-28T11:20:58.698Z"
   },
   {
    "duration": 15,
    "start_time": "2022-03-28T11:20:58.758Z"
   },
   {
    "duration": 3,
    "start_time": "2022-03-28T11:20:58.775Z"
   },
   {
    "duration": 6,
    "start_time": "2022-03-28T11:20:58.780Z"
   },
   {
    "duration": 4,
    "start_time": "2022-03-28T11:20:58.801Z"
   },
   {
    "duration": 8,
    "start_time": "2022-03-28T11:20:58.807Z"
   },
   {
    "duration": 4,
    "start_time": "2022-03-28T11:20:58.817Z"
   },
   {
    "duration": 6,
    "start_time": "2022-03-28T11:20:58.822Z"
   },
   {
    "duration": 14,
    "start_time": "2022-03-28T11:20:58.829Z"
   },
   {
    "duration": 13,
    "start_time": "2022-03-28T11:20:58.845Z"
   },
   {
    "duration": 15,
    "start_time": "2022-03-28T11:20:58.860Z"
   },
   {
    "duration": 35,
    "start_time": "2022-03-28T11:20:58.877Z"
   },
   {
    "duration": 6,
    "start_time": "2022-03-28T11:20:58.915Z"
   },
   {
    "duration": 5,
    "start_time": "2022-03-28T11:20:58.922Z"
   },
   {
    "duration": 9,
    "start_time": "2022-03-28T11:20:58.928Z"
   },
   {
    "duration": 10,
    "start_time": "2022-03-28T11:20:58.938Z"
   },
   {
    "duration": 17,
    "start_time": "2022-03-28T11:20:58.950Z"
   },
   {
    "duration": 4,
    "start_time": "2022-03-28T11:20:58.968Z"
   },
   {
    "duration": 488,
    "start_time": "2022-03-28T11:20:59.001Z"
   },
   {
    "duration": 12,
    "start_time": "2022-03-28T11:20:59.491Z"
   },
   {
    "duration": 8,
    "start_time": "2022-03-28T11:20:59.505Z"
   },
   {
    "duration": 10,
    "start_time": "2022-03-28T11:20:59.515Z"
   },
   {
    "duration": 4,
    "start_time": "2022-03-28T11:20:59.527Z"
   },
   {
    "duration": 16,
    "start_time": "2022-03-28T11:20:59.533Z"
   },
   {
    "duration": 18,
    "start_time": "2022-03-28T11:20:59.551Z"
   },
   {
    "duration": 49,
    "start_time": "2022-03-28T11:20:59.571Z"
   },
   {
    "duration": 17,
    "start_time": "2022-03-28T11:20:59.622Z"
   },
   {
    "duration": 71,
    "start_time": "2022-03-28T11:20:59.641Z"
   },
   {
    "duration": 26,
    "start_time": "2022-03-28T11:20:59.714Z"
   },
   {
    "duration": 21,
    "start_time": "2022-03-28T11:20:59.742Z"
   },
   {
    "duration": 38,
    "start_time": "2022-03-28T11:20:59.765Z"
   },
   {
    "duration": 21,
    "start_time": "2022-03-28T11:20:59.805Z"
   },
   {
    "duration": 15,
    "start_time": "2022-03-28T11:20:59.827Z"
   },
   {
    "duration": 13,
    "start_time": "2022-03-28T11:20:59.844Z"
   },
   {
    "duration": 13,
    "start_time": "2022-03-28T11:20:59.858Z"
   },
   {
    "duration": 17,
    "start_time": "2022-03-28T11:20:59.902Z"
   },
   {
    "duration": 11,
    "start_time": "2022-03-28T11:20:59.921Z"
   },
   {
    "duration": 27,
    "start_time": "2022-03-28T11:20:59.933Z"
   },
   {
    "duration": 61,
    "start_time": "2022-03-28T11:20:59.962Z"
   },
   {
    "duration": 11,
    "start_time": "2022-03-28T11:21:00.027Z"
   },
   {
    "duration": 20,
    "start_time": "2022-03-28T11:21:00.040Z"
   },
   {
    "duration": 41,
    "start_time": "2022-03-28T11:21:00.062Z"
   },
   {
    "duration": 22,
    "start_time": "2022-03-28T11:21:00.104Z"
   },
   {
    "duration": 21,
    "start_time": "2022-03-28T11:21:00.127Z"
   },
   {
    "duration": 8,
    "start_time": "2022-03-28T11:21:45.245Z"
   },
   {
    "duration": 424,
    "start_time": "2022-03-28T11:21:56.588Z"
   },
   {
    "duration": 63,
    "start_time": "2022-03-28T11:21:57.015Z"
   },
   {
    "duration": 15,
    "start_time": "2022-03-28T11:21:57.081Z"
   },
   {
    "duration": 3,
    "start_time": "2022-03-28T11:21:57.102Z"
   },
   {
    "duration": 7,
    "start_time": "2022-03-28T11:21:57.107Z"
   },
   {
    "duration": 6,
    "start_time": "2022-03-28T11:21:57.116Z"
   },
   {
    "duration": 8,
    "start_time": "2022-03-28T11:21:57.123Z"
   },
   {
    "duration": 7,
    "start_time": "2022-03-28T11:21:57.132Z"
   },
   {
    "duration": 12,
    "start_time": "2022-03-28T11:21:57.140Z"
   },
   {
    "duration": 7,
    "start_time": "2022-03-28T11:21:57.153Z"
   },
   {
    "duration": 15,
    "start_time": "2022-03-28T11:21:57.162Z"
   },
   {
    "duration": 31,
    "start_time": "2022-03-28T11:21:57.178Z"
   },
   {
    "duration": 16,
    "start_time": "2022-03-28T11:21:57.212Z"
   },
   {
    "duration": 5,
    "start_time": "2022-03-28T11:21:57.229Z"
   },
   {
    "duration": 5,
    "start_time": "2022-03-28T11:21:57.236Z"
   },
   {
    "duration": 8,
    "start_time": "2022-03-28T11:21:57.243Z"
   },
   {
    "duration": 8,
    "start_time": "2022-03-28T11:21:57.252Z"
   },
   {
    "duration": 16,
    "start_time": "2022-03-28T11:21:57.262Z"
   },
   {
    "duration": 23,
    "start_time": "2022-03-28T11:21:57.280Z"
   },
   {
    "duration": 517,
    "start_time": "2022-03-28T11:21:57.305Z"
   },
   {
    "duration": 6,
    "start_time": "2022-03-28T11:21:57.824Z"
   },
   {
    "duration": 8,
    "start_time": "2022-03-28T11:21:57.832Z"
   },
   {
    "duration": 8,
    "start_time": "2022-03-28T11:21:57.841Z"
   },
   {
    "duration": 9,
    "start_time": "2022-03-28T11:21:57.850Z"
   },
   {
    "duration": 7,
    "start_time": "2022-03-28T11:21:57.861Z"
   },
   {
    "duration": 40,
    "start_time": "2022-03-28T11:21:57.870Z"
   },
   {
    "duration": 16,
    "start_time": "2022-03-28T11:21:57.912Z"
   },
   {
    "duration": 18,
    "start_time": "2022-03-28T11:21:57.930Z"
   },
   {
    "duration": 15,
    "start_time": "2022-03-28T11:21:57.950Z"
   },
   {
    "duration": 68,
    "start_time": "2022-03-28T11:21:57.966Z"
   },
   {
    "duration": 23,
    "start_time": "2022-03-28T11:21:58.036Z"
   },
   {
    "duration": 18,
    "start_time": "2022-03-28T11:21:58.061Z"
   },
   {
    "duration": 28,
    "start_time": "2022-03-28T11:21:58.081Z"
   },
   {
    "duration": 16,
    "start_time": "2022-03-28T11:21:58.110Z"
   },
   {
    "duration": 13,
    "start_time": "2022-03-28T11:21:58.128Z"
   },
   {
    "duration": 12,
    "start_time": "2022-03-28T11:21:58.142Z"
   },
   {
    "duration": 11,
    "start_time": "2022-03-28T11:21:58.156Z"
   },
   {
    "duration": 46,
    "start_time": "2022-03-28T11:21:58.168Z"
   },
   {
    "duration": 10,
    "start_time": "2022-03-28T11:21:58.216Z"
   },
   {
    "duration": 24,
    "start_time": "2022-03-28T11:21:58.229Z"
   },
   {
    "duration": 57,
    "start_time": "2022-03-28T11:21:58.255Z"
   },
   {
    "duration": 11,
    "start_time": "2022-03-28T11:21:58.314Z"
   },
   {
    "duration": 17,
    "start_time": "2022-03-28T11:21:58.327Z"
   },
   {
    "duration": 26,
    "start_time": "2022-03-28T11:21:58.345Z"
   },
   {
    "duration": 42,
    "start_time": "2022-03-28T11:21:58.373Z"
   },
   {
    "duration": 21,
    "start_time": "2022-03-28T11:21:58.417Z"
   },
   {
    "duration": 385,
    "start_time": "2022-03-28T11:22:19.355Z"
   },
   {
    "duration": 76,
    "start_time": "2022-03-28T11:22:19.741Z"
   },
   {
    "duration": 15,
    "start_time": "2022-03-28T11:22:19.819Z"
   },
   {
    "duration": 3,
    "start_time": "2022-03-28T11:22:19.837Z"
   },
   {
    "duration": 7,
    "start_time": "2022-03-28T11:22:19.842Z"
   },
   {
    "duration": 5,
    "start_time": "2022-03-28T11:22:19.850Z"
   },
   {
    "duration": 6,
    "start_time": "2022-03-28T11:22:19.856Z"
   },
   {
    "duration": 41,
    "start_time": "2022-03-28T11:22:19.863Z"
   },
   {
    "duration": 6,
    "start_time": "2022-03-28T11:22:19.906Z"
   },
   {
    "duration": 8,
    "start_time": "2022-03-28T11:22:19.914Z"
   },
   {
    "duration": 16,
    "start_time": "2022-03-28T11:22:19.924Z"
   },
   {
    "duration": 14,
    "start_time": "2022-03-28T11:22:19.942Z"
   },
   {
    "duration": 15,
    "start_time": "2022-03-28T11:22:19.958Z"
   },
   {
    "duration": 26,
    "start_time": "2022-03-28T11:22:19.975Z"
   },
   {
    "duration": 4,
    "start_time": "2022-03-28T11:22:20.003Z"
   },
   {
    "duration": 7,
    "start_time": "2022-03-28T11:22:20.009Z"
   },
   {
    "duration": 7,
    "start_time": "2022-03-28T11:22:20.017Z"
   },
   {
    "duration": 21,
    "start_time": "2022-03-28T11:22:20.026Z"
   },
   {
    "duration": 3,
    "start_time": "2022-03-28T11:22:20.048Z"
   },
   {
    "duration": 590,
    "start_time": "2022-03-28T11:22:20.053Z"
   },
   {
    "duration": 6,
    "start_time": "2022-03-28T11:22:20.645Z"
   },
   {
    "duration": 8,
    "start_time": "2022-03-28T11:22:20.653Z"
   },
   {
    "duration": 13,
    "start_time": "2022-03-28T11:22:20.662Z"
   },
   {
    "duration": 29,
    "start_time": "2022-03-28T11:22:20.678Z"
   },
   {
    "duration": 13,
    "start_time": "2022-03-28T11:22:20.709Z"
   },
   {
    "duration": 16,
    "start_time": "2022-03-28T11:22:20.724Z"
   },
   {
    "duration": 16,
    "start_time": "2022-03-28T11:22:20.742Z"
   },
   {
    "duration": 18,
    "start_time": "2022-03-28T11:22:20.762Z"
   },
   {
    "duration": 16,
    "start_time": "2022-03-28T11:22:20.801Z"
   },
   {
    "duration": 47,
    "start_time": "2022-03-28T11:22:20.819Z"
   },
   {
    "duration": 46,
    "start_time": "2022-03-28T11:22:20.868Z"
   },
   {
    "duration": 21,
    "start_time": "2022-03-28T11:22:20.916Z"
   },
   {
    "duration": 14,
    "start_time": "2022-03-28T11:22:20.939Z"
   },
   {
    "duration": 17,
    "start_time": "2022-03-28T11:22:20.955Z"
   },
   {
    "duration": 41,
    "start_time": "2022-03-28T11:22:20.974Z"
   },
   {
    "duration": 15,
    "start_time": "2022-03-28T11:22:21.017Z"
   },
   {
    "duration": 13,
    "start_time": "2022-03-28T11:22:21.034Z"
   },
   {
    "duration": 17,
    "start_time": "2022-03-28T11:22:21.048Z"
   },
   {
    "duration": 42,
    "start_time": "2022-03-28T11:22:21.067Z"
   },
   {
    "duration": 34,
    "start_time": "2022-03-28T11:22:21.111Z"
   },
   {
    "duration": 32,
    "start_time": "2022-03-28T11:22:21.147Z"
   },
   {
    "duration": 29,
    "start_time": "2022-03-28T11:22:21.180Z"
   },
   {
    "duration": 21,
    "start_time": "2022-03-28T11:22:21.210Z"
   },
   {
    "duration": 26,
    "start_time": "2022-03-28T11:22:21.233Z"
   },
   {
    "duration": 20,
    "start_time": "2022-03-28T11:22:21.260Z"
   },
   {
    "duration": 38,
    "start_time": "2022-03-28T11:22:21.282Z"
   },
   {
    "duration": 205,
    "start_time": "2022-03-28T11:26:17.934Z"
   },
   {
    "duration": 13,
    "start_time": "2022-03-28T11:26:23.536Z"
   },
   {
    "duration": 5,
    "start_time": "2022-03-28T11:28:59.499Z"
   },
   {
    "duration": 213,
    "start_time": "2022-03-28T11:29:10.926Z"
   },
   {
    "duration": 5,
    "start_time": "2022-03-28T11:29:16.973Z"
   },
   {
    "duration": 427,
    "start_time": "2022-03-28T11:48:08.974Z"
   },
   {
    "duration": 1547,
    "start_time": "2022-03-28T11:48:09.403Z"
   },
   {
    "duration": 19,
    "start_time": "2022-03-28T11:48:10.952Z"
   },
   {
    "duration": 10,
    "start_time": "2022-03-28T11:48:10.975Z"
   },
   {
    "duration": 21,
    "start_time": "2022-03-28T11:48:10.987Z"
   },
   {
    "duration": 9,
    "start_time": "2022-03-28T11:48:11.010Z"
   },
   {
    "duration": 10,
    "start_time": "2022-03-28T11:48:11.021Z"
   },
   {
    "duration": 6,
    "start_time": "2022-03-28T11:48:11.034Z"
   },
   {
    "duration": 8,
    "start_time": "2022-03-28T11:48:11.042Z"
   },
   {
    "duration": 6,
    "start_time": "2022-03-28T11:48:11.054Z"
   },
   {
    "duration": 43,
    "start_time": "2022-03-28T11:48:11.061Z"
   },
   {
    "duration": 17,
    "start_time": "2022-03-28T11:48:11.106Z"
   },
   {
    "duration": 20,
    "start_time": "2022-03-28T11:48:11.124Z"
   },
   {
    "duration": 5,
    "start_time": "2022-03-28T11:48:11.146Z"
   },
   {
    "duration": 6,
    "start_time": "2022-03-28T11:48:11.152Z"
   },
   {
    "duration": 41,
    "start_time": "2022-03-28T11:48:11.160Z"
   },
   {
    "duration": 5,
    "start_time": "2022-03-28T11:48:11.203Z"
   },
   {
    "duration": 22,
    "start_time": "2022-03-28T11:48:11.210Z"
   },
   {
    "duration": 3,
    "start_time": "2022-03-28T11:48:11.234Z"
   },
   {
    "duration": 565,
    "start_time": "2022-03-28T11:48:11.238Z"
   },
   {
    "duration": 6,
    "start_time": "2022-03-28T11:48:11.805Z"
   },
   {
    "duration": 9,
    "start_time": "2022-03-28T11:48:11.813Z"
   },
   {
    "duration": 8,
    "start_time": "2022-03-28T11:48:11.824Z"
   },
   {
    "duration": 6,
    "start_time": "2022-03-28T11:48:11.834Z"
   },
   {
    "duration": 5,
    "start_time": "2022-03-28T11:48:11.842Z"
   },
   {
    "duration": 15,
    "start_time": "2022-03-28T11:48:11.848Z"
   },
   {
    "duration": 50,
    "start_time": "2022-03-28T11:48:11.865Z"
   },
   {
    "duration": 20,
    "start_time": "2022-03-28T11:48:11.918Z"
   },
   {
    "duration": 17,
    "start_time": "2022-03-28T11:48:11.941Z"
   },
   {
    "duration": 68,
    "start_time": "2022-03-28T11:48:11.959Z"
   },
   {
    "duration": 26,
    "start_time": "2022-03-28T11:48:12.029Z"
   },
   {
    "duration": 43,
    "start_time": "2022-03-28T11:48:12.058Z"
   },
   {
    "duration": 15,
    "start_time": "2022-03-28T11:48:12.103Z"
   },
   {
    "duration": 18,
    "start_time": "2022-03-28T11:48:12.119Z"
   },
   {
    "duration": 17,
    "start_time": "2022-03-28T11:48:12.139Z"
   },
   {
    "duration": 45,
    "start_time": "2022-03-28T11:48:12.158Z"
   },
   {
    "duration": 13,
    "start_time": "2022-03-28T11:48:12.205Z"
   },
   {
    "duration": 17,
    "start_time": "2022-03-28T11:48:12.220Z"
   },
   {
    "duration": 18,
    "start_time": "2022-03-28T11:48:12.239Z"
   },
   {
    "duration": 53,
    "start_time": "2022-03-28T11:48:12.258Z"
   },
   {
    "duration": 32,
    "start_time": "2022-03-28T11:48:12.313Z"
   },
   {
    "duration": 14,
    "start_time": "2022-03-28T11:48:12.347Z"
   },
   {
    "duration": 15,
    "start_time": "2022-03-28T11:48:12.363Z"
   },
   {
    "duration": 41,
    "start_time": "2022-03-28T11:48:12.380Z"
   },
   {
    "duration": 20,
    "start_time": "2022-03-28T11:48:12.423Z"
   },
   {
    "duration": 21,
    "start_time": "2022-03-28T11:48:12.445Z"
   },
   {
    "duration": 457,
    "start_time": "2022-03-28T11:48:40.227Z"
   },
   {
    "duration": 694,
    "start_time": "2022-03-28T11:48:40.687Z"
   },
   {
    "duration": 15,
    "start_time": "2022-03-28T11:48:41.385Z"
   },
   {
    "duration": 3,
    "start_time": "2022-03-28T11:48:41.402Z"
   },
   {
    "duration": 7,
    "start_time": "2022-03-28T11:48:41.406Z"
   },
   {
    "duration": 4,
    "start_time": "2022-03-28T11:48:41.415Z"
   },
   {
    "duration": 6,
    "start_time": "2022-03-28T11:48:41.420Z"
   },
   {
    "duration": 7,
    "start_time": "2022-03-28T11:48:41.428Z"
   },
   {
    "duration": 11,
    "start_time": "2022-03-28T11:48:41.437Z"
   },
   {
    "duration": 8,
    "start_time": "2022-03-28T11:48:41.450Z"
   },
   {
    "duration": 20,
    "start_time": "2022-03-28T11:48:41.459Z"
   },
   {
    "duration": 24,
    "start_time": "2022-03-28T11:48:41.481Z"
   },
   {
    "duration": 19,
    "start_time": "2022-03-28T11:48:41.508Z"
   },
   {
    "duration": 5,
    "start_time": "2022-03-28T11:48:41.529Z"
   },
   {
    "duration": 6,
    "start_time": "2022-03-28T11:48:41.535Z"
   },
   {
    "duration": 10,
    "start_time": "2022-03-28T11:48:41.543Z"
   },
   {
    "duration": 8,
    "start_time": "2022-03-28T11:48:41.554Z"
   },
   {
    "duration": 37,
    "start_time": "2022-03-28T11:48:41.564Z"
   },
   {
    "duration": 3,
    "start_time": "2022-03-28T11:48:41.602Z"
   },
   {
    "duration": 489,
    "start_time": "2022-03-28T11:48:41.607Z"
   },
   {
    "duration": 6,
    "start_time": "2022-03-28T11:48:42.100Z"
   },
   {
    "duration": 7,
    "start_time": "2022-03-28T11:48:42.108Z"
   },
   {
    "duration": 8,
    "start_time": "2022-03-28T11:48:42.116Z"
   },
   {
    "duration": 6,
    "start_time": "2022-03-28T11:48:42.126Z"
   },
   {
    "duration": 6,
    "start_time": "2022-03-28T11:48:42.133Z"
   },
   {
    "duration": 16,
    "start_time": "2022-03-28T11:48:42.140Z"
   },
   {
    "duration": 44,
    "start_time": "2022-03-28T11:48:42.158Z"
   },
   {
    "duration": 17,
    "start_time": "2022-03-28T11:48:42.204Z"
   },
   {
    "duration": 15,
    "start_time": "2022-03-28T11:48:42.222Z"
   },
   {
    "duration": 64,
    "start_time": "2022-03-28T11:48:42.239Z"
   },
   {
    "duration": 24,
    "start_time": "2022-03-28T11:48:42.304Z"
   },
   {
    "duration": 20,
    "start_time": "2022-03-28T11:48:42.330Z"
   },
   {
    "duration": 15,
    "start_time": "2022-03-28T11:48:42.351Z"
   },
   {
    "duration": 42,
    "start_time": "2022-03-28T11:48:42.368Z"
   },
   {
    "duration": 15,
    "start_time": "2022-03-28T11:48:42.412Z"
   },
   {
    "duration": 14,
    "start_time": "2022-03-28T11:48:42.429Z"
   },
   {
    "duration": 13,
    "start_time": "2022-03-28T11:48:42.445Z"
   },
   {
    "duration": 54,
    "start_time": "2022-03-28T11:48:42.460Z"
   },
   {
    "duration": 11,
    "start_time": "2022-03-28T11:48:42.516Z"
   },
   {
    "duration": 23,
    "start_time": "2022-03-28T11:48:42.532Z"
   },
   {
    "duration": 59,
    "start_time": "2022-03-28T11:48:42.558Z"
   },
   {
    "duration": 12,
    "start_time": "2022-03-28T11:48:42.619Z"
   },
   {
    "duration": 14,
    "start_time": "2022-03-28T11:48:42.633Z"
   },
   {
    "duration": 54,
    "start_time": "2022-03-28T11:48:42.648Z"
   },
   {
    "duration": 20,
    "start_time": "2022-03-28T11:48:42.703Z"
   },
   {
    "duration": 22,
    "start_time": "2022-03-28T11:48:42.725Z"
   },
   {
    "duration": 185,
    "start_time": "2022-03-28T11:51:13.858Z"
   },
   {
    "duration": 818,
    "start_time": "2022-03-28T11:51:39.813Z"
   },
   {
    "duration": 831,
    "start_time": "2022-03-28T11:51:52.110Z"
   },
   {
    "duration": 962,
    "start_time": "2022-03-28T11:52:19.290Z"
   },
   {
    "duration": 391,
    "start_time": "2022-03-29T06:22:43.475Z"
   },
   {
    "duration": 59,
    "start_time": "2022-03-29T06:22:43.867Z"
   },
   {
    "duration": 15,
    "start_time": "2022-03-29T06:22:43.928Z"
   },
   {
    "duration": 3,
    "start_time": "2022-03-29T06:22:43.944Z"
   },
   {
    "duration": 7,
    "start_time": "2022-03-29T06:22:43.948Z"
   },
   {
    "duration": 4,
    "start_time": "2022-03-29T06:22:43.956Z"
   },
   {
    "duration": 21,
    "start_time": "2022-03-29T06:22:43.961Z"
   },
   {
    "duration": 4,
    "start_time": "2022-03-29T06:22:43.983Z"
   },
   {
    "duration": 7,
    "start_time": "2022-03-29T06:22:43.988Z"
   },
   {
    "duration": 4,
    "start_time": "2022-03-29T06:22:43.997Z"
   },
   {
    "duration": 9,
    "start_time": "2022-03-29T06:22:44.002Z"
   },
   {
    "duration": 15,
    "start_time": "2022-03-29T06:22:44.012Z"
   },
   {
    "duration": 12,
    "start_time": "2022-03-29T06:22:44.029Z"
   },
   {
    "duration": 38,
    "start_time": "2022-03-29T06:22:44.044Z"
   },
   {
    "duration": 4,
    "start_time": "2022-03-29T06:22:44.083Z"
   },
   {
    "duration": 6,
    "start_time": "2022-03-29T06:22:44.088Z"
   },
   {
    "duration": 5,
    "start_time": "2022-03-29T06:22:44.095Z"
   },
   {
    "duration": 14,
    "start_time": "2022-03-29T06:22:44.101Z"
   },
   {
    "duration": 2,
    "start_time": "2022-03-29T06:22:44.116Z"
   },
   {
    "duration": 467,
    "start_time": "2022-03-29T06:22:44.120Z"
   },
   {
    "duration": 5,
    "start_time": "2022-03-29T06:22:44.589Z"
   },
   {
    "duration": 8,
    "start_time": "2022-03-29T06:22:44.596Z"
   },
   {
    "duration": 8,
    "start_time": "2022-03-29T06:22:44.606Z"
   },
   {
    "duration": 7,
    "start_time": "2022-03-29T06:22:44.615Z"
   },
   {
    "duration": 6,
    "start_time": "2022-03-29T06:22:44.624Z"
   },
   {
    "duration": 16,
    "start_time": "2022-03-29T06:22:44.631Z"
   },
   {
    "duration": 35,
    "start_time": "2022-03-29T06:22:44.648Z"
   },
   {
    "duration": 18,
    "start_time": "2022-03-29T06:22:44.685Z"
   },
   {
    "duration": 15,
    "start_time": "2022-03-29T06:22:44.705Z"
   },
   {
    "duration": 60,
    "start_time": "2022-03-29T06:22:44.721Z"
   },
   {
    "duration": 23,
    "start_time": "2022-03-29T06:22:44.783Z"
   },
   {
    "duration": 18,
    "start_time": "2022-03-29T06:22:44.807Z"
   },
   {
    "duration": 12,
    "start_time": "2022-03-29T06:22:44.827Z"
   },
   {
    "duration": 45,
    "start_time": "2022-03-29T06:22:44.841Z"
   },
   {
    "duration": 13,
    "start_time": "2022-03-29T06:22:44.888Z"
   },
   {
    "duration": 13,
    "start_time": "2022-03-29T06:22:44.903Z"
   },
   {
    "duration": 12,
    "start_time": "2022-03-29T06:22:44.917Z"
   },
   {
    "duration": 16,
    "start_time": "2022-03-29T06:22:44.931Z"
   },
   {
    "duration": 8,
    "start_time": "2022-03-29T06:22:44.981Z"
   },
   {
    "duration": 25,
    "start_time": "2022-03-29T06:22:44.991Z"
   },
   {
    "duration": 31,
    "start_time": "2022-03-29T06:22:45.019Z"
   },
   {
    "duration": 34,
    "start_time": "2022-03-29T06:22:45.051Z"
   },
   {
    "duration": 13,
    "start_time": "2022-03-29T06:22:45.087Z"
   },
   {
    "duration": 24,
    "start_time": "2022-03-29T06:22:45.101Z"
   },
   {
    "duration": 18,
    "start_time": "2022-03-29T06:22:45.126Z"
   },
   {
    "duration": 39,
    "start_time": "2022-03-29T06:22:45.146Z"
   },
   {
    "duration": 489,
    "start_time": "2022-03-29T06:27:43.584Z"
   },
   {
    "duration": 63,
    "start_time": "2022-03-29T06:27:44.080Z"
   },
   {
    "duration": 14,
    "start_time": "2022-03-29T06:27:44.145Z"
   },
   {
    "duration": 3,
    "start_time": "2022-03-29T06:27:44.161Z"
   },
   {
    "duration": 10,
    "start_time": "2022-03-29T06:27:44.166Z"
   },
   {
    "duration": 6,
    "start_time": "2022-03-29T06:27:44.177Z"
   },
   {
    "duration": 7,
    "start_time": "2022-03-29T06:27:44.185Z"
   },
   {
    "duration": 4,
    "start_time": "2022-03-29T06:27:44.193Z"
   },
   {
    "duration": 7,
    "start_time": "2022-03-29T06:27:44.199Z"
   },
   {
    "duration": 7,
    "start_time": "2022-03-29T06:27:44.207Z"
   },
   {
    "duration": 12,
    "start_time": "2022-03-29T06:27:44.216Z"
   },
   {
    "duration": 13,
    "start_time": "2022-03-29T06:27:44.229Z"
   },
   {
    "duration": 43,
    "start_time": "2022-03-29T06:27:44.243Z"
   },
   {
    "duration": 6,
    "start_time": "2022-03-29T06:27:44.290Z"
   },
   {
    "duration": 6,
    "start_time": "2022-03-29T06:27:44.298Z"
   },
   {
    "duration": 4,
    "start_time": "2022-03-29T06:27:44.305Z"
   },
   {
    "duration": 5,
    "start_time": "2022-03-29T06:27:44.310Z"
   },
   {
    "duration": 14,
    "start_time": "2022-03-29T06:27:44.317Z"
   },
   {
    "duration": 3,
    "start_time": "2022-03-29T06:27:44.332Z"
   },
   {
    "duration": 546,
    "start_time": "2022-03-29T06:27:44.336Z"
   },
   {
    "duration": 6,
    "start_time": "2022-03-29T06:27:44.884Z"
   },
   {
    "duration": 10,
    "start_time": "2022-03-29T06:27:44.891Z"
   },
   {
    "duration": 8,
    "start_time": "2022-03-29T06:27:44.902Z"
   },
   {
    "duration": 11,
    "start_time": "2022-03-29T06:27:44.912Z"
   },
   {
    "duration": 7,
    "start_time": "2022-03-29T06:27:44.924Z"
   },
   {
    "duration": 14,
    "start_time": "2022-03-29T06:27:44.933Z"
   },
   {
    "duration": 34,
    "start_time": "2022-03-29T06:27:44.949Z"
   },
   {
    "duration": 19,
    "start_time": "2022-03-29T06:27:44.985Z"
   },
   {
    "duration": 16,
    "start_time": "2022-03-29T06:27:45.005Z"
   },
   {
    "duration": 65,
    "start_time": "2022-03-29T06:27:45.023Z"
   },
   {
    "duration": 24,
    "start_time": "2022-03-29T06:27:45.090Z"
   },
   {
    "duration": 19,
    "start_time": "2022-03-29T06:27:45.115Z"
   },
   {
    "duration": 11,
    "start_time": "2022-03-29T06:27:45.136Z"
   },
   {
    "duration": 38,
    "start_time": "2022-03-29T06:27:45.149Z"
   },
   {
    "duration": 13,
    "start_time": "2022-03-29T06:27:45.189Z"
   },
   {
    "duration": 18,
    "start_time": "2022-03-29T06:27:45.204Z"
   },
   {
    "duration": 11,
    "start_time": "2022-03-29T06:27:45.224Z"
   },
   {
    "duration": 14,
    "start_time": "2022-03-29T06:27:45.237Z"
   },
   {
    "duration": 39,
    "start_time": "2022-03-29T06:27:45.252Z"
   },
   {
    "duration": 28,
    "start_time": "2022-03-29T06:27:45.293Z"
   },
   {
    "duration": 32,
    "start_time": "2022-03-29T06:27:45.325Z"
   },
   {
    "duration": 32,
    "start_time": "2022-03-29T06:27:45.358Z"
   },
   {
    "duration": 19,
    "start_time": "2022-03-29T06:27:45.392Z"
   },
   {
    "duration": 25,
    "start_time": "2022-03-29T06:27:45.413Z"
   },
   {
    "duration": 19,
    "start_time": "2022-03-29T06:27:45.439Z"
   },
   {
    "duration": 40,
    "start_time": "2022-03-29T06:27:45.460Z"
   },
   {
    "duration": 72,
    "start_time": "2022-04-03T13:27:04.415Z"
   },
   {
    "duration": 9,
    "start_time": "2022-04-03T13:27:09.080Z"
   },
   {
    "duration": 516,
    "start_time": "2022-04-03T13:27:14.188Z"
   },
   {
    "duration": 77,
    "start_time": "2022-04-03T13:27:14.707Z"
   },
   {
    "duration": 21,
    "start_time": "2022-04-03T13:27:14.787Z"
   },
   {
    "duration": 5,
    "start_time": "2022-04-03T13:27:14.810Z"
   },
   {
    "duration": 13,
    "start_time": "2022-04-03T13:27:14.818Z"
   },
   {
    "duration": 12,
    "start_time": "2022-04-03T13:27:14.833Z"
   },
   {
    "duration": 40,
    "start_time": "2022-04-03T13:27:14.847Z"
   },
   {
    "duration": 6,
    "start_time": "2022-04-03T13:27:14.889Z"
   },
   {
    "duration": 10,
    "start_time": "2022-04-03T13:27:14.897Z"
   },
   {
    "duration": 6,
    "start_time": "2022-04-03T13:27:14.909Z"
   },
   {
    "duration": 13,
    "start_time": "2022-04-03T13:27:14.917Z"
   },
   {
    "duration": 55,
    "start_time": "2022-04-03T13:27:14.933Z"
   },
   {
    "duration": 22,
    "start_time": "2022-04-03T13:27:14.990Z"
   },
   {
    "duration": 24,
    "start_time": "2022-04-03T13:27:15.017Z"
   },
   {
    "duration": 13,
    "start_time": "2022-04-03T13:27:15.043Z"
   },
   {
    "duration": 25,
    "start_time": "2022-04-03T13:27:15.059Z"
   },
   {
    "duration": 13,
    "start_time": "2022-04-03T13:27:15.086Z"
   },
   {
    "duration": 31,
    "start_time": "2022-04-03T13:27:15.101Z"
   },
   {
    "duration": 4,
    "start_time": "2022-04-03T13:27:15.135Z"
   },
   {
    "duration": 1017,
    "start_time": "2022-04-03T13:27:15.141Z"
   },
   {
    "duration": 9,
    "start_time": "2022-04-03T13:27:16.160Z"
   },
   {
    "duration": 19,
    "start_time": "2022-04-03T13:27:16.171Z"
   },
   {
    "duration": 14,
    "start_time": "2022-04-03T13:27:16.192Z"
   },
   {
    "duration": 14,
    "start_time": "2022-04-03T13:27:16.208Z"
   },
   {
    "duration": 10,
    "start_time": "2022-04-03T13:27:16.224Z"
   },
   {
    "duration": 60,
    "start_time": "2022-04-03T13:27:16.236Z"
   },
   {
    "duration": 24,
    "start_time": "2022-04-03T13:27:16.298Z"
   },
   {
    "duration": 29,
    "start_time": "2022-04-03T13:27:16.324Z"
   },
   {
    "duration": 51,
    "start_time": "2022-04-03T13:27:16.355Z"
   },
   {
    "duration": 83,
    "start_time": "2022-04-03T13:27:16.409Z"
   },
   {
    "duration": 35,
    "start_time": "2022-04-03T13:27:16.494Z"
   },
   {
    "duration": 55,
    "start_time": "2022-04-03T13:27:16.532Z"
   },
   {
    "duration": 18,
    "start_time": "2022-04-03T13:27:16.589Z"
   },
   {
    "duration": 27,
    "start_time": "2022-04-03T13:27:16.609Z"
   },
   {
    "duration": 47,
    "start_time": "2022-04-03T13:27:16.638Z"
   },
   {
    "duration": 19,
    "start_time": "2022-04-03T13:27:16.687Z"
   },
   {
    "duration": 24,
    "start_time": "2022-04-03T13:27:16.708Z"
   },
   {
    "duration": 28,
    "start_time": "2022-04-03T13:27:16.734Z"
   },
   {
    "duration": 15,
    "start_time": "2022-04-03T13:27:16.784Z"
   },
   {
    "duration": 42,
    "start_time": "2022-04-03T13:27:16.801Z"
   },
   {
    "duration": 64,
    "start_time": "2022-04-03T13:27:16.850Z"
   },
   {
    "duration": 20,
    "start_time": "2022-04-03T13:27:16.916Z"
   },
   {
    "duration": 45,
    "start_time": "2022-04-03T13:27:16.939Z"
   },
   {
    "duration": 45,
    "start_time": "2022-04-03T13:27:16.986Z"
   },
   {
    "duration": 54,
    "start_time": "2022-04-03T13:27:17.034Z"
   },
   {
    "duration": 32,
    "start_time": "2022-04-03T13:27:17.090Z"
   },
   {
    "duration": 535,
    "start_time": "2022-04-03T13:27:35.849Z"
   },
   {
    "duration": 73,
    "start_time": "2022-04-03T13:27:36.387Z"
   },
   {
    "duration": 33,
    "start_time": "2022-04-03T13:27:36.463Z"
   },
   {
    "duration": 4,
    "start_time": "2022-04-03T13:27:36.499Z"
   },
   {
    "duration": 11,
    "start_time": "2022-04-03T13:27:36.507Z"
   },
   {
    "duration": 11,
    "start_time": "2022-04-03T13:27:36.520Z"
   },
   {
    "duration": 10,
    "start_time": "2022-04-03T13:27:36.533Z"
   },
   {
    "duration": 39,
    "start_time": "2022-04-03T13:27:36.545Z"
   },
   {
    "duration": 8,
    "start_time": "2022-04-03T13:27:36.587Z"
   },
   {
    "duration": 9,
    "start_time": "2022-04-03T13:27:36.598Z"
   },
   {
    "duration": 14,
    "start_time": "2022-04-03T13:27:36.610Z"
   },
   {
    "duration": 57,
    "start_time": "2022-04-03T13:27:36.627Z"
   },
   {
    "duration": 29,
    "start_time": "2022-04-03T13:27:36.686Z"
   },
   {
    "duration": 9,
    "start_time": "2022-04-03T13:27:36.719Z"
   },
   {
    "duration": 11,
    "start_time": "2022-04-03T13:27:36.731Z"
   },
   {
    "duration": 49,
    "start_time": "2022-04-03T13:27:36.744Z"
   },
   {
    "duration": 9,
    "start_time": "2022-04-03T13:27:36.795Z"
   },
   {
    "duration": 29,
    "start_time": "2022-04-03T13:27:36.806Z"
   },
   {
    "duration": 4,
    "start_time": "2022-04-03T13:27:36.838Z"
   },
   {
    "duration": 1062,
    "start_time": "2022-04-03T13:27:36.844Z"
   },
   {
    "duration": 11,
    "start_time": "2022-04-03T13:27:37.909Z"
   },
   {
    "duration": 19,
    "start_time": "2022-04-03T13:27:37.923Z"
   },
   {
    "duration": 38,
    "start_time": "2022-04-03T13:27:37.945Z"
   },
   {
    "duration": 10,
    "start_time": "2022-04-03T13:27:37.986Z"
   },
   {
    "duration": 10,
    "start_time": "2022-04-03T13:27:37.999Z"
   },
   {
    "duration": 23,
    "start_time": "2022-04-03T13:27:38.011Z"
   },
   {
    "duration": 62,
    "start_time": "2022-04-03T13:27:38.036Z"
   },
   {
    "duration": 34,
    "start_time": "2022-04-03T13:27:38.101Z"
   },
   {
    "duration": 50,
    "start_time": "2022-04-03T13:27:38.138Z"
   },
   {
    "duration": 66,
    "start_time": "2022-04-03T13:27:38.190Z"
   },
   {
    "duration": 45,
    "start_time": "2022-04-03T13:27:38.258Z"
   },
   {
    "duration": 29,
    "start_time": "2022-04-03T13:27:38.305Z"
   },
   {
    "duration": 48,
    "start_time": "2022-04-03T13:27:38.337Z"
   },
   {
    "duration": 25,
    "start_time": "2022-04-03T13:27:38.387Z"
   },
   {
    "duration": 20,
    "start_time": "2022-04-03T13:27:38.414Z"
   },
   {
    "duration": 48,
    "start_time": "2022-04-03T13:27:38.436Z"
   },
   {
    "duration": 18,
    "start_time": "2022-04-03T13:27:38.486Z"
   },
   {
    "duration": 25,
    "start_time": "2022-04-03T13:27:38.506Z"
   },
   {
    "duration": 49,
    "start_time": "2022-04-03T13:27:38.534Z"
   },
   {
    "duration": 32,
    "start_time": "2022-04-03T13:27:38.586Z"
   },
   {
    "duration": 73,
    "start_time": "2022-04-03T13:27:38.623Z"
   },
   {
    "duration": 19,
    "start_time": "2022-04-03T13:27:38.698Z"
   },
   {
    "duration": 22,
    "start_time": "2022-04-03T13:27:38.719Z"
   },
   {
    "duration": 62,
    "start_time": "2022-04-03T13:27:38.743Z"
   },
   {
    "duration": 29,
    "start_time": "2022-04-03T13:27:38.807Z"
   },
   {
    "duration": 63,
    "start_time": "2022-04-03T13:27:38.838Z"
   }
  ],
  "kernelspec": {
   "display_name": "Python 3 (ipykernel)",
   "language": "python",
   "name": "python3"
  },
  "language_info": {
   "codemirror_mode": {
    "name": "ipython",
    "version": 3
   },
   "file_extension": ".py",
   "mimetype": "text/x-python",
   "name": "python",
   "nbconvert_exporter": "python",
   "pygments_lexer": "ipython3",
   "version": "3.9.7"
  },
  "toc": {
   "base_numbering": 1,
   "nav_menu": {},
   "number_sections": true,
   "sideBar": true,
   "skip_h1_title": true,
   "title_cell": "Table of Contents",
   "title_sidebar": "Contents",
   "toc_cell": false,
   "toc_position": {},
   "toc_section_display": true,
   "toc_window_display": false
  }
 },
 "nbformat": 4,
 "nbformat_minor": 5
}
