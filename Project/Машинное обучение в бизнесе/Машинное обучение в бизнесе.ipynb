{
 "cells": [
  {
   "cell_type": "markdown",
   "metadata": {
    "toc": true
   },
   "source": [
    "<h1>Содержание<span class=\"tocSkip\"></span></h1>\n",
    "<div class=\"toc\"><ul class=\"toc-item\"><li><span><a href=\"#Загрузка-и-подготовка-данных\" data-toc-modified-id=\"Загрузка-и-подготовка-данных-1\"><span class=\"toc-item-num\">1&nbsp;&nbsp;</span>Загрузка и подготовка данных</a></span><ul class=\"toc-item\"><li><span><a href=\"#Первая-область\" data-toc-modified-id=\"Первая-область-1.1\"><span class=\"toc-item-num\">1.1&nbsp;&nbsp;</span>Первая область</a></span></li><li><span><a href=\"#Вторая-область\" data-toc-modified-id=\"Вторая-область-1.2\"><span class=\"toc-item-num\">1.2&nbsp;&nbsp;</span>Вторая область</a></span></li><li><span><a href=\"#Третья-область\" data-toc-modified-id=\"Третья-область-1.3\"><span class=\"toc-item-num\">1.3&nbsp;&nbsp;</span>Третья область</a></span></li><li><span><a href=\"#Вывод\" data-toc-modified-id=\"Вывод-1.4\"><span class=\"toc-item-num\">1.4&nbsp;&nbsp;</span>Вывод</a></span></li></ul></li><li><span><a href=\"#Обучение-и-проверка-модели\" data-toc-modified-id=\"Обучение-и-проверка-модели-2\"><span class=\"toc-item-num\">2&nbsp;&nbsp;</span>Обучение и проверка модели</a></span><ul class=\"toc-item\"><li><span><a href=\"#Обучение-моделей\" data-toc-modified-id=\"Обучение-моделей-2.1\"><span class=\"toc-item-num\">2.1&nbsp;&nbsp;</span>Обучение моделей</a></span></li><li><span><a href=\"#Вывод\" data-toc-modified-id=\"Вывод-2.2\"><span class=\"toc-item-num\">2.2&nbsp;&nbsp;</span>Вывод</a></span></li></ul></li><li><span><a href=\"#Подготовка-к-расчёту-прибыли\" data-toc-modified-id=\"Подготовка-к-расчёту-прибыли-3\"><span class=\"toc-item-num\">3&nbsp;&nbsp;</span>Подготовка к расчёту прибыли</a></span><ul class=\"toc-item\"><li><span><a href=\"#Вывод\" data-toc-modified-id=\"Вывод-3.1\"><span class=\"toc-item-num\">3.1&nbsp;&nbsp;</span>Вывод</a></span></li></ul></li><li><span><a href=\"#Расчёт-прибыли-и-рисков\" data-toc-modified-id=\"Расчёт-прибыли-и-рисков-4\"><span class=\"toc-item-num\">4&nbsp;&nbsp;</span>Расчёт прибыли и рисков</a></span><ul class=\"toc-item\"><li><span><a href=\"#Прибыль\" data-toc-modified-id=\"Прибыль-4.1\"><span class=\"toc-item-num\">4.1&nbsp;&nbsp;</span>Прибыль</a></span></li><li><span><a href=\"#Вывод\" data-toc-modified-id=\"Вывод-4.2\"><span class=\"toc-item-num\">4.2&nbsp;&nbsp;</span>Вывод</a></span></li><li><span><a href=\"#Риски\" data-toc-modified-id=\"Риски-4.3\"><span class=\"toc-item-num\">4.3&nbsp;&nbsp;</span>Риски</a></span></li></ul></li><li><span><a href=\"#Общий-вывод\" data-toc-modified-id=\"Общий-вывод-5\"><span class=\"toc-item-num\">5&nbsp;&nbsp;</span>Общий вывод</a></span></li><li><span><a href=\"#Чек-лист-готовности-проекта\" data-toc-modified-id=\"Чек-лист-готовности-проекта-6\"><span class=\"toc-item-num\">6&nbsp;&nbsp;</span>Чек-лист готовности проекта</a></span></li></ul></div>"
   ]
  },
  {
   "cell_type": "markdown",
   "metadata": {},
   "source": [
    "# Выбор локации для скважины"
   ]
  },
  {
   "cell_type": "markdown",
   "metadata": {},
   "source": [
    "Допустим, вы работаете в добывающей компании «ГлавРосГосНефть». Нужно решить, где бурить новую скважину.\n",
    "\n",
    "Вам предоставлены пробы нефти в трёх регионах: в каждом 10 000 месторождений, где измерили качество нефти и объём её запасов. Постройте модель машинного обучения, которая поможет определить регион, где добыча принесёт наибольшую прибыль. Проанализируйте возможную прибыль и риски техникой *Bootstrap.*\n",
    "\n",
    "Шаги для выбора локации:\n",
    "\n",
    "- В избранном регионе ищут месторождения, для каждого определяют значения признаков;\n",
    "- Строят модель и оценивают объём запасов;\n",
    "- Выбирают месторождения с самым высокими оценками значений. Количество месторождений зависит от бюджета компании и стоимости разработки одной скважины;\n",
    "- Прибыль равна суммарной прибыли отобранных месторождений."
   ]
  },
  {
   "cell_type": "markdown",
   "metadata": {},
   "source": [
    "# Условия задачи"
   ]
  },
  {
   "cell_type": "markdown",
   "metadata": {},
   "source": [
    "1. Для обучения модели подходит **только линейная регрессия** (остальные — недостаточно предсказуемые).\n",
    "\n",
    "\n",
    "2. При разведке региона **исследуют 500 точек**, из которых с помощью машинного обучения **выбирают 200 лучших** для разработки.\n",
    "\n",
    "\n",
    "3. Бюджет на разработку скважин в регионе — **10 млрд рублей.**\n",
    "\n",
    "\n",
    "4. При нынешних ценах **один баррель сырья** приносит **450 рублей дохода**. Доход с каждой единицы продукта составляет **450 тыс. рублей**, поскольку объём указан в тысячах баррелей.\n",
    "\n",
    "\n",
    "5. После оценки рисков нужно оставить лишь те регионы, в которых **вероятность убытков меньше 2.5%.** Среди них выбирают регион с наибольшей средней прибылью."
   ]
  },
  {
   "cell_type": "markdown",
   "metadata": {},
   "source": [
    "## Загрузка и подготовка данных"
   ]
  },
  {
   "cell_type": "markdown",
   "metadata": {},
   "source": [
    "Производим **импорт библиотек.**"
   ]
  },
  {
   "cell_type": "code",
   "execution_count": 25,
   "metadata": {},
   "outputs": [],
   "source": [
    "import pandas as pd "
   ]
  },
  {
   "cell_type": "code",
   "execution_count": 2,
   "metadata": {},
   "outputs": [],
   "source": [
    "import numpy as np\n",
    "from numpy.random import RandomState"
   ]
  },
  {
   "cell_type": "code",
   "execution_count": 3,
   "metadata": {},
   "outputs": [],
   "source": [
    "import sklearn\n",
    "from sklearn.model_selection import train_test_split\n",
    "from sklearn.linear_model import LinearRegression\n",
    "from sklearn.metrics import accuracy_score, mean_squared_error"
   ]
  },
  {
   "cell_type": "markdown",
   "metadata": {},
   "source": [
    "**Добавляем глобальные константы.**"
   ]
  },
  {
   "cell_type": "code",
   "execution_count": 4,
   "metadata": {},
   "outputs": [],
   "source": [
    "WELL_DEVELOPMENT = 10_000_000_000\n",
    "PRICE = 450_000"
   ]
  },
  {
   "cell_type": "markdown",
   "metadata": {},
   "source": [
    "**Записываем данные** из csv-файла в переменные."
   ]
  },
  {
   "cell_type": "code",
   "execution_count": 27,
   "metadata": {},
   "outputs": [],
   "source": [
    "key = '%D0%9C%D0%B0%D1%88%D0%B8%D0%BD%D0%BD%D0%BE%D0%B5%20%D0%BE%D0%B1%D1%83%D1%87%D0%B5%D0%BD%D0%B8%D0%B5%20%D0%B2%20%D0%B1%D0%B8%D0%B7%D0%BD%D0%B5%D1%81%D0%B5'\n",
    "list_ = []\n",
    "\n",
    "for i in range(0, 3):\n",
    "    url = f'https://github.com/MEfse/project/blob/main/Project/{key}/geo_data_{i}.csv?raw=true'\n",
    "    list_.append(url)"
   ]
  },
  {
   "cell_type": "code",
   "execution_count": 28,
   "metadata": {},
   "outputs": [],
   "source": [
    "geo_data_0 = pd.read_csv(list_[0])\n",
    "geo_data_1 = pd.read_csv(list_[1])\n",
    "geo_data_2 = pd.read_csv(list_[2])"
   ]
  },
  {
   "cell_type": "markdown",
   "metadata": {},
   "source": [
    "Создаем функцию по **отображению данных.**"
   ]
  },
  {
   "cell_type": "code",
   "execution_count": 6,
   "metadata": {},
   "outputs": [],
   "source": [
    "def info(data):\n",
    "    data.info()\n",
    "    display(data.head(5))\n",
    "    display(data.tail(5))"
   ]
  },
  {
   "cell_type": "markdown",
   "metadata": {},
   "source": [
    "### Первая область"
   ]
  },
  {
   "cell_type": "code",
   "execution_count": 7,
   "metadata": {},
   "outputs": [
    {
     "name": "stdout",
     "output_type": "stream",
     "text": [
      "<class 'pandas.core.frame.DataFrame'>\n",
      "RangeIndex: 100000 entries, 0 to 99999\n",
      "Data columns (total 5 columns):\n",
      " #   Column   Non-Null Count   Dtype  \n",
      "---  ------   --------------   -----  \n",
      " 0   id       100000 non-null  object \n",
      " 1   f0       100000 non-null  float64\n",
      " 2   f1       100000 non-null  float64\n",
      " 3   f2       100000 non-null  float64\n",
      " 4   product  100000 non-null  float64\n",
      "dtypes: float64(4), object(1)\n",
      "memory usage: 3.8+ MB\n"
     ]
    },
    {
     "data": {
      "text/html": [
       "<div>\n",
       "<style scoped>\n",
       "    .dataframe tbody tr th:only-of-type {\n",
       "        vertical-align: middle;\n",
       "    }\n",
       "\n",
       "    .dataframe tbody tr th {\n",
       "        vertical-align: top;\n",
       "    }\n",
       "\n",
       "    .dataframe thead th {\n",
       "        text-align: right;\n",
       "    }\n",
       "</style>\n",
       "<table border=\"1\" class=\"dataframe\">\n",
       "  <thead>\n",
       "    <tr style=\"text-align: right;\">\n",
       "      <th></th>\n",
       "      <th>id</th>\n",
       "      <th>f0</th>\n",
       "      <th>f1</th>\n",
       "      <th>f2</th>\n",
       "      <th>product</th>\n",
       "    </tr>\n",
       "  </thead>\n",
       "  <tbody>\n",
       "    <tr>\n",
       "      <th>0</th>\n",
       "      <td>txEyH</td>\n",
       "      <td>0.705745</td>\n",
       "      <td>-0.497823</td>\n",
       "      <td>1.221170</td>\n",
       "      <td>105.280062</td>\n",
       "    </tr>\n",
       "    <tr>\n",
       "      <th>1</th>\n",
       "      <td>2acmU</td>\n",
       "      <td>1.334711</td>\n",
       "      <td>-0.340164</td>\n",
       "      <td>4.365080</td>\n",
       "      <td>73.037750</td>\n",
       "    </tr>\n",
       "    <tr>\n",
       "      <th>2</th>\n",
       "      <td>409Wp</td>\n",
       "      <td>1.022732</td>\n",
       "      <td>0.151990</td>\n",
       "      <td>1.419926</td>\n",
       "      <td>85.265647</td>\n",
       "    </tr>\n",
       "    <tr>\n",
       "      <th>3</th>\n",
       "      <td>iJLyR</td>\n",
       "      <td>-0.032172</td>\n",
       "      <td>0.139033</td>\n",
       "      <td>2.978566</td>\n",
       "      <td>168.620776</td>\n",
       "    </tr>\n",
       "    <tr>\n",
       "      <th>4</th>\n",
       "      <td>Xdl7t</td>\n",
       "      <td>1.988431</td>\n",
       "      <td>0.155413</td>\n",
       "      <td>4.751769</td>\n",
       "      <td>154.036647</td>\n",
       "    </tr>\n",
       "  </tbody>\n",
       "</table>\n",
       "</div>"
      ],
      "text/plain": [
       "      id        f0        f1        f2     product\n",
       "0  txEyH  0.705745 -0.497823  1.221170  105.280062\n",
       "1  2acmU  1.334711 -0.340164  4.365080   73.037750\n",
       "2  409Wp  1.022732  0.151990  1.419926   85.265647\n",
       "3  iJLyR -0.032172  0.139033  2.978566  168.620776\n",
       "4  Xdl7t  1.988431  0.155413  4.751769  154.036647"
      ]
     },
     "metadata": {},
     "output_type": "display_data"
    },
    {
     "data": {
      "text/html": [
       "<div>\n",
       "<style scoped>\n",
       "    .dataframe tbody tr th:only-of-type {\n",
       "        vertical-align: middle;\n",
       "    }\n",
       "\n",
       "    .dataframe tbody tr th {\n",
       "        vertical-align: top;\n",
       "    }\n",
       "\n",
       "    .dataframe thead th {\n",
       "        text-align: right;\n",
       "    }\n",
       "</style>\n",
       "<table border=\"1\" class=\"dataframe\">\n",
       "  <thead>\n",
       "    <tr style=\"text-align: right;\">\n",
       "      <th></th>\n",
       "      <th>id</th>\n",
       "      <th>f0</th>\n",
       "      <th>f1</th>\n",
       "      <th>f2</th>\n",
       "      <th>product</th>\n",
       "    </tr>\n",
       "  </thead>\n",
       "  <tbody>\n",
       "    <tr>\n",
       "      <th>99995</th>\n",
       "      <td>DLsed</td>\n",
       "      <td>0.971957</td>\n",
       "      <td>0.370953</td>\n",
       "      <td>6.075346</td>\n",
       "      <td>110.744026</td>\n",
       "    </tr>\n",
       "    <tr>\n",
       "      <th>99996</th>\n",
       "      <td>QKivN</td>\n",
       "      <td>1.392429</td>\n",
       "      <td>-0.382606</td>\n",
       "      <td>1.273912</td>\n",
       "      <td>122.346843</td>\n",
       "    </tr>\n",
       "    <tr>\n",
       "      <th>99997</th>\n",
       "      <td>3rnvd</td>\n",
       "      <td>1.029585</td>\n",
       "      <td>0.018787</td>\n",
       "      <td>-1.348308</td>\n",
       "      <td>64.375443</td>\n",
       "    </tr>\n",
       "    <tr>\n",
       "      <th>99998</th>\n",
       "      <td>7kl59</td>\n",
       "      <td>0.998163</td>\n",
       "      <td>-0.528582</td>\n",
       "      <td>1.583869</td>\n",
       "      <td>74.040764</td>\n",
       "    </tr>\n",
       "    <tr>\n",
       "      <th>99999</th>\n",
       "      <td>1CWhH</td>\n",
       "      <td>1.764754</td>\n",
       "      <td>-0.266417</td>\n",
       "      <td>5.722849</td>\n",
       "      <td>149.633246</td>\n",
       "    </tr>\n",
       "  </tbody>\n",
       "</table>\n",
       "</div>"
      ],
      "text/plain": [
       "          id        f0        f1        f2     product\n",
       "99995  DLsed  0.971957  0.370953  6.075346  110.744026\n",
       "99996  QKivN  1.392429 -0.382606  1.273912  122.346843\n",
       "99997  3rnvd  1.029585  0.018787 -1.348308   64.375443\n",
       "99998  7kl59  0.998163 -0.528582  1.583869   74.040764\n",
       "99999  1CWhH  1.764754 -0.266417  5.722849  149.633246"
      ]
     },
     "metadata": {},
     "output_type": "display_data"
    }
   ],
   "source": [
    "info(geo_data_0)"
   ]
  },
  {
   "cell_type": "markdown",
   "metadata": {},
   "source": [
    "### Вторая область"
   ]
  },
  {
   "cell_type": "code",
   "execution_count": 8,
   "metadata": {},
   "outputs": [
    {
     "name": "stdout",
     "output_type": "stream",
     "text": [
      "<class 'pandas.core.frame.DataFrame'>\n",
      "RangeIndex: 100000 entries, 0 to 99999\n",
      "Data columns (total 5 columns):\n",
      " #   Column   Non-Null Count   Dtype  \n",
      "---  ------   --------------   -----  \n",
      " 0   id       100000 non-null  object \n",
      " 1   f0       100000 non-null  float64\n",
      " 2   f1       100000 non-null  float64\n",
      " 3   f2       100000 non-null  float64\n",
      " 4   product  100000 non-null  float64\n",
      "dtypes: float64(4), object(1)\n",
      "memory usage: 3.8+ MB\n"
     ]
    },
    {
     "data": {
      "text/html": [
       "<div>\n",
       "<style scoped>\n",
       "    .dataframe tbody tr th:only-of-type {\n",
       "        vertical-align: middle;\n",
       "    }\n",
       "\n",
       "    .dataframe tbody tr th {\n",
       "        vertical-align: top;\n",
       "    }\n",
       "\n",
       "    .dataframe thead th {\n",
       "        text-align: right;\n",
       "    }\n",
       "</style>\n",
       "<table border=\"1\" class=\"dataframe\">\n",
       "  <thead>\n",
       "    <tr style=\"text-align: right;\">\n",
       "      <th></th>\n",
       "      <th>id</th>\n",
       "      <th>f0</th>\n",
       "      <th>f1</th>\n",
       "      <th>f2</th>\n",
       "      <th>product</th>\n",
       "    </tr>\n",
       "  </thead>\n",
       "  <tbody>\n",
       "    <tr>\n",
       "      <th>0</th>\n",
       "      <td>kBEdx</td>\n",
       "      <td>-15.001348</td>\n",
       "      <td>-8.276000</td>\n",
       "      <td>-0.005876</td>\n",
       "      <td>3.179103</td>\n",
       "    </tr>\n",
       "    <tr>\n",
       "      <th>1</th>\n",
       "      <td>62mP7</td>\n",
       "      <td>14.272088</td>\n",
       "      <td>-3.475083</td>\n",
       "      <td>0.999183</td>\n",
       "      <td>26.953261</td>\n",
       "    </tr>\n",
       "    <tr>\n",
       "      <th>2</th>\n",
       "      <td>vyE1P</td>\n",
       "      <td>6.263187</td>\n",
       "      <td>-5.948386</td>\n",
       "      <td>5.001160</td>\n",
       "      <td>134.766305</td>\n",
       "    </tr>\n",
       "    <tr>\n",
       "      <th>3</th>\n",
       "      <td>KcrkZ</td>\n",
       "      <td>-13.081196</td>\n",
       "      <td>-11.506057</td>\n",
       "      <td>4.999415</td>\n",
       "      <td>137.945408</td>\n",
       "    </tr>\n",
       "    <tr>\n",
       "      <th>4</th>\n",
       "      <td>AHL4O</td>\n",
       "      <td>12.702195</td>\n",
       "      <td>-8.147433</td>\n",
       "      <td>5.004363</td>\n",
       "      <td>134.766305</td>\n",
       "    </tr>\n",
       "  </tbody>\n",
       "</table>\n",
       "</div>"
      ],
      "text/plain": [
       "      id         f0         f1        f2     product\n",
       "0  kBEdx -15.001348  -8.276000 -0.005876    3.179103\n",
       "1  62mP7  14.272088  -3.475083  0.999183   26.953261\n",
       "2  vyE1P   6.263187  -5.948386  5.001160  134.766305\n",
       "3  KcrkZ -13.081196 -11.506057  4.999415  137.945408\n",
       "4  AHL4O  12.702195  -8.147433  5.004363  134.766305"
      ]
     },
     "metadata": {},
     "output_type": "display_data"
    },
    {
     "data": {
      "text/html": [
       "<div>\n",
       "<style scoped>\n",
       "    .dataframe tbody tr th:only-of-type {\n",
       "        vertical-align: middle;\n",
       "    }\n",
       "\n",
       "    .dataframe tbody tr th {\n",
       "        vertical-align: top;\n",
       "    }\n",
       "\n",
       "    .dataframe thead th {\n",
       "        text-align: right;\n",
       "    }\n",
       "</style>\n",
       "<table border=\"1\" class=\"dataframe\">\n",
       "  <thead>\n",
       "    <tr style=\"text-align: right;\">\n",
       "      <th></th>\n",
       "      <th>id</th>\n",
       "      <th>f0</th>\n",
       "      <th>f1</th>\n",
       "      <th>f2</th>\n",
       "      <th>product</th>\n",
       "    </tr>\n",
       "  </thead>\n",
       "  <tbody>\n",
       "    <tr>\n",
       "      <th>99995</th>\n",
       "      <td>QywKC</td>\n",
       "      <td>9.535637</td>\n",
       "      <td>-6.878139</td>\n",
       "      <td>1.998296</td>\n",
       "      <td>53.906522</td>\n",
       "    </tr>\n",
       "    <tr>\n",
       "      <th>99996</th>\n",
       "      <td>ptvty</td>\n",
       "      <td>-10.160631</td>\n",
       "      <td>-12.558096</td>\n",
       "      <td>5.005581</td>\n",
       "      <td>137.945408</td>\n",
       "    </tr>\n",
       "    <tr>\n",
       "      <th>99997</th>\n",
       "      <td>09gWa</td>\n",
       "      <td>-7.378891</td>\n",
       "      <td>-3.084104</td>\n",
       "      <td>4.998651</td>\n",
       "      <td>137.945408</td>\n",
       "    </tr>\n",
       "    <tr>\n",
       "      <th>99998</th>\n",
       "      <td>rqwUm</td>\n",
       "      <td>0.665714</td>\n",
       "      <td>-6.152593</td>\n",
       "      <td>1.000146</td>\n",
       "      <td>30.132364</td>\n",
       "    </tr>\n",
       "    <tr>\n",
       "      <th>99999</th>\n",
       "      <td>relB0</td>\n",
       "      <td>-3.426139</td>\n",
       "      <td>-7.794274</td>\n",
       "      <td>-0.003299</td>\n",
       "      <td>3.179103</td>\n",
       "    </tr>\n",
       "  </tbody>\n",
       "</table>\n",
       "</div>"
      ],
      "text/plain": [
       "          id         f0         f1        f2     product\n",
       "99995  QywKC   9.535637  -6.878139  1.998296   53.906522\n",
       "99996  ptvty -10.160631 -12.558096  5.005581  137.945408\n",
       "99997  09gWa  -7.378891  -3.084104  4.998651  137.945408\n",
       "99998  rqwUm   0.665714  -6.152593  1.000146   30.132364\n",
       "99999  relB0  -3.426139  -7.794274 -0.003299    3.179103"
      ]
     },
     "metadata": {},
     "output_type": "display_data"
    }
   ],
   "source": [
    "info(geo_data_1)"
   ]
  },
  {
   "cell_type": "markdown",
   "metadata": {},
   "source": [
    "### Третья область"
   ]
  },
  {
   "cell_type": "code",
   "execution_count": 9,
   "metadata": {},
   "outputs": [
    {
     "name": "stdout",
     "output_type": "stream",
     "text": [
      "<class 'pandas.core.frame.DataFrame'>\n",
      "RangeIndex: 100000 entries, 0 to 99999\n",
      "Data columns (total 5 columns):\n",
      " #   Column   Non-Null Count   Dtype  \n",
      "---  ------   --------------   -----  \n",
      " 0   id       100000 non-null  object \n",
      " 1   f0       100000 non-null  float64\n",
      " 2   f1       100000 non-null  float64\n",
      " 3   f2       100000 non-null  float64\n",
      " 4   product  100000 non-null  float64\n",
      "dtypes: float64(4), object(1)\n",
      "memory usage: 3.8+ MB\n"
     ]
    },
    {
     "data": {
      "text/html": [
       "<div>\n",
       "<style scoped>\n",
       "    .dataframe tbody tr th:only-of-type {\n",
       "        vertical-align: middle;\n",
       "    }\n",
       "\n",
       "    .dataframe tbody tr th {\n",
       "        vertical-align: top;\n",
       "    }\n",
       "\n",
       "    .dataframe thead th {\n",
       "        text-align: right;\n",
       "    }\n",
       "</style>\n",
       "<table border=\"1\" class=\"dataframe\">\n",
       "  <thead>\n",
       "    <tr style=\"text-align: right;\">\n",
       "      <th></th>\n",
       "      <th>id</th>\n",
       "      <th>f0</th>\n",
       "      <th>f1</th>\n",
       "      <th>f2</th>\n",
       "      <th>product</th>\n",
       "    </tr>\n",
       "  </thead>\n",
       "  <tbody>\n",
       "    <tr>\n",
       "      <th>0</th>\n",
       "      <td>fwXo0</td>\n",
       "      <td>-1.146987</td>\n",
       "      <td>0.963328</td>\n",
       "      <td>-0.828965</td>\n",
       "      <td>27.758673</td>\n",
       "    </tr>\n",
       "    <tr>\n",
       "      <th>1</th>\n",
       "      <td>WJtFt</td>\n",
       "      <td>0.262778</td>\n",
       "      <td>0.269839</td>\n",
       "      <td>-2.530187</td>\n",
       "      <td>56.069697</td>\n",
       "    </tr>\n",
       "    <tr>\n",
       "      <th>2</th>\n",
       "      <td>ovLUW</td>\n",
       "      <td>0.194587</td>\n",
       "      <td>0.289035</td>\n",
       "      <td>-5.586433</td>\n",
       "      <td>62.871910</td>\n",
       "    </tr>\n",
       "    <tr>\n",
       "      <th>3</th>\n",
       "      <td>q6cA6</td>\n",
       "      <td>2.236060</td>\n",
       "      <td>-0.553760</td>\n",
       "      <td>0.930038</td>\n",
       "      <td>114.572842</td>\n",
       "    </tr>\n",
       "    <tr>\n",
       "      <th>4</th>\n",
       "      <td>WPMUX</td>\n",
       "      <td>-0.515993</td>\n",
       "      <td>1.716266</td>\n",
       "      <td>5.899011</td>\n",
       "      <td>149.600746</td>\n",
       "    </tr>\n",
       "  </tbody>\n",
       "</table>\n",
       "</div>"
      ],
      "text/plain": [
       "      id        f0        f1        f2     product\n",
       "0  fwXo0 -1.146987  0.963328 -0.828965   27.758673\n",
       "1  WJtFt  0.262778  0.269839 -2.530187   56.069697\n",
       "2  ovLUW  0.194587  0.289035 -5.586433   62.871910\n",
       "3  q6cA6  2.236060 -0.553760  0.930038  114.572842\n",
       "4  WPMUX -0.515993  1.716266  5.899011  149.600746"
      ]
     },
     "metadata": {},
     "output_type": "display_data"
    },
    {
     "data": {
      "text/html": [
       "<div>\n",
       "<style scoped>\n",
       "    .dataframe tbody tr th:only-of-type {\n",
       "        vertical-align: middle;\n",
       "    }\n",
       "\n",
       "    .dataframe tbody tr th {\n",
       "        vertical-align: top;\n",
       "    }\n",
       "\n",
       "    .dataframe thead th {\n",
       "        text-align: right;\n",
       "    }\n",
       "</style>\n",
       "<table border=\"1\" class=\"dataframe\">\n",
       "  <thead>\n",
       "    <tr style=\"text-align: right;\">\n",
       "      <th></th>\n",
       "      <th>id</th>\n",
       "      <th>f0</th>\n",
       "      <th>f1</th>\n",
       "      <th>f2</th>\n",
       "      <th>product</th>\n",
       "    </tr>\n",
       "  </thead>\n",
       "  <tbody>\n",
       "    <tr>\n",
       "      <th>99995</th>\n",
       "      <td>4GxBu</td>\n",
       "      <td>-1.777037</td>\n",
       "      <td>1.125220</td>\n",
       "      <td>6.263374</td>\n",
       "      <td>172.327046</td>\n",
       "    </tr>\n",
       "    <tr>\n",
       "      <th>99996</th>\n",
       "      <td>YKFjq</td>\n",
       "      <td>-1.261523</td>\n",
       "      <td>-0.894828</td>\n",
       "      <td>2.524545</td>\n",
       "      <td>138.748846</td>\n",
       "    </tr>\n",
       "    <tr>\n",
       "      <th>99997</th>\n",
       "      <td>tKPY3</td>\n",
       "      <td>-1.199934</td>\n",
       "      <td>-2.957637</td>\n",
       "      <td>5.219411</td>\n",
       "      <td>157.080080</td>\n",
       "    </tr>\n",
       "    <tr>\n",
       "      <th>99998</th>\n",
       "      <td>nmxp2</td>\n",
       "      <td>-2.419896</td>\n",
       "      <td>2.417221</td>\n",
       "      <td>-5.548444</td>\n",
       "      <td>51.795253</td>\n",
       "    </tr>\n",
       "    <tr>\n",
       "      <th>99999</th>\n",
       "      <td>V9kWn</td>\n",
       "      <td>-2.551421</td>\n",
       "      <td>-2.025625</td>\n",
       "      <td>6.090891</td>\n",
       "      <td>102.775767</td>\n",
       "    </tr>\n",
       "  </tbody>\n",
       "</table>\n",
       "</div>"
      ],
      "text/plain": [
       "          id        f0        f1        f2     product\n",
       "99995  4GxBu -1.777037  1.125220  6.263374  172.327046\n",
       "99996  YKFjq -1.261523 -0.894828  2.524545  138.748846\n",
       "99997  tKPY3 -1.199934 -2.957637  5.219411  157.080080\n",
       "99998  nmxp2 -2.419896  2.417221 -5.548444   51.795253\n",
       "99999  V9kWn -2.551421 -2.025625  6.090891  102.775767"
      ]
     },
     "metadata": {},
     "output_type": "display_data"
    }
   ],
   "source": [
    "info(geo_data_2)"
   ]
  },
  {
   "cell_type": "markdown",
   "metadata": {},
   "source": [
    "### Вывод"
   ]
  },
  {
   "cell_type": "markdown",
   "metadata": {},
   "source": [
    "**Удалим  неинформативный  столбец** для моделей машинного обучения."
   ]
  },
  {
   "cell_type": "code",
   "execution_count": 10,
   "metadata": {},
   "outputs": [],
   "source": [
    "geo_data_0 = geo_data_0.drop(['id'], axis=1)\n",
    "geo_data_1 = geo_data_1.drop(['id'], axis=1)\n",
    "geo_data_2 = geo_data_2.drop(['id'], axis=1)"
   ]
  },
  {
   "cell_type": "markdown",
   "metadata": {},
   "source": [
    "**Значение столбцов.**"
   ]
  },
  {
   "cell_type": "markdown",
   "metadata": {},
   "source": [
    "* `f0`, `f1`, `f2` — три признака точек (неважно, что они означают, но сами признаки значимы);\n",
    "* `product` — объём запасов в скважине (тыс. баррелей)."
   ]
  },
  {
   "cell_type": "markdown",
   "metadata": {},
   "source": [
    "**Проверка на дубликаты.**"
   ]
  },
  {
   "cell_type": "code",
   "execution_count": 11,
   "metadata": {},
   "outputs": [],
   "source": [
    "def duplicat(data):\n",
    "    return data.duplicated().sum()"
   ]
  },
  {
   "cell_type": "code",
   "execution_count": 12,
   "metadata": {},
   "outputs": [],
   "source": [
    "count_duplicat = pd.DataFrame({'Количество дубликатов в первой области' : [duplicat(geo_data_0)],\n",
    "                              'Количество дубликатов в второй области' : [duplicat(geo_data_1)],\n",
    "                              'Количество дубликатов в третьей области' : [duplicat(geo_data_2)]}, index=['count']).T"
   ]
  },
  {
   "cell_type": "code",
   "execution_count": 13,
   "metadata": {},
   "outputs": [
    {
     "data": {
      "text/html": [
       "<div>\n",
       "<style scoped>\n",
       "    .dataframe tbody tr th:only-of-type {\n",
       "        vertical-align: middle;\n",
       "    }\n",
       "\n",
       "    .dataframe tbody tr th {\n",
       "        vertical-align: top;\n",
       "    }\n",
       "\n",
       "    .dataframe thead th {\n",
       "        text-align: right;\n",
       "    }\n",
       "</style>\n",
       "<table border=\"1\" class=\"dataframe\">\n",
       "  <thead>\n",
       "    <tr style=\"text-align: right;\">\n",
       "      <th></th>\n",
       "      <th>count</th>\n",
       "    </tr>\n",
       "  </thead>\n",
       "  <tbody>\n",
       "    <tr>\n",
       "      <th>Количество дубликатов в первой области</th>\n",
       "      <td>0</td>\n",
       "    </tr>\n",
       "    <tr>\n",
       "      <th>Количество дубликатов в второй области</th>\n",
       "      <td>0</td>\n",
       "    </tr>\n",
       "    <tr>\n",
       "      <th>Количество дубликатов в третьей области</th>\n",
       "      <td>0</td>\n",
       "    </tr>\n",
       "  </tbody>\n",
       "</table>\n",
       "</div>"
      ],
      "text/plain": [
       "                                         count\n",
       "Количество дубликатов в первой области       0\n",
       "Количество дубликатов в второй области       0\n",
       "Количество дубликатов в третьей области      0"
      ]
     },
     "metadata": {},
     "output_type": "display_data"
    }
   ],
   "source": [
    "display(count_duplicat)"
   ]
  },
  {
   "cell_type": "markdown",
   "metadata": {},
   "source": [
    "**Пропущенных значений и дубликатов не наблюдается. Данные в нормальном состоянии**, поэтому приступаем к обучению и последующей проверке модели."
   ]
  },
  {
   "cell_type": "markdown",
   "metadata": {},
   "source": [
    "## Обучение и проверка модели"
   ]
  },
  {
   "cell_type": "markdown",
   "metadata": {},
   "source": [
    "### Обучение моделей"
   ]
  },
  {
   "cell_type": "markdown",
   "metadata": {},
   "source": [
    "**Производим деление отобранных данных** на обучающую и валидационную выборки."
   ]
  },
  {
   "cell_type": "code",
   "execution_count": 14,
   "metadata": {},
   "outputs": [],
   "source": [
    "def data_division(data):\n",
    "    features_geo = data.drop(['product'], axis=1)\n",
    "    target_geo = data['product']\n",
    "\n",
    "    X_train, X_valid, y_train, y_valid = train_test_split(features_geo, target_geo, test_size=0.25, random_state=12345)\n",
    "    \n",
    "    return X_train, X_valid, y_train, y_valid  "
   ]
  },
  {
   "cell_type": "code",
   "execution_count": 15,
   "metadata": {},
   "outputs": [],
   "source": [
    "X_train_0, X_valid_0, y_train_0, y_valid_0 = data_division(geo_data_0)\n",
    "X_train_1, X_valid_1, y_train_1, y_valid_1 = data_division(geo_data_1)\n",
    "X_train_2, X_valid_2, y_train_2, y_valid_2 = data_division(geo_data_2)"
   ]
  },
  {
   "cell_type": "markdown",
   "metadata": {},
   "source": [
    "**Выведим размер выборок.**"
   ]
  },
  {
   "cell_type": "code",
   "execution_count": 16,
   "metadata": {},
   "outputs": [
    {
     "name": "stdout",
     "output_type": "stream",
     "text": [
      "Размер обучающей выборки (75000, 3)\n",
      "Размер валидационной выборки (25000, 3)\n"
     ]
    }
   ],
   "source": [
    "print('Размер обучающей выборки', X_train_0.shape)\n",
    "print('Размер валидационной выборки', X_valid_1.shape)"
   ]
  },
  {
   "cell_type": "code",
   "execution_count": 19,
   "metadata": {},
   "outputs": [],
   "source": [
    "def predict(y_valid, predict):\n",
    "    \n",
    "    y_valid = pd.Series(y_valid)\n",
    "    predict = pd.Series(predict)\n",
    "\n",
    "    data_y_valid = y_valid.to_frame().reset_index(drop=True)\n",
    "    data_predict = predict.to_frame().reset_index(drop=True)\n",
    "    \n",
    "    data_y_valid = data_y_valid.join(data_predict)\n",
    "    data_y_valid.columns = ['y_valid', 'predict'] \n",
    "\n",
    "    data_y_valid['difference'] = abs(data_y_valid['y_valid'] - data_y_valid['predict'])\n",
    "    data_y_valid = data_y_valid.sort_values('predict', ascending=False)\n",
    "    \n",
    "    predict_mean = round(data_y_valid['predict'].mean(), 2)\n",
    "    \n",
    "    mse = mean_squared_error(data_y_valid['y_valid'], data_y_valid['predict']).round(2)\n",
    "    rmse = (mse ** 0.5).round(2)\n",
    "    \n",
    "    display(data_y_valid.head(5))\n",
    "    display(data_y_valid.tail(5))\n",
    "    \n",
    "    return rmse, predict_mean"
   ]
  },
  {
   "cell_type": "markdown",
   "metadata": {},
   "source": [
    "**Первая область**"
   ]
  },
  {
   "cell_type": "code",
   "execution_count": 20,
   "metadata": {},
   "outputs": [
    {
     "data": {
      "text/html": [
       "<div>\n",
       "<style scoped>\n",
       "    .dataframe tbody tr th:only-of-type {\n",
       "        vertical-align: middle;\n",
       "    }\n",
       "\n",
       "    .dataframe tbody tr th {\n",
       "        vertical-align: top;\n",
       "    }\n",
       "\n",
       "    .dataframe thead th {\n",
       "        text-align: right;\n",
       "    }\n",
       "</style>\n",
       "<table border=\"1\" class=\"dataframe\">\n",
       "  <thead>\n",
       "    <tr style=\"text-align: right;\">\n",
       "      <th></th>\n",
       "      <th>y_valid</th>\n",
       "      <th>predict</th>\n",
       "      <th>difference</th>\n",
       "    </tr>\n",
       "  </thead>\n",
       "  <tbody>\n",
       "    <tr>\n",
       "      <th>9317</th>\n",
       "      <td>162.810993</td>\n",
       "      <td>180.180713</td>\n",
       "      <td>17.369720</td>\n",
       "    </tr>\n",
       "    <tr>\n",
       "      <th>219</th>\n",
       "      <td>153.639837</td>\n",
       "      <td>176.252213</td>\n",
       "      <td>22.612376</td>\n",
       "    </tr>\n",
       "    <tr>\n",
       "      <th>10015</th>\n",
       "      <td>162.153488</td>\n",
       "      <td>175.850623</td>\n",
       "      <td>13.697135</td>\n",
       "    </tr>\n",
       "    <tr>\n",
       "      <th>11584</th>\n",
       "      <td>96.893581</td>\n",
       "      <td>175.658429</td>\n",
       "      <td>78.764848</td>\n",
       "    </tr>\n",
       "    <tr>\n",
       "      <th>23388</th>\n",
       "      <td>178.879516</td>\n",
       "      <td>173.299686</td>\n",
       "      <td>5.579830</td>\n",
       "    </tr>\n",
       "  </tbody>\n",
       "</table>\n",
       "</div>"
      ],
      "text/plain": [
       "          y_valid     predict  difference\n",
       "9317   162.810993  180.180713   17.369720\n",
       "219    153.639837  176.252213   22.612376\n",
       "10015  162.153488  175.850623   13.697135\n",
       "11584   96.893581  175.658429   78.764848\n",
       "23388  178.879516  173.299686    5.579830"
      ]
     },
     "metadata": {},
     "output_type": "display_data"
    },
    {
     "data": {
      "text/html": [
       "<div>\n",
       "<style scoped>\n",
       "    .dataframe tbody tr th:only-of-type {\n",
       "        vertical-align: middle;\n",
       "    }\n",
       "\n",
       "    .dataframe tbody tr th {\n",
       "        vertical-align: top;\n",
       "    }\n",
       "\n",
       "    .dataframe thead th {\n",
       "        text-align: right;\n",
       "    }\n",
       "</style>\n",
       "<table border=\"1\" class=\"dataframe\">\n",
       "  <thead>\n",
       "    <tr style=\"text-align: right;\">\n",
       "      <th></th>\n",
       "      <th>y_valid</th>\n",
       "      <th>predict</th>\n",
       "      <th>difference</th>\n",
       "    </tr>\n",
       "  </thead>\n",
       "  <tbody>\n",
       "    <tr>\n",
       "      <th>23129</th>\n",
       "      <td>49.374929</td>\n",
       "      <td>10.209351</td>\n",
       "      <td>39.165578</td>\n",
       "    </tr>\n",
       "    <tr>\n",
       "      <th>9078</th>\n",
       "      <td>25.956984</td>\n",
       "      <td>8.798531</td>\n",
       "      <td>17.158453</td>\n",
       "    </tr>\n",
       "    <tr>\n",
       "      <th>21875</th>\n",
       "      <td>46.546824</td>\n",
       "      <td>6.569477</td>\n",
       "      <td>39.977347</td>\n",
       "    </tr>\n",
       "    <tr>\n",
       "      <th>14503</th>\n",
       "      <td>11.018692</td>\n",
       "      <td>4.980987</td>\n",
       "      <td>6.037705</td>\n",
       "    </tr>\n",
       "    <tr>\n",
       "      <th>20881</th>\n",
       "      <td>25.069622</td>\n",
       "      <td>-9.367846</td>\n",
       "      <td>34.437468</td>\n",
       "    </tr>\n",
       "  </tbody>\n",
       "</table>\n",
       "</div>"
      ],
      "text/plain": [
       "         y_valid    predict  difference\n",
       "23129  49.374929  10.209351   39.165578\n",
       "9078   25.956984   8.798531   17.158453\n",
       "21875  46.546824   6.569477   39.977347\n",
       "14503  11.018692   4.980987    6.037705\n",
       "20881  25.069622  -9.367846   34.437468"
      ]
     },
     "metadata": {},
     "output_type": "display_data"
    },
    {
     "name": "stdout",
     "output_type": "stream",
     "text": [
      "RMSE = 37.58\n",
      "Cредний запас предсказанного сырья = 92.59\n"
     ]
    }
   ],
   "source": [
    "model_0 = LinearRegression()\n",
    "model_0.fit(X_train_0, y_train_0)\n",
    "\n",
    "predict_0 = model_0.predict(X_valid_0)\n",
    "\n",
    "rmse_0, predict_mean_0 = predict(y_valid_0, predict_0)\n",
    "\n",
    "print(\"RMSE =\", rmse_0)\n",
    "print(\"Cредний запас предсказанного сырья =\", predict_mean_0)"
   ]
  },
  {
   "cell_type": "markdown",
   "metadata": {},
   "source": [
    "**Вторая область**"
   ]
  },
  {
   "cell_type": "code",
   "execution_count": 21,
   "metadata": {},
   "outputs": [
    {
     "data": {
      "text/html": [
       "<div>\n",
       "<style scoped>\n",
       "    .dataframe tbody tr th:only-of-type {\n",
       "        vertical-align: middle;\n",
       "    }\n",
       "\n",
       "    .dataframe tbody tr th {\n",
       "        vertical-align: top;\n",
       "    }\n",
       "\n",
       "    .dataframe thead th {\n",
       "        text-align: right;\n",
       "    }\n",
       "</style>\n",
       "<table border=\"1\" class=\"dataframe\">\n",
       "  <thead>\n",
       "    <tr style=\"text-align: right;\">\n",
       "      <th></th>\n",
       "      <th>y_valid</th>\n",
       "      <th>predict</th>\n",
       "      <th>difference</th>\n",
       "    </tr>\n",
       "  </thead>\n",
       "  <tbody>\n",
       "    <tr>\n",
       "      <th>20430</th>\n",
       "      <td>137.945408</td>\n",
       "      <td>139.818970</td>\n",
       "      <td>1.873562</td>\n",
       "    </tr>\n",
       "    <tr>\n",
       "      <th>7777</th>\n",
       "      <td>137.945408</td>\n",
       "      <td>139.773423</td>\n",
       "      <td>1.828015</td>\n",
       "    </tr>\n",
       "    <tr>\n",
       "      <th>8755</th>\n",
       "      <td>137.945408</td>\n",
       "      <td>139.703330</td>\n",
       "      <td>1.757923</td>\n",
       "    </tr>\n",
       "    <tr>\n",
       "      <th>1178</th>\n",
       "      <td>137.945408</td>\n",
       "      <td>139.560938</td>\n",
       "      <td>1.615530</td>\n",
       "    </tr>\n",
       "    <tr>\n",
       "      <th>4285</th>\n",
       "      <td>137.945408</td>\n",
       "      <td>139.516754</td>\n",
       "      <td>1.571347</td>\n",
       "    </tr>\n",
       "  </tbody>\n",
       "</table>\n",
       "</div>"
      ],
      "text/plain": [
       "          y_valid     predict  difference\n",
       "20430  137.945408  139.818970    1.873562\n",
       "7777   137.945408  139.773423    1.828015\n",
       "8755   137.945408  139.703330    1.757923\n",
       "1178   137.945408  139.560938    1.615530\n",
       "4285   137.945408  139.516754    1.571347"
      ]
     },
     "metadata": {},
     "output_type": "display_data"
    },
    {
     "data": {
      "text/html": [
       "<div>\n",
       "<style scoped>\n",
       "    .dataframe tbody tr th:only-of-type {\n",
       "        vertical-align: middle;\n",
       "    }\n",
       "\n",
       "    .dataframe tbody tr th {\n",
       "        vertical-align: top;\n",
       "    }\n",
       "\n",
       "    .dataframe thead th {\n",
       "        text-align: right;\n",
       "    }\n",
       "</style>\n",
       "<table border=\"1\" class=\"dataframe\">\n",
       "  <thead>\n",
       "    <tr style=\"text-align: right;\">\n",
       "      <th></th>\n",
       "      <th>y_valid</th>\n",
       "      <th>predict</th>\n",
       "      <th>difference</th>\n",
       "    </tr>\n",
       "  </thead>\n",
       "  <tbody>\n",
       "    <tr>\n",
       "      <th>5085</th>\n",
       "      <td>0.0</td>\n",
       "      <td>-1.634717</td>\n",
       "      <td>1.634717</td>\n",
       "    </tr>\n",
       "    <tr>\n",
       "      <th>12426</th>\n",
       "      <td>0.0</td>\n",
       "      <td>-1.693844</td>\n",
       "      <td>1.693844</td>\n",
       "    </tr>\n",
       "    <tr>\n",
       "      <th>9852</th>\n",
       "      <td>0.0</td>\n",
       "      <td>-1.871442</td>\n",
       "      <td>1.871442</td>\n",
       "    </tr>\n",
       "    <tr>\n",
       "      <th>5617</th>\n",
       "      <td>0.0</td>\n",
       "      <td>-1.883737</td>\n",
       "      <td>1.883737</td>\n",
       "    </tr>\n",
       "    <tr>\n",
       "      <th>4975</th>\n",
       "      <td>0.0</td>\n",
       "      <td>-1.893774</td>\n",
       "      <td>1.893774</td>\n",
       "    </tr>\n",
       "  </tbody>\n",
       "</table>\n",
       "</div>"
      ],
      "text/plain": [
       "       y_valid   predict  difference\n",
       "5085       0.0 -1.634717    1.634717\n",
       "12426      0.0 -1.693844    1.693844\n",
       "9852       0.0 -1.871442    1.871442\n",
       "5617       0.0 -1.883737    1.883737\n",
       "4975       0.0 -1.893774    1.893774"
      ]
     },
     "metadata": {},
     "output_type": "display_data"
    },
    {
     "name": "stdout",
     "output_type": "stream",
     "text": [
      "RMSE = 0.89\n",
      "Cредний запас предсказанного сырья = 68.73\n"
     ]
    }
   ],
   "source": [
    "model_1 = LinearRegression()\n",
    "model_1.fit(X_train_1, y_train_1)\n",
    "\n",
    "predict_1 = model_1.predict(X_valid_1)\n",
    "\n",
    "rmse_1, predict_mean_1 = predict(y_valid_1, predict_1)\n",
    "\n",
    "print(\"RMSE =\", rmse_1)\n",
    "print(\"Cредний запас предсказанного сырья =\", predict_mean_1)"
   ]
  },
  {
   "cell_type": "markdown",
   "metadata": {},
   "source": [
    "**Третья область**"
   ]
  },
  {
   "cell_type": "code",
   "execution_count": 22,
   "metadata": {},
   "outputs": [
    {
     "data": {
      "text/html": [
       "<div>\n",
       "<style scoped>\n",
       "    .dataframe tbody tr th:only-of-type {\n",
       "        vertical-align: middle;\n",
       "    }\n",
       "\n",
       "    .dataframe tbody tr th {\n",
       "        vertical-align: top;\n",
       "    }\n",
       "\n",
       "    .dataframe thead th {\n",
       "        text-align: right;\n",
       "    }\n",
       "</style>\n",
       "<table border=\"1\" class=\"dataframe\">\n",
       "  <thead>\n",
       "    <tr style=\"text-align: right;\">\n",
       "      <th></th>\n",
       "      <th>y_valid</th>\n",
       "      <th>predict</th>\n",
       "      <th>difference</th>\n",
       "    </tr>\n",
       "  </thead>\n",
       "  <tbody>\n",
       "    <tr>\n",
       "      <th>22636</th>\n",
       "      <td>175.103291</td>\n",
       "      <td>165.856833</td>\n",
       "      <td>9.246458</td>\n",
       "    </tr>\n",
       "    <tr>\n",
       "      <th>24690</th>\n",
       "      <td>131.627481</td>\n",
       "      <td>165.679685</td>\n",
       "      <td>34.052204</td>\n",
       "    </tr>\n",
       "    <tr>\n",
       "      <th>7811</th>\n",
       "      <td>141.160070</td>\n",
       "      <td>163.439962</td>\n",
       "      <td>22.279893</td>\n",
       "    </tr>\n",
       "    <tr>\n",
       "      <th>1581</th>\n",
       "      <td>159.676082</td>\n",
       "      <td>162.062589</td>\n",
       "      <td>2.386507</td>\n",
       "    </tr>\n",
       "    <tr>\n",
       "      <th>6751</th>\n",
       "      <td>142.135203</td>\n",
       "      <td>161.797476</td>\n",
       "      <td>19.662273</td>\n",
       "    </tr>\n",
       "  </tbody>\n",
       "</table>\n",
       "</div>"
      ],
      "text/plain": [
       "          y_valid     predict  difference\n",
       "22636  175.103291  165.856833    9.246458\n",
       "24690  131.627481  165.679685   34.052204\n",
       "7811   141.160070  163.439962   22.279893\n",
       "1581   159.676082  162.062589    2.386507\n",
       "6751   142.135203  161.797476   19.662273"
      ]
     },
     "metadata": {},
     "output_type": "display_data"
    },
    {
     "data": {
      "text/html": [
       "<div>\n",
       "<style scoped>\n",
       "    .dataframe tbody tr th:only-of-type {\n",
       "        vertical-align: middle;\n",
       "    }\n",
       "\n",
       "    .dataframe tbody tr th {\n",
       "        vertical-align: top;\n",
       "    }\n",
       "\n",
       "    .dataframe thead th {\n",
       "        text-align: right;\n",
       "    }\n",
       "</style>\n",
       "<table border=\"1\" class=\"dataframe\">\n",
       "  <thead>\n",
       "    <tr style=\"text-align: right;\">\n",
       "      <th></th>\n",
       "      <th>y_valid</th>\n",
       "      <th>predict</th>\n",
       "      <th>difference</th>\n",
       "    </tr>\n",
       "  </thead>\n",
       "  <tbody>\n",
       "    <tr>\n",
       "      <th>21032</th>\n",
       "      <td>33.411204</td>\n",
       "      <td>23.323600</td>\n",
       "      <td>10.087604</td>\n",
       "    </tr>\n",
       "    <tr>\n",
       "      <th>18206</th>\n",
       "      <td>60.244891</td>\n",
       "      <td>20.393911</td>\n",
       "      <td>39.850980</td>\n",
       "    </tr>\n",
       "    <tr>\n",
       "      <th>11296</th>\n",
       "      <td>62.903882</td>\n",
       "      <td>20.189540</td>\n",
       "      <td>42.714342</td>\n",
       "    </tr>\n",
       "    <tr>\n",
       "      <th>5298</th>\n",
       "      <td>57.022698</td>\n",
       "      <td>17.297411</td>\n",
       "      <td>39.725287</td>\n",
       "    </tr>\n",
       "    <tr>\n",
       "      <th>22577</th>\n",
       "      <td>32.496867</td>\n",
       "      <td>17.131597</td>\n",
       "      <td>15.365270</td>\n",
       "    </tr>\n",
       "  </tbody>\n",
       "</table>\n",
       "</div>"
      ],
      "text/plain": [
       "         y_valid    predict  difference\n",
       "21032  33.411204  23.323600   10.087604\n",
       "18206  60.244891  20.393911   39.850980\n",
       "11296  62.903882  20.189540   42.714342\n",
       "5298   57.022698  17.297411   39.725287\n",
       "22577  32.496867  17.131597   15.365270"
      ]
     },
     "metadata": {},
     "output_type": "display_data"
    },
    {
     "name": "stdout",
     "output_type": "stream",
     "text": [
      "RMSE = 40.03\n",
      "Cредний запас предсказанного сырья = 94.97\n"
     ]
    }
   ],
   "source": [
    "model_2 = LinearRegression()\n",
    "model_2.fit(X_train_2, y_train_2)\n",
    "\n",
    "predict_2 = model_2.predict(X_valid_2)\n",
    "\n",
    "rmse_2, predict_mean_2 = predict(y_valid_2, predict_2)\n",
    "\n",
    "print(\"RMSE =\", rmse_2)\n",
    "print(\"Cредний запас предсказанного сырья =\", predict_mean_2)"
   ]
  },
  {
   "cell_type": "markdown",
   "metadata": {},
   "source": [
    "### Вывод"
   ]
  },
  {
   "cell_type": "code",
   "execution_count": 23,
   "metadata": {},
   "outputs": [],
   "source": [
    "data_model = (pd\n",
    "              .DataFrame({'Скважины' : ['Первая','Вторая','Третья'],\n",
    "                          'RMSE' : [rmse_0, rmse_1, rmse_2],\n",
    "                          'Cр. запас пред. сырья' : [predict_mean_0, predict_mean_1, predict_mean_2]})\n",
    "              .sort_values('Cр. запас пред. сырья', ascending=False))"
   ]
  },
  {
   "cell_type": "code",
   "execution_count": 24,
   "metadata": {},
   "outputs": [
    {
     "data": {
      "text/html": [
       "<div>\n",
       "<style scoped>\n",
       "    .dataframe tbody tr th:only-of-type {\n",
       "        vertical-align: middle;\n",
       "    }\n",
       "\n",
       "    .dataframe tbody tr th {\n",
       "        vertical-align: top;\n",
       "    }\n",
       "\n",
       "    .dataframe thead th {\n",
       "        text-align: right;\n",
       "    }\n",
       "</style>\n",
       "<table border=\"1\" class=\"dataframe\">\n",
       "  <thead>\n",
       "    <tr style=\"text-align: right;\">\n",
       "      <th></th>\n",
       "      <th>Скважины</th>\n",
       "      <th>RMSE</th>\n",
       "      <th>Cр. запас пред. сырья</th>\n",
       "    </tr>\n",
       "  </thead>\n",
       "  <tbody>\n",
       "    <tr>\n",
       "      <th>2</th>\n",
       "      <td>Третья</td>\n",
       "      <td>40.03</td>\n",
       "      <td>94.97</td>\n",
       "    </tr>\n",
       "    <tr>\n",
       "      <th>0</th>\n",
       "      <td>Первая</td>\n",
       "      <td>37.58</td>\n",
       "      <td>92.59</td>\n",
       "    </tr>\n",
       "    <tr>\n",
       "      <th>1</th>\n",
       "      <td>Вторая</td>\n",
       "      <td>0.89</td>\n",
       "      <td>68.73</td>\n",
       "    </tr>\n",
       "  </tbody>\n",
       "</table>\n",
       "</div>"
      ],
      "text/plain": [
       "  Скважины   RMSE  Cр. запас пред. сырья\n",
       "2   Третья  40.03                  94.97\n",
       "0   Первая  37.58                  92.59\n",
       "1   Вторая   0.89                  68.73"
      ]
     },
     "metadata": {},
     "output_type": "display_data"
    }
   ],
   "source": [
    "display(data_model)"
   ]
  },
  {
   "cell_type": "markdown",
   "metadata": {},
   "source": [
    "Заметим, что средний объем предсказанного сырья **практически равен в первой и третьей областях**, при этом **во второй сырья меньше примерно на 30%**, так же обратим внимание на параметр RMSE, и чем он ниже тем лучше. **Во второй области наблюдаем невероятно низкое значение RMSE (по сравнению с другими областями)**, что говорит о маленьком разбросе в данных. Более детальный анализ (расчёт прибыли) выявит наиболее подходящие (прибыльные) области."
   ]
  },
  {
   "cell_type": "markdown",
   "metadata": {},
   "source": [
    "## Подготовка к расчёту прибыли"
   ]
  },
  {
   "cell_type": "markdown",
   "metadata": {},
   "source": [
    "Отобразим переменные описанные выше."
   ]
  },
  {
   "cell_type": "markdown",
   "metadata": {},
   "source": [
    "***\n",
    "* `rmse_0` - RMSE первой области.\n",
    "* `rmse_1` - RMSE второй области.\n",
    "* `rmse_2` - RMSE третьей области.\n",
    "***\n",
    "* `predict_mean_0` - Cредний запас предсказанного сырья первой области.\n",
    "* `predict_mean_1` - Cредний запас предсказанного сырья второй области.\n",
    "* `predict_mean_2` - Cредний запас предсказанного сырья третьей области.\n",
    "***"
   ]
  },
  {
   "cell_type": "markdown",
   "metadata": {},
   "source": [
    "**Достаточный объём**"
   ]
  },
  {
   "cell_type": "code",
   "execution_count": 34,
   "metadata": {},
   "outputs": [
    {
     "name": "stdout",
     "output_type": "stream",
     "text": [
      "Объем для безубыточной разработки: \u001b[1m111.11\n"
     ]
    }
   ],
   "source": [
    "#стоимость_разработки_одной_скважины\n",
    "single_point_development = WELL_DEVELOPMENT / 200 \n",
    "\n",
    "#стоимость_разработки_одной_скважины / цена_одной_единицы_сырья\n",
    "volume = (single_point_development / PRICE) \n",
    "volume = round(volume, 2)\n",
    "print(f'Объем для безубыточной разработки: \\033[1m{volume}')"
   ]
  },
  {
   "cell_type": "markdown",
   "metadata": {},
   "source": [
    "### Вывод"
   ]
  },
  {
   "cell_type": "code",
   "execution_count": 35,
   "metadata": {},
   "outputs": [
    {
     "data": {
      "text/html": [
       "<div>\n",
       "<style scoped>\n",
       "    .dataframe tbody tr th:only-of-type {\n",
       "        vertical-align: middle;\n",
       "    }\n",
       "\n",
       "    .dataframe tbody tr th {\n",
       "        vertical-align: top;\n",
       "    }\n",
       "\n",
       "    .dataframe thead th {\n",
       "        text-align: right;\n",
       "    }\n",
       "</style>\n",
       "<table border=\"1\" class=\"dataframe\">\n",
       "  <thead>\n",
       "    <tr style=\"text-align: right;\">\n",
       "      <th></th>\n",
       "      <th>Скважины</th>\n",
       "      <th>Необход. объем</th>\n",
       "      <th>Cр. запас пред. сырья</th>\n",
       "    </tr>\n",
       "  </thead>\n",
       "  <tbody>\n",
       "    <tr>\n",
       "      <th>2</th>\n",
       "      <td>Третья</td>\n",
       "      <td>111.11</td>\n",
       "      <td>94.97</td>\n",
       "    </tr>\n",
       "    <tr>\n",
       "      <th>0</th>\n",
       "      <td>Первая</td>\n",
       "      <td>111.11</td>\n",
       "      <td>92.59</td>\n",
       "    </tr>\n",
       "    <tr>\n",
       "      <th>1</th>\n",
       "      <td>Вторая</td>\n",
       "      <td>111.11</td>\n",
       "      <td>68.73</td>\n",
       "    </tr>\n",
       "  </tbody>\n",
       "</table>\n",
       "</div>"
      ],
      "text/plain": [
       "  Скважины  Необход. объем  Cр. запас пред. сырья\n",
       "2   Третья          111.11                  94.97\n",
       "0   Первая          111.11                  92.59\n",
       "1   Вторая          111.11                  68.73"
      ]
     },
     "metadata": {},
     "output_type": "display_data"
    }
   ],
   "source": [
    "data_volume = (pd\n",
    "              .DataFrame({'Скважины' : ['Первая','Вторая','Третья'],\n",
    "                          'Необход. объем' : [volume, volume, volume],\n",
    "                          'Cр. запас пред. сырья' : [predict_mean_0, predict_mean_1, predict_mean_2]})\n",
    "              .sort_values('Cр. запас пред. сырья', ascending=False))\n",
    "\n",
    "display(data_volume)"
   ]
  },
  {
   "cell_type": "markdown",
   "metadata": {},
   "source": [
    "Области не имеют **достаточного минимального объема для получения дохода.** Области имеют недостаточно сырья в среднем, если брать случайные точки для разработки. Это подводит нас к целесообразности использования процедуры bootstrap, потому что без МО разработка будет, скорее всего, убыточной."
   ]
  },
  {
   "cell_type": "markdown",
   "metadata": {},
   "source": [
    "## Расчёт прибыли и рисков "
   ]
  },
  {
   "cell_type": "markdown",
   "metadata": {},
   "source": [
    "### Прибыль"
   ]
  },
  {
   "cell_type": "markdown",
   "metadata": {},
   "source": [
    "Создаем функцию для получения прибыли. На вход подается цель, предсказания, количество скважин, и константы. На выход функции идет прибыль."
   ]
  },
  {
   "cell_type": "code",
   "execution_count": 36,
   "metadata": {},
   "outputs": [],
   "source": [
    "def revenue(target, predict, count, WELL_DEVELOPMENT, PRICE):\n",
    "    \n",
    "    target_s = pd.Series(target).reset_index(drop=True)\n",
    "    predict_s = pd.Series(predict).reset_index(drop=True)\n",
    "    \n",
    "    selection = predict_s.sort_values(ascending=False).head(200)\n",
    "    target_part = target_s[selection.index]\n",
    "    \n",
    "    income = int(target_part.sum() * PRICE - WELL_DEVELOPMENT)\n",
    "    \n",
    "    return income"
   ]
  },
  {
   "cell_type": "markdown",
   "metadata": {},
   "source": [
    "**Прибыль первой области**"
   ]
  },
  {
   "cell_type": "code",
   "execution_count": 40,
   "metadata": {},
   "outputs": [
    {
     "name": "stdout",
     "output_type": "stream",
     "text": [
      "Прибыль первой области равна \u001b[1m3320826043\n"
     ]
    }
   ],
   "source": [
    "income_0 = revenue(y_valid_0, predict_0, 500, WELL_DEVELOPMENT, PRICE)\n",
    "print(f'Прибыль первой области равна \\033[1m{income_0}')"
   ]
  },
  {
   "cell_type": "markdown",
   "metadata": {},
   "source": [
    "**Прибыль второй области**"
   ]
  },
  {
   "cell_type": "code",
   "execution_count": 41,
   "metadata": {},
   "outputs": [
    {
     "name": "stdout",
     "output_type": "stream",
     "text": [
      "Прибыль второй области равна \u001b[1m2415086696\n"
     ]
    }
   ],
   "source": [
    "income_1 = revenue(y_valid_1, predict_1, 500, WELL_DEVELOPMENT, PRICE)\n",
    "print(f'Прибыль второй области равна \\033[1m{income_1}')"
   ]
  },
  {
   "cell_type": "markdown",
   "metadata": {},
   "source": [
    "**Прибыль третьей области**"
   ]
  },
  {
   "cell_type": "code",
   "execution_count": 42,
   "metadata": {},
   "outputs": [
    {
     "name": "stdout",
     "output_type": "stream",
     "text": [
      "Прибыль третьей области равна \u001b[1m2710349963\n"
     ]
    }
   ],
   "source": [
    "income_2 = revenue(y_valid_2, predict_2, 500, WELL_DEVELOPMENT, PRICE)\n",
    "print(f'Прибыль третьей области равна \\033[1m{income_2}')"
   ]
  },
  {
   "cell_type": "markdown",
   "metadata": {},
   "source": [
    "### Вывод"
   ]
  },
  {
   "cell_type": "code",
   "execution_count": 43,
   "metadata": {},
   "outputs": [
    {
     "data": {
      "text/html": [
       "<div>\n",
       "<style scoped>\n",
       "    .dataframe tbody tr th:only-of-type {\n",
       "        vertical-align: middle;\n",
       "    }\n",
       "\n",
       "    .dataframe tbody tr th {\n",
       "        vertical-align: top;\n",
       "    }\n",
       "\n",
       "    .dataframe thead th {\n",
       "        text-align: right;\n",
       "    }\n",
       "</style>\n",
       "<table border=\"1\" class=\"dataframe\">\n",
       "  <thead>\n",
       "    <tr style=\"text-align: right;\">\n",
       "      <th></th>\n",
       "      <th>Скважины</th>\n",
       "      <th>RMSE</th>\n",
       "      <th>Cр. запас пред. сырья</th>\n",
       "      <th>Прибыль</th>\n",
       "    </tr>\n",
       "  </thead>\n",
       "  <tbody>\n",
       "    <tr>\n",
       "      <th>0</th>\n",
       "      <td>Первая</td>\n",
       "      <td>37.58</td>\n",
       "      <td>92.59</td>\n",
       "      <td>3320826043</td>\n",
       "    </tr>\n",
       "    <tr>\n",
       "      <th>2</th>\n",
       "      <td>Третья</td>\n",
       "      <td>40.03</td>\n",
       "      <td>94.97</td>\n",
       "      <td>2710349963</td>\n",
       "    </tr>\n",
       "    <tr>\n",
       "      <th>1</th>\n",
       "      <td>Вторая</td>\n",
       "      <td>0.89</td>\n",
       "      <td>68.73</td>\n",
       "      <td>2415086696</td>\n",
       "    </tr>\n",
       "  </tbody>\n",
       "</table>\n",
       "</div>"
      ],
      "text/plain": [
       "  Скважины   RMSE  Cр. запас пред. сырья     Прибыль\n",
       "0   Первая  37.58                  92.59  3320826043\n",
       "2   Третья  40.03                  94.97  2710349963\n",
       "1   Вторая   0.89                  68.73  2415086696"
      ]
     },
     "metadata": {},
     "output_type": "display_data"
    }
   ],
   "source": [
    "data_income = (pd\n",
    "              .DataFrame({'Скважины' : ['Первая','Вторая','Третья'],\n",
    "                          'RMSE' : [rmse_0, rmse_1, rmse_2],\n",
    "                          'Cр. запас пред. сырья' : [predict_mean_0, predict_mean_1, predict_mean_2],\n",
    "                          'Прибыль' : [income_0, income_1, income_2],})\n",
    "              .sort_values('Прибыль', ascending=False))\n",
    "\n",
    "display(data_income)"
   ]
  },
  {
   "cell_type": "markdown",
   "metadata": {},
   "source": [
    "### Риски"
   ]
  },
  {
   "cell_type": "code",
   "execution_count": 44,
   "metadata": {},
   "outputs": [],
   "source": [
    "def bootstrap(target, predict, count, WELL_DEVELOPMENT, PRICE):\n",
    "    \n",
    "    values = []\n",
    "    count = 0\n",
    "    \n",
    "    target_s = pd.Series(target).reset_index(drop=True)\n",
    "    predict_s = pd.Series(predict).reset_index(drop=True)\n",
    "    \n",
    "    for i in range(1000):\n",
    "    \n",
    "        selection = predict_s.sample(n=500, replace=True, random_state=state)\n",
    "        target_part = target_s[selection.index]\n",
    "        \n",
    "        income = revenue(target_part, selection, count, WELL_DEVELOPMENT, PRICE)\n",
    "        \n",
    "        if income < 0:\n",
    "            count += 1\n",
    "        \n",
    "        values.append(income)\n",
    "        \n",
    "        \n",
    "\n",
    "    values = pd.Series(values)\n",
    "    mean = values.mean()\n",
    "    interval_l = values.quantile(0.025)\n",
    "    risk = (count / len(values) * 100)\n",
    "    interval_u = values.quantile(0.975)\n",
    "    \n",
    "\n",
    "    return mean, interval_l, interval_u, risk"
   ]
  },
  {
   "cell_type": "code",
   "execution_count": 45,
   "metadata": {},
   "outputs": [],
   "source": [
    "state = np.random.RandomState(12345)"
   ]
  },
  {
   "cell_type": "code",
   "execution_count": 46,
   "metadata": {},
   "outputs": [],
   "source": [
    "def risk(y_valid, predict):\n",
    "    mean = bootstrap(y_valid, predict, 500, WELL_DEVELOPMENT, PRICE)[0]\n",
    "    print('Cредняя прибыль:', mean)\n",
    "    in_l = bootstrap(y_valid, predict, 500, WELL_DEVELOPMENT, PRICE)[1]\n",
    "    print('Нижняя допустимая планка по рискам:', in_l)\n",
    "    in_u = bootstrap(y_valid, predict, 500, WELL_DEVELOPMENT, PRICE)[2]\n",
    "    print(f'95%-й доверительный интервал: ( {in_l} - {in_u} )')\n",
    "    risk = bootstrap(y_valid, predict, 500, WELL_DEVELOPMENT, PRICE)[3]\n",
    "    print('Риск убытков:', risk, '%')\n",
    "    \n",
    "    return mean, in_l, in_u, risk "
   ]
  },
  {
   "cell_type": "markdown",
   "metadata": {},
   "source": [
    "**Риски первой области**"
   ]
  },
  {
   "cell_type": "code",
   "execution_count": 47,
   "metadata": {},
   "outputs": [
    {
     "name": "stdout",
     "output_type": "stream",
     "text": [
      "Cредняя прибыль: 396164984.366\n",
      "Нижняя допустимая планка по рискам: -142969647.9\n",
      "95%-й доверительный интервал: ( -142969647.9 - 954523566.8249998 )\n",
      "Риск убытков: 5.7 %\n"
     ]
    },
    {
     "data": {
      "text/plain": [
       "(396164984.366, -142969647.9, 954523566.8249998, 5.7)"
      ]
     },
     "execution_count": 47,
     "metadata": {},
     "output_type": "execute_result"
    }
   ],
   "source": [
    "risk(y_valid_0, predict_0)"
   ]
  },
  {
   "cell_type": "markdown",
   "metadata": {},
   "source": [
    "**Риски второй области**"
   ]
  },
  {
   "cell_type": "code",
   "execution_count": 48,
   "metadata": {},
   "outputs": [
    {
     "name": "stdout",
     "output_type": "stream",
     "text": [
      "Cредняя прибыль: 448275288.747\n",
      "Нижняя допустимая планка по рискам: 54478628.32500001\n",
      "95%-й доверительный интервал: ( 54478628.32500001 - 829550749.6499999 )\n",
      "Риск убытков: 1.4000000000000001 %\n"
     ]
    },
    {
     "data": {
      "text/plain": [
       "(448275288.747, 54478628.32500001, 829550749.6499999, 1.4000000000000001)"
      ]
     },
     "execution_count": 48,
     "metadata": {},
     "output_type": "execute_result"
    }
   ],
   "source": [
    "risk(y_valid_1, predict_1)"
   ]
  },
  {
   "cell_type": "markdown",
   "metadata": {},
   "source": [
    "**Риски третьей области**"
   ]
  },
  {
   "cell_type": "code",
   "execution_count": 49,
   "metadata": {},
   "outputs": [
    {
     "name": "stdout",
     "output_type": "stream",
     "text": [
      "Cредняя прибыль: 385987233.95\n",
      "Нижняя допустимая планка по рискам: -149174500.9\n",
      "95%-й доверительный интервал: ( -149174500.9 - 905407991.7499999 )\n",
      "Риск убытков: 7.000000000000001 %\n"
     ]
    },
    {
     "data": {
      "text/plain": [
       "(385987233.95, -149174500.9, 905407991.7499999, 7.000000000000001)"
      ]
     },
     "execution_count": 49,
     "metadata": {},
     "output_type": "execute_result"
    }
   ],
   "source": [
    "risk(y_valid_2, predict_2)"
   ]
  },
  {
   "cell_type": "markdown",
   "metadata": {},
   "source": [
    "## Общий вывод"
   ]
  },
  {
   "cell_type": "code",
   "execution_count": 50,
   "metadata": {},
   "outputs": [
    {
     "data": {
      "text/html": [
       "<div>\n",
       "<style scoped>\n",
       "    .dataframe tbody tr th:only-of-type {\n",
       "        vertical-align: middle;\n",
       "    }\n",
       "\n",
       "    .dataframe tbody tr th {\n",
       "        vertical-align: top;\n",
       "    }\n",
       "\n",
       "    .dataframe thead th {\n",
       "        text-align: right;\n",
       "    }\n",
       "</style>\n",
       "<table border=\"1\" class=\"dataframe\">\n",
       "  <thead>\n",
       "    <tr style=\"text-align: right;\">\n",
       "      <th></th>\n",
       "      <th>Скважины</th>\n",
       "      <th>Cредняя прибыль, руб</th>\n",
       "      <th>Нижняя граница интер.</th>\n",
       "      <th>Верхняя граница интер.</th>\n",
       "      <th>Риск убытков, %</th>\n",
       "    </tr>\n",
       "  </thead>\n",
       "  <tbody>\n",
       "    <tr>\n",
       "      <th>1</th>\n",
       "      <td>Вторая</td>\n",
       "      <td>4.561254e+08</td>\n",
       "      <td>5.511773e+07</td>\n",
       "      <td>8.765660e+08</td>\n",
       "      <td>2.2</td>\n",
       "    </tr>\n",
       "    <tr>\n",
       "      <th>0</th>\n",
       "      <td>Первая</td>\n",
       "      <td>3.878500e+08</td>\n",
       "      <td>-1.339742e+08</td>\n",
       "      <td>8.638442e+08</td>\n",
       "      <td>6.5</td>\n",
       "    </tr>\n",
       "    <tr>\n",
       "      <th>2</th>\n",
       "      <td>Третья</td>\n",
       "      <td>3.842937e+08</td>\n",
       "      <td>-1.662260e+08</td>\n",
       "      <td>8.989831e+08</td>\n",
       "      <td>7.7</td>\n",
       "    </tr>\n",
       "  </tbody>\n",
       "</table>\n",
       "</div>"
      ],
      "text/plain": [
       "  Скважины  Cредняя прибыль, руб  Нижняя граница интер.  \\\n",
       "1   Вторая          4.561254e+08           5.511773e+07   \n",
       "0   Первая          3.878500e+08          -1.339742e+08   \n",
       "2   Третья          3.842937e+08          -1.662260e+08   \n",
       "\n",
       "   Верхняя граница интер.  Риск убытков, %  \n",
       "1            8.765660e+08              2.2  \n",
       "0            8.638442e+08              6.5  \n",
       "2            8.989831e+08              7.7  "
      ]
     },
     "metadata": {},
     "output_type": "display_data"
    }
   ],
   "source": [
    "conclusion = (pd\n",
    "              .DataFrame({'Скважины' : ['Первая','Вторая','Третья'],\n",
    "                          'Cредняя прибыль, руб' : [int(bootstrap(y_valid_0, predict_0, 200, WELL_DEVELOPMENT, PRICE)[0]),\n",
    "                                               bootstrap(y_valid_1, predict_1, 200, WELL_DEVELOPMENT, PRICE)[0], \n",
    "                                               bootstrap(y_valid_2, predict_2, 200, WELL_DEVELOPMENT, PRICE)[0]],\n",
    "                          'Нижняя граница интер.' : [bootstrap(y_valid_0, predict_0, 200, WELL_DEVELOPMENT, PRICE)[1],\n",
    "                                               bootstrap(y_valid_1, predict_1, 200, WELL_DEVELOPMENT, PRICE)[1], \n",
    "                                               bootstrap(y_valid_2, predict_2, 200, WELL_DEVELOPMENT, PRICE)[1]],\n",
    "                          'Верхняя граница интер.' : [bootstrap(y_valid_0, predict_0, 200, WELL_DEVELOPMENT, PRICE)[2],\n",
    "                                               bootstrap(y_valid_1, predict_1, 200, WELL_DEVELOPMENT, PRICE)[2], \n",
    "                                               bootstrap(y_valid_2, predict_2, 200, WELL_DEVELOPMENT, PRICE)[2]],\n",
    "                          'Риск убытков, %' : [bootstrap(y_valid_0, predict_0, 200, WELL_DEVELOPMENT, PRICE)[3],\n",
    "                                               bootstrap(y_valid_1, predict_1, 200, WELL_DEVELOPMENT, PRICE)[3], \n",
    "                                               bootstrap(y_valid_2, predict_2, 200, WELL_DEVELOPMENT, PRICE)[3]]})\n",
    "              .sort_values('Cредняя прибыль, руб', ascending=False))\n",
    "\n",
    "display(conclusion)"
   ]
  },
  {
   "cell_type": "markdown",
   "metadata": {},
   "source": [
    "В данной работе собраны характеристики для скважин: \n",
    "* качество нефти и объём её запасов; \n",
    "* построена модель для предсказания объёма запасов в новых скважинах; \n",
    "* выбирана скважины с самыми высокими оценками значений.\n",
    "\n",
    "\n",
    "**Регион с максимальной суммарной прибылью отобранных скважин - второй.** Добывающей компании «ГлавРосГосНефть» не стоит бояться вкладывать деньги, т.к. **риск убытков 2.2%**, а средняя прибыль входит в доверительный интервал и относительно далек до нижней границы.\n"
   ]
  },
  {
   "cell_type": "markdown",
   "metadata": {},
   "source": [
    "## Чек-лист готовности проекта"
   ]
  },
  {
   "cell_type": "markdown",
   "metadata": {},
   "source": [
    "Поставьте 'x' в выполненных пунктах. Далее нажмите Shift+Enter."
   ]
  },
  {
   "cell_type": "markdown",
   "metadata": {},
   "source": [
    "- [x]  Jupyter Notebook открыт\n",
    "- [x]  Весь код выполняется без ошибок\n",
    "- [x]  Ячейки с кодом расположены в порядке исполнения\n",
    "- [x]  Выполнен шаг 1: данные подготовлены\n",
    "- [x]  Выполнен шаг 2: модели обучены и проверены\n",
    "    - [x]  Данные корректно разбиты на обучающую и валидационную выборки\n",
    "    - [x]  Модели обучены, предсказания сделаны\n",
    "    - [x]  Предсказания и правильные ответы на валидационной выборке сохранены\n",
    "    - [x]  На экране напечатаны результаты\n",
    "    - [x]  Сделаны выводы\n",
    "- [x]  Выполнен шаг 3: проведена подготовка к расчёту прибыли\n",
    "    - [x]  Для всех ключевых значений созданы константы Python\n",
    "    - [x]  Посчитано минимальное среднее количество продукта в месторождениях региона, достаточное для разработки\n",
    "    - [x]  По предыдущему пункту сделаны выводы\n",
    "    - [x]  Написана функция расчёта прибыли\n",
    "- [x]  Выполнен шаг 4: посчитаны риски и прибыль\n",
    "    - [x]  Проведена процедура *Bootstrap*\n",
    "    - [x]  Все параметры бутстрепа соответствуют условию\n",
    "    - [x]  Найдены все нужные величины\n",
    "    - [x]  Предложен регион для разработки месторождения\n",
    "    - [x]  Выбор региона обоснован"
   ]
  }
 ],
 "metadata": {
  "ExecuteTimeLog": [
   {
    "duration": 47,
    "start_time": "2022-07-11T09:05:43.454Z"
   },
   {
    "duration": 328,
    "start_time": "2022-07-11T09:06:39.659Z"
   },
   {
    "duration": 1549,
    "start_time": "2022-07-11T09:06:39.989Z"
   },
   {
    "duration": 2,
    "start_time": "2022-07-11T09:07:42.413Z"
   },
   {
    "duration": 28,
    "start_time": "2022-07-11T09:07:42.697Z"
   },
   {
    "duration": 3,
    "start_time": "2022-07-11T09:08:05.723Z"
   },
   {
    "duration": 24,
    "start_time": "2022-07-11T09:08:06.757Z"
   },
   {
    "duration": 27,
    "start_time": "2022-07-11T09:08:19.487Z"
   },
   {
    "duration": 27,
    "start_time": "2022-07-11T09:08:20.065Z"
   },
   {
    "duration": 4,
    "start_time": "2022-07-11T09:09:08.494Z"
   },
   {
    "duration": 2,
    "start_time": "2022-07-11T09:10:48.085Z"
   },
   {
    "duration": 73,
    "start_time": "2022-07-11T09:13:56.184Z"
   },
   {
    "duration": 8,
    "start_time": "2022-07-11T09:17:04.410Z"
   },
   {
    "duration": 7,
    "start_time": "2022-07-11T09:17:20.094Z"
   },
   {
    "duration": 4,
    "start_time": "2022-07-11T09:18:11.476Z"
   },
   {
    "duration": 372,
    "start_time": "2022-07-11T09:18:17.924Z"
   },
   {
    "duration": 325,
    "start_time": "2022-07-11T09:18:18.298Z"
   },
   {
    "duration": 4,
    "start_time": "2022-07-11T09:18:18.625Z"
   },
   {
    "duration": 37,
    "start_time": "2022-07-11T09:18:18.630Z"
   },
   {
    "duration": 37,
    "start_time": "2022-07-11T09:18:18.669Z"
   },
   {
    "duration": 26,
    "start_time": "2022-07-11T09:18:18.708Z"
   },
   {
    "duration": 7,
    "start_time": "2022-07-11T09:18:18.735Z"
   },
   {
    "duration": 3,
    "start_time": "2022-07-11T09:23:40.723Z"
   },
   {
    "duration": 648,
    "start_time": "2022-07-11T09:24:17.957Z"
   },
   {
    "duration": 101,
    "start_time": "2022-07-11T09:24:24.618Z"
   },
   {
    "duration": 365,
    "start_time": "2022-07-11T09:25:05.994Z"
   },
   {
    "duration": 96,
    "start_time": "2022-07-11T09:25:44.545Z"
   },
   {
    "duration": 73,
    "start_time": "2022-07-11T09:26:32.456Z"
   },
   {
    "duration": 85,
    "start_time": "2022-07-11T09:27:53.067Z"
   },
   {
    "duration": 21,
    "start_time": "2022-07-11T09:28:02.548Z"
   },
   {
    "duration": 21,
    "start_time": "2022-07-11T09:29:33.339Z"
   },
   {
    "duration": 2,
    "start_time": "2022-07-11T09:31:33.053Z"
   },
   {
    "duration": 12,
    "start_time": "2022-07-11T09:31:39.463Z"
   },
   {
    "duration": 37,
    "start_time": "2022-07-11T09:31:46.776Z"
   },
   {
    "duration": 23,
    "start_time": "2022-07-11T09:32:41.322Z"
   },
   {
    "duration": 15,
    "start_time": "2022-07-11T09:32:56.874Z"
   },
   {
    "duration": 380,
    "start_time": "2022-07-11T09:33:02.717Z"
   },
   {
    "duration": 707,
    "start_time": "2022-07-11T09:33:03.103Z"
   },
   {
    "duration": 361,
    "start_time": "2022-07-11T09:33:03.812Z"
   },
   {
    "duration": 4,
    "start_time": "2022-07-11T09:33:04.174Z"
   },
   {
    "duration": 42,
    "start_time": "2022-07-11T09:33:04.180Z"
   },
   {
    "duration": 26,
    "start_time": "2022-07-11T09:33:04.223Z"
   },
   {
    "duration": 25,
    "start_time": "2022-07-11T09:33:04.251Z"
   },
   {
    "duration": 18,
    "start_time": "2022-07-11T09:33:04.305Z"
   },
   {
    "duration": 9,
    "start_time": "2022-07-11T09:33:04.325Z"
   },
   {
    "duration": 17,
    "start_time": "2022-07-11T09:33:04.335Z"
   },
   {
    "duration": 223,
    "start_time": "2022-07-11T09:33:04.353Z"
   },
   {
    "duration": 3,
    "start_time": "2022-07-11T09:34:22.075Z"
   },
   {
    "duration": 19,
    "start_time": "2022-07-11T09:34:28.344Z"
   },
   {
    "duration": 12,
    "start_time": "2022-07-11T09:34:39.138Z"
   },
   {
    "duration": 100,
    "start_time": "2022-07-11T09:34:48.914Z"
   },
   {
    "duration": 14,
    "start_time": "2022-07-11T09:34:55.875Z"
   },
   {
    "duration": 22,
    "start_time": "2022-07-11T09:38:35.969Z"
   },
   {
    "duration": 22,
    "start_time": "2022-07-11T09:38:46.866Z"
   },
   {
    "duration": 19,
    "start_time": "2022-07-11T09:39:15.835Z"
   },
   {
    "duration": 13,
    "start_time": "2022-07-11T09:39:23.958Z"
   },
   {
    "duration": 403,
    "start_time": "2022-07-11T09:43:43.110Z"
   },
   {
    "duration": 674,
    "start_time": "2022-07-11T09:43:43.516Z"
   },
   {
    "duration": 345,
    "start_time": "2022-07-11T09:43:44.192Z"
   },
   {
    "duration": 3,
    "start_time": "2022-07-11T09:43:44.539Z"
   },
   {
    "duration": 38,
    "start_time": "2022-07-11T09:43:44.544Z"
   },
   {
    "duration": 41,
    "start_time": "2022-07-11T09:43:44.584Z"
   },
   {
    "duration": 23,
    "start_time": "2022-07-11T09:43:44.626Z"
   },
   {
    "duration": 17,
    "start_time": "2022-07-11T09:43:44.650Z"
   },
   {
    "duration": 36,
    "start_time": "2022-07-11T09:43:44.668Z"
   },
   {
    "duration": 14,
    "start_time": "2022-07-11T09:43:44.706Z"
   },
   {
    "duration": 16,
    "start_time": "2022-07-11T09:43:44.722Z"
   },
   {
    "duration": 16,
    "start_time": "2022-07-11T09:43:44.739Z"
   },
   {
    "duration": 50,
    "start_time": "2022-07-11T09:43:44.757Z"
   },
   {
    "duration": 106,
    "start_time": "2022-07-11T09:43:44.810Z"
   },
   {
    "duration": 90,
    "start_time": "2022-07-11T09:43:44.919Z"
   },
   {
    "duration": 15,
    "start_time": "2022-07-11T09:59:25.810Z"
   },
   {
    "duration": 14,
    "start_time": "2022-07-11T09:59:36.718Z"
   },
   {
    "duration": 14,
    "start_time": "2022-07-11T09:59:43.157Z"
   },
   {
    "duration": 18,
    "start_time": "2022-07-11T09:59:55.313Z"
   },
   {
    "duration": 14,
    "start_time": "2022-07-11T09:59:57.806Z"
   },
   {
    "duration": 16,
    "start_time": "2022-07-11T10:00:04.763Z"
   },
   {
    "duration": 15,
    "start_time": "2022-07-11T10:04:21.050Z"
   },
   {
    "duration": 3,
    "start_time": "2022-07-11T10:06:06.180Z"
   },
   {
    "duration": 7,
    "start_time": "2022-07-11T10:06:20.591Z"
   },
   {
    "duration": 4,
    "start_time": "2022-07-11T10:07:57.568Z"
   },
   {
    "duration": 14,
    "start_time": "2022-07-11T10:07:58.158Z"
   },
   {
    "duration": 15,
    "start_time": "2022-07-11T10:08:42.174Z"
   },
   {
    "duration": 14,
    "start_time": "2022-07-11T10:08:55.662Z"
   },
   {
    "duration": 15,
    "start_time": "2022-07-11T10:09:05.243Z"
   },
   {
    "duration": 15,
    "start_time": "2022-07-11T10:09:21.097Z"
   },
   {
    "duration": 4,
    "start_time": "2022-07-11T10:09:32.469Z"
   },
   {
    "duration": 9,
    "start_time": "2022-07-11T10:09:33.941Z"
   },
   {
    "duration": 85,
    "start_time": "2022-07-11T10:13:21.941Z"
   },
   {
    "duration": 5,
    "start_time": "2022-07-11T10:15:52.038Z"
   },
   {
    "duration": 16,
    "start_time": "2022-07-11T10:38:00.201Z"
   },
   {
    "duration": 91,
    "start_time": "2022-07-11T10:43:18.489Z"
   },
   {
    "duration": 3,
    "start_time": "2022-07-11T10:43:33.467Z"
   },
   {
    "duration": 3,
    "start_time": "2022-07-11T10:43:33.849Z"
   },
   {
    "duration": 917,
    "start_time": "2022-07-11T10:43:39.923Z"
   },
   {
    "duration": 850,
    "start_time": "2022-07-11T10:43:48.736Z"
   },
   {
    "duration": 804,
    "start_time": "2022-07-11T10:43:54.252Z"
   },
   {
    "duration": 854,
    "start_time": "2022-07-11T10:44:03.357Z"
   },
   {
    "duration": 16,
    "start_time": "2022-07-11T10:44:52.630Z"
   },
   {
    "duration": 8,
    "start_time": "2022-07-11T10:45:09.262Z"
   },
   {
    "duration": 394,
    "start_time": "2022-07-11T10:45:46.804Z"
   },
   {
    "duration": 685,
    "start_time": "2022-07-11T10:45:47.200Z"
   },
   {
    "duration": 351,
    "start_time": "2022-07-11T10:45:47.886Z"
   },
   {
    "duration": 4,
    "start_time": "2022-07-11T10:45:48.239Z"
   },
   {
    "duration": 36,
    "start_time": "2022-07-11T10:45:48.244Z"
   },
   {
    "duration": 36,
    "start_time": "2022-07-11T10:45:48.281Z"
   },
   {
    "duration": 25,
    "start_time": "2022-07-11T10:45:48.319Z"
   },
   {
    "duration": 17,
    "start_time": "2022-07-11T10:45:48.346Z"
   },
   {
    "duration": 12,
    "start_time": "2022-07-11T10:45:48.364Z"
   },
   {
    "duration": 11,
    "start_time": "2022-07-11T10:45:48.403Z"
   },
   {
    "duration": 5,
    "start_time": "2022-07-11T10:45:48.416Z"
   },
   {
    "duration": 8,
    "start_time": "2022-07-11T10:45:48.422Z"
   },
   {
    "duration": 8,
    "start_time": "2022-07-11T10:45:48.431Z"
   },
   {
    "duration": 15,
    "start_time": "2022-07-11T10:45:48.441Z"
   },
   {
    "duration": 12,
    "start_time": "2022-07-11T10:45:48.458Z"
   },
   {
    "duration": 19,
    "start_time": "2022-07-11T10:45:48.472Z"
   },
   {
    "duration": 13,
    "start_time": "2022-07-11T10:45:48.493Z"
   },
   {
    "duration": 10,
    "start_time": "2022-07-11T10:45:48.507Z"
   },
   {
    "duration": 4,
    "start_time": "2022-07-11T10:45:48.519Z"
   },
   {
    "duration": 10,
    "start_time": "2022-07-11T11:07:35.532Z"
   },
   {
    "duration": 10,
    "start_time": "2022-07-11T11:07:47.576Z"
   },
   {
    "duration": 10,
    "start_time": "2022-07-11T11:08:34.505Z"
   },
   {
    "duration": 11,
    "start_time": "2022-07-11T11:08:39.816Z"
   },
   {
    "duration": 11,
    "start_time": "2022-07-11T11:08:48.307Z"
   },
   {
    "duration": 12,
    "start_time": "2022-07-11T11:08:55.487Z"
   },
   {
    "duration": 11,
    "start_time": "2022-07-11T11:08:59.900Z"
   },
   {
    "duration": 7,
    "start_time": "2022-07-11T11:09:39.781Z"
   },
   {
    "duration": 3,
    "start_time": "2022-07-11T11:09:54.426Z"
   },
   {
    "duration": 3,
    "start_time": "2022-07-11T11:10:40.802Z"
   },
   {
    "duration": 5,
    "start_time": "2022-07-11T11:11:30.683Z"
   },
   {
    "duration": 9,
    "start_time": "2022-07-11T11:11:31.131Z"
   },
   {
    "duration": 5,
    "start_time": "2022-07-11T11:11:46.136Z"
   },
   {
    "duration": 10,
    "start_time": "2022-07-11T11:11:46.352Z"
   },
   {
    "duration": 5,
    "start_time": "2022-07-11T11:12:08.914Z"
   },
   {
    "duration": 7,
    "start_time": "2022-07-11T11:12:09.262Z"
   },
   {
    "duration": 419,
    "start_time": "2022-07-11T11:14:53.714Z"
   },
   {
    "duration": 690,
    "start_time": "2022-07-11T11:14:54.135Z"
   },
   {
    "duration": 384,
    "start_time": "2022-07-11T11:14:54.827Z"
   },
   {
    "duration": 4,
    "start_time": "2022-07-11T11:14:55.213Z"
   },
   {
    "duration": 43,
    "start_time": "2022-07-11T11:14:55.219Z"
   },
   {
    "duration": 42,
    "start_time": "2022-07-11T11:14:55.263Z"
   },
   {
    "duration": 30,
    "start_time": "2022-07-11T11:14:55.307Z"
   },
   {
    "duration": 19,
    "start_time": "2022-07-11T11:14:55.338Z"
   },
   {
    "duration": 17,
    "start_time": "2022-07-11T11:14:55.359Z"
   },
   {
    "duration": 33,
    "start_time": "2022-07-11T11:14:55.378Z"
   },
   {
    "duration": 6,
    "start_time": "2022-07-11T11:14:55.413Z"
   },
   {
    "duration": 9,
    "start_time": "2022-07-11T11:14:55.420Z"
   },
   {
    "duration": 9,
    "start_time": "2022-07-11T11:14:55.432Z"
   },
   {
    "duration": 6,
    "start_time": "2022-07-11T11:14:55.443Z"
   },
   {
    "duration": 17,
    "start_time": "2022-07-11T11:14:55.450Z"
   },
   {
    "duration": 10,
    "start_time": "2022-07-11T11:14:55.468Z"
   },
   {
    "duration": 28,
    "start_time": "2022-07-11T11:14:55.480Z"
   },
   {
    "duration": 5,
    "start_time": "2022-07-11T11:14:55.510Z"
   },
   {
    "duration": 28,
    "start_time": "2022-07-11T11:14:55.517Z"
   },
   {
    "duration": 3,
    "start_time": "2022-07-11T11:14:55.547Z"
   },
   {
    "duration": 11,
    "start_time": "2022-07-11T11:18:40.939Z"
   },
   {
    "duration": 6,
    "start_time": "2022-07-11T11:18:45.518Z"
   },
   {
    "duration": 5,
    "start_time": "2022-07-11T11:18:45.695Z"
   },
   {
    "duration": 5,
    "start_time": "2022-07-11T11:18:45.850Z"
   },
   {
    "duration": 4,
    "start_time": "2022-07-11T11:18:46.735Z"
   },
   {
    "duration": 11,
    "start_time": "2022-07-11T11:19:14.951Z"
   },
   {
    "duration": 7,
    "start_time": "2022-07-11T11:19:15.286Z"
   },
   {
    "duration": 6,
    "start_time": "2022-07-11T11:19:15.430Z"
   },
   {
    "duration": 7,
    "start_time": "2022-07-11T11:19:15.606Z"
   },
   {
    "duration": 4,
    "start_time": "2022-07-11T11:19:16.237Z"
   },
   {
    "duration": 15,
    "start_time": "2022-07-11T11:19:31.998Z"
   },
   {
    "duration": 6,
    "start_time": "2022-07-11T11:19:32.399Z"
   },
   {
    "duration": 6,
    "start_time": "2022-07-11T11:19:32.599Z"
   },
   {
    "duration": 7,
    "start_time": "2022-07-11T11:19:32.786Z"
   },
   {
    "duration": 4,
    "start_time": "2022-07-11T11:19:33.828Z"
   },
   {
    "duration": 398,
    "start_time": "2022-07-11T11:19:42.413Z"
   },
   {
    "duration": 735,
    "start_time": "2022-07-11T11:19:42.813Z"
   },
   {
    "duration": 348,
    "start_time": "2022-07-11T11:19:43.550Z"
   },
   {
    "duration": 4,
    "start_time": "2022-07-11T11:19:43.900Z"
   },
   {
    "duration": 36,
    "start_time": "2022-07-11T11:19:43.907Z"
   },
   {
    "duration": 26,
    "start_time": "2022-07-11T11:19:43.945Z"
   },
   {
    "duration": 49,
    "start_time": "2022-07-11T11:19:43.973Z"
   },
   {
    "duration": 14,
    "start_time": "2022-07-11T11:19:44.024Z"
   },
   {
    "duration": 10,
    "start_time": "2022-07-11T11:19:44.040Z"
   },
   {
    "duration": 16,
    "start_time": "2022-07-11T11:19:44.051Z"
   },
   {
    "duration": 8,
    "start_time": "2022-07-11T11:19:44.068Z"
   },
   {
    "duration": 28,
    "start_time": "2022-07-11T11:19:44.078Z"
   },
   {
    "duration": 6,
    "start_time": "2022-07-11T11:19:44.108Z"
   },
   {
    "duration": 7,
    "start_time": "2022-07-11T11:19:44.117Z"
   },
   {
    "duration": 11,
    "start_time": "2022-07-11T11:19:44.126Z"
   },
   {
    "duration": 14,
    "start_time": "2022-07-11T11:19:44.139Z"
   },
   {
    "duration": 12,
    "start_time": "2022-07-11T11:19:44.155Z"
   },
   {
    "duration": 4,
    "start_time": "2022-07-11T11:19:44.169Z"
   },
   {
    "duration": 35,
    "start_time": "2022-07-11T11:19:44.175Z"
   },
   {
    "duration": 5,
    "start_time": "2022-07-11T11:19:44.212Z"
   },
   {
    "duration": 10,
    "start_time": "2022-07-11T11:22:08.880Z"
   },
   {
    "duration": 105,
    "start_time": "2022-07-11T11:23:04.586Z"
   },
   {
    "duration": 15,
    "start_time": "2022-07-11T11:23:20.331Z"
   },
   {
    "duration": 15,
    "start_time": "2022-07-11T11:23:52.029Z"
   },
   {
    "duration": 14,
    "start_time": "2022-07-11T11:23:56.430Z"
   },
   {
    "duration": 15,
    "start_time": "2022-07-11T11:24:02.868Z"
   },
   {
    "duration": 17,
    "start_time": "2022-07-11T11:24:10.998Z"
   },
   {
    "duration": 16,
    "start_time": "2022-07-11T11:24:42.690Z"
   },
   {
    "duration": 14,
    "start_time": "2022-07-11T11:24:47.010Z"
   },
   {
    "duration": 13,
    "start_time": "2022-07-11T11:24:58.843Z"
   },
   {
    "duration": 14,
    "start_time": "2022-07-11T11:26:13.969Z"
   },
   {
    "duration": 10,
    "start_time": "2022-07-11T11:26:54.577Z"
   },
   {
    "duration": 12,
    "start_time": "2022-07-11T11:26:58.703Z"
   },
   {
    "duration": 14,
    "start_time": "2022-07-11T11:28:36.820Z"
   },
   {
    "duration": 10,
    "start_time": "2022-07-11T11:30:24.676Z"
   },
   {
    "duration": 14,
    "start_time": "2022-07-11T11:31:31.433Z"
   },
   {
    "duration": 13,
    "start_time": "2022-07-11T11:33:59.537Z"
   },
   {
    "duration": 11,
    "start_time": "2022-07-11T11:37:33.965Z"
   },
   {
    "duration": 17,
    "start_time": "2022-07-11T11:37:36.417Z"
   },
   {
    "duration": 9,
    "start_time": "2022-07-11T11:37:42.003Z"
   },
   {
    "duration": 9,
    "start_time": "2022-07-11T11:37:51.614Z"
   },
   {
    "duration": 18,
    "start_time": "2022-07-11T11:37:56.863Z"
   },
   {
    "duration": 20,
    "start_time": "2022-07-11T11:38:29.885Z"
   },
   {
    "duration": 13,
    "start_time": "2022-07-11T11:38:35.234Z"
   },
   {
    "duration": 13,
    "start_time": "2022-07-11T11:39:04.059Z"
   },
   {
    "duration": 107,
    "start_time": "2022-07-11T11:41:07.780Z"
   },
   {
    "duration": 14,
    "start_time": "2022-07-11T11:41:14.242Z"
   },
   {
    "duration": 15,
    "start_time": "2022-07-11T11:42:35.157Z"
   },
   {
    "duration": 12,
    "start_time": "2022-07-11T11:43:15.218Z"
   },
   {
    "duration": 11,
    "start_time": "2022-07-11T11:43:29.936Z"
   },
   {
    "duration": 9,
    "start_time": "2022-07-11T11:43:37.780Z"
   },
   {
    "duration": 11,
    "start_time": "2022-07-11T11:44:39.642Z"
   },
   {
    "duration": 10,
    "start_time": "2022-07-11T11:46:43.863Z"
   },
   {
    "duration": 10,
    "start_time": "2022-07-11T11:47:46.950Z"
   },
   {
    "duration": 9,
    "start_time": "2022-07-11T11:48:49.295Z"
   },
   {
    "duration": 11,
    "start_time": "2022-07-11T11:52:59.000Z"
   },
   {
    "duration": 11,
    "start_time": "2022-07-11T11:53:28.786Z"
   },
   {
    "duration": 6,
    "start_time": "2022-07-11T11:54:18.907Z"
   },
   {
    "duration": 395,
    "start_time": "2022-07-11T11:56:56.616Z"
   },
   {
    "duration": 708,
    "start_time": "2022-07-11T11:56:57.013Z"
   },
   {
    "duration": 375,
    "start_time": "2022-07-11T11:56:57.723Z"
   },
   {
    "duration": 5,
    "start_time": "2022-07-11T11:56:58.101Z"
   },
   {
    "duration": 47,
    "start_time": "2022-07-11T11:56:58.107Z"
   },
   {
    "duration": 49,
    "start_time": "2022-07-11T11:56:58.156Z"
   },
   {
    "duration": 29,
    "start_time": "2022-07-11T11:56:58.207Z"
   },
   {
    "duration": 16,
    "start_time": "2022-07-11T11:56:58.238Z"
   },
   {
    "duration": 16,
    "start_time": "2022-07-11T11:56:58.255Z"
   },
   {
    "duration": 35,
    "start_time": "2022-07-11T11:56:58.273Z"
   },
   {
    "duration": 7,
    "start_time": "2022-07-11T11:56:58.309Z"
   },
   {
    "duration": 7,
    "start_time": "2022-07-11T11:56:58.318Z"
   },
   {
    "duration": 9,
    "start_time": "2022-07-11T11:56:58.327Z"
   },
   {
    "duration": 6,
    "start_time": "2022-07-11T11:56:58.337Z"
   },
   {
    "duration": 12,
    "start_time": "2022-07-11T11:56:58.344Z"
   },
   {
    "duration": 10,
    "start_time": "2022-07-11T11:56:58.358Z"
   },
   {
    "duration": 9,
    "start_time": "2022-07-11T11:56:58.405Z"
   },
   {
    "duration": 8,
    "start_time": "2022-07-11T11:56:58.416Z"
   },
   {
    "duration": 5,
    "start_time": "2022-07-11T11:56:58.425Z"
   },
   {
    "duration": 11,
    "start_time": "2022-07-11T11:56:58.432Z"
   },
   {
    "duration": 14,
    "start_time": "2022-07-11T11:56:58.445Z"
   },
   {
    "duration": 110,
    "start_time": "2022-07-11T11:59:01.763Z"
   },
   {
    "duration": 10,
    "start_time": "2022-07-11T11:59:41.769Z"
   },
   {
    "duration": 12,
    "start_time": "2022-07-11T12:02:02.058Z"
   },
   {
    "duration": 6,
    "start_time": "2022-07-11T12:02:36.510Z"
   },
   {
    "duration": 8,
    "start_time": "2022-07-11T12:02:48.012Z"
   },
   {
    "duration": 9,
    "start_time": "2022-07-11T12:02:56.447Z"
   },
   {
    "duration": 6,
    "start_time": "2022-07-11T12:03:07.700Z"
   },
   {
    "duration": 6,
    "start_time": "2022-07-11T12:03:23.171Z"
   },
   {
    "duration": 5,
    "start_time": "2022-07-11T12:05:04.413Z"
   },
   {
    "duration": 6,
    "start_time": "2022-07-11T12:05:14.915Z"
   },
   {
    "duration": 8,
    "start_time": "2022-07-11T12:05:19.946Z"
   },
   {
    "duration": 6,
    "start_time": "2022-07-11T12:05:45.541Z"
   },
   {
    "duration": 6,
    "start_time": "2022-07-11T12:05:55.758Z"
   },
   {
    "duration": 7,
    "start_time": "2022-07-11T12:07:23.694Z"
   },
   {
    "duration": 6,
    "start_time": "2022-07-11T12:07:41.299Z"
   },
   {
    "duration": 7,
    "start_time": "2022-07-11T12:07:53.371Z"
   },
   {
    "duration": 6,
    "start_time": "2022-07-11T12:08:57.886Z"
   },
   {
    "duration": 9,
    "start_time": "2022-07-11T12:09:01.013Z"
   },
   {
    "duration": 6,
    "start_time": "2022-07-11T12:09:30.312Z"
   },
   {
    "duration": 27,
    "start_time": "2022-07-11T12:10:31.431Z"
   },
   {
    "duration": 24,
    "start_time": "2022-07-11T12:10:46.864Z"
   },
   {
    "duration": 181,
    "start_time": "2022-07-11T12:11:03.603Z"
   },
   {
    "duration": 76,
    "start_time": "2022-07-11T12:11:13.505Z"
   },
   {
    "duration": 11,
    "start_time": "2022-07-11T12:14:02.618Z"
   },
   {
    "duration": 11,
    "start_time": "2022-07-11T12:14:33.754Z"
   },
   {
    "duration": 12,
    "start_time": "2022-07-11T12:14:50.782Z"
   },
   {
    "duration": 11,
    "start_time": "2022-07-11T12:15:01.492Z"
   },
   {
    "duration": 7,
    "start_time": "2022-07-11T12:15:27.449Z"
   },
   {
    "duration": 7,
    "start_time": "2022-07-11T12:15:36.502Z"
   },
   {
    "duration": 6,
    "start_time": "2022-07-11T12:16:13.461Z"
   },
   {
    "duration": 6,
    "start_time": "2022-07-11T12:16:36.273Z"
   },
   {
    "duration": 10,
    "start_time": "2022-07-11T12:16:48.962Z"
   },
   {
    "duration": 9,
    "start_time": "2022-07-11T12:17:47.547Z"
   },
   {
    "duration": 10,
    "start_time": "2022-07-11T12:19:43.110Z"
   },
   {
    "duration": 8,
    "start_time": "2022-07-11T12:19:53.433Z"
   },
   {
    "duration": 8,
    "start_time": "2022-07-11T12:21:53.652Z"
   },
   {
    "duration": 8,
    "start_time": "2022-07-11T12:23:00.852Z"
   },
   {
    "duration": 7,
    "start_time": "2022-07-11T12:23:12.328Z"
   },
   {
    "duration": 7,
    "start_time": "2022-07-11T12:23:20.255Z"
   },
   {
    "duration": 8,
    "start_time": "2022-07-11T12:23:46.707Z"
   },
   {
    "duration": 9,
    "start_time": "2022-07-11T12:24:01.752Z"
   },
   {
    "duration": 7,
    "start_time": "2022-07-11T12:24:25.801Z"
   },
   {
    "duration": 7,
    "start_time": "2022-07-11T12:24:43.374Z"
   },
   {
    "duration": 11,
    "start_time": "2022-07-11T12:24:47.658Z"
   },
   {
    "duration": 7,
    "start_time": "2022-07-11T12:25:00.508Z"
   },
   {
    "duration": 7,
    "start_time": "2022-07-11T12:25:15.892Z"
   },
   {
    "duration": 9,
    "start_time": "2022-07-11T12:25:18.657Z"
   },
   {
    "duration": 12,
    "start_time": "2022-07-11T12:26:45.003Z"
   },
   {
    "duration": 11,
    "start_time": "2022-07-11T12:27:47.404Z"
   },
   {
    "duration": 11,
    "start_time": "2022-07-11T12:28:05.161Z"
   },
   {
    "duration": 16,
    "start_time": "2022-07-11T12:28:37.263Z"
   },
   {
    "duration": 10,
    "start_time": "2022-07-11T12:28:50.825Z"
   },
   {
    "duration": 12,
    "start_time": "2022-07-11T12:29:07.690Z"
   },
   {
    "duration": 13,
    "start_time": "2022-07-11T12:29:14.150Z"
   },
   {
    "duration": 11,
    "start_time": "2022-07-11T12:30:07.571Z"
   },
   {
    "duration": 13,
    "start_time": "2022-07-11T12:30:16.622Z"
   },
   {
    "duration": 13,
    "start_time": "2022-07-11T12:31:32.161Z"
   },
   {
    "duration": 13,
    "start_time": "2022-07-11T12:31:38.106Z"
   },
   {
    "duration": 10,
    "start_time": "2022-07-11T12:31:57.081Z"
   },
   {
    "duration": 16,
    "start_time": "2022-07-11T12:32:00.278Z"
   },
   {
    "duration": 14,
    "start_time": "2022-07-11T12:32:12.771Z"
   },
   {
    "duration": 20,
    "start_time": "2022-07-11T12:34:48.451Z"
   },
   {
    "duration": 15,
    "start_time": "2022-07-11T12:34:57.152Z"
   },
   {
    "duration": 16,
    "start_time": "2022-07-11T12:35:27.353Z"
   },
   {
    "duration": 1312,
    "start_time": "2022-07-11T12:38:04.226Z"
   },
   {
    "duration": 17,
    "start_time": "2022-07-11T12:38:39.114Z"
   },
   {
    "duration": 13,
    "start_time": "2022-07-11T12:38:57.333Z"
   },
   {
    "duration": 15,
    "start_time": "2022-07-11T12:39:26.798Z"
   },
   {
    "duration": 16,
    "start_time": "2022-07-11T12:40:11.433Z"
   },
   {
    "duration": 15,
    "start_time": "2022-07-11T12:40:44.799Z"
   },
   {
    "duration": 15,
    "start_time": "2022-07-11T12:42:55.773Z"
   },
   {
    "duration": 15,
    "start_time": "2022-07-11T12:43:07.777Z"
   },
   {
    "duration": 15,
    "start_time": "2022-07-11T12:43:41.231Z"
   },
   {
    "duration": 16,
    "start_time": "2022-07-11T12:43:45.867Z"
   },
   {
    "duration": 22,
    "start_time": "2022-07-11T12:45:08.810Z"
   },
   {
    "duration": 4,
    "start_time": "2022-07-11T12:47:28.094Z"
   },
   {
    "duration": 99,
    "start_time": "2022-07-11T12:48:16.900Z"
   },
   {
    "duration": 4,
    "start_time": "2022-07-11T12:48:28.826Z"
   },
   {
    "duration": 14,
    "start_time": "2022-07-11T12:49:06.255Z"
   },
   {
    "duration": 4,
    "start_time": "2022-07-11T12:49:35.440Z"
   },
   {
    "duration": 13,
    "start_time": "2022-07-11T12:49:36.367Z"
   },
   {
    "duration": 6,
    "start_time": "2022-07-11T12:49:50.478Z"
   },
   {
    "duration": 25,
    "start_time": "2022-07-11T12:49:51.336Z"
   },
   {
    "duration": 24,
    "start_time": "2022-07-11T12:50:36.885Z"
   },
   {
    "duration": 21,
    "start_time": "2022-07-11T12:50:48.225Z"
   },
   {
    "duration": 24,
    "start_time": "2022-07-11T12:51:04.726Z"
   },
   {
    "duration": 23,
    "start_time": "2022-07-11T12:51:34.712Z"
   },
   {
    "duration": 5,
    "start_time": "2022-07-11T12:52:27.547Z"
   },
   {
    "duration": 3,
    "start_time": "2022-07-11T12:52:31.994Z"
   },
   {
    "duration": 4,
    "start_time": "2022-07-11T12:52:43.394Z"
   },
   {
    "duration": 4,
    "start_time": "2022-07-11T12:52:47.099Z"
   },
   {
    "duration": 26,
    "start_time": "2022-07-11T12:53:15.438Z"
   },
   {
    "duration": 421,
    "start_time": "2022-07-11T12:53:30.883Z"
   },
   {
    "duration": 814,
    "start_time": "2022-07-11T12:53:31.306Z"
   },
   {
    "duration": 378,
    "start_time": "2022-07-11T12:53:32.122Z"
   },
   {
    "duration": 5,
    "start_time": "2022-07-11T12:53:32.501Z"
   },
   {
    "duration": 56,
    "start_time": "2022-07-11T12:53:32.509Z"
   },
   {
    "duration": 49,
    "start_time": "2022-07-11T12:53:32.566Z"
   },
   {
    "duration": 29,
    "start_time": "2022-07-11T12:53:32.618Z"
   },
   {
    "duration": 15,
    "start_time": "2022-07-11T12:53:32.649Z"
   },
   {
    "duration": 38,
    "start_time": "2022-07-11T12:53:32.667Z"
   },
   {
    "duration": 16,
    "start_time": "2022-07-11T12:53:32.708Z"
   },
   {
    "duration": 7,
    "start_time": "2022-07-11T12:53:32.727Z"
   },
   {
    "duration": 13,
    "start_time": "2022-07-11T12:53:32.736Z"
   },
   {
    "duration": 10,
    "start_time": "2022-07-11T12:53:32.751Z"
   },
   {
    "duration": 11,
    "start_time": "2022-07-11T12:53:32.763Z"
   },
   {
    "duration": 8,
    "start_time": "2022-07-11T12:53:32.776Z"
   },
   {
    "duration": 46,
    "start_time": "2022-07-11T12:53:32.785Z"
   },
   {
    "duration": 30,
    "start_time": "2022-07-11T12:53:32.832Z"
   },
   {
    "duration": 60,
    "start_time": "2022-07-11T12:53:32.865Z"
   },
   {
    "duration": 6,
    "start_time": "2022-07-11T12:53:32.927Z"
   },
   {
    "duration": 14,
    "start_time": "2022-07-11T12:53:32.934Z"
   },
   {
    "duration": 10,
    "start_time": "2022-07-11T12:53:32.949Z"
   },
   {
    "duration": 5,
    "start_time": "2022-07-11T12:55:42.248Z"
   },
   {
    "duration": 24,
    "start_time": "2022-07-11T12:55:44.653Z"
   },
   {
    "duration": 24,
    "start_time": "2022-07-11T12:55:47.804Z"
   },
   {
    "duration": 24,
    "start_time": "2022-07-11T12:55:51.357Z"
   },
   {
    "duration": 362,
    "start_time": "2022-07-11T12:55:57.652Z"
   },
   {
    "duration": 725,
    "start_time": "2022-07-11T12:55:58.017Z"
   },
   {
    "duration": 371,
    "start_time": "2022-07-11T12:55:58.744Z"
   },
   {
    "duration": 4,
    "start_time": "2022-07-11T12:55:59.117Z"
   },
   {
    "duration": 37,
    "start_time": "2022-07-11T12:55:59.123Z"
   },
   {
    "duration": 43,
    "start_time": "2022-07-11T12:55:59.162Z"
   },
   {
    "duration": 27,
    "start_time": "2022-07-11T12:55:59.208Z"
   },
   {
    "duration": 16,
    "start_time": "2022-07-11T12:55:59.237Z"
   },
   {
    "duration": 11,
    "start_time": "2022-07-11T12:55:59.254Z"
   },
   {
    "duration": 37,
    "start_time": "2022-07-11T12:55:59.267Z"
   },
   {
    "duration": 5,
    "start_time": "2022-07-11T12:55:59.306Z"
   },
   {
    "duration": 12,
    "start_time": "2022-07-11T12:55:59.313Z"
   },
   {
    "duration": 7,
    "start_time": "2022-07-11T12:55:59.326Z"
   },
   {
    "duration": 8,
    "start_time": "2022-07-11T12:55:59.334Z"
   },
   {
    "duration": 5,
    "start_time": "2022-07-11T12:55:59.343Z"
   },
   {
    "duration": 25,
    "start_time": "2022-07-11T12:55:59.349Z"
   },
   {
    "duration": 45,
    "start_time": "2022-07-11T12:55:59.376Z"
   },
   {
    "duration": 23,
    "start_time": "2022-07-11T12:55:59.422Z"
   },
   {
    "duration": 5,
    "start_time": "2022-07-11T12:55:59.447Z"
   },
   {
    "duration": 12,
    "start_time": "2022-07-11T12:55:59.453Z"
   },
   {
    "duration": 8,
    "start_time": "2022-07-11T12:55:59.467Z"
   },
   {
    "duration": 6,
    "start_time": "2022-07-11T12:58:13.458Z"
   },
   {
    "duration": 20,
    "start_time": "2022-07-11T12:58:15.636Z"
   },
   {
    "duration": 23,
    "start_time": "2022-07-11T12:58:39.483Z"
   },
   {
    "duration": 25,
    "start_time": "2022-07-11T12:59:01.026Z"
   },
   {
    "duration": 24,
    "start_time": "2022-07-11T12:59:04.051Z"
   },
   {
    "duration": 402,
    "start_time": "2022-07-11T12:59:10.231Z"
   },
   {
    "duration": 674,
    "start_time": "2022-07-11T12:59:10.635Z"
   },
   {
    "duration": 345,
    "start_time": "2022-07-11T12:59:11.311Z"
   },
   {
    "duration": 5,
    "start_time": "2022-07-11T12:59:11.658Z"
   },
   {
    "duration": 45,
    "start_time": "2022-07-11T12:59:11.664Z"
   },
   {
    "duration": 28,
    "start_time": "2022-07-11T12:59:11.711Z"
   },
   {
    "duration": 28,
    "start_time": "2022-07-11T12:59:11.741Z"
   },
   {
    "duration": 48,
    "start_time": "2022-07-11T12:59:11.771Z"
   },
   {
    "duration": 14,
    "start_time": "2022-07-11T12:59:11.821Z"
   },
   {
    "duration": 11,
    "start_time": "2022-07-11T12:59:11.837Z"
   },
   {
    "duration": 7,
    "start_time": "2022-07-11T12:59:11.850Z"
   },
   {
    "duration": 7,
    "start_time": "2022-07-11T12:59:11.859Z"
   },
   {
    "duration": 6,
    "start_time": "2022-07-11T12:59:11.868Z"
   },
   {
    "duration": 30,
    "start_time": "2022-07-11T12:59:11.875Z"
   },
   {
    "duration": 5,
    "start_time": "2022-07-11T12:59:11.907Z"
   },
   {
    "duration": 28,
    "start_time": "2022-07-11T12:59:11.913Z"
   },
   {
    "duration": 22,
    "start_time": "2022-07-11T12:59:11.943Z"
   },
   {
    "duration": 51,
    "start_time": "2022-07-11T12:59:11.966Z"
   },
   {
    "duration": 5,
    "start_time": "2022-07-11T12:59:12.018Z"
   },
   {
    "duration": 11,
    "start_time": "2022-07-11T12:59:12.024Z"
   },
   {
    "duration": 7,
    "start_time": "2022-07-11T12:59:12.037Z"
   },
   {
    "duration": 397,
    "start_time": "2022-07-11T12:59:42.588Z"
   },
   {
    "duration": 606,
    "start_time": "2022-07-11T12:59:42.986Z"
   },
   {
    "duration": 349,
    "start_time": "2022-07-11T12:59:43.593Z"
   },
   {
    "duration": 5,
    "start_time": "2022-07-11T12:59:43.944Z"
   },
   {
    "duration": 38,
    "start_time": "2022-07-11T12:59:43.950Z"
   },
   {
    "duration": 34,
    "start_time": "2022-07-11T12:59:43.989Z"
   },
   {
    "duration": 25,
    "start_time": "2022-07-11T12:59:44.025Z"
   },
   {
    "duration": 17,
    "start_time": "2022-07-11T12:59:44.051Z"
   },
   {
    "duration": 37,
    "start_time": "2022-07-11T12:59:44.070Z"
   },
   {
    "duration": 14,
    "start_time": "2022-07-11T12:59:44.109Z"
   },
   {
    "duration": 7,
    "start_time": "2022-07-11T12:59:44.126Z"
   },
   {
    "duration": 26,
    "start_time": "2022-07-11T12:59:44.135Z"
   },
   {
    "duration": 8,
    "start_time": "2022-07-11T12:59:44.162Z"
   },
   {
    "duration": 9,
    "start_time": "2022-07-11T12:59:44.172Z"
   },
   {
    "duration": 8,
    "start_time": "2022-07-11T12:59:44.182Z"
   },
   {
    "duration": 25,
    "start_time": "2022-07-11T12:59:44.191Z"
   },
   {
    "duration": 22,
    "start_time": "2022-07-11T12:59:44.217Z"
   },
   {
    "duration": 21,
    "start_time": "2022-07-11T12:59:44.240Z"
   },
   {
    "duration": 4,
    "start_time": "2022-07-11T12:59:44.263Z"
   },
   {
    "duration": 37,
    "start_time": "2022-07-11T12:59:44.268Z"
   },
   {
    "duration": 4,
    "start_time": "2022-07-11T12:59:44.307Z"
   },
   {
    "duration": 9,
    "start_time": "2022-07-12T08:28:55.561Z"
   },
   {
    "duration": 439,
    "start_time": "2022-07-12T08:30:19.916Z"
   },
   {
    "duration": 694,
    "start_time": "2022-07-12T08:30:20.357Z"
   },
   {
    "duration": 799,
    "start_time": "2022-07-12T08:30:21.053Z"
   },
   {
    "duration": 6,
    "start_time": "2022-07-12T08:30:21.854Z"
   },
   {
    "duration": 41,
    "start_time": "2022-07-12T08:30:21.862Z"
   },
   {
    "duration": 42,
    "start_time": "2022-07-12T08:30:21.904Z"
   },
   {
    "duration": 27,
    "start_time": "2022-07-12T08:30:21.948Z"
   },
   {
    "duration": 19,
    "start_time": "2022-07-12T08:30:21.976Z"
   },
   {
    "duration": 22,
    "start_time": "2022-07-12T08:30:21.997Z"
   },
   {
    "duration": 25,
    "start_time": "2022-07-12T08:30:22.021Z"
   },
   {
    "duration": 9,
    "start_time": "2022-07-12T08:30:22.047Z"
   },
   {
    "duration": 9,
    "start_time": "2022-07-12T08:30:22.058Z"
   },
   {
    "duration": 23,
    "start_time": "2022-07-12T08:30:22.069Z"
   },
   {
    "duration": 22,
    "start_time": "2022-07-12T08:30:22.096Z"
   },
   {
    "duration": 10,
    "start_time": "2022-07-12T08:30:22.119Z"
   },
   {
    "duration": 44,
    "start_time": "2022-07-12T08:30:22.130Z"
   },
   {
    "duration": 23,
    "start_time": "2022-07-12T08:30:22.176Z"
   },
   {
    "duration": 25,
    "start_time": "2022-07-12T08:30:22.200Z"
   },
   {
    "duration": 4,
    "start_time": "2022-07-12T08:30:22.247Z"
   },
   {
    "duration": 15,
    "start_time": "2022-07-12T08:30:22.253Z"
   },
   {
    "duration": 12,
    "start_time": "2022-07-12T08:30:22.269Z"
   },
   {
    "duration": 10,
    "start_time": "2022-07-12T08:30:22.283Z"
   },
   {
    "duration": 3,
    "start_time": "2022-07-12T08:30:34.473Z"
   },
   {
    "duration": 3,
    "start_time": "2022-07-12T08:31:24.284Z"
   },
   {
    "duration": 4,
    "start_time": "2022-07-12T08:39:23.781Z"
   },
   {
    "duration": 3,
    "start_time": "2022-07-12T08:39:25.604Z"
   },
   {
    "duration": 129,
    "start_time": "2022-07-12T08:41:04.891Z"
   },
   {
    "duration": 3,
    "start_time": "2022-07-12T08:41:13.659Z"
   },
   {
    "duration": 3,
    "start_time": "2022-07-12T08:41:14.436Z"
   },
   {
    "duration": 3,
    "start_time": "2022-07-12T08:41:15.293Z"
   },
   {
    "duration": 7,
    "start_time": "2022-07-12T08:41:17.940Z"
   },
   {
    "duration": 11,
    "start_time": "2022-07-12T08:41:22.569Z"
   },
   {
    "duration": 4,
    "start_time": "2022-07-12T08:41:39.536Z"
   },
   {
    "duration": 2,
    "start_time": "2022-07-12T08:41:50.244Z"
   },
   {
    "duration": 3,
    "start_time": "2022-07-12T08:41:51.009Z"
   },
   {
    "duration": 3,
    "start_time": "2022-07-12T08:41:51.782Z"
   },
   {
    "duration": 14,
    "start_time": "2022-07-12T08:41:54.511Z"
   },
   {
    "duration": 401,
    "start_time": "2022-07-12T08:46:02.564Z"
   },
   {
    "duration": 731,
    "start_time": "2022-07-12T08:46:02.967Z"
   },
   {
    "duration": 366,
    "start_time": "2022-07-12T08:46:03.700Z"
   },
   {
    "duration": 5,
    "start_time": "2022-07-12T08:46:04.068Z"
   },
   {
    "duration": 38,
    "start_time": "2022-07-12T08:46:04.077Z"
   },
   {
    "duration": 46,
    "start_time": "2022-07-12T08:46:04.117Z"
   },
   {
    "duration": 27,
    "start_time": "2022-07-12T08:46:04.165Z"
   },
   {
    "duration": 3,
    "start_time": "2022-07-12T08:46:04.193Z"
   },
   {
    "duration": 22,
    "start_time": "2022-07-12T08:46:04.198Z"
   },
   {
    "duration": 32,
    "start_time": "2022-07-12T08:46:04.222Z"
   },
   {
    "duration": 6,
    "start_time": "2022-07-12T08:46:04.256Z"
   },
   {
    "duration": 9,
    "start_time": "2022-07-12T08:46:04.264Z"
   },
   {
    "duration": 8,
    "start_time": "2022-07-12T08:46:04.275Z"
   },
   {
    "duration": 5,
    "start_time": "2022-07-12T08:46:04.286Z"
   },
   {
    "duration": 6,
    "start_time": "2022-07-12T08:46:04.292Z"
   },
   {
    "duration": 140,
    "start_time": "2022-07-12T08:46:04.300Z"
   },
   {
    "duration": 0,
    "start_time": "2022-07-12T08:46:04.446Z"
   },
   {
    "duration": 0,
    "start_time": "2022-07-12T08:46:04.447Z"
   },
   {
    "duration": 0,
    "start_time": "2022-07-12T08:46:04.449Z"
   },
   {
    "duration": 0,
    "start_time": "2022-07-12T08:46:04.450Z"
   },
   {
    "duration": 0,
    "start_time": "2022-07-12T08:46:04.452Z"
   },
   {
    "duration": 0,
    "start_time": "2022-07-12T08:46:04.453Z"
   },
   {
    "duration": 0,
    "start_time": "2022-07-12T08:46:04.454Z"
   },
   {
    "duration": 0,
    "start_time": "2022-07-12T08:46:04.456Z"
   },
   {
    "duration": 0,
    "start_time": "2022-07-12T08:46:04.457Z"
   },
   {
    "duration": 380,
    "start_time": "2022-07-12T08:46:25.194Z"
   },
   {
    "duration": 686,
    "start_time": "2022-07-12T08:46:25.576Z"
   },
   {
    "duration": 422,
    "start_time": "2022-07-12T08:46:26.264Z"
   },
   {
    "duration": 5,
    "start_time": "2022-07-12T08:46:26.689Z"
   },
   {
    "duration": 73,
    "start_time": "2022-07-12T08:46:26.697Z"
   },
   {
    "duration": 29,
    "start_time": "2022-07-12T08:46:26.772Z"
   },
   {
    "duration": 57,
    "start_time": "2022-07-12T08:46:26.803Z"
   },
   {
    "duration": 26,
    "start_time": "2022-07-12T08:46:26.863Z"
   },
   {
    "duration": 10,
    "start_time": "2022-07-12T08:46:26.892Z"
   },
   {
    "duration": 17,
    "start_time": "2022-07-12T08:46:26.905Z"
   },
   {
    "duration": 7,
    "start_time": "2022-07-12T08:46:26.947Z"
   },
   {
    "duration": 10,
    "start_time": "2022-07-12T08:46:26.957Z"
   },
   {
    "duration": 14,
    "start_time": "2022-07-12T08:46:26.968Z"
   },
   {
    "duration": 8,
    "start_time": "2022-07-12T08:46:26.983Z"
   },
   {
    "duration": 9,
    "start_time": "2022-07-12T08:46:26.992Z"
   },
   {
    "duration": 43,
    "start_time": "2022-07-12T08:46:27.003Z"
   },
   {
    "duration": 34,
    "start_time": "2022-07-12T08:46:27.048Z"
   },
   {
    "duration": 28,
    "start_time": "2022-07-12T08:46:27.085Z"
   },
   {
    "duration": 6,
    "start_time": "2022-07-12T08:46:27.145Z"
   },
   {
    "duration": 14,
    "start_time": "2022-07-12T08:46:27.152Z"
   },
   {
    "duration": 4,
    "start_time": "2022-07-12T08:46:27.168Z"
   },
   {
    "duration": 6,
    "start_time": "2022-07-12T08:46:27.174Z"
   },
   {
    "duration": 7,
    "start_time": "2022-07-12T08:46:27.182Z"
   },
   {
    "duration": 7,
    "start_time": "2022-07-12T08:46:27.191Z"
   },
   {
    "duration": 13,
    "start_time": "2022-07-12T08:46:27.199Z"
   },
   {
    "duration": 10,
    "start_time": "2022-07-12T08:47:42.775Z"
   },
   {
    "duration": 3,
    "start_time": "2022-07-12T08:55:12.892Z"
   },
   {
    "duration": 8,
    "start_time": "2022-07-12T08:55:50.245Z"
   },
   {
    "duration": 94,
    "start_time": "2022-07-12T08:55:55.980Z"
   },
   {
    "duration": 2,
    "start_time": "2022-07-12T08:56:50.104Z"
   },
   {
    "duration": 3,
    "start_time": "2022-07-12T08:58:15.876Z"
   },
   {
    "duration": 108,
    "start_time": "2022-07-12T09:00:44.599Z"
   },
   {
    "duration": 12,
    "start_time": "2022-07-12T09:00:58.732Z"
   },
   {
    "duration": 9,
    "start_time": "2022-07-12T09:01:17.811Z"
   },
   {
    "duration": 4,
    "start_time": "2022-07-12T09:01:36.363Z"
   },
   {
    "duration": 10,
    "start_time": "2022-07-12T09:01:38.509Z"
   },
   {
    "duration": 4,
    "start_time": "2022-07-12T09:01:41.659Z"
   },
   {
    "duration": 4,
    "start_time": "2022-07-12T09:02:53.337Z"
   },
   {
    "duration": 12,
    "start_time": "2022-07-12T09:02:56.233Z"
   },
   {
    "duration": 427,
    "start_time": "2022-07-12T09:03:09.261Z"
   },
   {
    "duration": 661,
    "start_time": "2022-07-12T09:03:09.690Z"
   },
   {
    "duration": 376,
    "start_time": "2022-07-12T09:03:10.355Z"
   },
   {
    "duration": 5,
    "start_time": "2022-07-12T09:03:10.733Z"
   },
   {
    "duration": 40,
    "start_time": "2022-07-12T09:03:10.739Z"
   },
   {
    "duration": 25,
    "start_time": "2022-07-12T09:03:10.781Z"
   },
   {
    "duration": 56,
    "start_time": "2022-07-12T09:03:10.807Z"
   },
   {
    "duration": 18,
    "start_time": "2022-07-12T09:03:10.865Z"
   },
   {
    "duration": 11,
    "start_time": "2022-07-12T09:03:10.885Z"
   },
   {
    "duration": 12,
    "start_time": "2022-07-12T09:03:10.897Z"
   },
   {
    "duration": 5,
    "start_time": "2022-07-12T09:03:10.911Z"
   },
   {
    "duration": 32,
    "start_time": "2022-07-12T09:03:10.917Z"
   },
   {
    "duration": 10,
    "start_time": "2022-07-12T09:03:10.952Z"
   },
   {
    "duration": 7,
    "start_time": "2022-07-12T09:03:10.964Z"
   },
   {
    "duration": 6,
    "start_time": "2022-07-12T09:03:10.972Z"
   },
   {
    "duration": 29,
    "start_time": "2022-07-12T09:03:10.980Z"
   },
   {
    "duration": 35,
    "start_time": "2022-07-12T09:03:11.011Z"
   },
   {
    "duration": 23,
    "start_time": "2022-07-12T09:03:11.048Z"
   },
   {
    "duration": 4,
    "start_time": "2022-07-12T09:03:11.073Z"
   },
   {
    "duration": 14,
    "start_time": "2022-07-12T09:03:11.079Z"
   },
   {
    "duration": 12,
    "start_time": "2022-07-12T09:03:11.094Z"
   },
   {
    "duration": 16,
    "start_time": "2022-07-12T09:03:11.107Z"
   },
   {
    "duration": 26,
    "start_time": "2022-07-12T09:03:11.125Z"
   },
   {
    "duration": 3,
    "start_time": "2022-07-12T09:03:11.152Z"
   },
   {
    "duration": 7,
    "start_time": "2022-07-12T09:03:11.157Z"
   },
   {
    "duration": 5,
    "start_time": "2022-07-12T09:03:11.165Z"
   },
   {
    "duration": 14,
    "start_time": "2022-07-12T09:03:11.172Z"
   },
   {
    "duration": 2,
    "start_time": "2022-07-12T09:03:38.456Z"
   },
   {
    "duration": 3,
    "start_time": "2022-07-12T09:33:42.236Z"
   },
   {
    "duration": 94,
    "start_time": "2022-07-12T09:33:43.136Z"
   },
   {
    "duration": 12,
    "start_time": "2022-07-12T09:34:09.437Z"
   },
   {
    "duration": 3,
    "start_time": "2022-07-12T09:34:18.015Z"
   },
   {
    "duration": 12,
    "start_time": "2022-07-12T09:34:19.413Z"
   },
   {
    "duration": 3,
    "start_time": "2022-07-12T09:34:31.427Z"
   },
   {
    "duration": 19,
    "start_time": "2022-07-12T09:34:32.144Z"
   },
   {
    "duration": 4,
    "start_time": "2022-07-12T09:36:49.146Z"
   },
   {
    "duration": 12,
    "start_time": "2022-07-12T09:36:51.845Z"
   },
   {
    "duration": 5,
    "start_time": "2022-07-12T09:52:57.734Z"
   },
   {
    "duration": 26,
    "start_time": "2022-07-12T09:52:59.134Z"
   },
   {
    "duration": 5,
    "start_time": "2022-07-12T09:53:19.969Z"
   },
   {
    "duration": 6,
    "start_time": "2022-07-12T09:53:20.874Z"
   },
   {
    "duration": 4,
    "start_time": "2022-07-12T09:53:38.698Z"
   },
   {
    "duration": 6,
    "start_time": "2022-07-12T09:53:39.795Z"
   },
   {
    "duration": 6,
    "start_time": "2022-07-12T09:54:58.735Z"
   },
   {
    "duration": 7,
    "start_time": "2022-07-12T09:55:15.987Z"
   },
   {
    "duration": 8,
    "start_time": "2022-07-12T09:55:26.900Z"
   },
   {
    "duration": 4,
    "start_time": "2022-07-12T09:56:44.503Z"
   },
   {
    "duration": 10,
    "start_time": "2022-07-12T09:56:45.369Z"
   },
   {
    "duration": 7,
    "start_time": "2022-07-12T09:56:48.882Z"
   },
   {
    "duration": 6,
    "start_time": "2022-07-12T09:57:04.101Z"
   },
   {
    "duration": 4,
    "start_time": "2022-07-12T09:57:05.622Z"
   },
   {
    "duration": 9,
    "start_time": "2022-07-12T09:57:06.880Z"
   },
   {
    "duration": 4,
    "start_time": "2022-07-12T09:57:37.001Z"
   },
   {
    "duration": 7,
    "start_time": "2022-07-12T09:57:37.761Z"
   },
   {
    "duration": 4,
    "start_time": "2022-07-12T09:57:58.376Z"
   },
   {
    "duration": 9,
    "start_time": "2022-07-12T09:57:58.971Z"
   },
   {
    "duration": 4,
    "start_time": "2022-07-12T09:58:29.360Z"
   },
   {
    "duration": 5,
    "start_time": "2022-07-12T09:58:29.914Z"
   },
   {
    "duration": 4,
    "start_time": "2022-07-12T09:59:20.078Z"
   },
   {
    "duration": 8,
    "start_time": "2022-07-12T09:59:21.221Z"
   },
   {
    "duration": 4,
    "start_time": "2022-07-12T09:59:27.006Z"
   },
   {
    "duration": 8,
    "start_time": "2022-07-12T09:59:28.458Z"
   },
   {
    "duration": 4,
    "start_time": "2022-07-12T09:59:37.594Z"
   },
   {
    "duration": 8,
    "start_time": "2022-07-12T09:59:38.388Z"
   },
   {
    "duration": 5,
    "start_time": "2022-07-12T10:00:06.413Z"
   },
   {
    "duration": 7,
    "start_time": "2022-07-12T10:00:07.023Z"
   },
   {
    "duration": 444,
    "start_time": "2022-07-12T10:01:02.730Z"
   },
   {
    "duration": 755,
    "start_time": "2022-07-12T10:01:03.175Z"
   },
   {
    "duration": 404,
    "start_time": "2022-07-12T10:01:03.932Z"
   },
   {
    "duration": 6,
    "start_time": "2022-07-12T10:01:04.339Z"
   },
   {
    "duration": 50,
    "start_time": "2022-07-12T10:01:04.347Z"
   },
   {
    "duration": 30,
    "start_time": "2022-07-12T10:01:04.398Z"
   },
   {
    "duration": 44,
    "start_time": "2022-07-12T10:01:04.429Z"
   },
   {
    "duration": 20,
    "start_time": "2022-07-12T10:01:04.474Z"
   },
   {
    "duration": 15,
    "start_time": "2022-07-12T10:01:04.497Z"
   },
   {
    "duration": 31,
    "start_time": "2022-07-12T10:01:04.515Z"
   },
   {
    "duration": 7,
    "start_time": "2022-07-12T10:01:04.548Z"
   },
   {
    "duration": 23,
    "start_time": "2022-07-12T10:01:04.557Z"
   },
   {
    "duration": 22,
    "start_time": "2022-07-12T10:01:04.581Z"
   },
   {
    "duration": 15,
    "start_time": "2022-07-12T10:01:04.604Z"
   },
   {
    "duration": 13,
    "start_time": "2022-07-12T10:01:04.621Z"
   },
   {
    "duration": 33,
    "start_time": "2022-07-12T10:01:04.636Z"
   },
   {
    "duration": 26,
    "start_time": "2022-07-12T10:01:04.670Z"
   },
   {
    "duration": 25,
    "start_time": "2022-07-12T10:01:04.697Z"
   },
   {
    "duration": 5,
    "start_time": "2022-07-12T10:01:04.747Z"
   },
   {
    "duration": 27,
    "start_time": "2022-07-12T10:01:04.754Z"
   },
   {
    "duration": 6,
    "start_time": "2022-07-12T10:01:04.782Z"
   },
   {
    "duration": 10,
    "start_time": "2022-07-12T10:01:04.790Z"
   },
   {
    "duration": 23,
    "start_time": "2022-07-12T10:01:04.801Z"
   },
   {
    "duration": 7,
    "start_time": "2022-07-12T10:01:04.826Z"
   },
   {
    "duration": 8,
    "start_time": "2022-07-12T10:01:04.835Z"
   },
   {
    "duration": 8,
    "start_time": "2022-07-12T10:01:04.845Z"
   },
   {
    "duration": 10,
    "start_time": "2022-07-12T10:01:04.854Z"
   },
   {
    "duration": 105,
    "start_time": "2022-07-12T10:01:04.868Z"
   },
   {
    "duration": 1,
    "start_time": "2022-07-12T10:01:04.974Z"
   },
   {
    "duration": 0,
    "start_time": "2022-07-12T10:01:04.976Z"
   },
   {
    "duration": 4,
    "start_time": "2022-07-12T10:01:31.227Z"
   },
   {
    "duration": 7,
    "start_time": "2022-07-12T10:01:31.959Z"
   },
   {
    "duration": 4,
    "start_time": "2022-07-12T10:01:51.289Z"
   },
   {
    "duration": 6,
    "start_time": "2022-07-12T10:01:52.350Z"
   },
   {
    "duration": 5,
    "start_time": "2022-07-12T10:02:39.511Z"
   },
   {
    "duration": 6,
    "start_time": "2022-07-12T10:02:40.972Z"
   },
   {
    "duration": 4,
    "start_time": "2022-07-12T10:02:45.408Z"
   },
   {
    "duration": 7,
    "start_time": "2022-07-12T10:02:45.948Z"
   },
   {
    "duration": 4,
    "start_time": "2022-07-12T10:03:11.115Z"
   },
   {
    "duration": 5,
    "start_time": "2022-07-12T10:03:12.545Z"
   },
   {
    "duration": 6,
    "start_time": "2022-07-12T10:03:32.507Z"
   },
   {
    "duration": 4,
    "start_time": "2022-07-12T10:03:43.279Z"
   },
   {
    "duration": 6,
    "start_time": "2022-07-12T10:03:43.984Z"
   },
   {
    "duration": 5,
    "start_time": "2022-07-12T10:04:13.065Z"
   },
   {
    "duration": 5,
    "start_time": "2022-07-12T10:04:27.861Z"
   },
   {
    "duration": 416,
    "start_time": "2022-07-12T10:04:50.941Z"
   },
   {
    "duration": 680,
    "start_time": "2022-07-12T10:04:51.359Z"
   },
   {
    "duration": 378,
    "start_time": "2022-07-12T10:04:52.041Z"
   },
   {
    "duration": 4,
    "start_time": "2022-07-12T10:04:52.421Z"
   },
   {
    "duration": 52,
    "start_time": "2022-07-12T10:04:52.426Z"
   },
   {
    "duration": 28,
    "start_time": "2022-07-12T10:04:52.479Z"
   },
   {
    "duration": 45,
    "start_time": "2022-07-12T10:04:52.509Z"
   },
   {
    "duration": 20,
    "start_time": "2022-07-12T10:04:52.556Z"
   },
   {
    "duration": 26,
    "start_time": "2022-07-12T10:04:52.578Z"
   },
   {
    "duration": 50,
    "start_time": "2022-07-12T10:04:52.606Z"
   },
   {
    "duration": 23,
    "start_time": "2022-07-12T10:04:52.657Z"
   },
   {
    "duration": 55,
    "start_time": "2022-07-12T10:04:52.682Z"
   },
   {
    "duration": 43,
    "start_time": "2022-07-12T10:04:52.739Z"
   },
   {
    "duration": 19,
    "start_time": "2022-07-12T10:04:52.784Z"
   },
   {
    "duration": 31,
    "start_time": "2022-07-12T10:04:52.804Z"
   },
   {
    "duration": 48,
    "start_time": "2022-07-12T10:04:52.837Z"
   },
   {
    "duration": 22,
    "start_time": "2022-07-12T10:04:52.887Z"
   },
   {
    "duration": 77,
    "start_time": "2022-07-12T10:04:52.910Z"
   },
   {
    "duration": 26,
    "start_time": "2022-07-12T10:04:52.990Z"
   },
   {
    "duration": 82,
    "start_time": "2022-07-12T10:04:53.018Z"
   },
   {
    "duration": 14,
    "start_time": "2022-07-12T10:04:53.102Z"
   },
   {
    "duration": 47,
    "start_time": "2022-07-12T10:04:53.117Z"
   },
   {
    "duration": 37,
    "start_time": "2022-07-12T10:04:53.166Z"
   },
   {
    "duration": 30,
    "start_time": "2022-07-12T10:04:53.204Z"
   },
   {
    "duration": 62,
    "start_time": "2022-07-12T10:04:53.235Z"
   },
   {
    "duration": 39,
    "start_time": "2022-07-12T10:04:53.298Z"
   },
   {
    "duration": 22,
    "start_time": "2022-07-12T10:04:53.338Z"
   },
   {
    "duration": 42,
    "start_time": "2022-07-12T10:04:53.363Z"
   },
   {
    "duration": 46,
    "start_time": "2022-07-12T10:04:53.406Z"
   },
   {
    "duration": 136,
    "start_time": "2022-07-12T10:04:53.454Z"
   },
   {
    "duration": 5,
    "start_time": "2022-07-12T10:12:05.516Z"
   },
   {
    "duration": 7,
    "start_time": "2022-07-12T10:12:06.462Z"
   },
   {
    "duration": 7,
    "start_time": "2022-07-12T10:12:07.298Z"
   },
   {
    "duration": 7,
    "start_time": "2022-07-12T10:12:08.229Z"
   },
   {
    "duration": 11,
    "start_time": "2022-07-12T10:12:13.203Z"
   },
   {
    "duration": 5,
    "start_time": "2022-07-12T10:12:44.739Z"
   },
   {
    "duration": 17,
    "start_time": "2022-07-12T10:13:08.916Z"
   },
   {
    "duration": 4,
    "start_time": "2022-07-12T10:15:06.983Z"
   },
   {
    "duration": 9,
    "start_time": "2022-07-12T10:15:08.684Z"
   },
   {
    "duration": 6,
    "start_time": "2022-07-12T10:15:14.741Z"
   },
   {
    "duration": 3,
    "start_time": "2022-07-12T10:15:24.571Z"
   },
   {
    "duration": 12,
    "start_time": "2022-07-12T10:15:25.331Z"
   },
   {
    "duration": 4,
    "start_time": "2022-07-12T10:16:05.861Z"
   },
   {
    "duration": 6,
    "start_time": "2022-07-12T10:16:07.025Z"
   },
   {
    "duration": 7,
    "start_time": "2022-07-12T10:17:19.334Z"
   },
   {
    "duration": 3,
    "start_time": "2022-07-12T10:17:45.177Z"
   },
   {
    "duration": 11,
    "start_time": "2022-07-12T10:17:45.831Z"
   },
   {
    "duration": 88,
    "start_time": "2022-07-12T10:18:11.176Z"
   },
   {
    "duration": 10,
    "start_time": "2022-07-12T10:18:23.798Z"
   },
   {
    "duration": 4,
    "start_time": "2022-07-12T10:18:49.305Z"
   },
   {
    "duration": 869,
    "start_time": "2022-07-12T10:18:50.066Z"
   },
   {
    "duration": 919,
    "start_time": "2022-07-12T10:19:03.565Z"
   },
   {
    "duration": 3,
    "start_time": "2022-07-12T10:19:13.350Z"
   },
   {
    "duration": 839,
    "start_time": "2022-07-12T10:19:14.423Z"
   },
   {
    "duration": 2688,
    "start_time": "2022-07-12T10:20:49.330Z"
   },
   {
    "duration": 2809,
    "start_time": "2022-07-12T10:21:09.550Z"
   },
   {
    "duration": 418,
    "start_time": "2022-07-12T10:23:39.498Z"
   },
   {
    "duration": 697,
    "start_time": "2022-07-12T10:23:39.918Z"
   },
   {
    "duration": 389,
    "start_time": "2022-07-12T10:23:40.617Z"
   },
   {
    "duration": 4,
    "start_time": "2022-07-12T10:23:41.008Z"
   },
   {
    "duration": 44,
    "start_time": "2022-07-12T10:23:41.014Z"
   },
   {
    "duration": 26,
    "start_time": "2022-07-12T10:23:41.059Z"
   },
   {
    "duration": 25,
    "start_time": "2022-07-12T10:23:41.086Z"
   },
   {
    "duration": 46,
    "start_time": "2022-07-12T10:23:41.112Z"
   },
   {
    "duration": 19,
    "start_time": "2022-07-12T10:23:41.160Z"
   },
   {
    "duration": 18,
    "start_time": "2022-07-12T10:23:41.180Z"
   },
   {
    "duration": 10,
    "start_time": "2022-07-12T10:23:41.199Z"
   },
   {
    "duration": 16,
    "start_time": "2022-07-12T10:23:41.211Z"
   },
   {
    "duration": 10,
    "start_time": "2022-07-12T10:23:41.229Z"
   },
   {
    "duration": 6,
    "start_time": "2022-07-12T10:23:41.242Z"
   },
   {
    "duration": 7,
    "start_time": "2022-07-12T10:23:41.249Z"
   },
   {
    "duration": 26,
    "start_time": "2022-07-12T10:23:41.257Z"
   },
   {
    "duration": 22,
    "start_time": "2022-07-12T10:23:41.285Z"
   },
   {
    "duration": 57,
    "start_time": "2022-07-12T10:23:41.309Z"
   },
   {
    "duration": 5,
    "start_time": "2022-07-12T10:23:41.367Z"
   },
   {
    "duration": 13,
    "start_time": "2022-07-12T10:23:41.374Z"
   },
   {
    "duration": 4,
    "start_time": "2022-07-12T10:23:41.389Z"
   },
   {
    "duration": 8,
    "start_time": "2022-07-12T10:23:41.395Z"
   },
   {
    "duration": 13,
    "start_time": "2022-07-12T10:23:41.405Z"
   },
   {
    "duration": 4,
    "start_time": "2022-07-12T10:23:41.447Z"
   },
   {
    "duration": 12,
    "start_time": "2022-07-12T10:23:41.452Z"
   },
   {
    "duration": 12,
    "start_time": "2022-07-12T10:23:41.465Z"
   },
   {
    "duration": 7,
    "start_time": "2022-07-12T10:23:41.480Z"
   },
   {
    "duration": 14,
    "start_time": "2022-07-12T10:23:41.489Z"
   },
   {
    "duration": 6,
    "start_time": "2022-07-12T10:23:41.505Z"
   },
   {
    "duration": 2628,
    "start_time": "2022-07-12T10:23:41.513Z"
   },
   {
    "duration": 423,
    "start_time": "2022-07-12T20:03:04.869Z"
   },
   {
    "duration": 2255,
    "start_time": "2022-07-12T20:03:05.295Z"
   },
   {
    "duration": 978,
    "start_time": "2022-07-12T20:03:07.553Z"
   },
   {
    "duration": 5,
    "start_time": "2022-07-12T20:03:08.533Z"
   },
   {
    "duration": 44,
    "start_time": "2022-07-12T20:03:08.540Z"
   },
   {
    "duration": 28,
    "start_time": "2022-07-12T20:03:08.587Z"
   },
   {
    "duration": 50,
    "start_time": "2022-07-12T20:03:08.617Z"
   },
   {
    "duration": 22,
    "start_time": "2022-07-12T20:03:08.669Z"
   },
   {
    "duration": 25,
    "start_time": "2022-07-12T20:03:08.693Z"
   },
   {
    "duration": 33,
    "start_time": "2022-07-12T20:03:08.721Z"
   },
   {
    "duration": 15,
    "start_time": "2022-07-12T20:03:08.757Z"
   },
   {
    "duration": 29,
    "start_time": "2022-07-12T20:03:08.777Z"
   },
   {
    "duration": 27,
    "start_time": "2022-07-12T20:03:08.809Z"
   },
   {
    "duration": 39,
    "start_time": "2022-07-12T20:03:08.838Z"
   },
   {
    "duration": 39,
    "start_time": "2022-07-12T20:03:08.880Z"
   },
   {
    "duration": 106,
    "start_time": "2022-07-12T20:03:08.923Z"
   },
   {
    "duration": 38,
    "start_time": "2022-07-12T20:03:09.031Z"
   },
   {
    "duration": 31,
    "start_time": "2022-07-12T20:03:09.071Z"
   },
   {
    "duration": 29,
    "start_time": "2022-07-12T20:03:09.104Z"
   },
   {
    "duration": 42,
    "start_time": "2022-07-12T20:03:09.136Z"
   },
   {
    "duration": 30,
    "start_time": "2022-07-12T20:03:09.180Z"
   },
   {
    "duration": 39,
    "start_time": "2022-07-12T20:03:09.213Z"
   },
   {
    "duration": 44,
    "start_time": "2022-07-12T20:03:09.254Z"
   },
   {
    "duration": 19,
    "start_time": "2022-07-12T20:03:09.300Z"
   },
   {
    "duration": 11,
    "start_time": "2022-07-12T20:03:09.321Z"
   },
   {
    "duration": 14,
    "start_time": "2022-07-12T20:03:09.334Z"
   },
   {
    "duration": 12,
    "start_time": "2022-07-12T20:03:09.351Z"
   },
   {
    "duration": 19,
    "start_time": "2022-07-12T20:03:09.367Z"
   },
   {
    "duration": 13,
    "start_time": "2022-07-12T20:03:09.387Z"
   },
   {
    "duration": 2788,
    "start_time": "2022-07-12T20:03:09.402Z"
   },
   {
    "duration": 427,
    "start_time": "2022-07-13T06:11:46.668Z"
   },
   {
    "duration": 2,
    "start_time": "2022-07-13T06:12:08.738Z"
   },
   {
    "duration": 3,
    "start_time": "2022-07-13T06:12:09.108Z"
   },
   {
    "duration": 710,
    "start_time": "2022-07-13T06:12:09.773Z"
   },
   {
    "duration": 99,
    "start_time": "2022-07-13T06:12:41.731Z"
   },
   {
    "duration": 3,
    "start_time": "2022-07-13T06:12:58.340Z"
   },
   {
    "duration": 9,
    "start_time": "2022-07-13T06:14:42.942Z"
   },
   {
    "duration": 2,
    "start_time": "2022-07-13T06:14:48.992Z"
   },
   {
    "duration": 8,
    "start_time": "2022-07-13T06:39:45.551Z"
   },
   {
    "duration": 374,
    "start_time": "2022-07-13T06:39:53.217Z"
   },
   {
    "duration": 3,
    "start_time": "2022-07-13T06:39:53.593Z"
   },
   {
    "duration": 670,
    "start_time": "2022-07-13T06:39:53.598Z"
   },
   {
    "duration": 780,
    "start_time": "2022-07-13T06:39:54.270Z"
   },
   {
    "duration": 4,
    "start_time": "2022-07-13T06:39:55.053Z"
   },
   {
    "duration": 48,
    "start_time": "2022-07-13T06:39:55.059Z"
   },
   {
    "duration": 25,
    "start_time": "2022-07-13T06:39:55.109Z"
   },
   {
    "duration": 45,
    "start_time": "2022-07-13T06:39:55.136Z"
   },
   {
    "duration": 17,
    "start_time": "2022-07-13T06:39:55.183Z"
   },
   {
    "duration": 11,
    "start_time": "2022-07-13T06:39:55.202Z"
   },
   {
    "duration": 61,
    "start_time": "2022-07-13T06:39:55.215Z"
   },
   {
    "duration": 17,
    "start_time": "2022-07-13T06:39:55.278Z"
   },
   {
    "duration": 8,
    "start_time": "2022-07-13T06:39:55.297Z"
   },
   {
    "duration": 6,
    "start_time": "2022-07-13T06:39:55.308Z"
   },
   {
    "duration": 11,
    "start_time": "2022-07-13T06:39:55.317Z"
   },
   {
    "duration": 6,
    "start_time": "2022-07-13T06:39:55.330Z"
   },
   {
    "duration": 28,
    "start_time": "2022-07-13T06:39:55.338Z"
   },
   {
    "duration": 38,
    "start_time": "2022-07-13T06:39:55.367Z"
   },
   {
    "duration": 21,
    "start_time": "2022-07-13T06:39:55.407Z"
   },
   {
    "duration": 45,
    "start_time": "2022-07-13T06:39:55.429Z"
   },
   {
    "duration": 6,
    "start_time": "2022-07-13T06:39:55.476Z"
   },
   {
    "duration": 12,
    "start_time": "2022-07-13T06:39:55.484Z"
   },
   {
    "duration": 21,
    "start_time": "2022-07-13T06:39:55.497Z"
   },
   {
    "duration": 9,
    "start_time": "2022-07-13T06:39:55.520Z"
   },
   {
    "duration": 13,
    "start_time": "2022-07-13T06:39:55.530Z"
   },
   {
    "duration": 8,
    "start_time": "2022-07-13T06:39:55.545Z"
   },
   {
    "duration": 12,
    "start_time": "2022-07-13T06:39:55.555Z"
   },
   {
    "duration": 24,
    "start_time": "2022-07-13T06:39:55.569Z"
   },
   {
    "duration": 12,
    "start_time": "2022-07-13T06:39:55.594Z"
   },
   {
    "duration": 14,
    "start_time": "2022-07-13T06:39:55.608Z"
   },
   {
    "duration": 6,
    "start_time": "2022-07-13T06:39:55.624Z"
   },
   {
    "duration": 3912,
    "start_time": "2022-07-13T06:39:55.631Z"
   },
   {
    "duration": 28,
    "start_time": "2022-07-13T06:40:06.007Z"
   },
   {
    "duration": 100,
    "start_time": "2022-07-13T06:41:08.618Z"
   },
   {
    "duration": 3,
    "start_time": "2022-07-13T06:41:11.489Z"
   },
   {
    "duration": 31,
    "start_time": "2022-07-13T06:41:11.974Z"
   },
   {
    "duration": 86,
    "start_time": "2022-07-13T06:41:18.647Z"
   },
   {
    "duration": 84,
    "start_time": "2022-07-13T06:42:07.155Z"
   },
   {
    "duration": 89,
    "start_time": "2022-07-13T06:42:20.653Z"
   },
   {
    "duration": 89,
    "start_time": "2022-07-13T06:42:38.803Z"
   },
   {
    "duration": 93,
    "start_time": "2022-07-13T06:42:56.505Z"
   },
   {
    "duration": 3,
    "start_time": "2022-07-13T06:45:06.955Z"
   },
   {
    "duration": 15,
    "start_time": "2022-07-13T06:46:25.363Z"
   },
   {
    "duration": 3,
    "start_time": "2022-07-13T12:09:35.583Z"
   },
   {
    "duration": 3,
    "start_time": "2022-07-13T12:10:40.751Z"
   },
   {
    "duration": 416,
    "start_time": "2022-08-01T06:03:10.542Z"
   },
   {
    "duration": 4,
    "start_time": "2022-08-01T06:03:10.960Z"
   },
   {
    "duration": 731,
    "start_time": "2022-08-01T06:03:10.966Z"
   },
   {
    "duration": 3,
    "start_time": "2022-08-01T06:03:11.699Z"
   },
   {
    "duration": 1633,
    "start_time": "2022-08-01T06:03:11.704Z"
   },
   {
    "duration": 6,
    "start_time": "2022-08-01T06:03:13.339Z"
   },
   {
    "duration": 101,
    "start_time": "2022-08-01T06:03:13.347Z"
   },
   {
    "duration": 92,
    "start_time": "2022-08-01T06:03:13.450Z"
   },
   {
    "duration": 123,
    "start_time": "2022-08-01T06:03:13.545Z"
   },
   {
    "duration": 44,
    "start_time": "2022-08-01T06:03:13.705Z"
   },
   {
    "duration": 55,
    "start_time": "2022-08-01T06:03:13.752Z"
   },
   {
    "duration": 31,
    "start_time": "2022-08-01T06:03:13.810Z"
   },
   {
    "duration": 193,
    "start_time": "2022-08-01T06:03:13.844Z"
   },
   {
    "duration": 4,
    "start_time": "2022-08-01T06:03:14.041Z"
   },
   {
    "duration": 59,
    "start_time": "2022-08-01T06:03:14.046Z"
   },
   {
    "duration": 98,
    "start_time": "2022-08-01T06:03:14.107Z"
   },
   {
    "duration": 0,
    "start_time": "2022-08-01T06:03:14.208Z"
   },
   {
    "duration": 0,
    "start_time": "2022-08-01T06:03:14.211Z"
   },
   {
    "duration": 0,
    "start_time": "2022-08-01T06:03:14.212Z"
   },
   {
    "duration": 0,
    "start_time": "2022-08-01T06:03:14.214Z"
   },
   {
    "duration": 0,
    "start_time": "2022-08-01T06:03:14.215Z"
   },
   {
    "duration": 0,
    "start_time": "2022-08-01T06:03:14.216Z"
   },
   {
    "duration": 0,
    "start_time": "2022-08-01T06:03:14.217Z"
   },
   {
    "duration": 0,
    "start_time": "2022-08-01T06:03:14.218Z"
   },
   {
    "duration": 0,
    "start_time": "2022-08-01T06:03:14.219Z"
   },
   {
    "duration": 0,
    "start_time": "2022-08-01T06:03:14.220Z"
   },
   {
    "duration": 0,
    "start_time": "2022-08-01T06:03:14.221Z"
   },
   {
    "duration": 0,
    "start_time": "2022-08-01T06:03:14.222Z"
   },
   {
    "duration": 0,
    "start_time": "2022-08-01T06:03:14.223Z"
   },
   {
    "duration": 0,
    "start_time": "2022-08-01T06:03:14.224Z"
   },
   {
    "duration": 0,
    "start_time": "2022-08-01T06:03:14.226Z"
   },
   {
    "duration": 0,
    "start_time": "2022-08-01T06:03:14.227Z"
   },
   {
    "duration": 0,
    "start_time": "2022-08-01T06:03:14.228Z"
   },
   {
    "duration": 0,
    "start_time": "2022-08-01T06:03:14.229Z"
   },
   {
    "duration": 13,
    "start_time": "2022-08-01T06:03:53.625Z"
   },
   {
    "duration": 34,
    "start_time": "2022-08-01T06:04:19.994Z"
   },
   {
    "duration": 4,
    "start_time": "2022-08-01T06:04:22.275Z"
   },
   {
    "duration": 398,
    "start_time": "2022-08-01T06:04:29.528Z"
   },
   {
    "duration": 2,
    "start_time": "2022-08-01T06:04:29.929Z"
   },
   {
    "duration": 704,
    "start_time": "2022-08-01T06:04:29.932Z"
   },
   {
    "duration": 4,
    "start_time": "2022-08-01T06:04:30.637Z"
   },
   {
    "duration": 388,
    "start_time": "2022-08-01T06:04:30.644Z"
   },
   {
    "duration": 4,
    "start_time": "2022-08-01T06:04:31.034Z"
   },
   {
    "duration": 45,
    "start_time": "2022-08-01T06:04:31.040Z"
   },
   {
    "duration": 77,
    "start_time": "2022-08-01T06:04:31.087Z"
   },
   {
    "duration": 153,
    "start_time": "2022-08-01T06:04:31.166Z"
   },
   {
    "duration": 33,
    "start_time": "2022-08-01T06:04:31.321Z"
   },
   {
    "duration": 26,
    "start_time": "2022-08-01T06:04:31.356Z"
   },
   {
    "duration": 16,
    "start_time": "2022-08-01T06:04:31.383Z"
   },
   {
    "duration": 84,
    "start_time": "2022-08-01T06:04:31.401Z"
   },
   {
    "duration": 3,
    "start_time": "2022-08-01T06:04:31.488Z"
   },
   {
    "duration": 13,
    "start_time": "2022-08-01T06:04:31.492Z"
   },
   {
    "duration": 36,
    "start_time": "2022-08-01T06:04:31.506Z"
   },
   {
    "duration": 4,
    "start_time": "2022-08-01T06:04:31.543Z"
   },
   {
    "duration": 7,
    "start_time": "2022-08-01T06:04:31.548Z"
   },
   {
    "duration": 156,
    "start_time": "2022-08-01T06:04:31.556Z"
   },
   {
    "duration": 190,
    "start_time": "2022-08-01T06:04:31.715Z"
   },
   {
    "duration": 199,
    "start_time": "2022-08-01T06:04:31.907Z"
   },
   {
    "duration": 5,
    "start_time": "2022-08-01T06:04:32.108Z"
   },
   {
    "duration": 13,
    "start_time": "2022-08-01T06:04:32.115Z"
   },
   {
    "duration": 122,
    "start_time": "2022-08-01T06:04:32.130Z"
   },
   {
    "duration": 0,
    "start_time": "2022-08-01T06:04:32.254Z"
   },
   {
    "duration": 0,
    "start_time": "2022-08-01T06:04:32.256Z"
   },
   {
    "duration": 0,
    "start_time": "2022-08-01T06:04:32.257Z"
   },
   {
    "duration": 0,
    "start_time": "2022-08-01T06:04:32.259Z"
   },
   {
    "duration": 1,
    "start_time": "2022-08-01T06:04:32.260Z"
   },
   {
    "duration": 0,
    "start_time": "2022-08-01T06:04:32.262Z"
   },
   {
    "duration": 0,
    "start_time": "2022-08-01T06:04:32.263Z"
   },
   {
    "duration": 0,
    "start_time": "2022-08-01T06:04:32.265Z"
   },
   {
    "duration": 3,
    "start_time": "2022-08-01T08:10:47.764Z"
   },
   {
    "duration": 426,
    "start_time": "2022-08-01T08:15:11.368Z"
   },
   {
    "duration": 3,
    "start_time": "2022-08-01T08:15:11.796Z"
   },
   {
    "duration": 755,
    "start_time": "2022-08-01T08:15:11.800Z"
   },
   {
    "duration": 2,
    "start_time": "2022-08-01T08:15:12.557Z"
   },
   {
    "duration": 652,
    "start_time": "2022-08-01T08:15:12.563Z"
   },
   {
    "duration": 7,
    "start_time": "2022-08-01T08:15:13.222Z"
   },
   {
    "duration": 89,
    "start_time": "2022-08-01T08:15:13.231Z"
   },
   {
    "duration": 28,
    "start_time": "2022-08-01T08:15:13.322Z"
   },
   {
    "duration": 32,
    "start_time": "2022-08-01T08:15:13.404Z"
   },
   {
    "duration": 73,
    "start_time": "2022-08-01T08:15:13.437Z"
   },
   {
    "duration": 22,
    "start_time": "2022-08-01T08:15:13.512Z"
   },
   {
    "duration": 5,
    "start_time": "2022-08-01T08:15:13.535Z"
   },
   {
    "duration": 183,
    "start_time": "2022-08-01T08:15:13.542Z"
   },
   {
    "duration": 2,
    "start_time": "2022-08-01T08:15:13.728Z"
   },
   {
    "duration": 7,
    "start_time": "2022-08-01T08:15:13.731Z"
   },
   {
    "duration": 89,
    "start_time": "2022-08-01T08:15:13.739Z"
   },
   {
    "duration": 4,
    "start_time": "2022-08-01T08:15:13.829Z"
   },
   {
    "duration": 8,
    "start_time": "2022-08-01T08:15:13.835Z"
   },
   {
    "duration": 268,
    "start_time": "2022-08-01T08:15:13.845Z"
   },
   {
    "duration": 107,
    "start_time": "2022-08-01T08:15:14.115Z"
   },
   {
    "duration": 216,
    "start_time": "2022-08-01T08:15:14.303Z"
   },
   {
    "duration": 7,
    "start_time": "2022-08-01T08:15:14.524Z"
   },
   {
    "duration": 16,
    "start_time": "2022-08-01T08:15:14.533Z"
   },
   {
    "duration": 4,
    "start_time": "2022-08-01T08:15:14.550Z"
   },
   {
    "duration": 84,
    "start_time": "2022-08-01T08:15:14.556Z"
   },
   {
    "duration": 7,
    "start_time": "2022-08-01T08:15:14.642Z"
   },
   {
    "duration": 360,
    "start_time": "2022-08-01T08:15:14.651Z"
   },
   {
    "duration": 0,
    "start_time": "2022-08-01T08:15:15.013Z"
   },
   {
    "duration": 0,
    "start_time": "2022-08-01T08:15:15.014Z"
   },
   {
    "duration": 0,
    "start_time": "2022-08-01T08:15:15.015Z"
   },
   {
    "duration": 0,
    "start_time": "2022-08-01T08:15:15.017Z"
   },
   {
    "duration": 0,
    "start_time": "2022-08-01T08:15:15.018Z"
   },
   {
    "duration": 3,
    "start_time": "2022-08-01T08:20:22.352Z"
   },
   {
    "duration": 4,
    "start_time": "2022-08-01T08:53:59.396Z"
   },
   {
    "duration": 11,
    "start_time": "2022-08-01T08:54:11.501Z"
   },
   {
    "duration": 3,
    "start_time": "2022-08-01T08:54:12.352Z"
   },
   {
    "duration": 11,
    "start_time": "2022-08-01T08:54:22.791Z"
   },
   {
    "duration": 18,
    "start_time": "2022-08-01T08:54:31.681Z"
   },
   {
    "duration": 14,
    "start_time": "2022-08-01T08:54:44.636Z"
   },
   {
    "duration": 9,
    "start_time": "2022-08-01T08:55:11.656Z"
   },
   {
    "duration": 396,
    "start_time": "2022-08-01T08:55:17.855Z"
   },
   {
    "duration": 3,
    "start_time": "2022-08-01T08:55:18.253Z"
   },
   {
    "duration": 732,
    "start_time": "2022-08-01T08:55:18.257Z"
   },
   {
    "duration": 3,
    "start_time": "2022-08-01T08:55:18.990Z"
   },
   {
    "duration": 466,
    "start_time": "2022-08-01T08:55:18.995Z"
   },
   {
    "duration": 5,
    "start_time": "2022-08-01T08:55:19.463Z"
   },
   {
    "duration": 52,
    "start_time": "2022-08-01T08:55:19.469Z"
   },
   {
    "duration": 34,
    "start_time": "2022-08-01T08:55:19.525Z"
   },
   {
    "duration": 53,
    "start_time": "2022-08-01T08:55:19.560Z"
   },
   {
    "duration": 22,
    "start_time": "2022-08-01T08:55:19.623Z"
   },
   {
    "duration": 8,
    "start_time": "2022-08-01T08:55:19.647Z"
   },
   {
    "duration": 6,
    "start_time": "2022-08-01T08:55:19.657Z"
   },
   {
    "duration": 88,
    "start_time": "2022-08-01T08:55:19.665Z"
   },
   {
    "duration": 2,
    "start_time": "2022-08-01T08:55:19.756Z"
   },
   {
    "duration": 8,
    "start_time": "2022-08-01T08:55:19.759Z"
   },
   {
    "duration": 54,
    "start_time": "2022-08-01T08:55:19.768Z"
   },
   {
    "duration": 4,
    "start_time": "2022-08-01T08:55:19.825Z"
   },
   {
    "duration": 29,
    "start_time": "2022-08-01T08:55:19.831Z"
   },
   {
    "duration": 148,
    "start_time": "2022-08-01T08:55:19.861Z"
   },
   {
    "duration": 207,
    "start_time": "2022-08-01T08:55:20.011Z"
   },
   {
    "duration": 199,
    "start_time": "2022-08-01T08:55:20.229Z"
   },
   {
    "duration": 17,
    "start_time": "2022-08-01T08:55:20.429Z"
   },
   {
    "duration": 11,
    "start_time": "2022-08-01T08:55:20.447Z"
   },
   {
    "duration": 8,
    "start_time": "2022-08-01T08:55:20.459Z"
   },
   {
    "duration": 44,
    "start_time": "2022-08-01T08:55:20.468Z"
   },
   {
    "duration": 4,
    "start_time": "2022-08-01T08:55:20.514Z"
   },
   {
    "duration": 40,
    "start_time": "2022-08-01T08:55:20.520Z"
   },
   {
    "duration": 6,
    "start_time": "2022-08-01T08:55:20.561Z"
   },
   {
    "duration": 338,
    "start_time": "2022-08-01T08:55:20.568Z"
   },
   {
    "duration": 0,
    "start_time": "2022-08-01T08:55:20.908Z"
   },
   {
    "duration": 0,
    "start_time": "2022-08-01T08:55:20.909Z"
   },
   {
    "duration": 0,
    "start_time": "2022-08-01T08:55:20.910Z"
   },
   {
    "duration": 0,
    "start_time": "2022-08-01T08:55:20.911Z"
   },
   {
    "duration": 0,
    "start_time": "2022-08-01T08:55:20.912Z"
   },
   {
    "duration": 4,
    "start_time": "2022-08-01T08:55:49.288Z"
   },
   {
    "duration": 4,
    "start_time": "2022-08-01T08:56:46.170Z"
   },
   {
    "duration": 3,
    "start_time": "2022-08-01T08:57:03.028Z"
   },
   {
    "duration": 4,
    "start_time": "2022-08-01T08:57:16.557Z"
   },
   {
    "duration": 4,
    "start_time": "2022-08-01T08:57:16.980Z"
   },
   {
    "duration": 13,
    "start_time": "2022-08-01T08:57:21.123Z"
   },
   {
    "duration": 4,
    "start_time": "2022-08-01T08:58:56.968Z"
   },
   {
    "duration": 12,
    "start_time": "2022-08-01T08:58:57.557Z"
   },
   {
    "duration": 5,
    "start_time": "2022-08-01T08:59:06.781Z"
   },
   {
    "duration": 15,
    "start_time": "2022-08-01T08:59:07.324Z"
   },
   {
    "duration": 15,
    "start_time": "2022-08-01T09:01:56.481Z"
   },
   {
    "duration": 4,
    "start_time": "2022-08-01T09:02:31.865Z"
   },
   {
    "duration": 5,
    "start_time": "2022-08-01T09:02:34.797Z"
   },
   {
    "duration": 5,
    "start_time": "2022-08-01T09:02:42.859Z"
   },
   {
    "duration": 5,
    "start_time": "2022-08-01T09:02:43.958Z"
   },
   {
    "duration": 11,
    "start_time": "2022-08-01T09:02:47.280Z"
   },
   {
    "duration": 4,
    "start_time": "2022-08-01T09:07:54.654Z"
   },
   {
    "duration": 13,
    "start_time": "2022-08-01T09:07:55.550Z"
   },
   {
    "duration": 13,
    "start_time": "2022-08-01T09:08:54.371Z"
   },
   {
    "duration": 15,
    "start_time": "2022-08-01T09:09:02.720Z"
   },
   {
    "duration": 4,
    "start_time": "2022-08-01T09:10:46.391Z"
   },
   {
    "duration": 15,
    "start_time": "2022-08-01T09:10:47.654Z"
   },
   {
    "duration": 5,
    "start_time": "2022-08-01T09:11:22.626Z"
   },
   {
    "duration": 14,
    "start_time": "2022-08-01T09:11:23.650Z"
   },
   {
    "duration": 416,
    "start_time": "2022-08-01T09:11:43.761Z"
   },
   {
    "duration": 2,
    "start_time": "2022-08-01T09:11:44.180Z"
   },
   {
    "duration": 765,
    "start_time": "2022-08-01T09:11:44.184Z"
   },
   {
    "duration": 3,
    "start_time": "2022-08-01T09:11:44.951Z"
   },
   {
    "duration": 453,
    "start_time": "2022-08-01T09:11:44.956Z"
   },
   {
    "duration": 11,
    "start_time": "2022-08-01T09:11:45.411Z"
   },
   {
    "duration": 58,
    "start_time": "2022-08-01T09:11:45.423Z"
   },
   {
    "duration": 34,
    "start_time": "2022-08-01T09:11:45.483Z"
   },
   {
    "duration": 74,
    "start_time": "2022-08-01T09:11:45.521Z"
   },
   {
    "duration": 42,
    "start_time": "2022-08-01T09:11:45.597Z"
   },
   {
    "duration": 19,
    "start_time": "2022-08-01T09:11:45.641Z"
   },
   {
    "duration": 26,
    "start_time": "2022-08-01T09:11:45.661Z"
   },
   {
    "duration": 106,
    "start_time": "2022-08-01T09:11:45.689Z"
   },
   {
    "duration": 14,
    "start_time": "2022-08-01T09:11:45.798Z"
   },
   {
    "duration": 24,
    "start_time": "2022-08-01T09:11:45.814Z"
   },
   {
    "duration": 43,
    "start_time": "2022-08-01T09:11:45.840Z"
   },
   {
    "duration": 8,
    "start_time": "2022-08-01T09:11:45.885Z"
   },
   {
    "duration": 41,
    "start_time": "2022-08-01T09:11:45.895Z"
   },
   {
    "duration": 180,
    "start_time": "2022-08-01T09:11:45.938Z"
   },
   {
    "duration": 188,
    "start_time": "2022-08-01T09:11:46.123Z"
   },
   {
    "duration": 203,
    "start_time": "2022-08-01T09:11:46.313Z"
   },
   {
    "duration": 7,
    "start_time": "2022-08-01T09:11:46.523Z"
   },
   {
    "duration": 15,
    "start_time": "2022-08-01T09:11:46.532Z"
   },
   {
    "duration": 5,
    "start_time": "2022-08-01T09:11:46.549Z"
   },
   {
    "duration": 5,
    "start_time": "2022-08-01T09:11:46.556Z"
   },
   {
    "duration": 5,
    "start_time": "2022-08-01T09:11:46.562Z"
   },
   {
    "duration": 11,
    "start_time": "2022-08-01T09:11:46.569Z"
   },
   {
    "duration": 24,
    "start_time": "2022-08-01T09:11:46.583Z"
   },
   {
    "duration": 32,
    "start_time": "2022-08-01T09:11:46.615Z"
   },
   {
    "duration": 23,
    "start_time": "2022-08-01T09:11:46.650Z"
   },
   {
    "duration": 16,
    "start_time": "2022-08-01T09:11:46.675Z"
   },
   {
    "duration": 32,
    "start_time": "2022-08-01T09:11:46.694Z"
   },
   {
    "duration": 18,
    "start_time": "2022-08-01T09:11:46.731Z"
   },
   {
    "duration": 129,
    "start_time": "2022-08-01T09:11:46.752Z"
   },
   {
    "duration": 0,
    "start_time": "2022-08-01T09:11:46.884Z"
   },
   {
    "duration": 0,
    "start_time": "2022-08-01T09:11:46.886Z"
   },
   {
    "duration": 8,
    "start_time": "2022-08-01T09:12:22.066Z"
   },
   {
    "duration": 4,
    "start_time": "2022-08-01T09:12:33.129Z"
   },
   {
    "duration": 18,
    "start_time": "2022-08-01T09:12:34.456Z"
   },
   {
    "duration": 8,
    "start_time": "2022-08-01T09:15:48.526Z"
   },
   {
    "duration": 15,
    "start_time": "2022-08-01T09:15:51.826Z"
   },
   {
    "duration": 5,
    "start_time": "2022-08-01T09:16:09.383Z"
   },
   {
    "duration": 16,
    "start_time": "2022-08-01T09:16:13.419Z"
   },
   {
    "duration": 5,
    "start_time": "2022-08-01T09:16:34.168Z"
   },
   {
    "duration": 4,
    "start_time": "2022-08-01T09:16:37.184Z"
   },
   {
    "duration": 5,
    "start_time": "2022-08-01T09:19:50.292Z"
   },
   {
    "duration": 3,
    "start_time": "2022-08-01T09:19:52.064Z"
   },
   {
    "duration": 14,
    "start_time": "2022-08-01T09:19:52.767Z"
   },
   {
    "duration": 18,
    "start_time": "2022-08-01T09:20:52.157Z"
   },
   {
    "duration": 15,
    "start_time": "2022-08-01T09:20:57.424Z"
   },
   {
    "duration": 5,
    "start_time": "2022-08-01T09:23:22.415Z"
   },
   {
    "duration": 4,
    "start_time": "2022-08-01T09:23:25.537Z"
   },
   {
    "duration": 6,
    "start_time": "2022-08-01T09:23:26.780Z"
   },
   {
    "duration": 4,
    "start_time": "2022-08-01T09:23:27.590Z"
   },
   {
    "duration": 7,
    "start_time": "2022-08-01T09:24:48.698Z"
   },
   {
    "duration": 16,
    "start_time": "2022-08-01T09:24:50.678Z"
   },
   {
    "duration": 4,
    "start_time": "2022-08-01T09:25:59.530Z"
   },
   {
    "duration": 6,
    "start_time": "2022-08-01T09:26:02.827Z"
   },
   {
    "duration": 5,
    "start_time": "2022-08-01T09:26:03.570Z"
   },
   {
    "duration": 5,
    "start_time": "2022-08-01T09:26:04.237Z"
   },
   {
    "duration": 16,
    "start_time": "2022-08-01T09:26:06.650Z"
   },
   {
    "duration": 7,
    "start_time": "2022-08-01T09:26:08.861Z"
   },
   {
    "duration": 3,
    "start_time": "2022-08-01T09:26:09.481Z"
   },
   {
    "duration": 15,
    "start_time": "2022-08-01T09:26:10.473Z"
   },
   {
    "duration": 5,
    "start_time": "2022-08-01T09:31:11.768Z"
   },
   {
    "duration": 3,
    "start_time": "2022-08-01T09:31:12.141Z"
   },
   {
    "duration": 27,
    "start_time": "2022-08-01T09:31:12.886Z"
   },
   {
    "duration": 6,
    "start_time": "2022-08-01T09:31:54.951Z"
   },
   {
    "duration": 6,
    "start_time": "2022-08-01T09:31:55.127Z"
   },
   {
    "duration": 15,
    "start_time": "2022-08-01T09:31:55.943Z"
   },
   {
    "duration": 3615,
    "start_time": "2022-08-01T09:32:15.448Z"
   },
   {
    "duration": 18,
    "start_time": "2022-08-01T09:32:22.632Z"
   },
   {
    "duration": 3259,
    "start_time": "2022-08-01T09:32:33.627Z"
   },
   {
    "duration": 3380,
    "start_time": "2022-08-01T09:32:36.889Z"
   },
   {
    "duration": 2266,
    "start_time": "2022-08-01T09:34:35.121Z"
   },
   {
    "duration": 816,
    "start_time": "2022-08-01T09:35:04.205Z"
   },
   {
    "duration": 488,
    "start_time": "2022-08-01T09:35:06.859Z"
   },
   {
    "duration": 4,
    "start_time": "2022-08-01T09:40:50.243Z"
   },
   {
    "duration": 10,
    "start_time": "2022-08-01T09:41:01.944Z"
   },
   {
    "duration": 6,
    "start_time": "2022-08-01T09:41:11.272Z"
   },
   {
    "duration": 3,
    "start_time": "2022-08-01T09:41:14.154Z"
   },
   {
    "duration": 9,
    "start_time": "2022-08-01T09:41:14.458Z"
   },
   {
    "duration": 5,
    "start_time": "2022-08-01T09:41:19.051Z"
   },
   {
    "duration": 1032,
    "start_time": "2022-08-01T09:41:54.258Z"
   },
   {
    "duration": 8,
    "start_time": "2022-08-01T09:42:04.731Z"
   },
   {
    "duration": 3365,
    "start_time": "2022-08-01T09:42:06.537Z"
   },
   {
    "duration": 7,
    "start_time": "2022-08-01T09:44:16.343Z"
   },
   {
    "duration": 3,
    "start_time": "2022-08-01T09:44:17.065Z"
   },
   {
    "duration": 14,
    "start_time": "2022-08-01T09:44:25.683Z"
   },
   {
    "duration": 7,
    "start_time": "2022-08-01T09:45:07.610Z"
   },
   {
    "duration": 3,
    "start_time": "2022-08-01T09:45:08.037Z"
   },
   {
    "duration": 1061,
    "start_time": "2022-08-01T09:45:09.029Z"
   },
   {
    "duration": 6,
    "start_time": "2022-08-01T09:48:24.514Z"
   },
   {
    "duration": 3,
    "start_time": "2022-08-01T09:48:24.827Z"
   },
   {
    "duration": 1122,
    "start_time": "2022-08-01T09:48:25.902Z"
   },
   {
    "duration": 6,
    "start_time": "2022-08-01T09:49:21.669Z"
   },
   {
    "duration": 4,
    "start_time": "2022-08-01T09:49:22.851Z"
   },
   {
    "duration": 1039,
    "start_time": "2022-08-01T09:49:23.777Z"
   },
   {
    "duration": 6,
    "start_time": "2022-08-01T09:51:11.037Z"
   },
   {
    "duration": 4,
    "start_time": "2022-08-01T09:51:11.422Z"
   },
   {
    "duration": 970,
    "start_time": "2022-08-01T09:51:12.337Z"
   },
   {
    "duration": 5,
    "start_time": "2022-08-01T09:51:18.480Z"
   },
   {
    "duration": 4,
    "start_time": "2022-08-01T09:51:18.601Z"
   },
   {
    "duration": 1005,
    "start_time": "2022-08-01T09:51:19.318Z"
   },
   {
    "duration": 1007,
    "start_time": "2022-08-01T09:51:34.157Z"
   },
   {
    "duration": 3903,
    "start_time": "2022-08-01T09:52:04.903Z"
   },
   {
    "duration": 3856,
    "start_time": "2022-08-01T09:52:10.462Z"
   },
   {
    "duration": 3822,
    "start_time": "2022-08-01T09:52:38.474Z"
   },
   {
    "duration": 417,
    "start_time": "2022-08-01T20:47:44.437Z"
   },
   {
    "duration": 4,
    "start_time": "2022-08-01T20:47:44.856Z"
   },
   {
    "duration": 698,
    "start_time": "2022-08-01T20:47:44.862Z"
   },
   {
    "duration": 3,
    "start_time": "2022-08-01T20:47:45.562Z"
   },
   {
    "duration": 383,
    "start_time": "2022-08-01T20:47:45.567Z"
   },
   {
    "duration": 4,
    "start_time": "2022-08-01T20:47:45.951Z"
   },
   {
    "duration": 54,
    "start_time": "2022-08-01T20:47:45.957Z"
   },
   {
    "duration": 25,
    "start_time": "2022-08-01T20:47:46.012Z"
   },
   {
    "duration": 39,
    "start_time": "2022-08-01T20:47:46.038Z"
   },
   {
    "duration": 14,
    "start_time": "2022-08-01T20:47:46.079Z"
   },
   {
    "duration": 8,
    "start_time": "2022-08-01T20:47:46.095Z"
   },
   {
    "duration": 7,
    "start_time": "2022-08-01T20:47:46.105Z"
   },
   {
    "duration": 116,
    "start_time": "2022-08-01T20:47:46.114Z"
   },
   {
    "duration": 3,
    "start_time": "2022-08-01T20:47:46.234Z"
   },
   {
    "duration": 18,
    "start_time": "2022-08-01T20:47:46.239Z"
   },
   {
    "duration": 38,
    "start_time": "2022-08-01T20:47:46.261Z"
   },
   {
    "duration": 9,
    "start_time": "2022-08-01T20:47:46.301Z"
   },
   {
    "duration": 19,
    "start_time": "2022-08-01T20:47:46.312Z"
   },
   {
    "duration": 238,
    "start_time": "2022-08-01T20:47:46.333Z"
   },
   {
    "duration": 196,
    "start_time": "2022-08-01T20:47:46.573Z"
   },
   {
    "duration": 197,
    "start_time": "2022-08-01T20:47:46.770Z"
   },
   {
    "duration": 4,
    "start_time": "2022-08-01T20:47:46.969Z"
   },
   {
    "duration": 11,
    "start_time": "2022-08-01T20:47:46.974Z"
   },
   {
    "duration": 6,
    "start_time": "2022-08-01T20:47:46.987Z"
   },
   {
    "duration": 6,
    "start_time": "2022-08-01T20:47:46.995Z"
   },
   {
    "duration": 7,
    "start_time": "2022-08-01T20:47:47.002Z"
   },
   {
    "duration": 12,
    "start_time": "2022-08-01T20:47:47.010Z"
   },
   {
    "duration": 37,
    "start_time": "2022-08-01T20:47:47.023Z"
   },
   {
    "duration": 13,
    "start_time": "2022-08-01T20:47:47.062Z"
   },
   {
    "duration": 9,
    "start_time": "2022-08-01T20:47:47.077Z"
   },
   {
    "duration": 20,
    "start_time": "2022-08-01T20:47:47.087Z"
   },
   {
    "duration": 12,
    "start_time": "2022-08-01T20:47:47.108Z"
   },
   {
    "duration": 5,
    "start_time": "2022-08-01T20:47:47.122Z"
   },
   {
    "duration": 10,
    "start_time": "2022-08-01T20:47:47.128Z"
   },
   {
    "duration": 2999,
    "start_time": "2022-08-01T20:47:47.140Z"
   },
   {
    "duration": 2941,
    "start_time": "2022-08-01T20:47:50.141Z"
   },
   {
    "duration": 2953,
    "start_time": "2022-08-01T20:47:53.084Z"
   },
   {
    "duration": 10,
    "start_time": "2022-08-03T07:25:55.778Z"
   },
   {
    "duration": 387,
    "start_time": "2022-08-03T07:25:59.415Z"
   },
   {
    "duration": 3,
    "start_time": "2022-08-03T07:25:59.803Z"
   },
   {
    "duration": 687,
    "start_time": "2022-08-03T07:25:59.807Z"
   },
   {
    "duration": 2,
    "start_time": "2022-08-03T07:26:00.496Z"
   },
   {
    "duration": 937,
    "start_time": "2022-08-03T07:26:00.500Z"
   },
   {
    "duration": 5,
    "start_time": "2022-08-03T07:26:01.487Z"
   },
   {
    "duration": 100,
    "start_time": "2022-08-03T07:26:01.494Z"
   },
   {
    "duration": 27,
    "start_time": "2022-08-03T07:26:01.596Z"
   },
   {
    "duration": 84,
    "start_time": "2022-08-03T07:26:01.625Z"
   },
   {
    "duration": 22,
    "start_time": "2022-08-03T07:26:01.711Z"
   },
   {
    "duration": 59,
    "start_time": "2022-08-03T07:26:01.735Z"
   },
   {
    "duration": 38,
    "start_time": "2022-08-03T07:26:01.796Z"
   },
   {
    "duration": 181,
    "start_time": "2022-08-03T07:26:01.836Z"
   },
   {
    "duration": 3,
    "start_time": "2022-08-03T07:26:02.020Z"
   },
   {
    "duration": 62,
    "start_time": "2022-08-03T07:26:02.025Z"
   },
   {
    "duration": 45,
    "start_time": "2022-08-03T07:26:02.089Z"
   },
   {
    "duration": 5,
    "start_time": "2022-08-03T07:26:02.136Z"
   },
   {
    "duration": 6,
    "start_time": "2022-08-03T07:26:02.187Z"
   },
   {
    "duration": 201,
    "start_time": "2022-08-03T07:26:02.194Z"
   },
   {
    "duration": 204,
    "start_time": "2022-08-03T07:26:02.396Z"
   },
   {
    "duration": 194,
    "start_time": "2022-08-03T07:26:02.602Z"
   },
   {
    "duration": 4,
    "start_time": "2022-08-03T07:26:02.798Z"
   },
   {
    "duration": 84,
    "start_time": "2022-08-03T07:26:02.804Z"
   },
   {
    "duration": 3,
    "start_time": "2022-08-03T07:26:02.890Z"
   },
   {
    "duration": 13,
    "start_time": "2022-08-03T07:26:02.894Z"
   },
   {
    "duration": 13,
    "start_time": "2022-08-03T07:26:02.909Z"
   },
   {
    "duration": 14,
    "start_time": "2022-08-03T07:26:02.924Z"
   },
   {
    "duration": 49,
    "start_time": "2022-08-03T07:26:02.940Z"
   },
   {
    "duration": 13,
    "start_time": "2022-08-03T07:26:02.990Z"
   },
   {
    "duration": 5,
    "start_time": "2022-08-03T07:26:03.004Z"
   },
   {
    "duration": 6,
    "start_time": "2022-08-03T07:26:03.011Z"
   },
   {
    "duration": 16,
    "start_time": "2022-08-03T07:26:03.019Z"
   },
   {
    "duration": 53,
    "start_time": "2022-08-03T07:26:03.037Z"
   },
   {
    "duration": 5,
    "start_time": "2022-08-03T07:26:03.092Z"
   },
   {
    "duration": 138,
    "start_time": "2022-08-03T07:26:03.099Z"
   },
   {
    "duration": 0,
    "start_time": "2022-08-03T07:26:03.238Z"
   },
   {
    "duration": 0,
    "start_time": "2022-08-03T07:26:03.239Z"
   },
   {
    "duration": 413,
    "start_time": "2022-08-03T07:29:07.481Z"
   },
   {
    "duration": 3,
    "start_time": "2022-08-03T07:29:07.896Z"
   },
   {
    "duration": 650,
    "start_time": "2022-08-03T07:29:07.900Z"
   },
   {
    "duration": 3,
    "start_time": "2022-08-03T07:29:08.552Z"
   },
   {
    "duration": 454,
    "start_time": "2022-08-03T07:29:08.556Z"
   },
   {
    "duration": 5,
    "start_time": "2022-08-03T07:29:09.012Z"
   },
   {
    "duration": 97,
    "start_time": "2022-08-03T07:29:09.019Z"
   },
   {
    "duration": 77,
    "start_time": "2022-08-03T07:29:09.118Z"
   },
   {
    "duration": 26,
    "start_time": "2022-08-03T07:29:09.197Z"
   },
   {
    "duration": 89,
    "start_time": "2022-08-03T07:29:09.225Z"
   },
   {
    "duration": 74,
    "start_time": "2022-08-03T07:29:09.315Z"
   },
   {
    "duration": 23,
    "start_time": "2022-08-03T07:29:09.391Z"
   },
   {
    "duration": 177,
    "start_time": "2022-08-03T07:29:09.415Z"
   },
   {
    "duration": 2,
    "start_time": "2022-08-03T07:29:09.594Z"
   },
   {
    "duration": 53,
    "start_time": "2022-08-03T07:29:09.599Z"
   },
   {
    "duration": 70,
    "start_time": "2022-08-03T07:29:09.654Z"
   },
   {
    "duration": 4,
    "start_time": "2022-08-03T07:29:09.726Z"
   },
   {
    "duration": 58,
    "start_time": "2022-08-03T07:29:09.731Z"
   },
   {
    "duration": 205,
    "start_time": "2022-08-03T07:29:09.791Z"
   },
   {
    "duration": 202,
    "start_time": "2022-08-03T07:29:09.997Z"
   },
   {
    "duration": 296,
    "start_time": "2022-08-03T07:29:10.201Z"
   },
   {
    "duration": 17,
    "start_time": "2022-08-03T07:29:10.499Z"
   },
   {
    "duration": 70,
    "start_time": "2022-08-03T07:29:10.518Z"
   },
   {
    "duration": 24,
    "start_time": "2022-08-03T07:29:10.590Z"
   },
   {
    "duration": 15,
    "start_time": "2022-08-03T07:29:10.616Z"
   },
   {
    "duration": 54,
    "start_time": "2022-08-03T07:29:10.633Z"
   },
   {
    "duration": 20,
    "start_time": "2022-08-03T07:29:10.689Z"
   },
   {
    "duration": 28,
    "start_time": "2022-08-03T07:29:10.711Z"
   },
   {
    "duration": 48,
    "start_time": "2022-08-03T07:29:10.740Z"
   },
   {
    "duration": 22,
    "start_time": "2022-08-03T07:29:10.790Z"
   },
   {
    "duration": 30,
    "start_time": "2022-08-03T07:29:10.814Z"
   },
   {
    "duration": 35,
    "start_time": "2022-08-03T07:29:10.845Z"
   },
   {
    "duration": 35,
    "start_time": "2022-08-03T07:29:10.882Z"
   },
   {
    "duration": 28,
    "start_time": "2022-08-03T07:29:10.919Z"
   },
   {
    "duration": 126,
    "start_time": "2022-08-03T07:29:10.948Z"
   },
   {
    "duration": 0,
    "start_time": "2022-08-03T07:29:11.076Z"
   },
   {
    "duration": 0,
    "start_time": "2022-08-03T07:29:11.077Z"
   },
   {
    "duration": 5,
    "start_time": "2022-08-03T07:29:49.916Z"
   },
   {
    "duration": 144,
    "start_time": "2022-08-03T07:29:52.847Z"
   },
   {
    "duration": 472,
    "start_time": "2022-08-03T07:30:02.986Z"
   },
   {
    "duration": 3,
    "start_time": "2022-08-03T07:30:03.460Z"
   },
   {
    "duration": 688,
    "start_time": "2022-08-03T07:30:03.464Z"
   },
   {
    "duration": 4,
    "start_time": "2022-08-03T07:30:04.153Z"
   },
   {
    "duration": 377,
    "start_time": "2022-08-03T07:30:04.159Z"
   },
   {
    "duration": 6,
    "start_time": "2022-08-03T07:30:04.537Z"
   },
   {
    "duration": 55,
    "start_time": "2022-08-03T07:30:04.544Z"
   },
   {
    "duration": 26,
    "start_time": "2022-08-03T07:30:04.601Z"
   },
   {
    "duration": 30,
    "start_time": "2022-08-03T07:30:04.629Z"
   },
   {
    "duration": 24,
    "start_time": "2022-08-03T07:30:04.688Z"
   },
   {
    "duration": 14,
    "start_time": "2022-08-03T07:30:04.714Z"
   },
   {
    "duration": 9,
    "start_time": "2022-08-03T07:30:04.731Z"
   },
   {
    "duration": 95,
    "start_time": "2022-08-03T07:30:04.743Z"
   },
   {
    "duration": 3,
    "start_time": "2022-08-03T07:30:04.843Z"
   },
   {
    "duration": 6,
    "start_time": "2022-08-03T07:30:04.848Z"
   },
   {
    "duration": 46,
    "start_time": "2022-08-03T07:30:04.856Z"
   },
   {
    "duration": 3,
    "start_time": "2022-08-03T07:30:04.904Z"
   },
   {
    "duration": 6,
    "start_time": "2022-08-03T07:30:04.909Z"
   },
   {
    "duration": 184,
    "start_time": "2022-08-03T07:30:04.916Z"
   },
   {
    "duration": 193,
    "start_time": "2022-08-03T07:30:05.102Z"
   },
   {
    "duration": 197,
    "start_time": "2022-08-03T07:30:05.297Z"
   },
   {
    "duration": 5,
    "start_time": "2022-08-03T07:30:05.496Z"
   },
   {
    "duration": 17,
    "start_time": "2022-08-03T07:30:05.502Z"
   },
   {
    "duration": 14,
    "start_time": "2022-08-03T07:30:05.521Z"
   },
   {
    "duration": 19,
    "start_time": "2022-08-03T07:30:05.537Z"
   },
   {
    "duration": 5,
    "start_time": "2022-08-03T07:30:05.558Z"
   },
   {
    "duration": 22,
    "start_time": "2022-08-03T07:30:05.565Z"
   },
   {
    "duration": 4,
    "start_time": "2022-08-03T07:30:05.589Z"
   },
   {
    "duration": 11,
    "start_time": "2022-08-03T07:30:05.595Z"
   },
   {
    "duration": 7,
    "start_time": "2022-08-03T07:30:05.608Z"
   },
   {
    "duration": 5,
    "start_time": "2022-08-03T07:30:05.617Z"
   },
   {
    "duration": 16,
    "start_time": "2022-08-03T07:30:05.624Z"
   },
   {
    "duration": 6,
    "start_time": "2022-08-03T07:30:05.643Z"
   },
   {
    "duration": 8,
    "start_time": "2022-08-03T07:30:05.651Z"
   },
   {
    "duration": 126,
    "start_time": "2022-08-03T07:30:05.661Z"
   },
   {
    "duration": 0,
    "start_time": "2022-08-03T07:30:05.788Z"
   },
   {
    "duration": 0,
    "start_time": "2022-08-03T07:30:05.790Z"
   },
   {
    "duration": 369,
    "start_time": "2022-08-03T07:31:09.127Z"
   },
   {
    "duration": 3,
    "start_time": "2022-08-03T07:31:09.498Z"
   },
   {
    "duration": 691,
    "start_time": "2022-08-03T07:31:09.503Z"
   },
   {
    "duration": 2,
    "start_time": "2022-08-03T07:31:10.196Z"
   },
   {
    "duration": 370,
    "start_time": "2022-08-03T07:31:10.200Z"
   },
   {
    "duration": 4,
    "start_time": "2022-08-03T07:31:10.572Z"
   },
   {
    "duration": 41,
    "start_time": "2022-08-03T07:31:10.578Z"
   },
   {
    "duration": 25,
    "start_time": "2022-08-03T07:31:10.620Z"
   },
   {
    "duration": 49,
    "start_time": "2022-08-03T07:31:10.646Z"
   },
   {
    "duration": 17,
    "start_time": "2022-08-03T07:31:10.696Z"
   },
   {
    "duration": 10,
    "start_time": "2022-08-03T07:31:10.715Z"
   },
   {
    "duration": 5,
    "start_time": "2022-08-03T07:31:10.727Z"
   },
   {
    "duration": 105,
    "start_time": "2022-08-03T07:31:10.733Z"
   },
   {
    "duration": 2,
    "start_time": "2022-08-03T07:31:10.841Z"
   },
   {
    "duration": 5,
    "start_time": "2022-08-03T07:31:10.845Z"
   },
   {
    "duration": 49,
    "start_time": "2022-08-03T07:31:10.852Z"
   },
   {
    "duration": 3,
    "start_time": "2022-08-03T07:31:10.903Z"
   },
   {
    "duration": 11,
    "start_time": "2022-08-03T07:31:10.908Z"
   },
   {
    "duration": 182,
    "start_time": "2022-08-03T07:31:10.921Z"
   },
   {
    "duration": 189,
    "start_time": "2022-08-03T07:31:11.105Z"
   },
   {
    "duration": 200,
    "start_time": "2022-08-03T07:31:11.296Z"
   },
   {
    "duration": 4,
    "start_time": "2022-08-03T07:31:11.498Z"
   },
   {
    "duration": 15,
    "start_time": "2022-08-03T07:31:11.503Z"
   },
   {
    "duration": 6,
    "start_time": "2022-08-03T07:31:11.519Z"
   },
   {
    "duration": 7,
    "start_time": "2022-08-03T07:31:11.526Z"
   },
   {
    "duration": 53,
    "start_time": "2022-08-03T07:31:11.534Z"
   },
   {
    "duration": 15,
    "start_time": "2022-08-03T07:31:11.589Z"
   },
   {
    "duration": 5,
    "start_time": "2022-08-03T07:31:11.606Z"
   },
   {
    "duration": 14,
    "start_time": "2022-08-03T07:31:11.613Z"
   },
   {
    "duration": 59,
    "start_time": "2022-08-03T07:31:11.628Z"
   },
   {
    "duration": 5,
    "start_time": "2022-08-03T07:31:11.688Z"
   },
   {
    "duration": 15,
    "start_time": "2022-08-03T07:31:11.694Z"
   },
   {
    "duration": 12,
    "start_time": "2022-08-03T07:31:11.710Z"
   },
   {
    "duration": 19,
    "start_time": "2022-08-03T07:31:11.724Z"
   },
   {
    "duration": 244,
    "start_time": "2022-08-03T07:31:11.744Z"
   },
   {
    "duration": 0,
    "start_time": "2022-08-03T07:31:11.989Z"
   },
   {
    "duration": 0,
    "start_time": "2022-08-03T07:31:11.990Z"
   },
   {
    "duration": 4,
    "start_time": "2022-08-03T07:34:14.982Z"
   },
   {
    "duration": 52,
    "start_time": "2022-08-03T07:37:47.755Z"
   },
   {
    "duration": 3,
    "start_time": "2022-08-03T07:37:57.434Z"
   },
   {
    "duration": 3,
    "start_time": "2022-08-03T07:38:09.308Z"
   },
   {
    "duration": 3,
    "start_time": "2022-08-03T07:38:23.737Z"
   },
   {
    "duration": 4,
    "start_time": "2022-08-03T07:38:31.959Z"
   },
   {
    "duration": 425,
    "start_time": "2022-08-03T07:38:36.476Z"
   },
   {
    "duration": 2,
    "start_time": "2022-08-03T07:38:36.903Z"
   },
   {
    "duration": 687,
    "start_time": "2022-08-03T07:38:36.907Z"
   },
   {
    "duration": 4,
    "start_time": "2022-08-03T07:38:37.595Z"
   },
   {
    "duration": 390,
    "start_time": "2022-08-03T07:38:37.602Z"
   },
   {
    "duration": 5,
    "start_time": "2022-08-03T07:38:37.994Z"
   },
   {
    "duration": 46,
    "start_time": "2022-08-03T07:38:38.000Z"
   },
   {
    "duration": 41,
    "start_time": "2022-08-03T07:38:38.047Z"
   },
   {
    "duration": 26,
    "start_time": "2022-08-03T07:38:38.090Z"
   },
   {
    "duration": 17,
    "start_time": "2022-08-03T07:38:38.118Z"
   },
   {
    "duration": 20,
    "start_time": "2022-08-03T07:38:38.138Z"
   },
   {
    "duration": 14,
    "start_time": "2022-08-03T07:38:38.160Z"
   },
   {
    "duration": 79,
    "start_time": "2022-08-03T07:38:38.176Z"
   },
   {
    "duration": 2,
    "start_time": "2022-08-03T07:38:38.258Z"
   },
   {
    "duration": 11,
    "start_time": "2022-08-03T07:38:38.262Z"
   },
   {
    "duration": 30,
    "start_time": "2022-08-03T07:38:38.286Z"
   },
   {
    "duration": 4,
    "start_time": "2022-08-03T07:38:38.317Z"
   },
   {
    "duration": 28,
    "start_time": "2022-08-03T07:38:38.322Z"
   },
   {
    "duration": 138,
    "start_time": "2022-08-03T07:38:38.351Z"
   },
   {
    "duration": 206,
    "start_time": "2022-08-03T07:38:38.490Z"
   },
   {
    "duration": 192,
    "start_time": "2022-08-03T07:38:38.698Z"
   },
   {
    "duration": 6,
    "start_time": "2022-08-03T07:38:38.891Z"
   },
   {
    "duration": 20,
    "start_time": "2022-08-03T07:38:38.898Z"
   },
   {
    "duration": 20,
    "start_time": "2022-08-03T07:38:38.919Z"
   },
   {
    "duration": 253,
    "start_time": "2022-08-03T07:38:38.941Z"
   },
   {
    "duration": 0,
    "start_time": "2022-08-03T07:38:39.196Z"
   },
   {
    "duration": 0,
    "start_time": "2022-08-03T07:38:39.197Z"
   },
   {
    "duration": 0,
    "start_time": "2022-08-03T07:38:39.198Z"
   },
   {
    "duration": 0,
    "start_time": "2022-08-03T07:38:39.199Z"
   },
   {
    "duration": 0,
    "start_time": "2022-08-03T07:38:39.200Z"
   },
   {
    "duration": 0,
    "start_time": "2022-08-03T07:38:39.201Z"
   },
   {
    "duration": 0,
    "start_time": "2022-08-03T07:38:39.202Z"
   },
   {
    "duration": 0,
    "start_time": "2022-08-03T07:38:39.203Z"
   },
   {
    "duration": 0,
    "start_time": "2022-08-03T07:38:39.203Z"
   },
   {
    "duration": 0,
    "start_time": "2022-08-03T07:38:39.205Z"
   },
   {
    "duration": 4,
    "start_time": "2022-08-03T07:39:14.720Z"
   },
   {
    "duration": 3,
    "start_time": "2022-08-03T07:39:21.794Z"
   },
   {
    "duration": 4,
    "start_time": "2022-08-03T07:39:33.785Z"
   },
   {
    "duration": 4,
    "start_time": "2022-08-03T07:39:47.915Z"
   },
   {
    "duration": 4,
    "start_time": "2022-08-03T07:41:24.598Z"
   },
   {
    "duration": 4,
    "start_time": "2022-08-03T08:39:21.621Z"
   },
   {
    "duration": 4,
    "start_time": "2022-08-03T08:41:09.283Z"
   },
   {
    "duration": 4,
    "start_time": "2022-08-03T08:41:48.748Z"
   },
   {
    "duration": 4,
    "start_time": "2022-08-03T08:42:04.237Z"
   },
   {
    "duration": 4,
    "start_time": "2022-08-03T08:43:05.450Z"
   },
   {
    "duration": 3,
    "start_time": "2022-08-03T08:51:19.254Z"
   },
   {
    "duration": 4,
    "start_time": "2022-08-03T08:54:43.265Z"
   },
   {
    "duration": 3,
    "start_time": "2022-08-03T08:56:47.399Z"
   },
   {
    "duration": 4,
    "start_time": "2022-08-03T08:57:21.997Z"
   },
   {
    "duration": 11,
    "start_time": "2022-08-03T08:57:48.029Z"
   },
   {
    "duration": 3,
    "start_time": "2022-08-03T08:59:17.982Z"
   },
   {
    "duration": 14,
    "start_time": "2022-08-03T08:59:30.580Z"
   },
   {
    "duration": 362,
    "start_time": "2022-08-03T08:59:58.859Z"
   },
   {
    "duration": 3,
    "start_time": "2022-08-03T08:59:59.223Z"
   },
   {
    "duration": 707,
    "start_time": "2022-08-03T08:59:59.228Z"
   },
   {
    "duration": 3,
    "start_time": "2022-08-03T08:59:59.937Z"
   },
   {
    "duration": 429,
    "start_time": "2022-08-03T08:59:59.941Z"
   },
   {
    "duration": 5,
    "start_time": "2022-08-03T09:00:00.371Z"
   },
   {
    "duration": 52,
    "start_time": "2022-08-03T09:00:00.379Z"
   },
   {
    "duration": 33,
    "start_time": "2022-08-03T09:00:00.433Z"
   },
   {
    "duration": 49,
    "start_time": "2022-08-03T09:00:00.467Z"
   },
   {
    "duration": 25,
    "start_time": "2022-08-03T09:00:00.518Z"
   },
   {
    "duration": 20,
    "start_time": "2022-08-03T09:00:00.545Z"
   },
   {
    "duration": 19,
    "start_time": "2022-08-03T09:00:00.567Z"
   },
   {
    "duration": 105,
    "start_time": "2022-08-03T09:00:00.588Z"
   },
   {
    "duration": 3,
    "start_time": "2022-08-03T09:00:00.701Z"
   },
   {
    "duration": 23,
    "start_time": "2022-08-03T09:00:00.706Z"
   },
   {
    "duration": 45,
    "start_time": "2022-08-03T09:00:00.731Z"
   },
   {
    "duration": 4,
    "start_time": "2022-08-03T09:00:00.778Z"
   },
   {
    "duration": 60,
    "start_time": "2022-08-03T09:00:00.784Z"
   },
   {
    "duration": 242,
    "start_time": "2022-08-03T09:00:00.846Z"
   },
   {
    "duration": 119,
    "start_time": "2022-08-03T09:00:01.090Z"
   },
   {
    "duration": 191,
    "start_time": "2022-08-03T09:00:01.218Z"
   },
   {
    "duration": 17,
    "start_time": "2022-08-03T09:00:01.489Z"
   },
   {
    "duration": 40,
    "start_time": "2022-08-03T09:00:01.508Z"
   },
   {
    "duration": 189,
    "start_time": "2022-08-03T09:00:01.550Z"
   },
   {
    "duration": 0,
    "start_time": "2022-08-03T09:00:01.741Z"
   },
   {
    "duration": 0,
    "start_time": "2022-08-03T09:00:01.742Z"
   },
   {
    "duration": 0,
    "start_time": "2022-08-03T09:00:01.743Z"
   },
   {
    "duration": 0,
    "start_time": "2022-08-03T09:00:01.744Z"
   },
   {
    "duration": 0,
    "start_time": "2022-08-03T09:00:01.745Z"
   },
   {
    "duration": 0,
    "start_time": "2022-08-03T09:00:01.746Z"
   },
   {
    "duration": 0,
    "start_time": "2022-08-03T09:00:01.748Z"
   },
   {
    "duration": 0,
    "start_time": "2022-08-03T09:00:01.749Z"
   },
   {
    "duration": 0,
    "start_time": "2022-08-03T09:00:01.750Z"
   },
   {
    "duration": 0,
    "start_time": "2022-08-03T09:00:01.751Z"
   },
   {
    "duration": 0,
    "start_time": "2022-08-03T09:00:01.752Z"
   },
   {
    "duration": 402,
    "start_time": "2022-08-03T09:00:21.066Z"
   },
   {
    "duration": 3,
    "start_time": "2022-08-03T09:00:21.470Z"
   },
   {
    "duration": 709,
    "start_time": "2022-08-03T09:00:21.474Z"
   },
   {
    "duration": 4,
    "start_time": "2022-08-03T09:00:22.185Z"
   },
   {
    "duration": 438,
    "start_time": "2022-08-03T09:00:22.191Z"
   },
   {
    "duration": 5,
    "start_time": "2022-08-03T09:00:22.630Z"
   },
   {
    "duration": 42,
    "start_time": "2022-08-03T09:00:22.636Z"
   },
   {
    "duration": 41,
    "start_time": "2022-08-03T09:00:22.680Z"
   },
   {
    "duration": 28,
    "start_time": "2022-08-03T09:00:22.723Z"
   },
   {
    "duration": 41,
    "start_time": "2022-08-03T09:00:22.753Z"
   },
   {
    "duration": 10,
    "start_time": "2022-08-03T09:00:22.802Z"
   },
   {
    "duration": 6,
    "start_time": "2022-08-03T09:00:22.814Z"
   },
   {
    "duration": 87,
    "start_time": "2022-08-03T09:00:22.821Z"
   },
   {
    "duration": 2,
    "start_time": "2022-08-03T09:00:22.911Z"
   },
   {
    "duration": 17,
    "start_time": "2022-08-03T09:00:22.915Z"
   },
   {
    "duration": 50,
    "start_time": "2022-08-03T09:00:22.934Z"
   },
   {
    "duration": 14,
    "start_time": "2022-08-03T09:00:22.987Z"
   },
   {
    "duration": 7,
    "start_time": "2022-08-03T09:00:23.007Z"
   },
   {
    "duration": 192,
    "start_time": "2022-08-03T09:00:23.016Z"
   },
   {
    "duration": 190,
    "start_time": "2022-08-03T09:00:23.210Z"
   },
   {
    "duration": 194,
    "start_time": "2022-08-03T09:00:23.402Z"
   },
   {
    "duration": 5,
    "start_time": "2022-08-03T09:00:23.599Z"
   },
   {
    "duration": 16,
    "start_time": "2022-08-03T09:00:23.606Z"
   },
   {
    "duration": 7,
    "start_time": "2022-08-03T09:00:23.624Z"
   },
   {
    "duration": 12,
    "start_time": "2022-08-03T09:00:23.633Z"
   },
   {
    "duration": 11,
    "start_time": "2022-08-03T09:00:23.647Z"
   },
   {
    "duration": 31,
    "start_time": "2022-08-03T09:00:23.659Z"
   },
   {
    "duration": 14,
    "start_time": "2022-08-03T09:00:23.692Z"
   },
   {
    "duration": 15,
    "start_time": "2022-08-03T09:00:23.708Z"
   },
   {
    "duration": 16,
    "start_time": "2022-08-03T09:00:23.725Z"
   },
   {
    "duration": 14,
    "start_time": "2022-08-03T09:00:23.743Z"
   },
   {
    "duration": 6,
    "start_time": "2022-08-03T09:00:23.758Z"
   },
   {
    "duration": 124,
    "start_time": "2022-08-03T09:00:23.766Z"
   },
   {
    "duration": 0,
    "start_time": "2022-08-03T09:00:23.893Z"
   },
   {
    "duration": 0,
    "start_time": "2022-08-03T09:00:23.894Z"
   },
   {
    "duration": 66,
    "start_time": "2022-08-03T09:00:49.954Z"
   },
   {
    "duration": 453,
    "start_time": "2022-08-03T09:02:50.678Z"
   },
   {
    "duration": 3,
    "start_time": "2022-08-03T09:02:51.133Z"
   },
   {
    "duration": 657,
    "start_time": "2022-08-03T09:02:51.137Z"
   },
   {
    "duration": 4,
    "start_time": "2022-08-03T09:02:51.795Z"
   },
   {
    "duration": 424,
    "start_time": "2022-08-03T09:02:51.801Z"
   },
   {
    "duration": 4,
    "start_time": "2022-08-03T09:02:52.227Z"
   },
   {
    "duration": 43,
    "start_time": "2022-08-03T09:02:52.232Z"
   },
   {
    "duration": 40,
    "start_time": "2022-08-03T09:02:52.277Z"
   },
   {
    "duration": 70,
    "start_time": "2022-08-03T09:02:52.318Z"
   },
   {
    "duration": 20,
    "start_time": "2022-08-03T09:02:52.390Z"
   },
   {
    "duration": 14,
    "start_time": "2022-08-03T09:02:52.412Z"
   },
   {
    "duration": 5,
    "start_time": "2022-08-03T09:02:52.428Z"
   },
   {
    "duration": 191,
    "start_time": "2022-08-03T09:02:52.434Z"
   },
   {
    "duration": 2,
    "start_time": "2022-08-03T09:02:52.628Z"
   },
   {
    "duration": 74,
    "start_time": "2022-08-03T09:02:52.632Z"
   },
   {
    "duration": 41,
    "start_time": "2022-08-03T09:02:52.709Z"
   },
   {
    "duration": 11,
    "start_time": "2022-08-03T09:02:52.787Z"
   },
   {
    "duration": 14,
    "start_time": "2022-08-03T09:02:52.806Z"
   },
   {
    "duration": 164,
    "start_time": "2022-08-03T09:02:52.822Z"
   },
   {
    "duration": 120,
    "start_time": "2022-08-03T09:02:52.988Z"
   },
   {
    "duration": 109,
    "start_time": "2022-08-03T09:02:53.187Z"
   },
   {
    "duration": 114,
    "start_time": "2022-08-03T09:02:53.298Z"
   },
   {
    "duration": 11,
    "start_time": "2022-08-03T09:02:53.414Z"
   },
   {
    "duration": 8,
    "start_time": "2022-08-03T09:02:53.426Z"
   },
   {
    "duration": 12,
    "start_time": "2022-08-03T09:02:53.436Z"
   },
   {
    "duration": 42,
    "start_time": "2022-08-03T09:02:53.450Z"
   },
   {
    "duration": 27,
    "start_time": "2022-08-03T09:02:53.494Z"
   },
   {
    "duration": 7,
    "start_time": "2022-08-03T09:02:53.523Z"
   },
   {
    "duration": 8,
    "start_time": "2022-08-03T09:02:53.532Z"
   },
   {
    "duration": 63,
    "start_time": "2022-08-03T09:02:53.542Z"
   },
   {
    "duration": 15,
    "start_time": "2022-08-03T09:02:53.608Z"
   },
   {
    "duration": 6,
    "start_time": "2022-08-03T09:02:53.624Z"
   },
   {
    "duration": 258,
    "start_time": "2022-08-03T09:02:53.632Z"
   },
   {
    "duration": 0,
    "start_time": "2022-08-03T09:02:53.892Z"
   },
   {
    "duration": 0,
    "start_time": "2022-08-03T09:02:53.893Z"
   },
   {
    "duration": 6,
    "start_time": "2022-08-03T09:03:31.986Z"
   },
   {
    "duration": 24,
    "start_time": "2022-08-03T09:04:06.368Z"
   },
   {
    "duration": 7,
    "start_time": "2022-08-03T09:04:25.123Z"
   },
   {
    "duration": 19,
    "start_time": "2022-08-03T09:04:27.530Z"
   },
   {
    "duration": 5,
    "start_time": "2022-08-03T09:04:42.825Z"
   },
   {
    "duration": 18,
    "start_time": "2022-08-03T09:04:44.887Z"
   },
   {
    "duration": 19,
    "start_time": "2022-08-03T09:05:15.672Z"
   },
   {
    "duration": 5,
    "start_time": "2022-08-03T09:07:23.503Z"
   },
   {
    "duration": 4,
    "start_time": "2022-08-03T09:07:26.057Z"
   },
   {
    "duration": 6140,
    "start_time": "2022-08-03T09:07:27.130Z"
   },
   {
    "duration": 6298,
    "start_time": "2022-08-03T09:08:08.152Z"
   },
   {
    "duration": 6303,
    "start_time": "2022-08-03T09:08:35.666Z"
   },
   {
    "duration": 401,
    "start_time": "2022-08-03T09:09:40.037Z"
   },
   {
    "duration": 3,
    "start_time": "2022-08-03T09:09:40.440Z"
   },
   {
    "duration": 749,
    "start_time": "2022-08-03T09:09:40.444Z"
   },
   {
    "duration": 3,
    "start_time": "2022-08-03T09:09:41.194Z"
   },
   {
    "duration": 430,
    "start_time": "2022-08-03T09:09:41.204Z"
   },
   {
    "duration": 5,
    "start_time": "2022-08-03T09:09:41.635Z"
   },
   {
    "duration": 50,
    "start_time": "2022-08-03T09:09:41.641Z"
   },
   {
    "duration": 29,
    "start_time": "2022-08-03T09:09:41.693Z"
   },
   {
    "duration": 23,
    "start_time": "2022-08-03T09:09:41.723Z"
   },
   {
    "duration": 42,
    "start_time": "2022-08-03T09:09:41.748Z"
   },
   {
    "duration": 24,
    "start_time": "2022-08-03T09:09:41.791Z"
   },
   {
    "duration": 6,
    "start_time": "2022-08-03T09:09:41.816Z"
   },
   {
    "duration": 95,
    "start_time": "2022-08-03T09:09:41.823Z"
   },
   {
    "duration": 3,
    "start_time": "2022-08-03T09:09:41.922Z"
   },
   {
    "duration": 11,
    "start_time": "2022-08-03T09:09:41.927Z"
   },
   {
    "duration": 34,
    "start_time": "2022-08-03T09:09:41.939Z"
   },
   {
    "duration": 4,
    "start_time": "2022-08-03T09:09:41.974Z"
   },
   {
    "duration": 10,
    "start_time": "2022-08-03T09:09:41.987Z"
   },
   {
    "duration": 200,
    "start_time": "2022-08-03T09:09:42.000Z"
   },
   {
    "duration": 202,
    "start_time": "2022-08-03T09:09:42.201Z"
   },
   {
    "duration": 191,
    "start_time": "2022-08-03T09:09:42.405Z"
   },
   {
    "duration": 6,
    "start_time": "2022-08-03T09:09:42.599Z"
   },
   {
    "duration": 10,
    "start_time": "2022-08-03T09:09:42.609Z"
   },
   {
    "duration": 7,
    "start_time": "2022-08-03T09:09:42.621Z"
   },
   {
    "duration": 13,
    "start_time": "2022-08-03T09:09:42.630Z"
   },
   {
    "duration": 7,
    "start_time": "2022-08-03T09:09:42.645Z"
   },
   {
    "duration": 11,
    "start_time": "2022-08-03T09:09:42.654Z"
   },
   {
    "duration": 28,
    "start_time": "2022-08-03T09:09:42.667Z"
   },
   {
    "duration": 13,
    "start_time": "2022-08-03T09:09:42.702Z"
   },
   {
    "duration": 12,
    "start_time": "2022-08-03T09:09:42.716Z"
   },
   {
    "duration": 10,
    "start_time": "2022-08-03T09:09:42.730Z"
   },
   {
    "duration": 8,
    "start_time": "2022-08-03T09:09:42.742Z"
   },
   {
    "duration": 7072,
    "start_time": "2022-08-03T09:09:42.751Z"
   },
   {
    "duration": 6440,
    "start_time": "2022-08-03T09:09:49.825Z"
   },
   {
    "duration": 6314,
    "start_time": "2022-08-03T09:09:56.267Z"
   },
   {
    "duration": 16,
    "start_time": "2022-08-03T09:11:46.279Z"
   },
   {
    "duration": 98,
    "start_time": "2022-08-03T09:35:59.872Z"
   },
   {
    "duration": 4,
    "start_time": "2022-08-03T09:36:04.418Z"
   },
   {
    "duration": 6503,
    "start_time": "2022-08-03T09:36:05.328Z"
   },
   {
    "duration": 4,
    "start_time": "2022-08-03T09:39:33.839Z"
   },
   {
    "duration": 2529,
    "start_time": "2022-08-03T09:39:37.132Z"
   },
   {
    "duration": 6,
    "start_time": "2022-08-03T09:39:47.913Z"
   },
   {
    "duration": 3705,
    "start_time": "2022-08-03T09:39:48.250Z"
   },
   {
    "duration": 4,
    "start_time": "2022-08-03T09:40:04.073Z"
   },
   {
    "duration": 5286,
    "start_time": "2022-08-03T09:40:04.322Z"
   },
   {
    "duration": 4,
    "start_time": "2022-08-03T09:41:17.379Z"
   },
   {
    "duration": 5263,
    "start_time": "2022-08-03T09:41:18.065Z"
   },
   {
    "duration": 5006,
    "start_time": "2022-08-03T09:41:46.229Z"
   },
   {
    "duration": 5118,
    "start_time": "2022-08-03T09:41:54.575Z"
   },
   {
    "duration": 15480,
    "start_time": "2022-08-03T09:45:24.928Z"
   },
   {
    "duration": 16354,
    "start_time": "2022-08-03T09:46:50.961Z"
   },
   {
    "duration": 15132,
    "start_time": "2022-08-03T09:47:15.473Z"
   },
   {
    "duration": 15627,
    "start_time": "2022-08-03T09:47:59.085Z"
   },
   {
    "duration": 347,
    "start_time": "2022-08-03T19:49:22.545Z"
   },
   {
    "duration": 5,
    "start_time": "2022-08-03T19:49:22.894Z"
   },
   {
    "duration": 694,
    "start_time": "2022-08-03T19:49:22.901Z"
   },
   {
    "duration": 2,
    "start_time": "2022-08-03T19:49:23.597Z"
   },
   {
    "duration": 749,
    "start_time": "2022-08-03T19:49:23.601Z"
   },
   {
    "duration": 5,
    "start_time": "2022-08-03T19:49:24.351Z"
   },
   {
    "duration": 34,
    "start_time": "2022-08-03T19:49:24.358Z"
   },
   {
    "duration": 24,
    "start_time": "2022-08-03T19:49:24.394Z"
   },
   {
    "duration": 25,
    "start_time": "2022-08-03T19:49:24.419Z"
   },
   {
    "duration": 15,
    "start_time": "2022-08-03T19:49:24.446Z"
   },
   {
    "duration": 11,
    "start_time": "2022-08-03T19:49:24.463Z"
   },
   {
    "duration": 3,
    "start_time": "2022-08-03T19:49:24.476Z"
   },
   {
    "duration": 71,
    "start_time": "2022-08-03T19:49:24.500Z"
   },
   {
    "duration": 2,
    "start_time": "2022-08-03T19:49:24.575Z"
   },
   {
    "duration": 3,
    "start_time": "2022-08-03T19:49:24.599Z"
   },
   {
    "duration": 30,
    "start_time": "2022-08-03T19:49:24.604Z"
   },
   {
    "duration": 4,
    "start_time": "2022-08-03T19:49:24.635Z"
   },
   {
    "duration": 5,
    "start_time": "2022-08-03T19:49:24.640Z"
   },
   {
    "duration": 154,
    "start_time": "2022-08-03T19:49:24.646Z"
   },
   {
    "duration": 200,
    "start_time": "2022-08-03T19:49:24.802Z"
   },
   {
    "duration": 104,
    "start_time": "2022-08-03T19:49:25.004Z"
   },
   {
    "duration": 4,
    "start_time": "2022-08-03T19:49:25.201Z"
   },
   {
    "duration": 10,
    "start_time": "2022-08-03T19:49:25.207Z"
   },
   {
    "duration": 5,
    "start_time": "2022-08-03T19:49:25.218Z"
   },
   {
    "duration": 10,
    "start_time": "2022-08-03T19:49:25.224Z"
   },
   {
    "duration": 6,
    "start_time": "2022-08-03T19:49:25.235Z"
   },
   {
    "duration": 9,
    "start_time": "2022-08-03T19:49:25.242Z"
   },
   {
    "duration": 10,
    "start_time": "2022-08-03T19:49:25.252Z"
   },
   {
    "duration": 6,
    "start_time": "2022-08-03T19:49:25.263Z"
   },
   {
    "duration": 37,
    "start_time": "2022-08-03T19:49:25.270Z"
   },
   {
    "duration": 7,
    "start_time": "2022-08-03T19:49:25.308Z"
   },
   {
    "duration": 5,
    "start_time": "2022-08-03T19:49:25.316Z"
   },
   {
    "duration": 5,
    "start_time": "2022-08-03T19:49:25.323Z"
   },
   {
    "duration": 4381,
    "start_time": "2022-08-03T19:49:25.330Z"
   },
   {
    "duration": 4363,
    "start_time": "2022-08-03T19:49:29.713Z"
   },
   {
    "duration": 4233,
    "start_time": "2022-08-03T19:49:34.077Z"
   },
   {
    "duration": 12559,
    "start_time": "2022-08-03T19:49:38.312Z"
   },
   {
    "duration": 352,
    "start_time": "2022-08-03T20:24:23.754Z"
   },
   {
    "duration": 2,
    "start_time": "2022-08-03T20:24:24.108Z"
   },
   {
    "duration": 666,
    "start_time": "2022-08-03T20:24:24.112Z"
   },
   {
    "duration": 2,
    "start_time": "2022-08-03T20:24:24.780Z"
   },
   {
    "duration": 371,
    "start_time": "2022-08-03T20:24:24.784Z"
   },
   {
    "duration": 4,
    "start_time": "2022-08-03T20:24:25.156Z"
   },
   {
    "duration": 39,
    "start_time": "2022-08-03T20:24:25.161Z"
   },
   {
    "duration": 22,
    "start_time": "2022-08-03T20:24:25.201Z"
   },
   {
    "duration": 21,
    "start_time": "2022-08-03T20:24:25.225Z"
   },
   {
    "duration": 17,
    "start_time": "2022-08-03T20:24:25.248Z"
   },
   {
    "duration": 34,
    "start_time": "2022-08-03T20:24:25.267Z"
   },
   {
    "duration": 4,
    "start_time": "2022-08-03T20:24:25.302Z"
   },
   {
    "duration": 68,
    "start_time": "2022-08-03T20:24:25.307Z"
   },
   {
    "duration": 2,
    "start_time": "2022-08-03T20:24:25.377Z"
   },
   {
    "duration": 7,
    "start_time": "2022-08-03T20:24:25.381Z"
   },
   {
    "duration": 28,
    "start_time": "2022-08-03T20:24:25.400Z"
   },
   {
    "duration": 3,
    "start_time": "2022-08-03T20:24:25.430Z"
   },
   {
    "duration": 11,
    "start_time": "2022-08-03T20:24:25.434Z"
   },
   {
    "duration": 157,
    "start_time": "2022-08-03T20:24:25.446Z"
   },
   {
    "duration": 197,
    "start_time": "2022-08-03T20:24:25.605Z"
   },
   {
    "duration": 197,
    "start_time": "2022-08-03T20:24:25.804Z"
   },
   {
    "duration": 5,
    "start_time": "2022-08-03T20:24:26.003Z"
   },
   {
    "duration": 15,
    "start_time": "2022-08-03T20:24:26.009Z"
   },
   {
    "duration": 6,
    "start_time": "2022-08-03T20:24:26.026Z"
   },
   {
    "duration": 10,
    "start_time": "2022-08-03T20:24:26.033Z"
   },
   {
    "duration": 5,
    "start_time": "2022-08-03T20:24:26.044Z"
   },
   {
    "duration": 9,
    "start_time": "2022-08-03T20:24:26.050Z"
   },
   {
    "duration": 6,
    "start_time": "2022-08-03T20:24:26.063Z"
   },
   {
    "duration": 33,
    "start_time": "2022-08-03T20:24:26.070Z"
   },
   {
    "duration": 10,
    "start_time": "2022-08-03T20:24:26.104Z"
   },
   {
    "duration": 20,
    "start_time": "2022-08-03T20:24:26.115Z"
   },
   {
    "duration": 12,
    "start_time": "2022-08-03T20:24:26.137Z"
   },
   {
    "duration": 6,
    "start_time": "2022-08-03T20:24:26.150Z"
   },
   {
    "duration": 4238,
    "start_time": "2022-08-03T20:24:26.158Z"
   },
   {
    "duration": 4395,
    "start_time": "2022-08-03T20:24:30.397Z"
   },
   {
    "duration": 4221,
    "start_time": "2022-08-03T20:24:34.794Z"
   },
   {
    "duration": 12673,
    "start_time": "2022-08-03T20:24:39.017Z"
   },
   {
    "duration": 448,
    "start_time": "2022-08-04T06:43:33.720Z"
   },
   {
    "duration": 3,
    "start_time": "2022-08-04T06:43:34.170Z"
   },
   {
    "duration": 675,
    "start_time": "2022-08-04T06:43:34.174Z"
   },
   {
    "duration": 3,
    "start_time": "2022-08-04T06:43:34.851Z"
   },
   {
    "duration": 736,
    "start_time": "2022-08-04T06:43:34.856Z"
   },
   {
    "duration": 4,
    "start_time": "2022-08-04T06:43:35.594Z"
   },
   {
    "duration": 39,
    "start_time": "2022-08-04T06:43:35.599Z"
   },
   {
    "duration": 28,
    "start_time": "2022-08-04T06:43:35.640Z"
   },
   {
    "duration": 30,
    "start_time": "2022-08-04T06:43:35.669Z"
   },
   {
    "duration": 47,
    "start_time": "2022-08-04T06:43:35.702Z"
   },
   {
    "duration": 10,
    "start_time": "2022-08-04T06:43:35.751Z"
   },
   {
    "duration": 5,
    "start_time": "2022-08-04T06:43:35.762Z"
   },
   {
    "duration": 90,
    "start_time": "2022-08-04T06:43:35.768Z"
   },
   {
    "duration": 2,
    "start_time": "2022-08-04T06:43:35.860Z"
   },
   {
    "duration": 6,
    "start_time": "2022-08-04T06:43:35.863Z"
   },
   {
    "duration": 30,
    "start_time": "2022-08-04T06:43:35.871Z"
   },
   {
    "duration": 3,
    "start_time": "2022-08-04T06:43:35.903Z"
   },
   {
    "duration": 32,
    "start_time": "2022-08-04T06:43:35.908Z"
   },
   {
    "duration": 109,
    "start_time": "2022-08-04T06:43:35.941Z"
   },
   {
    "duration": 202,
    "start_time": "2022-08-04T06:43:36.139Z"
   },
   {
    "duration": 205,
    "start_time": "2022-08-04T06:43:36.342Z"
   },
   {
    "duration": 6,
    "start_time": "2022-08-04T06:43:36.549Z"
   },
   {
    "duration": 12,
    "start_time": "2022-08-04T06:43:36.556Z"
   },
   {
    "duration": 5,
    "start_time": "2022-08-04T06:43:36.570Z"
   },
   {
    "duration": 11,
    "start_time": "2022-08-04T06:43:36.577Z"
   },
   {
    "duration": 5,
    "start_time": "2022-08-04T06:43:36.590Z"
   },
   {
    "duration": 45,
    "start_time": "2022-08-04T06:43:36.596Z"
   },
   {
    "duration": 7,
    "start_time": "2022-08-04T06:43:36.646Z"
   },
   {
    "duration": 8,
    "start_time": "2022-08-04T06:43:36.654Z"
   },
   {
    "duration": 11,
    "start_time": "2022-08-04T06:43:36.663Z"
   },
   {
    "duration": 12,
    "start_time": "2022-08-04T06:43:36.675Z"
   },
   {
    "duration": 7,
    "start_time": "2022-08-04T06:43:36.688Z"
   },
   {
    "duration": 6,
    "start_time": "2022-08-04T06:43:36.696Z"
   },
   {
    "duration": 6088,
    "start_time": "2022-08-04T06:43:36.704Z"
   },
   {
    "duration": 4921,
    "start_time": "2022-08-04T06:43:42.793Z"
   },
   {
    "duration": 5091,
    "start_time": "2022-08-04T06:43:47.716Z"
   },
   {
    "duration": 15226,
    "start_time": "2022-08-04T06:43:52.809Z"
   },
   {
    "duration": 4,
    "start_time": "2022-08-04T06:46:07.126Z"
   },
   {
    "duration": 425,
    "start_time": "2022-08-04T06:47:11.930Z"
   },
   {
    "duration": 3,
    "start_time": "2022-08-04T06:47:12.360Z"
   },
   {
    "duration": 708,
    "start_time": "2022-08-04T06:47:12.364Z"
   },
   {
    "duration": 3,
    "start_time": "2022-08-04T06:47:13.074Z"
   },
   {
    "duration": 390,
    "start_time": "2022-08-04T06:47:13.079Z"
   },
   {
    "duration": 4,
    "start_time": "2022-08-04T06:47:13.471Z"
   },
   {
    "duration": 41,
    "start_time": "2022-08-04T06:47:13.476Z"
   },
   {
    "duration": 45,
    "start_time": "2022-08-04T06:47:13.519Z"
   },
   {
    "duration": 23,
    "start_time": "2022-08-04T06:47:13.566Z"
   },
   {
    "duration": 14,
    "start_time": "2022-08-04T06:47:13.591Z"
   },
   {
    "duration": 14,
    "start_time": "2022-08-04T06:47:13.607Z"
   },
   {
    "duration": 20,
    "start_time": "2022-08-04T06:47:13.646Z"
   },
   {
    "duration": 88,
    "start_time": "2022-08-04T06:47:13.668Z"
   },
   {
    "duration": 3,
    "start_time": "2022-08-04T06:47:13.759Z"
   },
   {
    "duration": 11,
    "start_time": "2022-08-04T06:47:13.764Z"
   },
   {
    "duration": 33,
    "start_time": "2022-08-04T06:47:13.777Z"
   },
   {
    "duration": 3,
    "start_time": "2022-08-04T06:47:13.812Z"
   },
   {
    "duration": 11,
    "start_time": "2022-08-04T06:47:13.817Z"
   },
   {
    "duration": 130,
    "start_time": "2022-08-04T06:47:13.830Z"
   },
   {
    "duration": 217,
    "start_time": "2022-08-04T06:47:14.039Z"
   },
   {
    "duration": 96,
    "start_time": "2022-08-04T06:47:14.258Z"
   },
   {
    "duration": 86,
    "start_time": "2022-08-04T06:47:14.357Z"
   },
   {
    "duration": 23,
    "start_time": "2022-08-04T06:47:14.445Z"
   },
   {
    "duration": 6,
    "start_time": "2022-08-04T06:47:14.470Z"
   },
   {
    "duration": 12,
    "start_time": "2022-08-04T06:47:14.478Z"
   },
   {
    "duration": 51,
    "start_time": "2022-08-04T06:47:14.491Z"
   },
   {
    "duration": 26,
    "start_time": "2022-08-04T06:47:14.545Z"
   },
   {
    "duration": 9,
    "start_time": "2022-08-04T06:47:14.573Z"
   },
   {
    "duration": 59,
    "start_time": "2022-08-04T06:47:14.584Z"
   },
   {
    "duration": 14,
    "start_time": "2022-08-04T06:47:14.645Z"
   },
   {
    "duration": 7,
    "start_time": "2022-08-04T06:47:14.661Z"
   },
   {
    "duration": 6,
    "start_time": "2022-08-04T06:47:14.670Z"
   },
   {
    "duration": 5,
    "start_time": "2022-08-04T06:47:14.678Z"
   },
   {
    "duration": 6429,
    "start_time": "2022-08-04T06:47:14.685Z"
   },
   {
    "duration": 5293,
    "start_time": "2022-08-04T06:47:21.115Z"
   },
   {
    "duration": 5549,
    "start_time": "2022-08-04T06:47:26.410Z"
   },
   {
    "duration": 15902,
    "start_time": "2022-08-04T06:47:31.961Z"
   },
   {
    "duration": 120,
    "start_time": "2022-08-04T06:48:10.575Z"
   },
   {
    "duration": 10,
    "start_time": "2022-08-04T06:48:40.924Z"
   },
   {
    "duration": 4,
    "start_time": "2022-08-04T06:48:44.318Z"
   },
   {
    "duration": 3,
    "start_time": "2022-08-04T06:48:47.755Z"
   },
   {
    "duration": 9,
    "start_time": "2022-08-04T06:52:13.238Z"
   },
   {
    "duration": 3,
    "start_time": "2022-08-04T06:52:24.795Z"
   },
   {
    "duration": 3,
    "start_time": "2022-08-04T06:52:42.416Z"
   },
   {
    "duration": 3,
    "start_time": "2022-08-04T06:52:55.052Z"
   },
   {
    "duration": 5,
    "start_time": "2022-08-04T06:53:03.050Z"
   },
   {
    "duration": 10,
    "start_time": "2022-08-04T06:53:10.167Z"
   },
   {
    "duration": 3,
    "start_time": "2022-08-04T06:54:24.825Z"
   },
   {
    "duration": 8,
    "start_time": "2022-08-04T06:54:37.952Z"
   },
   {
    "duration": 3,
    "start_time": "2022-08-04T06:54:45.117Z"
   },
   {
    "duration": 10,
    "start_time": "2022-08-04T06:54:49.831Z"
   },
   {
    "duration": 4,
    "start_time": "2022-08-04T06:55:58.017Z"
   },
   {
    "duration": 3,
    "start_time": "2022-08-04T07:40:21.530Z"
   },
   {
    "duration": 4,
    "start_time": "2022-08-04T07:41:11.073Z"
   },
   {
    "duration": 4,
    "start_time": "2022-08-04T09:40:56.589Z"
   },
   {
    "duration": 413,
    "start_time": "2022-08-04T09:43:54.810Z"
   },
   {
    "duration": 2,
    "start_time": "2022-08-04T09:43:55.225Z"
   },
   {
    "duration": 729,
    "start_time": "2022-08-04T09:43:55.228Z"
   },
   {
    "duration": 3,
    "start_time": "2022-08-04T09:43:55.959Z"
   },
   {
    "duration": 386,
    "start_time": "2022-08-04T09:43:55.964Z"
   },
   {
    "duration": 6,
    "start_time": "2022-08-04T09:43:56.352Z"
   },
   {
    "duration": 42,
    "start_time": "2022-08-04T09:43:56.360Z"
   },
   {
    "duration": 55,
    "start_time": "2022-08-04T09:43:56.404Z"
   },
   {
    "duration": 38,
    "start_time": "2022-08-04T09:43:56.461Z"
   },
   {
    "duration": 16,
    "start_time": "2022-08-04T09:43:56.501Z"
   },
   {
    "duration": 7,
    "start_time": "2022-08-04T09:43:56.538Z"
   },
   {
    "duration": 5,
    "start_time": "2022-08-04T09:43:56.547Z"
   },
   {
    "duration": 87,
    "start_time": "2022-08-04T09:43:56.553Z"
   },
   {
    "duration": 3,
    "start_time": "2022-08-04T09:43:56.643Z"
   },
   {
    "duration": 7,
    "start_time": "2022-08-04T09:43:56.647Z"
   },
   {
    "duration": 33,
    "start_time": "2022-08-04T09:43:56.655Z"
   },
   {
    "duration": 4,
    "start_time": "2022-08-04T09:43:56.690Z"
   },
   {
    "duration": 12,
    "start_time": "2022-08-04T09:43:56.695Z"
   },
   {
    "duration": 252,
    "start_time": "2022-08-04T09:43:56.709Z"
   },
   {
    "duration": 178,
    "start_time": "2022-08-04T09:43:56.963Z"
   },
   {
    "duration": 200,
    "start_time": "2022-08-04T09:43:57.142Z"
   },
   {
    "duration": 4,
    "start_time": "2022-08-04T09:43:57.344Z"
   },
   {
    "duration": 45,
    "start_time": "2022-08-04T09:43:57.350Z"
   },
   {
    "duration": 51,
    "start_time": "2022-08-04T09:43:57.397Z"
   },
   {
    "duration": 28,
    "start_time": "2022-08-04T09:43:57.450Z"
   },
   {
    "duration": 5,
    "start_time": "2022-08-04T09:43:57.480Z"
   },
   {
    "duration": 58,
    "start_time": "2022-08-04T09:43:57.486Z"
   },
   {
    "duration": 8,
    "start_time": "2022-08-04T09:43:57.546Z"
   },
   {
    "duration": 19,
    "start_time": "2022-08-04T09:43:57.555Z"
   },
   {
    "duration": 69,
    "start_time": "2022-08-04T09:43:57.576Z"
   },
   {
    "duration": 29,
    "start_time": "2022-08-04T09:43:57.647Z"
   },
   {
    "duration": 68,
    "start_time": "2022-08-04T09:43:57.678Z"
   },
   {
    "duration": 25,
    "start_time": "2022-08-04T09:43:57.748Z"
   },
   {
    "duration": 6044,
    "start_time": "2022-08-04T09:43:57.775Z"
   },
   {
    "duration": 5203,
    "start_time": "2022-08-04T09:44:03.821Z"
   },
   {
    "duration": 5169,
    "start_time": "2022-08-04T09:44:09.026Z"
   },
   {
    "duration": 15530,
    "start_time": "2022-08-04T09:44:14.197Z"
   },
   {
    "duration": 430,
    "start_time": "2022-08-04T09:48:18.804Z"
   },
   {
    "duration": 3,
    "start_time": "2022-08-04T09:48:19.236Z"
   },
   {
    "duration": 706,
    "start_time": "2022-08-04T09:48:19.240Z"
   },
   {
    "duration": 3,
    "start_time": "2022-08-04T09:48:19.949Z"
   },
   {
    "duration": 379,
    "start_time": "2022-08-04T09:48:19.954Z"
   },
   {
    "duration": 4,
    "start_time": "2022-08-04T09:48:20.335Z"
   },
   {
    "duration": 37,
    "start_time": "2022-08-04T09:48:20.341Z"
   },
   {
    "duration": 30,
    "start_time": "2022-08-04T09:48:20.380Z"
   },
   {
    "duration": 60,
    "start_time": "2022-08-04T09:48:20.412Z"
   },
   {
    "duration": 16,
    "start_time": "2022-08-04T09:48:20.474Z"
   },
   {
    "duration": 13,
    "start_time": "2022-08-04T09:48:20.491Z"
   },
   {
    "duration": 6,
    "start_time": "2022-08-04T09:48:20.506Z"
   },
   {
    "duration": 90,
    "start_time": "2022-08-04T09:48:20.514Z"
   },
   {
    "duration": 2,
    "start_time": "2022-08-04T09:48:20.607Z"
   },
   {
    "duration": 5,
    "start_time": "2022-08-04T09:48:20.611Z"
   },
   {
    "duration": 46,
    "start_time": "2022-08-04T09:48:20.617Z"
   },
   {
    "duration": 4,
    "start_time": "2022-08-04T09:48:20.664Z"
   },
   {
    "duration": 10,
    "start_time": "2022-08-04T09:48:20.670Z"
   },
   {
    "duration": 175,
    "start_time": "2022-08-04T09:48:20.682Z"
   },
   {
    "duration": 182,
    "start_time": "2022-08-04T09:48:20.859Z"
   },
   {
    "duration": 204,
    "start_time": "2022-08-04T09:48:21.042Z"
   },
   {
    "duration": 4,
    "start_time": "2022-08-04T09:48:21.248Z"
   },
   {
    "duration": 12,
    "start_time": "2022-08-04T09:48:21.253Z"
   },
   {
    "duration": 5,
    "start_time": "2022-08-04T09:48:21.266Z"
   },
   {
    "duration": 67,
    "start_time": "2022-08-04T09:48:21.273Z"
   },
   {
    "duration": 13,
    "start_time": "2022-08-04T09:48:21.342Z"
   },
   {
    "duration": 38,
    "start_time": "2022-08-04T09:48:21.357Z"
   },
   {
    "duration": 47,
    "start_time": "2022-08-04T09:48:21.397Z"
   },
   {
    "duration": 8,
    "start_time": "2022-08-04T09:48:21.445Z"
   },
   {
    "duration": 29,
    "start_time": "2022-08-04T09:48:21.454Z"
   },
   {
    "duration": 55,
    "start_time": "2022-08-04T09:48:21.485Z"
   },
   {
    "duration": 17,
    "start_time": "2022-08-04T09:48:21.542Z"
   },
   {
    "duration": 23,
    "start_time": "2022-08-04T09:48:21.561Z"
   },
   {
    "duration": 5830,
    "start_time": "2022-08-04T09:48:21.587Z"
   },
   {
    "duration": 5194,
    "start_time": "2022-08-04T09:48:27.418Z"
   },
   {
    "duration": 5017,
    "start_time": "2022-08-04T09:48:32.614Z"
   },
   {
    "duration": 15301,
    "start_time": "2022-08-04T09:48:37.639Z"
   },
   {
    "duration": 410,
    "start_time": "2022-08-04T09:55:23.807Z"
   },
   {
    "duration": 3,
    "start_time": "2022-08-04T09:55:24.219Z"
   },
   {
    "duration": 680,
    "start_time": "2022-08-04T09:55:24.223Z"
   },
   {
    "duration": 3,
    "start_time": "2022-08-04T09:55:24.904Z"
   },
   {
    "duration": 380,
    "start_time": "2022-08-04T09:55:24.909Z"
   },
   {
    "duration": 4,
    "start_time": "2022-08-04T09:55:25.291Z"
   },
   {
    "duration": 47,
    "start_time": "2022-08-04T09:55:25.296Z"
   },
   {
    "duration": 33,
    "start_time": "2022-08-04T09:55:25.345Z"
   },
   {
    "duration": 26,
    "start_time": "2022-08-04T09:55:25.380Z"
   },
   {
    "duration": 42,
    "start_time": "2022-08-04T09:55:25.407Z"
   },
   {
    "duration": 10,
    "start_time": "2022-08-04T09:55:25.451Z"
   },
   {
    "duration": 6,
    "start_time": "2022-08-04T09:55:25.463Z"
   },
   {
    "duration": 89,
    "start_time": "2022-08-04T09:55:25.470Z"
   },
   {
    "duration": 2,
    "start_time": "2022-08-04T09:55:25.563Z"
   },
   {
    "duration": 5,
    "start_time": "2022-08-04T09:55:25.568Z"
   },
   {
    "duration": 33,
    "start_time": "2022-08-04T09:55:25.574Z"
   },
   {
    "duration": 3,
    "start_time": "2022-08-04T09:55:25.609Z"
   },
   {
    "duration": 29,
    "start_time": "2022-08-04T09:55:25.614Z"
   },
   {
    "duration": 196,
    "start_time": "2022-08-04T09:55:25.644Z"
   },
   {
    "duration": 197,
    "start_time": "2022-08-04T09:55:25.842Z"
   },
   {
    "duration": 199,
    "start_time": "2022-08-04T09:55:26.042Z"
   },
   {
    "duration": 5,
    "start_time": "2022-08-04T09:55:26.242Z"
   },
   {
    "duration": 13,
    "start_time": "2022-08-04T09:55:26.248Z"
   },
   {
    "duration": 5,
    "start_time": "2022-08-04T09:55:26.263Z"
   },
   {
    "duration": 12,
    "start_time": "2022-08-04T09:55:26.270Z"
   },
   {
    "duration": 6,
    "start_time": "2022-08-04T09:55:26.283Z"
   },
   {
    "duration": 8,
    "start_time": "2022-08-04T09:55:26.291Z"
   },
   {
    "duration": 42,
    "start_time": "2022-08-04T09:55:26.301Z"
   },
   {
    "duration": 8,
    "start_time": "2022-08-04T09:55:26.344Z"
   },
   {
    "duration": 10,
    "start_time": "2022-08-04T09:55:26.354Z"
   },
   {
    "duration": 8,
    "start_time": "2022-08-04T09:55:26.366Z"
   },
   {
    "duration": 5,
    "start_time": "2022-08-04T09:55:26.375Z"
   },
   {
    "duration": 6,
    "start_time": "2022-08-04T09:55:26.382Z"
   },
   {
    "duration": 4426,
    "start_time": "2022-08-04T09:55:26.390Z"
   },
   {
    "duration": 5652,
    "start_time": "2022-08-04T09:55:30.818Z"
   },
   {
    "duration": 4522,
    "start_time": "2022-08-04T09:55:36.472Z"
   },
   {
    "duration": 13156,
    "start_time": "2022-08-04T09:55:40.996Z"
   },
   {
    "duration": 13556,
    "start_time": "2022-08-04T09:58:08.120Z"
   },
   {
    "duration": 395,
    "start_time": "2022-08-04T10:03:26.158Z"
   },
   {
    "duration": 2,
    "start_time": "2022-08-04T10:03:26.556Z"
   },
   {
    "duration": 770,
    "start_time": "2022-08-04T10:03:26.560Z"
   },
   {
    "duration": 3,
    "start_time": "2022-08-04T10:03:27.332Z"
   },
   {
    "duration": 364,
    "start_time": "2022-08-04T10:03:27.337Z"
   },
   {
    "duration": 8,
    "start_time": "2022-08-04T10:03:27.703Z"
   },
   {
    "duration": 38,
    "start_time": "2022-08-04T10:03:27.712Z"
   },
   {
    "duration": 40,
    "start_time": "2022-08-04T10:03:27.752Z"
   },
   {
    "duration": 56,
    "start_time": "2022-08-04T10:03:27.794Z"
   },
   {
    "duration": 20,
    "start_time": "2022-08-04T10:03:27.852Z"
   },
   {
    "duration": 11,
    "start_time": "2022-08-04T10:03:27.874Z"
   },
   {
    "duration": 5,
    "start_time": "2022-08-04T10:03:27.887Z"
   },
   {
    "duration": 100,
    "start_time": "2022-08-04T10:03:27.893Z"
   },
   {
    "duration": 2,
    "start_time": "2022-08-04T10:03:27.996Z"
   },
   {
    "duration": 7,
    "start_time": "2022-08-04T10:03:28.000Z"
   },
   {
    "duration": 51,
    "start_time": "2022-08-04T10:03:28.008Z"
   },
   {
    "duration": 4,
    "start_time": "2022-08-04T10:03:28.061Z"
   },
   {
    "duration": 7,
    "start_time": "2022-08-04T10:03:28.067Z"
   },
   {
    "duration": 177,
    "start_time": "2022-08-04T10:03:28.076Z"
   },
   {
    "duration": 186,
    "start_time": "2022-08-04T10:03:28.255Z"
   },
   {
    "duration": 109,
    "start_time": "2022-08-04T10:03:28.442Z"
   },
   {
    "duration": 87,
    "start_time": "2022-08-04T10:03:28.553Z"
   },
   {
    "duration": 13,
    "start_time": "2022-08-04T10:03:28.642Z"
   },
   {
    "duration": 7,
    "start_time": "2022-08-04T10:03:28.656Z"
   },
   {
    "duration": 19,
    "start_time": "2022-08-04T10:03:28.665Z"
   },
   {
    "duration": 9,
    "start_time": "2022-08-04T10:03:28.686Z"
   },
   {
    "duration": 12,
    "start_time": "2022-08-04T10:03:28.697Z"
   },
   {
    "duration": 32,
    "start_time": "2022-08-04T10:03:28.710Z"
   },
   {
    "duration": 9,
    "start_time": "2022-08-04T10:03:28.744Z"
   },
   {
    "duration": 11,
    "start_time": "2022-08-04T10:03:28.754Z"
   },
   {
    "duration": 8,
    "start_time": "2022-08-04T10:03:28.767Z"
   },
   {
    "duration": 7,
    "start_time": "2022-08-04T10:03:28.776Z"
   },
   {
    "duration": 6,
    "start_time": "2022-08-04T10:03:28.784Z"
   },
   {
    "duration": 4491,
    "start_time": "2022-08-04T10:03:28.792Z"
   },
   {
    "duration": 4380,
    "start_time": "2022-08-04T10:03:33.285Z"
   },
   {
    "duration": 4499,
    "start_time": "2022-08-04T10:03:37.668Z"
   },
   {
    "duration": 13005,
    "start_time": "2022-08-04T10:03:42.169Z"
   },
   {
    "duration": 4,
    "start_time": "2022-08-04T10:04:48.715Z"
   },
   {
    "duration": 414,
    "start_time": "2022-08-04T10:04:54.005Z"
   },
   {
    "duration": 3,
    "start_time": "2022-08-04T10:04:54.421Z"
   },
   {
    "duration": 925,
    "start_time": "2022-08-04T10:04:54.425Z"
   },
   {
    "duration": 2,
    "start_time": "2022-08-04T10:04:55.352Z"
   },
   {
    "duration": 389,
    "start_time": "2022-08-04T10:04:55.356Z"
   },
   {
    "duration": 4,
    "start_time": "2022-08-04T10:04:55.747Z"
   },
   {
    "duration": 48,
    "start_time": "2022-08-04T10:04:55.753Z"
   },
   {
    "duration": 37,
    "start_time": "2022-08-04T10:04:55.803Z"
   },
   {
    "duration": 29,
    "start_time": "2022-08-04T10:04:55.841Z"
   },
   {
    "duration": 15,
    "start_time": "2022-08-04T10:04:55.872Z"
   },
   {
    "duration": 28,
    "start_time": "2022-08-04T10:04:55.889Z"
   },
   {
    "duration": 28,
    "start_time": "2022-08-04T10:04:55.919Z"
   },
   {
    "duration": 108,
    "start_time": "2022-08-04T10:04:55.949Z"
   },
   {
    "duration": 3,
    "start_time": "2022-08-04T10:04:56.059Z"
   },
   {
    "duration": 38,
    "start_time": "2022-08-04T10:04:56.064Z"
   },
   {
    "duration": 66,
    "start_time": "2022-08-04T10:04:56.104Z"
   },
   {
    "duration": 9,
    "start_time": "2022-08-04T10:04:56.172Z"
   },
   {
    "duration": 26,
    "start_time": "2022-08-04T10:04:56.183Z"
   },
   {
    "duration": 142,
    "start_time": "2022-08-04T10:04:56.210Z"
   },
   {
    "duration": 201,
    "start_time": "2022-08-04T10:04:56.439Z"
   },
   {
    "duration": 196,
    "start_time": "2022-08-04T10:04:56.642Z"
   },
   {
    "duration": 5,
    "start_time": "2022-08-04T10:04:56.841Z"
   },
   {
    "duration": 36,
    "start_time": "2022-08-04T10:04:56.848Z"
   },
   {
    "duration": 8,
    "start_time": "2022-08-04T10:04:56.886Z"
   },
   {
    "duration": 24,
    "start_time": "2022-08-04T10:04:56.897Z"
   },
   {
    "duration": 5,
    "start_time": "2022-08-04T10:04:56.923Z"
   },
   {
    "duration": 13,
    "start_time": "2022-08-04T10:04:56.930Z"
   },
   {
    "duration": 8,
    "start_time": "2022-08-04T10:04:56.945Z"
   },
   {
    "duration": 8,
    "start_time": "2022-08-04T10:04:56.955Z"
   },
   {
    "duration": 14,
    "start_time": "2022-08-04T10:04:56.965Z"
   },
   {
    "duration": 5,
    "start_time": "2022-08-04T10:04:56.981Z"
   },
   {
    "duration": 9,
    "start_time": "2022-08-04T10:04:56.987Z"
   },
   {
    "duration": 6,
    "start_time": "2022-08-04T10:04:56.998Z"
   },
   {
    "duration": 5974,
    "start_time": "2022-08-04T10:04:57.005Z"
   },
   {
    "duration": 4378,
    "start_time": "2022-08-04T10:05:02.981Z"
   },
   {
    "duration": 4462,
    "start_time": "2022-08-04T10:05:07.360Z"
   },
   {
    "duration": 13163,
    "start_time": "2022-08-04T10:05:11.824Z"
   },
   {
    "duration": 352,
    "start_time": "2022-08-04T20:09:06.473Z"
   },
   {
    "duration": 3,
    "start_time": "2022-08-04T20:09:06.827Z"
   },
   {
    "duration": 718,
    "start_time": "2022-08-04T20:09:06.831Z"
   },
   {
    "duration": 3,
    "start_time": "2022-08-04T20:09:07.550Z"
   },
   {
    "duration": 781,
    "start_time": "2022-08-04T20:09:07.556Z"
   },
   {
    "duration": 4,
    "start_time": "2022-08-04T20:09:08.338Z"
   },
   {
    "duration": 33,
    "start_time": "2022-08-04T20:09:08.343Z"
   },
   {
    "duration": 22,
    "start_time": "2022-08-04T20:09:08.378Z"
   },
   {
    "duration": 35,
    "start_time": "2022-08-04T20:09:08.401Z"
   },
   {
    "duration": 14,
    "start_time": "2022-08-04T20:09:08.438Z"
   },
   {
    "duration": 10,
    "start_time": "2022-08-04T20:09:08.454Z"
   },
   {
    "duration": 6,
    "start_time": "2022-08-04T20:09:08.466Z"
   },
   {
    "duration": 85,
    "start_time": "2022-08-04T20:09:08.473Z"
   },
   {
    "duration": 3,
    "start_time": "2022-08-04T20:09:08.560Z"
   },
   {
    "duration": 8,
    "start_time": "2022-08-04T20:09:08.564Z"
   },
   {
    "duration": 27,
    "start_time": "2022-08-04T20:09:08.573Z"
   },
   {
    "duration": 22,
    "start_time": "2022-08-04T20:09:08.602Z"
   },
   {
    "duration": 6,
    "start_time": "2022-08-04T20:09:08.626Z"
   },
   {
    "duration": 185,
    "start_time": "2022-08-04T20:09:08.634Z"
   },
   {
    "duration": 187,
    "start_time": "2022-08-04T20:09:08.825Z"
   },
   {
    "duration": 111,
    "start_time": "2022-08-04T20:09:09.014Z"
   },
   {
    "duration": 94,
    "start_time": "2022-08-04T20:09:09.128Z"
   },
   {
    "duration": 10,
    "start_time": "2022-08-04T20:09:09.224Z"
   },
   {
    "duration": 6,
    "start_time": "2022-08-04T20:09:09.236Z"
   },
   {
    "duration": 10,
    "start_time": "2022-08-04T20:09:09.243Z"
   },
   {
    "duration": 5,
    "start_time": "2022-08-04T20:09:09.255Z"
   },
   {
    "duration": 9,
    "start_time": "2022-08-04T20:09:09.261Z"
   },
   {
    "duration": 6,
    "start_time": "2022-08-04T20:09:09.272Z"
   },
   {
    "duration": 43,
    "start_time": "2022-08-04T20:09:09.279Z"
   },
   {
    "duration": 9,
    "start_time": "2022-08-04T20:09:09.325Z"
   },
   {
    "duration": 9,
    "start_time": "2022-08-04T20:09:09.335Z"
   },
   {
    "duration": 4,
    "start_time": "2022-08-04T20:09:09.345Z"
   },
   {
    "duration": 5,
    "start_time": "2022-08-04T20:09:09.350Z"
   },
   {
    "duration": 3517,
    "start_time": "2022-08-04T20:09:09.356Z"
   },
   {
    "duration": 3319,
    "start_time": "2022-08-04T20:09:12.875Z"
   },
   {
    "duration": 3535,
    "start_time": "2022-08-04T20:09:16.195Z"
   },
   {
    "duration": 10215,
    "start_time": "2022-08-04T20:09:19.731Z"
   }
  ],
  "kernelspec": {
   "display_name": "Python 3 (ipykernel)",
   "language": "python",
   "name": "python3"
  },
  "language_info": {
   "codemirror_mode": {
    "name": "ipython",
    "version": 3
   },
   "file_extension": ".py",
   "mimetype": "text/x-python",
   "name": "python",
   "nbconvert_exporter": "python",
   "pygments_lexer": "ipython3",
   "version": "3.8.16"
  },
  "toc": {
   "base_numbering": 1,
   "nav_menu": {},
   "number_sections": true,
   "sideBar": true,
   "skip_h1_title": true,
   "title_cell": "Содержание",
   "title_sidebar": "Contents",
   "toc_cell": true,
   "toc_position": {
    "height": "529.6px",
    "left": "334px",
    "top": "111.125px",
    "width": "195px"
   },
   "toc_section_display": true,
   "toc_window_display": true
  }
 },
 "nbformat": 4,
 "nbformat_minor": 2
}
