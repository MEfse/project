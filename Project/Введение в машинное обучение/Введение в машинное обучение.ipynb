{
 "cells": [
  {
   "cell_type": "markdown",
   "metadata": {},
   "source": [
    "# Рекомендация тарифов"
   ]
  },
  {
   "cell_type": "markdown",
   "metadata": {},
   "source": [
    "Оператор мобильной связи «Мегалайн» выяснил: многие клиенты пользуются архивными тарифами. Они хотят построить систему, способную проанализировать поведение клиентов и предложить пользователям новый тариф: «Смарт» или «Ультра».\n",
    "\n",
    "В нашем распоряжении данные о поведении клиентов, которые уже перешли на эти тарифы. Нужно построить модель для задачи классификации, которая выберет подходящий тариф. \n",
    "\n",
    "Необходимо построить модель с максимально большим значением *accuracy*. Доля правильных ответов не менее 0.75."
   ]
  },
  {
   "cell_type": "markdown",
   "metadata": {},
   "source": [
    "# Постановка задачи"
   ]
  },
  {
   "cell_type": "markdown",
   "metadata": {},
   "source": [
    "**Нужно разработать алгоритм, который проанализирует поведение клиентов и предложит пользователям новый тариф: «`Смарт`» или «`Ультра`».**"
   ]
  },
  {
   "cell_type": "markdown",
   "metadata": {},
   "source": [
    "## Откроем и изучим файл"
   ]
  },
  {
   "cell_type": "markdown",
   "metadata": {},
   "source": [
    "Произведем **импорт библиотек.**"
   ]
  },
  {
   "cell_type": "code",
   "execution_count": 1,
   "metadata": {},
   "outputs": [],
   "source": [
    "import pandas as pd\n",
    "import numpy as np \n",
    "import random"
   ]
  },
  {
   "cell_type": "code",
   "execution_count": 2,
   "metadata": {},
   "outputs": [],
   "source": [
    "from sklearn.model_selection import train_test_split \n",
    "from sklearn.tree import DecisionTreeClassifier\n",
    "from sklearn.ensemble import RandomForestClassifier, RandomForestRegressor\n",
    "from sklearn.linear_model import LogisticRegression \n",
    "from sklearn.dummy import DummyClassifier"
   ]
  },
  {
   "cell_type": "code",
   "execution_count": 3,
   "metadata": {},
   "outputs": [],
   "source": [
    "from sklearn.metrics import accuracy_score"
   ]
  },
  {
   "cell_type": "markdown",
   "metadata": {},
   "source": [
    "Запишим в переменную **csv-файл.**"
   ]
  },
  {
   "cell_type": "code",
   "execution_count": 4,
   "metadata": {},
   "outputs": [],
   "source": [
    "try:\n",
    "    data = pd.read_csv('C:/Users/User/Desktop/Проекты/Введение в машинное обучение/users_behavior.csv')\n",
    "except:\n",
    "    try:\n",
    "        data = pd.read_csv('C:/Users/JERR/Desktop/Проекты/Введение в машинное обучение/users_behavior.csv')\n",
    "    except:\n",
    "        data = pd.read_csv('/datasets/users_behavior.csv')"
   ]
  },
  {
   "cell_type": "markdown",
   "metadata": {},
   "source": [
    "Напишем функцию для того чтобы отобразить **общую информацию** по датафрейму. `Входные данные` -  датасет, `выходные данные` - таблица с количеством строк, типом данных и первые пять строк датафрейма."
   ]
  },
  {
   "cell_type": "code",
   "execution_count": 5,
   "metadata": {},
   "outputs": [
    {
     "name": "stdout",
     "output_type": "stream",
     "text": [
      "<class 'pandas.core.frame.DataFrame'>\n",
      "RangeIndex: 3214 entries, 0 to 3213\n",
      "Data columns (total 5 columns):\n",
      " #   Column    Non-Null Count  Dtype  \n",
      "---  ------    --------------  -----  \n",
      " 0   calls     3214 non-null   float64\n",
      " 1   minutes   3214 non-null   float64\n",
      " 2   messages  3214 non-null   float64\n",
      " 3   mb_used   3214 non-null   float64\n",
      " 4   is_ultra  3214 non-null   int64  \n",
      "dtypes: float64(4), int64(1)\n",
      "memory usage: 125.7 KB\n"
     ]
    },
    {
     "data": {
      "text/html": [
       "<div>\n",
       "<style scoped>\n",
       "    .dataframe tbody tr th:only-of-type {\n",
       "        vertical-align: middle;\n",
       "    }\n",
       "\n",
       "    .dataframe tbody tr th {\n",
       "        vertical-align: top;\n",
       "    }\n",
       "\n",
       "    .dataframe thead th {\n",
       "        text-align: right;\n",
       "    }\n",
       "</style>\n",
       "<table border=\"1\" class=\"dataframe\">\n",
       "  <thead>\n",
       "    <tr style=\"text-align: right;\">\n",
       "      <th></th>\n",
       "      <th>calls</th>\n",
       "      <th>minutes</th>\n",
       "      <th>messages</th>\n",
       "      <th>mb_used</th>\n",
       "      <th>is_ultra</th>\n",
       "    </tr>\n",
       "  </thead>\n",
       "  <tbody>\n",
       "    <tr>\n",
       "      <th>0</th>\n",
       "      <td>40.0</td>\n",
       "      <td>311.90</td>\n",
       "      <td>83.0</td>\n",
       "      <td>19915.42</td>\n",
       "      <td>0</td>\n",
       "    </tr>\n",
       "    <tr>\n",
       "      <th>1</th>\n",
       "      <td>85.0</td>\n",
       "      <td>516.75</td>\n",
       "      <td>56.0</td>\n",
       "      <td>22696.96</td>\n",
       "      <td>0</td>\n",
       "    </tr>\n",
       "    <tr>\n",
       "      <th>2</th>\n",
       "      <td>77.0</td>\n",
       "      <td>467.66</td>\n",
       "      <td>86.0</td>\n",
       "      <td>21060.45</td>\n",
       "      <td>0</td>\n",
       "    </tr>\n",
       "    <tr>\n",
       "      <th>3</th>\n",
       "      <td>106.0</td>\n",
       "      <td>745.53</td>\n",
       "      <td>81.0</td>\n",
       "      <td>8437.39</td>\n",
       "      <td>1</td>\n",
       "    </tr>\n",
       "    <tr>\n",
       "      <th>4</th>\n",
       "      <td>66.0</td>\n",
       "      <td>418.74</td>\n",
       "      <td>1.0</td>\n",
       "      <td>14502.75</td>\n",
       "      <td>0</td>\n",
       "    </tr>\n",
       "  </tbody>\n",
       "</table>\n",
       "</div>"
      ],
      "text/plain": [
       "   calls  minutes  messages   mb_used  is_ultra\n",
       "0   40.0   311.90      83.0  19915.42         0\n",
       "1   85.0   516.75      56.0  22696.96         0\n",
       "2   77.0   467.66      86.0  21060.45         0\n",
       "3  106.0   745.53      81.0   8437.39         1\n",
       "4   66.0   418.74       1.0  14502.75         0"
      ]
     },
     "metadata": {},
     "output_type": "display_data"
    }
   ],
   "source": [
    "def info(data):\n",
    "    data.info()\n",
    "    display(data.head(5))\n",
    "\n",
    "info(data)    "
   ]
  },
  {
   "cell_type": "markdown",
   "metadata": {},
   "source": [
    "**Описание данных:** \n",
    "\n",
    "* `сalls` — количество звонков,\n",
    "* `minutes` — суммарная длительность звонков в минутах,\n",
    "* `messages` — количество sms-сообщений,\n",
    "* `mb_used` — израсходованный интернет-трафик в Мб,\n",
    "* `is_ultra` — каким тарифом пользовался в течение месяца («Ультра» — 1, «Смарт» — 0)."
   ]
  },
  {
   "cell_type": "markdown",
   "metadata": {},
   "source": [
    "**Следующим шагом необходимо разбить данные на выборки.**"
   ]
  },
  {
   "cell_type": "markdown",
   "metadata": {},
   "source": [
    "**Соотношение двух классов: `Смарт` и `Ультра`.**"
   ]
  },
  {
   "cell_type": "code",
   "execution_count": 6,
   "metadata": {},
   "outputs": [
    {
     "data": {
      "text/plain": [
       "0    2229\n",
       "1     985\n",
       "Name: is_ultra, dtype: int64"
      ]
     },
     "execution_count": 6,
     "metadata": {},
     "output_type": "execute_result"
    }
   ],
   "source": [
    "data.is_ultra.value_counts()"
   ]
  },
  {
   "cell_type": "code",
   "execution_count": 7,
   "metadata": {},
   "outputs": [],
   "source": [
    "def observation(label, integer):\n",
    "    print(f'{label} к общему числу наблюдений равно \\033[1m{round(data.is_ultra.value_counts()[integer] / data.is_ultra.count() * 100, 2)}\\033[0m%.')"
   ]
  },
  {
   "cell_type": "code",
   "execution_count": 8,
   "metadata": {},
   "outputs": [
    {
     "name": "stdout",
     "output_type": "stream",
     "text": [
      "Смарт к общему числу наблюдений равно \u001b[1m69.35\u001b[0m%.\n",
      "Смарт к общему числу наблюдений равно \u001b[1m30.65\u001b[0m%.\n"
     ]
    }
   ],
   "source": [
    "observation('Смарт', 0)\n",
    "observation('Смарт', 1)"
   ]
  },
  {
   "cell_type": "markdown",
   "metadata": {},
   "source": [
    "## Разбейте данные на выборки"
   ]
  },
  {
   "cell_type": "markdown",
   "metadata": {},
   "source": [
    "Данные нужно разбить на **три части: обучающую, валидационную и тестовую.** Размеры тестового и валидационного наборов обычно равны. Исходные данные разбивают в соотношении **3:1:1.**"
   ]
  },
  {
   "cell_type": "markdown",
   "metadata": {},
   "source": [
    "### Разбивка вариант первый"
   ]
  },
  {
   "cell_type": "code",
   "execution_count": 9,
   "metadata": {},
   "outputs": [],
   "source": [
    "data_train_valid, data_test = train_test_split(\n",
    "    data, \n",
    "    test_size=0.2, \n",
    "    random_state=12345)"
   ]
  },
  {
   "cell_type": "code",
   "execution_count": 10,
   "metadata": {},
   "outputs": [],
   "source": [
    "data_train, data_valid = train_test_split(\n",
    "    data_train_valid, \n",
    "    test_size = 0.25,\n",
    "    random_state=12345)"
   ]
  },
  {
   "cell_type": "code",
   "execution_count": 29,
   "metadata": {},
   "outputs": [
    {
     "name": "stdout",
     "output_type": "stream",
     "text": [
      "Размер обучающей выборки: (1928, 5)\n",
      "Размер валидационной выборки: (643, 5)\n",
      "Размер тестовой выборки: (643, 5)\n"
     ]
    }
   ],
   "source": [
    "print('Размер обучающей выборки:',data_train.shape)\n",
    "print('Размер валидационной выборки:',data_valid.shape)\n",
    "print('Размер тестовой выборки:', data_test.shape)"
   ]
  },
  {
   "cell_type": "markdown",
   "metadata": {},
   "source": [
    "### Разбивка вариант второй"
   ]
  },
  {
   "cell_type": "markdown",
   "metadata": {},
   "source": [
    "Добавим метод `stratify` в `train_test_split`."
   ]
  },
  {
   "cell_type": "markdown",
   "metadata": {},
   "source": [
    "Отделяем целевую переменную."
   ]
  },
  {
   "cell_type": "code",
   "execution_count": 12,
   "metadata": {},
   "outputs": [],
   "source": [
    "X = data.drop('is_ultra', axis=1)\n",
    "y = data['is_ultra']"
   ]
  },
  {
   "cell_type": "markdown",
   "metadata": {},
   "source": [
    "Делим данные на **тренировочную** и **валидационную** выборки."
   ]
  },
  {
   "cell_type": "code",
   "execution_count": 13,
   "metadata": {},
   "outputs": [],
   "source": [
    "X_train, X_valid, y_train, y_valid = train_test_split(X, y, test_size=0.4, random_state=12345, stratify=y)"
   ]
  },
  {
   "cell_type": "markdown",
   "metadata": {},
   "source": [
    "Делим выборку на **валидационную** и **тестовую.**"
   ]
  },
  {
   "cell_type": "code",
   "execution_count": 14,
   "metadata": {},
   "outputs": [],
   "source": [
    "X_valid, X_test, y_valid, y_test = train_test_split(X_valid, y_valid, test_size=0.5, random_state=12345, stratify=y_valid)"
   ]
  },
  {
   "cell_type": "markdown",
   "metadata": {},
   "source": [
    "**P.S. Указываем stratify=y, чтобы сохранить соотношение классов при разбиении.**"
   ]
  },
  {
   "cell_type": "markdown",
   "metadata": {},
   "source": [
    "## Исследуйте модели"
   ]
  },
  {
   "cell_type": "markdown",
   "metadata": {},
   "source": [
    "Так как **целевой признак категориальный**, то решается задача `классификации`, в частности речь идёт о бинарной (двоичной) классификации (либо `Smart`, либо `Ultra`).\n",
    "\n",
    "**Признаки** - `calls`, `minutes`, `messages` и `mb_used`\n",
    "\n",
    "**Цель** - `is_ultra`"
   ]
  },
  {
   "cell_type": "code",
   "execution_count": 15,
   "metadata": {},
   "outputs": [],
   "source": [
    "features_test = data_test.drop('is_ultra', axis=1)\n",
    "target_test = data_test['is_ultra']\n",
    "\n",
    "features_train = data_train.drop('is_ultra', axis=1)\n",
    "target_train = data_train['is_ultra']\n",
    "\n",
    "features_valid = data_valid.drop('is_ultra', axis=1)\n",
    "target_valid = data_valid['is_ultra']"
   ]
  },
  {
   "cell_type": "markdown",
   "metadata": {},
   "source": [
    "### Модель решаюшего дерева"
   ]
  },
  {
   "cell_type": "code",
   "execution_count": 16,
   "metadata": {},
   "outputs": [],
   "source": [
    "best_model_tree = None\n",
    "best_result_tree = 0"
   ]
  },
  {
   "cell_type": "code",
   "execution_count": 17,
   "metadata": {
    "scrolled": false
   },
   "outputs": [
    {
     "name": "stdout",
     "output_type": "stream",
     "text": [
      "max_depth = 2 | 0.7574\n",
      "max_depth = 4 | 0.7636\n",
      "max_depth = 6 | 0.7574\n",
      "max_depth = 8 | 0.7667\n",
      "max_depth = 10 | 0.7714\n",
      "max_depth = 12 | 0.7558\n",
      "max_depth = 14 | 0.7574\n",
      "max_depth = 16 | 0.7496\n",
      "max_depth = 18 | 0.7418\n",
      "max_depth = 20 | 0.7294\n"
     ]
    }
   ],
   "source": [
    "for depth in range(2, 22, 2):\n",
    "    model_tree = DecisionTreeClassifier(random_state=12345, max_depth=depth) \n",
    "    model_tree.fit(features_train, target_train) \n",
    "    predictions_tree = model_tree.predict(features_valid) \n",
    "    result_tree = accuracy_score(target_valid, predictions_tree) \n",
    "    print(\"max_depth =\", depth, \"| \", end='')\n",
    "    print(accuracy_score(target_valid, predictions_tree).round(4))\n",
    "    if result_tree > best_result_tree:\n",
    "        best_model_tree = model_tree\n",
    "        best_result_tree = result_tree"
   ]
  },
  {
   "cell_type": "code",
   "execution_count": 18,
   "metadata": {},
   "outputs": [
    {
     "name": "stdout",
     "output_type": "stream",
     "text": [
      "Лучшая модель: DecisionTreeClassifier(max_depth=10, random_state=12345)\n",
      "Accuracy лучшей модели: 0.77\n"
     ]
    }
   ],
   "source": [
    "print(\"Лучшая модель:\", best_model_tree)\n",
    "print(\"Accuracy лучшей модели:\", best_result_tree.round(2))"
   ]
  },
  {
   "cell_type": "markdown",
   "metadata": {},
   "source": [
    "### Модель случайного леса"
   ]
  },
  {
   "cell_type": "code",
   "execution_count": 19,
   "metadata": {},
   "outputs": [],
   "source": [
    "best_model_forest = None\n",
    "best_result_forest = 0"
   ]
  },
  {
   "cell_type": "code",
   "execution_count": 20,
   "metadata": {
    "scrolled": false
   },
   "outputs": [
    {
     "name": "stdout",
     "output_type": "stream",
     "text": [
      "n_estimators = 100 | depth = 14 | 0.7963\n",
      "n_estimators = 150 | depth = 14 | 0.7916\n",
      "n_estimators = 200 | depth = 14 | 0.79\n",
      "n_estimators = 250 | depth = 14 | 0.7916\n",
      "n_estimators = 300 | depth = 14 | 0.79\n",
      "n_estimators = 350 | depth = 14 | 0.7932\n",
      "n_estimators = 400 | depth = 14 | 0.7916\n",
      "n_estimators = 450 | depth = 14 | 0.7932\n",
      "n_estimators = 100 | depth = 16 | 0.8009\n",
      "n_estimators = 150 | depth = 16 | 0.7994\n",
      "n_estimators = 200 | depth = 16 | 0.8009\n",
      "n_estimators = 250 | depth = 16 | 0.7978\n",
      "n_estimators = 300 | depth = 16 | 0.7978\n",
      "n_estimators = 350 | depth = 16 | 0.8025\n",
      "n_estimators = 400 | depth = 16 | 0.8009\n",
      "n_estimators = 450 | depth = 16 | 0.7994\n"
     ]
    }
   ],
   "source": [
    "for depth in range(14, 18, 2):\n",
    "    for est in range(100, 500, 50):\n",
    "        model_forest = RandomForestClassifier(random_state=12345, max_depth=depth, n_estimators=est) \n",
    "        model_forest.fit(features_train, target_train) \n",
    "        predictions_forest = model_forest.predict(features_valid) \n",
    "        result_forest = accuracy_score(target_valid, predictions_forest) \n",
    "        print(\"n_estimators =\", est, \"|\", \"depth =\", depth, \"| \",  end='')\n",
    "        print(result_forest.round(4))\n",
    "        if result_forest > best_result_forest:\n",
    "            best_model_forest = model_forest\n",
    "            best_result_forest = result_forest"
   ]
  },
  {
   "cell_type": "code",
   "execution_count": 21,
   "metadata": {},
   "outputs": [
    {
     "name": "stdout",
     "output_type": "stream",
     "text": [
      "Лучшая модель: RandomForestClassifier(max_depth=16, n_estimators=350, random_state=12345)\n",
      "Accuracy наилучшей модели на валидационной выборке: 0.8\n"
     ]
    }
   ],
   "source": [
    "print(\"Лучшая модель:\", best_model_forest)\n",
    "print(\"Accuracy наилучшей модели на валидационной выборке:\", best_result_forest.round(2))"
   ]
  },
  {
   "cell_type": "markdown",
   "metadata": {},
   "source": [
    "### Логистическая регрессия"
   ]
  },
  {
   "cell_type": "code",
   "execution_count": 22,
   "metadata": {},
   "outputs": [
    {
     "name": "stdout",
     "output_type": "stream",
     "text": [
      "Accuracy модели (логистическая регрессия) на валидационной выборке: 0.73\n"
     ]
    }
   ],
   "source": [
    "model_regression = LogisticRegression(random_state=12345, solver='lbfgs', max_iter=100)\n",
    "model_regression.fit(features_train, target_train) \n",
    "result_regression = model_regression.score(features_valid, target_valid).round(4)\n",
    "\n",
    "print(\"Accuracy модели (логистическая регрессия) на валидационной выборке:\", result_regression.round(2))"
   ]
  },
  {
   "cell_type": "markdown",
   "metadata": {},
   "source": [
    "### Вывод"
   ]
  },
  {
   "cell_type": "code",
   "execution_count": 23,
   "metadata": {},
   "outputs": [
    {
     "name": "stdout",
     "output_type": "stream",
     "text": [
      "Модель решаюшего дерева:  0.77\n",
      "Модель случайного леса:  0.8\n",
      "Логистическая регрессия:  0.73\n"
     ]
    }
   ],
   "source": [
    "print('Модель решаюшего дерева: ', best_result_tree.round(2))\n",
    "print('Модель случайного леса: ', best_result_forest.round(2))\n",
    "print('Логистическая регрессия: ', result_regression.round(2))"
   ]
  },
  {
   "cell_type": "markdown",
   "metadata": {},
   "source": [
    "Заметим, что по валидационной выборке уже двух из трех моделей удалось достичь **точности равной 0.75.** Увеличим точность, обучив модели на тестовой выборке."
   ]
  },
  {
   "cell_type": "markdown",
   "metadata": {},
   "source": [
    "## Проверьте модель на тестовой выборке"
   ]
  },
  {
   "cell_type": "markdown",
   "metadata": {},
   "source": [
    "### Модель решаюшего дерева"
   ]
  },
  {
   "cell_type": "code",
   "execution_count": 24,
   "metadata": {},
   "outputs": [
    {
     "name": "stdout",
     "output_type": "stream",
     "text": [
      "Модель решаюшего дерева:  0.77\n"
     ]
    }
   ],
   "source": [
    "best_model_tree.fit(features_train, target_train) \n",
    "predictions_tree = best_model_tree.predict(features_test) \n",
    "result_tree = accuracy_score(target_test, predictions_tree).round(2) \n",
    "print('Модель решаюшего дерева: ', result_tree)"
   ]
  },
  {
   "cell_type": "markdown",
   "metadata": {},
   "source": [
    "### Модель случайного леса"
   ]
  },
  {
   "cell_type": "code",
   "execution_count": 25,
   "metadata": {},
   "outputs": [
    {
     "name": "stdout",
     "output_type": "stream",
     "text": [
      "Модель случайного леса:  0.79\n"
     ]
    }
   ],
   "source": [
    "best_model_forest.fit(features_train, target_train) \n",
    "predictions_forest = best_model_forest.predict(features_test) \n",
    "result_forest = accuracy_score(target_test, predictions_forest).round(2) \n",
    "print('Модель случайного леса: ', result_forest)"
   ]
  },
  {
   "cell_type": "markdown",
   "metadata": {},
   "source": [
    "### Логистическая регрессия"
   ]
  },
  {
   "cell_type": "code",
   "execution_count": 26,
   "metadata": {},
   "outputs": [
    {
     "name": "stdout",
     "output_type": "stream",
     "text": [
      "Логистическая регрессия:  0.76\n"
     ]
    }
   ],
   "source": [
    "model_regression.fit(features_train, target_train) \n",
    "predictions_regression = model_regression.predict(features_test)\n",
    "result_regression = model_regression.score(features_test, target_test).round(2)\n",
    "print('Логистическая регрессия: ', result_regression)"
   ]
  },
  {
   "cell_type": "markdown",
   "metadata": {},
   "source": [
    "### Вывод"
   ]
  },
  {
   "cell_type": "code",
   "execution_count": 27,
   "metadata": {
    "scrolled": true
   },
   "outputs": [
    {
     "name": "stdout",
     "output_type": "stream",
     "text": [
      "Модель решаюшего дерева: 0.77\n",
      "Модель случайного леса: 0.79\n",
      "Логистическая регрессия: 0.76\n"
     ]
    }
   ],
   "source": [
    "print('Модель решаюшего дерева:' , result_tree)\n",
    "print('Модель случайного леса:' , result_forest)\n",
    "print('Логистическая регрессия:' , result_regression)"
   ]
  },
  {
   "cell_type": "markdown",
   "metadata": {},
   "source": [
    "**Все модели достигли точности не меньше 0.75.**"
   ]
  },
  {
   "cell_type": "markdown",
   "metadata": {},
   "source": [
    "## (бонус) Проверьте модели на адекватность"
   ]
  },
  {
   "cell_type": "code",
   "execution_count": 28,
   "metadata": {},
   "outputs": [
    {
     "name": "stdout",
     "output_type": "stream",
     "text": [
      "Проверка модели на адекватность: 0.58\n"
     ]
    },
    {
     "name": "stderr",
     "output_type": "stream",
     "text": [
      "C:\\ProgramData\\Anaconda3\\lib\\site-packages\\sklearn\\dummy.py:131: FutureWarning: The default value of strategy will change from stratified to prior in 0.24.\n",
      "  warnings.warn(\"The default value of strategy will change from \"\n"
     ]
    }
   ],
   "source": [
    "model_dummy = DummyClassifier(random_state=12345) \n",
    "model_dummy.fit(features_train, target_train) \n",
    "predictions_model_dummy = model_dummy.predict(features_test) \n",
    "result_dummy = accuracy_score(target_test, predictions_model_dummy).round(2) \n",
    "print('Проверка модели на адекватность:', result_dummy)"
   ]
  },
  {
   "cell_type": "markdown",
   "metadata": {},
   "source": [
    "## Вывод"
   ]
  },
  {
   "cell_type": "markdown",
   "metadata": {},
   "source": [
    "По достигнутым моделям рекомендуется тариф \"Ультра\" для получения максимальной прибыли. В ходе исследования использовались три модели: решаюшего дерева, случайного леса и логистическая регрессия; с точностью не менее 0.75."
   ]
  }
 ],
 "metadata": {
  "ExecuteTimeLog": [
   {
    "duration": 48,
    "start_time": "2022-05-30T19:08:16.687Z"
   },
   {
    "duration": 782,
    "start_time": "2022-05-30T19:08:19.506Z"
   },
   {
    "duration": 130,
    "start_time": "2022-05-30T19:08:42.427Z"
   },
   {
    "duration": 43,
    "start_time": "2022-05-30T19:09:40.931Z"
   },
   {
    "duration": 9,
    "start_time": "2022-05-30T19:11:13.549Z"
   },
   {
    "duration": 83,
    "start_time": "2022-05-30T19:11:46.496Z"
   },
   {
    "duration": 12,
    "start_time": "2022-05-30T19:11:55.341Z"
   },
   {
    "duration": 4,
    "start_time": "2022-05-30T19:12:10.944Z"
   },
   {
    "duration": 14,
    "start_time": "2022-05-30T19:12:22.455Z"
   },
   {
    "duration": 6,
    "start_time": "2022-05-30T19:12:34.853Z"
   },
   {
    "duration": 20,
    "start_time": "2022-05-30T19:13:44.414Z"
   },
   {
    "duration": 26,
    "start_time": "2022-05-30T19:13:54.901Z"
   },
   {
    "duration": 19,
    "start_time": "2022-05-30T19:14:29.848Z"
   },
   {
    "duration": 22,
    "start_time": "2022-05-30T19:14:53.570Z"
   },
   {
    "duration": 31,
    "start_time": "2022-05-30T19:15:11.334Z"
   },
   {
    "duration": 13,
    "start_time": "2022-05-30T19:15:12.186Z"
   },
   {
    "duration": 15,
    "start_time": "2022-05-30T19:15:33.615Z"
   },
   {
    "duration": 408,
    "start_time": "2022-05-30T19:15:46.190Z"
   },
   {
    "duration": 29,
    "start_time": "2022-05-30T19:15:46.600Z"
   },
   {
    "duration": 24,
    "start_time": "2022-05-30T19:15:46.631Z"
   },
   {
    "duration": 45,
    "start_time": "2022-05-30T19:15:46.657Z"
   },
   {
    "duration": 22,
    "start_time": "2022-05-30T19:15:46.704Z"
   },
   {
    "duration": 14,
    "start_time": "2022-05-30T19:16:00.440Z"
   },
   {
    "duration": 7,
    "start_time": "2022-05-30T19:16:12.902Z"
   },
   {
    "duration": 6,
    "start_time": "2022-05-30T19:16:35.823Z"
   },
   {
    "duration": 418,
    "start_time": "2022-05-30T19:16:54.289Z"
   },
   {
    "duration": 31,
    "start_time": "2022-05-30T19:16:54.708Z"
   },
   {
    "duration": 16,
    "start_time": "2022-05-30T19:16:54.741Z"
   },
   {
    "duration": 148,
    "start_time": "2022-05-30T19:16:54.759Z"
   },
   {
    "duration": 0,
    "start_time": "2022-05-30T19:16:54.909Z"
   },
   {
    "duration": 0,
    "start_time": "2022-05-30T19:16:54.912Z"
   },
   {
    "duration": 43,
    "start_time": "2022-05-30T19:17:24.351Z"
   },
   {
    "duration": 20,
    "start_time": "2022-05-30T19:17:24.677Z"
   },
   {
    "duration": 21,
    "start_time": "2022-05-30T19:17:25.951Z"
   },
   {
    "duration": 7,
    "start_time": "2022-05-30T19:17:33.016Z"
   },
   {
    "duration": 18,
    "start_time": "2022-05-30T19:21:25.388Z"
   },
   {
    "duration": 8,
    "start_time": "2022-05-30T19:21:40.979Z"
   },
   {
    "duration": 8,
    "start_time": "2022-05-30T19:32:29.309Z"
   },
   {
    "duration": 10,
    "start_time": "2022-05-30T19:32:47.854Z"
   },
   {
    "duration": 448,
    "start_time": "2022-05-30T19:33:07.750Z"
   },
   {
    "duration": 29,
    "start_time": "2022-05-30T19:33:08.200Z"
   },
   {
    "duration": 26,
    "start_time": "2022-05-30T19:33:08.230Z"
   },
   {
    "duration": 8,
    "start_time": "2022-05-30T19:33:08.260Z"
   },
   {
    "duration": 16,
    "start_time": "2022-05-30T19:33:08.273Z"
   },
   {
    "duration": 16,
    "start_time": "2022-05-30T19:33:08.290Z"
   },
   {
    "duration": 14,
    "start_time": "2022-05-30T19:33:08.308Z"
   },
   {
    "duration": 7,
    "start_time": "2022-05-30T19:33:08.323Z"
   },
   {
    "duration": 9,
    "start_time": "2022-05-30T19:36:18.564Z"
   },
   {
    "duration": 10,
    "start_time": "2022-05-30T19:36:24.857Z"
   },
   {
    "duration": 418,
    "start_time": "2022-05-30T19:36:28.982Z"
   },
   {
    "duration": 31,
    "start_time": "2022-05-30T19:36:29.402Z"
   },
   {
    "duration": 33,
    "start_time": "2022-05-30T19:36:29.435Z"
   },
   {
    "duration": 8,
    "start_time": "2022-05-30T19:36:29.471Z"
   },
   {
    "duration": 16,
    "start_time": "2022-05-30T19:36:29.481Z"
   },
   {
    "duration": 7,
    "start_time": "2022-05-30T19:36:29.499Z"
   },
   {
    "duration": 11,
    "start_time": "2022-05-30T19:36:29.507Z"
   },
   {
    "duration": 6,
    "start_time": "2022-05-30T19:36:29.520Z"
   },
   {
    "duration": 53,
    "start_time": "2022-05-31T08:02:38.222Z"
   },
   {
    "duration": 455,
    "start_time": "2022-05-31T08:02:42.717Z"
   },
   {
    "duration": 118,
    "start_time": "2022-05-31T08:02:43.173Z"
   },
   {
    "duration": 24,
    "start_time": "2022-05-31T08:02:43.293Z"
   },
   {
    "duration": 5,
    "start_time": "2022-05-31T08:02:43.319Z"
   },
   {
    "duration": 7,
    "start_time": "2022-05-31T08:02:43.326Z"
   },
   {
    "duration": 5,
    "start_time": "2022-05-31T08:02:43.334Z"
   },
   {
    "duration": 7,
    "start_time": "2022-05-31T08:02:43.340Z"
   },
   {
    "duration": 7,
    "start_time": "2022-05-31T08:02:43.348Z"
   },
   {
    "duration": 6,
    "start_time": "2022-05-31T08:02:51.943Z"
   },
   {
    "duration": 406,
    "start_time": "2022-05-31T08:03:53.669Z"
   },
   {
    "duration": 30,
    "start_time": "2022-05-31T08:03:54.076Z"
   },
   {
    "duration": 23,
    "start_time": "2022-05-31T08:03:54.108Z"
   },
   {
    "duration": 5,
    "start_time": "2022-05-31T08:03:54.134Z"
   },
   {
    "duration": 10,
    "start_time": "2022-05-31T08:03:54.140Z"
   },
   {
    "duration": 6,
    "start_time": "2022-05-31T08:03:54.151Z"
   },
   {
    "duration": 7,
    "start_time": "2022-05-31T08:03:54.158Z"
   },
   {
    "duration": 5,
    "start_time": "2022-05-31T08:03:54.166Z"
   },
   {
    "duration": 392,
    "start_time": "2022-05-31T08:05:13.248Z"
   },
   {
    "duration": 29,
    "start_time": "2022-05-31T08:05:13.642Z"
   },
   {
    "duration": 24,
    "start_time": "2022-05-31T08:05:13.673Z"
   },
   {
    "duration": 6,
    "start_time": "2022-05-31T08:05:13.699Z"
   },
   {
    "duration": 7,
    "start_time": "2022-05-31T08:05:13.707Z"
   },
   {
    "duration": 13,
    "start_time": "2022-05-31T08:05:13.715Z"
   },
   {
    "duration": 8,
    "start_time": "2022-05-31T08:05:13.730Z"
   },
   {
    "duration": 27,
    "start_time": "2022-05-31T08:05:13.740Z"
   },
   {
    "duration": 70,
    "start_time": "2022-05-31T08:21:34.051Z"
   },
   {
    "duration": 15,
    "start_time": "2022-05-31T08:21:47.098Z"
   },
   {
    "duration": 466,
    "start_time": "2022-05-31T08:21:53.332Z"
   },
   {
    "duration": 9,
    "start_time": "2022-05-31T08:22:00.622Z"
   },
   {
    "duration": 4,
    "start_time": "2022-05-31T08:22:09.022Z"
   },
   {
    "duration": 53,
    "start_time": "2022-05-31T08:25:37.976Z"
   },
   {
    "duration": 956,
    "start_time": "2022-05-31T08:25:54.226Z"
   },
   {
    "duration": 3,
    "start_time": "2022-05-31T08:26:16.229Z"
   },
   {
    "duration": 19,
    "start_time": "2022-05-31T08:27:01.467Z"
   },
   {
    "duration": 976,
    "start_time": "2022-06-06T08:00:35.679Z"
   },
   {
    "duration": 118,
    "start_time": "2022-06-06T08:00:36.657Z"
   },
   {
    "duration": 25,
    "start_time": "2022-06-06T08:00:36.777Z"
   },
   {
    "duration": 6,
    "start_time": "2022-06-06T08:00:36.803Z"
   },
   {
    "duration": 9,
    "start_time": "2022-06-06T08:00:36.811Z"
   },
   {
    "duration": 5,
    "start_time": "2022-06-06T08:00:36.822Z"
   },
   {
    "duration": 6,
    "start_time": "2022-06-06T08:00:36.829Z"
   },
   {
    "duration": 5,
    "start_time": "2022-06-06T08:00:36.836Z"
   },
   {
    "duration": 9,
    "start_time": "2022-06-06T08:00:36.864Z"
   },
   {
    "duration": 138,
    "start_time": "2022-06-06T08:00:36.875Z"
   },
   {
    "duration": 0,
    "start_time": "2022-06-06T08:00:37.015Z"
   },
   {
    "duration": 24,
    "start_time": "2022-06-06T08:00:43.462Z"
   },
   {
    "duration": 5,
    "start_time": "2022-06-06T08:00:45.276Z"
   },
   {
    "duration": 12,
    "start_time": "2022-06-06T08:00:52.424Z"
   },
   {
    "duration": 977,
    "start_time": "2022-06-06T08:12:44.160Z"
   },
   {
    "duration": 39,
    "start_time": "2022-06-06T08:12:45.139Z"
   },
   {
    "duration": 26,
    "start_time": "2022-06-06T08:12:45.183Z"
   },
   {
    "duration": 6,
    "start_time": "2022-06-06T08:12:45.211Z"
   },
   {
    "duration": 7,
    "start_time": "2022-06-06T08:12:45.218Z"
   },
   {
    "duration": 7,
    "start_time": "2022-06-06T08:12:45.227Z"
   },
   {
    "duration": 38,
    "start_time": "2022-06-06T08:12:45.235Z"
   },
   {
    "duration": 6,
    "start_time": "2022-06-06T08:12:45.276Z"
   },
   {
    "duration": 32,
    "start_time": "2022-06-06T08:12:45.284Z"
   },
   {
    "duration": 119,
    "start_time": "2022-06-06T08:19:05.060Z"
   },
   {
    "duration": 9,
    "start_time": "2022-06-06T08:19:15.125Z"
   },
   {
    "duration": 985,
    "start_time": "2022-06-06T08:19:24.510Z"
   },
   {
    "duration": 33,
    "start_time": "2022-06-06T08:19:25.497Z"
   },
   {
    "duration": 49,
    "start_time": "2022-06-06T08:19:25.532Z"
   },
   {
    "duration": 7,
    "start_time": "2022-06-06T08:19:25.583Z"
   },
   {
    "duration": 8,
    "start_time": "2022-06-06T08:19:25.592Z"
   },
   {
    "duration": 8,
    "start_time": "2022-06-06T08:19:25.602Z"
   },
   {
    "duration": 11,
    "start_time": "2022-06-06T08:19:25.611Z"
   },
   {
    "duration": 6,
    "start_time": "2022-06-06T08:19:25.624Z"
   },
   {
    "duration": 148,
    "start_time": "2022-06-06T08:19:25.632Z"
   },
   {
    "duration": 0,
    "start_time": "2022-06-06T08:19:25.783Z"
   },
   {
    "duration": 1087,
    "start_time": "2022-06-06T11:08:19.226Z"
   },
   {
    "duration": 30,
    "start_time": "2022-06-06T11:08:20.315Z"
   },
   {
    "duration": 26,
    "start_time": "2022-06-06T11:08:20.347Z"
   },
   {
    "duration": 7,
    "start_time": "2022-06-06T11:08:20.376Z"
   },
   {
    "duration": 12,
    "start_time": "2022-06-06T11:08:20.386Z"
   },
   {
    "duration": 9,
    "start_time": "2022-06-06T11:08:20.400Z"
   },
   {
    "duration": 12,
    "start_time": "2022-06-06T11:08:20.411Z"
   },
   {
    "duration": 13,
    "start_time": "2022-06-06T11:08:20.425Z"
   },
   {
    "duration": 153,
    "start_time": "2022-06-06T11:08:20.440Z"
   },
   {
    "duration": 0,
    "start_time": "2022-06-06T11:08:20.595Z"
   },
   {
    "duration": 1092,
    "start_time": "2022-06-09T07:31:46.031Z"
   },
   {
    "duration": 172,
    "start_time": "2022-06-09T07:31:47.125Z"
   },
   {
    "duration": 32,
    "start_time": "2022-06-09T07:31:47.302Z"
   },
   {
    "duration": 8,
    "start_time": "2022-06-09T07:31:47.336Z"
   },
   {
    "duration": 86,
    "start_time": "2022-06-09T07:31:47.345Z"
   },
   {
    "duration": 11,
    "start_time": "2022-06-09T07:31:47.433Z"
   },
   {
    "duration": 59,
    "start_time": "2022-06-09T07:31:47.446Z"
   },
   {
    "duration": 16,
    "start_time": "2022-06-09T07:31:47.508Z"
   },
   {
    "duration": 166,
    "start_time": "2022-06-09T07:31:47.526Z"
   },
   {
    "duration": 0,
    "start_time": "2022-06-09T07:31:47.694Z"
   },
   {
    "duration": 2,
    "start_time": "2022-06-09T07:32:19.300Z"
   },
   {
    "duration": 38,
    "start_time": "2022-06-09T07:32:20.908Z"
   },
   {
    "duration": 88,
    "start_time": "2022-06-09T07:32:42.144Z"
   },
   {
    "duration": 125,
    "start_time": "2022-06-09T07:33:05.795Z"
   },
   {
    "duration": 109,
    "start_time": "2022-06-09T07:33:52.682Z"
   },
   {
    "duration": 114,
    "start_time": "2022-06-09T07:34:20.433Z"
   },
   {
    "duration": 73,
    "start_time": "2022-06-09T07:34:51.391Z"
   },
   {
    "duration": 91,
    "start_time": "2022-06-09T07:35:42.356Z"
   },
   {
    "duration": 112,
    "start_time": "2022-06-09T09:42:20.281Z"
   },
   {
    "duration": 289,
    "start_time": "2022-06-09T09:42:32.089Z"
   },
   {
    "duration": 10,
    "start_time": "2022-06-09T09:43:23.644Z"
   },
   {
    "duration": 7,
    "start_time": "2022-06-09T09:43:29.183Z"
   },
   {
    "duration": 270,
    "start_time": "2022-06-09T09:43:33.296Z"
   },
   {
    "duration": 17,
    "start_time": "2022-06-09T09:43:37.148Z"
   },
   {
    "duration": 40,
    "start_time": "2022-06-09T09:43:55.996Z"
   },
   {
    "duration": 4168,
    "start_time": "2022-06-09T09:45:05.775Z"
   },
   {
    "duration": 129,
    "start_time": "2022-06-09T09:45:09.945Z"
   },
   {
    "duration": 38,
    "start_time": "2022-06-09T09:45:10.076Z"
   },
   {
    "duration": 7,
    "start_time": "2022-06-09T09:45:10.116Z"
   },
   {
    "duration": 7,
    "start_time": "2022-06-09T09:45:10.126Z"
   },
   {
    "duration": 9,
    "start_time": "2022-06-09T09:45:10.135Z"
   },
   {
    "duration": 15,
    "start_time": "2022-06-09T09:45:10.146Z"
   },
   {
    "duration": 18,
    "start_time": "2022-06-09T09:45:10.168Z"
   },
   {
    "duration": 18,
    "start_time": "2022-06-09T09:45:10.188Z"
   },
   {
    "duration": 124,
    "start_time": "2022-06-09T09:45:10.208Z"
   },
   {
    "duration": 22,
    "start_time": "2022-06-09T09:47:15.191Z"
   },
   {
    "duration": 233,
    "start_time": "2022-06-09T09:47:52.652Z"
   },
   {
    "duration": 11,
    "start_time": "2022-06-09T09:50:35.603Z"
   },
   {
    "duration": 12,
    "start_time": "2022-06-09T09:50:40.835Z"
   },
   {
    "duration": 919,
    "start_time": "2022-06-09T09:50:44.183Z"
   },
   {
    "duration": 947,
    "start_time": "2022-06-09T09:51:24.241Z"
   },
   {
    "duration": 20,
    "start_time": "2022-06-09T09:53:00.324Z"
   },
   {
    "duration": 1059,
    "start_time": "2022-06-09T09:53:17.358Z"
   },
   {
    "duration": 1266,
    "start_time": "2022-06-09T09:53:26.484Z"
   },
   {
    "duration": 42,
    "start_time": "2022-06-09T09:53:27.752Z"
   },
   {
    "duration": 82,
    "start_time": "2022-06-09T09:53:27.796Z"
   },
   {
    "duration": 14,
    "start_time": "2022-06-09T09:53:27.888Z"
   },
   {
    "duration": 41,
    "start_time": "2022-06-09T09:53:27.910Z"
   },
   {
    "duration": 74,
    "start_time": "2022-06-09T09:53:27.953Z"
   },
   {
    "duration": 15,
    "start_time": "2022-06-09T09:53:28.029Z"
   },
   {
    "duration": 9,
    "start_time": "2022-06-09T09:53:28.046Z"
   },
   {
    "duration": 61,
    "start_time": "2022-06-09T09:53:28.057Z"
   },
   {
    "duration": 286,
    "start_time": "2022-06-09T09:53:28.119Z"
   },
   {
    "duration": 967,
    "start_time": "2022-06-09T09:53:28.408Z"
   },
   {
    "duration": 1062,
    "start_time": "2022-06-09T09:55:27.084Z"
   },
   {
    "duration": 1200,
    "start_time": "2022-06-09T09:55:39.851Z"
   },
   {
    "duration": 50,
    "start_time": "2022-06-09T09:55:41.052Z"
   },
   {
    "duration": 36,
    "start_time": "2022-06-09T09:55:41.104Z"
   },
   {
    "duration": 7,
    "start_time": "2022-06-09T09:55:41.142Z"
   },
   {
    "duration": 10,
    "start_time": "2022-06-09T09:55:41.152Z"
   },
   {
    "duration": 52,
    "start_time": "2022-06-09T09:55:41.164Z"
   },
   {
    "duration": 8,
    "start_time": "2022-06-09T09:55:41.218Z"
   },
   {
    "duration": 5,
    "start_time": "2022-06-09T09:55:41.228Z"
   },
   {
    "duration": 6,
    "start_time": "2022-06-09T09:55:41.235Z"
   },
   {
    "duration": 235,
    "start_time": "2022-06-09T09:55:41.243Z"
   },
   {
    "duration": 973,
    "start_time": "2022-06-09T09:55:41.480Z"
   },
   {
    "duration": 1203,
    "start_time": "2022-06-09T09:55:50.840Z"
   },
   {
    "duration": 57,
    "start_time": "2022-06-09T09:55:52.045Z"
   },
   {
    "duration": 26,
    "start_time": "2022-06-09T09:55:52.105Z"
   },
   {
    "duration": 5,
    "start_time": "2022-06-09T09:55:52.133Z"
   },
   {
    "duration": 9,
    "start_time": "2022-06-09T09:55:52.141Z"
   },
   {
    "duration": 11,
    "start_time": "2022-06-09T09:55:52.152Z"
   },
   {
    "duration": 47,
    "start_time": "2022-06-09T09:55:52.165Z"
   },
   {
    "duration": 6,
    "start_time": "2022-06-09T09:55:52.214Z"
   },
   {
    "duration": 7,
    "start_time": "2022-06-09T09:55:52.221Z"
   },
   {
    "duration": 216,
    "start_time": "2022-06-09T09:55:52.230Z"
   },
   {
    "duration": 1020,
    "start_time": "2022-06-09T09:55:52.448Z"
   },
   {
    "duration": 5,
    "start_time": "2022-06-09T10:22:01.486Z"
   },
   {
    "duration": 5,
    "start_time": "2022-06-09T10:33:12.396Z"
   },
   {
    "duration": 5,
    "start_time": "2022-06-09T10:33:16.223Z"
   },
   {
    "duration": 3,
    "start_time": "2022-06-09T10:34:10.543Z"
   },
   {
    "duration": 4,
    "start_time": "2022-06-09T10:34:20.728Z"
   },
   {
    "duration": 115,
    "start_time": "2022-06-09T10:35:04.185Z"
   },
   {
    "duration": 5,
    "start_time": "2022-06-09T10:35:13.844Z"
   },
   {
    "duration": 5,
    "start_time": "2022-06-09T10:38:02.711Z"
   },
   {
    "duration": 7,
    "start_time": "2022-06-09T10:38:03.105Z"
   },
   {
    "duration": 4,
    "start_time": "2022-06-09T10:38:03.443Z"
   },
   {
    "duration": 4,
    "start_time": "2022-06-09T10:38:11.048Z"
   },
   {
    "duration": 3,
    "start_time": "2022-06-09T10:38:11.539Z"
   },
   {
    "duration": 6,
    "start_time": "2022-06-09T10:38:31.701Z"
   },
   {
    "duration": 4,
    "start_time": "2022-06-09T10:38:31.946Z"
   },
   {
    "duration": 3,
    "start_time": "2022-06-09T10:38:32.326Z"
   },
   {
    "duration": 4,
    "start_time": "2022-06-09T10:38:46.333Z"
   },
   {
    "duration": 14,
    "start_time": "2022-06-09T10:38:46.772Z"
   },
   {
    "duration": 4,
    "start_time": "2022-06-09T10:38:47.247Z"
   },
   {
    "duration": 5,
    "start_time": "2022-06-09T10:39:30.981Z"
   },
   {
    "duration": 4,
    "start_time": "2022-06-09T10:39:37.370Z"
   },
   {
    "duration": 5,
    "start_time": "2022-06-09T10:39:41.473Z"
   },
   {
    "duration": 4,
    "start_time": "2022-06-09T10:39:46.236Z"
   },
   {
    "duration": 10,
    "start_time": "2022-06-09T10:39:58.880Z"
   },
   {
    "duration": 5,
    "start_time": "2022-06-09T10:40:04.207Z"
   },
   {
    "duration": 1165,
    "start_time": "2022-06-09T10:41:13.662Z"
   },
   {
    "duration": 33,
    "start_time": "2022-06-09T10:41:14.829Z"
   },
   {
    "duration": 43,
    "start_time": "2022-06-09T10:41:14.866Z"
   },
   {
    "duration": 14,
    "start_time": "2022-06-09T10:41:14.912Z"
   },
   {
    "duration": 29,
    "start_time": "2022-06-09T10:41:14.927Z"
   },
   {
    "duration": 61,
    "start_time": "2022-06-09T10:41:14.957Z"
   },
   {
    "duration": 27,
    "start_time": "2022-06-09T10:41:15.019Z"
   },
   {
    "duration": 13,
    "start_time": "2022-06-09T10:41:15.048Z"
   },
   {
    "duration": 69,
    "start_time": "2022-06-09T10:41:15.063Z"
   },
   {
    "duration": 7,
    "start_time": "2022-06-09T10:41:15.135Z"
   },
   {
    "duration": 6,
    "start_time": "2022-06-09T10:41:15.143Z"
   },
   {
    "duration": 230,
    "start_time": "2022-06-09T10:41:15.151Z"
   },
   {
    "duration": 971,
    "start_time": "2022-06-09T10:41:15.383Z"
   },
   {
    "duration": 212,
    "start_time": "2022-06-09T10:43:03.781Z"
   },
   {
    "duration": 1033,
    "start_time": "2022-06-09T10:43:17.284Z"
   },
   {
    "duration": 1022,
    "start_time": "2022-06-09T10:43:41.411Z"
   },
   {
    "duration": 123,
    "start_time": "2022-06-09T10:43:56.319Z"
   },
   {
    "duration": 225,
    "start_time": "2022-06-09T10:44:15.540Z"
   },
   {
    "duration": 33,
    "start_time": "2022-06-09T10:44:35.476Z"
   },
   {
    "duration": 1017,
    "start_time": "2022-06-09T10:44:44.776Z"
   },
   {
    "duration": 12,
    "start_time": "2022-06-09T11:22:50.360Z"
   },
   {
    "duration": 4,
    "start_time": "2022-06-09T11:23:20.535Z"
   },
   {
    "duration": 4530,
    "start_time": "2022-06-09T11:23:25.808Z"
   },
   {
    "duration": 4,
    "start_time": "2022-06-09T11:25:05.750Z"
   },
   {
    "duration": 740,
    "start_time": "2022-06-09T11:25:09.642Z"
   },
   {
    "duration": 1089,
    "start_time": "2022-06-09T11:25:16.683Z"
   },
   {
    "duration": 38,
    "start_time": "2022-06-09T11:25:17.774Z"
   },
   {
    "duration": 33,
    "start_time": "2022-06-09T11:25:17.814Z"
   },
   {
    "duration": 7,
    "start_time": "2022-06-09T11:25:17.849Z"
   },
   {
    "duration": 32,
    "start_time": "2022-06-09T11:25:17.859Z"
   },
   {
    "duration": 44,
    "start_time": "2022-06-09T11:25:17.894Z"
   },
   {
    "duration": 253,
    "start_time": "2022-06-09T11:25:17.940Z"
   },
   {
    "duration": 966,
    "start_time": "2022-06-09T11:25:18.195Z"
   },
   {
    "duration": 769,
    "start_time": "2022-06-09T11:25:19.162Z"
   },
   {
    "duration": 220,
    "start_time": "2022-06-09T11:26:44.914Z"
   },
   {
    "duration": 8,
    "start_time": "2022-06-09T11:27:36.381Z"
   },
   {
    "duration": 52,
    "start_time": "2022-06-14T05:50:09.137Z"
   },
   {
    "duration": 1076,
    "start_time": "2022-06-14T05:50:33.777Z"
   },
   {
    "duration": 147,
    "start_time": "2022-06-14T05:50:34.856Z"
   },
   {
    "duration": 32,
    "start_time": "2022-06-14T05:50:35.005Z"
   },
   {
    "duration": 5,
    "start_time": "2022-06-14T05:50:35.038Z"
   },
   {
    "duration": 8,
    "start_time": "2022-06-14T05:50:35.045Z"
   },
   {
    "duration": 6,
    "start_time": "2022-06-14T05:50:35.055Z"
   },
   {
    "duration": 25,
    "start_time": "2022-06-14T05:50:35.063Z"
   },
   {
    "duration": 205,
    "start_time": "2022-06-14T05:50:35.090Z"
   },
   {
    "duration": 962,
    "start_time": "2022-06-14T05:50:35.297Z"
   },
   {
    "duration": 54,
    "start_time": "2022-06-14T05:50:36.269Z"
   },
   {
    "duration": 1084,
    "start_time": "2022-06-14T05:51:42.790Z"
   },
   {
    "duration": 31,
    "start_time": "2022-06-14T05:51:43.877Z"
   },
   {
    "duration": 24,
    "start_time": "2022-06-14T05:51:43.910Z"
   },
   {
    "duration": 5,
    "start_time": "2022-06-14T05:51:43.936Z"
   },
   {
    "duration": 7,
    "start_time": "2022-06-14T05:51:43.943Z"
   },
   {
    "duration": 5,
    "start_time": "2022-06-14T05:51:43.952Z"
   },
   {
    "duration": 19,
    "start_time": "2022-06-14T05:51:43.959Z"
   },
   {
    "duration": 177,
    "start_time": "2022-06-14T05:51:43.980Z"
   },
   {
    "duration": 907,
    "start_time": "2022-06-14T05:51:44.174Z"
   },
   {
    "duration": 41,
    "start_time": "2022-06-14T05:51:45.083Z"
   },
   {
    "duration": 855,
    "start_time": "2022-06-14T05:52:09.552Z"
   },
   {
    "duration": 42,
    "start_time": "2022-06-14T05:54:09.918Z"
   },
   {
    "duration": 1134,
    "start_time": "2022-06-14T05:54:13.622Z"
   },
   {
    "duration": 33,
    "start_time": "2022-06-14T05:54:14.758Z"
   },
   {
    "duration": 26,
    "start_time": "2022-06-14T05:54:14.792Z"
   },
   {
    "duration": 5,
    "start_time": "2022-06-14T05:54:14.820Z"
   },
   {
    "duration": 6,
    "start_time": "2022-06-14T05:54:14.827Z"
   },
   {
    "duration": 5,
    "start_time": "2022-06-14T05:54:14.835Z"
   },
   {
    "duration": 7,
    "start_time": "2022-06-14T05:54:14.842Z"
   },
   {
    "duration": 111,
    "start_time": "2022-06-14T05:54:14.850Z"
   },
   {
    "duration": 0,
    "start_time": "2022-06-14T05:54:14.962Z"
   },
   {
    "duration": 0,
    "start_time": "2022-06-14T05:54:14.964Z"
   },
   {
    "duration": 1056,
    "start_time": "2022-06-14T05:54:28.987Z"
   },
   {
    "duration": 38,
    "start_time": "2022-06-14T05:54:30.045Z"
   },
   {
    "duration": 31,
    "start_time": "2022-06-14T05:54:30.085Z"
   },
   {
    "duration": 5,
    "start_time": "2022-06-14T05:54:30.118Z"
   },
   {
    "duration": 24,
    "start_time": "2022-06-14T05:54:30.124Z"
   },
   {
    "duration": 5,
    "start_time": "2022-06-14T05:54:30.150Z"
   },
   {
    "duration": 20,
    "start_time": "2022-06-14T05:54:30.157Z"
   },
   {
    "duration": 200,
    "start_time": "2022-06-14T05:54:30.180Z"
   },
   {
    "duration": 945,
    "start_time": "2022-06-14T05:54:30.383Z"
   },
   {
    "duration": 56,
    "start_time": "2022-06-14T05:54:31.329Z"
   },
   {
    "duration": 1198,
    "start_time": "2022-06-14T06:02:01.738Z"
   },
   {
    "duration": 40,
    "start_time": "2022-06-14T06:02:02.938Z"
   },
   {
    "duration": 30,
    "start_time": "2022-06-14T06:02:02.980Z"
   },
   {
    "duration": 10,
    "start_time": "2022-06-14T06:02:03.013Z"
   },
   {
    "duration": 29,
    "start_time": "2022-06-14T06:02:03.025Z"
   },
   {
    "duration": 31,
    "start_time": "2022-06-14T06:02:03.056Z"
   },
   {
    "duration": 31,
    "start_time": "2022-06-14T06:02:03.089Z"
   },
   {
    "duration": 237,
    "start_time": "2022-06-14T06:02:03.122Z"
   },
   {
    "duration": 1041,
    "start_time": "2022-06-14T06:02:03.365Z"
   },
   {
    "duration": 42,
    "start_time": "2022-06-14T06:02:04.408Z"
   },
   {
    "duration": 4,
    "start_time": "2022-06-14T06:03:23.520Z"
   },
   {
    "duration": 5,
    "start_time": "2022-06-14T06:04:44.901Z"
   },
   {
    "duration": 97,
    "start_time": "2022-06-14T06:10:47.901Z"
   },
   {
    "duration": 4,
    "start_time": "2022-06-14T06:10:52.676Z"
   },
   {
    "duration": 5,
    "start_time": "2022-06-14T06:13:21.010Z"
   },
   {
    "duration": 15,
    "start_time": "2022-06-14T06:14:31.072Z"
   },
   {
    "duration": 14,
    "start_time": "2022-06-14T06:14:44.438Z"
   },
   {
    "duration": 10,
    "start_time": "2022-06-14T06:15:13.550Z"
   },
   {
    "duration": 51,
    "start_time": "2022-06-14T06:15:57.353Z"
   },
   {
    "duration": 1085,
    "start_time": "2022-06-14T06:16:02.274Z"
   },
   {
    "duration": 32,
    "start_time": "2022-06-14T06:16:03.360Z"
   },
   {
    "duration": 27,
    "start_time": "2022-06-14T06:16:03.394Z"
   },
   {
    "duration": 21,
    "start_time": "2022-06-14T06:16:03.423Z"
   },
   {
    "duration": 29,
    "start_time": "2022-06-14T06:16:03.447Z"
   },
   {
    "duration": 18,
    "start_time": "2022-06-14T06:16:03.478Z"
   },
   {
    "duration": 24,
    "start_time": "2022-06-14T06:16:03.498Z"
   },
   {
    "duration": 241,
    "start_time": "2022-06-14T06:16:03.524Z"
   },
   {
    "duration": 913,
    "start_time": "2022-06-14T06:16:03.768Z"
   },
   {
    "duration": 39,
    "start_time": "2022-06-14T06:16:04.683Z"
   },
   {
    "duration": 4,
    "start_time": "2022-06-14T06:16:04.724Z"
   },
   {
    "duration": 24,
    "start_time": "2022-06-14T06:16:04.730Z"
   },
   {
    "duration": 50,
    "start_time": "2022-06-14T06:16:04.765Z"
   },
   {
    "duration": 4,
    "start_time": "2022-06-14T06:16:04.817Z"
   },
   {
    "duration": 1025,
    "start_time": "2022-06-14T06:20:39.714Z"
   },
   {
    "duration": 32,
    "start_time": "2022-06-14T06:20:40.741Z"
   },
   {
    "duration": 34,
    "start_time": "2022-06-14T06:20:40.774Z"
   },
   {
    "duration": 17,
    "start_time": "2022-06-14T06:20:40.809Z"
   },
   {
    "duration": 15,
    "start_time": "2022-06-14T06:20:40.829Z"
   },
   {
    "duration": 24,
    "start_time": "2022-06-14T06:20:40.846Z"
   },
   {
    "duration": 31,
    "start_time": "2022-06-14T06:20:40.871Z"
   },
   {
    "duration": 195,
    "start_time": "2022-06-14T06:20:40.903Z"
   },
   {
    "duration": 910,
    "start_time": "2022-06-14T06:20:41.100Z"
   },
   {
    "duration": 39,
    "start_time": "2022-06-14T06:20:42.011Z"
   },
   {
    "duration": 5,
    "start_time": "2022-06-14T06:20:42.065Z"
   },
   {
    "duration": 29,
    "start_time": "2022-06-14T06:20:42.071Z"
   },
   {
    "duration": 96,
    "start_time": "2022-06-14T06:20:42.102Z"
   },
   {
    "duration": 41,
    "start_time": "2022-06-14T06:20:42.200Z"
   },
   {
    "duration": 1025,
    "start_time": "2022-06-14T06:21:14.812Z"
   },
   {
    "duration": 33,
    "start_time": "2022-06-14T06:21:15.839Z"
   },
   {
    "duration": 29,
    "start_time": "2022-06-14T06:21:15.874Z"
   },
   {
    "duration": 5,
    "start_time": "2022-06-14T06:21:15.904Z"
   },
   {
    "duration": 11,
    "start_time": "2022-06-14T06:21:15.911Z"
   },
   {
    "duration": 7,
    "start_time": "2022-06-14T06:21:15.924Z"
   },
   {
    "duration": 9,
    "start_time": "2022-06-14T06:21:15.932Z"
   },
   {
    "duration": 208,
    "start_time": "2022-06-14T06:21:15.943Z"
   },
   {
    "duration": 911,
    "start_time": "2022-06-14T06:21:16.153Z"
   },
   {
    "duration": 37,
    "start_time": "2022-06-14T06:21:17.066Z"
   },
   {
    "duration": 4,
    "start_time": "2022-06-14T06:21:17.105Z"
   },
   {
    "duration": 20,
    "start_time": "2022-06-14T06:21:17.111Z"
   },
   {
    "duration": 102,
    "start_time": "2022-06-14T06:21:17.133Z"
   },
   {
    "duration": 45,
    "start_time": "2022-06-14T06:21:17.238Z"
   },
   {
    "duration": 4,
    "start_time": "2022-06-14T06:22:22.220Z"
   },
   {
    "duration": 2,
    "start_time": "2022-06-14T06:26:34.796Z"
   },
   {
    "duration": 15,
    "start_time": "2022-06-14T09:26:05.989Z"
   },
   {
    "duration": 5,
    "start_time": "2022-06-14T09:26:17.061Z"
   },
   {
    "duration": 25,
    "start_time": "2022-06-14T09:27:23.655Z"
   },
   {
    "duration": 5,
    "start_time": "2022-06-14T09:27:31.374Z"
   },
   {
    "duration": 5,
    "start_time": "2022-06-14T09:27:38.571Z"
   },
   {
    "duration": 5,
    "start_time": "2022-06-14T09:28:10.941Z"
   },
   {
    "duration": 4,
    "start_time": "2022-06-14T09:28:25.436Z"
   },
   {
    "duration": 5,
    "start_time": "2022-06-14T09:28:34.906Z"
   },
   {
    "duration": 5,
    "start_time": "2022-06-14T09:28:52.190Z"
   },
   {
    "duration": 4,
    "start_time": "2022-06-14T09:30:42.779Z"
   },
   {
    "duration": 6,
    "start_time": "2022-06-14T09:30:48.769Z"
   },
   {
    "duration": 28,
    "start_time": "2022-06-14T09:31:56.952Z"
   },
   {
    "duration": 7,
    "start_time": "2022-06-14T09:33:09.191Z"
   },
   {
    "duration": 8,
    "start_time": "2022-06-14T09:33:27.771Z"
   },
   {
    "duration": 8,
    "start_time": "2022-06-14T09:33:49.005Z"
   },
   {
    "duration": 6,
    "start_time": "2022-06-14T09:33:53.124Z"
   },
   {
    "duration": 6,
    "start_time": "2022-06-14T09:34:53.407Z"
   },
   {
    "duration": 6,
    "start_time": "2022-06-14T09:35:16.863Z"
   },
   {
    "duration": 7,
    "start_time": "2022-06-14T09:35:27.967Z"
   },
   {
    "duration": 6,
    "start_time": "2022-06-14T09:35:44.894Z"
   },
   {
    "duration": 6,
    "start_time": "2022-06-14T09:35:54.317Z"
   },
   {
    "duration": 7,
    "start_time": "2022-06-14T09:35:59.163Z"
   },
   {
    "duration": 7,
    "start_time": "2022-06-14T09:36:16.580Z"
   },
   {
    "duration": 5,
    "start_time": "2022-06-14T09:37:43.002Z"
   },
   {
    "duration": 4,
    "start_time": "2022-06-14T09:38:43.071Z"
   },
   {
    "duration": 8,
    "start_time": "2022-06-14T09:38:43.634Z"
   },
   {
    "duration": 5,
    "start_time": "2022-06-14T09:38:44.119Z"
   },
   {
    "duration": 98,
    "start_time": "2022-06-14T09:56:03.343Z"
   },
   {
    "duration": 21333,
    "start_time": "2022-06-14T09:56:15.404Z"
   },
   {
    "duration": 1070,
    "start_time": "2022-06-14T09:58:46.489Z"
   },
   {
    "duration": 31,
    "start_time": "2022-06-14T09:58:47.561Z"
   },
   {
    "duration": 27,
    "start_time": "2022-06-14T09:58:47.593Z"
   },
   {
    "duration": 5,
    "start_time": "2022-06-14T09:58:47.622Z"
   },
   {
    "duration": 7,
    "start_time": "2022-06-14T09:58:47.629Z"
   },
   {
    "duration": 14,
    "start_time": "2022-06-14T09:58:47.638Z"
   },
   {
    "duration": 10,
    "start_time": "2022-06-14T09:58:47.653Z"
   },
   {
    "duration": 6,
    "start_time": "2022-06-14T09:58:47.664Z"
   },
   {
    "duration": 8,
    "start_time": "2022-06-14T09:58:47.672Z"
   },
   {
    "duration": 5,
    "start_time": "2022-06-14T09:58:47.682Z"
   },
   {
    "duration": 6,
    "start_time": "2022-06-14T09:58:47.689Z"
   },
   {
    "duration": 120,
    "start_time": "2022-06-14T09:58:47.696Z"
   },
   {
    "duration": 21889,
    "start_time": "2022-06-14T09:58:47.817Z"
   },
   {
    "duration": 43,
    "start_time": "2022-06-14T09:59:09.708Z"
   },
   {
    "duration": 4,
    "start_time": "2022-06-14T09:59:09.765Z"
   },
   {
    "duration": 17,
    "start_time": "2022-06-14T09:59:09.771Z"
   },
   {
    "duration": 3861,
    "start_time": "2022-06-14T09:59:09.790Z"
   },
   {
    "duration": 55,
    "start_time": "2022-06-14T09:59:13.653Z"
   },
   {
    "duration": 5,
    "start_time": "2022-06-14T09:59:13.710Z"
   },
   {
    "duration": 94,
    "start_time": "2022-06-14T11:41:19.877Z"
   },
   {
    "duration": 3,
    "start_time": "2022-06-14T11:41:38.479Z"
   },
   {
    "duration": 16,
    "start_time": "2022-06-14T11:41:44.496Z"
   },
   {
    "duration": 11,
    "start_time": "2022-06-14T11:41:56.866Z"
   },
   {
    "duration": 4,
    "start_time": "2022-06-14T11:42:54.254Z"
   },
   {
    "duration": 18,
    "start_time": "2022-06-14T11:43:00.572Z"
   },
   {
    "duration": 4,
    "start_time": "2022-06-14T11:43:02.609Z"
   },
   {
    "duration": 16,
    "start_time": "2022-06-14T11:43:12.486Z"
   },
   {
    "duration": 3,
    "start_time": "2022-06-14T11:43:13.561Z"
   },
   {
    "duration": 20,
    "start_time": "2022-06-14T11:43:27.120Z"
   },
   {
    "duration": 4,
    "start_time": "2022-06-14T11:43:32.454Z"
   },
   {
    "duration": 4,
    "start_time": "2022-06-14T11:43:47.554Z"
   },
   {
    "duration": 12,
    "start_time": "2022-06-14T11:49:23.295Z"
   },
   {
    "duration": 5,
    "start_time": "2022-06-14T11:50:03.616Z"
   },
   {
    "duration": 13,
    "start_time": "2022-06-14T11:50:07.419Z"
   },
   {
    "duration": 12,
    "start_time": "2022-06-14T11:50:27.397Z"
   },
   {
    "duration": 8,
    "start_time": "2022-06-14T11:50:39.371Z"
   },
   {
    "duration": 8,
    "start_time": "2022-06-14T11:51:28.551Z"
   },
   {
    "duration": 7,
    "start_time": "2022-06-14T11:52:01.660Z"
   }
  ],
  "kernelspec": {
   "display_name": "Python 3",
   "language": "python",
   "name": "python3"
  },
  "language_info": {
   "codemirror_mode": {
    "name": "ipython",
    "version": 3
   },
   "file_extension": ".py",
   "mimetype": "text/x-python",
   "name": "python",
   "nbconvert_exporter": "python",
   "pygments_lexer": "ipython3",
   "version": "3.8.3"
  },
  "toc": {
   "base_numbering": 1,
   "nav_menu": {},
   "number_sections": true,
   "sideBar": true,
   "skip_h1_title": true,
   "title_cell": "Table of Contents",
   "title_sidebar": "Contents",
   "toc_cell": false,
   "toc_position": {},
   "toc_section_display": true,
   "toc_window_display": false
  }
 },
 "nbformat": 4,
 "nbformat_minor": 2
}
