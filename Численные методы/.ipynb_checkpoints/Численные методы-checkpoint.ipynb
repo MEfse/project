{
 "cells": [
  {
   "cell_type": "markdown",
   "metadata": {},
   "source": [
    "# Определение стоимости автомобилей"
   ]
  },
  {
   "cell_type": "markdown",
   "metadata": {},
   "source": [
    "Сервис по продаже автомобилей с пробегом «Не бит, не крашен» разрабатывает приложение для привлечения новых клиентов. В нём можно быстро узнать рыночную стоимость своего автомобиля. В вашем распоряжении исторические данные: технические характеристики, комплектации и цены автомобилей. Вам нужно построить модель для определения стоимости. \n",
    "\n",
    "Заказчику важны:\n",
    "\n",
    "- качество предсказания;\n",
    "- скорость предсказания;\n",
    "- время обучения."
   ]
  },
  {
   "cell_type": "markdown",
   "metadata": {},
   "source": [
    "# Описание целей и задачи проекта"
   ]
  },
  {
   "cell_type": "markdown",
   "metadata": {},
   "source": [
    "* **Цель данного проекта** заключается в создании приложения для привлечения новых клиентов, для подсчета рыночной стоимости  автомобиля.\n",
    "* **Задачам проекта** являются:\n",
    "     + подговить данные к анализу (изменение название столбцов, заполнение пропусков, удаление дубликатов и аномалий в данных) \n",
    "     + обучение моделей \n",
    "     + анализ моделей \n",
    "     + краткий вывод по полученным данным\n",
    "\n",
    "\n",
    "\n"
   ]
  },
  {
   "cell_type": "markdown",
   "metadata": {},
   "source": [
    "# Описание данных"
   ]
  },
  {
   "cell_type": "markdown",
   "metadata": {},
   "source": [
    "Данные записаны в одном csv-файле и представлены в виде **15 фич и 354369 строк.** Некоторые данные повреждены и требуют некоторого внимания. "
   ]
  },
  {
   "cell_type": "markdown",
   "metadata": {},
   "source": [
    "# План работы"
   ]
  },
  {
   "cell_type": "markdown",
   "metadata": {},
   "source": [
    "1. Вывести общую информацию по датафрейму и выяснить: сколько фич имеет датафрейм, количество строк, тип данных.\n",
    "2. При необходимости изменить название столбцов.\n",
    "3. Рассмотреть потенциальные пропуски и выяснить - заполнить пропуски или их удалить.\n",
    "4. Удалить дубликаты.\n",
    "5. Провести анализ по аномалиям.\n",
    "6. Разбить данные на обучающую, валидационную и тренировочную выборки.\n",
    "7. Провести порядковое кодирование.\n",
    "8. Обучить модели без подбора гиперпараметров.\n",
    "9. Обучить модели с подбора гиперпараметров.\n",
    "11. Обучить модели с бустингом.\n",
    "12. Проверить модели на тренировочной выборке.\n",
    "13. В выводе отобразить метрику RMSE, время обучения и время предсказания моделей и выявить наилучшую модель."
   ]
  },
  {
   "cell_type": "markdown",
   "metadata": {},
   "source": [
    "## Подготовка данных"
   ]
  },
  {
   "cell_type": "markdown",
   "metadata": {},
   "source": [
    "**Загрузим** необходимые **библиотеки.**"
   ]
  },
  {
   "cell_type": "code",
   "execution_count": 1,
   "metadata": {},
   "outputs": [],
   "source": [
    "import pandas as pd \n",
    "import numpy as np "
   ]
  },
  {
   "cell_type": "markdown",
   "metadata": {},
   "source": [
    "**Запишем в переменную csv-файл.**"
   ]
  },
  {
   "cell_type": "code",
   "execution_count": 2,
   "metadata": {},
   "outputs": [],
   "source": [
    "try:\n",
    "    data = pd.read_csv('C:/Users/JERR/Desktop/Проекты/Численные методы/autos.csv')\n",
    "except:\n",
    "    try:\n",
    "        data = pd.read_csv('C:/Users/User/Desktop/Проекты/Численные методы/autos.csv')\n",
    "    except:\n",
    "        data = pd.read_csv('/datasets/autos.csv')"
   ]
  },
  {
   "cell_type": "markdown",
   "metadata": {},
   "source": [
    "**Выведем общую информацию** по датафрейму."
   ]
  },
  {
   "cell_type": "code",
   "execution_count": 3,
   "metadata": {},
   "outputs": [
    {
     "name": "stdout",
     "output_type": "stream",
     "text": [
      "<class 'pandas.core.frame.DataFrame'>\n",
      "RangeIndex: 354369 entries, 0 to 354368\n",
      "Data columns (total 16 columns):\n",
      " #   Column             Non-Null Count   Dtype \n",
      "---  ------             --------------   ----- \n",
      " 0   DateCrawled        354369 non-null  object\n",
      " 1   Price              354369 non-null  int64 \n",
      " 2   VehicleType        316879 non-null  object\n",
      " 3   RegistrationYear   354369 non-null  int64 \n",
      " 4   Gearbox            334536 non-null  object\n",
      " 5   Power              354369 non-null  int64 \n",
      " 6   Model              334664 non-null  object\n",
      " 7   Kilometer          354369 non-null  int64 \n",
      " 8   RegistrationMonth  354369 non-null  int64 \n",
      " 9   FuelType           321474 non-null  object\n",
      " 10  Brand              354369 non-null  object\n",
      " 11  Repaired           283215 non-null  object\n",
      " 12  DateCreated        354369 non-null  object\n",
      " 13  NumberOfPictures   354369 non-null  int64 \n",
      " 14  PostalCode         354369 non-null  int64 \n",
      " 15  LastSeen           354369 non-null  object\n",
      "dtypes: int64(7), object(9)\n",
      "memory usage: 43.3+ MB\n"
     ]
    }
   ],
   "source": [
    "data.info()"
   ]
  },
  {
   "cell_type": "markdown",
   "metadata": {},
   "source": [
    "**Признаки**\n",
    "\n",
    "* `DateCrawled` — дата скачивания анкеты из базы\n",
    "* `VehicleType` — тип автомобильного кузова\n",
    "* `RegistrationYear` — год регистрации автомобиля\n",
    "* `Gearbox` — тип коробки передач\n",
    "* `Power` — мощность (л. с.)\n",
    "* `Model` — модель автомобиля\n",
    "* `Kilometer` — пробег (км)\n",
    "* `RegistrationMonth` — месяц регистрации автомобиля\n",
    "* `FuelType` — тип топлива\n",
    "* `Brand` — марка автомобиля\n",
    "* `NotRepaired` — была машина в ремонте или нет\n",
    "* `DateCreated` — дата создания анкеты\n",
    "* `NumberOfPictures` — количество фотографий автомобиля\n",
    "* `PostalCode` — почтовый индекс владельца анкеты (пользователя)\n",
    "* `LastSeen` — дата последней активности пользователя"
   ]
  },
  {
   "cell_type": "markdown",
   "metadata": {},
   "source": [
    "**Целевой признак**\n",
    "* `Price` — цена (евро)"
   ]
  },
  {
   "cell_type": "markdown",
   "metadata": {},
   "source": [
    "Заметим, что в некоторых столбцах **отсутствует данные.** Так же подчеркнем, что **не все столбцы** представлены **с нормальным типом данных.**"
   ]
  },
  {
   "cell_type": "markdown",
   "metadata": {},
   "source": [
    "**Переведем названия** столбцов **в нижний регистр.** "
   ]
  },
  {
   "cell_type": "code",
   "execution_count": 4,
   "metadata": {},
   "outputs": [],
   "source": [
    "import warnings\n",
    "warnings.simplefilter(action='ignore', category=FutureWarning)"
   ]
  },
  {
   "cell_type": "code",
   "execution_count": 5,
   "metadata": {},
   "outputs": [],
   "source": [
    "data.columns = data.columns.str.replace(r\"([A-Z])\", r\" \\1\").str.lower().str.replace(' ', '_').str[1:]"
   ]
  },
  {
   "cell_type": "code",
   "execution_count": 6,
   "metadata": {
    "scrolled": true
   },
   "outputs": [
    {
     "name": "stdout",
     "output_type": "stream",
     "text": [
      "Index(['date_crawled', 'price', 'vehicle_type', 'registration_year', 'gearbox',\n",
      "       'power', 'model', 'kilometer', 'registration_month', 'fuel_type',\n",
      "       'brand', 'repaired', 'date_created', 'number_of_pictures',\n",
      "       'postal_code', 'last_seen'],\n",
      "      dtype='object')\n"
     ]
    }
   ],
   "source": [
    "print(data.columns)"
   ]
  },
  {
   "cell_type": "markdown",
   "metadata": {},
   "source": [
    "Посчитаем **максимальное количество данных** в столбцах, что посчитать от него **процент потерь.**"
   ]
  },
  {
   "cell_type": "code",
   "execution_count": 7,
   "metadata": {},
   "outputs": [
    {
     "name": "stdout",
     "output_type": "stream",
     "text": [
      "Максимальное количество данных в датафрейме: 354369\n"
     ]
    }
   ],
   "source": [
    "max_value_data = data.count().sort_values(ascending=False)[0]\n",
    "print('Максимальное количество данных в датафрейме:', max_value_data)"
   ]
  },
  {
   "cell_type": "code",
   "execution_count": 8,
   "metadata": {},
   "outputs": [
    {
     "name": "stdout",
     "output_type": "stream",
     "text": [
      "repaired        71154\n",
      "vehicle_type    37490\n",
      "fuel_type       32895\n",
      "gearbox         19833\n",
      "model           19705\n",
      "dtype: int64\n"
     ]
    }
   ],
   "source": [
    "isna = data.isna().sum().sort_values(ascending=False)\n",
    "isn = isna.loc[isna != 0]\n",
    "print(isn)"
   ]
  },
  {
   "cell_type": "markdown",
   "metadata": {},
   "source": [
    "**Процент отсутствующих данных.**"
   ]
  },
  {
   "cell_type": "code",
   "execution_count": 9,
   "metadata": {},
   "outputs": [
    {
     "name": "stdout",
     "output_type": "stream",
     "text": [
      "repaired        20.0%\n",
      "vehicle_type    11.0%\n",
      "fuel_type        9.0%\n",
      "gearbox          6.0%\n",
      "model            6.0%\n",
      "dtype: object\n"
     ]
    }
   ],
   "source": [
    "difference_value_data = (100 - (data.count() / max_value_data).round(2) * 100).sort_values(ascending=False)\n",
    "difference_value_data = difference_value_data.loc[difference_value_data != 0]\n",
    "#difference_value_data = difference_value_data.astype('int')\n",
    "difference_value_data = difference_value_data.astype('str')\n",
    "difference_value_data += \"%\"\n",
    "print(difference_value_data)"
   ]
  },
  {
   "cell_type": "markdown",
   "metadata": {},
   "source": [
    "**Данные отсутствуют** в пяти столбцах. "
   ]
  },
  {
   "cell_type": "code",
   "execution_count": 10,
   "metadata": {},
   "outputs": [
    {
     "data": {
      "text/html": [
       "<div>\n",
       "<style scoped>\n",
       "    .dataframe tbody tr th:only-of-type {\n",
       "        vertical-align: middle;\n",
       "    }\n",
       "\n",
       "    .dataframe tbody tr th {\n",
       "        vertical-align: top;\n",
       "    }\n",
       "\n",
       "    .dataframe thead th {\n",
       "        text-align: right;\n",
       "    }\n",
       "</style>\n",
       "<table border=\"1\" class=\"dataframe\">\n",
       "  <thead>\n",
       "    <tr style=\"text-align: right;\">\n",
       "      <th></th>\n",
       "      <th>Столбцы</th>\n",
       "      <th>Описание</th>\n",
       "      <th>Количество пропусков, %</th>\n",
       "    </tr>\n",
       "  </thead>\n",
       "  <tbody>\n",
       "    <tr>\n",
       "      <th>0</th>\n",
       "      <td>repaired</td>\n",
       "      <td>была машина в ремонте или нет</td>\n",
       "      <td>20.0%</td>\n",
       "    </tr>\n",
       "    <tr>\n",
       "      <th>1</th>\n",
       "      <td>vehicletype</td>\n",
       "      <td>тип автомобильного кузова</td>\n",
       "      <td>11.0%</td>\n",
       "    </tr>\n",
       "    <tr>\n",
       "      <th>2</th>\n",
       "      <td>fueltype</td>\n",
       "      <td>тип топлива</td>\n",
       "      <td>9.0%</td>\n",
       "    </tr>\n",
       "    <tr>\n",
       "      <th>3</th>\n",
       "      <td>gearbox</td>\n",
       "      <td>тип коробки передач</td>\n",
       "      <td>6.0%</td>\n",
       "    </tr>\n",
       "    <tr>\n",
       "      <th>4</th>\n",
       "      <td>model</td>\n",
       "      <td>модель автомобиля</td>\n",
       "      <td>6.0%</td>\n",
       "    </tr>\n",
       "  </tbody>\n",
       "</table>\n",
       "</div>"
      ],
      "text/plain": [
       "       Столбцы                       Описание Количество пропусков, %\n",
       "0     repaired  была машина в ремонте или нет                   20.0%\n",
       "1  vehicletype      тип автомобильного кузова                   11.0%\n",
       "2     fueltype                    тип топлива                    9.0%\n",
       "3      gearbox            тип коробки передач                    6.0%\n",
       "4        model              модель автомобиля                    6.0%"
      ]
     },
     "execution_count": 10,
     "metadata": {},
     "output_type": "execute_result"
    }
   ],
   "source": [
    "pd.DataFrame({'Столбцы': ['repaired', \n",
    "                          'vehicletype', \n",
    "                          'fueltype', \n",
    "                          'gearbox', \n",
    "                          'model'],\n",
    "              'Описание': ['была машина в ремонте или нет', \n",
    "                           'тип автомобильного кузова', \n",
    "                           'тип топлива', \n",
    "                           'тип коробки передач', \n",
    "                           'модель автомобиля'],\n",
    "              'Количество пропусков, %': [difference_value_data[0],\n",
    "                                          difference_value_data[1], \n",
    "                                          difference_value_data[2], \n",
    "                                          difference_value_data[3], \n",
    "                                          difference_value_data[4]]})"
   ]
  },
  {
   "cell_type": "markdown",
   "metadata": {},
   "source": [
    "### Проверка на пропуски."
   ]
  },
  {
   "cell_type": "code",
   "execution_count": 11,
   "metadata": {},
   "outputs": [],
   "source": [
    "def info_columns(columns):\n",
    "    display(data[columns].head(5))\n",
    "    display(data[columns].value_counts())"
   ]
  },
  {
   "cell_type": "code",
   "execution_count": 12,
   "metadata": {},
   "outputs": [],
   "source": [
    "def loss_percentage(columns):\n",
    "    print('Процент потерь', 100 - data[columns].count() / max_value_data * 100,'%')"
   ]
  },
  {
   "cell_type": "markdown",
   "metadata": {},
   "source": [
    "**1. Столбец `repaired`.**"
   ]
  },
  {
   "cell_type": "code",
   "execution_count": 13,
   "metadata": {},
   "outputs": [
    {
     "data": {
      "text/plain": [
       "0    NaN\n",
       "1    yes\n",
       "2    NaN\n",
       "3     no\n",
       "4     no\n",
       "Name: repaired, dtype: object"
      ]
     },
     "metadata": {},
     "output_type": "display_data"
    },
    {
     "data": {
      "text/plain": [
       "no     247161\n",
       "yes     36054\n",
       "Name: repaired, dtype: int64"
      ]
     },
     "metadata": {},
     "output_type": "display_data"
    }
   ],
   "source": [
    "info_columns('repaired')"
   ]
  },
  {
   "cell_type": "code",
   "execution_count": 14,
   "metadata": {},
   "outputs": [],
   "source": [
    "data['repaired'] = data['repaired'].fillna('unknown')"
   ]
  },
  {
   "cell_type": "code",
   "execution_count": 15,
   "metadata": {},
   "outputs": [
    {
     "data": {
      "text/plain": [
       "no         247161\n",
       "unknown     71154\n",
       "yes         36054\n",
       "Name: repaired, dtype: int64"
      ]
     },
     "execution_count": 15,
     "metadata": {},
     "output_type": "execute_result"
    }
   ],
   "source": [
    "data['repaired'].value_counts()"
   ]
  },
  {
   "cell_type": "code",
   "execution_count": 16,
   "metadata": {},
   "outputs": [
    {
     "name": "stdout",
     "output_type": "stream",
     "text": [
      "Процент потерь 0.0 %\n"
     ]
    }
   ],
   "source": [
    "loss_percentage('repaired')"
   ]
  },
  {
   "cell_type": "markdown",
   "metadata": {},
   "source": [
    "**2. Столбцец `vehicle_type`.**"
   ]
  },
  {
   "cell_type": "code",
   "execution_count": 17,
   "metadata": {},
   "outputs": [
    {
     "data": {
      "text/plain": [
       "0      NaN\n",
       "1    coupe\n",
       "2      suv\n",
       "3    small\n",
       "4    small\n",
       "Name: vehicle_type, dtype: object"
      ]
     },
     "metadata": {},
     "output_type": "display_data"
    },
    {
     "data": {
      "text/plain": [
       "sedan          91457\n",
       "small          79831\n",
       "wagon          65166\n",
       "bus            28775\n",
       "convertible    20203\n",
       "coupe          16163\n",
       "suv            11996\n",
       "other           3288\n",
       "Name: vehicle_type, dtype: int64"
      ]
     },
     "metadata": {},
     "output_type": "display_data"
    }
   ],
   "source": [
    "info_columns('vehicle_type')"
   ]
  },
  {
   "cell_type": "code",
   "execution_count": 18,
   "metadata": {},
   "outputs": [],
   "source": [
    "data['vehicle_type'] = data['vehicle_type'].fillna('other')"
   ]
  },
  {
   "cell_type": "code",
   "execution_count": 19,
   "metadata": {},
   "outputs": [
    {
     "data": {
      "text/plain": [
       "sedan          91457\n",
       "small          79831\n",
       "wagon          65166\n",
       "other          40778\n",
       "bus            28775\n",
       "convertible    20203\n",
       "coupe          16163\n",
       "suv            11996\n",
       "Name: vehicle_type, dtype: int64"
      ]
     },
     "execution_count": 19,
     "metadata": {},
     "output_type": "execute_result"
    }
   ],
   "source": [
    "data['vehicle_type'].value_counts()"
   ]
  },
  {
   "cell_type": "code",
   "execution_count": 20,
   "metadata": {},
   "outputs": [
    {
     "name": "stdout",
     "output_type": "stream",
     "text": [
      "Процент потерь 0.0 %\n"
     ]
    }
   ],
   "source": [
    "loss_percentage('vehicle_type')"
   ]
  },
  {
   "cell_type": "markdown",
   "metadata": {},
   "source": [
    "**3. Столбец `fuel_type`.**"
   ]
  },
  {
   "cell_type": "code",
   "execution_count": 21,
   "metadata": {},
   "outputs": [
    {
     "data": {
      "text/plain": [
       "0      petrol\n",
       "1    gasoline\n",
       "2    gasoline\n",
       "3      petrol\n",
       "4    gasoline\n",
       "Name: fuel_type, dtype: object"
      ]
     },
     "metadata": {},
     "output_type": "display_data"
    },
    {
     "data": {
      "text/plain": [
       "petrol      216352\n",
       "gasoline     98720\n",
       "lpg           5310\n",
       "cng            565\n",
       "hybrid         233\n",
       "other          204\n",
       "electric        90\n",
       "Name: fuel_type, dtype: int64"
      ]
     },
     "metadata": {},
     "output_type": "display_data"
    }
   ],
   "source": [
    "info_columns('fuel_type')"
   ]
  },
  {
   "cell_type": "code",
   "execution_count": 22,
   "metadata": {},
   "outputs": [],
   "source": [
    "data['fuel_type'] = data['fuel_type'].fillna('other')"
   ]
  },
  {
   "cell_type": "code",
   "execution_count": 23,
   "metadata": {},
   "outputs": [
    {
     "data": {
      "text/plain": [
       "petrol      216352\n",
       "gasoline     98720\n",
       "other        33099\n",
       "lpg           5310\n",
       "cng            565\n",
       "hybrid         233\n",
       "electric        90\n",
       "Name: fuel_type, dtype: int64"
      ]
     },
     "execution_count": 23,
     "metadata": {},
     "output_type": "execute_result"
    }
   ],
   "source": [
    "data['fuel_type'].value_counts()"
   ]
  },
  {
   "cell_type": "code",
   "execution_count": 24,
   "metadata": {},
   "outputs": [
    {
     "name": "stdout",
     "output_type": "stream",
     "text": [
      "Процент потерь 0.0 %\n"
     ]
    }
   ],
   "source": [
    "loss_percentage('fuel_type')"
   ]
  },
  {
   "cell_type": "markdown",
   "metadata": {},
   "source": [
    "**4. Столбец `gearbox`.**"
   ]
  },
  {
   "cell_type": "code",
   "execution_count": 25,
   "metadata": {},
   "outputs": [
    {
     "data": {
      "text/plain": [
       "0    manual\n",
       "1    manual\n",
       "2      auto\n",
       "3    manual\n",
       "4    manual\n",
       "Name: gearbox, dtype: object"
      ]
     },
     "metadata": {},
     "output_type": "display_data"
    },
    {
     "data": {
      "text/plain": [
       "manual    268251\n",
       "auto       66285\n",
       "Name: gearbox, dtype: int64"
      ]
     },
     "metadata": {},
     "output_type": "display_data"
    }
   ],
   "source": [
    "info_columns('gearbox')"
   ]
  },
  {
   "cell_type": "code",
   "execution_count": 26,
   "metadata": {},
   "outputs": [],
   "source": [
    "data['gearbox'] = data['gearbox'].fillna('unknown')"
   ]
  },
  {
   "cell_type": "code",
   "execution_count": 27,
   "metadata": {},
   "outputs": [
    {
     "data": {
      "text/plain": [
       "manual     268251\n",
       "auto        66285\n",
       "unknown     19833\n",
       "Name: gearbox, dtype: int64"
      ]
     },
     "execution_count": 27,
     "metadata": {},
     "output_type": "execute_result"
    }
   ],
   "source": [
    "data['gearbox'].value_counts()"
   ]
  },
  {
   "cell_type": "code",
   "execution_count": 28,
   "metadata": {},
   "outputs": [
    {
     "name": "stdout",
     "output_type": "stream",
     "text": [
      "Процент потерь 0.0 %\n"
     ]
    }
   ],
   "source": [
    "loss_percentage('gearbox')"
   ]
  },
  {
   "cell_type": "markdown",
   "metadata": {},
   "source": [
    "**5. Столбец `model`.**"
   ]
  },
  {
   "cell_type": "code",
   "execution_count": 29,
   "metadata": {},
   "outputs": [
    {
     "data": {
      "text/plain": [
       "0     golf\n",
       "1      NaN\n",
       "2    grand\n",
       "3     golf\n",
       "4    fabia\n",
       "Name: model, dtype: object"
      ]
     },
     "metadata": {},
     "output_type": "display_data"
    },
    {
     "data": {
      "text/plain": [
       "golf                  29232\n",
       "other                 24421\n",
       "3er                   19761\n",
       "polo                  13066\n",
       "corsa                 12570\n",
       "                      ...  \n",
       "i3                        8\n",
       "serie_3                   4\n",
       "rangerover                4\n",
       "range_rover_evoque        2\n",
       "serie_1                   2\n",
       "Name: model, Length: 250, dtype: int64"
      ]
     },
     "metadata": {},
     "output_type": "display_data"
    }
   ],
   "source": [
    "info_columns('model')"
   ]
  },
  {
   "cell_type": "code",
   "execution_count": 30,
   "metadata": {},
   "outputs": [],
   "source": [
    "data['model'] = data['model'].fillna('other')"
   ]
  },
  {
   "cell_type": "code",
   "execution_count": 31,
   "metadata": {},
   "outputs": [
    {
     "data": {
      "text/plain": [
       "other                 44126\n",
       "golf                  29232\n",
       "3er                   19761\n",
       "polo                  13066\n",
       "corsa                 12570\n",
       "                      ...  \n",
       "i3                        8\n",
       "serie_3                   4\n",
       "rangerover                4\n",
       "range_rover_evoque        2\n",
       "serie_1                   2\n",
       "Name: model, Length: 250, dtype: int64"
      ]
     },
     "execution_count": 31,
     "metadata": {},
     "output_type": "execute_result"
    }
   ],
   "source": [
    "data['model'].value_counts()"
   ]
  },
  {
   "cell_type": "code",
   "execution_count": 32,
   "metadata": {},
   "outputs": [
    {
     "name": "stdout",
     "output_type": "stream",
     "text": [
      "Процент потерь 0.0 %\n"
     ]
    }
   ],
   "source": [
    "loss_percentage('model')"
   ]
  },
  {
   "cell_type": "markdown",
   "metadata": {},
   "source": [
    "**Вывод общей информации.**"
   ]
  },
  {
   "cell_type": "code",
   "execution_count": 33,
   "metadata": {},
   "outputs": [
    {
     "name": "stdout",
     "output_type": "stream",
     "text": [
      "<class 'pandas.core.frame.DataFrame'>\n",
      "RangeIndex: 354369 entries, 0 to 354368\n",
      "Data columns (total 16 columns):\n",
      " #   Column              Non-Null Count   Dtype \n",
      "---  ------              --------------   ----- \n",
      " 0   date_crawled        354369 non-null  object\n",
      " 1   price               354369 non-null  int64 \n",
      " 2   vehicle_type        354369 non-null  object\n",
      " 3   registration_year   354369 non-null  int64 \n",
      " 4   gearbox             354369 non-null  object\n",
      " 5   power               354369 non-null  int64 \n",
      " 6   model               354369 non-null  object\n",
      " 7   kilometer           354369 non-null  int64 \n",
      " 8   registration_month  354369 non-null  int64 \n",
      " 9   fuel_type           354369 non-null  object\n",
      " 10  brand               354369 non-null  object\n",
      " 11  repaired            354369 non-null  object\n",
      " 12  date_created        354369 non-null  object\n",
      " 13  number_of_pictures  354369 non-null  int64 \n",
      " 14  postal_code         354369 non-null  int64 \n",
      " 15  last_seen           354369 non-null  object\n",
      "dtypes: int64(7), object(9)\n",
      "memory usage: 43.3+ MB\n"
     ]
    }
   ],
   "source": [
    "data.info()"
   ]
  },
  {
   "cell_type": "markdown",
   "metadata": {},
   "source": [
    "**Изменяем тип данных.**"
   ]
  },
  {
   "cell_type": "code",
   "execution_count": 34,
   "metadata": {},
   "outputs": [],
   "source": [
    "data['date_crawled'] = pd.to_datetime(data['date_crawled'],  format='%Y-%m-%d %H:%M:%S')\n",
    "data['date_created'] = pd.to_datetime(data['date_created'],  format='%Y-%m-%d %H:%M:%S')\n",
    "data['last_seen'] = pd.to_datetime(data['last_seen'],  format='%Y-%m-%d %H:%M:%S')"
   ]
  },
  {
   "cell_type": "code",
   "execution_count": 35,
   "metadata": {},
   "outputs": [
    {
     "name": "stdout",
     "output_type": "stream",
     "text": [
      "<class 'pandas.core.frame.DataFrame'>\n",
      "RangeIndex: 354369 entries, 0 to 354368\n",
      "Data columns (total 16 columns):\n",
      " #   Column              Non-Null Count   Dtype         \n",
      "---  ------              --------------   -----         \n",
      " 0   date_crawled        354369 non-null  datetime64[ns]\n",
      " 1   price               354369 non-null  int64         \n",
      " 2   vehicle_type        354369 non-null  object        \n",
      " 3   registration_year   354369 non-null  int64         \n",
      " 4   gearbox             354369 non-null  object        \n",
      " 5   power               354369 non-null  int64         \n",
      " 6   model               354369 non-null  object        \n",
      " 7   kilometer           354369 non-null  int64         \n",
      " 8   registration_month  354369 non-null  int64         \n",
      " 9   fuel_type           354369 non-null  object        \n",
      " 10  brand               354369 non-null  object        \n",
      " 11  repaired            354369 non-null  object        \n",
      " 12  date_created        354369 non-null  datetime64[ns]\n",
      " 13  number_of_pictures  354369 non-null  int64         \n",
      " 14  postal_code         354369 non-null  int64         \n",
      " 15  last_seen           354369 non-null  datetime64[ns]\n",
      "dtypes: datetime64[ns](3), int64(7), object(6)\n",
      "memory usage: 43.3+ MB\n"
     ]
    }
   ],
   "source": [
    "data.info()"
   ]
  },
  {
   "cell_type": "markdown",
   "metadata": {},
   "source": [
    "### Проверка на дубликаты."
   ]
  },
  {
   "cell_type": "code",
   "execution_count": 36,
   "metadata": {},
   "outputs": [
    {
     "name": "stdout",
     "output_type": "stream",
     "text": [
      "Количество дубликатов: 4\n"
     ]
    }
   ],
   "source": [
    "print('Количество дубликатов:', data.duplicated().sum())"
   ]
  },
  {
   "cell_type": "code",
   "execution_count": 37,
   "metadata": {},
   "outputs": [],
   "source": [
    "data = data.drop_duplicates()"
   ]
  },
  {
   "cell_type": "code",
   "execution_count": 38,
   "metadata": {},
   "outputs": [
    {
     "name": "stdout",
     "output_type": "stream",
     "text": [
      "Количество дубликатов: 0\n"
     ]
    }
   ],
   "source": [
    "print('Количество дубликатов:', data.duplicated().sum())"
   ]
  },
  {
   "cell_type": "markdown",
   "metadata": {},
   "source": [
    "### Проверка на аномалии."
   ]
  },
  {
   "cell_type": "markdown",
   "metadata": {},
   "source": [
    "Рассмотрим минимальный год и максимальный. "
   ]
  },
  {
   "cell_type": "markdown",
   "metadata": {},
   "source": [
    "**1. Столбец `registration_year`.**"
   ]
  },
  {
   "cell_type": "code",
   "execution_count": 39,
   "metadata": {},
   "outputs": [
    {
     "name": "stdout",
     "output_type": "stream",
     "text": [
      "Максимальный год: 9999\n",
      "Количество аномальных значений равных 9999 лет: 26\n",
      "Минимальный год: 1000\n",
      "Количество аномальных значений равных 1000 лет: 37\n"
     ]
    }
   ],
   "source": [
    "print('Максимальный год:', data['registration_year'].max())\n",
    "print('Количество аномальных значений равных 9999 лет:', \n",
    "      data['registration_year'].loc[data['registration_year'] == 9999].count())\n",
    "print('Минимальный год:', data['registration_year'].min())\n",
    "print('Количество аномальных значений равных 1000 лет:', \n",
    "      data['registration_year'].loc[data['registration_year'] == 1000].count())"
   ]
  },
  {
   "cell_type": "code",
   "execution_count": 40,
   "metadata": {},
   "outputs": [],
   "source": [
    "data['registration_year'] = data['registration_year'].loc[(data['registration_year'] >= 1885) & \n",
    "                                                          (data['registration_year'] <= 2016)]\n"
   ]
  },
  {
   "cell_type": "code",
   "execution_count": 41,
   "metadata": {},
   "outputs": [
    {
     "name": "stdout",
     "output_type": "stream",
     "text": [
      "Максимальный год: 2016.0\n",
      "Минимальный год: 1910.0\n"
     ]
    }
   ],
   "source": [
    "print('Максимальный год:', data['registration_year'].max())\n",
    "print('Минимальный год:', data['registration_year'].min())"
   ]
  },
  {
   "cell_type": "markdown",
   "metadata": {},
   "source": [
    "**2. Столбец `power`.**"
   ]
  },
  {
   "cell_type": "code",
   "execution_count": 42,
   "metadata": {},
   "outputs": [
    {
     "name": "stdout",
     "output_type": "stream",
     "text": [
      "Максимальное значение: 20000\n",
      "Минимальное значение: 0\n"
     ]
    }
   ],
   "source": [
    "print('Максимальное значение:', data['power'].max())\n",
    "print('Минимальное значение:', data['power'].min())"
   ]
  },
  {
   "cell_type": "code",
   "execution_count": 43,
   "metadata": {},
   "outputs": [],
   "source": [
    "data['power'] = data['power'].loc[(data['power'] >= 30) & \n",
    "                                  (data['power'] <= 600)]"
   ]
  },
  {
   "cell_type": "code",
   "execution_count": 44,
   "metadata": {},
   "outputs": [
    {
     "name": "stdout",
     "output_type": "stream",
     "text": [
      "Максимальное значение: 600.0\n",
      "Минимальное значение: 30.0\n"
     ]
    }
   ],
   "source": [
    "print('Максимальное значение:', data['power'].max())\n",
    "print('Минимальное значение:', data['power'].min())"
   ]
  },
  {
   "cell_type": "markdown",
   "metadata": {},
   "source": [
    "**3. Столбец `price`.**"
   ]
  },
  {
   "cell_type": "code",
   "execution_count": 45,
   "metadata": {},
   "outputs": [
    {
     "name": "stdout",
     "output_type": "stream",
     "text": [
      "Максимальная цена: 20000\n",
      "Минимальная цена: 0\n"
     ]
    }
   ],
   "source": [
    "print('Максимальная цена:', data['price'].max())\n",
    "print('Минимальная цена:', data['price'].min())"
   ]
  },
  {
   "cell_type": "code",
   "execution_count": 46,
   "metadata": {},
   "outputs": [],
   "source": [
    "data['price'] = data['price'].loc[(data['price'] >= 100)]"
   ]
  },
  {
   "cell_type": "markdown",
   "metadata": {},
   "source": [
    "### Заполнение пропусков после аномалий"
   ]
  },
  {
   "cell_type": "markdown",
   "metadata": {},
   "source": [
    "**Заполним пропуски** медианым значением."
   ]
  },
  {
   "cell_type": "code",
   "execution_count": 47,
   "metadata": {},
   "outputs": [],
   "source": [
    "data['registration_year'] = data['registration_year'].fillna(data['registration_year'].median())\n",
    "data['power'] = data['power'].fillna(data['power'].median())\n",
    "data['price'] = data['price'].fillna(data['price'].median())"
   ]
  },
  {
   "cell_type": "code",
   "execution_count": 48,
   "metadata": {},
   "outputs": [
    {
     "name": "stdout",
     "output_type": "stream",
     "text": [
      "<class 'pandas.core.frame.DataFrame'>\n",
      "Int64Index: 354365 entries, 0 to 354368\n",
      "Data columns (total 16 columns):\n",
      " #   Column              Non-Null Count   Dtype         \n",
      "---  ------              --------------   -----         \n",
      " 0   date_crawled        354365 non-null  datetime64[ns]\n",
      " 1   price               354365 non-null  float64       \n",
      " 2   vehicle_type        354365 non-null  object        \n",
      " 3   registration_year   354365 non-null  float64       \n",
      " 4   gearbox             354365 non-null  object        \n",
      " 5   power               354365 non-null  float64       \n",
      " 6   model               354365 non-null  object        \n",
      " 7   kilometer           354365 non-null  int64         \n",
      " 8   registration_month  354365 non-null  int64         \n",
      " 9   fuel_type           354365 non-null  object        \n",
      " 10  brand               354365 non-null  object        \n",
      " 11  repaired            354365 non-null  object        \n",
      " 12  date_created        354365 non-null  datetime64[ns]\n",
      " 13  number_of_pictures  354365 non-null  int64         \n",
      " 14  postal_code         354365 non-null  int64         \n",
      " 15  last_seen           354365 non-null  datetime64[ns]\n",
      "dtypes: datetime64[ns](3), float64(3), int64(4), object(6)\n",
      "memory usage: 46.0+ MB\n"
     ]
    }
   ],
   "source": [
    "data.info()"
   ]
  },
  {
   "cell_type": "markdown",
   "metadata": {},
   "source": [
    "### Вывод"
   ]
  },
  {
   "cell_type": "markdown",
   "metadata": {},
   "source": [
    "Данные подготовлены. Пропуски и дубликаты отсутствуют."
   ]
  },
  {
   "cell_type": "markdown",
   "metadata": {},
   "source": [
    "## Обучение моделей"
   ]
  },
  {
   "cell_type": "markdown",
   "metadata": {},
   "source": [
    "**Подготовим данные.**"
   ]
  },
  {
   "cell_type": "code",
   "execution_count": 49,
   "metadata": {},
   "outputs": [],
   "source": [
    "data = data.drop(['date_crawled', \n",
    "                  'date_created', \n",
    "                  'last_seen', \n",
    "                  'number_of_pictures', \n",
    "                  'postal_code', \n",
    "                  'registration_month'], axis=1)"
   ]
  },
  {
   "cell_type": "markdown",
   "metadata": {},
   "source": [
    "**Разобьем данные** на обучающую, валидационную и тестовую выборки **в отношении 3:1:1.**"
   ]
  },
  {
   "cell_type": "code",
   "execution_count": 50,
   "metadata": {},
   "outputs": [],
   "source": [
    "from sklearn.model_selection import train_test_split"
   ]
  },
  {
   "cell_type": "code",
   "execution_count": 51,
   "metadata": {},
   "outputs": [],
   "source": [
    "train, valid_test = train_test_split(data, test_size = .4, random_state=50)\n",
    "valid, test = train_test_split(valid_test, test_size = .5, random_state=50)"
   ]
  },
  {
   "cell_type": "code",
   "execution_count": 52,
   "metadata": {},
   "outputs": [
    {
     "name": "stdout",
     "output_type": "stream",
     "text": [
      "Размер обучающей выборки (212619, 10)    от общего 60.0 %\n",
      "Размер валидационной выборки (70873, 10) от общего 20.0 %\n",
      "Размер тренировочной выборки (70873, 10) от общего 20.0 %\n"
     ]
    }
   ],
   "source": [
    "print('Размер обучающей выборки', train.shape, '   от общего',(train.shape[0] / data.shape[0]) * 100,'%')\n",
    "print('Размер валидационной выборки', valid.shape, 'от общего',(valid.shape[0] / data.shape[0]) * 100,'%')\n",
    "print('Размер тренировочной выборки', test.shape, 'от общего',(test.shape[0] / data.shape[0]) * 100,'%')"
   ]
  },
  {
   "cell_type": "code",
   "execution_count": 53,
   "metadata": {},
   "outputs": [],
   "source": [
    "X_train = train.drop(['price'], axis=1)\n",
    "y_train = train['price']\n",
    "\n",
    "X_valid = valid.drop(['price'], axis=1)\n",
    "y_valid = valid['price']\n",
    "\n",
    "X_test = test.drop(['price'], axis=1)\n",
    "y_test = test['price']"
   ]
  },
  {
   "cell_type": "markdown",
   "metadata": {},
   "source": [
    "**Применим порядковое кодирование.**\n",
    "\n",
    "P.S. Прямое кодирование сильно раздует данные."
   ]
  },
  {
   "cell_type": "code",
   "execution_count": 54,
   "metadata": {},
   "outputs": [],
   "source": [
    "from sklearn.preprocessing import OrdinalEncoder"
   ]
  },
  {
   "cell_type": "code",
   "execution_count": 55,
   "metadata": {},
   "outputs": [],
   "source": [
    "encoder = OrdinalEncoder()\n",
    "X_train = pd.DataFrame(encoder.fit_transform(X_train), columns=X_train.columns) \n",
    "X_valid = pd.DataFrame(encoder.fit_transform(X_valid), columns=X_valid.columns) \n",
    "X_test = pd.DataFrame(encoder.fit_transform(X_test), columns=X_test.columns)"
   ]
  },
  {
   "cell_type": "markdown",
   "metadata": {},
   "source": [
    "### Без бустинга."
   ]
  },
  {
   "cell_type": "markdown",
   "metadata": {},
   "source": [
    "#### Обучение моделей без подбора гиперпараметров."
   ]
  },
  {
   "cell_type": "code",
   "execution_count": 56,
   "metadata": {},
   "outputs": [],
   "source": [
    "from sklearn.tree import DecisionTreeRegressor\n",
    "from sklearn.linear_model import LinearRegression\n",
    "from sklearn.ensemble import RandomForestRegressor\n",
    "from sklearn.dummy import DummyRegressor\n",
    "from sklearn.metrics import mean_absolute_error\n",
    "import time"
   ]
  },
  {
   "cell_type": "markdown",
   "metadata": {},
   "source": [
    "**Линейная регрессия.**"
   ]
  },
  {
   "cell_type": "code",
   "execution_count": 57,
   "metadata": {},
   "outputs": [
    {
     "name": "stdout",
     "output_type": "stream",
     "text": [
      "Время обучения линейной регрессии: 0.08 сек.\n"
     ]
    }
   ],
   "source": [
    "start_time_linear = time.time()\n",
    "\n",
    "model_linear = LinearRegression()\n",
    "model_linear.fit(X_train, y_train)\n",
    "\n",
    "time_linear_training = round(time.time() - start_time_linear, 2)\n",
    "print(f'Время обучения линейной регрессии: {time_linear_training} сек.')"
   ]
  },
  {
   "cell_type": "code",
   "execution_count": 58,
   "metadata": {},
   "outputs": [
    {
     "name": "stdout",
     "output_type": "stream",
     "text": [
      "Время предсказания линейной регрессии: 0.01 сек.\n"
     ]
    }
   ],
   "source": [
    "start_time_linear = time.time()\n",
    "\n",
    "predict_linear = model_linear.predict(X_valid)\n",
    "rmse_linear = mean_absolute_error(predict_linear, y_valid)\n",
    "\n",
    "time_linear_prediction = round(time.time() - start_time_linear, 2)\n",
    "print(f'Время предсказания линейной регрессии: {time_linear_prediction} сек.')"
   ]
  },
  {
   "cell_type": "code",
   "execution_count": 59,
   "metadata": {},
   "outputs": [
    {
     "name": "stdout",
     "output_type": "stream",
     "text": [
      "RMSE линейной регрессии: 2571.793981968411\n"
     ]
    }
   ],
   "source": [
    "print('RMSE линейной регрессии:', rmse_linear)"
   ]
  },
  {
   "cell_type": "markdown",
   "metadata": {},
   "source": [
    "**Дерево решений.**"
   ]
  },
  {
   "cell_type": "code",
   "execution_count": 60,
   "metadata": {},
   "outputs": [
    {
     "name": "stdout",
     "output_type": "stream",
     "text": [
      "Время обучения дерева решений: 0.96 сек.\n"
     ]
    }
   ],
   "source": [
    "start_time_tree = time.time()\n",
    "\n",
    "model_tree = DecisionTreeRegressor()\n",
    "model_tree.fit(X_train, y_train)\n",
    "\n",
    "time_tree_training = round(time.time() - start_time_tree, 2)\n",
    "print(f'Время обучения дерева решений: {time_tree_training} сек.')"
   ]
  },
  {
   "cell_type": "code",
   "execution_count": 61,
   "metadata": {},
   "outputs": [
    {
     "name": "stdout",
     "output_type": "stream",
     "text": [
      "Время предсказания дерева решений: 0.04 сек.\n"
     ]
    }
   ],
   "source": [
    "start_time_tree = time.time()\n",
    "\n",
    "predict_tree = model_tree.predict(X_valid)\n",
    "rmse_tree = mean_absolute_error(predict_tree, y_valid)\n",
    "\n",
    "time_tree_prediction = round(time.time() - start_time_tree, 2)\n",
    "print(f'Время предсказания дерева решений: {time_tree_prediction} сек.')"
   ]
  },
  {
   "cell_type": "code",
   "execution_count": 62,
   "metadata": {},
   "outputs": [
    {
     "name": "stdout",
     "output_type": "stream",
     "text": [
      "RMSE дерева решений: 3505.1700383501907\n"
     ]
    }
   ],
   "source": [
    "print('RMSE дерева решений:', rmse_tree)"
   ]
  },
  {
   "cell_type": "markdown",
   "metadata": {},
   "source": [
    "**Случайный лес.**"
   ]
  },
  {
   "cell_type": "code",
   "execution_count": 63,
   "metadata": {},
   "outputs": [
    {
     "name": "stdout",
     "output_type": "stream",
     "text": [
      "Время обучения случайного леса: 70.15 сек.\n"
     ]
    }
   ],
   "source": [
    "start_time_forest = time.time()\n",
    "\n",
    "model_forest = RandomForestRegressor()\n",
    "model_forest.fit(X_train, y_train)\n",
    "\n",
    "time_forest_training = round(time.time() - start_time_forest, 2)\n",
    "print(f'Время обучения случайного леса: {time_forest_training} сек.')"
   ]
  },
  {
   "cell_type": "code",
   "execution_count": 64,
   "metadata": {},
   "outputs": [
    {
     "name": "stdout",
     "output_type": "stream",
     "text": [
      "Время предсказания случайного леса: 2.74 сек.\n"
     ]
    }
   ],
   "source": [
    "start_time_forest = time.time()\n",
    "\n",
    "predict_forest = model_forest.predict(X_valid)\n",
    "rmse_forest = mean_absolute_error(predict_forest, y_valid)\n",
    "\n",
    "time_forest_prediction = round(time.time() - start_time_forest, 2)\n",
    "print(f'Время предсказания случайного леса: {time_forest_prediction} сек.')"
   ]
  },
  {
   "cell_type": "code",
   "execution_count": 65,
   "metadata": {},
   "outputs": [
    {
     "name": "stdout",
     "output_type": "stream",
     "text": [
      "RMSE случайного леса: 3015.7055013276135\n"
     ]
    }
   ],
   "source": [
    "print('RMSE случайного леса:', rmse_forest)"
   ]
  },
  {
   "cell_type": "markdown",
   "metadata": {},
   "source": [
    "**Дамми регрессия.**"
   ]
  },
  {
   "cell_type": "code",
   "execution_count": 66,
   "metadata": {},
   "outputs": [
    {
     "name": "stdout",
     "output_type": "stream",
     "text": [
      "Время обучения дамми регрессии: 0.0 сек.\n"
     ]
    }
   ],
   "source": [
    "start_time_dummy = time.time()\n",
    "\n",
    "model_dummy = DummyRegressor()\n",
    "model_dummy.fit(X_train, y_train)\n",
    "\n",
    "time_dummy_training = round(time.time() - start_time_dummy, 2)\n",
    "print(f'Время обучения дамми регрессии: {time_dummy_training} сек.')"
   ]
  },
  {
   "cell_type": "code",
   "execution_count": 67,
   "metadata": {},
   "outputs": [
    {
     "name": "stdout",
     "output_type": "stream",
     "text": [
      "Время предсказания дамми регрессии: 0.0 сек.\n"
     ]
    }
   ],
   "source": [
    "start_time_dummy = time.time()\n",
    "\n",
    "predict_dummy = model_dummy.predict(X_valid)\n",
    "rmse_dummy = mean_absolute_error(predict_dummy, y_valid)\n",
    "\n",
    "time_dummy_prediction = round(time.time() - start_time_dummy, 2)\n",
    "print(f'Время предсказания дамми регрессии: {time_dummy_prediction} сек.')"
   ]
  },
  {
   "cell_type": "code",
   "execution_count": 68,
   "metadata": {},
   "outputs": [
    {
     "name": "stdout",
     "output_type": "stream",
     "text": [
      "RMSE дамми регрессии: 3440.1283435249106\n"
     ]
    }
   ],
   "source": [
    "print('RMSE дамми регрессии:', rmse_dummy)"
   ]
  },
  {
   "cell_type": "code",
   "execution_count": 69,
   "metadata": {},
   "outputs": [
    {
     "data": {
      "text/html": [
       "<div>\n",
       "<style scoped>\n",
       "    .dataframe tbody tr th:only-of-type {\n",
       "        vertical-align: middle;\n",
       "    }\n",
       "\n",
       "    .dataframe tbody tr th {\n",
       "        vertical-align: top;\n",
       "    }\n",
       "\n",
       "    .dataframe thead th {\n",
       "        text-align: right;\n",
       "    }\n",
       "</style>\n",
       "<table border=\"1\" class=\"dataframe\">\n",
       "  <thead>\n",
       "    <tr style=\"text-align: right;\">\n",
       "      <th></th>\n",
       "      <th>RMSE</th>\n",
       "    </tr>\n",
       "  </thead>\n",
       "  <tbody>\n",
       "    <tr>\n",
       "      <th>Линейная регрессия</th>\n",
       "      <td>2571.793982</td>\n",
       "    </tr>\n",
       "    <tr>\n",
       "      <th>Случайный лес</th>\n",
       "      <td>3015.705501</td>\n",
       "    </tr>\n",
       "    <tr>\n",
       "      <th>Дамми регрессия</th>\n",
       "      <td>3440.128344</td>\n",
       "    </tr>\n",
       "    <tr>\n",
       "      <th>Дерево решений</th>\n",
       "      <td>3505.170038</td>\n",
       "    </tr>\n",
       "  </tbody>\n",
       "</table>\n",
       "</div>"
      ],
      "text/plain": [
       "                           RMSE\n",
       "Линейная регрессия  2571.793982\n",
       "Случайный лес       3015.705501\n",
       "Дамми регрессия     3440.128344\n",
       "Дерево решений      3505.170038"
      ]
     },
     "metadata": {},
     "output_type": "display_data"
    }
   ],
   "source": [
    "model_no_hyperparameters = pd.DataFrame({'Линейная регрессия' : [rmse_linear],\n",
    "                                            'Дерево решений' : [rmse_tree],\n",
    "                                            'Случайный лес' : [rmse_forest],\n",
    "                                            'Дамми регрессия' : [rmse_dummy]}).T\n",
    "\n",
    "\n",
    "model_no_hyperparameters.columns = ['RMSE']\n",
    "model_no_hyperparameters = model_no_hyperparameters.sort_values('RMSE', ascending=True)\n",
    "display(model_no_hyperparameters)"
   ]
  },
  {
   "cell_type": "markdown",
   "metadata": {},
   "source": [
    "#### Обучение моделей c подбором гиперпараметров."
   ]
  },
  {
   "cell_type": "code",
   "execution_count": 70,
   "metadata": {},
   "outputs": [],
   "source": [
    "best_model_tree = None\n",
    "best_model_forest = None\n",
    "\n",
    "best_result_tree = 5000\n",
    "best_result_forest = 5000"
   ]
  },
  {
   "cell_type": "markdown",
   "metadata": {},
   "source": [
    "**Дерево решений с подбором гиперпараметров.**"
   ]
  },
  {
   "cell_type": "code",
   "execution_count": 71,
   "metadata": {},
   "outputs": [
    {
     "name": "stdout",
     "output_type": "stream",
     "text": [
      "Время обучения дерева решений: 9.209999999999999 сек.\n",
      "Время предсказания дерева решений: 0.20999999999999996 сек.\n"
     ]
    }
   ],
   "source": [
    "time_tree_g_training, time_tree_g_prediction = 0, 0\n",
    "\n",
    "\n",
    "for depth in range(1, 30, 2):\n",
    "    #-----------------------Обучение модели------------------------------------------------#\n",
    "    start_time_tree_g = time.time()\n",
    "    model_tree_g = DecisionTreeRegressor(max_depth=depth)\n",
    "    model_tree_g.fit(X_train, y_train)\n",
    "    time_tree_g_training += round(time.time() - start_time_tree_g, 2)\n",
    "    #-----------------------Предсказание модели--------------------------------------------#\n",
    "    start_time_tree_g = time.time()\n",
    "    predict_tree_g = model_tree_g.predict(X_valid)\n",
    "    rmse_tree_g = mean_absolute_error(predict_tree_g, y_valid)\n",
    "    time_tree_g_prediction += round(time.time() - start_time_tree_g, 2)\n",
    "    #-----------------------Выбор лучшей модели--------------------------------------------#\n",
    "    if best_result_tree > rmse_tree_g:\n",
    "        best_result_tree = rmse_tree_g\n",
    "        best_model_tree = model_tree_g\n",
    "\n",
    "print(f'Время обучения дерева решений: {time_tree_g_training} сек.')\n",
    "print(f'Время предсказания дерева решений: {time_tree_g_prediction} сек.')"
   ]
  },
  {
   "cell_type": "code",
   "execution_count": 72,
   "metadata": {},
   "outputs": [
    {
     "name": "stdout",
     "output_type": "stream",
     "text": [
      "Лучшая модель: DecisionTreeRegressor(max_depth=3)\n",
      "RMSE дерева решений: 2916.192462338322\n"
     ]
    }
   ],
   "source": [
    "print('Лучшая модель:', best_model_tree)\n",
    "print('RMSE дерева решений:', best_result_tree)"
   ]
  },
  {
   "cell_type": "markdown",
   "metadata": {},
   "source": [
    "**Случайный лес с подбором гиперпараметров.**"
   ]
  },
  {
   "cell_type": "code",
   "execution_count": 73,
   "metadata": {},
   "outputs": [
    {
     "name": "stdout",
     "output_type": "stream",
     "text": [
      "Время обучения случайного леса: 68.49 сек.\n",
      "Время предсказания случайного леса: 1.1700000000000002 сек.\n"
     ]
    }
   ],
   "source": [
    "time_forest_g_training, time_forest_g_prediction = 0, 0\n",
    "\n",
    "for est in range(12, 18, 2):\n",
    "    for depth in range(1, 15, 2):\n",
    "        #-----------------------Обучение модели------------------------------------------------#\n",
    "        start_time_forest_g = time.time()\n",
    "        model_forest_g = RandomForestRegressor(n_estimators=est, max_depth=depth)\n",
    "        model_forest_g.fit(X_train, y_train)\n",
    "        time_forest_g_training += round(time.time() - start_time_forest_g, 2)\n",
    "        #-----------------------Предсказание модели--------------------------------------------#\n",
    "        start_time_forest_g = time.time()\n",
    "        predict_forest_g = model_forest_g.predict(X_valid)\n",
    "        rmse_forest_g = mean_absolute_error(predict_forest_g, y_valid)\n",
    "        time_forest_g_prediction += round(time.time() - start_time_forest_g, 2)\n",
    "        #-----------------------Выбор лучшей модели--------------------------------------------#\n",
    "        if best_result_forest > rmse_forest_g:\n",
    "            best_result_forest = rmse_forest_g\n",
    "            best_model_forest = model_forest_g\n",
    "\n",
    "\n",
    "print(f'Время обучения случайного леса: {time_forest_g_training} сек.')\n",
    "print(f'Время предсказания случайного леса: {time_forest_g_prediction} сек.')"
   ]
  },
  {
   "cell_type": "code",
   "execution_count": 74,
   "metadata": {},
   "outputs": [
    {
     "name": "stdout",
     "output_type": "stream",
     "text": [
      "Лучшая модель: RandomForestRegressor(max_depth=3, n_estimators=12)\n",
      "RMSE случайного леса: 2910.653900780293\n"
     ]
    }
   ],
   "source": [
    "print('Лучшая модель:', best_model_forest)\n",
    "print('RMSE случайного леса:', best_result_forest)"
   ]
  },
  {
   "cell_type": "markdown",
   "metadata": {},
   "source": [
    "Отобразим полученные данные."
   ]
  },
  {
   "cell_type": "code",
   "execution_count": 75,
   "metadata": {},
   "outputs": [
    {
     "data": {
      "text/html": [
       "<div>\n",
       "<style scoped>\n",
       "    .dataframe tbody tr th:only-of-type {\n",
       "        vertical-align: middle;\n",
       "    }\n",
       "\n",
       "    .dataframe tbody tr th {\n",
       "        vertical-align: top;\n",
       "    }\n",
       "\n",
       "    .dataframe thead th {\n",
       "        text-align: right;\n",
       "    }\n",
       "</style>\n",
       "<table border=\"1\" class=\"dataframe\">\n",
       "  <thead>\n",
       "    <tr style=\"text-align: right;\">\n",
       "      <th></th>\n",
       "      <th>RMSE</th>\n",
       "    </tr>\n",
       "  </thead>\n",
       "  <tbody>\n",
       "    <tr>\n",
       "      <th>Линейная регрессия</th>\n",
       "      <td>-</td>\n",
       "    </tr>\n",
       "    <tr>\n",
       "      <th>Дерево решений</th>\n",
       "      <td>2916.192462</td>\n",
       "    </tr>\n",
       "    <tr>\n",
       "      <th>Случайный лес</th>\n",
       "      <td>2910.653901</td>\n",
       "    </tr>\n",
       "    <tr>\n",
       "      <th>Дамми регрессия</th>\n",
       "      <td>-</td>\n",
       "    </tr>\n",
       "  </tbody>\n",
       "</table>\n",
       "</div>"
      ],
      "text/plain": [
       "                           RMSE\n",
       "Линейная регрессия            -\n",
       "Дерево решений      2916.192462\n",
       "Случайный лес       2910.653901\n",
       "Дамми регрессия               -"
      ]
     },
     "metadata": {},
     "output_type": "display_data"
    }
   ],
   "source": [
    "model_yes_hyperparameters = pd.DataFrame({'Линейная регрессия' : '-',\n",
    "                                            'Дерево решений' : [best_result_tree],\n",
    "                                            'Случайный лес' : [best_result_forest],\n",
    "                                            'Дамми регрессия' : '-'}).T\n",
    "\n",
    "\n",
    "model_yes_hyperparameters.columns = ['RMSE']\n",
    "display(model_yes_hyperparameters)"
   ]
  },
  {
   "cell_type": "markdown",
   "metadata": {},
   "source": [
    "#### Вывод"
   ]
  },
  {
   "cell_type": "code",
   "execution_count": 76,
   "metadata": {},
   "outputs": [
    {
     "data": {
      "text/html": [
       "<div>\n",
       "<style scoped>\n",
       "    .dataframe tbody tr th:only-of-type {\n",
       "        vertical-align: middle;\n",
       "    }\n",
       "\n",
       "    .dataframe tbody tr th {\n",
       "        vertical-align: top;\n",
       "    }\n",
       "\n",
       "    .dataframe thead th {\n",
       "        text-align: right;\n",
       "    }\n",
       "</style>\n",
       "<table border=\"1\" class=\"dataframe\">\n",
       "  <thead>\n",
       "    <tr style=\"text-align: right;\">\n",
       "      <th></th>\n",
       "      <th>Без подбора (RMSE)</th>\n",
       "      <th>С подбором (RMSE)</th>\n",
       "    </tr>\n",
       "  </thead>\n",
       "  <tbody>\n",
       "    <tr>\n",
       "      <th>Линейная регрессия</th>\n",
       "      <td>2571.793982</td>\n",
       "      <td>-</td>\n",
       "    </tr>\n",
       "    <tr>\n",
       "      <th>Дерево решений</th>\n",
       "      <td>3505.170038</td>\n",
       "      <td>2916.192462</td>\n",
       "    </tr>\n",
       "    <tr>\n",
       "      <th>Случайный лес</th>\n",
       "      <td>3015.705501</td>\n",
       "      <td>2910.653901</td>\n",
       "    </tr>\n",
       "    <tr>\n",
       "      <th>Дамми регрессия</th>\n",
       "      <td>3440.128344</td>\n",
       "      <td>-</td>\n",
       "    </tr>\n",
       "  </tbody>\n",
       "</table>\n",
       "</div>"
      ],
      "text/plain": [
       "                   Без подбора (RMSE) С подбором (RMSE)\n",
       "Линейная регрессия        2571.793982                 -\n",
       "Дерево решений            3505.170038       2916.192462\n",
       "Случайный лес             3015.705501       2910.653901\n",
       "Дамми регрессия           3440.128344                 -"
      ]
     },
     "metadata": {},
     "output_type": "display_data"
    }
   ],
   "source": [
    "model_hyperparameters = pd.DataFrame({'Линейная регрессия' : [rmse_linear, '-'],\n",
    "                                            'Дерево решений' : [rmse_tree, best_result_tree],\n",
    "                                            'Случайный лес' : [rmse_forest, best_result_forest],\n",
    "                                            'Дамми регрессия' : [rmse_dummy, '-']}).T\n",
    "\n",
    "\n",
    "model_hyperparameters.columns = ['Без подбора (RMSE)', 'С подбором (RMSE)']\n",
    "display(model_hyperparameters)"
   ]
  },
  {
   "cell_type": "markdown",
   "metadata": {},
   "source": [
    "### Модели с бустингом."
   ]
  },
  {
   "cell_type": "code",
   "execution_count": 77,
   "metadata": {},
   "outputs": [],
   "source": [
    "from lightgbm import LGBMRegressor\n",
    "from catboost import CatBoostRegressor\n",
    "from lightgbm import plot_importance\n",
    "from sklearn.datasets import load_boston\n",
    "from sklearn.metrics import mean_squared_error\n",
    "import matplotlib.pyplot as plt"
   ]
  },
  {
   "cell_type": "code",
   "execution_count": 78,
   "metadata": {},
   "outputs": [
    {
     "name": "stdout",
     "output_type": "stream",
     "text": [
      "Training until validation scores don't improve for 50 rounds\n",
      "[100]\ttraining's l2: 3.15514e+06\tvalid_1's l2: 9.79621e+06\n",
      "Did not meet early stopping. Best iteration is:\n",
      "[100]\ttraining's l2: 3.15514e+06\tvalid_1's l2: 9.79621e+06\n",
      "MSE 9796207.11\n"
     ]
    },
    {
     "data": {
      "image/png": "[encoded data removed]",
      "text/plain": [
       "<Figure size 432x288 with 1 Axes>"
      ]
     },
     "metadata": {
      "needs_background": "light"
     },
     "output_type": "display_data"
    }
   ],
   "source": [
    "model = LGBMRegressor(\n",
    "    boosting_type='gbdt',\n",
    "    num_leaves=31,\n",
    "    max_depth=-1,\n",
    "    learning_rate=0.1,\n",
    "    n_estimators=100,\n",
    "    objective='regression', # The default is two categories\n",
    "    min_split_gain=0.0,\n",
    "    min_child_samples=20,\n",
    "    subsample=1.0,\n",
    "    subsample_freq=0,\n",
    "    colsample_bytree=1.0,\n",
    "    reg_alpha=0.0,\n",
    "    reg_lambda=0.0,\n",
    "    random_state=None,\n",
    "    silent=True\n",
    ")\n",
    "\n",
    "model.fit(X_train,y_train, eval_set=[(X_train, y_train), (X_test, y_test)], \n",
    "          verbose=100, early_stopping_rounds=50)\n",
    "\n",
    "y_pred = model.predict(X_test)\n",
    "mse = round(mean_squared_error(y_test, y_pred), 2)\n",
    "print('MSE', mse)\n",
    "\n",
    "plot_importance(model)\n",
    "plt.show()"
   ]
  },
  {
   "cell_type": "markdown",
   "metadata": {},
   "source": [
    "**Бустинг для категориальных признаков.**"
   ]
  },
  {
   "cell_type": "code",
   "execution_count": 79,
   "metadata": {},
   "outputs": [
    {
     "data": {
      "application/vnd.jupyter.widget-view+json": {
       "model_id": "fd840ab0cc0d43a5bef3a102018c6d2c",
       "version_major": 2,
       "version_minor": 0
      },
      "text/plain": [
       "MetricVisualizer(layout=Layout(align_self='stretch', height='500px'))"
      ]
     },
     "metadata": {},
     "output_type": "display_data"
    },
    {
     "name": "stdout",
     "output_type": "stream",
     "text": [
      "Learning rate set to 0.095486\n",
      "0:\tlearn: 4187.6677082\ttotal: 75ms\tremaining: 1m 14s\n",
      "100:\tlearn: 1915.0357615\ttotal: 2.37s\tremaining: 21.1s\n",
      "200:\tlearn: 1828.3429319\ttotal: 4.62s\tremaining: 18.4s\n",
      "300:\tlearn: 1780.6431658\ttotal: 6.8s\tremaining: 15.8s\n",
      "400:\tlearn: 1748.5231747\ttotal: 8.93s\tremaining: 13.3s\n",
      "500:\tlearn: 1724.1255648\ttotal: 11.1s\tremaining: 11s\n",
      "600:\tlearn: 1703.6491098\ttotal: 13.4s\tremaining: 8.9s\n",
      "700:\tlearn: 1686.9735718\ttotal: 15.5s\tremaining: 6.6s\n",
      "800:\tlearn: 1672.0016880\ttotal: 17.6s\tremaining: 4.37s\n",
      "900:\tlearn: 1659.2654311\ttotal: 19.6s\tremaining: 2.16s\n",
      "999:\tlearn: 1647.8016574\ttotal: 21.6s\tremaining: 0us\n"
     ]
    }
   ],
   "source": [
    "cat = CatBoostRegressor(iterations=1000, loss_function = 'RMSE')\n",
    "\n",
    "#-----------------------Обучение модели------------------------------------------------#\n",
    "\n",
    "start_time_cat_t = time.time()\n",
    "cat.fit(X_train, y_train, verbose=100, plot=True)\n",
    "time_cat_training = round(time.time() - start_time_cat_t, 2)\n",
    "\n",
    "#-----------------------Предсказание модели--------------------------------------------#\n",
    "\n",
    "start_time_cat_p = time.time()\n",
    "predict_cat = cat.predict(X_valid)\n",
    "time_cat_prediction = round(time.time() - start_time_cat_p, 2)"
   ]
  },
  {
   "cell_type": "code",
   "execution_count": 80,
   "metadata": {},
   "outputs": [
    {
     "name": "stdout",
     "output_type": "stream",
     "text": [
      "Время обучения Кэтбуста: 21.98 сек.\n",
      "Время предсказания Кэтбуста: 0.03 сек.\n"
     ]
    }
   ],
   "source": [
    "print(f'Время обучения Кэтбуста: {time_cat_training} сек.')\n",
    "print(f'Время предсказания Кэтбуста: {time_cat_prediction} сек.')"
   ]
  },
  {
   "cell_type": "code",
   "execution_count": 81,
   "metadata": {},
   "outputs": [
    {
     "name": "stdout",
     "output_type": "stream",
     "text": [
      "RMSE Кэтбуста: 2852.2476232088056\n"
     ]
    }
   ],
   "source": [
    "rmse_cat = round(mean_absolute_error(y_valid, predict_cat), 2)\n",
    "print('RMSE Кэтбуста:', rmse_cat)"
   ]
  },
  {
   "cell_type": "markdown",
   "metadata": {},
   "source": [
    "## Анализ моделей"
   ]
  },
  {
   "cell_type": "markdown",
   "metadata": {},
   "source": [
    "**Проанализируем время обучения, время предсказания и качество моделей.**"
   ]
  },
  {
   "cell_type": "markdown",
   "metadata": {},
   "source": [
    "**Отобразим** полученные **данные.**"
   ]
  },
  {
   "cell_type": "code",
   "execution_count": 82,
   "metadata": {},
   "outputs": [
    {
     "data": {
      "text/html": [
       "<div>\n",
       "<style scoped>\n",
       "    .dataframe tbody tr th:only-of-type {\n",
       "        vertical-align: middle;\n",
       "    }\n",
       "\n",
       "    .dataframe tbody tr th {\n",
       "        vertical-align: top;\n",
       "    }\n",
       "\n",
       "    .dataframe thead th {\n",
       "        text-align: right;\n",
       "    }\n",
       "</style>\n",
       "<table border=\"1\" class=\"dataframe\">\n",
       "  <thead>\n",
       "    <tr style=\"text-align: right;\">\n",
       "      <th></th>\n",
       "      <th>Лучшая метрика (RMSE)</th>\n",
       "      <th>Время обучения моделей</th>\n",
       "      <th>Время предсказания моделей</th>\n",
       "      <th>Общее затраченное время</th>\n",
       "    </tr>\n",
       "  </thead>\n",
       "  <tbody>\n",
       "    <tr>\n",
       "      <th>Линейная регрессия</th>\n",
       "      <td>2571.793982</td>\n",
       "      <td>0.08</td>\n",
       "      <td>0.01</td>\n",
       "      <td>0.09</td>\n",
       "    </tr>\n",
       "    <tr>\n",
       "      <th>Дерево решений</th>\n",
       "      <td>2916.192462</td>\n",
       "      <td>9.21</td>\n",
       "      <td>0.21</td>\n",
       "      <td>9.42</td>\n",
       "    </tr>\n",
       "    <tr>\n",
       "      <th>Случайный лес</th>\n",
       "      <td>2910.653901</td>\n",
       "      <td>68.49</td>\n",
       "      <td>1.17</td>\n",
       "      <td>69.66</td>\n",
       "    </tr>\n",
       "    <tr>\n",
       "      <th>Дамми регрессия</th>\n",
       "      <td>3440.128344</td>\n",
       "      <td>0.0</td>\n",
       "      <td>0.0</td>\n",
       "      <td>0.0</td>\n",
       "    </tr>\n",
       "    <tr>\n",
       "      <th>Экс. гр. бустинг</th>\n",
       "      <td>-</td>\n",
       "      <td>-</td>\n",
       "      <td>-</td>\n",
       "      <td>-</td>\n",
       "    </tr>\n",
       "    <tr>\n",
       "      <th>Легкий. гр. бустинг</th>\n",
       "      <td>-</td>\n",
       "      <td>-</td>\n",
       "      <td>-</td>\n",
       "      <td>-</td>\n",
       "    </tr>\n",
       "    <tr>\n",
       "      <th>Кэтбуст</th>\n",
       "      <td>2852.247623</td>\n",
       "      <td>21.98</td>\n",
       "      <td>0.03</td>\n",
       "      <td>22.01</td>\n",
       "    </tr>\n",
       "  </tbody>\n",
       "</table>\n",
       "</div>"
      ],
      "text/plain": [
       "                    Лучшая метрика (RMSE) Время обучения моделей  \\\n",
       "Линейная регрессия            2571.793982                   0.08   \n",
       "Дерево решений                2916.192462                   9.21   \n",
       "Случайный лес                 2910.653901                  68.49   \n",
       "Дамми регрессия               3440.128344                    0.0   \n",
       "Экс. гр. бустинг                        -                      -   \n",
       "Легкий. гр. бустинг                     -                      -   \n",
       "Кэтбуст                       2852.247623                  21.98   \n",
       "\n",
       "                    Время предсказания моделей Общее затраченное время  \n",
       "Линейная регрессия                        0.01                    0.09  \n",
       "Дерево решений                            0.21                    9.42  \n",
       "Случайный лес                             1.17                   69.66  \n",
       "Дамми регрессия                            0.0                     0.0  \n",
       "Экс. гр. бустинг                             -                       -  \n",
       "Легкий. гр. бустинг                          -                       -  \n",
       "Кэтбуст                                   0.03                   22.01  "
      ]
     },
     "metadata": {},
     "output_type": "display_data"
    }
   ],
   "source": [
    "model_quality = pd.DataFrame({'Линейная регрессия' : [rmse_linear],\n",
    "                              'Дерево решений' :     [best_result_tree],\n",
    "                              'Случайный лес' :      [best_result_forest],\n",
    "                              'Дамми регрессия' :    [rmse_dummy],\n",
    "                              'Экс. гр. бустинг' :   ['-'],\n",
    "                              'Легкий. гр. бустинг' :['-'],\n",
    "                              'Кэтбуст' :            [rmse_cat]}).T\n",
    "\n",
    "\n",
    "model_quality.columns = ['Лучшая метрика (RMSE)']\n",
    "\n",
    "model_training_time = pd.DataFrame({'Линейная регрессия' : [time_linear_training, \n",
    "                                                            time_linear_prediction,\n",
    "                                                            time_linear_training + time_linear_prediction],\n",
    "                                    'Дерево решений' :     [time_tree_g_training, \n",
    "                                                            time_tree_g_prediction,\n",
    "                                                            time_tree_g_training + time_tree_g_prediction],\n",
    "                                    'Случайный лес' :      [time_forest_g_training, \n",
    "                                                            time_forest_g_prediction,\n",
    "                                                            time_forest_g_training + time_forest_g_prediction],\n",
    "                                    'Дамми регрессия' :    [time_dummy_training,\n",
    "                                                            time_dummy_prediction,\n",
    "                                                            time_dummy_training + time_dummy_prediction],\n",
    "                                    'Экс. гр. бустинг' :   ['-', '-', '-'],\n",
    "                                    'Легкий. гр. бустинг' :['-', '-', '-'],\n",
    "                                    'Кэтбуст' :            [time_cat_training,\n",
    "                                                            time_cat_prediction,\n",
    "                                                            time_cat_training + time_cat_prediction]}).T\n",
    "\n",
    "\n",
    "model_training_time.columns = ['Время обучения моделей', 'Время предсказания моделей', 'Общее затраченное время']\n",
    "\n",
    "srd_model = model_quality.join(model_training_time)\n",
    "display(srd_model)"
   ]
  },
  {
   "cell_type": "markdown",
   "metadata": {},
   "source": [
    "Заметим, что четыре модели (линейная регрессия, дерево решений, случайный лес и дамми регрессия) не преодолели метрику RMSE равную 2500, поэтому не могут учавствовать в исследовании. Поэтому остаются три модели с градиентным бустингом. Лучшая из этих моделей Кэтбуст по полученной метрике, времени обучению и предсказания. Последний этап протестировать лучшую модель."
   ]
  },
  {
   "cell_type": "markdown",
   "metadata": {},
   "source": [
    "**Тестирование наилучшей модели.**"
   ]
  },
  {
   "cell_type": "code",
   "execution_count": 84,
   "metadata": {},
   "outputs": [
    {
     "name": "stdout",
     "output_type": "stream",
     "text": [
      "RMSE Кэтбуста: 2109.52\n"
     ]
    }
   ],
   "source": [
    "predict_cat_t = cat.predict(X_test)\n",
    "rmse_cat_t = round(mean_absolute_error(y_test, predict_cat_t), 2)\n",
    "print('RMSE Кэтбуста:', rmse_cat_t)"
   ]
  },
  {
   "cell_type": "markdown",
   "metadata": {},
   "source": [
    "## Общий вывод "
   ]
  },
  {
   "cell_type": "markdown",
   "metadata": {},
   "source": [
    "В данном проекте осуществлена **подготовка данных** (исследование на аномании, проверка на дубликаты, преобразование столбцов, заполнение пропущенных значений), **обучение модели без/с подбором гиперпараметров**, **обучены модели с градиентным бустингом**, **произведен анализ моделей** (качество метрики, время обучения и предсказания моделей) и **выяснена модель с наилучшей метрикой.**\n",
    "    \n",
    "    \n",
    "Дерево решений, линейной регресии и случайный лес не подходят из-за высокого RMSE. Дамми регрессия самая быстрая, но самая не точная. Модель с наилучшей метрикой RMSE является (), и время обучения составляет (), а время предсказания (), что лучше из всех обучаемых моделей."
   ]
  }
 ],
 "metadata": {
  "ExecuteTimeLog": [
   {
    "duration": 393,
    "start_time": "2022-09-28T07:41:59.874Z"
   },
   {
    "duration": 1142,
    "start_time": "2022-09-28T07:42:23.859Z"
   },
   {
    "duration": 116,
    "start_time": "2022-09-28T07:42:32.366Z"
   },
   {
    "duration": 87,
    "start_time": "2022-09-28T07:47:51.354Z"
   },
   {
    "duration": 4,
    "start_time": "2022-09-28T07:48:06.801Z"
   },
   {
    "duration": 109,
    "start_time": "2022-09-28T07:48:15.947Z"
   },
   {
    "duration": 10,
    "start_time": "2022-09-28T07:50:34.423Z"
   },
   {
    "duration": 16,
    "start_time": "2022-09-28T07:50:39.448Z"
   },
   {
    "duration": 9,
    "start_time": "2022-09-28T07:50:49.878Z"
   },
   {
    "duration": 142,
    "start_time": "2022-09-28T07:50:53.619Z"
   },
   {
    "duration": 107,
    "start_time": "2022-09-28T07:52:09.136Z"
   },
   {
    "duration": 111,
    "start_time": "2022-09-28T07:52:18.714Z"
   },
   {
    "duration": 110,
    "start_time": "2022-09-28T07:52:24.677Z"
   },
   {
    "duration": 7,
    "start_time": "2022-09-28T07:52:58.036Z"
   },
   {
    "duration": 6,
    "start_time": "2022-09-28T07:53:11.375Z"
   },
   {
    "duration": 107,
    "start_time": "2022-09-28T07:53:14.049Z"
   },
   {
    "duration": 109,
    "start_time": "2022-09-28T07:53:19.796Z"
   },
   {
    "duration": 396,
    "start_time": "2022-09-28T07:53:49.620Z"
   },
   {
    "duration": 770,
    "start_time": "2022-09-28T07:53:50.017Z"
   },
   {
    "duration": 116,
    "start_time": "2022-09-28T07:53:50.788Z"
   },
   {
    "duration": 4,
    "start_time": "2022-09-28T07:53:50.906Z"
   },
   {
    "duration": 113,
    "start_time": "2022-09-28T07:53:50.912Z"
   },
   {
    "duration": 165,
    "start_time": "2022-09-28T07:54:17.295Z"
   },
   {
    "duration": 104,
    "start_time": "2022-09-28T07:55:10.889Z"
   },
   {
    "duration": 141,
    "start_time": "2022-09-28T07:55:16.658Z"
   },
   {
    "duration": 108,
    "start_time": "2022-09-28T07:55:56.548Z"
   },
   {
    "duration": 137,
    "start_time": "2022-09-28T07:56:01.354Z"
   },
   {
    "duration": 107,
    "start_time": "2022-09-28T07:56:40.237Z"
   },
   {
    "duration": 104,
    "start_time": "2022-09-28T07:56:45.339Z"
   },
   {
    "duration": 127,
    "start_time": "2022-09-28T07:56:57.119Z"
   },
   {
    "duration": 107,
    "start_time": "2022-09-28T07:57:21.745Z"
   },
   {
    "duration": 111,
    "start_time": "2022-09-28T07:57:30.642Z"
   },
   {
    "duration": 102,
    "start_time": "2022-09-28T07:57:43.136Z"
   },
   {
    "duration": 121,
    "start_time": "2022-09-28T07:57:54.229Z"
   },
   {
    "duration": 112,
    "start_time": "2022-09-28T07:57:58.200Z"
   },
   {
    "duration": 130,
    "start_time": "2022-09-28T07:58:36.768Z"
   },
   {
    "duration": 105,
    "start_time": "2022-09-28T07:59:01.424Z"
   },
   {
    "duration": 8,
    "start_time": "2022-09-28T07:59:59.535Z"
   },
   {
    "duration": 8,
    "start_time": "2022-09-28T08:00:02.218Z"
   },
   {
    "duration": 99,
    "start_time": "2022-09-28T08:03:22.790Z"
   },
   {
    "duration": 135,
    "start_time": "2022-09-28T08:03:30.635Z"
   },
   {
    "duration": 3,
    "start_time": "2022-09-28T08:04:25.155Z"
   },
   {
    "duration": 137,
    "start_time": "2022-09-28T08:04:30.514Z"
   },
   {
    "duration": 145,
    "start_time": "2022-09-28T08:04:59.862Z"
   },
   {
    "duration": 106,
    "start_time": "2022-09-28T08:05:10.487Z"
   },
   {
    "duration": 112,
    "start_time": "2022-09-28T08:05:30.119Z"
   },
   {
    "duration": 174,
    "start_time": "2022-09-28T08:05:38.707Z"
   },
   {
    "duration": 108,
    "start_time": "2022-09-28T08:05:51.778Z"
   },
   {
    "duration": 122,
    "start_time": "2022-09-28T08:06:09.398Z"
   },
   {
    "duration": 55,
    "start_time": "2022-09-28T08:22:43.709Z"
   },
   {
    "duration": 10,
    "start_time": "2022-09-28T08:22:57.069Z"
   },
   {
    "duration": 7,
    "start_time": "2022-09-28T08:23:12.552Z"
   },
   {
    "duration": 113,
    "start_time": "2022-09-28T08:23:36.209Z"
   },
   {
    "duration": 7,
    "start_time": "2022-09-28T08:23:40.637Z"
   },
   {
    "duration": 9,
    "start_time": "2022-09-28T08:24:52.972Z"
   },
   {
    "duration": 46,
    "start_time": "2022-09-28T08:26:23.699Z"
   },
   {
    "duration": 7,
    "start_time": "2022-09-28T08:26:29.578Z"
   },
   {
    "duration": 12,
    "start_time": "2022-09-28T08:26:41.428Z"
   },
   {
    "duration": 9,
    "start_time": "2022-09-28T08:27:20.580Z"
   },
   {
    "duration": 13,
    "start_time": "2022-09-28T08:27:34.547Z"
   },
   {
    "duration": 10,
    "start_time": "2022-09-28T08:27:51.008Z"
   },
   {
    "duration": 12,
    "start_time": "2022-09-28T08:27:58.888Z"
   },
   {
    "duration": 11,
    "start_time": "2022-09-28T08:29:28.402Z"
   },
   {
    "duration": 9,
    "start_time": "2022-09-28T08:33:28.230Z"
   },
   {
    "duration": 7,
    "start_time": "2022-09-28T08:33:30.821Z"
   },
   {
    "duration": 5,
    "start_time": "2022-09-28T08:33:34.199Z"
   },
   {
    "duration": 30,
    "start_time": "2022-09-28T08:34:27.728Z"
   },
   {
    "duration": 21,
    "start_time": "2022-09-28T08:36:11.563Z"
   },
   {
    "duration": 24,
    "start_time": "2022-09-28T08:36:18.478Z"
   },
   {
    "duration": 28,
    "start_time": "2022-09-28T08:36:21.907Z"
   },
   {
    "duration": 14,
    "start_time": "2022-09-28T08:36:39.474Z"
   },
   {
    "duration": 13,
    "start_time": "2022-09-28T08:37:04.744Z"
   },
   {
    "duration": 13,
    "start_time": "2022-09-28T08:37:17.154Z"
   },
   {
    "duration": 13,
    "start_time": "2022-09-28T08:37:36.740Z"
   },
   {
    "duration": 14,
    "start_time": "2022-09-28T08:37:45.522Z"
   },
   {
    "duration": 14,
    "start_time": "2022-09-28T08:37:48.338Z"
   },
   {
    "duration": 14,
    "start_time": "2022-09-28T08:38:15.572Z"
   },
   {
    "duration": 2,
    "start_time": "2022-09-28T08:44:18.687Z"
   },
   {
    "duration": 27,
    "start_time": "2022-09-28T08:44:20.723Z"
   },
   {
    "duration": 2,
    "start_time": "2022-09-28T08:44:32.168Z"
   },
   {
    "duration": 30,
    "start_time": "2022-09-28T08:44:32.870Z"
   },
   {
    "duration": 31,
    "start_time": "2022-09-28T08:44:45.306Z"
   },
   {
    "duration": 21,
    "start_time": "2022-09-28T08:45:19.919Z"
   },
   {
    "duration": 29,
    "start_time": "2022-09-28T08:45:20.604Z"
   },
   {
    "duration": 402,
    "start_time": "2022-09-28T08:45:37.309Z"
   },
   {
    "duration": 796,
    "start_time": "2022-09-28T08:45:37.713Z"
   },
   {
    "duration": 119,
    "start_time": "2022-09-28T08:45:38.510Z"
   },
   {
    "duration": 2,
    "start_time": "2022-09-28T08:45:38.631Z"
   },
   {
    "duration": 117,
    "start_time": "2022-09-28T08:45:38.635Z"
   },
   {
    "duration": 115,
    "start_time": "2022-09-28T08:45:38.754Z"
   },
   {
    "duration": 14,
    "start_time": "2022-09-28T08:45:38.870Z"
   },
   {
    "duration": 4,
    "start_time": "2022-09-28T08:45:38.886Z"
   },
   {
    "duration": 44,
    "start_time": "2022-09-28T08:45:38.891Z"
   },
   {
    "duration": 27,
    "start_time": "2022-09-28T08:45:38.936Z"
   },
   {
    "duration": 27,
    "start_time": "2022-09-28T08:45:38.965Z"
   },
   {
    "duration": 15,
    "start_time": "2022-09-28T08:45:39.009Z"
   },
   {
    "duration": 34,
    "start_time": "2022-09-28T08:45:39.025Z"
   },
   {
    "duration": 24,
    "start_time": "2022-09-28T08:45:39.062Z"
   },
   {
    "duration": 71,
    "start_time": "2022-09-28T08:45:39.088Z"
   },
   {
    "duration": 64,
    "start_time": "2022-09-28T08:46:53.057Z"
   },
   {
    "duration": 2,
    "start_time": "2022-09-28T08:46:59.821Z"
   },
   {
    "duration": 13,
    "start_time": "2022-09-28T08:47:13.553Z"
   },
   {
    "duration": 15,
    "start_time": "2022-09-28T08:47:23.254Z"
   },
   {
    "duration": 40,
    "start_time": "2022-09-28T08:48:23.805Z"
   },
   {
    "duration": 14,
    "start_time": "2022-09-28T08:49:03.106Z"
   },
   {
    "duration": 22,
    "start_time": "2022-09-28T08:49:07.343Z"
   },
   {
    "duration": 31,
    "start_time": "2022-09-28T08:49:07.759Z"
   },
   {
    "duration": 15,
    "start_time": "2022-09-28T08:49:08.373Z"
   },
   {
    "duration": 30,
    "start_time": "2022-09-28T08:50:06.070Z"
   },
   {
    "duration": 24,
    "start_time": "2022-09-28T08:50:39.044Z"
   },
   {
    "duration": 29,
    "start_time": "2022-09-28T08:50:39.337Z"
   },
   {
    "duration": 14,
    "start_time": "2022-09-28T08:50:40.570Z"
   },
   {
    "duration": 31,
    "start_time": "2022-09-28T08:51:42.962Z"
   },
   {
    "duration": 38,
    "start_time": "2022-09-28T08:51:47.239Z"
   },
   {
    "duration": 31,
    "start_time": "2022-09-28T08:52:23.109Z"
   },
   {
    "duration": 13,
    "start_time": "2022-09-28T08:52:25.858Z"
   },
   {
    "duration": 27,
    "start_time": "2022-09-28T08:52:33.240Z"
   },
   {
    "duration": 30,
    "start_time": "2022-09-28T08:52:33.872Z"
   },
   {
    "duration": 14,
    "start_time": "2022-09-28T08:52:34.625Z"
   },
   {
    "duration": 3,
    "start_time": "2022-09-28T08:52:56.206Z"
   },
   {
    "duration": 112,
    "start_time": "2022-09-28T08:53:50.177Z"
   },
   {
    "duration": 4,
    "start_time": "2022-09-28T08:57:02.066Z"
   },
   {
    "duration": 300,
    "start_time": "2022-09-28T08:57:41.611Z"
   },
   {
    "duration": 3,
    "start_time": "2022-09-28T08:57:49.816Z"
   },
   {
    "duration": 4,
    "start_time": "2022-09-28T08:59:28.235Z"
   },
   {
    "duration": 361,
    "start_time": "2022-09-28T08:59:33.148Z"
   },
   {
    "duration": 727,
    "start_time": "2022-09-28T08:59:33.511Z"
   },
   {
    "duration": 118,
    "start_time": "2022-09-28T08:59:34.239Z"
   },
   {
    "duration": 3,
    "start_time": "2022-09-28T08:59:34.359Z"
   },
   {
    "duration": 6,
    "start_time": "2022-09-28T08:59:34.363Z"
   },
   {
    "duration": 5,
    "start_time": "2022-09-28T08:59:34.370Z"
   },
   {
    "duration": 152,
    "start_time": "2022-09-28T08:59:34.376Z"
   },
   {
    "duration": 138,
    "start_time": "2022-09-28T08:59:34.530Z"
   },
   {
    "duration": 15,
    "start_time": "2022-09-28T08:59:34.670Z"
   },
   {
    "duration": 5,
    "start_time": "2022-09-28T08:59:34.689Z"
   },
   {
    "duration": 13,
    "start_time": "2022-09-28T08:59:34.696Z"
   },
   {
    "duration": 917,
    "start_time": "2022-09-28T08:59:34.711Z"
   },
   {
    "duration": 0,
    "start_time": "2022-09-28T08:59:35.630Z"
   },
   {
    "duration": 0,
    "start_time": "2022-09-28T08:59:35.631Z"
   },
   {
    "duration": 0,
    "start_time": "2022-09-28T08:59:35.632Z"
   },
   {
    "duration": 0,
    "start_time": "2022-09-28T08:59:35.633Z"
   },
   {
    "duration": 0,
    "start_time": "2022-09-28T08:59:35.635Z"
   },
   {
    "duration": 0,
    "start_time": "2022-09-28T08:59:35.635Z"
   },
   {
    "duration": 0,
    "start_time": "2022-09-28T08:59:35.636Z"
   },
   {
    "duration": 0,
    "start_time": "2022-09-28T08:59:35.637Z"
   },
   {
    "duration": 0,
    "start_time": "2022-09-28T08:59:35.638Z"
   },
   {
    "duration": 0,
    "start_time": "2022-09-28T08:59:35.639Z"
   },
   {
    "duration": 0,
    "start_time": "2022-09-28T08:59:35.640Z"
   },
   {
    "duration": 0,
    "start_time": "2022-09-28T08:59:35.640Z"
   },
   {
    "duration": 0,
    "start_time": "2022-09-28T08:59:35.641Z"
   },
   {
    "duration": 0,
    "start_time": "2022-09-28T08:59:35.642Z"
   },
   {
    "duration": 0,
    "start_time": "2022-09-28T08:59:35.643Z"
   },
   {
    "duration": 0,
    "start_time": "2022-09-28T08:59:35.644Z"
   },
   {
    "duration": 0,
    "start_time": "2022-09-28T08:59:35.645Z"
   },
   {
    "duration": 0,
    "start_time": "2022-09-28T08:59:35.646Z"
   },
   {
    "duration": 0,
    "start_time": "2022-09-28T08:59:35.647Z"
   },
   {
    "duration": 0,
    "start_time": "2022-09-28T08:59:35.647Z"
   },
   {
    "duration": 0,
    "start_time": "2022-09-28T08:59:35.648Z"
   },
   {
    "duration": 376,
    "start_time": "2022-09-28T09:00:26.347Z"
   },
   {
    "duration": 785,
    "start_time": "2022-09-28T09:00:26.725Z"
   },
   {
    "duration": 123,
    "start_time": "2022-09-28T09:00:27.511Z"
   },
   {
    "duration": 3,
    "start_time": "2022-09-28T09:00:27.636Z"
   },
   {
    "duration": 18,
    "start_time": "2022-09-28T09:00:27.641Z"
   },
   {
    "duration": 17,
    "start_time": "2022-09-28T09:00:27.661Z"
   },
   {
    "duration": 136,
    "start_time": "2022-09-28T09:00:27.680Z"
   },
   {
    "duration": 122,
    "start_time": "2022-09-28T09:00:27.818Z"
   },
   {
    "duration": 16,
    "start_time": "2022-09-28T09:00:27.941Z"
   },
   {
    "duration": 23,
    "start_time": "2022-09-28T09:00:27.959Z"
   },
   {
    "duration": 7,
    "start_time": "2022-09-28T09:00:27.983Z"
   },
   {
    "duration": 41,
    "start_time": "2022-09-28T09:00:27.991Z"
   },
   {
    "duration": 27,
    "start_time": "2022-09-28T09:00:28.034Z"
   },
   {
    "duration": 33,
    "start_time": "2022-09-28T09:00:28.062Z"
   },
   {
    "duration": 14,
    "start_time": "2022-09-28T09:00:28.109Z"
   },
   {
    "duration": 35,
    "start_time": "2022-09-28T09:00:28.125Z"
   },
   {
    "duration": 21,
    "start_time": "2022-09-28T09:00:28.162Z"
   },
   {
    "duration": 50,
    "start_time": "2022-09-28T09:00:28.185Z"
   },
   {
    "duration": 25,
    "start_time": "2022-09-28T09:00:28.237Z"
   },
   {
    "duration": 44,
    "start_time": "2022-09-28T09:00:28.263Z"
   },
   {
    "duration": 23,
    "start_time": "2022-09-28T09:00:28.308Z"
   },
   {
    "duration": 31,
    "start_time": "2022-09-28T09:00:28.332Z"
   },
   {
    "duration": 18,
    "start_time": "2022-09-28T09:00:28.364Z"
   },
   {
    "duration": 43,
    "start_time": "2022-09-28T09:00:28.384Z"
   },
   {
    "duration": 22,
    "start_time": "2022-09-28T09:00:28.429Z"
   },
   {
    "duration": 29,
    "start_time": "2022-09-28T09:00:28.453Z"
   },
   {
    "duration": 33,
    "start_time": "2022-09-28T09:00:28.483Z"
   },
   {
    "duration": 36,
    "start_time": "2022-09-28T09:00:28.520Z"
   },
   {
    "duration": 23,
    "start_time": "2022-09-28T09:00:28.558Z"
   },
   {
    "duration": 57,
    "start_time": "2022-09-28T09:00:28.583Z"
   },
   {
    "duration": 27,
    "start_time": "2022-09-28T09:00:28.642Z"
   },
   {
    "duration": 118,
    "start_time": "2022-09-28T09:00:28.671Z"
   },
   {
    "duration": 64,
    "start_time": "2022-09-28T09:00:28.791Z"
   },
   {
    "duration": 71,
    "start_time": "2022-09-28T09:01:00.978Z"
   },
   {
    "duration": 5,
    "start_time": "2022-09-28T09:01:18.813Z"
   },
   {
    "duration": 8,
    "start_time": "2022-09-28T09:03:30.418Z"
   },
   {
    "duration": 8,
    "start_time": "2022-09-28T09:03:46.024Z"
   },
   {
    "duration": 740,
    "start_time": "2022-09-28T09:04:02.806Z"
   },
   {
    "duration": 96,
    "start_time": "2022-09-28T09:04:16.950Z"
   },
   {
    "duration": 5,
    "start_time": "2022-09-28T09:04:23.010Z"
   },
   {
    "duration": 119,
    "start_time": "2022-09-28T09:04:44.662Z"
   },
   {
    "duration": 91,
    "start_time": "2022-09-28T09:04:48.512Z"
   },
   {
    "duration": 4,
    "start_time": "2022-09-28T09:05:16.599Z"
   },
   {
    "duration": 103,
    "start_time": "2022-09-28T09:05:36.719Z"
   },
   {
    "duration": 78,
    "start_time": "2022-09-28T09:05:42.446Z"
   },
   {
    "duration": 4,
    "start_time": "2022-09-28T09:05:58.110Z"
   },
   {
    "duration": 4,
    "start_time": "2022-09-28T09:07:03.759Z"
   },
   {
    "duration": 7,
    "start_time": "2022-09-28T09:07:32.113Z"
   },
   {
    "duration": 257,
    "start_time": "2022-09-28T09:07:37.761Z"
   },
   {
    "duration": 251,
    "start_time": "2022-09-28T09:07:51.618Z"
   },
   {
    "duration": 249,
    "start_time": "2022-09-28T09:07:54.919Z"
   },
   {
    "duration": 8,
    "start_time": "2022-09-28T09:08:15.841Z"
   },
   {
    "duration": 7,
    "start_time": "2022-09-28T09:08:27.806Z"
   },
   {
    "duration": 6,
    "start_time": "2022-09-28T09:08:42.704Z"
   },
   {
    "duration": 304,
    "start_time": "2022-09-28T09:08:47.209Z"
   },
   {
    "duration": 267,
    "start_time": "2022-09-28T09:08:51.998Z"
   },
   {
    "duration": 412,
    "start_time": "2022-09-28T09:09:36.711Z"
   },
   {
    "duration": 802,
    "start_time": "2022-09-28T09:09:37.125Z"
   },
   {
    "duration": 115,
    "start_time": "2022-09-28T09:09:37.928Z"
   },
   {
    "duration": 3,
    "start_time": "2022-09-28T09:09:38.044Z"
   },
   {
    "duration": 9,
    "start_time": "2022-09-28T09:09:38.049Z"
   },
   {
    "duration": 4,
    "start_time": "2022-09-28T09:09:38.060Z"
   },
   {
    "duration": 120,
    "start_time": "2022-09-28T09:09:38.065Z"
   },
   {
    "duration": 127,
    "start_time": "2022-09-28T09:09:38.186Z"
   },
   {
    "duration": 16,
    "start_time": "2022-09-28T09:09:38.314Z"
   },
   {
    "duration": 5,
    "start_time": "2022-09-28T09:09:38.332Z"
   },
   {
    "duration": 6,
    "start_time": "2022-09-28T09:09:38.339Z"
   },
   {
    "duration": 37,
    "start_time": "2022-09-28T09:09:38.347Z"
   },
   {
    "duration": 44,
    "start_time": "2022-09-28T09:09:38.385Z"
   },
   {
    "duration": 30,
    "start_time": "2022-09-28T09:09:38.433Z"
   },
   {
    "duration": 16,
    "start_time": "2022-09-28T09:09:38.464Z"
   },
   {
    "duration": 56,
    "start_time": "2022-09-28T09:09:38.481Z"
   },
   {
    "duration": 17,
    "start_time": "2022-09-28T09:09:38.538Z"
   },
   {
    "duration": 29,
    "start_time": "2022-09-28T09:09:38.557Z"
   },
   {
    "duration": 15,
    "start_time": "2022-09-28T09:09:38.609Z"
   },
   {
    "duration": 34,
    "start_time": "2022-09-28T09:09:38.626Z"
   },
   {
    "duration": 19,
    "start_time": "2022-09-28T09:09:38.662Z"
   },
   {
    "duration": 46,
    "start_time": "2022-09-28T09:09:38.689Z"
   },
   {
    "duration": 14,
    "start_time": "2022-09-28T09:09:38.737Z"
   },
   {
    "duration": 33,
    "start_time": "2022-09-28T09:09:38.752Z"
   },
   {
    "duration": 37,
    "start_time": "2022-09-28T09:09:38.787Z"
   },
   {
    "duration": 27,
    "start_time": "2022-09-28T09:09:38.825Z"
   },
   {
    "duration": 15,
    "start_time": "2022-09-28T09:09:38.854Z"
   },
   {
    "duration": 46,
    "start_time": "2022-09-28T09:09:38.871Z"
   },
   {
    "duration": 17,
    "start_time": "2022-09-28T09:09:38.919Z"
   },
   {
    "duration": 30,
    "start_time": "2022-09-28T09:09:38.937Z"
   },
   {
    "duration": 14,
    "start_time": "2022-09-28T09:09:38.969Z"
   },
   {
    "duration": 134,
    "start_time": "2022-09-28T09:09:38.985Z"
   },
   {
    "duration": 285,
    "start_time": "2022-09-28T09:09:39.120Z"
   },
   {
    "duration": 78,
    "start_time": "2022-09-28T09:09:39.406Z"
   },
   {
    "duration": 274,
    "start_time": "2022-09-28T09:09:39.486Z"
   },
   {
    "duration": 306,
    "start_time": "2022-09-28T09:09:39.762Z"
   },
   {
    "duration": 254,
    "start_time": "2022-09-28T09:09:40.069Z"
   },
   {
    "duration": 384,
    "start_time": "2022-09-29T05:18:44.293Z"
   },
   {
    "duration": 1214,
    "start_time": "2022-09-29T05:18:44.679Z"
   },
   {
    "duration": 135,
    "start_time": "2022-09-29T05:18:45.895Z"
   },
   {
    "duration": 3,
    "start_time": "2022-09-29T05:18:46.032Z"
   },
   {
    "duration": 7,
    "start_time": "2022-09-29T05:18:46.036Z"
   },
   {
    "duration": 5,
    "start_time": "2022-09-29T05:18:46.045Z"
   },
   {
    "duration": 138,
    "start_time": "2022-09-29T05:18:46.052Z"
   },
   {
    "duration": 183,
    "start_time": "2022-09-29T05:18:46.191Z"
   },
   {
    "duration": 15,
    "start_time": "2022-09-29T05:18:46.376Z"
   },
   {
    "duration": 3,
    "start_time": "2022-09-29T05:18:46.394Z"
   },
   {
    "duration": 7,
    "start_time": "2022-09-29T05:18:46.398Z"
   },
   {
    "duration": 51,
    "start_time": "2022-09-29T05:18:46.406Z"
   },
   {
    "duration": 27,
    "start_time": "2022-09-29T05:18:46.458Z"
   },
   {
    "duration": 46,
    "start_time": "2022-09-29T05:18:46.487Z"
   },
   {
    "duration": 15,
    "start_time": "2022-09-29T05:18:46.535Z"
   },
   {
    "duration": 35,
    "start_time": "2022-09-29T05:18:46.552Z"
   },
   {
    "duration": 23,
    "start_time": "2022-09-29T05:18:46.588Z"
   },
   {
    "duration": 48,
    "start_time": "2022-09-29T05:18:46.613Z"
   },
   {
    "duration": 22,
    "start_time": "2022-09-29T05:18:46.663Z"
   },
   {
    "duration": 51,
    "start_time": "2022-09-29T05:18:46.687Z"
   },
   {
    "duration": 24,
    "start_time": "2022-09-29T05:18:46.739Z"
   },
   {
    "duration": 34,
    "start_time": "2022-09-29T05:18:46.764Z"
   },
   {
    "duration": 20,
    "start_time": "2022-09-29T05:18:46.799Z"
   },
   {
    "duration": 33,
    "start_time": "2022-09-29T05:18:46.833Z"
   },
   {
    "duration": 22,
    "start_time": "2022-09-29T05:18:46.868Z"
   },
   {
    "duration": 45,
    "start_time": "2022-09-29T05:18:46.892Z"
   },
   {
    "duration": 15,
    "start_time": "2022-09-29T05:18:46.938Z"
   },
   {
    "duration": 35,
    "start_time": "2022-09-29T05:18:46.956Z"
   },
   {
    "duration": 43,
    "start_time": "2022-09-29T05:18:46.992Z"
   },
   {
    "duration": 31,
    "start_time": "2022-09-29T05:18:47.037Z"
   },
   {
    "duration": 16,
    "start_time": "2022-09-29T05:18:47.070Z"
   },
   {
    "duration": 141,
    "start_time": "2022-09-29T05:18:47.088Z"
   },
   {
    "duration": 283,
    "start_time": "2022-09-29T05:18:47.231Z"
   },
   {
    "duration": 85,
    "start_time": "2022-09-29T05:18:47.516Z"
   },
   {
    "duration": 282,
    "start_time": "2022-09-29T05:18:47.602Z"
   },
   {
    "duration": 303,
    "start_time": "2022-09-29T05:18:47.885Z"
   },
   {
    "duration": 265,
    "start_time": "2022-09-29T05:18:48.190Z"
   },
   {
    "duration": 70,
    "start_time": "2022-09-29T05:20:13.626Z"
   },
   {
    "duration": 609,
    "start_time": "2022-09-29T05:20:57.880Z"
   },
   {
    "duration": 120,
    "start_time": "2022-09-29T05:20:59.584Z"
   },
   {
    "duration": 77,
    "start_time": "2022-09-29T05:21:26.530Z"
   },
   {
    "duration": 29,
    "start_time": "2022-09-29T05:23:29.720Z"
   },
   {
    "duration": 3,
    "start_time": "2022-09-29T05:27:03.780Z"
   },
   {
    "duration": 34,
    "start_time": "2022-09-29T05:28:43.650Z"
   },
   {
    "duration": 3,
    "start_time": "2022-09-29T05:30:58.902Z"
   },
   {
    "duration": 2406,
    "start_time": "2022-09-29T05:31:28.230Z"
   },
   {
    "duration": 13,
    "start_time": "2022-09-29T05:32:24.542Z"
   },
   {
    "duration": 23,
    "start_time": "2022-09-29T05:32:32.280Z"
   },
   {
    "duration": 2,
    "start_time": "2022-09-29T05:33:44.449Z"
   },
   {
    "duration": 25,
    "start_time": "2022-09-29T05:34:36.141Z"
   },
   {
    "duration": 3,
    "start_time": "2022-09-29T05:34:37.882Z"
   },
   {
    "duration": 74,
    "start_time": "2022-09-29T05:34:38.178Z"
   },
   {
    "duration": 22,
    "start_time": "2022-09-29T05:34:38.541Z"
   },
   {
    "duration": 3,
    "start_time": "2022-09-29T05:34:38.908Z"
   },
   {
    "duration": 3,
    "start_time": "2022-09-29T05:34:39.366Z"
   },
   {
    "duration": 112,
    "start_time": "2022-09-29T05:34:39.894Z"
   },
   {
    "duration": 17,
    "start_time": "2022-09-29T05:35:09.874Z"
   },
   {
    "duration": 2,
    "start_time": "2022-09-29T05:35:35.155Z"
   },
   {
    "duration": 79,
    "start_time": "2022-09-29T05:35:35.738Z"
   },
   {
    "duration": 78,
    "start_time": "2022-09-29T05:35:43.619Z"
   },
   {
    "duration": 52,
    "start_time": "2022-09-29T05:39:38.548Z"
   },
   {
    "duration": 8,
    "start_time": "2022-09-29T05:39:42.305Z"
   },
   {
    "duration": 4,
    "start_time": "2022-09-29T05:39:56.132Z"
   },
   {
    "duration": 87,
    "start_time": "2022-09-29T05:40:12.933Z"
   },
   {
    "duration": 14,
    "start_time": "2022-09-29T05:42:38.067Z"
   },
   {
    "duration": 29,
    "start_time": "2022-09-29T05:43:13.205Z"
   },
   {
    "duration": 830,
    "start_time": "2022-09-29T05:43:52.540Z"
   },
   {
    "duration": 18,
    "start_time": "2022-09-29T05:43:56.970Z"
   },
   {
    "duration": 43,
    "start_time": "2022-09-29T05:44:03.783Z"
   },
   {
    "duration": 427,
    "start_time": "2022-09-29T05:44:31.122Z"
   },
   {
    "duration": 909,
    "start_time": "2022-09-29T05:44:31.553Z"
   },
   {
    "duration": 160,
    "start_time": "2022-09-29T05:44:32.464Z"
   },
   {
    "duration": 4,
    "start_time": "2022-09-29T05:44:32.626Z"
   },
   {
    "duration": 15,
    "start_time": "2022-09-29T05:44:32.635Z"
   },
   {
    "duration": 14,
    "start_time": "2022-09-29T05:44:32.653Z"
   },
   {
    "duration": 121,
    "start_time": "2022-09-29T05:44:32.669Z"
   },
   {
    "duration": 124,
    "start_time": "2022-09-29T05:44:32.792Z"
   },
   {
    "duration": 33,
    "start_time": "2022-09-29T05:44:32.918Z"
   },
   {
    "duration": 4,
    "start_time": "2022-09-29T05:44:32.954Z"
   },
   {
    "duration": 7,
    "start_time": "2022-09-29T05:44:32.960Z"
   },
   {
    "duration": 36,
    "start_time": "2022-09-29T05:44:32.969Z"
   },
   {
    "duration": 47,
    "start_time": "2022-09-29T05:44:33.007Z"
   },
   {
    "duration": 36,
    "start_time": "2022-09-29T05:44:33.056Z"
   },
   {
    "duration": 41,
    "start_time": "2022-09-29T05:44:33.095Z"
   },
   {
    "duration": 68,
    "start_time": "2022-09-29T05:44:33.138Z"
   },
   {
    "duration": 34,
    "start_time": "2022-09-29T05:44:33.208Z"
   },
   {
    "duration": 53,
    "start_time": "2022-09-29T05:44:33.247Z"
   },
   {
    "duration": 18,
    "start_time": "2022-09-29T05:44:33.302Z"
   },
   {
    "duration": 60,
    "start_time": "2022-09-29T05:44:33.322Z"
   },
   {
    "duration": 20,
    "start_time": "2022-09-29T05:44:33.384Z"
   },
   {
    "duration": 61,
    "start_time": "2022-09-29T05:44:33.406Z"
   },
   {
    "duration": 18,
    "start_time": "2022-09-29T05:44:33.468Z"
   },
   {
    "duration": 59,
    "start_time": "2022-09-29T05:44:33.488Z"
   },
   {
    "duration": 26,
    "start_time": "2022-09-29T05:44:33.550Z"
   },
   {
    "duration": 34,
    "start_time": "2022-09-29T05:44:33.578Z"
   },
   {
    "duration": 46,
    "start_time": "2022-09-29T05:44:33.614Z"
   },
   {
    "duration": 38,
    "start_time": "2022-09-29T05:44:33.664Z"
   },
   {
    "duration": 42,
    "start_time": "2022-09-29T05:44:33.704Z"
   },
   {
    "duration": 53,
    "start_time": "2022-09-29T05:44:33.749Z"
   },
   {
    "duration": 31,
    "start_time": "2022-09-29T05:44:33.804Z"
   },
   {
    "duration": 159,
    "start_time": "2022-09-29T05:44:33.837Z"
   },
   {
    "duration": 352,
    "start_time": "2022-09-29T05:44:33.998Z"
   },
   {
    "duration": 99,
    "start_time": "2022-09-29T05:44:34.353Z"
   },
   {
    "duration": 308,
    "start_time": "2022-09-29T05:44:34.455Z"
   },
   {
    "duration": 350,
    "start_time": "2022-09-29T05:44:34.765Z"
   },
   {
    "duration": 299,
    "start_time": "2022-09-29T05:44:35.116Z"
   },
   {
    "duration": 30,
    "start_time": "2022-09-29T05:44:35.416Z"
   },
   {
    "duration": 1064,
    "start_time": "2022-09-29T05:44:35.449Z"
   },
   {
    "duration": 744,
    "start_time": "2022-09-29T05:44:36.515Z"
   },
   {
    "duration": 422,
    "start_time": "2022-09-29T05:44:37.261Z"
   },
   {
    "duration": 142,
    "start_time": "2022-09-29T05:44:37.685Z"
   },
   {
    "duration": 4,
    "start_time": "2022-09-29T05:44:37.829Z"
   },
   {
    "duration": 57,
    "start_time": "2022-09-29T05:44:37.836Z"
   },
   {
    "duration": 66352,
    "start_time": "2022-09-29T05:44:37.894Z"
   },
   {
    "duration": 123,
    "start_time": "2022-09-29T05:45:44.248Z"
   },
   {
    "duration": 48,
    "start_time": "2022-09-29T05:52:08.714Z"
   },
   {
    "duration": 187,
    "start_time": "2022-09-29T05:52:33.514Z"
   },
   {
    "duration": 41,
    "start_time": "2022-09-29T05:52:37.421Z"
   },
   {
    "duration": 117,
    "start_time": "2022-09-29T05:56:32.412Z"
   },
   {
    "duration": 6,
    "start_time": "2022-09-29T05:56:36.181Z"
   },
   {
    "duration": 436,
    "start_time": "2022-09-29T05:57:07.131Z"
   },
   {
    "duration": 914,
    "start_time": "2022-09-29T05:57:07.569Z"
   },
   {
    "duration": 138,
    "start_time": "2022-09-29T05:57:08.484Z"
   },
   {
    "duration": 11,
    "start_time": "2022-09-29T05:57:08.625Z"
   },
   {
    "duration": 27,
    "start_time": "2022-09-29T05:57:08.638Z"
   },
   {
    "duration": 6,
    "start_time": "2022-09-29T05:57:08.667Z"
   },
   {
    "duration": 187,
    "start_time": "2022-09-29T05:57:08.674Z"
   },
   {
    "duration": 143,
    "start_time": "2022-09-29T05:57:08.863Z"
   },
   {
    "duration": 26,
    "start_time": "2022-09-29T05:57:09.007Z"
   },
   {
    "duration": 4,
    "start_time": "2022-09-29T05:57:09.035Z"
   },
   {
    "duration": 22,
    "start_time": "2022-09-29T05:57:09.042Z"
   },
   {
    "duration": 39,
    "start_time": "2022-09-29T05:57:09.066Z"
   },
   {
    "duration": 29,
    "start_time": "2022-09-29T05:57:09.107Z"
   },
   {
    "duration": 48,
    "start_time": "2022-09-29T05:57:09.138Z"
   },
   {
    "duration": 20,
    "start_time": "2022-09-29T05:57:09.187Z"
   },
   {
    "duration": 54,
    "start_time": "2022-09-29T05:57:09.209Z"
   },
   {
    "duration": 24,
    "start_time": "2022-09-29T05:57:09.264Z"
   },
   {
    "duration": 54,
    "start_time": "2022-09-29T05:57:09.289Z"
   },
   {
    "duration": 26,
    "start_time": "2022-09-29T05:57:09.346Z"
   },
   {
    "duration": 41,
    "start_time": "2022-09-29T05:57:09.374Z"
   },
   {
    "duration": 45,
    "start_time": "2022-09-29T05:57:09.418Z"
   },
   {
    "duration": 35,
    "start_time": "2022-09-29T05:57:09.465Z"
   },
   {
    "duration": 40,
    "start_time": "2022-09-29T05:57:09.502Z"
   },
   {
    "duration": 50,
    "start_time": "2022-09-29T05:57:09.544Z"
   },
   {
    "duration": 46,
    "start_time": "2022-09-29T05:57:09.597Z"
   },
   {
    "duration": 46,
    "start_time": "2022-09-29T05:57:09.646Z"
   },
   {
    "duration": 28,
    "start_time": "2022-09-29T05:57:09.694Z"
   },
   {
    "duration": 83,
    "start_time": "2022-09-29T05:57:09.738Z"
   },
   {
    "duration": 40,
    "start_time": "2022-09-29T05:57:09.823Z"
   },
   {
    "duration": 45,
    "start_time": "2022-09-29T05:57:09.866Z"
   },
   {
    "duration": 43,
    "start_time": "2022-09-29T05:57:09.913Z"
   },
   {
    "duration": 149,
    "start_time": "2022-09-29T05:57:09.958Z"
   },
   {
    "duration": 340,
    "start_time": "2022-09-29T05:57:10.109Z"
   },
   {
    "duration": 93,
    "start_time": "2022-09-29T05:57:10.453Z"
   },
   {
    "duration": 281,
    "start_time": "2022-09-29T05:57:10.548Z"
   },
   {
    "duration": 344,
    "start_time": "2022-09-29T05:57:10.830Z"
   },
   {
    "duration": 291,
    "start_time": "2022-09-29T05:57:11.176Z"
   },
   {
    "duration": 19,
    "start_time": "2022-09-29T05:57:11.468Z"
   },
   {
    "duration": 699,
    "start_time": "2022-09-29T05:57:11.488Z"
   },
   {
    "duration": 898,
    "start_time": "2022-09-29T05:57:12.189Z"
   },
   {
    "duration": 21,
    "start_time": "2022-09-29T05:57:13.089Z"
   },
   {
    "duration": 67,
    "start_time": "2022-09-29T05:57:13.112Z"
   },
   {
    "duration": 120,
    "start_time": "2022-09-29T05:57:13.181Z"
   },
   {
    "duration": 0,
    "start_time": "2022-09-29T05:57:13.302Z"
   },
   {
    "duration": 0,
    "start_time": "2022-09-29T05:57:13.304Z"
   },
   {
    "duration": 0,
    "start_time": "2022-09-29T05:57:13.305Z"
   },
   {
    "duration": 0,
    "start_time": "2022-09-29T05:57:13.306Z"
   },
   {
    "duration": 8,
    "start_time": "2022-09-29T05:57:23.109Z"
   },
   {
    "duration": 6,
    "start_time": "2022-09-29T05:57:26.468Z"
   },
   {
    "duration": 693,
    "start_time": "2022-09-29T05:57:49.463Z"
   },
   {
    "duration": 375,
    "start_time": "2022-09-29T05:58:02.062Z"
   },
   {
    "duration": 848,
    "start_time": "2022-09-29T05:58:02.439Z"
   },
   {
    "duration": 160,
    "start_time": "2022-09-29T05:58:03.289Z"
   },
   {
    "duration": 4,
    "start_time": "2022-09-29T05:58:03.455Z"
   },
   {
    "duration": 19,
    "start_time": "2022-09-29T05:58:03.461Z"
   },
   {
    "duration": 10,
    "start_time": "2022-09-29T05:58:03.481Z"
   },
   {
    "duration": 146,
    "start_time": "2022-09-29T05:58:03.492Z"
   },
   {
    "duration": 152,
    "start_time": "2022-09-29T05:58:03.644Z"
   },
   {
    "duration": 19,
    "start_time": "2022-09-29T05:58:03.798Z"
   },
   {
    "duration": 4,
    "start_time": "2022-09-29T05:58:03.840Z"
   },
   {
    "duration": 19,
    "start_time": "2022-09-29T05:58:03.846Z"
   },
   {
    "duration": 76,
    "start_time": "2022-09-29T05:58:03.867Z"
   },
   {
    "duration": 29,
    "start_time": "2022-09-29T05:58:03.946Z"
   },
   {
    "duration": 41,
    "start_time": "2022-09-29T05:58:03.977Z"
   },
   {
    "duration": 40,
    "start_time": "2022-09-29T05:58:04.020Z"
   },
   {
    "duration": 39,
    "start_time": "2022-09-29T05:58:04.062Z"
   },
   {
    "duration": 31,
    "start_time": "2022-09-29T05:58:04.102Z"
   },
   {
    "duration": 54,
    "start_time": "2022-09-29T05:58:04.136Z"
   },
   {
    "duration": 25,
    "start_time": "2022-09-29T05:58:04.191Z"
   },
   {
    "duration": 68,
    "start_time": "2022-09-29T05:58:04.218Z"
   },
   {
    "duration": 24,
    "start_time": "2022-09-29T05:58:04.288Z"
   },
   {
    "duration": 61,
    "start_time": "2022-09-29T05:58:04.313Z"
   },
   {
    "duration": 15,
    "start_time": "2022-09-29T05:58:04.375Z"
   },
   {
    "duration": 46,
    "start_time": "2022-09-29T05:58:04.393Z"
   },
   {
    "duration": 33,
    "start_time": "2022-09-29T05:58:04.441Z"
   },
   {
    "duration": 33,
    "start_time": "2022-09-29T05:58:04.476Z"
   },
   {
    "duration": 50,
    "start_time": "2022-09-29T05:58:04.511Z"
   },
   {
    "duration": 41,
    "start_time": "2022-09-29T05:58:04.565Z"
   },
   {
    "duration": 43,
    "start_time": "2022-09-29T05:58:04.608Z"
   },
   {
    "duration": 56,
    "start_time": "2022-09-29T05:58:04.654Z"
   },
   {
    "duration": 16,
    "start_time": "2022-09-29T05:58:04.714Z"
   },
   {
    "duration": 170,
    "start_time": "2022-09-29T05:58:04.732Z"
   },
   {
    "duration": 342,
    "start_time": "2022-09-29T05:58:04.904Z"
   },
   {
    "duration": 111,
    "start_time": "2022-09-29T05:58:05.248Z"
   },
   {
    "duration": 323,
    "start_time": "2022-09-29T05:58:05.360Z"
   },
   {
    "duration": 412,
    "start_time": "2022-09-29T05:58:05.685Z"
   },
   {
    "duration": 374,
    "start_time": "2022-09-29T05:58:06.099Z"
   },
   {
    "duration": 30,
    "start_time": "2022-09-29T05:58:06.475Z"
   },
   {
    "duration": 739,
    "start_time": "2022-09-29T05:58:06.507Z"
   },
   {
    "duration": 929,
    "start_time": "2022-09-29T05:58:07.248Z"
   },
   {
    "duration": 22,
    "start_time": "2022-09-29T05:58:08.185Z"
   },
   {
    "duration": 54,
    "start_time": "2022-09-29T05:58:08.209Z"
   },
   {
    "duration": 5,
    "start_time": "2022-09-29T05:58:08.265Z"
   },
   {
    "duration": 6,
    "start_time": "2022-09-29T05:58:08.272Z"
   },
   {
    "duration": 41,
    "start_time": "2022-09-29T05:58:08.280Z"
   },
   {
    "duration": 117,
    "start_time": "2022-09-29T05:58:08.336Z"
   },
   {
    "duration": 0,
    "start_time": "2022-09-29T05:58:08.456Z"
   },
   {
    "duration": 31,
    "start_time": "2022-09-29T05:58:12.638Z"
   },
   {
    "duration": 440,
    "start_time": "2022-09-29T05:58:41.435Z"
   },
   {
    "duration": 874,
    "start_time": "2022-09-29T05:58:41.878Z"
   },
   {
    "duration": 132,
    "start_time": "2022-09-29T05:58:42.754Z"
   },
   {
    "duration": 3,
    "start_time": "2022-09-29T05:58:42.889Z"
   },
   {
    "duration": 8,
    "start_time": "2022-09-29T05:58:42.894Z"
   },
   {
    "duration": 10,
    "start_time": "2022-09-29T05:58:42.903Z"
   },
   {
    "duration": 143,
    "start_time": "2022-09-29T05:58:42.915Z"
   },
   {
    "duration": 127,
    "start_time": "2022-09-29T05:58:43.061Z"
   },
   {
    "duration": 16,
    "start_time": "2022-09-29T05:58:43.190Z"
   },
   {
    "duration": 23,
    "start_time": "2022-09-29T05:58:43.210Z"
   },
   {
    "duration": 6,
    "start_time": "2022-09-29T05:58:43.236Z"
   },
   {
    "duration": 56,
    "start_time": "2022-09-29T05:58:43.245Z"
   },
   {
    "duration": 20,
    "start_time": "2022-09-29T05:58:43.302Z"
   },
   {
    "duration": 48,
    "start_time": "2022-09-29T05:58:43.324Z"
   },
   {
    "duration": 31,
    "start_time": "2022-09-29T05:58:43.374Z"
   },
   {
    "duration": 58,
    "start_time": "2022-09-29T05:58:43.407Z"
   },
   {
    "duration": 18,
    "start_time": "2022-09-29T05:58:43.467Z"
   },
   {
    "duration": 48,
    "start_time": "2022-09-29T05:58:43.487Z"
   },
   {
    "duration": 18,
    "start_time": "2022-09-29T05:58:43.537Z"
   },
   {
    "duration": 42,
    "start_time": "2022-09-29T05:58:43.557Z"
   },
   {
    "duration": 33,
    "start_time": "2022-09-29T05:58:43.601Z"
   },
   {
    "duration": 40,
    "start_time": "2022-09-29T05:58:43.636Z"
   },
   {
    "duration": 22,
    "start_time": "2022-09-29T05:58:43.677Z"
   },
   {
    "duration": 64,
    "start_time": "2022-09-29T05:58:43.701Z"
   },
   {
    "duration": 32,
    "start_time": "2022-09-29T05:58:43.767Z"
   },
   {
    "duration": 48,
    "start_time": "2022-09-29T05:58:43.800Z"
   },
   {
    "duration": 16,
    "start_time": "2022-09-29T05:58:43.849Z"
   },
   {
    "duration": 35,
    "start_time": "2022-09-29T05:58:43.869Z"
   },
   {
    "duration": 50,
    "start_time": "2022-09-29T05:58:43.905Z"
   },
   {
    "duration": 36,
    "start_time": "2022-09-29T05:58:43.957Z"
   },
   {
    "duration": 17,
    "start_time": "2022-09-29T05:58:43.995Z"
   },
   {
    "duration": 169,
    "start_time": "2022-09-29T05:58:44.014Z"
   },
   {
    "duration": 345,
    "start_time": "2022-09-29T05:58:44.186Z"
   },
   {
    "duration": 108,
    "start_time": "2022-09-29T05:58:44.532Z"
   },
   {
    "duration": 280,
    "start_time": "2022-09-29T05:58:44.643Z"
   },
   {
    "duration": 294,
    "start_time": "2022-09-29T05:58:44.925Z"
   },
   {
    "duration": 291,
    "start_time": "2022-09-29T05:58:45.221Z"
   },
   {
    "duration": 33,
    "start_time": "2022-09-29T05:58:45.514Z"
   },
   {
    "duration": 632,
    "start_time": "2022-09-29T05:58:45.551Z"
   },
   {
    "duration": 937,
    "start_time": "2022-09-29T05:58:46.184Z"
   },
   {
    "duration": 30,
    "start_time": "2022-09-29T05:58:47.123Z"
   },
   {
    "duration": 43,
    "start_time": "2022-09-29T05:58:47.155Z"
   },
   {
    "duration": 35,
    "start_time": "2022-09-29T05:58:47.200Z"
   },
   {
    "duration": 11,
    "start_time": "2022-09-29T05:58:47.238Z"
   },
   {
    "duration": 42,
    "start_time": "2022-09-29T05:58:47.252Z"
   },
   {
    "duration": 251,
    "start_time": "2022-09-29T05:58:47.295Z"
   },
   {
    "duration": 106,
    "start_time": "2022-09-29T05:58:47.554Z"
   },
   {
    "duration": 23,
    "start_time": "2022-09-29T05:58:54.193Z"
   },
   {
    "duration": 1877,
    "start_time": "2022-09-29T06:00:01.092Z"
   },
   {
    "duration": 155,
    "start_time": "2022-09-29T06:00:06.191Z"
   },
   {
    "duration": 4,
    "start_time": "2022-09-29T06:00:19.605Z"
   },
   {
    "duration": 3,
    "start_time": "2022-09-29T06:01:11.850Z"
   },
   {
    "duration": 103,
    "start_time": "2022-09-29T06:02:28.425Z"
   },
   {
    "duration": 25,
    "start_time": "2022-09-29T06:02:37.582Z"
   },
   {
    "duration": 3,
    "start_time": "2022-09-29T06:02:45.676Z"
   },
   {
    "duration": 1900,
    "start_time": "2022-09-29T06:03:14.372Z"
   },
   {
    "duration": 122656,
    "start_time": "2022-09-29T06:03:41.861Z"
   },
   {
    "duration": 9,
    "start_time": "2022-09-29T06:06:29.933Z"
   },
   {
    "duration": 12,
    "start_time": "2022-09-29T06:06:39.966Z"
   },
   {
    "duration": 7,
    "start_time": "2022-09-29T06:10:57.831Z"
   },
   {
    "duration": 3,
    "start_time": "2022-09-29T06:11:23.333Z"
   },
   {
    "duration": 12,
    "start_time": "2022-09-29T06:11:33.921Z"
   },
   {
    "duration": 12,
    "start_time": "2022-09-29T06:12:04.614Z"
   },
   {
    "duration": 108,
    "start_time": "2022-09-29T06:12:47.611Z"
   },
   {
    "duration": 2133,
    "start_time": "2022-09-29T06:12:52.010Z"
   },
   {
    "duration": 10,
    "start_time": "2022-09-29T06:12:57.200Z"
   },
   {
    "duration": 9,
    "start_time": "2022-09-29T06:13:07.682Z"
   },
   {
    "duration": 453,
    "start_time": "2022-09-29T06:13:16.042Z"
   },
   {
    "duration": 867,
    "start_time": "2022-09-29T06:13:16.498Z"
   },
   {
    "duration": 160,
    "start_time": "2022-09-29T06:13:17.369Z"
   },
   {
    "duration": 3,
    "start_time": "2022-09-29T06:13:17.534Z"
   },
   {
    "duration": 20,
    "start_time": "2022-09-29T06:13:17.539Z"
   },
   {
    "duration": 7,
    "start_time": "2022-09-29T06:13:17.560Z"
   },
   {
    "duration": 148,
    "start_time": "2022-09-29T06:13:17.569Z"
   },
   {
    "duration": 158,
    "start_time": "2022-09-29T06:13:17.719Z"
   },
   {
    "duration": 15,
    "start_time": "2022-09-29T06:13:17.879Z"
   },
   {
    "duration": 7,
    "start_time": "2022-09-29T06:13:17.896Z"
   },
   {
    "duration": 8,
    "start_time": "2022-09-29T06:13:17.904Z"
   },
   {
    "duration": 59,
    "start_time": "2022-09-29T06:13:17.913Z"
   },
   {
    "duration": 28,
    "start_time": "2022-09-29T06:13:17.975Z"
   },
   {
    "duration": 63,
    "start_time": "2022-09-29T06:13:18.005Z"
   },
   {
    "duration": 15,
    "start_time": "2022-09-29T06:13:18.070Z"
   },
   {
    "duration": 68,
    "start_time": "2022-09-29T06:13:18.087Z"
   },
   {
    "duration": 31,
    "start_time": "2022-09-29T06:13:18.158Z"
   },
   {
    "duration": 50,
    "start_time": "2022-09-29T06:13:18.191Z"
   },
   {
    "duration": 22,
    "start_time": "2022-09-29T06:13:18.245Z"
   },
   {
    "duration": 36,
    "start_time": "2022-09-29T06:13:18.269Z"
   },
   {
    "duration": 44,
    "start_time": "2022-09-29T06:13:18.307Z"
   },
   {
    "duration": 35,
    "start_time": "2022-09-29T06:13:18.353Z"
   },
   {
    "duration": 16,
    "start_time": "2022-09-29T06:13:18.390Z"
   },
   {
    "duration": 60,
    "start_time": "2022-09-29T06:13:18.407Z"
   },
   {
    "duration": 23,
    "start_time": "2022-09-29T06:13:18.469Z"
   },
   {
    "duration": 44,
    "start_time": "2022-09-29T06:13:18.493Z"
   },
   {
    "duration": 27,
    "start_time": "2022-09-29T06:13:18.543Z"
   },
   {
    "duration": 64,
    "start_time": "2022-09-29T06:13:18.572Z"
   },
   {
    "duration": 27,
    "start_time": "2022-09-29T06:13:18.643Z"
   },
   {
    "duration": 34,
    "start_time": "2022-09-29T06:13:18.671Z"
   },
   {
    "duration": 47,
    "start_time": "2022-09-29T06:13:18.708Z"
   },
   {
    "duration": 153,
    "start_time": "2022-09-29T06:13:18.760Z"
   },
   {
    "duration": 329,
    "start_time": "2022-09-29T06:13:18.915Z"
   },
   {
    "duration": 94,
    "start_time": "2022-09-29T06:13:19.245Z"
   },
   {
    "duration": 286,
    "start_time": "2022-09-29T06:13:19.340Z"
   },
   {
    "duration": 337,
    "start_time": "2022-09-29T06:13:19.628Z"
   },
   {
    "duration": 291,
    "start_time": "2022-09-29T06:13:19.967Z"
   },
   {
    "duration": 21,
    "start_time": "2022-09-29T06:13:20.260Z"
   },
   {
    "duration": 676,
    "start_time": "2022-09-29T06:13:20.282Z"
   },
   {
    "duration": 841,
    "start_time": "2022-09-29T06:13:20.961Z"
   },
   {
    "duration": 3,
    "start_time": "2022-09-29T06:13:21.804Z"
   },
   {
    "duration": 108,
    "start_time": "2022-09-29T06:13:21.809Z"
   },
   {
    "duration": 0,
    "start_time": "2022-09-29T06:13:21.919Z"
   },
   {
    "duration": 0,
    "start_time": "2022-09-29T06:13:21.921Z"
   },
   {
    "duration": 0,
    "start_time": "2022-09-29T06:13:21.922Z"
   },
   {
    "duration": 0,
    "start_time": "2022-09-29T06:13:21.923Z"
   },
   {
    "duration": 0,
    "start_time": "2022-09-29T06:13:21.934Z"
   },
   {
    "duration": 0,
    "start_time": "2022-09-29T06:13:21.935Z"
   },
   {
    "duration": 0,
    "start_time": "2022-09-29T06:13:21.935Z"
   },
   {
    "duration": 0,
    "start_time": "2022-09-29T06:13:21.936Z"
   },
   {
    "duration": 0,
    "start_time": "2022-09-29T06:13:21.939Z"
   },
   {
    "duration": 0,
    "start_time": "2022-09-29T06:13:21.940Z"
   },
   {
    "duration": 13,
    "start_time": "2022-09-29T06:13:25.441Z"
   },
   {
    "duration": 16,
    "start_time": "2022-09-29T06:13:28.275Z"
   },
   {
    "duration": 55,
    "start_time": "2022-09-29T06:13:28.529Z"
   },
   {
    "duration": 147,
    "start_time": "2022-09-29T06:13:28.783Z"
   },
   {
    "duration": 11,
    "start_time": "2022-09-29T06:13:29.306Z"
   },
   {
    "duration": 3,
    "start_time": "2022-09-29T06:14:44.686Z"
   },
   {
    "duration": 36,
    "start_time": "2022-09-29T06:14:53.920Z"
   },
   {
    "duration": 448,
    "start_time": "2022-09-29T06:15:38.717Z"
   },
   {
    "duration": 918,
    "start_time": "2022-09-29T06:15:39.167Z"
   },
   {
    "duration": 170,
    "start_time": "2022-09-29T06:15:40.087Z"
   },
   {
    "duration": 3,
    "start_time": "2022-09-29T06:15:40.264Z"
   },
   {
    "duration": 7,
    "start_time": "2022-09-29T06:15:40.269Z"
   },
   {
    "duration": 5,
    "start_time": "2022-09-29T06:15:40.278Z"
   },
   {
    "duration": 170,
    "start_time": "2022-09-29T06:15:40.285Z"
   },
   {
    "duration": 150,
    "start_time": "2022-09-29T06:15:40.457Z"
   },
   {
    "duration": 15,
    "start_time": "2022-09-29T06:15:40.608Z"
   },
   {
    "duration": 7,
    "start_time": "2022-09-29T06:15:40.635Z"
   },
   {
    "duration": 26,
    "start_time": "2022-09-29T06:15:40.645Z"
   },
   {
    "duration": 39,
    "start_time": "2022-09-29T06:15:40.672Z"
   },
   {
    "duration": 31,
    "start_time": "2022-09-29T06:15:40.712Z"
   },
   {
    "duration": 52,
    "start_time": "2022-09-29T06:15:40.745Z"
   },
   {
    "duration": 22,
    "start_time": "2022-09-29T06:15:40.799Z"
   },
   {
    "duration": 54,
    "start_time": "2022-09-29T06:15:40.823Z"
   },
   {
    "duration": 27,
    "start_time": "2022-09-29T06:15:40.879Z"
   },
   {
    "duration": 64,
    "start_time": "2022-09-29T06:15:40.908Z"
   },
   {
    "duration": 16,
    "start_time": "2022-09-29T06:15:40.974Z"
   },
   {
    "duration": 36,
    "start_time": "2022-09-29T06:15:40.991Z"
   },
   {
    "duration": 39,
    "start_time": "2022-09-29T06:15:41.029Z"
   },
   {
    "duration": 38,
    "start_time": "2022-09-29T06:15:41.070Z"
   },
   {
    "duration": 17,
    "start_time": "2022-09-29T06:15:41.110Z"
   },
   {
    "duration": 85,
    "start_time": "2022-09-29T06:15:41.128Z"
   },
   {
    "duration": 24,
    "start_time": "2022-09-29T06:15:41.215Z"
   },
   {
    "duration": 54,
    "start_time": "2022-09-29T06:15:41.241Z"
   },
   {
    "duration": 18,
    "start_time": "2022-09-29T06:15:41.297Z"
   },
   {
    "duration": 59,
    "start_time": "2022-09-29T06:15:41.319Z"
   },
   {
    "duration": 22,
    "start_time": "2022-09-29T06:15:41.380Z"
   },
   {
    "duration": 41,
    "start_time": "2022-09-29T06:15:41.403Z"
   },
   {
    "duration": 42,
    "start_time": "2022-09-29T06:15:41.446Z"
   },
   {
    "duration": 172,
    "start_time": "2022-09-29T06:15:41.490Z"
   },
   {
    "duration": 351,
    "start_time": "2022-09-29T06:15:41.664Z"
   },
   {
    "duration": 108,
    "start_time": "2022-09-29T06:15:42.017Z"
   },
   {
    "duration": 313,
    "start_time": "2022-09-29T06:15:42.126Z"
   },
   {
    "duration": 339,
    "start_time": "2022-09-29T06:15:42.442Z"
   },
   {
    "duration": 287,
    "start_time": "2022-09-29T06:15:42.782Z"
   },
   {
    "duration": 21,
    "start_time": "2022-09-29T06:15:43.071Z"
   },
   {
    "duration": 715,
    "start_time": "2022-09-29T06:15:43.094Z"
   },
   {
    "duration": 18,
    "start_time": "2022-09-29T06:15:43.811Z"
   },
   {
    "duration": 81,
    "start_time": "2022-09-29T06:15:43.830Z"
   },
   {
    "duration": 0,
    "start_time": "2022-09-29T06:15:43.912Z"
   },
   {
    "duration": 0,
    "start_time": "2022-09-29T06:15:43.914Z"
   },
   {
    "duration": 0,
    "start_time": "2022-09-29T06:15:43.915Z"
   },
   {
    "duration": 0,
    "start_time": "2022-09-29T06:15:43.916Z"
   },
   {
    "duration": 0,
    "start_time": "2022-09-29T06:15:43.917Z"
   },
   {
    "duration": 0,
    "start_time": "2022-09-29T06:15:43.918Z"
   },
   {
    "duration": 0,
    "start_time": "2022-09-29T06:15:43.919Z"
   },
   {
    "duration": 0,
    "start_time": "2022-09-29T06:15:43.920Z"
   },
   {
    "duration": 0,
    "start_time": "2022-09-29T06:15:43.921Z"
   },
   {
    "duration": 0,
    "start_time": "2022-09-29T06:15:43.922Z"
   },
   {
    "duration": 0,
    "start_time": "2022-09-29T06:15:43.924Z"
   },
   {
    "duration": 123,
    "start_time": "2022-09-29T06:16:49.059Z"
   },
   {
    "duration": 3,
    "start_time": "2022-09-29T06:16:54.501Z"
   },
   {
    "duration": 22,
    "start_time": "2022-09-29T06:17:12.354Z"
   },
   {
    "duration": 98,
    "start_time": "2022-09-29T06:17:12.678Z"
   },
   {
    "duration": 367,
    "start_time": "2022-09-29T06:17:13.015Z"
   },
   {
    "duration": 32,
    "start_time": "2022-09-29T06:17:24.530Z"
   },
   {
    "duration": 21,
    "start_time": "2022-09-29T06:17:41.573Z"
   },
   {
    "duration": 25,
    "start_time": "2022-09-29T06:18:18.211Z"
   },
   {
    "duration": 443,
    "start_time": "2022-09-29T06:18:54.221Z"
   },
   {
    "duration": 1006,
    "start_time": "2022-09-29T06:18:54.668Z"
   },
   {
    "duration": 167,
    "start_time": "2022-09-29T06:18:55.676Z"
   },
   {
    "duration": 7,
    "start_time": "2022-09-29T06:18:55.845Z"
   },
   {
    "duration": 32,
    "start_time": "2022-09-29T06:18:55.854Z"
   },
   {
    "duration": 7,
    "start_time": "2022-09-29T06:18:55.887Z"
   },
   {
    "duration": 187,
    "start_time": "2022-09-29T06:18:55.896Z"
   },
   {
    "duration": 208,
    "start_time": "2022-09-29T06:18:56.086Z"
   },
   {
    "duration": 18,
    "start_time": "2022-09-29T06:18:56.296Z"
   },
   {
    "duration": 5,
    "start_time": "2022-09-29T06:18:56.317Z"
   },
   {
    "duration": 50,
    "start_time": "2022-09-29T06:18:56.333Z"
   },
   {
    "duration": 102,
    "start_time": "2022-09-29T06:18:56.385Z"
   },
   {
    "duration": 50,
    "start_time": "2022-09-29T06:18:56.492Z"
   },
   {
    "duration": 111,
    "start_time": "2022-09-29T06:18:56.544Z"
   },
   {
    "duration": 46,
    "start_time": "2022-09-29T06:18:56.660Z"
   },
   {
    "duration": 79,
    "start_time": "2022-09-29T06:18:56.708Z"
   },
   {
    "duration": 32,
    "start_time": "2022-09-29T06:18:56.788Z"
   },
   {
    "duration": 65,
    "start_time": "2022-09-29T06:18:56.822Z"
   },
   {
    "duration": 28,
    "start_time": "2022-09-29T06:18:56.889Z"
   },
   {
    "duration": 71,
    "start_time": "2022-09-29T06:18:56.919Z"
   },
   {
    "duration": 26,
    "start_time": "2022-09-29T06:18:56.993Z"
   },
   {
    "duration": 71,
    "start_time": "2022-09-29T06:18:57.021Z"
   },
   {
    "duration": 17,
    "start_time": "2022-09-29T06:18:57.094Z"
   },
   {
    "duration": 70,
    "start_time": "2022-09-29T06:18:57.113Z"
   },
   {
    "duration": 27,
    "start_time": "2022-09-29T06:18:57.185Z"
   },
   {
    "duration": 62,
    "start_time": "2022-09-29T06:18:57.214Z"
   },
   {
    "duration": 20,
    "start_time": "2022-09-29T06:18:57.280Z"
   },
   {
    "duration": 55,
    "start_time": "2022-09-29T06:18:57.303Z"
   },
   {
    "duration": 46,
    "start_time": "2022-09-29T06:18:57.361Z"
   },
   {
    "duration": 40,
    "start_time": "2022-09-29T06:18:57.409Z"
   },
   {
    "duration": 44,
    "start_time": "2022-09-29T06:18:57.450Z"
   },
   {
    "duration": 192,
    "start_time": "2022-09-29T06:18:57.495Z"
   },
   {
    "duration": 367,
    "start_time": "2022-09-29T06:18:57.688Z"
   },
   {
    "duration": 139,
    "start_time": "2022-09-29T06:18:58.060Z"
   },
   {
    "duration": 363,
    "start_time": "2022-09-29T06:18:58.201Z"
   },
   {
    "duration": 433,
    "start_time": "2022-09-29T06:18:58.566Z"
   },
   {
    "duration": 344,
    "start_time": "2022-09-29T06:18:59.001Z"
   },
   {
    "duration": 34,
    "start_time": "2022-09-29T06:18:59.347Z"
   },
   {
    "duration": 806,
    "start_time": "2022-09-29T06:18:59.383Z"
   },
   {
    "duration": 22,
    "start_time": "2022-09-29T06:19:00.191Z"
   },
   {
    "duration": 165,
    "start_time": "2022-09-29T06:19:00.215Z"
   },
   {
    "duration": 0,
    "start_time": "2022-09-29T06:19:00.382Z"
   },
   {
    "duration": 0,
    "start_time": "2022-09-29T06:19:00.383Z"
   },
   {
    "duration": 0,
    "start_time": "2022-09-29T06:19:00.384Z"
   },
   {
    "duration": 0,
    "start_time": "2022-09-29T06:19:00.385Z"
   },
   {
    "duration": 0,
    "start_time": "2022-09-29T06:19:00.386Z"
   },
   {
    "duration": 0,
    "start_time": "2022-09-29T06:19:00.386Z"
   },
   {
    "duration": 0,
    "start_time": "2022-09-29T06:19:00.387Z"
   },
   {
    "duration": 0,
    "start_time": "2022-09-29T06:19:00.389Z"
   },
   {
    "duration": 0,
    "start_time": "2022-09-29T06:19:00.390Z"
   },
   {
    "duration": 0,
    "start_time": "2022-09-29T06:19:00.391Z"
   },
   {
    "duration": 0,
    "start_time": "2022-09-29T06:19:00.392Z"
   },
   {
    "duration": 900,
    "start_time": "2022-09-29T06:19:23.425Z"
   },
   {
    "duration": 28,
    "start_time": "2022-09-29T06:19:27.927Z"
   },
   {
    "duration": 6,
    "start_time": "2022-09-29T06:19:39.777Z"
   },
   {
    "duration": 15,
    "start_time": "2022-09-29T06:19:40.095Z"
   },
   {
    "duration": 51,
    "start_time": "2022-09-29T06:19:40.549Z"
   },
   {
    "duration": 91,
    "start_time": "2022-09-29T06:19:49.377Z"
   },
   {
    "duration": 15,
    "start_time": "2022-09-29T06:19:52.757Z"
   },
   {
    "duration": 4,
    "start_time": "2022-09-29T06:19:53.966Z"
   },
   {
    "duration": 46,
    "start_time": "2022-09-29T06:19:54.167Z"
   },
   {
    "duration": 186,
    "start_time": "2022-09-29T06:19:55.170Z"
   },
   {
    "duration": 1165,
    "start_time": "2022-09-29T06:20:00.752Z"
   },
   {
    "duration": 404,
    "start_time": "2022-09-29T06:21:34.144Z"
   },
   {
    "duration": 927,
    "start_time": "2022-09-29T06:21:34.552Z"
   },
   {
    "duration": 168,
    "start_time": "2022-09-29T06:21:35.482Z"
   },
   {
    "duration": 22,
    "start_time": "2022-09-29T06:21:35.652Z"
   },
   {
    "duration": 15,
    "start_time": "2022-09-29T06:21:35.676Z"
   },
   {
    "duration": 28,
    "start_time": "2022-09-29T06:21:35.693Z"
   },
   {
    "duration": 183,
    "start_time": "2022-09-29T06:21:35.723Z"
   },
   {
    "duration": 181,
    "start_time": "2022-09-29T06:21:35.908Z"
   },
   {
    "duration": 18,
    "start_time": "2022-09-29T06:21:36.091Z"
   },
   {
    "duration": 2,
    "start_time": "2022-09-29T06:21:36.111Z"
   },
   {
    "duration": 6,
    "start_time": "2022-09-29T06:21:36.115Z"
   },
   {
    "duration": 82,
    "start_time": "2022-09-29T06:21:36.122Z"
   },
   {
    "duration": 58,
    "start_time": "2022-09-29T06:21:36.206Z"
   },
   {
    "duration": 71,
    "start_time": "2022-09-29T06:21:36.282Z"
   },
   {
    "duration": 33,
    "start_time": "2022-09-29T06:21:36.357Z"
   },
   {
    "duration": 66,
    "start_time": "2022-09-29T06:21:36.392Z"
   },
   {
    "duration": 39,
    "start_time": "2022-09-29T06:21:36.460Z"
   },
   {
    "duration": 65,
    "start_time": "2022-09-29T06:21:36.501Z"
   },
   {
    "duration": 35,
    "start_time": "2022-09-29T06:21:36.572Z"
   },
   {
    "duration": 80,
    "start_time": "2022-09-29T06:21:36.611Z"
   },
   {
    "duration": 27,
    "start_time": "2022-09-29T06:21:36.693Z"
   },
   {
    "duration": 80,
    "start_time": "2022-09-29T06:21:36.722Z"
   },
   {
    "duration": 40,
    "start_time": "2022-09-29T06:21:36.803Z"
   },
   {
    "duration": 71,
    "start_time": "2022-09-29T06:21:36.845Z"
   },
   {
    "duration": 34,
    "start_time": "2022-09-29T06:21:36.917Z"
   },
   {
    "duration": 39,
    "start_time": "2022-09-29T06:21:36.962Z"
   },
   {
    "duration": 16,
    "start_time": "2022-09-29T06:21:37.005Z"
   },
   {
    "duration": 65,
    "start_time": "2022-09-29T06:21:37.022Z"
   },
   {
    "duration": 40,
    "start_time": "2022-09-29T06:21:37.089Z"
   },
   {
    "duration": 59,
    "start_time": "2022-09-29T06:21:37.131Z"
   },
   {
    "duration": 27,
    "start_time": "2022-09-29T06:21:37.192Z"
   },
   {
    "duration": 209,
    "start_time": "2022-09-29T06:21:37.221Z"
   },
   {
    "duration": 334,
    "start_time": "2022-09-29T06:21:37.433Z"
   },
   {
    "duration": 103,
    "start_time": "2022-09-29T06:21:37.769Z"
   },
   {
    "duration": 324,
    "start_time": "2022-09-29T06:21:37.874Z"
   },
   {
    "duration": 375,
    "start_time": "2022-09-29T06:21:38.199Z"
   },
   {
    "duration": 323,
    "start_time": "2022-09-29T06:21:38.575Z"
   },
   {
    "duration": 18,
    "start_time": "2022-09-29T06:21:38.900Z"
   },
   {
    "duration": 740,
    "start_time": "2022-09-29T06:21:38.919Z"
   },
   {
    "duration": 21,
    "start_time": "2022-09-29T06:21:39.662Z"
   },
   {
    "duration": 818,
    "start_time": "2022-09-29T06:21:39.686Z"
   },
   {
    "duration": 2,
    "start_time": "2022-09-29T06:21:40.508Z"
   },
   {
    "duration": 80,
    "start_time": "2022-09-29T06:21:40.512Z"
   },
   {
    "duration": 35,
    "start_time": "2022-09-29T06:21:40.593Z"
   },
   {
    "duration": 98,
    "start_time": "2022-09-29T06:21:40.630Z"
   },
   {
    "duration": 24,
    "start_time": "2022-09-29T06:21:40.730Z"
   },
   {
    "duration": 25,
    "start_time": "2022-09-29T06:21:40.756Z"
   },
   {
    "duration": 50,
    "start_time": "2022-09-29T06:21:40.782Z"
   },
   {
    "duration": 129,
    "start_time": "2022-09-29T06:21:40.833Z"
   },
   {
    "duration": 1288,
    "start_time": "2022-09-29T06:21:40.968Z"
   },
   {
    "duration": 432,
    "start_time": "2022-09-29T06:21:59.997Z"
   },
   {
    "duration": 931,
    "start_time": "2022-09-29T06:22:00.431Z"
   },
   {
    "duration": 145,
    "start_time": "2022-09-29T06:22:01.364Z"
   },
   {
    "duration": 10,
    "start_time": "2022-09-29T06:22:01.511Z"
   },
   {
    "duration": 26,
    "start_time": "2022-09-29T06:22:01.522Z"
   },
   {
    "duration": 32,
    "start_time": "2022-09-29T06:22:01.549Z"
   },
   {
    "duration": 150,
    "start_time": "2022-09-29T06:22:01.583Z"
   },
   {
    "duration": 131,
    "start_time": "2022-09-29T06:22:01.742Z"
   },
   {
    "duration": 37,
    "start_time": "2022-09-29T06:22:01.874Z"
   },
   {
    "duration": 43,
    "start_time": "2022-09-29T06:22:01.914Z"
   },
   {
    "duration": 58,
    "start_time": "2022-09-29T06:22:01.959Z"
   },
   {
    "duration": 86,
    "start_time": "2022-09-29T06:22:02.018Z"
   },
   {
    "duration": 41,
    "start_time": "2022-09-29T06:22:02.107Z"
   },
   {
    "duration": 56,
    "start_time": "2022-09-29T06:22:02.157Z"
   },
   {
    "duration": 67,
    "start_time": "2022-09-29T06:22:02.215Z"
   },
   {
    "duration": 58,
    "start_time": "2022-09-29T06:22:02.284Z"
   },
   {
    "duration": 26,
    "start_time": "2022-09-29T06:22:02.345Z"
   },
   {
    "duration": 33,
    "start_time": "2022-09-29T06:22:02.372Z"
   },
   {
    "duration": 41,
    "start_time": "2022-09-29T06:22:02.413Z"
   },
   {
    "duration": 53,
    "start_time": "2022-09-29T06:22:02.456Z"
   },
   {
    "duration": 24,
    "start_time": "2022-09-29T06:22:02.511Z"
   },
   {
    "duration": 57,
    "start_time": "2022-09-29T06:22:02.537Z"
   },
   {
    "duration": 18,
    "start_time": "2022-09-29T06:22:02.596Z"
   },
   {
    "duration": 70,
    "start_time": "2022-09-29T06:22:02.616Z"
   },
   {
    "duration": 30,
    "start_time": "2022-09-29T06:22:02.688Z"
   },
   {
    "duration": 48,
    "start_time": "2022-09-29T06:22:02.720Z"
   },
   {
    "duration": 23,
    "start_time": "2022-09-29T06:22:02.770Z"
   },
   {
    "duration": 56,
    "start_time": "2022-09-29T06:22:02.797Z"
   },
   {
    "duration": 18,
    "start_time": "2022-09-29T06:22:02.855Z"
   },
   {
    "duration": 42,
    "start_time": "2022-09-29T06:22:02.874Z"
   },
   {
    "duration": 28,
    "start_time": "2022-09-29T06:22:02.917Z"
   },
   {
    "duration": 141,
    "start_time": "2022-09-29T06:22:02.947Z"
   },
   {
    "duration": 342,
    "start_time": "2022-09-29T06:22:03.090Z"
   },
   {
    "duration": 117,
    "start_time": "2022-09-29T06:22:03.434Z"
   },
   {
    "duration": 284,
    "start_time": "2022-09-29T06:22:03.553Z"
   },
   {
    "duration": 288,
    "start_time": "2022-09-29T06:22:03.839Z"
   },
   {
    "duration": 280,
    "start_time": "2022-09-29T06:22:04.128Z"
   },
   {
    "duration": 38,
    "start_time": "2022-09-29T06:22:04.410Z"
   },
   {
    "duration": 689,
    "start_time": "2022-09-29T06:22:04.450Z"
   },
   {
    "duration": 24,
    "start_time": "2022-09-29T06:22:05.145Z"
   },
   {
    "duration": 763,
    "start_time": "2022-09-29T06:22:05.171Z"
   },
   {
    "duration": 7,
    "start_time": "2022-09-29T06:22:05.936Z"
   },
   {
    "duration": 28,
    "start_time": "2022-09-29T06:22:05.946Z"
   },
   {
    "duration": 30,
    "start_time": "2022-09-29T06:22:05.976Z"
   },
   {
    "duration": 105,
    "start_time": "2022-09-29T06:22:06.008Z"
   },
   {
    "duration": 19,
    "start_time": "2022-09-29T06:22:06.115Z"
   },
   {
    "duration": 24,
    "start_time": "2022-09-29T06:22:06.137Z"
   },
   {
    "duration": 62,
    "start_time": "2022-09-29T06:22:06.163Z"
   },
   {
    "duration": 226,
    "start_time": "2022-09-29T06:22:06.227Z"
   },
   {
    "duration": 1167,
    "start_time": "2022-09-29T06:22:06.457Z"
   },
   {
    "duration": 112,
    "start_time": "2022-09-29T06:22:07.626Z"
   },
   {
    "duration": 0,
    "start_time": "2022-09-29T06:22:07.740Z"
   },
   {
    "duration": 19,
    "start_time": "2022-09-29T06:22:10.566Z"
   },
   {
    "duration": 419,
    "start_time": "2022-09-29T06:22:32.557Z"
   },
   {
    "duration": 815,
    "start_time": "2022-09-29T06:22:32.978Z"
   },
   {
    "duration": 165,
    "start_time": "2022-09-29T06:22:33.796Z"
   },
   {
    "duration": 3,
    "start_time": "2022-09-29T06:22:33.963Z"
   },
   {
    "duration": 9,
    "start_time": "2022-09-29T06:22:33.969Z"
   },
   {
    "duration": 11,
    "start_time": "2022-09-29T06:22:33.979Z"
   },
   {
    "duration": 137,
    "start_time": "2022-09-29T06:22:33.992Z"
   },
   {
    "duration": 178,
    "start_time": "2022-09-29T06:22:34.133Z"
   },
   {
    "duration": 26,
    "start_time": "2022-09-29T06:22:34.312Z"
   },
   {
    "duration": 8,
    "start_time": "2022-09-29T06:22:34.343Z"
   },
   {
    "duration": 9,
    "start_time": "2022-09-29T06:22:34.353Z"
   },
   {
    "duration": 37,
    "start_time": "2022-09-29T06:22:34.364Z"
   },
   {
    "duration": 36,
    "start_time": "2022-09-29T06:22:34.402Z"
   },
   {
    "duration": 35,
    "start_time": "2022-09-29T06:22:34.442Z"
   },
   {
    "duration": 26,
    "start_time": "2022-09-29T06:22:34.479Z"
   },
   {
    "duration": 49,
    "start_time": "2022-09-29T06:22:34.506Z"
   },
   {
    "duration": 33,
    "start_time": "2022-09-29T06:22:34.557Z"
   },
   {
    "duration": 52,
    "start_time": "2022-09-29T06:22:34.593Z"
   },
   {
    "duration": 37,
    "start_time": "2022-09-29T06:22:34.648Z"
   },
   {
    "duration": 63,
    "start_time": "2022-09-29T06:22:34.686Z"
   },
   {
    "duration": 30,
    "start_time": "2022-09-29T06:22:34.750Z"
   },
   {
    "duration": 31,
    "start_time": "2022-09-29T06:22:34.781Z"
   },
   {
    "duration": 50,
    "start_time": "2022-09-29T06:22:34.814Z"
   },
   {
    "duration": 37,
    "start_time": "2022-09-29T06:22:34.866Z"
   },
   {
    "duration": 40,
    "start_time": "2022-09-29T06:22:34.905Z"
   },
   {
    "duration": 61,
    "start_time": "2022-09-29T06:22:34.947Z"
   },
   {
    "duration": 40,
    "start_time": "2022-09-29T06:22:35.009Z"
   },
   {
    "duration": 68,
    "start_time": "2022-09-29T06:22:35.051Z"
   },
   {
    "duration": 40,
    "start_time": "2022-09-29T06:22:35.121Z"
   },
   {
    "duration": 36,
    "start_time": "2022-09-29T06:22:35.163Z"
   },
   {
    "duration": 26,
    "start_time": "2022-09-29T06:22:35.201Z"
   },
   {
    "duration": 163,
    "start_time": "2022-09-29T06:22:35.228Z"
   },
   {
    "duration": 313,
    "start_time": "2022-09-29T06:22:35.393Z"
   },
   {
    "duration": 126,
    "start_time": "2022-09-29T06:22:35.708Z"
   },
   {
    "duration": 323,
    "start_time": "2022-09-29T06:22:35.836Z"
   },
   {
    "duration": 487,
    "start_time": "2022-09-29T06:22:36.161Z"
   },
   {
    "duration": 334,
    "start_time": "2022-09-29T06:22:36.650Z"
   },
   {
    "duration": 18,
    "start_time": "2022-09-29T06:22:36.987Z"
   },
   {
    "duration": 672,
    "start_time": "2022-09-29T06:22:37.007Z"
   },
   {
    "duration": 18,
    "start_time": "2022-09-29T06:22:37.680Z"
   },
   {
    "duration": 684,
    "start_time": "2022-09-29T06:22:37.702Z"
   },
   {
    "duration": 0,
    "start_time": "2022-09-29T06:22:38.388Z"
   },
   {
    "duration": 0,
    "start_time": "2022-09-29T06:22:38.390Z"
   },
   {
    "duration": 0,
    "start_time": "2022-09-29T06:22:38.391Z"
   },
   {
    "duration": 0,
    "start_time": "2022-09-29T06:22:38.392Z"
   },
   {
    "duration": 0,
    "start_time": "2022-09-29T06:22:38.393Z"
   },
   {
    "duration": 0,
    "start_time": "2022-09-29T06:22:38.394Z"
   },
   {
    "duration": 0,
    "start_time": "2022-09-29T06:22:38.395Z"
   },
   {
    "duration": 0,
    "start_time": "2022-09-29T06:22:38.396Z"
   },
   {
    "duration": 0,
    "start_time": "2022-09-29T06:22:38.397Z"
   },
   {
    "duration": 0,
    "start_time": "2022-09-29T06:22:38.397Z"
   },
   {
    "duration": 0,
    "start_time": "2022-09-29T06:22:38.398Z"
   },
   {
    "duration": 671,
    "start_time": "2022-09-29T06:23:09.349Z"
   },
   {
    "duration": 22,
    "start_time": "2022-09-29T06:23:12.188Z"
   },
   {
    "duration": 408,
    "start_time": "2022-09-29T06:25:12.284Z"
   },
   {
    "duration": 790,
    "start_time": "2022-09-29T06:25:12.694Z"
   },
   {
    "duration": 137,
    "start_time": "2022-09-29T06:25:13.485Z"
   },
   {
    "duration": 10,
    "start_time": "2022-09-29T06:25:13.624Z"
   },
   {
    "duration": 4,
    "start_time": "2022-09-29T06:25:13.635Z"
   },
   {
    "duration": 13,
    "start_time": "2022-09-29T06:25:13.641Z"
   },
   {
    "duration": 136,
    "start_time": "2022-09-29T06:25:13.656Z"
   },
   {
    "duration": 132,
    "start_time": "2022-09-29T06:25:13.793Z"
   },
   {
    "duration": 16,
    "start_time": "2022-09-29T06:25:13.932Z"
   },
   {
    "duration": 7,
    "start_time": "2022-09-29T06:25:13.951Z"
   },
   {
    "duration": 10,
    "start_time": "2022-09-29T06:25:13.960Z"
   },
   {
    "duration": 67,
    "start_time": "2022-09-29T06:25:13.972Z"
   },
   {
    "duration": 27,
    "start_time": "2022-09-29T06:25:14.040Z"
   },
   {
    "duration": 35,
    "start_time": "2022-09-29T06:25:14.068Z"
   },
   {
    "duration": 30,
    "start_time": "2022-09-29T06:25:14.105Z"
   },
   {
    "duration": 43,
    "start_time": "2022-09-29T06:25:14.136Z"
   },
   {
    "duration": 35,
    "start_time": "2022-09-29T06:25:14.181Z"
   },
   {
    "duration": 60,
    "start_time": "2022-09-29T06:25:14.218Z"
   },
   {
    "duration": 19,
    "start_time": "2022-09-29T06:25:14.280Z"
   },
   {
    "duration": 47,
    "start_time": "2022-09-29T06:25:14.300Z"
   },
   {
    "duration": 22,
    "start_time": "2022-09-29T06:25:14.349Z"
   },
   {
    "duration": 34,
    "start_time": "2022-09-29T06:25:14.373Z"
   },
   {
    "duration": 33,
    "start_time": "2022-09-29T06:25:14.408Z"
   },
   {
    "duration": 37,
    "start_time": "2022-09-29T06:25:14.443Z"
   },
   {
    "duration": 23,
    "start_time": "2022-09-29T06:25:14.481Z"
   },
   {
    "duration": 42,
    "start_time": "2022-09-29T06:25:14.505Z"
   },
   {
    "duration": 15,
    "start_time": "2022-09-29T06:25:14.548Z"
   },
   {
    "duration": 39,
    "start_time": "2022-09-29T06:25:14.566Z"
   },
   {
    "duration": 41,
    "start_time": "2022-09-29T06:25:14.606Z"
   },
   {
    "duration": 50,
    "start_time": "2022-09-29T06:25:14.648Z"
   },
   {
    "duration": 43,
    "start_time": "2022-09-29T06:25:14.700Z"
   },
   {
    "duration": 173,
    "start_time": "2022-09-29T06:25:14.745Z"
   },
   {
    "duration": 307,
    "start_time": "2022-09-29T06:25:14.920Z"
   },
   {
    "duration": 113,
    "start_time": "2022-09-29T06:25:15.229Z"
   },
   {
    "duration": 278,
    "start_time": "2022-09-29T06:25:15.343Z"
   },
   {
    "duration": 298,
    "start_time": "2022-09-29T06:25:15.623Z"
   },
   {
    "duration": 304,
    "start_time": "2022-09-29T06:25:15.923Z"
   },
   {
    "duration": 22,
    "start_time": "2022-09-29T06:25:16.234Z"
   },
   {
    "duration": 644,
    "start_time": "2022-09-29T06:25:16.258Z"
   },
   {
    "duration": 18,
    "start_time": "2022-09-29T06:25:16.904Z"
   },
   {
    "duration": 791,
    "start_time": "2022-09-29T06:25:16.924Z"
   },
   {
    "duration": 3,
    "start_time": "2022-09-29T06:25:17.717Z"
   },
   {
    "duration": 28,
    "start_time": "2022-09-29T06:25:17.722Z"
   },
   {
    "duration": 34,
    "start_time": "2022-09-29T06:25:17.752Z"
   },
   {
    "duration": 91,
    "start_time": "2022-09-29T06:25:17.788Z"
   },
   {
    "duration": 14,
    "start_time": "2022-09-29T06:25:17.880Z"
   },
   {
    "duration": 6,
    "start_time": "2022-09-29T06:25:17.896Z"
   },
   {
    "duration": 57,
    "start_time": "2022-09-29T06:25:17.904Z"
   },
   {
    "duration": 175,
    "start_time": "2022-09-29T06:25:17.962Z"
   },
   {
    "duration": 1074,
    "start_time": "2022-09-29T06:25:18.140Z"
   },
   {
    "duration": 68,
    "start_time": "2022-09-29T06:25:19.216Z"
   },
   {
    "duration": 0,
    "start_time": "2022-09-29T06:25:19.286Z"
   },
   {
    "duration": 20,
    "start_time": "2022-09-29T06:25:21.862Z"
   },
   {
    "duration": 505,
    "start_time": "2022-09-29T06:26:22.742Z"
   },
   {
    "duration": 20,
    "start_time": "2022-09-29T06:26:25.760Z"
   },
   {
    "duration": 400,
    "start_time": "2022-09-29T06:29:21.598Z"
   },
   {
    "duration": 802,
    "start_time": "2022-09-29T06:29:22.000Z"
   },
   {
    "duration": 139,
    "start_time": "2022-09-29T06:29:22.803Z"
   },
   {
    "duration": 3,
    "start_time": "2022-09-29T06:29:22.944Z"
   },
   {
    "duration": 18,
    "start_time": "2022-09-29T06:29:22.949Z"
   },
   {
    "duration": 11,
    "start_time": "2022-09-29T06:29:22.968Z"
   },
   {
    "duration": 124,
    "start_time": "2022-09-29T06:29:22.980Z"
   },
   {
    "duration": 132,
    "start_time": "2022-09-29T06:29:23.105Z"
   },
   {
    "duration": 17,
    "start_time": "2022-09-29T06:29:23.239Z"
   },
   {
    "duration": 4,
    "start_time": "2022-09-29T06:29:23.259Z"
   },
   {
    "duration": 7,
    "start_time": "2022-09-29T06:29:23.265Z"
   },
   {
    "duration": 83,
    "start_time": "2022-09-29T06:29:23.273Z"
   },
   {
    "duration": 29,
    "start_time": "2022-09-29T06:29:23.358Z"
   },
   {
    "duration": 47,
    "start_time": "2022-09-29T06:29:23.389Z"
   },
   {
    "duration": 15,
    "start_time": "2022-09-29T06:29:23.438Z"
   },
   {
    "duration": 56,
    "start_time": "2022-09-29T06:29:23.455Z"
   },
   {
    "duration": 30,
    "start_time": "2022-09-29T06:29:23.513Z"
   },
   {
    "duration": 38,
    "start_time": "2022-09-29T06:29:23.544Z"
   },
   {
    "duration": 23,
    "start_time": "2022-09-29T06:29:23.584Z"
   },
   {
    "duration": 45,
    "start_time": "2022-09-29T06:29:23.609Z"
   },
   {
    "duration": 22,
    "start_time": "2022-09-29T06:29:23.655Z"
   },
   {
    "duration": 74,
    "start_time": "2022-09-29T06:29:23.678Z"
   },
   {
    "duration": 22,
    "start_time": "2022-09-29T06:29:23.754Z"
   },
   {
    "duration": 41,
    "start_time": "2022-09-29T06:29:23.778Z"
   },
   {
    "duration": 30,
    "start_time": "2022-09-29T06:29:23.821Z"
   },
   {
    "duration": 31,
    "start_time": "2022-09-29T06:29:23.853Z"
   },
   {
    "duration": 18,
    "start_time": "2022-09-29T06:29:23.886Z"
   },
   {
    "duration": 34,
    "start_time": "2022-09-29T06:29:23.933Z"
   },
   {
    "duration": 18,
    "start_time": "2022-09-29T06:29:23.969Z"
   },
   {
    "duration": 49,
    "start_time": "2022-09-29T06:29:23.990Z"
   },
   {
    "duration": 18,
    "start_time": "2022-09-29T06:29:24.041Z"
   },
   {
    "duration": 173,
    "start_time": "2022-09-29T06:29:24.060Z"
   },
   {
    "duration": 296,
    "start_time": "2022-09-29T06:29:24.235Z"
   },
   {
    "duration": 99,
    "start_time": "2022-09-29T06:29:24.534Z"
   },
   {
    "duration": 270,
    "start_time": "2022-09-29T06:29:24.635Z"
   },
   {
    "duration": 291,
    "start_time": "2022-09-29T06:29:24.907Z"
   },
   {
    "duration": 263,
    "start_time": "2022-09-29T06:29:25.200Z"
   },
   {
    "duration": 17,
    "start_time": "2022-09-29T06:29:25.465Z"
   },
   {
    "duration": 559,
    "start_time": "2022-09-29T06:29:25.484Z"
   },
   {
    "duration": 18,
    "start_time": "2022-09-29T06:29:26.044Z"
   },
   {
    "duration": 72,
    "start_time": "2022-09-29T06:29:26.064Z"
   },
   {
    "duration": 0,
    "start_time": "2022-09-29T06:29:26.138Z"
   },
   {
    "duration": 0,
    "start_time": "2022-09-29T06:29:26.139Z"
   },
   {
    "duration": 0,
    "start_time": "2022-09-29T06:29:26.140Z"
   },
   {
    "duration": 0,
    "start_time": "2022-09-29T06:29:26.141Z"
   },
   {
    "duration": 0,
    "start_time": "2022-09-29T06:29:26.143Z"
   },
   {
    "duration": 0,
    "start_time": "2022-09-29T06:29:26.144Z"
   },
   {
    "duration": 0,
    "start_time": "2022-09-29T06:29:26.145Z"
   },
   {
    "duration": 0,
    "start_time": "2022-09-29T06:29:26.147Z"
   },
   {
    "duration": 0,
    "start_time": "2022-09-29T06:29:26.148Z"
   },
   {
    "duration": 0,
    "start_time": "2022-09-29T06:29:26.149Z"
   },
   {
    "duration": 0,
    "start_time": "2022-09-29T06:29:26.151Z"
   },
   {
    "duration": 102,
    "start_time": "2022-09-29T06:29:57.064Z"
   },
   {
    "duration": 96,
    "start_time": "2022-09-29T06:30:00.549Z"
   },
   {
    "duration": 667,
    "start_time": "2022-09-29T06:30:17.527Z"
   },
   {
    "duration": 37,
    "start_time": "2022-09-29T06:30:20.301Z"
   },
   {
    "duration": 254,
    "start_time": "2022-09-29T06:31:14.230Z"
   },
   {
    "duration": 40,
    "start_time": "2022-09-29T06:31:16.290Z"
   },
   {
    "duration": 14,
    "start_time": "2022-09-29T06:31:29.966Z"
   },
   {
    "duration": 11,
    "start_time": "2022-09-29T06:31:49.025Z"
   },
   {
    "duration": 399,
    "start_time": "2022-09-29T06:31:54.179Z"
   },
   {
    "duration": 800,
    "start_time": "2022-09-29T06:31:54.580Z"
   },
   {
    "duration": 132,
    "start_time": "2022-09-29T06:31:55.382Z"
   },
   {
    "duration": 3,
    "start_time": "2022-09-29T06:31:55.516Z"
   },
   {
    "duration": 3,
    "start_time": "2022-09-29T06:31:55.533Z"
   },
   {
    "duration": 11,
    "start_time": "2022-09-29T06:31:55.537Z"
   },
   {
    "duration": 126,
    "start_time": "2022-09-29T06:31:55.549Z"
   },
   {
    "duration": 133,
    "start_time": "2022-09-29T06:31:55.677Z"
   },
   {
    "duration": 25,
    "start_time": "2022-09-29T06:31:55.811Z"
   },
   {
    "duration": 2,
    "start_time": "2022-09-29T06:31:55.839Z"
   },
   {
    "duration": 5,
    "start_time": "2022-09-29T06:31:55.843Z"
   },
   {
    "duration": 38,
    "start_time": "2022-09-29T06:31:55.850Z"
   },
   {
    "duration": 45,
    "start_time": "2022-09-29T06:31:55.889Z"
   },
   {
    "duration": 30,
    "start_time": "2022-09-29T06:31:55.936Z"
   },
   {
    "duration": 24,
    "start_time": "2022-09-29T06:31:55.967Z"
   },
   {
    "duration": 63,
    "start_time": "2022-09-29T06:31:55.993Z"
   },
   {
    "duration": 23,
    "start_time": "2022-09-29T06:31:56.057Z"
   },
   {
    "duration": 33,
    "start_time": "2022-09-29T06:31:56.082Z"
   },
   {
    "duration": 20,
    "start_time": "2022-09-29T06:31:56.133Z"
   },
   {
    "duration": 56,
    "start_time": "2022-09-29T06:31:56.156Z"
   },
   {
    "duration": 38,
    "start_time": "2022-09-29T06:31:56.214Z"
   },
   {
    "duration": 50,
    "start_time": "2022-09-29T06:31:56.254Z"
   },
   {
    "duration": 42,
    "start_time": "2022-09-29T06:31:56.307Z"
   },
   {
    "duration": 55,
    "start_time": "2022-09-29T06:31:56.351Z"
   },
   {
    "duration": 32,
    "start_time": "2022-09-29T06:31:56.409Z"
   },
   {
    "duration": 40,
    "start_time": "2022-09-29T06:31:56.443Z"
   },
   {
    "duration": 28,
    "start_time": "2022-09-29T06:31:56.485Z"
   },
   {
    "duration": 41,
    "start_time": "2022-09-29T06:31:56.535Z"
   },
   {
    "duration": 25,
    "start_time": "2022-09-29T06:31:56.578Z"
   },
   {
    "duration": 66,
    "start_time": "2022-09-29T06:31:56.605Z"
   },
   {
    "duration": 34,
    "start_time": "2022-09-29T06:31:56.673Z"
   },
   {
    "duration": 151,
    "start_time": "2022-09-29T06:31:56.709Z"
   },
   {
    "duration": 297,
    "start_time": "2022-09-29T06:31:56.862Z"
   },
   {
    "duration": 92,
    "start_time": "2022-09-29T06:31:57.161Z"
   },
   {
    "duration": 253,
    "start_time": "2022-09-29T06:31:57.255Z"
   },
   {
    "duration": 293,
    "start_time": "2022-09-29T06:31:57.510Z"
   },
   {
    "duration": 253,
    "start_time": "2022-09-29T06:31:57.805Z"
   },
   {
    "duration": 17,
    "start_time": "2022-09-29T06:31:58.059Z"
   },
   {
    "duration": 630,
    "start_time": "2022-09-29T06:31:58.078Z"
   },
   {
    "duration": 115,
    "start_time": "2022-09-29T06:31:58.710Z"
   },
   {
    "duration": 1089,
    "start_time": "2022-09-29T06:31:58.827Z"
   },
   {
    "duration": 0,
    "start_time": "2022-09-29T06:31:59.918Z"
   },
   {
    "duration": 0,
    "start_time": "2022-09-29T06:31:59.919Z"
   },
   {
    "duration": 0,
    "start_time": "2022-09-29T06:31:59.920Z"
   },
   {
    "duration": 0,
    "start_time": "2022-09-29T06:31:59.922Z"
   },
   {
    "duration": 0,
    "start_time": "2022-09-29T06:31:59.923Z"
   },
   {
    "duration": 0,
    "start_time": "2022-09-29T06:31:59.933Z"
   },
   {
    "duration": 0,
    "start_time": "2022-09-29T06:31:59.934Z"
   },
   {
    "duration": 0,
    "start_time": "2022-09-29T06:31:59.936Z"
   },
   {
    "duration": 0,
    "start_time": "2022-09-29T06:31:59.937Z"
   },
   {
    "duration": 0,
    "start_time": "2022-09-29T06:31:59.938Z"
   },
   {
    "duration": 0,
    "start_time": "2022-09-29T06:31:59.939Z"
   },
   {
    "duration": 662,
    "start_time": "2022-09-29T06:32:23.341Z"
   },
   {
    "duration": 37,
    "start_time": "2022-09-29T06:32:28.924Z"
   },
   {
    "duration": 562,
    "start_time": "2022-09-29T06:34:05.932Z"
   },
   {
    "duration": 3,
    "start_time": "2022-09-29T06:34:06.497Z"
   },
   {
    "duration": 33,
    "start_time": "2022-09-29T06:34:06.501Z"
   },
   {
    "duration": 32,
    "start_time": "2022-09-29T06:34:06.937Z"
   },
   {
    "duration": 75,
    "start_time": "2022-09-29T06:34:09.610Z"
   },
   {
    "duration": 15,
    "start_time": "2022-09-29T06:34:13.843Z"
   },
   {
    "duration": 2,
    "start_time": "2022-09-29T06:34:14.486Z"
   },
   {
    "duration": 42,
    "start_time": "2022-09-29T06:34:15.109Z"
   },
   {
    "duration": 121,
    "start_time": "2022-09-29T06:34:16.121Z"
   },
   {
    "duration": 432,
    "start_time": "2022-09-29T06:34:27.845Z"
   },
   {
    "duration": 790,
    "start_time": "2022-09-29T06:34:28.279Z"
   },
   {
    "duration": 126,
    "start_time": "2022-09-29T06:34:29.071Z"
   },
   {
    "duration": 3,
    "start_time": "2022-09-29T06:34:29.199Z"
   },
   {
    "duration": 7,
    "start_time": "2022-09-29T06:34:29.204Z"
   },
   {
    "duration": 15,
    "start_time": "2022-09-29T06:34:29.212Z"
   },
   {
    "duration": 122,
    "start_time": "2022-09-29T06:34:29.232Z"
   },
   {
    "duration": 125,
    "start_time": "2022-09-29T06:34:29.356Z"
   },
   {
    "duration": 21,
    "start_time": "2022-09-29T06:34:29.482Z"
   },
   {
    "duration": 10,
    "start_time": "2022-09-29T06:34:29.506Z"
   },
   {
    "duration": 8,
    "start_time": "2022-09-29T06:34:29.518Z"
   },
   {
    "duration": 34,
    "start_time": "2022-09-29T06:34:29.533Z"
   },
   {
    "duration": 21,
    "start_time": "2022-09-29T06:34:29.568Z"
   },
   {
    "duration": 48,
    "start_time": "2022-09-29T06:34:29.590Z"
   },
   {
    "duration": 36,
    "start_time": "2022-09-29T06:34:29.640Z"
   },
   {
    "duration": 47,
    "start_time": "2022-09-29T06:34:29.678Z"
   },
   {
    "duration": 18,
    "start_time": "2022-09-29T06:34:29.727Z"
   },
   {
    "duration": 46,
    "start_time": "2022-09-29T06:34:29.748Z"
   },
   {
    "duration": 18,
    "start_time": "2022-09-29T06:34:29.795Z"
   },
   {
    "duration": 37,
    "start_time": "2022-09-29T06:34:29.814Z"
   },
   {
    "duration": 22,
    "start_time": "2022-09-29T06:34:29.853Z"
   },
   {
    "duration": 32,
    "start_time": "2022-09-29T06:34:29.877Z"
   },
   {
    "duration": 30,
    "start_time": "2022-09-29T06:34:29.910Z"
   },
   {
    "duration": 47,
    "start_time": "2022-09-29T06:34:29.941Z"
   },
   {
    "duration": 20,
    "start_time": "2022-09-29T06:34:29.989Z"
   },
   {
    "duration": 63,
    "start_time": "2022-09-29T06:34:30.010Z"
   },
   {
    "duration": 25,
    "start_time": "2022-09-29T06:34:30.075Z"
   },
   {
    "duration": 48,
    "start_time": "2022-09-29T06:34:30.105Z"
   },
   {
    "duration": 33,
    "start_time": "2022-09-29T06:34:30.155Z"
   },
   {
    "duration": 51,
    "start_time": "2022-09-29T06:34:30.190Z"
   },
   {
    "duration": 20,
    "start_time": "2022-09-29T06:34:30.242Z"
   },
   {
    "duration": 132,
    "start_time": "2022-09-29T06:34:30.264Z"
   },
   {
    "duration": 281,
    "start_time": "2022-09-29T06:34:30.397Z"
   },
   {
    "duration": 90,
    "start_time": "2022-09-29T06:34:30.680Z"
   },
   {
    "duration": 279,
    "start_time": "2022-09-29T06:34:30.772Z"
   },
   {
    "duration": 275,
    "start_time": "2022-09-29T06:34:31.053Z"
   },
   {
    "duration": 240,
    "start_time": "2022-09-29T06:34:31.330Z"
   },
   {
    "duration": 18,
    "start_time": "2022-09-29T06:34:31.573Z"
   },
   {
    "duration": 725,
    "start_time": "2022-09-29T06:34:31.592Z"
   },
   {
    "duration": 100,
    "start_time": "2022-09-29T06:34:32.319Z"
   },
   {
    "duration": 649,
    "start_time": "2022-09-29T06:34:32.421Z"
   },
   {
    "duration": 2,
    "start_time": "2022-09-29T06:34:33.072Z"
   },
   {
    "duration": 21,
    "start_time": "2022-09-29T06:34:33.076Z"
   },
   {
    "duration": 41,
    "start_time": "2022-09-29T06:34:33.098Z"
   },
   {
    "duration": 95,
    "start_time": "2022-09-29T06:34:33.141Z"
   },
   {
    "duration": 0,
    "start_time": "2022-09-29T06:34:33.238Z"
   },
   {
    "duration": 0,
    "start_time": "2022-09-29T06:34:33.239Z"
   },
   {
    "duration": 0,
    "start_time": "2022-09-29T06:34:33.239Z"
   },
   {
    "duration": 0,
    "start_time": "2022-09-29T06:34:33.240Z"
   },
   {
    "duration": 0,
    "start_time": "2022-09-29T06:34:33.241Z"
   },
   {
    "duration": 0,
    "start_time": "2022-09-29T06:34:33.243Z"
   },
   {
    "duration": 0,
    "start_time": "2022-09-29T06:34:33.244Z"
   },
   {
    "duration": 11,
    "start_time": "2022-09-29T06:34:36.735Z"
   },
   {
    "duration": 3,
    "start_time": "2022-09-29T06:34:37.286Z"
   },
   {
    "duration": 43,
    "start_time": "2022-09-29T06:34:37.559Z"
   },
   {
    "duration": 107,
    "start_time": "2022-09-29T06:34:38.829Z"
   },
   {
    "duration": 45,
    "start_time": "2022-09-29T06:34:42.992Z"
   },
   {
    "duration": 38,
    "start_time": "2022-09-29T06:35:05.145Z"
   },
   {
    "duration": 382,
    "start_time": "2022-09-29T06:35:20.951Z"
   },
   {
    "duration": 787,
    "start_time": "2022-09-29T06:35:21.335Z"
   },
   {
    "duration": 151,
    "start_time": "2022-09-29T06:35:22.126Z"
   },
   {
    "duration": 3,
    "start_time": "2022-09-29T06:35:22.278Z"
   },
   {
    "duration": 17,
    "start_time": "2022-09-29T06:35:22.283Z"
   },
   {
    "duration": 17,
    "start_time": "2022-09-29T06:35:22.302Z"
   },
   {
    "duration": 142,
    "start_time": "2022-09-29T06:35:22.321Z"
   },
   {
    "duration": 155,
    "start_time": "2022-09-29T06:35:22.465Z"
   },
   {
    "duration": 21,
    "start_time": "2022-09-29T06:35:22.624Z"
   },
   {
    "duration": 16,
    "start_time": "2022-09-29T06:35:22.647Z"
   },
   {
    "duration": 13,
    "start_time": "2022-09-29T06:35:22.665Z"
   },
   {
    "duration": 47,
    "start_time": "2022-09-29T06:35:22.680Z"
   },
   {
    "duration": 42,
    "start_time": "2022-09-29T06:35:22.729Z"
   },
   {
    "duration": 44,
    "start_time": "2022-09-29T06:35:22.773Z"
   },
   {
    "duration": 36,
    "start_time": "2022-09-29T06:35:22.818Z"
   },
   {
    "duration": 59,
    "start_time": "2022-09-29T06:35:22.856Z"
   },
   {
    "duration": 25,
    "start_time": "2022-09-29T06:35:22.917Z"
   },
   {
    "duration": 48,
    "start_time": "2022-09-29T06:35:22.943Z"
   },
   {
    "duration": 27,
    "start_time": "2022-09-29T06:35:22.992Z"
   },
   {
    "duration": 95,
    "start_time": "2022-09-29T06:35:23.021Z"
   },
   {
    "duration": 23,
    "start_time": "2022-09-29T06:35:23.118Z"
   },
   {
    "duration": 62,
    "start_time": "2022-09-29T06:35:23.143Z"
   },
   {
    "duration": 58,
    "start_time": "2022-09-29T06:35:23.206Z"
   },
   {
    "duration": 44,
    "start_time": "2022-09-29T06:35:23.265Z"
   },
   {
    "duration": 46,
    "start_time": "2022-09-29T06:35:23.310Z"
   },
   {
    "duration": 36,
    "start_time": "2022-09-29T06:35:23.357Z"
   },
   {
    "duration": 42,
    "start_time": "2022-09-29T06:35:23.396Z"
   },
   {
    "duration": 54,
    "start_time": "2022-09-29T06:35:23.440Z"
   },
   {
    "duration": 32,
    "start_time": "2022-09-29T06:35:23.496Z"
   },
   {
    "duration": 65,
    "start_time": "2022-09-29T06:35:23.530Z"
   },
   {
    "duration": 22,
    "start_time": "2022-09-29T06:35:23.597Z"
   },
   {
    "duration": 158,
    "start_time": "2022-09-29T06:35:23.621Z"
   },
   {
    "duration": 277,
    "start_time": "2022-09-29T06:35:23.781Z"
   },
   {
    "duration": 89,
    "start_time": "2022-09-29T06:35:24.060Z"
   },
   {
    "duration": 280,
    "start_time": "2022-09-29T06:35:24.151Z"
   },
   {
    "duration": 297,
    "start_time": "2022-09-29T06:35:24.433Z"
   },
   {
    "duration": 247,
    "start_time": "2022-09-29T06:35:24.733Z"
   },
   {
    "duration": 21,
    "start_time": "2022-09-29T06:35:24.982Z"
   },
   {
    "duration": 663,
    "start_time": "2022-09-29T06:35:25.005Z"
   },
   {
    "duration": 679,
    "start_time": "2022-09-29T06:35:25.670Z"
   },
   {
    "duration": 18,
    "start_time": "2022-09-29T06:35:26.352Z"
   },
   {
    "duration": 48,
    "start_time": "2022-09-29T06:35:26.372Z"
   },
   {
    "duration": 21,
    "start_time": "2022-09-29T06:35:26.434Z"
   },
   {
    "duration": 16,
    "start_time": "2022-09-29T06:35:26.457Z"
   },
   {
    "duration": 51,
    "start_time": "2022-09-29T06:35:26.475Z"
   },
   {
    "duration": 119,
    "start_time": "2022-09-29T06:35:26.528Z"
   },
   {
    "duration": 1030,
    "start_time": "2022-09-29T06:35:26.734Z"
   },
   {
    "duration": 50,
    "start_time": "2022-09-29T06:35:27.766Z"
   },
   {
    "duration": 0,
    "start_time": "2022-09-29T06:35:27.818Z"
   },
   {
    "duration": 9,
    "start_time": "2022-09-29T06:35:32.290Z"
   },
   {
    "duration": 107,
    "start_time": "2022-09-29T06:37:26.732Z"
   },
   {
    "duration": 103,
    "start_time": "2022-09-29T06:37:32.442Z"
   },
   {
    "duration": 4,
    "start_time": "2022-09-29T06:39:03.023Z"
   },
   {
    "duration": 7,
    "start_time": "2022-09-29T06:39:13.728Z"
   },
   {
    "duration": 7,
    "start_time": "2022-09-29T06:39:26.934Z"
   },
   {
    "duration": 67,
    "start_time": "2022-09-29T06:40:10.517Z"
   },
   {
    "duration": 49,
    "start_time": "2022-09-29T06:40:16.358Z"
   },
   {
    "duration": 9,
    "start_time": "2022-09-29T06:40:20.943Z"
   },
   {
    "duration": 8,
    "start_time": "2022-09-29T06:40:32.224Z"
   },
   {
    "duration": 99,
    "start_time": "2022-09-29T06:40:47.749Z"
   },
   {
    "duration": 13,
    "start_time": "2022-09-29T06:40:57.565Z"
   },
   {
    "duration": 15,
    "start_time": "2022-09-29T06:41:29.526Z"
   },
   {
    "duration": 13,
    "start_time": "2022-09-29T06:41:33.464Z"
   },
   {
    "duration": 70,
    "start_time": "2022-09-29T06:41:46.067Z"
   },
   {
    "duration": 417,
    "start_time": "2022-10-03T05:58:36.796Z"
   },
   {
    "duration": 2923,
    "start_time": "2022-10-03T05:58:37.216Z"
   },
   {
    "duration": 120,
    "start_time": "2022-10-03T05:58:40.141Z"
   },
   {
    "duration": 3,
    "start_time": "2022-10-03T05:58:40.264Z"
   },
   {
    "duration": 12,
    "start_time": "2022-10-03T05:58:40.284Z"
   },
   {
    "duration": 8,
    "start_time": "2022-10-03T05:58:40.297Z"
   },
   {
    "duration": 129,
    "start_time": "2022-10-03T05:58:40.307Z"
   },
   {
    "duration": 123,
    "start_time": "2022-10-03T05:58:40.439Z"
   },
   {
    "duration": 19,
    "start_time": "2022-10-03T05:58:40.564Z"
   },
   {
    "duration": 4,
    "start_time": "2022-10-03T05:58:40.597Z"
   },
   {
    "duration": 5,
    "start_time": "2022-10-03T05:58:40.603Z"
   },
   {
    "duration": 54,
    "start_time": "2022-10-03T05:58:40.609Z"
   },
   {
    "duration": 41,
    "start_time": "2022-10-03T05:58:40.664Z"
   },
   {
    "duration": 28,
    "start_time": "2022-10-03T05:58:40.706Z"
   },
   {
    "duration": 16,
    "start_time": "2022-10-03T05:58:40.736Z"
   },
   {
    "duration": 56,
    "start_time": "2022-10-03T05:58:40.754Z"
   },
   {
    "duration": 24,
    "start_time": "2022-10-03T05:58:40.812Z"
   },
   {
    "duration": 29,
    "start_time": "2022-10-03T05:58:40.838Z"
   },
   {
    "duration": 37,
    "start_time": "2022-10-03T05:58:40.869Z"
   },
   {
    "duration": 33,
    "start_time": "2022-10-03T05:58:40.908Z"
   },
   {
    "duration": 23,
    "start_time": "2022-10-03T05:58:40.943Z"
   },
   {
    "duration": 54,
    "start_time": "2022-10-03T05:58:40.968Z"
   },
   {
    "duration": 16,
    "start_time": "2022-10-03T05:58:41.024Z"
   },
   {
    "duration": 56,
    "start_time": "2022-10-03T05:58:41.042Z"
   },
   {
    "duration": 22,
    "start_time": "2022-10-03T05:58:41.100Z"
   },
   {
    "duration": 29,
    "start_time": "2022-10-03T05:58:41.124Z"
   },
   {
    "duration": 16,
    "start_time": "2022-10-03T05:58:41.155Z"
   },
   {
    "duration": 32,
    "start_time": "2022-10-03T05:58:41.195Z"
   },
   {
    "duration": 21,
    "start_time": "2022-10-03T05:58:41.228Z"
   },
   {
    "duration": 47,
    "start_time": "2022-10-03T05:58:41.250Z"
   },
   {
    "duration": 18,
    "start_time": "2022-10-03T05:58:41.299Z"
   },
   {
    "duration": 126,
    "start_time": "2022-10-03T05:58:41.319Z"
   },
   {
    "duration": 308,
    "start_time": "2022-10-03T05:58:41.447Z"
   },
   {
    "duration": 81,
    "start_time": "2022-10-03T05:58:41.757Z"
   },
   {
    "duration": 289,
    "start_time": "2022-10-03T05:58:41.840Z"
   },
   {
    "duration": 350,
    "start_time": "2022-10-03T05:58:42.131Z"
   },
   {
    "duration": 314,
    "start_time": "2022-10-03T05:58:42.483Z"
   },
   {
    "duration": 20,
    "start_time": "2022-10-03T05:58:42.798Z"
   },
   {
    "duration": 730,
    "start_time": "2022-10-03T05:58:42.820Z"
   },
   {
    "duration": 661,
    "start_time": "2022-10-03T05:58:43.552Z"
   },
   {
    "duration": 18,
    "start_time": "2022-10-03T05:58:44.215Z"
   },
   {
    "duration": 60,
    "start_time": "2022-10-03T05:58:44.235Z"
   },
   {
    "duration": 23,
    "start_time": "2022-10-03T05:58:44.298Z"
   },
   {
    "duration": 15,
    "start_time": "2022-10-03T05:58:44.323Z"
   },
   {
    "duration": 88,
    "start_time": "2022-10-03T05:58:44.341Z"
   },
   {
    "duration": 171,
    "start_time": "2022-10-03T05:58:44.430Z"
   },
   {
    "duration": 1170,
    "start_time": "2022-10-03T05:58:44.605Z"
   },
   {
    "duration": 80,
    "start_time": "2022-10-03T05:58:45.777Z"
   },
   {
    "duration": 0,
    "start_time": "2022-10-03T05:58:45.859Z"
   },
   {
    "duration": 0,
    "start_time": "2022-10-03T05:58:45.861Z"
   },
   {
    "duration": 0,
    "start_time": "2022-10-03T05:58:45.862Z"
   },
   {
    "duration": 71509,
    "start_time": "2022-10-03T05:59:59.580Z"
   },
   {
    "duration": 9,
    "start_time": "2022-10-03T06:01:11.092Z"
   },
   {
    "duration": 135,
    "start_time": "2022-10-03T06:01:11.103Z"
   },
   {
    "duration": 0,
    "start_time": "2022-10-03T06:01:11.240Z"
   },
   {
    "duration": 76,
    "start_time": "2022-10-03T06:07:43.085Z"
   },
   {
    "duration": 85,
    "start_time": "2022-10-03T06:07:57.817Z"
   },
   {
    "duration": 97,
    "start_time": "2022-10-03T06:08:22.832Z"
   },
   {
    "duration": 84,
    "start_time": "2022-10-03T06:08:26.795Z"
   },
   {
    "duration": 76,
    "start_time": "2022-10-03T06:08:38.410Z"
   },
   {
    "duration": 76,
    "start_time": "2022-10-03T06:09:03.047Z"
   },
   {
    "duration": 10,
    "start_time": "2022-10-03T06:09:07.274Z"
   },
   {
    "duration": 15,
    "start_time": "2022-10-03T06:09:19.871Z"
   },
   {
    "duration": 16,
    "start_time": "2022-10-03T06:10:42.966Z"
   },
   {
    "duration": 8,
    "start_time": "2022-10-03T06:11:21.640Z"
   },
   {
    "duration": 9,
    "start_time": "2022-10-03T06:11:43.118Z"
   },
   {
    "duration": 10,
    "start_time": "2022-10-03T06:13:06.721Z"
   },
   {
    "duration": 12,
    "start_time": "2022-10-03T06:13:11.703Z"
   },
   {
    "duration": 15,
    "start_time": "2022-10-03T06:13:24.887Z"
   },
   {
    "duration": 12,
    "start_time": "2022-10-03T06:13:36.398Z"
   },
   {
    "duration": 11,
    "start_time": "2022-10-03T06:13:50.326Z"
   },
   {
    "duration": 9,
    "start_time": "2022-10-03T06:13:58.841Z"
   },
   {
    "duration": 10,
    "start_time": "2022-10-03T06:14:05.787Z"
   },
   {
    "duration": 3,
    "start_time": "2022-10-03T06:41:25.949Z"
   },
   {
    "duration": 269,
    "start_time": "2022-10-03T06:41:29.226Z"
   },
   {
    "duration": 78,
    "start_time": "2022-10-03T06:41:58.538Z"
   },
   {
    "duration": 76,
    "start_time": "2022-10-03T06:44:33.156Z"
   },
   {
    "duration": 121,
    "start_time": "2022-10-03T06:46:09.378Z"
   },
   {
    "duration": 4,
    "start_time": "2022-10-03T06:46:40.862Z"
   },
   {
    "duration": 138,
    "start_time": "2022-10-03T06:46:48.658Z"
   },
   {
    "duration": 2,
    "start_time": "2022-10-03T06:46:59.725Z"
   },
   {
    "duration": 1629,
    "start_time": "2022-10-03T06:49:21.438Z"
   },
   {
    "duration": 1469,
    "start_time": "2022-10-03T06:49:34.908Z"
   },
   {
    "duration": 1548,
    "start_time": "2022-10-03T06:49:51.452Z"
   },
   {
    "duration": 1751,
    "start_time": "2022-10-03T06:50:08.437Z"
   },
   {
    "duration": 1550,
    "start_time": "2022-10-03T06:50:21.714Z"
   },
   {
    "duration": 1468,
    "start_time": "2022-10-03T06:50:38.835Z"
   },
   {
    "duration": 42567,
    "start_time": "2022-10-03T06:51:33.433Z"
   },
   {
    "duration": 14936,
    "start_time": "2022-10-03T06:52:44.503Z"
   },
   {
    "duration": 19480,
    "start_time": "2022-10-03T06:53:15.607Z"
   },
   {
    "duration": 24493,
    "start_time": "2022-10-03T06:53:43.853Z"
   },
   {
    "duration": 25137,
    "start_time": "2022-10-03T06:54:23.038Z"
   },
   {
    "duration": 126,
    "start_time": "2022-10-03T06:55:08.127Z"
   },
   {
    "duration": 9932,
    "start_time": "2022-10-03T06:55:11.625Z"
   },
   {
    "duration": 3,
    "start_time": "2022-10-03T06:55:38.900Z"
   },
   {
    "duration": 101,
    "start_time": "2022-10-03T06:57:36.616Z"
   },
   {
    "duration": 173576,
    "start_time": "2022-10-03T07:01:35.932Z"
   },
   {
    "duration": 174063,
    "start_time": "2022-10-03T07:08:27.916Z"
   },
   {
    "duration": 9556,
    "start_time": "2022-10-03T07:13:26.764Z"
   },
   {
    "duration": 10165,
    "start_time": "2022-10-03T07:13:47.723Z"
   },
   {
    "duration": 9829,
    "start_time": "2022-10-03T07:15:08.207Z"
   },
   {
    "duration": 9341,
    "start_time": "2022-10-03T07:15:40.956Z"
   },
   {
    "duration": 22443,
    "start_time": "2022-10-03T07:16:08.520Z"
   },
   {
    "duration": 38786,
    "start_time": "2022-10-03T07:17:06.713Z"
   },
   {
    "duration": 133872,
    "start_time": "2022-10-03T07:18:53.694Z"
   },
   {
    "duration": 252791,
    "start_time": "2022-10-03T07:22:39.917Z"
   },
   {
    "duration": 62701,
    "start_time": "2022-10-03T07:27:37.518Z"
   },
   {
    "duration": 12,
    "start_time": "2022-10-03T07:30:08.088Z"
   },
   {
    "duration": 14,
    "start_time": "2022-10-03T07:30:19.226Z"
   },
   {
    "duration": 10,
    "start_time": "2022-10-03T07:30:38.211Z"
   },
   {
    "duration": 15,
    "start_time": "2022-10-03T07:32:27.716Z"
   },
   {
    "duration": 9,
    "start_time": "2022-10-03T07:32:48.308Z"
   },
   {
    "duration": 77,
    "start_time": "2022-10-03T07:33:02.149Z"
   },
   {
    "duration": 401,
    "start_time": "2022-10-03T07:33:24.509Z"
   },
   {
    "duration": 8,
    "start_time": "2022-10-03T07:33:39.472Z"
   },
   {
    "duration": 11,
    "start_time": "2022-10-03T07:34:21.570Z"
   },
   {
    "duration": 10,
    "start_time": "2022-10-03T07:34:35.721Z"
   },
   {
    "duration": 9,
    "start_time": "2022-10-03T07:34:40.389Z"
   },
   {
    "duration": 137,
    "start_time": "2022-10-03T07:36:42.158Z"
   },
   {
    "duration": 173,
    "start_time": "2022-10-03T07:41:09.909Z"
   },
   {
    "duration": 73,
    "start_time": "2022-10-03T07:43:30.552Z"
   },
   {
    "duration": 101,
    "start_time": "2022-10-03T07:43:38.356Z"
   },
   {
    "duration": 3,
    "start_time": "2022-10-03T07:44:25.291Z"
   },
   {
    "duration": 3,
    "start_time": "2022-10-03T07:45:38.990Z"
   },
   {
    "duration": 52,
    "start_time": "2022-10-03T07:47:38.035Z"
   },
   {
    "duration": 439,
    "start_time": "2022-10-03T07:47:45.662Z"
   },
   {
    "duration": 2927,
    "start_time": "2022-10-03T07:47:46.103Z"
   },
   {
    "duration": 123,
    "start_time": "2022-10-03T07:47:49.032Z"
   },
   {
    "duration": 4,
    "start_time": "2022-10-03T07:47:49.157Z"
   },
   {
    "duration": 13,
    "start_time": "2022-10-03T07:47:49.164Z"
   },
   {
    "duration": 6,
    "start_time": "2022-10-03T07:47:49.179Z"
   },
   {
    "duration": 125,
    "start_time": "2022-10-03T07:47:49.187Z"
   },
   {
    "duration": 140,
    "start_time": "2022-10-03T07:47:49.314Z"
   },
   {
    "duration": 20,
    "start_time": "2022-10-03T07:47:49.456Z"
   },
   {
    "duration": 19,
    "start_time": "2022-10-03T07:47:49.478Z"
   },
   {
    "duration": 5,
    "start_time": "2022-10-03T07:47:49.500Z"
   },
   {
    "duration": 40,
    "start_time": "2022-10-03T07:47:49.506Z"
   },
   {
    "duration": 46,
    "start_time": "2022-10-03T07:47:49.549Z"
   },
   {
    "duration": 30,
    "start_time": "2022-10-03T07:47:49.601Z"
   },
   {
    "duration": 16,
    "start_time": "2022-10-03T07:47:49.633Z"
   },
   {
    "duration": 58,
    "start_time": "2022-10-03T07:47:49.651Z"
   },
   {
    "duration": 21,
    "start_time": "2022-10-03T07:47:49.711Z"
   },
   {
    "duration": 31,
    "start_time": "2022-10-03T07:47:49.733Z"
   },
   {
    "duration": 35,
    "start_time": "2022-10-03T07:47:49.765Z"
   },
   {
    "duration": 31,
    "start_time": "2022-10-03T07:47:49.802Z"
   },
   {
    "duration": 22,
    "start_time": "2022-10-03T07:47:49.835Z"
   },
   {
    "duration": 46,
    "start_time": "2022-10-03T07:47:49.859Z"
   },
   {
    "duration": 14,
    "start_time": "2022-10-03T07:47:49.906Z"
   },
   {
    "duration": 32,
    "start_time": "2022-10-03T07:47:49.922Z"
   },
   {
    "duration": 46,
    "start_time": "2022-10-03T07:47:49.956Z"
   },
   {
    "duration": 30,
    "start_time": "2022-10-03T07:47:50.004Z"
   },
   {
    "duration": 17,
    "start_time": "2022-10-03T07:47:50.036Z"
   },
   {
    "duration": 55,
    "start_time": "2022-10-03T07:47:50.054Z"
   },
   {
    "duration": 22,
    "start_time": "2022-10-03T07:47:50.110Z"
   },
   {
    "duration": 33,
    "start_time": "2022-10-03T07:47:50.134Z"
   },
   {
    "duration": 35,
    "start_time": "2022-10-03T07:47:50.169Z"
   },
   {
    "duration": 126,
    "start_time": "2022-10-03T07:47:50.206Z"
   },
   {
    "duration": 310,
    "start_time": "2022-10-03T07:47:50.334Z"
   },
   {
    "duration": 89,
    "start_time": "2022-10-03T07:47:50.648Z"
   },
   {
    "duration": 322,
    "start_time": "2022-10-03T07:47:50.739Z"
   },
   {
    "duration": 345,
    "start_time": "2022-10-03T07:47:51.063Z"
   },
   {
    "duration": 299,
    "start_time": "2022-10-03T07:47:51.410Z"
   },
   {
    "duration": 29,
    "start_time": "2022-10-03T07:47:51.711Z"
   },
   {
    "duration": 788,
    "start_time": "2022-10-03T07:47:51.742Z"
   },
   {
    "duration": 696,
    "start_time": "2022-10-03T07:47:52.531Z"
   },
   {
    "duration": 19,
    "start_time": "2022-10-03T07:47:53.231Z"
   },
   {
    "duration": 54,
    "start_time": "2022-10-03T07:47:53.251Z"
   },
   {
    "duration": 19,
    "start_time": "2022-10-03T07:47:53.307Z"
   },
   {
    "duration": 49,
    "start_time": "2022-10-03T07:47:53.327Z"
   },
   {
    "duration": 123,
    "start_time": "2022-10-03T07:47:53.378Z"
   },
   {
    "duration": 1231,
    "start_time": "2022-10-03T07:47:53.502Z"
   },
   {
    "duration": 71001,
    "start_time": "2022-10-03T07:47:54.734Z"
   },
   {
    "duration": 10,
    "start_time": "2022-10-03T07:49:05.736Z"
   },
   {
    "duration": 10,
    "start_time": "2022-10-03T07:49:05.749Z"
   },
   {
    "duration": 6,
    "start_time": "2022-10-03T07:49:05.760Z"
   },
   {
    "duration": 10257,
    "start_time": "2022-10-03T07:49:05.768Z"
   },
   {
    "duration": 66384,
    "start_time": "2022-10-03T07:49:16.028Z"
   },
   {
    "duration": 9,
    "start_time": "2022-10-03T07:50:22.414Z"
   },
   {
    "duration": 11,
    "start_time": "2022-10-03T07:50:22.425Z"
   },
   {
    "duration": 2,
    "start_time": "2022-10-03T07:50:22.717Z"
   },
   {
    "duration": 120,
    "start_time": "2022-10-03T07:50:22.721Z"
   },
   {
    "duration": 0,
    "start_time": "2022-10-03T07:50:22.843Z"
   },
   {
    "duration": 49,
    "start_time": "2022-10-03T07:52:42.035Z"
   },
   {
    "duration": 381,
    "start_time": "2022-10-03T07:52:59.229Z"
   },
   {
    "duration": 2954,
    "start_time": "2022-10-03T07:52:59.612Z"
   },
   {
    "duration": 123,
    "start_time": "2022-10-03T07:53:02.568Z"
   },
   {
    "duration": 4,
    "start_time": "2022-10-03T07:53:02.692Z"
   },
   {
    "duration": 10,
    "start_time": "2022-10-03T07:53:02.698Z"
   },
   {
    "duration": 7,
    "start_time": "2022-10-03T07:53:02.710Z"
   },
   {
    "duration": 132,
    "start_time": "2022-10-03T07:53:02.719Z"
   },
   {
    "duration": 121,
    "start_time": "2022-10-03T07:53:02.854Z"
   },
   {
    "duration": 24,
    "start_time": "2022-10-03T07:53:02.977Z"
   },
   {
    "duration": 4,
    "start_time": "2022-10-03T07:53:03.003Z"
   },
   {
    "duration": 6,
    "start_time": "2022-10-03T07:53:03.008Z"
   },
   {
    "duration": 33,
    "start_time": "2022-10-03T07:53:03.015Z"
   },
   {
    "duration": 51,
    "start_time": "2022-10-03T07:53:03.050Z"
   },
   {
    "duration": 29,
    "start_time": "2022-10-03T07:53:03.106Z"
   },
   {
    "duration": 16,
    "start_time": "2022-10-03T07:53:03.136Z"
   },
   {
    "duration": 50,
    "start_time": "2022-10-03T07:53:03.154Z"
   },
   {
    "duration": 23,
    "start_time": "2022-10-03T07:53:03.205Z"
   },
   {
    "duration": 30,
    "start_time": "2022-10-03T07:53:03.229Z"
   },
   {
    "duration": 37,
    "start_time": "2022-10-03T07:53:03.260Z"
   },
   {
    "duration": 31,
    "start_time": "2022-10-03T07:53:03.299Z"
   },
   {
    "duration": 21,
    "start_time": "2022-10-03T07:53:03.331Z"
   },
   {
    "duration": 56,
    "start_time": "2022-10-03T07:53:03.354Z"
   },
   {
    "duration": 26,
    "start_time": "2022-10-03T07:53:03.412Z"
   },
   {
    "duration": 42,
    "start_time": "2022-10-03T07:53:03.439Z"
   },
   {
    "duration": 30,
    "start_time": "2022-10-03T07:53:03.484Z"
   },
   {
    "duration": 30,
    "start_time": "2022-10-03T07:53:03.516Z"
   },
   {
    "duration": 17,
    "start_time": "2022-10-03T07:53:03.547Z"
   },
   {
    "duration": 57,
    "start_time": "2022-10-03T07:53:03.566Z"
   },
   {
    "duration": 26,
    "start_time": "2022-10-03T07:53:03.626Z"
   },
   {
    "duration": 50,
    "start_time": "2022-10-03T07:53:03.654Z"
   },
   {
    "duration": 15,
    "start_time": "2022-10-03T07:53:03.706Z"
   },
   {
    "duration": 133,
    "start_time": "2022-10-03T07:53:03.723Z"
   },
   {
    "duration": 310,
    "start_time": "2022-10-03T07:53:03.858Z"
   },
   {
    "duration": 79,
    "start_time": "2022-10-03T07:53:04.169Z"
   },
   {
    "duration": 294,
    "start_time": "2022-10-03T07:53:04.250Z"
   },
   {
    "duration": 320,
    "start_time": "2022-10-03T07:53:04.546Z"
   },
   {
    "duration": 282,
    "start_time": "2022-10-03T07:53:04.868Z"
   },
   {
    "duration": 20,
    "start_time": "2022-10-03T07:53:05.152Z"
   },
   {
    "duration": 718,
    "start_time": "2022-10-03T07:53:05.173Z"
   },
   {
    "duration": 682,
    "start_time": "2022-10-03T07:53:05.893Z"
   },
   {
    "duration": 31,
    "start_time": "2022-10-03T07:53:06.581Z"
   },
   {
    "duration": 44,
    "start_time": "2022-10-03T07:53:06.614Z"
   },
   {
    "duration": 35,
    "start_time": "2022-10-03T07:53:06.660Z"
   },
   {
    "duration": 59,
    "start_time": "2022-10-03T07:53:06.698Z"
   },
   {
    "duration": 140,
    "start_time": "2022-10-03T07:53:06.759Z"
   },
   {
    "duration": 1175,
    "start_time": "2022-10-03T07:53:06.901Z"
   },
   {
    "duration": 58,
    "start_time": "2022-10-03T07:53:08.077Z"
   },
   {
    "duration": 0,
    "start_time": "2022-10-03T07:53:08.136Z"
   },
   {
    "duration": 0,
    "start_time": "2022-10-03T07:53:08.137Z"
   },
   {
    "duration": 0,
    "start_time": "2022-10-03T07:53:08.138Z"
   },
   {
    "duration": 0,
    "start_time": "2022-10-03T07:53:08.140Z"
   },
   {
    "duration": 0,
    "start_time": "2022-10-03T07:53:08.141Z"
   },
   {
    "duration": 0,
    "start_time": "2022-10-03T07:53:08.141Z"
   },
   {
    "duration": 0,
    "start_time": "2022-10-03T07:53:08.142Z"
   },
   {
    "duration": 0,
    "start_time": "2022-10-03T07:53:08.144Z"
   },
   {
    "duration": 0,
    "start_time": "2022-10-03T07:53:08.144Z"
   },
   {
    "duration": 0,
    "start_time": "2022-10-03T07:53:08.146Z"
   },
   {
    "duration": 274,
    "start_time": "2022-10-03T07:53:18.803Z"
   },
   {
    "duration": 1371,
    "start_time": "2022-10-03T07:53:45.650Z"
   },
   {
    "duration": 104,
    "start_time": "2022-10-03T07:55:04.666Z"
   },
   {
    "duration": 425,
    "start_time": "2022-10-03T07:55:18.662Z"
   },
   {
    "duration": 2917,
    "start_time": "2022-10-03T07:55:19.089Z"
   },
   {
    "duration": 129,
    "start_time": "2022-10-03T07:55:22.007Z"
   },
   {
    "duration": 4,
    "start_time": "2022-10-03T07:55:22.138Z"
   },
   {
    "duration": 7,
    "start_time": "2022-10-03T07:55:22.144Z"
   },
   {
    "duration": 6,
    "start_time": "2022-10-03T07:55:22.153Z"
   },
   {
    "duration": 145,
    "start_time": "2022-10-03T07:55:22.161Z"
   },
   {
    "duration": 134,
    "start_time": "2022-10-03T07:55:22.308Z"
   },
   {
    "duration": 19,
    "start_time": "2022-10-03T07:55:22.444Z"
   },
   {
    "duration": 10,
    "start_time": "2022-10-03T07:55:22.465Z"
   },
   {
    "duration": 18,
    "start_time": "2022-10-03T07:55:22.477Z"
   },
   {
    "duration": 36,
    "start_time": "2022-10-03T07:55:22.497Z"
   },
   {
    "duration": 49,
    "start_time": "2022-10-03T07:55:22.534Z"
   },
   {
    "duration": 47,
    "start_time": "2022-10-03T07:55:22.585Z"
   },
   {
    "duration": 61,
    "start_time": "2022-10-03T07:55:22.635Z"
   },
   {
    "duration": 48,
    "start_time": "2022-10-03T07:55:22.698Z"
   },
   {
    "duration": 33,
    "start_time": "2022-10-03T07:55:22.748Z"
   },
   {
    "duration": 45,
    "start_time": "2022-10-03T07:55:22.783Z"
   },
   {
    "duration": 28,
    "start_time": "2022-10-03T07:55:22.830Z"
   },
   {
    "duration": 52,
    "start_time": "2022-10-03T07:55:22.861Z"
   },
   {
    "duration": 25,
    "start_time": "2022-10-03T07:55:22.915Z"
   },
   {
    "duration": 32,
    "start_time": "2022-10-03T07:55:22.942Z"
   },
   {
    "duration": 32,
    "start_time": "2022-10-03T07:55:22.976Z"
   },
   {
    "duration": 50,
    "start_time": "2022-10-03T07:55:23.009Z"
   },
   {
    "duration": 23,
    "start_time": "2022-10-03T07:55:23.061Z"
   },
   {
    "duration": 34,
    "start_time": "2022-10-03T07:55:23.086Z"
   },
   {
    "duration": 29,
    "start_time": "2022-10-03T07:55:23.121Z"
   },
   {
    "duration": 49,
    "start_time": "2022-10-03T07:55:23.154Z"
   },
   {
    "duration": 22,
    "start_time": "2022-10-03T07:55:23.205Z"
   },
   {
    "duration": 58,
    "start_time": "2022-10-03T07:55:23.229Z"
   },
   {
    "duration": 46,
    "start_time": "2022-10-03T07:55:23.288Z"
   },
   {
    "duration": 123,
    "start_time": "2022-10-03T07:55:23.335Z"
   },
   {
    "duration": 295,
    "start_time": "2022-10-03T07:55:23.460Z"
   },
   {
    "duration": 82,
    "start_time": "2022-10-03T07:55:23.757Z"
   },
   {
    "duration": 313,
    "start_time": "2022-10-03T07:55:23.841Z"
   },
   {
    "duration": 332,
    "start_time": "2022-10-03T07:55:24.156Z"
   },
   {
    "duration": 283,
    "start_time": "2022-10-03T07:55:24.490Z"
   },
   {
    "duration": 27,
    "start_time": "2022-10-03T07:55:24.775Z"
   },
   {
    "duration": 671,
    "start_time": "2022-10-03T07:55:24.804Z"
   },
   {
    "duration": 644,
    "start_time": "2022-10-03T07:55:25.476Z"
   },
   {
    "duration": 16,
    "start_time": "2022-10-03T07:55:26.122Z"
   },
   {
    "duration": 35,
    "start_time": "2022-10-03T07:55:26.139Z"
   },
   {
    "duration": 31,
    "start_time": "2022-10-03T07:55:26.175Z"
   },
   {
    "duration": 65,
    "start_time": "2022-10-03T07:55:26.207Z"
   },
   {
    "duration": 129,
    "start_time": "2022-10-03T07:55:26.273Z"
   },
   {
    "duration": 1183,
    "start_time": "2022-10-03T07:55:26.404Z"
   },
   {
    "duration": 56,
    "start_time": "2022-10-03T07:55:27.589Z"
   },
   {
    "duration": 0,
    "start_time": "2022-10-03T07:55:27.646Z"
   },
   {
    "duration": 0,
    "start_time": "2022-10-03T07:55:27.648Z"
   },
   {
    "duration": 0,
    "start_time": "2022-10-03T07:55:27.649Z"
   },
   {
    "duration": 0,
    "start_time": "2022-10-03T07:55:27.649Z"
   },
   {
    "duration": 0,
    "start_time": "2022-10-03T07:55:27.650Z"
   },
   {
    "duration": 0,
    "start_time": "2022-10-03T07:55:27.651Z"
   },
   {
    "duration": 0,
    "start_time": "2022-10-03T07:55:27.652Z"
   },
   {
    "duration": 0,
    "start_time": "2022-10-03T07:55:27.653Z"
   },
   {
    "duration": 0,
    "start_time": "2022-10-03T07:55:27.655Z"
   },
   {
    "duration": 0,
    "start_time": "2022-10-03T07:55:27.656Z"
   },
   {
    "duration": 286,
    "start_time": "2022-10-03T07:55:37.219Z"
   },
   {
    "duration": 1368,
    "start_time": "2022-10-03T07:58:51.582Z"
   },
   {
    "duration": 99,
    "start_time": "2022-10-03T08:00:00.552Z"
   },
   {
    "duration": 377,
    "start_time": "2022-10-03T08:00:22.036Z"
   },
   {
    "duration": 2878,
    "start_time": "2022-10-03T08:00:22.415Z"
   },
   {
    "duration": 124,
    "start_time": "2022-10-03T08:00:25.295Z"
   },
   {
    "duration": 3,
    "start_time": "2022-10-03T08:00:25.421Z"
   },
   {
    "duration": 8,
    "start_time": "2022-10-03T08:00:25.426Z"
   },
   {
    "duration": 8,
    "start_time": "2022-10-03T08:00:25.436Z"
   },
   {
    "duration": 128,
    "start_time": "2022-10-03T08:00:25.445Z"
   },
   {
    "duration": 133,
    "start_time": "2022-10-03T08:00:25.575Z"
   },
   {
    "duration": 17,
    "start_time": "2022-10-03T08:00:25.709Z"
   },
   {
    "duration": 4,
    "start_time": "2022-10-03T08:00:25.728Z"
   },
   {
    "duration": 5,
    "start_time": "2022-10-03T08:00:25.734Z"
   },
   {
    "duration": 54,
    "start_time": "2022-10-03T08:00:25.741Z"
   },
   {
    "duration": 26,
    "start_time": "2022-10-03T08:00:25.797Z"
   },
   {
    "duration": 27,
    "start_time": "2022-10-03T08:00:25.828Z"
   },
   {
    "duration": 16,
    "start_time": "2022-10-03T08:00:25.857Z"
   },
   {
    "duration": 51,
    "start_time": "2022-10-03T08:00:25.875Z"
   },
   {
    "duration": 25,
    "start_time": "2022-10-03T08:00:25.927Z"
   },
   {
    "duration": 50,
    "start_time": "2022-10-03T08:00:25.954Z"
   },
   {
    "duration": 24,
    "start_time": "2022-10-03T08:00:26.006Z"
   },
   {
    "duration": 36,
    "start_time": "2022-10-03T08:00:26.032Z"
   },
   {
    "duration": 34,
    "start_time": "2022-10-03T08:00:26.071Z"
   },
   {
    "duration": 31,
    "start_time": "2022-10-03T08:00:26.107Z"
   },
   {
    "duration": 17,
    "start_time": "2022-10-03T08:00:26.140Z"
   },
   {
    "duration": 51,
    "start_time": "2022-10-03T08:00:26.159Z"
   },
   {
    "duration": 22,
    "start_time": "2022-10-03T08:00:26.212Z"
   },
   {
    "duration": 30,
    "start_time": "2022-10-03T08:00:26.236Z"
   },
   {
    "duration": 31,
    "start_time": "2022-10-03T08:00:26.268Z"
   },
   {
    "duration": 41,
    "start_time": "2022-10-03T08:00:26.301Z"
   },
   {
    "duration": 22,
    "start_time": "2022-10-03T08:00:26.343Z"
   },
   {
    "duration": 66,
    "start_time": "2022-10-03T08:00:26.367Z"
   },
   {
    "duration": 14,
    "start_time": "2022-10-03T08:00:26.435Z"
   },
   {
    "duration": 156,
    "start_time": "2022-10-03T08:00:26.451Z"
   },
   {
    "duration": 369,
    "start_time": "2022-10-03T08:00:26.609Z"
   },
   {
    "duration": 85,
    "start_time": "2022-10-03T08:00:26.980Z"
   },
   {
    "duration": 288,
    "start_time": "2022-10-03T08:00:27.066Z"
   },
   {
    "duration": 307,
    "start_time": "2022-10-03T08:00:27.356Z"
   },
   {
    "duration": 276,
    "start_time": "2022-10-03T08:00:27.665Z"
   },
   {
    "duration": 20,
    "start_time": "2022-10-03T08:00:27.942Z"
   },
   {
    "duration": 713,
    "start_time": "2022-10-03T08:00:27.964Z"
   },
   {
    "duration": 663,
    "start_time": "2022-10-03T08:00:28.679Z"
   },
   {
    "duration": 18,
    "start_time": "2022-10-03T08:00:29.347Z"
   },
   {
    "duration": 65,
    "start_time": "2022-10-03T08:00:29.367Z"
   },
   {
    "duration": 16,
    "start_time": "2022-10-03T08:00:29.434Z"
   },
   {
    "duration": 66,
    "start_time": "2022-10-03T08:00:29.451Z"
   },
   {
    "duration": 98,
    "start_time": "2022-10-03T08:00:29.519Z"
   },
   {
    "duration": 1038,
    "start_time": "2022-10-03T08:00:29.618Z"
   },
   {
    "duration": 41,
    "start_time": "2022-10-03T08:00:30.658Z"
   },
   {
    "duration": 0,
    "start_time": "2022-10-03T08:00:30.701Z"
   },
   {
    "duration": 0,
    "start_time": "2022-10-03T08:00:30.702Z"
   },
   {
    "duration": 0,
    "start_time": "2022-10-03T08:00:30.703Z"
   },
   {
    "duration": 0,
    "start_time": "2022-10-03T08:00:30.704Z"
   },
   {
    "duration": 0,
    "start_time": "2022-10-03T08:00:30.705Z"
   },
   {
    "duration": 0,
    "start_time": "2022-10-03T08:00:30.706Z"
   },
   {
    "duration": 0,
    "start_time": "2022-10-03T08:00:30.707Z"
   },
   {
    "duration": 0,
    "start_time": "2022-10-03T08:00:30.708Z"
   },
   {
    "duration": 0,
    "start_time": "2022-10-03T08:00:30.709Z"
   },
   {
    "duration": 0,
    "start_time": "2022-10-03T08:00:30.710Z"
   },
   {
    "duration": 421,
    "start_time": "2022-10-03T08:02:10.874Z"
   },
   {
    "duration": 865,
    "start_time": "2022-10-03T08:02:11.297Z"
   },
   {
    "duration": 123,
    "start_time": "2022-10-03T08:02:12.164Z"
   },
   {
    "duration": 4,
    "start_time": "2022-10-03T08:02:12.295Z"
   },
   {
    "duration": 6,
    "start_time": "2022-10-03T08:02:12.300Z"
   },
   {
    "duration": 5,
    "start_time": "2022-10-03T08:02:12.308Z"
   },
   {
    "duration": 124,
    "start_time": "2022-10-03T08:02:12.314Z"
   },
   {
    "duration": 117,
    "start_time": "2022-10-03T08:02:12.440Z"
   },
   {
    "duration": 17,
    "start_time": "2022-10-03T08:02:12.559Z"
   },
   {
    "duration": 17,
    "start_time": "2022-10-03T08:02:12.579Z"
   },
   {
    "duration": 6,
    "start_time": "2022-10-03T08:02:12.597Z"
   },
   {
    "duration": 37,
    "start_time": "2022-10-03T08:02:12.605Z"
   },
   {
    "duration": 19,
    "start_time": "2022-10-03T08:02:12.644Z"
   },
   {
    "duration": 44,
    "start_time": "2022-10-03T08:02:12.665Z"
   },
   {
    "duration": 15,
    "start_time": "2022-10-03T08:02:12.711Z"
   },
   {
    "duration": 33,
    "start_time": "2022-10-03T08:02:12.728Z"
   },
   {
    "duration": 42,
    "start_time": "2022-10-03T08:02:12.763Z"
   },
   {
    "duration": 40,
    "start_time": "2022-10-03T08:02:12.807Z"
   },
   {
    "duration": 16,
    "start_time": "2022-10-03T08:02:12.848Z"
   },
   {
    "duration": 61,
    "start_time": "2022-10-03T08:02:12.865Z"
   },
   {
    "duration": 18,
    "start_time": "2022-10-03T08:02:12.928Z"
   },
   {
    "duration": 48,
    "start_time": "2022-10-03T08:02:12.948Z"
   },
   {
    "duration": 15,
    "start_time": "2022-10-03T08:02:12.998Z"
   },
   {
    "duration": 33,
    "start_time": "2022-10-03T08:02:13.015Z"
   },
   {
    "duration": 19,
    "start_time": "2022-10-03T08:02:13.050Z"
   },
   {
    "duration": 50,
    "start_time": "2022-10-03T08:02:13.071Z"
   },
   {
    "duration": 17,
    "start_time": "2022-10-03T08:02:13.123Z"
   },
   {
    "duration": 52,
    "start_time": "2022-10-03T08:02:13.144Z"
   },
   {
    "duration": 19,
    "start_time": "2022-10-03T08:02:13.198Z"
   },
   {
    "duration": 31,
    "start_time": "2022-10-03T08:02:13.219Z"
   },
   {
    "duration": 43,
    "start_time": "2022-10-03T08:02:13.252Z"
   },
   {
    "duration": 110,
    "start_time": "2022-10-03T08:02:13.297Z"
   },
   {
    "duration": 302,
    "start_time": "2022-10-03T08:02:13.409Z"
   },
   {
    "duration": 85,
    "start_time": "2022-10-03T08:02:13.712Z"
   },
   {
    "duration": 281,
    "start_time": "2022-10-03T08:02:13.799Z"
   },
   {
    "duration": 294,
    "start_time": "2022-10-03T08:02:14.081Z"
   },
   {
    "duration": 265,
    "start_time": "2022-10-03T08:02:14.376Z"
   },
   {
    "duration": 26,
    "start_time": "2022-10-03T08:02:14.643Z"
   },
   {
    "duration": 694,
    "start_time": "2022-10-03T08:02:14.671Z"
   },
   {
    "duration": 656,
    "start_time": "2022-10-03T08:02:15.366Z"
   },
   {
    "duration": 16,
    "start_time": "2022-10-03T08:02:16.024Z"
   },
   {
    "duration": 61,
    "start_time": "2022-10-03T08:02:16.042Z"
   },
   {
    "duration": 22,
    "start_time": "2022-10-03T08:02:16.104Z"
   },
   {
    "duration": 47,
    "start_time": "2022-10-03T08:02:16.127Z"
   },
   {
    "duration": 128,
    "start_time": "2022-10-03T08:02:16.176Z"
   },
   {
    "duration": 917,
    "start_time": "2022-10-03T08:02:16.305Z"
   },
   {
    "duration": 54276,
    "start_time": "2022-10-03T08:02:17.224Z"
   },
   {
    "duration": 10,
    "start_time": "2022-10-03T08:03:11.502Z"
   },
   {
    "duration": 9,
    "start_time": "2022-10-03T08:03:11.514Z"
   },
   {
    "duration": 6,
    "start_time": "2022-10-03T08:03:11.525Z"
   },
   {
    "duration": 7633,
    "start_time": "2022-10-03T08:03:11.533Z"
   },
   {
    "duration": 47177,
    "start_time": "2022-10-03T08:03:19.168Z"
   },
   {
    "duration": 9,
    "start_time": "2022-10-03T08:04:06.347Z"
   },
   {
    "duration": 12,
    "start_time": "2022-10-03T08:04:06.358Z"
   },
   {
    "duration": 303,
    "start_time": "2022-10-03T08:04:06.372Z"
   },
   {
    "duration": 4,
    "start_time": "2022-10-03T08:04:06.677Z"
   },
   {
    "duration": 80,
    "start_time": "2022-10-03T08:04:06.684Z"
   },
   {
    "duration": 10,
    "start_time": "2022-10-03T08:06:51.876Z"
   },
   {
    "duration": 8347,
    "start_time": "2022-10-03T08:07:05.558Z"
   },
   {
    "duration": 8240,
    "start_time": "2022-10-03T08:07:17.363Z"
   },
   {
    "duration": 45,
    "start_time": "2022-10-03T08:07:30.989Z"
   },
   {
    "duration": 7775,
    "start_time": "2022-10-03T08:07:34.353Z"
   },
   {
    "duration": 48748,
    "start_time": "2022-10-03T08:08:38.981Z"
   },
   {
    "duration": 10,
    "start_time": "2022-10-03T08:09:35.293Z"
   },
   {
    "duration": 13,
    "start_time": "2022-10-03T08:09:36.536Z"
   },
   {
    "duration": 371,
    "start_time": "2022-10-03T08:10:44.845Z"
   },
   {
    "duration": 811,
    "start_time": "2022-10-03T08:10:45.218Z"
   },
   {
    "duration": 120,
    "start_time": "2022-10-03T08:10:46.030Z"
   },
   {
    "duration": 4,
    "start_time": "2022-10-03T08:10:46.152Z"
   },
   {
    "duration": 7,
    "start_time": "2022-10-03T08:10:46.157Z"
   },
   {
    "duration": 7,
    "start_time": "2022-10-03T08:10:46.165Z"
   },
   {
    "duration": 123,
    "start_time": "2022-10-03T08:10:46.173Z"
   },
   {
    "duration": 113,
    "start_time": "2022-10-03T08:10:46.298Z"
   },
   {
    "duration": 16,
    "start_time": "2022-10-03T08:10:46.413Z"
   },
   {
    "duration": 3,
    "start_time": "2022-10-03T08:10:46.431Z"
   },
   {
    "duration": 6,
    "start_time": "2022-10-03T08:10:46.435Z"
   },
   {
    "duration": 55,
    "start_time": "2022-10-03T08:10:46.443Z"
   },
   {
    "duration": 21,
    "start_time": "2022-10-03T08:10:46.499Z"
   },
   {
    "duration": 44,
    "start_time": "2022-10-03T08:10:46.521Z"
   },
   {
    "duration": 38,
    "start_time": "2022-10-03T08:10:46.567Z"
   },
   {
    "duration": 46,
    "start_time": "2022-10-03T08:10:46.607Z"
   },
   {
    "duration": 45,
    "start_time": "2022-10-03T08:10:46.655Z"
   },
   {
    "duration": 38,
    "start_time": "2022-10-03T08:10:46.702Z"
   },
   {
    "duration": 30,
    "start_time": "2022-10-03T08:10:46.741Z"
   },
   {
    "duration": 62,
    "start_time": "2022-10-03T08:10:46.773Z"
   },
   {
    "duration": 19,
    "start_time": "2022-10-03T08:10:46.837Z"
   },
   {
    "duration": 49,
    "start_time": "2022-10-03T08:10:46.857Z"
   },
   {
    "duration": 15,
    "start_time": "2022-10-03T08:10:46.908Z"
   },
   {
    "duration": 37,
    "start_time": "2022-10-03T08:10:46.925Z"
   },
   {
    "duration": 31,
    "start_time": "2022-10-03T08:10:46.964Z"
   },
   {
    "duration": 32,
    "start_time": "2022-10-03T08:10:46.997Z"
   },
   {
    "duration": 20,
    "start_time": "2022-10-03T08:10:47.031Z"
   },
   {
    "duration": 58,
    "start_time": "2022-10-03T08:10:47.055Z"
   },
   {
    "duration": 21,
    "start_time": "2022-10-03T08:10:47.115Z"
   },
   {
    "duration": 38,
    "start_time": "2022-10-03T08:10:47.138Z"
   },
   {
    "duration": 15,
    "start_time": "2022-10-03T08:10:47.194Z"
   },
   {
    "duration": 122,
    "start_time": "2022-10-03T08:10:47.211Z"
   },
   {
    "duration": 309,
    "start_time": "2022-10-03T08:10:47.335Z"
   },
   {
    "duration": 81,
    "start_time": "2022-10-03T08:10:47.646Z"
   },
   {
    "duration": 300,
    "start_time": "2022-10-03T08:10:47.728Z"
   },
   {
    "duration": 299,
    "start_time": "2022-10-03T08:10:48.031Z"
   },
   {
    "duration": 289,
    "start_time": "2022-10-03T08:10:48.331Z"
   },
   {
    "duration": 28,
    "start_time": "2022-10-03T08:10:48.622Z"
   },
   {
    "duration": 723,
    "start_time": "2022-10-03T08:10:48.652Z"
   },
   {
    "duration": 694,
    "start_time": "2022-10-03T08:10:49.377Z"
   },
   {
    "duration": 24,
    "start_time": "2022-10-03T08:10:50.073Z"
   },
   {
    "duration": 48,
    "start_time": "2022-10-03T08:10:50.098Z"
   },
   {
    "duration": 22,
    "start_time": "2022-10-03T08:10:50.148Z"
   },
   {
    "duration": 64,
    "start_time": "2022-10-03T08:10:50.172Z"
   },
   {
    "duration": 79,
    "start_time": "2022-10-03T08:10:50.238Z"
   },
   {
    "duration": 998,
    "start_time": "2022-10-03T08:10:50.318Z"
   },
   {
    "duration": 55618,
    "start_time": "2022-10-03T08:10:51.318Z"
   },
   {
    "duration": 9,
    "start_time": "2022-10-03T08:11:46.938Z"
   },
   {
    "duration": 10,
    "start_time": "2022-10-03T08:11:46.948Z"
   },
   {
    "duration": 7,
    "start_time": "2022-10-03T08:11:46.960Z"
   },
   {
    "duration": 7966,
    "start_time": "2022-10-03T08:11:46.969Z"
   },
   {
    "duration": 48071,
    "start_time": "2022-10-03T08:11:54.937Z"
   },
   {
    "duration": 10,
    "start_time": "2022-10-03T08:12:43.009Z"
   },
   {
    "duration": 18,
    "start_time": "2022-10-03T08:12:43.020Z"
   },
   {
    "duration": 283,
    "start_time": "2022-10-03T08:12:43.040Z"
   },
   {
    "duration": 2,
    "start_time": "2022-10-03T08:12:43.325Z"
   },
   {
    "duration": 102,
    "start_time": "2022-10-03T08:12:43.329Z"
   },
   {
    "duration": 7856,
    "start_time": "2022-10-03T08:13:03.772Z"
   },
   {
    "duration": 92,
    "start_time": "2022-10-03T08:14:04.313Z"
   },
   {
    "duration": 123,
    "start_time": "2022-10-03T08:14:09.270Z"
   },
   {
    "duration": 2,
    "start_time": "2022-10-03T08:14:12.632Z"
   },
   {
    "duration": 3,
    "start_time": "2022-10-03T08:14:22.134Z"
   },
   {
    "duration": 7902,
    "start_time": "2022-10-03T08:14:23.621Z"
   },
   {
    "duration": 2,
    "start_time": "2022-10-03T08:14:39.247Z"
   },
   {
    "duration": 7999,
    "start_time": "2022-10-03T08:14:40.015Z"
   },
   {
    "duration": 49044,
    "start_time": "2022-10-03T08:15:03.735Z"
   },
   {
    "duration": 9,
    "start_time": "2022-10-03T08:28:55.544Z"
   },
   {
    "duration": 12,
    "start_time": "2022-10-03T08:28:56.836Z"
   },
   {
    "duration": 429,
    "start_time": "2022-10-03T08:33:53.072Z"
   },
   {
    "duration": 824,
    "start_time": "2022-10-03T08:33:53.503Z"
   },
   {
    "duration": 124,
    "start_time": "2022-10-03T08:33:54.329Z"
   },
   {
    "duration": 3,
    "start_time": "2022-10-03T08:33:54.455Z"
   },
   {
    "duration": 15,
    "start_time": "2022-10-03T08:33:54.459Z"
   },
   {
    "duration": 14,
    "start_time": "2022-10-03T08:33:54.475Z"
   },
   {
    "duration": 119,
    "start_time": "2022-10-03T08:33:54.491Z"
   },
   {
    "duration": 121,
    "start_time": "2022-10-03T08:33:54.611Z"
   },
   {
    "duration": 17,
    "start_time": "2022-10-03T08:33:54.734Z"
   },
   {
    "duration": 3,
    "start_time": "2022-10-03T08:33:54.754Z"
   },
   {
    "duration": 6,
    "start_time": "2022-10-03T08:33:54.759Z"
   },
   {
    "duration": 62,
    "start_time": "2022-10-03T08:33:54.766Z"
   },
   {
    "duration": 23,
    "start_time": "2022-10-03T08:33:54.830Z"
   },
   {
    "duration": 45,
    "start_time": "2022-10-03T08:33:54.855Z"
   },
   {
    "duration": 18,
    "start_time": "2022-10-03T08:33:54.901Z"
   },
   {
    "duration": 34,
    "start_time": "2022-10-03T08:33:54.921Z"
   },
   {
    "duration": 39,
    "start_time": "2022-10-03T08:33:54.956Z"
   },
   {
    "duration": 31,
    "start_time": "2022-10-03T08:33:54.997Z"
   },
   {
    "duration": 16,
    "start_time": "2022-10-03T08:33:55.030Z"
   },
   {
    "duration": 56,
    "start_time": "2022-10-03T08:33:55.047Z"
   },
   {
    "duration": 18,
    "start_time": "2022-10-03T08:33:55.105Z"
   },
   {
    "duration": 31,
    "start_time": "2022-10-03T08:33:55.125Z"
   },
   {
    "duration": 38,
    "start_time": "2022-10-03T08:33:55.157Z"
   },
   {
    "duration": 31,
    "start_time": "2022-10-03T08:33:55.197Z"
   },
   {
    "duration": 18,
    "start_time": "2022-10-03T08:33:55.230Z"
   },
   {
    "duration": 50,
    "start_time": "2022-10-03T08:33:55.250Z"
   },
   {
    "duration": 15,
    "start_time": "2022-10-03T08:33:55.302Z"
   },
   {
    "duration": 37,
    "start_time": "2022-10-03T08:33:55.321Z"
   },
   {
    "duration": 39,
    "start_time": "2022-10-03T08:33:55.360Z"
   },
   {
    "duration": 32,
    "start_time": "2022-10-03T08:33:55.400Z"
   },
   {
    "duration": 15,
    "start_time": "2022-10-03T08:33:55.434Z"
   },
   {
    "duration": 129,
    "start_time": "2022-10-03T08:33:55.451Z"
   },
   {
    "duration": 317,
    "start_time": "2022-10-03T08:33:55.582Z"
   },
   {
    "duration": 78,
    "start_time": "2022-10-03T08:33:55.901Z"
   },
   {
    "duration": 292,
    "start_time": "2022-10-03T08:33:55.980Z"
   },
   {
    "duration": 280,
    "start_time": "2022-10-03T08:33:56.274Z"
   },
   {
    "duration": 315,
    "start_time": "2022-10-03T08:33:56.557Z"
   },
   {
    "duration": 24,
    "start_time": "2022-10-03T08:33:56.874Z"
   },
   {
    "duration": 662,
    "start_time": "2022-10-03T08:33:56.899Z"
   },
   {
    "duration": 680,
    "start_time": "2022-10-03T08:33:57.563Z"
   },
   {
    "duration": 16,
    "start_time": "2022-10-03T08:33:58.245Z"
   },
   {
    "duration": 59,
    "start_time": "2022-10-03T08:33:58.263Z"
   },
   {
    "duration": 20,
    "start_time": "2022-10-03T08:33:58.324Z"
   },
   {
    "duration": 61,
    "start_time": "2022-10-03T08:33:58.346Z"
   },
   {
    "duration": 100,
    "start_time": "2022-10-03T08:33:58.409Z"
   },
   {
    "duration": 891,
    "start_time": "2022-10-03T08:33:58.595Z"
   },
   {
    "duration": 54821,
    "start_time": "2022-10-03T08:33:59.487Z"
   },
   {
    "duration": 8,
    "start_time": "2022-10-03T08:34:54.310Z"
   },
   {
    "duration": 10,
    "start_time": "2022-10-03T08:34:54.319Z"
   },
   {
    "duration": 9,
    "start_time": "2022-10-03T08:34:54.331Z"
   },
   {
    "duration": 7845,
    "start_time": "2022-10-03T08:34:54.343Z"
   },
   {
    "duration": 49004,
    "start_time": "2022-10-03T08:35:02.189Z"
   },
   {
    "duration": 10,
    "start_time": "2022-10-03T08:35:51.195Z"
   },
   {
    "duration": 22,
    "start_time": "2022-10-03T08:35:51.206Z"
   },
   {
    "duration": 639,
    "start_time": "2022-10-03T08:35:51.230Z"
   },
   {
    "duration": 3,
    "start_time": "2022-10-03T08:35:51.870Z"
   },
   {
    "duration": 143,
    "start_time": "2022-10-03T08:35:51.875Z"
   },
   {
    "duration": 111033,
    "start_time": "2022-10-03T08:36:18.332Z"
   },
   {
    "duration": 113426,
    "start_time": "2022-10-03T08:40:30.093Z"
   },
   {
    "duration": 114,
    "start_time": "2022-10-03T08:45:13.556Z"
   },
   {
    "duration": 18,
    "start_time": "2022-10-03T08:48:09.628Z"
   },
   {
    "duration": 4,
    "start_time": "2022-10-03T08:48:23.525Z"
   },
   {
    "duration": 3,
    "start_time": "2022-10-03T08:48:34.096Z"
   },
   {
    "duration": 5,
    "start_time": "2022-10-03T08:49:16.431Z"
   },
   {
    "duration": 169,
    "start_time": "2022-10-03T08:49:56.590Z"
   },
   {
    "duration": 4,
    "start_time": "2022-10-03T08:50:12.145Z"
   },
   {
    "duration": 5,
    "start_time": "2022-10-03T08:51:02.043Z"
   },
   {
    "duration": 4,
    "start_time": "2022-10-03T08:51:12.542Z"
   },
   {
    "duration": 6,
    "start_time": "2022-10-03T08:51:31.947Z"
   },
   {
    "duration": 6,
    "start_time": "2022-10-03T08:52:06.341Z"
   },
   {
    "duration": 7503,
    "start_time": "2022-10-03T09:21:25.244Z"
   },
   {
    "duration": 7620,
    "start_time": "2022-10-03T09:21:40.479Z"
   },
   {
    "duration": 7496,
    "start_time": "2022-10-03T09:22:18.280Z"
   },
   {
    "duration": 3,
    "start_time": "2022-10-03T09:24:00.195Z"
   },
   {
    "duration": 7202,
    "start_time": "2022-10-03T09:24:03.848Z"
   },
   {
    "duration": 80,
    "start_time": "2022-10-03T09:25:11.879Z"
   },
   {
    "duration": 7357,
    "start_time": "2022-10-03T09:25:15.821Z"
   },
   {
    "duration": 7189,
    "start_time": "2022-10-03T09:25:24.603Z"
   },
   {
    "duration": 80,
    "start_time": "2022-10-03T09:25:37.265Z"
   },
   {
    "duration": 7369,
    "start_time": "2022-10-03T09:25:51.048Z"
   },
   {
    "duration": 9063,
    "start_time": "2022-10-03T09:26:35.152Z"
   },
   {
    "duration": 7482,
    "start_time": "2022-10-03T09:27:40.443Z"
   },
   {
    "duration": 17,
    "start_time": "2022-10-03T09:44:16.318Z"
   },
   {
    "duration": 375,
    "start_time": "2022-10-03T09:44:26.128Z"
   },
   {
    "duration": 847,
    "start_time": "2022-10-03T09:44:26.505Z"
   },
   {
    "duration": 116,
    "start_time": "2022-10-03T09:44:27.354Z"
   },
   {
    "duration": 3,
    "start_time": "2022-10-03T09:44:27.473Z"
   },
   {
    "duration": 17,
    "start_time": "2022-10-03T09:44:27.478Z"
   },
   {
    "duration": 4,
    "start_time": "2022-10-03T09:44:27.496Z"
   },
   {
    "duration": 110,
    "start_time": "2022-10-03T09:44:27.502Z"
   },
   {
    "duration": 105,
    "start_time": "2022-10-03T09:44:27.614Z"
   },
   {
    "duration": 76,
    "start_time": "2022-10-03T09:44:27.721Z"
   },
   {
    "duration": 0,
    "start_time": "2022-10-03T09:44:27.800Z"
   },
   {
    "duration": 0,
    "start_time": "2022-10-03T09:44:27.801Z"
   },
   {
    "duration": 0,
    "start_time": "2022-10-03T09:44:27.803Z"
   },
   {
    "duration": 0,
    "start_time": "2022-10-03T09:44:27.804Z"
   },
   {
    "duration": 0,
    "start_time": "2022-10-03T09:44:27.806Z"
   },
   {
    "duration": 0,
    "start_time": "2022-10-03T09:44:27.807Z"
   },
   {
    "duration": 0,
    "start_time": "2022-10-03T09:44:27.808Z"
   },
   {
    "duration": 0,
    "start_time": "2022-10-03T09:44:27.810Z"
   },
   {
    "duration": 0,
    "start_time": "2022-10-03T09:44:27.811Z"
   },
   {
    "duration": 0,
    "start_time": "2022-10-03T09:44:27.813Z"
   },
   {
    "duration": 0,
    "start_time": "2022-10-03T09:44:27.814Z"
   },
   {
    "duration": 0,
    "start_time": "2022-10-03T09:44:27.815Z"
   },
   {
    "duration": 0,
    "start_time": "2022-10-03T09:44:27.816Z"
   },
   {
    "duration": 0,
    "start_time": "2022-10-03T09:44:27.817Z"
   },
   {
    "duration": 0,
    "start_time": "2022-10-03T09:44:27.818Z"
   },
   {
    "duration": 0,
    "start_time": "2022-10-03T09:44:27.819Z"
   },
   {
    "duration": 0,
    "start_time": "2022-10-03T09:44:27.821Z"
   },
   {
    "duration": 0,
    "start_time": "2022-10-03T09:44:27.822Z"
   },
   {
    "duration": 0,
    "start_time": "2022-10-03T09:44:27.823Z"
   },
   {
    "duration": 0,
    "start_time": "2022-10-03T09:44:27.824Z"
   },
   {
    "duration": 0,
    "start_time": "2022-10-03T09:44:27.825Z"
   },
   {
    "duration": 0,
    "start_time": "2022-10-03T09:44:27.826Z"
   },
   {
    "duration": 0,
    "start_time": "2022-10-03T09:44:27.827Z"
   },
   {
    "duration": 0,
    "start_time": "2022-10-03T09:44:27.828Z"
   },
   {
    "duration": 0,
    "start_time": "2022-10-03T09:44:27.828Z"
   },
   {
    "duration": 0,
    "start_time": "2022-10-03T09:44:27.829Z"
   },
   {
    "duration": 0,
    "start_time": "2022-10-03T09:44:27.830Z"
   },
   {
    "duration": 0,
    "start_time": "2022-10-03T09:44:27.831Z"
   },
   {
    "duration": 0,
    "start_time": "2022-10-03T09:44:27.832Z"
   },
   {
    "duration": 0,
    "start_time": "2022-10-03T09:44:27.833Z"
   },
   {
    "duration": 0,
    "start_time": "2022-10-03T09:44:27.834Z"
   },
   {
    "duration": 0,
    "start_time": "2022-10-03T09:44:27.835Z"
   },
   {
    "duration": 0,
    "start_time": "2022-10-03T09:44:27.836Z"
   },
   {
    "duration": 0,
    "start_time": "2022-10-03T09:44:27.837Z"
   },
   {
    "duration": 0,
    "start_time": "2022-10-03T09:44:27.837Z"
   },
   {
    "duration": 0,
    "start_time": "2022-10-03T09:44:27.895Z"
   },
   {
    "duration": 0,
    "start_time": "2022-10-03T09:44:27.896Z"
   },
   {
    "duration": 0,
    "start_time": "2022-10-03T09:44:27.897Z"
   },
   {
    "duration": 0,
    "start_time": "2022-10-03T09:44:27.898Z"
   },
   {
    "duration": 0,
    "start_time": "2022-10-03T09:44:27.899Z"
   },
   {
    "duration": 0,
    "start_time": "2022-10-03T09:44:27.900Z"
   },
   {
    "duration": 0,
    "start_time": "2022-10-03T09:44:27.901Z"
   },
   {
    "duration": 0,
    "start_time": "2022-10-03T09:44:27.902Z"
   },
   {
    "duration": 0,
    "start_time": "2022-10-03T09:44:27.903Z"
   },
   {
    "duration": 0,
    "start_time": "2022-10-03T09:44:27.904Z"
   },
   {
    "duration": 0,
    "start_time": "2022-10-03T09:44:27.905Z"
   },
   {
    "duration": 0,
    "start_time": "2022-10-03T09:44:27.905Z"
   },
   {
    "duration": 0,
    "start_time": "2022-10-03T09:44:27.906Z"
   },
   {
    "duration": 0,
    "start_time": "2022-10-03T09:44:27.907Z"
   },
   {
    "duration": 0,
    "start_time": "2022-10-03T09:44:27.908Z"
   },
   {
    "duration": 0,
    "start_time": "2022-10-03T09:44:27.909Z"
   },
   {
    "duration": 103,
    "start_time": "2022-10-03T09:44:40.213Z"
   },
   {
    "duration": 105,
    "start_time": "2022-10-03T09:44:43.945Z"
   },
   {
    "duration": 104,
    "start_time": "2022-10-03T09:44:56.321Z"
   },
   {
    "duration": 169,
    "start_time": "2022-10-03T09:45:27.137Z"
   },
   {
    "duration": 113,
    "start_time": "2022-10-03T09:46:30.337Z"
   },
   {
    "duration": 84,
    "start_time": "2022-10-03T09:47:32.929Z"
   },
   {
    "duration": 78,
    "start_time": "2022-10-03T09:47:36.487Z"
   },
   {
    "duration": 79,
    "start_time": "2022-10-03T09:47:45.139Z"
   },
   {
    "duration": 139,
    "start_time": "2022-10-03T09:47:56.429Z"
   },
   {
    "duration": 106,
    "start_time": "2022-10-03T09:48:06.030Z"
   },
   {
    "duration": 105,
    "start_time": "2022-10-03T09:48:33.062Z"
   },
   {
    "duration": 144,
    "start_time": "2022-10-03T09:49:11.531Z"
   },
   {
    "duration": 119,
    "start_time": "2022-10-03T09:49:22.065Z"
   },
   {
    "duration": 110,
    "start_time": "2022-10-03T09:49:58.904Z"
   },
   {
    "duration": 113,
    "start_time": "2022-10-03T09:50:33.011Z"
   },
   {
    "duration": 112,
    "start_time": "2022-10-03T09:50:37.911Z"
   },
   {
    "duration": 111,
    "start_time": "2022-10-03T09:50:47.875Z"
   },
   {
    "duration": 114,
    "start_time": "2022-10-03T09:50:54.543Z"
   },
   {
    "duration": 221,
    "start_time": "2022-10-03T09:52:26.280Z"
   },
   {
    "duration": 204,
    "start_time": "2022-10-03T09:52:35.676Z"
   },
   {
    "duration": 218,
    "start_time": "2022-10-03T09:53:09.682Z"
   },
   {
    "duration": 214,
    "start_time": "2022-10-03T09:54:08.216Z"
   },
   {
    "duration": 239,
    "start_time": "2022-10-03T09:54:15.344Z"
   },
   {
    "duration": 110,
    "start_time": "2022-10-03T09:54:33.228Z"
   },
   {
    "duration": 117,
    "start_time": "2022-10-03T09:54:57.133Z"
   },
   {
    "duration": 111,
    "start_time": "2022-10-03T09:55:49.937Z"
   },
   {
    "duration": 102,
    "start_time": "2022-10-03T09:56:09.924Z"
   },
   {
    "duration": 139,
    "start_time": "2022-10-03T09:56:12.834Z"
   },
   {
    "duration": 113,
    "start_time": "2022-10-03T09:56:22.605Z"
   },
   {
    "duration": 112,
    "start_time": "2022-10-03T09:56:38.243Z"
   },
   {
    "duration": 116,
    "start_time": "2022-10-03T09:56:45.717Z"
   },
   {
    "duration": 112,
    "start_time": "2022-10-03T09:56:48.544Z"
   },
   {
    "duration": 427,
    "start_time": "2022-10-03T09:59:12.669Z"
   },
   {
    "duration": 793,
    "start_time": "2022-10-03T09:59:13.098Z"
   },
   {
    "duration": 123,
    "start_time": "2022-10-03T09:59:13.893Z"
   },
   {
    "duration": 3,
    "start_time": "2022-10-03T09:59:14.018Z"
   },
   {
    "duration": 9,
    "start_time": "2022-10-03T09:59:14.022Z"
   },
   {
    "duration": 10,
    "start_time": "2022-10-03T09:59:14.032Z"
   },
   {
    "duration": 124,
    "start_time": "2022-10-03T09:59:14.043Z"
   },
   {
    "duration": 114,
    "start_time": "2022-10-03T09:59:14.168Z"
   },
   {
    "duration": 116,
    "start_time": "2022-10-03T09:59:14.284Z"
   },
   {
    "duration": 17,
    "start_time": "2022-10-03T09:59:14.402Z"
   },
   {
    "duration": 3,
    "start_time": "2022-10-03T09:59:14.420Z"
   },
   {
    "duration": 8,
    "start_time": "2022-10-03T09:59:14.424Z"
   },
   {
    "duration": 36,
    "start_time": "2022-10-03T09:59:14.434Z"
   },
   {
    "duration": 43,
    "start_time": "2022-10-03T09:59:14.471Z"
   },
   {
    "duration": 28,
    "start_time": "2022-10-03T09:59:14.516Z"
   },
   {
    "duration": 17,
    "start_time": "2022-10-03T09:59:14.546Z"
   },
   {
    "duration": 47,
    "start_time": "2022-10-03T09:59:14.565Z"
   },
   {
    "duration": 21,
    "start_time": "2022-10-03T09:59:14.614Z"
   },
   {
    "duration": 28,
    "start_time": "2022-10-03T09:59:14.637Z"
   },
   {
    "duration": 35,
    "start_time": "2022-10-03T09:59:14.667Z"
   },
   {
    "duration": 33,
    "start_time": "2022-10-03T09:59:14.704Z"
   },
   {
    "duration": 21,
    "start_time": "2022-10-03T09:59:14.739Z"
   },
   {
    "duration": 50,
    "start_time": "2022-10-03T09:59:14.761Z"
   },
   {
    "duration": 17,
    "start_time": "2022-10-03T09:59:14.814Z"
   },
   {
    "duration": 32,
    "start_time": "2022-10-03T09:59:14.834Z"
   },
   {
    "duration": 40,
    "start_time": "2022-10-03T09:59:14.868Z"
   },
   {
    "duration": 33,
    "start_time": "2022-10-03T09:59:14.910Z"
   },
   {
    "duration": 15,
    "start_time": "2022-10-03T09:59:14.947Z"
   },
   {
    "duration": 61,
    "start_time": "2022-10-03T09:59:14.964Z"
   },
   {
    "duration": 25,
    "start_time": "2022-10-03T09:59:15.027Z"
   },
   {
    "duration": 45,
    "start_time": "2022-10-03T09:59:15.054Z"
   },
   {
    "duration": 18,
    "start_time": "2022-10-03T09:59:15.101Z"
   },
   {
    "duration": 127,
    "start_time": "2022-10-03T09:59:15.121Z"
   },
   {
    "duration": 290,
    "start_time": "2022-10-03T09:59:15.250Z"
   },
   {
    "duration": 77,
    "start_time": "2022-10-03T09:59:15.542Z"
   },
   {
    "duration": 280,
    "start_time": "2022-10-03T09:59:15.621Z"
   },
   {
    "duration": 327,
    "start_time": "2022-10-03T09:59:15.902Z"
   },
   {
    "duration": 274,
    "start_time": "2022-10-03T09:59:16.231Z"
   },
   {
    "duration": 20,
    "start_time": "2022-10-03T09:59:16.507Z"
   },
   {
    "duration": 685,
    "start_time": "2022-10-03T09:59:16.529Z"
   },
   {
    "duration": 625,
    "start_time": "2022-10-03T09:59:17.216Z"
   },
   {
    "duration": 16,
    "start_time": "2022-10-03T09:59:17.843Z"
   },
   {
    "duration": 65,
    "start_time": "2022-10-03T09:59:17.861Z"
   },
   {
    "duration": 6,
    "start_time": "2022-10-03T09:59:17.928Z"
   },
   {
    "duration": 25,
    "start_time": "2022-10-03T09:59:17.935Z"
   },
   {
    "duration": 64,
    "start_time": "2022-10-03T09:59:17.961Z"
   },
   {
    "duration": 93,
    "start_time": "2022-10-03T09:59:18.027Z"
   },
   {
    "duration": 917,
    "start_time": "2022-10-03T09:59:18.122Z"
   },
   {
    "duration": 52698,
    "start_time": "2022-10-03T09:59:19.041Z"
   },
   {
    "duration": 10,
    "start_time": "2022-10-03T10:00:11.741Z"
   },
   {
    "duration": 22,
    "start_time": "2022-10-03T10:00:11.753Z"
   },
   {
    "duration": 11,
    "start_time": "2022-10-03T10:00:11.777Z"
   },
   {
    "duration": 7473,
    "start_time": "2022-10-03T10:00:11.794Z"
   },
   {
    "duration": 103407,
    "start_time": "2022-10-03T10:00:19.269Z"
   },
   {
    "duration": 9,
    "start_time": "2022-10-03T10:02:02.678Z"
   },
   {
    "duration": 9,
    "start_time": "2022-10-03T10:02:02.695Z"
   },
   {
    "duration": 323,
    "start_time": "2022-10-03T10:02:02.706Z"
   },
   {
    "duration": 164,
    "start_time": "2022-10-03T10:02:03.031Z"
   },
   {
    "duration": 3,
    "start_time": "2022-10-03T10:02:03.197Z"
   },
   {
    "duration": 49,
    "start_time": "2022-10-03T10:29:18.302Z"
   },
   {
    "duration": 420,
    "start_time": "2022-10-03T10:29:37.360Z"
   },
   {
    "duration": 2899,
    "start_time": "2022-10-03T10:29:37.782Z"
   },
   {
    "duration": 116,
    "start_time": "2022-10-03T10:29:40.682Z"
   },
   {
    "duration": 4,
    "start_time": "2022-10-03T10:29:40.800Z"
   },
   {
    "duration": 15,
    "start_time": "2022-10-03T10:29:40.807Z"
   },
   {
    "duration": 14,
    "start_time": "2022-10-03T10:29:40.824Z"
   },
   {
    "duration": 116,
    "start_time": "2022-10-03T10:29:40.840Z"
   },
   {
    "duration": 121,
    "start_time": "2022-10-03T10:29:40.958Z"
   },
   {
    "duration": 122,
    "start_time": "2022-10-03T10:29:41.081Z"
   },
   {
    "duration": 18,
    "start_time": "2022-10-03T10:29:41.205Z"
   },
   {
    "duration": 4,
    "start_time": "2022-10-03T10:29:41.224Z"
   },
   {
    "duration": 5,
    "start_time": "2022-10-03T10:29:41.230Z"
   },
   {
    "duration": 62,
    "start_time": "2022-10-03T10:29:41.237Z"
   },
   {
    "duration": 23,
    "start_time": "2022-10-03T10:29:41.304Z"
   },
   {
    "duration": 30,
    "start_time": "2022-10-03T10:29:41.330Z"
   },
   {
    "duration": 39,
    "start_time": "2022-10-03T10:29:41.362Z"
   },
   {
    "duration": 40,
    "start_time": "2022-10-03T10:29:41.403Z"
   },
   {
    "duration": 24,
    "start_time": "2022-10-03T10:29:41.445Z"
   },
   {
    "duration": 50,
    "start_time": "2022-10-03T10:29:41.471Z"
   },
   {
    "duration": 28,
    "start_time": "2022-10-03T10:29:41.523Z"
   },
   {
    "duration": 47,
    "start_time": "2022-10-03T10:29:41.553Z"
   },
   {
    "duration": 27,
    "start_time": "2022-10-03T10:29:41.602Z"
   },
   {
    "duration": 33,
    "start_time": "2022-10-03T10:29:41.631Z"
   },
   {
    "duration": 31,
    "start_time": "2022-10-03T10:29:41.666Z"
   },
   {
    "duration": 46,
    "start_time": "2022-10-03T10:29:41.699Z"
   },
   {
    "duration": 23,
    "start_time": "2022-10-03T10:29:41.747Z"
   },
   {
    "duration": 40,
    "start_time": "2022-10-03T10:29:41.772Z"
   },
   {
    "duration": 21,
    "start_time": "2022-10-03T10:29:41.813Z"
   },
   {
    "duration": 49,
    "start_time": "2022-10-03T10:29:41.836Z"
   },
   {
    "duration": 20,
    "start_time": "2022-10-03T10:29:41.887Z"
   },
   {
    "duration": 33,
    "start_time": "2022-10-03T10:29:41.909Z"
   },
   {
    "duration": 30,
    "start_time": "2022-10-03T10:29:41.944Z"
   },
   {
    "duration": 121,
    "start_time": "2022-10-03T10:29:41.976Z"
   },
   {
    "duration": 276,
    "start_time": "2022-10-03T10:29:42.099Z"
   },
   {
    "duration": 77,
    "start_time": "2022-10-03T10:29:42.376Z"
   },
   {
    "duration": 282,
    "start_time": "2022-10-03T10:29:42.455Z"
   },
   {
    "duration": 323,
    "start_time": "2022-10-03T10:29:42.739Z"
   },
   {
    "duration": 266,
    "start_time": "2022-10-03T10:29:43.064Z"
   },
   {
    "duration": 30,
    "start_time": "2022-10-03T10:29:43.332Z"
   },
   {
    "duration": 698,
    "start_time": "2022-10-03T10:29:43.364Z"
   },
   {
    "duration": 619,
    "start_time": "2022-10-03T10:29:44.065Z"
   },
   {
    "duration": 20,
    "start_time": "2022-10-03T10:29:44.686Z"
   },
   {
    "duration": 50,
    "start_time": "2022-10-03T10:29:44.708Z"
   },
   {
    "duration": 6,
    "start_time": "2022-10-03T10:29:44.760Z"
   },
   {
    "duration": 37,
    "start_time": "2022-10-03T10:29:44.767Z"
   },
   {
    "duration": 51,
    "start_time": "2022-10-03T10:29:44.805Z"
   },
   {
    "duration": 145,
    "start_time": "2022-10-03T10:29:44.858Z"
   },
   {
    "duration": 750,
    "start_time": "2022-10-03T10:29:45.095Z"
   },
   {
    "duration": 52260,
    "start_time": "2022-10-03T10:29:45.846Z"
   },
   {
    "duration": 8,
    "start_time": "2022-10-03T10:30:38.108Z"
   },
   {
    "duration": 10,
    "start_time": "2022-10-03T10:30:38.118Z"
   },
   {
    "duration": 13,
    "start_time": "2022-10-03T10:30:38.129Z"
   },
   {
    "duration": 7430,
    "start_time": "2022-10-03T10:30:38.143Z"
   },
   {
    "duration": 112143,
    "start_time": "2022-10-03T10:30:45.574Z"
   },
   {
    "duration": 9,
    "start_time": "2022-10-03T10:32:37.719Z"
   },
   {
    "duration": 22,
    "start_time": "2022-10-03T10:32:37.730Z"
   },
   {
    "duration": 308,
    "start_time": "2022-10-03T10:32:37.753Z"
   },
   {
    "duration": 3,
    "start_time": "2022-10-03T10:32:38.063Z"
   },
   {
    "duration": 13,
    "start_time": "2022-10-03T10:32:38.067Z"
   },
   {
    "duration": 124,
    "start_time": "2022-10-03T10:32:38.082Z"
   },
   {
    "duration": 0,
    "start_time": "2022-10-03T10:32:38.209Z"
   },
   {
    "duration": 11,
    "start_time": "2022-10-03T10:33:15.221Z"
   },
   {
    "duration": 23,
    "start_time": "2022-10-03T10:35:02.756Z"
   },
   {
    "duration": 25,
    "start_time": "2022-10-03T10:36:33.870Z"
   },
   {
    "duration": 302,
    "start_time": "2022-10-03T10:37:03.267Z"
   },
   {
    "duration": 23,
    "start_time": "2022-10-03T10:38:23.992Z"
   },
   {
    "duration": 306,
    "start_time": "2022-10-03T10:38:25.021Z"
   },
   {
    "duration": 6,
    "start_time": "2022-10-03T10:38:27.586Z"
   },
   {
    "duration": 6,
    "start_time": "2022-10-03T10:38:33.970Z"
   },
   {
    "duration": 13,
    "start_time": "2022-10-03T10:40:35.635Z"
   },
   {
    "duration": 9,
    "start_time": "2022-10-03T10:40:58.792Z"
   },
   {
    "duration": 11,
    "start_time": "2022-10-03T10:43:17.572Z"
   },
   {
    "duration": 3018,
    "start_time": "2022-10-03T10:44:05.308Z"
   },
   {
    "duration": 399,
    "start_time": "2022-10-03T10:44:22.135Z"
   },
   {
    "duration": 927,
    "start_time": "2022-10-03T10:44:22.536Z"
   },
   {
    "duration": 142,
    "start_time": "2022-10-03T10:44:23.465Z"
   },
   {
    "duration": 4,
    "start_time": "2022-10-03T10:44:23.609Z"
   },
   {
    "duration": 8,
    "start_time": "2022-10-03T10:44:23.615Z"
   },
   {
    "duration": 6,
    "start_time": "2022-10-03T10:44:23.624Z"
   },
   {
    "duration": 127,
    "start_time": "2022-10-03T10:44:23.632Z"
   },
   {
    "duration": 115,
    "start_time": "2022-10-03T10:44:23.761Z"
   },
   {
    "duration": 122,
    "start_time": "2022-10-03T10:44:23.878Z"
   },
   {
    "duration": 17,
    "start_time": "2022-10-03T10:44:24.002Z"
   },
   {
    "duration": 3,
    "start_time": "2022-10-03T10:44:24.020Z"
   },
   {
    "duration": 10,
    "start_time": "2022-10-03T10:44:24.025Z"
   },
   {
    "duration": 34,
    "start_time": "2022-10-03T10:44:24.037Z"
   },
   {
    "duration": 22,
    "start_time": "2022-10-03T10:44:24.095Z"
   },
   {
    "duration": 30,
    "start_time": "2022-10-03T10:44:24.119Z"
   },
   {
    "duration": 17,
    "start_time": "2022-10-03T10:44:24.151Z"
   },
   {
    "duration": 55,
    "start_time": "2022-10-03T10:44:24.170Z"
   },
   {
    "duration": 19,
    "start_time": "2022-10-03T10:44:24.226Z"
   },
   {
    "duration": 51,
    "start_time": "2022-10-03T10:44:24.247Z"
   },
   {
    "duration": 16,
    "start_time": "2022-10-03T10:44:24.301Z"
   },
   {
    "duration": 34,
    "start_time": "2022-10-03T10:44:24.318Z"
   },
   {
    "duration": 43,
    "start_time": "2022-10-03T10:44:24.354Z"
   },
   {
    "duration": 32,
    "start_time": "2022-10-03T10:44:24.399Z"
   },
   {
    "duration": 18,
    "start_time": "2022-10-03T10:44:24.432Z"
   },
   {
    "duration": 49,
    "start_time": "2022-10-03T10:44:24.452Z"
   },
   {
    "duration": 19,
    "start_time": "2022-10-03T10:44:24.503Z"
   },
   {
    "duration": 30,
    "start_time": "2022-10-03T10:44:24.523Z"
   },
   {
    "duration": 17,
    "start_time": "2022-10-03T10:44:24.554Z"
   },
   {
    "duration": 35,
    "start_time": "2022-10-03T10:44:24.596Z"
   },
   {
    "duration": 17,
    "start_time": "2022-10-03T10:44:24.633Z"
   },
   {
    "duration": 48,
    "start_time": "2022-10-03T10:44:24.652Z"
   },
   {
    "duration": 18,
    "start_time": "2022-10-03T10:44:24.701Z"
   },
   {
    "duration": 126,
    "start_time": "2022-10-03T10:44:24.721Z"
   },
   {
    "duration": 321,
    "start_time": "2022-10-03T10:44:24.849Z"
   },
   {
    "duration": 84,
    "start_time": "2022-10-03T10:44:25.171Z"
   },
   {
    "duration": 310,
    "start_time": "2022-10-03T10:44:25.257Z"
   },
   {
    "duration": 345,
    "start_time": "2022-10-03T10:44:25.569Z"
   },
   {
    "duration": 274,
    "start_time": "2022-10-03T10:44:25.916Z"
   },
   {
    "duration": 19,
    "start_time": "2022-10-03T10:44:26.195Z"
   },
   {
    "duration": 703,
    "start_time": "2022-10-03T10:44:26.216Z"
   },
   {
    "duration": 645,
    "start_time": "2022-10-03T10:44:26.923Z"
   },
   {
    "duration": 16,
    "start_time": "2022-10-03T10:44:27.569Z"
   },
   {
    "duration": 47,
    "start_time": "2022-10-03T10:44:27.594Z"
   },
   {
    "duration": 5,
    "start_time": "2022-10-03T10:44:27.643Z"
   },
   {
    "duration": 32,
    "start_time": "2022-10-03T10:44:27.650Z"
   },
   {
    "duration": 71,
    "start_time": "2022-10-03T10:44:27.684Z"
   },
   {
    "duration": 142,
    "start_time": "2022-10-03T10:44:27.757Z"
   },
   {
    "duration": 889,
    "start_time": "2022-10-03T10:44:27.901Z"
   },
   {
    "duration": 54811,
    "start_time": "2022-10-03T10:44:28.795Z"
   },
   {
    "duration": 10,
    "start_time": "2022-10-03T10:45:23.608Z"
   },
   {
    "duration": 25,
    "start_time": "2022-10-03T10:45:23.620Z"
   },
   {
    "duration": 6,
    "start_time": "2022-10-03T10:45:23.647Z"
   },
   {
    "duration": 8004,
    "start_time": "2022-10-03T10:45:23.654Z"
   },
   {
    "duration": 52553,
    "start_time": "2022-10-03T10:45:31.660Z"
   },
   {
    "duration": 10,
    "start_time": "2022-10-03T10:46:24.214Z"
   },
   {
    "duration": 18,
    "start_time": "2022-10-03T10:46:24.225Z"
   },
   {
    "duration": 368,
    "start_time": "2022-10-03T10:46:24.244Z"
   },
   {
    "duration": 3,
    "start_time": "2022-10-03T10:46:24.613Z"
   },
   {
    "duration": 7,
    "start_time": "2022-10-03T10:46:24.617Z"
   },
   {
    "duration": 87,
    "start_time": "2022-10-03T10:46:24.625Z"
   },
   {
    "duration": 0,
    "start_time": "2022-10-03T10:46:24.713Z"
   },
   {
    "duration": 0,
    "start_time": "2022-10-03T10:46:24.715Z"
   },
   {
    "duration": 0,
    "start_time": "2022-10-03T10:46:24.716Z"
   },
   {
    "duration": 0,
    "start_time": "2022-10-03T10:46:24.717Z"
   },
   {
    "duration": 0,
    "start_time": "2022-10-03T10:46:24.718Z"
   },
   {
    "duration": 15,
    "start_time": "2022-10-03T10:48:39.062Z"
   },
   {
    "duration": 25,
    "start_time": "2022-10-03T10:48:39.741Z"
   },
   {
    "duration": 3136,
    "start_time": "2022-10-03T10:48:40.592Z"
   },
   {
    "duration": 5,
    "start_time": "2022-10-03T10:48:43.730Z"
   },
   {
    "duration": 19,
    "start_time": "2022-10-03T10:48:43.736Z"
   },
   {
    "duration": 12,
    "start_time": "2022-10-03T10:51:13.105Z"
   },
   {
    "duration": 186,
    "start_time": "2022-10-03T10:54:57.108Z"
   },
   {
    "duration": 9,
    "start_time": "2022-10-03T10:55:48.507Z"
   },
   {
    "duration": 184,
    "start_time": "2022-10-03T10:56:04.686Z"
   },
   {
    "duration": 11,
    "start_time": "2022-10-03T10:56:49.985Z"
   },
   {
    "duration": 11,
    "start_time": "2022-10-03T10:56:58.254Z"
   },
   {
    "duration": 8,
    "start_time": "2022-10-03T10:57:02.261Z"
   },
   {
    "duration": 17,
    "start_time": "2022-10-03T10:57:05.832Z"
   },
   {
    "duration": 19,
    "start_time": "2022-10-03T10:57:42.651Z"
   },
   {
    "duration": 10,
    "start_time": "2022-10-03T10:57:55.720Z"
   },
   {
    "duration": 73,
    "start_time": "2022-10-03T10:58:42.633Z"
   },
   {
    "duration": 699,
    "start_time": "2022-10-03T10:58:55.206Z"
   },
   {
    "duration": 48350,
    "start_time": "2022-10-03T10:59:05.472Z"
   },
   {
    "duration": 72,
    "start_time": "2022-10-03T11:00:06.253Z"
   },
   {
    "duration": 40,
    "start_time": "2022-10-03T11:00:23.699Z"
   },
   {
    "duration": 42,
    "start_time": "2022-10-03T11:00:38.837Z"
   },
   {
    "duration": 98,
    "start_time": "2022-10-03T11:00:44.591Z"
   },
   {
    "duration": 3,
    "start_time": "2022-10-03T11:01:12.282Z"
   },
   {
    "duration": 65,
    "start_time": "2022-10-03T11:01:16.420Z"
   },
   {
    "duration": 45,
    "start_time": "2022-10-03T11:01:51.631Z"
   },
   {
    "duration": 177,
    "start_time": "2022-10-03T11:02:00.255Z"
   },
   {
    "duration": 186,
    "start_time": "2022-10-03T11:02:06.604Z"
   },
   {
    "duration": 53778,
    "start_time": "2022-10-03T11:03:06.922Z"
   },
   {
    "duration": 75,
    "start_time": "2022-10-03T11:05:37.568Z"
   },
   {
    "duration": 119,
    "start_time": "2022-10-03T11:05:53.777Z"
   },
   {
    "duration": 158,
    "start_time": "2022-10-03T11:06:00.039Z"
   },
   {
    "duration": 68,
    "start_time": "2022-10-03T11:06:06.232Z"
   },
   {
    "duration": 88,
    "start_time": "2022-10-03T11:06:18.019Z"
   },
   {
    "duration": 74,
    "start_time": "2022-10-03T11:07:16.535Z"
   },
   {
    "duration": 87,
    "start_time": "2022-10-03T11:07:34.909Z"
   },
   {
    "duration": 135,
    "start_time": "2022-10-03T11:07:52.967Z"
   },
   {
    "duration": 114,
    "start_time": "2022-10-03T11:08:01.182Z"
   },
   {
    "duration": 148,
    "start_time": "2022-10-03T11:08:10.554Z"
   },
   {
    "duration": 138,
    "start_time": "2022-10-03T11:08:17.964Z"
   },
   {
    "duration": 133,
    "start_time": "2022-10-03T11:08:28.766Z"
   },
   {
    "duration": 830,
    "start_time": "2022-10-03T11:09:12.212Z"
   },
   {
    "duration": 9,
    "start_time": "2022-10-03T11:36:18.754Z"
   },
   {
    "duration": 78,
    "start_time": "2022-10-03T11:36:44.223Z"
   },
   {
    "duration": 91,
    "start_time": "2022-10-03T11:37:04.307Z"
   },
   {
    "duration": 92,
    "start_time": "2022-10-03T11:37:38.704Z"
   },
   {
    "duration": 156,
    "start_time": "2022-10-03T11:38:05.940Z"
   },
   {
    "duration": 717,
    "start_time": "2022-10-03T11:38:24.948Z"
   },
   {
    "duration": 694,
    "start_time": "2022-10-03T11:38:31.349Z"
   },
   {
    "duration": 740,
    "start_time": "2022-10-03T11:38:54.201Z"
   },
   {
    "duration": 50639,
    "start_time": "2022-10-03T11:39:14.181Z"
   },
   {
    "duration": 9,
    "start_time": "2022-10-03T11:40:45.118Z"
   },
   {
    "duration": 7091,
    "start_time": "2022-10-03T11:41:34.512Z"
   },
   {
    "duration": 47499,
    "start_time": "2022-10-03T11:42:03.671Z"
   },
   {
    "duration": 9,
    "start_time": "2022-10-03T11:43:07.872Z"
   },
   {
    "duration": 9,
    "start_time": "2022-10-03T11:43:09.975Z"
   },
   {
    "duration": 12,
    "start_time": "2022-10-03T11:44:01.307Z"
   },
   {
    "duration": 22,
    "start_time": "2022-10-03T11:44:45.615Z"
   },
   {
    "duration": 2841,
    "start_time": "2022-10-03T11:45:09.081Z"
   },
   {
    "duration": 6,
    "start_time": "2022-10-03T11:45:39.185Z"
   },
   {
    "duration": 10,
    "start_time": "2022-10-03T11:47:33.169Z"
   },
   {
    "duration": 10,
    "start_time": "2022-10-03T11:47:50.264Z"
   },
   {
    "duration": 10,
    "start_time": "2022-10-03T11:48:08.236Z"
   },
   {
    "duration": 12,
    "start_time": "2022-10-03T11:48:22.014Z"
   },
   {
    "duration": 358,
    "start_time": "2022-10-03T11:49:33.974Z"
   },
   {
    "duration": 9,
    "start_time": "2022-10-03T11:49:59.378Z"
   },
   {
    "duration": 11,
    "start_time": "2022-10-03T11:51:26.037Z"
   },
   {
    "duration": 10,
    "start_time": "2022-10-03T11:51:34.729Z"
   },
   {
    "duration": 11,
    "start_time": "2022-10-03T11:52:35.859Z"
   },
   {
    "duration": 11,
    "start_time": "2022-10-03T11:54:17.863Z"
   },
   {
    "duration": 403,
    "start_time": "2022-10-03T12:16:23.365Z"
   },
   {
    "duration": 778,
    "start_time": "2022-10-03T12:16:23.770Z"
   },
   {
    "duration": 113,
    "start_time": "2022-10-03T12:16:24.550Z"
   },
   {
    "duration": 3,
    "start_time": "2022-10-03T12:16:24.665Z"
   },
   {
    "duration": 7,
    "start_time": "2022-10-03T12:16:24.669Z"
   },
   {
    "duration": 5,
    "start_time": "2022-10-03T12:16:24.677Z"
   },
   {
    "duration": 110,
    "start_time": "2022-10-03T12:16:24.695Z"
   },
   {
    "duration": 104,
    "start_time": "2022-10-03T12:16:24.806Z"
   },
   {
    "duration": 107,
    "start_time": "2022-10-03T12:16:24.911Z"
   },
   {
    "duration": 16,
    "start_time": "2022-10-03T12:16:25.021Z"
   },
   {
    "duration": 5,
    "start_time": "2022-10-03T12:16:25.039Z"
   },
   {
    "duration": 12,
    "start_time": "2022-10-03T12:16:25.045Z"
   },
   {
    "duration": 45,
    "start_time": "2022-10-03T12:16:25.059Z"
   },
   {
    "duration": 19,
    "start_time": "2022-10-03T12:16:25.106Z"
   },
   {
    "duration": 27,
    "start_time": "2022-10-03T12:16:25.127Z"
   },
   {
    "duration": 14,
    "start_time": "2022-10-03T12:16:25.156Z"
   },
   {
    "duration": 50,
    "start_time": "2022-10-03T12:16:25.171Z"
   },
   {
    "duration": 17,
    "start_time": "2022-10-03T12:16:25.222Z"
   },
   {
    "duration": 28,
    "start_time": "2022-10-03T12:16:25.240Z"
   },
   {
    "duration": 28,
    "start_time": "2022-10-03T12:16:25.269Z"
   },
   {
    "duration": 36,
    "start_time": "2022-10-03T12:16:25.299Z"
   },
   {
    "duration": 18,
    "start_time": "2022-10-03T12:16:25.337Z"
   },
   {
    "duration": 43,
    "start_time": "2022-10-03T12:16:25.357Z"
   },
   {
    "duration": 16,
    "start_time": "2022-10-03T12:16:25.402Z"
   },
   {
    "duration": 30,
    "start_time": "2022-10-03T12:16:25.420Z"
   },
   {
    "duration": 18,
    "start_time": "2022-10-03T12:16:25.451Z"
   },
   {
    "duration": 44,
    "start_time": "2022-10-03T12:16:25.470Z"
   },
   {
    "duration": 13,
    "start_time": "2022-10-03T12:16:25.518Z"
   },
   {
    "duration": 33,
    "start_time": "2022-10-03T12:16:25.532Z"
   },
   {
    "duration": 36,
    "start_time": "2022-10-03T12:16:25.566Z"
   },
   {
    "duration": 29,
    "start_time": "2022-10-03T12:16:25.604Z"
   },
   {
    "duration": 13,
    "start_time": "2022-10-03T12:16:25.634Z"
   },
   {
    "duration": 122,
    "start_time": "2022-10-03T12:16:25.649Z"
   },
   {
    "duration": 277,
    "start_time": "2022-10-03T12:16:25.773Z"
   },
   {
    "duration": 67,
    "start_time": "2022-10-03T12:16:26.052Z"
   },
   {
    "duration": 269,
    "start_time": "2022-10-03T12:16:26.120Z"
   },
   {
    "duration": 351,
    "start_time": "2022-10-03T12:16:26.390Z"
   },
   {
    "duration": 258,
    "start_time": "2022-10-03T12:16:26.743Z"
   },
   {
    "duration": 19,
    "start_time": "2022-10-03T12:16:27.003Z"
   },
   {
    "duration": 600,
    "start_time": "2022-10-03T12:16:27.024Z"
   },
   {
    "duration": 607,
    "start_time": "2022-10-03T12:16:27.626Z"
   },
   {
    "duration": 15,
    "start_time": "2022-10-03T12:16:28.234Z"
   },
   {
    "duration": 53,
    "start_time": "2022-10-03T12:16:28.251Z"
   },
   {
    "duration": 6,
    "start_time": "2022-10-03T12:16:28.305Z"
   },
   {
    "duration": 21,
    "start_time": "2022-10-03T12:16:28.312Z"
   },
   {
    "duration": 60,
    "start_time": "2022-10-03T12:16:28.335Z"
   },
   {
    "duration": 107,
    "start_time": "2022-10-03T12:16:28.397Z"
   },
   {
    "duration": 718,
    "start_time": "2022-10-03T12:16:28.594Z"
   },
   {
    "duration": 51660,
    "start_time": "2022-10-03T12:16:29.314Z"
   },
   {
    "duration": 19,
    "start_time": "2022-10-03T12:17:20.976Z"
   },
   {
    "duration": 10,
    "start_time": "2022-10-03T12:17:20.997Z"
   },
   {
    "duration": 11,
    "start_time": "2022-10-03T12:17:21.009Z"
   },
   {
    "duration": 7255,
    "start_time": "2022-10-03T12:17:21.022Z"
   },
   {
    "duration": 46792,
    "start_time": "2022-10-03T12:17:28.279Z"
   },
   {
    "duration": 8,
    "start_time": "2022-10-03T12:18:15.072Z"
   },
   {
    "duration": 19,
    "start_time": "2022-10-03T12:18:15.082Z"
   },
   {
    "duration": 326,
    "start_time": "2022-10-03T12:18:15.103Z"
   },
   {
    "duration": 2,
    "start_time": "2022-10-03T12:18:15.431Z"
   },
   {
    "duration": 6,
    "start_time": "2022-10-03T12:18:15.434Z"
   },
   {
    "duration": 5,
    "start_time": "2022-10-03T12:18:15.441Z"
   },
   {
    "duration": 49,
    "start_time": "2022-10-03T12:18:15.448Z"
   },
   {
    "duration": 118,
    "start_time": "2022-10-03T12:18:15.498Z"
   },
   {
    "duration": 3091,
    "start_time": "2022-10-03T12:18:15.617Z"
   },
   {
    "duration": 6,
    "start_time": "2022-10-03T12:18:18.710Z"
   },
   {
    "duration": 12,
    "start_time": "2022-10-03T12:18:18.717Z"
   },
   {
    "duration": 17,
    "start_time": "2022-10-03T12:18:18.731Z"
   },
   {
    "duration": 16,
    "start_time": "2022-10-03T12:18:18.750Z"
   },
   {
    "duration": 150,
    "start_time": "2022-10-03T12:20:49.294Z"
   },
   {
    "duration": 13,
    "start_time": "2022-10-03T12:21:30.646Z"
   },
   {
    "duration": 16,
    "start_time": "2022-10-03T12:22:22.066Z"
   },
   {
    "duration": 18,
    "start_time": "2022-10-03T12:22:53.390Z"
   },
   {
    "duration": 14,
    "start_time": "2022-10-03T12:23:01.286Z"
   },
   {
    "duration": 13,
    "start_time": "2022-10-03T12:24:13.637Z"
   },
   {
    "duration": 17,
    "start_time": "2022-10-03T12:24:27.283Z"
   },
   {
    "duration": 16,
    "start_time": "2022-10-03T12:24:40.469Z"
   },
   {
    "duration": 8,
    "start_time": "2022-10-03T12:24:43.346Z"
   },
   {
    "duration": 6,
    "start_time": "2022-10-03T12:24:57.819Z"
   },
   {
    "duration": 8,
    "start_time": "2022-10-03T12:25:00.026Z"
   },
   {
    "duration": 2,
    "start_time": "2022-10-03T13:12:19.742Z"
   },
   {
    "duration": 1089,
    "start_time": "2022-10-03T13:46:11.592Z"
   },
   {
    "duration": 3302,
    "start_time": "2022-10-03T13:46:12.754Z"
   },
   {
    "duration": 399,
    "start_time": "2022-10-03T13:46:16.058Z"
   },
   {
    "duration": 4,
    "start_time": "2022-10-03T13:46:16.460Z"
   },
   {
    "duration": 21,
    "start_time": "2022-10-03T13:46:16.466Z"
   },
   {
    "duration": 5,
    "start_time": "2022-10-03T13:46:16.555Z"
   },
   {
    "duration": 692,
    "start_time": "2022-10-03T13:46:16.563Z"
   },
   {
    "duration": 606,
    "start_time": "2022-10-03T13:46:17.260Z"
   },
   {
    "duration": 486,
    "start_time": "2022-10-03T13:46:17.868Z"
   },
   {
    "duration": 21,
    "start_time": "2022-10-03T13:46:18.357Z"
   },
   {
    "duration": 4,
    "start_time": "2022-10-03T13:46:18.455Z"
   },
   {
    "duration": 15,
    "start_time": "2022-10-03T13:46:18.461Z"
   },
   {
    "duration": 197,
    "start_time": "2022-10-03T13:46:18.480Z"
   },
   {
    "duration": 95,
    "start_time": "2022-10-03T13:46:18.759Z"
   },
   {
    "duration": 108,
    "start_time": "2022-10-03T13:46:18.856Z"
   },
   {
    "duration": 100,
    "start_time": "2022-10-03T13:46:18.967Z"
   },
   {
    "duration": 188,
    "start_time": "2022-10-03T13:46:19.069Z"
   },
   {
    "duration": 101,
    "start_time": "2022-10-03T13:46:19.259Z"
   },
   {
    "duration": 116,
    "start_time": "2022-10-03T13:46:19.362Z"
   },
   {
    "duration": 91,
    "start_time": "2022-10-03T13:46:19.480Z"
   },
   {
    "duration": 206,
    "start_time": "2022-10-03T13:46:19.573Z"
   },
   {
    "duration": 101,
    "start_time": "2022-10-03T13:46:19.855Z"
   },
   {
    "duration": 198,
    "start_time": "2022-10-03T13:46:19.958Z"
   },
   {
    "duration": 22,
    "start_time": "2022-10-03T13:46:20.158Z"
   },
   {
    "duration": 187,
    "start_time": "2022-10-03T13:46:20.181Z"
   },
   {
    "duration": 106,
    "start_time": "2022-10-03T13:46:20.370Z"
   },
   {
    "duration": 184,
    "start_time": "2022-10-03T13:46:20.478Z"
   },
   {
    "duration": 94,
    "start_time": "2022-10-03T13:46:20.666Z"
   },
   {
    "duration": 199,
    "start_time": "2022-10-03T13:46:20.762Z"
   },
   {
    "duration": 98,
    "start_time": "2022-10-03T13:46:20.967Z"
   },
   {
    "duration": 114,
    "start_time": "2022-10-03T13:46:21.068Z"
   },
   {
    "duration": 16,
    "start_time": "2022-10-03T13:46:21.253Z"
   },
   {
    "duration": 511,
    "start_time": "2022-10-03T13:46:21.271Z"
   },
   {
    "duration": 1216,
    "start_time": "2022-10-03T13:46:21.855Z"
   },
   {
    "duration": 481,
    "start_time": "2022-10-03T13:46:23.073Z"
   },
   {
    "duration": 1510,
    "start_time": "2022-10-03T13:46:23.558Z"
   },
   {
    "duration": 1500,
    "start_time": "2022-10-03T13:46:25.070Z"
   },
   {
    "duration": 1108,
    "start_time": "2022-10-03T13:46:26.572Z"
   },
   {
    "duration": 97,
    "start_time": "2022-10-03T13:46:27.682Z"
   },
   {
    "duration": 2191,
    "start_time": "2022-10-03T13:46:27.782Z"
   },
   {
    "duration": 2906,
    "start_time": "2022-10-03T13:46:29.976Z"
   },
   {
    "duration": 20,
    "start_time": "2022-10-03T13:46:32.953Z"
   },
   {
    "duration": 205,
    "start_time": "2022-10-03T13:46:32.975Z"
   },
   {
    "duration": 83,
    "start_time": "2022-10-03T13:46:33.182Z"
   },
   {
    "duration": 106,
    "start_time": "2022-10-03T13:46:33.268Z"
   },
   {
    "duration": 1083,
    "start_time": "2022-10-03T13:46:33.378Z"
   },
   {
    "duration": 200,
    "start_time": "2022-10-03T13:47:17.255Z"
   },
   {
    "duration": 1093,
    "start_time": "2022-10-03T13:47:31.976Z"
   },
   {
    "duration": 4218,
    "start_time": "2022-10-03T13:47:33.071Z"
   },
   {
    "duration": 421,
    "start_time": "2022-10-03T13:47:37.355Z"
   },
   {
    "duration": 4,
    "start_time": "2022-10-03T13:47:37.778Z"
   },
   {
    "duration": 102,
    "start_time": "2022-10-03T13:47:37.857Z"
   },
   {
    "duration": 16,
    "start_time": "2022-10-03T13:47:37.962Z"
   },
   {
    "duration": 585,
    "start_time": "2022-10-03T13:47:37.981Z"
   },
   {
    "duration": 494,
    "start_time": "2022-10-03T13:47:38.572Z"
   },
   {
    "duration": 590,
    "start_time": "2022-10-03T13:47:39.069Z"
   },
   {
    "duration": 94,
    "start_time": "2022-10-03T13:47:39.666Z"
   },
   {
    "duration": 12,
    "start_time": "2022-10-03T13:47:39.766Z"
   },
   {
    "duration": 76,
    "start_time": "2022-10-03T13:47:39.780Z"
   },
   {
    "duration": 112,
    "start_time": "2022-10-03T13:47:39.858Z"
   },
   {
    "duration": 104,
    "start_time": "2022-10-03T13:47:39.972Z"
   },
   {
    "duration": 177,
    "start_time": "2022-10-03T13:47:40.078Z"
   },
   {
    "duration": 96,
    "start_time": "2022-10-03T13:47:40.258Z"
   },
   {
    "duration": 110,
    "start_time": "2022-10-03T13:47:40.356Z"
   },
   {
    "duration": 94,
    "start_time": "2022-10-03T13:47:40.468Z"
   },
   {
    "duration": 195,
    "start_time": "2022-10-03T13:47:40.565Z"
   },
   {
    "duration": 98,
    "start_time": "2022-10-03T13:47:40.761Z"
   },
   {
    "duration": 122,
    "start_time": "2022-10-03T13:47:40.861Z"
   },
   {
    "duration": 99,
    "start_time": "2022-10-03T13:47:41.055Z"
   },
   {
    "duration": 117,
    "start_time": "2022-10-03T13:47:41.159Z"
   },
   {
    "duration": 91,
    "start_time": "2022-10-03T13:47:41.278Z"
   },
   {
    "duration": 205,
    "start_time": "2022-10-03T13:47:41.371Z"
   },
   {
    "duration": 99,
    "start_time": "2022-10-03T13:47:41.578Z"
   },
   {
    "duration": 200,
    "start_time": "2022-10-03T13:47:41.679Z"
   },
   {
    "duration": 32,
    "start_time": "2022-10-03T13:47:41.954Z"
   },
   {
    "duration": 189,
    "start_time": "2022-10-03T13:47:41.988Z"
   },
   {
    "duration": 105,
    "start_time": "2022-10-03T13:47:42.255Z"
   },
   {
    "duration": 197,
    "start_time": "2022-10-03T13:47:42.363Z"
   },
   {
    "duration": 96,
    "start_time": "2022-10-03T13:47:42.562Z"
   },
   {
    "duration": 523,
    "start_time": "2022-10-03T13:47:42.661Z"
   },
   {
    "duration": 1197,
    "start_time": "2022-10-03T13:47:43.257Z"
   },
   {
    "duration": 401,
    "start_time": "2022-10-03T13:47:44.457Z"
   },
   {
    "duration": 1111,
    "start_time": "2022-10-03T13:47:44.860Z"
   },
   {
    "duration": 1204,
    "start_time": "2022-10-03T13:47:45.973Z"
   },
   {
    "duration": 1475,
    "start_time": "2022-10-03T13:47:47.179Z"
   },
   {
    "duration": 99,
    "start_time": "2022-10-03T13:47:48.660Z"
   },
   {
    "duration": 2214,
    "start_time": "2022-10-03T13:47:48.761Z"
   },
   {
    "duration": 2605,
    "start_time": "2022-10-03T13:47:50.977Z"
   },
   {
    "duration": 23,
    "start_time": "2022-10-03T13:47:53.654Z"
   },
   {
    "duration": 276,
    "start_time": "2022-10-03T13:47:53.678Z"
   },
   {
    "duration": 10,
    "start_time": "2022-10-03T13:47:53.958Z"
   },
   {
    "duration": 108,
    "start_time": "2022-10-03T13:47:53.969Z"
   },
   {
    "duration": 1087,
    "start_time": "2022-10-03T13:47:54.081Z"
   },
   {
    "duration": 73,
    "start_time": "2022-10-03T13:48:01.300Z"
   },
   {
    "duration": 101,
    "start_time": "2022-10-03T13:48:15.454Z"
   },
   {
    "duration": 12,
    "start_time": "2022-10-03T13:48:53.857Z"
   },
   {
    "duration": 79,
    "start_time": "2022-10-03T13:49:37.477Z"
   },
   {
    "duration": 188,
    "start_time": "2022-10-03T13:50:19.193Z"
   },
   {
    "duration": 22,
    "start_time": "2022-10-03T13:50:27.054Z"
   },
   {
    "duration": 9,
    "start_time": "2022-10-03T13:50:38.155Z"
   },
   {
    "duration": 6,
    "start_time": "2022-10-03T13:50:50.461Z"
   },
   {
    "duration": 358,
    "start_time": "2022-10-04T04:49:56.845Z"
   },
   {
    "duration": 2804,
    "start_time": "2022-10-04T04:49:57.205Z"
   },
   {
    "duration": 111,
    "start_time": "2022-10-04T04:50:00.010Z"
   },
   {
    "duration": 4,
    "start_time": "2022-10-04T04:50:00.123Z"
   },
   {
    "duration": 24,
    "start_time": "2022-10-04T04:50:00.128Z"
   },
   {
    "duration": 22,
    "start_time": "2022-10-04T04:50:00.154Z"
   },
   {
    "duration": 114,
    "start_time": "2022-10-04T04:50:00.178Z"
   },
   {
    "duration": 96,
    "start_time": "2022-10-04T04:50:00.293Z"
   },
   {
    "duration": 107,
    "start_time": "2022-10-04T04:50:00.395Z"
   },
   {
    "duration": 16,
    "start_time": "2022-10-04T04:50:00.504Z"
   },
   {
    "duration": 11,
    "start_time": "2022-10-04T04:50:00.521Z"
   },
   {
    "duration": 6,
    "start_time": "2022-10-04T04:50:00.533Z"
   },
   {
    "duration": 42,
    "start_time": "2022-10-04T04:50:00.540Z"
   },
   {
    "duration": 23,
    "start_time": "2022-10-04T04:50:00.583Z"
   },
   {
    "duration": 35,
    "start_time": "2022-10-04T04:50:00.607Z"
   },
   {
    "duration": 21,
    "start_time": "2022-10-04T04:50:00.644Z"
   },
   {
    "duration": 40,
    "start_time": "2022-10-04T04:50:00.667Z"
   },
   {
    "duration": 19,
    "start_time": "2022-10-04T04:50:00.709Z"
   },
   {
    "duration": 42,
    "start_time": "2022-10-04T04:50:00.729Z"
   },
   {
    "duration": 26,
    "start_time": "2022-10-04T04:50:00.773Z"
   },
   {
    "duration": 50,
    "start_time": "2022-10-04T04:50:00.801Z"
   },
   {
    "duration": 17,
    "start_time": "2022-10-04T04:50:00.854Z"
   },
   {
    "duration": 32,
    "start_time": "2022-10-04T04:50:00.873Z"
   },
   {
    "duration": 22,
    "start_time": "2022-10-04T04:50:00.906Z"
   },
   {
    "duration": 36,
    "start_time": "2022-10-04T04:50:00.930Z"
   },
   {
    "duration": 27,
    "start_time": "2022-10-04T04:50:00.968Z"
   },
   {
    "duration": 29,
    "start_time": "2022-10-04T04:50:00.997Z"
   },
   {
    "duration": 32,
    "start_time": "2022-10-04T04:50:01.030Z"
   },
   {
    "duration": 42,
    "start_time": "2022-10-04T04:50:01.064Z"
   },
   {
    "duration": 18,
    "start_time": "2022-10-04T04:50:01.107Z"
   },
   {
    "duration": 45,
    "start_time": "2022-10-04T04:50:01.127Z"
   },
   {
    "duration": 26,
    "start_time": "2022-10-04T04:50:01.174Z"
   },
   {
    "duration": 122,
    "start_time": "2022-10-04T04:50:01.202Z"
   },
   {
    "duration": 289,
    "start_time": "2022-10-04T04:50:01.325Z"
   },
   {
    "duration": 80,
    "start_time": "2022-10-04T04:50:01.615Z"
   },
   {
    "duration": 278,
    "start_time": "2022-10-04T04:50:01.696Z"
   },
   {
    "duration": 319,
    "start_time": "2022-10-04T04:50:01.976Z"
   },
   {
    "duration": 256,
    "start_time": "2022-10-04T04:50:02.297Z"
   },
   {
    "duration": 19,
    "start_time": "2022-10-04T04:50:02.555Z"
   },
   {
    "duration": 698,
    "start_time": "2022-10-04T04:50:02.576Z"
   },
   {
    "duration": 587,
    "start_time": "2022-10-04T04:50:03.276Z"
   },
   {
    "duration": 16,
    "start_time": "2022-10-04T04:50:03.865Z"
   },
   {
    "duration": 55,
    "start_time": "2022-10-04T04:50:03.883Z"
   },
   {
    "duration": 4,
    "start_time": "2022-10-04T04:50:03.940Z"
   },
   {
    "duration": 22,
    "start_time": "2022-10-04T04:50:03.946Z"
   },
   {
    "duration": 56,
    "start_time": "2022-10-04T04:50:03.969Z"
   },
   {
    "duration": 83,
    "start_time": "2022-10-04T04:50:04.027Z"
   },
   {
    "duration": 879,
    "start_time": "2022-10-04T04:50:04.112Z"
   },
   {
    "duration": 50435,
    "start_time": "2022-10-04T04:50:04.995Z"
   },
   {
    "duration": 9,
    "start_time": "2022-10-04T04:50:55.431Z"
   },
   {
    "duration": 11,
    "start_time": "2022-10-04T04:50:55.442Z"
   },
   {
    "duration": 7,
    "start_time": "2022-10-04T04:50:55.454Z"
   },
   {
    "duration": 7109,
    "start_time": "2022-10-04T04:50:55.462Z"
   },
   {
    "duration": 46272,
    "start_time": "2022-10-04T04:51:02.573Z"
   },
   {
    "duration": 8,
    "start_time": "2022-10-04T04:51:48.847Z"
   },
   {
    "duration": 12,
    "start_time": "2022-10-04T04:51:48.856Z"
   },
   {
    "duration": 258,
    "start_time": "2022-10-04T04:51:48.869Z"
   },
   {
    "duration": 2,
    "start_time": "2022-10-04T04:51:49.128Z"
   },
   {
    "duration": 6,
    "start_time": "2022-10-04T04:51:49.132Z"
   },
   {
    "duration": 5,
    "start_time": "2022-10-04T04:51:49.139Z"
   },
   {
    "duration": 52,
    "start_time": "2022-10-04T04:51:49.146Z"
   },
   {
    "duration": 117,
    "start_time": "2022-10-04T04:51:49.199Z"
   },
   {
    "duration": 2893,
    "start_time": "2022-10-04T04:51:49.318Z"
   },
   {
    "duration": 7,
    "start_time": "2022-10-04T04:51:52.212Z"
   },
   {
    "duration": 12,
    "start_time": "2022-10-04T04:51:52.220Z"
   },
   {
    "duration": 17,
    "start_time": "2022-10-04T04:51:52.234Z"
   },
   {
    "duration": 9,
    "start_time": "2022-10-04T04:51:52.253Z"
   },
   {
    "duration": 9,
    "start_time": "2022-10-04T04:51:52.263Z"
   },
   {
    "duration": 420,
    "start_time": "2022-10-04T06:00:28.186Z"
   },
   {
    "duration": 816,
    "start_time": "2022-10-04T06:00:28.608Z"
   },
   {
    "duration": 114,
    "start_time": "2022-10-04T06:00:29.425Z"
   },
   {
    "duration": 2,
    "start_time": "2022-10-04T06:00:29.542Z"
   },
   {
    "duration": 10,
    "start_time": "2022-10-04T06:00:29.546Z"
   },
   {
    "duration": 70,
    "start_time": "2022-10-04T06:00:29.558Z"
   },
   {
    "duration": 0,
    "start_time": "2022-10-04T06:00:29.631Z"
   },
   {
    "duration": 0,
    "start_time": "2022-10-04T06:00:29.632Z"
   },
   {
    "duration": 0,
    "start_time": "2022-10-04T06:00:29.633Z"
   },
   {
    "duration": 0,
    "start_time": "2022-10-04T06:00:29.634Z"
   },
   {
    "duration": 0,
    "start_time": "2022-10-04T06:00:29.634Z"
   },
   {
    "duration": 0,
    "start_time": "2022-10-04T06:00:29.636Z"
   },
   {
    "duration": 0,
    "start_time": "2022-10-04T06:00:29.637Z"
   },
   {
    "duration": 0,
    "start_time": "2022-10-04T06:00:29.637Z"
   },
   {
    "duration": 0,
    "start_time": "2022-10-04T06:00:29.638Z"
   },
   {
    "duration": 0,
    "start_time": "2022-10-04T06:00:29.639Z"
   },
   {
    "duration": 0,
    "start_time": "2022-10-04T06:00:29.640Z"
   },
   {
    "duration": 0,
    "start_time": "2022-10-04T06:00:29.641Z"
   },
   {
    "duration": 0,
    "start_time": "2022-10-04T06:00:29.642Z"
   },
   {
    "duration": 0,
    "start_time": "2022-10-04T06:00:29.643Z"
   },
   {
    "duration": 0,
    "start_time": "2022-10-04T06:00:29.645Z"
   },
   {
    "duration": 0,
    "start_time": "2022-10-04T06:00:29.646Z"
   },
   {
    "duration": 0,
    "start_time": "2022-10-04T06:00:29.647Z"
   },
   {
    "duration": 0,
    "start_time": "2022-10-04T06:00:29.648Z"
   },
   {
    "duration": 0,
    "start_time": "2022-10-04T06:00:29.649Z"
   },
   {
    "duration": 0,
    "start_time": "2022-10-04T06:00:29.650Z"
   },
   {
    "duration": 0,
    "start_time": "2022-10-04T06:00:29.651Z"
   },
   {
    "duration": 0,
    "start_time": "2022-10-04T06:00:29.652Z"
   },
   {
    "duration": 0,
    "start_time": "2022-10-04T06:00:29.653Z"
   },
   {
    "duration": 0,
    "start_time": "2022-10-04T06:00:29.654Z"
   },
   {
    "duration": 0,
    "start_time": "2022-10-04T06:00:29.655Z"
   },
   {
    "duration": 0,
    "start_time": "2022-10-04T06:00:29.695Z"
   },
   {
    "duration": 0,
    "start_time": "2022-10-04T06:00:29.696Z"
   },
   {
    "duration": 0,
    "start_time": "2022-10-04T06:00:29.697Z"
   },
   {
    "duration": 0,
    "start_time": "2022-10-04T06:00:29.698Z"
   },
   {
    "duration": 0,
    "start_time": "2022-10-04T06:00:29.699Z"
   },
   {
    "duration": 0,
    "start_time": "2022-10-04T06:00:29.700Z"
   },
   {
    "duration": 0,
    "start_time": "2022-10-04T06:00:29.701Z"
   },
   {
    "duration": 0,
    "start_time": "2022-10-04T06:00:29.702Z"
   },
   {
    "duration": 0,
    "start_time": "2022-10-04T06:00:29.703Z"
   },
   {
    "duration": 0,
    "start_time": "2022-10-04T06:00:29.704Z"
   },
   {
    "duration": 0,
    "start_time": "2022-10-04T06:00:29.705Z"
   },
   {
    "duration": 0,
    "start_time": "2022-10-04T06:00:29.706Z"
   },
   {
    "duration": 0,
    "start_time": "2022-10-04T06:00:29.706Z"
   },
   {
    "duration": 0,
    "start_time": "2022-10-04T06:00:29.708Z"
   },
   {
    "duration": 0,
    "start_time": "2022-10-04T06:00:29.708Z"
   },
   {
    "duration": 0,
    "start_time": "2022-10-04T06:00:29.709Z"
   },
   {
    "duration": 0,
    "start_time": "2022-10-04T06:00:29.710Z"
   },
   {
    "duration": 0,
    "start_time": "2022-10-04T06:00:29.711Z"
   },
   {
    "duration": 0,
    "start_time": "2022-10-04T06:00:29.712Z"
   },
   {
    "duration": 0,
    "start_time": "2022-10-04T06:00:29.713Z"
   },
   {
    "duration": 0,
    "start_time": "2022-10-04T06:00:29.713Z"
   },
   {
    "duration": 0,
    "start_time": "2022-10-04T06:00:29.714Z"
   },
   {
    "duration": 0,
    "start_time": "2022-10-04T06:00:29.715Z"
   },
   {
    "duration": 0,
    "start_time": "2022-10-04T06:00:29.716Z"
   },
   {
    "duration": 0,
    "start_time": "2022-10-04T06:00:29.717Z"
   },
   {
    "duration": 0,
    "start_time": "2022-10-04T06:00:29.718Z"
   },
   {
    "duration": 0,
    "start_time": "2022-10-04T06:00:29.719Z"
   },
   {
    "duration": 0,
    "start_time": "2022-10-04T06:00:29.720Z"
   },
   {
    "duration": 0,
    "start_time": "2022-10-04T06:00:29.720Z"
   },
   {
    "duration": 0,
    "start_time": "2022-10-04T06:00:29.721Z"
   },
   {
    "duration": 0,
    "start_time": "2022-10-04T06:00:29.722Z"
   },
   {
    "duration": 0,
    "start_time": "2022-10-04T06:00:29.723Z"
   },
   {
    "duration": 0,
    "start_time": "2022-10-04T06:00:29.724Z"
   },
   {
    "duration": 0,
    "start_time": "2022-10-04T06:00:29.725Z"
   },
   {
    "duration": 0,
    "start_time": "2022-10-04T06:00:29.726Z"
   },
   {
    "duration": 0,
    "start_time": "2022-10-04T06:00:29.727Z"
   },
   {
    "duration": 0,
    "start_time": "2022-10-04T06:00:29.728Z"
   },
   {
    "duration": 7,
    "start_time": "2022-10-04T06:00:41.234Z"
   },
   {
    "duration": 5,
    "start_time": "2022-10-04T06:00:49.508Z"
   },
   {
    "duration": 3,
    "start_time": "2022-10-04T06:00:54.313Z"
   },
   {
    "duration": 5,
    "start_time": "2022-10-04T06:48:20.932Z"
   },
   {
    "duration": 3,
    "start_time": "2022-10-04T06:48:24.195Z"
   },
   {
    "duration": 7,
    "start_time": "2022-10-04T06:48:28.823Z"
   },
   {
    "duration": 4,
    "start_time": "2022-10-04T06:48:31.602Z"
   },
   {
    "duration": 5,
    "start_time": "2022-10-04T06:48:43.568Z"
   },
   {
    "duration": 4,
    "start_time": "2022-10-04T06:48:47.987Z"
   },
   {
    "duration": 5,
    "start_time": "2022-10-04T06:48:50.899Z"
   },
   {
    "duration": 4,
    "start_time": "2022-10-04T06:48:52.971Z"
   },
   {
    "duration": 11,
    "start_time": "2022-10-04T06:49:07.178Z"
   },
   {
    "duration": 5,
    "start_time": "2022-10-04T06:52:37.994Z"
   },
   {
    "duration": 4,
    "start_time": "2022-10-04T06:52:42.453Z"
   },
   {
    "duration": 4,
    "start_time": "2022-10-04T06:59:14.211Z"
   },
   {
    "duration": 3,
    "start_time": "2022-10-04T06:59:18.276Z"
   },
   {
    "duration": 5,
    "start_time": "2022-10-04T06:59:28.905Z"
   },
   {
    "duration": 4,
    "start_time": "2022-10-04T06:59:31.035Z"
   },
   {
    "duration": 85,
    "start_time": "2022-10-04T07:00:07.017Z"
   },
   {
    "duration": 408,
    "start_time": "2022-10-04T07:00:19.331Z"
   },
   {
    "duration": 848,
    "start_time": "2022-10-04T07:00:19.741Z"
   },
   {
    "duration": 135,
    "start_time": "2022-10-04T07:00:20.598Z"
   },
   {
    "duration": 3,
    "start_time": "2022-10-04T07:00:20.735Z"
   },
   {
    "duration": 9,
    "start_time": "2022-10-04T07:00:20.739Z"
   },
   {
    "duration": 9,
    "start_time": "2022-10-04T07:00:20.750Z"
   },
   {
    "duration": 85,
    "start_time": "2022-10-04T07:00:20.761Z"
   },
   {
    "duration": 0,
    "start_time": "2022-10-04T07:00:20.852Z"
   },
   {
    "duration": 0,
    "start_time": "2022-10-04T07:00:20.854Z"
   },
   {
    "duration": 0,
    "start_time": "2022-10-04T07:00:20.855Z"
   },
   {
    "duration": 0,
    "start_time": "2022-10-04T07:00:20.858Z"
   },
   {
    "duration": 0,
    "start_time": "2022-10-04T07:00:20.860Z"
   },
   {
    "duration": 0,
    "start_time": "2022-10-04T07:00:20.861Z"
   },
   {
    "duration": 0,
    "start_time": "2022-10-04T07:00:20.862Z"
   },
   {
    "duration": 0,
    "start_time": "2022-10-04T07:00:20.864Z"
   },
   {
    "duration": 0,
    "start_time": "2022-10-04T07:00:20.866Z"
   },
   {
    "duration": 0,
    "start_time": "2022-10-04T07:00:20.868Z"
   },
   {
    "duration": 0,
    "start_time": "2022-10-04T07:00:20.869Z"
   },
   {
    "duration": 0,
    "start_time": "2022-10-04T07:00:20.871Z"
   },
   {
    "duration": 0,
    "start_time": "2022-10-04T07:00:20.872Z"
   },
   {
    "duration": 0,
    "start_time": "2022-10-04T07:00:20.874Z"
   },
   {
    "duration": 1,
    "start_time": "2022-10-04T07:00:20.875Z"
   },
   {
    "duration": 0,
    "start_time": "2022-10-04T07:00:20.878Z"
   },
   {
    "duration": 1,
    "start_time": "2022-10-04T07:00:20.880Z"
   },
   {
    "duration": 0,
    "start_time": "2022-10-04T07:00:20.882Z"
   },
   {
    "duration": 0,
    "start_time": "2022-10-04T07:00:20.884Z"
   },
   {
    "duration": 0,
    "start_time": "2022-10-04T07:00:20.885Z"
   },
   {
    "duration": 0,
    "start_time": "2022-10-04T07:00:20.887Z"
   },
   {
    "duration": 0,
    "start_time": "2022-10-04T07:00:20.888Z"
   },
   {
    "duration": 0,
    "start_time": "2022-10-04T07:00:20.902Z"
   },
   {
    "duration": 0,
    "start_time": "2022-10-04T07:00:20.903Z"
   },
   {
    "duration": 0,
    "start_time": "2022-10-04T07:00:20.904Z"
   },
   {
    "duration": 0,
    "start_time": "2022-10-04T07:00:20.905Z"
   },
   {
    "duration": 0,
    "start_time": "2022-10-04T07:00:20.905Z"
   },
   {
    "duration": 0,
    "start_time": "2022-10-04T07:00:20.906Z"
   },
   {
    "duration": 0,
    "start_time": "2022-10-04T07:00:20.908Z"
   },
   {
    "duration": 0,
    "start_time": "2022-10-04T07:00:20.910Z"
   },
   {
    "duration": 0,
    "start_time": "2022-10-04T07:00:20.911Z"
   },
   {
    "duration": 0,
    "start_time": "2022-10-04T07:00:20.912Z"
   },
   {
    "duration": 0,
    "start_time": "2022-10-04T07:00:20.913Z"
   },
   {
    "duration": 0,
    "start_time": "2022-10-04T07:00:20.914Z"
   },
   {
    "duration": 0,
    "start_time": "2022-10-04T07:00:20.915Z"
   },
   {
    "duration": 0,
    "start_time": "2022-10-04T07:00:20.917Z"
   },
   {
    "duration": 0,
    "start_time": "2022-10-04T07:00:20.919Z"
   },
   {
    "duration": 0,
    "start_time": "2022-10-04T07:00:20.920Z"
   },
   {
    "duration": 0,
    "start_time": "2022-10-04T07:00:20.921Z"
   },
   {
    "duration": 0,
    "start_time": "2022-10-04T07:00:20.923Z"
   },
   {
    "duration": 1,
    "start_time": "2022-10-04T07:00:20.924Z"
   },
   {
    "duration": 0,
    "start_time": "2022-10-04T07:00:20.926Z"
   },
   {
    "duration": 0,
    "start_time": "2022-10-04T07:00:20.927Z"
   },
   {
    "duration": 0,
    "start_time": "2022-10-04T07:00:20.928Z"
   },
   {
    "duration": 0,
    "start_time": "2022-10-04T07:00:20.929Z"
   },
   {
    "duration": 0,
    "start_time": "2022-10-04T07:00:20.930Z"
   },
   {
    "duration": 0,
    "start_time": "2022-10-04T07:00:20.931Z"
   },
   {
    "duration": 0,
    "start_time": "2022-10-04T07:00:20.932Z"
   },
   {
    "duration": 0,
    "start_time": "2022-10-04T07:00:20.933Z"
   },
   {
    "duration": 0,
    "start_time": "2022-10-04T07:00:20.934Z"
   },
   {
    "duration": 0,
    "start_time": "2022-10-04T07:00:20.935Z"
   },
   {
    "duration": 0,
    "start_time": "2022-10-04T07:00:20.996Z"
   },
   {
    "duration": 0,
    "start_time": "2022-10-04T07:00:20.997Z"
   },
   {
    "duration": 0,
    "start_time": "2022-10-04T07:00:20.997Z"
   },
   {
    "duration": 0,
    "start_time": "2022-10-04T07:00:20.998Z"
   },
   {
    "duration": 0,
    "start_time": "2022-10-04T07:00:20.998Z"
   },
   {
    "duration": 0,
    "start_time": "2022-10-04T07:00:20.999Z"
   },
   {
    "duration": 0,
    "start_time": "2022-10-04T07:00:21.000Z"
   },
   {
    "duration": 0,
    "start_time": "2022-10-04T07:00:21.000Z"
   },
   {
    "duration": 0,
    "start_time": "2022-10-04T07:00:21.001Z"
   },
   {
    "duration": 0,
    "start_time": "2022-10-04T07:00:21.001Z"
   },
   {
    "duration": 4,
    "start_time": "2022-10-04T07:00:46.480Z"
   },
   {
    "duration": 369,
    "start_time": "2022-10-04T07:00:59.855Z"
   },
   {
    "duration": 815,
    "start_time": "2022-10-04T07:01:00.226Z"
   },
   {
    "duration": 128,
    "start_time": "2022-10-04T07:01:01.043Z"
   },
   {
    "duration": 2,
    "start_time": "2022-10-04T07:01:01.173Z"
   },
   {
    "duration": 36,
    "start_time": "2022-10-04T07:01:01.177Z"
   },
   {
    "duration": 15,
    "start_time": "2022-10-04T07:01:01.215Z"
   },
   {
    "duration": 120,
    "start_time": "2022-10-04T07:01:01.232Z"
   },
   {
    "duration": 0,
    "start_time": "2022-10-04T07:01:01.356Z"
   },
   {
    "duration": 0,
    "start_time": "2022-10-04T07:01:01.357Z"
   },
   {
    "duration": 0,
    "start_time": "2022-10-04T07:01:01.359Z"
   },
   {
    "duration": 1,
    "start_time": "2022-10-04T07:01:01.361Z"
   },
   {
    "duration": 0,
    "start_time": "2022-10-04T07:01:01.363Z"
   },
   {
    "duration": 0,
    "start_time": "2022-10-04T07:01:01.365Z"
   },
   {
    "duration": 0,
    "start_time": "2022-10-04T07:01:01.366Z"
   },
   {
    "duration": 0,
    "start_time": "2022-10-04T07:01:01.367Z"
   },
   {
    "duration": 0,
    "start_time": "2022-10-04T07:01:01.368Z"
   },
   {
    "duration": 0,
    "start_time": "2022-10-04T07:01:01.369Z"
   },
   {
    "duration": 0,
    "start_time": "2022-10-04T07:01:01.370Z"
   },
   {
    "duration": 0,
    "start_time": "2022-10-04T07:01:01.371Z"
   },
   {
    "duration": 0,
    "start_time": "2022-10-04T07:01:01.372Z"
   },
   {
    "duration": 0,
    "start_time": "2022-10-04T07:01:01.373Z"
   },
   {
    "duration": 0,
    "start_time": "2022-10-04T07:01:01.376Z"
   },
   {
    "duration": 0,
    "start_time": "2022-10-04T07:01:01.377Z"
   },
   {
    "duration": 0,
    "start_time": "2022-10-04T07:01:01.378Z"
   },
   {
    "duration": 0,
    "start_time": "2022-10-04T07:01:01.379Z"
   },
   {
    "duration": 0,
    "start_time": "2022-10-04T07:01:01.380Z"
   },
   {
    "duration": 0,
    "start_time": "2022-10-04T07:01:01.381Z"
   },
   {
    "duration": 0,
    "start_time": "2022-10-04T07:01:01.381Z"
   },
   {
    "duration": 0,
    "start_time": "2022-10-04T07:01:01.383Z"
   },
   {
    "duration": 0,
    "start_time": "2022-10-04T07:01:01.384Z"
   },
   {
    "duration": 0,
    "start_time": "2022-10-04T07:01:01.386Z"
   },
   {
    "duration": 0,
    "start_time": "2022-10-04T07:01:01.387Z"
   },
   {
    "duration": 0,
    "start_time": "2022-10-04T07:01:01.389Z"
   },
   {
    "duration": 0,
    "start_time": "2022-10-04T07:01:01.390Z"
   },
   {
    "duration": 0,
    "start_time": "2022-10-04T07:01:01.392Z"
   },
   {
    "duration": 0,
    "start_time": "2022-10-04T07:01:01.393Z"
   },
   {
    "duration": 0,
    "start_time": "2022-10-04T07:01:01.394Z"
   },
   {
    "duration": 0,
    "start_time": "2022-10-04T07:01:01.405Z"
   },
   {
    "duration": 0,
    "start_time": "2022-10-04T07:01:01.406Z"
   },
   {
    "duration": 0,
    "start_time": "2022-10-04T07:01:01.407Z"
   },
   {
    "duration": 0,
    "start_time": "2022-10-04T07:01:01.408Z"
   },
   {
    "duration": 0,
    "start_time": "2022-10-04T07:01:01.408Z"
   },
   {
    "duration": 0,
    "start_time": "2022-10-04T07:01:01.409Z"
   },
   {
    "duration": 0,
    "start_time": "2022-10-04T07:01:01.410Z"
   },
   {
    "duration": 0,
    "start_time": "2022-10-04T07:01:01.411Z"
   },
   {
    "duration": 0,
    "start_time": "2022-10-04T07:01:01.414Z"
   },
   {
    "duration": 0,
    "start_time": "2022-10-04T07:01:01.415Z"
   },
   {
    "duration": 0,
    "start_time": "2022-10-04T07:01:01.416Z"
   },
   {
    "duration": 0,
    "start_time": "2022-10-04T07:01:01.417Z"
   },
   {
    "duration": 0,
    "start_time": "2022-10-04T07:01:01.419Z"
   },
   {
    "duration": 0,
    "start_time": "2022-10-04T07:01:01.420Z"
   },
   {
    "duration": 0,
    "start_time": "2022-10-04T07:01:01.422Z"
   },
   {
    "duration": 0,
    "start_time": "2022-10-04T07:01:01.423Z"
   },
   {
    "duration": 0,
    "start_time": "2022-10-04T07:01:01.426Z"
   },
   {
    "duration": 0,
    "start_time": "2022-10-04T07:01:01.427Z"
   },
   {
    "duration": 0,
    "start_time": "2022-10-04T07:01:01.428Z"
   },
   {
    "duration": 0,
    "start_time": "2022-10-04T07:01:01.429Z"
   },
   {
    "duration": 0,
    "start_time": "2022-10-04T07:01:01.430Z"
   },
   {
    "duration": 0,
    "start_time": "2022-10-04T07:01:01.431Z"
   },
   {
    "duration": 0,
    "start_time": "2022-10-04T07:01:01.433Z"
   },
   {
    "duration": 0,
    "start_time": "2022-10-04T07:01:01.434Z"
   },
   {
    "duration": 0,
    "start_time": "2022-10-04T07:01:01.435Z"
   },
   {
    "duration": 1,
    "start_time": "2022-10-04T07:01:01.436Z"
   },
   {
    "duration": 0,
    "start_time": "2022-10-04T07:01:01.438Z"
   },
   {
    "duration": 0,
    "start_time": "2022-10-04T07:01:01.440Z"
   },
   {
    "duration": 0,
    "start_time": "2022-10-04T07:01:01.442Z"
   },
   {
    "duration": 0,
    "start_time": "2022-10-04T07:01:01.443Z"
   },
   {
    "duration": 0,
    "start_time": "2022-10-04T07:01:01.496Z"
   },
   {
    "duration": 4,
    "start_time": "2022-10-04T07:01:08.371Z"
   },
   {
    "duration": 403,
    "start_time": "2022-10-04T07:01:40.300Z"
   },
   {
    "duration": 834,
    "start_time": "2022-10-04T07:01:40.712Z"
   },
   {
    "duration": 148,
    "start_time": "2022-10-04T07:01:41.548Z"
   },
   {
    "duration": 11,
    "start_time": "2022-10-04T07:01:41.700Z"
   },
   {
    "duration": 10,
    "start_time": "2022-10-04T07:01:41.712Z"
   },
   {
    "duration": 86,
    "start_time": "2022-10-04T07:01:41.723Z"
   },
   {
    "duration": 0,
    "start_time": "2022-10-04T07:01:41.812Z"
   },
   {
    "duration": 0,
    "start_time": "2022-10-04T07:01:41.814Z"
   },
   {
    "duration": 0,
    "start_time": "2022-10-04T07:01:41.815Z"
   },
   {
    "duration": 0,
    "start_time": "2022-10-04T07:01:41.816Z"
   },
   {
    "duration": 0,
    "start_time": "2022-10-04T07:01:41.818Z"
   },
   {
    "duration": 0,
    "start_time": "2022-10-04T07:01:41.819Z"
   },
   {
    "duration": 0,
    "start_time": "2022-10-04T07:01:41.820Z"
   },
   {
    "duration": 0,
    "start_time": "2022-10-04T07:01:41.821Z"
   },
   {
    "duration": 0,
    "start_time": "2022-10-04T07:01:41.822Z"
   },
   {
    "duration": 0,
    "start_time": "2022-10-04T07:01:41.824Z"
   },
   {
    "duration": 0,
    "start_time": "2022-10-04T07:01:41.825Z"
   },
   {
    "duration": 0,
    "start_time": "2022-10-04T07:01:41.826Z"
   },
   {
    "duration": 0,
    "start_time": "2022-10-04T07:01:41.827Z"
   },
   {
    "duration": 0,
    "start_time": "2022-10-04T07:01:41.829Z"
   },
   {
    "duration": 0,
    "start_time": "2022-10-04T07:01:41.830Z"
   },
   {
    "duration": 0,
    "start_time": "2022-10-04T07:01:41.830Z"
   },
   {
    "duration": 0,
    "start_time": "2022-10-04T07:01:41.831Z"
   },
   {
    "duration": 0,
    "start_time": "2022-10-04T07:01:41.832Z"
   },
   {
    "duration": 0,
    "start_time": "2022-10-04T07:01:41.833Z"
   },
   {
    "duration": 0,
    "start_time": "2022-10-04T07:01:41.834Z"
   },
   {
    "duration": 0,
    "start_time": "2022-10-04T07:01:41.835Z"
   },
   {
    "duration": 0,
    "start_time": "2022-10-04T07:01:41.836Z"
   },
   {
    "duration": 0,
    "start_time": "2022-10-04T07:01:41.838Z"
   },
   {
    "duration": 0,
    "start_time": "2022-10-04T07:01:41.839Z"
   },
   {
    "duration": 0,
    "start_time": "2022-10-04T07:01:41.840Z"
   },
   {
    "duration": 0,
    "start_time": "2022-10-04T07:01:41.842Z"
   },
   {
    "duration": 0,
    "start_time": "2022-10-04T07:01:41.843Z"
   },
   {
    "duration": 0,
    "start_time": "2022-10-04T07:01:41.845Z"
   },
   {
    "duration": 0,
    "start_time": "2022-10-04T07:01:41.846Z"
   },
   {
    "duration": 0,
    "start_time": "2022-10-04T07:01:41.847Z"
   },
   {
    "duration": 0,
    "start_time": "2022-10-04T07:01:41.848Z"
   },
   {
    "duration": 0,
    "start_time": "2022-10-04T07:01:41.849Z"
   },
   {
    "duration": 0,
    "start_time": "2022-10-04T07:01:41.850Z"
   },
   {
    "duration": 0,
    "start_time": "2022-10-04T07:01:41.900Z"
   },
   {
    "duration": 0,
    "start_time": "2022-10-04T07:01:41.901Z"
   },
   {
    "duration": 1,
    "start_time": "2022-10-04T07:01:41.901Z"
   },
   {
    "duration": 0,
    "start_time": "2022-10-04T07:01:41.902Z"
   },
   {
    "duration": 0,
    "start_time": "2022-10-04T07:01:41.903Z"
   },
   {
    "duration": 0,
    "start_time": "2022-10-04T07:01:41.904Z"
   },
   {
    "duration": 0,
    "start_time": "2022-10-04T07:01:41.904Z"
   },
   {
    "duration": 0,
    "start_time": "2022-10-04T07:01:41.905Z"
   },
   {
    "duration": 0,
    "start_time": "2022-10-04T07:01:41.906Z"
   },
   {
    "duration": 0,
    "start_time": "2022-10-04T07:01:41.906Z"
   },
   {
    "duration": 0,
    "start_time": "2022-10-04T07:01:41.907Z"
   },
   {
    "duration": 0,
    "start_time": "2022-10-04T07:01:41.908Z"
   },
   {
    "duration": 0,
    "start_time": "2022-10-04T07:01:41.908Z"
   },
   {
    "duration": 0,
    "start_time": "2022-10-04T07:01:41.909Z"
   },
   {
    "duration": 0,
    "start_time": "2022-10-04T07:01:41.909Z"
   },
   {
    "duration": 0,
    "start_time": "2022-10-04T07:01:41.910Z"
   },
   {
    "duration": 0,
    "start_time": "2022-10-04T07:01:41.911Z"
   },
   {
    "duration": 0,
    "start_time": "2022-10-04T07:01:41.913Z"
   },
   {
    "duration": 0,
    "start_time": "2022-10-04T07:01:41.914Z"
   },
   {
    "duration": 0,
    "start_time": "2022-10-04T07:01:41.915Z"
   },
   {
    "duration": 0,
    "start_time": "2022-10-04T07:01:41.916Z"
   },
   {
    "duration": 0,
    "start_time": "2022-10-04T07:01:41.917Z"
   },
   {
    "duration": 0,
    "start_time": "2022-10-04T07:01:41.918Z"
   },
   {
    "duration": 0,
    "start_time": "2022-10-04T07:01:41.919Z"
   },
   {
    "duration": 0,
    "start_time": "2022-10-04T07:01:41.920Z"
   },
   {
    "duration": 0,
    "start_time": "2022-10-04T07:01:41.921Z"
   },
   {
    "duration": 0,
    "start_time": "2022-10-04T07:01:41.922Z"
   },
   {
    "duration": 0,
    "start_time": "2022-10-04T07:01:41.923Z"
   },
   {
    "duration": 4,
    "start_time": "2022-10-04T07:06:11.420Z"
   },
   {
    "duration": 4,
    "start_time": "2022-10-04T07:06:13.675Z"
   },
   {
    "duration": 364,
    "start_time": "2022-10-04T07:06:20.240Z"
   },
   {
    "duration": 797,
    "start_time": "2022-10-04T07:06:20.605Z"
   },
   {
    "duration": 125,
    "start_time": "2022-10-04T07:06:21.404Z"
   },
   {
    "duration": 5,
    "start_time": "2022-10-04T07:06:21.531Z"
   },
   {
    "duration": 6,
    "start_time": "2022-10-04T07:06:21.537Z"
   },
   {
    "duration": 84,
    "start_time": "2022-10-04T07:06:21.544Z"
   },
   {
    "duration": 0,
    "start_time": "2022-10-04T07:06:21.631Z"
   },
   {
    "duration": 0,
    "start_time": "2022-10-04T07:06:21.632Z"
   },
   {
    "duration": 0,
    "start_time": "2022-10-04T07:06:21.633Z"
   },
   {
    "duration": 0,
    "start_time": "2022-10-04T07:06:21.634Z"
   },
   {
    "duration": 0,
    "start_time": "2022-10-04T07:06:21.636Z"
   },
   {
    "duration": 0,
    "start_time": "2022-10-04T07:06:21.636Z"
   },
   {
    "duration": 0,
    "start_time": "2022-10-04T07:06:21.637Z"
   },
   {
    "duration": 0,
    "start_time": "2022-10-04T07:06:21.638Z"
   },
   {
    "duration": 0,
    "start_time": "2022-10-04T07:06:21.639Z"
   },
   {
    "duration": 0,
    "start_time": "2022-10-04T07:06:21.640Z"
   },
   {
    "duration": 0,
    "start_time": "2022-10-04T07:06:21.642Z"
   },
   {
    "duration": 0,
    "start_time": "2022-10-04T07:06:21.643Z"
   },
   {
    "duration": 0,
    "start_time": "2022-10-04T07:06:21.644Z"
   },
   {
    "duration": 0,
    "start_time": "2022-10-04T07:06:21.645Z"
   },
   {
    "duration": 0,
    "start_time": "2022-10-04T07:06:21.646Z"
   },
   {
    "duration": 0,
    "start_time": "2022-10-04T07:06:21.647Z"
   },
   {
    "duration": 0,
    "start_time": "2022-10-04T07:06:21.648Z"
   },
   {
    "duration": 0,
    "start_time": "2022-10-04T07:06:21.649Z"
   },
   {
    "duration": 0,
    "start_time": "2022-10-04T07:06:21.650Z"
   },
   {
    "duration": 0,
    "start_time": "2022-10-04T07:06:21.651Z"
   },
   {
    "duration": 0,
    "start_time": "2022-10-04T07:06:21.652Z"
   },
   {
    "duration": 0,
    "start_time": "2022-10-04T07:06:21.653Z"
   },
   {
    "duration": 0,
    "start_time": "2022-10-04T07:06:21.654Z"
   },
   {
    "duration": 0,
    "start_time": "2022-10-04T07:06:21.655Z"
   },
   {
    "duration": 0,
    "start_time": "2022-10-04T07:06:21.656Z"
   },
   {
    "duration": 0,
    "start_time": "2022-10-04T07:06:21.657Z"
   },
   {
    "duration": 0,
    "start_time": "2022-10-04T07:06:21.658Z"
   },
   {
    "duration": 0,
    "start_time": "2022-10-04T07:06:21.659Z"
   },
   {
    "duration": 0,
    "start_time": "2022-10-04T07:06:21.661Z"
   },
   {
    "duration": 0,
    "start_time": "2022-10-04T07:06:21.662Z"
   },
   {
    "duration": 0,
    "start_time": "2022-10-04T07:06:21.663Z"
   },
   {
    "duration": 0,
    "start_time": "2022-10-04T07:06:21.664Z"
   },
   {
    "duration": 0,
    "start_time": "2022-10-04T07:06:21.665Z"
   },
   {
    "duration": 0,
    "start_time": "2022-10-04T07:06:21.666Z"
   },
   {
    "duration": 0,
    "start_time": "2022-10-04T07:06:21.667Z"
   },
   {
    "duration": 0,
    "start_time": "2022-10-04T07:06:21.695Z"
   },
   {
    "duration": 0,
    "start_time": "2022-10-04T07:06:21.696Z"
   },
   {
    "duration": 0,
    "start_time": "2022-10-04T07:06:21.697Z"
   },
   {
    "duration": 0,
    "start_time": "2022-10-04T07:06:21.698Z"
   },
   {
    "duration": 0,
    "start_time": "2022-10-04T07:06:21.699Z"
   },
   {
    "duration": 0,
    "start_time": "2022-10-04T07:06:21.700Z"
   },
   {
    "duration": 0,
    "start_time": "2022-10-04T07:06:21.701Z"
   },
   {
    "duration": 0,
    "start_time": "2022-10-04T07:06:21.702Z"
   },
   {
    "duration": 0,
    "start_time": "2022-10-04T07:06:21.703Z"
   },
   {
    "duration": 0,
    "start_time": "2022-10-04T07:06:21.704Z"
   },
   {
    "duration": 0,
    "start_time": "2022-10-04T07:06:21.705Z"
   },
   {
    "duration": 0,
    "start_time": "2022-10-04T07:06:21.706Z"
   },
   {
    "duration": 0,
    "start_time": "2022-10-04T07:06:21.706Z"
   },
   {
    "duration": 0,
    "start_time": "2022-10-04T07:06:21.707Z"
   },
   {
    "duration": 0,
    "start_time": "2022-10-04T07:06:21.708Z"
   },
   {
    "duration": 0,
    "start_time": "2022-10-04T07:06:21.709Z"
   },
   {
    "duration": 0,
    "start_time": "2022-10-04T07:06:21.710Z"
   },
   {
    "duration": 0,
    "start_time": "2022-10-04T07:06:21.711Z"
   },
   {
    "duration": 0,
    "start_time": "2022-10-04T07:06:21.712Z"
   },
   {
    "duration": 0,
    "start_time": "2022-10-04T07:06:21.713Z"
   },
   {
    "duration": 0,
    "start_time": "2022-10-04T07:06:21.714Z"
   },
   {
    "duration": 0,
    "start_time": "2022-10-04T07:06:21.715Z"
   },
   {
    "duration": 0,
    "start_time": "2022-10-04T07:06:21.716Z"
   },
   {
    "duration": 0,
    "start_time": "2022-10-04T07:06:21.717Z"
   },
   {
    "duration": 0,
    "start_time": "2022-10-04T07:06:21.718Z"
   },
   {
    "duration": 0,
    "start_time": "2022-10-04T07:06:21.719Z"
   },
   {
    "duration": 417,
    "start_time": "2022-10-04T07:06:59.169Z"
   },
   {
    "duration": 782,
    "start_time": "2022-10-04T07:06:59.588Z"
   },
   {
    "duration": 124,
    "start_time": "2022-10-04T07:07:00.372Z"
   },
   {
    "duration": 4,
    "start_time": "2022-10-04T07:07:00.498Z"
   },
   {
    "duration": 19,
    "start_time": "2022-10-04T07:07:00.504Z"
   },
   {
    "duration": 117,
    "start_time": "2022-10-04T07:07:00.524Z"
   },
   {
    "duration": 114,
    "start_time": "2022-10-04T07:07:00.642Z"
   },
   {
    "duration": 130,
    "start_time": "2022-10-04T07:07:00.757Z"
   },
   {
    "duration": 20,
    "start_time": "2022-10-04T07:07:00.888Z"
   },
   {
    "duration": 5,
    "start_time": "2022-10-04T07:07:00.910Z"
   },
   {
    "duration": 12,
    "start_time": "2022-10-04T07:07:00.917Z"
   },
   {
    "duration": 34,
    "start_time": "2022-10-04T07:07:00.930Z"
   },
   {
    "duration": 42,
    "start_time": "2022-10-04T07:07:00.966Z"
   },
   {
    "duration": 29,
    "start_time": "2022-10-04T07:07:01.010Z"
   },
   {
    "duration": 35,
    "start_time": "2022-10-04T07:07:01.040Z"
   },
   {
    "duration": 34,
    "start_time": "2022-10-04T07:07:01.076Z"
   },
   {
    "duration": 21,
    "start_time": "2022-10-04T07:07:01.111Z"
   },
   {
    "duration": 46,
    "start_time": "2022-10-04T07:07:01.134Z"
   },
   {
    "duration": 27,
    "start_time": "2022-10-04T07:07:01.181Z"
   },
   {
    "duration": 36,
    "start_time": "2022-10-04T07:07:01.210Z"
   },
   {
    "duration": 25,
    "start_time": "2022-10-04T07:07:01.247Z"
   },
   {
    "duration": 36,
    "start_time": "2022-10-04T07:07:01.274Z"
   },
   {
    "duration": 25,
    "start_time": "2022-10-04T07:07:01.312Z"
   },
   {
    "duration": 32,
    "start_time": "2022-10-04T07:07:01.338Z"
   },
   {
    "duration": 40,
    "start_time": "2022-10-04T07:07:01.372Z"
   },
   {
    "duration": 28,
    "start_time": "2022-10-04T07:07:01.414Z"
   },
   {
    "duration": 17,
    "start_time": "2022-10-04T07:07:01.443Z"
   },
   {
    "duration": 48,
    "start_time": "2022-10-04T07:07:01.464Z"
   },
   {
    "duration": 20,
    "start_time": "2022-10-04T07:07:01.514Z"
   },
   {
    "duration": 29,
    "start_time": "2022-10-04T07:07:01.536Z"
   },
   {
    "duration": 35,
    "start_time": "2022-10-04T07:07:01.566Z"
   },
   {
    "duration": 120,
    "start_time": "2022-10-04T07:07:01.603Z"
   },
   {
    "duration": 1560,
    "start_time": "2022-10-04T07:07:01.725Z"
   },
   {
    "duration": 0,
    "start_time": "2022-10-04T07:07:03.287Z"
   },
   {
    "duration": 0,
    "start_time": "2022-10-04T07:07:03.288Z"
   },
   {
    "duration": 0,
    "start_time": "2022-10-04T07:07:03.289Z"
   },
   {
    "duration": 0,
    "start_time": "2022-10-04T07:07:03.290Z"
   },
   {
    "duration": 0,
    "start_time": "2022-10-04T07:07:03.291Z"
   },
   {
    "duration": 0,
    "start_time": "2022-10-04T07:07:03.292Z"
   },
   {
    "duration": 0,
    "start_time": "2022-10-04T07:07:03.293Z"
   },
   {
    "duration": 0,
    "start_time": "2022-10-04T07:07:03.293Z"
   },
   {
    "duration": 0,
    "start_time": "2022-10-04T07:07:03.295Z"
   },
   {
    "duration": 0,
    "start_time": "2022-10-04T07:07:03.296Z"
   },
   {
    "duration": 0,
    "start_time": "2022-10-04T07:07:03.298Z"
   },
   {
    "duration": 0,
    "start_time": "2022-10-04T07:07:03.299Z"
   },
   {
    "duration": 0,
    "start_time": "2022-10-04T07:07:03.301Z"
   },
   {
    "duration": 0,
    "start_time": "2022-10-04T07:07:03.302Z"
   },
   {
    "duration": 0,
    "start_time": "2022-10-04T07:07:03.303Z"
   },
   {
    "duration": 0,
    "start_time": "2022-10-04T07:07:03.305Z"
   },
   {
    "duration": 0,
    "start_time": "2022-10-04T07:07:03.308Z"
   },
   {
    "duration": 0,
    "start_time": "2022-10-04T07:07:03.309Z"
   },
   {
    "duration": 0,
    "start_time": "2022-10-04T07:07:03.310Z"
   },
   {
    "duration": 0,
    "start_time": "2022-10-04T07:07:03.312Z"
   },
   {
    "duration": 0,
    "start_time": "2022-10-04T07:07:03.313Z"
   },
   {
    "duration": 1,
    "start_time": "2022-10-04T07:07:03.314Z"
   },
   {
    "duration": 0,
    "start_time": "2022-10-04T07:07:03.316Z"
   },
   {
    "duration": 0,
    "start_time": "2022-10-04T07:07:03.317Z"
   },
   {
    "duration": 0,
    "start_time": "2022-10-04T07:07:03.318Z"
   },
   {
    "duration": 0,
    "start_time": "2022-10-04T07:07:03.319Z"
   },
   {
    "duration": 0,
    "start_time": "2022-10-04T07:07:03.320Z"
   },
   {
    "duration": 0,
    "start_time": "2022-10-04T07:07:03.321Z"
   },
   {
    "duration": 0,
    "start_time": "2022-10-04T07:07:03.323Z"
   },
   {
    "duration": 0,
    "start_time": "2022-10-04T07:07:03.324Z"
   },
   {
    "duration": 0,
    "start_time": "2022-10-04T07:07:03.325Z"
   },
   {
    "duration": 0,
    "start_time": "2022-10-04T07:07:03.327Z"
   },
   {
    "duration": 0,
    "start_time": "2022-10-04T07:07:03.328Z"
   },
   {
    "duration": 0,
    "start_time": "2022-10-04T07:07:03.330Z"
   },
   {
    "duration": 121,
    "start_time": "2022-10-04T07:07:37.277Z"
   },
   {
    "duration": 97,
    "start_time": "2022-10-04T07:07:38.627Z"
   },
   {
    "duration": 114,
    "start_time": "2022-10-04T07:07:46.645Z"
   },
   {
    "duration": 74,
    "start_time": "2022-10-04T07:07:47.139Z"
   },
   {
    "duration": 389,
    "start_time": "2022-10-04T07:15:03.310Z"
   },
   {
    "duration": 813,
    "start_time": "2022-10-04T07:15:03.701Z"
   },
   {
    "duration": 117,
    "start_time": "2022-10-04T07:15:04.515Z"
   },
   {
    "duration": 5,
    "start_time": "2022-10-04T07:15:04.633Z"
   },
   {
    "duration": 7,
    "start_time": "2022-10-04T07:15:04.640Z"
   },
   {
    "duration": 107,
    "start_time": "2022-10-04T07:15:04.649Z"
   },
   {
    "duration": 106,
    "start_time": "2022-10-04T07:15:04.758Z"
   },
   {
    "duration": 107,
    "start_time": "2022-10-04T07:15:04.866Z"
   },
   {
    "duration": 27,
    "start_time": "2022-10-04T07:15:04.975Z"
   },
   {
    "duration": 4,
    "start_time": "2022-10-04T07:15:05.004Z"
   },
   {
    "duration": 11,
    "start_time": "2022-10-04T07:15:05.009Z"
   },
   {
    "duration": 33,
    "start_time": "2022-10-04T07:15:05.021Z"
   },
   {
    "duration": 44,
    "start_time": "2022-10-04T07:15:05.056Z"
   },
   {
    "duration": 28,
    "start_time": "2022-10-04T07:15:05.101Z"
   },
   {
    "duration": 15,
    "start_time": "2022-10-04T07:15:05.131Z"
   },
   {
    "duration": 52,
    "start_time": "2022-10-04T07:15:05.147Z"
   },
   {
    "duration": 29,
    "start_time": "2022-10-04T07:15:05.201Z"
   },
   {
    "duration": 34,
    "start_time": "2022-10-04T07:15:05.232Z"
   },
   {
    "duration": 14,
    "start_time": "2022-10-04T07:15:05.268Z"
   },
   {
    "duration": 40,
    "start_time": "2022-10-04T07:15:05.284Z"
   },
   {
    "duration": 21,
    "start_time": "2022-10-04T07:15:05.326Z"
   },
   {
    "duration": 47,
    "start_time": "2022-10-04T07:15:05.349Z"
   },
   {
    "duration": 16,
    "start_time": "2022-10-04T07:15:05.397Z"
   },
   {
    "duration": 32,
    "start_time": "2022-10-04T07:15:05.414Z"
   },
   {
    "duration": 18,
    "start_time": "2022-10-04T07:15:05.448Z"
   },
   {
    "duration": 28,
    "start_time": "2022-10-04T07:15:05.495Z"
   },
   {
    "duration": 15,
    "start_time": "2022-10-04T07:15:05.525Z"
   },
   {
    "duration": 54,
    "start_time": "2022-10-04T07:15:05.545Z"
   },
   {
    "duration": 18,
    "start_time": "2022-10-04T07:15:05.601Z"
   },
   {
    "duration": 32,
    "start_time": "2022-10-04T07:15:05.621Z"
   },
   {
    "duration": 40,
    "start_time": "2022-10-04T07:15:05.655Z"
   },
   {
    "duration": 114,
    "start_time": "2022-10-04T07:15:05.697Z"
   },
   {
    "duration": 299,
    "start_time": "2022-10-04T07:15:05.813Z"
   },
   {
    "duration": 83,
    "start_time": "2022-10-04T07:15:06.114Z"
   },
   {
    "duration": 308,
    "start_time": "2022-10-04T07:15:06.199Z"
   },
   {
    "duration": 370,
    "start_time": "2022-10-04T07:15:06.511Z"
   },
   {
    "duration": 291,
    "start_time": "2022-10-04T07:15:06.883Z"
   },
   {
    "duration": 74,
    "start_time": "2022-10-04T07:15:07.177Z"
   },
   {
    "duration": 0,
    "start_time": "2022-10-04T07:15:07.253Z"
   },
   {
    "duration": 0,
    "start_time": "2022-10-04T07:15:07.255Z"
   },
   {
    "duration": 0,
    "start_time": "2022-10-04T07:15:07.256Z"
   },
   {
    "duration": 0,
    "start_time": "2022-10-04T07:15:07.257Z"
   },
   {
    "duration": 0,
    "start_time": "2022-10-04T07:15:07.258Z"
   },
   {
    "duration": 0,
    "start_time": "2022-10-04T07:15:07.259Z"
   },
   {
    "duration": 0,
    "start_time": "2022-10-04T07:15:07.260Z"
   },
   {
    "duration": 0,
    "start_time": "2022-10-04T07:15:07.261Z"
   },
   {
    "duration": 0,
    "start_time": "2022-10-04T07:15:07.262Z"
   },
   {
    "duration": 0,
    "start_time": "2022-10-04T07:15:07.263Z"
   },
   {
    "duration": 0,
    "start_time": "2022-10-04T07:15:07.265Z"
   },
   {
    "duration": 0,
    "start_time": "2022-10-04T07:15:07.266Z"
   },
   {
    "duration": 0,
    "start_time": "2022-10-04T07:15:07.295Z"
   },
   {
    "duration": 0,
    "start_time": "2022-10-04T07:15:07.297Z"
   },
   {
    "duration": 0,
    "start_time": "2022-10-04T07:15:07.298Z"
   },
   {
    "duration": 0,
    "start_time": "2022-10-04T07:15:07.299Z"
   },
   {
    "duration": 0,
    "start_time": "2022-10-04T07:15:07.300Z"
   },
   {
    "duration": 0,
    "start_time": "2022-10-04T07:15:07.301Z"
   },
   {
    "duration": 0,
    "start_time": "2022-10-04T07:15:07.302Z"
   },
   {
    "duration": 0,
    "start_time": "2022-10-04T07:15:07.303Z"
   },
   {
    "duration": 0,
    "start_time": "2022-10-04T07:15:07.304Z"
   },
   {
    "duration": 0,
    "start_time": "2022-10-04T07:15:07.306Z"
   },
   {
    "duration": 0,
    "start_time": "2022-10-04T07:15:07.307Z"
   },
   {
    "duration": 0,
    "start_time": "2022-10-04T07:15:07.308Z"
   },
   {
    "duration": 0,
    "start_time": "2022-10-04T07:15:07.310Z"
   },
   {
    "duration": 0,
    "start_time": "2022-10-04T07:15:07.311Z"
   },
   {
    "duration": 0,
    "start_time": "2022-10-04T07:15:07.312Z"
   },
   {
    "duration": 0,
    "start_time": "2022-10-04T07:15:07.313Z"
   },
   {
    "duration": 0,
    "start_time": "2022-10-04T07:15:07.314Z"
   },
   {
    "duration": 12,
    "start_time": "2022-10-04T07:19:06.469Z"
   },
   {
    "duration": 6,
    "start_time": "2022-10-04T07:19:23.310Z"
   },
   {
    "duration": 72,
    "start_time": "2022-10-04T07:19:31.275Z"
   },
   {
    "duration": 7,
    "start_time": "2022-10-04T07:19:40.356Z"
   },
   {
    "duration": 7,
    "start_time": "2022-10-04T07:19:48.435Z"
   },
   {
    "duration": 378,
    "start_time": "2022-10-04T07:19:52.029Z"
   },
   {
    "duration": 812,
    "start_time": "2022-10-04T07:19:52.409Z"
   },
   {
    "duration": 120,
    "start_time": "2022-10-04T07:19:53.223Z"
   },
   {
    "duration": 5,
    "start_time": "2022-10-04T07:19:53.346Z"
   },
   {
    "duration": 24,
    "start_time": "2022-10-04T07:19:53.352Z"
   },
   {
    "duration": 123,
    "start_time": "2022-10-04T07:19:53.378Z"
   },
   {
    "duration": 113,
    "start_time": "2022-10-04T07:19:53.503Z"
   },
   {
    "duration": 111,
    "start_time": "2022-10-04T07:19:53.618Z"
   },
   {
    "duration": 15,
    "start_time": "2022-10-04T07:19:53.730Z"
   },
   {
    "duration": 39,
    "start_time": "2022-10-04T07:19:53.747Z"
   },
   {
    "duration": 22,
    "start_time": "2022-10-04T07:19:53.787Z"
   },
   {
    "duration": 38,
    "start_time": "2022-10-04T07:19:53.811Z"
   },
   {
    "duration": 46,
    "start_time": "2022-10-04T07:19:53.850Z"
   },
   {
    "duration": 34,
    "start_time": "2022-10-04T07:19:53.898Z"
   },
   {
    "duration": 34,
    "start_time": "2022-10-04T07:19:53.933Z"
   },
   {
    "duration": 44,
    "start_time": "2022-10-04T07:19:53.968Z"
   },
   {
    "duration": 20,
    "start_time": "2022-10-04T07:19:54.013Z"
   },
   {
    "duration": 44,
    "start_time": "2022-10-04T07:19:54.035Z"
   },
   {
    "duration": 27,
    "start_time": "2022-10-04T07:19:54.080Z"
   },
   {
    "duration": 44,
    "start_time": "2022-10-04T07:19:54.109Z"
   },
   {
    "duration": 22,
    "start_time": "2022-10-04T07:19:54.155Z"
   },
   {
    "duration": 30,
    "start_time": "2022-10-04T07:19:54.179Z"
   },
   {
    "duration": 27,
    "start_time": "2022-10-04T07:19:54.210Z"
   },
   {
    "duration": 39,
    "start_time": "2022-10-04T07:19:54.238Z"
   },
   {
    "duration": 40,
    "start_time": "2022-10-04T07:19:54.279Z"
   },
   {
    "duration": 28,
    "start_time": "2022-10-04T07:19:54.321Z"
   },
   {
    "duration": 40,
    "start_time": "2022-10-04T07:19:54.350Z"
   },
   {
    "duration": 39,
    "start_time": "2022-10-04T07:19:54.393Z"
   },
   {
    "duration": 24,
    "start_time": "2022-10-04T07:19:54.434Z"
   },
   {
    "duration": 41,
    "start_time": "2022-10-04T07:19:54.459Z"
   },
   {
    "duration": 21,
    "start_time": "2022-10-04T07:19:54.501Z"
   },
   {
    "duration": 135,
    "start_time": "2022-10-04T07:19:54.524Z"
   },
   {
    "duration": 310,
    "start_time": "2022-10-04T07:19:54.660Z"
   },
   {
    "duration": 77,
    "start_time": "2022-10-04T07:19:54.972Z"
   },
   {
    "duration": 296,
    "start_time": "2022-10-04T07:19:55.050Z"
   },
   {
    "duration": 334,
    "start_time": "2022-10-04T07:19:55.348Z"
   },
   {
    "duration": 261,
    "start_time": "2022-10-04T07:19:55.684Z"
   },
   {
    "duration": 62,
    "start_time": "2022-10-04T07:19:55.947Z"
   },
   {
    "duration": 0,
    "start_time": "2022-10-04T07:19:56.011Z"
   },
   {
    "duration": 0,
    "start_time": "2022-10-04T07:19:56.012Z"
   },
   {
    "duration": 0,
    "start_time": "2022-10-04T07:19:56.013Z"
   },
   {
    "duration": 0,
    "start_time": "2022-10-04T07:19:56.014Z"
   },
   {
    "duration": 0,
    "start_time": "2022-10-04T07:19:56.016Z"
   },
   {
    "duration": 0,
    "start_time": "2022-10-04T07:19:56.017Z"
   },
   {
    "duration": 0,
    "start_time": "2022-10-04T07:19:56.019Z"
   },
   {
    "duration": 0,
    "start_time": "2022-10-04T07:19:56.020Z"
   },
   {
    "duration": 0,
    "start_time": "2022-10-04T07:19:56.021Z"
   },
   {
    "duration": 0,
    "start_time": "2022-10-04T07:19:56.022Z"
   },
   {
    "duration": 0,
    "start_time": "2022-10-04T07:19:56.023Z"
   },
   {
    "duration": 0,
    "start_time": "2022-10-04T07:19:56.024Z"
   },
   {
    "duration": 0,
    "start_time": "2022-10-04T07:19:56.025Z"
   },
   {
    "duration": 0,
    "start_time": "2022-10-04T07:19:56.026Z"
   },
   {
    "duration": 0,
    "start_time": "2022-10-04T07:19:56.027Z"
   },
   {
    "duration": 0,
    "start_time": "2022-10-04T07:19:56.028Z"
   },
   {
    "duration": 0,
    "start_time": "2022-10-04T07:19:56.029Z"
   },
   {
    "duration": 0,
    "start_time": "2022-10-04T07:19:56.030Z"
   },
   {
    "duration": 0,
    "start_time": "2022-10-04T07:19:56.031Z"
   },
   {
    "duration": 0,
    "start_time": "2022-10-04T07:19:56.032Z"
   },
   {
    "duration": 0,
    "start_time": "2022-10-04T07:19:56.033Z"
   },
   {
    "duration": 0,
    "start_time": "2022-10-04T07:19:56.034Z"
   },
   {
    "duration": 0,
    "start_time": "2022-10-04T07:19:56.035Z"
   },
   {
    "duration": 0,
    "start_time": "2022-10-04T07:19:56.036Z"
   },
   {
    "duration": 0,
    "start_time": "2022-10-04T07:19:56.037Z"
   },
   {
    "duration": 0,
    "start_time": "2022-10-04T07:19:56.038Z"
   },
   {
    "duration": 0,
    "start_time": "2022-10-04T07:19:56.039Z"
   },
   {
    "duration": 0,
    "start_time": "2022-10-04T07:19:56.095Z"
   },
   {
    "duration": 0,
    "start_time": "2022-10-04T07:19:56.096Z"
   },
   {
    "duration": 0,
    "start_time": "2022-10-04T07:19:56.097Z"
   },
   {
    "duration": 4,
    "start_time": "2022-10-04T07:20:12.068Z"
   },
   {
    "duration": 4,
    "start_time": "2022-10-04T07:20:27.124Z"
   },
   {
    "duration": 3,
    "start_time": "2022-10-04T07:20:31.040Z"
   },
   {
    "duration": 6,
    "start_time": "2022-10-04T07:20:58.315Z"
   },
   {
    "duration": 5,
    "start_time": "2022-10-04T07:21:06.863Z"
   },
   {
    "duration": 107,
    "start_time": "2022-10-04T07:21:35.431Z"
   },
   {
    "duration": 6,
    "start_time": "2022-10-04T07:21:41.262Z"
   },
   {
    "duration": 6,
    "start_time": "2022-10-04T07:21:56.108Z"
   },
   {
    "duration": 6,
    "start_time": "2022-10-04T07:22:03.078Z"
   },
   {
    "duration": 7,
    "start_time": "2022-10-04T07:24:30.662Z"
   },
   {
    "duration": 7,
    "start_time": "2022-10-04T07:24:35.832Z"
   },
   {
    "duration": 8,
    "start_time": "2022-10-04T07:30:04.064Z"
   },
   {
    "duration": 27,
    "start_time": "2022-10-04T07:30:12.135Z"
   },
   {
    "duration": 25,
    "start_time": "2022-10-04T07:30:51.387Z"
   },
   {
    "duration": 9,
    "start_time": "2022-10-04T07:30:55.761Z"
   },
   {
    "duration": 379,
    "start_time": "2022-10-04T07:31:38.428Z"
   },
   {
    "duration": 779,
    "start_time": "2022-10-04T07:31:38.809Z"
   },
   {
    "duration": 114,
    "start_time": "2022-10-04T07:31:39.589Z"
   },
   {
    "duration": 5,
    "start_time": "2022-10-04T07:31:39.705Z"
   },
   {
    "duration": 6,
    "start_time": "2022-10-04T07:31:39.711Z"
   },
   {
    "duration": 120,
    "start_time": "2022-10-04T07:31:39.718Z"
   },
   {
    "duration": 118,
    "start_time": "2022-10-04T07:31:39.840Z"
   },
   {
    "duration": 115,
    "start_time": "2022-10-04T07:31:39.960Z"
   },
   {
    "duration": 26,
    "start_time": "2022-10-04T07:31:40.077Z"
   },
   {
    "duration": 11,
    "start_time": "2022-10-04T07:31:40.105Z"
   },
   {
    "duration": 6,
    "start_time": "2022-10-04T07:31:40.119Z"
   },
   {
    "duration": 35,
    "start_time": "2022-10-04T07:31:40.126Z"
   },
   {
    "duration": 37,
    "start_time": "2022-10-04T07:31:40.163Z"
   },
   {
    "duration": 28,
    "start_time": "2022-10-04T07:31:40.201Z"
   },
   {
    "duration": 16,
    "start_time": "2022-10-04T07:31:40.230Z"
   },
   {
    "duration": 36,
    "start_time": "2022-10-04T07:31:40.248Z"
   },
   {
    "duration": 28,
    "start_time": "2022-10-04T07:31:40.285Z"
   },
   {
    "duration": 27,
    "start_time": "2022-10-04T07:31:40.315Z"
   },
   {
    "duration": 15,
    "start_time": "2022-10-04T07:31:40.344Z"
   },
   {
    "duration": 51,
    "start_time": "2022-10-04T07:31:40.360Z"
   },
   {
    "duration": 20,
    "start_time": "2022-10-04T07:31:40.413Z"
   },
   {
    "duration": 29,
    "start_time": "2022-10-04T07:31:40.435Z"
   },
   {
    "duration": 35,
    "start_time": "2022-10-04T07:31:40.466Z"
   },
   {
    "duration": 36,
    "start_time": "2022-10-04T07:31:40.502Z"
   },
   {
    "duration": 20,
    "start_time": "2022-10-04T07:31:40.539Z"
   },
   {
    "duration": 39,
    "start_time": "2022-10-04T07:31:40.561Z"
   },
   {
    "duration": 15,
    "start_time": "2022-10-04T07:31:40.601Z"
   },
   {
    "duration": 31,
    "start_time": "2022-10-04T07:31:40.620Z"
   },
   {
    "duration": 20,
    "start_time": "2022-10-04T07:31:40.653Z"
   },
   {
    "duration": 30,
    "start_time": "2022-10-04T07:31:40.696Z"
   },
   {
    "duration": 13,
    "start_time": "2022-10-04T07:31:40.728Z"
   },
   {
    "duration": 122,
    "start_time": "2022-10-04T07:31:40.742Z"
   },
   {
    "duration": 293,
    "start_time": "2022-10-04T07:31:40.865Z"
   },
   {
    "duration": 74,
    "start_time": "2022-10-04T07:31:41.159Z"
   },
   {
    "duration": 272,
    "start_time": "2022-10-04T07:31:41.235Z"
   },
   {
    "duration": 304,
    "start_time": "2022-10-04T07:31:41.509Z"
   },
   {
    "duration": 254,
    "start_time": "2022-10-04T07:31:41.815Z"
   },
   {
    "duration": 7,
    "start_time": "2022-10-04T07:31:42.071Z"
   },
   {
    "duration": 36,
    "start_time": "2022-10-04T07:31:42.079Z"
   },
   {
    "duration": 6,
    "start_time": "2022-10-04T07:31:42.117Z"
   },
   {
    "duration": 173,
    "start_time": "2022-10-04T07:31:42.125Z"
   },
   {
    "duration": 0,
    "start_time": "2022-10-04T07:31:42.300Z"
   },
   {
    "duration": 0,
    "start_time": "2022-10-04T07:31:42.301Z"
   },
   {
    "duration": 0,
    "start_time": "2022-10-04T07:31:42.302Z"
   },
   {
    "duration": 0,
    "start_time": "2022-10-04T07:31:42.303Z"
   },
   {
    "duration": 0,
    "start_time": "2022-10-04T07:31:42.305Z"
   },
   {
    "duration": 0,
    "start_time": "2022-10-04T07:31:42.306Z"
   },
   {
    "duration": 0,
    "start_time": "2022-10-04T07:31:42.308Z"
   },
   {
    "duration": 0,
    "start_time": "2022-10-04T07:31:42.309Z"
   },
   {
    "duration": 0,
    "start_time": "2022-10-04T07:31:42.311Z"
   },
   {
    "duration": 0,
    "start_time": "2022-10-04T07:31:42.312Z"
   },
   {
    "duration": 0,
    "start_time": "2022-10-04T07:31:42.313Z"
   },
   {
    "duration": 0,
    "start_time": "2022-10-04T07:31:42.315Z"
   },
   {
    "duration": 0,
    "start_time": "2022-10-04T07:31:42.316Z"
   },
   {
    "duration": 0,
    "start_time": "2022-10-04T07:31:42.318Z"
   },
   {
    "duration": 0,
    "start_time": "2022-10-04T07:31:42.319Z"
   },
   {
    "duration": 0,
    "start_time": "2022-10-04T07:31:42.320Z"
   },
   {
    "duration": 0,
    "start_time": "2022-10-04T07:31:42.322Z"
   },
   {
    "duration": 0,
    "start_time": "2022-10-04T07:31:42.323Z"
   },
   {
    "duration": 0,
    "start_time": "2022-10-04T07:31:42.324Z"
   },
   {
    "duration": 0,
    "start_time": "2022-10-04T07:31:42.325Z"
   },
   {
    "duration": 0,
    "start_time": "2022-10-04T07:31:42.327Z"
   },
   {
    "duration": 0,
    "start_time": "2022-10-04T07:31:42.329Z"
   },
   {
    "duration": 0,
    "start_time": "2022-10-04T07:31:42.330Z"
   },
   {
    "duration": 0,
    "start_time": "2022-10-04T07:31:42.332Z"
   },
   {
    "duration": 0,
    "start_time": "2022-10-04T07:31:42.333Z"
   },
   {
    "duration": 0,
    "start_time": "2022-10-04T07:31:42.334Z"
   },
   {
    "duration": 0,
    "start_time": "2022-10-04T07:31:42.336Z"
   },
   {
    "duration": 0,
    "start_time": "2022-10-04T07:31:42.337Z"
   },
   {
    "duration": 0,
    "start_time": "2022-10-04T07:31:42.339Z"
   },
   {
    "duration": 132,
    "start_time": "2022-10-04T07:32:42.792Z"
   },
   {
    "duration": 5,
    "start_time": "2022-10-04T07:33:11.013Z"
   },
   {
    "duration": 12,
    "start_time": "2022-10-04T07:33:49.097Z"
   },
   {
    "duration": 8,
    "start_time": "2022-10-04T07:33:52.402Z"
   },
   {
    "duration": 76,
    "start_time": "2022-10-04T07:34:06.765Z"
   },
   {
    "duration": 8,
    "start_time": "2022-10-04T07:34:50.445Z"
   },
   {
    "duration": 13,
    "start_time": "2022-10-04T07:34:50.820Z"
   },
   {
    "duration": 422,
    "start_time": "2022-10-04T07:34:54.295Z"
   },
   {
    "duration": 776,
    "start_time": "2022-10-04T07:34:54.720Z"
   },
   {
    "duration": 118,
    "start_time": "2022-10-04T07:34:55.498Z"
   },
   {
    "duration": 5,
    "start_time": "2022-10-04T07:34:55.618Z"
   },
   {
    "duration": 14,
    "start_time": "2022-10-04T07:34:55.624Z"
   },
   {
    "duration": 111,
    "start_time": "2022-10-04T07:34:55.639Z"
   },
   {
    "duration": 109,
    "start_time": "2022-10-04T07:34:55.752Z"
   },
   {
    "duration": 122,
    "start_time": "2022-10-04T07:34:55.863Z"
   },
   {
    "duration": 25,
    "start_time": "2022-10-04T07:34:55.986Z"
   },
   {
    "duration": 18,
    "start_time": "2022-10-04T07:34:56.013Z"
   },
   {
    "duration": 10,
    "start_time": "2022-10-04T07:34:56.033Z"
   },
   {
    "duration": 42,
    "start_time": "2022-10-04T07:34:56.044Z"
   },
   {
    "duration": 25,
    "start_time": "2022-10-04T07:34:56.088Z"
   },
   {
    "duration": 28,
    "start_time": "2022-10-04T07:34:56.115Z"
   },
   {
    "duration": 21,
    "start_time": "2022-10-04T07:34:56.144Z"
   },
   {
    "duration": 50,
    "start_time": "2022-10-04T07:34:56.167Z"
   },
   {
    "duration": 20,
    "start_time": "2022-10-04T07:34:56.218Z"
   },
   {
    "duration": 31,
    "start_time": "2022-10-04T07:34:56.240Z"
   },
   {
    "duration": 29,
    "start_time": "2022-10-04T07:34:56.273Z"
   },
   {
    "duration": 44,
    "start_time": "2022-10-04T07:34:56.304Z"
   },
   {
    "duration": 21,
    "start_time": "2022-10-04T07:34:56.349Z"
   },
   {
    "duration": 32,
    "start_time": "2022-10-04T07:34:56.372Z"
   },
   {
    "duration": 18,
    "start_time": "2022-10-04T07:34:56.406Z"
   },
   {
    "duration": 38,
    "start_time": "2022-10-04T07:34:56.426Z"
   },
   {
    "duration": 39,
    "start_time": "2022-10-04T07:34:56.468Z"
   },
   {
    "duration": 67,
    "start_time": "2022-10-04T07:34:56.509Z"
   },
   {
    "duration": 25,
    "start_time": "2022-10-04T07:34:56.578Z"
   },
   {
    "duration": 54,
    "start_time": "2022-10-04T07:34:56.608Z"
   },
   {
    "duration": 31,
    "start_time": "2022-10-04T07:34:56.664Z"
   },
   {
    "duration": 49,
    "start_time": "2022-10-04T07:34:56.698Z"
   },
   {
    "duration": 21,
    "start_time": "2022-10-04T07:34:56.748Z"
   },
   {
    "duration": 124,
    "start_time": "2022-10-04T07:34:56.771Z"
   },
   {
    "duration": 292,
    "start_time": "2022-10-04T07:34:56.896Z"
   },
   {
    "duration": 78,
    "start_time": "2022-10-04T07:34:57.190Z"
   },
   {
    "duration": 273,
    "start_time": "2022-10-04T07:34:57.270Z"
   },
   {
    "duration": 319,
    "start_time": "2022-10-04T07:34:57.545Z"
   },
   {
    "duration": 255,
    "start_time": "2022-10-04T07:34:57.866Z"
   },
   {
    "duration": 7,
    "start_time": "2022-10-04T07:34:58.122Z"
   },
   {
    "duration": 42,
    "start_time": "2022-10-04T07:34:58.130Z"
   },
   {
    "duration": 7,
    "start_time": "2022-10-04T07:34:58.173Z"
   },
   {
    "duration": 17,
    "start_time": "2022-10-04T07:34:58.183Z"
   },
   {
    "duration": 36,
    "start_time": "2022-10-04T07:34:58.202Z"
   },
   {
    "duration": 9,
    "start_time": "2022-10-04T07:34:58.240Z"
   },
   {
    "duration": 83,
    "start_time": "2022-10-04T07:34:58.251Z"
   },
   {
    "duration": 82,
    "start_time": "2022-10-04T07:34:58.336Z"
   },
   {
    "duration": 0,
    "start_time": "2022-10-04T07:34:58.420Z"
   },
   {
    "duration": 0,
    "start_time": "2022-10-04T07:34:58.421Z"
   },
   {
    "duration": 0,
    "start_time": "2022-10-04T07:34:58.422Z"
   },
   {
    "duration": 0,
    "start_time": "2022-10-04T07:34:58.423Z"
   },
   {
    "duration": 0,
    "start_time": "2022-10-04T07:34:58.424Z"
   },
   {
    "duration": 0,
    "start_time": "2022-10-04T07:34:58.425Z"
   },
   {
    "duration": 0,
    "start_time": "2022-10-04T07:34:58.426Z"
   },
   {
    "duration": 0,
    "start_time": "2022-10-04T07:34:58.427Z"
   },
   {
    "duration": 0,
    "start_time": "2022-10-04T07:34:58.428Z"
   },
   {
    "duration": 0,
    "start_time": "2022-10-04T07:34:58.429Z"
   },
   {
    "duration": 0,
    "start_time": "2022-10-04T07:34:58.430Z"
   },
   {
    "duration": 0,
    "start_time": "2022-10-04T07:34:58.431Z"
   },
   {
    "duration": 0,
    "start_time": "2022-10-04T07:34:58.432Z"
   },
   {
    "duration": 0,
    "start_time": "2022-10-04T07:34:58.434Z"
   },
   {
    "duration": 0,
    "start_time": "2022-10-04T07:34:58.435Z"
   },
   {
    "duration": 0,
    "start_time": "2022-10-04T07:34:58.436Z"
   },
   {
    "duration": 0,
    "start_time": "2022-10-04T07:34:58.437Z"
   },
   {
    "duration": 0,
    "start_time": "2022-10-04T07:34:58.438Z"
   },
   {
    "duration": 0,
    "start_time": "2022-10-04T07:34:58.439Z"
   },
   {
    "duration": 0,
    "start_time": "2022-10-04T07:34:58.440Z"
   },
   {
    "duration": 0,
    "start_time": "2022-10-04T07:34:58.441Z"
   },
   {
    "duration": 0,
    "start_time": "2022-10-04T07:34:58.442Z"
   },
   {
    "duration": 0,
    "start_time": "2022-10-04T07:34:58.443Z"
   },
   {
    "duration": 0,
    "start_time": "2022-10-04T07:34:58.444Z"
   },
   {
    "duration": 0,
    "start_time": "2022-10-04T07:34:58.445Z"
   },
   {
    "duration": 0,
    "start_time": "2022-10-04T07:34:58.446Z"
   },
   {
    "duration": 0,
    "start_time": "2022-10-04T07:34:58.446Z"
   },
   {
    "duration": 0,
    "start_time": "2022-10-04T07:34:58.448Z"
   },
   {
    "duration": 0,
    "start_time": "2022-10-04T07:34:58.449Z"
   },
   {
    "duration": 88,
    "start_time": "2022-10-04T07:35:34.087Z"
   },
   {
    "duration": 4,
    "start_time": "2022-10-04T07:36:19.341Z"
   },
   {
    "duration": 21,
    "start_time": "2022-10-04T07:37:03.060Z"
   },
   {
    "duration": 72,
    "start_time": "2022-10-04T07:37:35.956Z"
   },
   {
    "duration": 31,
    "start_time": "2022-10-04T07:38:32.892Z"
   },
   {
    "duration": 79,
    "start_time": "2022-10-04T07:38:54.742Z"
   },
   {
    "duration": 106,
    "start_time": "2022-10-04T07:38:59.392Z"
   },
   {
    "duration": 103,
    "start_time": "2022-10-04T07:39:05.709Z"
   },
   {
    "duration": 687,
    "start_time": "2022-10-04T07:42:29.469Z"
   },
   {
    "duration": 90,
    "start_time": "2022-10-04T07:42:30.158Z"
   },
   {
    "duration": 377,
    "start_time": "2022-10-04T07:42:37.148Z"
   },
   {
    "duration": 801,
    "start_time": "2022-10-04T07:42:37.527Z"
   },
   {
    "duration": 115,
    "start_time": "2022-10-04T07:42:38.331Z"
   },
   {
    "duration": 4,
    "start_time": "2022-10-04T07:42:38.448Z"
   },
   {
    "duration": 9,
    "start_time": "2022-10-04T07:42:38.454Z"
   },
   {
    "duration": 119,
    "start_time": "2022-10-04T07:42:38.465Z"
   },
   {
    "duration": 111,
    "start_time": "2022-10-04T07:42:38.586Z"
   },
   {
    "duration": 116,
    "start_time": "2022-10-04T07:42:38.699Z"
   },
   {
    "duration": 17,
    "start_time": "2022-10-04T07:42:38.816Z"
   },
   {
    "duration": 5,
    "start_time": "2022-10-04T07:42:38.837Z"
   },
   {
    "duration": 8,
    "start_time": "2022-10-04T07:42:38.844Z"
   },
   {
    "duration": 52,
    "start_time": "2022-10-04T07:42:38.854Z"
   },
   {
    "duration": 24,
    "start_time": "2022-10-04T07:42:38.908Z"
   },
   {
    "duration": 38,
    "start_time": "2022-10-04T07:42:38.934Z"
   },
   {
    "duration": 14,
    "start_time": "2022-10-04T07:42:38.996Z"
   },
   {
    "duration": 32,
    "start_time": "2022-10-04T07:42:39.012Z"
   },
   {
    "duration": 23,
    "start_time": "2022-10-04T07:42:39.046Z"
   },
   {
    "duration": 30,
    "start_time": "2022-10-04T07:42:39.096Z"
   },
   {
    "duration": 13,
    "start_time": "2022-10-04T07:42:39.128Z"
   },
   {
    "duration": 53,
    "start_time": "2022-10-04T07:42:39.143Z"
   },
   {
    "duration": 22,
    "start_time": "2022-10-04T07:42:39.198Z"
   },
   {
    "duration": 30,
    "start_time": "2022-10-04T07:42:39.222Z"
   },
   {
    "duration": 18,
    "start_time": "2022-10-04T07:42:39.254Z"
   },
   {
    "duration": 32,
    "start_time": "2022-10-04T07:42:39.295Z"
   },
   {
    "duration": 21,
    "start_time": "2022-10-04T07:42:39.329Z"
   },
   {
    "duration": 45,
    "start_time": "2022-10-04T07:42:39.351Z"
   },
   {
    "duration": 14,
    "start_time": "2022-10-04T07:42:39.398Z"
   },
   {
    "duration": 38,
    "start_time": "2022-10-04T07:42:39.416Z"
   },
   {
    "duration": 44,
    "start_time": "2022-10-04T07:42:39.455Z"
   },
   {
    "duration": 30,
    "start_time": "2022-10-04T07:42:39.501Z"
   },
   {
    "duration": 15,
    "start_time": "2022-10-04T07:42:39.532Z"
   },
   {
    "duration": 123,
    "start_time": "2022-10-04T07:42:39.549Z"
   },
   {
    "duration": 293,
    "start_time": "2022-10-04T07:42:39.674Z"
   },
   {
    "duration": 76,
    "start_time": "2022-10-04T07:42:39.969Z"
   },
   {
    "duration": 297,
    "start_time": "2022-10-04T07:42:40.047Z"
   },
   {
    "duration": 344,
    "start_time": "2022-10-04T07:42:40.346Z"
   },
   {
    "duration": 267,
    "start_time": "2022-10-04T07:42:40.694Z"
   },
   {
    "duration": 7,
    "start_time": "2022-10-04T07:42:40.963Z"
   },
   {
    "duration": 53,
    "start_time": "2022-10-04T07:42:40.972Z"
   },
   {
    "duration": 9,
    "start_time": "2022-10-04T07:42:41.027Z"
   },
   {
    "duration": 8,
    "start_time": "2022-10-04T07:42:41.038Z"
   },
   {
    "duration": 50,
    "start_time": "2022-10-04T07:42:41.048Z"
   },
   {
    "duration": 8,
    "start_time": "2022-10-04T07:42:41.100Z"
   },
   {
    "duration": 5,
    "start_time": "2022-10-04T07:42:41.110Z"
   },
   {
    "duration": 32,
    "start_time": "2022-10-04T07:42:41.117Z"
   },
   {
    "duration": 127,
    "start_time": "2022-10-04T07:42:41.151Z"
   },
   {
    "duration": 126,
    "start_time": "2022-10-04T07:42:41.279Z"
   },
   {
    "duration": 101,
    "start_time": "2022-10-04T07:42:41.407Z"
   },
   {
    "duration": 706,
    "start_time": "2022-10-04T07:42:41.509Z"
   },
   {
    "duration": 200,
    "start_time": "2022-10-04T07:42:42.218Z"
   },
   {
    "duration": 7,
    "start_time": "2022-10-04T07:42:42.420Z"
   },
   {
    "duration": 36,
    "start_time": "2022-10-04T07:42:42.429Z"
   },
   {
    "duration": 3,
    "start_time": "2022-10-04T07:42:42.467Z"
   },
   {
    "duration": 215,
    "start_time": "2022-10-04T07:42:42.495Z"
   },
   {
    "duration": 0,
    "start_time": "2022-10-04T07:42:42.712Z"
   },
   {
    "duration": 0,
    "start_time": "2022-10-04T07:42:42.713Z"
   },
   {
    "duration": 0,
    "start_time": "2022-10-04T07:42:42.715Z"
   },
   {
    "duration": 0,
    "start_time": "2022-10-04T07:42:42.716Z"
   },
   {
    "duration": 0,
    "start_time": "2022-10-04T07:42:42.718Z"
   },
   {
    "duration": 0,
    "start_time": "2022-10-04T07:42:42.719Z"
   },
   {
    "duration": 0,
    "start_time": "2022-10-04T07:42:42.721Z"
   },
   {
    "duration": 0,
    "start_time": "2022-10-04T07:42:42.722Z"
   },
   {
    "duration": 0,
    "start_time": "2022-10-04T07:42:42.724Z"
   },
   {
    "duration": 0,
    "start_time": "2022-10-04T07:42:42.726Z"
   },
   {
    "duration": 0,
    "start_time": "2022-10-04T07:42:42.727Z"
   },
   {
    "duration": 0,
    "start_time": "2022-10-04T07:42:42.728Z"
   },
   {
    "duration": 0,
    "start_time": "2022-10-04T07:42:42.730Z"
   },
   {
    "duration": 0,
    "start_time": "2022-10-04T07:42:42.732Z"
   },
   {
    "duration": 0,
    "start_time": "2022-10-04T07:42:42.733Z"
   },
   {
    "duration": 0,
    "start_time": "2022-10-04T07:42:42.734Z"
   },
   {
    "duration": 0,
    "start_time": "2022-10-04T07:42:42.736Z"
   },
   {
    "duration": 0,
    "start_time": "2022-10-04T07:42:42.737Z"
   },
   {
    "duration": 0,
    "start_time": "2022-10-04T07:42:42.738Z"
   },
   {
    "duration": 0,
    "start_time": "2022-10-04T07:42:42.739Z"
   },
   {
    "duration": 0,
    "start_time": "2022-10-04T07:42:42.741Z"
   },
   {
    "duration": 0,
    "start_time": "2022-10-04T07:42:42.742Z"
   },
   {
    "duration": 0,
    "start_time": "2022-10-04T07:42:42.744Z"
   },
   {
    "duration": 122,
    "start_time": "2022-10-04T07:43:27.165Z"
   },
   {
    "duration": 149,
    "start_time": "2022-10-04T07:44:02.293Z"
   },
   {
    "duration": 418,
    "start_time": "2022-10-04T07:44:50.265Z"
   },
   {
    "duration": 791,
    "start_time": "2022-10-04T07:44:50.685Z"
   },
   {
    "duration": 120,
    "start_time": "2022-10-04T07:44:51.478Z"
   },
   {
    "duration": 4,
    "start_time": "2022-10-04T07:44:51.601Z"
   },
   {
    "duration": 12,
    "start_time": "2022-10-04T07:44:51.607Z"
   },
   {
    "duration": 122,
    "start_time": "2022-10-04T07:44:51.621Z"
   },
   {
    "duration": 113,
    "start_time": "2022-10-04T07:44:51.745Z"
   },
   {
    "duration": 113,
    "start_time": "2022-10-04T07:44:51.859Z"
   },
   {
    "duration": 29,
    "start_time": "2022-10-04T07:44:51.974Z"
   },
   {
    "duration": 4,
    "start_time": "2022-10-04T07:44:52.006Z"
   },
   {
    "duration": 5,
    "start_time": "2022-10-04T07:44:52.012Z"
   },
   {
    "duration": 35,
    "start_time": "2022-10-04T07:44:52.018Z"
   },
   {
    "duration": 50,
    "start_time": "2022-10-04T07:44:52.054Z"
   },
   {
    "duration": 29,
    "start_time": "2022-10-04T07:44:52.106Z"
   },
   {
    "duration": 15,
    "start_time": "2022-10-04T07:44:52.137Z"
   },
   {
    "duration": 52,
    "start_time": "2022-10-04T07:44:52.155Z"
   },
   {
    "duration": 23,
    "start_time": "2022-10-04T07:44:52.209Z"
   },
   {
    "duration": 30,
    "start_time": "2022-10-04T07:44:52.234Z"
   },
   {
    "duration": 38,
    "start_time": "2022-10-04T07:44:52.266Z"
   },
   {
    "duration": 38,
    "start_time": "2022-10-04T07:44:52.306Z"
   },
   {
    "duration": 24,
    "start_time": "2022-10-04T07:44:52.346Z"
   },
   {
    "duration": 44,
    "start_time": "2022-10-04T07:44:52.372Z"
   },
   {
    "duration": 16,
    "start_time": "2022-10-04T07:44:52.418Z"
   },
   {
    "duration": 31,
    "start_time": "2022-10-04T07:44:52.436Z"
   },
   {
    "duration": 43,
    "start_time": "2022-10-04T07:44:52.469Z"
   },
   {
    "duration": 29,
    "start_time": "2022-10-04T07:44:52.514Z"
   },
   {
    "duration": 15,
    "start_time": "2022-10-04T07:44:52.545Z"
   },
   {
    "duration": 57,
    "start_time": "2022-10-04T07:44:52.565Z"
   },
   {
    "duration": 22,
    "start_time": "2022-10-04T07:44:52.624Z"
   },
   {
    "duration": 48,
    "start_time": "2022-10-04T07:44:52.648Z"
   },
   {
    "duration": 16,
    "start_time": "2022-10-04T07:44:52.698Z"
   },
   {
    "duration": 125,
    "start_time": "2022-10-04T07:44:52.715Z"
   },
   {
    "duration": 293,
    "start_time": "2022-10-04T07:44:52.842Z"
   },
   {
    "duration": 74,
    "start_time": "2022-10-04T07:44:53.137Z"
   },
   {
    "duration": 266,
    "start_time": "2022-10-04T07:44:53.212Z"
   },
   {
    "duration": 305,
    "start_time": "2022-10-04T07:44:53.479Z"
   },
   {
    "duration": 257,
    "start_time": "2022-10-04T07:44:53.786Z"
   },
   {
    "duration": 7,
    "start_time": "2022-10-04T07:44:54.044Z"
   },
   {
    "duration": 44,
    "start_time": "2022-10-04T07:44:54.052Z"
   },
   {
    "duration": 8,
    "start_time": "2022-10-04T07:44:54.097Z"
   },
   {
    "duration": 7,
    "start_time": "2022-10-04T07:44:54.106Z"
   },
   {
    "duration": 29,
    "start_time": "2022-10-04T07:44:54.114Z"
   },
   {
    "duration": 7,
    "start_time": "2022-10-04T07:44:54.145Z"
   },
   {
    "duration": 4,
    "start_time": "2022-10-04T07:44:54.154Z"
   },
   {
    "duration": 59,
    "start_time": "2022-10-04T07:44:54.159Z"
   },
   {
    "duration": 97,
    "start_time": "2022-10-04T07:44:54.219Z"
   },
   {
    "duration": 107,
    "start_time": "2022-10-04T07:44:54.318Z"
   },
   {
    "duration": 85,
    "start_time": "2022-10-04T07:44:54.427Z"
   },
   {
    "duration": 699,
    "start_time": "2022-10-04T07:44:54.513Z"
   },
   {
    "duration": 188,
    "start_time": "2022-10-04T07:44:55.214Z"
   },
   {
    "duration": 6,
    "start_time": "2022-10-04T07:44:55.403Z"
   },
   {
    "duration": 6,
    "start_time": "2022-10-04T07:44:55.410Z"
   },
   {
    "duration": 228,
    "start_time": "2022-10-04T07:44:55.417Z"
   },
   {
    "duration": 0,
    "start_time": "2022-10-04T07:44:55.646Z"
   },
   {
    "duration": 0,
    "start_time": "2022-10-04T07:44:55.647Z"
   },
   {
    "duration": 0,
    "start_time": "2022-10-04T07:44:55.648Z"
   },
   {
    "duration": 0,
    "start_time": "2022-10-04T07:44:55.649Z"
   },
   {
    "duration": 0,
    "start_time": "2022-10-04T07:44:55.650Z"
   },
   {
    "duration": 0,
    "start_time": "2022-10-04T07:44:55.650Z"
   },
   {
    "duration": 0,
    "start_time": "2022-10-04T07:44:55.651Z"
   },
   {
    "duration": 0,
    "start_time": "2022-10-04T07:44:55.652Z"
   },
   {
    "duration": 0,
    "start_time": "2022-10-04T07:44:55.653Z"
   },
   {
    "duration": 0,
    "start_time": "2022-10-04T07:44:55.654Z"
   },
   {
    "duration": 0,
    "start_time": "2022-10-04T07:44:55.655Z"
   },
   {
    "duration": 0,
    "start_time": "2022-10-04T07:44:55.656Z"
   },
   {
    "duration": 0,
    "start_time": "2022-10-04T07:44:55.657Z"
   },
   {
    "duration": 0,
    "start_time": "2022-10-04T07:44:55.658Z"
   },
   {
    "duration": 0,
    "start_time": "2022-10-04T07:44:55.659Z"
   },
   {
    "duration": 0,
    "start_time": "2022-10-04T07:44:55.660Z"
   },
   {
    "duration": 0,
    "start_time": "2022-10-04T07:44:55.660Z"
   },
   {
    "duration": 0,
    "start_time": "2022-10-04T07:44:55.661Z"
   },
   {
    "duration": 0,
    "start_time": "2022-10-04T07:44:55.662Z"
   },
   {
    "duration": 0,
    "start_time": "2022-10-04T07:44:55.664Z"
   },
   {
    "duration": 0,
    "start_time": "2022-10-04T07:44:55.665Z"
   },
   {
    "duration": 0,
    "start_time": "2022-10-04T07:44:55.695Z"
   },
   {
    "duration": 0,
    "start_time": "2022-10-04T07:44:55.696Z"
   },
   {
    "duration": 1,
    "start_time": "2022-10-04T07:44:55.697Z"
   },
   {
    "duration": 34,
    "start_time": "2022-10-04T07:49:21.666Z"
   },
   {
    "duration": 3,
    "start_time": "2022-10-04T07:49:24.089Z"
   },
   {
    "duration": 114,
    "start_time": "2022-10-04T07:49:36.042Z"
   },
   {
    "duration": 406,
    "start_time": "2022-10-04T07:49:53.404Z"
   },
   {
    "duration": 753,
    "start_time": "2022-10-04T07:49:53.812Z"
   },
   {
    "duration": 109,
    "start_time": "2022-10-04T07:49:54.567Z"
   },
   {
    "duration": 4,
    "start_time": "2022-10-04T07:49:54.678Z"
   },
   {
    "duration": 12,
    "start_time": "2022-10-04T07:49:54.684Z"
   },
   {
    "duration": 112,
    "start_time": "2022-10-04T07:49:54.697Z"
   },
   {
    "duration": 116,
    "start_time": "2022-10-04T07:49:54.810Z"
   },
   {
    "duration": 110,
    "start_time": "2022-10-04T07:49:54.927Z"
   },
   {
    "duration": 37,
    "start_time": "2022-10-04T07:49:55.038Z"
   },
   {
    "duration": 11,
    "start_time": "2022-10-04T07:49:55.078Z"
   },
   {
    "duration": 9,
    "start_time": "2022-10-04T07:49:55.090Z"
   },
   {
    "duration": 37,
    "start_time": "2022-10-04T07:49:55.100Z"
   },
   {
    "duration": 25,
    "start_time": "2022-10-04T07:49:55.138Z"
   },
   {
    "duration": 31,
    "start_time": "2022-10-04T07:49:55.165Z"
   },
   {
    "duration": 12,
    "start_time": "2022-10-04T07:49:55.198Z"
   },
   {
    "duration": 30,
    "start_time": "2022-10-04T07:49:55.212Z"
   },
   {
    "duration": 21,
    "start_time": "2022-10-04T07:49:55.244Z"
   },
   {
    "duration": 51,
    "start_time": "2022-10-04T07:49:55.266Z"
   },
   {
    "duration": 14,
    "start_time": "2022-10-04T07:49:55.319Z"
   },
   {
    "duration": 30,
    "start_time": "2022-10-04T07:49:55.335Z"
   },
   {
    "duration": 39,
    "start_time": "2022-10-04T07:49:55.367Z"
   },
   {
    "duration": 27,
    "start_time": "2022-10-04T07:49:55.408Z"
   },
   {
    "duration": 15,
    "start_time": "2022-10-04T07:49:55.436Z"
   },
   {
    "duration": 47,
    "start_time": "2022-10-04T07:49:55.452Z"
   },
   {
    "duration": 22,
    "start_time": "2022-10-04T07:49:55.500Z"
   },
   {
    "duration": 28,
    "start_time": "2022-10-04T07:49:55.523Z"
   },
   {
    "duration": 14,
    "start_time": "2022-10-04T07:49:55.553Z"
   },
   {
    "duration": 36,
    "start_time": "2022-10-04T07:49:55.596Z"
   },
   {
    "duration": 25,
    "start_time": "2022-10-04T07:49:55.634Z"
   },
   {
    "duration": 46,
    "start_time": "2022-10-04T07:49:55.661Z"
   },
   {
    "duration": 14,
    "start_time": "2022-10-04T07:49:55.708Z"
   },
   {
    "duration": 109,
    "start_time": "2022-10-04T07:49:55.724Z"
   },
   {
    "duration": 274,
    "start_time": "2022-10-04T07:49:55.835Z"
   },
   {
    "duration": 68,
    "start_time": "2022-10-04T07:49:56.110Z"
   },
   {
    "duration": 261,
    "start_time": "2022-10-04T07:49:56.180Z"
   },
   {
    "duration": 328,
    "start_time": "2022-10-04T07:49:56.442Z"
   },
   {
    "duration": 240,
    "start_time": "2022-10-04T07:49:56.772Z"
   },
   {
    "duration": 6,
    "start_time": "2022-10-04T07:49:57.014Z"
   },
   {
    "duration": 27,
    "start_time": "2022-10-04T07:49:57.022Z"
   },
   {
    "duration": 7,
    "start_time": "2022-10-04T07:49:57.050Z"
   },
   {
    "duration": 6,
    "start_time": "2022-10-04T07:49:57.058Z"
   },
   {
    "duration": 54,
    "start_time": "2022-10-04T07:49:57.065Z"
   },
   {
    "duration": 8,
    "start_time": "2022-10-04T07:49:57.120Z"
   },
   {
    "duration": 5,
    "start_time": "2022-10-04T07:49:57.129Z"
   },
   {
    "duration": 23,
    "start_time": "2022-10-04T07:49:57.136Z"
   },
   {
    "duration": 112,
    "start_time": "2022-10-04T07:49:57.160Z"
   },
   {
    "duration": 102,
    "start_time": "2022-10-04T07:49:57.274Z"
   },
   {
    "duration": 74,
    "start_time": "2022-10-04T07:49:57.378Z"
   },
   {
    "duration": 711,
    "start_time": "2022-10-04T07:49:57.453Z"
   },
   {
    "duration": 189,
    "start_time": "2022-10-04T07:49:58.165Z"
   },
   {
    "duration": 5,
    "start_time": "2022-10-04T07:49:58.356Z"
   },
   {
    "duration": 52,
    "start_time": "2022-10-04T07:49:58.362Z"
   },
   {
    "duration": 3,
    "start_time": "2022-10-04T07:49:58.417Z"
   },
   {
    "duration": 203,
    "start_time": "2022-10-04T07:49:58.422Z"
   },
   {
    "duration": 0,
    "start_time": "2022-10-04T07:49:58.626Z"
   },
   {
    "duration": 0,
    "start_time": "2022-10-04T07:49:58.627Z"
   },
   {
    "duration": 0,
    "start_time": "2022-10-04T07:49:58.628Z"
   },
   {
    "duration": 0,
    "start_time": "2022-10-04T07:49:58.629Z"
   },
   {
    "duration": 0,
    "start_time": "2022-10-04T07:49:58.630Z"
   },
   {
    "duration": 1,
    "start_time": "2022-10-04T07:49:58.630Z"
   },
   {
    "duration": 0,
    "start_time": "2022-10-04T07:49:58.631Z"
   },
   {
    "duration": 0,
    "start_time": "2022-10-04T07:49:58.632Z"
   },
   {
    "duration": 0,
    "start_time": "2022-10-04T07:49:58.634Z"
   },
   {
    "duration": 0,
    "start_time": "2022-10-04T07:49:58.635Z"
   },
   {
    "duration": 0,
    "start_time": "2022-10-04T07:49:58.636Z"
   },
   {
    "duration": 0,
    "start_time": "2022-10-04T07:49:58.637Z"
   },
   {
    "duration": 0,
    "start_time": "2022-10-04T07:49:58.638Z"
   },
   {
    "duration": 0,
    "start_time": "2022-10-04T07:49:58.639Z"
   },
   {
    "duration": 0,
    "start_time": "2022-10-04T07:49:58.640Z"
   },
   {
    "duration": 0,
    "start_time": "2022-10-04T07:49:58.641Z"
   },
   {
    "duration": 0,
    "start_time": "2022-10-04T07:49:58.642Z"
   },
   {
    "duration": 0,
    "start_time": "2022-10-04T07:49:58.642Z"
   },
   {
    "duration": 0,
    "start_time": "2022-10-04T07:49:58.644Z"
   },
   {
    "duration": 0,
    "start_time": "2022-10-04T07:49:58.645Z"
   },
   {
    "duration": 0,
    "start_time": "2022-10-04T07:49:58.646Z"
   },
   {
    "duration": 0,
    "start_time": "2022-10-04T07:49:58.647Z"
   },
   {
    "duration": 0,
    "start_time": "2022-10-04T07:49:58.648Z"
   },
   {
    "duration": 11,
    "start_time": "2022-10-04T08:11:47.425Z"
   },
   {
    "duration": 15,
    "start_time": "2022-10-04T08:11:55.551Z"
   },
   {
    "duration": 6,
    "start_time": "2022-10-04T08:13:25.429Z"
   },
   {
    "duration": 6,
    "start_time": "2022-10-04T08:13:33.238Z"
   },
   {
    "duration": 398,
    "start_time": "2022-10-04T08:14:42.256Z"
   },
   {
    "duration": 110,
    "start_time": "2022-10-04T08:14:42.852Z"
   },
   {
    "duration": 31,
    "start_time": "2022-10-04T08:15:03.778Z"
   },
   {
    "duration": 4,
    "start_time": "2022-10-04T08:15:19.387Z"
   },
   {
    "duration": 28,
    "start_time": "2022-10-04T08:15:23.350Z"
   },
   {
    "duration": 4,
    "start_time": "2022-10-04T08:15:32.775Z"
   },
   {
    "duration": 23,
    "start_time": "2022-10-04T08:15:40.187Z"
   },
   {
    "duration": 382,
    "start_time": "2022-10-04T08:16:05.117Z"
   },
   {
    "duration": 717,
    "start_time": "2022-10-04T08:16:05.501Z"
   },
   {
    "duration": 103,
    "start_time": "2022-10-04T08:16:06.220Z"
   },
   {
    "duration": 4,
    "start_time": "2022-10-04T08:16:06.325Z"
   },
   {
    "duration": 13,
    "start_time": "2022-10-04T08:16:06.331Z"
   },
   {
    "duration": 103,
    "start_time": "2022-10-04T08:16:06.345Z"
   },
   {
    "duration": 112,
    "start_time": "2022-10-04T08:16:06.450Z"
   },
   {
    "duration": 147,
    "start_time": "2022-10-04T08:16:06.564Z"
   },
   {
    "duration": 18,
    "start_time": "2022-10-04T08:16:06.714Z"
   },
   {
    "duration": 8,
    "start_time": "2022-10-04T08:16:06.735Z"
   },
   {
    "duration": 8,
    "start_time": "2022-10-04T08:16:06.745Z"
   },
   {
    "duration": 49,
    "start_time": "2022-10-04T08:16:06.754Z"
   },
   {
    "duration": 17,
    "start_time": "2022-10-04T08:16:06.804Z"
   },
   {
    "duration": 32,
    "start_time": "2022-10-04T08:16:06.823Z"
   },
   {
    "duration": 15,
    "start_time": "2022-10-04T08:16:06.856Z"
   },
   {
    "duration": 50,
    "start_time": "2022-10-04T08:16:06.873Z"
   },
   {
    "duration": 16,
    "start_time": "2022-10-04T08:16:06.925Z"
   },
   {
    "duration": 30,
    "start_time": "2022-10-04T08:16:06.942Z"
   },
   {
    "duration": 36,
    "start_time": "2022-10-04T08:16:06.973Z"
   },
   {
    "duration": 32,
    "start_time": "2022-10-04T08:16:07.011Z"
   },
   {
    "duration": 17,
    "start_time": "2022-10-04T08:16:07.045Z"
   },
   {
    "duration": 48,
    "start_time": "2022-10-04T08:16:07.063Z"
   },
   {
    "duration": 41,
    "start_time": "2022-10-04T08:16:07.113Z"
   },
   {
    "duration": 41,
    "start_time": "2022-10-04T08:16:07.155Z"
   },
   {
    "duration": 21,
    "start_time": "2022-10-04T08:16:07.197Z"
   },
   {
    "duration": 41,
    "start_time": "2022-10-04T08:16:07.220Z"
   },
   {
    "duration": 43,
    "start_time": "2022-10-04T08:16:07.262Z"
   },
   {
    "duration": 40,
    "start_time": "2022-10-04T08:16:07.310Z"
   },
   {
    "duration": 16,
    "start_time": "2022-10-04T08:16:07.352Z"
   },
   {
    "duration": 47,
    "start_time": "2022-10-04T08:16:07.370Z"
   },
   {
    "duration": 18,
    "start_time": "2022-10-04T08:16:07.419Z"
   },
   {
    "duration": 118,
    "start_time": "2022-10-04T08:16:07.438Z"
   },
   {
    "duration": 268,
    "start_time": "2022-10-04T08:16:07.558Z"
   },
   {
    "duration": 79,
    "start_time": "2022-10-04T08:16:07.828Z"
   },
   {
    "duration": 265,
    "start_time": "2022-10-04T08:16:07.909Z"
   },
   {
    "duration": 239,
    "start_time": "2022-10-04T08:16:08.175Z"
   },
   {
    "duration": 232,
    "start_time": "2022-10-04T08:16:08.416Z"
   },
   {
    "duration": 7,
    "start_time": "2022-10-04T08:16:08.650Z"
   },
   {
    "duration": 38,
    "start_time": "2022-10-04T08:16:08.659Z"
   },
   {
    "duration": 7,
    "start_time": "2022-10-04T08:16:08.699Z"
   },
   {
    "duration": 8,
    "start_time": "2022-10-04T08:16:08.708Z"
   },
   {
    "duration": 34,
    "start_time": "2022-10-04T08:16:08.717Z"
   },
   {
    "duration": 7,
    "start_time": "2022-10-04T08:16:08.753Z"
   },
   {
    "duration": 12,
    "start_time": "2022-10-04T08:16:08.762Z"
   },
   {
    "duration": 35,
    "start_time": "2022-10-04T08:16:08.776Z"
   },
   {
    "duration": 80,
    "start_time": "2022-10-04T08:16:08.812Z"
   },
   {
    "duration": 0,
    "start_time": "2022-10-04T08:16:08.893Z"
   },
   {
    "duration": 0,
    "start_time": "2022-10-04T08:16:08.894Z"
   },
   {
    "duration": 0,
    "start_time": "2022-10-04T08:16:08.895Z"
   },
   {
    "duration": 0,
    "start_time": "2022-10-04T08:16:08.896Z"
   },
   {
    "duration": 0,
    "start_time": "2022-10-04T08:16:08.898Z"
   },
   {
    "duration": 0,
    "start_time": "2022-10-04T08:16:08.899Z"
   },
   {
    "duration": 0,
    "start_time": "2022-10-04T08:16:08.900Z"
   },
   {
    "duration": 0,
    "start_time": "2022-10-04T08:16:08.901Z"
   },
   {
    "duration": 0,
    "start_time": "2022-10-04T08:16:08.902Z"
   },
   {
    "duration": 0,
    "start_time": "2022-10-04T08:16:08.903Z"
   },
   {
    "duration": 0,
    "start_time": "2022-10-04T08:16:08.904Z"
   },
   {
    "duration": 0,
    "start_time": "2022-10-04T08:16:08.905Z"
   },
   {
    "duration": 0,
    "start_time": "2022-10-04T08:16:08.905Z"
   },
   {
    "duration": 0,
    "start_time": "2022-10-04T08:16:08.906Z"
   },
   {
    "duration": 0,
    "start_time": "2022-10-04T08:16:08.907Z"
   },
   {
    "duration": 0,
    "start_time": "2022-10-04T08:16:08.908Z"
   },
   {
    "duration": 0,
    "start_time": "2022-10-04T08:16:08.909Z"
   },
   {
    "duration": 0,
    "start_time": "2022-10-04T08:16:08.910Z"
   },
   {
    "duration": 0,
    "start_time": "2022-10-04T08:16:08.910Z"
   },
   {
    "duration": 1,
    "start_time": "2022-10-04T08:16:08.911Z"
   },
   {
    "duration": 0,
    "start_time": "2022-10-04T08:16:08.912Z"
   },
   {
    "duration": 0,
    "start_time": "2022-10-04T08:16:08.913Z"
   },
   {
    "duration": 0,
    "start_time": "2022-10-04T08:16:08.914Z"
   },
   {
    "duration": 0,
    "start_time": "2022-10-04T08:16:08.914Z"
   },
   {
    "duration": 0,
    "start_time": "2022-10-04T08:16:08.915Z"
   },
   {
    "duration": 0,
    "start_time": "2022-10-04T08:16:08.916Z"
   },
   {
    "duration": 0,
    "start_time": "2022-10-04T08:16:08.917Z"
   },
   {
    "duration": 0,
    "start_time": "2022-10-04T08:16:08.918Z"
   },
   {
    "duration": 0,
    "start_time": "2022-10-04T08:16:08.920Z"
   },
   {
    "duration": 0,
    "start_time": "2022-10-04T08:16:08.921Z"
   },
   {
    "duration": 0,
    "start_time": "2022-10-04T08:16:08.922Z"
   },
   {
    "duration": 0,
    "start_time": "2022-10-04T08:16:08.923Z"
   },
   {
    "duration": 0,
    "start_time": "2022-10-04T08:16:08.924Z"
   },
   {
    "duration": 72,
    "start_time": "2022-10-04T08:24:34.593Z"
   },
   {
    "duration": 11,
    "start_time": "2022-10-04T08:24:45.783Z"
   },
   {
    "duration": 32,
    "start_time": "2022-10-04T08:25:00.745Z"
   },
   {
    "duration": 86,
    "start_time": "2022-10-04T08:25:03.184Z"
   },
   {
    "duration": 65,
    "start_time": "2022-10-04T08:25:15.859Z"
   },
   {
    "duration": 30,
    "start_time": "2022-10-04T08:25:22.829Z"
   },
   {
    "duration": 372,
    "start_time": "2022-10-04T08:25:37.955Z"
   },
   {
    "duration": 731,
    "start_time": "2022-10-04T08:25:38.329Z"
   },
   {
    "duration": 124,
    "start_time": "2022-10-04T08:25:39.061Z"
   },
   {
    "duration": 13,
    "start_time": "2022-10-04T08:25:39.187Z"
   },
   {
    "duration": 34,
    "start_time": "2022-10-04T08:25:39.202Z"
   },
   {
    "duration": 123,
    "start_time": "2022-10-04T08:25:39.238Z"
   },
   {
    "duration": 105,
    "start_time": "2022-10-04T08:25:39.363Z"
   },
   {
    "duration": 125,
    "start_time": "2022-10-04T08:25:39.470Z"
   },
   {
    "duration": 15,
    "start_time": "2022-10-04T08:25:39.597Z"
   },
   {
    "duration": 4,
    "start_time": "2022-10-04T08:25:39.614Z"
   },
   {
    "duration": 8,
    "start_time": "2022-10-04T08:25:39.619Z"
   },
   {
    "duration": 34,
    "start_time": "2022-10-04T08:25:39.629Z"
   },
   {
    "duration": 41,
    "start_time": "2022-10-04T08:25:39.664Z"
   },
   {
    "duration": 28,
    "start_time": "2022-10-04T08:25:39.707Z"
   },
   {
    "duration": 17,
    "start_time": "2022-10-04T08:25:39.736Z"
   },
   {
    "duration": 53,
    "start_time": "2022-10-04T08:25:39.755Z"
   },
   {
    "duration": 22,
    "start_time": "2022-10-04T08:25:39.810Z"
   },
   {
    "duration": 31,
    "start_time": "2022-10-04T08:25:39.833Z"
   },
   {
    "duration": 34,
    "start_time": "2022-10-04T08:25:39.866Z"
   },
   {
    "duration": 37,
    "start_time": "2022-10-04T08:25:39.902Z"
   },
   {
    "duration": 22,
    "start_time": "2022-10-04T08:25:39.940Z"
   },
   {
    "duration": 44,
    "start_time": "2022-10-04T08:25:39.964Z"
   },
   {
    "duration": 28,
    "start_time": "2022-10-04T08:25:40.010Z"
   },
   {
    "duration": 38,
    "start_time": "2022-10-04T08:25:40.040Z"
   },
   {
    "duration": 21,
    "start_time": "2022-10-04T08:25:40.079Z"
   },
   {
    "duration": 28,
    "start_time": "2022-10-04T08:25:40.101Z"
   },
   {
    "duration": 13,
    "start_time": "2022-10-04T08:25:40.130Z"
   },
   {
    "duration": 52,
    "start_time": "2022-10-04T08:25:40.147Z"
   },
   {
    "duration": 20,
    "start_time": "2022-10-04T08:25:40.200Z"
   },
   {
    "duration": 29,
    "start_time": "2022-10-04T08:25:40.222Z"
   },
   {
    "duration": 16,
    "start_time": "2022-10-04T08:25:40.253Z"
   },
   {
    "duration": 125,
    "start_time": "2022-10-04T08:25:40.270Z"
   },
   {
    "duration": 278,
    "start_time": "2022-10-04T08:25:40.397Z"
   },
   {
    "duration": 72,
    "start_time": "2022-10-04T08:25:40.677Z"
   },
   {
    "duration": 276,
    "start_time": "2022-10-04T08:25:40.750Z"
   },
   {
    "duration": 300,
    "start_time": "2022-10-04T08:25:41.028Z"
   },
   {
    "duration": 261,
    "start_time": "2022-10-04T08:25:41.330Z"
   },
   {
    "duration": 8,
    "start_time": "2022-10-04T08:25:41.594Z"
   },
   {
    "duration": 29,
    "start_time": "2022-10-04T08:25:41.604Z"
   },
   {
    "duration": 8,
    "start_time": "2022-10-04T08:25:41.635Z"
   },
   {
    "duration": 5,
    "start_time": "2022-10-04T08:25:41.644Z"
   },
   {
    "duration": 59,
    "start_time": "2022-10-04T08:25:41.650Z"
   },
   {
    "duration": 7,
    "start_time": "2022-10-04T08:25:41.710Z"
   },
   {
    "duration": 11,
    "start_time": "2022-10-04T08:25:41.719Z"
   },
   {
    "duration": 28,
    "start_time": "2022-10-04T08:25:41.731Z"
   },
   {
    "duration": 103,
    "start_time": "2022-10-04T08:25:41.761Z"
   },
   {
    "duration": 0,
    "start_time": "2022-10-04T08:25:41.866Z"
   },
   {
    "duration": 0,
    "start_time": "2022-10-04T08:25:41.867Z"
   },
   {
    "duration": 0,
    "start_time": "2022-10-04T08:25:41.868Z"
   },
   {
    "duration": 0,
    "start_time": "2022-10-04T08:25:41.869Z"
   },
   {
    "duration": 0,
    "start_time": "2022-10-04T08:25:41.870Z"
   },
   {
    "duration": 0,
    "start_time": "2022-10-04T08:25:41.871Z"
   },
   {
    "duration": 0,
    "start_time": "2022-10-04T08:25:41.872Z"
   },
   {
    "duration": 0,
    "start_time": "2022-10-04T08:25:41.873Z"
   },
   {
    "duration": 1,
    "start_time": "2022-10-04T08:25:41.873Z"
   },
   {
    "duration": 0,
    "start_time": "2022-10-04T08:25:41.875Z"
   },
   {
    "duration": 0,
    "start_time": "2022-10-04T08:25:41.876Z"
   },
   {
    "duration": 0,
    "start_time": "2022-10-04T08:25:41.877Z"
   },
   {
    "duration": 0,
    "start_time": "2022-10-04T08:25:41.878Z"
   },
   {
    "duration": 0,
    "start_time": "2022-10-04T08:25:41.879Z"
   },
   {
    "duration": 0,
    "start_time": "2022-10-04T08:25:41.880Z"
   },
   {
    "duration": 0,
    "start_time": "2022-10-04T08:25:41.881Z"
   },
   {
    "duration": 0,
    "start_time": "2022-10-04T08:25:41.881Z"
   },
   {
    "duration": 0,
    "start_time": "2022-10-04T08:25:41.882Z"
   },
   {
    "duration": 0,
    "start_time": "2022-10-04T08:25:41.883Z"
   },
   {
    "duration": 0,
    "start_time": "2022-10-04T08:25:41.884Z"
   },
   {
    "duration": 0,
    "start_time": "2022-10-04T08:25:41.886Z"
   },
   {
    "duration": 0,
    "start_time": "2022-10-04T08:25:41.886Z"
   },
   {
    "duration": 0,
    "start_time": "2022-10-04T08:25:41.888Z"
   },
   {
    "duration": 0,
    "start_time": "2022-10-04T08:25:41.889Z"
   },
   {
    "duration": 0,
    "start_time": "2022-10-04T08:25:41.890Z"
   },
   {
    "duration": 0,
    "start_time": "2022-10-04T08:25:41.891Z"
   },
   {
    "duration": 0,
    "start_time": "2022-10-04T08:25:41.892Z"
   },
   {
    "duration": 0,
    "start_time": "2022-10-04T08:25:41.893Z"
   },
   {
    "duration": 0,
    "start_time": "2022-10-04T08:25:41.894Z"
   },
   {
    "duration": 0,
    "start_time": "2022-10-04T08:25:41.895Z"
   },
   {
    "duration": 0,
    "start_time": "2022-10-04T08:25:41.896Z"
   },
   {
    "duration": 0,
    "start_time": "2022-10-04T08:25:41.897Z"
   },
   {
    "duration": 0,
    "start_time": "2022-10-04T08:25:41.898Z"
   },
   {
    "duration": 73,
    "start_time": "2022-10-04T08:25:47.821Z"
   },
   {
    "duration": 10,
    "start_time": "2022-10-04T08:25:48.719Z"
   },
   {
    "duration": 10,
    "start_time": "2022-10-04T08:25:56.841Z"
   },
   {
    "duration": 30,
    "start_time": "2022-10-04T08:26:12.130Z"
   },
   {
    "duration": 109,
    "start_time": "2022-10-04T08:26:56.064Z"
   },
   {
    "duration": 10,
    "start_time": "2022-10-04T08:27:03.860Z"
   },
   {
    "duration": 12,
    "start_time": "2022-10-04T08:27:08.780Z"
   },
   {
    "duration": 86,
    "start_time": "2022-10-04T08:27:12.306Z"
   },
   {
    "duration": 28,
    "start_time": "2022-10-04T08:27:31.084Z"
   },
   {
    "duration": 76,
    "start_time": "2022-10-04T08:27:31.568Z"
   },
   {
    "duration": 662,
    "start_time": "2022-10-04T08:27:40.498Z"
   },
   {
    "duration": 123,
    "start_time": "2022-10-04T08:27:41.162Z"
   },
   {
    "duration": 8,
    "start_time": "2022-10-04T08:27:41.287Z"
   },
   {
    "duration": 36,
    "start_time": "2022-10-04T08:27:41.704Z"
   },
   {
    "duration": 3,
    "start_time": "2022-10-04T08:27:43.628Z"
   },
   {
    "duration": 17,
    "start_time": "2022-10-04T08:27:43.963Z"
   },
   {
    "duration": 572,
    "start_time": "2022-10-04T08:27:44.980Z"
   },
   {
    "duration": 19,
    "start_time": "2022-10-04T08:27:55.150Z"
   },
   {
    "duration": 428,
    "start_time": "2022-10-04T08:28:21.766Z"
   },
   {
    "duration": 818,
    "start_time": "2022-10-04T08:28:22.196Z"
   },
   {
    "duration": 118,
    "start_time": "2022-10-04T08:28:23.016Z"
   },
   {
    "duration": 4,
    "start_time": "2022-10-04T08:28:23.136Z"
   },
   {
    "duration": 8,
    "start_time": "2022-10-04T08:28:23.142Z"
   },
   {
    "duration": 120,
    "start_time": "2022-10-04T08:28:23.151Z"
   },
   {
    "duration": 108,
    "start_time": "2022-10-04T08:28:23.272Z"
   },
   {
    "duration": 118,
    "start_time": "2022-10-04T08:28:23.382Z"
   },
   {
    "duration": 16,
    "start_time": "2022-10-04T08:28:23.502Z"
   },
   {
    "duration": 4,
    "start_time": "2022-10-04T08:28:23.521Z"
   },
   {
    "duration": 10,
    "start_time": "2022-10-04T08:28:23.526Z"
   },
   {
    "duration": 31,
    "start_time": "2022-10-04T08:28:23.537Z"
   },
   {
    "duration": 25,
    "start_time": "2022-10-04T08:28:23.596Z"
   },
   {
    "duration": 27,
    "start_time": "2022-10-04T08:28:23.623Z"
   },
   {
    "duration": 14,
    "start_time": "2022-10-04T08:28:23.652Z"
   },
   {
    "duration": 31,
    "start_time": "2022-10-04T08:28:23.694Z"
   },
   {
    "duration": 22,
    "start_time": "2022-10-04T08:28:23.727Z"
   },
   {
    "duration": 50,
    "start_time": "2022-10-04T08:28:23.751Z"
   },
   {
    "duration": 14,
    "start_time": "2022-10-04T08:28:23.803Z"
   },
   {
    "duration": 37,
    "start_time": "2022-10-04T08:28:23.819Z"
   },
   {
    "duration": 46,
    "start_time": "2022-10-04T08:28:23.858Z"
   },
   {
    "duration": 31,
    "start_time": "2022-10-04T08:28:23.906Z"
   },
   {
    "duration": 15,
    "start_time": "2022-10-04T08:28:23.939Z"
   },
   {
    "duration": 52,
    "start_time": "2022-10-04T08:28:23.956Z"
   },
   {
    "duration": 22,
    "start_time": "2022-10-04T08:28:24.010Z"
   },
   {
    "duration": 37,
    "start_time": "2022-10-04T08:28:24.034Z"
   },
   {
    "duration": 13,
    "start_time": "2022-10-04T08:28:24.096Z"
   },
   {
    "duration": 32,
    "start_time": "2022-10-04T08:28:24.113Z"
   },
   {
    "duration": 20,
    "start_time": "2022-10-04T08:28:24.147Z"
   },
   {
    "duration": 50,
    "start_time": "2022-10-04T08:28:24.169Z"
   },
   {
    "duration": 13,
    "start_time": "2022-10-04T08:28:24.220Z"
   },
   {
    "duration": 124,
    "start_time": "2022-10-04T08:28:24.234Z"
   },
   {
    "duration": 287,
    "start_time": "2022-10-04T08:28:24.360Z"
   },
   {
    "duration": 79,
    "start_time": "2022-10-04T08:28:24.648Z"
   },
   {
    "duration": 304,
    "start_time": "2022-10-04T08:28:24.729Z"
   },
   {
    "duration": 300,
    "start_time": "2022-10-04T08:28:25.034Z"
   },
   {
    "duration": 254,
    "start_time": "2022-10-04T08:28:25.336Z"
   },
   {
    "duration": 8,
    "start_time": "2022-10-04T08:28:25.594Z"
   },
   {
    "duration": 28,
    "start_time": "2022-10-04T08:28:25.603Z"
   },
   {
    "duration": 7,
    "start_time": "2022-10-04T08:28:25.633Z"
   },
   {
    "duration": 4,
    "start_time": "2022-10-04T08:28:25.642Z"
   },
   {
    "duration": 54,
    "start_time": "2022-10-04T08:28:25.648Z"
   },
   {
    "duration": 7,
    "start_time": "2022-10-04T08:28:25.704Z"
   },
   {
    "duration": 4,
    "start_time": "2022-10-04T08:28:25.713Z"
   },
   {
    "duration": 25,
    "start_time": "2022-10-04T08:28:25.718Z"
   },
   {
    "duration": 53,
    "start_time": "2022-10-04T08:28:25.745Z"
   },
   {
    "duration": 76,
    "start_time": "2022-10-04T08:28:25.800Z"
   },
   {
    "duration": 32,
    "start_time": "2022-10-04T08:28:25.878Z"
   },
   {
    "duration": 678,
    "start_time": "2022-10-04T08:28:25.912Z"
   },
   {
    "duration": 121,
    "start_time": "2022-10-04T08:28:26.592Z"
   },
   {
    "duration": 6,
    "start_time": "2022-10-04T08:28:26.715Z"
   },
   {
    "duration": 28,
    "start_time": "2022-10-04T08:28:26.723Z"
   },
   {
    "duration": 2,
    "start_time": "2022-10-04T08:28:26.753Z"
   },
   {
    "duration": 592,
    "start_time": "2022-10-04T08:28:26.757Z"
   },
   {
    "duration": 49,
    "start_time": "2022-10-04T08:28:27.351Z"
   },
   {
    "duration": 94,
    "start_time": "2022-10-04T08:28:27.402Z"
   },
   {
    "duration": 825,
    "start_time": "2022-10-04T08:28:27.499Z"
   },
   {
    "duration": 49266,
    "start_time": "2022-10-04T08:28:28.326Z"
   },
   {
    "duration": 6,
    "start_time": "2022-10-04T08:29:17.595Z"
   },
   {
    "duration": 10,
    "start_time": "2022-10-04T08:29:17.603Z"
   },
   {
    "duration": 8,
    "start_time": "2022-10-04T08:29:17.614Z"
   },
   {
    "duration": 6901,
    "start_time": "2022-10-04T08:29:17.624Z"
   },
   {
    "duration": 45868,
    "start_time": "2022-10-04T08:29:24.527Z"
   },
   {
    "duration": 7,
    "start_time": "2022-10-04T08:30:10.397Z"
   },
   {
    "duration": 10,
    "start_time": "2022-10-04T08:30:10.406Z"
   },
   {
    "duration": 250,
    "start_time": "2022-10-04T08:30:10.417Z"
   },
   {
    "duration": 3,
    "start_time": "2022-10-04T08:30:10.668Z"
   },
   {
    "duration": 6,
    "start_time": "2022-10-04T08:30:10.672Z"
   },
   {
    "duration": 6,
    "start_time": "2022-10-04T08:30:10.679Z"
   },
   {
    "duration": 13,
    "start_time": "2022-10-04T08:30:10.686Z"
   },
   {
    "duration": 280,
    "start_time": "2022-10-04T08:30:10.701Z"
   },
   {
    "duration": 0,
    "start_time": "2022-10-04T08:30:10.983Z"
   },
   {
    "duration": 0,
    "start_time": "2022-10-04T08:30:10.984Z"
   },
   {
    "duration": 0,
    "start_time": "2022-10-04T08:30:10.985Z"
   },
   {
    "duration": 0,
    "start_time": "2022-10-04T08:30:10.995Z"
   },
   {
    "duration": 0,
    "start_time": "2022-10-04T08:30:10.995Z"
   },
   {
    "duration": 0,
    "start_time": "2022-10-04T08:30:10.996Z"
   },
   {
    "duration": 0,
    "start_time": "2022-10-04T08:30:10.997Z"
   },
   {
    "duration": 0,
    "start_time": "2022-10-04T08:30:10.999Z"
   },
   {
    "duration": 372,
    "start_time": "2022-10-04T08:31:06.144Z"
   },
   {
    "duration": 823,
    "start_time": "2022-10-04T08:31:06.518Z"
   },
   {
    "duration": 109,
    "start_time": "2022-10-04T08:31:07.342Z"
   },
   {
    "duration": 4,
    "start_time": "2022-10-04T08:31:07.453Z"
   },
   {
    "duration": 7,
    "start_time": "2022-10-04T08:31:07.459Z"
   },
   {
    "duration": 123,
    "start_time": "2022-10-04T08:31:07.467Z"
   },
   {
    "duration": 106,
    "start_time": "2022-10-04T08:31:07.594Z"
   },
   {
    "duration": 115,
    "start_time": "2022-10-04T08:31:07.702Z"
   },
   {
    "duration": 14,
    "start_time": "2022-10-04T08:31:07.819Z"
   },
   {
    "duration": 6,
    "start_time": "2022-10-04T08:31:07.835Z"
   },
   {
    "duration": 5,
    "start_time": "2022-10-04T08:31:07.842Z"
   },
   {
    "duration": 47,
    "start_time": "2022-10-04T08:31:07.849Z"
   },
   {
    "duration": 25,
    "start_time": "2022-10-04T08:31:07.898Z"
   },
   {
    "duration": 27,
    "start_time": "2022-10-04T08:31:07.926Z"
   },
   {
    "duration": 16,
    "start_time": "2022-10-04T08:31:07.954Z"
   },
   {
    "duration": 53,
    "start_time": "2022-10-04T08:31:07.972Z"
   },
   {
    "duration": 22,
    "start_time": "2022-10-04T08:31:08.027Z"
   },
   {
    "duration": 46,
    "start_time": "2022-10-04T08:31:08.051Z"
   },
   {
    "duration": 17,
    "start_time": "2022-10-04T08:31:08.099Z"
   },
   {
    "duration": 32,
    "start_time": "2022-10-04T08:31:08.118Z"
   },
   {
    "duration": 43,
    "start_time": "2022-10-04T08:31:08.152Z"
   },
   {
    "duration": 28,
    "start_time": "2022-10-04T08:31:08.197Z"
   },
   {
    "duration": 15,
    "start_time": "2022-10-04T08:31:08.226Z"
   },
   {
    "duration": 30,
    "start_time": "2022-10-04T08:31:08.243Z"
   },
   {
    "duration": 36,
    "start_time": "2022-10-04T08:31:08.275Z"
   },
   {
    "duration": 28,
    "start_time": "2022-10-04T08:31:08.313Z"
   },
   {
    "duration": 14,
    "start_time": "2022-10-04T08:31:08.343Z"
   },
   {
    "duration": 48,
    "start_time": "2022-10-04T08:31:08.359Z"
   },
   {
    "duration": 20,
    "start_time": "2022-10-04T08:31:08.409Z"
   },
   {
    "duration": 30,
    "start_time": "2022-10-04T08:31:08.430Z"
   },
   {
    "duration": 35,
    "start_time": "2022-10-04T08:31:08.461Z"
   },
   {
    "duration": 107,
    "start_time": "2022-10-04T08:31:08.498Z"
   },
   {
    "duration": 317,
    "start_time": "2022-10-04T08:31:08.607Z"
   },
   {
    "duration": 83,
    "start_time": "2022-10-04T08:31:08.926Z"
   },
   {
    "duration": 273,
    "start_time": "2022-10-04T08:31:09.011Z"
   },
   {
    "duration": 309,
    "start_time": "2022-10-04T08:31:09.286Z"
   },
   {
    "duration": 281,
    "start_time": "2022-10-04T08:31:09.597Z"
   },
   {
    "duration": 16,
    "start_time": "2022-10-04T08:31:09.880Z"
   },
   {
    "duration": 28,
    "start_time": "2022-10-04T08:31:09.898Z"
   },
   {
    "duration": 8,
    "start_time": "2022-10-04T08:31:09.928Z"
   },
   {
    "duration": 5,
    "start_time": "2022-10-04T08:31:09.940Z"
   },
   {
    "duration": 56,
    "start_time": "2022-10-04T08:31:09.947Z"
   },
   {
    "duration": 8,
    "start_time": "2022-10-04T08:31:10.005Z"
   },
   {
    "duration": 5,
    "start_time": "2022-10-04T08:31:10.015Z"
   },
   {
    "duration": 39,
    "start_time": "2022-10-04T08:31:10.022Z"
   },
   {
    "duration": 53,
    "start_time": "2022-10-04T08:31:10.063Z"
   },
   {
    "duration": 91,
    "start_time": "2022-10-04T08:31:10.117Z"
   },
   {
    "duration": 28,
    "start_time": "2022-10-04T08:31:10.210Z"
   },
   {
    "duration": 697,
    "start_time": "2022-10-04T08:31:10.240Z"
   },
   {
    "duration": 105,
    "start_time": "2022-10-04T08:31:10.939Z"
   },
   {
    "duration": 6,
    "start_time": "2022-10-04T08:31:11.046Z"
   },
   {
    "duration": 28,
    "start_time": "2022-10-04T08:31:11.054Z"
   },
   {
    "duration": 13,
    "start_time": "2022-10-04T08:31:11.083Z"
   },
   {
    "duration": 614,
    "start_time": "2022-10-04T08:31:11.097Z"
   },
   {
    "duration": 41,
    "start_time": "2022-10-04T08:31:11.712Z"
   },
   {
    "duration": 143,
    "start_time": "2022-10-04T08:31:11.755Z"
   },
   {
    "duration": 878,
    "start_time": "2022-10-04T08:31:11.900Z"
   },
   {
    "duration": 52593,
    "start_time": "2022-10-04T08:31:12.780Z"
   },
   {
    "duration": 6,
    "start_time": "2022-10-04T08:32:05.375Z"
   },
   {
    "duration": 11,
    "start_time": "2022-10-04T08:32:05.394Z"
   },
   {
    "duration": 16,
    "start_time": "2022-10-04T08:32:05.406Z"
   },
   {
    "duration": 7775,
    "start_time": "2022-10-04T08:32:05.424Z"
   },
   {
    "duration": 50677,
    "start_time": "2022-10-04T08:32:13.200Z"
   },
   {
    "duration": 16,
    "start_time": "2022-10-04T08:33:03.879Z"
   },
   {
    "duration": 16,
    "start_time": "2022-10-04T08:33:03.896Z"
   },
   {
    "duration": 287,
    "start_time": "2022-10-04T08:33:03.914Z"
   },
   {
    "duration": 3,
    "start_time": "2022-10-04T08:33:04.203Z"
   },
   {
    "duration": 19,
    "start_time": "2022-10-04T08:33:04.207Z"
   },
   {
    "duration": 17,
    "start_time": "2022-10-04T08:33:04.228Z"
   },
   {
    "duration": 33,
    "start_time": "2022-10-04T08:33:04.247Z"
   },
   {
    "duration": 118,
    "start_time": "2022-10-04T08:33:04.296Z"
   },
   {
    "duration": 2339,
    "start_time": "2022-10-04T08:33:04.416Z"
   },
   {
    "duration": 7,
    "start_time": "2022-10-04T08:33:06.757Z"
   },
   {
    "duration": 30,
    "start_time": "2022-10-04T08:33:06.766Z"
   },
   {
    "duration": 22,
    "start_time": "2022-10-04T08:33:06.798Z"
   },
   {
    "duration": 22,
    "start_time": "2022-10-04T08:33:06.822Z"
   },
   {
    "duration": 31,
    "start_time": "2022-10-04T08:33:06.846Z"
   },
   {
    "duration": 22481,
    "start_time": "2022-10-04T08:33:41.933Z"
   },
   {
    "duration": 426,
    "start_time": "2022-10-04T08:34:23.489Z"
   },
   {
    "duration": 859,
    "start_time": "2022-10-04T08:34:23.917Z"
   },
   {
    "duration": 137,
    "start_time": "2022-10-04T08:34:24.777Z"
   },
   {
    "duration": 5,
    "start_time": "2022-10-04T08:34:24.917Z"
   },
   {
    "duration": 13,
    "start_time": "2022-10-04T08:34:24.924Z"
   },
   {
    "duration": 129,
    "start_time": "2022-10-04T08:34:24.939Z"
   },
   {
    "duration": 121,
    "start_time": "2022-10-04T08:34:25.069Z"
   },
   {
    "duration": 118,
    "start_time": "2022-10-04T08:34:25.194Z"
   },
   {
    "duration": 16,
    "start_time": "2022-10-04T08:34:25.314Z"
   },
   {
    "duration": 3,
    "start_time": "2022-10-04T08:34:25.333Z"
   },
   {
    "duration": 6,
    "start_time": "2022-10-04T08:34:25.339Z"
   },
   {
    "duration": 60,
    "start_time": "2022-10-04T08:34:25.346Z"
   },
   {
    "duration": 26,
    "start_time": "2022-10-04T08:34:25.408Z"
   },
   {
    "duration": 30,
    "start_time": "2022-10-04T08:34:25.436Z"
   },
   {
    "duration": 32,
    "start_time": "2022-10-04T08:34:25.468Z"
   },
   {
    "duration": 35,
    "start_time": "2022-10-04T08:34:25.501Z"
   },
   {
    "duration": 22,
    "start_time": "2022-10-04T08:34:25.538Z"
   },
   {
    "duration": 49,
    "start_time": "2022-10-04T08:34:25.562Z"
   },
   {
    "duration": 14,
    "start_time": "2022-10-04T08:34:25.612Z"
   },
   {
    "duration": 33,
    "start_time": "2022-10-04T08:34:25.627Z"
   },
   {
    "duration": 45,
    "start_time": "2022-10-04T08:34:25.662Z"
   },
   {
    "duration": 31,
    "start_time": "2022-10-04T08:34:25.709Z"
   },
   {
    "duration": 16,
    "start_time": "2022-10-04T08:34:25.741Z"
   },
   {
    "duration": 65,
    "start_time": "2022-10-04T08:34:25.759Z"
   },
   {
    "duration": 23,
    "start_time": "2022-10-04T08:34:25.825Z"
   },
   {
    "duration": 46,
    "start_time": "2022-10-04T08:34:25.850Z"
   },
   {
    "duration": 14,
    "start_time": "2022-10-04T08:34:25.898Z"
   },
   {
    "duration": 35,
    "start_time": "2022-10-04T08:34:25.916Z"
   },
   {
    "duration": 51,
    "start_time": "2022-10-04T08:34:25.953Z"
   },
   {
    "duration": 33,
    "start_time": "2022-10-04T08:34:26.006Z"
   },
   {
    "duration": 15,
    "start_time": "2022-10-04T08:34:26.040Z"
   },
   {
    "duration": 145,
    "start_time": "2022-10-04T08:34:26.056Z"
   },
   {
    "duration": 313,
    "start_time": "2022-10-04T08:34:26.203Z"
   },
   {
    "duration": 97,
    "start_time": "2022-10-04T08:34:26.519Z"
   },
   {
    "duration": 331,
    "start_time": "2022-10-04T08:34:26.618Z"
   },
   {
    "duration": 324,
    "start_time": "2022-10-04T08:34:26.951Z"
   },
   {
    "duration": 262,
    "start_time": "2022-10-04T08:34:27.277Z"
   },
   {
    "duration": 7,
    "start_time": "2022-10-04T08:34:27.540Z"
   },
   {
    "duration": 47,
    "start_time": "2022-10-04T08:34:27.548Z"
   },
   {
    "duration": 7,
    "start_time": "2022-10-04T08:34:27.597Z"
   },
   {
    "duration": 4,
    "start_time": "2022-10-04T08:34:27.606Z"
   },
   {
    "duration": 31,
    "start_time": "2022-10-04T08:34:27.612Z"
   },
   {
    "duration": 8,
    "start_time": "2022-10-04T08:34:27.644Z"
   },
   {
    "duration": 4,
    "start_time": "2022-10-04T08:34:27.653Z"
   },
   {
    "duration": 67,
    "start_time": "2022-10-04T08:34:27.659Z"
   },
   {
    "duration": 31,
    "start_time": "2022-10-04T08:34:27.727Z"
   },
   {
    "duration": 87,
    "start_time": "2022-10-04T08:34:27.759Z"
   },
   {
    "duration": 29,
    "start_time": "2022-10-04T08:34:27.848Z"
   },
   {
    "duration": 668,
    "start_time": "2022-10-04T08:34:27.878Z"
   },
   {
    "duration": 107,
    "start_time": "2022-10-04T08:34:28.548Z"
   },
   {
    "duration": 6,
    "start_time": "2022-10-04T08:34:28.657Z"
   },
   {
    "duration": 44,
    "start_time": "2022-10-04T08:34:28.665Z"
   },
   {
    "duration": 3,
    "start_time": "2022-10-04T08:34:28.710Z"
   },
   {
    "duration": 607,
    "start_time": "2022-10-04T08:34:28.715Z"
   },
   {
    "duration": 44,
    "start_time": "2022-10-04T08:34:29.324Z"
   },
   {
    "duration": 132,
    "start_time": "2022-10-04T08:34:29.370Z"
   },
   {
    "duration": 846,
    "start_time": "2022-10-04T08:34:29.504Z"
   },
   {
    "duration": 51319,
    "start_time": "2022-10-04T08:34:30.352Z"
   },
   {
    "duration": 7,
    "start_time": "2022-10-04T08:35:21.673Z"
   },
   {
    "duration": 17,
    "start_time": "2022-10-04T08:35:21.681Z"
   },
   {
    "duration": 10,
    "start_time": "2022-10-04T08:35:21.700Z"
   },
   {
    "duration": 7693,
    "start_time": "2022-10-04T08:35:21.712Z"
   },
   {
    "duration": 22685,
    "start_time": "2022-10-04T08:35:29.406Z"
   },
   {
    "duration": 8,
    "start_time": "2022-10-04T08:35:52.093Z"
   },
   {
    "duration": 18,
    "start_time": "2022-10-04T08:35:52.103Z"
   },
   {
    "duration": 554,
    "start_time": "2022-10-04T08:35:52.123Z"
   },
   {
    "duration": 3,
    "start_time": "2022-10-04T08:35:52.678Z"
   },
   {
    "duration": 6,
    "start_time": "2022-10-04T08:35:52.682Z"
   },
   {
    "duration": 5,
    "start_time": "2022-10-04T08:35:52.690Z"
   },
   {
    "duration": 15,
    "start_time": "2022-10-04T08:35:52.696Z"
   },
   {
    "duration": 94,
    "start_time": "2022-10-04T08:35:52.712Z"
   },
   {
    "duration": 2140,
    "start_time": "2022-10-04T08:35:52.894Z"
   },
   {
    "duration": 6,
    "start_time": "2022-10-04T08:35:55.036Z"
   },
   {
    "duration": 16,
    "start_time": "2022-10-04T08:35:55.044Z"
   },
   {
    "duration": 17,
    "start_time": "2022-10-04T08:35:55.061Z"
   },
   {
    "duration": 16,
    "start_time": "2022-10-04T08:35:55.079Z"
   },
   {
    "duration": 13,
    "start_time": "2022-10-04T08:35:55.097Z"
   },
   {
    "duration": 339473,
    "start_time": "2022-10-04T08:37:16.992Z"
   },
   {
    "duration": 9,
    "start_time": "2022-10-04T08:44:38.354Z"
   },
   {
    "duration": 10,
    "start_time": "2022-10-04T08:44:45.041Z"
   },
   {
    "duration": 60,
    "start_time": "2022-10-04T08:48:29.481Z"
   },
   {
    "duration": 28,
    "start_time": "2022-10-04T08:48:30.969Z"
   },
   {
    "duration": 3,
    "start_time": "2022-10-04T08:48:34.102Z"
   },
   {
    "duration": 4,
    "start_time": "2022-10-04T08:49:00.540Z"
   },
   {
    "duration": 689,
    "start_time": "2022-10-04T08:50:34.087Z"
   },
   {
    "duration": 25,
    "start_time": "2022-10-04T08:50:45.657Z"
   },
   {
    "duration": 3,
    "start_time": "2022-10-04T08:50:49.640Z"
   },
   {
    "duration": 48086,
    "start_time": "2022-10-04T08:52:02.594Z"
   },
   {
    "duration": 1532,
    "start_time": "2022-10-04T08:52:55.893Z"
   },
   {
    "duration": 48314,
    "start_time": "2022-10-04T08:53:05.347Z"
   },
   {
    "duration": 1559,
    "start_time": "2022-10-04T08:53:53.663Z"
   },
   {
    "duration": 4,
    "start_time": "2022-10-04T08:53:55.224Z"
   },
   {
    "duration": 408,
    "start_time": "2022-10-04T08:56:14.303Z"
   },
   {
    "duration": 777,
    "start_time": "2022-10-04T08:56:14.712Z"
   },
   {
    "duration": 126,
    "start_time": "2022-10-04T08:56:15.490Z"
   },
   {
    "duration": 4,
    "start_time": "2022-10-04T08:56:15.618Z"
   },
   {
    "duration": 7,
    "start_time": "2022-10-04T08:56:15.623Z"
   },
   {
    "duration": 118,
    "start_time": "2022-10-04T08:56:15.632Z"
   },
   {
    "duration": 117,
    "start_time": "2022-10-04T08:56:15.752Z"
   },
   {
    "duration": 110,
    "start_time": "2022-10-04T08:56:15.870Z"
   },
   {
    "duration": 22,
    "start_time": "2022-10-04T08:56:15.982Z"
   },
   {
    "duration": 4,
    "start_time": "2022-10-04T08:56:16.007Z"
   },
   {
    "duration": 5,
    "start_time": "2022-10-04T08:56:16.012Z"
   },
   {
    "duration": 32,
    "start_time": "2022-10-04T08:56:16.018Z"
   },
   {
    "duration": 44,
    "start_time": "2022-10-04T08:56:16.052Z"
   },
   {
    "duration": 27,
    "start_time": "2022-10-04T08:56:16.098Z"
   },
   {
    "duration": 19,
    "start_time": "2022-10-04T08:56:16.127Z"
   },
   {
    "duration": 48,
    "start_time": "2022-10-04T08:56:16.148Z"
   },
   {
    "duration": 23,
    "start_time": "2022-10-04T08:56:16.198Z"
   },
   {
    "duration": 29,
    "start_time": "2022-10-04T08:56:16.223Z"
   },
   {
    "duration": 14,
    "start_time": "2022-10-04T08:56:16.254Z"
   },
   {
    "duration": 31,
    "start_time": "2022-10-04T08:56:16.296Z"
   },
   {
    "duration": 22,
    "start_time": "2022-10-04T08:56:16.329Z"
   },
   {
    "duration": 52,
    "start_time": "2022-10-04T08:56:16.353Z"
   },
   {
    "duration": 14,
    "start_time": "2022-10-04T08:56:16.408Z"
   },
   {
    "duration": 31,
    "start_time": "2022-10-04T08:56:16.424Z"
   },
   {
    "duration": 45,
    "start_time": "2022-10-04T08:56:16.457Z"
   },
   {
    "duration": 30,
    "start_time": "2022-10-04T08:56:16.503Z"
   },
   {
    "duration": 31,
    "start_time": "2022-10-04T08:56:16.535Z"
   },
   {
    "duration": 62,
    "start_time": "2022-10-04T08:56:16.572Z"
   },
   {
    "duration": 22,
    "start_time": "2022-10-04T08:56:16.636Z"
   },
   {
    "duration": 49,
    "start_time": "2022-10-04T08:56:16.660Z"
   },
   {
    "duration": 19,
    "start_time": "2022-10-04T08:56:16.711Z"
   },
   {
    "duration": 135,
    "start_time": "2022-10-04T08:56:16.732Z"
   },
   {
    "duration": 313,
    "start_time": "2022-10-04T08:56:16.868Z"
   },
   {
    "duration": 76,
    "start_time": "2022-10-04T08:56:17.183Z"
   },
   {
    "duration": 283,
    "start_time": "2022-10-04T08:56:17.261Z"
   },
   {
    "duration": 318,
    "start_time": "2022-10-04T08:56:17.546Z"
   },
   {
    "duration": 279,
    "start_time": "2022-10-04T08:56:17.866Z"
   },
   {
    "duration": 7,
    "start_time": "2022-10-04T08:56:18.146Z"
   },
   {
    "duration": 41,
    "start_time": "2022-10-04T08:56:18.154Z"
   },
   {
    "duration": 7,
    "start_time": "2022-10-04T08:56:18.197Z"
   },
   {
    "duration": 5,
    "start_time": "2022-10-04T08:56:18.206Z"
   },
   {
    "duration": 32,
    "start_time": "2022-10-04T08:56:18.212Z"
   },
   {
    "duration": 8,
    "start_time": "2022-10-04T08:56:18.246Z"
   },
   {
    "duration": 5,
    "start_time": "2022-10-04T08:56:18.255Z"
   },
   {
    "duration": 58,
    "start_time": "2022-10-04T08:56:18.261Z"
   },
   {
    "duration": 30,
    "start_time": "2022-10-04T08:56:18.320Z"
   },
   {
    "duration": 88,
    "start_time": "2022-10-04T08:56:18.352Z"
   },
   {
    "duration": 28,
    "start_time": "2022-10-04T08:56:18.442Z"
   },
   {
    "duration": 655,
    "start_time": "2022-10-04T08:56:18.471Z"
   },
   {
    "duration": 109,
    "start_time": "2022-10-04T08:56:19.129Z"
   },
   {
    "duration": 5,
    "start_time": "2022-10-04T08:56:19.240Z"
   },
   {
    "duration": 33,
    "start_time": "2022-10-04T08:56:19.246Z"
   },
   {
    "duration": 16,
    "start_time": "2022-10-04T08:56:19.280Z"
   },
   {
    "duration": 592,
    "start_time": "2022-10-04T08:56:19.297Z"
   },
   {
    "duration": 43,
    "start_time": "2022-10-04T08:56:19.891Z"
   },
   {
    "duration": 74,
    "start_time": "2022-10-04T08:56:19.936Z"
   },
   {
    "duration": 183,
    "start_time": "2022-10-04T08:56:20.012Z"
   },
   {
    "duration": 5,
    "start_time": "2022-10-04T08:56:20.198Z"
   },
   {
    "duration": 830,
    "start_time": "2022-10-04T08:56:20.205Z"
   },
   {
    "duration": 27,
    "start_time": "2022-10-04T08:56:21.037Z"
   },
   {
    "duration": 3,
    "start_time": "2022-10-04T08:56:21.066Z"
   },
   {
    "duration": 51238,
    "start_time": "2022-10-04T08:56:21.095Z"
   },
   {
    "duration": 1530,
    "start_time": "2022-10-04T08:57:12.335Z"
   },
   {
    "duration": 3,
    "start_time": "2022-10-04T08:57:13.867Z"
   },
   {
    "duration": 102,
    "start_time": "2022-10-04T08:57:13.872Z"
   },
   {
    "duration": 0,
    "start_time": "2022-10-04T08:57:13.975Z"
   },
   {
    "duration": 0,
    "start_time": "2022-10-04T08:57:13.977Z"
   },
   {
    "duration": 0,
    "start_time": "2022-10-04T08:57:13.978Z"
   },
   {
    "duration": 0,
    "start_time": "2022-10-04T08:57:13.979Z"
   },
   {
    "duration": 0,
    "start_time": "2022-10-04T08:57:13.980Z"
   },
   {
    "duration": 0,
    "start_time": "2022-10-04T08:57:13.995Z"
   },
   {
    "duration": 0,
    "start_time": "2022-10-04T08:57:13.996Z"
   },
   {
    "duration": 0,
    "start_time": "2022-10-04T08:57:13.997Z"
   },
   {
    "duration": 0,
    "start_time": "2022-10-04T08:57:13.998Z"
   },
   {
    "duration": 0,
    "start_time": "2022-10-04T08:57:13.999Z"
   },
   {
    "duration": 0,
    "start_time": "2022-10-04T08:57:14.001Z"
   },
   {
    "duration": 0,
    "start_time": "2022-10-04T08:57:14.002Z"
   },
   {
    "duration": 0,
    "start_time": "2022-10-04T08:57:14.003Z"
   },
   {
    "duration": 0,
    "start_time": "2022-10-04T08:57:14.004Z"
   },
   {
    "duration": 0,
    "start_time": "2022-10-04T08:57:14.005Z"
   },
   {
    "duration": 0,
    "start_time": "2022-10-04T08:57:14.006Z"
   },
   {
    "duration": 0,
    "start_time": "2022-10-04T08:57:14.007Z"
   },
   {
    "duration": 0,
    "start_time": "2022-10-04T08:57:14.008Z"
   },
   {
    "duration": 0,
    "start_time": "2022-10-04T08:57:14.009Z"
   },
   {
    "duration": 0,
    "start_time": "2022-10-04T08:57:14.010Z"
   },
   {
    "duration": 5,
    "start_time": "2022-10-04T08:57:51.555Z"
   },
   {
    "duration": 5,
    "start_time": "2022-10-04T08:57:52.593Z"
   },
   {
    "duration": 3,
    "start_time": "2022-10-04T08:57:53.214Z"
   },
   {
    "duration": 11,
    "start_time": "2022-10-04T08:58:00.317Z"
   },
   {
    "duration": 75,
    "start_time": "2022-10-04T09:07:45.000Z"
   },
   {
    "duration": 11,
    "start_time": "2022-10-04T09:08:16.116Z"
   },
   {
    "duration": 76,
    "start_time": "2022-10-04T09:08:23.766Z"
   },
   {
    "duration": 2,
    "start_time": "2022-10-04T09:08:31.008Z"
   },
   {
    "duration": 7235,
    "start_time": "2022-10-04T09:08:32.330Z"
   },
   {
    "duration": 5,
    "start_time": "2022-10-04T09:09:01.682Z"
   },
   {
    "duration": 58192,
    "start_time": "2022-10-04T09:11:54.244Z"
   },
   {
    "duration": 4,
    "start_time": "2022-10-04T09:12:52.438Z"
   },
   {
    "duration": 57681,
    "start_time": "2022-10-04T09:13:18.328Z"
   },
   {
    "duration": 9,
    "start_time": "2022-10-04T09:14:37.687Z"
   },
   {
    "duration": 10,
    "start_time": "2022-10-04T09:14:38.891Z"
   },
   {
    "duration": 317,
    "start_time": "2022-10-04T09:14:56.497Z"
   },
   {
    "duration": 3,
    "start_time": "2022-10-04T09:15:02.863Z"
   },
   {
    "duration": 26337,
    "start_time": "2022-10-04T09:18:51.002Z"
   },
   {
    "duration": 31258,
    "start_time": "2022-10-04T09:20:08.439Z"
   },
   {
    "duration": 10,
    "start_time": "2022-10-04T09:21:37.535Z"
   },
   {
    "duration": 5204,
    "start_time": "2022-10-04T09:28:20.469Z"
   },
   {
    "duration": 10,
    "start_time": "2022-10-04T09:30:01.347Z"
   },
   {
    "duration": 6703,
    "start_time": "2022-10-04T09:30:32.477Z"
   },
   {
    "duration": 2970,
    "start_time": "2022-10-04T09:32:15.543Z"
   },
   {
    "duration": 10,
    "start_time": "2022-10-04T09:32:20.794Z"
   },
   {
    "duration": 6136,
    "start_time": "2022-10-04T09:33:07.884Z"
   },
   {
    "duration": 10,
    "start_time": "2022-10-04T09:33:31.493Z"
   },
   {
    "duration": 2158,
    "start_time": "2022-10-04T09:33:41.410Z"
   },
   {
    "duration": 2141,
    "start_time": "2022-10-04T09:34:02.368Z"
   },
   {
    "duration": 2144,
    "start_time": "2022-10-04T09:34:31.480Z"
   },
   {
    "duration": 3687,
    "start_time": "2022-10-04T09:35:13.452Z"
   },
   {
    "duration": 55838,
    "start_time": "2022-10-04T09:35:34.901Z"
   },
   {
    "duration": 55376,
    "start_time": "2022-10-04T09:42:55.173Z"
   },
   {
    "duration": 4,
    "start_time": "2022-10-04T09:44:28.847Z"
   },
   {
    "duration": 4,
    "start_time": "2022-10-04T09:47:20.182Z"
   },
   {
    "duration": 27589,
    "start_time": "2022-10-04T10:06:43.040Z"
   },
   {
    "duration": 3,
    "start_time": "2022-10-04T10:07:13.234Z"
   },
   {
    "duration": 5,
    "start_time": "2022-10-04T10:07:22.738Z"
   },
   {
    "duration": 4,
    "start_time": "2022-10-04T10:08:03.242Z"
   },
   {
    "duration": 83209,
    "start_time": "2022-10-04T10:10:25.407Z"
   },
   {
    "duration": 10,
    "start_time": "2022-10-04T10:12:17.503Z"
   },
   {
    "duration": 9,
    "start_time": "2022-10-04T10:19:29.441Z"
   },
   {
    "duration": 6,
    "start_time": "2022-10-04T10:19:45.973Z"
   },
   {
    "duration": 3,
    "start_time": "2022-10-04T10:25:24.009Z"
   },
   {
    "duration": 12,
    "start_time": "2022-10-04T10:25:55.791Z"
   },
   {
    "duration": 10,
    "start_time": "2022-10-04T10:26:34.972Z"
   },
   {
    "duration": 14,
    "start_time": "2022-10-04T10:26:43.912Z"
   },
   {
    "duration": 12,
    "start_time": "2022-10-04T10:27:31.111Z"
   },
   {
    "duration": 14,
    "start_time": "2022-10-04T10:31:23.586Z"
   },
   {
    "duration": 13,
    "start_time": "2022-10-04T10:31:51.619Z"
   },
   {
    "duration": 17,
    "start_time": "2022-10-04T10:32:27.189Z"
   },
   {
    "duration": 20,
    "start_time": "2022-10-04T10:33:15.018Z"
   },
   {
    "duration": 14,
    "start_time": "2022-10-04T10:33:22.053Z"
   },
   {
    "duration": 21,
    "start_time": "2022-10-04T10:37:10.795Z"
   },
   {
    "duration": 397,
    "start_time": "2022-10-05T05:04:33.777Z"
   },
   {
    "duration": 1097,
    "start_time": "2022-10-05T05:04:34.176Z"
   },
   {
    "duration": 145,
    "start_time": "2022-10-05T05:04:35.275Z"
   },
   {
    "duration": 4,
    "start_time": "2022-10-05T05:04:35.423Z"
   },
   {
    "duration": 9,
    "start_time": "2022-10-05T05:04:35.428Z"
   },
   {
    "duration": 135,
    "start_time": "2022-10-05T05:04:35.439Z"
   },
   {
    "duration": 123,
    "start_time": "2022-10-05T05:04:35.576Z"
   },
   {
    "duration": 135,
    "start_time": "2022-10-05T05:04:35.701Z"
   },
   {
    "duration": 13,
    "start_time": "2022-10-05T05:04:35.838Z"
   },
   {
    "duration": 2,
    "start_time": "2022-10-05T05:04:35.854Z"
   },
   {
    "duration": 5,
    "start_time": "2022-10-05T05:04:35.858Z"
   },
   {
    "duration": 37,
    "start_time": "2022-10-05T05:04:35.865Z"
   },
   {
    "duration": 45,
    "start_time": "2022-10-05T05:04:35.903Z"
   },
   {
    "duration": 30,
    "start_time": "2022-10-05T05:04:35.950Z"
   },
   {
    "duration": 19,
    "start_time": "2022-10-05T05:04:35.981Z"
   },
   {
    "duration": 52,
    "start_time": "2022-10-05T05:04:36.001Z"
   },
   {
    "duration": 23,
    "start_time": "2022-10-05T05:04:36.054Z"
   },
   {
    "duration": 33,
    "start_time": "2022-10-05T05:04:36.078Z"
   },
   {
    "duration": 33,
    "start_time": "2022-10-05T05:04:36.113Z"
   },
   {
    "duration": 65,
    "start_time": "2022-10-05T05:04:36.147Z"
   },
   {
    "duration": 33,
    "start_time": "2022-10-05T05:04:36.214Z"
   },
   {
    "duration": 52,
    "start_time": "2022-10-05T05:04:36.250Z"
   },
   {
    "duration": 49,
    "start_time": "2022-10-05T05:04:36.304Z"
   },
   {
    "duration": 54,
    "start_time": "2022-10-05T05:04:36.355Z"
   },
   {
    "duration": 32,
    "start_time": "2022-10-05T05:04:36.411Z"
   },
   {
    "duration": 32,
    "start_time": "2022-10-05T05:04:36.445Z"
   },
   {
    "duration": 23,
    "start_time": "2022-10-05T05:04:36.478Z"
   },
   {
    "duration": 46,
    "start_time": "2022-10-05T05:04:36.505Z"
   },
   {
    "duration": 21,
    "start_time": "2022-10-05T05:04:36.552Z"
   },
   {
    "duration": 34,
    "start_time": "2022-10-05T05:04:36.574Z"
   },
   {
    "duration": 38,
    "start_time": "2022-10-05T05:04:36.609Z"
   },
   {
    "duration": 162,
    "start_time": "2022-10-05T05:04:36.649Z"
   },
   {
    "duration": 286,
    "start_time": "2022-10-05T05:04:36.812Z"
   },
   {
    "duration": 91,
    "start_time": "2022-10-05T05:04:37.099Z"
   },
   {
    "duration": 282,
    "start_time": "2022-10-05T05:04:37.192Z"
   },
   {
    "duration": 295,
    "start_time": "2022-10-05T05:04:37.475Z"
   },
   {
    "duration": 255,
    "start_time": "2022-10-05T05:04:37.772Z"
   },
   {
    "duration": 7,
    "start_time": "2022-10-05T05:04:38.033Z"
   },
   {
    "duration": 30,
    "start_time": "2022-10-05T05:04:38.042Z"
   },
   {
    "duration": 7,
    "start_time": "2022-10-05T05:04:38.074Z"
   },
   {
    "duration": 4,
    "start_time": "2022-10-05T05:04:38.084Z"
   },
   {
    "duration": 56,
    "start_time": "2022-10-05T05:04:38.089Z"
   },
   {
    "duration": 11,
    "start_time": "2022-10-05T05:04:38.147Z"
   },
   {
    "duration": 14,
    "start_time": "2022-10-05T05:04:38.160Z"
   },
   {
    "duration": 34,
    "start_time": "2022-10-05T05:04:38.176Z"
   },
   {
    "duration": 43,
    "start_time": "2022-10-05T05:04:38.212Z"
   },
   {
    "duration": 96,
    "start_time": "2022-10-05T05:04:38.257Z"
   },
   {
    "duration": 22,
    "start_time": "2022-10-05T05:04:38.354Z"
   },
   {
    "duration": 731,
    "start_time": "2022-10-05T05:04:38.378Z"
   },
   {
    "duration": 88,
    "start_time": "2022-10-05T05:04:39.111Z"
   },
   {
    "duration": 5,
    "start_time": "2022-10-05T05:04:39.201Z"
   },
   {
    "duration": 27,
    "start_time": "2022-10-05T05:04:39.208Z"
   },
   {
    "duration": 5,
    "start_time": "2022-10-05T05:04:39.236Z"
   },
   {
    "duration": 645,
    "start_time": "2022-10-05T05:04:39.242Z"
   },
   {
    "duration": 47,
    "start_time": "2022-10-05T05:04:39.888Z"
   },
   {
    "duration": 56,
    "start_time": "2022-10-05T05:04:39.937Z"
   },
   {
    "duration": 145,
    "start_time": "2022-10-05T05:04:39.996Z"
   },
   {
    "duration": 96,
    "start_time": "2022-10-05T05:04:40.142Z"
   },
   {
    "duration": 755,
    "start_time": "2022-10-05T05:04:40.240Z"
   },
   {
    "duration": 24,
    "start_time": "2022-10-05T05:04:40.997Z"
   },
   {
    "duration": 13,
    "start_time": "2022-10-05T05:04:41.023Z"
   },
   {
    "duration": 51612,
    "start_time": "2022-10-05T05:04:41.038Z"
   },
   {
    "duration": 1524,
    "start_time": "2022-10-05T05:05:32.651Z"
   },
   {
    "duration": 4,
    "start_time": "2022-10-05T05:05:34.177Z"
   },
   {
    "duration": 10,
    "start_time": "2022-10-05T05:05:34.182Z"
   },
   {
    "duration": 7,
    "start_time": "2022-10-05T05:05:34.193Z"
   },
   {
    "duration": 4,
    "start_time": "2022-10-05T05:05:34.202Z"
   },
   {
    "duration": 31,
    "start_time": "2022-10-05T05:05:34.208Z"
   },
   {
    "duration": 7,
    "start_time": "2022-10-05T05:05:34.240Z"
   },
   {
    "duration": 7769,
    "start_time": "2022-10-05T05:05:34.249Z"
   },
   {
    "duration": 5,
    "start_time": "2022-10-05T05:05:42.020Z"
   },
   {
    "duration": 60316,
    "start_time": "2022-10-05T05:05:42.033Z"
   },
   {
    "duration": 5,
    "start_time": "2022-10-05T05:06:42.350Z"
   },
   {
    "duration": 14,
    "start_time": "2022-10-05T05:06:42.357Z"
   },
   {
    "duration": 13,
    "start_time": "2022-10-05T05:06:42.373Z"
   },
   {
    "duration": 228,
    "start_time": "2022-10-05T05:06:42.388Z"
   },
   {
    "duration": 377028,
    "start_time": "2022-10-05T05:06:42.618Z"
   },
   {
    "duration": 3,
    "start_time": "2022-10-05T05:12:59.648Z"
   },
   {
    "duration": 7,
    "start_time": "2022-10-05T05:12:59.652Z"
   },
   {
    "duration": 27070,
    "start_time": "2022-10-05T05:12:59.660Z"
   },
   {
    "duration": 3,
    "start_time": "2022-10-05T05:13:26.732Z"
   },
   {
    "duration": 5,
    "start_time": "2022-10-05T05:13:26.741Z"
   },
   {
    "duration": 16,
    "start_time": "2022-10-05T05:13:26.748Z"
   },
   {
    "duration": 3,
    "start_time": "2022-10-05T05:20:17.814Z"
   },
   {
    "duration": 121,
    "start_time": "2022-10-05T05:27:58.661Z"
   },
   {
    "duration": 0,
    "start_time": "2022-10-05T05:28:58.357Z"
   },
   {
    "duration": 0,
    "start_time": "2022-10-05T05:28:58.360Z"
   },
   {
    "duration": 38369,
    "start_time": "2022-10-05T05:29:00.976Z"
   },
   {
    "duration": 17350,
    "start_time": "2022-10-05T05:30:51.995Z"
   },
   {
    "duration": 22211,
    "start_time": "2022-10-05T05:31:16.625Z"
   },
   {
    "duration": 11,
    "start_time": "2022-10-05T05:34:07.927Z"
   },
   {
    "duration": 3,
    "start_time": "2022-10-05T05:34:17.589Z"
   },
   {
    "duration": 0,
    "start_time": "2022-10-05T05:35:16.358Z"
   },
   {
    "duration": 296,
    "start_time": "2022-10-05T05:37:16.187Z"
   },
   {
    "duration": 3,
    "start_time": "2022-10-05T05:38:45.090Z"
   },
   {
    "duration": 32218,
    "start_time": "2022-10-05T05:38:59.116Z"
   },
   {
    "duration": 27570,
    "start_time": "2022-10-05T05:41:44.383Z"
   },
   {
    "duration": 27731,
    "start_time": "2022-10-05T05:43:03.028Z"
   },
   {
    "duration": 28486,
    "start_time": "2022-10-05T05:43:46.985Z"
   },
   {
    "duration": 10,
    "start_time": "2022-10-05T05:46:07.561Z"
   },
   {
    "duration": 10,
    "start_time": "2022-10-05T05:46:11.076Z"
   },
   {
    "duration": 28509,
    "start_time": "2022-10-05T05:46:18.117Z"
   },
   {
    "duration": 122736,
    "start_time": "2022-10-05T05:49:42.099Z"
   },
   {
    "duration": 0,
    "start_time": "2022-10-05T05:51:44.837Z"
   },
   {
    "duration": 5,
    "start_time": "2022-10-05T05:52:04.659Z"
   },
   {
    "duration": 5,
    "start_time": "2022-10-05T05:52:27.204Z"
   },
   {
    "duration": 4,
    "start_time": "2022-10-05T05:54:54.863Z"
   },
   {
    "duration": 22,
    "start_time": "2022-10-05T05:55:10.778Z"
   },
   {
    "duration": 20,
    "start_time": "2022-10-05T05:55:51.156Z"
   },
   {
    "duration": 75640,
    "start_time": "2022-10-05T06:18:56.012Z"
   },
   {
    "duration": 382,
    "start_time": "2022-10-05T06:28:48.679Z"
   },
   {
    "duration": 793,
    "start_time": "2022-10-05T06:28:49.063Z"
   },
   {
    "duration": 135,
    "start_time": "2022-10-05T06:28:49.857Z"
   },
   {
    "duration": 4,
    "start_time": "2022-10-05T06:28:49.994Z"
   },
   {
    "duration": 13,
    "start_time": "2022-10-05T06:28:50.000Z"
   },
   {
    "duration": 149,
    "start_time": "2022-10-05T06:28:50.015Z"
   },
   {
    "duration": 159,
    "start_time": "2022-10-05T06:28:50.166Z"
   },
   {
    "duration": 150,
    "start_time": "2022-10-05T06:28:50.327Z"
   },
   {
    "duration": 16,
    "start_time": "2022-10-05T06:28:50.478Z"
   },
   {
    "duration": 4,
    "start_time": "2022-10-05T06:28:50.498Z"
   },
   {
    "duration": 6,
    "start_time": "2022-10-05T06:28:50.503Z"
   },
   {
    "duration": 63,
    "start_time": "2022-10-05T06:28:50.510Z"
   },
   {
    "duration": 26,
    "start_time": "2022-10-05T06:28:50.575Z"
   },
   {
    "duration": 40,
    "start_time": "2022-10-05T06:28:50.603Z"
   },
   {
    "duration": 21,
    "start_time": "2022-10-05T06:28:50.645Z"
   },
   {
    "duration": 36,
    "start_time": "2022-10-05T06:28:50.667Z"
   },
   {
    "duration": 31,
    "start_time": "2022-10-05T06:28:50.705Z"
   },
   {
    "duration": 32,
    "start_time": "2022-10-05T06:28:50.738Z"
   },
   {
    "duration": 15,
    "start_time": "2022-10-05T06:28:50.772Z"
   },
   {
    "duration": 53,
    "start_time": "2022-10-05T06:28:50.789Z"
   },
   {
    "duration": 23,
    "start_time": "2022-10-05T06:28:50.844Z"
   },
   {
    "duration": 33,
    "start_time": "2022-10-05T06:28:50.868Z"
   },
   {
    "duration": 37,
    "start_time": "2022-10-05T06:28:50.902Z"
   },
   {
    "duration": 38,
    "start_time": "2022-10-05T06:28:50.941Z"
   },
   {
    "duration": 23,
    "start_time": "2022-10-05T06:28:50.981Z"
   },
   {
    "duration": 44,
    "start_time": "2022-10-05T06:28:51.005Z"
   },
   {
    "duration": 18,
    "start_time": "2022-10-05T06:28:51.051Z"
   },
   {
    "duration": 37,
    "start_time": "2022-10-05T06:28:51.073Z"
   },
   {
    "duration": 43,
    "start_time": "2022-10-05T06:28:51.111Z"
   },
   {
    "duration": 37,
    "start_time": "2022-10-05T06:28:51.156Z"
   },
   {
    "duration": 26,
    "start_time": "2022-10-05T06:28:51.195Z"
   },
   {
    "duration": 158,
    "start_time": "2022-10-05T06:28:51.222Z"
   },
   {
    "duration": 292,
    "start_time": "2022-10-05T06:28:51.382Z"
   },
   {
    "duration": 97,
    "start_time": "2022-10-05T06:28:51.675Z"
   },
   {
    "duration": 274,
    "start_time": "2022-10-05T06:28:51.773Z"
   },
   {
    "duration": 323,
    "start_time": "2022-10-05T06:28:52.049Z"
   },
   {
    "duration": 268,
    "start_time": "2022-10-05T06:28:52.374Z"
   },
   {
    "duration": 7,
    "start_time": "2022-10-05T06:28:52.643Z"
   },
   {
    "duration": 29,
    "start_time": "2022-10-05T06:28:52.651Z"
   },
   {
    "duration": 6,
    "start_time": "2022-10-05T06:28:52.682Z"
   },
   {
    "duration": 8,
    "start_time": "2022-10-05T06:28:52.690Z"
   },
   {
    "duration": 53,
    "start_time": "2022-10-05T06:28:52.699Z"
   },
   {
    "duration": 8,
    "start_time": "2022-10-05T06:28:52.754Z"
   },
   {
    "duration": 5,
    "start_time": "2022-10-05T06:28:52.764Z"
   },
   {
    "duration": 32,
    "start_time": "2022-10-05T06:28:52.770Z"
   },
   {
    "duration": 47,
    "start_time": "2022-10-05T06:28:52.804Z"
   },
   {
    "duration": 92,
    "start_time": "2022-10-05T06:28:52.853Z"
   },
   {
    "duration": 28,
    "start_time": "2022-10-05T06:28:52.947Z"
   },
   {
    "duration": 652,
    "start_time": "2022-10-05T06:28:52.977Z"
   },
   {
    "duration": 108,
    "start_time": "2022-10-05T06:28:53.631Z"
   },
   {
    "duration": 5,
    "start_time": "2022-10-05T06:28:53.741Z"
   },
   {
    "duration": 39,
    "start_time": "2022-10-05T06:28:53.748Z"
   },
   {
    "duration": 3,
    "start_time": "2022-10-05T06:28:53.790Z"
   },
   {
    "duration": 622,
    "start_time": "2022-10-05T06:28:53.795Z"
   },
   {
    "duration": 56,
    "start_time": "2022-10-05T06:28:54.419Z"
   },
   {
    "duration": 68,
    "start_time": "2022-10-05T06:28:54.477Z"
   },
   {
    "duration": 9,
    "start_time": "2022-10-05T06:28:54.548Z"
   },
   {
    "duration": 90,
    "start_time": "2022-10-05T06:28:54.559Z"
   },
   {
    "duration": 847,
    "start_time": "2022-10-05T06:28:54.650Z"
   },
   {
    "duration": 26,
    "start_time": "2022-10-05T06:28:55.498Z"
   },
   {
    "duration": 9,
    "start_time": "2022-10-05T06:28:55.525Z"
   },
   {
    "duration": 51051,
    "start_time": "2022-10-05T06:28:55.537Z"
   },
   {
    "duration": 1506,
    "start_time": "2022-10-05T06:29:46.590Z"
   },
   {
    "duration": 3,
    "start_time": "2022-10-05T06:29:48.097Z"
   },
   {
    "duration": 8,
    "start_time": "2022-10-05T06:29:48.102Z"
   },
   {
    "duration": 9,
    "start_time": "2022-10-05T06:29:48.111Z"
   },
   {
    "duration": 5,
    "start_time": "2022-10-05T06:29:48.132Z"
   },
   {
    "duration": 15,
    "start_time": "2022-10-05T06:29:48.138Z"
   },
   {
    "duration": 14,
    "start_time": "2022-10-05T06:29:48.157Z"
   },
   {
    "duration": 7538,
    "start_time": "2022-10-05T06:29:48.172Z"
   },
   {
    "duration": 5,
    "start_time": "2022-10-05T06:29:55.712Z"
   },
   {
    "duration": 58915,
    "start_time": "2022-10-05T06:29:55.719Z"
   },
   {
    "duration": 4,
    "start_time": "2022-10-05T06:30:54.636Z"
   },
   {
    "duration": 14,
    "start_time": "2022-10-05T06:30:54.641Z"
   },
   {
    "duration": 11,
    "start_time": "2022-10-05T06:30:54.657Z"
   },
   {
    "duration": 267,
    "start_time": "2022-10-05T06:30:54.669Z"
   },
   {
    "duration": 2,
    "start_time": "2022-10-05T06:30:54.938Z"
   },
   {
    "duration": 7,
    "start_time": "2022-10-05T06:30:54.942Z"
   },
   {
    "duration": 5,
    "start_time": "2022-10-05T06:30:54.950Z"
   },
   {
    "duration": 50,
    "start_time": "2022-10-05T06:30:54.956Z"
   },
   {
    "duration": 0,
    "start_time": "2022-10-05T06:30:55.008Z"
   },
   {
    "duration": 0,
    "start_time": "2022-10-05T06:30:55.009Z"
   },
   {
    "duration": 0,
    "start_time": "2022-10-05T06:30:55.010Z"
   },
   {
    "duration": 0,
    "start_time": "2022-10-05T06:30:55.012Z"
   },
   {
    "duration": 0,
    "start_time": "2022-10-05T06:30:55.013Z"
   },
   {
    "duration": 0,
    "start_time": "2022-10-05T06:30:55.014Z"
   },
   {
    "duration": 386914,
    "start_time": "2022-10-05T06:41:38.844Z"
   },
   {
    "duration": 28205,
    "start_time": "2022-10-05T06:49:10.774Z"
   },
   {
    "duration": 4,
    "start_time": "2022-10-05T06:49:38.981Z"
   },
   {
    "duration": 113,
    "start_time": "2022-10-05T06:49:38.986Z"
   },
   {
    "duration": 82,
    "start_time": "2022-10-05T06:52:21.120Z"
   },
   {
    "duration": 5,
    "start_time": "2022-10-05T06:52:36.785Z"
   },
   {
    "duration": 16,
    "start_time": "2022-10-05T06:54:00.470Z"
   },
   {
    "duration": 71,
    "start_time": "2022-10-05T06:55:47.048Z"
   },
   {
    "duration": 423,
    "start_time": "2022-10-05T07:00:41.049Z"
   },
   {
    "duration": 819,
    "start_time": "2022-10-05T07:00:41.474Z"
   },
   {
    "duration": 149,
    "start_time": "2022-10-05T07:00:42.294Z"
   },
   {
    "duration": 5,
    "start_time": "2022-10-05T07:00:42.445Z"
   },
   {
    "duration": 8,
    "start_time": "2022-10-05T07:00:42.452Z"
   },
   {
    "duration": 145,
    "start_time": "2022-10-05T07:00:42.461Z"
   },
   {
    "duration": 135,
    "start_time": "2022-10-05T07:00:42.608Z"
   },
   {
    "duration": 134,
    "start_time": "2022-10-05T07:00:42.745Z"
   },
   {
    "duration": 25,
    "start_time": "2022-10-05T07:00:42.881Z"
   },
   {
    "duration": 20,
    "start_time": "2022-10-05T07:00:42.908Z"
   },
   {
    "duration": 8,
    "start_time": "2022-10-05T07:00:42.930Z"
   },
   {
    "duration": 39,
    "start_time": "2022-10-05T07:00:42.940Z"
   },
   {
    "duration": 28,
    "start_time": "2022-10-05T07:00:42.981Z"
   },
   {
    "duration": 43,
    "start_time": "2022-10-05T07:00:43.010Z"
   },
   {
    "duration": 22,
    "start_time": "2022-10-05T07:00:43.054Z"
   },
   {
    "duration": 37,
    "start_time": "2022-10-05T07:00:43.077Z"
   },
   {
    "duration": 36,
    "start_time": "2022-10-05T07:00:43.115Z"
   },
   {
    "duration": 34,
    "start_time": "2022-10-05T07:00:43.153Z"
   },
   {
    "duration": 46,
    "start_time": "2022-10-05T07:00:43.188Z"
   },
   {
    "duration": 39,
    "start_time": "2022-10-05T07:00:43.235Z"
   },
   {
    "duration": 23,
    "start_time": "2022-10-05T07:00:43.276Z"
   },
   {
    "duration": 49,
    "start_time": "2022-10-05T07:00:43.301Z"
   },
   {
    "duration": 32,
    "start_time": "2022-10-05T07:00:43.352Z"
   },
   {
    "duration": 39,
    "start_time": "2022-10-05T07:00:43.385Z"
   },
   {
    "duration": 23,
    "start_time": "2022-10-05T07:00:43.433Z"
   },
   {
    "duration": 32,
    "start_time": "2022-10-05T07:00:43.458Z"
   },
   {
    "duration": 19,
    "start_time": "2022-10-05T07:00:43.492Z"
   },
   {
    "duration": 36,
    "start_time": "2022-10-05T07:00:43.533Z"
   },
   {
    "duration": 23,
    "start_time": "2022-10-05T07:00:43.570Z"
   },
   {
    "duration": 43,
    "start_time": "2022-10-05T07:00:43.595Z"
   },
   {
    "duration": 16,
    "start_time": "2022-10-05T07:00:43.640Z"
   },
   {
    "duration": 148,
    "start_time": "2022-10-05T07:00:43.657Z"
   },
   {
    "duration": 308,
    "start_time": "2022-10-05T07:00:43.807Z"
   },
   {
    "duration": 94,
    "start_time": "2022-10-05T07:00:44.117Z"
   },
   {
    "duration": 282,
    "start_time": "2022-10-05T07:00:44.213Z"
   },
   {
    "duration": 302,
    "start_time": "2022-10-05T07:00:44.496Z"
   },
   {
    "duration": 273,
    "start_time": "2022-10-05T07:00:44.799Z"
   },
   {
    "duration": 7,
    "start_time": "2022-10-05T07:00:45.073Z"
   },
   {
    "duration": 43,
    "start_time": "2022-10-05T07:00:45.081Z"
   },
   {
    "duration": 12,
    "start_time": "2022-10-05T07:00:45.126Z"
   },
   {
    "duration": 12,
    "start_time": "2022-10-05T07:00:45.139Z"
   },
   {
    "duration": 29,
    "start_time": "2022-10-05T07:00:45.153Z"
   },
   {
    "duration": 7,
    "start_time": "2022-10-05T07:00:45.184Z"
   },
   {
    "duration": 24,
    "start_time": "2022-10-05T07:00:45.193Z"
   },
   {
    "duration": 33,
    "start_time": "2022-10-05T07:00:45.219Z"
   },
   {
    "duration": 31,
    "start_time": "2022-10-05T07:00:45.254Z"
   },
   {
    "duration": 107,
    "start_time": "2022-10-05T07:00:45.287Z"
   },
   {
    "duration": 39,
    "start_time": "2022-10-05T07:00:45.396Z"
   },
   {
    "duration": 691,
    "start_time": "2022-10-05T07:00:45.437Z"
   },
   {
    "duration": 134,
    "start_time": "2022-10-05T07:00:46.130Z"
   },
   {
    "duration": 7,
    "start_time": "2022-10-05T07:00:46.266Z"
   },
   {
    "duration": 41,
    "start_time": "2022-10-05T07:00:46.274Z"
   },
   {
    "duration": 18,
    "start_time": "2022-10-05T07:00:46.318Z"
   },
   {
    "duration": 675,
    "start_time": "2022-10-05T07:00:46.339Z"
   },
   {
    "duration": 47,
    "start_time": "2022-10-05T07:00:47.017Z"
   },
   {
    "duration": 73,
    "start_time": "2022-10-05T07:00:47.066Z"
   },
   {
    "duration": 101,
    "start_time": "2022-10-05T07:00:47.142Z"
   },
   {
    "duration": 4,
    "start_time": "2022-10-05T07:00:47.334Z"
   },
   {
    "duration": 770,
    "start_time": "2022-10-05T07:00:47.340Z"
   },
   {
    "duration": 36,
    "start_time": "2022-10-05T07:00:48.113Z"
   },
   {
    "duration": 4,
    "start_time": "2022-10-05T07:00:48.151Z"
   },
   {
    "duration": 53254,
    "start_time": "2022-10-05T07:00:48.156Z"
   },
   {
    "duration": 1632,
    "start_time": "2022-10-05T07:01:41.412Z"
   },
   {
    "duration": 3,
    "start_time": "2022-10-05T07:01:43.046Z"
   },
   {
    "duration": 11,
    "start_time": "2022-10-05T07:01:43.051Z"
   },
   {
    "duration": 9,
    "start_time": "2022-10-05T07:01:43.063Z"
   },
   {
    "duration": 5,
    "start_time": "2022-10-05T07:01:43.074Z"
   },
   {
    "duration": 16,
    "start_time": "2022-10-05T07:01:43.081Z"
   },
   {
    "duration": 11,
    "start_time": "2022-10-05T07:01:43.099Z"
   },
   {
    "duration": 8140,
    "start_time": "2022-10-05T07:01:43.113Z"
   },
   {
    "duration": 5,
    "start_time": "2022-10-05T07:01:51.255Z"
   },
   {
    "duration": 62217,
    "start_time": "2022-10-05T07:01:51.262Z"
   },
   {
    "duration": 5,
    "start_time": "2022-10-05T07:02:53.480Z"
   },
   {
    "duration": 15,
    "start_time": "2022-10-05T07:02:53.487Z"
   },
   {
    "duration": 30,
    "start_time": "2022-10-05T07:02:53.504Z"
   },
   {
    "duration": 385,
    "start_time": "2022-10-05T07:02:53.536Z"
   },
   {
    "duration": 3,
    "start_time": "2022-10-05T07:02:53.923Z"
   },
   {
    "duration": 9,
    "start_time": "2022-10-05T07:02:53.928Z"
   },
   {
    "duration": 10,
    "start_time": "2022-10-05T07:02:53.939Z"
   },
   {
    "duration": 7,
    "start_time": "2022-10-05T07:02:53.952Z"
   },
   {
    "duration": 13,
    "start_time": "2022-10-05T07:02:53.961Z"
   },
   {
    "duration": 6,
    "start_time": "2022-10-05T07:02:53.979Z"
   },
   {
    "duration": 30858,
    "start_time": "2022-10-05T07:02:53.987Z"
   },
   {
    "duration": 3,
    "start_time": "2022-10-05T07:03:24.847Z"
   },
   {
    "duration": 11,
    "start_time": "2022-10-05T07:03:24.852Z"
   },
   {
    "duration": 16,
    "start_time": "2022-10-05T07:03:24.864Z"
   },
   {
    "duration": 93,
    "start_time": "2022-10-05T07:03:24.881Z"
   }
  ],
  "kernelspec": {
   "display_name": "Python 3 (ipykernel)",
   "language": "python",
   "name": "python3"
  },
  "language_info": {
   "codemirror_mode": {
    "name": "ipython",
    "version": 3
   },
   "file_extension": ".py",
   "mimetype": "text/x-python",
   "name": "python",
   "nbconvert_exporter": "python",
   "pygments_lexer": "ipython3",
   "version": "3.8.16"
  },
  "toc": {
   "base_numbering": 1,
   "nav_menu": {},
   "number_sections": true,
   "sideBar": true,
   "skip_h1_title": true,
   "title_cell": "Table of Contents",
   "title_sidebar": "Contents",
   "toc_cell": false,
   "toc_position": {},
   "toc_section_display": true,
   "toc_window_display": false
  }
 },
 "nbformat": 4,
 "nbformat_minor": 2
}
